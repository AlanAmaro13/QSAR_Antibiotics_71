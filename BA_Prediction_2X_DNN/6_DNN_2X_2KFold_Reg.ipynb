{
 "cells": [
  {
   "cell_type": "markdown",
   "metadata": {
    "id": "H6Wue51yaxKv"
   },
   "source": [
    "# Dense Neural Networks"
   ]
  },
  {
   "cell_type": "markdown",
   "metadata": {
    "id": "rKzTG2kjZK65"
   },
   "source": [
    "Hello there!\n",
    "\n",
    "In the previous approach we have considered a linear estimation for the bio-activity. Our result presents an average $R^{2}=0.62$ and a MAPE of $7.19$ In this notebook, we present a new approach by the use of Deep Neural Networks, in this initial case we use only Dense Layers or a Feed Forward. The descriptors used are obtained by the use of Mutual Information (MI). We've first selected those descriptors with a higher mutual than $0.4$, where we've reduced the dimension from 1200 to just 99 descriptors.\n",
    "\n",
    "Then, we have selected from the 99 descriptors the one descriptor with the highest MI (piPC4) and have selected two variables that are independent among them. This means, the MI values among them is the lowest value possible."
   ]
  },
  {
   "cell_type": "markdown",
   "metadata": {
    "id": "s8_gew3AbzAj"
   },
   "source": [
    "## Mutual Information"
   ]
  },
  {
   "cell_type": "markdown",
   "metadata": {
    "id": "vmxe0Iu-cSj0"
   },
   "source": [
    "### **Mutual Information (MI) for Feature Selection**  \n",
    "**Mutual Information** measures the **statistical dependence** between two variables, capturing **both linear and nonlinear relationships**. Unlike Pearson correlation (which only detects linear trends), MI quantifies how much knowing one variable reduces uncertainty about the other.  \n",
    "\n",
    "#### **Mathematical Definition**  \n",
    "For two continuous variables \\( X \\) and \\( Y \\):  \n",
    "\n",
    "$\\text{MI}(X, Y) = \\iint p(x, y) \\log \\left( \\frac{p(x, y)}{p(x)p(y)} \\right) dx \\, dy$  \n",
    "where:  \n",
    "- $( p(x, y) )$ = joint probability density.  \n",
    "- $( p(x), p(y) )$ = marginal densities.  \n",
    "\n",
    "**Key Properties**:  \n",
    "- $MI (\\geq 0)$ (0 means independent).  \n",
    "- Higher MI = stronger dependency.  \n"
   ]
  },
  {
   "cell_type": "markdown",
   "metadata": {
    "id": "yJk4WF4CdnCZ"
   },
   "source": [
    "## Used libraries"
   ]
  },
  {
   "cell_type": "code",
   "execution_count": 1,
   "metadata": {},
   "outputs": [],
   "source": [
    "import os\n",
    "os.environ[\"CUDA_VISIBLE_DEVICES\"] = \"-1\""
   ]
  },
  {
   "cell_type": "code",
   "execution_count": 2,
   "metadata": {},
   "outputs": [],
   "source": [
    "colab = False"
   ]
  },
  {
   "cell_type": "code",
   "execution_count": 3,
   "metadata": {
    "executionInfo": {
     "elapsed": 13,
     "status": "ok",
     "timestamp": 1754806314489,
     "user": {
      "displayName": "Alan Gabriel Amaro Colin",
      "userId": "17298980579619170060"
     },
     "user_tz": 360
    },
    "id": "B2LFMr_RRg1B"
   },
   "outputs": [
    {
     "name": "stderr",
     "output_type": "stream",
     "text": [
      "2025-08-12 14:42:04.557406: I tensorflow/core/platform/cpu_feature_guard.cc:210] This TensorFlow binary is optimized to use available CPU instructions in performance-critical operations.\n",
      "To enable the following instructions: FMA, in other operations, rebuild TensorFlow with the appropriate compiler flags.\n",
      "2025-08-12 14:42:05.979528: W tensorflow/compiler/tf2tensorrt/utils/py_utils.cc:38] TF-TRT Warning: Could not find TensorRT\n",
      "/home/alan-amaro/miniconda3/envs/farma/lib/python3.9/site-packages/requests/__init__.py:86: RequestsDependencyWarning: Unable to find acceptable character detection dependency (chardet or charset_normalizer).\n",
      "  warnings.warn(\n"
     ]
    }
   ],
   "source": [
    "if colab: \n",
    "    import sys\n",
    "    sys.path.append('/content/drive/MyDrive/Colaboracion_Quimica/Main_Codes/AutoEncoders/AmaroX/AmaroX')\n",
    "    ! pip install python-telegram-bot\n",
    "\n",
    "    from ai_functions import *\n",
    "    from ai_models import *\n",
    "    from utilities import *\n",
    "    from data_manipulation import *\n",
    "    import pandas as pd\n",
    "else: \n",
    "    from AmaroX.AmaroX.ai_functions import *\n",
    "    from AmaroX.AmaroX.ai_models import *\n",
    "    from AmaroX.AmaroX.utilities import *\n",
    "    from AmaroX.AmaroX.data_manipulation import *\n",
    "    import pandas as pd\n",
    "    import sklearn"
   ]
  },
  {
   "cell_type": "markdown",
   "metadata": {
    "id": "LMM15EIAeNMM"
   },
   "source": [
    "## Data"
   ]
  },
  {
   "cell_type": "markdown",
   "metadata": {
    "id": "dHUpPc5dfJrs"
   },
   "source": [
    "The data presented here corresponds to molecules with their SMILE representation and descriptors, along with the biological activity. Let's first do a quick view of the data shape."
   ]
  },
  {
   "cell_type": "markdown",
   "metadata": {
    "id": "QLDOuzTDDoW1"
   },
   "source": [
    "* All the data presented here was obtained by colaboration with Dr. Erick Padilla at Facultad de Estudios Superiores Zaragoza - UNAM."
   ]
  },
  {
   "cell_type": "markdown",
   "metadata": {
    "id": "wx7mCiFYeP_M"
   },
   "source": [
    "### Downloading the data"
   ]
  },
  {
   "cell_type": "code",
   "execution_count": 4,
   "metadata": {
    "colab": {
     "base_uri": "https://localhost:8080/"
    },
    "executionInfo": {
     "elapsed": 5366,
     "status": "ok",
     "timestamp": 1754806339684,
     "user": {
      "displayName": "Alan Gabriel Amaro Colin",
      "userId": "17298980579619170060"
     },
     "user_tz": 360
    },
    "id": "TaqYCyF_eN_W",
    "outputId": "9d2fe30a-81b4-455f-a99e-557a868d9c81"
   },
   "outputs": [],
   "source": [
    "if colab:\n",
    "    ! gdown --id 1cHM9neEhTOZ82UU9HaZkdGdlwE1d4SJT\n",
    "    ! gdown --id 1wZp9pou63ElEYyGGjBeC2pDtscgRgCpj"
   ]
  },
  {
   "cell_type": "markdown",
   "metadata": {
    "id": "wfg2b6FNfNIP"
   },
   "source": [
    "The _data.xlsx_ file contains all the molecular descriptors from the molecule, along with a SMILE representation."
   ]
  },
  {
   "cell_type": "code",
   "execution_count": 5,
   "metadata": {
    "executionInfo": {
     "elapsed": 7645,
     "status": "ok",
     "timestamp": 1754806347350,
     "user": {
      "displayName": "Alan Gabriel Amaro Colin",
      "userId": "17298980579619170060"
     },
     "user_tz": 360
    },
    "id": "OvBcuQFXeU5y"
   },
   "outputs": [],
   "source": [
    "compounds_md = pd.read_excel(\"../Data/data.xlsx\")\n",
    "activity = pd.read_excel(\"../Data/Actividad.xlsx\")"
   ]
  },
  {
   "cell_type": "code",
   "execution_count": 6,
   "metadata": {
    "colab": {
     "base_uri": "https://localhost:8080/",
     "height": 690
    },
    "executionInfo": {
     "elapsed": 246,
     "status": "ok",
     "timestamp": 1754806347594,
     "user": {
      "displayName": "Alan Gabriel Amaro Colin",
      "userId": "17298980579619170060"
     },
     "user_tz": 360
    },
    "id": "IixnVRP-eXsd",
    "outputId": "9f8d0e08-c3b5-4144-d0c5-3133d5f0667c"
   },
   "outputs": [
    {
     "data": {
      "text/html": [
       "<div>\n",
       "<style scoped>\n",
       "    .dataframe tbody tr th:only-of-type {\n",
       "        vertical-align: middle;\n",
       "    }\n",
       "\n",
       "    .dataframe tbody tr th {\n",
       "        vertical-align: top;\n",
       "    }\n",
       "\n",
       "    .dataframe thead th {\n",
       "        text-align: right;\n",
       "    }\n",
       "</style>\n",
       "<table border=\"1\" class=\"dataframe\">\n",
       "  <thead>\n",
       "    <tr style=\"text-align: right;\">\n",
       "      <th></th>\n",
       "      <th>Cmpd</th>\n",
       "      <th>SMILES</th>\n",
       "      <th>ABC</th>\n",
       "      <th>ABCGG</th>\n",
       "      <th>nAcid</th>\n",
       "      <th>nBase</th>\n",
       "      <th>SpAbs_A</th>\n",
       "      <th>SpMax_A</th>\n",
       "      <th>SpDiam_A</th>\n",
       "      <th>SpAD_A</th>\n",
       "      <th>...</th>\n",
       "      <th>SRW10</th>\n",
       "      <th>TSRW10</th>\n",
       "      <th>MW</th>\n",
       "      <th>AMW</th>\n",
       "      <th>WPath</th>\n",
       "      <th>WPol</th>\n",
       "      <th>Zagreb1</th>\n",
       "      <th>Zagreb2</th>\n",
       "      <th>mZagreb1</th>\n",
       "      <th>mZagreb2</th>\n",
       "    </tr>\n",
       "  </thead>\n",
       "  <tbody>\n",
       "    <tr>\n",
       "      <th>0</th>\n",
       "      <td>Compuesto original</td>\n",
       "      <td>O=C(N/1)/C(SC1=N/C2=NC3=CC=C(F)C=C3S2)=C/N4CCN...</td>\n",
       "      <td>module 'numpy' has no attribute 'float'.\\n `np...</td>\n",
       "      <td>module 'numpy' has no attribute 'float'.\\n `np...</td>\n",
       "      <td>0</td>\n",
       "      <td>3</td>\n",
       "      <td>34.64084</td>\n",
       "      <td>2.428932</td>\n",
       "      <td>4.709973</td>\n",
       "      <td>34.64084</td>\n",
       "      <td>...</td>\n",
       "      <td>10.158170</td>\n",
       "      <td>78.17227</td>\n",
       "      <td>405.1093</td>\n",
       "      <td>8.619347</td>\n",
       "      <td>2138</td>\n",
       "      <td>39</td>\n",
       "      <td>146</td>\n",
       "      <td>171</td>\n",
       "      <td>8.361111</td>\n",
       "      <td>5.750000</td>\n",
       "    </tr>\n",
       "    <tr>\n",
       "      <th>1</th>\n",
       "      <td>Compound 3</td>\n",
       "      <td>O=C1NC2=CC=C([H])C=C2/C1=N\\C3=CC=CC(Br)=N3</td>\n",
       "      <td>module 'numpy' has no attribute 'float'.\\n `np...</td>\n",
       "      <td>module 'numpy' has no attribute 'float'.\\n `np...</td>\n",
       "      <td>0</td>\n",
       "      <td>0</td>\n",
       "      <td>23.43385</td>\n",
       "      <td>2.452376</td>\n",
       "      <td>4.754134</td>\n",
       "      <td>23.43385</td>\n",
       "      <td>...</td>\n",
       "      <td>9.792612</td>\n",
       "      <td>65.48686</td>\n",
       "      <td>300.9851</td>\n",
       "      <td>11.576350</td>\n",
       "      <td>599</td>\n",
       "      <td>26</td>\n",
       "      <td>96</td>\n",
       "      <td>113</td>\n",
       "      <td>5.166667</td>\n",
       "      <td>3.916667</td>\n",
       "    </tr>\n",
       "    <tr>\n",
       "      <th>2</th>\n",
       "      <td>Compound 4</td>\n",
       "      <td>O=C1NC2=CC=CC=C2/C1=N\\C3=NC4=CC(OCC)=CC=C4S3</td>\n",
       "      <td>module 'numpy' has no attribute 'float'.\\n `np...</td>\n",
       "      <td>module 'numpy' has no attribute 'float'.\\n `np...</td>\n",
       "      <td>0</td>\n",
       "      <td>0</td>\n",
       "      <td>30.43085</td>\n",
       "      <td>2.474251</td>\n",
       "      <td>4.745881</td>\n",
       "      <td>30.43085</td>\n",
       "      <td>...</td>\n",
       "      <td>10.101640</td>\n",
       "      <td>73.78306</td>\n",
       "      <td>323.0728</td>\n",
       "      <td>8.974246</td>\n",
       "      <td>1245</td>\n",
       "      <td>35</td>\n",
       "      <td>126</td>\n",
       "      <td>151</td>\n",
       "      <td>6.138889</td>\n",
       "      <td>5.027778</td>\n",
       "    </tr>\n",
       "    <tr>\n",
       "      <th>3</th>\n",
       "      <td>Compound 8</td>\n",
       "      <td>O=C1NC2=CC=C(Br)C=C2/C1=N\\C3=CC=CC(F)=N3</td>\n",
       "      <td>module 'numpy' has no attribute 'float'.\\n `np...</td>\n",
       "      <td>module 'numpy' has no attribute 'float'.\\n `np...</td>\n",
       "      <td>0</td>\n",
       "      <td>0</td>\n",
       "      <td>24.52891</td>\n",
       "      <td>2.46582</td>\n",
       "      <td>4.787297</td>\n",
       "      <td>24.52891</td>\n",
       "      <td>...</td>\n",
       "      <td>9.873183</td>\n",
       "      <td>66.82214</td>\n",
       "      <td>318.9757</td>\n",
       "      <td>12.268290</td>\n",
       "      <td>693</td>\n",
       "      <td>28</td>\n",
       "      <td>102</td>\n",
       "      <td>120</td>\n",
       "      <td>6.027778</td>\n",
       "      <td>4.083333</td>\n",
       "    </tr>\n",
       "    <tr>\n",
       "      <th>4</th>\n",
       "      <td>Compound 9</td>\n",
       "      <td>O=C1NC2=CC=C(Br)C=C2/C1=N/C3=CC([N+]([O-])=O)=...</td>\n",
       "      <td>module 'numpy' has no attribute 'float'.\\n `np...</td>\n",
       "      <td>module 'numpy' has no attribute 'float'.\\n `np...</td>\n",
       "      <td>0</td>\n",
       "      <td>0</td>\n",
       "      <td>27.00118</td>\n",
       "      <td>2.467278</td>\n",
       "      <td>4.80069</td>\n",
       "      <td>27.00118</td>\n",
       "      <td>...</td>\n",
       "      <td>9.972407</td>\n",
       "      <td>69.29945</td>\n",
       "      <td>345.9702</td>\n",
       "      <td>12.356080</td>\n",
       "      <td>929</td>\n",
       "      <td>32</td>\n",
       "      <td>112</td>\n",
       "      <td>132</td>\n",
       "      <td>7.138889</td>\n",
       "      <td>4.527778</td>\n",
       "    </tr>\n",
       "  </tbody>\n",
       "</table>\n",
       "<p>5 rows × 1828 columns</p>\n",
       "</div>"
      ],
      "text/plain": [
       "                 Cmpd                                             SMILES  \\\n",
       "0  Compuesto original  O=C(N/1)/C(SC1=N/C2=NC3=CC=C(F)C=C3S2)=C/N4CCN...   \n",
       "1          Compound 3         O=C1NC2=CC=C([H])C=C2/C1=N\\C3=CC=CC(Br)=N3   \n",
       "2          Compound 4       O=C1NC2=CC=CC=C2/C1=N\\C3=NC4=CC(OCC)=CC=C4S3   \n",
       "3          Compound 8           O=C1NC2=CC=C(Br)C=C2/C1=N\\C3=CC=CC(F)=N3   \n",
       "4          Compound 9  O=C1NC2=CC=C(Br)C=C2/C1=N/C3=CC([N+]([O-])=O)=...   \n",
       "\n",
       "                                                 ABC  \\\n",
       "0  module 'numpy' has no attribute 'float'.\\n `np...   \n",
       "1  module 'numpy' has no attribute 'float'.\\n `np...   \n",
       "2  module 'numpy' has no attribute 'float'.\\n `np...   \n",
       "3  module 'numpy' has no attribute 'float'.\\n `np...   \n",
       "4  module 'numpy' has no attribute 'float'.\\n `np...   \n",
       "\n",
       "                                               ABCGG  nAcid  nBase   SpAbs_A  \\\n",
       "0  module 'numpy' has no attribute 'float'.\\n `np...      0      3  34.64084   \n",
       "1  module 'numpy' has no attribute 'float'.\\n `np...      0      0  23.43385   \n",
       "2  module 'numpy' has no attribute 'float'.\\n `np...      0      0  30.43085   \n",
       "3  module 'numpy' has no attribute 'float'.\\n `np...      0      0  24.52891   \n",
       "4  module 'numpy' has no attribute 'float'.\\n `np...      0      0  27.00118   \n",
       "\n",
       "    SpMax_A  SpDiam_A    SpAD_A  ...      SRW10    TSRW10        MW  \\\n",
       "0  2.428932  4.709973  34.64084  ...  10.158170  78.17227  405.1093   \n",
       "1  2.452376  4.754134  23.43385  ...   9.792612  65.48686  300.9851   \n",
       "2  2.474251  4.745881  30.43085  ...  10.101640  73.78306  323.0728   \n",
       "3   2.46582  4.787297  24.52891  ...   9.873183  66.82214  318.9757   \n",
       "4  2.467278   4.80069  27.00118  ...   9.972407  69.29945  345.9702   \n",
       "\n",
       "         AMW WPath WPol Zagreb1 Zagreb2  mZagreb1  mZagreb2  \n",
       "0   8.619347  2138   39     146     171  8.361111  5.750000  \n",
       "1  11.576350   599   26      96     113  5.166667  3.916667  \n",
       "2   8.974246  1245   35     126     151  6.138889  5.027778  \n",
       "3  12.268290   693   28     102     120  6.027778  4.083333  \n",
       "4  12.356080   929   32     112     132  7.138889  4.527778  \n",
       "\n",
       "[5 rows x 1828 columns]"
      ]
     },
     "execution_count": 6,
     "metadata": {},
     "output_type": "execute_result"
    }
   ],
   "source": [
    "compounds_md.head()"
   ]
  },
  {
   "cell_type": "code",
   "execution_count": 7,
   "metadata": {
    "colab": {
     "base_uri": "https://localhost:8080/"
    },
    "executionInfo": {
     "elapsed": 152,
     "status": "ok",
     "timestamp": 1754806347984,
     "user": {
      "displayName": "Alan Gabriel Amaro Colin",
      "userId": "17298980579619170060"
     },
     "user_tz": 360
    },
    "id": "FwOMTbIfeZxe",
    "outputId": "d4e19ab7-1e86-4f28-c0cc-72e1b71f5ebc"
   },
   "outputs": [
    {
     "data": {
      "text/plain": [
       "(71, 1828)"
      ]
     },
     "execution_count": 7,
     "metadata": {},
     "output_type": "execute_result"
    }
   ],
   "source": [
    "compounds_md.shape"
   ]
  },
  {
   "cell_type": "code",
   "execution_count": 8,
   "metadata": {
    "colab": {
     "base_uri": "https://localhost:8080/",
     "height": 206
    },
    "executionInfo": {
     "elapsed": 68,
     "status": "ok",
     "timestamp": 1754806348065,
     "user": {
      "displayName": "Alan Gabriel Amaro Colin",
      "userId": "17298980579619170060"
     },
     "user_tz": 360
    },
    "id": "ab4UBiBFecAa",
    "outputId": "64071620-080b-4b49-bca8-25cc92379fd5"
   },
   "outputs": [
    {
     "data": {
      "text/html": [
       "<div>\n",
       "<style scoped>\n",
       "    .dataframe tbody tr th:only-of-type {\n",
       "        vertical-align: middle;\n",
       "    }\n",
       "\n",
       "    .dataframe tbody tr th {\n",
       "        vertical-align: top;\n",
       "    }\n",
       "\n",
       "    .dataframe thead th {\n",
       "        text-align: right;\n",
       "    }\n",
       "</style>\n",
       "<table border=\"1\" class=\"dataframe\">\n",
       "  <thead>\n",
       "    <tr style=\"text-align: right;\">\n",
       "      <th></th>\n",
       "      <th>Activity</th>\n",
       "    </tr>\n",
       "  </thead>\n",
       "  <tbody>\n",
       "    <tr>\n",
       "      <th>0</th>\n",
       "      <td>5.005513</td>\n",
       "    </tr>\n",
       "    <tr>\n",
       "      <th>1</th>\n",
       "      <td>4.381642</td>\n",
       "    </tr>\n",
       "    <tr>\n",
       "      <th>2</th>\n",
       "      <td>4.114064</td>\n",
       "    </tr>\n",
       "    <tr>\n",
       "      <th>3</th>\n",
       "      <td>5.012402</td>\n",
       "    </tr>\n",
       "    <tr>\n",
       "      <th>4</th>\n",
       "      <td>5.047677</td>\n",
       "    </tr>\n",
       "  </tbody>\n",
       "</table>\n",
       "</div>"
      ],
      "text/plain": [
       "   Activity\n",
       "0  5.005513\n",
       "1  4.381642\n",
       "2  4.114064\n",
       "3  5.012402\n",
       "4  5.047677"
      ]
     },
     "execution_count": 8,
     "metadata": {},
     "output_type": "execute_result"
    }
   ],
   "source": [
    "activity.head()"
   ]
  },
  {
   "cell_type": "code",
   "execution_count": 9,
   "metadata": {
    "colab": {
     "base_uri": "https://localhost:8080/"
    },
    "executionInfo": {
     "elapsed": 37,
     "status": "ok",
     "timestamp": 1754806348116,
     "user": {
      "displayName": "Alan Gabriel Amaro Colin",
      "userId": "17298980579619170060"
     },
     "user_tz": 360
    },
    "id": "fYz-3Re2eebA",
    "outputId": "1a9bb07d-d21a-4ca2-b93e-a21af222060c"
   },
   "outputs": [
    {
     "data": {
      "text/plain": [
       "(71, 1)"
      ]
     },
     "execution_count": 9,
     "metadata": {},
     "output_type": "execute_result"
    }
   ],
   "source": [
    "activity.shape"
   ]
  },
  {
   "cell_type": "markdown",
   "metadata": {
    "id": "IIU9JDRgfUWk"
   },
   "source": [
    "* The variable _x_ are the molecular descriptors, we're only interested in numerical properties:"
   ]
  },
  {
   "cell_type": "code",
   "execution_count": 10,
   "metadata": {
    "executionInfo": {
     "elapsed": 376,
     "status": "ok",
     "timestamp": 1754806348504,
     "user": {
      "displayName": "Alan Gabriel Amaro Colin",
      "userId": "17298980579619170060"
     },
     "user_tz": 360
    },
    "id": "OVvrgkBqeeXy"
   },
   "outputs": [],
   "source": [
    "x = compounds_md.copy()\n",
    "x = x.select_dtypes(\"number\")"
   ]
  },
  {
   "cell_type": "markdown",
   "metadata": {
    "id": "eyw0iNEPfbKq"
   },
   "source": [
    "## Applying Mutual Information to Molecular Descriptors"
   ]
  },
  {
   "cell_type": "markdown",
   "metadata": {
    "id": "EPCBSQMBbNf5"
   },
   "source": [
    "In the previous notebook, we have selected 3 molecular descriptors that are independent among them and present a high MI with respect to the bio-activity."
   ]
  },
  {
   "cell_type": "code",
   "execution_count": 11,
   "metadata": {
    "colab": {
     "base_uri": "https://localhost:8080/"
    },
    "executionInfo": {
     "elapsed": 376,
     "status": "ok",
     "timestamp": 1754806348508,
     "user": {
      "displayName": "Alan Gabriel Amaro Colin",
      "userId": "17298980579619170060"
     },
     "user_tz": 360
    },
    "id": "_55TahzCbUiO",
    "outputId": "943e13b7-622c-4195-98d9-39b408322575"
   },
   "outputs": [
    {
     "data": {
      "text/plain": [
       "(71, 2)"
      ]
     },
     "execution_count": 11,
     "metadata": {},
     "output_type": "execute_result"
    }
   ],
   "source": [
    "x_array = np.array(x[ ['piPC4', 'GATS3i'] ])\n",
    "x_array.shape"
   ]
  },
  {
   "cell_type": "code",
   "execution_count": 12,
   "metadata": {
    "colab": {
     "base_uri": "https://localhost:8080/"
    },
    "executionInfo": {
     "elapsed": 33,
     "status": "ok",
     "timestamp": 1754806348544,
     "user": {
      "displayName": "Alan Gabriel Amaro Colin",
      "userId": "17298980579619170060"
     },
     "user_tz": 360
    },
    "id": "qIbrbX4NblAQ",
    "outputId": "8060c218-8830-43f7-80c7-4d321cf844f1"
   },
   "outputs": [
    {
     "data": {
      "text/plain": [
       "(71,)"
      ]
     },
     "execution_count": 12,
     "metadata": {},
     "output_type": "execute_result"
    }
   ],
   "source": [
    "y_array = np.array( activity )[:, 0]\n",
    "y_array.shape"
   ]
  },
  {
   "cell_type": "markdown",
   "metadata": {
    "id": "HIvdru7Qb6n4"
   },
   "source": [
    "## Standarize Features"
   ]
  },
  {
   "cell_type": "code",
   "execution_count": 13,
   "metadata": {
    "executionInfo": {
     "elapsed": 35,
     "status": "ok",
     "timestamp": 1754806348583,
     "user": {
      "displayName": "Alan Gabriel Amaro Colin",
      "userId": "17298980579619170060"
     },
     "user_tz": 360
    },
    "id": "-4P8uMr8b8FA"
   },
   "outputs": [],
   "source": [
    "from sklearn.preprocessing import StandardScaler\n",
    "scaler = StandardScaler()"
   ]
  },
  {
   "cell_type": "code",
   "execution_count": 14,
   "metadata": {
    "colab": {
     "base_uri": "https://localhost:8080/"
    },
    "executionInfo": {
     "elapsed": 32,
     "status": "ok",
     "timestamp": 1754806348587,
     "user": {
      "displayName": "Alan Gabriel Amaro Colin",
      "userId": "17298980579619170060"
     },
     "user_tz": 360
    },
    "id": "Q1DtBVx8cGc3",
    "outputId": "e5a919ce-b9c7-4089-f736-f68d0234fcd6"
   },
   "outputs": [
    {
     "data": {
      "text/plain": [
       "(71, 2)"
      ]
     },
     "execution_count": 14,
     "metadata": {},
     "output_type": "execute_result"
    }
   ],
   "source": [
    "x_std = scaler.fit_transform(x_array)\n",
    "x_std.shape"
   ]
  },
  {
   "cell_type": "code",
   "execution_count": 15,
   "metadata": {
    "colab": {
     "base_uri": "https://localhost:8080/",
     "height": 469
    },
    "executionInfo": {
     "elapsed": 55,
     "status": "ok",
     "timestamp": 1754806348632,
     "user": {
      "displayName": "Alan Gabriel Amaro Colin",
      "userId": "17298980579619170060"
     },
     "user_tz": 360
    },
    "id": "TCAnYfB9cNJM",
    "outputId": "c67d1f14-718a-436c-c411-504973177ba7"
   },
   "outputs": [
    {
     "data": {
      "image/png": "[encoded data removed]",
      "text/plain": [
       "<Figure size 640x480 with 1 Axes>"
      ]
     },
     "metadata": {},
     "output_type": "display_data"
    },
    {
     "name": "stdout",
     "output_type": "stream",
     "text": [
      "The corresponding y element -> 4.26579036\n"
     ]
    }
   ],
   "source": [
    "plot_xy([x_std, y_array])"
   ]
  },
  {
   "cell_type": "markdown",
   "metadata": {
    "id": "lEUasbz0fl5I"
   },
   "source": [
    "## Splitting Train and Test"
   ]
  },
  {
   "cell_type": "code",
   "execution_count": 16,
   "metadata": {},
   "outputs": [],
   "source": [
    "from sklearn.model_selection import StratifiedKFold\n",
    "from sklearn.datasets import make_regression"
   ]
  },
  {
   "cell_type": "code",
   "execution_count": 17,
   "metadata": {},
   "outputs": [
    {
     "name": "stdin",
     "output_type": "stream",
     "text": [
      "Selecciona el K:  5\n"
     ]
    }
   ],
   "source": [
    "kint = int(input('Selecciona el K: '))"
   ]
  },
  {
   "cell_type": "code",
   "execution_count": 18,
   "metadata": {},
   "outputs": [],
   "source": [
    "# Convert the continuous target into bins\n",
    "n_bins = 6  # you can adjust this number\n",
    "y_binned = np.floor(\n",
    "    np.interp(y_array, (y_array.min(), y_array.max()), (0, n_bins))\n",
    "    ).astype(int)"
   ]
  },
  {
   "cell_type": "code",
   "execution_count": 19,
   "metadata": {},
   "outputs": [],
   "source": [
    "# Create StratifiedKFold with shuffle and seed\n",
    "skf = StratifiedKFold(n_splits=n_bins, shuffle=True, random_state=1360)"
   ]
  },
  {
   "cell_type": "code",
   "execution_count": 20,
   "metadata": {},
   "outputs": [
    {
     "name": "stderr",
     "output_type": "stream",
     "text": [
      "/home/alan-amaro/miniconda3/envs/farma/lib/python3.9/site-packages/sklearn/model_selection/_split.py:805: UserWarning: The least populated class in y has only 1 members, which is less than n_splits=6.\n",
      "  warnings.warn(\n"
     ]
    }
   ],
   "source": [
    "# Use the binned labels for stratification\n",
    "folds = []\n",
    "for fold, (train_idx, test_idx) in enumerate(skf.split(x_std, y_binned)):\n",
    "    x_train, x_test = x_std[train_idx], x_std[test_idx]\n",
    "    y_train, y_test = y_array[train_idx], y_array[test_idx]\n",
    "    folds.append([x_train, x_test, y_train, y_test])"
   ]
  },
  {
   "cell_type": "code",
   "execution_count": 21,
   "metadata": {},
   "outputs": [],
   "source": [
    "x_train = folds[kint][0]\n",
    "x_test = folds[kint][1]\n",
    "y_train = folds[kint][2]\n",
    "y_test = folds[kint][3]"
   ]
  },
  {
   "cell_type": "code",
   "execution_count": 22,
   "metadata": {},
   "outputs": [
    {
     "data": {
      "text/plain": [
       "((60, 2), (11, 2))"
      ]
     },
     "execution_count": 22,
     "metadata": {},
     "output_type": "execute_result"
    }
   ],
   "source": [
    "x_train.shape, x_test.shape"
   ]
  },
  {
   "cell_type": "code",
   "execution_count": 23,
   "metadata": {
    "colab": {
     "base_uri": "https://localhost:8080/",
     "height": 407
    },
    "executionInfo": {
     "elapsed": 290,
     "status": "ok",
     "timestamp": 1754806349003,
     "user": {
      "displayName": "Alan Gabriel Amaro Colin",
      "userId": "17298980579619170060"
     },
     "user_tz": 360
    },
    "id": "jw21eFGscdx1",
    "outputId": "697e87b9-d7bd-495f-de24-7f265201b3e5"
   },
   "outputs": [
    {
     "data": {
      "image/png": "[encoded data removed]",
      "text/plain": [
       "<Figure size 1000x400 with 2 Axes>"
      ]
     },
     "metadata": {},
     "output_type": "display_data"
    }
   ],
   "source": [
    "# Crear una figura con dos subplots en horizontal (1 fila, 2 columnas)\n",
    "fig, (ax1, ax2) = plt.subplots(1, 2, figsize=(10, 4))  # figsize ajusta el tamaño\n",
    "\n",
    "# Graficar la primera curva en el primer subplot\n",
    "ax1.hist(y_train, color='blue', label='train', bins = 6)\n",
    "ax1.set_title('Train Density')\n",
    "ax1.set_xlabel('x')\n",
    "ax1.set_ylabel('y')\n",
    "ax1.legend()\n",
    "\n",
    "# Graficar la segunda curva en el segundo subplot\n",
    "ax2.hist(y_test, color='red', label='test', bins = 6)\n",
    "ax2.set_title('Test Density')\n",
    "ax2.set_xlabel('x')\n",
    "ax2.set_ylabel('y')\n",
    "ax2.legend()\n",
    "\n",
    "# Ajustar el espacio entre los subplots\n",
    "plt.tight_layout()\n",
    "\n",
    "# Mostrar la figura\n",
    "plt.show()"
   ]
  },
  {
   "cell_type": "markdown",
   "metadata": {
    "id": "XESiE4f0cr7l"
   },
   "source": [
    "## Paths"
   ]
  },
  {
   "cell_type": "code",
   "execution_count": 24,
   "metadata": {
    "executionInfo": {
     "elapsed": 229,
     "status": "ok",
     "timestamp": 1754806349006,
     "user": {
      "displayName": "Alan Gabriel Amaro Colin",
      "userId": "17298980579619170060"
     },
     "user_tz": 360
    },
    "id": "hUxyWpwpcsqz"
   },
   "outputs": [],
   "source": [
    "name = 'DNN_MI_2_KFOLD_{}_reg'.format(kint)\n",
    "if colab:\n",
    "    folder_path = '/content/drive/MyDrive/Colaboracion_Quimica/Main_Codes/AutoEncoders/models'\n",
    "else: \n",
    "    folder_path = '../models'\n",
    "    \n",
    "final_path = os.path.join(folder_path, name)"
   ]
  },
  {
   "cell_type": "markdown",
   "metadata": {
    "id": "aGZb-3Wacw2F"
   },
   "source": [
    "## Callbacks"
   ]
  },
  {
   "cell_type": "code",
   "execution_count": 25,
   "metadata": {
    "executionInfo": {
     "elapsed": 96,
     "status": "ok",
     "timestamp": 1754806349012,
     "user": {
      "displayName": "Alan Gabriel Amaro Colin",
      "userId": "17298980579619170060"
     },
     "user_tz": 360
    },
    "id": "UX_yCOQicxnI"
   },
   "outputs": [],
   "source": [
    "callbacks = standard_callbacks(folder_name= name,\n",
    "                               folder_path= folder_path,\n",
    "                               patiences= [120, 120], # 50 epochs without progress, and 2 epochs to reduce LR\n",
    "                               monitor = 'val_r2_score',\n",
    "                               flow_direction = 'max')"
   ]
  },
  {
   "cell_type": "markdown",
   "metadata": {},
   "source": [
    "## Keras Seed"
   ]
  },
  {
   "cell_type": "code",
   "execution_count": 26,
   "metadata": {},
   "outputs": [],
   "source": [
    "keras.utils.set_random_seed(1360)"
   ]
  },
  {
   "cell_type": "markdown",
   "metadata": {
    "id": "9cSL15E6c1zb"
   },
   "source": [
    "## DNN Model"
   ]
  },
  {
   "cell_type": "code",
   "execution_count": 27,
   "metadata": {
    "executionInfo": {
     "elapsed": 65,
     "status": "ok",
     "timestamp": 1754806349015,
     "user": {
      "displayName": "Alan Gabriel Amaro Colin",
      "userId": "17298980579619170060"
     },
     "user_tz": 360
    },
    "id": "qtUfEOFpczgn"
   },
   "outputs": [],
   "source": [
    "def _DNN():\n",
    "\n",
    "  inputs = keras.layers.Input((2,))\n",
    "\n",
    "  _DNN_ = G_Dense(\n",
    "      inputs = inputs,\n",
    "      nodes = [32, 161],\n",
    "      DP = 28,\n",
    "      n_final = 1,\n",
    "      act_func = 'leaky_relu',\n",
    "      final_act_func = 'relu',\n",
    "      WI = 'he_normal',\n",
    "      L1 = 0.0001,\n",
    "      L2 = 1e-05,\n",
    "      use_bias = True\n",
    "  )\n",
    "\n",
    "  return keras.models.Model(inputs = inputs, outputs = _DNN_)"
   ]
  },
  {
   "cell_type": "code",
   "execution_count": 28,
   "metadata": {
    "executionInfo": {
     "elapsed": 60,
     "status": "ok",
     "timestamp": 1754806349047,
     "user": {
      "displayName": "Alan Gabriel Amaro Colin",
      "userId": "17298980579619170060"
     },
     "user_tz": 360
    },
    "id": "KKix552XddZ9"
   },
   "outputs": [
    {
     "name": "stderr",
     "output_type": "stream",
     "text": [
      "2025-08-12 14:42:20.654301: E external/local_xla/xla/stream_executor/cuda/cuda_driver.cc:282] failed call to cuInit: CUDA_ERROR_NO_DEVICE: no CUDA-capable device is detected\n",
      "2025-08-12 14:42:20.654398: I external/local_xla/xla/stream_executor/cuda/cuda_diagnostics.cc:134] retrieving CUDA diagnostic information for host: alan-amaro-Nvidia\n",
      "2025-08-12 14:42:20.654418: I external/local_xla/xla/stream_executor/cuda/cuda_diagnostics.cc:141] hostname: alan-amaro-Nvidia\n",
      "2025-08-12 14:42:20.654708: I external/local_xla/xla/stream_executor/cuda/cuda_diagnostics.cc:165] libcuda reported version is: 570.169.0\n",
      "2025-08-12 14:42:20.654796: I external/local_xla/xla/stream_executor/cuda/cuda_diagnostics.cc:169] kernel reported version is: 570.169.0\n",
      "2025-08-12 14:42:20.654810: I external/local_xla/xla/stream_executor/cuda/cuda_diagnostics.cc:248] kernel version seems to match DSO: 570.169.0\n"
     ]
    }
   ],
   "source": [
    "model_DNN= _DNN()"
   ]
  },
  {
   "cell_type": "code",
   "execution_count": 29,
   "metadata": {
    "executionInfo": {
     "elapsed": 28,
     "status": "ok",
     "timestamp": 1754806349065,
     "user": {
      "displayName": "Alan Gabriel Amaro Colin",
      "userId": "17298980579619170060"
     },
     "user_tz": 360
    },
    "id": "Cj5XW39qdqDA"
   },
   "outputs": [],
   "source": [
    "model_DNN.compile(optimizer = keras.optimizers.Adam(),\n",
    "                    loss = 'mae',\n",
    "                    metrics = ['mape', 'r2_score'])"
   ]
  },
  {
   "cell_type": "code",
   "execution_count": 30,
   "metadata": {
    "executionInfo": {
     "elapsed": 165,
     "status": "ok",
     "timestamp": 1754806349225,
     "user": {
      "displayName": "Alan Gabriel Amaro Colin",
      "userId": "17298980579619170060"
     },
     "user_tz": 360
    },
    "id": "tRGw7jGHdz-e"
   },
   "outputs": [
    {
     "name": "stdout",
     "output_type": "stream",
     "text": [
      "You must install graphviz (see instructions at https://graphviz.gitlab.io/download/) for `plot_model` to work.\n"
     ]
    }
   ],
   "source": [
    "get_plot_model(model_DNN, folder_path= final_path)"
   ]
  },
  {
   "cell_type": "code",
   "execution_count": 31,
   "metadata": {
    "colab": {
     "base_uri": "https://localhost:8080/",
     "height": 561
    },
    "executionInfo": {
     "elapsed": 943,
     "status": "ok",
     "timestamp": 1754806350177,
     "user": {
      "displayName": "Alan Gabriel Amaro Colin",
      "userId": "17298980579619170060"
     },
     "user_tz": 360
    },
    "id": "2zVTR0NDd198",
    "outputId": "43756354-a27f-41f3-d829-9ac2675f62bf"
   },
   "outputs": [
    {
     "data": {
      "text/html": [
       "<pre style=\"white-space:pre;overflow-x:auto;line-height:normal;font-family:Menlo,'DejaVu Sans Mono',consolas,'Courier New',monospace\"><span style=\"font-weight: bold\">Model: \"functional\"</span>\n",
       "</pre>\n"
      ],
      "text/plain": [
       "\u001b[1mModel: \"functional\"\u001b[0m\n"
      ]
     },
     "metadata": {},
     "output_type": "display_data"
    },
    {
     "data": {
      "text/html": [
       "<pre style=\"white-space:pre;overflow-x:auto;line-height:normal;font-family:Menlo,'DejaVu Sans Mono',consolas,'Courier New',monospace\">┏━━━━━━━━━━━━━━━━━━━━━━━━━━━━━━━━━┳━━━━━━━━━━━━━━━━━━━━━━━━┳━━━━━━━━━━━━━━━┓\n",
       "┃<span style=\"font-weight: bold\"> Layer (type)                    </span>┃<span style=\"font-weight: bold\"> Output Shape           </span>┃<span style=\"font-weight: bold\">       Param # </span>┃\n",
       "┡━━━━━━━━━━━━━━━━━━━━━━━━━━━━━━━━━╇━━━━━━━━━━━━━━━━━━━━━━━━╇━━━━━━━━━━━━━━━┩\n",
       "│ input_layer (<span style=\"color: #0087ff; text-decoration-color: #0087ff\">InputLayer</span>)        │ (<span style=\"color: #00d7ff; text-decoration-color: #00d7ff\">None</span>, <span style=\"color: #00af00; text-decoration-color: #00af00\">2</span>)              │             <span style=\"color: #00af00; text-decoration-color: #00af00\">0</span> │\n",
       "├─────────────────────────────────┼────────────────────────┼───────────────┤\n",
       "│ dense (<span style=\"color: #0087ff; text-decoration-color: #0087ff\">Dense</span>)                   │ (<span style=\"color: #00d7ff; text-decoration-color: #00d7ff\">None</span>, <span style=\"color: #00af00; text-decoration-color: #00af00\">32</span>)             │            <span style=\"color: #00af00; text-decoration-color: #00af00\">96</span> │\n",
       "├─────────────────────────────────┼────────────────────────┼───────────────┤\n",
       "│ dropout (<span style=\"color: #0087ff; text-decoration-color: #0087ff\">Dropout</span>)               │ (<span style=\"color: #00d7ff; text-decoration-color: #00d7ff\">None</span>, <span style=\"color: #00af00; text-decoration-color: #00af00\">32</span>)             │             <span style=\"color: #00af00; text-decoration-color: #00af00\">0</span> │\n",
       "├─────────────────────────────────┼────────────────────────┼───────────────┤\n",
       "│ batch_normalization             │ (<span style=\"color: #00d7ff; text-decoration-color: #00d7ff\">None</span>, <span style=\"color: #00af00; text-decoration-color: #00af00\">32</span>)             │           <span style=\"color: #00af00; text-decoration-color: #00af00\">128</span> │\n",
       "│ (<span style=\"color: #0087ff; text-decoration-color: #0087ff\">BatchNormalization</span>)            │                        │               │\n",
       "├─────────────────────────────────┼────────────────────────┼───────────────┤\n",
       "│ dense_1 (<span style=\"color: #0087ff; text-decoration-color: #0087ff\">Dense</span>)                 │ (<span style=\"color: #00d7ff; text-decoration-color: #00d7ff\">None</span>, <span style=\"color: #00af00; text-decoration-color: #00af00\">161</span>)            │         <span style=\"color: #00af00; text-decoration-color: #00af00\">5,313</span> │\n",
       "├─────────────────────────────────┼────────────────────────┼───────────────┤\n",
       "│ dropout_1 (<span style=\"color: #0087ff; text-decoration-color: #0087ff\">Dropout</span>)             │ (<span style=\"color: #00d7ff; text-decoration-color: #00d7ff\">None</span>, <span style=\"color: #00af00; text-decoration-color: #00af00\">161</span>)            │             <span style=\"color: #00af00; text-decoration-color: #00af00\">0</span> │\n",
       "├─────────────────────────────────┼────────────────────────┼───────────────┤\n",
       "│ batch_normalization_1           │ (<span style=\"color: #00d7ff; text-decoration-color: #00d7ff\">None</span>, <span style=\"color: #00af00; text-decoration-color: #00af00\">161</span>)            │           <span style=\"color: #00af00; text-decoration-color: #00af00\">644</span> │\n",
       "│ (<span style=\"color: #0087ff; text-decoration-color: #0087ff\">BatchNormalization</span>)            │                        │               │\n",
       "├─────────────────────────────────┼────────────────────────┼───────────────┤\n",
       "│ dense_2 (<span style=\"color: #0087ff; text-decoration-color: #0087ff\">Dense</span>)                 │ (<span style=\"color: #00d7ff; text-decoration-color: #00d7ff\">None</span>, <span style=\"color: #00af00; text-decoration-color: #00af00\">1</span>)              │           <span style=\"color: #00af00; text-decoration-color: #00af00\">162</span> │\n",
       "└─────────────────────────────────┴────────────────────────┴───────────────┘\n",
       "</pre>\n"
      ],
      "text/plain": [
       "┏━━━━━━━━━━━━━━━━━━━━━━━━━━━━━━━━━┳━━━━━━━━━━━━━━━━━━━━━━━━┳━━━━━━━━━━━━━━━┓\n",
       "┃\u001b[1m \u001b[0m\u001b[1mLayer (type)                   \u001b[0m\u001b[1m \u001b[0m┃\u001b[1m \u001b[0m\u001b[1mOutput Shape          \u001b[0m\u001b[1m \u001b[0m┃\u001b[1m \u001b[0m\u001b[1m      Param #\u001b[0m\u001b[1m \u001b[0m┃\n",
       "┡━━━━━━━━━━━━━━━━━━━━━━━━━━━━━━━━━╇━━━━━━━━━━━━━━━━━━━━━━━━╇━━━━━━━━━━━━━━━┩\n",
       "│ input_layer (\u001b[38;5;33mInputLayer\u001b[0m)        │ (\u001b[38;5;45mNone\u001b[0m, \u001b[38;5;34m2\u001b[0m)              │             \u001b[38;5;34m0\u001b[0m │\n",
       "├─────────────────────────────────┼────────────────────────┼───────────────┤\n",
       "│ dense (\u001b[38;5;33mDense\u001b[0m)                   │ (\u001b[38;5;45mNone\u001b[0m, \u001b[38;5;34m32\u001b[0m)             │            \u001b[38;5;34m96\u001b[0m │\n",
       "├─────────────────────────────────┼────────────────────────┼───────────────┤\n",
       "│ dropout (\u001b[38;5;33mDropout\u001b[0m)               │ (\u001b[38;5;45mNone\u001b[0m, \u001b[38;5;34m32\u001b[0m)             │             \u001b[38;5;34m0\u001b[0m │\n",
       "├─────────────────────────────────┼────────────────────────┼───────────────┤\n",
       "│ batch_normalization             │ (\u001b[38;5;45mNone\u001b[0m, \u001b[38;5;34m32\u001b[0m)             │           \u001b[38;5;34m128\u001b[0m │\n",
       "│ (\u001b[38;5;33mBatchNormalization\u001b[0m)            │                        │               │\n",
       "├─────────────────────────────────┼────────────────────────┼───────────────┤\n",
       "│ dense_1 (\u001b[38;5;33mDense\u001b[0m)                 │ (\u001b[38;5;45mNone\u001b[0m, \u001b[38;5;34m161\u001b[0m)            │         \u001b[38;5;34m5,313\u001b[0m │\n",
       "├─────────────────────────────────┼────────────────────────┼───────────────┤\n",
       "│ dropout_1 (\u001b[38;5;33mDropout\u001b[0m)             │ (\u001b[38;5;45mNone\u001b[0m, \u001b[38;5;34m161\u001b[0m)            │             \u001b[38;5;34m0\u001b[0m │\n",
       "├─────────────────────────────────┼────────────────────────┼───────────────┤\n",
       "│ batch_normalization_1           │ (\u001b[38;5;45mNone\u001b[0m, \u001b[38;5;34m161\u001b[0m)            │           \u001b[38;5;34m644\u001b[0m │\n",
       "│ (\u001b[38;5;33mBatchNormalization\u001b[0m)            │                        │               │\n",
       "├─────────────────────────────────┼────────────────────────┼───────────────┤\n",
       "│ dense_2 (\u001b[38;5;33mDense\u001b[0m)                 │ (\u001b[38;5;45mNone\u001b[0m, \u001b[38;5;34m1\u001b[0m)              │           \u001b[38;5;34m162\u001b[0m │\n",
       "└─────────────────────────────────┴────────────────────────┴───────────────┘\n"
      ]
     },
     "metadata": {},
     "output_type": "display_data"
    },
    {
     "data": {
      "text/html": [
       "<pre style=\"white-space:pre;overflow-x:auto;line-height:normal;font-family:Menlo,'DejaVu Sans Mono',consolas,'Courier New',monospace\"><span style=\"font-weight: bold\"> Total params: </span><span style=\"color: #00af00; text-decoration-color: #00af00\">6,343</span> (24.78 KB)\n",
       "</pre>\n"
      ],
      "text/plain": [
       "\u001b[1m Total params: \u001b[0m\u001b[38;5;34m6,343\u001b[0m (24.78 KB)\n"
      ]
     },
     "metadata": {},
     "output_type": "display_data"
    },
    {
     "data": {
      "text/html": [
       "<pre style=\"white-space:pre;overflow-x:auto;line-height:normal;font-family:Menlo,'DejaVu Sans Mono',consolas,'Courier New',monospace\"><span style=\"font-weight: bold\"> Trainable params: </span><span style=\"color: #00af00; text-decoration-color: #00af00\">5,957</span> (23.27 KB)\n",
       "</pre>\n"
      ],
      "text/plain": [
       "\u001b[1m Trainable params: \u001b[0m\u001b[38;5;34m5,957\u001b[0m (23.27 KB)\n"
      ]
     },
     "metadata": {},
     "output_type": "display_data"
    },
    {
     "data": {
      "text/html": [
       "<pre style=\"white-space:pre;overflow-x:auto;line-height:normal;font-family:Menlo,'DejaVu Sans Mono',consolas,'Courier New',monospace\"><span style=\"font-weight: bold\"> Non-trainable params: </span><span style=\"color: #00af00; text-decoration-color: #00af00\">386</span> (1.51 KB)\n",
       "</pre>\n"
      ],
      "text/plain": [
       "\u001b[1m Non-trainable params: \u001b[0m\u001b[38;5;34m386\u001b[0m (1.51 KB)\n"
      ]
     },
     "metadata": {},
     "output_type": "display_data"
    }
   ],
   "source": [
    "model_DNN.summary()"
   ]
  },
  {
   "cell_type": "markdown",
   "metadata": {
    "id": "VePpd9xSd7LC"
   },
   "source": [
    "## Training"
   ]
  },
  {
   "cell_type": "code",
   "execution_count": 32,
   "metadata": {
    "colab": {
     "base_uri": "https://localhost:8080/"
    },
    "executionInfo": {
     "elapsed": 35843,
     "status": "ok",
     "timestamp": 1754806386025,
     "user": {
      "displayName": "Alan Gabriel Amaro Colin",
      "userId": "17298980579619170060"
     },
     "user_tz": 360
    },
    "id": "GDvu_7QDd4HI",
    "outputId": "8229ee31-6f5a-4ed6-8217-42d1f0763bd6"
   },
   "outputs": [
    {
     "name": "stdout",
     "output_type": "stream",
     "text": [
      "Epoch 1/1000\n",
      "\u001b[1m5/5\u001b[0m \u001b[32m━━━━━━━━━━━━━━━━━━━━\u001b[0m\u001b[37m\u001b[0m \u001b[1m4s\u001b[0m 213ms/step - loss: 4.2983 - mape: 86.1364 - r2_score: -34.6227 - val_loss: 4.4921 - val_mape: 89.1877 - val_r2_score: -34.0332 - learning_rate: 0.0010\n",
      "Epoch 2/1000\n",
      "\u001b[1m5/5\u001b[0m \u001b[32m━━━━━━━━━━━━━━━━━━━━\u001b[0m\u001b[37m\u001b[0m \u001b[1m0s\u001b[0m 78ms/step - loss: 4.1947 - mape: 83.2964 - r2_score: -34.7369 - val_loss: 4.3436 - val_mape: 85.8438 - val_r2_score: -32.6758 - learning_rate: 0.0010\n",
      "Epoch 3/1000\n",
      "\u001b[1m5/5\u001b[0m \u001b[32m━━━━━━━━━━━━━━━━━━━━\u001b[0m\u001b[37m\u001b[0m \u001b[1m0s\u001b[0m 84ms/step - loss: 4.0066 - mape: 79.6009 - r2_score: -31.6638 - val_loss: 4.1752 - val_mape: 81.9546 - val_r2_score: -31.5335 - learning_rate: 0.0010\n",
      "Epoch 4/1000\n",
      "\u001b[1m5/5\u001b[0m \u001b[32m━━━━━━━━━━━━━━━━━━━━\u001b[0m\u001b[37m\u001b[0m \u001b[1m0s\u001b[0m 78ms/step - loss: 3.6575 - mape: 71.8282 - r2_score: -28.2072 - val_loss: 4.0539 - val_mape: 79.4202 - val_r2_score: -30.7669 - learning_rate: 0.0010\n",
      "Epoch 5/1000\n",
      "\u001b[1m5/5\u001b[0m \u001b[32m━━━━━━━━━━━━━━━━━━━━\u001b[0m\u001b[37m\u001b[0m \u001b[1m0s\u001b[0m 77ms/step - loss: 3.6879 - mape: 73.1334 - r2_score: -28.5033 - val_loss: 3.9869 - val_mape: 78.2599 - val_r2_score: -30.3333 - learning_rate: 0.0010\n",
      "Epoch 6/1000\n",
      "\u001b[1m5/5\u001b[0m \u001b[32m━━━━━━━━━━━━━━━━━━━━\u001b[0m\u001b[37m\u001b[0m \u001b[1m0s\u001b[0m 77ms/step - loss: 3.5922 - mape: 70.1722 - r2_score: -29.1843 - val_loss: 3.9689 - val_mape: 78.2800 - val_r2_score: -30.1519 - learning_rate: 0.0010\n",
      "Epoch 7/1000\n",
      "\u001b[1m5/5\u001b[0m \u001b[32m━━━━━━━━━━━━━━━━━━━━\u001b[0m\u001b[37m\u001b[0m \u001b[1m0s\u001b[0m 79ms/step - loss: 3.4630 - mape: 67.4271 - r2_score: -27.3434 - val_loss: 3.9325 - val_mape: 77.4598 - val_r2_score: -30.0361 - learning_rate: 0.0010\n",
      "Epoch 8/1000\n",
      "\u001b[1m5/5\u001b[0m \u001b[32m━━━━━━━━━━━━━━━━━━━━\u001b[0m\u001b[37m\u001b[0m \u001b[1m0s\u001b[0m 84ms/step - loss: 3.4360 - mape: 67.3762 - r2_score: -25.6206 - val_loss: 3.8862 - val_mape: 76.1514 - val_r2_score: -29.9733 - learning_rate: 0.0010\n",
      "Epoch 9/1000\n",
      "\u001b[1m5/5\u001b[0m \u001b[32m━━━━━━━━━━━━━━━━━━━━\u001b[0m\u001b[37m\u001b[0m \u001b[1m0s\u001b[0m 63ms/step - loss: 3.3024 - mape: 65.1009 - r2_score: -24.2451 - val_loss: 3.9047 - val_mape: 76.6187 - val_r2_score: -30.0031 - learning_rate: 0.0010\n",
      "Epoch 10/1000\n",
      "\u001b[1m5/5\u001b[0m \u001b[32m━━━━━━━━━━━━━━━━━━━━\u001b[0m\u001b[37m\u001b[0m \u001b[1m0s\u001b[0m 62ms/step - loss: 3.0378 - mape: 59.5364 - r2_score: -21.8074 - val_loss: 3.8981 - val_mape: 76.4193 - val_r2_score: -30.0009 - learning_rate: 0.0010\n",
      "Epoch 11/1000\n",
      "\u001b[1m5/5\u001b[0m \u001b[32m━━━━━━━━━━━━━━━━━━━━\u001b[0m\u001b[37m\u001b[0m \u001b[1m0s\u001b[0m 64ms/step - loss: 3.3944 - mape: 66.1621 - r2_score: -24.9487 - val_loss: 3.9283 - val_mape: 77.0760 - val_r2_score: -30.0890 - learning_rate: 0.0010\n",
      "Epoch 12/1000\n",
      "\u001b[1m5/5\u001b[0m \u001b[32m━━━━━━━━━━━━━━━━━━━━\u001b[0m\u001b[37m\u001b[0m \u001b[1m0s\u001b[0m 66ms/step - loss: 3.1342 - mape: 61.1938 - r2_score: -22.2276 - val_loss: 3.9864 - val_mape: 78.5669 - val_r2_score: -30.2255 - learning_rate: 0.0010\n",
      "Epoch 13/1000\n",
      "\u001b[1m5/5\u001b[0m \u001b[32m━━━━━━━━━━━━━━━━━━━━\u001b[0m\u001b[37m\u001b[0m \u001b[1m0s\u001b[0m 63ms/step - loss: 3.0954 - mape: 60.8311 - r2_score: -22.3506 - val_loss: 4.0443 - val_mape: 80.0796 - val_r2_score: -30.4098 - learning_rate: 0.0010\n",
      "Epoch 14/1000\n",
      "\u001b[1m5/5\u001b[0m \u001b[32m━━━━━━━━━━━━━━━━━━━━\u001b[0m\u001b[37m\u001b[0m \u001b[1m0s\u001b[0m 62ms/step - loss: 3.0182 - mape: 59.8341 - r2_score: -21.2151 - val_loss: 4.0586 - val_mape: 80.4529 - val_r2_score: -30.4639 - learning_rate: 0.0010\n",
      "Epoch 15/1000\n",
      "\u001b[1m5/5\u001b[0m \u001b[32m━━━━━━━━━━━━━━━━━━━━\u001b[0m\u001b[37m\u001b[0m \u001b[1m0s\u001b[0m 67ms/step - loss: 2.9742 - mape: 58.6765 - r2_score: -20.9127 - val_loss: 4.0426 - val_mape: 79.9974 - val_r2_score: -30.3922 - learning_rate: 0.0010\n",
      "Epoch 16/1000\n",
      "\u001b[1m5/5\u001b[0m \u001b[32m━━━━━━━━━━━━━━━━━━━━\u001b[0m\u001b[37m\u001b[0m \u001b[1m0s\u001b[0m 65ms/step - loss: 2.9551 - mape: 58.2652 - r2_score: -20.2798 - val_loss: 3.9818 - val_mape: 78.4064 - val_r2_score: -30.0185 - learning_rate: 0.0010\n",
      "Epoch 17/1000\n",
      "\u001b[1m5/5\u001b[0m \u001b[32m━━━━━━━━━━━━━━━━━━━━\u001b[0m\u001b[37m\u001b[0m \u001b[1m0s\u001b[0m 78ms/step - loss: 2.9124 - mape: 57.1539 - r2_score: -19.8065 - val_loss: 3.9435 - val_mape: 77.5247 - val_r2_score: -29.6326 - learning_rate: 0.0010\n",
      "Epoch 18/1000\n",
      "\u001b[1m5/5\u001b[0m \u001b[32m━━━━━━━━━━━━━━━━━━━━\u001b[0m\u001b[37m\u001b[0m \u001b[1m0s\u001b[0m 77ms/step - loss: 2.8094 - mape: 55.3535 - r2_score: -18.5695 - val_loss: 3.9064 - val_mape: 76.7876 - val_r2_score: -29.2152 - learning_rate: 0.0010\n",
      "Epoch 19/1000\n",
      "\u001b[1m5/5\u001b[0m \u001b[32m━━━━━━━━━━━━━━━━━━━━\u001b[0m\u001b[37m\u001b[0m \u001b[1m0s\u001b[0m 77ms/step - loss: 2.6421 - mape: 52.1414 - r2_score: -17.3530 - val_loss: 3.8789 - val_mape: 76.2955 - val_r2_score: -28.8401 - learning_rate: 0.0010\n",
      "Epoch 20/1000\n",
      "\u001b[1m5/5\u001b[0m \u001b[32m━━━━━━━━━━━━━━━━━━━━\u001b[0m\u001b[37m\u001b[0m \u001b[1m0s\u001b[0m 76ms/step - loss: 2.8858 - mape: 57.0050 - r2_score: -20.4017 - val_loss: 3.8505 - val_mape: 75.6684 - val_r2_score: -28.5337 - learning_rate: 0.0010\n",
      "Epoch 21/1000\n",
      "\u001b[1m5/5\u001b[0m \u001b[32m━━━━━━━━━━━━━━━━━━━━\u001b[0m\u001b[37m\u001b[0m \u001b[1m0s\u001b[0m 78ms/step - loss: 2.5375 - mape: 49.2914 - r2_score: -16.7991 - val_loss: 3.8208 - val_mape: 75.1387 - val_r2_score: -28.1777 - learning_rate: 0.0010\n",
      "Epoch 22/1000\n",
      "\u001b[1m5/5\u001b[0m \u001b[32m━━━━━━━━━━━━━━━━━━━━\u001b[0m\u001b[37m\u001b[0m \u001b[1m0s\u001b[0m 84ms/step - loss: 2.7064 - mape: 53.3258 - r2_score: -18.0783 - val_loss: 3.8075 - val_mape: 75.0899 - val_r2_score: -27.8159 - learning_rate: 0.0010\n",
      "Epoch 23/1000\n",
      "\u001b[1m5/5\u001b[0m \u001b[32m━━━━━━━━━━━━━━━━━━━━\u001b[0m\u001b[37m\u001b[0m \u001b[1m0s\u001b[0m 78ms/step - loss: 2.7615 - mape: 55.2612 - r2_score: -18.7367 - val_loss: 3.7951 - val_mape: 75.1322 - val_r2_score: -27.4734 - learning_rate: 0.0010\n",
      "Epoch 24/1000\n",
      "\u001b[1m5/5\u001b[0m \u001b[32m━━━━━━━━━━━━━━━━━━━━\u001b[0m\u001b[37m\u001b[0m \u001b[1m0s\u001b[0m 78ms/step - loss: 2.6820 - mape: 52.9920 - r2_score: -18.1877 - val_loss: 3.7806 - val_mape: 75.2973 - val_r2_score: -27.1351 - learning_rate: 0.0010\n",
      "Epoch 25/1000\n",
      "\u001b[1m5/5\u001b[0m \u001b[32m━━━━━━━━━━━━━━━━━━━━\u001b[0m\u001b[37m\u001b[0m \u001b[1m0s\u001b[0m 78ms/step - loss: 2.4198 - mape: 47.6640 - r2_score: -15.7536 - val_loss: 3.7543 - val_mape: 75.0237 - val_r2_score: -26.8738 - learning_rate: 0.0010\n",
      "Epoch 26/1000\n",
      "\u001b[1m5/5\u001b[0m \u001b[32m━━━━━━━━━━━━━━━━━━━━\u001b[0m\u001b[37m\u001b[0m \u001b[1m0s\u001b[0m 77ms/step - loss: 2.4071 - mape: 47.4562 - r2_score: -15.9735 - val_loss: 3.7093 - val_mape: 74.0577 - val_r2_score: -26.6022 - learning_rate: 0.0010\n",
      "Epoch 27/1000\n",
      "\u001b[1m5/5\u001b[0m \u001b[32m━━━━━━━━━━━━━━━━━━━━\u001b[0m\u001b[37m\u001b[0m \u001b[1m0s\u001b[0m 77ms/step - loss: 2.5065 - mape: 50.9077 - r2_score: -16.2925 - val_loss: 3.6576 - val_mape: 72.6962 - val_r2_score: -26.3782 - learning_rate: 0.0010\n",
      "Epoch 28/1000\n",
      "\u001b[1m5/5\u001b[0m \u001b[32m━━━━━━━━━━━━━━━━━━━━\u001b[0m\u001b[37m\u001b[0m \u001b[1m0s\u001b[0m 77ms/step - loss: 2.6816 - mape: 53.3439 - r2_score: -17.8513 - val_loss: 3.6388 - val_mape: 72.3951 - val_r2_score: -26.2041 - learning_rate: 0.0010\n",
      "Epoch 29/1000\n",
      "\u001b[1m5/5\u001b[0m \u001b[32m━━━━━━━━━━━━━━━━━━━━\u001b[0m\u001b[37m\u001b[0m \u001b[1m0s\u001b[0m 80ms/step - loss: 2.2686 - mape: 44.1955 - r2_score: -14.4762 - val_loss: 3.6303 - val_mape: 72.3339 - val_r2_score: -26.0623 - learning_rate: 0.0010\n",
      "Epoch 30/1000\n",
      "\u001b[1m5/5\u001b[0m \u001b[32m━━━━━━━━━━━━━━━━━━━━\u001b[0m\u001b[37m\u001b[0m \u001b[1m0s\u001b[0m 83ms/step - loss: 2.5156 - mape: 50.1012 - r2_score: -16.5752 - val_loss: 3.6300 - val_mape: 72.3930 - val_r2_score: -25.9678 - learning_rate: 0.0010\n",
      "Epoch 31/1000\n",
      "\u001b[1m5/5\u001b[0m \u001b[32m━━━━━━━━━━━━━━━━━━━━\u001b[0m\u001b[37m\u001b[0m \u001b[1m0s\u001b[0m 78ms/step - loss: 2.2751 - mape: 45.3257 - r2_score: -14.3403 - val_loss: 3.6090 - val_mape: 72.0659 - val_r2_score: -25.8075 - learning_rate: 0.0010\n",
      "Epoch 32/1000\n",
      "\u001b[1m5/5\u001b[0m \u001b[32m━━━━━━━━━━━━━━━━━━━━\u001b[0m\u001b[37m\u001b[0m \u001b[1m0s\u001b[0m 77ms/step - loss: 2.2540 - mape: 44.4131 - r2_score: -13.7932 - val_loss: 3.6050 - val_mape: 72.0447 - val_r2_score: -25.7325 - learning_rate: 0.0010\n",
      "Epoch 33/1000\n",
      "\u001b[1m5/5\u001b[0m \u001b[32m━━━━━━━━━━━━━━━━━━━━\u001b[0m\u001b[37m\u001b[0m \u001b[1m0s\u001b[0m 80ms/step - loss: 2.4310 - mape: 47.8930 - r2_score: -14.9666 - val_loss: 3.5884 - val_mape: 71.5181 - val_r2_score: -25.6543 - learning_rate: 0.0010\n",
      "Epoch 34/1000\n",
      "\u001b[1m5/5\u001b[0m \u001b[32m━━━━━━━━━━━━━━━━━━━━\u001b[0m\u001b[37m\u001b[0m \u001b[1m0s\u001b[0m 82ms/step - loss: 2.2305 - mape: 43.4865 - r2_score: -14.1154 - val_loss: 3.5801 - val_mape: 71.2906 - val_r2_score: -25.4988 - learning_rate: 0.0010\n",
      "Epoch 35/1000\n",
      "\u001b[1m5/5\u001b[0m \u001b[32m━━━━━━━━━━━━━━━━━━━━\u001b[0m\u001b[37m\u001b[0m \u001b[1m0s\u001b[0m 78ms/step - loss: 2.2148 - mape: 43.5786 - r2_score: -13.7221 - val_loss: 3.5662 - val_mape: 71.3211 - val_r2_score: -25.0543 - learning_rate: 0.0010\n",
      "Epoch 36/1000\n",
      "\u001b[1m5/5\u001b[0m \u001b[32m━━━━━━━━━━━━━━━━━━━━\u001b[0m\u001b[37m\u001b[0m \u001b[1m0s\u001b[0m 78ms/step - loss: 2.0789 - mape: 40.2090 - r2_score: -13.2209 - val_loss: 3.5430 - val_mape: 71.0293 - val_r2_score: -24.7069 - learning_rate: 0.0010\n",
      "Epoch 37/1000\n",
      "\u001b[1m5/5\u001b[0m \u001b[32m━━━━━━━━━━━━━━━━━━━━\u001b[0m\u001b[37m\u001b[0m \u001b[1m0s\u001b[0m 77ms/step - loss: 2.1126 - mape: 42.5890 - r2_score: -12.3044 - val_loss: 3.4895 - val_mape: 69.8029 - val_r2_score: -24.4755 - learning_rate: 0.0010\n",
      "Epoch 38/1000\n",
      "\u001b[1m5/5\u001b[0m \u001b[32m━━━━━━━━━━━━━━━━━━━━\u001b[0m\u001b[37m\u001b[0m \u001b[1m0s\u001b[0m 77ms/step - loss: 2.2532 - mape: 45.2732 - r2_score: -13.6881 - val_loss: 3.4462 - val_mape: 68.7936 - val_r2_score: -24.2075 - learning_rate: 0.0010\n",
      "Epoch 39/1000\n",
      "\u001b[1m5/5\u001b[0m \u001b[32m━━━━━━━━━━━━━━━━━━━━\u001b[0m\u001b[37m\u001b[0m \u001b[1m0s\u001b[0m 77ms/step - loss: 2.2641 - mape: 45.9235 - r2_score: -13.8563 - val_loss: 3.4316 - val_mape: 68.5006 - val_r2_score: -23.9683 - learning_rate: 0.0010\n",
      "Epoch 40/1000\n",
      "\u001b[1m5/5\u001b[0m \u001b[32m━━━━━━━━━━━━━━━━━━━━\u001b[0m\u001b[37m\u001b[0m \u001b[1m0s\u001b[0m 77ms/step - loss: 2.3155 - mape: 46.0676 - r2_score: -14.4313 - val_loss: 3.4146 - val_mape: 68.1295 - val_r2_score: -23.7741 - learning_rate: 0.0010\n",
      "Epoch 41/1000\n",
      "\u001b[1m5/5\u001b[0m \u001b[32m━━━━━━━━━━━━━━━━━━━━\u001b[0m\u001b[37m\u001b[0m \u001b[1m0s\u001b[0m 78ms/step - loss: 2.2741 - mape: 45.2798 - r2_score: -13.8094 - val_loss: 3.4123 - val_mape: 68.2157 - val_r2_score: -23.5941 - learning_rate: 0.0010\n",
      "Epoch 42/1000\n",
      "\u001b[1m5/5\u001b[0m \u001b[32m━━━━━━━━━━━━━━━━━━━━\u001b[0m\u001b[37m\u001b[0m \u001b[1m0s\u001b[0m 78ms/step - loss: 2.4067 - mape: 48.6107 - r2_score: -14.1040 - val_loss: 3.4005 - val_mape: 68.2051 - val_r2_score: -23.3172 - learning_rate: 0.0010\n",
      "Epoch 43/1000\n",
      "\u001b[1m5/5\u001b[0m \u001b[32m━━━━━━━━━━━━━━━━━━━━\u001b[0m\u001b[37m\u001b[0m \u001b[1m0s\u001b[0m 77ms/step - loss: 2.2182 - mape: 43.7714 - r2_score: -13.2806 - val_loss: 3.3784 - val_mape: 67.9648 - val_r2_score: -22.9287 - learning_rate: 0.0010\n",
      "Epoch 44/1000\n",
      "\u001b[1m5/5\u001b[0m \u001b[32m━━━━━━━━━━━━━━━━━━━━\u001b[0m\u001b[37m\u001b[0m \u001b[1m0s\u001b[0m 80ms/step - loss: 2.1954 - mape: 43.2497 - r2_score: -13.5043 - val_loss: 3.3250 - val_mape: 66.6921 - val_r2_score: -22.4949 - learning_rate: 0.0010\n",
      "Epoch 45/1000\n",
      "\u001b[1m5/5\u001b[0m \u001b[32m━━━━━━━━━━━━━━━━━━━━\u001b[0m\u001b[37m\u001b[0m \u001b[1m0s\u001b[0m 87ms/step - loss: 2.1243 - mape: 41.9419 - r2_score: -13.4084 - val_loss: 3.2782 - val_mape: 65.5040 - val_r2_score: -22.3468 - learning_rate: 0.0010\n",
      "Epoch 46/1000\n",
      "\u001b[1m5/5\u001b[0m \u001b[32m━━━━━━━━━━━━━━━━━━━━\u001b[0m\u001b[37m\u001b[0m \u001b[1m0s\u001b[0m 85ms/step - loss: 2.1178 - mape: 42.3947 - r2_score: -12.4024 - val_loss: 3.2645 - val_mape: 65.2064 - val_r2_score: -22.2716 - learning_rate: 0.0010\n",
      "Epoch 47/1000\n",
      "\u001b[1m5/5\u001b[0m \u001b[32m━━━━━━━━━━━━━━━━━━━━\u001b[0m\u001b[37m\u001b[0m \u001b[1m0s\u001b[0m 85ms/step - loss: 2.2437 - mape: 44.4480 - r2_score: -13.3676 - val_loss: 3.2756 - val_mape: 65.9007 - val_r2_score: -22.2032 - learning_rate: 0.0010\n",
      "Epoch 48/1000\n",
      "\u001b[1m5/5\u001b[0m \u001b[32m━━━━━━━━━━━━━━━━━━━━\u001b[0m\u001b[37m\u001b[0m \u001b[1m0s\u001b[0m 80ms/step - loss: 2.1740 - mape: 43.4196 - r2_score: -12.7953 - val_loss: 3.2691 - val_mape: 66.1237 - val_r2_score: -22.1243 - learning_rate: 0.0010\n",
      "Epoch 49/1000\n",
      "\u001b[1m5/5\u001b[0m \u001b[32m━━━━━━━━━━━━━━━━━━━━\u001b[0m\u001b[37m\u001b[0m \u001b[1m0s\u001b[0m 87ms/step - loss: 2.0417 - mape: 39.8128 - r2_score: -12.2046 - val_loss: 3.2599 - val_mape: 66.1854 - val_r2_score: -22.0658 - learning_rate: 0.0010\n",
      "Epoch 50/1000\n",
      "\u001b[1m5/5\u001b[0m \u001b[32m━━━━━━━━━━━━━━━━━━━━\u001b[0m\u001b[37m\u001b[0m \u001b[1m0s\u001b[0m 87ms/step - loss: 1.9322 - mape: 37.7501 - r2_score: -11.0412 - val_loss: 3.2405 - val_mape: 65.9679 - val_r2_score: -21.8502 - learning_rate: 0.0010\n",
      "Epoch 51/1000\n",
      "\u001b[1m5/5\u001b[0m \u001b[32m━━━━━━━━━━━━━━━━━━━━\u001b[0m\u001b[37m\u001b[0m \u001b[1m0s\u001b[0m 88ms/step - loss: 1.9139 - mape: 37.9311 - r2_score: -9.8551 - val_loss: 3.2076 - val_mape: 65.3742 - val_r2_score: -21.5438 - learning_rate: 0.0010\n",
      "Epoch 52/1000\n",
      "\u001b[1m5/5\u001b[0m \u001b[32m━━━━━━━━━━━━━━━━━━━━\u001b[0m\u001b[37m\u001b[0m \u001b[1m0s\u001b[0m 82ms/step - loss: 1.8876 - mape: 36.7643 - r2_score: -11.1903 - val_loss: 3.1414 - val_mape: 63.7346 - val_r2_score: -20.8996 - learning_rate: 0.0010\n",
      "Epoch 53/1000\n",
      "\u001b[1m5/5\u001b[0m \u001b[32m━━━━━━━━━━━━━━━━━━━━\u001b[0m\u001b[37m\u001b[0m \u001b[1m0s\u001b[0m 82ms/step - loss: 2.0466 - mape: 39.7040 - r2_score: -10.9098 - val_loss: 3.0624 - val_mape: 61.6471 - val_r2_score: -20.0601 - learning_rate: 0.0010\n",
      "Epoch 54/1000\n",
      "\u001b[1m5/5\u001b[0m \u001b[32m━━━━━━━━━━━━━━━━━━━━\u001b[0m\u001b[37m\u001b[0m \u001b[1m0s\u001b[0m 83ms/step - loss: 1.8343 - mape: 36.6599 - r2_score: -8.6865 - val_loss: 3.0073 - val_mape: 60.2719 - val_r2_score: -19.6416 - learning_rate: 0.0010\n",
      "Epoch 55/1000\n",
      "\u001b[1m5/5\u001b[0m \u001b[32m━━━━━━━━━━━━━━━━━━━━\u001b[0m\u001b[37m\u001b[0m \u001b[1m0s\u001b[0m 81ms/step - loss: 1.9736 - mape: 40.2639 - r2_score: -10.7624 - val_loss: 2.9889 - val_mape: 59.8805 - val_r2_score: -19.6136 - learning_rate: 0.0010\n",
      "Epoch 56/1000\n",
      "\u001b[1m5/5\u001b[0m \u001b[32m━━━━━━━━━━━━━━━━━━━━\u001b[0m\u001b[37m\u001b[0m \u001b[1m0s\u001b[0m 77ms/step - loss: 1.8989 - mape: 36.8156 - r2_score: -11.0631 - val_loss: 2.9731 - val_mape: 59.7193 - val_r2_score: -19.5318 - learning_rate: 0.0010\n",
      "Epoch 57/1000\n",
      "\u001b[1m5/5\u001b[0m \u001b[32m━━━━━━━━━━━━━━━━━━━━\u001b[0m\u001b[37m\u001b[0m \u001b[1m0s\u001b[0m 79ms/step - loss: 1.7969 - mape: 35.4152 - r2_score: -9.0650 - val_loss: 2.9498 - val_mape: 59.3148 - val_r2_score: -19.2260 - learning_rate: 0.0010\n",
      "Epoch 58/1000\n",
      "\u001b[1m5/5\u001b[0m \u001b[32m━━━━━━━━━━━━━━━━━━━━\u001b[0m\u001b[37m\u001b[0m \u001b[1m0s\u001b[0m 78ms/step - loss: 1.9648 - mape: 39.1919 - r2_score: -10.5396 - val_loss: 2.8912 - val_mape: 58.1904 - val_r2_score: -18.3299 - learning_rate: 0.0010\n",
      "Epoch 59/1000\n",
      "\u001b[1m5/5\u001b[0m \u001b[32m━━━━━━━━━━━━━━━━━━━━\u001b[0m\u001b[37m\u001b[0m \u001b[1m0s\u001b[0m 84ms/step - loss: 1.6429 - mape: 32.6561 - r2_score: -6.7470 - val_loss: 2.7947 - val_mape: 56.3288 - val_r2_score: -16.8514 - learning_rate: 0.0010\n",
      "Epoch 60/1000\n",
      "\u001b[1m5/5\u001b[0m \u001b[32m━━━━━━━━━━━━━━━━━━━━\u001b[0m\u001b[37m\u001b[0m \u001b[1m0s\u001b[0m 79ms/step - loss: 1.5871 - mape: 30.7084 - r2_score: -7.5392 - val_loss: 2.6589 - val_mape: 52.9182 - val_r2_score: -15.4347 - learning_rate: 0.0010\n",
      "Epoch 61/1000\n",
      "\u001b[1m5/5\u001b[0m \u001b[32m━━━━━━━━━━━━━━━━━━━━\u001b[0m\u001b[37m\u001b[0m \u001b[1m0s\u001b[0m 81ms/step - loss: 1.5858 - mape: 30.9072 - r2_score: -6.6285 - val_loss: 2.4657 - val_mape: 48.2387 - val_r2_score: -13.3414 - learning_rate: 0.0010\n",
      "Epoch 62/1000\n",
      "\u001b[1m5/5\u001b[0m \u001b[32m━━━━━━━━━━━━━━━━━━━━\u001b[0m\u001b[37m\u001b[0m \u001b[1m0s\u001b[0m 84ms/step - loss: 1.7063 - mape: 33.7737 - r2_score: -7.7634 - val_loss: 2.3215 - val_mape: 45.2934 - val_r2_score: -11.1671 - learning_rate: 0.0010\n",
      "Epoch 63/1000\n",
      "\u001b[1m5/5\u001b[0m \u001b[32m━━━━━━━━━━━━━━━━━━━━\u001b[0m\u001b[37m\u001b[0m \u001b[1m0s\u001b[0m 84ms/step - loss: 1.3499 - mape: 26.8515 - r2_score: -4.2107 - val_loss: 2.1658 - val_mape: 42.2921 - val_r2_score: -9.0818 - learning_rate: 0.0010\n",
      "Epoch 64/1000\n",
      "\u001b[1m5/5\u001b[0m \u001b[32m━━━━━━━━━━━━━━━━━━━━\u001b[0m\u001b[37m\u001b[0m \u001b[1m0s\u001b[0m 78ms/step - loss: 1.5354 - mape: 30.4260 - r2_score: -5.0458 - val_loss: 1.9723 - val_mape: 38.7121 - val_r2_score: -6.6699 - learning_rate: 0.0010\n",
      "Epoch 65/1000\n",
      "\u001b[1m5/5\u001b[0m \u001b[32m━━━━━━━━━━━━━━━━━━━━\u001b[0m\u001b[37m\u001b[0m \u001b[1m0s\u001b[0m 80ms/step - loss: 1.2494 - mape: 24.3008 - r2_score: -3.7193 - val_loss: 1.9265 - val_mape: 37.5877 - val_r2_score: -6.5395 - learning_rate: 0.0010\n",
      "Epoch 66/1000\n",
      "\u001b[1m5/5\u001b[0m \u001b[32m━━━━━━━━━━━━━━━━━━━━\u001b[0m\u001b[37m\u001b[0m \u001b[1m0s\u001b[0m 79ms/step - loss: 1.3708 - mape: 26.9207 - r2_score: -3.8653 - val_loss: 1.8218 - val_mape: 35.1758 - val_r2_score: -5.9287 - learning_rate: 0.0010\n",
      "Epoch 67/1000\n",
      "\u001b[1m5/5\u001b[0m \u001b[32m━━━━━━━━━━━━━━━━━━━━\u001b[0m\u001b[37m\u001b[0m \u001b[1m0s\u001b[0m 78ms/step - loss: 1.3986 - mape: 27.9881 - r2_score: -4.1452 - val_loss: 1.6431 - val_mape: 31.5735 - val_r2_score: -4.4252 - learning_rate: 0.0010\n",
      "Epoch 68/1000\n",
      "\u001b[1m5/5\u001b[0m \u001b[32m━━━━━━━━━━━━━━━━━━━━\u001b[0m\u001b[37m\u001b[0m \u001b[1m0s\u001b[0m 83ms/step - loss: 1.1772 - mape: 22.6069 - r2_score: -2.5370 - val_loss: 1.5144 - val_mape: 28.7750 - val_r2_score: -3.6325 - learning_rate: 0.0010\n",
      "Epoch 69/1000\n",
      "\u001b[1m5/5\u001b[0m \u001b[32m━━━━━━━━━━━━━━━━━━━━\u001b[0m\u001b[37m\u001b[0m \u001b[1m0s\u001b[0m 81ms/step - loss: 1.1605 - mape: 22.0425 - r2_score: -3.0246 - val_loss: 1.3731 - val_mape: 25.7471 - val_r2_score: -2.7553 - learning_rate: 0.0010\n",
      "Epoch 70/1000\n",
      "\u001b[1m5/5\u001b[0m \u001b[32m━━━━━━━━━━━━━━━━━━━━\u001b[0m\u001b[37m\u001b[0m \u001b[1m0s\u001b[0m 82ms/step - loss: 0.9557 - mape: 18.0819 - r2_score: -1.3033 - val_loss: 1.1814 - val_mape: 21.5931 - val_r2_score: -1.7572 - learning_rate: 0.0010\n",
      "Epoch 71/1000\n",
      "\u001b[1m5/5\u001b[0m \u001b[32m━━━━━━━━━━━━━━━━━━━━\u001b[0m\u001b[37m\u001b[0m \u001b[1m0s\u001b[0m 81ms/step - loss: 1.1696 - mape: 22.9865 - r2_score: -2.3181 - val_loss: 0.9823 - val_mape: 17.2643 - val_r2_score: -0.9722 - learning_rate: 0.0010\n",
      "Epoch 72/1000\n",
      "\u001b[1m5/5\u001b[0m \u001b[32m━━━━━━━━━━━━━━━━━━━━\u001b[0m\u001b[37m\u001b[0m \u001b[1m0s\u001b[0m 80ms/step - loss: 1.0793 - mape: 21.4179 - r2_score: -1.9395 - val_loss: 0.8834 - val_mape: 15.1350 - val_r2_score: -0.6947 - learning_rate: 0.0010\n",
      "Epoch 73/1000\n",
      "\u001b[1m5/5\u001b[0m \u001b[32m━━━━━━━━━━━━━━━━━━━━\u001b[0m\u001b[37m\u001b[0m \u001b[1m0s\u001b[0m 82ms/step - loss: 1.1823 - mape: 24.8911 - r2_score: -3.0854 - val_loss: 0.8346 - val_mape: 14.1275 - val_r2_score: -0.5596 - learning_rate: 0.0010\n",
      "Epoch 74/1000\n",
      "\u001b[1m5/5\u001b[0m \u001b[32m━━━━━━━━━━━━━━━━━━━━\u001b[0m\u001b[37m\u001b[0m \u001b[1m0s\u001b[0m 70ms/step - loss: 1.1185 - mape: 21.3363 - r2_score: -2.2190 - val_loss: 0.8789 - val_mape: 14.9889 - val_r2_score: -0.7954 - learning_rate: 0.0010\n",
      "Epoch 75/1000\n",
      "\u001b[1m5/5\u001b[0m \u001b[32m━━━━━━━━━━━━━━━━━━━━\u001b[0m\u001b[37m\u001b[0m \u001b[1m0s\u001b[0m 84ms/step - loss: 0.9245 - mape: 17.4613 - r2_score: -1.1556 - val_loss: 0.8762 - val_mape: 15.6407 - val_r2_score: -0.5496 - learning_rate: 0.0010\n",
      "Epoch 76/1000\n",
      "\u001b[1m5/5\u001b[0m \u001b[32m━━━━━━━━━━━━━━━━━━━━\u001b[0m\u001b[37m\u001b[0m \u001b[1m0s\u001b[0m 90ms/step - loss: 1.3359 - mape: 26.5027 - r2_score: -3.0810 - val_loss: 0.9204 - val_mape: 17.2595 - val_r2_score: -0.5463 - learning_rate: 0.0010\n",
      "Epoch 77/1000\n",
      "\u001b[1m5/5\u001b[0m \u001b[32m━━━━━━━━━━━━━━━━━━━━\u001b[0m\u001b[37m\u001b[0m \u001b[1m0s\u001b[0m 74ms/step - loss: 1.0364 - mape: 19.5463 - r2_score: -1.4515 - val_loss: 0.9225 - val_mape: 17.2883 - val_r2_score: -0.5591 - learning_rate: 0.0010\n",
      "Epoch 78/1000\n",
      "\u001b[1m5/5\u001b[0m \u001b[32m━━━━━━━━━━━━━━━━━━━━\u001b[0m\u001b[37m\u001b[0m \u001b[1m0s\u001b[0m 79ms/step - loss: 1.1400 - mape: 22.3419 - r2_score: -1.9716 - val_loss: 0.8530 - val_mape: 15.7467 - val_r2_score: -0.3460 - learning_rate: 0.0010\n",
      "Epoch 79/1000\n",
      "\u001b[1m5/5\u001b[0m \u001b[32m━━━━━━━━━━━━━━━━━━━━\u001b[0m\u001b[37m\u001b[0m \u001b[1m0s\u001b[0m 87ms/step - loss: 1.2048 - mape: 23.3357 - r2_score: -2.7235 - val_loss: 0.7203 - val_mape: 12.7156 - val_r2_score: -0.0370 - learning_rate: 0.0010\n",
      "Epoch 80/1000\n",
      "\u001b[1m5/5\u001b[0m \u001b[32m━━━━━━━━━━━━━━━━━━━━\u001b[0m\u001b[37m\u001b[0m \u001b[1m0s\u001b[0m 79ms/step - loss: 1.2418 - mape: 24.3775 - r2_score: -3.1294 - val_loss: 0.6762 - val_mape: 11.4917 - val_r2_score: 0.0438 - learning_rate: 0.0010\n",
      "Epoch 81/1000\n",
      "\u001b[1m5/5\u001b[0m \u001b[32m━━━━━━━━━━━━━━━━━━━━\u001b[0m\u001b[37m\u001b[0m \u001b[1m0s\u001b[0m 65ms/step - loss: 0.9626 - mape: 18.6133 - r2_score: -1.6230 - val_loss: 0.6997 - val_mape: 11.8468 - val_r2_score: -0.0046 - learning_rate: 0.0010\n",
      "Epoch 82/1000\n",
      "\u001b[1m5/5\u001b[0m \u001b[32m━━━━━━━━━━━━━━━━━━━━\u001b[0m\u001b[37m\u001b[0m \u001b[1m0s\u001b[0m 66ms/step - loss: 0.9411 - mape: 18.1971 - r2_score: -1.1674 - val_loss: 0.6830 - val_mape: 11.1845 - val_r2_score: -0.0518 - learning_rate: 0.0010\n",
      "Epoch 83/1000\n",
      "\u001b[1m5/5\u001b[0m \u001b[32m━━━━━━━━━━━━━━━━━━━━\u001b[0m\u001b[37m\u001b[0m \u001b[1m0s\u001b[0m 63ms/step - loss: 0.8241 - mape: 15.1371 - r2_score: -0.5285 - val_loss: 0.6795 - val_mape: 11.0005 - val_r2_score: -0.1010 - learning_rate: 0.0010\n",
      "Epoch 84/1000\n",
      "\u001b[1m5/5\u001b[0m \u001b[32m━━━━━━━━━━━━━━━━━━━━\u001b[0m\u001b[37m\u001b[0m \u001b[1m0s\u001b[0m 62ms/step - loss: 0.9555 - mape: 17.8138 - r2_score: -1.2869 - val_loss: 0.6915 - val_mape: 11.6228 - val_r2_score: -0.0378 - learning_rate: 0.0010\n",
      "Epoch 85/1000\n",
      "\u001b[1m5/5\u001b[0m \u001b[32m━━━━━━━━━━━━━━━━━━━━\u001b[0m\u001b[37m\u001b[0m \u001b[1m0s\u001b[0m 65ms/step - loss: 1.0042 - mape: 18.5144 - r2_score: -1.2102 - val_loss: 0.7321 - val_mape: 13.1247 - val_r2_score: -0.0225 - learning_rate: 0.0010\n",
      "Epoch 86/1000\n",
      "\u001b[1m5/5\u001b[0m \u001b[32m━━━━━━━━━━━━━━━━━━━━\u001b[0m\u001b[37m\u001b[0m \u001b[1m0s\u001b[0m 63ms/step - loss: 1.0960 - mape: 20.5207 - r2_score: -1.8009 - val_loss: 0.7490 - val_mape: 13.9438 - val_r2_score: -0.0689 - learning_rate: 0.0010\n",
      "Epoch 87/1000\n",
      "\u001b[1m5/5\u001b[0m \u001b[32m━━━━━━━━━━━━━━━━━━━━\u001b[0m\u001b[37m\u001b[0m \u001b[1m0s\u001b[0m 62ms/step - loss: 1.0857 - mape: 21.5917 - r2_score: -1.9085 - val_loss: 0.7561 - val_mape: 14.2790 - val_r2_score: -0.0932 - learning_rate: 0.0010\n",
      "Epoch 88/1000\n",
      "\u001b[1m5/5\u001b[0m \u001b[32m━━━━━━━━━━━━━━━━━━━━\u001b[0m\u001b[37m\u001b[0m \u001b[1m0s\u001b[0m 63ms/step - loss: 1.0727 - mape: 21.1013 - r2_score: -1.7263 - val_loss: 0.7463 - val_mape: 13.5021 - val_r2_score: -0.0204 - learning_rate: 0.0010\n",
      "Epoch 89/1000\n",
      "\u001b[1m5/5\u001b[0m \u001b[32m━━━━━━━━━━━━━━━━━━━━\u001b[0m\u001b[37m\u001b[0m \u001b[1m0s\u001b[0m 67ms/step - loss: 0.8950 - mape: 16.9407 - r2_score: -0.9750 - val_loss: 0.7169 - val_mape: 12.3297 - val_r2_score: -0.0195 - learning_rate: 0.0010\n",
      "Epoch 90/1000\n",
      "\u001b[1m5/5\u001b[0m \u001b[32m━━━━━━━━━━━━━━━━━━━━\u001b[0m\u001b[37m\u001b[0m \u001b[1m0s\u001b[0m 66ms/step - loss: 1.0839 - mape: 20.7719 - r2_score: -1.6953 - val_loss: 0.7327 - val_mape: 12.1147 - val_r2_score: -0.2028 - learning_rate: 0.0010\n",
      "Epoch 91/1000\n",
      "\u001b[1m5/5\u001b[0m \u001b[32m━━━━━━━━━━━━━━━━━━━━\u001b[0m\u001b[37m\u001b[0m \u001b[1m0s\u001b[0m 67ms/step - loss: 1.0894 - mape: 20.2779 - r2_score: -2.9745 - val_loss: 0.7502 - val_mape: 12.2515 - val_r2_score: -0.4565 - learning_rate: 0.0010\n",
      "Epoch 92/1000\n",
      "\u001b[1m5/5\u001b[0m \u001b[32m━━━━━━━━━━━━━━━━━━━━\u001b[0m\u001b[37m\u001b[0m \u001b[1m0s\u001b[0m 63ms/step - loss: 1.0218 - mape: 19.6559 - r2_score: -1.4557 - val_loss: 0.6932 - val_mape: 11.3027 - val_r2_score: -0.1840 - learning_rate: 0.0010\n",
      "Epoch 93/1000\n",
      "\u001b[1m5/5\u001b[0m \u001b[32m━━━━━━━━━━━━━━━━━━━━\u001b[0m\u001b[37m\u001b[0m \u001b[1m0s\u001b[0m 77ms/step - loss: 0.9174 - mape: 17.2169 - r2_score: -0.8440 - val_loss: 0.6058 - val_mape: 9.5043 - val_r2_score: 0.1916 - learning_rate: 0.0010\n",
      "Epoch 94/1000\n",
      "\u001b[1m5/5\u001b[0m \u001b[32m━━━━━━━━━━━━━━━━━━━━\u001b[0m\u001b[37m\u001b[0m \u001b[1m0s\u001b[0m 77ms/step - loss: 0.8511 - mape: 15.8550 - r2_score: -0.6107 - val_loss: 0.5663 - val_mape: 9.1569 - val_r2_score: 0.4133 - learning_rate: 0.0010\n",
      "Epoch 95/1000\n",
      "\u001b[1m5/5\u001b[0m \u001b[32m━━━━━━━━━━━━━━━━━━━━\u001b[0m\u001b[37m\u001b[0m \u001b[1m0s\u001b[0m 79ms/step - loss: 1.0137 - mape: 19.3764 - r2_score: -1.2930 - val_loss: 0.5394 - val_mape: 8.9873 - val_r2_score: 0.4558 - learning_rate: 0.0010\n",
      "Epoch 96/1000\n",
      "\u001b[1m5/5\u001b[0m \u001b[32m━━━━━━━━━━━━━━━━━━━━\u001b[0m\u001b[37m\u001b[0m \u001b[1m0s\u001b[0m 78ms/step - loss: 0.9088 - mape: 17.3700 - r2_score: -0.9721 - val_loss: 0.5242 - val_mape: 8.7372 - val_r2_score: 0.4987 - learning_rate: 0.0010\n",
      "Epoch 97/1000\n",
      "\u001b[1m5/5\u001b[0m \u001b[32m━━━━━━━━━━━━━━━━━━━━\u001b[0m\u001b[37m\u001b[0m \u001b[1m0s\u001b[0m 77ms/step - loss: 1.0100 - mape: 19.1474 - r2_score: -1.3347 - val_loss: 0.5298 - val_mape: 8.7848 - val_r2_score: 0.5199 - learning_rate: 0.0010\n",
      "Epoch 98/1000\n",
      "\u001b[1m5/5\u001b[0m \u001b[32m━━━━━━━━━━━━━━━━━━━━\u001b[0m\u001b[37m\u001b[0m \u001b[1m0s\u001b[0m 77ms/step - loss: 0.8926 - mape: 16.6186 - r2_score: -0.8092 - val_loss: 0.5244 - val_mape: 8.6303 - val_r2_score: 0.5236 - learning_rate: 0.0010\n",
      "Epoch 99/1000\n",
      "\u001b[1m5/5\u001b[0m \u001b[32m━━━━━━━━━━━━━━━━━━━━\u001b[0m\u001b[37m\u001b[0m \u001b[1m0s\u001b[0m 78ms/step - loss: 0.8755 - mape: 16.6716 - r2_score: -0.8620 - val_loss: 0.5251 - val_mape: 8.7060 - val_r2_score: 0.5250 - learning_rate: 0.0010\n",
      "Epoch 100/1000\n",
      "\u001b[1m5/5\u001b[0m \u001b[32m━━━━━━━━━━━━━━━━━━━━\u001b[0m\u001b[37m\u001b[0m \u001b[1m0s\u001b[0m 62ms/step - loss: 0.9837 - mape: 18.5863 - r2_score: -1.1115 - val_loss: 0.5163 - val_mape: 8.3232 - val_r2_score: 0.5115 - learning_rate: 0.0010\n",
      "Epoch 101/1000\n",
      "\u001b[1m5/5\u001b[0m \u001b[32m━━━━━━━━━━━━━━━━━━━━\u001b[0m\u001b[37m\u001b[0m \u001b[1m0s\u001b[0m 63ms/step - loss: 0.8146 - mape: 15.4644 - r2_score: -0.4641 - val_loss: 0.5263 - val_mape: 8.4138 - val_r2_score: 0.4505 - learning_rate: 0.0010\n",
      "Epoch 102/1000\n",
      "\u001b[1m5/5\u001b[0m \u001b[32m━━━━━━━━━━━━━━━━━━━━\u001b[0m\u001b[37m\u001b[0m \u001b[1m0s\u001b[0m 64ms/step - loss: 0.9869 - mape: 18.2129 - r2_score: -1.5525 - val_loss: 0.5508 - val_mape: 9.0911 - val_r2_score: 0.4016 - learning_rate: 0.0010\n",
      "Epoch 103/1000\n",
      "\u001b[1m5/5\u001b[0m \u001b[32m━━━━━━━━━━━━━━━━━━━━\u001b[0m\u001b[37m\u001b[0m \u001b[1m0s\u001b[0m 63ms/step - loss: 0.8794 - mape: 17.2733 - r2_score: -1.4490 - val_loss: 0.5800 - val_mape: 9.8535 - val_r2_score: 0.3433 - learning_rate: 0.0010\n",
      "Epoch 104/1000\n",
      "\u001b[1m5/5\u001b[0m \u001b[32m━━━━━━━━━━━━━━━━━━━━\u001b[0m\u001b[37m\u001b[0m \u001b[1m0s\u001b[0m 62ms/step - loss: 0.7934 - mape: 14.6772 - r2_score: -0.4390 - val_loss: 0.5991 - val_mape: 10.2401 - val_r2_score: 0.3167 - learning_rate: 0.0010\n",
      "Epoch 105/1000\n",
      "\u001b[1m5/5\u001b[0m \u001b[32m━━━━━━━━━━━━━━━━━━━━\u001b[0m\u001b[37m\u001b[0m \u001b[1m0s\u001b[0m 63ms/step - loss: 0.8135 - mape: 15.4293 - r2_score: -0.8438 - val_loss: 0.5767 - val_mape: 9.4810 - val_r2_score: 0.3427 - learning_rate: 0.0010\n",
      "Epoch 106/1000\n",
      "\u001b[1m5/5\u001b[0m \u001b[32m━━━━━━━━━━━━━━━━━━━━\u001b[0m\u001b[37m\u001b[0m \u001b[1m0s\u001b[0m 65ms/step - loss: 0.9440 - mape: 17.6250 - r2_score: -0.9469 - val_loss: 0.5672 - val_mape: 9.2836 - val_r2_score: 0.4184 - learning_rate: 0.0010\n",
      "Epoch 107/1000\n",
      "\u001b[1m5/5\u001b[0m \u001b[32m━━━━━━━━━━━━━━━━━━━━\u001b[0m\u001b[37m\u001b[0m \u001b[1m0s\u001b[0m 69ms/step - loss: 0.9313 - mape: 17.9334 - r2_score: -0.7211 - val_loss: 0.5730 - val_mape: 9.4547 - val_r2_score: 0.4553 - learning_rate: 0.0010\n",
      "Epoch 108/1000\n",
      "\u001b[1m5/5\u001b[0m \u001b[32m━━━━━━━━━━━━━━━━━━━━\u001b[0m\u001b[37m\u001b[0m \u001b[1m0s\u001b[0m 65ms/step - loss: 1.0000 - mape: 19.2037 - r2_score: -1.0932 - val_loss: 0.6426 - val_mape: 10.9888 - val_r2_score: 0.3422 - learning_rate: 0.0010\n",
      "Epoch 109/1000\n",
      "\u001b[1m5/5\u001b[0m \u001b[32m━━━━━━━━━━━━━━━━━━━━\u001b[0m\u001b[37m\u001b[0m \u001b[1m0s\u001b[0m 62ms/step - loss: 0.9440 - mape: 18.4044 - r2_score: -1.1991 - val_loss: 0.6339 - val_mape: 10.7779 - val_r2_score: 0.2711 - learning_rate: 0.0010\n",
      "Epoch 110/1000\n",
      "\u001b[1m5/5\u001b[0m \u001b[32m━━━━━━━━━━━━━━━━━━━━\u001b[0m\u001b[37m\u001b[0m \u001b[1m0s\u001b[0m 62ms/step - loss: 0.8094 - mape: 15.2195 - r2_score: -0.6749 - val_loss: 0.6192 - val_mape: 10.3595 - val_r2_score: 0.1846 - learning_rate: 0.0010\n",
      "Epoch 111/1000\n",
      "\u001b[1m5/5\u001b[0m \u001b[32m━━━━━━━━━━━━━━━━━━━━\u001b[0m\u001b[37m\u001b[0m \u001b[1m0s\u001b[0m 65ms/step - loss: 1.0196 - mape: 19.6752 - r2_score: -1.3848 - val_loss: 0.5619 - val_mape: 9.0464 - val_r2_score: 0.3240 - learning_rate: 0.0010\n",
      "Epoch 112/1000\n",
      "\u001b[1m5/5\u001b[0m \u001b[32m━━━━━━━━━━━━━━━━━━━━\u001b[0m\u001b[37m\u001b[0m \u001b[1m0s\u001b[0m 63ms/step - loss: 0.8430 - mape: 15.7899 - r2_score: -0.4471 - val_loss: 0.4894 - val_mape: 7.4245 - val_r2_score: 0.4919 - learning_rate: 0.0010\n",
      "Epoch 113/1000\n",
      "\u001b[1m5/5\u001b[0m \u001b[32m━━━━━━━━━━━━━━━━━━━━\u001b[0m\u001b[37m\u001b[0m \u001b[1m0s\u001b[0m 82ms/step - loss: 0.8284 - mape: 15.6108 - r2_score: -0.5410 - val_loss: 0.4629 - val_mape: 7.2239 - val_r2_score: 0.5743 - learning_rate: 0.0010\n",
      "Epoch 114/1000\n",
      "\u001b[1m5/5\u001b[0m \u001b[32m━━━━━━━━━━━━━━━━━━━━\u001b[0m\u001b[37m\u001b[0m \u001b[1m0s\u001b[0m 84ms/step - loss: 0.8232 - mape: 15.4432 - r2_score: -0.6667 - val_loss: 0.4519 - val_mape: 7.1453 - val_r2_score: 0.5960 - learning_rate: 0.0010\n",
      "Epoch 115/1000\n",
      "\u001b[1m5/5\u001b[0m \u001b[32m━━━━━━━━━━━━━━━━━━━━\u001b[0m\u001b[37m\u001b[0m \u001b[1m0s\u001b[0m 78ms/step - loss: 0.7781 - mape: 14.5428 - r2_score: -0.3400 - val_loss: 0.4501 - val_mape: 7.4141 - val_r2_score: 0.5830 - learning_rate: 0.0010\n",
      "Epoch 116/1000\n",
      "\u001b[1m5/5\u001b[0m \u001b[32m━━━━━━━━━━━━━━━━━━━━\u001b[0m\u001b[37m\u001b[0m \u001b[1m0s\u001b[0m 70ms/step - loss: 0.8578 - mape: 16.4158 - r2_score: -0.7558 - val_loss: 0.4497 - val_mape: 7.5099 - val_r2_score: 0.5775 - learning_rate: 0.0010\n",
      "Epoch 117/1000\n",
      "\u001b[1m5/5\u001b[0m \u001b[32m━━━━━━━━━━━━━━━━━━━━\u001b[0m\u001b[37m\u001b[0m \u001b[1m0s\u001b[0m 88ms/step - loss: 0.7516 - mape: 14.1074 - r2_score: -0.2903 - val_loss: 0.4447 - val_mape: 7.0826 - val_r2_score: 0.5975 - learning_rate: 0.0010\n",
      "Epoch 118/1000\n",
      "\u001b[1m5/5\u001b[0m \u001b[32m━━━━━━━━━━━━━━━━━━━━\u001b[0m\u001b[37m\u001b[0m \u001b[1m0s\u001b[0m 66ms/step - loss: 0.8835 - mape: 17.1871 - r2_score: -0.6315 - val_loss: 0.4724 - val_mape: 7.1955 - val_r2_score: 0.5218 - learning_rate: 0.0010\n",
      "Epoch 119/1000\n",
      "\u001b[1m5/5\u001b[0m \u001b[32m━━━━━━━━━━━━━━━━━━━━\u001b[0m\u001b[37m\u001b[0m \u001b[1m0s\u001b[0m 86ms/step - loss: 0.7727 - mape: 14.4445 - r2_score: -0.5169 - val_loss: 0.4572 - val_mape: 6.7039 - val_r2_score: 0.5100 - learning_rate: 0.0010\n",
      "Epoch 120/1000\n",
      "\u001b[1m5/5\u001b[0m \u001b[32m━━━━━━━━━━━━━━━━━━━━\u001b[0m\u001b[37m\u001b[0m \u001b[1m0s\u001b[0m 65ms/step - loss: 0.7865 - mape: 14.5798 - r2_score: -0.5908 - val_loss: 0.4550 - val_mape: 7.0659 - val_r2_score: 0.5833 - learning_rate: 0.0010\n",
      "Epoch 121/1000\n",
      "\u001b[1m5/5\u001b[0m \u001b[32m━━━━━━━━━━━━━━━━━━━━\u001b[0m\u001b[37m\u001b[0m \u001b[1m0s\u001b[0m 84ms/step - loss: 0.8242 - mape: 16.0073 - r2_score: -0.6756 - val_loss: 0.4638 - val_mape: 7.6627 - val_r2_score: 0.6012 - learning_rate: 0.0010\n",
      "Epoch 122/1000\n",
      "\u001b[1m5/5\u001b[0m \u001b[32m━━━━━━━━━━━━━━━━━━━━\u001b[0m\u001b[37m\u001b[0m \u001b[1m0s\u001b[0m 64ms/step - loss: 0.7773 - mape: 14.7765 - r2_score: -0.3283 - val_loss: 0.4726 - val_mape: 8.0276 - val_r2_score: 0.5875 - learning_rate: 8.0000e-04\n",
      "Epoch 123/1000\n",
      "\u001b[1m5/5\u001b[0m \u001b[32m━━━━━━━━━━━━━━━━━━━━\u001b[0m\u001b[37m\u001b[0m \u001b[1m0s\u001b[0m 63ms/step - loss: 0.8590 - mape: 16.4672 - r2_score: -0.7466 - val_loss: 0.4540 - val_mape: 7.5833 - val_r2_score: 0.5929 - learning_rate: 8.0000e-04\n",
      "Epoch 124/1000\n",
      "\u001b[1m5/5\u001b[0m \u001b[32m━━━━━━━━━━━━━━━━━━━━\u001b[0m\u001b[37m\u001b[0m \u001b[1m0s\u001b[0m 70ms/step - loss: 0.9441 - mape: 18.0927 - r2_score: -1.0418 - val_loss: 0.4563 - val_mape: 7.6031 - val_r2_score: 0.5904 - learning_rate: 8.0000e-04\n",
      "Epoch 125/1000\n",
      "\u001b[1m5/5\u001b[0m \u001b[32m━━━━━━━━━━━━━━━━━━━━\u001b[0m\u001b[37m\u001b[0m \u001b[1m0s\u001b[0m 68ms/step - loss: 0.9092 - mape: 17.7931 - r2_score: -0.9022 - val_loss: 0.4764 - val_mape: 7.8518 - val_r2_score: 0.5882 - learning_rate: 8.0000e-04\n",
      "Epoch 126/1000\n",
      "\u001b[1m5/5\u001b[0m \u001b[32m━━━━━━━━━━━━━━━━━━━━\u001b[0m\u001b[37m\u001b[0m \u001b[1m0s\u001b[0m 68ms/step - loss: 0.9535 - mape: 17.8370 - r2_score: -1.0733 - val_loss: 0.5002 - val_mape: 8.2135 - val_r2_score: 0.5447 - learning_rate: 8.0000e-04\n",
      "Epoch 127/1000\n",
      "\u001b[1m5/5\u001b[0m \u001b[32m━━━━━━━━━━━━━━━━━━━━\u001b[0m\u001b[37m\u001b[0m \u001b[1m0s\u001b[0m 65ms/step - loss: 0.8514 - mape: 16.0381 - r2_score: -0.5233 - val_loss: 0.5381 - val_mape: 8.7480 - val_r2_score: 0.4035 - learning_rate: 8.0000e-04\n",
      "Epoch 128/1000\n",
      "\u001b[1m5/5\u001b[0m \u001b[32m━━━━━━━━━━━━━━━━━━━━\u001b[0m\u001b[37m\u001b[0m \u001b[1m0s\u001b[0m 65ms/step - loss: 0.8843 - mape: 17.2906 - r2_score: -0.8778 - val_loss: 0.5504 - val_mape: 8.6219 - val_r2_score: 0.2960 - learning_rate: 8.0000e-04\n",
      "Epoch 129/1000\n",
      "\u001b[1m5/5\u001b[0m \u001b[32m━━━━━━━━━━━━━━━━━━━━\u001b[0m\u001b[37m\u001b[0m \u001b[1m0s\u001b[0m 63ms/step - loss: 1.0622 - mape: 20.8445 - r2_score: -1.3671 - val_loss: 0.5107 - val_mape: 7.8605 - val_r2_score: 0.4068 - learning_rate: 8.0000e-04\n",
      "Epoch 130/1000\n",
      "\u001b[1m5/5\u001b[0m \u001b[32m━━━━━━━━━━━━━━━━━━━━\u001b[0m\u001b[37m\u001b[0m \u001b[1m0s\u001b[0m 67ms/step - loss: 0.8877 - mape: 16.9423 - r2_score: -1.2789 - val_loss: 0.4752 - val_mape: 7.1695 - val_r2_score: 0.5176 - learning_rate: 8.0000e-04\n",
      "Epoch 131/1000\n",
      "\u001b[1m5/5\u001b[0m \u001b[32m━━━━━━━━━━━━━━━━━━━━\u001b[0m\u001b[37m\u001b[0m \u001b[1m0s\u001b[0m 66ms/step - loss: 0.7686 - mape: 14.6369 - r2_score: -0.2484 - val_loss: 0.4581 - val_mape: 6.9677 - val_r2_score: 0.5972 - learning_rate: 8.0000e-04\n",
      "Epoch 132/1000\n",
      "\u001b[1m5/5\u001b[0m \u001b[32m━━━━━━━━━━━━━━━━━━━━\u001b[0m\u001b[37m\u001b[0m \u001b[1m0s\u001b[0m 81ms/step - loss: 0.9378 - mape: 18.0539 - r2_score: -0.8343 - val_loss: 0.4944 - val_mape: 7.9310 - val_r2_score: 0.6203 - learning_rate: 8.0000e-04\n",
      "Epoch 133/1000\n",
      "\u001b[1m5/5\u001b[0m \u001b[32m━━━━━━━━━━━━━━━━━━━━\u001b[0m\u001b[37m\u001b[0m \u001b[1m0s\u001b[0m 80ms/step - loss: 0.9293 - mape: 17.7556 - r2_score: -0.8946 - val_loss: 0.4919 - val_mape: 7.9546 - val_r2_score: 0.6264 - learning_rate: 8.0000e-04\n",
      "Epoch 134/1000\n",
      "\u001b[1m5/5\u001b[0m \u001b[32m━━━━━━━━━━━━━━━━━━━━\u001b[0m\u001b[37m\u001b[0m \u001b[1m0s\u001b[0m 81ms/step - loss: 0.7122 - mape: 12.8352 - r2_score: -0.1336 - val_loss: 0.4754 - val_mape: 7.7818 - val_r2_score: 0.6412 - learning_rate: 8.0000e-04\n",
      "Epoch 135/1000\n",
      "\u001b[1m5/5\u001b[0m \u001b[32m━━━━━━━━━━━━━━━━━━━━\u001b[0m\u001b[37m\u001b[0m \u001b[1m0s\u001b[0m 81ms/step - loss: 1.0269 - mape: 19.8741 - r2_score: -1.6174 - val_loss: 0.4681 - val_mape: 7.6527 - val_r2_score: 0.6516 - learning_rate: 8.0000e-04\n",
      "Epoch 136/1000\n",
      "\u001b[1m5/5\u001b[0m \u001b[32m━━━━━━━━━━━━━━━━━━━━\u001b[0m\u001b[37m\u001b[0m \u001b[1m0s\u001b[0m 66ms/step - loss: 0.7460 - mape: 14.0293 - r2_score: -0.2201 - val_loss: 0.4633 - val_mape: 7.7368 - val_r2_score: 0.6260 - learning_rate: 8.0000e-04\n",
      "Epoch 137/1000\n",
      "\u001b[1m5/5\u001b[0m \u001b[32m━━━━━━━━━━━━━━━━━━━━\u001b[0m\u001b[37m\u001b[0m \u001b[1m0s\u001b[0m 78ms/step - loss: 0.9881 - mape: 19.6491 - r2_score: -1.5527 - val_loss: 0.4741 - val_mape: 8.1336 - val_r2_score: 0.5751 - learning_rate: 8.0000e-04\n",
      "Epoch 138/1000\n",
      "\u001b[1m5/5\u001b[0m \u001b[32m━━━━━━━━━━━━━━━━━━━━\u001b[0m\u001b[37m\u001b[0m \u001b[1m0s\u001b[0m 70ms/step - loss: 0.7963 - mape: 14.9400 - r2_score: -0.5037 - val_loss: 0.4886 - val_mape: 8.3996 - val_r2_score: 0.5447 - learning_rate: 8.0000e-04\n",
      "Epoch 139/1000\n",
      "\u001b[1m5/5\u001b[0m \u001b[32m━━━━━━━━━━━━━━━━━━━━\u001b[0m\u001b[37m\u001b[0m \u001b[1m0s\u001b[0m 63ms/step - loss: 0.8389 - mape: 16.0397 - r2_score: -0.6692 - val_loss: 0.4947 - val_mape: 8.2716 - val_r2_score: 0.5372 - learning_rate: 8.0000e-04\n",
      "Epoch 140/1000\n",
      "\u001b[1m5/5\u001b[0m \u001b[32m━━━━━━━━━━━━━━━━━━━━\u001b[0m\u001b[37m\u001b[0m \u001b[1m0s\u001b[0m 65ms/step - loss: 0.7734 - mape: 14.0231 - r2_score: -0.2674 - val_loss: 0.4967 - val_mape: 8.0560 - val_r2_score: 0.5257 - learning_rate: 8.0000e-04\n",
      "Epoch 141/1000\n",
      "\u001b[1m5/5\u001b[0m \u001b[32m━━━━━━━━━━━━━━━━━━━━\u001b[0m\u001b[37m\u001b[0m \u001b[1m0s\u001b[0m 66ms/step - loss: 0.9166 - mape: 16.5701 - r2_score: -0.7504 - val_loss: 0.4814 - val_mape: 7.4794 - val_r2_score: 0.5507 - learning_rate: 8.0000e-04\n",
      "Epoch 142/1000\n",
      "\u001b[1m5/5\u001b[0m \u001b[32m━━━━━━━━━━━━━━━━━━━━\u001b[0m\u001b[37m\u001b[0m \u001b[1m0s\u001b[0m 71ms/step - loss: 0.8190 - mape: 15.6255 - r2_score: -0.5116 - val_loss: 0.4847 - val_mape: 7.6860 - val_r2_score: 0.5977 - learning_rate: 8.0000e-04\n",
      "Epoch 143/1000\n",
      "\u001b[1m5/5\u001b[0m \u001b[32m━━━━━━━━━━━━━━━━━━━━\u001b[0m\u001b[37m\u001b[0m \u001b[1m0s\u001b[0m 67ms/step - loss: 0.7750 - mape: 14.7485 - r2_score: -0.3713 - val_loss: 0.4947 - val_mape: 8.0759 - val_r2_score: 0.6023 - learning_rate: 8.0000e-04\n",
      "Epoch 144/1000\n",
      "\u001b[1m5/5\u001b[0m \u001b[32m━━━━━━━━━━━━━━━━━━━━\u001b[0m\u001b[37m\u001b[0m \u001b[1m0s\u001b[0m 64ms/step - loss: 0.7426 - mape: 13.4625 - r2_score: -0.0830 - val_loss: 0.5052 - val_mape: 8.4189 - val_r2_score: 0.5881 - learning_rate: 8.0000e-04\n",
      "Epoch 145/1000\n",
      "\u001b[1m5/5\u001b[0m \u001b[32m━━━━━━━━━━━━━━━━━━━━\u001b[0m\u001b[37m\u001b[0m \u001b[1m0s\u001b[0m 66ms/step - loss: 0.8828 - mape: 15.9816 - r2_score: -1.1701 - val_loss: 0.5061 - val_mape: 8.4679 - val_r2_score: 0.5804 - learning_rate: 8.0000e-04\n",
      "Epoch 146/1000\n",
      "\u001b[1m5/5\u001b[0m \u001b[32m━━━━━━━━━━━━━━━━━━━━\u001b[0m\u001b[37m\u001b[0m \u001b[1m0s\u001b[0m 66ms/step - loss: 0.9353 - mape: 17.5982 - r2_score: -1.2658 - val_loss: 0.5013 - val_mape: 8.2780 - val_r2_score: 0.5636 - learning_rate: 8.0000e-04\n",
      "Epoch 147/1000\n",
      "\u001b[1m5/5\u001b[0m \u001b[32m━━━━━━━━━━━━━━━━━━━━\u001b[0m\u001b[37m\u001b[0m \u001b[1m0s\u001b[0m 64ms/step - loss: 0.7839 - mape: 14.5426 - r2_score: -0.3002 - val_loss: 0.5213 - val_mape: 8.5616 - val_r2_score: 0.5158 - learning_rate: 8.0000e-04\n",
      "Epoch 148/1000\n",
      "\u001b[1m5/5\u001b[0m \u001b[32m━━━━━━━━━━━━━━━━━━━━\u001b[0m\u001b[37m\u001b[0m \u001b[1m0s\u001b[0m 63ms/step - loss: 0.6953 - mape: 12.5950 - r2_score: -0.0410 - val_loss: 0.5488 - val_mape: 8.9776 - val_r2_score: 0.4337 - learning_rate: 8.0000e-04\n",
      "Epoch 149/1000\n",
      "\u001b[1m5/5\u001b[0m \u001b[32m━━━━━━━━━━━━━━━━━━━━\u001b[0m\u001b[37m\u001b[0m \u001b[1m0s\u001b[0m 63ms/step - loss: 0.8580 - mape: 16.7970 - r2_score: -0.7501 - val_loss: 0.5909 - val_mape: 9.7769 - val_r2_score: 0.3025 - learning_rate: 8.0000e-04\n",
      "Epoch 150/1000\n",
      "\u001b[1m5/5\u001b[0m \u001b[32m━━━━━━━━━━━━━━━━━━━━\u001b[0m\u001b[37m\u001b[0m \u001b[1m0s\u001b[0m 67ms/step - loss: 0.8338 - mape: 15.5600 - r2_score: -0.4515 - val_loss: 0.6082 - val_mape: 9.9644 - val_r2_score: 0.2290 - learning_rate: 8.0000e-04\n",
      "Epoch 151/1000\n",
      "\u001b[1m5/5\u001b[0m \u001b[32m━━━━━━━━━━━━━━━━━━━━\u001b[0m\u001b[37m\u001b[0m \u001b[1m0s\u001b[0m 63ms/step - loss: 0.8052 - mape: 15.4947 - r2_score: -0.6930 - val_loss: 0.6004 - val_mape: 9.7571 - val_r2_score: 0.2488 - learning_rate: 8.0000e-04\n",
      "Epoch 152/1000\n",
      "\u001b[1m5/5\u001b[0m \u001b[32m━━━━━━━━━━━━━━━━━━━━\u001b[0m\u001b[37m\u001b[0m \u001b[1m0s\u001b[0m 66ms/step - loss: 0.7918 - mape: 14.6415 - r2_score: -0.5326 - val_loss: 0.6103 - val_mape: 9.8943 - val_r2_score: 0.1923 - learning_rate: 8.0000e-04\n",
      "Epoch 153/1000\n",
      "\u001b[1m5/5\u001b[0m \u001b[32m━━━━━━━━━━━━━━━━━━━━\u001b[0m\u001b[37m\u001b[0m \u001b[1m0s\u001b[0m 65ms/step - loss: 0.9364 - mape: 17.9738 - r2_score: -0.9390 - val_loss: 0.5800 - val_mape: 9.3327 - val_r2_score: 0.2891 - learning_rate: 8.0000e-04\n",
      "Epoch 154/1000\n",
      "\u001b[1m5/5\u001b[0m \u001b[32m━━━━━━━━━━━━━━━━━━━━\u001b[0m\u001b[37m\u001b[0m \u001b[1m0s\u001b[0m 66ms/step - loss: 0.8804 - mape: 16.5137 - r2_score: -0.6680 - val_loss: 0.5693 - val_mape: 9.2968 - val_r2_score: 0.3602 - learning_rate: 8.0000e-04\n",
      "Epoch 155/1000\n",
      "\u001b[1m5/5\u001b[0m \u001b[32m━━━━━━━━━━━━━━━━━━━━\u001b[0m\u001b[37m\u001b[0m \u001b[1m1s\u001b[0m 66ms/step - loss: 0.7165 - mape: 13.1317 - r2_score: -0.2458 - val_loss: 0.5504 - val_mape: 8.8061 - val_r2_score: 0.4024 - learning_rate: 8.0000e-04\n",
      "Epoch 156/1000\n",
      "\u001b[1m5/5\u001b[0m \u001b[32m━━━━━━━━━━━━━━━━━━━━\u001b[0m\u001b[37m\u001b[0m \u001b[1m0s\u001b[0m 66ms/step - loss: 0.8279 - mape: 15.5798 - r2_score: -0.3757 - val_loss: 0.5612 - val_mape: 9.0397 - val_r2_score: 0.4380 - learning_rate: 8.0000e-04\n",
      "Epoch 157/1000\n",
      "\u001b[1m5/5\u001b[0m \u001b[32m━━━━━━━━━━━━━━━━━━━━\u001b[0m\u001b[37m\u001b[0m \u001b[1m0s\u001b[0m 68ms/step - loss: 0.7412 - mape: 13.3707 - r2_score: -0.2778 - val_loss: 0.5681 - val_mape: 9.3327 - val_r2_score: 0.4698 - learning_rate: 8.0000e-04\n",
      "Epoch 158/1000\n",
      "\u001b[1m5/5\u001b[0m \u001b[32m━━━━━━━━━━━━━━━━━━━━\u001b[0m\u001b[37m\u001b[0m \u001b[1m0s\u001b[0m 65ms/step - loss: 0.7195 - mape: 13.1028 - r2_score: -0.0795 - val_loss: 0.5611 - val_mape: 8.9455 - val_r2_score: 0.4294 - learning_rate: 8.0000e-04\n",
      "Epoch 159/1000\n",
      "\u001b[1m5/5\u001b[0m \u001b[32m━━━━━━━━━━━━━━━━━━━━\u001b[0m\u001b[37m\u001b[0m \u001b[1m0s\u001b[0m 67ms/step - loss: 0.7675 - mape: 13.9931 - r2_score: -0.2850 - val_loss: 0.5468 - val_mape: 8.6620 - val_r2_score: 0.4495 - learning_rate: 8.0000e-04\n",
      "Epoch 160/1000\n",
      "\u001b[1m5/5\u001b[0m \u001b[32m━━━━━━━━━━━━━━━━━━━━\u001b[0m\u001b[37m\u001b[0m \u001b[1m0s\u001b[0m 68ms/step - loss: 0.7869 - mape: 15.2093 - r2_score: -0.5264 - val_loss: 0.5264 - val_mape: 8.3907 - val_r2_score: 0.5131 - learning_rate: 8.0000e-04\n",
      "Epoch 161/1000\n",
      "\u001b[1m5/5\u001b[0m \u001b[32m━━━━━━━━━━━━━━━━━━━━\u001b[0m\u001b[37m\u001b[0m \u001b[1m0s\u001b[0m 63ms/step - loss: 0.7572 - mape: 14.0387 - r2_score: -0.2843 - val_loss: 0.5073 - val_mape: 8.0556 - val_r2_score: 0.5127 - learning_rate: 8.0000e-04\n",
      "Epoch 162/1000\n",
      "\u001b[1m5/5\u001b[0m \u001b[32m━━━━━━━━━━━━━━━━━━━━\u001b[0m\u001b[37m\u001b[0m \u001b[1m0s\u001b[0m 71ms/step - loss: 0.7529 - mape: 13.9068 - r2_score: -0.3732 - val_loss: 0.5201 - val_mape: 8.4853 - val_r2_score: 0.4938 - learning_rate: 8.0000e-04\n",
      "Epoch 163/1000\n",
      "\u001b[1m5/5\u001b[0m \u001b[32m━━━━━━━━━━━━━━━━━━━━\u001b[0m\u001b[37m\u001b[0m \u001b[1m0s\u001b[0m 64ms/step - loss: 0.7648 - mape: 14.0763 - r2_score: -0.3440 - val_loss: 0.5366 - val_mape: 8.7875 - val_r2_score: 0.4262 - learning_rate: 8.0000e-04\n",
      "Epoch 164/1000\n",
      "\u001b[1m5/5\u001b[0m \u001b[32m━━━━━━━━━━━━━━━━━━━━\u001b[0m\u001b[37m\u001b[0m \u001b[1m0s\u001b[0m 64ms/step - loss: 0.7818 - mape: 15.0215 - r2_score: -0.4095 - val_loss: 0.5565 - val_mape: 9.1603 - val_r2_score: 0.3465 - learning_rate: 8.0000e-04\n",
      "Epoch 165/1000\n",
      "\u001b[1m5/5\u001b[0m \u001b[32m━━━━━━━━━━━━━━━━━━━━\u001b[0m\u001b[37m\u001b[0m \u001b[1m0s\u001b[0m 70ms/step - loss: 0.6683 - mape: 12.1840 - r2_score: 0.0485 - val_loss: 0.5110 - val_mape: 8.4245 - val_r2_score: 0.4659 - learning_rate: 8.0000e-04\n",
      "Epoch 166/1000\n",
      "\u001b[1m5/5\u001b[0m \u001b[32m━━━━━━━━━━━━━━━━━━━━\u001b[0m\u001b[37m\u001b[0m \u001b[1m0s\u001b[0m 71ms/step - loss: 0.7277 - mape: 13.3448 - r2_score: -0.0851 - val_loss: 0.5175 - val_mape: 8.6587 - val_r2_score: 0.4982 - learning_rate: 8.0000e-04\n",
      "Epoch 167/1000\n",
      "\u001b[1m5/5\u001b[0m \u001b[32m━━━━━━━━━━━━━━━━━━━━\u001b[0m\u001b[37m\u001b[0m \u001b[1m0s\u001b[0m 62ms/step - loss: 0.7896 - mape: 15.1784 - r2_score: -0.3922 - val_loss: 0.5060 - val_mape: 8.4579 - val_r2_score: 0.5255 - learning_rate: 8.0000e-04\n",
      "Epoch 168/1000\n",
      "\u001b[1m5/5\u001b[0m \u001b[32m━━━━━━━━━━━━━━━━━━━━\u001b[0m\u001b[37m\u001b[0m \u001b[1m0s\u001b[0m 66ms/step - loss: 0.8104 - mape: 15.4128 - r2_score: -0.4429 - val_loss: 0.4895 - val_mape: 8.1072 - val_r2_score: 0.5565 - learning_rate: 8.0000e-04\n",
      "Epoch 169/1000\n",
      "\u001b[1m5/5\u001b[0m \u001b[32m━━━━━━━━━━━━━━━━━━━━\u001b[0m\u001b[37m\u001b[0m \u001b[1m0s\u001b[0m 69ms/step - loss: 0.7468 - mape: 13.9355 - r2_score: -0.2283 - val_loss: 0.4792 - val_mape: 7.8617 - val_r2_score: 0.5745 - learning_rate: 8.0000e-04\n",
      "Epoch 170/1000\n",
      "\u001b[1m5/5\u001b[0m \u001b[32m━━━━━━━━━━━━━━━━━━━━\u001b[0m\u001b[37m\u001b[0m \u001b[1m0s\u001b[0m 67ms/step - loss: 0.7330 - mape: 13.7116 - r2_score: -0.1673 - val_loss: 0.4859 - val_mape: 7.8812 - val_r2_score: 0.5727 - learning_rate: 8.0000e-04\n",
      "Epoch 171/1000\n",
      "\u001b[1m5/5\u001b[0m \u001b[32m━━━━━━━━━━━━━━━━━━━━\u001b[0m\u001b[37m\u001b[0m \u001b[1m0s\u001b[0m 70ms/step - loss: 0.6929 - mape: 12.7101 - r2_score: -0.0549 - val_loss: 0.4679 - val_mape: 7.3350 - val_r2_score: 0.5549 - learning_rate: 8.0000e-04\n",
      "Epoch 172/1000\n",
      "\u001b[1m5/5\u001b[0m \u001b[32m━━━━━━━━━━━━━━━━━━━━\u001b[0m\u001b[37m\u001b[0m \u001b[1m0s\u001b[0m 63ms/step - loss: 0.7375 - mape: 13.7486 - r2_score: -0.0840 - val_loss: 0.4668 - val_mape: 7.3782 - val_r2_score: 0.5497 - learning_rate: 8.0000e-04\n",
      "Epoch 173/1000\n",
      "\u001b[1m5/5\u001b[0m \u001b[32m━━━━━━━━━━━━━━━━━━━━\u001b[0m\u001b[37m\u001b[0m \u001b[1m0s\u001b[0m 63ms/step - loss: 0.7870 - mape: 15.0101 - r2_score: -0.3623 - val_loss: 0.4629 - val_mape: 7.4423 - val_r2_score: 0.5815 - learning_rate: 8.0000e-04\n",
      "Epoch 174/1000\n",
      "\u001b[1m5/5\u001b[0m \u001b[32m━━━━━━━━━━━━━━━━━━━━\u001b[0m\u001b[37m\u001b[0m \u001b[1m0s\u001b[0m 69ms/step - loss: 0.8037 - mape: 15.1973 - r2_score: -0.4727 - val_loss: 0.4527 - val_mape: 7.4352 - val_r2_score: 0.6057 - learning_rate: 8.0000e-04\n",
      "Epoch 175/1000\n",
      "\u001b[1m5/5\u001b[0m \u001b[32m━━━━━━━━━━━━━━━━━━━━\u001b[0m\u001b[37m\u001b[0m \u001b[1m0s\u001b[0m 66ms/step - loss: 0.8252 - mape: 15.4859 - r2_score: -0.3628 - val_loss: 0.4614 - val_mape: 7.7038 - val_r2_score: 0.5951 - learning_rate: 8.0000e-04\n",
      "Epoch 176/1000\n",
      "\u001b[1m5/5\u001b[0m \u001b[32m━━━━━━━━━━━━━━━━━━━━\u001b[0m\u001b[37m\u001b[0m \u001b[1m0s\u001b[0m 63ms/step - loss: 0.8591 - mape: 16.2870 - r2_score: -0.6467 - val_loss: 0.4718 - val_mape: 8.0629 - val_r2_score: 0.5852 - learning_rate: 8.0000e-04\n",
      "Epoch 177/1000\n",
      "\u001b[1m5/5\u001b[0m \u001b[32m━━━━━━━━━━━━━━━━━━━━\u001b[0m\u001b[37m\u001b[0m \u001b[1m0s\u001b[0m 62ms/step - loss: 0.8091 - mape: 14.9774 - r2_score: -0.4566 - val_loss: 0.4726 - val_mape: 8.1309 - val_r2_score: 0.5776 - learning_rate: 8.0000e-04\n",
      "Epoch 178/1000\n",
      "\u001b[1m5/5\u001b[0m \u001b[32m━━━━━━━━━━━━━━━━━━━━\u001b[0m\u001b[37m\u001b[0m \u001b[1m0s\u001b[0m 63ms/step - loss: 0.8822 - mape: 17.0490 - r2_score: -0.8604 - val_loss: 0.4839 - val_mape: 8.1981 - val_r2_score: 0.5551 - learning_rate: 8.0000e-04\n",
      "Epoch 179/1000\n",
      "\u001b[1m5/5\u001b[0m \u001b[32m━━━━━━━━━━━━━━━━━━━━\u001b[0m\u001b[37m\u001b[0m \u001b[1m0s\u001b[0m 63ms/step - loss: 0.8372 - mape: 16.0920 - r2_score: -0.5908 - val_loss: 0.4916 - val_mape: 8.2043 - val_r2_score: 0.5185 - learning_rate: 8.0000e-04\n",
      "Epoch 180/1000\n",
      "\u001b[1m5/5\u001b[0m \u001b[32m━━━━━━━━━━━━━━━━━━━━\u001b[0m\u001b[37m\u001b[0m \u001b[1m0s\u001b[0m 63ms/step - loss: 0.8395 - mape: 16.6917 - r2_score: -0.7749 - val_loss: 0.4746 - val_mape: 7.7780 - val_r2_score: 0.5561 - learning_rate: 8.0000e-04\n",
      "Epoch 181/1000\n",
      "\u001b[1m5/5\u001b[0m \u001b[32m━━━━━━━━━━━━━━━━━━━━\u001b[0m\u001b[37m\u001b[0m \u001b[1m0s\u001b[0m 62ms/step - loss: 0.7332 - mape: 13.5567 - r2_score: -0.1052 - val_loss: 0.4417 - val_mape: 6.9963 - val_r2_score: 0.6354 - learning_rate: 8.0000e-04\n",
      "Epoch 182/1000\n",
      "\u001b[1m5/5\u001b[0m \u001b[32m━━━━━━━━━━━━━━━━━━━━\u001b[0m\u001b[37m\u001b[0m \u001b[1m0s\u001b[0m 78ms/step - loss: 0.7467 - mape: 13.2169 - r2_score: -0.3471 - val_loss: 0.4487 - val_mape: 7.0020 - val_r2_score: 0.6609 - learning_rate: 8.0000e-04\n",
      "Epoch 183/1000\n",
      "\u001b[1m5/5\u001b[0m \u001b[32m━━━━━━━━━━━━━━━━━━━━\u001b[0m\u001b[37m\u001b[0m \u001b[1m0s\u001b[0m 64ms/step - loss: 0.9234 - mape: 17.5785 - r2_score: -0.9845 - val_loss: 0.4555 - val_mape: 7.0787 - val_r2_score: 0.6474 - learning_rate: 8.0000e-04\n",
      "Epoch 184/1000\n",
      "\u001b[1m5/5\u001b[0m \u001b[32m━━━━━━━━━━━━━━━━━━━━\u001b[0m\u001b[37m\u001b[0m \u001b[1m0s\u001b[0m 78ms/step - loss: 0.7277 - mape: 13.4385 - r2_score: -0.0858 - val_loss: 0.4759 - val_mape: 7.7616 - val_r2_score: 0.6675 - learning_rate: 8.0000e-04\n",
      "Epoch 185/1000\n",
      "\u001b[1m5/5\u001b[0m \u001b[32m━━━━━━━━━━━━━━━━━━━━\u001b[0m\u001b[37m\u001b[0m \u001b[1m0s\u001b[0m 63ms/step - loss: 0.7221 - mape: 13.3902 - r2_score: -0.2008 - val_loss: 0.4890 - val_mape: 8.3109 - val_r2_score: 0.6550 - learning_rate: 8.0000e-04\n",
      "Epoch 186/1000\n",
      "\u001b[1m5/5\u001b[0m \u001b[32m━━━━━━━━━━━━━━━━━━━━\u001b[0m\u001b[37m\u001b[0m \u001b[1m0s\u001b[0m 64ms/step - loss: 0.6876 - mape: 12.4905 - r2_score: 0.0374 - val_loss: 0.4793 - val_mape: 8.1678 - val_r2_score: 0.6458 - learning_rate: 8.0000e-04\n",
      "Epoch 187/1000\n",
      "\u001b[1m5/5\u001b[0m \u001b[32m━━━━━━━━━━━━━━━━━━━━\u001b[0m\u001b[37m\u001b[0m \u001b[1m0s\u001b[0m 63ms/step - loss: 0.6696 - mape: 12.0177 - r2_score: 0.0255 - val_loss: 0.4651 - val_mape: 7.6410 - val_r2_score: 0.6604 - learning_rate: 8.0000e-04\n",
      "Epoch 188/1000\n",
      "\u001b[1m5/5\u001b[0m \u001b[32m━━━━━━━━━━━━━━━━━━━━\u001b[0m\u001b[37m\u001b[0m \u001b[1m0s\u001b[0m 64ms/step - loss: 0.9107 - mape: 17.4837 - r2_score: -0.7778 - val_loss: 0.4619 - val_mape: 7.2433 - val_r2_score: 0.6503 - learning_rate: 8.0000e-04\n",
      "Epoch 189/1000\n",
      "\u001b[1m5/5\u001b[0m \u001b[32m━━━━━━━━━━━━━━━━━━━━\u001b[0m\u001b[37m\u001b[0m \u001b[1m0s\u001b[0m 65ms/step - loss: 0.8690 - mape: 17.1815 - r2_score: -0.7993 - val_loss: 0.4631 - val_mape: 7.0042 - val_r2_score: 0.5840 - learning_rate: 8.0000e-04\n",
      "Epoch 190/1000\n",
      "\u001b[1m5/5\u001b[0m \u001b[32m━━━━━━━━━━━━━━━━━━━━\u001b[0m\u001b[37m\u001b[0m \u001b[1m0s\u001b[0m 63ms/step - loss: 0.7661 - mape: 14.3193 - r2_score: -0.1609 - val_loss: 0.4612 - val_mape: 7.0496 - val_r2_score: 0.5896 - learning_rate: 8.0000e-04\n",
      "Epoch 191/1000\n",
      "\u001b[1m5/5\u001b[0m \u001b[32m━━━━━━━━━━━━━━━━━━━━\u001b[0m\u001b[37m\u001b[0m \u001b[1m0s\u001b[0m 64ms/step - loss: 0.8154 - mape: 15.7157 - r2_score: -0.4838 - val_loss: 0.4549 - val_mape: 7.3780 - val_r2_score: 0.6400 - learning_rate: 8.0000e-04\n",
      "Epoch 192/1000\n",
      "\u001b[1m5/5\u001b[0m \u001b[32m━━━━━━━━━━━━━━━━━━━━\u001b[0m\u001b[37m\u001b[0m \u001b[1m0s\u001b[0m 63ms/step - loss: 0.7555 - mape: 14.1485 - r2_score: -0.1770 - val_loss: 0.4714 - val_mape: 8.1869 - val_r2_score: 0.6152 - learning_rate: 8.0000e-04\n",
      "Epoch 193/1000\n",
      "\u001b[1m5/5\u001b[0m \u001b[32m━━━━━━━━━━━━━━━━━━━━\u001b[0m\u001b[37m\u001b[0m \u001b[1m0s\u001b[0m 63ms/step - loss: 0.7526 - mape: 14.0554 - r2_score: -0.1146 - val_loss: 0.4871 - val_mape: 8.6565 - val_r2_score: 0.5813 - learning_rate: 8.0000e-04\n",
      "Epoch 194/1000\n",
      "\u001b[1m5/5\u001b[0m \u001b[32m━━━━━━━━━━━━━━━━━━━━\u001b[0m\u001b[37m\u001b[0m \u001b[1m0s\u001b[0m 63ms/step - loss: 0.6960 - mape: 12.7722 - r2_score: 0.0142 - val_loss: 0.4792 - val_mape: 8.4683 - val_r2_score: 0.5955 - learning_rate: 8.0000e-04\n",
      "Epoch 195/1000\n",
      "\u001b[1m5/5\u001b[0m \u001b[32m━━━━━━━━━━━━━━━━━━━━\u001b[0m\u001b[37m\u001b[0m \u001b[1m0s\u001b[0m 63ms/step - loss: 0.9102 - mape: 17.9296 - r2_score: -0.8678 - val_loss: 0.4690 - val_mape: 8.0911 - val_r2_score: 0.6449 - learning_rate: 8.0000e-04\n",
      "Epoch 196/1000\n",
      "\u001b[1m5/5\u001b[0m \u001b[32m━━━━━━━━━━━━━━━━━━━━\u001b[0m\u001b[37m\u001b[0m \u001b[1m0s\u001b[0m 77ms/step - loss: 0.6996 - mape: 12.8299 - r2_score: 0.0203 - val_loss: 0.4662 - val_mape: 7.9383 - val_r2_score: 0.6693 - learning_rate: 8.0000e-04\n",
      "Epoch 197/1000\n",
      "\u001b[1m5/5\u001b[0m \u001b[32m━━━━━━━━━━━━━━━━━━━━\u001b[0m\u001b[37m\u001b[0m \u001b[1m0s\u001b[0m 65ms/step - loss: 0.6625 - mape: 12.1492 - r2_score: 0.0642 - val_loss: 0.4577 - val_mape: 7.7695 - val_r2_score: 0.6690 - learning_rate: 8.0000e-04\n",
      "Epoch 198/1000\n",
      "\u001b[1m5/5\u001b[0m \u001b[32m━━━━━━━━━━━━━━━━━━━━\u001b[0m\u001b[37m\u001b[0m \u001b[1m0s\u001b[0m 71ms/step - loss: 0.8243 - mape: 15.4604 - r2_score: -0.2784 - val_loss: 0.4439 - val_mape: 7.5008 - val_r2_score: 0.6429 - learning_rate: 8.0000e-04\n",
      "Epoch 199/1000\n",
      "\u001b[1m5/5\u001b[0m \u001b[32m━━━━━━━━━━━━━━━━━━━━\u001b[0m\u001b[37m\u001b[0m \u001b[1m0s\u001b[0m 72ms/step - loss: 0.6459 - mape: 11.1752 - r2_score: 0.1178 - val_loss: 0.4605 - val_mape: 7.9433 - val_r2_score: 0.6029 - learning_rate: 8.0000e-04\n",
      "Epoch 200/1000\n",
      "\u001b[1m5/5\u001b[0m \u001b[32m━━━━━━━━━━━━━━━━━━━━\u001b[0m\u001b[37m\u001b[0m \u001b[1m0s\u001b[0m 63ms/step - loss: 0.7062 - mape: 13.1040 - r2_score: 0.0092 - val_loss: 0.4697 - val_mape: 8.0205 - val_r2_score: 0.5981 - learning_rate: 8.0000e-04\n",
      "Epoch 201/1000\n",
      "\u001b[1m5/5\u001b[0m \u001b[32m━━━━━━━━━━━━━━━━━━━━\u001b[0m\u001b[37m\u001b[0m \u001b[1m0s\u001b[0m 68ms/step - loss: 0.6965 - mape: 12.5458 - r2_score: 0.0287 - val_loss: 0.4664 - val_mape: 7.8068 - val_r2_score: 0.6000 - learning_rate: 8.0000e-04\n",
      "Epoch 202/1000\n",
      "\u001b[1m5/5\u001b[0m \u001b[32m━━━━━━━━━━━━━━━━━━━━\u001b[0m\u001b[37m\u001b[0m \u001b[1m0s\u001b[0m 66ms/step - loss: 0.7481 - mape: 14.3062 - r2_score: -0.3429 - val_loss: 0.4615 - val_mape: 7.7637 - val_r2_score: 0.6138 - learning_rate: 8.0000e-04\n",
      "Epoch 203/1000\n",
      "\u001b[1m5/5\u001b[0m \u001b[32m━━━━━━━━━━━━━━━━━━━━\u001b[0m\u001b[37m\u001b[0m \u001b[1m0s\u001b[0m 70ms/step - loss: 0.7877 - mape: 14.7864 - r2_score: -0.3581 - val_loss: 0.4624 - val_mape: 7.8718 - val_r2_score: 0.6032 - learning_rate: 8.0000e-04\n",
      "Epoch 204/1000\n",
      "\u001b[1m5/5\u001b[0m \u001b[32m━━━━━━━━━━━━━━━━━━━━\u001b[0m\u001b[37m\u001b[0m \u001b[1m0s\u001b[0m 71ms/step - loss: 0.7686 - mape: 14.8977 - r2_score: -0.6014 - val_loss: 0.4761 - val_mape: 8.2829 - val_r2_score: 0.5696 - learning_rate: 8.0000e-04\n",
      "Epoch 205/1000\n",
      "\u001b[1m5/5\u001b[0m \u001b[32m━━━━━━━━━━━━━━━━━━━━\u001b[0m\u001b[37m\u001b[0m \u001b[1m0s\u001b[0m 67ms/step - loss: 0.7553 - mape: 14.2039 - r2_score: -0.5727 - val_loss: 0.5117 - val_mape: 9.2057 - val_r2_score: 0.4896 - learning_rate: 8.0000e-04\n",
      "Epoch 206/1000\n",
      "\u001b[1m5/5\u001b[0m \u001b[32m━━━━━━━━━━━━━━━━━━━━\u001b[0m\u001b[37m\u001b[0m \u001b[1m0s\u001b[0m 68ms/step - loss: 0.8721 - mape: 16.9144 - r2_score: -0.6975 - val_loss: 0.5124 - val_mape: 9.2860 - val_r2_score: 0.4884 - learning_rate: 8.0000e-04\n",
      "Epoch 207/1000\n",
      "\u001b[1m5/5\u001b[0m \u001b[32m━━━━━━━━━━━━━━━━━━━━\u001b[0m\u001b[37m\u001b[0m \u001b[1m0s\u001b[0m 68ms/step - loss: 0.7715 - mape: 14.2572 - r2_score: -0.2232 - val_loss: 0.5307 - val_mape: 9.4076 - val_r2_score: 0.4712 - learning_rate: 8.0000e-04\n",
      "Epoch 208/1000\n",
      "\u001b[1m5/5\u001b[0m \u001b[32m━━━━━━━━━━━━━━━━━━━━\u001b[0m\u001b[37m\u001b[0m \u001b[1m0s\u001b[0m 66ms/step - loss: 0.7155 - mape: 13.2942 - r2_score: -0.0148 - val_loss: 0.5407 - val_mape: 9.2574 - val_r2_score: 0.4315 - learning_rate: 8.0000e-04\n",
      "Epoch 209/1000\n",
      "\u001b[1m5/5\u001b[0m \u001b[32m━━━━━━━━━━━━━━━━━━━━\u001b[0m\u001b[37m\u001b[0m \u001b[1m0s\u001b[0m 66ms/step - loss: 0.7472 - mape: 13.9463 - r2_score: -0.2055 - val_loss: 0.5589 - val_mape: 9.3523 - val_r2_score: 0.3875 - learning_rate: 8.0000e-04\n",
      "Epoch 210/1000\n",
      "\u001b[1m5/5\u001b[0m \u001b[32m━━━━━━━━━━━━━━━━━━━━\u001b[0m\u001b[37m\u001b[0m \u001b[1m0s\u001b[0m 68ms/step - loss: 0.6729 - mape: 11.8612 - r2_score: 0.0314 - val_loss: 0.5571 - val_mape: 9.1014 - val_r2_score: 0.3870 - learning_rate: 8.0000e-04\n",
      "Epoch 211/1000\n",
      "\u001b[1m5/5\u001b[0m \u001b[32m━━━━━━━━━━━━━━━━━━━━\u001b[0m\u001b[37m\u001b[0m \u001b[1m0s\u001b[0m 74ms/step - loss: 0.7740 - mape: 14.6565 - r2_score: -0.3431 - val_loss: 0.5356 - val_mape: 8.5985 - val_r2_score: 0.4358 - learning_rate: 8.0000e-04\n",
      "Epoch 212/1000\n",
      "\u001b[1m5/5\u001b[0m \u001b[32m━━━━━━━━━━━━━━━━━━━━\u001b[0m\u001b[37m\u001b[0m \u001b[1m0s\u001b[0m 66ms/step - loss: 0.6824 - mape: 12.8066 - r2_score: 0.0834 - val_loss: 0.5054 - val_mape: 8.0313 - val_r2_score: 0.5006 - learning_rate: 8.0000e-04\n",
      "Epoch 213/1000\n",
      "\u001b[1m5/5\u001b[0m \u001b[32m━━━━━━━━━━━━━━━━━━━━\u001b[0m\u001b[37m\u001b[0m \u001b[1m0s\u001b[0m 67ms/step - loss: 0.7846 - mape: 14.6815 - r2_score: -0.3381 - val_loss: 0.4949 - val_mape: 7.8078 - val_r2_score: 0.5018 - learning_rate: 8.0000e-04\n",
      "Epoch 214/1000\n",
      "\u001b[1m5/5\u001b[0m \u001b[32m━━━━━━━━━━━━━━━━━━━━\u001b[0m\u001b[37m\u001b[0m \u001b[1m0s\u001b[0m 66ms/step - loss: 0.6850 - mape: 12.5069 - r2_score: 0.1410 - val_loss: 0.4959 - val_mape: 7.6969 - val_r2_score: 0.4686 - learning_rate: 8.0000e-04\n",
      "Epoch 215/1000\n",
      "\u001b[1m5/5\u001b[0m \u001b[32m━━━━━━━━━━━━━━━━━━━━\u001b[0m\u001b[37m\u001b[0m \u001b[1m0s\u001b[0m 67ms/step - loss: 0.7995 - mape: 15.3066 - r2_score: -0.3327 - val_loss: 0.4901 - val_mape: 7.6424 - val_r2_score: 0.5148 - learning_rate: 8.0000e-04\n",
      "Epoch 216/1000\n",
      "\u001b[1m5/5\u001b[0m \u001b[32m━━━━━━━━━━━━━━━━━━━━\u001b[0m\u001b[37m\u001b[0m \u001b[1m0s\u001b[0m 67ms/step - loss: 0.8104 - mape: 15.2038 - r2_score: -0.3206 - val_loss: 0.4929 - val_mape: 7.8590 - val_r2_score: 0.5165 - learning_rate: 8.0000e-04\n",
      "Epoch 217/1000\n",
      "\u001b[1m5/5\u001b[0m \u001b[32m━━━━━━━━━━━━━━━━━━━━\u001b[0m\u001b[37m\u001b[0m \u001b[1m0s\u001b[0m 64ms/step - loss: 0.6118 - mape: 10.5949 - r2_score: 0.2687 - val_loss: 0.5126 - val_mape: 8.5135 - val_r2_score: 0.5231 - learning_rate: 8.0000e-04\n",
      "Epoch 218/1000\n",
      "\u001b[1m5/5\u001b[0m \u001b[32m━━━━━━━━━━━━━━━━━━━━\u001b[0m\u001b[37m\u001b[0m \u001b[1m0s\u001b[0m 63ms/step - loss: 0.7557 - mape: 14.2497 - r2_score: -0.2525 - val_loss: 0.5325 - val_mape: 8.9459 - val_r2_score: 0.4869 - learning_rate: 8.0000e-04\n",
      "Epoch 219/1000\n",
      "\u001b[1m5/5\u001b[0m \u001b[32m━━━━━━━━━━━━━━━━━━━━\u001b[0m\u001b[37m\u001b[0m \u001b[1m0s\u001b[0m 73ms/step - loss: 0.6936 - mape: 12.7680 - r2_score: -0.0449 - val_loss: 0.5338 - val_mape: 8.7731 - val_r2_score: 0.4249 - learning_rate: 8.0000e-04\n",
      "Epoch 220/1000\n",
      "\u001b[1m5/5\u001b[0m \u001b[32m━━━━━━━━━━━━━━━━━━━━\u001b[0m\u001b[37m\u001b[0m \u001b[1m0s\u001b[0m 66ms/step - loss: 0.7842 - mape: 14.5519 - r2_score: -0.6289 - val_loss: 0.5229 - val_mape: 8.6318 - val_r2_score: 0.4025 - learning_rate: 8.0000e-04\n",
      "Epoch 221/1000\n",
      "\u001b[1m5/5\u001b[0m \u001b[32m━━━━━━━━━━━━━━━━━━━━\u001b[0m\u001b[37m\u001b[0m \u001b[1m0s\u001b[0m 69ms/step - loss: 0.7507 - mape: 14.1467 - r2_score: -0.2095 - val_loss: 0.5200 - val_mape: 8.8641 - val_r2_score: 0.4313 - learning_rate: 8.0000e-04\n",
      "Epoch 222/1000\n",
      "\u001b[1m5/5\u001b[0m \u001b[32m━━━━━━━━━━━━━━━━━━━━\u001b[0m\u001b[37m\u001b[0m \u001b[1m0s\u001b[0m 67ms/step - loss: 0.6729 - mape: 12.3052 - r2_score: 0.1055 - val_loss: 0.5080 - val_mape: 8.7132 - val_r2_score: 0.4363 - learning_rate: 8.0000e-04\n",
      "Epoch 223/1000\n",
      "\u001b[1m5/5\u001b[0m \u001b[32m━━━━━━━━━━━━━━━━━━━━\u001b[0m\u001b[37m\u001b[0m \u001b[1m0s\u001b[0m 67ms/step - loss: 0.7362 - mape: 13.2275 - r2_score: -0.2083 - val_loss: 0.5192 - val_mape: 9.2742 - val_r2_score: 0.4714 - learning_rate: 8.0000e-04\n",
      "Epoch 224/1000\n",
      "\u001b[1m5/5\u001b[0m \u001b[32m━━━━━━━━━━━━━━━━━━━━\u001b[0m\u001b[37m\u001b[0m \u001b[1m0s\u001b[0m 65ms/step - loss: 0.7303 - mape: 13.5252 - r2_score: -0.1802 - val_loss: 0.5358 - val_mape: 9.8119 - val_r2_score: 0.4712 - learning_rate: 8.0000e-04\n",
      "Epoch 225/1000\n",
      "\u001b[1m5/5\u001b[0m \u001b[32m━━━━━━━━━━━━━━━━━━━━\u001b[0m\u001b[37m\u001b[0m \u001b[1m0s\u001b[0m 67ms/step - loss: 0.7103 - mape: 12.9702 - r2_score: -0.0573 - val_loss: 0.5156 - val_mape: 9.4160 - val_r2_score: 0.5004 - learning_rate: 8.0000e-04\n",
      "Epoch 226/1000\n",
      "\u001b[1m5/5\u001b[0m \u001b[32m━━━━━━━━━━━━━━━━━━━━\u001b[0m\u001b[37m\u001b[0m \u001b[1m0s\u001b[0m 67ms/step - loss: 0.9062 - mape: 17.3148 - r2_score: -0.6700 - val_loss: 0.4911 - val_mape: 8.7303 - val_r2_score: 0.5626 - learning_rate: 8.0000e-04\n",
      "Epoch 227/1000\n",
      "\u001b[1m5/5\u001b[0m \u001b[32m━━━━━━━━━━━━━━━━━━━━\u001b[0m\u001b[37m\u001b[0m \u001b[1m0s\u001b[0m 72ms/step - loss: 0.6498 - mape: 11.8135 - r2_score: 0.0675 - val_loss: 0.4713 - val_mape: 7.9233 - val_r2_score: 0.6165 - learning_rate: 8.0000e-04\n",
      "Epoch 228/1000\n",
      "\u001b[1m5/5\u001b[0m \u001b[32m━━━━━━━━━━━━━━━━━━━━\u001b[0m\u001b[37m\u001b[0m \u001b[1m0s\u001b[0m 68ms/step - loss: 0.6583 - mape: 11.6797 - r2_score: 0.1804 - val_loss: 0.4640 - val_mape: 7.5331 - val_r2_score: 0.6352 - learning_rate: 8.0000e-04\n",
      "Epoch 229/1000\n",
      "\u001b[1m5/5\u001b[0m \u001b[32m━━━━━━━━━━━━━━━━━━━━\u001b[0m\u001b[37m\u001b[0m \u001b[1m0s\u001b[0m 68ms/step - loss: 0.8593 - mape: 16.8158 - r2_score: -0.7026 - val_loss: 0.4851 - val_mape: 7.8778 - val_r2_score: 0.6524 - learning_rate: 8.0000e-04\n",
      "Epoch 230/1000\n",
      "\u001b[1m5/5\u001b[0m \u001b[32m━━━━━━━━━━━━━━━━━━━━\u001b[0m\u001b[37m\u001b[0m \u001b[1m0s\u001b[0m 72ms/step - loss: 0.7150 - mape: 13.0516 - r2_score: -0.1026 - val_loss: 0.5009 - val_mape: 8.2332 - val_r2_score: 0.6365 - learning_rate: 8.0000e-04\n",
      "Epoch 231/1000\n",
      "\u001b[1m5/5\u001b[0m \u001b[32m━━━━━━━━━━━━━━━━━━━━\u001b[0m\u001b[37m\u001b[0m \u001b[1m0s\u001b[0m 65ms/step - loss: 0.7938 - mape: 15.0697 - r2_score: -0.3808 - val_loss: 0.4977 - val_mape: 8.2299 - val_r2_score: 0.6203 - learning_rate: 8.0000e-04\n",
      "Epoch 232/1000\n",
      "\u001b[1m5/5\u001b[0m \u001b[32m━━━━━━━━━━━━━━━━━━━━\u001b[0m\u001b[37m\u001b[0m \u001b[1m0s\u001b[0m 64ms/step - loss: 0.5831 - mape: 10.6857 - r2_score: 0.2464 - val_loss: 0.4874 - val_mape: 7.9482 - val_r2_score: 0.5987 - learning_rate: 8.0000e-04\n",
      "Epoch 233/1000\n",
      "\u001b[1m5/5\u001b[0m \u001b[32m━━━━━━━━━━━━━━━━━━━━\u001b[0m\u001b[37m\u001b[0m \u001b[1m0s\u001b[0m 67ms/step - loss: 0.7981 - mape: 15.0400 - r2_score: -0.3532 - val_loss: 0.4982 - val_mape: 7.9268 - val_r2_score: 0.5461 - learning_rate: 8.0000e-04\n",
      "Epoch 234/1000\n",
      "\u001b[1m5/5\u001b[0m \u001b[32m━━━━━━━━━━━━━━━━━━━━\u001b[0m\u001b[37m\u001b[0m \u001b[1m0s\u001b[0m 69ms/step - loss: 0.7381 - mape: 13.7351 - r2_score: -0.1808 - val_loss: 0.5240 - val_mape: 8.2956 - val_r2_score: 0.4795 - learning_rate: 8.0000e-04\n",
      "Epoch 235/1000\n",
      "\u001b[1m5/5\u001b[0m \u001b[32m━━━━━━━━━━━━━━━━━━━━\u001b[0m\u001b[37m\u001b[0m \u001b[1m0s\u001b[0m 71ms/step - loss: 0.7093 - mape: 13.3598 - r2_score: -0.2134 - val_loss: 0.5008 - val_mape: 7.7466 - val_r2_score: 0.5237 - learning_rate: 8.0000e-04\n",
      "Epoch 236/1000\n",
      "\u001b[1m5/5\u001b[0m \u001b[32m━━━━━━━━━━━━━━━━━━━━\u001b[0m\u001b[37m\u001b[0m \u001b[1m0s\u001b[0m 73ms/step - loss: 0.7379 - mape: 13.7073 - r2_score: -0.1326 - val_loss: 0.4886 - val_mape: 7.4129 - val_r2_score: 0.5372 - learning_rate: 8.0000e-04\n",
      "Epoch 237/1000\n",
      "\u001b[1m5/5\u001b[0m \u001b[32m━━━━━━━━━━━━━━━━━━━━\u001b[0m\u001b[37m\u001b[0m \u001b[1m0s\u001b[0m 69ms/step - loss: 0.6949 - mape: 13.0569 - r2_score: -0.1404 - val_loss: 0.4786 - val_mape: 7.1106 - val_r2_score: 0.5464 - learning_rate: 8.0000e-04\n",
      "Epoch 238/1000\n",
      "\u001b[1m5/5\u001b[0m \u001b[32m━━━━━━━━━━━━━━━━━━━━\u001b[0m\u001b[37m\u001b[0m \u001b[1m0s\u001b[0m 65ms/step - loss: 0.7677 - mape: 14.6385 - r2_score: -0.2168 - val_loss: 0.4653 - val_mape: 6.8888 - val_r2_score: 0.5786 - learning_rate: 8.0000e-04\n",
      "Epoch 239/1000\n",
      "\u001b[1m5/5\u001b[0m \u001b[32m━━━━━━━━━━━━━━━━━━━━\u001b[0m\u001b[37m\u001b[0m \u001b[1m0s\u001b[0m 75ms/step - loss: 0.8462 - mape: 16.0729 - r2_score: -0.3040 - val_loss: 0.4813 - val_mape: 7.5210 - val_r2_score: 0.5962 - learning_rate: 8.0000e-04\n",
      "Epoch 240/1000\n",
      "\u001b[1m5/5\u001b[0m \u001b[32m━━━━━━━━━━━━━━━━━━━━\u001b[0m\u001b[37m\u001b[0m \u001b[1m0s\u001b[0m 67ms/step - loss: 0.7404 - mape: 13.6847 - r2_score: -0.0601 - val_loss: 0.4933 - val_mape: 8.2056 - val_r2_score: 0.6048 - learning_rate: 8.0000e-04\n",
      "Epoch 241/1000\n",
      "\u001b[1m5/5\u001b[0m \u001b[32m━━━━━━━━━━━━━━━━━━━━\u001b[0m\u001b[37m\u001b[0m \u001b[1m0s\u001b[0m 66ms/step - loss: 0.6968 - mape: 12.5037 - r2_score: 0.0080 - val_loss: 0.5059 - val_mape: 8.5388 - val_r2_score: 0.5844 - learning_rate: 8.0000e-04\n",
      "Epoch 242/1000\n",
      "\u001b[1m5/5\u001b[0m \u001b[32m━━━━━━━━━━━━━━━━━━━━\u001b[0m\u001b[37m\u001b[0m \u001b[1m0s\u001b[0m 73ms/step - loss: 0.7186 - mape: 13.0258 - r2_score: -0.0135 - val_loss: 0.5001 - val_mape: 8.3681 - val_r2_score: 0.5870 - learning_rate: 6.4000e-04\n",
      "Epoch 243/1000\n",
      "\u001b[1m5/5\u001b[0m \u001b[32m━━━━━━━━━━━━━━━━━━━━\u001b[0m\u001b[37m\u001b[0m \u001b[1m0s\u001b[0m 66ms/step - loss: 0.7356 - mape: 13.8273 - r2_score: -0.1584 - val_loss: 0.4893 - val_mape: 7.9502 - val_r2_score: 0.5985 - learning_rate: 6.4000e-04\n",
      "Epoch 244/1000\n",
      "\u001b[1m5/5\u001b[0m \u001b[32m━━━━━━━━━━━━━━━━━━━━\u001b[0m\u001b[37m\u001b[0m \u001b[1m0s\u001b[0m 66ms/step - loss: 0.6731 - mape: 12.0920 - r2_score: 0.0152 - val_loss: 0.5183 - val_mape: 8.3681 - val_r2_score: 0.5331 - learning_rate: 6.4000e-04\n",
      "Epoch 245/1000\n",
      "\u001b[1m5/5\u001b[0m \u001b[32m━━━━━━━━━━━━━━━━━━━━\u001b[0m\u001b[37m\u001b[0m \u001b[1m0s\u001b[0m 68ms/step - loss: 0.7325 - mape: 13.4239 - r2_score: -0.1070 - val_loss: 0.5299 - val_mape: 8.4464 - val_r2_score: 0.4733 - learning_rate: 6.4000e-04\n",
      "Epoch 246/1000\n",
      "\u001b[1m5/5\u001b[0m \u001b[32m━━━━━━━━━━━━━━━━━━━━\u001b[0m\u001b[37m\u001b[0m \u001b[1m0s\u001b[0m 65ms/step - loss: 0.6340 - mape: 11.6731 - r2_score: 0.1186 - val_loss: 0.5319 - val_mape: 8.4079 - val_r2_score: 0.4249 - learning_rate: 6.4000e-04\n",
      "Epoch 247/1000\n",
      "\u001b[1m5/5\u001b[0m \u001b[32m━━━━━━━━━━━━━━━━━━━━\u001b[0m\u001b[37m\u001b[0m \u001b[1m0s\u001b[0m 66ms/step - loss: 0.7989 - mape: 15.6941 - r2_score: -0.3928 - val_loss: 0.5131 - val_mape: 8.0393 - val_r2_score: 0.4712 - learning_rate: 6.4000e-04\n",
      "Epoch 248/1000\n",
      "\u001b[1m5/5\u001b[0m \u001b[32m━━━━━━━━━━━━━━━━━━━━\u001b[0m\u001b[37m\u001b[0m \u001b[1m0s\u001b[0m 65ms/step - loss: 0.6530 - mape: 11.7669 - r2_score: 0.0143 - val_loss: 0.5022 - val_mape: 7.8301 - val_r2_score: 0.4963 - learning_rate: 6.4000e-04\n",
      "Epoch 249/1000\n",
      "\u001b[1m5/5\u001b[0m \u001b[32m━━━━━━━━━━━━━━━━━━━━\u001b[0m\u001b[37m\u001b[0m \u001b[1m0s\u001b[0m 66ms/step - loss: 0.6835 - mape: 13.1327 - r2_score: -0.3832 - val_loss: 0.4987 - val_mape: 7.7800 - val_r2_score: 0.5235 - learning_rate: 6.4000e-04\n",
      "Epoch 250/1000\n",
      "\u001b[1m5/5\u001b[0m \u001b[32m━━━━━━━━━━━━━━━━━━━━\u001b[0m\u001b[37m\u001b[0m \u001b[1m0s\u001b[0m 65ms/step - loss: 0.6522 - mape: 12.1472 - r2_score: 0.1292 - val_loss: 0.4980 - val_mape: 7.6216 - val_r2_score: 0.4664 - learning_rate: 6.4000e-04\n",
      "Epoch 251/1000\n",
      "\u001b[1m5/5\u001b[0m \u001b[32m━━━━━━━━━━━━━━━━━━━━\u001b[0m\u001b[37m\u001b[0m \u001b[1m0s\u001b[0m 73ms/step - loss: 0.6662 - mape: 12.0300 - r2_score: 0.0880 - val_loss: 0.4995 - val_mape: 7.6164 - val_r2_score: 0.4264 - learning_rate: 6.4000e-04\n",
      "Epoch 252/1000\n",
      "\u001b[1m5/5\u001b[0m \u001b[32m━━━━━━━━━━━━━━━━━━━━\u001b[0m\u001b[37m\u001b[0m \u001b[1m0s\u001b[0m 68ms/step - loss: 0.6797 - mape: 12.7372 - r2_score: 0.0725 - val_loss: 0.4878 - val_mape: 7.4447 - val_r2_score: 0.4698 - learning_rate: 6.4000e-04\n",
      "Epoch 253/1000\n",
      "\u001b[1m5/5\u001b[0m \u001b[32m━━━━━━━━━━━━━━━━━━━━\u001b[0m\u001b[37m\u001b[0m \u001b[1m0s\u001b[0m 74ms/step - loss: 0.6551 - mape: 12.0043 - r2_score: 0.0817 - val_loss: 0.4849 - val_mape: 7.4418 - val_r2_score: 0.5129 - learning_rate: 6.4000e-04\n",
      "Epoch 254/1000\n",
      "\u001b[1m5/5\u001b[0m \u001b[32m━━━━━━━━━━━━━━━━━━━━\u001b[0m\u001b[37m\u001b[0m \u001b[1m0s\u001b[0m 71ms/step - loss: 0.6111 - mape: 10.8194 - r2_score: 0.2604 - val_loss: 0.4818 - val_mape: 7.4428 - val_r2_score: 0.5339 - learning_rate: 6.4000e-04\n",
      "Epoch 255/1000\n",
      "\u001b[1m5/5\u001b[0m \u001b[32m━━━━━━━━━━━━━━━━━━━━\u001b[0m\u001b[37m\u001b[0m \u001b[1m0s\u001b[0m 66ms/step - loss: 0.7728 - mape: 14.7645 - r2_score: -0.2874 - val_loss: 0.4719 - val_mape: 7.3610 - val_r2_score: 0.5813 - learning_rate: 6.4000e-04\n",
      "Epoch 256/1000\n",
      "\u001b[1m5/5\u001b[0m \u001b[32m━━━━━━━━━━━━━━━━━━━━\u001b[0m\u001b[37m\u001b[0m \u001b[1m0s\u001b[0m 72ms/step - loss: 0.7106 - mape: 13.3148 - r2_score: -0.1522 - val_loss: 0.4611 - val_mape: 7.3110 - val_r2_score: 0.6512 - learning_rate: 6.4000e-04\n",
      "Epoch 257/1000\n",
      "\u001b[1m5/5\u001b[0m \u001b[32m━━━━━━━━━━━━━━━━━━━━\u001b[0m\u001b[37m\u001b[0m \u001b[1m0s\u001b[0m 95ms/step - loss: 0.6836 - mape: 11.9306 - r2_score: -0.0245 - val_loss: 0.4511 - val_mape: 7.3078 - val_r2_score: 0.6918 - learning_rate: 6.4000e-04\n",
      "Epoch 258/1000\n",
      "\u001b[1m5/5\u001b[0m \u001b[32m━━━━━━━━━━━━━━━━━━━━\u001b[0m\u001b[37m\u001b[0m \u001b[1m0s\u001b[0m 70ms/step - loss: 0.7267 - mape: 13.6084 - r2_score: -0.1764 - val_loss: 0.4443 - val_mape: 7.3023 - val_r2_score: 0.6867 - learning_rate: 6.4000e-04\n",
      "Epoch 259/1000\n",
      "\u001b[1m5/5\u001b[0m \u001b[32m━━━━━━━━━━━━━━━━━━━━\u001b[0m\u001b[37m\u001b[0m \u001b[1m0s\u001b[0m 65ms/step - loss: 0.8673 - mape: 16.0964 - r2_score: -0.7243 - val_loss: 0.4473 - val_mape: 7.4838 - val_r2_score: 0.6869 - learning_rate: 6.4000e-04\n",
      "Epoch 260/1000\n",
      "\u001b[1m5/5\u001b[0m \u001b[32m━━━━━━━━━━━━━━━━━━━━\u001b[0m\u001b[37m\u001b[0m \u001b[1m0s\u001b[0m 69ms/step - loss: 0.6565 - mape: 12.1765 - r2_score: -0.0111 - val_loss: 0.4515 - val_mape: 7.6221 - val_r2_score: 0.6778 - learning_rate: 6.4000e-04\n",
      "Epoch 261/1000\n",
      "\u001b[1m5/5\u001b[0m \u001b[32m━━━━━━━━━━━━━━━━━━━━\u001b[0m\u001b[37m\u001b[0m \u001b[1m0s\u001b[0m 66ms/step - loss: 0.7205 - mape: 13.0355 - r2_score: -0.0310 - val_loss: 0.4524 - val_mape: 7.6499 - val_r2_score: 0.6824 - learning_rate: 6.4000e-04\n",
      "Epoch 262/1000\n",
      "\u001b[1m5/5\u001b[0m \u001b[32m━━━━━━━━━━━━━━━━━━━━\u001b[0m\u001b[37m\u001b[0m \u001b[1m0s\u001b[0m 66ms/step - loss: 0.6206 - mape: 10.8811 - r2_score: 0.1046 - val_loss: 0.4491 - val_mape: 7.3067 - val_r2_score: 0.6832 - learning_rate: 6.4000e-04\n",
      "Epoch 263/1000\n",
      "\u001b[1m5/5\u001b[0m \u001b[32m━━━━━━━━━━━━━━━━━━━━\u001b[0m\u001b[37m\u001b[0m \u001b[1m0s\u001b[0m 67ms/step - loss: 0.7212 - mape: 13.5288 - r2_score: -0.2676 - val_loss: 0.4498 - val_mape: 7.2590 - val_r2_score: 0.6645 - learning_rate: 6.4000e-04\n",
      "Epoch 264/1000\n",
      "\u001b[1m5/5\u001b[0m \u001b[32m━━━━━━━━━━━━━━━━━━━━\u001b[0m\u001b[37m\u001b[0m \u001b[1m0s\u001b[0m 67ms/step - loss: 0.6625 - mape: 12.0113 - r2_score: -0.0156 - val_loss: 0.4489 - val_mape: 7.2221 - val_r2_score: 0.6526 - learning_rate: 6.4000e-04\n",
      "Epoch 265/1000\n",
      "\u001b[1m5/5\u001b[0m \u001b[32m━━━━━━━━━━━━━━━━━━━━\u001b[0m\u001b[37m\u001b[0m \u001b[1m0s\u001b[0m 64ms/step - loss: 0.7480 - mape: 14.2101 - r2_score: -0.1939 - val_loss: 0.4473 - val_mape: 7.1099 - val_r2_score: 0.6189 - learning_rate: 6.4000e-04\n",
      "Epoch 266/1000\n",
      "\u001b[1m5/5\u001b[0m \u001b[32m━━━━━━━━━━━━━━━━━━━━\u001b[0m\u001b[37m\u001b[0m \u001b[1m0s\u001b[0m 72ms/step - loss: 0.7714 - mape: 14.4930 - r2_score: -0.1839 - val_loss: 0.4408 - val_mape: 7.0313 - val_r2_score: 0.6281 - learning_rate: 6.4000e-04\n",
      "Epoch 267/1000\n",
      "\u001b[1m5/5\u001b[0m \u001b[32m━━━━━━━━━━━━━━━━━━━━\u001b[0m\u001b[37m\u001b[0m \u001b[1m0s\u001b[0m 66ms/step - loss: 0.7492 - mape: 14.1952 - r2_score: -0.1252 - val_loss: 0.4499 - val_mape: 7.3400 - val_r2_score: 0.6648 - learning_rate: 6.4000e-04\n",
      "Epoch 268/1000\n",
      "\u001b[1m5/5\u001b[0m \u001b[32m━━━━━━━━━━━━━━━━━━━━\u001b[0m\u001b[37m\u001b[0m \u001b[1m0s\u001b[0m 67ms/step - loss: 0.6995 - mape: 12.9729 - r2_score: -0.2902 - val_loss: 0.4808 - val_mape: 8.1582 - val_r2_score: 0.6730 - learning_rate: 6.4000e-04\n",
      "Epoch 269/1000\n",
      "\u001b[1m5/5\u001b[0m \u001b[32m━━━━━━━━━━━━━━━━━━━━\u001b[0m\u001b[37m\u001b[0m \u001b[1m0s\u001b[0m 69ms/step - loss: 0.6535 - mape: 11.9413 - r2_score: 0.1057 - val_loss: 0.4894 - val_mape: 8.3989 - val_r2_score: 0.6734 - learning_rate: 6.4000e-04\n",
      "Epoch 270/1000\n",
      "\u001b[1m5/5\u001b[0m \u001b[32m━━━━━━━━━━━━━━━━━━━━\u001b[0m\u001b[37m\u001b[0m \u001b[1m0s\u001b[0m 67ms/step - loss: 0.6964 - mape: 12.9439 - r2_score: 0.1163 - val_loss: 0.4893 - val_mape: 8.2682 - val_r2_score: 0.6801 - learning_rate: 6.4000e-04\n",
      "Epoch 271/1000\n",
      "\u001b[1m5/5\u001b[0m \u001b[32m━━━━━━━━━━━━━━━━━━━━\u001b[0m\u001b[37m\u001b[0m \u001b[1m0s\u001b[0m 72ms/step - loss: 0.6826 - mape: 12.6661 - r2_score: 0.0400 - val_loss: 0.4801 - val_mape: 7.9584 - val_r2_score: 0.6661 - learning_rate: 6.4000e-04\n",
      "Epoch 272/1000\n",
      "\u001b[1m5/5\u001b[0m \u001b[32m━━━━━━━━━━━━━━━━━━━━\u001b[0m\u001b[37m\u001b[0m \u001b[1m0s\u001b[0m 66ms/step - loss: 0.6898 - mape: 12.6545 - r2_score: 0.0938 - val_loss: 0.4687 - val_mape: 7.6816 - val_r2_score: 0.6361 - learning_rate: 6.4000e-04\n",
      "Epoch 273/1000\n",
      "\u001b[1m5/5\u001b[0m \u001b[32m━━━━━━━━━━━━━━━━━━━━\u001b[0m\u001b[37m\u001b[0m \u001b[1m0s\u001b[0m 68ms/step - loss: 0.6805 - mape: 12.5696 - r2_score: 0.0231 - val_loss: 0.4592 - val_mape: 7.4027 - val_r2_score: 0.5850 - learning_rate: 6.4000e-04\n",
      "Epoch 274/1000\n",
      "\u001b[1m5/5\u001b[0m \u001b[32m━━━━━━━━━━━━━━━━━━━━\u001b[0m\u001b[37m\u001b[0m \u001b[1m0s\u001b[0m 70ms/step - loss: 0.7223 - mape: 13.1645 - r2_score: -0.1086 - val_loss: 0.4879 - val_mape: 8.0316 - val_r2_score: 0.5231 - learning_rate: 6.4000e-04\n",
      "Epoch 275/1000\n",
      "\u001b[1m5/5\u001b[0m \u001b[32m━━━━━━━━━━━━━━━━━━━━\u001b[0m\u001b[37m\u001b[0m \u001b[1m0s\u001b[0m 68ms/step - loss: 0.6321 - mape: 11.2313 - r2_score: 0.2654 - val_loss: 0.4867 - val_mape: 8.0828 - val_r2_score: 0.5302 - learning_rate: 6.4000e-04\n",
      "Epoch 276/1000\n",
      "\u001b[1m5/5\u001b[0m \u001b[32m━━━━━━━━━━━━━━━━━━━━\u001b[0m\u001b[37m\u001b[0m \u001b[1m0s\u001b[0m 68ms/step - loss: 0.6267 - mape: 11.2853 - r2_score: 0.0911 - val_loss: 0.4702 - val_mape: 7.6975 - val_r2_score: 0.5587 - learning_rate: 6.4000e-04\n",
      "Epoch 277/1000\n",
      "\u001b[1m5/5\u001b[0m \u001b[32m━━━━━━━━━━━━━━━━━━━━\u001b[0m\u001b[37m\u001b[0m \u001b[1m0s\u001b[0m 65ms/step - loss: 0.6750 - mape: 12.2161 - r2_score: -0.0152 - val_loss: 0.4522 - val_mape: 7.2598 - val_r2_score: 0.6139 - learning_rate: 6.4000e-04\n",
      "Epoch 278/1000\n",
      "\u001b[1m5/5\u001b[0m \u001b[32m━━━━━━━━━━━━━━━━━━━━\u001b[0m\u001b[37m\u001b[0m \u001b[1m0s\u001b[0m 64ms/step - loss: 0.7247 - mape: 13.2737 - r2_score: -0.0296 - val_loss: 0.4461 - val_mape: 7.0407 - val_r2_score: 0.6431 - learning_rate: 6.4000e-04\n",
      "Epoch 279/1000\n",
      "\u001b[1m5/5\u001b[0m \u001b[32m━━━━━━━━━━━━━━━━━━━━\u001b[0m\u001b[37m\u001b[0m \u001b[1m0s\u001b[0m 70ms/step - loss: 0.7036 - mape: 12.9860 - r2_score: -0.0513 - val_loss: 0.4544 - val_mape: 7.0395 - val_r2_score: 0.6524 - learning_rate: 6.4000e-04\n",
      "Epoch 280/1000\n",
      "\u001b[1m5/5\u001b[0m \u001b[32m━━━━━━━━━━━━━━━━━━━━\u001b[0m\u001b[37m\u001b[0m \u001b[1m0s\u001b[0m 70ms/step - loss: 0.6900 - mape: 12.6363 - r2_score: 0.0854 - val_loss: 0.4612 - val_mape: 7.0782 - val_r2_score: 0.6705 - learning_rate: 6.4000e-04\n",
      "Epoch 281/1000\n",
      "\u001b[1m5/5\u001b[0m \u001b[32m━━━━━━━━━━━━━━━━━━━━\u001b[0m\u001b[37m\u001b[0m \u001b[1m0s\u001b[0m 67ms/step - loss: 0.7690 - mape: 14.6121 - r2_score: -0.2945 - val_loss: 0.4680 - val_mape: 7.2679 - val_r2_score: 0.6855 - learning_rate: 6.4000e-04\n",
      "Epoch 282/1000\n",
      "\u001b[1m5/5\u001b[0m \u001b[32m━━━━━━━━━━━━━━━━━━━━\u001b[0m\u001b[37m\u001b[0m \u001b[1m1s\u001b[0m 105ms/step - loss: 0.6853 - mape: 12.1944 - r2_score: -0.0055 - val_loss: 0.4683 - val_mape: 7.4430 - val_r2_score: 0.7175 - learning_rate: 6.4000e-04\n",
      "Epoch 283/1000\n",
      "\u001b[1m5/5\u001b[0m \u001b[32m━━━━━━━━━━━━━━━━━━━━\u001b[0m\u001b[37m\u001b[0m \u001b[1m0s\u001b[0m 79ms/step - loss: 0.7561 - mape: 14.0972 - r2_score: -0.0983 - val_loss: 0.4588 - val_mape: 7.4338 - val_r2_score: 0.7362 - learning_rate: 6.4000e-04\n",
      "Epoch 284/1000\n",
      "\u001b[1m5/5\u001b[0m \u001b[32m━━━━━━━━━━━━━━━━━━━━\u001b[0m\u001b[37m\u001b[0m \u001b[1m0s\u001b[0m 85ms/step - loss: 0.6413 - mape: 11.7136 - r2_score: 0.1355 - val_loss: 0.4454 - val_mape: 7.2017 - val_r2_score: 0.7396 - learning_rate: 6.4000e-04\n",
      "Epoch 285/1000\n",
      "\u001b[1m5/5\u001b[0m \u001b[32m━━━━━━━━━━━━━━━━━━━━\u001b[0m\u001b[37m\u001b[0m \u001b[1m0s\u001b[0m 65ms/step - loss: 0.6270 - mape: 11.3641 - r2_score: 0.1283 - val_loss: 0.4326 - val_mape: 6.8925 - val_r2_score: 0.7373 - learning_rate: 6.4000e-04\n",
      "Epoch 286/1000\n",
      "\u001b[1m5/5\u001b[0m \u001b[32m━━━━━━━━━━━━━━━━━━━━\u001b[0m\u001b[37m\u001b[0m \u001b[1m0s\u001b[0m 68ms/step - loss: 0.7963 - mape: 15.0692 - r2_score: -0.5006 - val_loss: 0.4212 - val_mape: 6.7865 - val_r2_score: 0.7393 - learning_rate: 6.4000e-04\n",
      "Epoch 287/1000\n",
      "\u001b[1m5/5\u001b[0m \u001b[32m━━━━━━━━━━━━━━━━━━━━\u001b[0m\u001b[37m\u001b[0m \u001b[1m0s\u001b[0m 68ms/step - loss: 0.6412 - mape: 12.1504 - r2_score: 0.0042 - val_loss: 0.4273 - val_mape: 7.1458 - val_r2_score: 0.7174 - learning_rate: 6.4000e-04\n",
      "Epoch 288/1000\n",
      "\u001b[1m5/5\u001b[0m \u001b[32m━━━━━━━━━━━━━━━━━━━━\u001b[0m\u001b[37m\u001b[0m \u001b[1m0s\u001b[0m 64ms/step - loss: 0.8334 - mape: 16.4828 - r2_score: -0.5816 - val_loss: 0.4469 - val_mape: 7.6411 - val_r2_score: 0.6910 - learning_rate: 6.4000e-04\n",
      "Epoch 289/1000\n",
      "\u001b[1m5/5\u001b[0m \u001b[32m━━━━━━━━━━━━━━━━━━━━\u001b[0m\u001b[37m\u001b[0m \u001b[1m0s\u001b[0m 64ms/step - loss: 0.6862 - mape: 12.7866 - r2_score: -0.1059 - val_loss: 0.4265 - val_mape: 7.1488 - val_r2_score: 0.7124 - learning_rate: 6.4000e-04\n",
      "Epoch 290/1000\n",
      "\u001b[1m5/5\u001b[0m \u001b[32m━━━━━━━━━━━━━━━━━━━━\u001b[0m\u001b[37m\u001b[0m \u001b[1m0s\u001b[0m 72ms/step - loss: 0.7188 - mape: 13.2147 - r2_score: -0.0173 - val_loss: 0.4212 - val_mape: 6.8237 - val_r2_score: 0.7187 - learning_rate: 6.4000e-04\n",
      "Epoch 291/1000\n",
      "\u001b[1m5/5\u001b[0m \u001b[32m━━━━━━━━━━━━━━━━━━━━\u001b[0m\u001b[37m\u001b[0m \u001b[1m0s\u001b[0m 68ms/step - loss: 0.7584 - mape: 14.0026 - r2_score: -0.2614 - val_loss: 0.4230 - val_mape: 6.7966 - val_r2_score: 0.7128 - learning_rate: 6.4000e-04\n",
      "Epoch 292/1000\n",
      "\u001b[1m5/5\u001b[0m \u001b[32m━━━━━━━━━━━━━━━━━━━━\u001b[0m\u001b[37m\u001b[0m \u001b[1m0s\u001b[0m 72ms/step - loss: 0.5958 - mape: 10.4047 - r2_score: 0.2811 - val_loss: 0.4353 - val_mape: 7.1083 - val_r2_score: 0.7144 - learning_rate: 6.4000e-04\n",
      "Epoch 293/1000\n",
      "\u001b[1m5/5\u001b[0m \u001b[32m━━━━━━━━━━━━━━━━━━━━\u001b[0m\u001b[37m\u001b[0m \u001b[1m0s\u001b[0m 68ms/step - loss: 0.6590 - mape: 11.8832 - r2_score: 0.0747 - val_loss: 0.4485 - val_mape: 7.4296 - val_r2_score: 0.7122 - learning_rate: 6.4000e-04\n",
      "Epoch 294/1000\n",
      "\u001b[1m5/5\u001b[0m \u001b[32m━━━━━━━━━━━━━━━━━━━━\u001b[0m\u001b[37m\u001b[0m \u001b[1m0s\u001b[0m 70ms/step - loss: 0.7512 - mape: 14.2204 - r2_score: -0.3869 - val_loss: 0.4578 - val_mape: 7.6297 - val_r2_score: 0.7060 - learning_rate: 6.4000e-04\n",
      "Epoch 295/1000\n",
      "\u001b[1m5/5\u001b[0m \u001b[32m━━━━━━━━━━━━━━━━━━━━\u001b[0m\u001b[37m\u001b[0m \u001b[1m0s\u001b[0m 72ms/step - loss: 0.6453 - mape: 11.9261 - r2_score: 0.1970 - val_loss: 0.4577 - val_mape: 7.7736 - val_r2_score: 0.6897 - learning_rate: 6.4000e-04\n",
      "Epoch 296/1000\n",
      "\u001b[1m5/5\u001b[0m \u001b[32m━━━━━━━━━━━━━━━━━━━━\u001b[0m\u001b[37m\u001b[0m \u001b[1m0s\u001b[0m 66ms/step - loss: 0.7729 - mape: 14.8701 - r2_score: -0.2663 - val_loss: 0.4546 - val_mape: 7.6117 - val_r2_score: 0.6953 - learning_rate: 6.4000e-04\n",
      "Epoch 297/1000\n",
      "\u001b[1m5/5\u001b[0m \u001b[32m━━━━━━━━━━━━━━━━━━━━\u001b[0m\u001b[37m\u001b[0m \u001b[1m0s\u001b[0m 74ms/step - loss: 0.7771 - mape: 14.3842 - r2_score: -0.1792 - val_loss: 0.4487 - val_mape: 7.2839 - val_r2_score: 0.7023 - learning_rate: 6.4000e-04\n",
      "Epoch 298/1000\n",
      "\u001b[1m5/5\u001b[0m \u001b[32m━━━━━━━━━━━━━━━━━━━━\u001b[0m\u001b[37m\u001b[0m \u001b[1m0s\u001b[0m 65ms/step - loss: 0.7432 - mape: 13.9398 - r2_score: -0.2311 - val_loss: 0.4487 - val_mape: 7.1579 - val_r2_score: 0.7054 - learning_rate: 6.4000e-04\n",
      "Epoch 299/1000\n",
      "\u001b[1m5/5\u001b[0m \u001b[32m━━━━━━━━━━━━━━━━━━━━\u001b[0m\u001b[37m\u001b[0m \u001b[1m0s\u001b[0m 64ms/step - loss: 0.5945 - mape: 10.6329 - r2_score: 0.2930 - val_loss: 0.4528 - val_mape: 7.2585 - val_r2_score: 0.7116 - learning_rate: 6.4000e-04\n",
      "Epoch 300/1000\n",
      "\u001b[1m5/5\u001b[0m \u001b[32m━━━━━━━━━━━━━━━━━━━━\u001b[0m\u001b[37m\u001b[0m \u001b[1m0s\u001b[0m 69ms/step - loss: 0.7614 - mape: 14.2357 - r2_score: -0.1012 - val_loss: 0.4442 - val_mape: 7.1664 - val_r2_score: 0.6977 - learning_rate: 6.4000e-04\n",
      "Epoch 301/1000\n",
      "\u001b[1m5/5\u001b[0m \u001b[32m━━━━━━━━━━━━━━━━━━━━\u001b[0m\u001b[37m\u001b[0m \u001b[1m0s\u001b[0m 67ms/step - loss: 0.7001 - mape: 12.8025 - r2_score: -0.0222 - val_loss: 0.4478 - val_mape: 7.3440 - val_r2_score: 0.6807 - learning_rate: 6.4000e-04\n",
      "Epoch 302/1000\n",
      "\u001b[1m5/5\u001b[0m \u001b[32m━━━━━━━━━━━━━━━━━━━━\u001b[0m\u001b[37m\u001b[0m \u001b[1m0s\u001b[0m 66ms/step - loss: 0.7002 - mape: 12.9413 - r2_score: -0.0598 - val_loss: 0.4598 - val_mape: 7.6850 - val_r2_score: 0.6733 - learning_rate: 6.4000e-04\n",
      "Epoch 303/1000\n",
      "\u001b[1m5/5\u001b[0m \u001b[32m━━━━━━━━━━━━━━━━━━━━\u001b[0m\u001b[37m\u001b[0m \u001b[1m0s\u001b[0m 66ms/step - loss: 0.6400 - mape: 11.6440 - r2_score: 0.1293 - val_loss: 0.4662 - val_mape: 7.7838 - val_r2_score: 0.6708 - learning_rate: 6.4000e-04\n",
      "Epoch 304/1000\n",
      "\u001b[1m5/5\u001b[0m \u001b[32m━━━━━━━━━━━━━━━━━━━━\u001b[0m\u001b[37m\u001b[0m \u001b[1m0s\u001b[0m 65ms/step - loss: 0.7695 - mape: 14.0995 - r2_score: -0.1467 - val_loss: 0.4592 - val_mape: 7.5501 - val_r2_score: 0.6802 - learning_rate: 6.4000e-04\n",
      "Epoch 305/1000\n",
      "\u001b[1m5/5\u001b[0m \u001b[32m━━━━━━━━━━━━━━━━━━━━\u001b[0m\u001b[37m\u001b[0m \u001b[1m0s\u001b[0m 66ms/step - loss: 0.5779 - mape: 10.1949 - r2_score: 0.2466 - val_loss: 0.4538 - val_mape: 7.2779 - val_r2_score: 0.6826 - learning_rate: 6.4000e-04\n",
      "Epoch 306/1000\n",
      "\u001b[1m5/5\u001b[0m \u001b[32m━━━━━━━━━━━━━━━━━━━━\u001b[0m\u001b[37m\u001b[0m \u001b[1m0s\u001b[0m 67ms/step - loss: 0.6265 - mape: 11.3641 - r2_score: -0.0109 - val_loss: 0.4376 - val_mape: 6.7851 - val_r2_score: 0.6984 - learning_rate: 6.4000e-04\n",
      "Epoch 307/1000\n",
      "\u001b[1m5/5\u001b[0m \u001b[32m━━━━━━━━━━━━━━━━━━━━\u001b[0m\u001b[37m\u001b[0m \u001b[1m0s\u001b[0m 70ms/step - loss: 0.6952 - mape: 12.4858 - r2_score: -0.0329 - val_loss: 0.4436 - val_mape: 6.9579 - val_r2_score: 0.7206 - learning_rate: 6.4000e-04\n",
      "Epoch 308/1000\n",
      "\u001b[1m5/5\u001b[0m \u001b[32m━━━━━━━━━━━━━━━━━━━━\u001b[0m\u001b[37m\u001b[0m \u001b[1m0s\u001b[0m 67ms/step - loss: 0.7468 - mape: 14.1223 - r2_score: -0.1735 - val_loss: 0.4491 - val_mape: 7.1748 - val_r2_score: 0.7364 - learning_rate: 6.4000e-04\n",
      "Epoch 309/1000\n",
      "\u001b[1m5/5\u001b[0m \u001b[32m━━━━━━━━━━━━━━━━━━━━\u001b[0m\u001b[37m\u001b[0m \u001b[1m0s\u001b[0m 81ms/step - loss: 0.6244 - mape: 11.3898 - r2_score: 0.1308 - val_loss: 0.4322 - val_mape: 6.8298 - val_r2_score: 0.7399 - learning_rate: 6.4000e-04\n",
      "Epoch 310/1000\n",
      "\u001b[1m5/5\u001b[0m \u001b[32m━━━━━━━━━━━━━━━━━━━━\u001b[0m\u001b[37m\u001b[0m \u001b[1m0s\u001b[0m 71ms/step - loss: 0.7090 - mape: 13.0277 - r2_score: 0.0188 - val_loss: 0.4343 - val_mape: 6.8012 - val_r2_score: 0.7247 - learning_rate: 6.4000e-04\n",
      "Epoch 311/1000\n",
      "\u001b[1m5/5\u001b[0m \u001b[32m━━━━━━━━━━━━━━━━━━━━\u001b[0m\u001b[37m\u001b[0m \u001b[1m0s\u001b[0m 65ms/step - loss: 0.7015 - mape: 12.8548 - r2_score: -0.0134 - val_loss: 0.4450 - val_mape: 6.9628 - val_r2_score: 0.7085 - learning_rate: 6.4000e-04\n",
      "Epoch 312/1000\n",
      "\u001b[1m5/5\u001b[0m \u001b[32m━━━━━━━━━━━━━━━━━━━━\u001b[0m\u001b[37m\u001b[0m \u001b[1m0s\u001b[0m 75ms/step - loss: 0.5986 - mape: 10.7554 - r2_score: 0.3468 - val_loss: 0.4342 - val_mape: 6.7375 - val_r2_score: 0.7205 - learning_rate: 6.4000e-04\n",
      "Epoch 313/1000\n",
      "\u001b[1m5/5\u001b[0m \u001b[32m━━━━━━━━━━━━━━━━━━━━\u001b[0m\u001b[37m\u001b[0m \u001b[1m0s\u001b[0m 67ms/step - loss: 0.6422 - mape: 11.8044 - r2_score: 0.0552 - val_loss: 0.4242 - val_mape: 6.5183 - val_r2_score: 0.7288 - learning_rate: 6.4000e-04\n",
      "Epoch 314/1000\n",
      "\u001b[1m5/5\u001b[0m \u001b[32m━━━━━━━━━━━━━━━━━━━━\u001b[0m\u001b[37m\u001b[0m \u001b[1m0s\u001b[0m 65ms/step - loss: 0.7267 - mape: 13.3339 - r2_score: -0.1504 - val_loss: 0.4255 - val_mape: 6.5551 - val_r2_score: 0.7256 - learning_rate: 6.4000e-04\n",
      "Epoch 315/1000\n",
      "\u001b[1m5/5\u001b[0m \u001b[32m━━━━━━━━━━━━━━━━━━━━\u001b[0m\u001b[37m\u001b[0m \u001b[1m0s\u001b[0m 65ms/step - loss: 0.6218 - mape: 11.3229 - r2_score: 0.2115 - val_loss: 0.4377 - val_mape: 6.8574 - val_r2_score: 0.6979 - learning_rate: 6.4000e-04\n",
      "Epoch 316/1000\n",
      "\u001b[1m5/5\u001b[0m \u001b[32m━━━━━━━━━━━━━━━━━━━━\u001b[0m\u001b[37m\u001b[0m \u001b[1m0s\u001b[0m 69ms/step - loss: 0.6178 - mape: 11.2270 - r2_score: 0.1366 - val_loss: 0.4548 - val_mape: 7.2826 - val_r2_score: 0.6734 - learning_rate: 6.4000e-04\n",
      "Epoch 317/1000\n",
      "\u001b[1m5/5\u001b[0m \u001b[32m━━━━━━━━━━━━━━━━━━━━\u001b[0m\u001b[37m\u001b[0m \u001b[1m0s\u001b[0m 65ms/step - loss: 0.5829 - mape: 10.5613 - r2_score: 0.2554 - val_loss: 0.4592 - val_mape: 7.3083 - val_r2_score: 0.6563 - learning_rate: 6.4000e-04\n",
      "Epoch 318/1000\n",
      "\u001b[1m5/5\u001b[0m \u001b[32m━━━━━━━━━━━━━━━━━━━━\u001b[0m\u001b[37m\u001b[0m \u001b[1m0s\u001b[0m 69ms/step - loss: 0.5700 - mape: 10.2317 - r2_score: 0.3060 - val_loss: 0.4628 - val_mape: 7.3908 - val_r2_score: 0.6456 - learning_rate: 6.4000e-04\n",
      "Epoch 319/1000\n",
      "\u001b[1m5/5\u001b[0m \u001b[32m━━━━━━━━━━━━━━━━━━━━\u001b[0m\u001b[37m\u001b[0m \u001b[1m0s\u001b[0m 66ms/step - loss: 0.7277 - mape: 13.9226 - r2_score: -0.1876 - val_loss: 0.4697 - val_mape: 7.4884 - val_r2_score: 0.6167 - learning_rate: 6.4000e-04\n",
      "Epoch 320/1000\n",
      "\u001b[1m5/5\u001b[0m \u001b[32m━━━━━━━━━━━━━━━━━━━━\u001b[0m\u001b[37m\u001b[0m \u001b[1m0s\u001b[0m 73ms/step - loss: 0.6022 - mape: 10.6935 - r2_score: 0.3237 - val_loss: 0.4794 - val_mape: 7.7617 - val_r2_score: 0.5971 - learning_rate: 6.4000e-04\n",
      "Epoch 321/1000\n",
      "\u001b[1m5/5\u001b[0m \u001b[32m━━━━━━━━━━━━━━━━━━━━\u001b[0m\u001b[37m\u001b[0m \u001b[1m0s\u001b[0m 68ms/step - loss: 0.5127 - mape: 8.8557 - r2_score: 0.4262 - val_loss: 0.5083 - val_mape: 8.4013 - val_r2_score: 0.5516 - learning_rate: 6.4000e-04\n",
      "Epoch 322/1000\n",
      "\u001b[1m5/5\u001b[0m \u001b[32m━━━━━━━━━━━━━━━━━━━━\u001b[0m\u001b[37m\u001b[0m \u001b[1m0s\u001b[0m 68ms/step - loss: 0.7289 - mape: 13.7541 - r2_score: -0.1676 - val_loss: 0.5055 - val_mape: 8.2824 - val_r2_score: 0.5589 - learning_rate: 6.4000e-04\n",
      "Epoch 323/1000\n",
      "\u001b[1m5/5\u001b[0m \u001b[32m━━━━━━━━━━━━━━━━━━━━\u001b[0m\u001b[37m\u001b[0m \u001b[1m0s\u001b[0m 70ms/step - loss: 0.6227 - mape: 11.0198 - r2_score: 0.2579 - val_loss: 0.4758 - val_mape: 7.7154 - val_r2_score: 0.6285 - learning_rate: 6.4000e-04\n",
      "Epoch 324/1000\n",
      "\u001b[1m5/5\u001b[0m \u001b[32m━━━━━━━━━━━━━━━━━━━━\u001b[0m\u001b[37m\u001b[0m \u001b[1m0s\u001b[0m 66ms/step - loss: 0.5443 - mape: 9.3953 - r2_score: 0.4207 - val_loss: 0.4607 - val_mape: 7.6067 - val_r2_score: 0.6708 - learning_rate: 6.4000e-04\n",
      "Epoch 325/1000\n",
      "\u001b[1m5/5\u001b[0m \u001b[32m━━━━━━━━━━━━━━━━━━━━\u001b[0m\u001b[37m\u001b[0m \u001b[1m0s\u001b[0m 71ms/step - loss: 0.6364 - mape: 11.6134 - r2_score: 0.0772 - val_loss: 0.4752 - val_mape: 8.0298 - val_r2_score: 0.6692 - learning_rate: 6.4000e-04\n",
      "Epoch 326/1000\n",
      "\u001b[1m5/5\u001b[0m \u001b[32m━━━━━━━━━━━━━━━━━━━━\u001b[0m\u001b[37m\u001b[0m \u001b[1m0s\u001b[0m 69ms/step - loss: 0.6768 - mape: 12.7113 - r2_score: 0.0039 - val_loss: 0.4641 - val_mape: 7.7377 - val_r2_score: 0.6756 - learning_rate: 6.4000e-04\n",
      "Epoch 327/1000\n",
      "\u001b[1m5/5\u001b[0m \u001b[32m━━━━━━━━━━━━━━━━━━━━\u001b[0m\u001b[37m\u001b[0m \u001b[1m0s\u001b[0m 64ms/step - loss: 0.6611 - mape: 12.1903 - r2_score: 0.0920 - val_loss: 0.4619 - val_mape: 7.6356 - val_r2_score: 0.6845 - learning_rate: 6.4000e-04\n",
      "Epoch 328/1000\n",
      "\u001b[1m5/5\u001b[0m \u001b[32m━━━━━━━━━━━━━━━━━━━━\u001b[0m\u001b[37m\u001b[0m \u001b[1m0s\u001b[0m 64ms/step - loss: 0.6943 - mape: 12.7932 - r2_score: -0.0785 - val_loss: 0.4662 - val_mape: 7.5901 - val_r2_score: 0.6855 - learning_rate: 6.4000e-04\n",
      "Epoch 329/1000\n",
      "\u001b[1m5/5\u001b[0m \u001b[32m━━━━━━━━━━━━━━━━━━━━\u001b[0m\u001b[37m\u001b[0m \u001b[1m0s\u001b[0m 65ms/step - loss: 0.8088 - mape: 15.7074 - r2_score: -0.5081 - val_loss: 0.4575 - val_mape: 7.1738 - val_r2_score: 0.6780 - learning_rate: 6.4000e-04\n",
      "Epoch 330/1000\n",
      "\u001b[1m5/5\u001b[0m \u001b[32m━━━━━━━━━━━━━━━━━━━━\u001b[0m\u001b[37m\u001b[0m \u001b[1m0s\u001b[0m 73ms/step - loss: 0.6423 - mape: 11.4181 - r2_score: 0.1330 - val_loss: 0.4615 - val_mape: 6.9811 - val_r2_score: 0.6023 - learning_rate: 6.4000e-04\n",
      "Epoch 331/1000\n",
      "\u001b[1m5/5\u001b[0m \u001b[32m━━━━━━━━━━━━━━━━━━━━\u001b[0m\u001b[37m\u001b[0m \u001b[1m0s\u001b[0m 73ms/step - loss: 0.5919 - mape: 10.7325 - r2_score: 0.1785 - val_loss: 0.4680 - val_mape: 7.0238 - val_r2_score: 0.5511 - learning_rate: 6.4000e-04\n",
      "Epoch 332/1000\n",
      "\u001b[1m5/5\u001b[0m \u001b[32m━━━━━━━━━━━━━━━━━━━━\u001b[0m\u001b[37m\u001b[0m \u001b[1m0s\u001b[0m 70ms/step - loss: 0.5956 - mape: 10.6712 - r2_score: 0.3214 - val_loss: 0.4734 - val_mape: 7.1938 - val_r2_score: 0.5383 - learning_rate: 6.4000e-04\n",
      "Epoch 333/1000\n",
      "\u001b[1m5/5\u001b[0m \u001b[32m━━━━━━━━━━━━━━━━━━━━\u001b[0m\u001b[37m\u001b[0m \u001b[1m0s\u001b[0m 71ms/step - loss: 0.7431 - mape: 13.8448 - r2_score: -0.1105 - val_loss: 0.4545 - val_mape: 6.9137 - val_r2_score: 0.6046 - learning_rate: 6.4000e-04\n",
      "Epoch 334/1000\n",
      "\u001b[1m5/5\u001b[0m \u001b[32m━━━━━━━━━━━━━━━━━━━━\u001b[0m\u001b[37m\u001b[0m \u001b[1m0s\u001b[0m 66ms/step - loss: 0.7982 - mape: 15.0028 - r2_score: -0.4490 - val_loss: 0.4498 - val_mape: 7.0224 - val_r2_score: 0.6736 - learning_rate: 6.4000e-04\n",
      "Epoch 335/1000\n",
      "\u001b[1m5/5\u001b[0m \u001b[32m━━━━━━━━━━━━━━━━━━━━\u001b[0m\u001b[37m\u001b[0m \u001b[1m0s\u001b[0m 66ms/step - loss: 0.5903 - mape: 10.4505 - r2_score: 0.2614 - val_loss: 0.4532 - val_mape: 7.2774 - val_r2_score: 0.7036 - learning_rate: 6.4000e-04\n",
      "Epoch 336/1000\n",
      "\u001b[1m5/5\u001b[0m \u001b[32m━━━━━━━━━━━━━━━━━━━━\u001b[0m\u001b[37m\u001b[0m \u001b[1m0s\u001b[0m 68ms/step - loss: 0.6126 - mape: 11.2321 - r2_score: 0.1170 - val_loss: 0.4497 - val_mape: 7.3120 - val_r2_score: 0.7076 - learning_rate: 6.4000e-04\n",
      "Epoch 337/1000\n",
      "\u001b[1m5/5\u001b[0m \u001b[32m━━━━━━━━━━━━━━━━━━━━\u001b[0m\u001b[37m\u001b[0m \u001b[1m0s\u001b[0m 72ms/step - loss: 0.6527 - mape: 12.1126 - r2_score: 0.1134 - val_loss: 0.4517 - val_mape: 7.3313 - val_r2_score: 0.7081 - learning_rate: 6.4000e-04\n",
      "Epoch 338/1000\n",
      "\u001b[1m5/5\u001b[0m \u001b[32m━━━━━━━━━━━━━━━━━━━━\u001b[0m\u001b[37m\u001b[0m \u001b[1m0s\u001b[0m 66ms/step - loss: 0.7403 - mape: 14.0185 - r2_score: -0.0979 - val_loss: 0.4586 - val_mape: 7.3717 - val_r2_score: 0.6945 - learning_rate: 6.4000e-04\n",
      "Epoch 339/1000\n",
      "\u001b[1m5/5\u001b[0m \u001b[32m━━━━━━━━━━━━━━━━━━━━\u001b[0m\u001b[37m\u001b[0m \u001b[1m0s\u001b[0m 64ms/step - loss: 0.6795 - mape: 12.7079 - r2_score: 0.0188 - val_loss: 0.4774 - val_mape: 7.7120 - val_r2_score: 0.6662 - learning_rate: 6.4000e-04\n",
      "Epoch 340/1000\n",
      "\u001b[1m5/5\u001b[0m \u001b[32m━━━━━━━━━━━━━━━━━━━━\u001b[0m\u001b[37m\u001b[0m \u001b[1m0s\u001b[0m 65ms/step - loss: 0.5909 - mape: 10.5534 - r2_score: 0.3011 - val_loss: 0.4822 - val_mape: 7.6722 - val_r2_score: 0.6438 - learning_rate: 6.4000e-04\n",
      "Epoch 341/1000\n",
      "\u001b[1m5/5\u001b[0m \u001b[32m━━━━━━━━━━━━━━━━━━━━\u001b[0m\u001b[37m\u001b[0m \u001b[1m0s\u001b[0m 65ms/step - loss: 0.6595 - mape: 12.2943 - r2_score: -0.0839 - val_loss: 0.4526 - val_mape: 7.0203 - val_r2_score: 0.6869 - learning_rate: 6.4000e-04\n",
      "Epoch 342/1000\n",
      "\u001b[1m5/5\u001b[0m \u001b[32m━━━━━━━━━━━━━━━━━━━━\u001b[0m\u001b[37m\u001b[0m \u001b[1m0s\u001b[0m 64ms/step - loss: 0.5936 - mape: 10.9444 - r2_score: 0.1225 - val_loss: 0.4170 - val_mape: 6.2069 - val_r2_score: 0.7321 - learning_rate: 6.4000e-04\n",
      "Epoch 343/1000\n",
      "\u001b[1m5/5\u001b[0m \u001b[32m━━━━━━━━━━━━━━━━━━━━\u001b[0m\u001b[37m\u001b[0m \u001b[1m0s\u001b[0m 86ms/step - loss: 0.8124 - mape: 15.2750 - r2_score: -0.5702 - val_loss: 0.4112 - val_mape: 6.1337 - val_r2_score: 0.7616 - learning_rate: 6.4000e-04\n",
      "Epoch 344/1000\n",
      "\u001b[1m5/5\u001b[0m \u001b[32m━━━━━━━━━━━━━━━━━━━━\u001b[0m\u001b[37m\u001b[0m \u001b[1m0s\u001b[0m 80ms/step - loss: 0.6415 - mape: 11.8882 - r2_score: 0.1215 - val_loss: 0.4000 - val_mape: 6.0330 - val_r2_score: 0.7841 - learning_rate: 6.4000e-04\n",
      "Epoch 345/1000\n",
      "\u001b[1m5/5\u001b[0m \u001b[32m━━━━━━━━━━━━━━━━━━━━\u001b[0m\u001b[37m\u001b[0m \u001b[1m0s\u001b[0m 79ms/step - loss: 0.6295 - mape: 11.5567 - r2_score: 0.1787 - val_loss: 0.3989 - val_mape: 6.2650 - val_r2_score: 0.7847 - learning_rate: 6.4000e-04\n",
      "Epoch 346/1000\n",
      "\u001b[1m5/5\u001b[0m \u001b[32m━━━━━━━━━━━━━━━━━━━━\u001b[0m\u001b[37m\u001b[0m \u001b[1m0s\u001b[0m 66ms/step - loss: 0.6888 - mape: 12.9745 - r2_score: -0.1034 - val_loss: 0.3948 - val_mape: 6.2363 - val_r2_score: 0.7808 - learning_rate: 6.4000e-04\n",
      "Epoch 347/1000\n",
      "\u001b[1m5/5\u001b[0m \u001b[32m━━━━━━━━━━━━━━━━━━━━\u001b[0m\u001b[37m\u001b[0m \u001b[1m0s\u001b[0m 65ms/step - loss: 0.6211 - mape: 11.3088 - r2_score: 0.2314 - val_loss: 0.4063 - val_mape: 6.4212 - val_r2_score: 0.7770 - learning_rate: 6.4000e-04\n",
      "Epoch 348/1000\n",
      "\u001b[1m5/5\u001b[0m \u001b[32m━━━━━━━━━━━━━━━━━━━━\u001b[0m\u001b[37m\u001b[0m \u001b[1m0s\u001b[0m 66ms/step - loss: 0.6478 - mape: 11.6557 - r2_score: 0.1758 - val_loss: 0.4077 - val_mape: 6.3752 - val_r2_score: 0.7628 - learning_rate: 6.4000e-04\n",
      "Epoch 349/1000\n",
      "\u001b[1m5/5\u001b[0m \u001b[32m━━━━━━━━━━━━━━━━━━━━\u001b[0m\u001b[37m\u001b[0m \u001b[1m0s\u001b[0m 71ms/step - loss: 0.6232 - mape: 11.4747 - r2_score: 0.1370 - val_loss: 0.4115 - val_mape: 6.3996 - val_r2_score: 0.7566 - learning_rate: 6.4000e-04\n",
      "Epoch 350/1000\n",
      "\u001b[1m5/5\u001b[0m \u001b[32m━━━━━━━━━━━━━━━━━━━━\u001b[0m\u001b[37m\u001b[0m \u001b[1m0s\u001b[0m 66ms/step - loss: 0.5752 - mape: 10.4636 - r2_score: 0.1761 - val_loss: 0.4040 - val_mape: 6.1863 - val_r2_score: 0.7618 - learning_rate: 6.4000e-04\n",
      "Epoch 351/1000\n",
      "\u001b[1m5/5\u001b[0m \u001b[32m━━━━━━━━━━━━━━━━━━━━\u001b[0m\u001b[37m\u001b[0m \u001b[1m0s\u001b[0m 64ms/step - loss: 0.6162 - mape: 11.1017 - r2_score: 0.1390 - val_loss: 0.4080 - val_mape: 6.2745 - val_r2_score: 0.7751 - learning_rate: 6.4000e-04\n",
      "Epoch 352/1000\n",
      "\u001b[1m5/5\u001b[0m \u001b[32m━━━━━━━━━━━━━━━━━━━━\u001b[0m\u001b[37m\u001b[0m \u001b[1m0s\u001b[0m 65ms/step - loss: 0.7295 - mape: 13.6255 - r2_score: -0.0966 - val_loss: 0.4159 - val_mape: 6.3389 - val_r2_score: 0.7696 - learning_rate: 6.4000e-04\n",
      "Epoch 353/1000\n",
      "\u001b[1m5/5\u001b[0m \u001b[32m━━━━━━━━━━━━━━━━━━━━\u001b[0m\u001b[37m\u001b[0m \u001b[1m0s\u001b[0m 64ms/step - loss: 0.7089 - mape: 13.3722 - r2_score: -0.0771 - val_loss: 0.4143 - val_mape: 6.2586 - val_r2_score: 0.7471 - learning_rate: 6.4000e-04\n",
      "Epoch 354/1000\n",
      "\u001b[1m5/5\u001b[0m \u001b[32m━━━━━━━━━━━━━━━━━━━━\u001b[0m\u001b[37m\u001b[0m \u001b[1m0s\u001b[0m 64ms/step - loss: 0.6706 - mape: 12.2273 - r2_score: 3.5430e-04 - val_loss: 0.4168 - val_mape: 6.3762 - val_r2_score: 0.7422 - learning_rate: 6.4000e-04\n",
      "Epoch 355/1000\n",
      "\u001b[1m5/5\u001b[0m \u001b[32m━━━━━━━━━━━━━━━━━━━━\u001b[0m\u001b[37m\u001b[0m \u001b[1m0s\u001b[0m 65ms/step - loss: 0.6735 - mape: 12.3853 - r2_score: 0.1226 - val_loss: 0.4172 - val_mape: 6.4931 - val_r2_score: 0.7450 - learning_rate: 6.4000e-04\n",
      "Epoch 356/1000\n",
      "\u001b[1m5/5\u001b[0m \u001b[32m━━━━━━━━━━━━━━━━━━━━\u001b[0m\u001b[37m\u001b[0m \u001b[1m0s\u001b[0m 65ms/step - loss: 0.6031 - mape: 10.8030 - r2_score: 0.2600 - val_loss: 0.4072 - val_mape: 6.3619 - val_r2_score: 0.7494 - learning_rate: 6.4000e-04\n",
      "Epoch 357/1000\n",
      "\u001b[1m5/5\u001b[0m \u001b[32m━━━━━━━━━━━━━━━━━━━━\u001b[0m\u001b[37m\u001b[0m \u001b[1m0s\u001b[0m 64ms/step - loss: 0.8003 - mape: 15.3516 - r2_score: -0.4443 - val_loss: 0.3904 - val_mape: 6.0403 - val_r2_score: 0.7589 - learning_rate: 6.4000e-04\n",
      "Epoch 358/1000\n",
      "\u001b[1m5/5\u001b[0m \u001b[32m━━━━━━━━━━━━━━━━━━━━\u001b[0m\u001b[37m\u001b[0m \u001b[1m0s\u001b[0m 65ms/step - loss: 0.6091 - mape: 10.9720 - r2_score: 0.1586 - val_loss: 0.3942 - val_mape: 6.1510 - val_r2_score: 0.7668 - learning_rate: 6.4000e-04\n",
      "Epoch 359/1000\n",
      "\u001b[1m5/5\u001b[0m \u001b[32m━━━━━━━━━━━━━━━━━━━━\u001b[0m\u001b[37m\u001b[0m \u001b[1m0s\u001b[0m 65ms/step - loss: 0.6236 - mape: 11.1530 - r2_score: 0.1750 - val_loss: 0.3910 - val_mape: 6.1166 - val_r2_score: 0.7604 - learning_rate: 6.4000e-04\n",
      "Epoch 360/1000\n",
      "\u001b[1m5/5\u001b[0m \u001b[32m━━━━━━━━━━━━━━━━━━━━\u001b[0m\u001b[37m\u001b[0m \u001b[1m0s\u001b[0m 65ms/step - loss: 0.6874 - mape: 12.4600 - r2_score: 0.0504 - val_loss: 0.4097 - val_mape: 6.3612 - val_r2_score: 0.7426 - learning_rate: 6.4000e-04\n",
      "Epoch 361/1000\n",
      "\u001b[1m5/5\u001b[0m \u001b[32m━━━━━━━━━━━━━━━━━━━━\u001b[0m\u001b[37m\u001b[0m \u001b[1m0s\u001b[0m 66ms/step - loss: 0.7672 - mape: 14.6192 - r2_score: -0.2415 - val_loss: 0.4255 - val_mape: 6.5923 - val_r2_score: 0.7172 - learning_rate: 6.4000e-04\n",
      "Epoch 362/1000\n",
      "\u001b[1m5/5\u001b[0m \u001b[32m━━━━━━━━━━━━━━━━━━━━\u001b[0m\u001b[37m\u001b[0m \u001b[1m0s\u001b[0m 67ms/step - loss: 0.6955 - mape: 13.1366 - r2_score: -0.0766 - val_loss: 0.4181 - val_mape: 6.4620 - val_r2_score: 0.7377 - learning_rate: 5.1200e-04\n",
      "Epoch 363/1000\n",
      "\u001b[1m5/5\u001b[0m \u001b[32m━━━━━━━━━━━━━━━━━━━━\u001b[0m\u001b[37m\u001b[0m \u001b[1m0s\u001b[0m 67ms/step - loss: 0.6874 - mape: 12.7604 - r2_score: 0.0120 - val_loss: 0.4274 - val_mape: 6.7656 - val_r2_score: 0.7460 - learning_rate: 5.1200e-04\n",
      "Epoch 364/1000\n",
      "\u001b[1m5/5\u001b[0m \u001b[32m━━━━━━━━━━━━━━━━━━━━\u001b[0m\u001b[37m\u001b[0m \u001b[1m0s\u001b[0m 65ms/step - loss: 0.6404 - mape: 11.7780 - r2_score: 0.1637 - val_loss: 0.4425 - val_mape: 7.1726 - val_r2_score: 0.7475 - learning_rate: 5.1200e-04\n",
      "Epoch 365/1000\n",
      "\u001b[1m5/5\u001b[0m \u001b[32m━━━━━━━━━━━━━━━━━━━━\u001b[0m\u001b[37m\u001b[0m \u001b[1m0s\u001b[0m 65ms/step - loss: 0.6717 - mape: 12.3027 - r2_score: 0.0987 - val_loss: 0.4462 - val_mape: 7.2115 - val_r2_score: 0.7446 - learning_rate: 5.1200e-04\n",
      "Epoch 366/1000\n",
      "\u001b[1m5/5\u001b[0m \u001b[32m━━━━━━━━━━━━━━━━━━━━\u001b[0m\u001b[37m\u001b[0m \u001b[1m0s\u001b[0m 65ms/step - loss: 0.6013 - mape: 10.9667 - r2_score: 0.1889 - val_loss: 0.4447 - val_mape: 7.0717 - val_r2_score: 0.7367 - learning_rate: 5.1200e-04\n",
      "Epoch 367/1000\n",
      "\u001b[1m5/5\u001b[0m \u001b[32m━━━━━━━━━━━━━━━━━━━━\u001b[0m\u001b[37m\u001b[0m \u001b[1m0s\u001b[0m 64ms/step - loss: 0.7682 - mape: 14.2594 - r2_score: -0.3675 - val_loss: 0.4482 - val_mape: 7.1198 - val_r2_score: 0.7265 - learning_rate: 5.1200e-04\n",
      "Epoch 368/1000\n",
      "\u001b[1m5/5\u001b[0m \u001b[32m━━━━━━━━━━━━━━━━━━━━\u001b[0m\u001b[37m\u001b[0m \u001b[1m0s\u001b[0m 65ms/step - loss: 0.7060 - mape: 13.3872 - r2_score: -0.1388 - val_loss: 0.4493 - val_mape: 7.0821 - val_r2_score: 0.7235 - learning_rate: 5.1200e-04\n",
      "Epoch 369/1000\n",
      "\u001b[1m5/5\u001b[0m \u001b[32m━━━━━━━━━━━━━━━━━━━━\u001b[0m\u001b[37m\u001b[0m \u001b[1m0s\u001b[0m 65ms/step - loss: 0.6538 - mape: 12.1718 - r2_score: 0.0849 - val_loss: 0.4418 - val_mape: 6.9639 - val_r2_score: 0.7247 - learning_rate: 5.1200e-04\n",
      "Epoch 370/1000\n",
      "\u001b[1m5/5\u001b[0m \u001b[32m━━━━━━━━━━━━━━━━━━━━\u001b[0m\u001b[37m\u001b[0m \u001b[1m0s\u001b[0m 65ms/step - loss: 0.6767 - mape: 12.5316 - r2_score: 0.1552 - val_loss: 0.4256 - val_mape: 6.7205 - val_r2_score: 0.7343 - learning_rate: 5.1200e-04\n",
      "Epoch 371/1000\n",
      "\u001b[1m5/5\u001b[0m \u001b[32m━━━━━━━━━━━━━━━━━━━━\u001b[0m\u001b[37m\u001b[0m \u001b[1m0s\u001b[0m 64ms/step - loss: 0.7603 - mape: 14.6669 - r2_score: -0.2700 - val_loss: 0.4155 - val_mape: 6.6188 - val_r2_score: 0.7342 - learning_rate: 5.1200e-04\n",
      "Epoch 372/1000\n",
      "\u001b[1m5/5\u001b[0m \u001b[32m━━━━━━━━━━━━━━━━━━━━\u001b[0m\u001b[37m\u001b[0m \u001b[1m0s\u001b[0m 71ms/step - loss: 0.6366 - mape: 11.4878 - r2_score: 0.2039 - val_loss: 0.4186 - val_mape: 6.8454 - val_r2_score: 0.7315 - learning_rate: 5.1200e-04\n",
      "Epoch 373/1000\n",
      "\u001b[1m5/5\u001b[0m \u001b[32m━━━━━━━━━━━━━━━━━━━━\u001b[0m\u001b[37m\u001b[0m \u001b[1m0s\u001b[0m 73ms/step - loss: 0.6843 - mape: 12.9124 - r2_score: -0.2153 - val_loss: 0.4206 - val_mape: 6.9927 - val_r2_score: 0.7184 - learning_rate: 5.1200e-04\n",
      "Epoch 374/1000\n",
      "\u001b[1m5/5\u001b[0m \u001b[32m━━━━━━━━━━━━━━━━━━━━\u001b[0m\u001b[37m\u001b[0m \u001b[1m0s\u001b[0m 70ms/step - loss: 0.7285 - mape: 13.6844 - r2_score: -0.0916 - val_loss: 0.4141 - val_mape: 6.8222 - val_r2_score: 0.7215 - learning_rate: 5.1200e-04\n",
      "Epoch 375/1000\n",
      "\u001b[1m5/5\u001b[0m \u001b[32m━━━━━━━━━━━━━━━━━━━━\u001b[0m\u001b[37m\u001b[0m \u001b[1m0s\u001b[0m 66ms/step - loss: 0.6933 - mape: 13.3600 - r2_score: -0.0478 - val_loss: 0.4072 - val_mape: 6.5598 - val_r2_score: 0.7313 - learning_rate: 5.1200e-04\n",
      "Epoch 376/1000\n",
      "\u001b[1m5/5\u001b[0m \u001b[32m━━━━━━━━━━━━━━━━━━━━\u001b[0m\u001b[37m\u001b[0m \u001b[1m0s\u001b[0m 71ms/step - loss: 0.6391 - mape: 11.9516 - r2_score: 0.1037 - val_loss: 0.4193 - val_mape: 6.6544 - val_r2_score: 0.7297 - learning_rate: 5.1200e-04\n",
      "Epoch 377/1000\n",
      "\u001b[1m5/5\u001b[0m \u001b[32m━━━━━━━━━━━━━━━━━━━━\u001b[0m\u001b[37m\u001b[0m \u001b[1m0s\u001b[0m 65ms/step - loss: 0.6466 - mape: 11.5220 - r2_score: 0.1562 - val_loss: 0.4286 - val_mape: 6.5821 - val_r2_score: 0.6865 - learning_rate: 5.1200e-04\n",
      "Epoch 378/1000\n",
      "\u001b[1m5/5\u001b[0m \u001b[32m━━━━━━━━━━━━━━━━━━━━\u001b[0m\u001b[37m\u001b[0m \u001b[1m0s\u001b[0m 70ms/step - loss: 0.7099 - mape: 13.2308 - r2_score: -0.0600 - val_loss: 0.4504 - val_mape: 7.0142 - val_r2_score: 0.6533 - learning_rate: 5.1200e-04\n",
      "Epoch 379/1000\n",
      "\u001b[1m5/5\u001b[0m \u001b[32m━━━━━━━━━━━━━━━━━━━━\u001b[0m\u001b[37m\u001b[0m \u001b[1m0s\u001b[0m 70ms/step - loss: 0.6003 - mape: 10.7689 - r2_score: 0.2941 - val_loss: 0.4464 - val_mape: 7.0339 - val_r2_score: 0.6814 - learning_rate: 5.1200e-04\n",
      "Epoch 380/1000\n",
      "\u001b[1m5/5\u001b[0m \u001b[32m━━━━━━━━━━━━━━━━━━━━\u001b[0m\u001b[37m\u001b[0m \u001b[1m0s\u001b[0m 69ms/step - loss: 0.6190 - mape: 11.4183 - r2_score: 0.1160 - val_loss: 0.4389 - val_mape: 7.0847 - val_r2_score: 0.7165 - learning_rate: 5.1200e-04\n",
      "Epoch 381/1000\n",
      "\u001b[1m5/5\u001b[0m \u001b[32m━━━━━━━━━━━━━━━━━━━━\u001b[0m\u001b[37m\u001b[0m \u001b[1m0s\u001b[0m 66ms/step - loss: 0.6220 - mape: 11.7543 - r2_score: 0.1633 - val_loss: 0.4523 - val_mape: 7.5318 - val_r2_score: 0.7188 - learning_rate: 5.1200e-04\n",
      "Epoch 382/1000\n",
      "\u001b[1m5/5\u001b[0m \u001b[32m━━━━━━━━━━━━━━━━━━━━\u001b[0m\u001b[37m\u001b[0m \u001b[1m0s\u001b[0m 70ms/step - loss: 0.6372 - mape: 11.8432 - r2_score: 0.1047 - val_loss: 0.4611 - val_mape: 7.6761 - val_r2_score: 0.7261 - learning_rate: 5.1200e-04\n",
      "Epoch 383/1000\n",
      "\u001b[1m5/5\u001b[0m \u001b[32m━━━━━━━━━━━━━━━━━━━━\u001b[0m\u001b[37m\u001b[0m \u001b[1m1s\u001b[0m 81ms/step - loss: 0.6272 - mape: 11.1624 - r2_score: 0.0816 - val_loss: 0.4527 - val_mape: 7.3746 - val_r2_score: 0.7385 - learning_rate: 5.1200e-04\n",
      "Epoch 384/1000\n",
      "\u001b[1m5/5\u001b[0m \u001b[32m━━━━━━━━━━━━━━━━━━━━\u001b[0m\u001b[37m\u001b[0m \u001b[1m0s\u001b[0m 69ms/step - loss: 0.7073 - mape: 13.0239 - r2_score: -0.0979 - val_loss: 0.4428 - val_mape: 7.0586 - val_r2_score: 0.7409 - learning_rate: 5.1200e-04\n",
      "Epoch 385/1000\n",
      "\u001b[1m5/5\u001b[0m \u001b[32m━━━━━━━━━━━━━━━━━━━━\u001b[0m\u001b[37m\u001b[0m \u001b[1m0s\u001b[0m 71ms/step - loss: 0.6908 - mape: 12.6703 - r2_score: 0.0949 - val_loss: 0.4375 - val_mape: 6.7649 - val_r2_score: 0.7176 - learning_rate: 5.1200e-04\n",
      "Epoch 386/1000\n",
      "\u001b[1m5/5\u001b[0m \u001b[32m━━━━━━━━━━━━━━━━━━━━\u001b[0m\u001b[37m\u001b[0m \u001b[1m0s\u001b[0m 72ms/step - loss: 0.6317 - mape: 11.7323 - r2_score: 0.2235 - val_loss: 0.4342 - val_mape: 6.5984 - val_r2_score: 0.7241 - learning_rate: 5.1200e-04\n",
      "Epoch 387/1000\n",
      "\u001b[1m5/5\u001b[0m \u001b[32m━━━━━━━━━━━━━━━━━━━━\u001b[0m\u001b[37m\u001b[0m \u001b[1m0s\u001b[0m 70ms/step - loss: 0.6181 - mape: 11.0783 - r2_score: 0.2493 - val_loss: 0.4258 - val_mape: 6.4328 - val_r2_score: 0.7252 - learning_rate: 5.1200e-04\n",
      "Epoch 388/1000\n",
      "\u001b[1m5/5\u001b[0m \u001b[32m━━━━━━━━━━━━━━━━━━━━\u001b[0m\u001b[37m\u001b[0m \u001b[1m0s\u001b[0m 75ms/step - loss: 0.6381 - mape: 11.5280 - r2_score: 0.1646 - val_loss: 0.4199 - val_mape: 6.3167 - val_r2_score: 0.7272 - learning_rate: 5.1200e-04\n",
      "Epoch 389/1000\n",
      "\u001b[1m5/5\u001b[0m \u001b[32m━━━━━━━━━━━━━━━━━━━━\u001b[0m\u001b[37m\u001b[0m \u001b[1m0s\u001b[0m 69ms/step - loss: 0.7136 - mape: 13.3019 - r2_score: -0.0698 - val_loss: 0.4164 - val_mape: 6.2309 - val_r2_score: 0.7287 - learning_rate: 5.1200e-04\n",
      "Epoch 390/1000\n",
      "\u001b[1m5/5\u001b[0m \u001b[32m━━━━━━━━━━━━━━━━━━━━\u001b[0m\u001b[37m\u001b[0m \u001b[1m0s\u001b[0m 69ms/step - loss: 0.6126 - mape: 11.1841 - r2_score: 0.2385 - val_loss: 0.4150 - val_mape: 6.2285 - val_r2_score: 0.7370 - learning_rate: 5.1200e-04\n",
      "Epoch 391/1000\n",
      "\u001b[1m5/5\u001b[0m \u001b[32m━━━━━━━━━━━━━━━━━━━━\u001b[0m\u001b[37m\u001b[0m \u001b[1m0s\u001b[0m 70ms/step - loss: 0.6923 - mape: 13.2339 - r2_score: -0.1321 - val_loss: 0.4171 - val_mape: 6.2842 - val_r2_score: 0.7430 - learning_rate: 5.1200e-04\n",
      "Epoch 392/1000\n",
      "\u001b[1m5/5\u001b[0m \u001b[32m━━━━━━━━━━━━━━━━━━━━\u001b[0m\u001b[37m\u001b[0m \u001b[1m0s\u001b[0m 65ms/step - loss: 0.6907 - mape: 12.7507 - r2_score: 0.1339 - val_loss: 0.4208 - val_mape: 6.3904 - val_r2_score: 0.7612 - learning_rate: 5.1200e-04\n",
      "Epoch 393/1000\n",
      "\u001b[1m5/5\u001b[0m \u001b[32m━━━━━━━━━━━━━━━━━━━━\u001b[0m\u001b[37m\u001b[0m \u001b[1m0s\u001b[0m 68ms/step - loss: 0.6315 - mape: 11.3794 - r2_score: 0.2733 - val_loss: 0.4287 - val_mape: 6.6808 - val_r2_score: 0.7699 - learning_rate: 5.1200e-04\n",
      "Epoch 394/1000\n",
      "\u001b[1m5/5\u001b[0m \u001b[32m━━━━━━━━━━━━━━━━━━━━\u001b[0m\u001b[37m\u001b[0m \u001b[1m0s\u001b[0m 70ms/step - loss: 0.6827 - mape: 12.4837 - r2_score: 0.0102 - val_loss: 0.4387 - val_mape: 7.0139 - val_r2_score: 0.7657 - learning_rate: 5.1200e-04\n",
      "Epoch 395/1000\n",
      "\u001b[1m5/5\u001b[0m \u001b[32m━━━━━━━━━━━━━━━━━━━━\u001b[0m\u001b[37m\u001b[0m \u001b[1m0s\u001b[0m 70ms/step - loss: 0.7129 - mape: 13.2968 - r2_score: -0.1059 - val_loss: 0.4401 - val_mape: 7.1346 - val_r2_score: 0.7559 - learning_rate: 5.1200e-04\n",
      "Epoch 396/1000\n",
      "\u001b[1m5/5\u001b[0m \u001b[32m━━━━━━━━━━━━━━━━━━━━\u001b[0m\u001b[37m\u001b[0m \u001b[1m0s\u001b[0m 65ms/step - loss: 0.6796 - mape: 12.3925 - r2_score: 0.1247 - val_loss: 0.4442 - val_mape: 7.3362 - val_r2_score: 0.7414 - learning_rate: 5.1200e-04\n",
      "Epoch 397/1000\n",
      "\u001b[1m5/5\u001b[0m \u001b[32m━━━━━━━━━━━━━━━━━━━━\u001b[0m\u001b[37m\u001b[0m \u001b[1m0s\u001b[0m 70ms/step - loss: 0.6638 - mape: 11.9052 - r2_score: 0.0421 - val_loss: 0.4396 - val_mape: 7.1200 - val_r2_score: 0.7408 - learning_rate: 5.1200e-04\n",
      "Epoch 398/1000\n",
      "\u001b[1m5/5\u001b[0m \u001b[32m━━━━━━━━━━━━━━━━━━━━\u001b[0m\u001b[37m\u001b[0m \u001b[1m0s\u001b[0m 67ms/step - loss: 0.7056 - mape: 13.0170 - r2_score: -0.0970 - val_loss: 0.4321 - val_mape: 6.8900 - val_r2_score: 0.7382 - learning_rate: 5.1200e-04\n",
      "Epoch 399/1000\n",
      "\u001b[1m5/5\u001b[0m \u001b[32m━━━━━━━━━━━━━━━━━━━━\u001b[0m\u001b[37m\u001b[0m \u001b[1m0s\u001b[0m 65ms/step - loss: 0.5607 - mape: 9.6703 - r2_score: 0.3481 - val_loss: 0.4383 - val_mape: 6.9187 - val_r2_score: 0.7277 - learning_rate: 5.1200e-04\n",
      "Epoch 400/1000\n",
      "\u001b[1m5/5\u001b[0m \u001b[32m━━━━━━━━━━━━━━━━━━━━\u001b[0m\u001b[37m\u001b[0m \u001b[1m0s\u001b[0m 65ms/step - loss: 0.5761 - mape: 10.3399 - r2_score: 0.2973 - val_loss: 0.4505 - val_mape: 7.2112 - val_r2_score: 0.7248 - learning_rate: 5.1200e-04\n",
      "Epoch 401/1000\n",
      "\u001b[1m5/5\u001b[0m \u001b[32m━━━━━━━━━━━━━━━━━━━━\u001b[0m\u001b[37m\u001b[0m \u001b[1m0s\u001b[0m 67ms/step - loss: 0.6517 - mape: 12.2216 - r2_score: 0.1072 - val_loss: 0.4507 - val_mape: 7.2885 - val_r2_score: 0.7260 - learning_rate: 5.1200e-04\n",
      "Epoch 402/1000\n",
      "\u001b[1m5/5\u001b[0m \u001b[32m━━━━━━━━━━━━━━━━━━━━\u001b[0m\u001b[37m\u001b[0m \u001b[1m0s\u001b[0m 69ms/step - loss: 0.5560 - mape: 9.9200 - r2_score: 0.2557 - val_loss: 0.4395 - val_mape: 6.9970 - val_r2_score: 0.7279 - learning_rate: 5.1200e-04\n",
      "Epoch 403/1000\n",
      "\u001b[1m5/5\u001b[0m \u001b[32m━━━━━━━━━━━━━━━━━━━━\u001b[0m\u001b[37m\u001b[0m \u001b[1m0s\u001b[0m 67ms/step - loss: 0.7202 - mape: 13.6647 - r2_score: -0.1250 - val_loss: 0.4310 - val_mape: 6.8471 - val_r2_score: 0.7376 - learning_rate: 5.1200e-04\n",
      "Epoch 404/1000\n",
      "\u001b[1m5/5\u001b[0m \u001b[32m━━━━━━━━━━━━━━━━━━━━\u001b[0m\u001b[37m\u001b[0m \u001b[1m0s\u001b[0m 64ms/step - loss: 0.6261 - mape: 11.4481 - r2_score: 0.0712 - val_loss: 0.4232 - val_mape: 6.8082 - val_r2_score: 0.7435 - learning_rate: 5.1200e-04\n",
      "Epoch 405/1000\n",
      "\u001b[1m5/5\u001b[0m \u001b[32m━━━━━━━━━━━━━━━━━━━━\u001b[0m\u001b[37m\u001b[0m \u001b[1m0s\u001b[0m 64ms/step - loss: 0.6905 - mape: 12.7794 - r2_score: -0.0344 - val_loss: 0.4171 - val_mape: 6.7552 - val_r2_score: 0.7482 - learning_rate: 5.1200e-04\n",
      "Epoch 406/1000\n",
      "\u001b[1m5/5\u001b[0m \u001b[32m━━━━━━━━━━━━━━━━━━━━\u001b[0m\u001b[37m\u001b[0m \u001b[1m0s\u001b[0m 66ms/step - loss: 0.6256 - mape: 11.2196 - r2_score: 0.2601 - val_loss: 0.4164 - val_mape: 6.7418 - val_r2_score: 0.7451 - learning_rate: 5.1200e-04\n",
      "Epoch 407/1000\n",
      "\u001b[1m5/5\u001b[0m \u001b[32m━━━━━━━━━━━━━━━━━━━━\u001b[0m\u001b[37m\u001b[0m \u001b[1m0s\u001b[0m 66ms/step - loss: 0.6339 - mape: 11.4910 - r2_score: 0.1143 - val_loss: 0.4194 - val_mape: 6.8257 - val_r2_score: 0.7421 - learning_rate: 5.1200e-04\n",
      "Epoch 408/1000\n",
      "\u001b[1m5/5\u001b[0m \u001b[32m━━━━━━━━━━━━━━━━━━━━\u001b[0m\u001b[37m\u001b[0m \u001b[1m0s\u001b[0m 65ms/step - loss: 0.6010 - mape: 10.9689 - r2_score: 0.2573 - val_loss: 0.4238 - val_mape: 6.9726 - val_r2_score: 0.7381 - learning_rate: 5.1200e-04\n",
      "Epoch 409/1000\n",
      "\u001b[1m5/5\u001b[0m \u001b[32m━━━━━━━━━━━━━━━━━━━━\u001b[0m\u001b[37m\u001b[0m \u001b[1m0s\u001b[0m 69ms/step - loss: 0.6832 - mape: 12.6349 - r2_score: -6.5975e-04 - val_loss: 0.4263 - val_mape: 7.1128 - val_r2_score: 0.7301 - learning_rate: 5.1200e-04\n",
      "Epoch 410/1000\n",
      "\u001b[1m5/5\u001b[0m \u001b[32m━━━━━━━━━━━━━━━━━━━━\u001b[0m\u001b[37m\u001b[0m \u001b[1m0s\u001b[0m 67ms/step - loss: 0.6343 - mape: 11.7934 - r2_score: 0.1544 - val_loss: 0.4286 - val_mape: 7.1725 - val_r2_score: 0.7171 - learning_rate: 5.1200e-04\n",
      "Epoch 411/1000\n",
      "\u001b[1m5/5\u001b[0m \u001b[32m━━━━━━━━━━━━━━━━━━━━\u001b[0m\u001b[37m\u001b[0m \u001b[1m0s\u001b[0m 64ms/step - loss: 0.6870 - mape: 12.9664 - r2_score: -0.0279 - val_loss: 0.4310 - val_mape: 7.1744 - val_r2_score: 0.7146 - learning_rate: 5.1200e-04\n",
      "Epoch 412/1000\n",
      "\u001b[1m5/5\u001b[0m \u001b[32m━━━━━━━━━━━━━━━━━━━━\u001b[0m\u001b[37m\u001b[0m \u001b[1m0s\u001b[0m 64ms/step - loss: 0.5999 - mape: 10.7320 - r2_score: 0.1872 - val_loss: 0.4300 - val_mape: 7.0180 - val_r2_score: 0.7247 - learning_rate: 5.1200e-04\n",
      "Epoch 413/1000\n",
      "\u001b[1m5/5\u001b[0m \u001b[32m━━━━━━━━━━━━━━━━━━━━\u001b[0m\u001b[37m\u001b[0m \u001b[1m0s\u001b[0m 66ms/step - loss: 0.6499 - mape: 11.8582 - r2_score: 0.1445 - val_loss: 0.4241 - val_mape: 6.6515 - val_r2_score: 0.7246 - learning_rate: 5.1200e-04\n",
      "Epoch 414/1000\n",
      "\u001b[1m5/5\u001b[0m \u001b[32m━━━━━━━━━━━━━━━━━━━━\u001b[0m\u001b[37m\u001b[0m \u001b[1m0s\u001b[0m 64ms/step - loss: 0.5870 - mape: 10.6694 - r2_score: 0.3293 - val_loss: 0.4328 - val_mape: 6.6867 - val_r2_score: 0.7125 - learning_rate: 5.1200e-04\n",
      "Epoch 415/1000\n",
      "\u001b[1m5/5\u001b[0m \u001b[32m━━━━━━━━━━━━━━━━━━━━\u001b[0m\u001b[37m\u001b[0m \u001b[1m0s\u001b[0m 65ms/step - loss: 0.6788 - mape: 12.5691 - r2_score: 0.0395 - val_loss: 0.4453 - val_mape: 6.9959 - val_r2_score: 0.7136 - learning_rate: 5.1200e-04\n",
      "Epoch 416/1000\n",
      "\u001b[1m5/5\u001b[0m \u001b[32m━━━━━━━━━━━━━━━━━━━━\u001b[0m\u001b[37m\u001b[0m \u001b[1m0s\u001b[0m 65ms/step - loss: 0.6816 - mape: 12.8309 - r2_score: 0.0542 - val_loss: 0.4447 - val_mape: 6.9609 - val_r2_score: 0.7105 - learning_rate: 5.1200e-04\n",
      "Epoch 417/1000\n",
      "\u001b[1m5/5\u001b[0m \u001b[32m━━━━━━━━━━━━━━━━━━━━\u001b[0m\u001b[37m\u001b[0m \u001b[1m0s\u001b[0m 65ms/step - loss: 0.5579 - mape: 10.1319 - r2_score: 0.3899 - val_loss: 0.4320 - val_mape: 6.5985 - val_r2_score: 0.6949 - learning_rate: 5.1200e-04\n",
      "Epoch 418/1000\n",
      "\u001b[1m5/5\u001b[0m \u001b[32m━━━━━━━━━━━━━━━━━━━━\u001b[0m\u001b[37m\u001b[0m \u001b[1m0s\u001b[0m 65ms/step - loss: 0.6609 - mape: 12.2573 - r2_score: 0.1721 - val_loss: 0.4262 - val_mape: 6.4342 - val_r2_score: 0.6706 - learning_rate: 5.1200e-04\n",
      "Epoch 419/1000\n",
      "\u001b[1m5/5\u001b[0m \u001b[32m━━━━━━━━━━━━━━━━━━━━\u001b[0m\u001b[37m\u001b[0m \u001b[1m0s\u001b[0m 67ms/step - loss: 0.7154 - mape: 13.2289 - r2_score: -0.1238 - val_loss: 0.4429 - val_mape: 6.7792 - val_r2_score: 0.6361 - learning_rate: 5.1200e-04\n",
      "Epoch 420/1000\n",
      "\u001b[1m5/5\u001b[0m \u001b[32m━━━━━━━━━━━━━━━━━━━━\u001b[0m\u001b[37m\u001b[0m \u001b[1m0s\u001b[0m 65ms/step - loss: 0.5816 - mape: 10.3613 - r2_score: 0.3324 - val_loss: 0.4465 - val_mape: 6.9252 - val_r2_score: 0.6517 - learning_rate: 5.1200e-04\n",
      "Epoch 421/1000\n",
      "\u001b[1m5/5\u001b[0m \u001b[32m━━━━━━━━━━━━━━━━━━━━\u001b[0m\u001b[37m\u001b[0m \u001b[1m0s\u001b[0m 67ms/step - loss: 0.6942 - mape: 13.0129 - r2_score: -0.1125 - val_loss: 0.4473 - val_mape: 7.0216 - val_r2_score: 0.6556 - learning_rate: 5.1200e-04\n",
      "Epoch 422/1000\n",
      "\u001b[1m5/5\u001b[0m \u001b[32m━━━━━━━━━━━━━━━━━━━━\u001b[0m\u001b[37m\u001b[0m \u001b[1m0s\u001b[0m 65ms/step - loss: 0.6834 - mape: 12.9381 - r2_score: -0.1033 - val_loss: 0.4303 - val_mape: 6.7455 - val_r2_score: 0.6835 - learning_rate: 5.1200e-04\n",
      "Epoch 423/1000\n",
      "\u001b[1m5/5\u001b[0m \u001b[32m━━━━━━━━━━━━━━━━━━━━\u001b[0m\u001b[37m\u001b[0m \u001b[1m0s\u001b[0m 66ms/step - loss: 0.5724 - mape: 10.2210 - r2_score: 0.2934 - val_loss: 0.4287 - val_mape: 6.7335 - val_r2_score: 0.6855 - learning_rate: 5.1200e-04\n",
      "Epoch 424/1000\n",
      "\u001b[1m5/5\u001b[0m \u001b[32m━━━━━━━━━━━━━━━━━━━━\u001b[0m\u001b[37m\u001b[0m \u001b[1m0s\u001b[0m 65ms/step - loss: 0.6890 - mape: 12.8443 - r2_score: -0.0581 - val_loss: 0.4513 - val_mape: 7.1353 - val_r2_score: 0.6478 - learning_rate: 5.1200e-04\n",
      "Epoch 425/1000\n",
      "\u001b[1m5/5\u001b[0m \u001b[32m━━━━━━━━━━━━━━━━━━━━\u001b[0m\u001b[37m\u001b[0m \u001b[1m0s\u001b[0m 65ms/step - loss: 0.6389 - mape: 12.0175 - r2_score: 0.1004 - val_loss: 0.4514 - val_mape: 6.9869 - val_r2_score: 0.6352 - learning_rate: 5.1200e-04\n",
      "Epoch 426/1000\n",
      "\u001b[1m5/5\u001b[0m \u001b[32m━━━━━━━━━━━━━━━━━━━━\u001b[0m\u001b[37m\u001b[0m \u001b[1m0s\u001b[0m 69ms/step - loss: 0.6975 - mape: 12.9160 - r2_score: -0.0224 - val_loss: 0.4429 - val_mape: 6.7130 - val_r2_score: 0.6453 - learning_rate: 5.1200e-04\n",
      "Epoch 427/1000\n",
      "\u001b[1m5/5\u001b[0m \u001b[32m━━━━━━━━━━━━━━━━━━━━\u001b[0m\u001b[37m\u001b[0m \u001b[1m0s\u001b[0m 65ms/step - loss: 0.5078 - mape: 8.9727 - r2_score: 0.4582 - val_loss: 0.4301 - val_mape: 6.3369 - val_r2_score: 0.6669 - learning_rate: 5.1200e-04\n",
      "Epoch 428/1000\n",
      "\u001b[1m5/5\u001b[0m \u001b[32m━━━━━━━━━━━━━━━━━━━━\u001b[0m\u001b[37m\u001b[0m \u001b[1m0s\u001b[0m 65ms/step - loss: 0.6506 - mape: 11.9252 - r2_score: 0.1205 - val_loss: 0.4227 - val_mape: 6.1693 - val_r2_score: 0.6970 - learning_rate: 5.1200e-04\n",
      "Epoch 429/1000\n",
      "\u001b[1m5/5\u001b[0m \u001b[32m━━━━━━━━━━━━━━━━━━━━\u001b[0m\u001b[37m\u001b[0m \u001b[1m0s\u001b[0m 65ms/step - loss: 0.5859 - mape: 10.3532 - r2_score: 0.3437 - val_loss: 0.4231 - val_mape: 6.2732 - val_r2_score: 0.7265 - learning_rate: 5.1200e-04\n",
      "Epoch 430/1000\n",
      "\u001b[1m5/5\u001b[0m \u001b[32m━━━━━━━━━━━━━━━━━━━━\u001b[0m\u001b[37m\u001b[0m \u001b[1m0s\u001b[0m 65ms/step - loss: 0.5974 - mape: 10.8873 - r2_score: 0.2664 - val_loss: 0.4224 - val_mape: 6.3746 - val_r2_score: 0.7547 - learning_rate: 5.1200e-04\n",
      "Epoch 431/1000\n",
      "\u001b[1m5/5\u001b[0m \u001b[32m━━━━━━━━━━━━━━━━━━━━\u001b[0m\u001b[37m\u001b[0m \u001b[1m0s\u001b[0m 65ms/step - loss: 0.5906 - mape: 10.5102 - r2_score: 0.2139 - val_loss: 0.4154 - val_mape: 6.2582 - val_r2_score: 0.7657 - learning_rate: 5.1200e-04\n",
      "Epoch 432/1000\n",
      "\u001b[1m5/5\u001b[0m \u001b[32m━━━━━━━━━━━━━━━━━━━━\u001b[0m\u001b[37m\u001b[0m \u001b[1m0s\u001b[0m 65ms/step - loss: 0.6745 - mape: 12.6421 - r2_score: 0.0126 - val_loss: 0.4119 - val_mape: 6.1877 - val_r2_score: 0.7695 - learning_rate: 5.1200e-04\n",
      "Epoch 433/1000\n",
      "\u001b[1m5/5\u001b[0m \u001b[32m━━━━━━━━━━━━━━━━━━━━\u001b[0m\u001b[37m\u001b[0m \u001b[1m0s\u001b[0m 65ms/step - loss: 0.6810 - mape: 12.8898 - r2_score: -0.0976 - val_loss: 0.4117 - val_mape: 6.3161 - val_r2_score: 0.7820 - learning_rate: 5.1200e-04\n",
      "Epoch 434/1000\n",
      "\u001b[1m5/5\u001b[0m \u001b[32m━━━━━━━━━━━━━━━━━━━━\u001b[0m\u001b[37m\u001b[0m \u001b[1m0s\u001b[0m 64ms/step - loss: 0.5938 - mape: 10.7419 - r2_score: 0.3001 - val_loss: 0.4122 - val_mape: 6.4017 - val_r2_score: 0.7836 - learning_rate: 5.1200e-04\n",
      "Epoch 435/1000\n",
      "\u001b[1m5/5\u001b[0m \u001b[32m━━━━━━━━━━━━━━━━━━━━\u001b[0m\u001b[37m\u001b[0m \u001b[1m0s\u001b[0m 65ms/step - loss: 0.7154 - mape: 13.6217 - r2_score: -0.0732 - val_loss: 0.4176 - val_mape: 6.5932 - val_r2_score: 0.7782 - learning_rate: 5.1200e-04\n",
      "Epoch 436/1000\n",
      "\u001b[1m5/5\u001b[0m \u001b[32m━━━━━━━━━━━━━━━━━━━━\u001b[0m\u001b[37m\u001b[0m \u001b[1m0s\u001b[0m 64ms/step - loss: 0.6530 - mape: 12.1074 - r2_score: 0.2330 - val_loss: 0.4124 - val_mape: 6.5229 - val_r2_score: 0.7697 - learning_rate: 5.1200e-04\n",
      "Epoch 437/1000\n",
      "\u001b[1m5/5\u001b[0m \u001b[32m━━━━━━━━━━━━━━━━━━━━\u001b[0m\u001b[37m\u001b[0m \u001b[1m0s\u001b[0m 64ms/step - loss: 0.5330 - mape: 9.3450 - r2_score: 0.4658 - val_loss: 0.4032 - val_mape: 6.2374 - val_r2_score: 0.7589 - learning_rate: 5.1200e-04\n",
      "Epoch 438/1000\n",
      "\u001b[1m5/5\u001b[0m \u001b[32m━━━━━━━━━━━━━━━━━━━━\u001b[0m\u001b[37m\u001b[0m \u001b[1m0s\u001b[0m 64ms/step - loss: 0.6373 - mape: 11.8713 - r2_score: 0.1781 - val_loss: 0.4085 - val_mape: 6.2389 - val_r2_score: 0.7305 - learning_rate: 5.1200e-04\n",
      "Epoch 439/1000\n",
      "\u001b[1m5/5\u001b[0m \u001b[32m━━━━━━━━━━━━━━━━━━━━\u001b[0m\u001b[37m\u001b[0m \u001b[1m0s\u001b[0m 68ms/step - loss: 0.6914 - mape: 12.7756 - r2_score: 0.0639 - val_loss: 0.4179 - val_mape: 6.3842 - val_r2_score: 0.7142 - learning_rate: 5.1200e-04\n",
      "Epoch 440/1000\n",
      "\u001b[1m5/5\u001b[0m \u001b[32m━━━━━━━━━━━━━━━━━━━━\u001b[0m\u001b[37m\u001b[0m \u001b[1m0s\u001b[0m 66ms/step - loss: 0.6524 - mape: 12.1830 - r2_score: 0.0586 - val_loss: 0.4031 - val_mape: 5.9503 - val_r2_score: 0.7327 - learning_rate: 5.1200e-04\n",
      "Epoch 441/1000\n",
      "\u001b[1m5/5\u001b[0m \u001b[32m━━━━━━━━━━━━━━━━━━━━\u001b[0m\u001b[37m\u001b[0m \u001b[1m0s\u001b[0m 65ms/step - loss: 0.5947 - mape: 10.9059 - r2_score: 0.1402 - val_loss: 0.4045 - val_mape: 5.8935 - val_r2_score: 0.7360 - learning_rate: 5.1200e-04\n",
      "Epoch 442/1000\n",
      "\u001b[1m5/5\u001b[0m \u001b[32m━━━━━━━━━━━━━━━━━━━━\u001b[0m\u001b[37m\u001b[0m \u001b[1m0s\u001b[0m 66ms/step - loss: 0.6450 - mape: 11.9233 - r2_score: 0.1930 - val_loss: 0.4137 - val_mape: 6.1351 - val_r2_score: 0.7337 - learning_rate: 5.1200e-04\n",
      "Epoch 443/1000\n",
      "\u001b[1m5/5\u001b[0m \u001b[32m━━━━━━━━━━━━━━━━━━━━\u001b[0m\u001b[37m\u001b[0m \u001b[1m0s\u001b[0m 66ms/step - loss: 0.6616 - mape: 11.8468 - r2_score: 0.1493 - val_loss: 0.4139 - val_mape: 6.2332 - val_r2_score: 0.7463 - learning_rate: 5.1200e-04\n",
      "Epoch 444/1000\n",
      "\u001b[1m5/5\u001b[0m \u001b[32m━━━━━━━━━━━━━━━━━━━━\u001b[0m\u001b[37m\u001b[0m \u001b[1m0s\u001b[0m 65ms/step - loss: 0.7402 - mape: 13.9393 - r2_score: -0.1934 - val_loss: 0.3997 - val_mape: 6.0484 - val_r2_score: 0.7703 - learning_rate: 5.1200e-04\n",
      "Epoch 445/1000\n",
      "\u001b[1m5/5\u001b[0m \u001b[32m━━━━━━━━━━━━━━━━━━━━\u001b[0m\u001b[37m\u001b[0m \u001b[1m0s\u001b[0m 64ms/step - loss: 0.7742 - mape: 14.7052 - r2_score: -0.2343 - val_loss: 0.3967 - val_mape: 6.0641 - val_r2_score: 0.7790 - learning_rate: 5.1200e-04\n",
      "Epoch 446/1000\n",
      "\u001b[1m5/5\u001b[0m \u001b[32m━━━━━━━━━━━━━━━━━━━━\u001b[0m\u001b[37m\u001b[0m \u001b[1m0s\u001b[0m 80ms/step - loss: 0.7005 - mape: 13.1705 - r2_score: -0.1345 - val_loss: 0.4023 - val_mape: 6.2646 - val_r2_score: 0.7857 - learning_rate: 5.1200e-04\n",
      "Epoch 447/1000\n",
      "\u001b[1m5/5\u001b[0m \u001b[32m━━━━━━━━━━━━━━━━━━━━\u001b[0m\u001b[37m\u001b[0m \u001b[1m0s\u001b[0m 67ms/step - loss: 0.5934 - mape: 10.5204 - r2_score: 0.2830 - val_loss: 0.4090 - val_mape: 6.3035 - val_r2_score: 0.7824 - learning_rate: 5.1200e-04\n",
      "Epoch 448/1000\n",
      "\u001b[1m5/5\u001b[0m \u001b[32m━━━━━━━━━━━━━━━━━━━━\u001b[0m\u001b[37m\u001b[0m \u001b[1m0s\u001b[0m 65ms/step - loss: 0.6000 - mape: 10.8495 - r2_score: 0.3121 - val_loss: 0.4142 - val_mape: 6.3345 - val_r2_score: 0.7783 - learning_rate: 5.1200e-04\n",
      "Epoch 449/1000\n",
      "\u001b[1m5/5\u001b[0m \u001b[32m━━━━━━━━━━━━━━━━━━━━\u001b[0m\u001b[37m\u001b[0m \u001b[1m0s\u001b[0m 64ms/step - loss: 0.5791 - mape: 10.2638 - r2_score: 0.3378 - val_loss: 0.4207 - val_mape: 6.4167 - val_r2_score: 0.7615 - learning_rate: 5.1200e-04\n",
      "Epoch 450/1000\n",
      "\u001b[1m5/5\u001b[0m \u001b[32m━━━━━━━━━━━━━━━━━━━━\u001b[0m\u001b[37m\u001b[0m \u001b[1m0s\u001b[0m 65ms/step - loss: 0.6986 - mape: 12.8929 - r2_score: -0.0270 - val_loss: 0.4247 - val_mape: 6.4766 - val_r2_score: 0.7449 - learning_rate: 5.1200e-04\n",
      "Epoch 451/1000\n",
      "\u001b[1m5/5\u001b[0m \u001b[32m━━━━━━━━━━━━━━━━━━━━\u001b[0m\u001b[37m\u001b[0m \u001b[1m0s\u001b[0m 68ms/step - loss: 0.6679 - mape: 12.2995 - r2_score: 0.1843 - val_loss: 0.4259 - val_mape: 6.6060 - val_r2_score: 0.7434 - learning_rate: 5.1200e-04\n",
      "Epoch 452/1000\n",
      "\u001b[1m5/5\u001b[0m \u001b[32m━━━━━━━━━━━━━━━━━━━━\u001b[0m\u001b[37m\u001b[0m \u001b[1m0s\u001b[0m 66ms/step - loss: 0.6143 - mape: 11.5680 - r2_score: 0.1556 - val_loss: 0.4297 - val_mape: 6.8433 - val_r2_score: 0.7530 - learning_rate: 5.1200e-04\n",
      "Epoch 453/1000\n",
      "\u001b[1m5/5\u001b[0m \u001b[32m━━━━━━━━━━━━━━━━━━━━\u001b[0m\u001b[37m\u001b[0m \u001b[1m0s\u001b[0m 66ms/step - loss: 0.6439 - mape: 11.8154 - r2_score: 0.1874 - val_loss: 0.4270 - val_mape: 7.0149 - val_r2_score: 0.7528 - learning_rate: 5.1200e-04\n",
      "Epoch 454/1000\n",
      "\u001b[1m5/5\u001b[0m \u001b[32m━━━━━━━━━━━━━━━━━━━━\u001b[0m\u001b[37m\u001b[0m \u001b[1m0s\u001b[0m 65ms/step - loss: 0.6238 - mape: 11.5692 - r2_score: 0.1578 - val_loss: 0.4300 - val_mape: 7.2003 - val_r2_score: 0.7403 - learning_rate: 5.1200e-04\n",
      "Epoch 455/1000\n",
      "\u001b[1m5/5\u001b[0m \u001b[32m━━━━━━━━━━━━━━━━━━━━\u001b[0m\u001b[37m\u001b[0m \u001b[1m0s\u001b[0m 64ms/step - loss: 0.6532 - mape: 11.9868 - r2_score: 0.0549 - val_loss: 0.4246 - val_mape: 7.0138 - val_r2_score: 0.7472 - learning_rate: 5.1200e-04\n",
      "Epoch 456/1000\n",
      "\u001b[1m5/5\u001b[0m \u001b[32m━━━━━━━━━━━━━━━━━━━━\u001b[0m\u001b[37m\u001b[0m \u001b[1m0s\u001b[0m 66ms/step - loss: 0.6894 - mape: 12.5939 - r2_score: 0.1092 - val_loss: 0.4205 - val_mape: 6.7970 - val_r2_score: 0.7517 - learning_rate: 5.1200e-04\n",
      "Epoch 457/1000\n",
      "\u001b[1m5/5\u001b[0m \u001b[32m━━━━━━━━━━━━━━━━━━━━\u001b[0m\u001b[37m\u001b[0m \u001b[1m0s\u001b[0m 65ms/step - loss: 0.5630 - mape: 10.4288 - r2_score: 0.1511 - val_loss: 0.4172 - val_mape: 6.5777 - val_r2_score: 0.7483 - learning_rate: 5.1200e-04\n",
      "Epoch 458/1000\n",
      "\u001b[1m5/5\u001b[0m \u001b[32m━━━━━━━━━━━━━━━━━━━━\u001b[0m\u001b[37m\u001b[0m \u001b[1m0s\u001b[0m 64ms/step - loss: 0.6778 - mape: 12.8590 - r2_score: 0.0294 - val_loss: 0.4139 - val_mape: 6.3686 - val_r2_score: 0.7436 - learning_rate: 5.1200e-04\n",
      "Epoch 459/1000\n",
      "\u001b[1m5/5\u001b[0m \u001b[32m━━━━━━━━━━━━━━━━━━━━\u001b[0m\u001b[37m\u001b[0m \u001b[1m0s\u001b[0m 66ms/step - loss: 0.5085 - mape: 8.8845 - r2_score: 0.4689 - val_loss: 0.4078 - val_mape: 6.0430 - val_r2_score: 0.7090 - learning_rate: 5.1200e-04\n",
      "Epoch 460/1000\n",
      "\u001b[1m5/5\u001b[0m \u001b[32m━━━━━━━━━━━━━━━━━━━━\u001b[0m\u001b[37m\u001b[0m \u001b[1m0s\u001b[0m 65ms/step - loss: 0.5644 - mape: 10.2097 - r2_score: 0.4069 - val_loss: 0.4192 - val_mape: 6.1033 - val_r2_score: 0.6427 - learning_rate: 5.1200e-04\n",
      "Epoch 461/1000\n",
      "\u001b[1m5/5\u001b[0m \u001b[32m━━━━━━━━━━━━━━━━━━━━\u001b[0m\u001b[37m\u001b[0m \u001b[1m0s\u001b[0m 64ms/step - loss: 0.6183 - mape: 11.1934 - r2_score: 0.2662 - val_loss: 0.4215 - val_mape: 6.1437 - val_r2_score: 0.6463 - learning_rate: 5.1200e-04\n",
      "Epoch 462/1000\n",
      "\u001b[1m5/5\u001b[0m \u001b[32m━━━━━━━━━━━━━━━━━━━━\u001b[0m\u001b[37m\u001b[0m \u001b[1m0s\u001b[0m 64ms/step - loss: 0.6687 - mape: 12.6706 - r2_score: 0.0965 - val_loss: 0.4251 - val_mape: 6.3087 - val_r2_score: 0.6710 - learning_rate: 5.1200e-04\n",
      "Epoch 463/1000\n",
      "\u001b[1m5/5\u001b[0m \u001b[32m━━━━━━━━━━━━━━━━━━━━\u001b[0m\u001b[37m\u001b[0m \u001b[1m0s\u001b[0m 64ms/step - loss: 0.6024 - mape: 11.0698 - r2_score: 0.2937 - val_loss: 0.4303 - val_mape: 6.5173 - val_r2_score: 0.6888 - learning_rate: 5.1200e-04\n",
      "Epoch 464/1000\n",
      "\u001b[1m5/5\u001b[0m \u001b[32m━━━━━━━━━━━━━━━━━━━━\u001b[0m\u001b[37m\u001b[0m \u001b[1m0s\u001b[0m 64ms/step - loss: 0.6877 - mape: 12.6180 - r2_score: -0.0224 - val_loss: 0.4333 - val_mape: 6.6333 - val_r2_score: 0.6952 - learning_rate: 5.1200e-04\n",
      "Epoch 465/1000\n",
      "\u001b[1m5/5\u001b[0m \u001b[32m━━━━━━━━━━━━━━━━━━━━\u001b[0m\u001b[37m\u001b[0m \u001b[1m0s\u001b[0m 66ms/step - loss: 0.6060 - mape: 11.1374 - r2_score: 0.1575 - val_loss: 0.4417 - val_mape: 6.8178 - val_r2_score: 0.6833 - learning_rate: 5.1200e-04\n",
      "Epoch 466/1000\n",
      "\u001b[1m5/5\u001b[0m \u001b[32m━━━━━━━━━━━━━━━━━━━━\u001b[0m\u001b[37m\u001b[0m \u001b[1m0s\u001b[0m 65ms/step - loss: 0.6165 - mape: 11.2042 - r2_score: 0.1286 - val_loss: 0.4300 - val_mape: 6.6189 - val_r2_score: 0.7045 - learning_rate: 5.1200e-04\n",
      "Epoch 467/1000\n",
      "\u001b[1m5/5\u001b[0m \u001b[32m━━━━━━━━━━━━━━━━━━━━\u001b[0m\u001b[37m\u001b[0m \u001b[1m0s\u001b[0m 65ms/step - loss: 0.6043 - mape: 11.1909 - r2_score: 0.2613 - val_loss: 0.4037 - val_mape: 6.1142 - val_r2_score: 0.7385 - learning_rate: 5.1200e-04\n",
      "Epoch 468/1000\n",
      "\u001b[1m5/5\u001b[0m \u001b[32m━━━━━━━━━━━━━━━━━━━━\u001b[0m\u001b[37m\u001b[0m \u001b[1m0s\u001b[0m 65ms/step - loss: 0.6194 - mape: 11.4234 - r2_score: 0.2082 - val_loss: 0.3867 - val_mape: 5.6666 - val_r2_score: 0.7540 - learning_rate: 5.1200e-04\n",
      "Epoch 469/1000\n",
      "\u001b[1m5/5\u001b[0m \u001b[32m━━━━━━━━━━━━━━━━━━━━\u001b[0m\u001b[37m\u001b[0m \u001b[1m0s\u001b[0m 66ms/step - loss: 0.5601 - mape: 10.0300 - r2_score: 0.2925 - val_loss: 0.3937 - val_mape: 5.8410 - val_r2_score: 0.7648 - learning_rate: 5.1200e-04\n",
      "Epoch 470/1000\n",
      "\u001b[1m5/5\u001b[0m \u001b[32m━━━━━━━━━━━━━━━━━━━━\u001b[0m\u001b[37m\u001b[0m \u001b[1m0s\u001b[0m 64ms/step - loss: 0.6279 - mape: 11.7154 - r2_score: 0.0916 - val_loss: 0.3895 - val_mape: 5.8127 - val_r2_score: 0.7777 - learning_rate: 5.1200e-04\n",
      "Epoch 471/1000\n",
      "\u001b[1m5/5\u001b[0m \u001b[32m━━━━━━━━━━━━━━━━━━━━\u001b[0m\u001b[37m\u001b[0m \u001b[1m0s\u001b[0m 80ms/step - loss: 0.6342 - mape: 11.8004 - r2_score: 0.1275 - val_loss: 0.3843 - val_mape: 5.7870 - val_r2_score: 0.7885 - learning_rate: 5.1200e-04\n",
      "Epoch 472/1000\n",
      "\u001b[1m5/5\u001b[0m \u001b[32m━━━━━━━━━━━━━━━━━━━━\u001b[0m\u001b[37m\u001b[0m \u001b[1m0s\u001b[0m 80ms/step - loss: 0.5577 - mape: 10.1573 - r2_score: 0.3092 - val_loss: 0.3852 - val_mape: 5.8919 - val_r2_score: 0.7951 - learning_rate: 5.1200e-04\n",
      "Epoch 473/1000\n",
      "\u001b[1m5/5\u001b[0m \u001b[32m━━━━━━━━━━━━━━━━━━━━\u001b[0m\u001b[37m\u001b[0m \u001b[1m0s\u001b[0m 69ms/step - loss: 0.6167 - mape: 11.2172 - r2_score: 0.1229 - val_loss: 0.3883 - val_mape: 6.0058 - val_r2_score: 0.7932 - learning_rate: 5.1200e-04\n",
      "Epoch 474/1000\n",
      "\u001b[1m5/5\u001b[0m \u001b[32m━━━━━━━━━━━━━━━━━━━━\u001b[0m\u001b[37m\u001b[0m \u001b[1m0s\u001b[0m 66ms/step - loss: 0.5918 - mape: 11.1981 - r2_score: 0.1890 - val_loss: 0.3926 - val_mape: 6.0134 - val_r2_score: 0.7933 - learning_rate: 5.1200e-04\n",
      "Epoch 475/1000\n",
      "\u001b[1m5/5\u001b[0m \u001b[32m━━━━━━━━━━━━━━━━━━━━\u001b[0m\u001b[37m\u001b[0m \u001b[1m0s\u001b[0m 68ms/step - loss: 0.6852 - mape: 12.7170 - r2_score: 0.0932 - val_loss: 0.4034 - val_mape: 6.0566 - val_r2_score: 0.7812 - learning_rate: 5.1200e-04\n",
      "Epoch 476/1000\n",
      "\u001b[1m5/5\u001b[0m \u001b[32m━━━━━━━━━━━━━━━━━━━━\u001b[0m\u001b[37m\u001b[0m \u001b[1m0s\u001b[0m 65ms/step - loss: 0.5769 - mape: 10.5225 - r2_score: 0.2343 - val_loss: 0.4071 - val_mape: 6.1211 - val_r2_score: 0.7796 - learning_rate: 5.1200e-04\n",
      "Epoch 477/1000\n",
      "\u001b[1m5/5\u001b[0m \u001b[32m━━━━━━━━━━━━━━━━━━━━\u001b[0m\u001b[37m\u001b[0m \u001b[1m0s\u001b[0m 65ms/step - loss: 0.6106 - mape: 11.5221 - r2_score: 0.1673 - val_loss: 0.4046 - val_mape: 6.0193 - val_r2_score: 0.7718 - learning_rate: 5.1200e-04\n",
      "Epoch 478/1000\n",
      "\u001b[1m5/5\u001b[0m \u001b[32m━━━━━━━━━━━━━━━━━━━━\u001b[0m\u001b[37m\u001b[0m \u001b[1m0s\u001b[0m 65ms/step - loss: 0.6174 - mape: 11.2728 - r2_score: 0.2420 - val_loss: 0.4046 - val_mape: 5.9896 - val_r2_score: 0.7564 - learning_rate: 5.1200e-04\n",
      "Epoch 479/1000\n",
      "\u001b[1m5/5\u001b[0m \u001b[32m━━━━━━━━━━━━━━━━━━━━\u001b[0m\u001b[37m\u001b[0m \u001b[1m0s\u001b[0m 66ms/step - loss: 0.6347 - mape: 11.6806 - r2_score: 0.1936 - val_loss: 0.4139 - val_mape: 6.1164 - val_r2_score: 0.7343 - learning_rate: 5.1200e-04\n",
      "Epoch 480/1000\n",
      "\u001b[1m5/5\u001b[0m \u001b[32m━━━━━━━━━━━━━━━━━━━━\u001b[0m\u001b[37m\u001b[0m \u001b[1m0s\u001b[0m 65ms/step - loss: 0.5986 - mape: 10.7382 - r2_score: 0.2897 - val_loss: 0.4216 - val_mape: 6.3023 - val_r2_score: 0.7324 - learning_rate: 5.1200e-04\n",
      "Epoch 481/1000\n",
      "\u001b[1m5/5\u001b[0m \u001b[32m━━━━━━━━━━━━━━━━━━━━\u001b[0m\u001b[37m\u001b[0m \u001b[1m0s\u001b[0m 65ms/step - loss: 0.5790 - mape: 10.4007 - r2_score: 0.3407 - val_loss: 0.4292 - val_mape: 6.4655 - val_r2_score: 0.7163 - learning_rate: 5.1200e-04\n",
      "Epoch 482/1000\n",
      "\u001b[1m5/5\u001b[0m \u001b[32m━━━━━━━━━━━━━━━━━━━━\u001b[0m\u001b[37m\u001b[0m \u001b[1m0s\u001b[0m 66ms/step - loss: 0.6492 - mape: 11.7706 - r2_score: 0.1224 - val_loss: 0.4366 - val_mape: 6.6744 - val_r2_score: 0.7056 - learning_rate: 4.0960e-04\n",
      "Epoch 483/1000\n",
      "\u001b[1m5/5\u001b[0m \u001b[32m━━━━━━━━━━━━━━━━━━━━\u001b[0m\u001b[37m\u001b[0m \u001b[1m0s\u001b[0m 64ms/step - loss: 0.6287 - mape: 11.4269 - r2_score: 0.2573 - val_loss: 0.4292 - val_mape: 6.5421 - val_r2_score: 0.7156 - learning_rate: 4.0960e-04\n",
      "Epoch 484/1000\n",
      "\u001b[1m5/5\u001b[0m \u001b[32m━━━━━━━━━━━━━━━━━━━━\u001b[0m\u001b[37m\u001b[0m \u001b[1m0s\u001b[0m 64ms/step - loss: 0.5727 - mape: 10.3544 - r2_score: 0.3948 - val_loss: 0.4235 - val_mape: 6.3757 - val_r2_score: 0.7105 - learning_rate: 4.0960e-04\n",
      "Epoch 485/1000\n",
      "\u001b[1m5/5\u001b[0m \u001b[32m━━━━━━━━━━━━━━━━━━━━\u001b[0m\u001b[37m\u001b[0m \u001b[1m0s\u001b[0m 65ms/step - loss: 0.5509 - mape: 9.5025 - r2_score: 0.4329 - val_loss: 0.4197 - val_mape: 6.2945 - val_r2_score: 0.7129 - learning_rate: 4.0960e-04\n",
      "Epoch 486/1000\n",
      "\u001b[1m5/5\u001b[0m \u001b[32m━━━━━━━━━━━━━━━━━━━━\u001b[0m\u001b[37m\u001b[0m \u001b[1m0s\u001b[0m 65ms/step - loss: 0.6627 - mape: 12.5014 - r2_score: 0.0721 - val_loss: 0.4086 - val_mape: 6.1596 - val_r2_score: 0.7345 - learning_rate: 4.0960e-04\n",
      "Epoch 487/1000\n",
      "\u001b[1m5/5\u001b[0m \u001b[32m━━━━━━━━━━━━━━━━━━━━\u001b[0m\u001b[37m\u001b[0m \u001b[1m0s\u001b[0m 64ms/step - loss: 0.6273 - mape: 11.0871 - r2_score: 0.1114 - val_loss: 0.4074 - val_mape: 6.2918 - val_r2_score: 0.7462 - learning_rate: 4.0960e-04\n",
      "Epoch 488/1000\n",
      "\u001b[1m5/5\u001b[0m \u001b[32m━━━━━━━━━━━━━━━━━━━━\u001b[0m\u001b[37m\u001b[0m \u001b[1m0s\u001b[0m 64ms/step - loss: 0.6067 - mape: 11.5243 - r2_score: -0.0170 - val_loss: 0.4041 - val_mape: 6.2419 - val_r2_score: 0.7514 - learning_rate: 4.0960e-04\n",
      "Epoch 489/1000\n",
      "\u001b[1m5/5\u001b[0m \u001b[32m━━━━━━━━━━━━━━━━━━━━\u001b[0m\u001b[37m\u001b[0m \u001b[1m0s\u001b[0m 65ms/step - loss: 0.5823 - mape: 10.5882 - r2_score: 0.3033 - val_loss: 0.4111 - val_mape: 6.3500 - val_r2_score: 0.7413 - learning_rate: 4.0960e-04\n",
      "Epoch 490/1000\n",
      "\u001b[1m5/5\u001b[0m \u001b[32m━━━━━━━━━━━━━━━━━━━━\u001b[0m\u001b[37m\u001b[0m \u001b[1m0s\u001b[0m 65ms/step - loss: 0.6903 - mape: 12.9485 - r2_score: 8.2381e-04 - val_loss: 0.4076 - val_mape: 6.1651 - val_r2_score: 0.7398 - learning_rate: 4.0960e-04\n",
      "Epoch 491/1000\n",
      "\u001b[1m5/5\u001b[0m \u001b[32m━━━━━━━━━━━━━━━━━━━━\u001b[0m\u001b[37m\u001b[0m \u001b[1m0s\u001b[0m 64ms/step - loss: 0.6920 - mape: 13.0443 - r2_score: -0.0413 - val_loss: 0.3991 - val_mape: 5.8715 - val_r2_score: 0.7440 - learning_rate: 4.0960e-04\n",
      "Epoch 492/1000\n",
      "\u001b[1m5/5\u001b[0m \u001b[32m━━━━━━━━━━━━━━━━━━━━\u001b[0m\u001b[37m\u001b[0m \u001b[1m0s\u001b[0m 65ms/step - loss: 0.6002 - mape: 10.8584 - r2_score: 0.2846 - val_loss: 0.3972 - val_mape: 5.7820 - val_r2_score: 0.7417 - learning_rate: 4.0960e-04\n",
      "Epoch 493/1000\n",
      "\u001b[1m5/5\u001b[0m \u001b[32m━━━━━━━━━━━━━━━━━━━━\u001b[0m\u001b[37m\u001b[0m \u001b[1m0s\u001b[0m 67ms/step - loss: 0.5753 - mape: 10.3118 - r2_score: 0.4425 - val_loss: 0.3997 - val_mape: 5.8409 - val_r2_score: 0.7390 - learning_rate: 4.0960e-04\n",
      "Epoch 494/1000\n",
      "\u001b[1m5/5\u001b[0m \u001b[32m━━━━━━━━━━━━━━━━━━━━\u001b[0m\u001b[37m\u001b[0m \u001b[1m0s\u001b[0m 65ms/step - loss: 0.5849 - mape: 10.7206 - r2_score: 0.3526 - val_loss: 0.3982 - val_mape: 5.9041 - val_r2_score: 0.7448 - learning_rate: 4.0960e-04\n",
      "Epoch 495/1000\n",
      "\u001b[1m5/5\u001b[0m \u001b[32m━━━━━━━━━━━━━━━━━━━━\u001b[0m\u001b[37m\u001b[0m \u001b[1m0s\u001b[0m 64ms/step - loss: 0.6909 - mape: 13.2647 - r2_score: -0.0496 - val_loss: 0.4040 - val_mape: 6.2082 - val_r2_score: 0.7599 - learning_rate: 4.0960e-04\n",
      "Epoch 496/1000\n",
      "\u001b[1m5/5\u001b[0m \u001b[32m━━━━━━━━━━━━━━━━━━━━\u001b[0m\u001b[37m\u001b[0m \u001b[1m0s\u001b[0m 66ms/step - loss: 0.6186 - mape: 11.5282 - r2_score: 0.0990 - val_loss: 0.4030 - val_mape: 6.2866 - val_r2_score: 0.7650 - learning_rate: 4.0960e-04\n",
      "Epoch 497/1000\n",
      "\u001b[1m5/5\u001b[0m \u001b[32m━━━━━━━━━━━━━━━━━━━━\u001b[0m\u001b[37m\u001b[0m \u001b[1m0s\u001b[0m 65ms/step - loss: 0.5926 - mape: 10.7387 - r2_score: 0.2874 - val_loss: 0.4121 - val_mape: 6.5307 - val_r2_score: 0.7658 - learning_rate: 4.0960e-04\n",
      "Epoch 498/1000\n",
      "\u001b[1m5/5\u001b[0m \u001b[32m━━━━━━━━━━━━━━━━━━━━\u001b[0m\u001b[37m\u001b[0m \u001b[1m0s\u001b[0m 64ms/step - loss: 0.5482 - mape: 9.8484 - r2_score: 0.3816 - val_loss: 0.4147 - val_mape: 6.5709 - val_r2_score: 0.7696 - learning_rate: 4.0960e-04\n",
      "Epoch 499/1000\n",
      "\u001b[1m5/5\u001b[0m \u001b[32m━━━━━━━━━━━━━━━━━━━━\u001b[0m\u001b[37m\u001b[0m \u001b[1m0s\u001b[0m 64ms/step - loss: 0.5979 - mape: 10.8671 - r2_score: 0.0668 - val_loss: 0.4146 - val_mape: 6.5017 - val_r2_score: 0.7713 - learning_rate: 4.0960e-04\n",
      "Epoch 500/1000\n",
      "\u001b[1m5/5\u001b[0m \u001b[32m━━━━━━━━━━━━━━━━━━━━\u001b[0m\u001b[37m\u001b[0m \u001b[1m0s\u001b[0m 65ms/step - loss: 0.6226 - mape: 11.6483 - r2_score: 0.1715 - val_loss: 0.4198 - val_mape: 6.5708 - val_r2_score: 0.7703 - learning_rate: 4.0960e-04\n",
      "Epoch 501/1000\n",
      "\u001b[1m5/5\u001b[0m \u001b[32m━━━━━━━━━━━━━━━━━━━━\u001b[0m\u001b[37m\u001b[0m \u001b[1m0s\u001b[0m 64ms/step - loss: 0.6349 - mape: 11.6639 - r2_score: 0.1890 - val_loss: 0.4191 - val_mape: 6.4950 - val_r2_score: 0.7726 - learning_rate: 4.0960e-04\n",
      "Epoch 502/1000\n",
      "\u001b[1m5/5\u001b[0m \u001b[32m━━━━━━━━━━━━━━━━━━━━\u001b[0m\u001b[37m\u001b[0m \u001b[1m0s\u001b[0m 64ms/step - loss: 0.5362 - mape: 9.4673 - r2_score: 0.4334 - val_loss: 0.4171 - val_mape: 6.3748 - val_r2_score: 0.7669 - learning_rate: 4.0960e-04\n",
      "Epoch 503/1000\n",
      "\u001b[1m5/5\u001b[0m \u001b[32m━━━━━━━━━━━━━━━━━━━━\u001b[0m\u001b[37m\u001b[0m \u001b[1m0s\u001b[0m 64ms/step - loss: 0.6700 - mape: 12.5854 - r2_score: 0.0460 - val_loss: 0.4181 - val_mape: 6.2984 - val_r2_score: 0.7542 - learning_rate: 4.0960e-04\n",
      "Epoch 504/1000\n",
      "\u001b[1m5/5\u001b[0m \u001b[32m━━━━━━━━━━━━━━━━━━━━\u001b[0m\u001b[37m\u001b[0m \u001b[1m0s\u001b[0m 66ms/step - loss: 0.5782 - mape: 10.3295 - r2_score: 0.3404 - val_loss: 0.4130 - val_mape: 6.1617 - val_r2_score: 0.7525 - learning_rate: 4.0960e-04\n",
      "Epoch 505/1000\n",
      "\u001b[1m5/5\u001b[0m \u001b[32m━━━━━━━━━━━━━━━━━━━━\u001b[0m\u001b[37m\u001b[0m \u001b[1m0s\u001b[0m 65ms/step - loss: 0.5349 - mape: 9.5122 - r2_score: 0.4037 - val_loss: 0.4058 - val_mape: 5.9823 - val_r2_score: 0.7505 - learning_rate: 4.0960e-04\n",
      "Epoch 506/1000\n",
      "\u001b[1m5/5\u001b[0m \u001b[32m━━━━━━━━━━━━━━━━━━━━\u001b[0m\u001b[37m\u001b[0m \u001b[1m0s\u001b[0m 70ms/step - loss: 0.6824 - mape: 12.5569 - r2_score: 0.0513 - val_loss: 0.4036 - val_mape: 5.9190 - val_r2_score: 0.7418 - learning_rate: 4.0960e-04\n",
      "Epoch 507/1000\n",
      "\u001b[1m5/5\u001b[0m \u001b[32m━━━━━━━━━━━━━━━━━━━━\u001b[0m\u001b[37m\u001b[0m \u001b[1m0s\u001b[0m 66ms/step - loss: 0.6647 - mape: 12.3874 - r2_score: 0.0916 - val_loss: 0.3946 - val_mape: 5.7801 - val_r2_score: 0.7480 - learning_rate: 4.0960e-04\n",
      "Epoch 508/1000\n",
      "\u001b[1m5/5\u001b[0m \u001b[32m━━━━━━━━━━━━━━━━━━━━\u001b[0m\u001b[37m\u001b[0m \u001b[1m0s\u001b[0m 65ms/step - loss: 0.6190 - mape: 11.1689 - r2_score: 0.2361 - val_loss: 0.3878 - val_mape: 5.6929 - val_r2_score: 0.7573 - learning_rate: 4.0960e-04\n",
      "Epoch 509/1000\n",
      "\u001b[1m5/5\u001b[0m \u001b[32m━━━━━━━━━━━━━━━━━━━━\u001b[0m\u001b[37m\u001b[0m \u001b[1m0s\u001b[0m 65ms/step - loss: 0.7164 - mape: 13.4103 - r2_score: -0.0168 - val_loss: 0.3863 - val_mape: 5.7079 - val_r2_score: 0.7666 - learning_rate: 4.0960e-04\n",
      "Epoch 510/1000\n",
      "\u001b[1m5/5\u001b[0m \u001b[32m━━━━━━━━━━━━━━━━━━━━\u001b[0m\u001b[37m\u001b[0m \u001b[1m0s\u001b[0m 64ms/step - loss: 0.6071 - mape: 10.9901 - r2_score: 0.2334 - val_loss: 0.3870 - val_mape: 5.7665 - val_r2_score: 0.7734 - learning_rate: 4.0960e-04\n",
      "Epoch 511/1000\n",
      "\u001b[1m5/5\u001b[0m \u001b[32m━━━━━━━━━━━━━━━━━━━━\u001b[0m\u001b[37m\u001b[0m \u001b[1m0s\u001b[0m 64ms/step - loss: 0.5986 - mape: 10.9881 - r2_score: 0.2493 - val_loss: 0.3837 - val_mape: 5.8150 - val_r2_score: 0.7847 - learning_rate: 4.0960e-04\n",
      "Epoch 512/1000\n",
      "\u001b[1m5/5\u001b[0m \u001b[32m━━━━━━━━━━━━━━━━━━━━\u001b[0m\u001b[37m\u001b[0m \u001b[1m0s\u001b[0m 65ms/step - loss: 0.5217 - mape: 9.4239 - r2_score: 0.3104 - val_loss: 0.3815 - val_mape: 5.8549 - val_r2_score: 0.7890 - learning_rate: 4.0960e-04\n",
      "Epoch 513/1000\n",
      "\u001b[1m5/5\u001b[0m \u001b[32m━━━━━━━━━━━━━━━━━━━━\u001b[0m\u001b[37m\u001b[0m \u001b[1m0s\u001b[0m 64ms/step - loss: 0.6972 - mape: 13.1391 - r2_score: -0.1688 - val_loss: 0.3878 - val_mape: 6.0958 - val_r2_score: 0.7890 - learning_rate: 4.0960e-04\n",
      "Epoch 514/1000\n",
      "\u001b[1m5/5\u001b[0m \u001b[32m━━━━━━━━━━━━━━━━━━━━\u001b[0m\u001b[37m\u001b[0m \u001b[1m0s\u001b[0m 65ms/step - loss: 0.5389 - mape: 9.3546 - r2_score: 0.4063 - val_loss: 0.3948 - val_mape: 6.1953 - val_r2_score: 0.7902 - learning_rate: 4.0960e-04\n",
      "Epoch 515/1000\n",
      "\u001b[1m5/5\u001b[0m \u001b[32m━━━━━━━━━━━━━━━━━━━━\u001b[0m\u001b[37m\u001b[0m \u001b[1m0s\u001b[0m 66ms/step - loss: 0.5765 - mape: 10.4507 - r2_score: 0.3397 - val_loss: 0.3990 - val_mape: 6.1473 - val_r2_score: 0.7913 - learning_rate: 4.0960e-04\n",
      "Epoch 516/1000\n",
      "\u001b[1m5/5\u001b[0m \u001b[32m━━━━━━━━━━━━━━━━━━━━\u001b[0m\u001b[37m\u001b[0m \u001b[1m0s\u001b[0m 65ms/step - loss: 0.5187 - mape: 8.9084 - r2_score: 0.4866 - val_loss: 0.3977 - val_mape: 6.0979 - val_r2_score: 0.7860 - learning_rate: 4.0960e-04\n",
      "Epoch 517/1000\n",
      "\u001b[1m5/5\u001b[0m \u001b[32m━━━━━━━━━━━━━━━━━━━━\u001b[0m\u001b[37m\u001b[0m \u001b[1m0s\u001b[0m 64ms/step - loss: 0.6179 - mape: 11.4731 - r2_score: 0.2050 - val_loss: 0.4049 - val_mape: 6.2979 - val_r2_score: 0.7880 - learning_rate: 4.0960e-04\n",
      "Epoch 518/1000\n",
      "\u001b[1m5/5\u001b[0m \u001b[32m━━━━━━━━━━━━━━━━━━━━\u001b[0m\u001b[37m\u001b[0m \u001b[1m0s\u001b[0m 64ms/step - loss: 0.6066 - mape: 10.7640 - r2_score: 0.2278 - val_loss: 0.4137 - val_mape: 6.5561 - val_r2_score: 0.7824 - learning_rate: 4.0960e-04\n",
      "Epoch 519/1000\n",
      "\u001b[1m5/5\u001b[0m \u001b[32m━━━━━━━━━━━━━━━━━━━━\u001b[0m\u001b[37m\u001b[0m \u001b[1m0s\u001b[0m 65ms/step - loss: 0.5810 - mape: 10.4968 - r2_score: 0.3254 - val_loss: 0.4202 - val_mape: 6.7355 - val_r2_score: 0.7760 - learning_rate: 4.0960e-04\n",
      "Epoch 520/1000\n",
      "\u001b[1m5/5\u001b[0m \u001b[32m━━━━━━━━━━━━━━━━━━━━\u001b[0m\u001b[37m\u001b[0m \u001b[1m0s\u001b[0m 65ms/step - loss: 0.6476 - mape: 12.1702 - r2_score: -0.0277 - val_loss: 0.4187 - val_mape: 6.6902 - val_r2_score: 0.7753 - learning_rate: 4.0960e-04\n",
      "Epoch 521/1000\n",
      "\u001b[1m5/5\u001b[0m \u001b[32m━━━━━━━━━━━━━━━━━━━━\u001b[0m\u001b[37m\u001b[0m \u001b[1m0s\u001b[0m 64ms/step - loss: 0.5509 - mape: 10.1773 - r2_score: 0.2759 - val_loss: 0.4119 - val_mape: 6.4981 - val_r2_score: 0.7785 - learning_rate: 4.0960e-04\n",
      "Epoch 522/1000\n",
      "\u001b[1m5/5\u001b[0m \u001b[32m━━━━━━━━━━━━━━━━━━━━\u001b[0m\u001b[37m\u001b[0m \u001b[1m0s\u001b[0m 64ms/step - loss: 0.5920 - mape: 10.5937 - r2_score: 0.2233 - val_loss: 0.4136 - val_mape: 6.4136 - val_r2_score: 0.7757 - learning_rate: 4.0960e-04\n",
      "Epoch 523/1000\n",
      "\u001b[1m5/5\u001b[0m \u001b[32m━━━━━━━━━━━━━━━━━━━━\u001b[0m\u001b[37m\u001b[0m \u001b[1m0s\u001b[0m 64ms/step - loss: 0.5804 - mape: 10.4791 - r2_score: 0.3660 - val_loss: 0.4104 - val_mape: 6.2297 - val_r2_score: 0.7743 - learning_rate: 4.0960e-04\n",
      "Epoch 524/1000\n",
      "\u001b[1m5/5\u001b[0m \u001b[32m━━━━━━━━━━━━━━━━━━━━\u001b[0m\u001b[37m\u001b[0m \u001b[1m0s\u001b[0m 64ms/step - loss: 0.5472 - mape: 9.6975 - r2_score: 0.3664 - val_loss: 0.4082 - val_mape: 6.1773 - val_r2_score: 0.7781 - learning_rate: 4.0960e-04\n",
      "Epoch 525/1000\n",
      "\u001b[1m5/5\u001b[0m \u001b[32m━━━━━━━━━━━━━━━━━━━━\u001b[0m\u001b[37m\u001b[0m \u001b[1m0s\u001b[0m 65ms/step - loss: 0.5773 - mape: 10.3516 - r2_score: 0.2340 - val_loss: 0.3991 - val_mape: 5.9734 - val_r2_score: 0.7802 - learning_rate: 4.0960e-04\n",
      "Epoch 526/1000\n",
      "\u001b[1m5/5\u001b[0m \u001b[32m━━━━━━━━━━━━━━━━━━━━\u001b[0m\u001b[37m\u001b[0m \u001b[1m0s\u001b[0m 66ms/step - loss: 0.5550 - mape: 9.8339 - r2_score: 0.2986 - val_loss: 0.3867 - val_mape: 5.7657 - val_r2_score: 0.7866 - learning_rate: 4.0960e-04\n",
      "Epoch 527/1000\n",
      "\u001b[1m5/5\u001b[0m \u001b[32m━━━━━━━━━━━━━━━━━━━━\u001b[0m\u001b[37m\u001b[0m \u001b[1m0s\u001b[0m 65ms/step - loss: 0.6381 - mape: 11.7048 - r2_score: 0.2009 - val_loss: 0.3793 - val_mape: 5.6548 - val_r2_score: 0.7876 - learning_rate: 4.0960e-04\n",
      "Epoch 528/1000\n",
      "\u001b[1m5/5\u001b[0m \u001b[32m━━━━━━━━━━━━━━━━━━━━\u001b[0m\u001b[37m\u001b[0m \u001b[1m0s\u001b[0m 67ms/step - loss: 0.6198 - mape: 11.3113 - r2_score: 0.2108 - val_loss: 0.3792 - val_mape: 5.5965 - val_r2_score: 0.7849 - learning_rate: 4.0960e-04\n",
      "Epoch 529/1000\n",
      "\u001b[1m5/5\u001b[0m \u001b[32m━━━━━━━━━━━━━━━━━━━━\u001b[0m\u001b[37m\u001b[0m \u001b[1m0s\u001b[0m 66ms/step - loss: 0.6009 - mape: 11.0680 - r2_score: 0.2001 - val_loss: 0.3819 - val_mape: 5.6208 - val_r2_score: 0.7791 - learning_rate: 4.0960e-04\n",
      "Epoch 530/1000\n",
      "\u001b[1m5/5\u001b[0m \u001b[32m━━━━━━━━━━━━━━━━━━━━\u001b[0m\u001b[37m\u001b[0m \u001b[1m0s\u001b[0m 65ms/step - loss: 0.5741 - mape: 10.3981 - r2_score: 0.2584 - val_loss: 0.3685 - val_mape: 5.4214 - val_r2_score: 0.7905 - learning_rate: 4.0960e-04\n",
      "Epoch 531/1000\n",
      "\u001b[1m5/5\u001b[0m \u001b[32m━━━━━━━━━━━━━━━━━━━━\u001b[0m\u001b[37m\u001b[0m \u001b[1m0s\u001b[0m 80ms/step - loss: 0.5817 - mape: 10.4165 - r2_score: 0.3443 - val_loss: 0.3656 - val_mape: 5.4415 - val_r2_score: 0.7972 - learning_rate: 4.0960e-04\n",
      "Epoch 532/1000\n",
      "\u001b[1m5/5\u001b[0m \u001b[32m━━━━━━━━━━━━━━━━━━━━\u001b[0m\u001b[37m\u001b[0m \u001b[1m0s\u001b[0m 82ms/step - loss: 0.6007 - mape: 11.0279 - r2_score: 0.2322 - val_loss: 0.3678 - val_mape: 5.5346 - val_r2_score: 0.8013 - learning_rate: 4.0960e-04\n",
      "Epoch 533/1000\n",
      "\u001b[1m5/5\u001b[0m \u001b[32m━━━━━━━━━━━━━━━━━━━━\u001b[0m\u001b[37m\u001b[0m \u001b[1m0s\u001b[0m 82ms/step - loss: 0.6689 - mape: 12.8052 - r2_score: -0.1052 - val_loss: 0.3699 - val_mape: 5.5266 - val_r2_score: 0.8039 - learning_rate: 4.0960e-04\n",
      "Epoch 534/1000\n",
      "\u001b[1m5/5\u001b[0m \u001b[32m━━━━━━━━━━━━━━━━━━━━\u001b[0m\u001b[37m\u001b[0m \u001b[1m0s\u001b[0m 66ms/step - loss: 0.5809 - mape: 10.6198 - r2_score: 0.3429 - val_loss: 0.3705 - val_mape: 5.3953 - val_r2_score: 0.7977 - learning_rate: 4.0960e-04\n",
      "Epoch 535/1000\n",
      "\u001b[1m5/5\u001b[0m \u001b[32m━━━━━━━━━━━━━━━━━━━━\u001b[0m\u001b[37m\u001b[0m \u001b[1m0s\u001b[0m 65ms/step - loss: 0.6149 - mape: 11.3363 - r2_score: 0.1610 - val_loss: 0.3730 - val_mape: 5.3799 - val_r2_score: 0.7836 - learning_rate: 4.0960e-04\n",
      "Epoch 536/1000\n",
      "\u001b[1m5/5\u001b[0m \u001b[32m━━━━━━━━━━━━━━━━━━━━\u001b[0m\u001b[37m\u001b[0m \u001b[1m0s\u001b[0m 66ms/step - loss: 0.6581 - mape: 12.3377 - r2_score: 0.1515 - val_loss: 0.3878 - val_mape: 5.6254 - val_r2_score: 0.7618 - learning_rate: 4.0960e-04\n",
      "Epoch 537/1000\n",
      "\u001b[1m5/5\u001b[0m \u001b[32m━━━━━━━━━━━━━━━━━━━━\u001b[0m\u001b[37m\u001b[0m \u001b[1m0s\u001b[0m 64ms/step - loss: 0.5449 - mape: 9.5342 - r2_score: 0.4086 - val_loss: 0.3975 - val_mape: 5.6926 - val_r2_score: 0.7271 - learning_rate: 4.0960e-04\n",
      "Epoch 538/1000\n",
      "\u001b[1m5/5\u001b[0m \u001b[32m━━━━━━━━━━━━━━━━━━━━\u001b[0m\u001b[37m\u001b[0m \u001b[1m0s\u001b[0m 64ms/step - loss: 0.5989 - mape: 10.8672 - r2_score: 0.1967 - val_loss: 0.4040 - val_mape: 5.8096 - val_r2_score: 0.7095 - learning_rate: 4.0960e-04\n",
      "Epoch 539/1000\n",
      "\u001b[1m5/5\u001b[0m \u001b[32m━━━━━━━━━━━━━━━━━━━━\u001b[0m\u001b[37m\u001b[0m \u001b[1m0s\u001b[0m 65ms/step - loss: 0.6459 - mape: 12.1060 - r2_score: 0.1140 - val_loss: 0.4054 - val_mape: 5.8649 - val_r2_score: 0.7076 - learning_rate: 4.0960e-04\n",
      "Epoch 540/1000\n",
      "\u001b[1m5/5\u001b[0m \u001b[32m━━━━━━━━━━━━━━━━━━━━\u001b[0m\u001b[37m\u001b[0m \u001b[1m0s\u001b[0m 65ms/step - loss: 0.6606 - mape: 12.2510 - r2_score: 0.1388 - val_loss: 0.4112 - val_mape: 6.0087 - val_r2_score: 0.6994 - learning_rate: 4.0960e-04\n",
      "Epoch 541/1000\n",
      "\u001b[1m5/5\u001b[0m \u001b[32m━━━━━━━━━━━━━━━━━━━━\u001b[0m\u001b[37m\u001b[0m \u001b[1m0s\u001b[0m 64ms/step - loss: 0.5720 - mape: 10.4183 - r2_score: 0.3333 - val_loss: 0.4159 - val_mape: 6.1385 - val_r2_score: 0.7014 - learning_rate: 4.0960e-04\n",
      "Epoch 542/1000\n",
      "\u001b[1m5/5\u001b[0m \u001b[32m━━━━━━━━━━━━━━━━━━━━\u001b[0m\u001b[37m\u001b[0m \u001b[1m0s\u001b[0m 65ms/step - loss: 0.5749 - mape: 10.5349 - r2_score: 0.2699 - val_loss: 0.4105 - val_mape: 6.0567 - val_r2_score: 0.7102 - learning_rate: 4.0960e-04\n",
      "Epoch 543/1000\n",
      "\u001b[1m5/5\u001b[0m \u001b[32m━━━━━━━━━━━━━━━━━━━━\u001b[0m\u001b[37m\u001b[0m \u001b[1m0s\u001b[0m 64ms/step - loss: 0.5999 - mape: 10.8454 - r2_score: 0.1030 - val_loss: 0.4087 - val_mape: 5.9984 - val_r2_score: 0.7166 - learning_rate: 4.0960e-04\n",
      "Epoch 544/1000\n",
      "\u001b[1m5/5\u001b[0m \u001b[32m━━━━━━━━━━━━━━━━━━━━\u001b[0m\u001b[37m\u001b[0m \u001b[1m0s\u001b[0m 64ms/step - loss: 0.6094 - mape: 10.8581 - r2_score: 0.2580 - val_loss: 0.4043 - val_mape: 5.9148 - val_r2_score: 0.7214 - learning_rate: 4.0960e-04\n",
      "Epoch 545/1000\n",
      "\u001b[1m5/5\u001b[0m \u001b[32m━━━━━━━━━━━━━━━━━━━━\u001b[0m\u001b[37m\u001b[0m \u001b[1m0s\u001b[0m 64ms/step - loss: 0.5958 - mape: 11.0339 - r2_score: 0.1664 - val_loss: 0.3911 - val_mape: 5.6326 - val_r2_score: 0.7424 - learning_rate: 4.0960e-04\n",
      "Epoch 546/1000\n",
      "\u001b[1m5/5\u001b[0m \u001b[32m━━━━━━━━━━━━━━━━━━━━\u001b[0m\u001b[37m\u001b[0m \u001b[1m0s\u001b[0m 65ms/step - loss: 0.6165 - mape: 11.2251 - r2_score: 0.2349 - val_loss: 0.3779 - val_mape: 5.3955 - val_r2_score: 0.7643 - learning_rate: 4.0960e-04\n",
      "Epoch 547/1000\n",
      "\u001b[1m5/5\u001b[0m \u001b[32m━━━━━━━━━━━━━━━━━━━━\u001b[0m\u001b[37m\u001b[0m \u001b[1m0s\u001b[0m 65ms/step - loss: 0.6459 - mape: 11.6897 - r2_score: 0.1154 - val_loss: 0.3771 - val_mape: 5.4015 - val_r2_score: 0.7682 - learning_rate: 4.0960e-04\n",
      "Epoch 548/1000\n",
      "\u001b[1m5/5\u001b[0m \u001b[32m━━━━━━━━━━━━━━━━━━━━\u001b[0m\u001b[37m\u001b[0m \u001b[1m0s\u001b[0m 70ms/step - loss: 0.5942 - mape: 10.8333 - r2_score: 0.2461 - val_loss: 0.3774 - val_mape: 5.4058 - val_r2_score: 0.7720 - learning_rate: 4.0960e-04\n",
      "Epoch 549/1000\n",
      "\u001b[1m5/5\u001b[0m \u001b[32m━━━━━━━━━━━━━━━━━━━━\u001b[0m\u001b[37m\u001b[0m \u001b[1m0s\u001b[0m 64ms/step - loss: 0.6310 - mape: 11.5751 - r2_score: 0.2151 - val_loss: 0.3852 - val_mape: 5.5764 - val_r2_score: 0.7748 - learning_rate: 4.0960e-04\n",
      "Epoch 550/1000\n",
      "\u001b[1m5/5\u001b[0m \u001b[32m━━━━━━━━━━━━━━━━━━━━\u001b[0m\u001b[37m\u001b[0m \u001b[1m0s\u001b[0m 64ms/step - loss: 0.5794 - mape: 10.7369 - r2_score: 0.1806 - val_loss: 0.3973 - val_mape: 5.8114 - val_r2_score: 0.7683 - learning_rate: 4.0960e-04\n",
      "Epoch 551/1000\n",
      "\u001b[1m5/5\u001b[0m \u001b[32m━━━━━━━━━━━━━━━━━━━━\u001b[0m\u001b[37m\u001b[0m \u001b[1m0s\u001b[0m 74ms/step - loss: 0.5535 - mape: 9.8100 - r2_score: 0.3927 - val_loss: 0.4046 - val_mape: 5.9022 - val_r2_score: 0.7557 - learning_rate: 4.0960e-04\n",
      "Epoch 552/1000\n",
      "\u001b[1m5/5\u001b[0m \u001b[32m━━━━━━━━━━━━━━━━━━━━\u001b[0m\u001b[37m\u001b[0m \u001b[1m0s\u001b[0m 66ms/step - loss: 0.5075 - mape: 8.7546 - r2_score: 0.5373 - val_loss: 0.4066 - val_mape: 5.9166 - val_r2_score: 0.7449 - learning_rate: 4.0960e-04\n",
      "Epoch 553/1000\n",
      "\u001b[1m5/5\u001b[0m \u001b[32m━━━━━━━━━━━━━━━━━━━━\u001b[0m\u001b[37m\u001b[0m \u001b[1m0s\u001b[0m 64ms/step - loss: 0.6957 - mape: 12.9503 - r2_score: -0.0758 - val_loss: 0.4045 - val_mape: 5.9481 - val_r2_score: 0.7527 - learning_rate: 4.0960e-04\n",
      "Epoch 554/1000\n",
      "\u001b[1m5/5\u001b[0m \u001b[32m━━━━━━━━━━━━━━━━━━━━\u001b[0m\u001b[37m\u001b[0m \u001b[1m0s\u001b[0m 64ms/step - loss: 0.6247 - mape: 11.6092 - r2_score: 0.1354 - val_loss: 0.4042 - val_mape: 6.0710 - val_r2_score: 0.7660 - learning_rate: 4.0960e-04\n",
      "Epoch 555/1000\n",
      "\u001b[1m5/5\u001b[0m \u001b[32m━━━━━━━━━━━━━━━━━━━━\u001b[0m\u001b[37m\u001b[0m \u001b[1m0s\u001b[0m 65ms/step - loss: 0.6515 - mape: 12.2535 - r2_score: 0.0286 - val_loss: 0.4010 - val_mape: 6.1474 - val_r2_score: 0.7712 - learning_rate: 4.0960e-04\n",
      "Epoch 556/1000\n",
      "\u001b[1m5/5\u001b[0m \u001b[32m━━━━━━━━━━━━━━━━━━━━\u001b[0m\u001b[37m\u001b[0m \u001b[1m0s\u001b[0m 64ms/step - loss: 0.5708 - mape: 10.0438 - r2_score: 0.3023 - val_loss: 0.3933 - val_mape: 6.0315 - val_r2_score: 0.7674 - learning_rate: 4.0960e-04\n",
      "Epoch 557/1000\n",
      "\u001b[1m5/5\u001b[0m \u001b[32m━━━━━━━━━━━━━━━━━━━━\u001b[0m\u001b[37m\u001b[0m \u001b[1m0s\u001b[0m 65ms/step - loss: 0.5495 - mape: 9.6178 - r2_score: 0.3248 - val_loss: 0.3982 - val_mape: 6.1269 - val_r2_score: 0.7620 - learning_rate: 4.0960e-04\n",
      "Epoch 558/1000\n",
      "\u001b[1m5/5\u001b[0m \u001b[32m━━━━━━━━━━━━━━━━━━━━\u001b[0m\u001b[37m\u001b[0m \u001b[1m0s\u001b[0m 64ms/step - loss: 0.5358 - mape: 9.5652 - r2_score: 0.4127 - val_loss: 0.4084 - val_mape: 6.3096 - val_r2_score: 0.7488 - learning_rate: 4.0960e-04\n",
      "Epoch 559/1000\n",
      "\u001b[1m5/5\u001b[0m \u001b[32m━━━━━━━━━━━━━━━━━━━━\u001b[0m\u001b[37m\u001b[0m \u001b[1m0s\u001b[0m 65ms/step - loss: 0.6066 - mape: 10.9721 - r2_score: 0.2596 - val_loss: 0.4006 - val_mape: 6.1282 - val_r2_score: 0.7534 - learning_rate: 4.0960e-04\n",
      "Epoch 560/1000\n",
      "\u001b[1m5/5\u001b[0m \u001b[32m━━━━━━━━━━━━━━━━━━━━\u001b[0m\u001b[37m\u001b[0m \u001b[1m1s\u001b[0m 78ms/step - loss: 0.6289 - mape: 11.3684 - r2_score: 0.1959 - val_loss: 0.4085 - val_mape: 6.2593 - val_r2_score: 0.7524 - learning_rate: 4.0960e-04\n",
      "Epoch 561/1000\n",
      "\u001b[1m5/5\u001b[0m \u001b[32m━━━━━━━━━━━━━━━━━━━━\u001b[0m\u001b[37m\u001b[0m \u001b[1m0s\u001b[0m 69ms/step - loss: 0.4734 - mape: 8.1884 - r2_score: 0.5614 - val_loss: 0.4092 - val_mape: 6.1788 - val_r2_score: 0.7422 - learning_rate: 4.0960e-04\n",
      "Epoch 562/1000\n",
      "\u001b[1m5/5\u001b[0m \u001b[32m━━━━━━━━━━━━━━━━━━━━\u001b[0m\u001b[37m\u001b[0m \u001b[1m0s\u001b[0m 65ms/step - loss: 0.6663 - mape: 12.1758 - r2_score: 0.1195 - val_loss: 0.4083 - val_mape: 6.1364 - val_r2_score: 0.7391 - learning_rate: 4.0960e-04\n",
      "Epoch 563/1000\n",
      "\u001b[1m5/5\u001b[0m \u001b[32m━━━━━━━━━━━━━━━━━━━━\u001b[0m\u001b[37m\u001b[0m \u001b[1m0s\u001b[0m 66ms/step - loss: 0.5872 - mape: 10.5656 - r2_score: 0.3969 - val_loss: 0.4097 - val_mape: 6.1664 - val_r2_score: 0.7375 - learning_rate: 4.0960e-04\n",
      "Epoch 564/1000\n",
      "\u001b[1m5/5\u001b[0m \u001b[32m━━━━━━━━━━━━━━━━━━━━\u001b[0m\u001b[37m\u001b[0m \u001b[1m0s\u001b[0m 65ms/step - loss: 0.5955 - mape: 10.8970 - r2_score: 0.2969 - val_loss: 0.4075 - val_mape: 6.1777 - val_r2_score: 0.7437 - learning_rate: 4.0960e-04\n",
      "Epoch 565/1000\n",
      "\u001b[1m5/5\u001b[0m \u001b[32m━━━━━━━━━━━━━━━━━━━━\u001b[0m\u001b[37m\u001b[0m \u001b[1m0s\u001b[0m 65ms/step - loss: 0.5817 - mape: 10.6976 - r2_score: 0.3109 - val_loss: 0.4085 - val_mape: 6.2864 - val_r2_score: 0.7513 - learning_rate: 4.0960e-04\n",
      "Epoch 566/1000\n",
      "\u001b[1m5/5\u001b[0m \u001b[32m━━━━━━━━━━━━━━━━━━━━\u001b[0m\u001b[37m\u001b[0m \u001b[1m0s\u001b[0m 64ms/step - loss: 0.6721 - mape: 12.3951 - r2_score: 0.0848 - val_loss: 0.4116 - val_mape: 6.4057 - val_r2_score: 0.7574 - learning_rate: 4.0960e-04\n",
      "Epoch 567/1000\n",
      "\u001b[1m5/5\u001b[0m \u001b[32m━━━━━━━━━━━━━━━━━━━━\u001b[0m\u001b[37m\u001b[0m \u001b[1m0s\u001b[0m 66ms/step - loss: 0.5257 - mape: 9.0777 - r2_score: 0.4341 - val_loss: 0.4179 - val_mape: 6.4788 - val_r2_score: 0.7570 - learning_rate: 4.0960e-04\n",
      "Epoch 568/1000\n",
      "\u001b[1m5/5\u001b[0m \u001b[32m━━━━━━━━━━━━━━━━━━━━\u001b[0m\u001b[37m\u001b[0m \u001b[1m0s\u001b[0m 67ms/step - loss: 0.5564 - mape: 10.1055 - r2_score: 0.3480 - val_loss: 0.4193 - val_mape: 6.4753 - val_r2_score: 0.7584 - learning_rate: 4.0960e-04\n",
      "Epoch 569/1000\n",
      "\u001b[1m5/5\u001b[0m \u001b[32m━━━━━━━━━━━━━━━━━━━━\u001b[0m\u001b[37m\u001b[0m \u001b[1m0s\u001b[0m 65ms/step - loss: 0.6108 - mape: 11.1642 - r2_score: 0.2488 - val_loss: 0.4211 - val_mape: 6.5309 - val_r2_score: 0.7554 - learning_rate: 4.0960e-04\n",
      "Epoch 570/1000\n",
      "\u001b[1m5/5\u001b[0m \u001b[32m━━━━━━━━━━━━━━━━━━━━\u001b[0m\u001b[37m\u001b[0m \u001b[1m0s\u001b[0m 64ms/step - loss: 0.5748 - mape: 10.1918 - r2_score: 0.2201 - val_loss: 0.4259 - val_mape: 6.6715 - val_r2_score: 0.7583 - learning_rate: 4.0960e-04\n",
      "Epoch 571/1000\n",
      "\u001b[1m5/5\u001b[0m \u001b[32m━━━━━━━━━━━━━━━━━━━━\u001b[0m\u001b[37m\u001b[0m \u001b[1m0s\u001b[0m 65ms/step - loss: 0.5527 - mape: 9.7408 - r2_score: 0.4448 - val_loss: 0.4249 - val_mape: 6.6799 - val_r2_score: 0.7569 - learning_rate: 4.0960e-04\n",
      "Epoch 572/1000\n",
      "\u001b[1m5/5\u001b[0m \u001b[32m━━━━━━━━━━━━━━━━━━━━\u001b[0m\u001b[37m\u001b[0m \u001b[1m0s\u001b[0m 65ms/step - loss: 0.6754 - mape: 12.5593 - r2_score: 0.0572 - val_loss: 0.4236 - val_mape: 6.6576 - val_r2_score: 0.7514 - learning_rate: 4.0960e-04\n",
      "Epoch 573/1000\n",
      "\u001b[1m5/5\u001b[0m \u001b[32m━━━━━━━━━━━━━━━━━━━━\u001b[0m\u001b[37m\u001b[0m \u001b[1m0s\u001b[0m 66ms/step - loss: 0.6098 - mape: 11.0080 - r2_score: 0.2630 - val_loss: 0.4180 - val_mape: 6.5337 - val_r2_score: 0.7518 - learning_rate: 4.0960e-04\n",
      "Epoch 574/1000\n",
      "\u001b[1m5/5\u001b[0m \u001b[32m━━━━━━━━━━━━━━━━━━━━\u001b[0m\u001b[37m\u001b[0m \u001b[1m0s\u001b[0m 65ms/step - loss: 0.5854 - mape: 10.2765 - r2_score: 0.2775 - val_loss: 0.4172 - val_mape: 6.4615 - val_r2_score: 0.7413 - learning_rate: 4.0960e-04\n",
      "Epoch 575/1000\n",
      "\u001b[1m5/5\u001b[0m \u001b[32m━━━━━━━━━━━━━━━━━━━━\u001b[0m\u001b[37m\u001b[0m \u001b[1m0s\u001b[0m 64ms/step - loss: 0.6006 - mape: 11.0821 - r2_score: 0.2663 - val_loss: 0.4087 - val_mape: 6.2747 - val_r2_score: 0.7390 - learning_rate: 4.0960e-04\n",
      "Epoch 576/1000\n",
      "\u001b[1m5/5\u001b[0m \u001b[32m━━━━━━━━━━━━━━━━━━━━\u001b[0m\u001b[37m\u001b[0m \u001b[1m0s\u001b[0m 65ms/step - loss: 0.6268 - mape: 11.4102 - r2_score: 0.1971 - val_loss: 0.4039 - val_mape: 6.2127 - val_r2_score: 0.7419 - learning_rate: 4.0960e-04\n",
      "Epoch 577/1000\n",
      "\u001b[1m5/5\u001b[0m \u001b[32m━━━━━━━━━━━━━━━━━━━━\u001b[0m\u001b[37m\u001b[0m \u001b[1m0s\u001b[0m 64ms/step - loss: 0.6181 - mape: 11.4940 - r2_score: 0.1391 - val_loss: 0.4035 - val_mape: 6.2506 - val_r2_score: 0.7431 - learning_rate: 4.0960e-04\n",
      "Epoch 578/1000\n",
      "\u001b[1m5/5\u001b[0m \u001b[32m━━━━━━━━━━━━━━━━━━━━\u001b[0m\u001b[37m\u001b[0m \u001b[1m0s\u001b[0m 64ms/step - loss: 0.6456 - mape: 11.8953 - r2_score: 0.0582 - val_loss: 0.4178 - val_mape: 6.5450 - val_r2_score: 0.7353 - learning_rate: 4.0960e-04\n",
      "Epoch 579/1000\n",
      "\u001b[1m5/5\u001b[0m \u001b[32m━━━━━━━━━━━━━━━━━━━━\u001b[0m\u001b[37m\u001b[0m \u001b[1m0s\u001b[0m 66ms/step - loss: 0.6330 - mape: 11.4030 - r2_score: 0.1459 - val_loss: 0.4331 - val_mape: 6.8779 - val_r2_score: 0.7264 - learning_rate: 4.0960e-04\n",
      "Epoch 580/1000\n",
      "\u001b[1m5/5\u001b[0m \u001b[32m━━━━━━━━━━━━━━━━━━━━\u001b[0m\u001b[37m\u001b[0m \u001b[1m0s\u001b[0m 65ms/step - loss: 0.5403 - mape: 9.6901 - r2_score: 0.4577 - val_loss: 0.4347 - val_mape: 6.9693 - val_r2_score: 0.7306 - learning_rate: 4.0960e-04\n",
      "Epoch 581/1000\n",
      "\u001b[1m5/5\u001b[0m \u001b[32m━━━━━━━━━━━━━━━━━━━━\u001b[0m\u001b[37m\u001b[0m \u001b[1m0s\u001b[0m 64ms/step - loss: 0.6761 - mape: 12.7604 - r2_score: 0.0360 - val_loss: 0.4134 - val_mape: 6.5662 - val_r2_score: 0.7539 - learning_rate: 4.0960e-04\n",
      "Epoch 582/1000\n",
      "\u001b[1m5/5\u001b[0m \u001b[32m━━━━━━━━━━━━━━━━━━━━\u001b[0m\u001b[37m\u001b[0m \u001b[1m0s\u001b[0m 65ms/step - loss: 0.6339 - mape: 11.6111 - r2_score: 0.2123 - val_loss: 0.4092 - val_mape: 6.4713 - val_r2_score: 0.7701 - learning_rate: 4.0960e-04\n",
      "Epoch 583/1000\n",
      "\u001b[1m5/5\u001b[0m \u001b[32m━━━━━━━━━━━━━━━━━━━━\u001b[0m\u001b[37m\u001b[0m \u001b[1m0s\u001b[0m 65ms/step - loss: 0.5839 - mape: 10.7349 - r2_score: 0.2845 - val_loss: 0.4183 - val_mape: 6.6553 - val_r2_score: 0.7729 - learning_rate: 4.0960e-04\n",
      "Epoch 584/1000\n",
      "\u001b[1m5/5\u001b[0m \u001b[32m━━━━━━━━━━━━━━━━━━━━\u001b[0m\u001b[37m\u001b[0m \u001b[1m0s\u001b[0m 65ms/step - loss: 0.5792 - mape: 10.3603 - r2_score: 0.1555 - val_loss: 0.4211 - val_mape: 6.7636 - val_r2_score: 0.7718 - learning_rate: 4.0960e-04\n",
      "Epoch 585/1000\n",
      "\u001b[1m5/5\u001b[0m \u001b[32m━━━━━━━━━━━━━━━━━━━━\u001b[0m\u001b[37m\u001b[0m \u001b[1m0s\u001b[0m 65ms/step - loss: 0.5745 - mape: 10.2210 - r2_score: 0.2787 - val_loss: 0.4245 - val_mape: 6.8533 - val_r2_score: 0.7679 - learning_rate: 4.0960e-04\n",
      "Epoch 586/1000\n",
      "\u001b[1m5/5\u001b[0m \u001b[32m━━━━━━━━━━━━━━━━━━━━\u001b[0m\u001b[37m\u001b[0m \u001b[1m0s\u001b[0m 66ms/step - loss: 0.5758 - mape: 10.4980 - r2_score: 0.2780 - val_loss: 0.4238 - val_mape: 6.8570 - val_r2_score: 0.7677 - learning_rate: 4.0960e-04\n",
      "Epoch 587/1000\n",
      "\u001b[1m5/5\u001b[0m \u001b[32m━━━━━━━━━━━━━━━━━━━━\u001b[0m\u001b[37m\u001b[0m \u001b[1m0s\u001b[0m 64ms/step - loss: 0.5941 - mape: 10.9008 - r2_score: 0.3021 - val_loss: 0.4158 - val_mape: 6.6805 - val_r2_score: 0.7693 - learning_rate: 4.0960e-04\n",
      "Epoch 588/1000\n",
      "\u001b[1m5/5\u001b[0m \u001b[32m━━━━━━━━━━━━━━━━━━━━\u001b[0m\u001b[37m\u001b[0m \u001b[1m0s\u001b[0m 64ms/step - loss: 0.6479 - mape: 11.9804 - r2_score: 0.0974 - val_loss: 0.4117 - val_mape: 6.5801 - val_r2_score: 0.7741 - learning_rate: 4.0960e-04\n",
      "Epoch 589/1000\n",
      "\u001b[1m5/5\u001b[0m \u001b[32m━━━━━━━━━━━━━━━━━━━━\u001b[0m\u001b[37m\u001b[0m \u001b[1m0s\u001b[0m 67ms/step - loss: 0.6492 - mape: 11.8274 - r2_score: 0.2732 - val_loss: 0.4174 - val_mape: 6.5591 - val_r2_score: 0.7714 - learning_rate: 4.0960e-04\n",
      "Epoch 590/1000\n",
      "\u001b[1m5/5\u001b[0m \u001b[32m━━━━━━━━━━━━━━━━━━━━\u001b[0m\u001b[37m\u001b[0m \u001b[1m0s\u001b[0m 65ms/step - loss: 0.6004 - mape: 11.1132 - r2_score: 0.2440 - val_loss: 0.4192 - val_mape: 6.4537 - val_r2_score: 0.7582 - learning_rate: 4.0960e-04\n",
      "Epoch 591/1000\n",
      "\u001b[1m5/5\u001b[0m \u001b[32m━━━━━━━━━━━━━━━━━━━━\u001b[0m\u001b[37m\u001b[0m \u001b[1m0s\u001b[0m 64ms/step - loss: 0.5432 - mape: 9.7236 - r2_score: 0.4554 - val_loss: 0.4155 - val_mape: 6.2528 - val_r2_score: 0.7419 - learning_rate: 4.0960e-04\n",
      "Epoch 592/1000\n",
      "\u001b[1m5/5\u001b[0m \u001b[32m━━━━━━━━━━━━━━━━━━━━\u001b[0m\u001b[37m\u001b[0m \u001b[1m0s\u001b[0m 64ms/step - loss: 0.5567 - mape: 9.6886 - r2_score: 0.4668 - val_loss: 0.4146 - val_mape: 6.2309 - val_r2_score: 0.7327 - learning_rate: 4.0960e-04\n",
      "Epoch 593/1000\n",
      "\u001b[1m5/5\u001b[0m \u001b[32m━━━━━━━━━━━━━━━━━━━━\u001b[0m\u001b[37m\u001b[0m \u001b[1m0s\u001b[0m 65ms/step - loss: 0.6315 - mape: 11.6464 - r2_score: 0.0656 - val_loss: 0.4144 - val_mape: 6.2446 - val_r2_score: 0.7338 - learning_rate: 4.0960e-04\n",
      "Epoch 594/1000\n",
      "\u001b[1m5/5\u001b[0m \u001b[32m━━━━━━━━━━━━━━━━━━━━\u001b[0m\u001b[37m\u001b[0m \u001b[1m0s\u001b[0m 65ms/step - loss: 0.5859 - mape: 10.5572 - r2_score: 0.3695 - val_loss: 0.4102 - val_mape: 6.1711 - val_r2_score: 0.7417 - learning_rate: 4.0960e-04\n",
      "Epoch 595/1000\n",
      "\u001b[1m5/5\u001b[0m \u001b[32m━━━━━━━━━━━━━━━━━━━━\u001b[0m\u001b[37m\u001b[0m \u001b[1m0s\u001b[0m 64ms/step - loss: 0.6437 - mape: 11.6945 - r2_score: 0.2074 - val_loss: 0.4152 - val_mape: 6.2585 - val_r2_score: 0.7428 - learning_rate: 4.0960e-04\n",
      "Epoch 596/1000\n",
      "\u001b[1m5/5\u001b[0m \u001b[32m━━━━━━━━━━━━━━━━━━━━\u001b[0m\u001b[37m\u001b[0m \u001b[1m0s\u001b[0m 65ms/step - loss: 0.5484 - mape: 9.9990 - r2_score: 0.4132 - val_loss: 0.4186 - val_mape: 6.3924 - val_r2_score: 0.7533 - learning_rate: 4.0960e-04\n",
      "Epoch 597/1000\n",
      "\u001b[1m5/5\u001b[0m \u001b[32m━━━━━━━━━━━━━━━━━━━━\u001b[0m\u001b[37m\u001b[0m \u001b[1m0s\u001b[0m 64ms/step - loss: 0.5813 - mape: 10.4024 - r2_score: 0.3487 - val_loss: 0.4156 - val_mape: 6.3385 - val_r2_score: 0.7543 - learning_rate: 4.0960e-04\n",
      "Epoch 598/1000\n",
      "\u001b[1m5/5\u001b[0m \u001b[32m━━━━━━━━━━━━━━━━━━━━\u001b[0m\u001b[37m\u001b[0m \u001b[1m0s\u001b[0m 66ms/step - loss: 0.6292 - mape: 11.7889 - r2_score: 0.1792 - val_loss: 0.4167 - val_mape: 6.2947 - val_r2_score: 0.7490 - learning_rate: 4.0960e-04\n",
      "Epoch 599/1000\n",
      "\u001b[1m5/5\u001b[0m \u001b[32m━━━━━━━━━━━━━━━━━━━━\u001b[0m\u001b[37m\u001b[0m \u001b[1m0s\u001b[0m 67ms/step - loss: 0.5772 - mape: 10.4375 - r2_score: 0.0883 - val_loss: 0.4220 - val_mape: 6.4096 - val_r2_score: 0.7560 - learning_rate: 4.0960e-04\n",
      "Epoch 600/1000\n",
      "\u001b[1m5/5\u001b[0m \u001b[32m━━━━━━━━━━━━━━━━━━━━\u001b[0m\u001b[37m\u001b[0m \u001b[1m0s\u001b[0m 67ms/step - loss: 0.5576 - mape: 9.9059 - r2_score: 0.4472 - val_loss: 0.4143 - val_mape: 6.2904 - val_r2_score: 0.7680 - learning_rate: 4.0960e-04\n",
      "Epoch 601/1000\n",
      "\u001b[1m5/5\u001b[0m \u001b[32m━━━━━━━━━━━━━━━━━━━━\u001b[0m\u001b[37m\u001b[0m \u001b[1m0s\u001b[0m 66ms/step - loss: 0.5488 - mape: 10.0034 - r2_score: 0.4222 - val_loss: 0.4082 - val_mape: 6.2733 - val_r2_score: 0.7826 - learning_rate: 4.0960e-04\n",
      "Epoch 602/1000\n",
      "\u001b[1m5/5\u001b[0m \u001b[32m━━━━━━━━━━━━━━━━━━━━\u001b[0m\u001b[37m\u001b[0m \u001b[1m0s\u001b[0m 65ms/step - loss: 0.4473 - mape: 7.7478 - r2_score: 0.5188 - val_loss: 0.4107 - val_mape: 6.3454 - val_r2_score: 0.7808 - learning_rate: 3.2768e-04\n",
      "Epoch 603/1000\n",
      "\u001b[1m5/5\u001b[0m \u001b[32m━━━━━━━━━━━━━━━━━━━━\u001b[0m\u001b[37m\u001b[0m \u001b[1m0s\u001b[0m 64ms/step - loss: 0.5594 - mape: 10.0166 - r2_score: 0.3800 - val_loss: 0.4106 - val_mape: 6.3454 - val_r2_score: 0.7754 - learning_rate: 3.2768e-04\n",
      "Epoch 604/1000\n",
      "\u001b[1m5/5\u001b[0m \u001b[32m━━━━━━━━━━━━━━━━━━━━\u001b[0m\u001b[37m\u001b[0m \u001b[1m0s\u001b[0m 64ms/step - loss: 0.6327 - mape: 11.5333 - r2_score: 0.1115 - val_loss: 0.4016 - val_mape: 6.1252 - val_r2_score: 0.7728 - learning_rate: 3.2768e-04\n",
      "Epoch 605/1000\n",
      "\u001b[1m5/5\u001b[0m \u001b[32m━━━━━━━━━━━━━━━━━━━━\u001b[0m\u001b[37m\u001b[0m \u001b[1m0s\u001b[0m 65ms/step - loss: 0.5897 - mape: 10.5998 - r2_score: 0.2526 - val_loss: 0.3983 - val_mape: 6.1085 - val_r2_score: 0.7724 - learning_rate: 3.2768e-04\n",
      "Epoch 606/1000\n",
      "\u001b[1m5/5\u001b[0m \u001b[32m━━━━━━━━━━━━━━━━━━━━\u001b[0m\u001b[37m\u001b[0m \u001b[1m0s\u001b[0m 65ms/step - loss: 0.5902 - mape: 10.7944 - r2_score: 0.2726 - val_loss: 0.4037 - val_mape: 6.2700 - val_r2_score: 0.7700 - learning_rate: 3.2768e-04\n",
      "Epoch 607/1000\n",
      "\u001b[1m5/5\u001b[0m \u001b[32m━━━━━━━━━━━━━━━━━━━━\u001b[0m\u001b[37m\u001b[0m \u001b[1m0s\u001b[0m 66ms/step - loss: 0.5069 - mape: 8.9673 - r2_score: 0.3987 - val_loss: 0.4081 - val_mape: 6.4090 - val_r2_score: 0.7634 - learning_rate: 3.2768e-04\n",
      "Epoch 608/1000\n",
      "\u001b[1m5/5\u001b[0m \u001b[32m━━━━━━━━━━━━━━━━━━━━\u001b[0m\u001b[37m\u001b[0m \u001b[1m0s\u001b[0m 65ms/step - loss: 0.5152 - mape: 9.1488 - r2_score: 0.3910 - val_loss: 0.4100 - val_mape: 6.4874 - val_r2_score: 0.7596 - learning_rate: 3.2768e-04\n",
      "Epoch 609/1000\n",
      "\u001b[1m5/5\u001b[0m \u001b[32m━━━━━━━━━━━━━━━━━━━━\u001b[0m\u001b[37m\u001b[0m \u001b[1m0s\u001b[0m 65ms/step - loss: 0.5809 - mape: 10.3591 - r2_score: 0.2349 - val_loss: 0.4091 - val_mape: 6.4674 - val_r2_score: 0.7544 - learning_rate: 3.2768e-04\n",
      "Epoch 610/1000\n",
      "\u001b[1m5/5\u001b[0m \u001b[32m━━━━━━━━━━━━━━━━━━━━\u001b[0m\u001b[37m\u001b[0m \u001b[1m0s\u001b[0m 68ms/step - loss: 0.5699 - mape: 10.4361 - r2_score: 0.2507 - val_loss: 0.4238 - val_mape: 6.7893 - val_r2_score: 0.7416 - learning_rate: 3.2768e-04\n",
      "Epoch 611/1000\n",
      "\u001b[1m5/5\u001b[0m \u001b[32m━━━━━━━━━━━━━━━━━━━━\u001b[0m\u001b[37m\u001b[0m \u001b[1m0s\u001b[0m 69ms/step - loss: 0.6106 - mape: 10.8739 - r2_score: 0.1524 - val_loss: 0.4304 - val_mape: 6.8367 - val_r2_score: 0.7309 - learning_rate: 3.2768e-04\n",
      "Epoch 612/1000\n",
      "\u001b[1m5/5\u001b[0m \u001b[32m━━━━━━━━━━━━━━━━━━━━\u001b[0m\u001b[37m\u001b[0m \u001b[1m0s\u001b[0m 77ms/step - loss: 0.5823 - mape: 10.7263 - r2_score: 0.3415 - val_loss: 0.4303 - val_mape: 6.7241 - val_r2_score: 0.7190 - learning_rate: 3.2768e-04\n",
      "Epoch 613/1000\n",
      "\u001b[1m5/5\u001b[0m \u001b[32m━━━━━━━━━━━━━━━━━━━━\u001b[0m\u001b[37m\u001b[0m \u001b[1m0s\u001b[0m 70ms/step - loss: 0.5923 - mape: 10.6138 - r2_score: 0.3508 - val_loss: 0.4244 - val_mape: 6.5404 - val_r2_score: 0.7163 - learning_rate: 3.2768e-04\n",
      "Epoch 614/1000\n",
      "\u001b[1m5/5\u001b[0m \u001b[32m━━━━━━━━━━━━━━━━━━━━\u001b[0m\u001b[37m\u001b[0m \u001b[1m0s\u001b[0m 70ms/step - loss: 0.5707 - mape: 10.3284 - r2_score: 0.3413 - val_loss: 0.4145 - val_mape: 6.3055 - val_r2_score: 0.7268 - learning_rate: 3.2768e-04\n",
      "Epoch 615/1000\n",
      "\u001b[1m5/5\u001b[0m \u001b[32m━━━━━━━━━━━━━━━━━━━━\u001b[0m\u001b[37m\u001b[0m \u001b[1m0s\u001b[0m 69ms/step - loss: 0.5455 - mape: 9.7895 - r2_score: 0.4240 - val_loss: 0.4062 - val_mape: 6.1478 - val_r2_score: 0.7427 - learning_rate: 3.2768e-04\n",
      "Epoch 616/1000\n",
      "\u001b[1m5/5\u001b[0m \u001b[32m━━━━━━━━━━━━━━━━━━━━\u001b[0m\u001b[37m\u001b[0m \u001b[1m0s\u001b[0m 66ms/step - loss: 0.6989 - mape: 13.5656 - r2_score: -0.0487 - val_loss: 0.3914 - val_mape: 5.9844 - val_r2_score: 0.7696 - learning_rate: 3.2768e-04\n",
      "Epoch 617/1000\n",
      "\u001b[1m5/5\u001b[0m \u001b[32m━━━━━━━━━━━━━━━━━━━━\u001b[0m\u001b[37m\u001b[0m \u001b[1m0s\u001b[0m 70ms/step - loss: 0.6147 - mape: 11.2417 - r2_score: 0.2705 - val_loss: 0.3955 - val_mape: 6.2180 - val_r2_score: 0.7790 - learning_rate: 3.2768e-04\n",
      "Epoch 618/1000\n",
      "\u001b[1m5/5\u001b[0m \u001b[32m━━━━━━━━━━━━━━━━━━━━\u001b[0m\u001b[37m\u001b[0m \u001b[1m0s\u001b[0m 69ms/step - loss: 0.5055 - mape: 8.9700 - r2_score: 0.4641 - val_loss: 0.3958 - val_mape: 6.2473 - val_r2_score: 0.7802 - learning_rate: 3.2768e-04\n",
      "Epoch 619/1000\n",
      "\u001b[1m5/5\u001b[0m \u001b[32m━━━━━━━━━━━━━━━━━━━━\u001b[0m\u001b[37m\u001b[0m \u001b[1m0s\u001b[0m 72ms/step - loss: 0.6185 - mape: 11.4146 - r2_score: 0.2675 - val_loss: 0.3993 - val_mape: 6.2085 - val_r2_score: 0.7811 - learning_rate: 3.2768e-04\n",
      "Epoch 620/1000\n",
      "\u001b[1m5/5\u001b[0m \u001b[32m━━━━━━━━━━━━━━━━━━━━\u001b[0m\u001b[37m\u001b[0m \u001b[1m1s\u001b[0m 71ms/step - loss: 0.5355 - mape: 9.5420 - r2_score: 0.3677 - val_loss: 0.3968 - val_mape: 6.0782 - val_r2_score: 0.7752 - learning_rate: 3.2768e-04\n",
      "Epoch 621/1000\n",
      "\u001b[1m5/5\u001b[0m \u001b[32m━━━━━━━━━━━━━━━━━━━━\u001b[0m\u001b[37m\u001b[0m \u001b[1m0s\u001b[0m 68ms/step - loss: 0.5289 - mape: 9.3776 - r2_score: 0.4555 - val_loss: 0.3998 - val_mape: 6.1220 - val_r2_score: 0.7759 - learning_rate: 3.2768e-04\n",
      "Epoch 622/1000\n",
      "\u001b[1m5/5\u001b[0m \u001b[32m━━━━━━━━━━━━━━━━━━━━\u001b[0m\u001b[37m\u001b[0m \u001b[1m0s\u001b[0m 65ms/step - loss: 0.5917 - mape: 10.9584 - r2_score: 0.2258 - val_loss: 0.4056 - val_mape: 6.2934 - val_r2_score: 0.7791 - learning_rate: 3.2768e-04\n",
      "Epoch 623/1000\n",
      "\u001b[1m5/5\u001b[0m \u001b[32m━━━━━━━━━━━━━━━━━━━━\u001b[0m\u001b[37m\u001b[0m \u001b[1m0s\u001b[0m 66ms/step - loss: 0.5370 - mape: 9.5606 - r2_score: 0.3422 - val_loss: 0.4158 - val_mape: 6.5226 - val_r2_score: 0.7810 - learning_rate: 3.2768e-04\n",
      "Epoch 624/1000\n",
      "\u001b[1m5/5\u001b[0m \u001b[32m━━━━━━━━━━━━━━━━━━━━\u001b[0m\u001b[37m\u001b[0m \u001b[1m0s\u001b[0m 66ms/step - loss: 0.6712 - mape: 12.5292 - r2_score: -0.0378 - val_loss: 0.4194 - val_mape: 6.5820 - val_r2_score: 0.7825 - learning_rate: 3.2768e-04\n",
      "Epoch 625/1000\n",
      "\u001b[1m5/5\u001b[0m \u001b[32m━━━━━━━━━━━━━━━━━━━━\u001b[0m\u001b[37m\u001b[0m \u001b[1m0s\u001b[0m 72ms/step - loss: 0.5980 - mape: 10.8389 - r2_score: 0.3091 - val_loss: 0.4193 - val_mape: 6.5709 - val_r2_score: 0.7850 - learning_rate: 3.2768e-04\n",
      "Epoch 626/1000\n",
      "\u001b[1m5/5\u001b[0m \u001b[32m━━━━━━━━━━━━━━━━━━━━\u001b[0m\u001b[37m\u001b[0m \u001b[1m0s\u001b[0m 69ms/step - loss: 0.6354 - mape: 11.6803 - r2_score: 0.2309 - val_loss: 0.4172 - val_mape: 6.4729 - val_r2_score: 0.7810 - learning_rate: 3.2768e-04\n",
      "Epoch 627/1000\n",
      "\u001b[1m5/5\u001b[0m \u001b[32m━━━━━━━━━━━━━━━━━━━━\u001b[0m\u001b[37m\u001b[0m \u001b[1m0s\u001b[0m 73ms/step - loss: 0.6129 - mape: 11.1995 - r2_score: 0.2183 - val_loss: 0.4104 - val_mape: 6.2529 - val_r2_score: 0.7759 - learning_rate: 3.2768e-04\n",
      "Epoch 628/1000\n",
      "\u001b[1m5/5\u001b[0m \u001b[32m━━━━━━━━━━━━━━━━━━━━\u001b[0m\u001b[37m\u001b[0m \u001b[1m0s\u001b[0m 72ms/step - loss: 0.6049 - mape: 11.0431 - r2_score: 0.3305 - val_loss: 0.4066 - val_mape: 6.1629 - val_r2_score: 0.7718 - learning_rate: 3.2768e-04\n",
      "Epoch 629/1000\n",
      "\u001b[1m5/5\u001b[0m \u001b[32m━━━━━━━━━━━━━━━━━━━━\u001b[0m\u001b[37m\u001b[0m \u001b[1m0s\u001b[0m 68ms/step - loss: 0.5940 - mape: 10.8829 - r2_score: 0.3286 - val_loss: 0.4050 - val_mape: 6.1496 - val_r2_score: 0.7727 - learning_rate: 3.2768e-04\n",
      "Epoch 630/1000\n",
      "\u001b[1m5/5\u001b[0m \u001b[32m━━━━━━━━━━━━━━━━━━━━\u001b[0m\u001b[37m\u001b[0m \u001b[1m0s\u001b[0m 73ms/step - loss: 0.5901 - mape: 10.9733 - r2_score: 0.2923 - val_loss: 0.3960 - val_mape: 5.9741 - val_r2_score: 0.7697 - learning_rate: 3.2768e-04\n",
      "Epoch 631/1000\n",
      "\u001b[1m5/5\u001b[0m \u001b[32m━━━━━━━━━━━━━━━━━━━━\u001b[0m\u001b[37m\u001b[0m \u001b[1m0s\u001b[0m 68ms/step - loss: 0.5833 - mape: 10.9009 - r2_score: 0.2267 - val_loss: 0.3912 - val_mape: 5.9433 - val_r2_score: 0.7746 - learning_rate: 3.2768e-04\n",
      "Epoch 632/1000\n",
      "\u001b[1m5/5\u001b[0m \u001b[32m━━━━━━━━━━━━━━━━━━━━\u001b[0m\u001b[37m\u001b[0m \u001b[1m0s\u001b[0m 73ms/step - loss: 0.5899 - mape: 10.6082 - r2_score: 0.2295 - val_loss: 0.3905 - val_mape: 5.9330 - val_r2_score: 0.7714 - learning_rate: 3.2768e-04\n",
      "Epoch 633/1000\n",
      "\u001b[1m5/5\u001b[0m \u001b[32m━━━━━━━━━━━━━━━━━━━━\u001b[0m\u001b[37m\u001b[0m \u001b[1m0s\u001b[0m 67ms/step - loss: 0.5780 - mape: 10.6214 - r2_score: 0.3025 - val_loss: 0.3854 - val_mape: 5.8558 - val_r2_score: 0.7809 - learning_rate: 3.2768e-04\n",
      "Epoch 634/1000\n",
      "\u001b[1m5/5\u001b[0m \u001b[32m━━━━━━━━━━━━━━━━━━━━\u001b[0m\u001b[37m\u001b[0m \u001b[1m0s\u001b[0m 70ms/step - loss: 0.5698 - mape: 10.3702 - r2_score: 0.2791 - val_loss: 0.3865 - val_mape: 5.9318 - val_r2_score: 0.7877 - learning_rate: 3.2768e-04\n",
      "Epoch 635/1000\n",
      "\u001b[1m5/5\u001b[0m \u001b[32m━━━━━━━━━━━━━━━━━━━━\u001b[0m\u001b[37m\u001b[0m \u001b[1m0s\u001b[0m 70ms/step - loss: 0.6064 - mape: 11.3046 - r2_score: 0.1222 - val_loss: 0.3940 - val_mape: 6.1849 - val_r2_score: 0.7877 - learning_rate: 3.2768e-04\n",
      "Epoch 636/1000\n",
      "\u001b[1m5/5\u001b[0m \u001b[32m━━━━━━━━━━━━━━━━━━━━\u001b[0m\u001b[37m\u001b[0m \u001b[1m0s\u001b[0m 71ms/step - loss: 0.5381 - mape: 9.7242 - r2_score: 0.3903 - val_loss: 0.3952 - val_mape: 6.2043 - val_r2_score: 0.7878 - learning_rate: 3.2768e-04\n",
      "Epoch 637/1000\n",
      "\u001b[1m5/5\u001b[0m \u001b[32m━━━━━━━━━━━━━━━━━━━━\u001b[0m\u001b[37m\u001b[0m \u001b[1m0s\u001b[0m 71ms/step - loss: 0.6037 - mape: 11.3330 - r2_score: 0.2417 - val_loss: 0.3983 - val_mape: 6.2461 - val_r2_score: 0.7882 - learning_rate: 3.2768e-04\n",
      "Epoch 638/1000\n",
      "\u001b[1m5/5\u001b[0m \u001b[32m━━━━━━━━━━━━━━━━━━━━\u001b[0m\u001b[37m\u001b[0m \u001b[1m0s\u001b[0m 70ms/step - loss: 0.5918 - mape: 10.8525 - r2_score: 0.2849 - val_loss: 0.4002 - val_mape: 6.2354 - val_r2_score: 0.7896 - learning_rate: 3.2768e-04\n",
      "Epoch 639/1000\n",
      "\u001b[1m5/5\u001b[0m \u001b[32m━━━━━━━━━━━━━━━━━━━━\u001b[0m\u001b[37m\u001b[0m \u001b[1m0s\u001b[0m 69ms/step - loss: 0.6249 - mape: 11.3195 - r2_score: 0.1736 - val_loss: 0.4038 - val_mape: 6.3101 - val_r2_score: 0.7889 - learning_rate: 3.2768e-04\n",
      "Epoch 640/1000\n",
      "\u001b[1m5/5\u001b[0m \u001b[32m━━━━━━━━━━━━━━━━━━━━\u001b[0m\u001b[37m\u001b[0m \u001b[1m0s\u001b[0m 71ms/step - loss: 0.6173 - mape: 11.0820 - r2_score: 0.1322 - val_loss: 0.4033 - val_mape: 6.2884 - val_r2_score: 0.7881 - learning_rate: 3.2768e-04\n",
      "Epoch 641/1000\n",
      "\u001b[1m5/5\u001b[0m \u001b[32m━━━━━━━━━━━━━━━━━━━━\u001b[0m\u001b[37m\u001b[0m \u001b[1m0s\u001b[0m 73ms/step - loss: 0.6663 - mape: 12.6131 - r2_score: 0.0245 - val_loss: 0.3983 - val_mape: 6.1133 - val_r2_score: 0.7895 - learning_rate: 3.2768e-04\n",
      "Epoch 642/1000\n",
      "\u001b[1m5/5\u001b[0m \u001b[32m━━━━━━━━━━━━━━━━━━━━\u001b[0m\u001b[37m\u001b[0m \u001b[1m0s\u001b[0m 69ms/step - loss: 0.5817 - mape: 10.6499 - r2_score: 0.3031 - val_loss: 0.3941 - val_mape: 5.9484 - val_r2_score: 0.7885 - learning_rate: 3.2768e-04\n",
      "Epoch 643/1000\n",
      "\u001b[1m5/5\u001b[0m \u001b[32m━━━━━━━━━━━━━━━━━━━━\u001b[0m\u001b[37m\u001b[0m \u001b[1m1s\u001b[0m 73ms/step - loss: 0.5446 - mape: 9.7099 - r2_score: 0.4284 - val_loss: 0.3903 - val_mape: 5.7614 - val_r2_score: 0.7807 - learning_rate: 3.2768e-04\n",
      "Epoch 644/1000\n",
      "\u001b[1m5/5\u001b[0m \u001b[32m━━━━━━━━━━━━━━━━━━━━\u001b[0m\u001b[37m\u001b[0m \u001b[1m0s\u001b[0m 79ms/step - loss: 0.5844 - mape: 10.3176 - r2_score: 0.3653 - val_loss: 0.3934 - val_mape: 5.7036 - val_r2_score: 0.7661 - learning_rate: 3.2768e-04\n",
      "Epoch 645/1000\n",
      "\u001b[1m5/5\u001b[0m \u001b[32m━━━━━━━━━━━━━━━━━━━━\u001b[0m\u001b[37m\u001b[0m \u001b[1m0s\u001b[0m 71ms/step - loss: 0.6079 - mape: 11.2271 - r2_score: 0.0859 - val_loss: 0.4020 - val_mape: 5.8274 - val_r2_score: 0.7485 - learning_rate: 3.2768e-04\n",
      "Epoch 646/1000\n",
      "\u001b[1m5/5\u001b[0m \u001b[32m━━━━━━━━━━━━━━━━━━━━\u001b[0m\u001b[37m\u001b[0m \u001b[1m0s\u001b[0m 65ms/step - loss: 0.5759 - mape: 10.3304 - r2_score: 0.3010 - val_loss: 0.4042 - val_mape: 5.8845 - val_r2_score: 0.7473 - learning_rate: 3.2768e-04\n",
      "Epoch 647/1000\n",
      "\u001b[1m5/5\u001b[0m \u001b[32m━━━━━━━━━━━━━━━━━━━━\u001b[0m\u001b[37m\u001b[0m \u001b[1m0s\u001b[0m 68ms/step - loss: 0.5943 - mape: 10.7256 - r2_score: 0.3227 - val_loss: 0.4053 - val_mape: 5.9679 - val_r2_score: 0.7503 - learning_rate: 3.2768e-04\n",
      "Epoch 648/1000\n",
      "\u001b[1m5/5\u001b[0m \u001b[32m━━━━━━━━━━━━━━━━━━━━\u001b[0m\u001b[37m\u001b[0m \u001b[1m0s\u001b[0m 65ms/step - loss: 0.5743 - mape: 10.4114 - r2_score: 0.3239 - val_loss: 0.4054 - val_mape: 6.0544 - val_r2_score: 0.7521 - learning_rate: 3.2768e-04\n",
      "Epoch 649/1000\n",
      "\u001b[1m5/5\u001b[0m \u001b[32m━━━━━━━━━━━━━━━━━━━━\u001b[0m\u001b[37m\u001b[0m \u001b[1m0s\u001b[0m 72ms/step - loss: 0.5932 - mape: 10.8078 - r2_score: 0.2019 - val_loss: 0.4100 - val_mape: 6.1666 - val_r2_score: 0.7464 - learning_rate: 3.2768e-04\n",
      "Epoch 650/1000\n",
      "\u001b[1m5/5\u001b[0m \u001b[32m━━━━━━━━━━━━━━━━━━━━\u001b[0m\u001b[37m\u001b[0m \u001b[1m0s\u001b[0m 69ms/step - loss: 0.6886 - mape: 13.0882 - r2_score: 0.0447 - val_loss: 0.4079 - val_mape: 6.1192 - val_r2_score: 0.7504 - learning_rate: 3.2768e-04\n",
      "Epoch 651/1000\n",
      "\u001b[1m5/5\u001b[0m \u001b[32m━━━━━━━━━━━━━━━━━━━━\u001b[0m\u001b[37m\u001b[0m \u001b[1m0s\u001b[0m 66ms/step - loss: 0.6271 - mape: 11.5066 - r2_score: 0.1999 - val_loss: 0.4051 - val_mape: 6.0166 - val_r2_score: 0.7529 - learning_rate: 3.2768e-04\n",
      "Epoch 652/1000\n",
      "\u001b[1m5/5\u001b[0m \u001b[32m━━━━━━━━━━━━━━━━━━━━\u001b[0m\u001b[37m\u001b[0m \u001b[1m0s\u001b[0m 68ms/step - loss: 0.5991 - mape: 11.1601 - r2_score: 0.1444 - val_loss: 0.4094 - val_mape: 6.1156 - val_r2_score: 0.7481 - learning_rate: 3.2768e-04\n",
      "Epoch 653/1000\n",
      "\u001b[1m5/5\u001b[0m \u001b[32m━━━━━━━━━━━━━━━━━━━━\u001b[0m\u001b[37m\u001b[0m \u001b[1m0s\u001b[0m 68ms/step - loss: 0.5561 - mape: 10.1206 - r2_score: 0.3526 - val_loss: 0.4072 - val_mape: 6.0841 - val_r2_score: 0.7508 - learning_rate: 3.2768e-04\n",
      "Time for training:     3.0000s\n"
     ]
    }
   ],
   "source": [
    "model_trained = model_training(model_DNN,\n",
    "                               folder_path = final_path,\n",
    "                               batch_size = 12,\n",
    "                               num_epochs = 1000,\n",
    "                               x_train = x_train,\n",
    "                               y_train = y_train,\n",
    "                               x_val = x_test,\n",
    "                               y_val = y_test,\n",
    "                               callbacks = callbacks)"
   ]
  },
  {
   "cell_type": "markdown",
   "metadata": {
    "id": "LtfHyGNzF48o"
   },
   "source": [
    "## Save Model"
   ]
  },
  {
   "cell_type": "code",
   "execution_count": 33,
   "metadata": {
    "colab": {
     "base_uri": "https://localhost:8080/"
    },
    "executionInfo": {
     "elapsed": 660,
     "status": "ok",
     "timestamp": 1754806386690,
     "user": {
      "displayName": "Alan Gabriel Amaro Colin",
      "userId": "17298980579619170060"
     },
     "user_tz": 360
    },
    "id": "a_1vhfmHF5wK",
    "outputId": "80a69136-88cb-48be-9823-d104a5830e23"
   },
   "outputs": [
    {
     "name": "stderr",
     "output_type": "stream",
     "text": [
      "WARNING:absl:You are saving your model as an HDF5 file via `model.save()` or `keras.saving.save_model(model)`. This file format is considered legacy. We recommend using instead the native Keras format, e.g. `model.save('my_model.keras')` or `keras.saving.save_model(model, 'my_model.keras')`. \n"
     ]
    }
   ],
   "source": [
    "model_DNN.save( os.path.join(final_path, 'model.h5') )"
   ]
  },
  {
   "cell_type": "code",
   "execution_count": 34,
   "metadata": {
    "colab": {
     "base_uri": "https://localhost:8080/",
     "height": 927
    },
    "executionInfo": {
     "elapsed": 772,
     "status": "ok",
     "timestamp": 1754806387464,
     "user": {
      "displayName": "Alan Gabriel Amaro Colin",
      "userId": "17298980579619170060"
     },
     "user_tz": 360
    },
    "id": "1G9qoHIdF-GA",
    "outputId": "8a56fa33-93ed-411a-9dbe-889179c66222"
   },
   "outputs": [
    {
     "data": {
      "image/png": "[encoded data removed]",
      "text/plain": [
       "<Figure size 640x480 with 1 Axes>"
      ]
     },
     "metadata": {},
     "output_type": "display_data"
    },
    {
     "data": {
      "image/png": "[encoded data removed]",
      "text/plain": [
       "<Figure size 640x480 with 1 Axes>"
      ]
     },
     "metadata": {},
     "output_type": "display_data"
    }
   ],
   "source": [
    "do_graphics(\n",
    "    model_trained,\n",
    "    'DNN-MI-1',\n",
    "    ('MAE', 'MAPE'),\n",
    "    final_path,\n",
    "    metric = 'mape'\n",
    ")"
   ]
  },
  {
   "cell_type": "markdown",
   "metadata": {
    "id": "_F1AbxhWGI6w"
   },
   "source": [
    "## Evaluate"
   ]
  },
  {
   "cell_type": "code",
   "execution_count": 35,
   "metadata": {
    "colab": {
     "base_uri": "https://localhost:8080/"
    },
    "executionInfo": {
     "elapsed": 138,
     "status": "ok",
     "timestamp": 1754806387612,
     "user": {
      "displayName": "Alan Gabriel Amaro Colin",
      "userId": "17298980579619170060"
     },
     "user_tz": 360
    },
    "id": "4J5wcFgrGG7a",
    "outputId": "16ea5e95-c59b-4d0b-c4d9-841d8a3b131a"
   },
   "outputs": [
    {
     "name": "stdout",
     "output_type": "stream",
     "text": [
      "\u001b[1m1/1\u001b[0m \u001b[32m━━━━━━━━━━━━━━━━━━━━\u001b[0m\u001b[37m\u001b[0m \u001b[1m0s\u001b[0m 82ms/step - loss: 0.3699 - mape: 5.5266 - r2_score: 0.8039\n",
      "-> Loss = 0.36989453434944153\n",
      "-> Test Accuracy = 5.526648998260498\n",
      "-> R2 Accuracy = 0.8038584589958191\n"
     ]
    }
   ],
   "source": [
    "loss, accuracy, _ = evaluate_model_regression(model_DNN, x_test, y_test)"
   ]
  },
  {
   "cell_type": "markdown",
   "metadata": {
    "id": "9s7QfcrKGhLa"
   },
   "source": [
    "## KDE Comparison"
   ]
  },
  {
   "cell_type": "code",
   "execution_count": 36,
   "metadata": {
    "executionInfo": {
     "elapsed": 230,
     "status": "ok",
     "timestamp": 1754806387861,
     "user": {
      "displayName": "Alan Gabriel Amaro Colin",
      "userId": "17298980579619170060"
     },
     "user_tz": 360
    },
    "id": "HPZJY1PLGtGt"
   },
   "outputs": [],
   "source": [
    "import seaborn as sns"
   ]
  },
  {
   "cell_type": "code",
   "execution_count": 37,
   "metadata": {
    "colab": {
     "base_uri": "https://localhost:8080/",
     "height": 385
    },
    "executionInfo": {
     "elapsed": 844,
     "status": "ok",
     "timestamp": 1754806388692,
     "user": {
      "displayName": "Alan Gabriel Amaro Colin",
      "userId": "17298980579619170060"
     },
     "user_tz": 360
    },
    "id": "wgU2IH7IGiXL",
    "outputId": "e41150e6-6212-47db-a0a5-cf59ca47323c"
   },
   "outputs": [
    {
     "name": "stdout",
     "output_type": "stream",
     "text": [
      "\u001b[1m1/1\u001b[0m \u001b[32m━━━━━━━━━━━━━━━━━━━━\u001b[0m\u001b[37m\u001b[0m \u001b[1m0s\u001b[0m 156ms/step\n"
     ]
    },
    {
     "data": {
      "image/png": "[encoded data removed]",
      "text/plain": [
       "<Figure size 400x400 with 1 Axes>"
      ]
     },
     "metadata": {},
     "output_type": "display_data"
    }
   ],
   "source": [
    "plt.figure(figsize = (4,4))\n",
    "sns.kdeplot( model_DNN.predict(x_test), label = 'Predicted', fill= True)\n",
    "sns.kdeplot(y_test, label = 'True', fill = True)\n",
    "plt.grid()\n",
    "plt.legend()\n",
    "plt.savefig( os.path.join(final_path, 'kde.png') )\n",
    "plt.show()"
   ]
  },
  {
   "cell_type": "markdown",
   "metadata": {},
   "source": [
    "## Comparative Plot"
   ]
  },
  {
   "cell_type": "code",
   "execution_count": 38,
   "metadata": {},
   "outputs": [
    {
     "name": "stdout",
     "output_type": "stream",
     "text": [
      "\u001b[1m1/1\u001b[0m \u001b[32m━━━━━━━━━━━━━━━━━━━━\u001b[0m\u001b[37m\u001b[0m \u001b[1m0s\u001b[0m 62ms/step\n"
     ]
    },
    {
     "data": {
      "image/png": "[encoded data removed]",
      "text/plain": [
       "<Figure size 400x400 with 1 Axes>"
      ]
     },
     "metadata": {},
     "output_type": "display_data"
    }
   ],
   "source": [
    "plt.figure(figsize = (4,4))\n",
    "plt.plot([x for x in range(3, 7)], [x for x in range(3, 7)])\n",
    "plt.scatter(y_test, model_DNN.predict(x_test))\n",
    "#sns.kdeplot(y_test, label = 'True', fill = True)\n",
    "plt.grid()\n",
    "plt.title('Test Set')\n",
    "plt.savefig(os.path.join(final_path, 'test.png'))\n",
    "plt.show()"
   ]
  },
  {
   "cell_type": "code",
   "execution_count": 39,
   "metadata": {},
   "outputs": [
    {
     "data": {
      "text/plain": [
       "5"
      ]
     },
     "execution_count": 39,
     "metadata": {},
     "output_type": "execute_result"
    }
   ],
   "source": [
    "kint"
   ]
  },
  {
   "cell_type": "code",
   "execution_count": 40,
   "metadata": {},
   "outputs": [
    {
     "name": "stdout",
     "output_type": "stream",
     "text": [
      "\u001b[1m1/1\u001b[0m \u001b[32m━━━━━━━━━━━━━━━━━━━━\u001b[0m\u001b[37m\u001b[0m \u001b[1m0s\u001b[0m 74ms/step - loss: 0.3699 - mape: 5.5266 - r2_score: 0.8039\n",
      "-> Loss = 0.36989453434944153\n",
      "-> Test Accuracy = 5.526648998260498\n",
      "-> R2 Accuracy = 0.8038584589958191\n"
     ]
    }
   ],
   "source": [
    "results = np.array([ evaluate_model_regression(model_DNN, x_test, y_test) ])\n",
    "np.save('./kfolds_reg/{}'.format(kint), results)"
   ]
  },
  {
   "cell_type": "markdown",
   "metadata": {},
   "source": [
    "## Results"
   ]
  },
  {
   "cell_type": "markdown",
   "metadata": {},
   "source": [
    "-> Loss = 0.43038806319236755\n",
    "-> Test Accuracy = 8.71993350982666\n",
    "-> R2 Accuracy = 0.4706185460090637\n",
    "-> 'DNN_MI_1_FULL'"
   ]
  },
  {
   "cell_type": "markdown",
   "metadata": {},
   "source": [
    "-> Loss = 0.33492109179496765\n",
    "-> Test Accuracy = 7.291499614715576\n",
    "-> R2 Accuracy = 0.6732093095779419\n",
    "-> 'DNN_MI_1_FULL2'"
   ]
  },
  {
   "cell_type": "markdown",
   "metadata": {},
   "source": [
    "-> Loss = 0.2952897250652313\n",
    "-> Test Accuracy = 6.3148722648620605\n",
    "-> R2 Accuracy = 0.7042462825775146\n",
    "-> 3"
   ]
  }
 ],
 "metadata": {
  "colab": {
   "authorship_tag": "ABX9TyPGnKoyfso1VK2rJhSn9brq",
   "mount_file_id": "1oAGWlf-SZH58jEakX1pZwdDPfXrMUo5n",
   "provenance": []
  },
  "kernelspec": {
   "display_name": "Python 3 (ipykernel)",
   "language": "python",
   "name": "python3"
  },
  "language_info": {
   "codemirror_mode": {
    "name": "ipython",
    "version": 3
   },
   "file_extension": ".py",
   "mimetype": "text/x-python",
   "name": "python",
   "nbconvert_exporter": "python",
   "pygments_lexer": "ipython3",
   "version": "3.9.23"
  }
 },
 "nbformat": 4,
 "nbformat_minor": 4
}
