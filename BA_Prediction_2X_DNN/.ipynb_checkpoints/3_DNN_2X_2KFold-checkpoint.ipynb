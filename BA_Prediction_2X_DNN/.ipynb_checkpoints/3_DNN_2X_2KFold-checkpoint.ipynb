{
 "cells": [
  {
   "cell_type": "markdown",
   "metadata": {
    "id": "H6Wue51yaxKv"
   },
   "source": [
    "# Dense Neural Networks"
   ]
  },
  {
   "cell_type": "markdown",
   "metadata": {
    "id": "rKzTG2kjZK65"
   },
   "source": [
    "Hello there!\n",
    "\n",
    "In the previous approach we have considered a linear estimation for the bio-activity. Our result presents an average $R^{2}=0.62$ and a MAPE of $7.19$ In this notebook, we present a new approach by the use of Deep Neural Networks, in this initial case we use only Dense Layers or a Feed Forward. The descriptors used are obtained by the use of Mutual Information (MI). We've first selected those descriptors with a higher mutual than $0.4$, where we've reduced the dimension from 1200 to just 99 descriptors.\n",
    "\n",
    "Then, we have selected from the 99 descriptors the one descriptor with the highest MI (piPC4) and have selected two variables that are independent among them. This means, the MI values among them is the lowest value possible."
   ]
  },
  {
   "cell_type": "markdown",
   "metadata": {
    "id": "s8_gew3AbzAj"
   },
   "source": [
    "## Mutual Information"
   ]
  },
  {
   "cell_type": "markdown",
   "metadata": {
    "id": "vmxe0Iu-cSj0"
   },
   "source": [
    "### **Mutual Information (MI) for Feature Selection**  \n",
    "**Mutual Information** measures the **statistical dependence** between two variables, capturing **both linear and nonlinear relationships**. Unlike Pearson correlation (which only detects linear trends), MI quantifies how much knowing one variable reduces uncertainty about the other.  \n",
    "\n",
    "#### **Mathematical Definition**  \n",
    "For two continuous variables \\( X \\) and \\( Y \\):  \n",
    "\n",
    "$\\text{MI}(X, Y) = \\iint p(x, y) \\log \\left( \\frac{p(x, y)}{p(x)p(y)} \\right) dx \\, dy$  \n",
    "where:  \n",
    "- $( p(x, y) )$ = joint probability density.  \n",
    "- $( p(x), p(y) )$ = marginal densities.  \n",
    "\n",
    "**Key Properties**:  \n",
    "- $MI (\\geq 0)$ (0 means independent).  \n",
    "- Higher MI = stronger dependency.  \n"
   ]
  },
  {
   "cell_type": "markdown",
   "metadata": {
    "id": "yJk4WF4CdnCZ"
   },
   "source": [
    "## Used libraries"
   ]
  },
  {
   "cell_type": "code",
   "execution_count": 1,
   "metadata": {},
   "outputs": [],
   "source": [
    "import os\n",
    "os.environ[\"CUDA_VISIBLE_DEVICES\"] = \"-1\""
   ]
  },
  {
   "cell_type": "code",
   "execution_count": 2,
   "metadata": {},
   "outputs": [],
   "source": [
    "colab = False"
   ]
  },
  {
   "cell_type": "code",
   "execution_count": 3,
   "metadata": {
    "executionInfo": {
     "elapsed": 13,
     "status": "ok",
     "timestamp": 1754806314489,
     "user": {
      "displayName": "Alan Gabriel Amaro Colin",
      "userId": "17298980579619170060"
     },
     "user_tz": 360
    },
    "id": "B2LFMr_RRg1B"
   },
   "outputs": [
    {
     "name": "stderr",
     "output_type": "stream",
     "text": [
      "2025-08-11 18:43:10.259862: I tensorflow/core/platform/cpu_feature_guard.cc:210] This TensorFlow binary is optimized to use available CPU instructions in performance-critical operations.\n",
      "To enable the following instructions: FMA, in other operations, rebuild TensorFlow with the appropriate compiler flags.\n",
      "2025-08-11 18:43:11.713787: W tensorflow/compiler/tf2tensorrt/utils/py_utils.cc:38] TF-TRT Warning: Could not find TensorRT\n",
      "/home/alan-amaro/miniconda3/envs/farma/lib/python3.9/site-packages/requests/__init__.py:86: RequestsDependencyWarning: Unable to find acceptable character detection dependency (chardet or charset_normalizer).\n",
      "  warnings.warn(\n"
     ]
    }
   ],
   "source": [
    "if colab: \n",
    "    import sys\n",
    "    sys.path.append('/content/drive/MyDrive/Colaboracion_Quimica/Main_Codes/AutoEncoders/AmaroX/AmaroX')\n",
    "    ! pip install python-telegram-bot\n",
    "\n",
    "    from ai_functions import *\n",
    "    from ai_models import *\n",
    "    from utilities import *\n",
    "    from data_manipulation import *\n",
    "    import pandas as pd\n",
    "else: \n",
    "    from AmaroX.AmaroX.ai_functions import *\n",
    "    from AmaroX.AmaroX.ai_models import *\n",
    "    from AmaroX.AmaroX.utilities import *\n",
    "    from AmaroX.AmaroX.data_manipulation import *\n",
    "    import pandas as pd\n",
    "    import sklearn"
   ]
  },
  {
   "cell_type": "markdown",
   "metadata": {
    "id": "LMM15EIAeNMM"
   },
   "source": [
    "## Data"
   ]
  },
  {
   "cell_type": "markdown",
   "metadata": {
    "id": "dHUpPc5dfJrs"
   },
   "source": [
    "The data presented here corresponds to molecules with their SMILE representation and descriptors, along with the biological activity. Let's first do a quick view of the data shape."
   ]
  },
  {
   "cell_type": "markdown",
   "metadata": {
    "id": "QLDOuzTDDoW1"
   },
   "source": [
    "* All the data presented here was obtained by colaboration with Dr. Erick Padilla at Facultad de Estudios Superiores Zaragoza - UNAM."
   ]
  },
  {
   "cell_type": "markdown",
   "metadata": {
    "id": "wx7mCiFYeP_M"
   },
   "source": [
    "### Downloading the data"
   ]
  },
  {
   "cell_type": "code",
   "execution_count": 4,
   "metadata": {
    "colab": {
     "base_uri": "https://localhost:8080/"
    },
    "executionInfo": {
     "elapsed": 5366,
     "status": "ok",
     "timestamp": 1754806339684,
     "user": {
      "displayName": "Alan Gabriel Amaro Colin",
      "userId": "17298980579619170060"
     },
     "user_tz": 360
    },
    "id": "TaqYCyF_eN_W",
    "outputId": "9d2fe30a-81b4-455f-a99e-557a868d9c81"
   },
   "outputs": [],
   "source": [
    "if colab:\n",
    "    ! gdown --id 1cHM9neEhTOZ82UU9HaZkdGdlwE1d4SJT\n",
    "    ! gdown --id 1wZp9pou63ElEYyGGjBeC2pDtscgRgCpj"
   ]
  },
  {
   "cell_type": "markdown",
   "metadata": {
    "id": "wfg2b6FNfNIP"
   },
   "source": [
    "The _data.xlsx_ file contains all the molecular descriptors from the molecule, along with a SMILE representation."
   ]
  },
  {
   "cell_type": "code",
   "execution_count": 5,
   "metadata": {
    "executionInfo": {
     "elapsed": 7645,
     "status": "ok",
     "timestamp": 1754806347350,
     "user": {
      "displayName": "Alan Gabriel Amaro Colin",
      "userId": "17298980579619170060"
     },
     "user_tz": 360
    },
    "id": "OvBcuQFXeU5y"
   },
   "outputs": [],
   "source": [
    "compounds_md = pd.read_excel(\"../Data/data.xlsx\")\n",
    "activity = pd.read_excel(\"../Data/Actividad.xlsx\")"
   ]
  },
  {
   "cell_type": "code",
   "execution_count": 6,
   "metadata": {
    "colab": {
     "base_uri": "https://localhost:8080/",
     "height": 690
    },
    "executionInfo": {
     "elapsed": 246,
     "status": "ok",
     "timestamp": 1754806347594,
     "user": {
      "displayName": "Alan Gabriel Amaro Colin",
      "userId": "17298980579619170060"
     },
     "user_tz": 360
    },
    "id": "IixnVRP-eXsd",
    "outputId": "9f8d0e08-c3b5-4144-d0c5-3133d5f0667c"
   },
   "outputs": [
    {
     "data": {
      "text/html": [
       "<div>\n",
       "<style scoped>\n",
       "    .dataframe tbody tr th:only-of-type {\n",
       "        vertical-align: middle;\n",
       "    }\n",
       "\n",
       "    .dataframe tbody tr th {\n",
       "        vertical-align: top;\n",
       "    }\n",
       "\n",
       "    .dataframe thead th {\n",
       "        text-align: right;\n",
       "    }\n",
       "</style>\n",
       "<table border=\"1\" class=\"dataframe\">\n",
       "  <thead>\n",
       "    <tr style=\"text-align: right;\">\n",
       "      <th></th>\n",
       "      <th>Cmpd</th>\n",
       "      <th>SMILES</th>\n",
       "      <th>ABC</th>\n",
       "      <th>ABCGG</th>\n",
       "      <th>nAcid</th>\n",
       "      <th>nBase</th>\n",
       "      <th>SpAbs_A</th>\n",
       "      <th>SpMax_A</th>\n",
       "      <th>SpDiam_A</th>\n",
       "      <th>SpAD_A</th>\n",
       "      <th>...</th>\n",
       "      <th>SRW10</th>\n",
       "      <th>TSRW10</th>\n",
       "      <th>MW</th>\n",
       "      <th>AMW</th>\n",
       "      <th>WPath</th>\n",
       "      <th>WPol</th>\n",
       "      <th>Zagreb1</th>\n",
       "      <th>Zagreb2</th>\n",
       "      <th>mZagreb1</th>\n",
       "      <th>mZagreb2</th>\n",
       "    </tr>\n",
       "  </thead>\n",
       "  <tbody>\n",
       "    <tr>\n",
       "      <th>0</th>\n",
       "      <td>Compuesto original</td>\n",
       "      <td>O=C(N/1)/C(SC1=N/C2=NC3=CC=C(F)C=C3S2)=C/N4CCN...</td>\n",
       "      <td>module 'numpy' has no attribute 'float'.\\n `np...</td>\n",
       "      <td>module 'numpy' has no attribute 'float'.\\n `np...</td>\n",
       "      <td>0</td>\n",
       "      <td>3</td>\n",
       "      <td>34.64084</td>\n",
       "      <td>2.428932</td>\n",
       "      <td>4.709973</td>\n",
       "      <td>34.64084</td>\n",
       "      <td>...</td>\n",
       "      <td>10.158170</td>\n",
       "      <td>78.17227</td>\n",
       "      <td>405.1093</td>\n",
       "      <td>8.619347</td>\n",
       "      <td>2138</td>\n",
       "      <td>39</td>\n",
       "      <td>146</td>\n",
       "      <td>171</td>\n",
       "      <td>8.361111</td>\n",
       "      <td>5.750000</td>\n",
       "    </tr>\n",
       "    <tr>\n",
       "      <th>1</th>\n",
       "      <td>Compound 3</td>\n",
       "      <td>O=C1NC2=CC=C([H])C=C2/C1=N\\C3=CC=CC(Br)=N3</td>\n",
       "      <td>module 'numpy' has no attribute 'float'.\\n `np...</td>\n",
       "      <td>module 'numpy' has no attribute 'float'.\\n `np...</td>\n",
       "      <td>0</td>\n",
       "      <td>0</td>\n",
       "      <td>23.43385</td>\n",
       "      <td>2.452376</td>\n",
       "      <td>4.754134</td>\n",
       "      <td>23.43385</td>\n",
       "      <td>...</td>\n",
       "      <td>9.792612</td>\n",
       "      <td>65.48686</td>\n",
       "      <td>300.9851</td>\n",
       "      <td>11.576350</td>\n",
       "      <td>599</td>\n",
       "      <td>26</td>\n",
       "      <td>96</td>\n",
       "      <td>113</td>\n",
       "      <td>5.166667</td>\n",
       "      <td>3.916667</td>\n",
       "    </tr>\n",
       "    <tr>\n",
       "      <th>2</th>\n",
       "      <td>Compound 4</td>\n",
       "      <td>O=C1NC2=CC=CC=C2/C1=N\\C3=NC4=CC(OCC)=CC=C4S3</td>\n",
       "      <td>module 'numpy' has no attribute 'float'.\\n `np...</td>\n",
       "      <td>module 'numpy' has no attribute 'float'.\\n `np...</td>\n",
       "      <td>0</td>\n",
       "      <td>0</td>\n",
       "      <td>30.43085</td>\n",
       "      <td>2.474251</td>\n",
       "      <td>4.745881</td>\n",
       "      <td>30.43085</td>\n",
       "      <td>...</td>\n",
       "      <td>10.101640</td>\n",
       "      <td>73.78306</td>\n",
       "      <td>323.0728</td>\n",
       "      <td>8.974246</td>\n",
       "      <td>1245</td>\n",
       "      <td>35</td>\n",
       "      <td>126</td>\n",
       "      <td>151</td>\n",
       "      <td>6.138889</td>\n",
       "      <td>5.027778</td>\n",
       "    </tr>\n",
       "    <tr>\n",
       "      <th>3</th>\n",
       "      <td>Compound 8</td>\n",
       "      <td>O=C1NC2=CC=C(Br)C=C2/C1=N\\C3=CC=CC(F)=N3</td>\n",
       "      <td>module 'numpy' has no attribute 'float'.\\n `np...</td>\n",
       "      <td>module 'numpy' has no attribute 'float'.\\n `np...</td>\n",
       "      <td>0</td>\n",
       "      <td>0</td>\n",
       "      <td>24.52891</td>\n",
       "      <td>2.46582</td>\n",
       "      <td>4.787297</td>\n",
       "      <td>24.52891</td>\n",
       "      <td>...</td>\n",
       "      <td>9.873183</td>\n",
       "      <td>66.82214</td>\n",
       "      <td>318.9757</td>\n",
       "      <td>12.268290</td>\n",
       "      <td>693</td>\n",
       "      <td>28</td>\n",
       "      <td>102</td>\n",
       "      <td>120</td>\n",
       "      <td>6.027778</td>\n",
       "      <td>4.083333</td>\n",
       "    </tr>\n",
       "    <tr>\n",
       "      <th>4</th>\n",
       "      <td>Compound 9</td>\n",
       "      <td>O=C1NC2=CC=C(Br)C=C2/C1=N/C3=CC([N+]([O-])=O)=...</td>\n",
       "      <td>module 'numpy' has no attribute 'float'.\\n `np...</td>\n",
       "      <td>module 'numpy' has no attribute 'float'.\\n `np...</td>\n",
       "      <td>0</td>\n",
       "      <td>0</td>\n",
       "      <td>27.00118</td>\n",
       "      <td>2.467278</td>\n",
       "      <td>4.80069</td>\n",
       "      <td>27.00118</td>\n",
       "      <td>...</td>\n",
       "      <td>9.972407</td>\n",
       "      <td>69.29945</td>\n",
       "      <td>345.9702</td>\n",
       "      <td>12.356080</td>\n",
       "      <td>929</td>\n",
       "      <td>32</td>\n",
       "      <td>112</td>\n",
       "      <td>132</td>\n",
       "      <td>7.138889</td>\n",
       "      <td>4.527778</td>\n",
       "    </tr>\n",
       "  </tbody>\n",
       "</table>\n",
       "<p>5 rows × 1828 columns</p>\n",
       "</div>"
      ],
      "text/plain": [
       "                 Cmpd                                             SMILES  \\\n",
       "0  Compuesto original  O=C(N/1)/C(SC1=N/C2=NC3=CC=C(F)C=C3S2)=C/N4CCN...   \n",
       "1          Compound 3         O=C1NC2=CC=C([H])C=C2/C1=N\\C3=CC=CC(Br)=N3   \n",
       "2          Compound 4       O=C1NC2=CC=CC=C2/C1=N\\C3=NC4=CC(OCC)=CC=C4S3   \n",
       "3          Compound 8           O=C1NC2=CC=C(Br)C=C2/C1=N\\C3=CC=CC(F)=N3   \n",
       "4          Compound 9  O=C1NC2=CC=C(Br)C=C2/C1=N/C3=CC([N+]([O-])=O)=...   \n",
       "\n",
       "                                                 ABC  \\\n",
       "0  module 'numpy' has no attribute 'float'.\\n `np...   \n",
       "1  module 'numpy' has no attribute 'float'.\\n `np...   \n",
       "2  module 'numpy' has no attribute 'float'.\\n `np...   \n",
       "3  module 'numpy' has no attribute 'float'.\\n `np...   \n",
       "4  module 'numpy' has no attribute 'float'.\\n `np...   \n",
       "\n",
       "                                               ABCGG  nAcid  nBase   SpAbs_A  \\\n",
       "0  module 'numpy' has no attribute 'float'.\\n `np...      0      3  34.64084   \n",
       "1  module 'numpy' has no attribute 'float'.\\n `np...      0      0  23.43385   \n",
       "2  module 'numpy' has no attribute 'float'.\\n `np...      0      0  30.43085   \n",
       "3  module 'numpy' has no attribute 'float'.\\n `np...      0      0  24.52891   \n",
       "4  module 'numpy' has no attribute 'float'.\\n `np...      0      0  27.00118   \n",
       "\n",
       "    SpMax_A  SpDiam_A    SpAD_A  ...      SRW10    TSRW10        MW  \\\n",
       "0  2.428932  4.709973  34.64084  ...  10.158170  78.17227  405.1093   \n",
       "1  2.452376  4.754134  23.43385  ...   9.792612  65.48686  300.9851   \n",
       "2  2.474251  4.745881  30.43085  ...  10.101640  73.78306  323.0728   \n",
       "3   2.46582  4.787297  24.52891  ...   9.873183  66.82214  318.9757   \n",
       "4  2.467278   4.80069  27.00118  ...   9.972407  69.29945  345.9702   \n",
       "\n",
       "         AMW WPath WPol Zagreb1 Zagreb2  mZagreb1  mZagreb2  \n",
       "0   8.619347  2138   39     146     171  8.361111  5.750000  \n",
       "1  11.576350   599   26      96     113  5.166667  3.916667  \n",
       "2   8.974246  1245   35     126     151  6.138889  5.027778  \n",
       "3  12.268290   693   28     102     120  6.027778  4.083333  \n",
       "4  12.356080   929   32     112     132  7.138889  4.527778  \n",
       "\n",
       "[5 rows x 1828 columns]"
      ]
     },
     "execution_count": 6,
     "metadata": {},
     "output_type": "execute_result"
    }
   ],
   "source": [
    "compounds_md.head()"
   ]
  },
  {
   "cell_type": "code",
   "execution_count": 7,
   "metadata": {
    "colab": {
     "base_uri": "https://localhost:8080/"
    },
    "executionInfo": {
     "elapsed": 152,
     "status": "ok",
     "timestamp": 1754806347984,
     "user": {
      "displayName": "Alan Gabriel Amaro Colin",
      "userId": "17298980579619170060"
     },
     "user_tz": 360
    },
    "id": "FwOMTbIfeZxe",
    "outputId": "d4e19ab7-1e86-4f28-c0cc-72e1b71f5ebc"
   },
   "outputs": [
    {
     "data": {
      "text/plain": [
       "(71, 1828)"
      ]
     },
     "execution_count": 7,
     "metadata": {},
     "output_type": "execute_result"
    }
   ],
   "source": [
    "compounds_md.shape"
   ]
  },
  {
   "cell_type": "code",
   "execution_count": 8,
   "metadata": {
    "colab": {
     "base_uri": "https://localhost:8080/",
     "height": 206
    },
    "executionInfo": {
     "elapsed": 68,
     "status": "ok",
     "timestamp": 1754806348065,
     "user": {
      "displayName": "Alan Gabriel Amaro Colin",
      "userId": "17298980579619170060"
     },
     "user_tz": 360
    },
    "id": "ab4UBiBFecAa",
    "outputId": "64071620-080b-4b49-bca8-25cc92379fd5"
   },
   "outputs": [
    {
     "data": {
      "text/html": [
       "<div>\n",
       "<style scoped>\n",
       "    .dataframe tbody tr th:only-of-type {\n",
       "        vertical-align: middle;\n",
       "    }\n",
       "\n",
       "    .dataframe tbody tr th {\n",
       "        vertical-align: top;\n",
       "    }\n",
       "\n",
       "    .dataframe thead th {\n",
       "        text-align: right;\n",
       "    }\n",
       "</style>\n",
       "<table border=\"1\" class=\"dataframe\">\n",
       "  <thead>\n",
       "    <tr style=\"text-align: right;\">\n",
       "      <th></th>\n",
       "      <th>Activity</th>\n",
       "    </tr>\n",
       "  </thead>\n",
       "  <tbody>\n",
       "    <tr>\n",
       "      <th>0</th>\n",
       "      <td>5.005513</td>\n",
       "    </tr>\n",
       "    <tr>\n",
       "      <th>1</th>\n",
       "      <td>4.381642</td>\n",
       "    </tr>\n",
       "    <tr>\n",
       "      <th>2</th>\n",
       "      <td>4.114064</td>\n",
       "    </tr>\n",
       "    <tr>\n",
       "      <th>3</th>\n",
       "      <td>5.012402</td>\n",
       "    </tr>\n",
       "    <tr>\n",
       "      <th>4</th>\n",
       "      <td>5.047677</td>\n",
       "    </tr>\n",
       "  </tbody>\n",
       "</table>\n",
       "</div>"
      ],
      "text/plain": [
       "   Activity\n",
       "0  5.005513\n",
       "1  4.381642\n",
       "2  4.114064\n",
       "3  5.012402\n",
       "4  5.047677"
      ]
     },
     "execution_count": 8,
     "metadata": {},
     "output_type": "execute_result"
    }
   ],
   "source": [
    "activity.head()"
   ]
  },
  {
   "cell_type": "code",
   "execution_count": 9,
   "metadata": {
    "colab": {
     "base_uri": "https://localhost:8080/"
    },
    "executionInfo": {
     "elapsed": 37,
     "status": "ok",
     "timestamp": 1754806348116,
     "user": {
      "displayName": "Alan Gabriel Amaro Colin",
      "userId": "17298980579619170060"
     },
     "user_tz": 360
    },
    "id": "fYz-3Re2eebA",
    "outputId": "1a9bb07d-d21a-4ca2-b93e-a21af222060c"
   },
   "outputs": [
    {
     "data": {
      "text/plain": [
       "(71, 1)"
      ]
     },
     "execution_count": 9,
     "metadata": {},
     "output_type": "execute_result"
    }
   ],
   "source": [
    "activity.shape"
   ]
  },
  {
   "cell_type": "markdown",
   "metadata": {
    "id": "IIU9JDRgfUWk"
   },
   "source": [
    "* The variable _x_ are the molecular descriptors, we're only interested in numerical properties:"
   ]
  },
  {
   "cell_type": "code",
   "execution_count": 10,
   "metadata": {
    "executionInfo": {
     "elapsed": 376,
     "status": "ok",
     "timestamp": 1754806348504,
     "user": {
      "displayName": "Alan Gabriel Amaro Colin",
      "userId": "17298980579619170060"
     },
     "user_tz": 360
    },
    "id": "OVvrgkBqeeXy"
   },
   "outputs": [],
   "source": [
    "x = compounds_md.copy()\n",
    "x = x.select_dtypes(\"number\")"
   ]
  },
  {
   "cell_type": "markdown",
   "metadata": {
    "id": "eyw0iNEPfbKq"
   },
   "source": [
    "## Applying Mutual Information to Molecular Descriptors"
   ]
  },
  {
   "cell_type": "markdown",
   "metadata": {
    "id": "EPCBSQMBbNf5"
   },
   "source": [
    "In the previous notebook, we have selected 3 molecular descriptors that are independent among them and present a high MI with respect to the bio-activity."
   ]
  },
  {
   "cell_type": "code",
   "execution_count": 11,
   "metadata": {
    "colab": {
     "base_uri": "https://localhost:8080/"
    },
    "executionInfo": {
     "elapsed": 376,
     "status": "ok",
     "timestamp": 1754806348508,
     "user": {
      "displayName": "Alan Gabriel Amaro Colin",
      "userId": "17298980579619170060"
     },
     "user_tz": 360
    },
    "id": "_55TahzCbUiO",
    "outputId": "943e13b7-622c-4195-98d9-39b408322575"
   },
   "outputs": [
    {
     "data": {
      "text/plain": [
       "(71, 2)"
      ]
     },
     "execution_count": 11,
     "metadata": {},
     "output_type": "execute_result"
    }
   ],
   "source": [
    "x_array = np.array(x[ ['piPC4', 'GATS3i'] ])\n",
    "x_array.shape"
   ]
  },
  {
   "cell_type": "code",
   "execution_count": 12,
   "metadata": {
    "colab": {
     "base_uri": "https://localhost:8080/"
    },
    "executionInfo": {
     "elapsed": 33,
     "status": "ok",
     "timestamp": 1754806348544,
     "user": {
      "displayName": "Alan Gabriel Amaro Colin",
      "userId": "17298980579619170060"
     },
     "user_tz": 360
    },
    "id": "qIbrbX4NblAQ",
    "outputId": "8060c218-8830-43f7-80c7-4d321cf844f1"
   },
   "outputs": [
    {
     "data": {
      "text/plain": [
       "(71,)"
      ]
     },
     "execution_count": 12,
     "metadata": {},
     "output_type": "execute_result"
    }
   ],
   "source": [
    "y_array = np.array( activity )[:, 0]\n",
    "y_array.shape"
   ]
  },
  {
   "cell_type": "markdown",
   "metadata": {
    "id": "HIvdru7Qb6n4"
   },
   "source": [
    "## Standarize Features"
   ]
  },
  {
   "cell_type": "code",
   "execution_count": 13,
   "metadata": {
    "executionInfo": {
     "elapsed": 35,
     "status": "ok",
     "timestamp": 1754806348583,
     "user": {
      "displayName": "Alan Gabriel Amaro Colin",
      "userId": "17298980579619170060"
     },
     "user_tz": 360
    },
    "id": "-4P8uMr8b8FA"
   },
   "outputs": [],
   "source": [
    "from sklearn.preprocessing import StandardScaler\n",
    "scaler = StandardScaler()"
   ]
  },
  {
   "cell_type": "code",
   "execution_count": 14,
   "metadata": {
    "colab": {
     "base_uri": "https://localhost:8080/"
    },
    "executionInfo": {
     "elapsed": 32,
     "status": "ok",
     "timestamp": 1754806348587,
     "user": {
      "displayName": "Alan Gabriel Amaro Colin",
      "userId": "17298980579619170060"
     },
     "user_tz": 360
    },
    "id": "Q1DtBVx8cGc3",
    "outputId": "e5a919ce-b9c7-4089-f736-f68d0234fcd6"
   },
   "outputs": [
    {
     "data": {
      "text/plain": [
       "(71, 2)"
      ]
     },
     "execution_count": 14,
     "metadata": {},
     "output_type": "execute_result"
    }
   ],
   "source": [
    "x_std = scaler.fit_transform(x_array)\n",
    "x_std.shape"
   ]
  },
  {
   "cell_type": "code",
   "execution_count": 15,
   "metadata": {
    "colab": {
     "base_uri": "https://localhost:8080/",
     "height": 469
    },
    "executionInfo": {
     "elapsed": 55,
     "status": "ok",
     "timestamp": 1754806348632,
     "user": {
      "displayName": "Alan Gabriel Amaro Colin",
      "userId": "17298980579619170060"
     },
     "user_tz": 360
    },
    "id": "TCAnYfB9cNJM",
    "outputId": "c67d1f14-718a-436c-c411-504973177ba7"
   },
   "outputs": [
    {
     "data": {
      "image/png": "[encoded data removed]",
      "text/plain": [
       "<Figure size 640x480 with 1 Axes>"
      ]
     },
     "metadata": {},
     "output_type": "display_data"
    },
    {
     "name": "stdout",
     "output_type": "stream",
     "text": [
      "The corresponding y element -> 5.15466738\n"
     ]
    }
   ],
   "source": [
    "plot_xy([x_std, y_array])"
   ]
  },
  {
   "cell_type": "markdown",
   "metadata": {
    "id": "lEUasbz0fl5I"
   },
   "source": [
    "## Splitting Train and Test"
   ]
  },
  {
   "cell_type": "code",
   "execution_count": 16,
   "metadata": {},
   "outputs": [],
   "source": [
    "from sklearn.model_selection import StratifiedKFold\n",
    "from sklearn.datasets import make_regression"
   ]
  },
  {
   "cell_type": "code",
   "execution_count": 17,
   "metadata": {},
   "outputs": [
    {
     "name": "stdin",
     "output_type": "stream",
     "text": [
      "Selecciona el K:  5\n"
     ]
    }
   ],
   "source": [
    "kint = int(input('Selecciona el K: '))"
   ]
  },
  {
   "cell_type": "code",
   "execution_count": 18,
   "metadata": {},
   "outputs": [],
   "source": [
    "# Convert the continuous target into bins\n",
    "n_bins = 6  # you can adjust this number\n",
    "y_binned = np.floor(\n",
    "    np.interp(y_array, (y_array.min(), y_array.max()), (0, n_bins))\n",
    "    ).astype(int)"
   ]
  },
  {
   "cell_type": "code",
   "execution_count": 19,
   "metadata": {},
   "outputs": [],
   "source": [
    "# Create StratifiedKFold with shuffle and seed\n",
    "skf = StratifiedKFold(n_splits=n_bins, shuffle=True, random_state=1360)"
   ]
  },
  {
   "cell_type": "code",
   "execution_count": 20,
   "metadata": {},
   "outputs": [
    {
     "name": "stderr",
     "output_type": "stream",
     "text": [
      "/home/alan-amaro/miniconda3/envs/farma/lib/python3.9/site-packages/sklearn/model_selection/_split.py:805: UserWarning: The least populated class in y has only 1 members, which is less than n_splits=6.\n",
      "  warnings.warn(\n"
     ]
    }
   ],
   "source": [
    "# Use the binned labels for stratification\n",
    "folds = []\n",
    "for fold, (train_idx, test_idx) in enumerate(skf.split(x_std, y_binned)):\n",
    "    x_train, x_test = x_std[train_idx], x_std[test_idx]\n",
    "    y_train, y_test = y_array[train_idx], y_array[test_idx]\n",
    "    folds.append([x_train, x_test, y_train, y_test])"
   ]
  },
  {
   "cell_type": "code",
   "execution_count": 21,
   "metadata": {},
   "outputs": [],
   "source": [
    "x_train = folds[kint][0]\n",
    "x_test = folds[kint][1]\n",
    "y_train = folds[kint][2]\n",
    "y_test = folds[kint][3]"
   ]
  },
  {
   "cell_type": "code",
   "execution_count": 22,
   "metadata": {},
   "outputs": [
    {
     "data": {
      "text/plain": [
       "((60, 2), (11, 2))"
      ]
     },
     "execution_count": 22,
     "metadata": {},
     "output_type": "execute_result"
    }
   ],
   "source": [
    "x_train.shape, x_test.shape"
   ]
  },
  {
   "cell_type": "code",
   "execution_count": 23,
   "metadata": {
    "colab": {
     "base_uri": "https://localhost:8080/",
     "height": 407
    },
    "executionInfo": {
     "elapsed": 290,
     "status": "ok",
     "timestamp": 1754806349003,
     "user": {
      "displayName": "Alan Gabriel Amaro Colin",
      "userId": "17298980579619170060"
     },
     "user_tz": 360
    },
    "id": "jw21eFGscdx1",
    "outputId": "697e87b9-d7bd-495f-de24-7f265201b3e5"
   },
   "outputs": [
    {
     "data": {
      "image/png": "[encoded data removed]",
      "text/plain": [
       "<Figure size 1000x400 with 2 Axes>"
      ]
     },
     "metadata": {},
     "output_type": "display_data"
    }
   ],
   "source": [
    "# Crear una figura con dos subplots en horizontal (1 fila, 2 columnas)\n",
    "fig, (ax1, ax2) = plt.subplots(1, 2, figsize=(10, 4))  # figsize ajusta el tamaño\n",
    "\n",
    "# Graficar la primera curva en el primer subplot\n",
    "ax1.hist(y_train, color='blue', label='train', bins = 6)\n",
    "ax1.set_title('Train Density')\n",
    "ax1.set_xlabel('x')\n",
    "ax1.set_ylabel('y')\n",
    "ax1.legend()\n",
    "\n",
    "# Graficar la segunda curva en el segundo subplot\n",
    "ax2.hist(y_test, color='red', label='test', bins = 6)\n",
    "ax2.set_title('Test Density')\n",
    "ax2.set_xlabel('x')\n",
    "ax2.set_ylabel('y')\n",
    "ax2.legend()\n",
    "\n",
    "# Ajustar el espacio entre los subplots\n",
    "plt.tight_layout()\n",
    "\n",
    "# Mostrar la figura\n",
    "plt.show()"
   ]
  },
  {
   "cell_type": "markdown",
   "metadata": {
    "id": "XESiE4f0cr7l"
   },
   "source": [
    "## Paths"
   ]
  },
  {
   "cell_type": "code",
   "execution_count": 24,
   "metadata": {
    "executionInfo": {
     "elapsed": 229,
     "status": "ok",
     "timestamp": 1754806349006,
     "user": {
      "displayName": "Alan Gabriel Amaro Colin",
      "userId": "17298980579619170060"
     },
     "user_tz": 360
    },
    "id": "hUxyWpwpcsqz"
   },
   "outputs": [],
   "source": [
    "name = 'DNN_MI_2_KFOLD_{}'.format(kint)\n",
    "if colab:\n",
    "    folder_path = '/content/drive/MyDrive/Colaboracion_Quimica/Main_Codes/AutoEncoders/models'\n",
    "else: \n",
    "    folder_path = '../models'\n",
    "    \n",
    "final_path = os.path.join(folder_path, name)"
   ]
  },
  {
   "cell_type": "markdown",
   "metadata": {
    "id": "aGZb-3Wacw2F"
   },
   "source": [
    "## Callbacks"
   ]
  },
  {
   "cell_type": "code",
   "execution_count": 25,
   "metadata": {
    "executionInfo": {
     "elapsed": 96,
     "status": "ok",
     "timestamp": 1754806349012,
     "user": {
      "displayName": "Alan Gabriel Amaro Colin",
      "userId": "17298980579619170060"
     },
     "user_tz": 360
    },
    "id": "UX_yCOQicxnI"
   },
   "outputs": [],
   "source": [
    "callbacks = standard_callbacks(folder_name= name,\n",
    "                               folder_path= folder_path,\n",
    "                               patiences= [120, 120], # 50 epochs without progress, and 2 epochs to reduce LR\n",
    "                               monitor = 'val_r2_score',\n",
    "                               flow_direction = 'max')"
   ]
  },
  {
   "cell_type": "markdown",
   "metadata": {},
   "source": [
    "## Keras Seed"
   ]
  },
  {
   "cell_type": "code",
   "execution_count": 26,
   "metadata": {},
   "outputs": [],
   "source": [
    "keras.utils.set_random_seed(1360)"
   ]
  },
  {
   "cell_type": "markdown",
   "metadata": {
    "id": "9cSL15E6c1zb"
   },
   "source": [
    "## DNN Model"
   ]
  },
  {
   "cell_type": "code",
   "execution_count": 27,
   "metadata": {
    "executionInfo": {
     "elapsed": 65,
     "status": "ok",
     "timestamp": 1754806349015,
     "user": {
      "displayName": "Alan Gabriel Amaro Colin",
      "userId": "17298980579619170060"
     },
     "user_tz": 360
    },
    "id": "qtUfEOFpczgn"
   },
   "outputs": [],
   "source": [
    "def _DNN():\n",
    "\n",
    "  inputs = keras.layers.Input((2,))\n",
    "\n",
    "  _DNN_ = G_Dense(\n",
    "      inputs = inputs,\n",
    "      nodes = [32, 161],\n",
    "      DP = 5,\n",
    "      n_final = 1,\n",
    "      act_func = 'leaky_relu',\n",
    "      final_act_func = 'relu',\n",
    "      WI = 'he_normal',\n",
    "      L1 = 0.0,\n",
    "      L2 = 0.0,\n",
    "      use_bias = True\n",
    "  )\n",
    "\n",
    "  return keras.models.Model(inputs = inputs, outputs = _DNN_)"
   ]
  },
  {
   "cell_type": "code",
   "execution_count": 28,
   "metadata": {
    "executionInfo": {
     "elapsed": 60,
     "status": "ok",
     "timestamp": 1754806349047,
     "user": {
      "displayName": "Alan Gabriel Amaro Colin",
      "userId": "17298980579619170060"
     },
     "user_tz": 360
    },
    "id": "KKix552XddZ9"
   },
   "outputs": [
    {
     "name": "stderr",
     "output_type": "stream",
     "text": [
      "2025-08-11 18:43:27.125283: E external/local_xla/xla/stream_executor/cuda/cuda_driver.cc:282] failed call to cuInit: CUDA_ERROR_NO_DEVICE: no CUDA-capable device is detected\n",
      "2025-08-11 18:43:27.125380: I external/local_xla/xla/stream_executor/cuda/cuda_diagnostics.cc:134] retrieving CUDA diagnostic information for host: alan-amaro-Nvidia\n",
      "2025-08-11 18:43:27.125393: I external/local_xla/xla/stream_executor/cuda/cuda_diagnostics.cc:141] hostname: alan-amaro-Nvidia\n",
      "2025-08-11 18:43:27.125667: I external/local_xla/xla/stream_executor/cuda/cuda_diagnostics.cc:165] libcuda reported version is: 570.169.0\n",
      "2025-08-11 18:43:27.125718: I external/local_xla/xla/stream_executor/cuda/cuda_diagnostics.cc:169] kernel reported version is: 570.169.0\n",
      "2025-08-11 18:43:27.125729: I external/local_xla/xla/stream_executor/cuda/cuda_diagnostics.cc:248] kernel version seems to match DSO: 570.169.0\n"
     ]
    }
   ],
   "source": [
    "model_DNN= _DNN()"
   ]
  },
  {
   "cell_type": "code",
   "execution_count": 29,
   "metadata": {
    "executionInfo": {
     "elapsed": 28,
     "status": "ok",
     "timestamp": 1754806349065,
     "user": {
      "displayName": "Alan Gabriel Amaro Colin",
      "userId": "17298980579619170060"
     },
     "user_tz": 360
    },
    "id": "Cj5XW39qdqDA"
   },
   "outputs": [],
   "source": [
    "model_DNN.compile(optimizer = keras.optimizers.Adam(),\n",
    "                    loss = 'mae',\n",
    "                    metrics = ['mape', 'r2_score'])"
   ]
  },
  {
   "cell_type": "code",
   "execution_count": 30,
   "metadata": {
    "executionInfo": {
     "elapsed": 165,
     "status": "ok",
     "timestamp": 1754806349225,
     "user": {
      "displayName": "Alan Gabriel Amaro Colin",
      "userId": "17298980579619170060"
     },
     "user_tz": 360
    },
    "id": "tRGw7jGHdz-e"
   },
   "outputs": [
    {
     "name": "stdout",
     "output_type": "stream",
     "text": [
      "You must install graphviz (see instructions at https://graphviz.gitlab.io/download/) for `plot_model` to work.\n"
     ]
    }
   ],
   "source": [
    "get_plot_model(model_DNN, folder_path= final_path)"
   ]
  },
  {
   "cell_type": "code",
   "execution_count": 31,
   "metadata": {
    "colab": {
     "base_uri": "https://localhost:8080/",
     "height": 561
    },
    "executionInfo": {
     "elapsed": 943,
     "status": "ok",
     "timestamp": 1754806350177,
     "user": {
      "displayName": "Alan Gabriel Amaro Colin",
      "userId": "17298980579619170060"
     },
     "user_tz": 360
    },
    "id": "2zVTR0NDd198",
    "outputId": "43756354-a27f-41f3-d829-9ac2675f62bf"
   },
   "outputs": [
    {
     "data": {
      "text/html": [
       "<pre style=\"white-space:pre;overflow-x:auto;line-height:normal;font-family:Menlo,'DejaVu Sans Mono',consolas,'Courier New',monospace\"><span style=\"font-weight: bold\">Model: \"functional\"</span>\n",
       "</pre>\n"
      ],
      "text/plain": [
       "\u001b[1mModel: \"functional\"\u001b[0m\n"
      ]
     },
     "metadata": {},
     "output_type": "display_data"
    },
    {
     "data": {
      "text/html": [
       "<pre style=\"white-space:pre;overflow-x:auto;line-height:normal;font-family:Menlo,'DejaVu Sans Mono',consolas,'Courier New',monospace\">┏━━━━━━━━━━━━━━━━━━━━━━━━━━━━━━━━━┳━━━━━━━━━━━━━━━━━━━━━━━━┳━━━━━━━━━━━━━━━┓\n",
       "┃<span style=\"font-weight: bold\"> Layer (type)                    </span>┃<span style=\"font-weight: bold\"> Output Shape           </span>┃<span style=\"font-weight: bold\">       Param # </span>┃\n",
       "┡━━━━━━━━━━━━━━━━━━━━━━━━━━━━━━━━━╇━━━━━━━━━━━━━━━━━━━━━━━━╇━━━━━━━━━━━━━━━┩\n",
       "│ input_layer (<span style=\"color: #0087ff; text-decoration-color: #0087ff\">InputLayer</span>)        │ (<span style=\"color: #00d7ff; text-decoration-color: #00d7ff\">None</span>, <span style=\"color: #00af00; text-decoration-color: #00af00\">2</span>)              │             <span style=\"color: #00af00; text-decoration-color: #00af00\">0</span> │\n",
       "├─────────────────────────────────┼────────────────────────┼───────────────┤\n",
       "│ dense (<span style=\"color: #0087ff; text-decoration-color: #0087ff\">Dense</span>)                   │ (<span style=\"color: #00d7ff; text-decoration-color: #00d7ff\">None</span>, <span style=\"color: #00af00; text-decoration-color: #00af00\">32</span>)             │            <span style=\"color: #00af00; text-decoration-color: #00af00\">96</span> │\n",
       "├─────────────────────────────────┼────────────────────────┼───────────────┤\n",
       "│ dropout (<span style=\"color: #0087ff; text-decoration-color: #0087ff\">Dropout</span>)               │ (<span style=\"color: #00d7ff; text-decoration-color: #00d7ff\">None</span>, <span style=\"color: #00af00; text-decoration-color: #00af00\">32</span>)             │             <span style=\"color: #00af00; text-decoration-color: #00af00\">0</span> │\n",
       "├─────────────────────────────────┼────────────────────────┼───────────────┤\n",
       "│ batch_normalization             │ (<span style=\"color: #00d7ff; text-decoration-color: #00d7ff\">None</span>, <span style=\"color: #00af00; text-decoration-color: #00af00\">32</span>)             │           <span style=\"color: #00af00; text-decoration-color: #00af00\">128</span> │\n",
       "│ (<span style=\"color: #0087ff; text-decoration-color: #0087ff\">BatchNormalization</span>)            │                        │               │\n",
       "├─────────────────────────────────┼────────────────────────┼───────────────┤\n",
       "│ dense_1 (<span style=\"color: #0087ff; text-decoration-color: #0087ff\">Dense</span>)                 │ (<span style=\"color: #00d7ff; text-decoration-color: #00d7ff\">None</span>, <span style=\"color: #00af00; text-decoration-color: #00af00\">161</span>)            │         <span style=\"color: #00af00; text-decoration-color: #00af00\">5,313</span> │\n",
       "├─────────────────────────────────┼────────────────────────┼───────────────┤\n",
       "│ dropout_1 (<span style=\"color: #0087ff; text-decoration-color: #0087ff\">Dropout</span>)             │ (<span style=\"color: #00d7ff; text-decoration-color: #00d7ff\">None</span>, <span style=\"color: #00af00; text-decoration-color: #00af00\">161</span>)            │             <span style=\"color: #00af00; text-decoration-color: #00af00\">0</span> │\n",
       "├─────────────────────────────────┼────────────────────────┼───────────────┤\n",
       "│ batch_normalization_1           │ (<span style=\"color: #00d7ff; text-decoration-color: #00d7ff\">None</span>, <span style=\"color: #00af00; text-decoration-color: #00af00\">161</span>)            │           <span style=\"color: #00af00; text-decoration-color: #00af00\">644</span> │\n",
       "│ (<span style=\"color: #0087ff; text-decoration-color: #0087ff\">BatchNormalization</span>)            │                        │               │\n",
       "├─────────────────────────────────┼────────────────────────┼───────────────┤\n",
       "│ dense_2 (<span style=\"color: #0087ff; text-decoration-color: #0087ff\">Dense</span>)                 │ (<span style=\"color: #00d7ff; text-decoration-color: #00d7ff\">None</span>, <span style=\"color: #00af00; text-decoration-color: #00af00\">1</span>)              │           <span style=\"color: #00af00; text-decoration-color: #00af00\">162</span> │\n",
       "└─────────────────────────────────┴────────────────────────┴───────────────┘\n",
       "</pre>\n"
      ],
      "text/plain": [
       "┏━━━━━━━━━━━━━━━━━━━━━━━━━━━━━━━━━┳━━━━━━━━━━━━━━━━━━━━━━━━┳━━━━━━━━━━━━━━━┓\n",
       "┃\u001b[1m \u001b[0m\u001b[1mLayer (type)                   \u001b[0m\u001b[1m \u001b[0m┃\u001b[1m \u001b[0m\u001b[1mOutput Shape          \u001b[0m\u001b[1m \u001b[0m┃\u001b[1m \u001b[0m\u001b[1m      Param #\u001b[0m\u001b[1m \u001b[0m┃\n",
       "┡━━━━━━━━━━━━━━━━━━━━━━━━━━━━━━━━━╇━━━━━━━━━━━━━━━━━━━━━━━━╇━━━━━━━━━━━━━━━┩\n",
       "│ input_layer (\u001b[38;5;33mInputLayer\u001b[0m)        │ (\u001b[38;5;45mNone\u001b[0m, \u001b[38;5;34m2\u001b[0m)              │             \u001b[38;5;34m0\u001b[0m │\n",
       "├─────────────────────────────────┼────────────────────────┼───────────────┤\n",
       "│ dense (\u001b[38;5;33mDense\u001b[0m)                   │ (\u001b[38;5;45mNone\u001b[0m, \u001b[38;5;34m32\u001b[0m)             │            \u001b[38;5;34m96\u001b[0m │\n",
       "├─────────────────────────────────┼────────────────────────┼───────────────┤\n",
       "│ dropout (\u001b[38;5;33mDropout\u001b[0m)               │ (\u001b[38;5;45mNone\u001b[0m, \u001b[38;5;34m32\u001b[0m)             │             \u001b[38;5;34m0\u001b[0m │\n",
       "├─────────────────────────────────┼────────────────────────┼───────────────┤\n",
       "│ batch_normalization             │ (\u001b[38;5;45mNone\u001b[0m, \u001b[38;5;34m32\u001b[0m)             │           \u001b[38;5;34m128\u001b[0m │\n",
       "│ (\u001b[38;5;33mBatchNormalization\u001b[0m)            │                        │               │\n",
       "├─────────────────────────────────┼────────────────────────┼───────────────┤\n",
       "│ dense_1 (\u001b[38;5;33mDense\u001b[0m)                 │ (\u001b[38;5;45mNone\u001b[0m, \u001b[38;5;34m161\u001b[0m)            │         \u001b[38;5;34m5,313\u001b[0m │\n",
       "├─────────────────────────────────┼────────────────────────┼───────────────┤\n",
       "│ dropout_1 (\u001b[38;5;33mDropout\u001b[0m)             │ (\u001b[38;5;45mNone\u001b[0m, \u001b[38;5;34m161\u001b[0m)            │             \u001b[38;5;34m0\u001b[0m │\n",
       "├─────────────────────────────────┼────────────────────────┼───────────────┤\n",
       "│ batch_normalization_1           │ (\u001b[38;5;45mNone\u001b[0m, \u001b[38;5;34m161\u001b[0m)            │           \u001b[38;5;34m644\u001b[0m │\n",
       "│ (\u001b[38;5;33mBatchNormalization\u001b[0m)            │                        │               │\n",
       "├─────────────────────────────────┼────────────────────────┼───────────────┤\n",
       "│ dense_2 (\u001b[38;5;33mDense\u001b[0m)                 │ (\u001b[38;5;45mNone\u001b[0m, \u001b[38;5;34m1\u001b[0m)              │           \u001b[38;5;34m162\u001b[0m │\n",
       "└─────────────────────────────────┴────────────────────────┴───────────────┘\n"
      ]
     },
     "metadata": {},
     "output_type": "display_data"
    },
    {
     "data": {
      "text/html": [
       "<pre style=\"white-space:pre;overflow-x:auto;line-height:normal;font-family:Menlo,'DejaVu Sans Mono',consolas,'Courier New',monospace\"><span style=\"font-weight: bold\"> Total params: </span><span style=\"color: #00af00; text-decoration-color: #00af00\">6,343</span> (24.78 KB)\n",
       "</pre>\n"
      ],
      "text/plain": [
       "\u001b[1m Total params: \u001b[0m\u001b[38;5;34m6,343\u001b[0m (24.78 KB)\n"
      ]
     },
     "metadata": {},
     "output_type": "display_data"
    },
    {
     "data": {
      "text/html": [
       "<pre style=\"white-space:pre;overflow-x:auto;line-height:normal;font-family:Menlo,'DejaVu Sans Mono',consolas,'Courier New',monospace\"><span style=\"font-weight: bold\"> Trainable params: </span><span style=\"color: #00af00; text-decoration-color: #00af00\">5,957</span> (23.27 KB)\n",
       "</pre>\n"
      ],
      "text/plain": [
       "\u001b[1m Trainable params: \u001b[0m\u001b[38;5;34m5,957\u001b[0m (23.27 KB)\n"
      ]
     },
     "metadata": {},
     "output_type": "display_data"
    },
    {
     "data": {
      "text/html": [
       "<pre style=\"white-space:pre;overflow-x:auto;line-height:normal;font-family:Menlo,'DejaVu Sans Mono',consolas,'Courier New',monospace\"><span style=\"font-weight: bold\"> Non-trainable params: </span><span style=\"color: #00af00; text-decoration-color: #00af00\">386</span> (1.51 KB)\n",
       "</pre>\n"
      ],
      "text/plain": [
       "\u001b[1m Non-trainable params: \u001b[0m\u001b[38;5;34m386\u001b[0m (1.51 KB)\n"
      ]
     },
     "metadata": {},
     "output_type": "display_data"
    }
   ],
   "source": [
    "model_DNN.summary()"
   ]
  },
  {
   "cell_type": "markdown",
   "metadata": {
    "id": "VePpd9xSd7LC"
   },
   "source": [
    "## Training"
   ]
  },
  {
   "cell_type": "code",
   "execution_count": 32,
   "metadata": {
    "colab": {
     "base_uri": "https://localhost:8080/"
    },
    "executionInfo": {
     "elapsed": 35843,
     "status": "ok",
     "timestamp": 1754806386025,
     "user": {
      "displayName": "Alan Gabriel Amaro Colin",
      "userId": "17298980579619170060"
     },
     "user_tz": 360
    },
    "id": "GDvu_7QDd4HI",
    "outputId": "8229ee31-6f5a-4ed6-8217-42d1f0763bd6"
   },
   "outputs": [
    {
     "name": "stdout",
     "output_type": "stream",
     "text": [
      "Epoch 1/1000\n",
      "\u001b[1m5/5\u001b[0m \u001b[32m━━━━━━━━━━━━━━━━━━━━\u001b[0m\u001b[37m\u001b[0m \u001b[1m4s\u001b[0m 211ms/step - loss: 4.1442 - mape: 85.5996 - r2_score: -34.2888 - val_loss: 4.3196 - val_mape: 87.8239 - val_r2_score: -33.5475 - learning_rate: 0.0010\n",
      "Epoch 2/1000\n",
      "\u001b[1m5/5\u001b[0m \u001b[32m━━━━━━━━━━━━━━━━━━━━\u001b[0m\u001b[37m\u001b[0m \u001b[1m0s\u001b[0m 82ms/step - loss: 3.7049 - mape: 75.1570 - r2_score: -30.3117 - val_loss: 4.1220 - val_mape: 83.1927 - val_r2_score: -32.0659 - learning_rate: 0.0010\n",
      "Epoch 3/1000\n",
      "\u001b[1m5/5\u001b[0m \u001b[32m━━━━━━━━━━━━━━━━━━━━\u001b[0m\u001b[37m\u001b[0m \u001b[1m0s\u001b[0m 86ms/step - loss: 3.3681 - mape: 67.5853 - r2_score: -27.7682 - val_loss: 3.9867 - val_mape: 80.4153 - val_r2_score: -31.0624 - learning_rate: 0.0010\n",
      "Epoch 4/1000\n",
      "\u001b[1m5/5\u001b[0m \u001b[32m━━━━━━━━━━━━━━━━━━━━\u001b[0m\u001b[37m\u001b[0m \u001b[1m0s\u001b[0m 84ms/step - loss: 3.0632 - mape: 61.1622 - r2_score: -24.9263 - val_loss: 3.9164 - val_mape: 78.9760 - val_r2_score: -30.6512 - learning_rate: 0.0010\n",
      "Epoch 5/1000\n",
      "\u001b[1m5/5\u001b[0m \u001b[32m━━━━━━━━━━━━━━━━━━━━\u001b[0m\u001b[37m\u001b[0m \u001b[1m0s\u001b[0m 84ms/step - loss: 3.0874 - mape: 62.5280 - r2_score: -23.7379 - val_loss: 3.9114 - val_mape: 78.9239 - val_r2_score: -30.6020 - learning_rate: 0.0010\n",
      "Epoch 6/1000\n",
      "\u001b[1m5/5\u001b[0m \u001b[32m━━━━━━━━━━━━━━━━━━━━\u001b[0m\u001b[37m\u001b[0m \u001b[1m0s\u001b[0m 66ms/step - loss: 3.0495 - mape: 61.4933 - r2_score: -23.1956 - val_loss: 3.9322 - val_mape: 79.2686 - val_r2_score: -30.7572 - learning_rate: 0.0010\n",
      "Epoch 7/1000\n",
      "\u001b[1m5/5\u001b[0m \u001b[32m━━━━━━━━━━━━━━━━━━━━\u001b[0m\u001b[37m\u001b[0m \u001b[1m0s\u001b[0m 71ms/step - loss: 3.0581 - mape: 61.7717 - r2_score: -23.3719 - val_loss: 3.9726 - val_mape: 80.0532 - val_r2_score: -31.0208 - learning_rate: 0.0010\n",
      "Epoch 8/1000\n",
      "\u001b[1m5/5\u001b[0m \u001b[32m━━━━━━━━━━━━━━━━━━━━\u001b[0m\u001b[37m\u001b[0m \u001b[1m0s\u001b[0m 70ms/step - loss: 2.6485 - mape: 53.2118 - r2_score: -19.6663 - val_loss: 4.0013 - val_mape: 80.6523 - val_r2_score: -31.2012 - learning_rate: 0.0010\n",
      "Epoch 9/1000\n",
      "\u001b[1m5/5\u001b[0m \u001b[32m━━━━━━━━━━━━━━━━━━━━\u001b[0m\u001b[37m\u001b[0m \u001b[1m0s\u001b[0m 68ms/step - loss: 2.5572 - mape: 51.6480 - r2_score: -18.5433 - val_loss: 4.0159 - val_mape: 81.1899 - val_r2_score: -31.1543 - learning_rate: 0.0010\n",
      "Epoch 10/1000\n",
      "\u001b[1m5/5\u001b[0m \u001b[32m━━━━━━━━━━━━━━━━━━━━\u001b[0m\u001b[37m\u001b[0m \u001b[1m0s\u001b[0m 67ms/step - loss: 2.5324 - mape: 51.3221 - r2_score: -17.6539 - val_loss: 4.0226 - val_mape: 81.7666 - val_r2_score: -30.9914 - learning_rate: 0.0010\n",
      "Epoch 11/1000\n",
      "\u001b[1m5/5\u001b[0m \u001b[32m━━━━━━━━━━━━━━━━━━━━\u001b[0m\u001b[37m\u001b[0m \u001b[1m0s\u001b[0m 66ms/step - loss: 2.7434 - mape: 56.0842 - r2_score: -19.0704 - val_loss: 4.0070 - val_mape: 81.5943 - val_r2_score: -30.8484 - learning_rate: 0.0010\n",
      "Epoch 12/1000\n",
      "\u001b[1m5/5\u001b[0m \u001b[32m━━━━━━━━━━━━━━━━━━━━\u001b[0m\u001b[37m\u001b[0m \u001b[1m0s\u001b[0m 68ms/step - loss: 2.3797 - mape: 48.6388 - r2_score: -17.3580 - val_loss: 3.9872 - val_mape: 81.3782 - val_r2_score: -30.6903 - learning_rate: 0.0010\n",
      "Epoch 13/1000\n",
      "\u001b[1m5/5\u001b[0m \u001b[32m━━━━━━━━━━━━━━━━━━━━\u001b[0m\u001b[37m\u001b[0m \u001b[1m0s\u001b[0m 63ms/step - loss: 2.4608 - mape: 50.5864 - r2_score: -17.4794 - val_loss: 3.9772 - val_mape: 81.2359 - val_r2_score: -30.6271 - learning_rate: 0.0010\n",
      "Epoch 14/1000\n",
      "\u001b[1m5/5\u001b[0m \u001b[32m━━━━━━━━━━━━━━━━━━━━\u001b[0m\u001b[37m\u001b[0m \u001b[1m0s\u001b[0m 66ms/step - loss: 2.3904 - mape: 49.4865 - r2_score: -16.5903 - val_loss: 3.9851 - val_mape: 81.3928 - val_r2_score: -30.6694 - learning_rate: 0.0010\n",
      "Epoch 15/1000\n",
      "\u001b[1m5/5\u001b[0m \u001b[32m━━━━━━━━━━━━━━━━━━━━\u001b[0m\u001b[37m\u001b[0m \u001b[1m0s\u001b[0m 63ms/step - loss: 2.1349 - mape: 43.7344 - r2_score: -15.0527 - val_loss: 3.9795 - val_mape: 81.3331 - val_r2_score: -30.6323 - learning_rate: 0.0010\n",
      "Epoch 16/1000\n",
      "\u001b[1m5/5\u001b[0m \u001b[32m━━━━━━━━━━━━━━━━━━━━\u001b[0m\u001b[37m\u001b[0m \u001b[1m0s\u001b[0m 79ms/step - loss: 2.1690 - mape: 45.0709 - r2_score: -14.9393 - val_loss: 3.9377 - val_mape: 80.3585 - val_r2_score: -30.3065 - learning_rate: 0.0010\n",
      "Epoch 17/1000\n",
      "\u001b[1m5/5\u001b[0m \u001b[32m━━━━━━━━━━━━━━━━━━━━\u001b[0m\u001b[37m\u001b[0m \u001b[1m0s\u001b[0m 78ms/step - loss: 2.2334 - mape: 46.6203 - r2_score: -15.2064 - val_loss: 3.8697 - val_mape: 78.7680 - val_r2_score: -29.8355 - learning_rate: 0.0010\n",
      "Epoch 18/1000\n",
      "\u001b[1m5/5\u001b[0m \u001b[32m━━━━━━━━━━━━━━━━━━━━\u001b[0m\u001b[37m\u001b[0m \u001b[1m0s\u001b[0m 84ms/step - loss: 2.1494 - mape: 44.7281 - r2_score: -14.7616 - val_loss: 3.8127 - val_mape: 77.6318 - val_r2_score: -29.3877 - learning_rate: 0.0010\n",
      "Epoch 19/1000\n",
      "\u001b[1m5/5\u001b[0m \u001b[32m━━━━━━━━━━━━━━━━━━━━\u001b[0m\u001b[37m\u001b[0m \u001b[1m0s\u001b[0m 82ms/step - loss: 2.1643 - mape: 44.5452 - r2_score: -14.7472 - val_loss: 3.7533 - val_mape: 76.1956 - val_r2_score: -29.0543 - learning_rate: 0.0010\n",
      "Epoch 20/1000\n",
      "\u001b[1m5/5\u001b[0m \u001b[32m━━━━━━━━━━━━━━━━━━━━\u001b[0m\u001b[37m\u001b[0m \u001b[1m0s\u001b[0m 77ms/step - loss: 2.1636 - mape: 44.8652 - r2_score: -14.7712 - val_loss: 3.7226 - val_mape: 75.4195 - val_r2_score: -28.8103 - learning_rate: 0.0010\n",
      "Epoch 21/1000\n",
      "\u001b[1m5/5\u001b[0m \u001b[32m━━━━━━━━━━━━━━━━━━━━\u001b[0m\u001b[37m\u001b[0m \u001b[1m0s\u001b[0m 77ms/step - loss: 2.2706 - mape: 47.3200 - r2_score: -15.7781 - val_loss: 3.6933 - val_mape: 74.7977 - val_r2_score: -28.5223 - learning_rate: 0.0010\n",
      "Epoch 22/1000\n",
      "\u001b[1m5/5\u001b[0m \u001b[32m━━━━━━━━━━━━━━━━━━━━\u001b[0m\u001b[37m\u001b[0m \u001b[1m0s\u001b[0m 77ms/step - loss: 2.0908 - mape: 43.0557 - r2_score: -14.3135 - val_loss: 3.6962 - val_mape: 74.9946 - val_r2_score: -28.3063 - learning_rate: 0.0010\n",
      "Epoch 23/1000\n",
      "\u001b[1m5/5\u001b[0m \u001b[32m━━━━━━━━━━━━━━━━━━━━\u001b[0m\u001b[37m\u001b[0m \u001b[1m0s\u001b[0m 78ms/step - loss: 2.2279 - mape: 46.2730 - r2_score: -15.0710 - val_loss: 3.6729 - val_mape: 74.5638 - val_r2_score: -28.0060 - learning_rate: 0.0010\n",
      "Epoch 24/1000\n",
      "\u001b[1m5/5\u001b[0m \u001b[32m━━━━━━━━━━━━━━━━━━━━\u001b[0m\u001b[37m\u001b[0m \u001b[1m0s\u001b[0m 78ms/step - loss: 2.0838 - mape: 42.9461 - r2_score: -14.3100 - val_loss: 3.6594 - val_mape: 74.6020 - val_r2_score: -27.6900 - learning_rate: 0.0010\n",
      "Epoch 25/1000\n",
      "\u001b[1m5/5\u001b[0m \u001b[32m━━━━━━━━━━━━━━━━━━━━\u001b[0m\u001b[37m\u001b[0m \u001b[1m0s\u001b[0m 77ms/step - loss: 2.0897 - mape: 43.2567 - r2_score: -14.1512 - val_loss: 3.6242 - val_mape: 74.0766 - val_r2_score: -27.3894 - learning_rate: 0.0010\n",
      "Epoch 26/1000\n",
      "\u001b[1m5/5\u001b[0m \u001b[32m━━━━━━━━━━━━━━━━━━━━\u001b[0m\u001b[37m\u001b[0m \u001b[1m0s\u001b[0m 78ms/step - loss: 2.0940 - mape: 43.6591 - r2_score: -14.0078 - val_loss: 3.5793 - val_mape: 73.0602 - val_r2_score: -27.1429 - learning_rate: 0.0010\n",
      "Epoch 27/1000\n",
      "\u001b[1m5/5\u001b[0m \u001b[32m━━━━━━━━━━━━━━━━━━━━\u001b[0m\u001b[37m\u001b[0m \u001b[1m0s\u001b[0m 82ms/step - loss: 2.2003 - mape: 45.8089 - r2_score: -14.4389 - val_loss: 3.5515 - val_mape: 72.2143 - val_r2_score: -26.9982 - learning_rate: 0.0010\n",
      "Epoch 28/1000\n",
      "\u001b[1m5/5\u001b[0m \u001b[32m━━━━━━━━━━━━━━━━━━━━\u001b[0m\u001b[37m\u001b[0m \u001b[1m0s\u001b[0m 78ms/step - loss: 2.1014 - mape: 43.4507 - r2_score: -13.8997 - val_loss: 3.5464 - val_mape: 72.1598 - val_r2_score: -26.8326 - learning_rate: 0.0010\n",
      "Epoch 29/1000\n",
      "\u001b[1m5/5\u001b[0m \u001b[32m━━━━━━━━━━━━━━━━━━━━\u001b[0m\u001b[37m\u001b[0m \u001b[1m0s\u001b[0m 77ms/step - loss: 1.9462 - mape: 40.3055 - r2_score: -13.3691 - val_loss: 3.5419 - val_mape: 72.2453 - val_r2_score: -26.6854 - learning_rate: 0.0010\n",
      "Epoch 30/1000\n",
      "\u001b[1m5/5\u001b[0m \u001b[32m━━━━━━━━━━━━━━━━━━━━\u001b[0m\u001b[37m\u001b[0m \u001b[1m0s\u001b[0m 77ms/step - loss: 1.9327 - mape: 40.1763 - r2_score: -13.5679 - val_loss: 3.5211 - val_mape: 71.8305 - val_r2_score: -26.5247 - learning_rate: 0.0010\n",
      "Epoch 31/1000\n",
      "\u001b[1m5/5\u001b[0m \u001b[32m━━━━━━━━━━━━━━━━━━━━\u001b[0m\u001b[37m\u001b[0m \u001b[1m0s\u001b[0m 77ms/step - loss: 1.9792 - mape: 41.2130 - r2_score: -13.5506 - val_loss: 3.4954 - val_mape: 71.6264 - val_r2_score: -26.2862 - learning_rate: 0.0010\n",
      "Epoch 32/1000\n",
      "\u001b[1m5/5\u001b[0m \u001b[32m━━━━━━━━━━━━━━━━━━━━\u001b[0m\u001b[37m\u001b[0m \u001b[1m0s\u001b[0m 77ms/step - loss: 1.9854 - mape: 41.5928 - r2_score: -13.6586 - val_loss: 3.4779 - val_mape: 71.4132 - val_r2_score: -26.1428 - learning_rate: 0.0010\n",
      "Epoch 33/1000\n",
      "\u001b[1m5/5\u001b[0m \u001b[32m━━━━━━━━━━━━━━━━━━━━\u001b[0m\u001b[37m\u001b[0m \u001b[1m0s\u001b[0m 78ms/step - loss: 2.0793 - mape: 43.0297 - r2_score: -13.9255 - val_loss: 3.4618 - val_mape: 70.8235 - val_r2_score: -26.0458 - learning_rate: 0.0010\n",
      "Epoch 34/1000\n",
      "\u001b[1m5/5\u001b[0m \u001b[32m━━━━━━━━━━━━━━━━━━━━\u001b[0m\u001b[37m\u001b[0m \u001b[1m0s\u001b[0m 77ms/step - loss: 1.9742 - mape: 40.8745 - r2_score: -13.5479 - val_loss: 3.4594 - val_mape: 70.8110 - val_r2_score: -25.9588 - learning_rate: 0.0010\n",
      "Epoch 35/1000\n",
      "\u001b[1m5/5\u001b[0m \u001b[32m━━━━━━━━━━━━━━━━━━━━\u001b[0m\u001b[37m\u001b[0m \u001b[1m0s\u001b[0m 77ms/step - loss: 1.8564 - mape: 38.6550 - r2_score: -12.8315 - val_loss: 3.4543 - val_mape: 70.7888 - val_r2_score: -25.8371 - learning_rate: 0.0010\n",
      "Epoch 36/1000\n",
      "\u001b[1m5/5\u001b[0m \u001b[32m━━━━━━━━━━━━━━━━━━━━\u001b[0m\u001b[37m\u001b[0m \u001b[1m0s\u001b[0m 78ms/step - loss: 1.8499 - mape: 38.6307 - r2_score: -12.5942 - val_loss: 3.4409 - val_mape: 70.4166 - val_r2_score: -25.7095 - learning_rate: 0.0010\n",
      "Epoch 37/1000\n",
      "\u001b[1m5/5\u001b[0m \u001b[32m━━━━━━━━━━━━━━━━━━━━\u001b[0m\u001b[37m\u001b[0m \u001b[1m0s\u001b[0m 77ms/step - loss: 1.8438 - mape: 38.4644 - r2_score: -12.3070 - val_loss: 3.4372 - val_mape: 70.6440 - val_r2_score: -25.5765 - learning_rate: 0.0010\n",
      "Epoch 38/1000\n",
      "\u001b[1m5/5\u001b[0m \u001b[32m━━━━━━━━━━━━━━━━━━━━\u001b[0m\u001b[37m\u001b[0m \u001b[1m0s\u001b[0m 78ms/step - loss: 1.8964 - mape: 39.6149 - r2_score: -12.4844 - val_loss: 3.3956 - val_mape: 69.9314 - val_r2_score: -25.1412 - learning_rate: 0.0010\n",
      "Epoch 39/1000\n",
      "\u001b[1m5/5\u001b[0m \u001b[32m━━━━━━━━━━━━━━━━━━━━\u001b[0m\u001b[37m\u001b[0m \u001b[1m0s\u001b[0m 77ms/step - loss: 1.9706 - mape: 40.5196 - r2_score: -13.0576 - val_loss: 3.3837 - val_mape: 70.1274 - val_r2_score: -24.5824 - learning_rate: 0.0010\n",
      "Epoch 40/1000\n",
      "\u001b[1m5/5\u001b[0m \u001b[32m━━━━━━━━━━━━━━━━━━━━\u001b[0m\u001b[37m\u001b[0m \u001b[1m0s\u001b[0m 78ms/step - loss: 1.8653 - mape: 38.7424 - r2_score: -12.7360 - val_loss: 3.3199 - val_mape: 68.4772 - val_r2_score: -24.2229 - learning_rate: 0.0010\n",
      "Epoch 41/1000\n",
      "\u001b[1m5/5\u001b[0m \u001b[32m━━━━━━━━━━━━━━━━━━━━\u001b[0m\u001b[37m\u001b[0m \u001b[1m0s\u001b[0m 78ms/step - loss: 1.7552 - mape: 36.9079 - r2_score: -11.8334 - val_loss: 3.2545 - val_mape: 66.8312 - val_r2_score: -23.9144 - learning_rate: 0.0010\n",
      "Epoch 42/1000\n",
      "\u001b[1m5/5\u001b[0m \u001b[32m━━━━━━━━━━━━━━━━━━━━\u001b[0m\u001b[37m\u001b[0m \u001b[1m0s\u001b[0m 78ms/step - loss: 1.8164 - mape: 37.6906 - r2_score: -12.1563 - val_loss: 3.2157 - val_mape: 65.9328 - val_r2_score: -23.5983 - learning_rate: 0.0010\n",
      "Epoch 43/1000\n",
      "\u001b[1m5/5\u001b[0m \u001b[32m━━━━━━━━━━━━━━━━━━━━\u001b[0m\u001b[37m\u001b[0m \u001b[1m0s\u001b[0m 77ms/step - loss: 1.7391 - mape: 36.6093 - r2_score: -11.0741 - val_loss: 3.1802 - val_mape: 65.1708 - val_r2_score: -23.2600 - learning_rate: 0.0010\n",
      "Epoch 44/1000\n",
      "\u001b[1m5/5\u001b[0m \u001b[32m━━━━━━━━━━━━━━━━━━━━\u001b[0m\u001b[37m\u001b[0m \u001b[1m0s\u001b[0m 78ms/step - loss: 1.7406 - mape: 36.4870 - r2_score: -11.6028 - val_loss: 3.1606 - val_mape: 64.8566 - val_r2_score: -22.9229 - learning_rate: 0.0010\n",
      "Epoch 45/1000\n",
      "\u001b[1m5/5\u001b[0m \u001b[32m━━━━━━━━━━━━━━━━━━━━\u001b[0m\u001b[37m\u001b[0m \u001b[1m0s\u001b[0m 77ms/step - loss: 1.9422 - mape: 40.9115 - r2_score: -12.0056 - val_loss: 3.1343 - val_mape: 64.2832 - val_r2_score: -22.6801 - learning_rate: 0.0010\n",
      "Epoch 46/1000\n",
      "\u001b[1m5/5\u001b[0m \u001b[32m━━━━━━━━━━━━━━━━━━━━\u001b[0m\u001b[37m\u001b[0m \u001b[1m0s\u001b[0m 77ms/step - loss: 1.6582 - mape: 34.5903 - r2_score: -11.1009 - val_loss: 3.1005 - val_mape: 63.5537 - val_r2_score: -22.4944 - learning_rate: 0.0010\n",
      "Epoch 47/1000\n",
      "\u001b[1m5/5\u001b[0m \u001b[32m━━━━━━━━━━━━━━━━━━━━\u001b[0m\u001b[37m\u001b[0m \u001b[1m1s\u001b[0m 94ms/step - loss: 1.6515 - mape: 34.4116 - r2_score: -11.0346 - val_loss: 3.0774 - val_mape: 63.3160 - val_r2_score: -22.2379 - learning_rate: 0.0010\n",
      "Epoch 48/1000\n",
      "\u001b[1m5/5\u001b[0m \u001b[32m━━━━━━━━━━━━━━━━━━━━\u001b[0m\u001b[37m\u001b[0m \u001b[1m0s\u001b[0m 80ms/step - loss: 1.8001 - mape: 37.3990 - r2_score: -11.4774 - val_loss: 3.0517 - val_mape: 62.8649 - val_r2_score: -22.0811 - learning_rate: 0.0010\n",
      "Epoch 49/1000\n",
      "\u001b[1m5/5\u001b[0m \u001b[32m━━━━━━━━━━━━━━━━━━━━\u001b[0m\u001b[37m\u001b[0m \u001b[1m0s\u001b[0m 80ms/step - loss: 1.8021 - mape: 37.7145 - r2_score: -11.0611 - val_loss: 3.0185 - val_mape: 61.8602 - val_r2_score: -22.0293 - learning_rate: 0.0010\n",
      "Epoch 50/1000\n",
      "\u001b[1m5/5\u001b[0m \u001b[32m━━━━━━━━━━━━━━━━━━━━\u001b[0m\u001b[37m\u001b[0m \u001b[1m0s\u001b[0m 77ms/step - loss: 1.6697 - mape: 35.1189 - r2_score: -10.1470 - val_loss: 2.9988 - val_mape: 61.6143 - val_r2_score: -21.9038 - learning_rate: 0.0010\n",
      "Epoch 51/1000\n",
      "\u001b[1m5/5\u001b[0m \u001b[32m━━━━━━━━━━━━━━━━━━━━\u001b[0m\u001b[37m\u001b[0m \u001b[1m0s\u001b[0m 77ms/step - loss: 1.4895 - mape: 30.9534 - r2_score: -8.8935 - val_loss: 2.9453 - val_mape: 60.6402 - val_r2_score: -21.7343 - learning_rate: 0.0010\n",
      "Epoch 52/1000\n",
      "\u001b[1m5/5\u001b[0m \u001b[32m━━━━━━━━━━━━━━━━━━━━\u001b[0m\u001b[37m\u001b[0m \u001b[1m0s\u001b[0m 78ms/step - loss: 1.4918 - mape: 31.0938 - r2_score: -9.2868 - val_loss: 2.8998 - val_mape: 59.6916 - val_r2_score: -21.6251 - learning_rate: 0.0010\n",
      "Epoch 53/1000\n",
      "\u001b[1m5/5\u001b[0m \u001b[32m━━━━━━━━━━━━━━━━━━━━\u001b[0m\u001b[37m\u001b[0m \u001b[1m0s\u001b[0m 64ms/step - loss: 1.5863 - mape: 34.0316 - r2_score: -8.7224 - val_loss: 2.8866 - val_mape: 59.3195 - val_r2_score: -21.6369 - learning_rate: 0.0010\n",
      "Epoch 54/1000\n",
      "\u001b[1m5/5\u001b[0m \u001b[32m━━━━━━━━━━━━━━━━━━━━\u001b[0m\u001b[37m\u001b[0m \u001b[1m0s\u001b[0m 62ms/step - loss: 1.4324 - mape: 30.2250 - r2_score: -7.7111 - val_loss: 2.8750 - val_mape: 58.9071 - val_r2_score: -21.6634 - learning_rate: 0.0010\n",
      "Epoch 55/1000\n",
      "\u001b[1m5/5\u001b[0m \u001b[32m━━━━━━━━━━━━━━━━━━━━\u001b[0m\u001b[37m\u001b[0m \u001b[1m0s\u001b[0m 78ms/step - loss: 1.5307 - mape: 32.7156 - r2_score: -8.4112 - val_loss: 2.8447 - val_mape: 58.3773 - val_r2_score: -21.5635 - learning_rate: 0.0010\n",
      "Epoch 56/1000\n",
      "\u001b[1m5/5\u001b[0m \u001b[32m━━━━━━━━━━━━━━━━━━━━\u001b[0m\u001b[37m\u001b[0m \u001b[1m0s\u001b[0m 77ms/step - loss: 1.3913 - mape: 29.2793 - r2_score: -8.4731 - val_loss: 2.7998 - val_mape: 57.5012 - val_r2_score: -21.4561 - learning_rate: 0.0010\n",
      "Epoch 57/1000\n",
      "\u001b[1m5/5\u001b[0m \u001b[32m━━━━━━━━━━━━━━━━━━━━\u001b[0m\u001b[37m\u001b[0m \u001b[1m0s\u001b[0m 63ms/step - loss: 1.4341 - mape: 30.6469 - r2_score: -7.3608 - val_loss: 2.8189 - val_mape: 58.0620 - val_r2_score: -21.5002 - learning_rate: 0.0010\n",
      "Epoch 58/1000\n",
      "\u001b[1m5/5\u001b[0m \u001b[32m━━━━━━━━━━━━━━━━━━━━\u001b[0m\u001b[37m\u001b[0m \u001b[1m0s\u001b[0m 62ms/step - loss: 1.4108 - mape: 29.3186 - r2_score: -8.5620 - val_loss: 2.8683 - val_mape: 59.2385 - val_r2_score: -21.6020 - learning_rate: 0.0010\n",
      "Epoch 59/1000\n",
      "\u001b[1m5/5\u001b[0m \u001b[32m━━━━━━━━━━━━━━━━━━━━\u001b[0m\u001b[37m\u001b[0m \u001b[1m0s\u001b[0m 77ms/step - loss: 1.3276 - mape: 27.8545 - r2_score: -6.9433 - val_loss: 2.8426 - val_mape: 58.4223 - val_r2_score: -21.3547 - learning_rate: 0.0010\n",
      "Epoch 60/1000\n",
      "\u001b[1m5/5\u001b[0m \u001b[32m━━━━━━━━━━━━━━━━━━━━\u001b[0m\u001b[37m\u001b[0m \u001b[1m0s\u001b[0m 77ms/step - loss: 1.3194 - mape: 27.6769 - r2_score: -6.6381 - val_loss: 2.8552 - val_mape: 59.2504 - val_r2_score: -20.1354 - learning_rate: 0.0010\n",
      "Epoch 61/1000\n",
      "\u001b[1m5/5\u001b[0m \u001b[32m━━━━━━━━━━━━━━━━━━━━\u001b[0m\u001b[37m\u001b[0m \u001b[1m0s\u001b[0m 63ms/step - loss: 1.3748 - mape: 29.3423 - r2_score: -6.3174 - val_loss: 2.8815 - val_mape: 59.6369 - val_r2_score: -20.2581 - learning_rate: 0.0010\n",
      "Epoch 62/1000\n",
      "\u001b[1m5/5\u001b[0m \u001b[32m━━━━━━━━━━━━━━━━━━━━\u001b[0m\u001b[37m\u001b[0m \u001b[1m0s\u001b[0m 88ms/step - loss: 1.1674 - mape: 24.9697 - r2_score: -4.9895 - val_loss: 2.9127 - val_mape: 60.5307 - val_r2_score: -19.6684 - learning_rate: 0.0010\n",
      "Epoch 63/1000\n",
      "\u001b[1m5/5\u001b[0m \u001b[32m━━━━━━━━━━━━━━━━━━━━\u001b[0m\u001b[37m\u001b[0m \u001b[1m0s\u001b[0m 66ms/step - loss: 1.2768 - mape: 27.3026 - r2_score: -5.7277 - val_loss: 2.9333 - val_mape: 61.2836 - val_r2_score: -19.7134 - learning_rate: 0.0010\n",
      "Epoch 64/1000\n",
      "\u001b[1m5/5\u001b[0m \u001b[32m━━━━━━━━━━━━━━━━━━━━\u001b[0m\u001b[37m\u001b[0m \u001b[1m0s\u001b[0m 81ms/step - loss: 1.1424 - mape: 24.7225 - r2_score: -4.7885 - val_loss: 2.7747 - val_mape: 57.7686 - val_r2_score: -18.6627 - learning_rate: 0.0010\n",
      "Epoch 65/1000\n",
      "\u001b[1m5/5\u001b[0m \u001b[32m━━━━━━━━━━━━━━━━━━━━\u001b[0m\u001b[37m\u001b[0m \u001b[1m0s\u001b[0m 77ms/step - loss: 1.2639 - mape: 27.7106 - r2_score: -6.1212 - val_loss: 2.7233 - val_mape: 57.1758 - val_r2_score: -18.3529 - learning_rate: 0.0010\n",
      "Epoch 66/1000\n",
      "\u001b[1m5/5\u001b[0m \u001b[32m━━━━━━━━━━━━━━━━━━━━\u001b[0m\u001b[37m\u001b[0m \u001b[1m0s\u001b[0m 77ms/step - loss: 1.3144 - mape: 28.5596 - r2_score: -5.5991 - val_loss: 2.7079 - val_mape: 56.5770 - val_r2_score: -18.1216 - learning_rate: 0.0010\n",
      "Epoch 67/1000\n",
      "\u001b[1m5/5\u001b[0m \u001b[32m━━━━━━━━━━━━━━━━━━━━\u001b[0m\u001b[37m\u001b[0m \u001b[1m0s\u001b[0m 62ms/step - loss: 1.1285 - mape: 24.6613 - r2_score: -4.8577 - val_loss: 2.7824 - val_mape: 58.2635 - val_r2_score: -18.6222 - learning_rate: 0.0010\n",
      "Epoch 68/1000\n",
      "\u001b[1m5/5\u001b[0m \u001b[32m━━━━━━━━━━━━━━━━━━━━\u001b[0m\u001b[37m\u001b[0m \u001b[1m0s\u001b[0m 66ms/step - loss: 1.2286 - mape: 26.6511 - r2_score: -5.1786 - val_loss: 2.7580 - val_mape: 57.7518 - val_r2_score: -18.3528 - learning_rate: 0.0010\n",
      "Epoch 69/1000\n",
      "\u001b[1m5/5\u001b[0m \u001b[32m━━━━━━━━━━━━━━━━━━━━\u001b[0m\u001b[37m\u001b[0m \u001b[1m0s\u001b[0m 78ms/step - loss: 1.1330 - mape: 24.4225 - r2_score: -4.5512 - val_loss: 2.6959 - val_mape: 56.3447 - val_r2_score: -17.9188 - learning_rate: 0.0010\n",
      "Epoch 70/1000\n",
      "\u001b[1m5/5\u001b[0m \u001b[32m━━━━━━━━━━━━━━━━━━━━\u001b[0m\u001b[37m\u001b[0m \u001b[1m0s\u001b[0m 77ms/step - loss: 1.0599 - mape: 22.4413 - r2_score: -4.2427 - val_loss: 2.6820 - val_mape: 57.0084 - val_r2_score: -17.3870 - learning_rate: 0.0010\n",
      "Epoch 71/1000\n",
      "\u001b[1m5/5\u001b[0m \u001b[32m━━━━━━━━━━━━━━━━━━━━\u001b[0m\u001b[37m\u001b[0m \u001b[1m0s\u001b[0m 62ms/step - loss: 1.1139 - mape: 24.5421 - r2_score: -4.6615 - val_loss: 2.6489 - val_mape: 56.2111 - val_r2_score: -17.4456 - learning_rate: 0.0010\n",
      "Epoch 72/1000\n",
      "\u001b[1m5/5\u001b[0m \u001b[32m━━━━━━━━━━━━━━━━━━━━\u001b[0m\u001b[37m\u001b[0m \u001b[1m0s\u001b[0m 62ms/step - loss: 1.1435 - mape: 24.7836 - r2_score: -4.7576 - val_loss: 2.6417 - val_mape: 55.2801 - val_r2_score: -17.9831 - learning_rate: 0.0010\n",
      "Epoch 73/1000\n",
      "\u001b[1m5/5\u001b[0m \u001b[32m━━━━━━━━━━━━━━━━━━━━\u001b[0m\u001b[37m\u001b[0m \u001b[1m0s\u001b[0m 63ms/step - loss: 1.0145 - mape: 22.2064 - r2_score: -4.2937 - val_loss: 2.7038 - val_mape: 56.8104 - val_r2_score: -18.2910 - learning_rate: 0.0010\n",
      "Epoch 74/1000\n",
      "\u001b[1m5/5\u001b[0m \u001b[32m━━━━━━━━━━━━━━━━━━━━\u001b[0m\u001b[37m\u001b[0m \u001b[1m0s\u001b[0m 63ms/step - loss: 1.1162 - mape: 23.8407 - r2_score: -4.9991 - val_loss: 2.6728 - val_mape: 55.9372 - val_r2_score: -18.1596 - learning_rate: 0.0010\n",
      "Epoch 75/1000\n",
      "\u001b[1m5/5\u001b[0m \u001b[32m━━━━━━━━━━━━━━━━━━━━\u001b[0m\u001b[37m\u001b[0m \u001b[1m0s\u001b[0m 63ms/step - loss: 1.0880 - mape: 23.5881 - r2_score: -4.4115 - val_loss: 2.6255 - val_mape: 55.0023 - val_r2_score: -17.8901 - learning_rate: 0.0010\n",
      "Epoch 76/1000\n",
      "\u001b[1m5/5\u001b[0m \u001b[32m━━━━━━━━━━━━━━━━━━━━\u001b[0m\u001b[37m\u001b[0m \u001b[1m0s\u001b[0m 64ms/step - loss: 1.0341 - mape: 22.4550 - r2_score: -4.2848 - val_loss: 2.6101 - val_mape: 54.5914 - val_r2_score: -18.1849 - learning_rate: 0.0010\n",
      "Epoch 77/1000\n",
      "\u001b[1m5/5\u001b[0m \u001b[32m━━━━━━━━━━━━━━━━━━━━\u001b[0m\u001b[37m\u001b[0m \u001b[1m0s\u001b[0m 63ms/step - loss: 1.0414 - mape: 22.7368 - r2_score: -4.3808 - val_loss: 2.6488 - val_mape: 55.5261 - val_r2_score: -18.1819 - learning_rate: 0.0010\n",
      "Epoch 78/1000\n",
      "\u001b[1m5/5\u001b[0m \u001b[32m━━━━━━━━━━━━━━━━━━━━\u001b[0m\u001b[37m\u001b[0m \u001b[1m0s\u001b[0m 78ms/step - loss: 1.1738 - mape: 25.0680 - r2_score: -5.9388 - val_loss: 2.6049 - val_mape: 54.6423 - val_r2_score: -17.2847 - learning_rate: 0.0010\n",
      "Epoch 79/1000\n",
      "\u001b[1m5/5\u001b[0m \u001b[32m━━━━━━━━━━━━━━━━━━━━\u001b[0m\u001b[37m\u001b[0m \u001b[1m0s\u001b[0m 77ms/step - loss: 1.0902 - mape: 23.6783 - r2_score: -4.5935 - val_loss: 2.6334 - val_mape: 56.2289 - val_r2_score: -16.7125 - learning_rate: 0.0010\n",
      "Epoch 80/1000\n",
      "\u001b[1m5/5\u001b[0m \u001b[32m━━━━━━━━━━━━━━━━━━━━\u001b[0m\u001b[37m\u001b[0m \u001b[1m0s\u001b[0m 78ms/step - loss: 1.0901 - mape: 23.5438 - r2_score: -4.5352 - val_loss: 2.6370 - val_mape: 56.5952 - val_r2_score: -16.4785 - learning_rate: 0.0010\n",
      "Epoch 81/1000\n",
      "\u001b[1m5/5\u001b[0m \u001b[32m━━━━━━━━━━━━━━━━━━━━\u001b[0m\u001b[37m\u001b[0m \u001b[1m0s\u001b[0m 63ms/step - loss: 1.0842 - mape: 24.0425 - r2_score: -4.4939 - val_loss: 2.5753 - val_mape: 54.5642 - val_r2_score: -16.5140 - learning_rate: 0.0010\n",
      "Epoch 82/1000\n",
      "\u001b[1m5/5\u001b[0m \u001b[32m━━━━━━━━━━━━━━━━━━━━\u001b[0m\u001b[37m\u001b[0m \u001b[1m0s\u001b[0m 63ms/step - loss: 1.0762 - mape: 23.3890 - r2_score: -4.6677 - val_loss: 2.5788 - val_mape: 54.2030 - val_r2_score: -17.2072 - learning_rate: 0.0010\n",
      "Epoch 83/1000\n",
      "\u001b[1m5/5\u001b[0m \u001b[32m━━━━━━━━━━━━━━━━━━━━\u001b[0m\u001b[37m\u001b[0m \u001b[1m0s\u001b[0m 62ms/step - loss: 0.9697 - mape: 21.3555 - r2_score: -4.2321 - val_loss: 2.6778 - val_mape: 56.6078 - val_r2_score: -18.4843 - learning_rate: 0.0010\n",
      "Epoch 84/1000\n",
      "\u001b[1m5/5\u001b[0m \u001b[32m━━━━━━━━━━━━━━━━━━━━\u001b[0m\u001b[37m\u001b[0m \u001b[1m0s\u001b[0m 63ms/step - loss: 1.2242 - mape: 27.0223 - r2_score: -5.5688 - val_loss: 2.5575 - val_mape: 53.5853 - val_r2_score: -17.7871 - learning_rate: 0.0010\n",
      "Epoch 85/1000\n",
      "\u001b[1m5/5\u001b[0m \u001b[32m━━━━━━━━━━━━━━━━━━━━\u001b[0m\u001b[37m\u001b[0m \u001b[1m0s\u001b[0m 63ms/step - loss: 1.1379 - mape: 24.9540 - r2_score: -4.7368 - val_loss: 2.5341 - val_mape: 53.4088 - val_r2_score: -16.8120 - learning_rate: 0.0010\n",
      "Epoch 86/1000\n",
      "\u001b[1m5/5\u001b[0m \u001b[32m━━━━━━━━━━━━━━━━━━━━\u001b[0m\u001b[37m\u001b[0m \u001b[1m0s\u001b[0m 78ms/step - loss: 1.1505 - mape: 25.1916 - r2_score: -4.8042 - val_loss: 2.5497 - val_mape: 54.1374 - val_r2_score: -16.0067 - learning_rate: 0.0010\n",
      "Epoch 87/1000\n",
      "\u001b[1m5/5\u001b[0m \u001b[32m━━━━━━━━━━━━━━━━━━━━\u001b[0m\u001b[37m\u001b[0m \u001b[1m0s\u001b[0m 79ms/step - loss: 1.2102 - mape: 26.2761 - r2_score: -5.2089 - val_loss: 2.5329 - val_mape: 53.4664 - val_r2_score: -15.9958 - learning_rate: 0.0010\n",
      "Epoch 88/1000\n",
      "\u001b[1m5/5\u001b[0m \u001b[32m━━━━━━━━━━━━━━━━━━━━\u001b[0m\u001b[37m\u001b[0m \u001b[1m0s\u001b[0m 63ms/step - loss: 1.0499 - mape: 22.3573 - r2_score: -4.3601 - val_loss: 2.5877 - val_mape: 54.7610 - val_r2_score: -16.6059 - learning_rate: 0.0010\n",
      "Epoch 89/1000\n",
      "\u001b[1m5/5\u001b[0m \u001b[32m━━━━━━━━━━━━━━━━━━━━\u001b[0m\u001b[37m\u001b[0m \u001b[1m0s\u001b[0m 63ms/step - loss: 0.9909 - mape: 21.4354 - r2_score: -4.1733 - val_loss: 2.5735 - val_mape: 54.3718 - val_r2_score: -16.9800 - learning_rate: 0.0010\n",
      "Epoch 90/1000\n",
      "\u001b[1m5/5\u001b[0m \u001b[32m━━━━━━━━━━━━━━━━━━━━\u001b[0m\u001b[37m\u001b[0m \u001b[1m0s\u001b[0m 66ms/step - loss: 1.1070 - mape: 24.0374 - r2_score: -4.7584 - val_loss: 2.4925 - val_mape: 52.3348 - val_r2_score: -16.2504 - learning_rate: 0.0010\n",
      "Epoch 91/1000\n",
      "\u001b[1m5/5\u001b[0m \u001b[32m━━━━━━━━━━━━━━━━━━━━\u001b[0m\u001b[37m\u001b[0m \u001b[1m0s\u001b[0m 78ms/step - loss: 0.9994 - mape: 21.4202 - r2_score: -4.1574 - val_loss: 2.5022 - val_mape: 52.9860 - val_r2_score: -15.7043 - learning_rate: 0.0010\n",
      "Epoch 92/1000\n",
      "\u001b[1m5/5\u001b[0m \u001b[32m━━━━━━━━━━━━━━━━━━━━\u001b[0m\u001b[37m\u001b[0m \u001b[1m0s\u001b[0m 78ms/step - loss: 0.9528 - mape: 20.6625 - r2_score: -3.6286 - val_loss: 2.4736 - val_mape: 52.3607 - val_r2_score: -15.5530 - learning_rate: 0.0010\n",
      "Epoch 93/1000\n",
      "\u001b[1m5/5\u001b[0m \u001b[32m━━━━━━━━━━━━━━━━━━━━\u001b[0m\u001b[37m\u001b[0m \u001b[1m0s\u001b[0m 63ms/step - loss: 0.9347 - mape: 20.2660 - r2_score: -3.8165 - val_loss: 2.4666 - val_mape: 52.0054 - val_r2_score: -15.7635 - learning_rate: 0.0010\n",
      "Epoch 94/1000\n",
      "\u001b[1m5/5\u001b[0m \u001b[32m━━━━━━━━━━━━━━━━━━━━\u001b[0m\u001b[37m\u001b[0m \u001b[1m0s\u001b[0m 77ms/step - loss: 0.9207 - mape: 20.0596 - r2_score: -3.8041 - val_loss: 2.4233 - val_mape: 51.1747 - val_r2_score: -15.1650 - learning_rate: 0.0010\n",
      "Epoch 95/1000\n",
      "\u001b[1m5/5\u001b[0m \u001b[32m━━━━━━━━━━━━━━━━━━━━\u001b[0m\u001b[37m\u001b[0m \u001b[1m0s\u001b[0m 77ms/step - loss: 1.0129 - mape: 22.0157 - r2_score: -4.0303 - val_loss: 2.3833 - val_mape: 50.4886 - val_r2_score: -14.6969 - learning_rate: 0.0010\n",
      "Epoch 96/1000\n",
      "\u001b[1m5/5\u001b[0m \u001b[32m━━━━━━━━━━━━━━━━━━━━\u001b[0m\u001b[37m\u001b[0m \u001b[1m0s\u001b[0m 64ms/step - loss: 1.0132 - mape: 22.2792 - r2_score: -4.1434 - val_loss: 2.3725 - val_mape: 50.1076 - val_r2_score: -14.7242 - learning_rate: 0.0010\n",
      "Epoch 97/1000\n",
      "\u001b[1m5/5\u001b[0m \u001b[32m━━━━━━━━━━━━━━━━━━━━\u001b[0m\u001b[37m\u001b[0m \u001b[1m0s\u001b[0m 77ms/step - loss: 1.0661 - mape: 23.3150 - r2_score: -4.1169 - val_loss: 2.3588 - val_mape: 50.0655 - val_r2_score: -14.5332 - learning_rate: 0.0010\n",
      "Epoch 98/1000\n",
      "\u001b[1m5/5\u001b[0m \u001b[32m━━━━━━━━━━━━━━━━━━━━\u001b[0m\u001b[37m\u001b[0m \u001b[1m0s\u001b[0m 78ms/step - loss: 0.9972 - mape: 21.7719 - r2_score: -3.9063 - val_loss: 2.3542 - val_mape: 50.4197 - val_r2_score: -14.3326 - learning_rate: 0.0010\n",
      "Epoch 99/1000\n",
      "\u001b[1m5/5\u001b[0m \u001b[32m━━━━━━━━━━━━━━━━━━━━\u001b[0m\u001b[37m\u001b[0m \u001b[1m0s\u001b[0m 63ms/step - loss: 0.9868 - mape: 21.4649 - r2_score: -4.0379 - val_loss: 2.3273 - val_mape: 49.3362 - val_r2_score: -14.4140 - learning_rate: 0.0010\n",
      "Epoch 100/1000\n",
      "\u001b[1m5/5\u001b[0m \u001b[32m━━━━━━━━━━━━━━━━━━━━\u001b[0m\u001b[37m\u001b[0m \u001b[1m0s\u001b[0m 63ms/step - loss: 0.9440 - mape: 20.5773 - r2_score: -3.7458 - val_loss: 2.3191 - val_mape: 49.1193 - val_r2_score: -14.3627 - learning_rate: 0.0010\n",
      "Epoch 101/1000\n",
      "\u001b[1m5/5\u001b[0m \u001b[32m━━━━━━━━━━━━━━━━━━━━\u001b[0m\u001b[37m\u001b[0m \u001b[1m0s\u001b[0m 84ms/step - loss: 1.1464 - mape: 24.7814 - r2_score: -4.6430 - val_loss: 2.3250 - val_mape: 49.8351 - val_r2_score: -14.1684 - learning_rate: 0.0010\n",
      "Epoch 102/1000\n",
      "\u001b[1m5/5\u001b[0m \u001b[32m━━━━━━━━━━━━━━━━━━━━\u001b[0m\u001b[37m\u001b[0m \u001b[1m0s\u001b[0m 78ms/step - loss: 0.9098 - mape: 19.8089 - r2_score: -3.5130 - val_loss: 2.3294 - val_mape: 50.1161 - val_r2_score: -14.0613 - learning_rate: 0.0010\n",
      "Epoch 103/1000\n",
      "\u001b[1m5/5\u001b[0m \u001b[32m━━━━━━━━━━━━━━━━━━━━\u001b[0m\u001b[37m\u001b[0m \u001b[1m0s\u001b[0m 77ms/step - loss: 0.8920 - mape: 19.4336 - r2_score: -3.4574 - val_loss: 2.3183 - val_mape: 49.6415 - val_r2_score: -14.0749 - learning_rate: 0.0010\n",
      "Epoch 104/1000\n",
      "\u001b[1m5/5\u001b[0m \u001b[32m━━━━━━━━━━━━━━━━━━━━\u001b[0m\u001b[37m\u001b[0m \u001b[1m0s\u001b[0m 79ms/step - loss: 0.9382 - mape: 20.5940 - r2_score: -3.5086 - val_loss: 2.3100 - val_mape: 49.0487 - val_r2_score: -13.9272 - learning_rate: 0.0010\n",
      "Epoch 105/1000\n",
      "\u001b[1m5/5\u001b[0m \u001b[32m━━━━━━━━━━━━━━━━━━━━\u001b[0m\u001b[37m\u001b[0m \u001b[1m0s\u001b[0m 78ms/step - loss: 0.9343 - mape: 20.4458 - r2_score: -3.7396 - val_loss: 2.3199 - val_mape: 49.3935 - val_r2_score: -13.4176 - learning_rate: 0.0010\n",
      "Epoch 106/1000\n",
      "\u001b[1m5/5\u001b[0m \u001b[32m━━━━━━━━━━━━━━━━━━━━\u001b[0m\u001b[37m\u001b[0m \u001b[1m0s\u001b[0m 77ms/step - loss: 0.9598 - mape: 21.0917 - r2_score: -3.8837 - val_loss: 2.2155 - val_mape: 46.9357 - val_r2_score: -12.8531 - learning_rate: 0.0010\n",
      "Epoch 107/1000\n",
      "\u001b[1m5/5\u001b[0m \u001b[32m━━━━━━━━━━━━━━━━━━━━\u001b[0m\u001b[37m\u001b[0m \u001b[1m0s\u001b[0m 77ms/step - loss: 1.0034 - mape: 21.5393 - r2_score: -3.9461 - val_loss: 2.1773 - val_mape: 47.2766 - val_r2_score: -12.0617 - learning_rate: 0.0010\n",
      "Epoch 108/1000\n",
      "\u001b[1m5/5\u001b[0m \u001b[32m━━━━━━━━━━━━━━━━━━━━\u001b[0m\u001b[37m\u001b[0m \u001b[1m0s\u001b[0m 77ms/step - loss: 0.9476 - mape: 20.8010 - r2_score: -3.3718 - val_loss: 2.1289 - val_mape: 46.7901 - val_r2_score: -11.6698 - learning_rate: 0.0010\n",
      "Epoch 109/1000\n",
      "\u001b[1m5/5\u001b[0m \u001b[32m━━━━━━━━━━━━━━━━━━━━\u001b[0m\u001b[37m\u001b[0m \u001b[1m0s\u001b[0m 78ms/step - loss: 0.9517 - mape: 21.5626 - r2_score: -3.3881 - val_loss: 2.0729 - val_mape: 44.6497 - val_r2_score: -11.3577 - learning_rate: 0.0010\n",
      "Epoch 110/1000\n",
      "\u001b[1m5/5\u001b[0m \u001b[32m━━━━━━━━━━━━━━━━━━━━\u001b[0m\u001b[37m\u001b[0m \u001b[1m0s\u001b[0m 62ms/step - loss: 0.9740 - mape: 20.9473 - r2_score: -3.3585 - val_loss: 2.1054 - val_mape: 44.9135 - val_r2_score: -11.5652 - learning_rate: 0.0010\n",
      "Epoch 111/1000\n",
      "\u001b[1m5/5\u001b[0m \u001b[32m━━━━━━━━━━━━━━━━━━━━\u001b[0m\u001b[37m\u001b[0m \u001b[1m0s\u001b[0m 77ms/step - loss: 0.8971 - mape: 19.6526 - r2_score: -3.1759 - val_loss: 2.0243 - val_mape: 42.9512 - val_r2_score: -11.0733 - learning_rate: 0.0010\n",
      "Epoch 112/1000\n",
      "\u001b[1m5/5\u001b[0m \u001b[32m━━━━━━━━━━━━━━━━━━━━\u001b[0m\u001b[37m\u001b[0m \u001b[1m0s\u001b[0m 78ms/step - loss: 0.8394 - mape: 18.2226 - r2_score: -3.0181 - val_loss: 1.9335 - val_mape: 41.8195 - val_r2_score: -9.8786 - learning_rate: 0.0010\n",
      "Epoch 113/1000\n",
      "\u001b[1m5/5\u001b[0m \u001b[32m━━━━━━━━━━━━━━━━━━━━\u001b[0m\u001b[37m\u001b[0m \u001b[1m0s\u001b[0m 77ms/step - loss: 0.8907 - mape: 19.5821 - r2_score: -3.1341 - val_loss: 1.8546 - val_mape: 40.3825 - val_r2_score: -8.8954 - learning_rate: 0.0010\n",
      "Epoch 114/1000\n",
      "\u001b[1m5/5\u001b[0m \u001b[32m━━━━━━━━━━━━━━━━━━━━\u001b[0m\u001b[37m\u001b[0m \u001b[1m0s\u001b[0m 77ms/step - loss: 0.9430 - mape: 20.5802 - r2_score: -2.9749 - val_loss: 1.7551 - val_mape: 37.4861 - val_r2_score: -8.0631 - learning_rate: 0.0010\n",
      "Epoch 115/1000\n",
      "\u001b[1m5/5\u001b[0m \u001b[32m━━━━━━━━━━━━━━━━━━━━\u001b[0m\u001b[37m\u001b[0m \u001b[1m0s\u001b[0m 77ms/step - loss: 0.8601 - mape: 18.8484 - r2_score: -2.9047 - val_loss: 1.6267 - val_mape: 35.1254 - val_r2_score: -6.6009 - learning_rate: 0.0010\n",
      "Epoch 116/1000\n",
      "\u001b[1m5/5\u001b[0m \u001b[32m━━━━━━━━━━━━━━━━━━━━\u001b[0m\u001b[37m\u001b[0m \u001b[1m0s\u001b[0m 78ms/step - loss: 0.8809 - mape: 19.1208 - r2_score: -2.8564 - val_loss: 1.5638 - val_mape: 34.1216 - val_r2_score: -6.0361 - learning_rate: 0.0010\n",
      "Epoch 117/1000\n",
      "\u001b[1m5/5\u001b[0m \u001b[32m━━━━━━━━━━━━━━━━━━━━\u001b[0m\u001b[37m\u001b[0m \u001b[1m0s\u001b[0m 78ms/step - loss: 0.8535 - mape: 18.7146 - r2_score: -2.4228 - val_loss: 1.4863 - val_mape: 31.9024 - val_r2_score: -5.5117 - learning_rate: 0.0010\n",
      "Epoch 118/1000\n",
      "\u001b[1m5/5\u001b[0m \u001b[32m━━━━━━━━━━━━━━━━━━━━\u001b[0m\u001b[37m\u001b[0m \u001b[1m0s\u001b[0m 78ms/step - loss: 0.8363 - mape: 18.4140 - r2_score: -2.3372 - val_loss: 1.3804 - val_mape: 29.7200 - val_r2_score: -4.5701 - learning_rate: 0.0010\n",
      "Epoch 119/1000\n",
      "\u001b[1m5/5\u001b[0m \u001b[32m━━━━━━━━━━━━━━━━━━━━\u001b[0m\u001b[37m\u001b[0m \u001b[1m0s\u001b[0m 77ms/step - loss: 0.8126 - mape: 17.9185 - r2_score: -2.2471 - val_loss: 1.2831 - val_mape: 27.6808 - val_r2_score: -3.7701 - learning_rate: 0.0010\n",
      "Epoch 120/1000\n",
      "\u001b[1m5/5\u001b[0m \u001b[32m━━━━━━━━━━━━━━━━━━━━\u001b[0m\u001b[37m\u001b[0m \u001b[1m0s\u001b[0m 77ms/step - loss: 0.7144 - mape: 15.8946 - r2_score: -1.4402 - val_loss: 1.0751 - val_mape: 22.9008 - val_r2_score: -2.3284 - learning_rate: 0.0010\n",
      "Epoch 121/1000\n",
      "\u001b[1m5/5\u001b[0m \u001b[32m━━━━━━━━━━━━━━━━━━━━\u001b[0m\u001b[37m\u001b[0m \u001b[1m0s\u001b[0m 79ms/step - loss: 0.8391 - mape: 18.3793 - r2_score: -1.8037 - val_loss: 0.9354 - val_mape: 20.0220 - val_r2_score: -1.4672 - learning_rate: 0.0010\n",
      "Epoch 122/1000\n",
      "\u001b[1m5/5\u001b[0m \u001b[32m━━━━━━━━━━━━━━━━━━━━\u001b[0m\u001b[37m\u001b[0m \u001b[1m0s\u001b[0m 78ms/step - loss: 0.6481 - mape: 14.5394 - r2_score: -0.8093 - val_loss: 0.7560 - val_mape: 16.6509 - val_r2_score: -0.3642 - learning_rate: 8.0000e-04\n",
      "Epoch 123/1000\n",
      "\u001b[1m5/5\u001b[0m \u001b[32m━━━━━━━━━━━━━━━━━━━━\u001b[0m\u001b[37m\u001b[0m \u001b[1m0s\u001b[0m 77ms/step - loss: 0.7649 - mape: 17.5995 - r2_score: -1.1800 - val_loss: 0.7168 - val_mape: 15.9227 - val_r2_score: -0.0061 - learning_rate: 8.0000e-04\n",
      "Epoch 124/1000\n",
      "\u001b[1m5/5\u001b[0m \u001b[32m━━━━━━━━━━━━━━━━━━━━\u001b[0m\u001b[37m\u001b[0m \u001b[1m0s\u001b[0m 78ms/step - loss: 0.6676 - mape: 14.0990 - r2_score: -0.2498 - val_loss: 0.6020 - val_mape: 13.0101 - val_r2_score: 0.2525 - learning_rate: 8.0000e-04\n",
      "Epoch 125/1000\n",
      "\u001b[1m5/5\u001b[0m \u001b[32m━━━━━━━━━━━━━━━━━━━━\u001b[0m\u001b[37m\u001b[0m \u001b[1m0s\u001b[0m 77ms/step - loss: 0.5872 - mape: 13.0922 - r2_score: -0.5322 - val_loss: 0.5187 - val_mape: 10.8599 - val_r2_score: 0.3993 - learning_rate: 8.0000e-04\n",
      "Epoch 126/1000\n",
      "\u001b[1m5/5\u001b[0m \u001b[32m━━━━━━━━━━━━━━━━━━━━\u001b[0m\u001b[37m\u001b[0m \u001b[1m0s\u001b[0m 77ms/step - loss: 0.6618 - mape: 14.4731 - r2_score: -0.5155 - val_loss: 0.4772 - val_mape: 9.8132 - val_r2_score: 0.5223 - learning_rate: 8.0000e-04\n",
      "Epoch 127/1000\n",
      "\u001b[1m5/5\u001b[0m \u001b[32m━━━━━━━━━━━━━━━━━━━━\u001b[0m\u001b[37m\u001b[0m \u001b[1m0s\u001b[0m 78ms/step - loss: 0.6350 - mape: 14.0516 - r2_score: -0.4153 - val_loss: 0.4750 - val_mape: 9.5840 - val_r2_score: 0.5616 - learning_rate: 8.0000e-04\n",
      "Epoch 128/1000\n",
      "\u001b[1m5/5\u001b[0m \u001b[32m━━━━━━━━━━━━━━━━━━━━\u001b[0m\u001b[37m\u001b[0m \u001b[1m0s\u001b[0m 63ms/step - loss: 0.5696 - mape: 12.6254 - r2_score: 0.0649 - val_loss: 0.4545 - val_mape: 8.9380 - val_r2_score: 0.5423 - learning_rate: 8.0000e-04\n",
      "Epoch 129/1000\n",
      "\u001b[1m5/5\u001b[0m \u001b[32m━━━━━━━━━━━━━━━━━━━━\u001b[0m\u001b[37m\u001b[0m \u001b[1m0s\u001b[0m 63ms/step - loss: 0.6253 - mape: 13.9842 - r2_score: -0.1587 - val_loss: 0.4763 - val_mape: 10.1522 - val_r2_score: 0.5420 - learning_rate: 8.0000e-04\n",
      "Epoch 130/1000\n",
      "\u001b[1m5/5\u001b[0m \u001b[32m━━━━━━━━━━━━━━━━━━━━\u001b[0m\u001b[37m\u001b[0m \u001b[1m0s\u001b[0m 63ms/step - loss: 0.5352 - mape: 11.7455 - r2_score: 0.1279 - val_loss: 0.5466 - val_mape: 12.2761 - val_r2_score: 0.3050 - learning_rate: 8.0000e-04\n",
      "Epoch 131/1000\n",
      "\u001b[1m5/5\u001b[0m \u001b[32m━━━━━━━━━━━━━━━━━━━━\u001b[0m\u001b[37m\u001b[0m \u001b[1m0s\u001b[0m 63ms/step - loss: 0.5437 - mape: 12.0837 - r2_score: -0.0944 - val_loss: 0.5562 - val_mape: 12.1417 - val_r2_score: 0.3805 - learning_rate: 8.0000e-04\n",
      "Epoch 132/1000\n",
      "\u001b[1m5/5\u001b[0m \u001b[32m━━━━━━━━━━━━━━━━━━━━\u001b[0m\u001b[37m\u001b[0m \u001b[1m0s\u001b[0m 62ms/step - loss: 0.5442 - mape: 12.4458 - r2_score: 0.0942 - val_loss: 0.5752 - val_mape: 12.4112 - val_r2_score: 0.3747 - learning_rate: 8.0000e-04\n",
      "Epoch 133/1000\n",
      "\u001b[1m5/5\u001b[0m \u001b[32m━━━━━━━━━━━━━━━━━━━━\u001b[0m\u001b[37m\u001b[0m \u001b[1m0s\u001b[0m 64ms/step - loss: 0.5589 - mape: 12.2619 - r2_score: 0.1022 - val_loss: 0.5767 - val_mape: 12.3607 - val_r2_score: 0.3777 - learning_rate: 8.0000e-04\n",
      "Epoch 134/1000\n",
      "\u001b[1m5/5\u001b[0m \u001b[32m━━━━━━━━━━━━━━━━━━━━\u001b[0m\u001b[37m\u001b[0m \u001b[1m0s\u001b[0m 63ms/step - loss: 0.5090 - mape: 11.1922 - r2_score: 0.2234 - val_loss: 0.5027 - val_mape: 10.6239 - val_r2_score: 0.5423 - learning_rate: 8.0000e-04\n",
      "Epoch 135/1000\n",
      "\u001b[1m5/5\u001b[0m \u001b[32m━━━━━━━━━━━━━━━━━━━━\u001b[0m\u001b[37m\u001b[0m \u001b[1m0s\u001b[0m 77ms/step - loss: 0.5125 - mape: 11.4380 - r2_score: 0.0875 - val_loss: 0.4177 - val_mape: 8.8380 - val_r2_score: 0.6873 - learning_rate: 8.0000e-04\n",
      "Epoch 136/1000\n",
      "\u001b[1m5/5\u001b[0m \u001b[32m━━━━━━━━━━━━━━━━━━━━\u001b[0m\u001b[37m\u001b[0m \u001b[1m0s\u001b[0m 77ms/step - loss: 0.4113 - mape: 9.3104 - r2_score: 0.3513 - val_loss: 0.3352 - val_mape: 6.9290 - val_r2_score: 0.7549 - learning_rate: 8.0000e-04\n",
      "Epoch 137/1000\n",
      "\u001b[1m5/5\u001b[0m \u001b[32m━━━━━━━━━━━━━━━━━━━━\u001b[0m\u001b[37m\u001b[0m \u001b[1m0s\u001b[0m 69ms/step - loss: 0.5369 - mape: 11.8004 - r2_score: 0.0086 - val_loss: 0.3750 - val_mape: 7.8433 - val_r2_score: 0.6742 - learning_rate: 8.0000e-04\n",
      "Epoch 138/1000\n",
      "\u001b[1m5/5\u001b[0m \u001b[32m━━━━━━━━━━━━━━━━━━━━\u001b[0m\u001b[37m\u001b[0m \u001b[1m0s\u001b[0m 63ms/step - loss: 0.4412 - mape: 9.8664 - r2_score: 0.4331 - val_loss: 0.4501 - val_mape: 9.5146 - val_r2_score: 0.6169 - learning_rate: 8.0000e-04\n",
      "Epoch 139/1000\n",
      "\u001b[1m5/5\u001b[0m \u001b[32m━━━━━━━━━━━━━━━━━━━━\u001b[0m\u001b[37m\u001b[0m \u001b[1m0s\u001b[0m 63ms/step - loss: 0.6394 - mape: 14.1644 - r2_score: -0.2843 - val_loss: 0.3951 - val_mape: 8.3756 - val_r2_score: 0.6983 - learning_rate: 8.0000e-04\n",
      "Epoch 140/1000\n",
      "\u001b[1m5/5\u001b[0m \u001b[32m━━━━━━━━━━━━━━━━━━━━\u001b[0m\u001b[37m\u001b[0m \u001b[1m0s\u001b[0m 64ms/step - loss: 0.5178 - mape: 11.4884 - r2_score: 0.2258 - val_loss: 0.3316 - val_mape: 6.8745 - val_r2_score: 0.7462 - learning_rate: 8.0000e-04\n",
      "Epoch 141/1000\n",
      "\u001b[1m5/5\u001b[0m \u001b[32m━━━━━━━━━━━━━━━━━━━━\u001b[0m\u001b[37m\u001b[0m \u001b[1m0s\u001b[0m 63ms/step - loss: 0.5295 - mape: 11.4449 - r2_score: 0.0803 - val_loss: 0.3797 - val_mape: 7.7788 - val_r2_score: 0.7045 - learning_rate: 8.0000e-04\n",
      "Epoch 142/1000\n",
      "\u001b[1m5/5\u001b[0m \u001b[32m━━━━━━━━━━━━━━━━━━━━\u001b[0m\u001b[37m\u001b[0m \u001b[1m0s\u001b[0m 63ms/step - loss: 0.4933 - mape: 10.7057 - r2_score: 0.2456 - val_loss: 0.3837 - val_mape: 7.5309 - val_r2_score: 0.6311 - learning_rate: 8.0000e-04\n",
      "Epoch 143/1000\n",
      "\u001b[1m5/5\u001b[0m \u001b[32m━━━━━━━━━━━━━━━━━━━━\u001b[0m\u001b[37m\u001b[0m \u001b[1m0s\u001b[0m 62ms/step - loss: 0.4459 - mape: 9.6956 - r2_score: 0.3852 - val_loss: 0.4254 - val_mape: 8.3517 - val_r2_score: 0.5315 - learning_rate: 8.0000e-04\n",
      "Epoch 144/1000\n",
      "\u001b[1m5/5\u001b[0m \u001b[32m━━━━━━━━━━━━━━━━━━━━\u001b[0m\u001b[37m\u001b[0m \u001b[1m0s\u001b[0m 65ms/step - loss: 0.4771 - mape: 10.2967 - r2_score: 0.3171 - val_loss: 0.4029 - val_mape: 8.0765 - val_r2_score: 0.5927 - learning_rate: 8.0000e-04\n",
      "Epoch 145/1000\n",
      "\u001b[1m5/5\u001b[0m \u001b[32m━━━━━━━━━━━━━━━━━━━━\u001b[0m\u001b[37m\u001b[0m \u001b[1m0s\u001b[0m 63ms/step - loss: 0.5078 - mape: 11.2078 - r2_score: 0.1166 - val_loss: 0.3736 - val_mape: 7.8187 - val_r2_score: 0.7062 - learning_rate: 8.0000e-04\n",
      "Epoch 146/1000\n",
      "\u001b[1m5/5\u001b[0m \u001b[32m━━━━━━━━━━━━━━━━━━━━\u001b[0m\u001b[37m\u001b[0m \u001b[1m0s\u001b[0m 63ms/step - loss: 0.4465 - mape: 10.1123 - r2_score: 0.3322 - val_loss: 0.3644 - val_mape: 8.0236 - val_r2_score: 0.7280 - learning_rate: 8.0000e-04\n",
      "Epoch 147/1000\n",
      "\u001b[1m5/5\u001b[0m \u001b[32m━━━━━━━━━━━━━━━━━━━━\u001b[0m\u001b[37m\u001b[0m \u001b[1m0s\u001b[0m 62ms/step - loss: 0.4670 - mape: 10.2992 - r2_score: 0.3241 - val_loss: 0.3419 - val_mape: 7.6588 - val_r2_score: 0.7387 - learning_rate: 8.0000e-04\n",
      "Epoch 148/1000\n",
      "\u001b[1m5/5\u001b[0m \u001b[32m━━━━━━━━━━━━━━━━━━━━\u001b[0m\u001b[37m\u001b[0m \u001b[1m0s\u001b[0m 62ms/step - loss: 0.4484 - mape: 9.5968 - r2_score: 0.3643 - val_loss: 0.3456 - val_mape: 7.7485 - val_r2_score: 0.7318 - learning_rate: 8.0000e-04\n",
      "Epoch 149/1000\n",
      "\u001b[1m5/5\u001b[0m \u001b[32m━━━━━━━━━━━━━━━━━━━━\u001b[0m\u001b[37m\u001b[0m \u001b[1m0s\u001b[0m 62ms/step - loss: 0.5545 - mape: 12.6679 - r2_score: -0.0074 - val_loss: 0.3530 - val_mape: 7.5493 - val_r2_score: 0.7395 - learning_rate: 8.0000e-04\n",
      "Epoch 150/1000\n",
      "\u001b[1m5/5\u001b[0m \u001b[32m━━━━━━━━━━━━━━━━━━━━\u001b[0m\u001b[37m\u001b[0m \u001b[1m0s\u001b[0m 63ms/step - loss: 0.5305 - mape: 11.4667 - r2_score: 0.2047 - val_loss: 0.3599 - val_mape: 6.9250 - val_r2_score: 0.6200 - learning_rate: 8.0000e-04\n",
      "Epoch 151/1000\n",
      "\u001b[1m5/5\u001b[0m \u001b[32m━━━━━━━━━━━━━━━━━━━━\u001b[0m\u001b[37m\u001b[0m \u001b[1m0s\u001b[0m 62ms/step - loss: 0.4635 - mape: 9.9841 - r2_score: 0.3749 - val_loss: 0.3780 - val_mape: 7.3533 - val_r2_score: 0.5902 - learning_rate: 8.0000e-04\n",
      "Epoch 152/1000\n",
      "\u001b[1m5/5\u001b[0m \u001b[32m━━━━━━━━━━━━━━━━━━━━\u001b[0m\u001b[37m\u001b[0m \u001b[1m0s\u001b[0m 62ms/step - loss: 0.5826 - mape: 12.8182 - r2_score: 0.0851 - val_loss: 0.3082 - val_mape: 6.1383 - val_r2_score: 0.7531 - learning_rate: 8.0000e-04\n",
      "Epoch 153/1000\n",
      "\u001b[1m5/5\u001b[0m \u001b[32m━━━━━━━━━━━━━━━━━━━━\u001b[0m\u001b[37m\u001b[0m \u001b[1m0s\u001b[0m 78ms/step - loss: 0.4838 - mape: 10.7011 - r2_score: 0.2976 - val_loss: 0.3009 - val_mape: 6.5162 - val_r2_score: 0.7890 - learning_rate: 8.0000e-04\n",
      "Epoch 154/1000\n",
      "\u001b[1m5/5\u001b[0m \u001b[32m━━━━━━━━━━━━━━━━━━━━\u001b[0m\u001b[37m\u001b[0m \u001b[1m0s\u001b[0m 65ms/step - loss: 0.5663 - mape: 12.6401 - r2_score: 0.0089 - val_loss: 0.2927 - val_mape: 6.0603 - val_r2_score: 0.7809 - learning_rate: 8.0000e-04\n",
      "Epoch 155/1000\n",
      "\u001b[1m5/5\u001b[0m \u001b[32m━━━━━━━━━━━━━━━━━━━━\u001b[0m\u001b[37m\u001b[0m \u001b[1m0s\u001b[0m 78ms/step - loss: 0.5510 - mape: 12.3294 - r2_score: -0.0104 - val_loss: 0.2747 - val_mape: 5.5781 - val_r2_score: 0.8162 - learning_rate: 8.0000e-04\n",
      "Epoch 156/1000\n",
      "\u001b[1m5/5\u001b[0m \u001b[32m━━━━━━━━━━━━━━━━━━━━\u001b[0m\u001b[37m\u001b[0m \u001b[1m0s\u001b[0m 63ms/step - loss: 0.4639 - mape: 10.0916 - r2_score: 0.3458 - val_loss: 0.3765 - val_mape: 7.9815 - val_r2_score: 0.6860 - learning_rate: 8.0000e-04\n",
      "Epoch 157/1000\n",
      "\u001b[1m5/5\u001b[0m \u001b[32m━━━━━━━━━━━━━━━━━━━━\u001b[0m\u001b[37m\u001b[0m \u001b[1m0s\u001b[0m 64ms/step - loss: 0.5005 - mape: 11.0894 - r2_score: 0.1454 - val_loss: 0.5451 - val_mape: 11.6205 - val_r2_score: 0.4340 - learning_rate: 8.0000e-04\n",
      "Epoch 158/1000\n",
      "\u001b[1m5/5\u001b[0m \u001b[32m━━━━━━━━━━━━━━━━━━━━\u001b[0m\u001b[37m\u001b[0m \u001b[1m0s\u001b[0m 63ms/step - loss: 0.6324 - mape: 13.4236 - r2_score: -0.4487 - val_loss: 0.3216 - val_mape: 6.7370 - val_r2_score: 0.7700 - learning_rate: 8.0000e-04\n",
      "Epoch 159/1000\n",
      "\u001b[1m5/5\u001b[0m \u001b[32m━━━━━━━━━━━━━━━━━━━━\u001b[0m\u001b[37m\u001b[0m \u001b[1m0s\u001b[0m 64ms/step - loss: 0.6198 - mape: 13.3531 - r2_score: -0.0542 - val_loss: 0.4349 - val_mape: 9.2088 - val_r2_score: 0.5227 - learning_rate: 8.0000e-04\n",
      "Epoch 160/1000\n",
      "\u001b[1m5/5\u001b[0m \u001b[32m━━━━━━━━━━━━━━━━━━━━\u001b[0m\u001b[37m\u001b[0m \u001b[1m0s\u001b[0m 63ms/step - loss: 0.5433 - mape: 11.8846 - r2_score: 0.2326 - val_loss: 0.4876 - val_mape: 10.5164 - val_r2_score: 0.3919 - learning_rate: 8.0000e-04\n",
      "Epoch 161/1000\n",
      "\u001b[1m5/5\u001b[0m \u001b[32m━━━━━━━━━━━━━━━━━━━━\u001b[0m\u001b[37m\u001b[0m \u001b[1m0s\u001b[0m 63ms/step - loss: 0.5051 - mape: 10.9711 - r2_score: 0.2913 - val_loss: 0.4392 - val_mape: 9.7722 - val_r2_score: 0.5379 - learning_rate: 8.0000e-04\n",
      "Epoch 162/1000\n",
      "\u001b[1m5/5\u001b[0m \u001b[32m━━━━━━━━━━━━━━━━━━━━\u001b[0m\u001b[37m\u001b[0m \u001b[1m0s\u001b[0m 62ms/step - loss: 0.6028 - mape: 13.6702 - r2_score: -0.2653 - val_loss: 0.3259 - val_mape: 7.1366 - val_r2_score: 0.7454 - learning_rate: 8.0000e-04\n",
      "Epoch 163/1000\n",
      "\u001b[1m5/5\u001b[0m \u001b[32m━━━━━━━━━━━━━━━━━━━━\u001b[0m\u001b[37m\u001b[0m \u001b[1m0s\u001b[0m 62ms/step - loss: 0.4579 - mape: 10.1603 - r2_score: 0.3687 - val_loss: 0.3158 - val_mape: 6.6298 - val_r2_score: 0.7684 - learning_rate: 8.0000e-04\n",
      "Epoch 164/1000\n",
      "\u001b[1m5/5\u001b[0m \u001b[32m━━━━━━━━━━━━━━━━━━━━\u001b[0m\u001b[37m\u001b[0m \u001b[1m0s\u001b[0m 63ms/step - loss: 0.3932 - mape: 8.6948 - r2_score: 0.5099 - val_loss: 0.3229 - val_mape: 6.9552 - val_r2_score: 0.7594 - learning_rate: 8.0000e-04\n",
      "Epoch 165/1000\n",
      "\u001b[1m5/5\u001b[0m \u001b[32m━━━━━━━━━━━━━━━━━━━━\u001b[0m\u001b[37m\u001b[0m \u001b[1m0s\u001b[0m 62ms/step - loss: 0.5524 - mape: 12.0903 - r2_score: 0.1311 - val_loss: 0.3496 - val_mape: 7.8668 - val_r2_score: 0.7030 - learning_rate: 8.0000e-04\n",
      "Epoch 166/1000\n",
      "\u001b[1m5/5\u001b[0m \u001b[32m━━━━━━━━━━━━━━━━━━━━\u001b[0m\u001b[37m\u001b[0m \u001b[1m0s\u001b[0m 63ms/step - loss: 0.4399 - mape: 9.6472 - r2_score: 0.2962 - val_loss: 0.3255 - val_mape: 7.1710 - val_r2_score: 0.7534 - learning_rate: 8.0000e-04\n",
      "Epoch 167/1000\n",
      "\u001b[1m5/5\u001b[0m \u001b[32m━━━━━━━━━━━━━━━━━━━━\u001b[0m\u001b[37m\u001b[0m \u001b[1m0s\u001b[0m 63ms/step - loss: 0.5068 - mape: 11.0643 - r2_score: 0.2120 - val_loss: 0.2981 - val_mape: 6.2404 - val_r2_score: 0.7795 - learning_rate: 8.0000e-04\n",
      "Epoch 168/1000\n",
      "\u001b[1m5/5\u001b[0m \u001b[32m━━━━━━━━━━━━━━━━━━━━\u001b[0m\u001b[37m\u001b[0m \u001b[1m0s\u001b[0m 63ms/step - loss: 0.4108 - mape: 9.4971 - r2_score: 0.3913 - val_loss: 0.3135 - val_mape: 6.4440 - val_r2_score: 0.7465 - learning_rate: 8.0000e-04\n",
      "Epoch 169/1000\n",
      "\u001b[1m5/5\u001b[0m \u001b[32m━━━━━━━━━━━━━━━━━━━━\u001b[0m\u001b[37m\u001b[0m \u001b[1m0s\u001b[0m 63ms/step - loss: 0.5724 - mape: 12.5169 - r2_score: 0.0697 - val_loss: 0.2971 - val_mape: 6.7399 - val_r2_score: 0.7764 - learning_rate: 8.0000e-04\n",
      "Epoch 170/1000\n",
      "\u001b[1m5/5\u001b[0m \u001b[32m━━━━━━━━━━━━━━━━━━━━\u001b[0m\u001b[37m\u001b[0m \u001b[1m0s\u001b[0m 63ms/step - loss: 0.5077 - mape: 11.6263 - r2_score: 0.1561 - val_loss: 0.2996 - val_mape: 6.8306 - val_r2_score: 0.7629 - learning_rate: 8.0000e-04\n",
      "Epoch 171/1000\n",
      "\u001b[1m5/5\u001b[0m \u001b[32m━━━━━━━━━━━━━━━━━━━━\u001b[0m\u001b[37m\u001b[0m \u001b[1m0s\u001b[0m 64ms/step - loss: 0.4616 - mape: 10.3504 - r2_score: 0.3372 - val_loss: 0.2916 - val_mape: 6.5287 - val_r2_score: 0.7856 - learning_rate: 8.0000e-04\n",
      "Epoch 172/1000\n",
      "\u001b[1m5/5\u001b[0m \u001b[32m━━━━━━━━━━━━━━━━━━━━\u001b[0m\u001b[37m\u001b[0m \u001b[1m0s\u001b[0m 65ms/step - loss: 0.4432 - mape: 9.8205 - r2_score: 0.4490 - val_loss: 0.3294 - val_mape: 6.7502 - val_r2_score: 0.7469 - learning_rate: 8.0000e-04\n",
      "Epoch 173/1000\n",
      "\u001b[1m5/5\u001b[0m \u001b[32m━━━━━━━━━━━━━━━━━━━━\u001b[0m\u001b[37m\u001b[0m \u001b[1m0s\u001b[0m 64ms/step - loss: 0.5020 - mape: 11.3557 - r2_score: 0.2667 - val_loss: 0.4228 - val_mape: 8.4867 - val_r2_score: 0.5425 - learning_rate: 8.0000e-04\n",
      "Epoch 174/1000\n",
      "\u001b[1m5/5\u001b[0m \u001b[32m━━━━━━━━━━━━━━━━━━━━\u001b[0m\u001b[37m\u001b[0m \u001b[1m0s\u001b[0m 64ms/step - loss: 0.4728 - mape: 10.9512 - r2_score: 0.2473 - val_loss: 0.4153 - val_mape: 8.3008 - val_r2_score: 0.5628 - learning_rate: 8.0000e-04\n",
      "Epoch 175/1000\n",
      "\u001b[1m5/5\u001b[0m \u001b[32m━━━━━━━━━━━━━━━━━━━━\u001b[0m\u001b[37m\u001b[0m \u001b[1m0s\u001b[0m 63ms/step - loss: 0.4137 - mape: 9.1829 - r2_score: 0.5060 - val_loss: 0.3097 - val_mape: 6.3830 - val_r2_score: 0.7156 - learning_rate: 8.0000e-04\n",
      "Epoch 176/1000\n",
      "\u001b[1m5/5\u001b[0m \u001b[32m━━━━━━━━━━━━━━━━━━━━\u001b[0m\u001b[37m\u001b[0m \u001b[1m0s\u001b[0m 63ms/step - loss: 0.5735 - mape: 12.6816 - r2_score: 0.0395 - val_loss: 0.2939 - val_mape: 6.0671 - val_r2_score: 0.8007 - learning_rate: 8.0000e-04\n",
      "Epoch 177/1000\n",
      "\u001b[1m5/5\u001b[0m \u001b[32m━━━━━━━━━━━━━━━━━━━━\u001b[0m\u001b[37m\u001b[0m \u001b[1m0s\u001b[0m 64ms/step - loss: 0.5164 - mape: 11.4418 - r2_score: 0.1749 - val_loss: 0.3201 - val_mape: 6.7961 - val_r2_score: 0.7949 - learning_rate: 8.0000e-04\n",
      "Epoch 178/1000\n",
      "\u001b[1m5/5\u001b[0m \u001b[32m━━━━━━━━━━━━━━━━━━━━\u001b[0m\u001b[37m\u001b[0m \u001b[1m0s\u001b[0m 78ms/step - loss: 0.4423 - mape: 9.8349 - r2_score: 0.4250 - val_loss: 0.2982 - val_mape: 6.2962 - val_r2_score: 0.8173 - learning_rate: 8.0000e-04\n",
      "Epoch 179/1000\n",
      "\u001b[1m5/5\u001b[0m \u001b[32m━━━━━━━━━━━━━━━━━━━━\u001b[0m\u001b[37m\u001b[0m \u001b[1m0s\u001b[0m 64ms/step - loss: 0.4252 - mape: 9.4260 - r2_score: 0.3918 - val_loss: 0.3078 - val_mape: 6.5652 - val_r2_score: 0.7845 - learning_rate: 8.0000e-04\n",
      "Epoch 180/1000\n",
      "\u001b[1m5/5\u001b[0m \u001b[32m━━━━━━━━━━━━━━━━━━━━\u001b[0m\u001b[37m\u001b[0m \u001b[1m0s\u001b[0m 64ms/step - loss: 0.4837 - mape: 10.9218 - r2_score: 0.2176 - val_loss: 0.3452 - val_mape: 7.4418 - val_r2_score: 0.7489 - learning_rate: 8.0000e-04\n",
      "Epoch 181/1000\n",
      "\u001b[1m5/5\u001b[0m \u001b[32m━━━━━━━━━━━━━━━━━━━━\u001b[0m\u001b[37m\u001b[0m \u001b[1m0s\u001b[0m 77ms/step - loss: 0.4611 - mape: 10.0494 - r2_score: 0.2779 - val_loss: 0.2819 - val_mape: 5.8458 - val_r2_score: 0.8293 - learning_rate: 8.0000e-04\n",
      "Epoch 182/1000\n",
      "\u001b[1m5/5\u001b[0m \u001b[32m━━━━━━━━━━━━━━━━━━━━\u001b[0m\u001b[37m\u001b[0m \u001b[1m0s\u001b[0m 77ms/step - loss: 0.4147 - mape: 9.2260 - r2_score: 0.4068 - val_loss: 0.2725 - val_mape: 5.6776 - val_r2_score: 0.8357 - learning_rate: 8.0000e-04\n",
      "Epoch 183/1000\n",
      "\u001b[1m5/5\u001b[0m \u001b[32m━━━━━━━━━━━━━━━━━━━━\u001b[0m\u001b[37m\u001b[0m \u001b[1m0s\u001b[0m 78ms/step - loss: 0.4552 - mape: 9.7501 - r2_score: 0.3436 - val_loss: 0.2558 - val_mape: 5.2425 - val_r2_score: 0.8394 - learning_rate: 8.0000e-04\n",
      "Epoch 184/1000\n",
      "\u001b[1m5/5\u001b[0m \u001b[32m━━━━━━━━━━━━━━━━━━━━\u001b[0m\u001b[37m\u001b[0m \u001b[1m0s\u001b[0m 78ms/step - loss: 0.3899 - mape: 8.7160 - r2_score: 0.4764 - val_loss: 0.2451 - val_mape: 4.9105 - val_r2_score: 0.8425 - learning_rate: 8.0000e-04\n",
      "Epoch 185/1000\n",
      "\u001b[1m5/5\u001b[0m \u001b[32m━━━━━━━━━━━━━━━━━━━━\u001b[0m\u001b[37m\u001b[0m \u001b[1m0s\u001b[0m 64ms/step - loss: 0.4249 - mape: 9.3999 - r2_score: 0.3941 - val_loss: 0.3233 - val_mape: 6.6508 - val_r2_score: 0.7455 - learning_rate: 8.0000e-04\n",
      "Epoch 186/1000\n",
      "\u001b[1m5/5\u001b[0m \u001b[32m━━━━━━━━━━━━━━━━━━━━\u001b[0m\u001b[37m\u001b[0m \u001b[1m0s\u001b[0m 67ms/step - loss: 0.4696 - mape: 10.4147 - r2_score: 0.3009 - val_loss: 0.3714 - val_mape: 7.7113 - val_r2_score: 0.6233 - learning_rate: 8.0000e-04\n",
      "Epoch 187/1000\n",
      "\u001b[1m5/5\u001b[0m \u001b[32m━━━━━━━━━━━━━━━━━━━━\u001b[0m\u001b[37m\u001b[0m \u001b[1m0s\u001b[0m 64ms/step - loss: 0.4043 - mape: 9.2063 - r2_score: 0.4630 - val_loss: 0.2609 - val_mape: 5.2561 - val_r2_score: 0.8315 - learning_rate: 8.0000e-04\n",
      "Epoch 188/1000\n",
      "\u001b[1m5/5\u001b[0m \u001b[32m━━━━━━━━━━━━━━━━━━━━\u001b[0m\u001b[37m\u001b[0m \u001b[1m0s\u001b[0m 63ms/step - loss: 0.4755 - mape: 10.4854 - r2_score: 0.2971 - val_loss: 0.2780 - val_mape: 5.7759 - val_r2_score: 0.8395 - learning_rate: 8.0000e-04\n",
      "Epoch 189/1000\n",
      "\u001b[1m5/5\u001b[0m \u001b[32m━━━━━━━━━━━━━━━━━━━━\u001b[0m\u001b[37m\u001b[0m \u001b[1m0s\u001b[0m 62ms/step - loss: 0.3873 - mape: 8.5651 - r2_score: 0.4396 - val_loss: 0.3523 - val_mape: 7.5938 - val_r2_score: 0.7111 - learning_rate: 8.0000e-04\n",
      "Epoch 190/1000\n",
      "\u001b[1m5/5\u001b[0m \u001b[32m━━━━━━━━━━━━━━━━━━━━\u001b[0m\u001b[37m\u001b[0m \u001b[1m0s\u001b[0m 79ms/step - loss: 0.5148 - mape: 11.4590 - r2_score: 0.2237 - val_loss: 0.2682 - val_mape: 5.4150 - val_r2_score: 0.8516 - learning_rate: 8.0000e-04\n",
      "Epoch 191/1000\n",
      "\u001b[1m5/5\u001b[0m \u001b[32m━━━━━━━━━━━━━━━━━━━━\u001b[0m\u001b[37m\u001b[0m \u001b[1m0s\u001b[0m 66ms/step - loss: 0.5000 - mape: 11.1834 - r2_score: 0.1381 - val_loss: 0.3269 - val_mape: 6.7445 - val_r2_score: 0.7755 - learning_rate: 8.0000e-04\n",
      "Epoch 192/1000\n",
      "\u001b[1m5/5\u001b[0m \u001b[32m━━━━━━━━━━━━━━━━━━━━\u001b[0m\u001b[37m\u001b[0m \u001b[1m0s\u001b[0m 65ms/step - loss: 0.5426 - mape: 12.2385 - r2_score: 0.1004 - val_loss: 0.3362 - val_mape: 7.0569 - val_r2_score: 0.7712 - learning_rate: 8.0000e-04\n",
      "Epoch 193/1000\n",
      "\u001b[1m5/5\u001b[0m \u001b[32m━━━━━━━━━━━━━━━━━━━━\u001b[0m\u001b[37m\u001b[0m \u001b[1m0s\u001b[0m 63ms/step - loss: 0.5176 - mape: 11.5384 - r2_score: 0.0153 - val_loss: 0.2983 - val_mape: 6.3086 - val_r2_score: 0.7964 - learning_rate: 8.0000e-04\n",
      "Epoch 194/1000\n",
      "\u001b[1m5/5\u001b[0m \u001b[32m━━━━━━━━━━━━━━━━━━━━\u001b[0m\u001b[37m\u001b[0m \u001b[1m0s\u001b[0m 77ms/step - loss: 0.4631 - mape: 10.2157 - r2_score: 0.3104 - val_loss: 0.2390 - val_mape: 4.8999 - val_r2_score: 0.8705 - learning_rate: 8.0000e-04\n",
      "Epoch 195/1000\n",
      "\u001b[1m5/5\u001b[0m \u001b[32m━━━━━━━━━━━━━━━━━━━━\u001b[0m\u001b[37m\u001b[0m \u001b[1m0s\u001b[0m 78ms/step - loss: 0.4655 - mape: 10.4430 - r2_score: 0.3226 - val_loss: 0.2364 - val_mape: 4.8259 - val_r2_score: 0.8760 - learning_rate: 8.0000e-04\n",
      "Epoch 196/1000\n",
      "\u001b[1m5/5\u001b[0m \u001b[32m━━━━━━━━━━━━━━━━━━━━\u001b[0m\u001b[37m\u001b[0m \u001b[1m0s\u001b[0m 63ms/step - loss: 0.4931 - mape: 11.0116 - r2_score: 0.3300 - val_loss: 0.3357 - val_mape: 7.2106 - val_r2_score: 0.7684 - learning_rate: 8.0000e-04\n",
      "Epoch 197/1000\n",
      "\u001b[1m5/5\u001b[0m \u001b[32m━━━━━━━━━━━━━━━━━━━━\u001b[0m\u001b[37m\u001b[0m \u001b[1m0s\u001b[0m 63ms/step - loss: 0.5639 - mape: 12.3268 - r2_score: -0.0555 - val_loss: 0.2815 - val_mape: 5.7995 - val_r2_score: 0.8191 - learning_rate: 8.0000e-04\n",
      "Epoch 198/1000\n",
      "\u001b[1m5/5\u001b[0m \u001b[32m━━━━━━━━━━━━━━━━━━━━\u001b[0m\u001b[37m\u001b[0m \u001b[1m0s\u001b[0m 63ms/step - loss: 0.5208 - mape: 11.4621 - r2_score: 0.1965 - val_loss: 0.2699 - val_mape: 5.4305 - val_r2_score: 0.8404 - learning_rate: 8.0000e-04\n",
      "Epoch 199/1000\n",
      "\u001b[1m5/5\u001b[0m \u001b[32m━━━━━━━━━━━━━━━━━━━━\u001b[0m\u001b[37m\u001b[0m \u001b[1m0s\u001b[0m 64ms/step - loss: 0.4547 - mape: 10.0717 - r2_score: 0.3349 - val_loss: 0.2632 - val_mape: 5.4705 - val_r2_score: 0.8464 - learning_rate: 8.0000e-04\n",
      "Epoch 200/1000\n",
      "\u001b[1m5/5\u001b[0m \u001b[32m━━━━━━━━━━━━━━━━━━━━\u001b[0m\u001b[37m\u001b[0m \u001b[1m0s\u001b[0m 63ms/step - loss: 0.5385 - mape: 12.3007 - r2_score: 0.0975 - val_loss: 0.2241 - val_mape: 4.4872 - val_r2_score: 0.8757 - learning_rate: 8.0000e-04\n",
      "Epoch 201/1000\n",
      "\u001b[1m5/5\u001b[0m \u001b[32m━━━━━━━━━━━━━━━━━━━━\u001b[0m\u001b[37m\u001b[0m \u001b[1m0s\u001b[0m 63ms/step - loss: 0.4432 - mape: 9.7426 - r2_score: 0.3013 - val_loss: 0.2485 - val_mape: 5.0830 - val_r2_score: 0.8328 - learning_rate: 8.0000e-04\n",
      "Epoch 202/1000\n",
      "\u001b[1m5/5\u001b[0m \u001b[32m━━━━━━━━━━━━━━━━━━━━\u001b[0m\u001b[37m\u001b[0m \u001b[1m0s\u001b[0m 64ms/step - loss: 0.5137 - mape: 11.2316 - r2_score: 0.1911 - val_loss: 0.2440 - val_mape: 4.9461 - val_r2_score: 0.8462 - learning_rate: 8.0000e-04\n",
      "Epoch 203/1000\n",
      "\u001b[1m5/5\u001b[0m \u001b[32m━━━━━━━━━━━━━━━━━━━━\u001b[0m\u001b[37m\u001b[0m \u001b[1m0s\u001b[0m 64ms/step - loss: 0.4275 - mape: 9.2596 - r2_score: 0.4272 - val_loss: 0.3166 - val_mape: 6.6464 - val_r2_score: 0.7873 - learning_rate: 8.0000e-04\n",
      "Epoch 204/1000\n",
      "\u001b[1m5/5\u001b[0m \u001b[32m━━━━━━━━━━━━━━━━━━━━\u001b[0m\u001b[37m\u001b[0m \u001b[1m0s\u001b[0m 69ms/step - loss: 0.4925 - mape: 11.1437 - r2_score: 0.2603 - val_loss: 0.2479 - val_mape: 5.0357 - val_r2_score: 0.8598 - learning_rate: 8.0000e-04\n",
      "Epoch 205/1000\n",
      "\u001b[1m5/5\u001b[0m \u001b[32m━━━━━━━━━━━━━━━━━━━━\u001b[0m\u001b[37m\u001b[0m \u001b[1m0s\u001b[0m 66ms/step - loss: 0.5049 - mape: 11.1793 - r2_score: 0.2320 - val_loss: 0.2835 - val_mape: 6.1639 - val_r2_score: 0.8276 - learning_rate: 8.0000e-04\n",
      "Epoch 206/1000\n",
      "\u001b[1m5/5\u001b[0m \u001b[32m━━━━━━━━━━━━━━━━━━━━\u001b[0m\u001b[37m\u001b[0m \u001b[1m0s\u001b[0m 64ms/step - loss: 0.5254 - mape: 11.9888 - r2_score: 0.0566 - val_loss: 0.3239 - val_mape: 7.1838 - val_r2_score: 0.7480 - learning_rate: 8.0000e-04\n",
      "Epoch 207/1000\n",
      "\u001b[1m5/5\u001b[0m \u001b[32m━━━━━━━━━━━━━━━━━━━━\u001b[0m\u001b[37m\u001b[0m \u001b[1m0s\u001b[0m 63ms/step - loss: 0.3888 - mape: 8.6937 - r2_score: 0.4977 - val_loss: 0.2585 - val_mape: 5.1160 - val_r2_score: 0.8439 - learning_rate: 8.0000e-04\n",
      "Epoch 208/1000\n",
      "\u001b[1m5/5\u001b[0m \u001b[32m━━━━━━━━━━━━━━━━━━━━\u001b[0m\u001b[37m\u001b[0m \u001b[1m0s\u001b[0m 63ms/step - loss: 0.5085 - mape: 11.1949 - r2_score: 0.2994 - val_loss: 0.3338 - val_mape: 6.7097 - val_r2_score: 0.7110 - learning_rate: 8.0000e-04\n",
      "Epoch 209/1000\n",
      "\u001b[1m5/5\u001b[0m \u001b[32m━━━━━━━━━━━━━━━━━━━━\u001b[0m\u001b[37m\u001b[0m \u001b[1m0s\u001b[0m 64ms/step - loss: 0.5691 - mape: 12.7649 - r2_score: 0.0689 - val_loss: 0.2687 - val_mape: 5.4734 - val_r2_score: 0.8396 - learning_rate: 8.0000e-04\n",
      "Epoch 210/1000\n",
      "\u001b[1m5/5\u001b[0m \u001b[32m━━━━━━━━━━━━━━━━━━━━\u001b[0m\u001b[37m\u001b[0m \u001b[1m0s\u001b[0m 66ms/step - loss: 0.4336 - mape: 9.6376 - r2_score: 0.4248 - val_loss: 0.2590 - val_mape: 5.2884 - val_r2_score: 0.8519 - learning_rate: 8.0000e-04\n",
      "Epoch 211/1000\n",
      "\u001b[1m5/5\u001b[0m \u001b[32m━━━━━━━━━━━━━━━━━━━━\u001b[0m\u001b[37m\u001b[0m \u001b[1m0s\u001b[0m 63ms/step - loss: 0.5374 - mape: 12.1379 - r2_score: 0.0959 - val_loss: 0.2672 - val_mape: 5.3578 - val_r2_score: 0.8386 - learning_rate: 8.0000e-04\n",
      "Epoch 212/1000\n",
      "\u001b[1m5/5\u001b[0m \u001b[32m━━━━━━━━━━━━━━━━━━━━\u001b[0m\u001b[37m\u001b[0m \u001b[1m0s\u001b[0m 64ms/step - loss: 0.4290 - mape: 9.4460 - r2_score: 0.4549 - val_loss: 0.2557 - val_mape: 5.1321 - val_r2_score: 0.8445 - learning_rate: 8.0000e-04\n",
      "Epoch 213/1000\n",
      "\u001b[1m5/5\u001b[0m \u001b[32m━━━━━━━━━━━━━━━━━━━━\u001b[0m\u001b[37m\u001b[0m \u001b[1m0s\u001b[0m 64ms/step - loss: 0.4389 - mape: 9.7933 - r2_score: 0.3785 - val_loss: 0.2562 - val_mape: 5.1785 - val_r2_score: 0.8405 - learning_rate: 8.0000e-04\n",
      "Epoch 214/1000\n",
      "\u001b[1m5/5\u001b[0m \u001b[32m━━━━━━━━━━━━━━━━━━━━\u001b[0m\u001b[37m\u001b[0m \u001b[1m0s\u001b[0m 68ms/step - loss: 0.5028 - mape: 10.8424 - r2_score: 0.3276 - val_loss: 0.2788 - val_mape: 5.7754 - val_r2_score: 0.8246 - learning_rate: 8.0000e-04\n",
      "Epoch 215/1000\n",
      "\u001b[1m5/5\u001b[0m \u001b[32m━━━━━━━━━━━━━━━━━━━━\u001b[0m\u001b[37m\u001b[0m \u001b[1m0s\u001b[0m 81ms/step - loss: 0.4597 - mape: 10.3508 - r2_score: 0.2315 - val_loss: 0.2876 - val_mape: 5.9406 - val_r2_score: 0.8081 - learning_rate: 8.0000e-04\n",
      "Epoch 216/1000\n",
      "\u001b[1m5/5\u001b[0m \u001b[32m━━━━━━━━━━━━━━━━━━━━\u001b[0m\u001b[37m\u001b[0m \u001b[1m0s\u001b[0m 64ms/step - loss: 0.5326 - mape: 11.7628 - r2_score: 0.2035 - val_loss: 0.3077 - val_mape: 6.6311 - val_r2_score: 0.7877 - learning_rate: 8.0000e-04\n",
      "Epoch 217/1000\n",
      "\u001b[1m5/5\u001b[0m \u001b[32m━━━━━━━━━━━━━━━━━━━━\u001b[0m\u001b[37m\u001b[0m \u001b[1m0s\u001b[0m 69ms/step - loss: 0.4544 - mape: 10.1474 - r2_score: 0.3528 - val_loss: 0.2982 - val_mape: 6.2030 - val_r2_score: 0.7920 - learning_rate: 8.0000e-04\n",
      "Epoch 218/1000\n",
      "\u001b[1m5/5\u001b[0m \u001b[32m━━━━━━━━━━━━━━━━━━━━\u001b[0m\u001b[37m\u001b[0m \u001b[1m1s\u001b[0m 77ms/step - loss: 0.4344 - mape: 9.4571 - r2_score: 0.3945 - val_loss: 0.3274 - val_mape: 6.4949 - val_r2_score: 0.7130 - learning_rate: 8.0000e-04\n",
      "Epoch 219/1000\n",
      "\u001b[1m5/5\u001b[0m \u001b[32m━━━━━━━━━━━━━━━━━━━━\u001b[0m\u001b[37m\u001b[0m \u001b[1m0s\u001b[0m 64ms/step - loss: 0.4619 - mape: 10.3004 - r2_score: 0.2911 - val_loss: 0.3665 - val_mape: 7.5947 - val_r2_score: 0.6620 - learning_rate: 8.0000e-04\n",
      "Epoch 220/1000\n",
      "\u001b[1m5/5\u001b[0m \u001b[32m━━━━━━━━━━━━━━━━━━━━\u001b[0m\u001b[37m\u001b[0m \u001b[1m0s\u001b[0m 63ms/step - loss: 0.4453 - mape: 9.9625 - r2_score: 0.3766 - val_loss: 0.3730 - val_mape: 8.1459 - val_r2_score: 0.6868 - learning_rate: 8.0000e-04\n",
      "Epoch 221/1000\n",
      "\u001b[1m5/5\u001b[0m \u001b[32m━━━━━━━━━━━━━━━━━━━━\u001b[0m\u001b[37m\u001b[0m \u001b[1m0s\u001b[0m 65ms/step - loss: 0.5389 - mape: 12.3554 - r2_score: 0.0846 - val_loss: 0.2786 - val_mape: 5.7551 - val_r2_score: 0.8214 - learning_rate: 8.0000e-04\n",
      "Epoch 222/1000\n",
      "\u001b[1m5/5\u001b[0m \u001b[32m━━━━━━━━━━━━━━━━━━━━\u001b[0m\u001b[37m\u001b[0m \u001b[1m0s\u001b[0m 63ms/step - loss: 0.4558 - mape: 9.9554 - r2_score: 0.4584 - val_loss: 0.2832 - val_mape: 5.8656 - val_r2_score: 0.8041 - learning_rate: 8.0000e-04\n",
      "Epoch 223/1000\n",
      "\u001b[1m5/5\u001b[0m \u001b[32m━━━━━━━━━━━━━━━━━━━━\u001b[0m\u001b[37m\u001b[0m \u001b[1m0s\u001b[0m 63ms/step - loss: 0.5176 - mape: 11.3675 - r2_score: 0.1466 - val_loss: 0.3123 - val_mape: 6.6163 - val_r2_score: 0.7838 - learning_rate: 8.0000e-04\n",
      "Epoch 224/1000\n",
      "\u001b[1m5/5\u001b[0m \u001b[32m━━━━━━━━━━━━━━━━━━━━\u001b[0m\u001b[37m\u001b[0m \u001b[1m0s\u001b[0m 65ms/step - loss: 0.5182 - mape: 11.7482 - r2_score: 0.1451 - val_loss: 0.2638 - val_mape: 5.2842 - val_r2_score: 0.8008 - learning_rate: 8.0000e-04\n",
      "Epoch 225/1000\n",
      "\u001b[1m5/5\u001b[0m \u001b[32m━━━━━━━━━━━━━━━━━━━━\u001b[0m\u001b[37m\u001b[0m \u001b[1m0s\u001b[0m 65ms/step - loss: 0.4207 - mape: 9.5734 - r2_score: 0.4545 - val_loss: 0.3796 - val_mape: 7.9453 - val_r2_score: 0.6166 - learning_rate: 8.0000e-04\n",
      "Epoch 226/1000\n",
      "\u001b[1m5/5\u001b[0m \u001b[32m━━━━━━━━━━━━━━━━━━━━\u001b[0m\u001b[37m\u001b[0m \u001b[1m0s\u001b[0m 64ms/step - loss: 0.4690 - mape: 10.3364 - r2_score: 0.3254 - val_loss: 0.4260 - val_mape: 8.9542 - val_r2_score: 0.5516 - learning_rate: 8.0000e-04\n",
      "Epoch 227/1000\n",
      "\u001b[1m5/5\u001b[0m \u001b[32m━━━━━━━━━━━━━━━━━━━━\u001b[0m\u001b[37m\u001b[0m \u001b[1m0s\u001b[0m 65ms/step - loss: 0.5243 - mape: 11.6304 - r2_score: 0.0470 - val_loss: 0.3307 - val_mape: 6.6156 - val_r2_score: 0.7272 - learning_rate: 8.0000e-04\n",
      "Epoch 228/1000\n",
      "\u001b[1m5/5\u001b[0m \u001b[32m━━━━━━━━━━━━━━━━━━━━\u001b[0m\u001b[37m\u001b[0m \u001b[1m0s\u001b[0m 64ms/step - loss: 0.4442 - mape: 9.7070 - r2_score: 0.3034 - val_loss: 0.3179 - val_mape: 6.4154 - val_r2_score: 0.7820 - learning_rate: 8.0000e-04\n",
      "Epoch 229/1000\n",
      "\u001b[1m5/5\u001b[0m \u001b[32m━━━━━━━━━━━━━━━━━━━━\u001b[0m\u001b[37m\u001b[0m \u001b[1m1s\u001b[0m 79ms/step - loss: 0.5474 - mape: 12.2884 - r2_score: 0.0478 - val_loss: 0.2946 - val_mape: 6.0640 - val_r2_score: 0.8144 - learning_rate: 8.0000e-04\n",
      "Epoch 230/1000\n",
      "\u001b[1m5/5\u001b[0m \u001b[32m━━━━━━━━━━━━━━━━━━━━\u001b[0m\u001b[37m\u001b[0m \u001b[1m0s\u001b[0m 70ms/step - loss: 0.3981 - mape: 8.8460 - r2_score: 0.4931 - val_loss: 0.2716 - val_mape: 5.3517 - val_r2_score: 0.8118 - learning_rate: 8.0000e-04\n",
      "Epoch 231/1000\n",
      "\u001b[1m5/5\u001b[0m \u001b[32m━━━━━━━━━━━━━━━━━━━━\u001b[0m\u001b[37m\u001b[0m \u001b[1m0s\u001b[0m 63ms/step - loss: 0.5354 - mape: 11.7702 - r2_score: 0.1022 - val_loss: 0.2759 - val_mape: 5.4901 - val_r2_score: 0.7959 - learning_rate: 8.0000e-04\n",
      "Epoch 232/1000\n",
      "\u001b[1m5/5\u001b[0m \u001b[32m━━━━━━━━━━━━━━━━━━━━\u001b[0m\u001b[37m\u001b[0m \u001b[1m0s\u001b[0m 63ms/step - loss: 0.5009 - mape: 11.3313 - r2_score: 0.2876 - val_loss: 0.2941 - val_mape: 6.0952 - val_r2_score: 0.8197 - learning_rate: 8.0000e-04\n",
      "Epoch 233/1000\n",
      "\u001b[1m5/5\u001b[0m \u001b[32m━━━━━━━━━━━━━━━━━━━━\u001b[0m\u001b[37m\u001b[0m \u001b[1m0s\u001b[0m 63ms/step - loss: 0.5797 - mape: 13.2204 - r2_score: 0.0285 - val_loss: 0.2849 - val_mape: 5.7109 - val_r2_score: 0.8139 - learning_rate: 8.0000e-04\n",
      "Epoch 234/1000\n",
      "\u001b[1m5/5\u001b[0m \u001b[32m━━━━━━━━━━━━━━━━━━━━\u001b[0m\u001b[37m\u001b[0m \u001b[1m0s\u001b[0m 64ms/step - loss: 0.3798 - mape: 8.4457 - r2_score: 0.5465 - val_loss: 0.3557 - val_mape: 7.3657 - val_r2_score: 0.6753 - learning_rate: 8.0000e-04\n",
      "Epoch 235/1000\n",
      "\u001b[1m5/5\u001b[0m \u001b[32m━━━━━━━━━━━━━━━━━━━━\u001b[0m\u001b[37m\u001b[0m \u001b[1m0s\u001b[0m 63ms/step - loss: 0.5048 - mape: 11.7483 - r2_score: 0.1165 - val_loss: 0.3829 - val_mape: 7.9456 - val_r2_score: 0.6498 - learning_rate: 8.0000e-04\n",
      "Epoch 236/1000\n",
      "\u001b[1m5/5\u001b[0m \u001b[32m━━━━━━━━━━━━━━━━━━━━\u001b[0m\u001b[37m\u001b[0m \u001b[1m0s\u001b[0m 65ms/step - loss: 0.4160 - mape: 9.2152 - r2_score: 0.3974 - val_loss: 0.3546 - val_mape: 7.2017 - val_r2_score: 0.6661 - learning_rate: 8.0000e-04\n",
      "Epoch 237/1000\n",
      "\u001b[1m5/5\u001b[0m \u001b[32m━━━━━━━━━━━━━━━━━━━━\u001b[0m\u001b[37m\u001b[0m \u001b[1m0s\u001b[0m 64ms/step - loss: 0.4160 - mape: 9.2419 - r2_score: 0.4806 - val_loss: 0.4252 - val_mape: 9.2371 - val_r2_score: 0.5986 - learning_rate: 8.0000e-04\n",
      "Epoch 238/1000\n",
      "\u001b[1m5/5\u001b[0m \u001b[32m━━━━━━━━━━━━━━━━━━━━\u001b[0m\u001b[37m\u001b[0m \u001b[1m0s\u001b[0m 63ms/step - loss: 0.4380 - mape: 9.9769 - r2_score: 0.3957 - val_loss: 0.4431 - val_mape: 9.7031 - val_r2_score: 0.5097 - learning_rate: 8.0000e-04\n",
      "Epoch 239/1000\n",
      "\u001b[1m5/5\u001b[0m \u001b[32m━━━━━━━━━━━━━━━━━━━━\u001b[0m\u001b[37m\u001b[0m \u001b[1m0s\u001b[0m 64ms/step - loss: 0.5528 - mape: 12.2282 - r2_score: 0.0627 - val_loss: 0.3649 - val_mape: 8.0082 - val_r2_score: 0.6615 - learning_rate: 8.0000e-04\n",
      "Epoch 240/1000\n",
      "\u001b[1m5/5\u001b[0m \u001b[32m━━━━━━━━━━━━━━━━━━━━\u001b[0m\u001b[37m\u001b[0m \u001b[1m0s\u001b[0m 64ms/step - loss: 0.4400 - mape: 9.7708 - r2_score: 0.4043 - val_loss: 0.2897 - val_mape: 6.3693 - val_r2_score: 0.8149 - learning_rate: 8.0000e-04\n",
      "Epoch 241/1000\n",
      "\u001b[1m5/5\u001b[0m \u001b[32m━━━━━━━━━━━━━━━━━━━━\u001b[0m\u001b[37m\u001b[0m \u001b[1m0s\u001b[0m 64ms/step - loss: 0.4898 - mape: 10.7334 - r2_score: 0.2506 - val_loss: 0.2902 - val_mape: 6.2205 - val_r2_score: 0.8274 - learning_rate: 8.0000e-04\n",
      "Epoch 242/1000\n",
      "\u001b[1m5/5\u001b[0m \u001b[32m━━━━━━━━━━━━━━━━━━━━\u001b[0m\u001b[37m\u001b[0m \u001b[1m0s\u001b[0m 64ms/step - loss: 0.5205 - mape: 11.4490 - r2_score: 0.2451 - val_loss: 0.2618 - val_mape: 5.4066 - val_r2_score: 0.8515 - learning_rate: 6.4000e-04\n",
      "Epoch 243/1000\n",
      "\u001b[1m5/5\u001b[0m \u001b[32m━━━━━━━━━━━━━━━━━━━━\u001b[0m\u001b[37m\u001b[0m \u001b[1m0s\u001b[0m 64ms/step - loss: 0.4838 - mape: 10.8388 - r2_score: 0.2455 - val_loss: 0.2331 - val_mape: 4.6657 - val_r2_score: 0.8735 - learning_rate: 6.4000e-04\n",
      "Epoch 244/1000\n",
      "\u001b[1m5/5\u001b[0m \u001b[32m━━━━━━━━━━━━━━━━━━━━\u001b[0m\u001b[37m\u001b[0m \u001b[1m0s\u001b[0m 64ms/step - loss: 0.5603 - mape: 12.3230 - r2_score: 0.0876 - val_loss: 0.2428 - val_mape: 4.9338 - val_r2_score: 0.8251 - learning_rate: 6.4000e-04\n",
      "Epoch 245/1000\n",
      "\u001b[1m5/5\u001b[0m \u001b[32m━━━━━━━━━━━━━━━━━━━━\u001b[0m\u001b[37m\u001b[0m \u001b[1m0s\u001b[0m 65ms/step - loss: 0.4472 - mape: 10.0776 - r2_score: 0.3867 - val_loss: 0.2947 - val_mape: 6.0711 - val_r2_score: 0.7572 - learning_rate: 6.4000e-04\n",
      "Epoch 246/1000\n",
      "\u001b[1m5/5\u001b[0m \u001b[32m━━━━━━━━━━━━━━━━━━━━\u001b[0m\u001b[37m\u001b[0m \u001b[1m0s\u001b[0m 64ms/step - loss: 0.4176 - mape: 9.3139 - r2_score: 0.4151 - val_loss: 0.3100 - val_mape: 6.3608 - val_r2_score: 0.7330 - learning_rate: 6.4000e-04\n",
      "Epoch 247/1000\n",
      "\u001b[1m5/5\u001b[0m \u001b[32m━━━━━━━━━━━━━━━━━━━━\u001b[0m\u001b[37m\u001b[0m \u001b[1m0s\u001b[0m 63ms/step - loss: 0.3951 - mape: 8.7775 - r2_score: 0.5163 - val_loss: 0.2756 - val_mape: 5.5740 - val_r2_score: 0.7893 - learning_rate: 6.4000e-04\n",
      "Epoch 248/1000\n",
      "\u001b[1m5/5\u001b[0m \u001b[32m━━━━━━━━━━━━━━━━━━━━\u001b[0m\u001b[37m\u001b[0m \u001b[1m0s\u001b[0m 63ms/step - loss: 0.4305 - mape: 9.4741 - r2_score: 0.3758 - val_loss: 0.2626 - val_mape: 5.2106 - val_r2_score: 0.8205 - learning_rate: 6.4000e-04\n",
      "Epoch 249/1000\n",
      "\u001b[1m5/5\u001b[0m \u001b[32m━━━━━━━━━━━━━━━━━━━━\u001b[0m\u001b[37m\u001b[0m \u001b[1m0s\u001b[0m 64ms/step - loss: 0.4074 - mape: 9.2424 - r2_score: 0.4060 - val_loss: 0.2633 - val_mape: 5.4006 - val_r2_score: 0.8160 - learning_rate: 6.4000e-04\n",
      "Epoch 250/1000\n",
      "\u001b[1m5/5\u001b[0m \u001b[32m━━━━━━━━━━━━━━━━━━━━\u001b[0m\u001b[37m\u001b[0m \u001b[1m0s\u001b[0m 64ms/step - loss: 0.4531 - mape: 10.1187 - r2_score: 0.3745 - val_loss: 0.3374 - val_mape: 7.0665 - val_r2_score: 0.6970 - learning_rate: 6.4000e-04\n",
      "Epoch 251/1000\n",
      "\u001b[1m5/5\u001b[0m \u001b[32m━━━━━━━━━━━━━━━━━━━━\u001b[0m\u001b[37m\u001b[0m \u001b[1m0s\u001b[0m 63ms/step - loss: 0.5153 - mape: 11.1887 - r2_score: 0.1869 - val_loss: 0.3348 - val_mape: 7.1084 - val_r2_score: 0.7047 - learning_rate: 6.4000e-04\n",
      "Epoch 252/1000\n",
      "\u001b[1m5/5\u001b[0m \u001b[32m━━━━━━━━━━━━━━━━━━━━\u001b[0m\u001b[37m\u001b[0m \u001b[1m0s\u001b[0m 64ms/step - loss: 0.5323 - mape: 11.9436 - r2_score: 0.1330 - val_loss: 0.2725 - val_mape: 5.7586 - val_r2_score: 0.8005 - learning_rate: 6.4000e-04\n",
      "Epoch 253/1000\n",
      "\u001b[1m5/5\u001b[0m \u001b[32m━━━━━━━━━━━━━━━━━━━━\u001b[0m\u001b[37m\u001b[0m \u001b[1m0s\u001b[0m 64ms/step - loss: 0.4172 - mape: 9.2170 - r2_score: 0.4275 - val_loss: 0.2827 - val_mape: 5.8811 - val_r2_score: 0.8123 - learning_rate: 6.4000e-04\n",
      "Epoch 254/1000\n",
      "\u001b[1m5/5\u001b[0m \u001b[32m━━━━━━━━━━━━━━━━━━━━\u001b[0m\u001b[37m\u001b[0m \u001b[1m0s\u001b[0m 66ms/step - loss: 0.5072 - mape: 11.1912 - r2_score: 0.2723 - val_loss: 0.2844 - val_mape: 5.8146 - val_r2_score: 0.8033 - learning_rate: 6.4000e-04\n",
      "Epoch 255/1000\n",
      "\u001b[1m5/5\u001b[0m \u001b[32m━━━━━━━━━━━━━━━━━━━━\u001b[0m\u001b[37m\u001b[0m \u001b[1m0s\u001b[0m 64ms/step - loss: 0.4636 - mape: 10.1583 - r2_score: 0.4028 - val_loss: 0.2846 - val_mape: 5.8749 - val_r2_score: 0.7887 - learning_rate: 6.4000e-04\n",
      "Epoch 256/1000\n",
      "\u001b[1m5/5\u001b[0m \u001b[32m━━━━━━━━━━━━━━━━━━━━\u001b[0m\u001b[37m\u001b[0m \u001b[1m0s\u001b[0m 69ms/step - loss: 0.5165 - mape: 11.7283 - r2_score: 0.1774 - val_loss: 0.2891 - val_mape: 6.0024 - val_r2_score: 0.7678 - learning_rate: 6.4000e-04\n",
      "Epoch 257/1000\n",
      "\u001b[1m5/5\u001b[0m \u001b[32m━━━━━━━━━━━━━━━━━━━━\u001b[0m\u001b[37m\u001b[0m \u001b[1m0s\u001b[0m 65ms/step - loss: 0.4397 - mape: 9.7462 - r2_score: 0.3958 - val_loss: 0.2764 - val_mape: 5.9629 - val_r2_score: 0.7839 - learning_rate: 6.4000e-04\n",
      "Epoch 258/1000\n",
      "\u001b[1m5/5\u001b[0m \u001b[32m━━━━━━━━━━━━━━━━━━━━\u001b[0m\u001b[37m\u001b[0m \u001b[1m0s\u001b[0m 65ms/step - loss: 0.4668 - mape: 10.5211 - r2_score: 0.2224 - val_loss: 0.2761 - val_mape: 6.0068 - val_r2_score: 0.8248 - learning_rate: 6.4000e-04\n",
      "Epoch 259/1000\n",
      "\u001b[1m5/5\u001b[0m \u001b[32m━━━━━━━━━━━━━━━━━━━━\u001b[0m\u001b[37m\u001b[0m \u001b[1m0s\u001b[0m 64ms/step - loss: 0.5316 - mape: 11.7132 - r2_score: 0.1956 - val_loss: 0.3118 - val_mape: 6.4958 - val_r2_score: 0.7867 - learning_rate: 6.4000e-04\n",
      "Epoch 260/1000\n",
      "\u001b[1m5/5\u001b[0m \u001b[32m━━━━━━━━━━━━━━━━━━━━\u001b[0m\u001b[37m\u001b[0m \u001b[1m0s\u001b[0m 64ms/step - loss: 0.4830 - mape: 10.8012 - r2_score: 0.2923 - val_loss: 0.3534 - val_mape: 7.5109 - val_r2_score: 0.7136 - learning_rate: 6.4000e-04\n",
      "Epoch 261/1000\n",
      "\u001b[1m5/5\u001b[0m \u001b[32m━━━━━━━━━━━━━━━━━━━━\u001b[0m\u001b[37m\u001b[0m \u001b[1m0s\u001b[0m 63ms/step - loss: 0.4524 - mape: 10.1069 - r2_score: 0.4518 - val_loss: 0.3644 - val_mape: 7.8130 - val_r2_score: 0.7208 - learning_rate: 6.4000e-04\n",
      "Epoch 262/1000\n",
      "\u001b[1m5/5\u001b[0m \u001b[32m━━━━━━━━━━━━━━━━━━━━\u001b[0m\u001b[37m\u001b[0m \u001b[1m0s\u001b[0m 66ms/step - loss: 0.4864 - mape: 10.8606 - r2_score: 0.3199 - val_loss: 0.3129 - val_mape: 6.6573 - val_r2_score: 0.7902 - learning_rate: 6.4000e-04\n",
      "Epoch 263/1000\n",
      "\u001b[1m5/5\u001b[0m \u001b[32m━━━━━━━━━━━━━━━━━━━━\u001b[0m\u001b[37m\u001b[0m \u001b[1m0s\u001b[0m 65ms/step - loss: 0.4493 - mape: 10.1191 - r2_score: 0.3369 - val_loss: 0.2274 - val_mape: 4.6905 - val_r2_score: 0.8698 - learning_rate: 6.4000e-04\n",
      "Epoch 264/1000\n",
      "\u001b[1m5/5\u001b[0m \u001b[32m━━━━━━━━━━━━━━━━━━━━\u001b[0m\u001b[37m\u001b[0m \u001b[1m0s\u001b[0m 64ms/step - loss: 0.4380 - mape: 9.5908 - r2_score: 0.4616 - val_loss: 0.2550 - val_mape: 5.5322 - val_r2_score: 0.7998 - learning_rate: 6.4000e-04\n",
      "Epoch 265/1000\n",
      "\u001b[1m5/5\u001b[0m \u001b[32m━━━━━━━━━━━━━━━━━━━━\u001b[0m\u001b[37m\u001b[0m \u001b[1m0s\u001b[0m 64ms/step - loss: 0.3985 - mape: 9.0863 - r2_score: 0.4953 - val_loss: 0.2996 - val_mape: 6.7218 - val_r2_score: 0.7367 - learning_rate: 6.4000e-04\n",
      "Epoch 266/1000\n",
      "\u001b[1m5/5\u001b[0m \u001b[32m━━━━━━━━━━━━━━━━━━━━\u001b[0m\u001b[37m\u001b[0m \u001b[1m0s\u001b[0m 63ms/step - loss: 0.4767 - mape: 10.4327 - r2_score: 0.2397 - val_loss: 0.2755 - val_mape: 5.6371 - val_r2_score: 0.7926 - learning_rate: 6.4000e-04\n",
      "Epoch 267/1000\n",
      "\u001b[1m5/5\u001b[0m \u001b[32m━━━━━━━━━━━━━━━━━━━━\u001b[0m\u001b[37m\u001b[0m \u001b[1m0s\u001b[0m 64ms/step - loss: 0.4655 - mape: 10.4816 - r2_score: 0.3142 - val_loss: 0.2981 - val_mape: 5.9343 - val_r2_score: 0.7919 - learning_rate: 6.4000e-04\n",
      "Epoch 268/1000\n",
      "\u001b[1m5/5\u001b[0m \u001b[32m━━━━━━━━━━━━━━━━━━━━\u001b[0m\u001b[37m\u001b[0m \u001b[1m0s\u001b[0m 63ms/step - loss: 0.3574 - mape: 8.0243 - r2_score: 0.4874 - val_loss: 0.3532 - val_mape: 7.7618 - val_r2_score: 0.6833 - learning_rate: 6.4000e-04\n",
      "Epoch 269/1000\n",
      "\u001b[1m5/5\u001b[0m \u001b[32m━━━━━━━━━━━━━━━━━━━━\u001b[0m\u001b[37m\u001b[0m \u001b[1m0s\u001b[0m 63ms/step - loss: 0.4639 - mape: 10.6171 - r2_score: 0.2835 - val_loss: 0.3333 - val_mape: 7.3736 - val_r2_score: 0.7439 - learning_rate: 6.4000e-04\n",
      "Epoch 270/1000\n",
      "\u001b[1m5/5\u001b[0m \u001b[32m━━━━━━━━━━━━━━━━━━━━\u001b[0m\u001b[37m\u001b[0m \u001b[1m0s\u001b[0m 65ms/step - loss: 0.4555 - mape: 9.9696 - r2_score: 0.3637 - val_loss: 0.2727 - val_mape: 5.3571 - val_r2_score: 0.8064 - learning_rate: 6.4000e-04\n",
      "Epoch 271/1000\n",
      "\u001b[1m5/5\u001b[0m \u001b[32m━━━━━━━━━━━━━━━━━━━━\u001b[0m\u001b[37m\u001b[0m \u001b[1m0s\u001b[0m 64ms/step - loss: 0.4204 - mape: 9.2525 - r2_score: 0.3665 - val_loss: 0.4117 - val_mape: 8.2952 - val_r2_score: 0.4937 - learning_rate: 6.4000e-04\n",
      "Epoch 272/1000\n",
      "\u001b[1m5/5\u001b[0m \u001b[32m━━━━━━━━━━━━━━━━━━━━\u001b[0m\u001b[37m\u001b[0m \u001b[1m0s\u001b[0m 64ms/step - loss: 0.5104 - mape: 11.3817 - r2_score: 0.2274 - val_loss: 0.3916 - val_mape: 7.8005 - val_r2_score: 0.5148 - learning_rate: 6.4000e-04\n",
      "Epoch 273/1000\n",
      "\u001b[1m5/5\u001b[0m \u001b[32m━━━━━━━━━━━━━━━━━━━━\u001b[0m\u001b[37m\u001b[0m \u001b[1m0s\u001b[0m 65ms/step - loss: 0.3902 - mape: 8.8776 - r2_score: 0.4842 - val_loss: 0.2897 - val_mape: 5.8806 - val_r2_score: 0.7481 - learning_rate: 6.4000e-04\n",
      "Epoch 274/1000\n",
      "\u001b[1m5/5\u001b[0m \u001b[32m━━━━━━━━━━━━━━━━━━━━\u001b[0m\u001b[37m\u001b[0m \u001b[1m0s\u001b[0m 64ms/step - loss: 0.4140 - mape: 9.0139 - r2_score: 0.4929 - val_loss: 0.2850 - val_mape: 6.5072 - val_r2_score: 0.7868 - learning_rate: 6.4000e-04\n",
      "Epoch 275/1000\n",
      "\u001b[1m5/5\u001b[0m \u001b[32m━━━━━━━━━━━━━━━━━━━━\u001b[0m\u001b[37m\u001b[0m \u001b[1m0s\u001b[0m 64ms/step - loss: 0.4434 - mape: 10.1648 - r2_score: 0.3254 - val_loss: 0.3410 - val_mape: 7.8589 - val_r2_score: 0.7036 - learning_rate: 6.4000e-04\n",
      "Epoch 276/1000\n",
      "\u001b[1m5/5\u001b[0m \u001b[32m━━━━━━━━━━━━━━━━━━━━\u001b[0m\u001b[37m\u001b[0m \u001b[1m0s\u001b[0m 65ms/step - loss: 0.4773 - mape: 10.6487 - r2_score: 0.3065 - val_loss: 0.2891 - val_mape: 6.2926 - val_r2_score: 0.7812 - learning_rate: 6.4000e-04\n",
      "Epoch 277/1000\n",
      "\u001b[1m5/5\u001b[0m \u001b[32m━━━━━━━━━━━━━━━━━━━━\u001b[0m\u001b[37m\u001b[0m \u001b[1m0s\u001b[0m 65ms/step - loss: 0.4702 - mape: 10.6955 - r2_score: 0.3124 - val_loss: 0.2945 - val_mape: 5.9302 - val_r2_score: 0.7656 - learning_rate: 6.4000e-04\n",
      "Epoch 278/1000\n",
      "\u001b[1m5/5\u001b[0m \u001b[32m━━━━━━━━━━━━━━━━━━━━\u001b[0m\u001b[37m\u001b[0m \u001b[1m0s\u001b[0m 64ms/step - loss: 0.4715 - mape: 10.4958 - r2_score: 0.2184 - val_loss: 0.3139 - val_mape: 6.0746 - val_r2_score: 0.7047 - learning_rate: 6.4000e-04\n",
      "Epoch 279/1000\n",
      "\u001b[1m5/5\u001b[0m \u001b[32m━━━━━━━━━━━━━━━━━━━━\u001b[0m\u001b[37m\u001b[0m \u001b[1m0s\u001b[0m 77ms/step - loss: 0.4709 - mape: 10.4752 - r2_score: 0.2933 - val_loss: 0.2787 - val_mape: 5.4122 - val_r2_score: 0.7847 - learning_rate: 6.4000e-04\n",
      "Epoch 280/1000\n",
      "\u001b[1m5/5\u001b[0m \u001b[32m━━━━━━━━━━━━━━━━━━━━\u001b[0m\u001b[37m\u001b[0m \u001b[1m0s\u001b[0m 67ms/step - loss: 0.3806 - mape: 8.5883 - r2_score: 0.5780 - val_loss: 0.2860 - val_mape: 6.1648 - val_r2_score: 0.8301 - learning_rate: 6.4000e-04\n",
      "Epoch 281/1000\n",
      "\u001b[1m5/5\u001b[0m \u001b[32m━━━━━━━━━━━━━━━━━━━━\u001b[0m\u001b[37m\u001b[0m \u001b[1m0s\u001b[0m 64ms/step - loss: 0.4417 - mape: 9.8510 - r2_score: 0.3795 - val_loss: 0.3027 - val_mape: 6.6199 - val_r2_score: 0.8170 - learning_rate: 6.4000e-04\n",
      "Epoch 282/1000\n",
      "\u001b[1m5/5\u001b[0m \u001b[32m━━━━━━━━━━━━━━━━━━━━\u001b[0m\u001b[37m\u001b[0m \u001b[1m0s\u001b[0m 64ms/step - loss: 0.4254 - mape: 9.4444 - r2_score: 0.3732 - val_loss: 0.2810 - val_mape: 6.1299 - val_r2_score: 0.8293 - learning_rate: 6.4000e-04\n",
      "Epoch 283/1000\n",
      "\u001b[1m5/5\u001b[0m \u001b[32m━━━━━━━━━━━━━━━━━━━━\u001b[0m\u001b[37m\u001b[0m \u001b[1m0s\u001b[0m 67ms/step - loss: 0.4980 - mape: 10.9478 - r2_score: 0.2783 - val_loss: 0.2645 - val_mape: 5.7721 - val_r2_score: 0.8388 - learning_rate: 6.4000e-04\n",
      "Epoch 284/1000\n",
      "\u001b[1m5/5\u001b[0m \u001b[32m━━━━━━━━━━━━━━━━━━━━\u001b[0m\u001b[37m\u001b[0m \u001b[1m0s\u001b[0m 64ms/step - loss: 0.4498 - mape: 10.1603 - r2_score: 0.3820 - val_loss: 0.2561 - val_mape: 5.2590 - val_r2_score: 0.8113 - learning_rate: 6.4000e-04\n",
      "Epoch 285/1000\n",
      "\u001b[1m5/5\u001b[0m \u001b[32m━━━━━━━━━━━━━━━━━━━━\u001b[0m\u001b[37m\u001b[0m \u001b[1m0s\u001b[0m 65ms/step - loss: 0.5082 - mape: 11.3603 - r2_score: 0.2624 - val_loss: 0.2597 - val_mape: 5.2138 - val_r2_score: 0.7734 - learning_rate: 6.4000e-04\n",
      "Epoch 286/1000\n",
      "\u001b[1m5/5\u001b[0m \u001b[32m━━━━━━━━━━━━━━━━━━━━\u001b[0m\u001b[37m\u001b[0m \u001b[1m0s\u001b[0m 65ms/step - loss: 0.5241 - mape: 11.7836 - r2_score: 0.1539 - val_loss: 0.2691 - val_mape: 5.4092 - val_r2_score: 0.7772 - learning_rate: 6.4000e-04\n",
      "Epoch 287/1000\n",
      "\u001b[1m5/5\u001b[0m \u001b[32m━━━━━━━━━━━━━━━━━━━━\u001b[0m\u001b[37m\u001b[0m \u001b[1m0s\u001b[0m 64ms/step - loss: 0.3767 - mape: 8.3878 - r2_score: 0.4817 - val_loss: 0.2709 - val_mape: 5.8039 - val_r2_score: 0.7986 - learning_rate: 6.4000e-04\n",
      "Epoch 288/1000\n",
      "\u001b[1m5/5\u001b[0m \u001b[32m━━━━━━━━━━━━━━━━━━━━\u001b[0m\u001b[37m\u001b[0m \u001b[1m0s\u001b[0m 64ms/step - loss: 0.4258 - mape: 9.4293 - r2_score: 0.4094 - val_loss: 0.3083 - val_mape: 6.6663 - val_r2_score: 0.7461 - learning_rate: 6.4000e-04\n",
      "Epoch 289/1000\n",
      "\u001b[1m5/5\u001b[0m \u001b[32m━━━━━━━━━━━━━━━━━━━━\u001b[0m\u001b[37m\u001b[0m \u001b[1m0s\u001b[0m 65ms/step - loss: 0.4024 - mape: 8.9790 - r2_score: 0.4602 - val_loss: 0.3353 - val_mape: 6.9927 - val_r2_score: 0.6942 - learning_rate: 6.4000e-04\n",
      "Epoch 290/1000\n",
      "\u001b[1m5/5\u001b[0m \u001b[32m━━━━━━━━━━━━━━━━━━━━\u001b[0m\u001b[37m\u001b[0m \u001b[1m0s\u001b[0m 65ms/step - loss: 0.4465 - mape: 9.8069 - r2_score: 0.4189 - val_loss: 0.3369 - val_mape: 6.9027 - val_r2_score: 0.6954 - learning_rate: 6.4000e-04\n",
      "Epoch 291/1000\n",
      "\u001b[1m5/5\u001b[0m \u001b[32m━━━━━━━━━━━━━━━━━━━━\u001b[0m\u001b[37m\u001b[0m \u001b[1m0s\u001b[0m 67ms/step - loss: 0.3737 - mape: 8.3062 - r2_score: 0.5497 - val_loss: 0.3175 - val_mape: 6.3611 - val_r2_score: 0.7258 - learning_rate: 6.4000e-04\n",
      "Epoch 292/1000\n",
      "\u001b[1m5/5\u001b[0m \u001b[32m━━━━━━━━━━━━━━━━━━━━\u001b[0m\u001b[37m\u001b[0m \u001b[1m0s\u001b[0m 66ms/step - loss: 0.4038 - mape: 8.9120 - r2_score: 0.4818 - val_loss: 0.3179 - val_mape: 6.1356 - val_r2_score: 0.6986 - learning_rate: 6.4000e-04\n",
      "Epoch 293/1000\n",
      "\u001b[1m5/5\u001b[0m \u001b[32m━━━━━━━━━━━━━━━━━━━━\u001b[0m\u001b[37m\u001b[0m \u001b[1m0s\u001b[0m 69ms/step - loss: 0.4358 - mape: 9.5687 - r2_score: 0.4986 - val_loss: 0.2912 - val_mape: 5.8891 - val_r2_score: 0.7730 - learning_rate: 6.4000e-04\n",
      "Epoch 294/1000\n",
      "\u001b[1m5/5\u001b[0m \u001b[32m━━━━━━━━━━━━━━━━━━━━\u001b[0m\u001b[37m\u001b[0m \u001b[1m0s\u001b[0m 64ms/step - loss: 0.4185 - mape: 9.0425 - r2_score: 0.3831 - val_loss: 0.3021 - val_mape: 6.3543 - val_r2_score: 0.7820 - learning_rate: 6.4000e-04\n",
      "Epoch 295/1000\n",
      "\u001b[1m5/5\u001b[0m \u001b[32m━━━━━━━━━━━━━━━━━━━━\u001b[0m\u001b[37m\u001b[0m \u001b[1m0s\u001b[0m 64ms/step - loss: 0.3586 - mape: 8.1733 - r2_score: 0.5054 - val_loss: 0.3328 - val_mape: 7.2757 - val_r2_score: 0.7568 - learning_rate: 6.4000e-04\n",
      "Epoch 296/1000\n",
      "\u001b[1m5/5\u001b[0m \u001b[32m━━━━━━━━━━━━━━━━━━━━\u001b[0m\u001b[37m\u001b[0m \u001b[1m0s\u001b[0m 65ms/step - loss: 0.4479 - mape: 10.0331 - r2_score: 0.3960 - val_loss: 0.3136 - val_mape: 6.7356 - val_r2_score: 0.7465 - learning_rate: 6.4000e-04\n",
      "Epoch 297/1000\n",
      "\u001b[1m5/5\u001b[0m \u001b[32m━━━━━━━━━━━━━━━━━━━━\u001b[0m\u001b[37m\u001b[0m \u001b[1m0s\u001b[0m 64ms/step - loss: 0.4291 - mape: 9.4417 - r2_score: 0.3772 - val_loss: 0.3311 - val_mape: 6.6366 - val_r2_score: 0.6884 - learning_rate: 6.4000e-04\n",
      "Epoch 298/1000\n",
      "\u001b[1m5/5\u001b[0m \u001b[32m━━━━━━━━━━━━━━━━━━━━\u001b[0m\u001b[37m\u001b[0m \u001b[1m0s\u001b[0m 64ms/step - loss: 0.4732 - mape: 10.5007 - r2_score: 0.3113 - val_loss: 0.3088 - val_mape: 6.2244 - val_r2_score: 0.7587 - learning_rate: 6.4000e-04\n",
      "Epoch 299/1000\n",
      "\u001b[1m5/5\u001b[0m \u001b[32m━━━━━━━━━━━━━━━━━━━━\u001b[0m\u001b[37m\u001b[0m \u001b[1m0s\u001b[0m 65ms/step - loss: 0.4992 - mape: 11.2054 - r2_score: 0.2427 - val_loss: 0.2754 - val_mape: 5.4618 - val_r2_score: 0.8007 - learning_rate: 6.4000e-04\n",
      "Epoch 300/1000\n",
      "\u001b[1m5/5\u001b[0m \u001b[32m━━━━━━━━━━━━━━━━━━━━\u001b[0m\u001b[37m\u001b[0m \u001b[1m0s\u001b[0m 64ms/step - loss: 0.5069 - mape: 11.3364 - r2_score: 0.2563 - val_loss: 0.2667 - val_mape: 5.5467 - val_r2_score: 0.8220 - learning_rate: 6.4000e-04\n",
      "Epoch 301/1000\n",
      "\u001b[1m5/5\u001b[0m \u001b[32m━━━━━━━━━━━━━━━━━━━━\u001b[0m\u001b[37m\u001b[0m \u001b[1m0s\u001b[0m 64ms/step - loss: 0.4349 - mape: 9.8699 - r2_score: 0.4271 - val_loss: 0.3197 - val_mape: 7.0727 - val_r2_score: 0.7636 - learning_rate: 6.4000e-04\n",
      "Epoch 302/1000\n",
      "\u001b[1m5/5\u001b[0m \u001b[32m━━━━━━━━━━━━━━━━━━━━\u001b[0m\u001b[37m\u001b[0m \u001b[1m0s\u001b[0m 64ms/step - loss: 0.4804 - mape: 10.5642 - r2_score: 0.3029 - val_loss: 0.3217 - val_mape: 7.1203 - val_r2_score: 0.7605 - learning_rate: 6.4000e-04\n",
      "Epoch 303/1000\n",
      "\u001b[1m5/5\u001b[0m \u001b[32m━━━━━━━━━━━━━━━━━━━━\u001b[0m\u001b[37m\u001b[0m \u001b[1m0s\u001b[0m 65ms/step - loss: 0.4956 - mape: 10.7915 - r2_score: 0.2879 - val_loss: 0.2797 - val_mape: 5.9463 - val_r2_score: 0.7762 - learning_rate: 6.4000e-04\n",
      "Epoch 304/1000\n",
      "\u001b[1m5/5\u001b[0m \u001b[32m━━━━━━━━━━━━━━━━━━━━\u001b[0m\u001b[37m\u001b[0m \u001b[1m0s\u001b[0m 65ms/step - loss: 0.4804 - mape: 10.5960 - r2_score: 0.2936 - val_loss: 0.2830 - val_mape: 5.9798 - val_r2_score: 0.7919 - learning_rate: 6.4000e-04\n",
      "Epoch 305/1000\n",
      "\u001b[1m5/5\u001b[0m \u001b[32m━━━━━━━━━━━━━━━━━━━━\u001b[0m\u001b[37m\u001b[0m \u001b[1m0s\u001b[0m 64ms/step - loss: 0.4632 - mape: 10.1516 - r2_score: 0.3931 - val_loss: 0.2839 - val_mape: 6.0005 - val_r2_score: 0.8013 - learning_rate: 6.4000e-04\n",
      "Epoch 306/1000\n",
      "\u001b[1m5/5\u001b[0m \u001b[32m━━━━━━━━━━━━━━━━━━━━\u001b[0m\u001b[37m\u001b[0m \u001b[1m0s\u001b[0m 65ms/step - loss: 0.4691 - mape: 10.4046 - r2_score: 0.3424 - val_loss: 0.2855 - val_mape: 5.9734 - val_r2_score: 0.8256 - learning_rate: 6.4000e-04\n",
      "Epoch 307/1000\n",
      "\u001b[1m5/5\u001b[0m \u001b[32m━━━━━━━━━━━━━━━━━━━━\u001b[0m\u001b[37m\u001b[0m \u001b[1m0s\u001b[0m 64ms/step - loss: 0.4192 - mape: 9.1058 - r2_score: 0.4737 - val_loss: 0.3077 - val_mape: 6.5189 - val_r2_score: 0.8036 - learning_rate: 6.4000e-04\n",
      "Epoch 308/1000\n",
      "\u001b[1m5/5\u001b[0m \u001b[32m━━━━━━━━━━━━━━━━━━━━\u001b[0m\u001b[37m\u001b[0m \u001b[1m0s\u001b[0m 64ms/step - loss: 0.5399 - mape: 12.2363 - r2_score: 0.0229 - val_loss: 0.3060 - val_mape: 6.5171 - val_r2_score: 0.7647 - learning_rate: 6.4000e-04\n",
      "Epoch 309/1000\n",
      "\u001b[1m5/5\u001b[0m \u001b[32m━━━━━━━━━━━━━━━━━━━━\u001b[0m\u001b[37m\u001b[0m \u001b[1m0s\u001b[0m 64ms/step - loss: 0.4124 - mape: 9.1722 - r2_score: 0.5199 - val_loss: 0.3264 - val_mape: 6.9728 - val_r2_score: 0.7194 - learning_rate: 6.4000e-04\n",
      "Epoch 310/1000\n",
      "\u001b[1m5/5\u001b[0m \u001b[32m━━━━━━━━━━━━━━━━━━━━\u001b[0m\u001b[37m\u001b[0m \u001b[1m0s\u001b[0m 65ms/step - loss: 0.4958 - mape: 11.0232 - r2_score: 0.2607 - val_loss: 0.2957 - val_mape: 6.2043 - val_r2_score: 0.7781 - learning_rate: 6.4000e-04\n",
      "Epoch 311/1000\n",
      "\u001b[1m5/5\u001b[0m \u001b[32m━━━━━━━━━━━━━━━━━━━━\u001b[0m\u001b[37m\u001b[0m \u001b[1m0s\u001b[0m 65ms/step - loss: 0.5041 - mape: 11.2459 - r2_score: 0.2752 - val_loss: 0.2788 - val_mape: 5.7884 - val_r2_score: 0.8076 - learning_rate: 6.4000e-04\n",
      "Epoch 312/1000\n",
      "\u001b[1m5/5\u001b[0m \u001b[32m━━━━━━━━━━━━━━━━━━━━\u001b[0m\u001b[37m\u001b[0m \u001b[1m0s\u001b[0m 64ms/step - loss: 0.4553 - mape: 10.0661 - r2_score: 0.2433 - val_loss: 0.2793 - val_mape: 5.6354 - val_r2_score: 0.8241 - learning_rate: 6.4000e-04\n",
      "Epoch 313/1000\n",
      "\u001b[1m5/5\u001b[0m \u001b[32m━━━━━━━━━━━━━━━━━━━━\u001b[0m\u001b[37m\u001b[0m \u001b[1m0s\u001b[0m 65ms/step - loss: 0.4876 - mape: 10.6575 - r2_score: 0.3493 - val_loss: 0.2532 - val_mape: 5.0525 - val_r2_score: 0.8338 - learning_rate: 6.4000e-04\n",
      "Epoch 314/1000\n",
      "\u001b[1m5/5\u001b[0m \u001b[32m━━━━━━━━━━━━━━━━━━━━\u001b[0m\u001b[37m\u001b[0m \u001b[1m0s\u001b[0m 64ms/step - loss: 0.4841 - mape: 11.1142 - r2_score: 0.1576 - val_loss: 0.2669 - val_mape: 5.4397 - val_r2_score: 0.8206 - learning_rate: 6.4000e-04\n",
      "Epoch 315/1000\n",
      "\u001b[1m5/5\u001b[0m \u001b[32m━━━━━━━━━━━━━━━━━━━━\u001b[0m\u001b[37m\u001b[0m \u001b[1m0s\u001b[0m 64ms/step - loss: 0.5035 - mape: 11.3792 - r2_score: 0.2902 - val_loss: 0.2696 - val_mape: 5.5016 - val_r2_score: 0.8146 - learning_rate: 6.4000e-04\n",
      "Time for training:     1.0000s\n"
     ]
    }
   ],
   "source": [
    "model_trained = model_training(model_DNN,\n",
    "                               folder_path = final_path,\n",
    "                               batch_size = 12,\n",
    "                               num_epochs = 1000,\n",
    "                               x_train = x_train,\n",
    "                               y_train = y_train,\n",
    "                               x_val = x_test,\n",
    "                               y_val = y_test,\n",
    "                               callbacks = callbacks)"
   ]
  },
  {
   "cell_type": "markdown",
   "metadata": {
    "id": "LtfHyGNzF48o"
   },
   "source": [
    "## Save Model"
   ]
  },
  {
   "cell_type": "code",
   "execution_count": 33,
   "metadata": {
    "colab": {
     "base_uri": "https://localhost:8080/"
    },
    "executionInfo": {
     "elapsed": 660,
     "status": "ok",
     "timestamp": 1754806386690,
     "user": {
      "displayName": "Alan Gabriel Amaro Colin",
      "userId": "17298980579619170060"
     },
     "user_tz": 360
    },
    "id": "a_1vhfmHF5wK",
    "outputId": "80a69136-88cb-48be-9823-d104a5830e23"
   },
   "outputs": [
    {
     "name": "stderr",
     "output_type": "stream",
     "text": [
      "WARNING:absl:You are saving your model as an HDF5 file via `model.save()` or `keras.saving.save_model(model)`. This file format is considered legacy. We recommend using instead the native Keras format, e.g. `model.save('my_model.keras')` or `keras.saving.save_model(model, 'my_model.keras')`. \n"
     ]
    }
   ],
   "source": [
    "model_DNN.save( os.path.join(final_path, 'model.h5') )"
   ]
  },
  {
   "cell_type": "code",
   "execution_count": 34,
   "metadata": {
    "colab": {
     "base_uri": "https://localhost:8080/",
     "height": 927
    },
    "executionInfo": {
     "elapsed": 772,
     "status": "ok",
     "timestamp": 1754806387464,
     "user": {
      "displayName": "Alan Gabriel Amaro Colin",
      "userId": "17298980579619170060"
     },
     "user_tz": 360
    },
    "id": "1G9qoHIdF-GA",
    "outputId": "8a56fa33-93ed-411a-9dbe-889179c66222"
   },
   "outputs": [
    {
     "data": {
      "image/png": "[encoded data removed]",
      "text/plain": [
       "<Figure size 640x480 with 1 Axes>"
      ]
     },
     "metadata": {},
     "output_type": "display_data"
    },
    {
     "data": {
      "image/png": "[encoded data removed]",
      "text/plain": [
       "<Figure size 640x480 with 1 Axes>"
      ]
     },
     "metadata": {},
     "output_type": "display_data"
    }
   ],
   "source": [
    "do_graphics(\n",
    "    model_trained,\n",
    "    'DNN-MI-1',\n",
    "    ('MAE', 'MAPE'),\n",
    "    final_path,\n",
    "    metric = 'mape'\n",
    ")"
   ]
  },
  {
   "cell_type": "markdown",
   "metadata": {
    "id": "_F1AbxhWGI6w"
   },
   "source": [
    "## Evaluate"
   ]
  },
  {
   "cell_type": "code",
   "execution_count": 35,
   "metadata": {
    "colab": {
     "base_uri": "https://localhost:8080/"
    },
    "executionInfo": {
     "elapsed": 138,
     "status": "ok",
     "timestamp": 1754806387612,
     "user": {
      "displayName": "Alan Gabriel Amaro Colin",
      "userId": "17298980579619170060"
     },
     "user_tz": 360
    },
    "id": "4J5wcFgrGG7a",
    "outputId": "16ea5e95-c59b-4d0b-c4d9-841d8a3b131a"
   },
   "outputs": [
    {
     "name": "stdout",
     "output_type": "stream",
     "text": [
      "\u001b[1m1/1\u001b[0m \u001b[32m━━━━━━━━━━━━━━━━━━━━\u001b[0m\u001b[37m\u001b[0m \u001b[1m0s\u001b[0m 71ms/step - loss: 0.2364 - mape: 4.8259 - r2_score: 0.8760\n",
      "-> Loss = 0.2364082932472229\n",
      "-> Test Accuracy = 4.825900554656982\n",
      "-> R2 Accuracy = 0.8760013580322266\n"
     ]
    }
   ],
   "source": [
    "loss, accuracy, _ = evaluate_model_regression(model_DNN, x_test, y_test)"
   ]
  },
  {
   "cell_type": "markdown",
   "metadata": {
    "id": "9s7QfcrKGhLa"
   },
   "source": [
    "## KDE Comparison"
   ]
  },
  {
   "cell_type": "code",
   "execution_count": 36,
   "metadata": {
    "executionInfo": {
     "elapsed": 230,
     "status": "ok",
     "timestamp": 1754806387861,
     "user": {
      "displayName": "Alan Gabriel Amaro Colin",
      "userId": "17298980579619170060"
     },
     "user_tz": 360
    },
    "id": "HPZJY1PLGtGt"
   },
   "outputs": [],
   "source": [
    "import seaborn as sns"
   ]
  },
  {
   "cell_type": "code",
   "execution_count": 37,
   "metadata": {
    "colab": {
     "base_uri": "https://localhost:8080/",
     "height": 385
    },
    "executionInfo": {
     "elapsed": 844,
     "status": "ok",
     "timestamp": 1754806388692,
     "user": {
      "displayName": "Alan Gabriel Amaro Colin",
      "userId": "17298980579619170060"
     },
     "user_tz": 360
    },
    "id": "wgU2IH7IGiXL",
    "outputId": "e41150e6-6212-47db-a0a5-cf59ca47323c"
   },
   "outputs": [
    {
     "name": "stdout",
     "output_type": "stream",
     "text": [
      "\u001b[1m1/1\u001b[0m \u001b[32m━━━━━━━━━━━━━━━━━━━━\u001b[0m\u001b[37m\u001b[0m \u001b[1m0s\u001b[0m 144ms/step\n"
     ]
    },
    {
     "data": {
      "image/png": "[encoded data removed]",
      "text/plain": [
       "<Figure size 400x400 with 1 Axes>"
      ]
     },
     "metadata": {},
     "output_type": "display_data"
    }
   ],
   "source": [
    "plt.figure(figsize = (4,4))\n",
    "sns.kdeplot( model_DNN.predict(x_test), label = 'Predicted', fill= True)\n",
    "sns.kdeplot(y_test, label = 'True', fill = True)\n",
    "plt.grid()\n",
    "plt.legend()\n",
    "plt.savefig( os.path.join(final_path, 'kde.png') )\n",
    "plt.show()"
   ]
  },
  {
   "cell_type": "markdown",
   "metadata": {},
   "source": [
    "## Comparative Plot"
   ]
  },
  {
   "cell_type": "code",
   "execution_count": 38,
   "metadata": {},
   "outputs": [
    {
     "name": "stdout",
     "output_type": "stream",
     "text": [
      "\u001b[1m1/1\u001b[0m \u001b[32m━━━━━━━━━━━━━━━━━━━━\u001b[0m\u001b[37m\u001b[0m \u001b[1m0s\u001b[0m 55ms/step\n"
     ]
    },
    {
     "data": {
      "image/png": "[encoded data removed]",
      "text/plain": [
       "<Figure size 400x400 with 1 Axes>"
      ]
     },
     "metadata": {},
     "output_type": "display_data"
    }
   ],
   "source": [
    "plt.figure(figsize = (4,4))\n",
    "plt.plot([x for x in range(3, 7)], [x for x in range(3, 7)])\n",
    "plt.scatter(y_test, model_DNN.predict(x_test))\n",
    "#sns.kdeplot(y_test, label = 'True', fill = True)\n",
    "plt.grid()\n",
    "plt.title('Test Set')\n",
    "plt.savefig(os.path.join(final_path, 'test.png'))\n",
    "plt.show()"
   ]
  },
  {
   "cell_type": "code",
   "execution_count": 39,
   "metadata": {},
   "outputs": [
    {
     "name": "stdout",
     "output_type": "stream",
     "text": [
      "\u001b[1m1/1\u001b[0m \u001b[32m━━━━━━━━━━━━━━━━━━━━\u001b[0m\u001b[37m\u001b[0m \u001b[1m0s\u001b[0m 69ms/step - loss: 0.2364 - mape: 4.8259 - r2_score: 0.8760\n",
      "-> Loss = 0.2364082932472229\n",
      "-> Test Accuracy = 4.825900554656982\n",
      "-> R2 Accuracy = 0.8760013580322266\n"
     ]
    }
   ],
   "source": [
    "results = np.array([ evaluate_model_regression(model_DNN, x_test, y_test) ])\n",
    "np.save('./kfolds/{}'.format(kint), results)"
   ]
  },
  {
   "cell_type": "markdown",
   "metadata": {},
   "source": [
    "## Results"
   ]
  },
  {
   "cell_type": "markdown",
   "metadata": {},
   "source": [
    "-> Loss = 0.43038806319236755\n",
    "-> Test Accuracy = 8.71993350982666\n",
    "-> R2 Accuracy = 0.4706185460090637\n",
    "-> 'DNN_MI_1_FULL'"
   ]
  },
  {
   "cell_type": "markdown",
   "metadata": {},
   "source": [
    "-> Loss = 0.33492109179496765\n",
    "-> Test Accuracy = 7.291499614715576\n",
    "-> R2 Accuracy = 0.6732093095779419\n",
    "-> 'DNN_MI_1_FULL2'"
   ]
  },
  {
   "cell_type": "markdown",
   "metadata": {},
   "source": [
    "-> Loss = 0.2952897250652313\n",
    "-> Test Accuracy = 6.3148722648620605\n",
    "-> R2 Accuracy = 0.7042462825775146\n",
    "-> 3"
   ]
  }
 ],
 "metadata": {
  "colab": {
   "authorship_tag": "ABX9TyPGnKoyfso1VK2rJhSn9brq",
   "mount_file_id": "1oAGWlf-SZH58jEakX1pZwdDPfXrMUo5n",
   "provenance": []
  },
  "kernelspec": {
   "display_name": "Python 3 (ipykernel)",
   "language": "python",
   "name": "python3"
  },
  "language_info": {
   "codemirror_mode": {
    "name": "ipython",
    "version": 3
   },
   "file_extension": ".py",
   "mimetype": "text/x-python",
   "name": "python",
   "nbconvert_exporter": "python",
   "pygments_lexer": "ipython3",
   "version": "3.9.23"
  }
 },
 "nbformat": 4,
 "nbformat_minor": 4
}
