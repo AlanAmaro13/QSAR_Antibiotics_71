{
 "cells": [
  {
   "cell_type": "markdown",
   "metadata": {
    "id": "H6Wue51yaxKv"
   },
   "source": [
    "# Dense Neural Networks"
   ]
  },
  {
   "cell_type": "markdown",
   "metadata": {
    "id": "rKzTG2kjZK65"
   },
   "source": [
    "Hello there!\n",
    "\n",
    "In this notebook we calculate the $Q^{2} Ext$. Finally, we used the Test Set."
   ]
  },
  {
   "cell_type": "markdown",
   "metadata": {
    "id": "s8_gew3AbzAj"
   },
   "source": [
    "## Mutual Information"
   ]
  },
  {
   "cell_type": "markdown",
   "metadata": {
    "id": "vmxe0Iu-cSj0"
   },
   "source": [
    "### **Mutual Information (MI) for Feature Selection**  \n",
    "**Mutual Information** measures the **statistical dependence** between two variables, capturing **both linear and nonlinear relationships**. Unlike Pearson correlation (which only detects linear trends), MI quantifies how much knowing one variable reduces uncertainty about the other.  \n",
    "\n",
    "#### **Mathematical Definition**  \n",
    "For two continuous variables \\( X \\) and \\( Y \\):  \n",
    "\n",
    "$\\text{MI}(X, Y) = \\iint p(x, y) \\log \\left( \\frac{p(x, y)}{p(x)p(y)} \\right) dx \\, dy$  \n",
    "where:  \n",
    "- $( p(x, y) )$ = joint probability density.  \n",
    "- $( p(x), p(y) )$ = marginal densities.  \n",
    "\n",
    "**Key Properties**:  \n",
    "- $MI (\\geq 0)$ (0 means independent).  \n",
    "- Higher MI = stronger dependency.  \n"
   ]
  },
  {
   "cell_type": "markdown",
   "metadata": {
    "id": "yJk4WF4CdnCZ"
   },
   "source": [
    "## Used libraries"
   ]
  },
  {
   "cell_type": "code",
   "execution_count": 1,
   "metadata": {},
   "outputs": [],
   "source": [
    "import os\n",
    "os.environ[\"CUDA_VISIBLE_DEVICES\"] = \"-1\""
   ]
  },
  {
   "cell_type": "code",
   "execution_count": 2,
   "metadata": {},
   "outputs": [],
   "source": [
    "colab = False"
   ]
  },
  {
   "cell_type": "code",
   "execution_count": 3,
   "metadata": {
    "executionInfo": {
     "elapsed": 13,
     "status": "ok",
     "timestamp": 1754806314489,
     "user": {
      "displayName": "Alan Gabriel Amaro Colin",
      "userId": "17298980579619170060"
     },
     "user_tz": 360
    },
    "id": "B2LFMr_RRg1B"
   },
   "outputs": [
    {
     "name": "stderr",
     "output_type": "stream",
     "text": [
      "2025-08-19 20:32:48.648581: I tensorflow/core/platform/cpu_feature_guard.cc:210] This TensorFlow binary is optimized to use available CPU instructions in performance-critical operations.\n",
      "To enable the following instructions: FMA, in other operations, rebuild TensorFlow with the appropriate compiler flags.\n",
      "2025-08-19 20:32:50.177156: W tensorflow/compiler/tf2tensorrt/utils/py_utils.cc:38] TF-TRT Warning: Could not find TensorRT\n",
      "/home/alan-amaro/miniconda3/envs/farma/lib/python3.9/site-packages/requests/__init__.py:86: RequestsDependencyWarning: Unable to find acceptable character detection dependency (chardet or charset_normalizer).\n",
      "  warnings.warn(\n"
     ]
    }
   ],
   "source": [
    "if colab: \n",
    "    import sys\n",
    "    sys.path.append('/content/drive/MyDrive/Colaboracion_Quimica/Main_Codes/AutoEncoders/AmaroX/AmaroX')\n",
    "    ! pip install python-telegram-bot\n",
    "\n",
    "    from ai_functions import *\n",
    "    from ai_models import *\n",
    "    from utilities import *\n",
    "    from data_manipulation import *\n",
    "    import pandas as pd\n",
    "else: \n",
    "    from AmaroX.AmaroX.ai_functions import *\n",
    "    from AmaroX.AmaroX.ai_models import *\n",
    "    from AmaroX.AmaroX.utilities import *\n",
    "    from AmaroX.AmaroX.data_manipulation import *\n",
    "    import pandas as pd\n",
    "    import sklearn"
   ]
  },
  {
   "cell_type": "markdown",
   "metadata": {
    "id": "LMM15EIAeNMM"
   },
   "source": [
    "## Data"
   ]
  },
  {
   "cell_type": "markdown",
   "metadata": {
    "id": "dHUpPc5dfJrs"
   },
   "source": [
    "The data presented here corresponds to molecules with their SMILE representation and descriptors, along with the biological activity. Let's first do a quick view of the data shape."
   ]
  },
  {
   "cell_type": "markdown",
   "metadata": {
    "id": "QLDOuzTDDoW1"
   },
   "source": [
    "* All the data presented here was obtained by colaboration with Dr. Erick Padilla at Facultad de Estudios Superiores Zaragoza - UNAM."
   ]
  },
  {
   "cell_type": "markdown",
   "metadata": {
    "id": "wx7mCiFYeP_M"
   },
   "source": [
    "### Downloading the data"
   ]
  },
  {
   "cell_type": "code",
   "execution_count": 4,
   "metadata": {
    "colab": {
     "base_uri": "https://localhost:8080/"
    },
    "executionInfo": {
     "elapsed": 5366,
     "status": "ok",
     "timestamp": 1754806339684,
     "user": {
      "displayName": "Alan Gabriel Amaro Colin",
      "userId": "17298980579619170060"
     },
     "user_tz": 360
    },
    "id": "TaqYCyF_eN_W",
    "outputId": "9d2fe30a-81b4-455f-a99e-557a868d9c81"
   },
   "outputs": [],
   "source": [
    "if colab:\n",
    "    ! gdown --id 1cHM9neEhTOZ82UU9HaZkdGdlwE1d4SJT\n",
    "    ! gdown --id 1wZp9pou63ElEYyGGjBeC2pDtscgRgCpj"
   ]
  },
  {
   "cell_type": "markdown",
   "metadata": {
    "id": "wfg2b6FNfNIP"
   },
   "source": [
    "The _data.xlsx_ file contains all the molecular descriptors from the molecule, along with a SMILE representation."
   ]
  },
  {
   "cell_type": "code",
   "execution_count": 5,
   "metadata": {
    "executionInfo": {
     "elapsed": 7645,
     "status": "ok",
     "timestamp": 1754806347350,
     "user": {
      "displayName": "Alan Gabriel Amaro Colin",
      "userId": "17298980579619170060"
     },
     "user_tz": 360
    },
    "id": "OvBcuQFXeU5y"
   },
   "outputs": [],
   "source": [
    "compounds_md = pd.read_excel(\"/media/alan-amaro/XicoDisk/Data_Farma_FESZ/Antibiotics_71/Data/data.xlsx\")\n",
    "activity = pd.read_excel(\"/media/alan-amaro/XicoDisk/Data_Farma_FESZ/Antibiotics_71/Data/Actividad.xlsx\")"
   ]
  },
  {
   "cell_type": "code",
   "execution_count": 6,
   "metadata": {
    "colab": {
     "base_uri": "https://localhost:8080/",
     "height": 690
    },
    "executionInfo": {
     "elapsed": 246,
     "status": "ok",
     "timestamp": 1754806347594,
     "user": {
      "displayName": "Alan Gabriel Amaro Colin",
      "userId": "17298980579619170060"
     },
     "user_tz": 360
    },
    "id": "IixnVRP-eXsd",
    "outputId": "9f8d0e08-c3b5-4144-d0c5-3133d5f0667c"
   },
   "outputs": [
    {
     "data": {
      "text/html": [
       "<div>\n",
       "<style scoped>\n",
       "    .dataframe tbody tr th:only-of-type {\n",
       "        vertical-align: middle;\n",
       "    }\n",
       "\n",
       "    .dataframe tbody tr th {\n",
       "        vertical-align: top;\n",
       "    }\n",
       "\n",
       "    .dataframe thead th {\n",
       "        text-align: right;\n",
       "    }\n",
       "</style>\n",
       "<table border=\"1\" class=\"dataframe\">\n",
       "  <thead>\n",
       "    <tr style=\"text-align: right;\">\n",
       "      <th></th>\n",
       "      <th>Cmpd</th>\n",
       "      <th>SMILES</th>\n",
       "      <th>ABC</th>\n",
       "      <th>ABCGG</th>\n",
       "      <th>nAcid</th>\n",
       "      <th>nBase</th>\n",
       "      <th>SpAbs_A</th>\n",
       "      <th>SpMax_A</th>\n",
       "      <th>SpDiam_A</th>\n",
       "      <th>SpAD_A</th>\n",
       "      <th>...</th>\n",
       "      <th>SRW10</th>\n",
       "      <th>TSRW10</th>\n",
       "      <th>MW</th>\n",
       "      <th>AMW</th>\n",
       "      <th>WPath</th>\n",
       "      <th>WPol</th>\n",
       "      <th>Zagreb1</th>\n",
       "      <th>Zagreb2</th>\n",
       "      <th>mZagreb1</th>\n",
       "      <th>mZagreb2</th>\n",
       "    </tr>\n",
       "  </thead>\n",
       "  <tbody>\n",
       "    <tr>\n",
       "      <th>0</th>\n",
       "      <td>Compuesto original</td>\n",
       "      <td>O=C(N/1)/C(SC1=N/C2=NC3=CC=C(F)C=C3S2)=C/N4CCN...</td>\n",
       "      <td>module 'numpy' has no attribute 'float'.\\n `np...</td>\n",
       "      <td>module 'numpy' has no attribute 'float'.\\n `np...</td>\n",
       "      <td>0</td>\n",
       "      <td>3</td>\n",
       "      <td>34.64084</td>\n",
       "      <td>2.428932</td>\n",
       "      <td>4.709973</td>\n",
       "      <td>34.64084</td>\n",
       "      <td>...</td>\n",
       "      <td>10.158170</td>\n",
       "      <td>78.17227</td>\n",
       "      <td>405.1093</td>\n",
       "      <td>8.619347</td>\n",
       "      <td>2138</td>\n",
       "      <td>39</td>\n",
       "      <td>146</td>\n",
       "      <td>171</td>\n",
       "      <td>8.361111</td>\n",
       "      <td>5.750000</td>\n",
       "    </tr>\n",
       "    <tr>\n",
       "      <th>1</th>\n",
       "      <td>Compound 3</td>\n",
       "      <td>O=C1NC2=CC=C([H])C=C2/C1=N\\C3=CC=CC(Br)=N3</td>\n",
       "      <td>module 'numpy' has no attribute 'float'.\\n `np...</td>\n",
       "      <td>module 'numpy' has no attribute 'float'.\\n `np...</td>\n",
       "      <td>0</td>\n",
       "      <td>0</td>\n",
       "      <td>23.43385</td>\n",
       "      <td>2.452376</td>\n",
       "      <td>4.754134</td>\n",
       "      <td>23.43385</td>\n",
       "      <td>...</td>\n",
       "      <td>9.792612</td>\n",
       "      <td>65.48686</td>\n",
       "      <td>300.9851</td>\n",
       "      <td>11.576350</td>\n",
       "      <td>599</td>\n",
       "      <td>26</td>\n",
       "      <td>96</td>\n",
       "      <td>113</td>\n",
       "      <td>5.166667</td>\n",
       "      <td>3.916667</td>\n",
       "    </tr>\n",
       "    <tr>\n",
       "      <th>2</th>\n",
       "      <td>Compound 4</td>\n",
       "      <td>O=C1NC2=CC=CC=C2/C1=N\\C3=NC4=CC(OCC)=CC=C4S3</td>\n",
       "      <td>module 'numpy' has no attribute 'float'.\\n `np...</td>\n",
       "      <td>module 'numpy' has no attribute 'float'.\\n `np...</td>\n",
       "      <td>0</td>\n",
       "      <td>0</td>\n",
       "      <td>30.43085</td>\n",
       "      <td>2.474251</td>\n",
       "      <td>4.745881</td>\n",
       "      <td>30.43085</td>\n",
       "      <td>...</td>\n",
       "      <td>10.101640</td>\n",
       "      <td>73.78306</td>\n",
       "      <td>323.0728</td>\n",
       "      <td>8.974246</td>\n",
       "      <td>1245</td>\n",
       "      <td>35</td>\n",
       "      <td>126</td>\n",
       "      <td>151</td>\n",
       "      <td>6.138889</td>\n",
       "      <td>5.027778</td>\n",
       "    </tr>\n",
       "    <tr>\n",
       "      <th>3</th>\n",
       "      <td>Compound 8</td>\n",
       "      <td>O=C1NC2=CC=C(Br)C=C2/C1=N\\C3=CC=CC(F)=N3</td>\n",
       "      <td>module 'numpy' has no attribute 'float'.\\n `np...</td>\n",
       "      <td>module 'numpy' has no attribute 'float'.\\n `np...</td>\n",
       "      <td>0</td>\n",
       "      <td>0</td>\n",
       "      <td>24.52891</td>\n",
       "      <td>2.46582</td>\n",
       "      <td>4.787297</td>\n",
       "      <td>24.52891</td>\n",
       "      <td>...</td>\n",
       "      <td>9.873183</td>\n",
       "      <td>66.82214</td>\n",
       "      <td>318.9757</td>\n",
       "      <td>12.268290</td>\n",
       "      <td>693</td>\n",
       "      <td>28</td>\n",
       "      <td>102</td>\n",
       "      <td>120</td>\n",
       "      <td>6.027778</td>\n",
       "      <td>4.083333</td>\n",
       "    </tr>\n",
       "    <tr>\n",
       "      <th>4</th>\n",
       "      <td>Compound 9</td>\n",
       "      <td>O=C1NC2=CC=C(Br)C=C2/C1=N/C3=CC([N+]([O-])=O)=...</td>\n",
       "      <td>module 'numpy' has no attribute 'float'.\\n `np...</td>\n",
       "      <td>module 'numpy' has no attribute 'float'.\\n `np...</td>\n",
       "      <td>0</td>\n",
       "      <td>0</td>\n",
       "      <td>27.00118</td>\n",
       "      <td>2.467278</td>\n",
       "      <td>4.80069</td>\n",
       "      <td>27.00118</td>\n",
       "      <td>...</td>\n",
       "      <td>9.972407</td>\n",
       "      <td>69.29945</td>\n",
       "      <td>345.9702</td>\n",
       "      <td>12.356080</td>\n",
       "      <td>929</td>\n",
       "      <td>32</td>\n",
       "      <td>112</td>\n",
       "      <td>132</td>\n",
       "      <td>7.138889</td>\n",
       "      <td>4.527778</td>\n",
       "    </tr>\n",
       "  </tbody>\n",
       "</table>\n",
       "<p>5 rows × 1828 columns</p>\n",
       "</div>"
      ],
      "text/plain": [
       "                 Cmpd                                             SMILES  \\\n",
       "0  Compuesto original  O=C(N/1)/C(SC1=N/C2=NC3=CC=C(F)C=C3S2)=C/N4CCN...   \n",
       "1          Compound 3         O=C1NC2=CC=C([H])C=C2/C1=N\\C3=CC=CC(Br)=N3   \n",
       "2          Compound 4       O=C1NC2=CC=CC=C2/C1=N\\C3=NC4=CC(OCC)=CC=C4S3   \n",
       "3          Compound 8           O=C1NC2=CC=C(Br)C=C2/C1=N\\C3=CC=CC(F)=N3   \n",
       "4          Compound 9  O=C1NC2=CC=C(Br)C=C2/C1=N/C3=CC([N+]([O-])=O)=...   \n",
       "\n",
       "                                                 ABC  \\\n",
       "0  module 'numpy' has no attribute 'float'.\\n `np...   \n",
       "1  module 'numpy' has no attribute 'float'.\\n `np...   \n",
       "2  module 'numpy' has no attribute 'float'.\\n `np...   \n",
       "3  module 'numpy' has no attribute 'float'.\\n `np...   \n",
       "4  module 'numpy' has no attribute 'float'.\\n `np...   \n",
       "\n",
       "                                               ABCGG  nAcid  nBase   SpAbs_A  \\\n",
       "0  module 'numpy' has no attribute 'float'.\\n `np...      0      3  34.64084   \n",
       "1  module 'numpy' has no attribute 'float'.\\n `np...      0      0  23.43385   \n",
       "2  module 'numpy' has no attribute 'float'.\\n `np...      0      0  30.43085   \n",
       "3  module 'numpy' has no attribute 'float'.\\n `np...      0      0  24.52891   \n",
       "4  module 'numpy' has no attribute 'float'.\\n `np...      0      0  27.00118   \n",
       "\n",
       "    SpMax_A  SpDiam_A    SpAD_A  ...      SRW10    TSRW10        MW  \\\n",
       "0  2.428932  4.709973  34.64084  ...  10.158170  78.17227  405.1093   \n",
       "1  2.452376  4.754134  23.43385  ...   9.792612  65.48686  300.9851   \n",
       "2  2.474251  4.745881  30.43085  ...  10.101640  73.78306  323.0728   \n",
       "3   2.46582  4.787297  24.52891  ...   9.873183  66.82214  318.9757   \n",
       "4  2.467278   4.80069  27.00118  ...   9.972407  69.29945  345.9702   \n",
       "\n",
       "         AMW WPath WPol Zagreb1 Zagreb2  mZagreb1  mZagreb2  \n",
       "0   8.619347  2138   39     146     171  8.361111  5.750000  \n",
       "1  11.576350   599   26      96     113  5.166667  3.916667  \n",
       "2   8.974246  1245   35     126     151  6.138889  5.027778  \n",
       "3  12.268290   693   28     102     120  6.027778  4.083333  \n",
       "4  12.356080   929   32     112     132  7.138889  4.527778  \n",
       "\n",
       "[5 rows x 1828 columns]"
      ]
     },
     "execution_count": 6,
     "metadata": {},
     "output_type": "execute_result"
    }
   ],
   "source": [
    "compounds_md.head()"
   ]
  },
  {
   "cell_type": "code",
   "execution_count": 7,
   "metadata": {
    "colab": {
     "base_uri": "https://localhost:8080/"
    },
    "executionInfo": {
     "elapsed": 152,
     "status": "ok",
     "timestamp": 1754806347984,
     "user": {
      "displayName": "Alan Gabriel Amaro Colin",
      "userId": "17298980579619170060"
     },
     "user_tz": 360
    },
    "id": "FwOMTbIfeZxe",
    "outputId": "d4e19ab7-1e86-4f28-c0cc-72e1b71f5ebc"
   },
   "outputs": [
    {
     "data": {
      "text/plain": [
       "(71, 1828)"
      ]
     },
     "execution_count": 7,
     "metadata": {},
     "output_type": "execute_result"
    }
   ],
   "source": [
    "compounds_md.shape"
   ]
  },
  {
   "cell_type": "code",
   "execution_count": 8,
   "metadata": {
    "colab": {
     "base_uri": "https://localhost:8080/",
     "height": 206
    },
    "executionInfo": {
     "elapsed": 68,
     "status": "ok",
     "timestamp": 1754806348065,
     "user": {
      "displayName": "Alan Gabriel Amaro Colin",
      "userId": "17298980579619170060"
     },
     "user_tz": 360
    },
    "id": "ab4UBiBFecAa",
    "outputId": "64071620-080b-4b49-bca8-25cc92379fd5"
   },
   "outputs": [
    {
     "data": {
      "text/html": [
       "<div>\n",
       "<style scoped>\n",
       "    .dataframe tbody tr th:only-of-type {\n",
       "        vertical-align: middle;\n",
       "    }\n",
       "\n",
       "    .dataframe tbody tr th {\n",
       "        vertical-align: top;\n",
       "    }\n",
       "\n",
       "    .dataframe thead th {\n",
       "        text-align: right;\n",
       "    }\n",
       "</style>\n",
       "<table border=\"1\" class=\"dataframe\">\n",
       "  <thead>\n",
       "    <tr style=\"text-align: right;\">\n",
       "      <th></th>\n",
       "      <th>Activity</th>\n",
       "    </tr>\n",
       "  </thead>\n",
       "  <tbody>\n",
       "    <tr>\n",
       "      <th>0</th>\n",
       "      <td>5.005513</td>\n",
       "    </tr>\n",
       "    <tr>\n",
       "      <th>1</th>\n",
       "      <td>4.381642</td>\n",
       "    </tr>\n",
       "    <tr>\n",
       "      <th>2</th>\n",
       "      <td>4.114064</td>\n",
       "    </tr>\n",
       "    <tr>\n",
       "      <th>3</th>\n",
       "      <td>5.012402</td>\n",
       "    </tr>\n",
       "    <tr>\n",
       "      <th>4</th>\n",
       "      <td>5.047677</td>\n",
       "    </tr>\n",
       "  </tbody>\n",
       "</table>\n",
       "</div>"
      ],
      "text/plain": [
       "   Activity\n",
       "0  5.005513\n",
       "1  4.381642\n",
       "2  4.114064\n",
       "3  5.012402\n",
       "4  5.047677"
      ]
     },
     "execution_count": 8,
     "metadata": {},
     "output_type": "execute_result"
    }
   ],
   "source": [
    "activity.head()"
   ]
  },
  {
   "cell_type": "code",
   "execution_count": 9,
   "metadata": {
    "colab": {
     "base_uri": "https://localhost:8080/"
    },
    "executionInfo": {
     "elapsed": 37,
     "status": "ok",
     "timestamp": 1754806348116,
     "user": {
      "displayName": "Alan Gabriel Amaro Colin",
      "userId": "17298980579619170060"
     },
     "user_tz": 360
    },
    "id": "fYz-3Re2eebA",
    "outputId": "1a9bb07d-d21a-4ca2-b93e-a21af222060c"
   },
   "outputs": [
    {
     "data": {
      "text/plain": [
       "(71, 1)"
      ]
     },
     "execution_count": 9,
     "metadata": {},
     "output_type": "execute_result"
    }
   ],
   "source": [
    "activity.shape"
   ]
  },
  {
   "cell_type": "markdown",
   "metadata": {
    "id": "IIU9JDRgfUWk"
   },
   "source": [
    "* The variable _x_ are the molecular descriptors, we're only interested in numerical properties:"
   ]
  },
  {
   "cell_type": "code",
   "execution_count": 10,
   "metadata": {
    "executionInfo": {
     "elapsed": 376,
     "status": "ok",
     "timestamp": 1754806348504,
     "user": {
      "displayName": "Alan Gabriel Amaro Colin",
      "userId": "17298980579619170060"
     },
     "user_tz": 360
    },
    "id": "OVvrgkBqeeXy"
   },
   "outputs": [],
   "source": [
    "x = compounds_md.copy()\n",
    "x = x.select_dtypes(\"number\")"
   ]
  },
  {
   "cell_type": "markdown",
   "metadata": {
    "id": "eyw0iNEPfbKq"
   },
   "source": [
    "## Applying Mutual Information to Molecular Descriptors"
   ]
  },
  {
   "cell_type": "markdown",
   "metadata": {
    "id": "EPCBSQMBbNf5"
   },
   "source": [
    "In the previous notebook, we have selected 3 molecular descriptors that are independent among them and present a high MI with respect to the bio-activity."
   ]
  },
  {
   "cell_type": "code",
   "execution_count": 11,
   "metadata": {
    "colab": {
     "base_uri": "https://localhost:8080/"
    },
    "executionInfo": {
     "elapsed": 376,
     "status": "ok",
     "timestamp": 1754806348508,
     "user": {
      "displayName": "Alan Gabriel Amaro Colin",
      "userId": "17298980579619170060"
     },
     "user_tz": 360
    },
    "id": "_55TahzCbUiO",
    "outputId": "943e13b7-622c-4195-98d9-39b408322575"
   },
   "outputs": [
    {
     "data": {
      "text/plain": [
       "(71, 2)"
      ]
     },
     "execution_count": 11,
     "metadata": {},
     "output_type": "execute_result"
    }
   ],
   "source": [
    "x_array = np.array(x[ ['piPC4', 'GATS3i'] ])\n",
    "x_array.shape"
   ]
  },
  {
   "cell_type": "code",
   "execution_count": 12,
   "metadata": {
    "colab": {
     "base_uri": "https://localhost:8080/"
    },
    "executionInfo": {
     "elapsed": 33,
     "status": "ok",
     "timestamp": 1754806348544,
     "user": {
      "displayName": "Alan Gabriel Amaro Colin",
      "userId": "17298980579619170060"
     },
     "user_tz": 360
    },
    "id": "qIbrbX4NblAQ",
    "outputId": "8060c218-8830-43f7-80c7-4d321cf844f1"
   },
   "outputs": [
    {
     "data": {
      "text/plain": [
       "(71,)"
      ]
     },
     "execution_count": 12,
     "metadata": {},
     "output_type": "execute_result"
    }
   ],
   "source": [
    "y_array = np.array( activity )[:, 0]\n",
    "y_array.shape"
   ]
  },
  {
   "cell_type": "markdown",
   "metadata": {
    "id": "HIvdru7Qb6n4"
   },
   "source": [
    "## Standarize Features"
   ]
  },
  {
   "cell_type": "code",
   "execution_count": 13,
   "metadata": {
    "executionInfo": {
     "elapsed": 35,
     "status": "ok",
     "timestamp": 1754806348583,
     "user": {
      "displayName": "Alan Gabriel Amaro Colin",
      "userId": "17298980579619170060"
     },
     "user_tz": 360
    },
    "id": "-4P8uMr8b8FA"
   },
   "outputs": [],
   "source": [
    "from sklearn.preprocessing import StandardScaler\n",
    "scaler = StandardScaler()"
   ]
  },
  {
   "cell_type": "code",
   "execution_count": 14,
   "metadata": {
    "colab": {
     "base_uri": "https://localhost:8080/"
    },
    "executionInfo": {
     "elapsed": 32,
     "status": "ok",
     "timestamp": 1754806348587,
     "user": {
      "displayName": "Alan Gabriel Amaro Colin",
      "userId": "17298980579619170060"
     },
     "user_tz": 360
    },
    "id": "Q1DtBVx8cGc3",
    "outputId": "e5a919ce-b9c7-4089-f736-f68d0234fcd6"
   },
   "outputs": [
    {
     "data": {
      "text/plain": [
       "(71, 2)"
      ]
     },
     "execution_count": 14,
     "metadata": {},
     "output_type": "execute_result"
    }
   ],
   "source": [
    "x_std = scaler.fit_transform(x_array)\n",
    "x_std.shape"
   ]
  },
  {
   "cell_type": "code",
   "execution_count": 15,
   "metadata": {
    "colab": {
     "base_uri": "https://localhost:8080/",
     "height": 469
    },
    "executionInfo": {
     "elapsed": 55,
     "status": "ok",
     "timestamp": 1754806348632,
     "user": {
      "displayName": "Alan Gabriel Amaro Colin",
      "userId": "17298980579619170060"
     },
     "user_tz": 360
    },
    "id": "TCAnYfB9cNJM",
    "outputId": "c67d1f14-718a-436c-c411-504973177ba7"
   },
   "outputs": [
    {
     "data": {
      "image/png": "[encoded data removed]",
      "text/plain": [
       "<Figure size 640x480 with 1 Axes>"
      ]
     },
     "metadata": {},
     "output_type": "display_data"
    },
    {
     "name": "stdout",
     "output_type": "stream",
     "text": [
      "The corresponding y element -> 5.68915341\n"
     ]
    }
   ],
   "source": [
    "plot_xy([x_std, y_array])"
   ]
  },
  {
   "cell_type": "markdown",
   "metadata": {
    "id": "lEUasbz0fl5I"
   },
   "source": [
    "## Splitting Train and Test"
   ]
  },
  {
   "cell_type": "code",
   "execution_count": 16,
   "metadata": {},
   "outputs": [],
   "source": [
    "N_BINS=7 ##discretizer, this was 10 before\n",
    "N_SPLITS=7 ##splitter\n",
    "TEST_SIZE=21/70 ##splitter"
   ]
  },
  {
   "cell_type": "code",
   "execution_count": 17,
   "metadata": {},
   "outputs": [],
   "source": [
    "# dividimos train test con stratified\n",
    "discretizer = sklearn.preprocessing.KBinsDiscretizer(n_bins=N_BINS, encode=\"ordinal\", strategy=\"uniform\")\n",
    "splitter = sklearn.model_selection.StratifiedShuffleSplit(n_splits=N_SPLITS,test_size=TEST_SIZE, random_state=13)\n",
    "y_discrete = discretizer.fit_transform(np.expand_dims(y_array, axis = -1))\n",
    "split, split_test = next(splitter.split(np.expand_dims(x_std, axis = -1), y_discrete ))"
   ]
  },
  {
   "cell_type": "code",
   "execution_count": 18,
   "metadata": {},
   "outputs": [],
   "source": [
    "x_train = x_std[split]\n",
    "x_test = x_std[split_test]\n",
    "y_train = y_array[split]\n",
    "y_test = y_array[split_test]"
   ]
  },
  {
   "cell_type": "code",
   "execution_count": 19,
   "metadata": {},
   "outputs": [
    {
     "data": {
      "text/plain": [
       "((49, 2), (22, 2))"
      ]
     },
     "execution_count": 19,
     "metadata": {},
     "output_type": "execute_result"
    }
   ],
   "source": [
    "x_train.shape, x_test.shape"
   ]
  },
  {
   "cell_type": "code",
   "execution_count": 20,
   "metadata": {
    "colab": {
     "base_uri": "https://localhost:8080/",
     "height": 407
    },
    "executionInfo": {
     "elapsed": 290,
     "status": "ok",
     "timestamp": 1754806349003,
     "user": {
      "displayName": "Alan Gabriel Amaro Colin",
      "userId": "17298980579619170060"
     },
     "user_tz": 360
    },
    "id": "jw21eFGscdx1",
    "outputId": "697e87b9-d7bd-495f-de24-7f265201b3e5"
   },
   "outputs": [
    {
     "data": {
      "image/png": "[encoded data removed]",
      "text/plain": [
       "<Figure size 1000x400 with 2 Axes>"
      ]
     },
     "metadata": {},
     "output_type": "display_data"
    }
   ],
   "source": [
    "# Crear una figura con dos subplots en horizontal (1 fila, 2 columnas)\n",
    "fig, (ax1, ax2) = plt.subplots(1, 2, figsize=(10, 4))  # figsize ajusta el tamaño\n",
    "\n",
    "# Graficar la primera curva en el primer subplot\n",
    "ax1.hist(y_train, color='blue', label='train', bins = 7, edgecolor = 'black')\n",
    "ax1.set_title('Train Density')\n",
    "ax1.set_xlabel('x')\n",
    "ax1.set_ylabel('y')\n",
    "ax1.grid()\n",
    "ax1.legend()\n",
    "\n",
    "# Graficar la segunda curva en el segundo subplot\n",
    "ax2.hist(y_test, color='red', label='test', bins = 7, edgecolor = 'black')\n",
    "ax2.set_title('Test Density')\n",
    "ax2.set_xlabel('x')\n",
    "ax2.set_ylabel('y')\n",
    "ax2.grid()\n",
    "ax2.legend()\n",
    "\n",
    "# Ajustar el espacio entre los subplots\n",
    "plt.tight_layout()\n",
    "\n",
    "# Mostrar la figura\n",
    "plt.show()"
   ]
  },
  {
   "cell_type": "markdown",
   "metadata": {
    "id": "XESiE4f0cr7l"
   },
   "source": [
    "## Paths"
   ]
  },
  {
   "cell_type": "code",
   "execution_count": 21,
   "metadata": {
    "executionInfo": {
     "elapsed": 229,
     "status": "ok",
     "timestamp": 1754806349006,
     "user": {
      "displayName": "Alan Gabriel Amaro Colin",
      "userId": "17298980579619170060"
     },
     "user_tz": 360
    },
    "id": "hUxyWpwpcsqz"
   },
   "outputs": [],
   "source": [
    "name = 'DNN_MI_2_FULL_Q2'\n",
    "if colab:\n",
    "    folder_path = '/content/drive/MyDrive/Colaboracion_Quimica/Main_Codes/AutoEncoders/models'\n",
    "else: \n",
    "    folder_path = '../models'\n",
    "    \n",
    "final_path = os.path.join(folder_path, name)"
   ]
  },
  {
   "cell_type": "markdown",
   "metadata": {
    "id": "aGZb-3Wacw2F"
   },
   "source": [
    "## Callbacks"
   ]
  },
  {
   "cell_type": "code",
   "execution_count": 22,
   "metadata": {
    "executionInfo": {
     "elapsed": 96,
     "status": "ok",
     "timestamp": 1754806349012,
     "user": {
      "displayName": "Alan Gabriel Amaro Colin",
      "userId": "17298980579619170060"
     },
     "user_tz": 360
    },
    "id": "UX_yCOQicxnI"
   },
   "outputs": [],
   "source": [
    "callbacks = standard_callbacks(folder_name= name,\n",
    "                               folder_path= folder_path,\n",
    "                               patiences= [120, 1000], # 50 epochs without progress, and 2 epochs to reduce LR\n",
    "                               monitor = 'val_r2_score',\n",
    "                               flow_direction = 'max')"
   ]
  },
  {
   "cell_type": "markdown",
   "metadata": {},
   "source": [
    "## Seed"
   ]
  },
  {
   "cell_type": "code",
   "execution_count": 23,
   "metadata": {},
   "outputs": [],
   "source": [
    "keras.utils.set_random_seed(1360)"
   ]
  },
  {
   "cell_type": "markdown",
   "metadata": {
    "id": "9cSL15E6c1zb"
   },
   "source": [
    "## DNN Model"
   ]
  },
  {
   "cell_type": "code",
   "execution_count": 24,
   "metadata": {
    "executionInfo": {
     "elapsed": 65,
     "status": "ok",
     "timestamp": 1754806349015,
     "user": {
      "displayName": "Alan Gabriel Amaro Colin",
      "userId": "17298980579619170060"
     },
     "user_tz": 360
    },
    "id": "qtUfEOFpczgn"
   },
   "outputs": [],
   "source": [
    "def _DNN():\n",
    "\n",
    "  inputs = keras.layers.Input((2,))\n",
    "\n",
    "  _DNN_ = G_Dense(\n",
    "      inputs = inputs,\n",
    "      nodes = [32, 161],\n",
    "      DP = 5,\n",
    "      n_final = 1,\n",
    "      act_func = 'leaky_relu',\n",
    "      final_act_func = 'relu',\n",
    "      WI = 'he_normal',\n",
    "      L1 = 0.0,\n",
    "      L2 = 0.0,\n",
    "      use_bias = True\n",
    "  )\n",
    "\n",
    "  return keras.models.Model(inputs = inputs, outputs = _DNN_)"
   ]
  },
  {
   "cell_type": "code",
   "execution_count": 25,
   "metadata": {
    "executionInfo": {
     "elapsed": 60,
     "status": "ok",
     "timestamp": 1754806349047,
     "user": {
      "displayName": "Alan Gabriel Amaro Colin",
      "userId": "17298980579619170060"
     },
     "user_tz": 360
    },
    "id": "KKix552XddZ9"
   },
   "outputs": [
    {
     "name": "stderr",
     "output_type": "stream",
     "text": [
      "2025-08-19 20:33:09.415726: E external/local_xla/xla/stream_executor/cuda/cuda_driver.cc:282] failed call to cuInit: CUDA_ERROR_NO_DEVICE: no CUDA-capable device is detected\n",
      "2025-08-19 20:33:09.415792: I external/local_xla/xla/stream_executor/cuda/cuda_diagnostics.cc:134] retrieving CUDA diagnostic information for host: alan-amaro-Nvidia\n",
      "2025-08-19 20:33:09.415814: I external/local_xla/xla/stream_executor/cuda/cuda_diagnostics.cc:141] hostname: alan-amaro-Nvidia\n",
      "2025-08-19 20:33:09.416125: I external/local_xla/xla/stream_executor/cuda/cuda_diagnostics.cc:165] libcuda reported version is: 570.169.0\n",
      "2025-08-19 20:33:09.416176: I external/local_xla/xla/stream_executor/cuda/cuda_diagnostics.cc:169] kernel reported version is: 570.169.0\n",
      "2025-08-19 20:33:09.416194: I external/local_xla/xla/stream_executor/cuda/cuda_diagnostics.cc:248] kernel version seems to match DSO: 570.169.0\n"
     ]
    }
   ],
   "source": [
    "model_DNN= _DNN()"
   ]
  },
  {
   "cell_type": "code",
   "execution_count": 26,
   "metadata": {
    "executionInfo": {
     "elapsed": 28,
     "status": "ok",
     "timestamp": 1754806349065,
     "user": {
      "displayName": "Alan Gabriel Amaro Colin",
      "userId": "17298980579619170060"
     },
     "user_tz": 360
    },
    "id": "Cj5XW39qdqDA"
   },
   "outputs": [],
   "source": [
    "model_DNN.compile(optimizer = keras.optimizers.Adam(),\n",
    "                    loss = 'mae',\n",
    "                    metrics = ['mape', 'r2_score'])"
   ]
  },
  {
   "cell_type": "code",
   "execution_count": 27,
   "metadata": {
    "executionInfo": {
     "elapsed": 165,
     "status": "ok",
     "timestamp": 1754806349225,
     "user": {
      "displayName": "Alan Gabriel Amaro Colin",
      "userId": "17298980579619170060"
     },
     "user_tz": 360
    },
    "id": "tRGw7jGHdz-e"
   },
   "outputs": [
    {
     "name": "stdout",
     "output_type": "stream",
     "text": [
      "You must install graphviz (see instructions at https://graphviz.gitlab.io/download/) for `plot_model` to work.\n"
     ]
    }
   ],
   "source": [
    "get_plot_model(model_DNN, folder_path= final_path)"
   ]
  },
  {
   "cell_type": "code",
   "execution_count": 28,
   "metadata": {
    "colab": {
     "base_uri": "https://localhost:8080/",
     "height": 561
    },
    "executionInfo": {
     "elapsed": 943,
     "status": "ok",
     "timestamp": 1754806350177,
     "user": {
      "displayName": "Alan Gabriel Amaro Colin",
      "userId": "17298980579619170060"
     },
     "user_tz": 360
    },
    "id": "2zVTR0NDd198",
    "outputId": "43756354-a27f-41f3-d829-9ac2675f62bf"
   },
   "outputs": [
    {
     "data": {
      "text/html": [
       "<pre style=\"white-space:pre;overflow-x:auto;line-height:normal;font-family:Menlo,'DejaVu Sans Mono',consolas,'Courier New',monospace\"><span style=\"font-weight: bold\">Model: \"functional\"</span>\n",
       "</pre>\n"
      ],
      "text/plain": [
       "\u001b[1mModel: \"functional\"\u001b[0m\n"
      ]
     },
     "metadata": {},
     "output_type": "display_data"
    },
    {
     "data": {
      "text/html": [
       "<pre style=\"white-space:pre;overflow-x:auto;line-height:normal;font-family:Menlo,'DejaVu Sans Mono',consolas,'Courier New',monospace\">┏━━━━━━━━━━━━━━━━━━━━━━━━━━━━━━━━━┳━━━━━━━━━━━━━━━━━━━━━━━━┳━━━━━━━━━━━━━━━┓\n",
       "┃<span style=\"font-weight: bold\"> Layer (type)                    </span>┃<span style=\"font-weight: bold\"> Output Shape           </span>┃<span style=\"font-weight: bold\">       Param # </span>┃\n",
       "┡━━━━━━━━━━━━━━━━━━━━━━━━━━━━━━━━━╇━━━━━━━━━━━━━━━━━━━━━━━━╇━━━━━━━━━━━━━━━┩\n",
       "│ input_layer (<span style=\"color: #0087ff; text-decoration-color: #0087ff\">InputLayer</span>)        │ (<span style=\"color: #00d7ff; text-decoration-color: #00d7ff\">None</span>, <span style=\"color: #00af00; text-decoration-color: #00af00\">2</span>)              │             <span style=\"color: #00af00; text-decoration-color: #00af00\">0</span> │\n",
       "├─────────────────────────────────┼────────────────────────┼───────────────┤\n",
       "│ dense (<span style=\"color: #0087ff; text-decoration-color: #0087ff\">Dense</span>)                   │ (<span style=\"color: #00d7ff; text-decoration-color: #00d7ff\">None</span>, <span style=\"color: #00af00; text-decoration-color: #00af00\">32</span>)             │            <span style=\"color: #00af00; text-decoration-color: #00af00\">96</span> │\n",
       "├─────────────────────────────────┼────────────────────────┼───────────────┤\n",
       "│ dropout (<span style=\"color: #0087ff; text-decoration-color: #0087ff\">Dropout</span>)               │ (<span style=\"color: #00d7ff; text-decoration-color: #00d7ff\">None</span>, <span style=\"color: #00af00; text-decoration-color: #00af00\">32</span>)             │             <span style=\"color: #00af00; text-decoration-color: #00af00\">0</span> │\n",
       "├─────────────────────────────────┼────────────────────────┼───────────────┤\n",
       "│ batch_normalization             │ (<span style=\"color: #00d7ff; text-decoration-color: #00d7ff\">None</span>, <span style=\"color: #00af00; text-decoration-color: #00af00\">32</span>)             │           <span style=\"color: #00af00; text-decoration-color: #00af00\">128</span> │\n",
       "│ (<span style=\"color: #0087ff; text-decoration-color: #0087ff\">BatchNormalization</span>)            │                        │               │\n",
       "├─────────────────────────────────┼────────────────────────┼───────────────┤\n",
       "│ dense_1 (<span style=\"color: #0087ff; text-decoration-color: #0087ff\">Dense</span>)                 │ (<span style=\"color: #00d7ff; text-decoration-color: #00d7ff\">None</span>, <span style=\"color: #00af00; text-decoration-color: #00af00\">161</span>)            │         <span style=\"color: #00af00; text-decoration-color: #00af00\">5,313</span> │\n",
       "├─────────────────────────────────┼────────────────────────┼───────────────┤\n",
       "│ dropout_1 (<span style=\"color: #0087ff; text-decoration-color: #0087ff\">Dropout</span>)             │ (<span style=\"color: #00d7ff; text-decoration-color: #00d7ff\">None</span>, <span style=\"color: #00af00; text-decoration-color: #00af00\">161</span>)            │             <span style=\"color: #00af00; text-decoration-color: #00af00\">0</span> │\n",
       "├─────────────────────────────────┼────────────────────────┼───────────────┤\n",
       "│ batch_normalization_1           │ (<span style=\"color: #00d7ff; text-decoration-color: #00d7ff\">None</span>, <span style=\"color: #00af00; text-decoration-color: #00af00\">161</span>)            │           <span style=\"color: #00af00; text-decoration-color: #00af00\">644</span> │\n",
       "│ (<span style=\"color: #0087ff; text-decoration-color: #0087ff\">BatchNormalization</span>)            │                        │               │\n",
       "├─────────────────────────────────┼────────────────────────┼───────────────┤\n",
       "│ dense_2 (<span style=\"color: #0087ff; text-decoration-color: #0087ff\">Dense</span>)                 │ (<span style=\"color: #00d7ff; text-decoration-color: #00d7ff\">None</span>, <span style=\"color: #00af00; text-decoration-color: #00af00\">1</span>)              │           <span style=\"color: #00af00; text-decoration-color: #00af00\">162</span> │\n",
       "└─────────────────────────────────┴────────────────────────┴───────────────┘\n",
       "</pre>\n"
      ],
      "text/plain": [
       "┏━━━━━━━━━━━━━━━━━━━━━━━━━━━━━━━━━┳━━━━━━━━━━━━━━━━━━━━━━━━┳━━━━━━━━━━━━━━━┓\n",
       "┃\u001b[1m \u001b[0m\u001b[1mLayer (type)                   \u001b[0m\u001b[1m \u001b[0m┃\u001b[1m \u001b[0m\u001b[1mOutput Shape          \u001b[0m\u001b[1m \u001b[0m┃\u001b[1m \u001b[0m\u001b[1m      Param #\u001b[0m\u001b[1m \u001b[0m┃\n",
       "┡━━━━━━━━━━━━━━━━━━━━━━━━━━━━━━━━━╇━━━━━━━━━━━━━━━━━━━━━━━━╇━━━━━━━━━━━━━━━┩\n",
       "│ input_layer (\u001b[38;5;33mInputLayer\u001b[0m)        │ (\u001b[38;5;45mNone\u001b[0m, \u001b[38;5;34m2\u001b[0m)              │             \u001b[38;5;34m0\u001b[0m │\n",
       "├─────────────────────────────────┼────────────────────────┼───────────────┤\n",
       "│ dense (\u001b[38;5;33mDense\u001b[0m)                   │ (\u001b[38;5;45mNone\u001b[0m, \u001b[38;5;34m32\u001b[0m)             │            \u001b[38;5;34m96\u001b[0m │\n",
       "├─────────────────────────────────┼────────────────────────┼───────────────┤\n",
       "│ dropout (\u001b[38;5;33mDropout\u001b[0m)               │ (\u001b[38;5;45mNone\u001b[0m, \u001b[38;5;34m32\u001b[0m)             │             \u001b[38;5;34m0\u001b[0m │\n",
       "├─────────────────────────────────┼────────────────────────┼───────────────┤\n",
       "│ batch_normalization             │ (\u001b[38;5;45mNone\u001b[0m, \u001b[38;5;34m32\u001b[0m)             │           \u001b[38;5;34m128\u001b[0m │\n",
       "│ (\u001b[38;5;33mBatchNormalization\u001b[0m)            │                        │               │\n",
       "├─────────────────────────────────┼────────────────────────┼───────────────┤\n",
       "│ dense_1 (\u001b[38;5;33mDense\u001b[0m)                 │ (\u001b[38;5;45mNone\u001b[0m, \u001b[38;5;34m161\u001b[0m)            │         \u001b[38;5;34m5,313\u001b[0m │\n",
       "├─────────────────────────────────┼────────────────────────┼───────────────┤\n",
       "│ dropout_1 (\u001b[38;5;33mDropout\u001b[0m)             │ (\u001b[38;5;45mNone\u001b[0m, \u001b[38;5;34m161\u001b[0m)            │             \u001b[38;5;34m0\u001b[0m │\n",
       "├─────────────────────────────────┼────────────────────────┼───────────────┤\n",
       "│ batch_normalization_1           │ (\u001b[38;5;45mNone\u001b[0m, \u001b[38;5;34m161\u001b[0m)            │           \u001b[38;5;34m644\u001b[0m │\n",
       "│ (\u001b[38;5;33mBatchNormalization\u001b[0m)            │                        │               │\n",
       "├─────────────────────────────────┼────────────────────────┼───────────────┤\n",
       "│ dense_2 (\u001b[38;5;33mDense\u001b[0m)                 │ (\u001b[38;5;45mNone\u001b[0m, \u001b[38;5;34m1\u001b[0m)              │           \u001b[38;5;34m162\u001b[0m │\n",
       "└─────────────────────────────────┴────────────────────────┴───────────────┘\n"
      ]
     },
     "metadata": {},
     "output_type": "display_data"
    },
    {
     "data": {
      "text/html": [
       "<pre style=\"white-space:pre;overflow-x:auto;line-height:normal;font-family:Menlo,'DejaVu Sans Mono',consolas,'Courier New',monospace\"><span style=\"font-weight: bold\"> Total params: </span><span style=\"color: #00af00; text-decoration-color: #00af00\">6,343</span> (24.78 KB)\n",
       "</pre>\n"
      ],
      "text/plain": [
       "\u001b[1m Total params: \u001b[0m\u001b[38;5;34m6,343\u001b[0m (24.78 KB)\n"
      ]
     },
     "metadata": {},
     "output_type": "display_data"
    },
    {
     "data": {
      "text/html": [
       "<pre style=\"white-space:pre;overflow-x:auto;line-height:normal;font-family:Menlo,'DejaVu Sans Mono',consolas,'Courier New',monospace\"><span style=\"font-weight: bold\"> Trainable params: </span><span style=\"color: #00af00; text-decoration-color: #00af00\">5,957</span> (23.27 KB)\n",
       "</pre>\n"
      ],
      "text/plain": [
       "\u001b[1m Trainable params: \u001b[0m\u001b[38;5;34m5,957\u001b[0m (23.27 KB)\n"
      ]
     },
     "metadata": {},
     "output_type": "display_data"
    },
    {
     "data": {
      "text/html": [
       "<pre style=\"white-space:pre;overflow-x:auto;line-height:normal;font-family:Menlo,'DejaVu Sans Mono',consolas,'Courier New',monospace\"><span style=\"font-weight: bold\"> Non-trainable params: </span><span style=\"color: #00af00; text-decoration-color: #00af00\">386</span> (1.51 KB)\n",
       "</pre>\n"
      ],
      "text/plain": [
       "\u001b[1m Non-trainable params: \u001b[0m\u001b[38;5;34m386\u001b[0m (1.51 KB)\n"
      ]
     },
     "metadata": {},
     "output_type": "display_data"
    }
   ],
   "source": [
    "model_DNN.summary()"
   ]
  },
  {
   "cell_type": "markdown",
   "metadata": {
    "id": "VePpd9xSd7LC"
   },
   "source": [
    "## Training"
   ]
  },
  {
   "cell_type": "code",
   "execution_count": 29,
   "metadata": {
    "colab": {
     "base_uri": "https://localhost:8080/"
    },
    "executionInfo": {
     "elapsed": 35843,
     "status": "ok",
     "timestamp": 1754806386025,
     "user": {
      "displayName": "Alan Gabriel Amaro Colin",
      "userId": "17298980579619170060"
     },
     "user_tz": 360
    },
    "id": "GDvu_7QDd4HI",
    "outputId": "8229ee31-6f5a-4ed6-8217-42d1f0763bd6",
    "scrolled": true
   },
   "outputs": [
    {
     "name": "stdout",
     "output_type": "stream",
     "text": [
      "Epoch 1/1000\n",
      "\u001b[1m5/5\u001b[0m \u001b[32m━━━━━━━━━━━━━━━━━━━━\u001b[0m\u001b[37m\u001b[0m \u001b[1m4s\u001b[0m 211ms/step - loss: 4.3441 - mape: 89.6110 - r2_score: -38.6016 - val_loss: 4.1061 - val_mape: 84.0413 - val_r2_score: -28.4432 - learning_rate: 0.0010\n",
      "Epoch 2/1000\n",
      "\u001b[1m5/5\u001b[0m \u001b[32m━━━━━━━━━━━━━━━━━━━━\u001b[0m\u001b[37m\u001b[0m \u001b[1m0s\u001b[0m 82ms/step - loss: 3.8132 - mape: 78.9836 - r2_score: -31.2873 - val_loss: 3.8702 - val_mape: 79.2699 - val_r2_score: -26.5287 - learning_rate: 0.0010\n",
      "Epoch 3/1000\n",
      "\u001b[1m5/5\u001b[0m \u001b[32m━━━━━━━━━━━━━━━━━━━━\u001b[0m\u001b[37m\u001b[0m \u001b[1m0s\u001b[0m 82ms/step - loss: 3.4568 - mape: 71.6736 - r2_score: -28.1851 - val_loss: 3.5778 - val_mape: 72.9195 - val_r2_score: -24.7492 - learning_rate: 0.0010\n",
      "Epoch 4/1000\n",
      "\u001b[1m5/5\u001b[0m \u001b[32m━━━━━━━━━━━━━━━━━━━━\u001b[0m\u001b[37m\u001b[0m \u001b[1m0s\u001b[0m 82ms/step - loss: 3.1494 - mape: 64.9454 - r2_score: -25.2004 - val_loss: 3.2980 - val_mape: 66.2911 - val_r2_score: -23.3687 - learning_rate: 0.0010\n",
      "Epoch 5/1000\n",
      "\u001b[1m5/5\u001b[0m \u001b[32m━━━━━━━━━━━━━━━━━━━━\u001b[0m\u001b[37m\u001b[0m \u001b[1m0s\u001b[0m 86ms/step - loss: 2.9149 - mape: 59.7002 - r2_score: -23.0885 - val_loss: 3.0813 - val_mape: 60.3355 - val_r2_score: -22.4059 - learning_rate: 0.0010\n",
      "Epoch 6/1000\n",
      "\u001b[1m5/5\u001b[0m \u001b[32m━━━━━━━━━━━━━━━━━━━━\u001b[0m\u001b[37m\u001b[0m \u001b[1m0s\u001b[0m 81ms/step - loss: 2.8615 - mape: 58.6430 - r2_score: -22.5756 - val_loss: 3.0855 - val_mape: 60.4861 - val_r2_score: -22.2177 - learning_rate: 0.0010\n",
      "Epoch 7/1000\n",
      "\u001b[1m5/5\u001b[0m \u001b[32m━━━━━━━━━━━━━━━━━━━━\u001b[0m\u001b[37m\u001b[0m \u001b[1m0s\u001b[0m 91ms/step - loss: 2.6779 - mape: 54.7186 - r2_score: -20.5201 - val_loss: 3.0658 - val_mape: 60.0194 - val_r2_score: -22.1266 - learning_rate: 0.0010\n",
      "Epoch 8/1000\n",
      "\u001b[1m5/5\u001b[0m \u001b[32m━━━━━━━━━━━━━━━━━━━━\u001b[0m\u001b[37m\u001b[0m \u001b[1m0s\u001b[0m 83ms/step - loss: 2.6809 - mape: 55.0447 - r2_score: -20.0294 - val_loss: 3.0510 - val_mape: 59.5072 - val_r2_score: -22.0281 - learning_rate: 0.0010\n",
      "Epoch 9/1000\n",
      "\u001b[1m5/5\u001b[0m \u001b[32m━━━━━━━━━━━━━━━━━━━━\u001b[0m\u001b[37m\u001b[0m \u001b[1m0s\u001b[0m 87ms/step - loss: 2.4055 - mape: 49.1069 - r2_score: -18.1874 - val_loss: 3.0311 - val_mape: 59.0816 - val_r2_score: -21.7558 - learning_rate: 0.0010\n",
      "Epoch 10/1000\n",
      "\u001b[1m5/5\u001b[0m \u001b[32m━━━━━━━━━━━━━━━━━━━━\u001b[0m\u001b[37m\u001b[0m \u001b[1m0s\u001b[0m 82ms/step - loss: 2.4302 - mape: 49.7951 - r2_score: -18.0791 - val_loss: 3.0015 - val_mape: 58.5465 - val_r2_score: -21.4026 - learning_rate: 0.0010\n",
      "Epoch 11/1000\n",
      "\u001b[1m5/5\u001b[0m \u001b[32m━━━━━━━━━━━━━━━━━━━━\u001b[0m\u001b[37m\u001b[0m \u001b[1m0s\u001b[0m 85ms/step - loss: 2.2639 - mape: 46.8485 - r2_score: -16.4479 - val_loss: 2.9444 - val_mape: 57.7620 - val_r2_score: -20.7962 - learning_rate: 0.0010\n",
      "Epoch 12/1000\n",
      "\u001b[1m5/5\u001b[0m \u001b[32m━━━━━━━━━━━━━━━━━━━━\u001b[0m\u001b[37m\u001b[0m \u001b[1m0s\u001b[0m 84ms/step - loss: 2.2601 - mape: 47.0940 - r2_score: -16.4550 - val_loss: 2.9042 - val_mape: 57.1808 - val_r2_score: -20.2659 - learning_rate: 0.0010\n",
      "Epoch 13/1000\n",
      "\u001b[1m5/5\u001b[0m \u001b[32m━━━━━━━━━━━━━━━━━━━━\u001b[0m\u001b[37m\u001b[0m \u001b[1m0s\u001b[0m 89ms/step - loss: 2.1108 - mape: 43.6321 - r2_score: -15.7307 - val_loss: 2.8854 - val_mape: 57.0603 - val_r2_score: -19.8543 - learning_rate: 0.0010\n",
      "Epoch 14/1000\n",
      "\u001b[1m5/5\u001b[0m \u001b[32m━━━━━━━━━━━━━━━━━━━━\u001b[0m\u001b[37m\u001b[0m \u001b[1m0s\u001b[0m 84ms/step - loss: 1.9994 - mape: 41.4597 - r2_score: -14.4892 - val_loss: 2.8364 - val_mape: 56.2038 - val_r2_score: -19.2617 - learning_rate: 0.0010\n",
      "Epoch 15/1000\n",
      "\u001b[1m5/5\u001b[0m \u001b[32m━━━━━━━━━━━━━━━━━━━━\u001b[0m\u001b[37m\u001b[0m \u001b[1m0s\u001b[0m 82ms/step - loss: 2.1082 - mape: 43.7596 - r2_score: -14.8737 - val_loss: 2.7268 - val_mape: 53.4730 - val_r2_score: -18.5231 - learning_rate: 0.0010\n",
      "Epoch 16/1000\n",
      "\u001b[1m5/5\u001b[0m \u001b[32m━━━━━━━━━━━━━━━━━━━━\u001b[0m\u001b[37m\u001b[0m \u001b[1m0s\u001b[0m 81ms/step - loss: 2.1764 - mape: 45.8245 - r2_score: -15.6966 - val_loss: 2.6622 - val_mape: 51.9823 - val_r2_score: -17.9985 - learning_rate: 0.0010\n",
      "Epoch 17/1000\n",
      "\u001b[1m5/5\u001b[0m \u001b[32m━━━━━━━━━━━━━━━━━━━━\u001b[0m\u001b[37m\u001b[0m \u001b[1m0s\u001b[0m 82ms/step - loss: 2.0359 - mape: 42.8004 - r2_score: -14.8792 - val_loss: 2.6672 - val_mape: 52.4734 - val_r2_score: -17.6306 - learning_rate: 0.0010\n",
      "Epoch 18/1000\n",
      "\u001b[1m5/5\u001b[0m \u001b[32m━━━━━━━━━━━━━━━━━━━━\u001b[0m\u001b[37m\u001b[0m \u001b[1m0s\u001b[0m 87ms/step - loss: 2.0561 - mape: 43.4431 - r2_score: -14.5135 - val_loss: 2.6057 - val_mape: 51.0220 - val_r2_score: -17.1598 - learning_rate: 0.0010\n",
      "Epoch 19/1000\n",
      "\u001b[1m5/5\u001b[0m \u001b[32m━━━━━━━━━━━━━━━━━━━━\u001b[0m\u001b[37m\u001b[0m \u001b[1m0s\u001b[0m 93ms/step - loss: 2.1018 - mape: 44.1650 - r2_score: -15.2603 - val_loss: 2.5865 - val_mape: 50.9529 - val_r2_score: -16.7023 - learning_rate: 0.0010\n",
      "Epoch 20/1000\n",
      "\u001b[1m5/5\u001b[0m \u001b[32m━━━━━━━━━━━━━━━━━━━━\u001b[0m\u001b[37m\u001b[0m \u001b[1m0s\u001b[0m 87ms/step - loss: 1.9739 - mape: 41.1595 - r2_score: -14.4672 - val_loss: 2.5384 - val_mape: 49.9997 - val_r2_score: -16.2609 - learning_rate: 0.0010\n",
      "Epoch 21/1000\n",
      "\u001b[1m5/5\u001b[0m \u001b[32m━━━━━━━━━━━━━━━━━━━━\u001b[0m\u001b[37m\u001b[0m \u001b[1m0s\u001b[0m 80ms/step - loss: 1.9175 - mape: 40.4615 - r2_score: -13.5305 - val_loss: 2.4962 - val_mape: 49.1852 - val_r2_score: -15.8513 - learning_rate: 0.0010\n",
      "Epoch 22/1000\n",
      "\u001b[1m5/5\u001b[0m \u001b[32m━━━━━━━━━━━━━━━━━━━━\u001b[0m\u001b[37m\u001b[0m \u001b[1m0s\u001b[0m 81ms/step - loss: 1.8999 - mape: 39.9327 - r2_score: -13.5355 - val_loss: 2.4520 - val_mape: 48.2798 - val_r2_score: -15.4895 - learning_rate: 0.0010\n",
      "Epoch 23/1000\n",
      "\u001b[1m5/5\u001b[0m \u001b[32m━━━━━━━━━━━━━━━━━━━━\u001b[0m\u001b[37m\u001b[0m \u001b[1m0s\u001b[0m 81ms/step - loss: 1.9527 - mape: 40.9502 - r2_score: -13.8888 - val_loss: 2.4432 - val_mape: 48.4726 - val_r2_score: -15.1694 - learning_rate: 0.0010\n",
      "Epoch 24/1000\n",
      "\u001b[1m5/5\u001b[0m \u001b[32m━━━━━━━━━━━━━━━━━━━━\u001b[0m\u001b[37m\u001b[0m \u001b[1m0s\u001b[0m 84ms/step - loss: 1.9136 - mape: 39.9333 - r2_score: -13.4814 - val_loss: 2.4041 - val_mape: 47.7798 - val_r2_score: -14.8066 - learning_rate: 0.0010\n",
      "Epoch 25/1000\n",
      "\u001b[1m5/5\u001b[0m \u001b[32m━━━━━━━━━━━━━━━━━━━━\u001b[0m\u001b[37m\u001b[0m \u001b[1m0s\u001b[0m 81ms/step - loss: 1.8708 - mape: 38.9583 - r2_score: -13.3679 - val_loss: 2.3302 - val_mape: 45.9412 - val_r2_score: -14.5362 - learning_rate: 0.0010\n",
      "Epoch 26/1000\n",
      "\u001b[1m5/5\u001b[0m \u001b[32m━━━━━━━━━━━━━━━━━━━━\u001b[0m\u001b[37m\u001b[0m \u001b[1m0s\u001b[0m 80ms/step - loss: 1.8389 - mape: 38.4829 - r2_score: -12.5697 - val_loss: 2.3058 - val_mape: 45.4809 - val_r2_score: -14.3503 - learning_rate: 0.0010\n",
      "Epoch 27/1000\n",
      "\u001b[1m5/5\u001b[0m \u001b[32m━━━━━━━━━━━━━━━━━━━━\u001b[0m\u001b[37m\u001b[0m \u001b[1m0s\u001b[0m 80ms/step - loss: 1.8917 - mape: 39.8982 - r2_score: -13.2465 - val_loss: 2.2805 - val_mape: 44.9916 - val_r2_score: -14.1796 - learning_rate: 0.0010\n",
      "Epoch 28/1000\n",
      "\u001b[1m5/5\u001b[0m \u001b[32m━━━━━━━━━━━━━━━━━━━━\u001b[0m\u001b[37m\u001b[0m \u001b[1m0s\u001b[0m 80ms/step - loss: 1.9029 - mape: 40.2101 - r2_score: -13.3145 - val_loss: 2.2545 - val_mape: 44.4854 - val_r2_score: -14.0126 - learning_rate: 0.0010\n",
      "Epoch 29/1000\n",
      "\u001b[1m5/5\u001b[0m \u001b[32m━━━━━━━━━━━━━━━━━━━━\u001b[0m\u001b[37m\u001b[0m \u001b[1m0s\u001b[0m 80ms/step - loss: 1.7364 - mape: 36.7152 - r2_score: -12.1709 - val_loss: 2.2210 - val_mape: 43.7884 - val_r2_score: -13.8361 - learning_rate: 0.0010\n",
      "Epoch 30/1000\n",
      "\u001b[1m5/5\u001b[0m \u001b[32m━━━━━━━━━━━━━━━━━━━━\u001b[0m\u001b[37m\u001b[0m \u001b[1m0s\u001b[0m 81ms/step - loss: 1.8342 - mape: 39.1169 - r2_score: -12.6102 - val_loss: 2.2090 - val_mape: 43.7068 - val_r2_score: -13.6875 - learning_rate: 0.0010\n",
      "Epoch 31/1000\n",
      "\u001b[1m5/5\u001b[0m \u001b[32m━━━━━━━━━━━━━━━━━━━━\u001b[0m\u001b[37m\u001b[0m \u001b[1m0s\u001b[0m 78ms/step - loss: 1.6914 - mape: 35.8930 - r2_score: -11.7950 - val_loss: 2.1952 - val_mape: 43.4611 - val_r2_score: -13.5774 - learning_rate: 0.0010\n",
      "Epoch 32/1000\n",
      "\u001b[1m5/5\u001b[0m \u001b[32m━━━━━━━━━━━━━━━━━━━━\u001b[0m\u001b[37m\u001b[0m \u001b[1m0s\u001b[0m 79ms/step - loss: 1.7655 - mape: 37.4298 - r2_score: -12.1173 - val_loss: 2.1720 - val_mape: 42.9934 - val_r2_score: -13.4627 - learning_rate: 0.0010\n",
      "Epoch 33/1000\n",
      "\u001b[1m5/5\u001b[0m \u001b[32m━━━━━━━━━━━━━━━━━━━━\u001b[0m\u001b[37m\u001b[0m \u001b[1m0s\u001b[0m 79ms/step - loss: 1.6502 - mape: 35.1282 - r2_score: -11.6927 - val_loss: 2.1761 - val_mape: 43.4522 - val_r2_score: -13.2894 - learning_rate: 0.0010\n",
      "Epoch 34/1000\n",
      "\u001b[1m5/5\u001b[0m \u001b[32m━━━━━━━━━━━━━━━━━━━━\u001b[0m\u001b[37m\u001b[0m \u001b[1m0s\u001b[0m 78ms/step - loss: 1.7253 - mape: 36.7359 - r2_score: -11.8597 - val_loss: 2.2517 - val_mape: 45.9809 - val_r2_score: -13.1838 - learning_rate: 0.0010\n",
      "Epoch 35/1000\n",
      "\u001b[1m5/5\u001b[0m \u001b[32m━━━━━━━━━━━━━━━━━━━━\u001b[0m\u001b[37m\u001b[0m \u001b[1m0s\u001b[0m 82ms/step - loss: 1.6284 - mape: 34.8581 - r2_score: -11.7505 - val_loss: 2.2014 - val_mape: 45.0548 - val_r2_score: -12.6060 - learning_rate: 0.0010\n",
      "Epoch 36/1000\n",
      "\u001b[1m5/5\u001b[0m \u001b[32m━━━━━━━━━━━━━━━━━━━━\u001b[0m\u001b[37m\u001b[0m \u001b[1m0s\u001b[0m 81ms/step - loss: 1.6938 - mape: 36.4272 - r2_score: -11.7980 - val_loss: 2.1402 - val_mape: 43.8560 - val_r2_score: -11.9841 - learning_rate: 0.0010\n",
      "Epoch 37/1000\n",
      "\u001b[1m5/5\u001b[0m \u001b[32m━━━━━━━━━━━━━━━━━━━━\u001b[0m\u001b[37m\u001b[0m \u001b[1m0s\u001b[0m 82ms/step - loss: 1.6128 - mape: 34.3964 - r2_score: -11.4073 - val_loss: 1.9836 - val_mape: 40.0867 - val_r2_score: -11.0890 - learning_rate: 0.0010\n",
      "Epoch 38/1000\n",
      "\u001b[1m5/5\u001b[0m \u001b[32m━━━━━━━━━━━━━━━━━━━━\u001b[0m\u001b[37m\u001b[0m \u001b[1m0s\u001b[0m 91ms/step - loss: 1.6297 - mape: 34.6345 - r2_score: -11.3632 - val_loss: 1.9085 - val_mape: 38.2702 - val_r2_score: -10.4539 - learning_rate: 0.0010\n",
      "Epoch 39/1000\n",
      "\u001b[1m5/5\u001b[0m \u001b[32m━━━━━━━━━━━━━━━━━━━━\u001b[0m\u001b[37m\u001b[0m \u001b[1m0s\u001b[0m 82ms/step - loss: 1.7156 - mape: 36.5862 - r2_score: -11.8259 - val_loss: 1.8837 - val_mape: 37.9847 - val_r2_score: -10.1687 - learning_rate: 0.0010\n",
      "Epoch 40/1000\n",
      "\u001b[1m5/5\u001b[0m \u001b[32m━━━━━━━━━━━━━━━━━━━━\u001b[0m\u001b[37m\u001b[0m \u001b[1m0s\u001b[0m 82ms/step - loss: 1.5912 - mape: 33.6079 - r2_score: -11.4978 - val_loss: 1.8665 - val_mape: 38.0966 - val_r2_score: -9.8713 - learning_rate: 0.0010\n",
      "Epoch 41/1000\n",
      "\u001b[1m5/5\u001b[0m \u001b[32m━━━━━━━━━━━━━━━━━━━━\u001b[0m\u001b[37m\u001b[0m \u001b[1m0s\u001b[0m 86ms/step - loss: 1.5406 - mape: 32.6084 - r2_score: -11.3374 - val_loss: 1.8570 - val_mape: 38.0131 - val_r2_score: -9.7414 - learning_rate: 0.0010\n",
      "Epoch 42/1000\n",
      "\u001b[1m5/5\u001b[0m \u001b[32m━━━━━━━━━━━━━━━━━━━━\u001b[0m\u001b[37m\u001b[0m \u001b[1m0s\u001b[0m 82ms/step - loss: 1.6388 - mape: 35.3071 - r2_score: -11.5580 - val_loss: 1.8306 - val_mape: 37.5536 - val_r2_score: -9.4891 - learning_rate: 0.0010\n",
      "Epoch 43/1000\n",
      "\u001b[1m5/5\u001b[0m \u001b[32m━━━━━━━━━━━━━━━━━━━━\u001b[0m\u001b[37m\u001b[0m \u001b[1m0s\u001b[0m 83ms/step - loss: 1.6155 - mape: 34.5264 - r2_score: -11.4921 - val_loss: 1.7604 - val_mape: 35.8900 - val_r2_score: -9.1911 - learning_rate: 0.0010\n",
      "Epoch 44/1000\n",
      "\u001b[1m5/5\u001b[0m \u001b[32m━━━━━━━━━━━━━━━━━━━━\u001b[0m\u001b[37m\u001b[0m \u001b[1m0s\u001b[0m 71ms/step - loss: 1.5319 - mape: 32.4257 - r2_score: -10.6946 - val_loss: 1.8092 - val_mape: 37.2975 - val_r2_score: -9.2568 - learning_rate: 0.0010\n",
      "Epoch 45/1000\n",
      "\u001b[1m5/5\u001b[0m \u001b[32m━━━━━━━━━━━━━━━━━━━━\u001b[0m\u001b[37m\u001b[0m \u001b[1m0s\u001b[0m 83ms/step - loss: 1.5962 - mape: 33.9344 - r2_score: -10.7396 - val_loss: 1.7770 - val_mape: 36.5613 - val_r2_score: -9.1021 - learning_rate: 0.0010\n",
      "Epoch 46/1000\n",
      "\u001b[1m5/5\u001b[0m \u001b[32m━━━━━━━━━━━━━━━━━━━━\u001b[0m\u001b[37m\u001b[0m \u001b[1m0s\u001b[0m 94ms/step - loss: 1.5855 - mape: 33.7240 - r2_score: -11.3553 - val_loss: 1.7380 - val_mape: 35.7419 - val_r2_score: -8.9489 - learning_rate: 0.0010\n",
      "Epoch 47/1000\n",
      "\u001b[1m5/5\u001b[0m \u001b[32m━━━━━━━━━━━━━━━━━━━━\u001b[0m\u001b[37m\u001b[0m \u001b[1m0s\u001b[0m 83ms/step - loss: 1.6216 - mape: 34.5127 - r2_score: -11.3574 - val_loss: 1.7480 - val_mape: 36.2267 - val_r2_score: -8.8820 - learning_rate: 0.0010\n",
      "Epoch 48/1000\n",
      "\u001b[1m5/5\u001b[0m \u001b[32m━━━━━━━━━━━━━━━━━━━━\u001b[0m\u001b[37m\u001b[0m \u001b[1m0s\u001b[0m 90ms/step - loss: 1.5936 - mape: 33.7898 - r2_score: -11.1529 - val_loss: 1.7359 - val_mape: 35.9843 - val_r2_score: -8.7381 - learning_rate: 0.0010\n",
      "Epoch 49/1000\n",
      "\u001b[1m5/5\u001b[0m \u001b[32m━━━━━━━━━━━━━━━━━━━━\u001b[0m\u001b[37m\u001b[0m \u001b[1m0s\u001b[0m 88ms/step - loss: 1.6570 - mape: 35.3124 - r2_score: -11.1000 - val_loss: 1.6166 - val_mape: 32.8111 - val_r2_score: -8.4354 - learning_rate: 0.0010\n",
      "Epoch 50/1000\n",
      "\u001b[1m5/5\u001b[0m \u001b[32m━━━━━━━━━━━━━━━━━━━━\u001b[0m\u001b[37m\u001b[0m \u001b[1m0s\u001b[0m 67ms/step - loss: 1.5111 - mape: 31.7806 - r2_score: -10.7689 - val_loss: 1.7263 - val_mape: 35.9886 - val_r2_score: -8.5773 - learning_rate: 0.0010\n",
      "Epoch 51/1000\n",
      "\u001b[1m5/5\u001b[0m \u001b[32m━━━━━━━━━━━━━━━━━━━━\u001b[0m\u001b[37m\u001b[0m \u001b[1m0s\u001b[0m 85ms/step - loss: 1.6788 - mape: 35.5913 - r2_score: -11.5421 - val_loss: 1.6169 - val_mape: 33.3798 - val_r2_score: -8.2960 - learning_rate: 0.0010\n",
      "Epoch 52/1000\n",
      "\u001b[1m5/5\u001b[0m \u001b[32m━━━━━━━━━━━━━━━━━━━━\u001b[0m\u001b[37m\u001b[0m \u001b[1m0s\u001b[0m 81ms/step - loss: 1.5789 - mape: 33.2303 - r2_score: -10.9532 - val_loss: 1.5883 - val_mape: 32.4893 - val_r2_score: -8.1822 - learning_rate: 0.0010\n",
      "Epoch 53/1000\n",
      "\u001b[1m5/5\u001b[0m \u001b[32m━━━━━━━━━━━━━━━━━━━━\u001b[0m\u001b[37m\u001b[0m \u001b[1m0s\u001b[0m 82ms/step - loss: 1.6763 - mape: 35.7739 - r2_score: -11.6040 - val_loss: 1.5800 - val_mape: 32.3492 - val_r2_score: -8.1170 - learning_rate: 0.0010\n",
      "Epoch 54/1000\n",
      "\u001b[1m5/5\u001b[0m \u001b[32m━━━━━━━━━━━━━━━━━━━━\u001b[0m\u001b[37m\u001b[0m \u001b[1m0s\u001b[0m 82ms/step - loss: 1.5242 - mape: 31.9959 - r2_score: -10.5524 - val_loss: 1.5785 - val_mape: 32.5429 - val_r2_score: -8.0518 - learning_rate: 0.0010\n",
      "Epoch 55/1000\n",
      "\u001b[1m5/5\u001b[0m \u001b[32m━━━━━━━━━━━━━━━━━━━━\u001b[0m\u001b[37m\u001b[0m \u001b[1m0s\u001b[0m 81ms/step - loss: 1.5143 - mape: 31.9898 - r2_score: -10.2883 - val_loss: 1.5140 - val_mape: 31.2231 - val_r2_score: -7.6860 - learning_rate: 0.0010\n",
      "Epoch 56/1000\n",
      "\u001b[1m5/5\u001b[0m \u001b[32m━━━━━━━━━━━━━━━━━━━━\u001b[0m\u001b[37m\u001b[0m \u001b[1m0s\u001b[0m 80ms/step - loss: 1.5288 - mape: 32.0305 - r2_score: -10.3286 - val_loss: 1.4533 - val_mape: 29.8148 - val_r2_score: -7.3954 - learning_rate: 0.0010\n",
      "Epoch 57/1000\n",
      "\u001b[1m5/5\u001b[0m \u001b[32m━━━━━━━━━━━━━━━━━━━━\u001b[0m\u001b[37m\u001b[0m \u001b[1m0s\u001b[0m 86ms/step - loss: 1.4158 - mape: 29.4965 - r2_score: -9.0858 - val_loss: 1.5001 - val_mape: 31.1912 - val_r2_score: -7.3090 - learning_rate: 0.0010\n",
      "Epoch 58/1000\n",
      "\u001b[1m5/5\u001b[0m \u001b[32m━━━━━━━━━━━━━━━━━━━━\u001b[0m\u001b[37m\u001b[0m \u001b[1m0s\u001b[0m 83ms/step - loss: 1.5029 - mape: 31.5053 - r2_score: -9.6327 - val_loss: 1.4545 - val_mape: 29.8864 - val_r2_score: -7.0242 - learning_rate: 0.0010\n",
      "Epoch 59/1000\n",
      "\u001b[1m5/5\u001b[0m \u001b[32m━━━━━━━━━━━━━━━━━━━━\u001b[0m\u001b[37m\u001b[0m \u001b[1m0s\u001b[0m 86ms/step - loss: 1.5094 - mape: 31.5565 - r2_score: -9.2175 - val_loss: 1.4552 - val_mape: 29.9266 - val_r2_score: -6.7802 - learning_rate: 0.0010\n",
      "Epoch 60/1000\n",
      "\u001b[1m5/5\u001b[0m \u001b[32m━━━━━━━━━━━━━━━━━━━━\u001b[0m\u001b[37m\u001b[0m \u001b[1m0s\u001b[0m 81ms/step - loss: 1.3790 - mape: 28.2861 - r2_score: -8.2124 - val_loss: 1.3996 - val_mape: 28.8321 - val_r2_score: -6.0510 - learning_rate: 0.0010\n",
      "Epoch 61/1000\n",
      "\u001b[1m5/5\u001b[0m \u001b[32m━━━━━━━━━━━━━━━━━━━━\u001b[0m\u001b[37m\u001b[0m \u001b[1m0s\u001b[0m 84ms/step - loss: 1.3758 - mape: 28.7663 - r2_score: -8.0141 - val_loss: 1.2878 - val_mape: 26.4789 - val_r2_score: -5.3924 - learning_rate: 0.0010\n",
      "Epoch 62/1000\n",
      "\u001b[1m5/5\u001b[0m \u001b[32m━━━━━━━━━━━━━━━━━━━━\u001b[0m\u001b[37m\u001b[0m \u001b[1m0s\u001b[0m 82ms/step - loss: 1.3425 - mape: 27.7057 - r2_score: -7.8929 - val_loss: 1.2588 - val_mape: 26.1362 - val_r2_score: -5.1063 - learning_rate: 0.0010\n",
      "Epoch 63/1000\n",
      "\u001b[1m5/5\u001b[0m \u001b[32m━━━━━━━━━━━━━━━━━━━━\u001b[0m\u001b[37m\u001b[0m \u001b[1m0s\u001b[0m 81ms/step - loss: 1.2015 - mape: 24.4251 - r2_score: -7.4796 - val_loss: 1.1365 - val_mape: 22.9572 - val_r2_score: -4.2910 - learning_rate: 0.0010\n",
      "Epoch 64/1000\n",
      "\u001b[1m5/5\u001b[0m \u001b[32m━━━━━━━━━━━━━━━━━━━━\u001b[0m\u001b[37m\u001b[0m \u001b[1m0s\u001b[0m 80ms/step - loss: 1.1207 - mape: 22.6251 - r2_score: -6.6118 - val_loss: 1.0650 - val_mape: 21.4724 - val_r2_score: -3.4283 - learning_rate: 0.0010\n",
      "Epoch 65/1000\n",
      "\u001b[1m5/5\u001b[0m \u001b[32m━━━━━━━━━━━━━━━━━━━━\u001b[0m\u001b[37m\u001b[0m \u001b[1m0s\u001b[0m 82ms/step - loss: 1.1679 - mape: 23.4517 - r2_score: -5.9617 - val_loss: 0.9986 - val_mape: 19.8055 - val_r2_score: -3.0675 - learning_rate: 0.0010\n",
      "Epoch 66/1000\n",
      "\u001b[1m5/5\u001b[0m \u001b[32m━━━━━━━━━━━━━━━━━━━━\u001b[0m\u001b[37m\u001b[0m \u001b[1m0s\u001b[0m 78ms/step - loss: 1.0945 - mape: 21.7159 - r2_score: -5.4220 - val_loss: 1.0166 - val_mape: 20.3142 - val_r2_score: -2.9122 - learning_rate: 0.0010\n",
      "Epoch 67/1000\n",
      "\u001b[1m5/5\u001b[0m \u001b[32m━━━━━━━━━━━━━━━━━━━━\u001b[0m\u001b[37m\u001b[0m \u001b[1m0s\u001b[0m 89ms/step - loss: 1.0327 - mape: 21.1415 - r2_score: -3.8565 - val_loss: 1.0648 - val_mape: 22.4349 - val_r2_score: -2.7667 - learning_rate: 0.0010\n",
      "Epoch 68/1000\n",
      "\u001b[1m5/5\u001b[0m \u001b[32m━━━━━━━━━━━━━━━━━━━━\u001b[0m\u001b[37m\u001b[0m \u001b[1m0s\u001b[0m 85ms/step - loss: 0.7837 - mape: 15.1879 - r2_score: -3.4852 - val_loss: 1.0650 - val_mape: 22.8469 - val_r2_score: -2.3701 - learning_rate: 0.0010\n",
      "Epoch 69/1000\n",
      "\u001b[1m5/5\u001b[0m \u001b[32m━━━━━━━━━━━━━━━━━━━━\u001b[0m\u001b[37m\u001b[0m \u001b[1m0s\u001b[0m 83ms/step - loss: 0.9156 - mape: 19.0320 - r2_score: -3.0446 - val_loss: 1.0351 - val_mape: 22.1890 - val_r2_score: -1.8065 - learning_rate: 0.0010\n",
      "Epoch 70/1000\n",
      "\u001b[1m5/5\u001b[0m \u001b[32m━━━━━━━━━━━━━━━━━━━━\u001b[0m\u001b[37m\u001b[0m \u001b[1m0s\u001b[0m 79ms/step - loss: 0.7486 - mape: 16.0899 - r2_score: -0.9795 - val_loss: 1.0037 - val_mape: 21.6066 - val_r2_score: -1.3561 - learning_rate: 0.0010\n",
      "Epoch 71/1000\n",
      "\u001b[1m5/5\u001b[0m \u001b[32m━━━━━━━━━━━━━━━━━━━━\u001b[0m\u001b[37m\u001b[0m \u001b[1m0s\u001b[0m 79ms/step - loss: 0.8697 - mape: 19.0694 - r2_score: -1.6043 - val_loss: 0.7010 - val_mape: 13.8137 - val_r2_score: -0.4084 - learning_rate: 0.0010\n",
      "Epoch 72/1000\n",
      "\u001b[1m5/5\u001b[0m \u001b[32m━━━━━━━━━━━━━━━━━━━━\u001b[0m\u001b[37m\u001b[0m \u001b[1m0s\u001b[0m 64ms/step - loss: 0.7614 - mape: 15.6869 - r2_score: -0.9993 - val_loss: 0.7216 - val_mape: 14.7629 - val_r2_score: -0.5075 - learning_rate: 0.0010\n",
      "Epoch 73/1000\n",
      "\u001b[1m5/5\u001b[0m \u001b[32m━━━━━━━━━━━━━━━━━━━━\u001b[0m\u001b[37m\u001b[0m \u001b[1m0s\u001b[0m 83ms/step - loss: 0.8375 - mape: 17.7297 - r2_score: -1.6933 - val_loss: 0.6574 - val_mape: 13.2640 - val_r2_score: -0.2857 - learning_rate: 0.0010\n",
      "Epoch 74/1000\n",
      "\u001b[1m5/5\u001b[0m \u001b[32m━━━━━━━━━━━━━━━━━━━━\u001b[0m\u001b[37m\u001b[0m \u001b[1m0s\u001b[0m 64ms/step - loss: 0.6202 - mape: 12.8916 - r2_score: -0.4220 - val_loss: 0.7130 - val_mape: 15.4485 - val_r2_score: -0.4908 - learning_rate: 0.0010\n",
      "Epoch 75/1000\n",
      "\u001b[1m5/5\u001b[0m \u001b[32m━━━━━━━━━━━━━━━━━━━━\u001b[0m\u001b[37m\u001b[0m \u001b[1m0s\u001b[0m 66ms/step - loss: 0.8203 - mape: 17.3557 - r2_score: -1.6274 - val_loss: 0.7000 - val_mape: 15.1647 - val_r2_score: -0.3964 - learning_rate: 0.0010\n",
      "Epoch 76/1000\n",
      "\u001b[1m5/5\u001b[0m \u001b[32m━━━━━━━━━━━━━━━━━━━━\u001b[0m\u001b[37m\u001b[0m \u001b[1m0s\u001b[0m 65ms/step - loss: 0.7075 - mape: 15.1792 - r2_score: -0.4608 - val_loss: 0.7022 - val_mape: 15.2218 - val_r2_score: -0.3176 - learning_rate: 0.0010\n",
      "Epoch 77/1000\n",
      "\u001b[1m5/5\u001b[0m \u001b[32m━━━━━━━━━━━━━━━━━━━━\u001b[0m\u001b[37m\u001b[0m \u001b[1m0s\u001b[0m 74ms/step - loss: 0.5924 - mape: 12.6521 - r2_score: -0.2006 - val_loss: 0.7276 - val_mape: 15.9029 - val_r2_score: -0.4124 - learning_rate: 0.0010\n",
      "Epoch 78/1000\n",
      "\u001b[1m5/5\u001b[0m \u001b[32m━━━━━━━━━━━━━━━━━━━━\u001b[0m\u001b[37m\u001b[0m \u001b[1m0s\u001b[0m 73ms/step - loss: 0.5998 - mape: 12.6860 - r2_score: -0.2002 - val_loss: 0.6862 - val_mape: 15.1058 - val_r2_score: -0.3901 - learning_rate: 0.0010\n",
      "Epoch 79/1000\n",
      "\u001b[1m5/5\u001b[0m \u001b[32m━━━━━━━━━━━━━━━━━━━━\u001b[0m\u001b[37m\u001b[0m \u001b[1m0s\u001b[0m 83ms/step - loss: 0.6128 - mape: 12.8158 - r2_score: -0.1990 - val_loss: 0.6892 - val_mape: 15.1601 - val_r2_score: -0.2753 - learning_rate: 0.0010\n",
      "Epoch 80/1000\n",
      "\u001b[1m5/5\u001b[0m \u001b[32m━━━━━━━━━━━━━━━━━━━━\u001b[0m\u001b[37m\u001b[0m \u001b[1m0s\u001b[0m 72ms/step - loss: 0.7828 - mape: 16.9762 - r2_score: -1.3492 - val_loss: 0.7439 - val_mape: 16.1141 - val_r2_score: -0.3077 - learning_rate: 0.0010\n",
      "Epoch 81/1000\n",
      "\u001b[1m5/5\u001b[0m \u001b[32m━━━━━━━━━━━━━━━━━━━━\u001b[0m\u001b[37m\u001b[0m \u001b[1m0s\u001b[0m 67ms/step - loss: 0.6848 - mape: 14.9604 - r2_score: -0.4998 - val_loss: 0.7824 - val_mape: 17.3700 - val_r2_score: -0.5599 - learning_rate: 0.0010\n",
      "Epoch 82/1000\n",
      "\u001b[1m5/5\u001b[0m \u001b[32m━━━━━━━━━━━━━━━━━━━━\u001b[0m\u001b[37m\u001b[0m \u001b[1m0s\u001b[0m 67ms/step - loss: 0.5684 - mape: 12.7060 - r2_score: -0.1869 - val_loss: 0.8733 - val_mape: 20.0659 - val_r2_score: -1.0711 - learning_rate: 0.0010\n",
      "Epoch 83/1000\n",
      "\u001b[1m5/5\u001b[0m \u001b[32m━━━━━━━━━━━━━━━━━━━━\u001b[0m\u001b[37m\u001b[0m \u001b[1m0s\u001b[0m 66ms/step - loss: 0.5948 - mape: 12.8622 - r2_score: -0.3064 - val_loss: 0.7234 - val_mape: 16.0579 - val_r2_score: -0.5145 - learning_rate: 0.0010\n",
      "Epoch 84/1000\n",
      "\u001b[1m5/5\u001b[0m \u001b[32m━━━━━━━━━━━━━━━━━━━━\u001b[0m\u001b[37m\u001b[0m \u001b[1m0s\u001b[0m 80ms/step - loss: 0.6647 - mape: 14.7851 - r2_score: -0.6942 - val_loss: 0.6605 - val_mape: 14.5551 - val_r2_score: -0.1924 - learning_rate: 0.0010\n",
      "Epoch 85/1000\n",
      "\u001b[1m5/5\u001b[0m \u001b[32m━━━━━━━━━━━━━━━━━━━━\u001b[0m\u001b[37m\u001b[0m \u001b[1m0s\u001b[0m 67ms/step - loss: 0.6589 - mape: 14.3905 - r2_score: -0.3977 - val_loss: 0.6397 - val_mape: 14.4625 - val_r2_score: -0.2460 - learning_rate: 0.0010\n",
      "Epoch 86/1000\n",
      "\u001b[1m5/5\u001b[0m \u001b[32m━━━━━━━━━━━━━━━━━━━━\u001b[0m\u001b[37m\u001b[0m \u001b[1m0s\u001b[0m 69ms/step - loss: 0.6799 - mape: 14.9699 - r2_score: -0.4404 - val_loss: 0.7307 - val_mape: 17.1021 - val_r2_score: -0.7563 - learning_rate: 0.0010\n",
      "Epoch 87/1000\n",
      "\u001b[1m5/5\u001b[0m \u001b[32m━━━━━━━━━━━━━━━━━━━━\u001b[0m\u001b[37m\u001b[0m \u001b[1m0s\u001b[0m 67ms/step - loss: 0.7103 - mape: 15.4037 - r2_score: -0.3516 - val_loss: 0.7048 - val_mape: 15.9212 - val_r2_score: -0.4936 - learning_rate: 0.0010\n",
      "Epoch 88/1000\n",
      "\u001b[1m5/5\u001b[0m \u001b[32m━━━━━━━━━━━━━━━━━━━━\u001b[0m\u001b[37m\u001b[0m \u001b[1m0s\u001b[0m 64ms/step - loss: 0.5058 - mape: 11.0220 - r2_score: 0.1004 - val_loss: 0.7462 - val_mape: 17.1863 - val_r2_score: -0.6921 - learning_rate: 0.0010\n",
      "Epoch 89/1000\n",
      "\u001b[1m5/5\u001b[0m \u001b[32m━━━━━━━━━━━━━━━━━━━━\u001b[0m\u001b[37m\u001b[0m \u001b[1m0s\u001b[0m 65ms/step - loss: 0.5847 - mape: 12.6883 - r2_score: -0.1659 - val_loss: 0.7542 - val_mape: 17.1996 - val_r2_score: -0.5794 - learning_rate: 0.0010\n",
      "Epoch 90/1000\n",
      "\u001b[1m5/5\u001b[0m \u001b[32m━━━━━━━━━━━━━━━━━━━━\u001b[0m\u001b[37m\u001b[0m \u001b[1m0s\u001b[0m 79ms/step - loss: 0.6822 - mape: 14.7980 - r2_score: -0.6779 - val_loss: 0.5997 - val_mape: 12.9957 - val_r2_score: 0.0491 - learning_rate: 0.0010\n",
      "Epoch 91/1000\n",
      "\u001b[1m5/5\u001b[0m \u001b[32m━━━━━━━━━━━━━━━━━━━━\u001b[0m\u001b[37m\u001b[0m \u001b[1m0s\u001b[0m 64ms/step - loss: 0.5508 - mape: 11.8768 - r2_score: -0.0329 - val_loss: 0.6072 - val_mape: 13.1559 - val_r2_score: 0.0359 - learning_rate: 0.0010\n",
      "Epoch 92/1000\n",
      "\u001b[1m5/5\u001b[0m \u001b[32m━━━━━━━━━━━━━━━━━━━━\u001b[0m\u001b[37m\u001b[0m \u001b[1m0s\u001b[0m 69ms/step - loss: 0.6287 - mape: 13.6251 - r2_score: -0.2958 - val_loss: 0.5989 - val_mape: 13.1843 - val_r2_score: -0.0153 - learning_rate: 0.0010\n",
      "Epoch 93/1000\n",
      "\u001b[1m5/5\u001b[0m \u001b[32m━━━━━━━━━━━━━━━━━━━━\u001b[0m\u001b[37m\u001b[0m \u001b[1m0s\u001b[0m 76ms/step - loss: 0.4846 - mape: 10.4570 - r2_score: 0.2969 - val_loss: 0.6048 - val_mape: 13.1717 - val_r2_score: -0.1459 - learning_rate: 0.0010\n",
      "Epoch 94/1000\n",
      "\u001b[1m5/5\u001b[0m \u001b[32m━━━━━━━━━━━━━━━━━━━━\u001b[0m\u001b[37m\u001b[0m \u001b[1m0s\u001b[0m 68ms/step - loss: 0.5926 - mape: 13.0977 - r2_score: -0.0088 - val_loss: 0.6162 - val_mape: 13.2574 - val_r2_score: -0.3412 - learning_rate: 0.0010\n",
      "Epoch 95/1000\n",
      "\u001b[1m5/5\u001b[0m \u001b[32m━━━━━━━━━━━━━━━━━━━━\u001b[0m\u001b[37m\u001b[0m \u001b[1m0s\u001b[0m 67ms/step - loss: 0.6788 - mape: 14.8117 - r2_score: -0.9922 - val_loss: 0.6918 - val_mape: 15.4554 - val_r2_score: -0.6579 - learning_rate: 0.0010\n",
      "Epoch 96/1000\n",
      "\u001b[1m5/5\u001b[0m \u001b[32m━━━━━━━━━━━━━━━━━━━━\u001b[0m\u001b[37m\u001b[0m \u001b[1m0s\u001b[0m 67ms/step - loss: 0.6574 - mape: 14.1407 - r2_score: -0.9496 - val_loss: 0.6997 - val_mape: 16.0076 - val_r2_score: -0.6679 - learning_rate: 0.0010\n",
      "Epoch 97/1000\n",
      "\u001b[1m5/5\u001b[0m \u001b[32m━━━━━━━━━━━━━━━━━━━━\u001b[0m\u001b[37m\u001b[0m \u001b[1m0s\u001b[0m 65ms/step - loss: 0.4789 - mape: 10.2860 - r2_score: 0.2587 - val_loss: 0.6665 - val_mape: 14.6265 - val_r2_score: -0.3347 - learning_rate: 0.0010\n",
      "Epoch 98/1000\n",
      "\u001b[1m5/5\u001b[0m \u001b[32m━━━━━━━━━━━━━━━━━━━━\u001b[0m\u001b[37m\u001b[0m \u001b[1m0s\u001b[0m 70ms/step - loss: 0.5991 - mape: 12.8702 - r2_score: -0.1211 - val_loss: 0.6386 - val_mape: 12.8066 - val_r2_score: -0.3203 - learning_rate: 0.0010\n",
      "Epoch 99/1000\n",
      "\u001b[1m5/5\u001b[0m \u001b[32m━━━━━━━━━━━━━━━━━━━━\u001b[0m\u001b[37m\u001b[0m \u001b[1m0s\u001b[0m 80ms/step - loss: 0.6491 - mape: 14.1109 - r2_score: -0.3298 - val_loss: 0.5706 - val_mape: 11.1543 - val_r2_score: -0.0528 - learning_rate: 0.0010\n",
      "Epoch 100/1000\n",
      "\u001b[1m5/5\u001b[0m \u001b[32m━━━━━━━━━━━━━━━━━━━━\u001b[0m\u001b[37m\u001b[0m \u001b[1m0s\u001b[0m 64ms/step - loss: 0.5705 - mape: 12.4971 - r2_score: 0.0091 - val_loss: 0.5857 - val_mape: 12.3075 - val_r2_score: 0.0256 - learning_rate: 0.0010\n",
      "Epoch 101/1000\n",
      "\u001b[1m5/5\u001b[0m \u001b[32m━━━━━━━━━━━━━━━━━━━━\u001b[0m\u001b[37m\u001b[0m \u001b[1m0s\u001b[0m 79ms/step - loss: 0.5953 - mape: 13.2158 - r2_score: -0.2850 - val_loss: 0.5800 - val_mape: 12.2884 - val_r2_score: 0.0789 - learning_rate: 0.0010\n",
      "Epoch 102/1000\n",
      "\u001b[1m5/5\u001b[0m \u001b[32m━━━━━━━━━━━━━━━━━━━━\u001b[0m\u001b[37m\u001b[0m \u001b[1m0s\u001b[0m 66ms/step - loss: 0.5385 - mape: 11.4644 - r2_score: -0.0654 - val_loss: 0.5622 - val_mape: 12.2807 - val_r2_score: 0.0341 - learning_rate: 0.0010\n",
      "Epoch 103/1000\n",
      "\u001b[1m5/5\u001b[0m \u001b[32m━━━━━━━━━━━━━━━━━━━━\u001b[0m\u001b[37m\u001b[0m \u001b[1m0s\u001b[0m 64ms/step - loss: 0.5826 - mape: 13.0273 - r2_score: -0.2577 - val_loss: 0.5807 - val_mape: 12.9177 - val_r2_score: -0.0014 - learning_rate: 0.0010\n",
      "Epoch 104/1000\n",
      "\u001b[1m5/5\u001b[0m \u001b[32m━━━━━━━━━━━━━━━━━━━━\u001b[0m\u001b[37m\u001b[0m \u001b[1m0s\u001b[0m 81ms/step - loss: 0.5867 - mape: 13.0004 - r2_score: -0.1229 - val_loss: 0.5390 - val_mape: 11.6238 - val_r2_score: 0.1155 - learning_rate: 0.0010\n",
      "Epoch 105/1000\n",
      "\u001b[1m5/5\u001b[0m \u001b[32m━━━━━━━━━━━━━━━━━━━━\u001b[0m\u001b[37m\u001b[0m \u001b[1m0s\u001b[0m 84ms/step - loss: 0.5505 - mape: 11.7997 - r2_score: 0.0050 - val_loss: 0.5254 - val_mape: 11.2113 - val_r2_score: 0.1744 - learning_rate: 0.0010\n",
      "Epoch 106/1000\n",
      "\u001b[1m5/5\u001b[0m \u001b[32m━━━━━━━━━━━━━━━━━━━━\u001b[0m\u001b[37m\u001b[0m \u001b[1m0s\u001b[0m 82ms/step - loss: 0.4652 - mape: 10.1920 - r2_score: 0.2354 - val_loss: 0.5200 - val_mape: 11.2434 - val_r2_score: 0.1915 - learning_rate: 0.0010\n",
      "Epoch 107/1000\n",
      "\u001b[1m5/5\u001b[0m \u001b[32m━━━━━━━━━━━━━━━━━━━━\u001b[0m\u001b[37m\u001b[0m \u001b[1m0s\u001b[0m 73ms/step - loss: 0.4779 - mape: 10.3838 - r2_score: 0.2629 - val_loss: 0.5611 - val_mape: 11.9609 - val_r2_score: 0.1261 - learning_rate: 0.0010\n",
      "Epoch 108/1000\n",
      "\u001b[1m5/5\u001b[0m \u001b[32m━━━━━━━━━━━━━━━━━━━━\u001b[0m\u001b[37m\u001b[0m \u001b[1m0s\u001b[0m 70ms/step - loss: 0.4130 - mape: 8.7630 - r2_score: 0.4483 - val_loss: 0.5842 - val_mape: 11.9326 - val_r2_score: -0.0355 - learning_rate: 0.0010\n",
      "Epoch 109/1000\n",
      "\u001b[1m5/5\u001b[0m \u001b[32m━━━━━━━━━━━━━━━━━━━━\u001b[0m\u001b[37m\u001b[0m \u001b[1m0s\u001b[0m 66ms/step - loss: 0.7864 - mape: 16.7528 - r2_score: -1.4344 - val_loss: 0.5538 - val_mape: 11.2058 - val_r2_score: -0.0397 - learning_rate: 0.0010\n",
      "Epoch 110/1000\n",
      "\u001b[1m5/5\u001b[0m \u001b[32m━━━━━━━━━━━━━━━━━━━━\u001b[0m\u001b[37m\u001b[0m \u001b[1m0s\u001b[0m 83ms/step - loss: 0.5744 - mape: 12.6531 - r2_score: -0.2878 - val_loss: 0.4819 - val_mape: 9.9757 - val_r2_score: 0.2569 - learning_rate: 0.0010\n",
      "Epoch 111/1000\n",
      "\u001b[1m5/5\u001b[0m \u001b[32m━━━━━━━━━━━━━━━━━━━━\u001b[0m\u001b[37m\u001b[0m \u001b[1m0s\u001b[0m 69ms/step - loss: 0.5665 - mape: 12.3416 - r2_score: -0.0299 - val_loss: 0.6333 - val_mape: 13.8647 - val_r2_score: -0.0288 - learning_rate: 0.0010\n",
      "Epoch 112/1000\n",
      "\u001b[1m5/5\u001b[0m \u001b[32m━━━━━━━━━━━━━━━━━━━━\u001b[0m\u001b[37m\u001b[0m \u001b[1m0s\u001b[0m 68ms/step - loss: 0.6313 - mape: 13.2377 - r2_score: -0.4647 - val_loss: 0.6221 - val_mape: 13.6215 - val_r2_score: -0.0298 - learning_rate: 0.0010\n",
      "Epoch 113/1000\n",
      "\u001b[1m5/5\u001b[0m \u001b[32m━━━━━━━━━━━━━━━━━━━━\u001b[0m\u001b[37m\u001b[0m \u001b[1m0s\u001b[0m 69ms/step - loss: 0.5410 - mape: 11.6612 - r2_score: 0.0183 - val_loss: 0.5500 - val_mape: 11.4832 - val_r2_score: 0.1100 - learning_rate: 0.0010\n",
      "Epoch 114/1000\n",
      "\u001b[1m5/5\u001b[0m \u001b[32m━━━━━━━━━━━━━━━━━━━━\u001b[0m\u001b[37m\u001b[0m \u001b[1m0s\u001b[0m 66ms/step - loss: 0.6334 - mape: 13.6449 - r2_score: -0.2091 - val_loss: 0.5346 - val_mape: 10.8819 - val_r2_score: 0.0243 - learning_rate: 0.0010\n",
      "Epoch 115/1000\n",
      "\u001b[1m5/5\u001b[0m \u001b[32m━━━━━━━━━━━━━━━━━━━━\u001b[0m\u001b[37m\u001b[0m \u001b[1m0s\u001b[0m 66ms/step - loss: 0.5282 - mape: 11.5234 - r2_score: 0.0383 - val_loss: 0.5432 - val_mape: 11.6374 - val_r2_score: 0.1384 - learning_rate: 0.0010\n",
      "Epoch 116/1000\n",
      "\u001b[1m5/5\u001b[0m \u001b[32m━━━━━━━━━━━━━━━━━━━━\u001b[0m\u001b[37m\u001b[0m \u001b[1m0s\u001b[0m 69ms/step - loss: 0.6889 - mape: 14.6752 - r2_score: -0.3041 - val_loss: 0.6618 - val_mape: 14.5671 - val_r2_score: -0.1351 - learning_rate: 0.0010\n",
      "Epoch 117/1000\n",
      "\u001b[1m5/5\u001b[0m \u001b[32m━━━━━━━━━━━━━━━━━━━━\u001b[0m\u001b[37m\u001b[0m \u001b[1m0s\u001b[0m 73ms/step - loss: 0.5568 - mape: 11.8645 - r2_score: -0.1217 - val_loss: 0.5696 - val_mape: 12.2488 - val_r2_score: 0.1756 - learning_rate: 0.0010\n",
      "Epoch 118/1000\n",
      "\u001b[1m5/5\u001b[0m \u001b[32m━━━━━━━━━━━━━━━━━━━━\u001b[0m\u001b[37m\u001b[0m \u001b[1m0s\u001b[0m 66ms/step - loss: 0.4837 - mape: 10.4510 - r2_score: 0.0883 - val_loss: 0.5038 - val_mape: 10.1906 - val_r2_score: 0.1748 - learning_rate: 0.0010\n",
      "Epoch 119/1000\n",
      "\u001b[1m5/5\u001b[0m \u001b[32m━━━━━━━━━━━━━━━━━━━━\u001b[0m\u001b[37m\u001b[0m \u001b[1m0s\u001b[0m 65ms/step - loss: 0.5903 - mape: 13.0021 - r2_score: -0.0502 - val_loss: 0.5534 - val_mape: 11.5772 - val_r2_score: 0.1562 - learning_rate: 0.0010\n",
      "Epoch 120/1000\n",
      "\u001b[1m5/5\u001b[0m \u001b[32m━━━━━━━━━━━━━━━━━━━━\u001b[0m\u001b[37m\u001b[0m \u001b[1m0s\u001b[0m 65ms/step - loss: 0.4370 - mape: 9.5090 - r2_score: 0.3807 - val_loss: 0.5445 - val_mape: 11.6082 - val_r2_score: 0.2270 - learning_rate: 0.0010\n",
      "Epoch 121/1000\n",
      "\u001b[1m5/5\u001b[0m \u001b[32m━━━━━━━━━━━━━━━━━━━━\u001b[0m\u001b[37m\u001b[0m \u001b[1m0s\u001b[0m 82ms/step - loss: 0.4976 - mape: 11.0073 - r2_score: 0.2247 - val_loss: 0.5602 - val_mape: 11.9405 - val_r2_score: 0.2634 - learning_rate: 0.0010\n",
      "Epoch 122/1000\n",
      "\u001b[1m5/5\u001b[0m \u001b[32m━━━━━━━━━━━━━━━━━━━━\u001b[0m\u001b[37m\u001b[0m \u001b[1m0s\u001b[0m 69ms/step - loss: 0.4272 - mape: 9.6554 - r2_score: 0.3009 - val_loss: 0.5386 - val_mape: 11.8920 - val_r2_score: 0.2072 - learning_rate: 0.0010\n",
      "Epoch 123/1000\n",
      "\u001b[1m5/5\u001b[0m \u001b[32m━━━━━━━━━━━━━━━━━━━━\u001b[0m\u001b[37m\u001b[0m \u001b[1m1s\u001b[0m 84ms/step - loss: 0.3799 - mape: 8.3250 - r2_score: 0.4807 - val_loss: 0.5530 - val_mape: 12.4434 - val_r2_score: 0.0579 - learning_rate: 0.0010\n",
      "Epoch 124/1000\n",
      "\u001b[1m5/5\u001b[0m \u001b[32m━━━━━━━━━━━━━━━━━━━━\u001b[0m\u001b[37m\u001b[0m \u001b[1m0s\u001b[0m 84ms/step - loss: 0.4866 - mape: 10.4008 - r2_score: 0.1590 - val_loss: 0.4849 - val_mape: 10.2123 - val_r2_score: 0.2800 - learning_rate: 0.0010\n",
      "Epoch 125/1000\n",
      "\u001b[1m5/5\u001b[0m \u001b[32m━━━━━━━━━━━━━━━━━━━━\u001b[0m\u001b[37m\u001b[0m \u001b[1m0s\u001b[0m 80ms/step - loss: 0.6132 - mape: 13.0549 - r2_score: -0.2777 - val_loss: 0.5152 - val_mape: 10.8166 - val_r2_score: 0.3285 - learning_rate: 0.0010\n",
      "Epoch 126/1000\n",
      "\u001b[1m5/5\u001b[0m \u001b[32m━━━━━━━━━━━━━━━━━━━━\u001b[0m\u001b[37m\u001b[0m \u001b[1m0s\u001b[0m 90ms/step - loss: 0.4542 - mape: 9.8494 - r2_score: 0.3353 - val_loss: 0.4581 - val_mape: 9.3866 - val_r2_score: 0.3393 - learning_rate: 0.0010\n",
      "Epoch 127/1000\n",
      "\u001b[1m5/5\u001b[0m \u001b[32m━━━━━━━━━━━━━━━━━━━━\u001b[0m\u001b[37m\u001b[0m \u001b[1m0s\u001b[0m 70ms/step - loss: 0.5154 - mape: 10.7422 - r2_score: 0.2690 - val_loss: 0.4894 - val_mape: 10.1042 - val_r2_score: 0.1577 - learning_rate: 0.0010\n",
      "Epoch 128/1000\n",
      "\u001b[1m5/5\u001b[0m \u001b[32m━━━━━━━━━━━━━━━━━━━━\u001b[0m\u001b[37m\u001b[0m \u001b[1m0s\u001b[0m 67ms/step - loss: 0.4606 - mape: 9.9740 - r2_score: 0.3079 - val_loss: 0.5161 - val_mape: 11.0600 - val_r2_score: 0.1459 - learning_rate: 0.0010\n",
      "Epoch 129/1000\n",
      "\u001b[1m5/5\u001b[0m \u001b[32m━━━━━━━━━━━━━━━━━━━━\u001b[0m\u001b[37m\u001b[0m \u001b[1m0s\u001b[0m 66ms/step - loss: 0.4734 - mape: 10.1062 - r2_score: 0.4114 - val_loss: 0.5525 - val_mape: 11.7621 - val_r2_score: 0.2496 - learning_rate: 0.0010\n",
      "Epoch 130/1000\n",
      "\u001b[1m5/5\u001b[0m \u001b[32m━━━━━━━━━━━━━━━━━━━━\u001b[0m\u001b[37m\u001b[0m \u001b[1m0s\u001b[0m 68ms/step - loss: 0.4591 - mape: 9.8620 - r2_score: 0.3323 - val_loss: 0.5446 - val_mape: 11.4737 - val_r2_score: 0.2342 - learning_rate: 0.0010\n",
      "Epoch 131/1000\n",
      "\u001b[1m5/5\u001b[0m \u001b[32m━━━━━━━━━━━━━━━━━━━━\u001b[0m\u001b[37m\u001b[0m \u001b[1m0s\u001b[0m 67ms/step - loss: 0.4003 - mape: 8.8596 - r2_score: 0.5116 - val_loss: 0.5970 - val_mape: 12.6911 - val_r2_score: 0.0290 - learning_rate: 0.0010\n",
      "Epoch 132/1000\n",
      "\u001b[1m5/5\u001b[0m \u001b[32m━━━━━━━━━━━━━━━━━━━━\u001b[0m\u001b[37m\u001b[0m \u001b[1m0s\u001b[0m 65ms/step - loss: 0.6460 - mape: 14.1567 - r2_score: -0.4237 - val_loss: 0.6325 - val_mape: 13.6284 - val_r2_score: -0.0522 - learning_rate: 0.0010\n",
      "Epoch 133/1000\n",
      "\u001b[1m5/5\u001b[0m \u001b[32m━━━━━━━━━━━━━━━━━━━━\u001b[0m\u001b[37m\u001b[0m \u001b[1m0s\u001b[0m 66ms/step - loss: 0.3720 - mape: 8.0385 - r2_score: 0.5136 - val_loss: 0.5830 - val_mape: 13.2393 - val_r2_score: -0.0371 - learning_rate: 0.0010\n",
      "Epoch 134/1000\n",
      "\u001b[1m5/5\u001b[0m \u001b[32m━━━━━━━━━━━━━━━━━━━━\u001b[0m\u001b[37m\u001b[0m \u001b[1m0s\u001b[0m 66ms/step - loss: 0.5497 - mape: 12.1970 - r2_score: -0.0827 - val_loss: 0.5731 - val_mape: 12.6181 - val_r2_score: 0.0436 - learning_rate: 0.0010\n",
      "Epoch 135/1000\n",
      "\u001b[1m5/5\u001b[0m \u001b[32m━━━━━━━━━━━━━━━━━━━━\u001b[0m\u001b[37m\u001b[0m \u001b[1m0s\u001b[0m 74ms/step - loss: 0.5568 - mape: 12.0673 - r2_score: -0.1985 - val_loss: 0.5691 - val_mape: 12.1091 - val_r2_score: 0.0684 - learning_rate: 0.0010\n",
      "Epoch 136/1000\n",
      "\u001b[1m5/5\u001b[0m \u001b[32m━━━━━━━━━━━━━━━━━━━━\u001b[0m\u001b[37m\u001b[0m \u001b[1m0s\u001b[0m 73ms/step - loss: 0.5573 - mape: 11.9848 - r2_score: 0.0514 - val_loss: 0.6043 - val_mape: 12.9691 - val_r2_score: 0.0187 - learning_rate: 0.0010\n",
      "Epoch 137/1000\n",
      "\u001b[1m5/5\u001b[0m \u001b[32m━━━━━━━━━━━━━━━━━━━━\u001b[0m\u001b[37m\u001b[0m \u001b[1m0s\u001b[0m 67ms/step - loss: 0.4868 - mape: 10.7034 - r2_score: 0.0973 - val_loss: 0.5556 - val_mape: 12.0920 - val_r2_score: 0.0321 - learning_rate: 0.0010\n",
      "Epoch 138/1000\n",
      "\u001b[1m5/5\u001b[0m \u001b[32m━━━━━━━━━━━━━━━━━━━━\u001b[0m\u001b[37m\u001b[0m \u001b[1m0s\u001b[0m 66ms/step - loss: 0.4962 - mape: 10.8903 - r2_score: 0.1821 - val_loss: 0.5731 - val_mape: 12.1905 - val_r2_score: 0.0101 - learning_rate: 0.0010\n",
      "Epoch 139/1000\n",
      "\u001b[1m5/5\u001b[0m \u001b[32m━━━━━━━━━━━━━━━━━━━━\u001b[0m\u001b[37m\u001b[0m \u001b[1m0s\u001b[0m 69ms/step - loss: 0.4939 - mape: 10.7756 - r2_score: 0.1009 - val_loss: 0.5810 - val_mape: 12.4058 - val_r2_score: 0.1699 - learning_rate: 0.0010\n",
      "Epoch 140/1000\n",
      "\u001b[1m5/5\u001b[0m \u001b[32m━━━━━━━━━━━━━━━━━━━━\u001b[0m\u001b[37m\u001b[0m \u001b[1m0s\u001b[0m 68ms/step - loss: 0.5034 - mape: 10.5964 - r2_score: 0.1650 - val_loss: 0.6145 - val_mape: 13.5446 - val_r2_score: 0.0948 - learning_rate: 0.0010\n",
      "Epoch 141/1000\n",
      "\u001b[1m5/5\u001b[0m \u001b[32m━━━━━━━━━━━━━━━━━━━━\u001b[0m\u001b[37m\u001b[0m \u001b[1m0s\u001b[0m 66ms/step - loss: 0.5529 - mape: 11.9161 - r2_score: 0.0742 - val_loss: 0.6675 - val_mape: 14.8243 - val_r2_score: -0.0602 - learning_rate: 0.0010\n",
      "Epoch 142/1000\n",
      "\u001b[1m5/5\u001b[0m \u001b[32m━━━━━━━━━━━━━━━━━━━━\u001b[0m\u001b[37m\u001b[0m \u001b[1m0s\u001b[0m 71ms/step - loss: 0.5667 - mape: 12.3486 - r2_score: -0.0675 - val_loss: 0.6695 - val_mape: 15.2183 - val_r2_score: -0.1142 - learning_rate: 0.0010\n",
      "Epoch 143/1000\n",
      "\u001b[1m5/5\u001b[0m \u001b[32m━━━━━━━━━━━━━━━━━━━━\u001b[0m\u001b[37m\u001b[0m \u001b[1m0s\u001b[0m 66ms/step - loss: 0.4583 - mape: 10.3511 - r2_score: 0.3172 - val_loss: 0.5411 - val_mape: 11.9555 - val_r2_score: 0.2176 - learning_rate: 0.0010\n",
      "Epoch 144/1000\n",
      "\u001b[1m5/5\u001b[0m \u001b[32m━━━━━━━━━━━━━━━━━━━━\u001b[0m\u001b[37m\u001b[0m \u001b[1m0s\u001b[0m 68ms/step - loss: 0.5734 - mape: 12.4368 - r2_score: 0.0266 - val_loss: 0.4849 - val_mape: 10.4111 - val_r2_score: 0.3241 - learning_rate: 0.0010\n",
      "Epoch 145/1000\n",
      "\u001b[1m5/5\u001b[0m \u001b[32m━━━━━━━━━━━━━━━━━━━━\u001b[0m\u001b[37m\u001b[0m \u001b[1m0s\u001b[0m 88ms/step - loss: 0.5457 - mape: 12.0063 - r2_score: 0.0179 - val_loss: 0.4785 - val_mape: 10.2575 - val_r2_score: 0.4127 - learning_rate: 0.0010\n",
      "Epoch 146/1000\n",
      "\u001b[1m5/5\u001b[0m \u001b[32m━━━━━━━━━━━━━━━━━━━━\u001b[0m\u001b[37m\u001b[0m \u001b[1m0s\u001b[0m 71ms/step - loss: 0.4674 - mape: 10.3165 - r2_score: 0.2923 - val_loss: 0.5625 - val_mape: 12.2796 - val_r2_score: 0.2362 - learning_rate: 0.0010\n",
      "Epoch 147/1000\n",
      "\u001b[1m5/5\u001b[0m \u001b[32m━━━━━━━━━━━━━━━━━━━━\u001b[0m\u001b[37m\u001b[0m \u001b[1m1s\u001b[0m 86ms/step - loss: 0.5317 - mape: 11.6186 - r2_score: -0.0601 - val_loss: 0.5564 - val_mape: 12.1389 - val_r2_score: 0.2258 - learning_rate: 0.0010\n",
      "Epoch 148/1000\n",
      "\u001b[1m5/5\u001b[0m \u001b[32m━━━━━━━━━━━━━━━━━━━━\u001b[0m\u001b[37m\u001b[0m \u001b[1m0s\u001b[0m 75ms/step - loss: 0.4838 - mape: 10.7546 - r2_score: 0.2056 - val_loss: 0.4808 - val_mape: 10.0002 - val_r2_score: 0.3789 - learning_rate: 0.0010\n",
      "Epoch 149/1000\n",
      "\u001b[1m5/5\u001b[0m \u001b[32m━━━━━━━━━━━━━━━━━━━━\u001b[0m\u001b[37m\u001b[0m \u001b[1m0s\u001b[0m 65ms/step - loss: 0.5666 - mape: 12.9435 - r2_score: -0.2157 - val_loss: 0.5222 - val_mape: 10.8326 - val_r2_score: 0.1117 - learning_rate: 0.0010\n",
      "Epoch 150/1000\n",
      "\u001b[1m5/5\u001b[0m \u001b[32m━━━━━━━━━━━━━━━━━━━━\u001b[0m\u001b[37m\u001b[0m \u001b[1m0s\u001b[0m 66ms/step - loss: 0.4627 - mape: 9.8663 - r2_score: 0.2579 - val_loss: 0.4915 - val_mape: 10.3449 - val_r2_score: 0.2411 - learning_rate: 0.0010\n",
      "Epoch 151/1000\n",
      "\u001b[1m5/5\u001b[0m \u001b[32m━━━━━━━━━━━━━━━━━━━━\u001b[0m\u001b[37m\u001b[0m \u001b[1m0s\u001b[0m 65ms/step - loss: 0.4060 - mape: 8.6252 - r2_score: 0.4686 - val_loss: 0.5989 - val_mape: 13.0429 - val_r2_score: 0.0159 - learning_rate: 0.0010\n",
      "Epoch 152/1000\n",
      "\u001b[1m5/5\u001b[0m \u001b[32m━━━━━━━━━━━━━━━━━━━━\u001b[0m\u001b[37m\u001b[0m \u001b[1m0s\u001b[0m 74ms/step - loss: 0.4790 - mape: 10.4175 - r2_score: 0.3362 - val_loss: 0.6663 - val_mape: 14.2676 - val_r2_score: -0.2119 - learning_rate: 0.0010\n",
      "Epoch 153/1000\n",
      "\u001b[1m5/5\u001b[0m \u001b[32m━━━━━━━━━━━━━━━━━━━━\u001b[0m\u001b[37m\u001b[0m \u001b[1m0s\u001b[0m 72ms/step - loss: 0.4889 - mape: 10.6743 - r2_score: 0.1343 - val_loss: 0.5751 - val_mape: 11.9799 - val_r2_score: 0.0601 - learning_rate: 0.0010\n",
      "Epoch 154/1000\n",
      "\u001b[1m5/5\u001b[0m \u001b[32m━━━━━━━━━━━━━━━━━━━━\u001b[0m\u001b[37m\u001b[0m \u001b[1m0s\u001b[0m 69ms/step - loss: 0.4097 - mape: 8.6486 - r2_score: 0.4605 - val_loss: 0.5147 - val_mape: 11.0583 - val_r2_score: 0.2790 - learning_rate: 0.0010\n",
      "Epoch 155/1000\n",
      "\u001b[1m5/5\u001b[0m \u001b[32m━━━━━━━━━━━━━━━━━━━━\u001b[0m\u001b[37m\u001b[0m \u001b[1m0s\u001b[0m 67ms/step - loss: 0.4325 - mape: 9.0324 - r2_score: 0.4671 - val_loss: 0.5697 - val_mape: 12.0819 - val_r2_score: 0.0490 - learning_rate: 0.0010\n",
      "Epoch 156/1000\n",
      "\u001b[1m5/5\u001b[0m \u001b[32m━━━━━━━━━━━━━━━━━━━━\u001b[0m\u001b[37m\u001b[0m \u001b[1m0s\u001b[0m 66ms/step - loss: 0.6522 - mape: 13.7501 - r2_score: -0.4188 - val_loss: 0.5544 - val_mape: 11.9997 - val_r2_score: 0.0457 - learning_rate: 0.0010\n",
      "Epoch 157/1000\n",
      "\u001b[1m5/5\u001b[0m \u001b[32m━━━━━━━━━━━━━━━━━━━━\u001b[0m\u001b[37m\u001b[0m \u001b[1m0s\u001b[0m 67ms/step - loss: 0.4631 - mape: 9.7369 - r2_score: 0.4327 - val_loss: 0.5223 - val_mape: 11.4122 - val_r2_score: 0.2332 - learning_rate: 0.0010\n",
      "Epoch 158/1000\n",
      "\u001b[1m5/5\u001b[0m \u001b[32m━━━━━━━━━━━━━━━━━━━━\u001b[0m\u001b[37m\u001b[0m \u001b[1m0s\u001b[0m 69ms/step - loss: 0.4846 - mape: 10.6622 - r2_score: 0.2415 - val_loss: 0.6034 - val_mape: 13.2620 - val_r2_score: 0.0190 - learning_rate: 0.0010\n",
      "Epoch 159/1000\n",
      "\u001b[1m5/5\u001b[0m \u001b[32m━━━━━━━━━━━━━━━━━━━━\u001b[0m\u001b[37m\u001b[0m \u001b[1m0s\u001b[0m 68ms/step - loss: 0.6162 - mape: 13.6837 - r2_score: -0.2688 - val_loss: 0.4789 - val_mape: 9.7613 - val_r2_score: 0.2460 - learning_rate: 0.0010\n",
      "Epoch 160/1000\n",
      "\u001b[1m5/5\u001b[0m \u001b[32m━━━━━━━━━━━━━━━━━━━━\u001b[0m\u001b[37m\u001b[0m \u001b[1m0s\u001b[0m 68ms/step - loss: 0.5187 - mape: 11.2687 - r2_score: 0.2055 - val_loss: 0.5695 - val_mape: 12.0843 - val_r2_score: 0.0460 - learning_rate: 0.0010\n",
      "Epoch 161/1000\n",
      "\u001b[1m5/5\u001b[0m \u001b[32m━━━━━━━━━━━━━━━━━━━━\u001b[0m\u001b[37m\u001b[0m \u001b[1m0s\u001b[0m 67ms/step - loss: 0.5818 - mape: 12.9742 - r2_score: -0.1603 - val_loss: 0.5854 - val_mape: 12.3167 - val_r2_score: 0.0116 - learning_rate: 0.0010\n",
      "Epoch 162/1000\n",
      "\u001b[1m5/5\u001b[0m \u001b[32m━━━━━━━━━━━━━━━━━━━━\u001b[0m\u001b[37m\u001b[0m \u001b[1m0s\u001b[0m 72ms/step - loss: 0.5926 - mape: 12.9562 - r2_score: -0.0802 - val_loss: 0.5676 - val_mape: 12.0363 - val_r2_score: 0.1885 - learning_rate: 0.0010\n",
      "Epoch 163/1000\n",
      "\u001b[1m5/5\u001b[0m \u001b[32m━━━━━━━━━━━━━━━━━━━━\u001b[0m\u001b[37m\u001b[0m \u001b[1m0s\u001b[0m 66ms/step - loss: 0.4751 - mape: 10.4602 - r2_score: 0.2140 - val_loss: 0.5135 - val_mape: 10.8767 - val_r2_score: 0.2019 - learning_rate: 0.0010\n",
      "Epoch 164/1000\n",
      "\u001b[1m5/5\u001b[0m \u001b[32m━━━━━━━━━━━━━━━━━━━━\u001b[0m\u001b[37m\u001b[0m \u001b[1m0s\u001b[0m 66ms/step - loss: 0.3834 - mape: 8.6519 - r2_score: 0.5328 - val_loss: 0.5257 - val_mape: 10.7943 - val_r2_score: -0.0393 - learning_rate: 0.0010\n",
      "Epoch 165/1000\n",
      "\u001b[1m5/5\u001b[0m \u001b[32m━━━━━━━━━━━━━━━━━━━━\u001b[0m\u001b[37m\u001b[0m \u001b[1m0s\u001b[0m 68ms/step - loss: 0.4663 - mape: 10.0535 - r2_score: 0.3039 - val_loss: 0.4828 - val_mape: 9.7744 - val_r2_score: 0.2157 - learning_rate: 0.0010\n",
      "Epoch 166/1000\n",
      "\u001b[1m5/5\u001b[0m \u001b[32m━━━━━━━━━━━━━━━━━━━━\u001b[0m\u001b[37m\u001b[0m \u001b[1m0s\u001b[0m 71ms/step - loss: 0.6333 - mape: 13.7805 - r2_score: -0.3468 - val_loss: 0.4611 - val_mape: 9.2749 - val_r2_score: 0.3639 - learning_rate: 0.0010\n",
      "Epoch 167/1000\n",
      "\u001b[1m5/5\u001b[0m \u001b[32m━━━━━━━━━━━━━━━━━━━━\u001b[0m\u001b[37m\u001b[0m \u001b[1m0s\u001b[0m 69ms/step - loss: 0.4515 - mape: 9.9786 - r2_score: 0.3732 - val_loss: 0.4676 - val_mape: 9.4393 - val_r2_score: 0.4024 - learning_rate: 0.0010\n",
      "Epoch 168/1000\n",
      "\u001b[1m5/5\u001b[0m \u001b[32m━━━━━━━━━━━━━━━━━━━━\u001b[0m\u001b[37m\u001b[0m \u001b[1m0s\u001b[0m 70ms/step - loss: 0.4774 - mape: 10.7070 - r2_score: 0.1182 - val_loss: 0.5046 - val_mape: 10.5345 - val_r2_score: 0.3416 - learning_rate: 0.0010\n",
      "Epoch 169/1000\n",
      "\u001b[1m5/5\u001b[0m \u001b[32m━━━━━━━━━━━━━━━━━━━━\u001b[0m\u001b[37m\u001b[0m \u001b[1m0s\u001b[0m 65ms/step - loss: 0.5500 - mape: 12.0704 - r2_score: 0.1227 - val_loss: 0.5059 - val_mape: 10.5218 - val_r2_score: 0.2870 - learning_rate: 0.0010\n",
      "Epoch 170/1000\n",
      "\u001b[1m5/5\u001b[0m \u001b[32m━━━━━━━━━━━━━━━━━━━━\u001b[0m\u001b[37m\u001b[0m \u001b[1m0s\u001b[0m 67ms/step - loss: 0.4623 - mape: 10.0294 - r2_score: 0.3913 - val_loss: 0.5351 - val_mape: 11.3267 - val_r2_score: 0.2201 - learning_rate: 0.0010\n",
      "Epoch 171/1000\n",
      "\u001b[1m5/5\u001b[0m \u001b[32m━━━━━━━━━━━━━━━━━━━━\u001b[0m\u001b[37m\u001b[0m \u001b[1m0s\u001b[0m 68ms/step - loss: 0.4892 - mape: 10.8855 - r2_score: 0.2517 - val_loss: 0.5464 - val_mape: 11.9008 - val_r2_score: 0.2465 - learning_rate: 0.0010\n",
      "Epoch 172/1000\n",
      "\u001b[1m5/5\u001b[0m \u001b[32m━━━━━━━━━━━━━━━━━━━━\u001b[0m\u001b[37m\u001b[0m \u001b[1m0s\u001b[0m 67ms/step - loss: 0.4990 - mape: 11.3909 - r2_score: 0.1202 - val_loss: 0.5405 - val_mape: 12.0303 - val_r2_score: 0.3086 - learning_rate: 0.0010\n",
      "Epoch 173/1000\n",
      "\u001b[1m5/5\u001b[0m \u001b[32m━━━━━━━━━━━━━━━━━━━━\u001b[0m\u001b[37m\u001b[0m \u001b[1m0s\u001b[0m 65ms/step - loss: 0.4809 - mape: 10.6725 - r2_score: 0.3221 - val_loss: 0.5053 - val_mape: 11.0436 - val_r2_score: 0.4048 - learning_rate: 0.0010\n",
      "Epoch 174/1000\n",
      "\u001b[1m5/5\u001b[0m \u001b[32m━━━━━━━━━━━━━━━━━━━━\u001b[0m\u001b[37m\u001b[0m \u001b[1m0s\u001b[0m 68ms/step - loss: 0.5034 - mape: 11.5876 - r2_score: 0.1354 - val_loss: 0.5201 - val_mape: 11.4873 - val_r2_score: 0.3758 - learning_rate: 0.0010\n",
      "Epoch 175/1000\n",
      "\u001b[1m5/5\u001b[0m \u001b[32m━━━━━━━━━━━━━━━━━━━━\u001b[0m\u001b[37m\u001b[0m \u001b[1m0s\u001b[0m 76ms/step - loss: 0.4824 - mape: 10.4332 - r2_score: 0.2870 - val_loss: 0.5465 - val_mape: 12.2015 - val_r2_score: 0.2640 - learning_rate: 0.0010\n",
      "Epoch 176/1000\n",
      "\u001b[1m5/5\u001b[0m \u001b[32m━━━━━━━━━━━━━━━━━━━━\u001b[0m\u001b[37m\u001b[0m \u001b[1m0s\u001b[0m 74ms/step - loss: 0.5821 - mape: 12.5773 - r2_score: -0.0076 - val_loss: 0.5371 - val_mape: 11.6734 - val_r2_score: 0.2703 - learning_rate: 0.0010\n",
      "Epoch 177/1000\n",
      "\u001b[1m5/5\u001b[0m \u001b[32m━━━━━━━━━━━━━━━━━━━━\u001b[0m\u001b[37m\u001b[0m \u001b[1m0s\u001b[0m 67ms/step - loss: 0.4749 - mape: 10.3551 - r2_score: 0.3640 - val_loss: 0.5081 - val_mape: 10.9135 - val_r2_score: 0.3057 - learning_rate: 0.0010\n",
      "Epoch 178/1000\n",
      "\u001b[1m5/5\u001b[0m \u001b[32m━━━━━━━━━━━━━━━━━━━━\u001b[0m\u001b[37m\u001b[0m \u001b[1m0s\u001b[0m 69ms/step - loss: 0.4960 - mape: 10.6958 - r2_score: 0.1567 - val_loss: 0.5058 - val_mape: 10.6180 - val_r2_score: 0.1794 - learning_rate: 0.0010\n",
      "Epoch 179/1000\n",
      "\u001b[1m5/5\u001b[0m \u001b[32m━━━━━━━━━━━━━━━━━━━━\u001b[0m\u001b[37m\u001b[0m \u001b[1m0s\u001b[0m 68ms/step - loss: 0.4306 - mape: 9.4330 - r2_score: 0.4434 - val_loss: 0.5039 - val_mape: 10.3567 - val_r2_score: 0.1280 - learning_rate: 0.0010\n",
      "Epoch 180/1000\n",
      "\u001b[1m5/5\u001b[0m \u001b[32m━━━━━━━━━━━━━━━━━━━━\u001b[0m\u001b[37m\u001b[0m \u001b[1m0s\u001b[0m 70ms/step - loss: 0.6546 - mape: 14.2219 - r2_score: -0.2118 - val_loss: 0.5352 - val_mape: 11.2840 - val_r2_score: 0.2342 - learning_rate: 0.0010\n",
      "Epoch 181/1000\n",
      "\u001b[1m5/5\u001b[0m \u001b[32m━━━━━━━━━━━━━━━━━━━━\u001b[0m\u001b[37m\u001b[0m \u001b[1m0s\u001b[0m 70ms/step - loss: 0.4721 - mape: 10.4295 - r2_score: 0.2966 - val_loss: 0.4427 - val_mape: 8.8441 - val_r2_score: 0.4091 - learning_rate: 0.0010\n",
      "Epoch 182/1000\n",
      "\u001b[1m5/5\u001b[0m \u001b[32m━━━━━━━━━━━━━━━━━━━━\u001b[0m\u001b[37m\u001b[0m \u001b[1m0s\u001b[0m 68ms/step - loss: 0.5340 - mape: 11.9730 - r2_score: -0.1334 - val_loss: 0.5014 - val_mape: 10.6641 - val_r2_score: 0.2997 - learning_rate: 0.0010\n",
      "Epoch 183/1000\n",
      "\u001b[1m5/5\u001b[0m \u001b[32m━━━━━━━━━━━━━━━━━━━━\u001b[0m\u001b[37m\u001b[0m \u001b[1m0s\u001b[0m 68ms/step - loss: 0.3986 - mape: 8.4752 - r2_score: 0.3895 - val_loss: 0.5187 - val_mape: 11.2412 - val_r2_score: 0.2268 - learning_rate: 0.0010\n",
      "Epoch 184/1000\n",
      "\u001b[1m5/5\u001b[0m \u001b[32m━━━━━━━━━━━━━━━━━━━━\u001b[0m\u001b[37m\u001b[0m \u001b[1m0s\u001b[0m 68ms/step - loss: 0.5094 - mape: 10.9744 - r2_score: 0.0782 - val_loss: 0.4891 - val_mape: 10.1220 - val_r2_score: 0.2018 - learning_rate: 0.0010\n",
      "Epoch 185/1000\n",
      "\u001b[1m5/5\u001b[0m \u001b[32m━━━━━━━━━━━━━━━━━━━━\u001b[0m\u001b[37m\u001b[0m \u001b[1m0s\u001b[0m 69ms/step - loss: 0.5593 - mape: 12.2139 - r2_score: -0.0239 - val_loss: 0.5203 - val_mape: 10.8531 - val_r2_score: 0.0848 - learning_rate: 0.0010\n",
      "Epoch 186/1000\n",
      "\u001b[1m5/5\u001b[0m \u001b[32m━━━━━━━━━━━━━━━━━━━━\u001b[0m\u001b[37m\u001b[0m \u001b[1m0s\u001b[0m 67ms/step - loss: 0.4635 - mape: 10.3005 - r2_score: 0.2778 - val_loss: 0.5238 - val_mape: 10.9591 - val_r2_score: 0.1085 - learning_rate: 0.0010\n",
      "Epoch 187/1000\n",
      "\u001b[1m5/5\u001b[0m \u001b[32m━━━━━━━━━━━━━━━━━━━━\u001b[0m\u001b[37m\u001b[0m \u001b[1m0s\u001b[0m 67ms/step - loss: 0.4125 - mape: 9.3683 - r2_score: 0.3546 - val_loss: 0.5220 - val_mape: 11.0963 - val_r2_score: 0.1818 - learning_rate: 0.0010\n",
      "Epoch 188/1000\n",
      "\u001b[1m5/5\u001b[0m \u001b[32m━━━━━━━━━━━━━━━━━━━━\u001b[0m\u001b[37m\u001b[0m \u001b[1m0s\u001b[0m 68ms/step - loss: 0.4507 - mape: 9.9322 - r2_score: 0.2917 - val_loss: 0.5651 - val_mape: 12.3138 - val_r2_score: 0.0222 - learning_rate: 0.0010\n",
      "Epoch 189/1000\n",
      "\u001b[1m5/5\u001b[0m \u001b[32m━━━━━━━━━━━━━━━━━━━━\u001b[0m\u001b[37m\u001b[0m \u001b[1m0s\u001b[0m 66ms/step - loss: 0.5843 - mape: 12.7587 - r2_score: -0.0834 - val_loss: 0.5000 - val_mape: 10.3402 - val_r2_score: 0.1385 - learning_rate: 0.0010\n",
      "Epoch 190/1000\n",
      "\u001b[1m5/5\u001b[0m \u001b[32m━━━━━━━━━━━━━━━━━━━━\u001b[0m\u001b[37m\u001b[0m \u001b[1m0s\u001b[0m 72ms/step - loss: 0.5261 - mape: 11.8821 - r2_score: -0.0943 - val_loss: 0.4765 - val_mape: 9.9346 - val_r2_score: 0.3193 - learning_rate: 0.0010\n",
      "Epoch 191/1000\n",
      "\u001b[1m5/5\u001b[0m \u001b[32m━━━━━━━━━━━━━━━━━━━━\u001b[0m\u001b[37m\u001b[0m \u001b[1m0s\u001b[0m 73ms/step - loss: 0.3826 - mape: 8.7114 - r2_score: 0.4627 - val_loss: 0.5147 - val_mape: 10.8976 - val_r2_score: 0.2241 - learning_rate: 0.0010\n",
      "Epoch 192/1000\n",
      "\u001b[1m5/5\u001b[0m \u001b[32m━━━━━━━━━━━━━━━━━━━━\u001b[0m\u001b[37m\u001b[0m \u001b[1m0s\u001b[0m 70ms/step - loss: 0.4753 - mape: 10.6303 - r2_score: 0.2575 - val_loss: 0.5079 - val_mape: 10.6473 - val_r2_score: 0.1940 - learning_rate: 0.0010\n",
      "Epoch 193/1000\n",
      "\u001b[1m5/5\u001b[0m \u001b[32m━━━━━━━━━━━━━━━━━━━━\u001b[0m\u001b[37m\u001b[0m \u001b[1m0s\u001b[0m 70ms/step - loss: 0.3963 - mape: 8.4443 - r2_score: 0.4680 - val_loss: 0.5087 - val_mape: 10.9096 - val_r2_score: 0.2165 - learning_rate: 0.0010\n",
      "Epoch 194/1000\n",
      "\u001b[1m5/5\u001b[0m \u001b[32m━━━━━━━━━━━━━━━━━━━━\u001b[0m\u001b[37m\u001b[0m \u001b[1m1s\u001b[0m 78ms/step - loss: 0.4328 - mape: 9.6994 - r2_score: 0.3940 - val_loss: 0.5809 - val_mape: 12.7174 - val_r2_score: 0.1635 - learning_rate: 0.0010\n",
      "Epoch 195/1000\n",
      "\u001b[1m5/5\u001b[0m \u001b[32m━━━━━━━━━━━━━━━━━━━━\u001b[0m\u001b[37m\u001b[0m \u001b[1m0s\u001b[0m 63ms/step - loss: 0.4441 - mape: 9.3992 - r2_score: 0.3491 - val_loss: 0.5810 - val_mape: 12.9498 - val_r2_score: -0.0081 - learning_rate: 0.0010\n",
      "Epoch 196/1000\n",
      "\u001b[1m5/5\u001b[0m \u001b[32m━━━━━━━━━━━━━━━━━━━━\u001b[0m\u001b[37m\u001b[0m \u001b[1m0s\u001b[0m 68ms/step - loss: 0.4851 - mape: 10.7247 - r2_score: 0.2478 - val_loss: 0.5299 - val_mape: 11.3009 - val_r2_score: 0.0723 - learning_rate: 0.0010\n",
      "Epoch 197/1000\n",
      "\u001b[1m5/5\u001b[0m \u001b[32m━━━━━━━━━━━━━━━━━━━━\u001b[0m\u001b[37m\u001b[0m \u001b[1m0s\u001b[0m 65ms/step - loss: 0.4169 - mape: 8.8612 - r2_score: 0.4127 - val_loss: 0.4946 - val_mape: 10.1874 - val_r2_score: 0.1795 - learning_rate: 0.0010\n",
      "Epoch 198/1000\n",
      "\u001b[1m5/5\u001b[0m \u001b[32m━━━━━━━━━━━━━━━━━━━━\u001b[0m\u001b[37m\u001b[0m \u001b[1m0s\u001b[0m 66ms/step - loss: 0.4667 - mape: 10.1067 - r2_score: 0.3742 - val_loss: 0.4608 - val_mape: 9.4656 - val_r2_score: 0.3056 - learning_rate: 0.0010\n",
      "Epoch 199/1000\n",
      "\u001b[1m5/5\u001b[0m \u001b[32m━━━━━━━━━━━━━━━━━━━━\u001b[0m\u001b[37m\u001b[0m \u001b[1m0s\u001b[0m 69ms/step - loss: 0.3735 - mape: 8.2118 - r2_score: 0.5418 - val_loss: 0.5303 - val_mape: 11.5404 - val_r2_score: 0.2184 - learning_rate: 0.0010\n",
      "Epoch 200/1000\n",
      "\u001b[1m5/5\u001b[0m \u001b[32m━━━━━━━━━━━━━━━━━━━━\u001b[0m\u001b[37m\u001b[0m \u001b[1m0s\u001b[0m 67ms/step - loss: 0.3962 - mape: 8.8517 - r2_score: 0.4856 - val_loss: 0.5438 - val_mape: 11.9536 - val_r2_score: 0.1474 - learning_rate: 0.0010\n",
      "Epoch 201/1000\n",
      "\u001b[1m5/5\u001b[0m \u001b[32m━━━━━━━━━━━━━━━━━━━━\u001b[0m\u001b[37m\u001b[0m \u001b[1m0s\u001b[0m 66ms/step - loss: 0.4266 - mape: 9.2405 - r2_score: 0.4468 - val_loss: 0.4873 - val_mape: 10.3541 - val_r2_score: 0.3574 - learning_rate: 0.0010\n",
      "Epoch 202/1000\n",
      "\u001b[1m5/5\u001b[0m \u001b[32m━━━━━━━━━━━━━━━━━━━━\u001b[0m\u001b[37m\u001b[0m \u001b[1m0s\u001b[0m 68ms/step - loss: 0.5295 - mape: 11.5505 - r2_score: 0.2286 - val_loss: 0.4613 - val_mape: 9.5550 - val_r2_score: 0.3778 - learning_rate: 0.0010\n",
      "Epoch 203/1000\n",
      "\u001b[1m5/5\u001b[0m \u001b[32m━━━━━━━━━━━━━━━━━━━━\u001b[0m\u001b[37m\u001b[0m \u001b[1m0s\u001b[0m 80ms/step - loss: 0.4885 - mape: 10.4875 - r2_score: 0.1846 - val_loss: 0.4313 - val_mape: 8.8386 - val_r2_score: 0.4300 - learning_rate: 0.0010\n",
      "Epoch 204/1000\n",
      "\u001b[1m5/5\u001b[0m \u001b[32m━━━━━━━━━━━━━━━━━━━━\u001b[0m\u001b[37m\u001b[0m \u001b[1m0s\u001b[0m 64ms/step - loss: 0.4458 - mape: 10.2484 - r2_score: 0.2759 - val_loss: 0.4532 - val_mape: 9.4021 - val_r2_score: 0.3870 - learning_rate: 0.0010\n",
      "Epoch 205/1000\n",
      "\u001b[1m5/5\u001b[0m \u001b[32m━━━━━━━━━━━━━━━━━━━━\u001b[0m\u001b[37m\u001b[0m \u001b[1m0s\u001b[0m 67ms/step - loss: 0.4036 - mape: 8.9036 - r2_score: 0.5110 - val_loss: 0.4465 - val_mape: 9.2156 - val_r2_score: 0.3840 - learning_rate: 0.0010\n",
      "Epoch 206/1000\n",
      "\u001b[1m5/5\u001b[0m \u001b[32m━━━━━━━━━━━━━━━━━━━━\u001b[0m\u001b[37m\u001b[0m \u001b[1m0s\u001b[0m 67ms/step - loss: 0.5040 - mape: 10.8149 - r2_score: 0.2441 - val_loss: 0.4690 - val_mape: 10.0267 - val_r2_score: 0.4164 - learning_rate: 0.0010\n",
      "Epoch 207/1000\n",
      "\u001b[1m5/5\u001b[0m \u001b[32m━━━━━━━━━━━━━━━━━━━━\u001b[0m\u001b[37m\u001b[0m \u001b[1m0s\u001b[0m 71ms/step - loss: 0.5216 - mape: 11.6314 - r2_score: 0.0844 - val_loss: 0.4664 - val_mape: 9.9138 - val_r2_score: 0.4177 - learning_rate: 0.0010\n",
      "Epoch 208/1000\n",
      "\u001b[1m5/5\u001b[0m \u001b[32m━━━━━━━━━━━━━━━━━━━━\u001b[0m\u001b[37m\u001b[0m \u001b[1m0s\u001b[0m 67ms/step - loss: 0.4953 - mape: 10.5604 - r2_score: 0.2896 - val_loss: 0.4585 - val_mape: 9.5303 - val_r2_score: 0.3960 - learning_rate: 0.0010\n",
      "Epoch 209/1000\n",
      "\u001b[1m5/5\u001b[0m \u001b[32m━━━━━━━━━━━━━━━━━━━━\u001b[0m\u001b[37m\u001b[0m \u001b[1m0s\u001b[0m 66ms/step - loss: 0.5542 - mape: 12.0430 - r2_score: 0.0382 - val_loss: 0.4807 - val_mape: 10.1848 - val_r2_score: 0.3733 - learning_rate: 0.0010\n",
      "Epoch 210/1000\n",
      "\u001b[1m5/5\u001b[0m \u001b[32m━━━━━━━━━━━━━━━━━━━━\u001b[0m\u001b[37m\u001b[0m \u001b[1m0s\u001b[0m 81ms/step - loss: 0.4493 - mape: 10.2866 - r2_score: 0.2833 - val_loss: 0.4597 - val_mape: 9.6028 - val_r2_score: 0.4438 - learning_rate: 0.0010\n",
      "Epoch 211/1000\n",
      "\u001b[1m5/5\u001b[0m \u001b[32m━━━━━━━━━━━━━━━━━━━━\u001b[0m\u001b[37m\u001b[0m \u001b[1m0s\u001b[0m 66ms/step - loss: 0.4718 - mape: 10.3237 - r2_score: 0.2871 - val_loss: 0.4681 - val_mape: 9.7166 - val_r2_score: 0.3778 - learning_rate: 0.0010\n",
      "Epoch 212/1000\n",
      "\u001b[1m5/5\u001b[0m \u001b[32m━━━━━━━━━━━━━━━━━━━━\u001b[0m\u001b[37m\u001b[0m \u001b[1m0s\u001b[0m 67ms/step - loss: 0.4724 - mape: 10.0311 - r2_score: 0.3003 - val_loss: 0.4819 - val_mape: 10.0352 - val_r2_score: 0.3580 - learning_rate: 0.0010\n",
      "Epoch 213/1000\n",
      "\u001b[1m5/5\u001b[0m \u001b[32m━━━━━━━━━━━━━━━━━━━━\u001b[0m\u001b[37m\u001b[0m \u001b[1m0s\u001b[0m 69ms/step - loss: 0.4692 - mape: 10.3294 - r2_score: 0.2976 - val_loss: 0.5098 - val_mape: 11.0943 - val_r2_score: 0.3502 - learning_rate: 0.0010\n",
      "Epoch 214/1000\n",
      "\u001b[1m5/5\u001b[0m \u001b[32m━━━━━━━━━━━━━━━━━━━━\u001b[0m\u001b[37m\u001b[0m \u001b[1m0s\u001b[0m 67ms/step - loss: 0.5461 - mape: 11.7528 - r2_score: 0.0866 - val_loss: 0.4808 - val_mape: 10.4054 - val_r2_score: 0.4417 - learning_rate: 0.0010\n",
      "Epoch 215/1000\n",
      "\u001b[1m5/5\u001b[0m \u001b[32m━━━━━━━━━━━━━━━━━━━━\u001b[0m\u001b[37m\u001b[0m \u001b[1m0s\u001b[0m 64ms/step - loss: 0.3995 - mape: 8.7534 - r2_score: 0.3090 - val_loss: 0.4757 - val_mape: 10.0502 - val_r2_score: 0.4016 - learning_rate: 0.0010\n",
      "Epoch 216/1000\n",
      "\u001b[1m5/5\u001b[0m \u001b[32m━━━━━━━━━━━━━━━━━━━━\u001b[0m\u001b[37m\u001b[0m \u001b[1m0s\u001b[0m 66ms/step - loss: 0.4620 - mape: 9.8973 - r2_score: 0.2478 - val_loss: 0.4551 - val_mape: 9.3318 - val_r2_score: 0.4002 - learning_rate: 0.0010\n",
      "Epoch 217/1000\n",
      "\u001b[1m5/5\u001b[0m \u001b[32m━━━━━━━━━━━━━━━━━━━━\u001b[0m\u001b[37m\u001b[0m \u001b[1m0s\u001b[0m 65ms/step - loss: 0.3936 - mape: 8.4935 - r2_score: 0.3472 - val_loss: 0.4642 - val_mape: 9.5587 - val_r2_score: 0.4376 - learning_rate: 0.0010\n",
      "Epoch 218/1000\n",
      "\u001b[1m5/5\u001b[0m \u001b[32m━━━━━━━━━━━━━━━━━━━━\u001b[0m\u001b[37m\u001b[0m \u001b[1m0s\u001b[0m 67ms/step - loss: 0.4124 - mape: 8.8943 - r2_score: 0.4261 - val_loss: 0.4908 - val_mape: 10.3064 - val_r2_score: 0.3237 - learning_rate: 0.0010\n",
      "Epoch 219/1000\n",
      "\u001b[1m5/5\u001b[0m \u001b[32m━━━━━━━━━━━━━━━━━━━━\u001b[0m\u001b[37m\u001b[0m \u001b[1m0s\u001b[0m 65ms/step - loss: 0.4680 - mape: 10.7393 - r2_score: 0.0862 - val_loss: 0.5105 - val_mape: 10.9247 - val_r2_score: 0.2975 - learning_rate: 0.0010\n",
      "Epoch 220/1000\n",
      "\u001b[1m5/5\u001b[0m \u001b[32m━━━━━━━━━━━━━━━━━━━━\u001b[0m\u001b[37m\u001b[0m \u001b[1m0s\u001b[0m 67ms/step - loss: 0.4293 - mape: 9.4794 - r2_score: 0.3487 - val_loss: 0.4450 - val_mape: 8.9319 - val_r2_score: 0.4232 - learning_rate: 0.0010\n",
      "Epoch 221/1000\n",
      "\u001b[1m5/5\u001b[0m \u001b[32m━━━━━━━━━━━━━━━━━━━━\u001b[0m\u001b[37m\u001b[0m \u001b[1m0s\u001b[0m 68ms/step - loss: 0.4461 - mape: 10.0549 - r2_score: 0.2239 - val_loss: 0.4807 - val_mape: 9.9099 - val_r2_score: 0.4023 - learning_rate: 0.0010\n",
      "Epoch 222/1000\n",
      "\u001b[1m5/5\u001b[0m \u001b[32m━━━━━━━━━━━━━━━━━━━━\u001b[0m\u001b[37m\u001b[0m \u001b[1m0s\u001b[0m 72ms/step - loss: 0.4424 - mape: 9.4369 - r2_score: 0.3706 - val_loss: 0.4690 - val_mape: 9.7686 - val_r2_score: 0.4164 - learning_rate: 0.0010\n",
      "Epoch 223/1000\n",
      "\u001b[1m5/5\u001b[0m \u001b[32m━━━━━━━━━━━━━━━━━━━━\u001b[0m\u001b[37m\u001b[0m \u001b[1m0s\u001b[0m 66ms/step - loss: 0.4163 - mape: 9.0413 - r2_score: 0.3885 - val_loss: 0.4756 - val_mape: 9.9192 - val_r2_score: 0.3706 - learning_rate: 0.0010\n",
      "Epoch 224/1000\n",
      "\u001b[1m5/5\u001b[0m \u001b[32m━━━━━━━━━━━━━━━━━━━━\u001b[0m\u001b[37m\u001b[0m \u001b[1m0s\u001b[0m 66ms/step - loss: 0.3531 - mape: 7.7551 - r2_score: 0.5459 - val_loss: 0.5603 - val_mape: 11.8847 - val_r2_score: 0.1506 - learning_rate: 0.0010\n",
      "Epoch 225/1000\n",
      "\u001b[1m5/5\u001b[0m \u001b[32m━━━━━━━━━━━━━━━━━━━━\u001b[0m\u001b[37m\u001b[0m \u001b[1m0s\u001b[0m 66ms/step - loss: 0.4373 - mape: 9.4086 - r2_score: 0.3660 - val_loss: 0.5112 - val_mape: 10.7117 - val_r2_score: 0.2940 - learning_rate: 0.0010\n",
      "Epoch 226/1000\n",
      "\u001b[1m5/5\u001b[0m \u001b[32m━━━━━━━━━━━━━━━━━━━━\u001b[0m\u001b[37m\u001b[0m \u001b[1m0s\u001b[0m 67ms/step - loss: 0.4758 - mape: 10.4563 - r2_score: 0.1466 - val_loss: 0.5541 - val_mape: 12.2147 - val_r2_score: 0.2614 - learning_rate: 0.0010\n",
      "Epoch 227/1000\n",
      "\u001b[1m5/5\u001b[0m \u001b[32m━━━━━━━━━━━━━━━━━━━━\u001b[0m\u001b[37m\u001b[0m \u001b[1m0s\u001b[0m 67ms/step - loss: 0.5351 - mape: 11.3961 - r2_score: 0.0576 - val_loss: 0.6183 - val_mape: 13.9082 - val_r2_score: 0.0369 - learning_rate: 0.0010\n",
      "Epoch 228/1000\n",
      "\u001b[1m5/5\u001b[0m \u001b[32m━━━━━━━━━━━━━━━━━━━━\u001b[0m\u001b[37m\u001b[0m \u001b[1m0s\u001b[0m 72ms/step - loss: 0.4213 - mape: 9.3015 - r2_score: 0.3170 - val_loss: 0.5926 - val_mape: 13.1096 - val_r2_score: 0.1698 - learning_rate: 0.0010\n",
      "Epoch 229/1000\n",
      "\u001b[1m5/5\u001b[0m \u001b[32m━━━━━━━━━━━━━━━━━━━━\u001b[0m\u001b[37m\u001b[0m \u001b[1m0s\u001b[0m 72ms/step - loss: 0.3829 - mape: 8.3646 - r2_score: 0.3031 - val_loss: 0.4952 - val_mape: 10.3592 - val_r2_score: 0.3200 - learning_rate: 0.0010\n",
      "Epoch 230/1000\n",
      "\u001b[1m5/5\u001b[0m \u001b[32m━━━━━━━━━━━━━━━━━━━━\u001b[0m\u001b[37m\u001b[0m \u001b[1m0s\u001b[0m 66ms/step - loss: 0.5101 - mape: 11.1114 - r2_score: 0.2267 - val_loss: 0.5758 - val_mape: 12.1976 - val_r2_score: 0.1147 - learning_rate: 0.0010\n",
      "Epoch 231/1000\n",
      "\u001b[1m5/5\u001b[0m \u001b[32m━━━━━━━━━━━━━━━━━━━━\u001b[0m\u001b[37m\u001b[0m \u001b[1m0s\u001b[0m 69ms/step - loss: 0.4059 - mape: 8.7571 - r2_score: 0.5074 - val_loss: 0.5726 - val_mape: 12.0927 - val_r2_score: 0.0214 - learning_rate: 0.0010\n",
      "Epoch 232/1000\n",
      "\u001b[1m5/5\u001b[0m \u001b[32m━━━━━━━━━━━━━━━━━━━━\u001b[0m\u001b[37m\u001b[0m \u001b[1m0s\u001b[0m 68ms/step - loss: 0.4598 - mape: 10.0982 - r2_score: 0.3534 - val_loss: 0.5102 - val_mape: 10.8209 - val_r2_score: 0.2128 - learning_rate: 0.0010\n",
      "Epoch 233/1000\n",
      "\u001b[1m5/5\u001b[0m \u001b[32m━━━━━━━━━━━━━━━━━━━━\u001b[0m\u001b[37m\u001b[0m \u001b[1m1s\u001b[0m 82ms/step - loss: 0.3503 - mape: 7.4797 - r2_score: 0.5417 - val_loss: 0.6428 - val_mape: 14.4287 - val_r2_score: -0.0464 - learning_rate: 0.0010\n",
      "Epoch 234/1000\n",
      "\u001b[1m5/5\u001b[0m \u001b[32m━━━━━━━━━━━━━━━━━━━━\u001b[0m\u001b[37m\u001b[0m \u001b[1m0s\u001b[0m 67ms/step - loss: 0.4599 - mape: 10.1315 - r2_score: 0.3479 - val_loss: 0.5827 - val_mape: 13.0621 - val_r2_score: 0.0599 - learning_rate: 0.0010\n",
      "Epoch 235/1000\n",
      "\u001b[1m5/5\u001b[0m \u001b[32m━━━━━━━━━━━━━━━━━━━━\u001b[0m\u001b[37m\u001b[0m \u001b[1m0s\u001b[0m 66ms/step - loss: 0.3903 - mape: 8.3589 - r2_score: 0.4809 - val_loss: 0.5243 - val_mape: 11.3394 - val_r2_score: 0.2228 - learning_rate: 0.0010\n",
      "Epoch 236/1000\n",
      "\u001b[1m5/5\u001b[0m \u001b[32m━━━━━━━━━━━━━━━━━━━━\u001b[0m\u001b[37m\u001b[0m \u001b[1m0s\u001b[0m 67ms/step - loss: 0.4976 - mape: 10.7220 - r2_score: 0.2028 - val_loss: 0.4954 - val_mape: 10.6172 - val_r2_score: 0.3469 - learning_rate: 0.0010\n",
      "Epoch 237/1000\n",
      "\u001b[1m5/5\u001b[0m \u001b[32m━━━━━━━━━━━━━━━━━━━━\u001b[0m\u001b[37m\u001b[0m \u001b[1m1s\u001b[0m 82ms/step - loss: 0.4284 - mape: 9.4214 - r2_score: 0.4525 - val_loss: 0.4600 - val_mape: 9.4732 - val_r2_score: 0.3985 - learning_rate: 0.0010\n",
      "Epoch 238/1000\n",
      "\u001b[1m5/5\u001b[0m \u001b[32m━━━━━━━━━━━━━━━━━━━━\u001b[0m\u001b[37m\u001b[0m \u001b[1m0s\u001b[0m 70ms/step - loss: 0.5417 - mape: 11.8595 - r2_score: 0.0402 - val_loss: 0.5496 - val_mape: 12.0145 - val_r2_score: 0.2030 - learning_rate: 0.0010\n",
      "Epoch 239/1000\n",
      "\u001b[1m5/5\u001b[0m \u001b[32m━━━━━━━━━━━━━━━━━━━━\u001b[0m\u001b[37m\u001b[0m \u001b[1m0s\u001b[0m 66ms/step - loss: 0.5123 - mape: 11.3102 - r2_score: 0.2230 - val_loss: 0.5176 - val_mape: 11.0908 - val_r2_score: 0.2417 - learning_rate: 0.0010\n",
      "Epoch 240/1000\n",
      "\u001b[1m5/5\u001b[0m \u001b[32m━━━━━━━━━━━━━━━━━━━━\u001b[0m\u001b[37m\u001b[0m \u001b[1m0s\u001b[0m 67ms/step - loss: 0.5128 - mape: 11.3482 - r2_score: 0.2088 - val_loss: 0.5054 - val_mape: 10.8224 - val_r2_score: 0.3356 - learning_rate: 0.0010\n",
      "Epoch 241/1000\n",
      "\u001b[1m5/5\u001b[0m \u001b[32m━━━━━━━━━━━━━━━━━━━━\u001b[0m\u001b[37m\u001b[0m \u001b[1m0s\u001b[0m 68ms/step - loss: 0.4522 - mape: 9.6969 - r2_score: 0.3913 - val_loss: 0.6085 - val_mape: 13.6622 - val_r2_score: 0.0672 - learning_rate: 0.0010\n",
      "Epoch 242/1000\n",
      "\u001b[1m5/5\u001b[0m \u001b[32m━━━━━━━━━━━━━━━━━━━━\u001b[0m\u001b[37m\u001b[0m \u001b[1m0s\u001b[0m 68ms/step - loss: 0.4953 - mape: 11.0026 - r2_score: 0.0352 - val_loss: 0.5373 - val_mape: 11.8981 - val_r2_score: 0.1939 - learning_rate: 0.0010\n",
      "Epoch 243/1000\n",
      "\u001b[1m5/5\u001b[0m \u001b[32m━━━━━━━━━━━━━━━━━━━━\u001b[0m\u001b[37m\u001b[0m \u001b[1m0s\u001b[0m 68ms/step - loss: 0.5113 - mape: 11.0508 - r2_score: 0.1019 - val_loss: 0.5615 - val_mape: 12.0265 - val_r2_score: 0.0871 - learning_rate: 0.0010\n",
      "Epoch 244/1000\n",
      "\u001b[1m5/5\u001b[0m \u001b[32m━━━━━━━━━━━━━━━━━━━━\u001b[0m\u001b[37m\u001b[0m \u001b[1m0s\u001b[0m 68ms/step - loss: 0.4889 - mape: 10.4211 - r2_score: 0.2153 - val_loss: 0.5802 - val_mape: 12.6357 - val_r2_score: -0.0316 - learning_rate: 0.0010\n",
      "Epoch 245/1000\n",
      "\u001b[1m5/5\u001b[0m \u001b[32m━━━━━━━━━━━━━━━━━━━━\u001b[0m\u001b[37m\u001b[0m \u001b[1m0s\u001b[0m 67ms/step - loss: 0.4671 - mape: 10.0509 - r2_score: 0.3389 - val_loss: 0.5327 - val_mape: 11.2616 - val_r2_score: 0.1051 - learning_rate: 0.0010\n",
      "Epoch 246/1000\n",
      "\u001b[1m5/5\u001b[0m \u001b[32m━━━━━━━━━━━━━━━━━━━━\u001b[0m\u001b[37m\u001b[0m \u001b[1m0s\u001b[0m 67ms/step - loss: 0.5727 - mape: 12.2842 - r2_score: 0.0098 - val_loss: 0.5066 - val_mape: 10.5095 - val_r2_score: 0.2002 - learning_rate: 0.0010\n",
      "Epoch 247/1000\n",
      "\u001b[1m5/5\u001b[0m \u001b[32m━━━━━━━━━━━━━━━━━━━━\u001b[0m\u001b[37m\u001b[0m \u001b[1m0s\u001b[0m 67ms/step - loss: 0.3697 - mape: 7.8748 - r2_score: 0.5644 - val_loss: 0.4683 - val_mape: 9.6398 - val_r2_score: 0.3331 - learning_rate: 0.0010\n",
      "Epoch 248/1000\n",
      "\u001b[1m5/5\u001b[0m \u001b[32m━━━━━━━━━━━━━━━━━━━━\u001b[0m\u001b[37m\u001b[0m \u001b[1m0s\u001b[0m 67ms/step - loss: 0.4385 - mape: 9.4715 - r2_score: 0.2418 - val_loss: 0.4659 - val_mape: 9.5608 - val_r2_score: 0.3650 - learning_rate: 0.0010\n",
      "Epoch 249/1000\n",
      "\u001b[1m5/5\u001b[0m \u001b[32m━━━━━━━━━━━━━━━━━━━━\u001b[0m\u001b[37m\u001b[0m \u001b[1m0s\u001b[0m 68ms/step - loss: 0.4668 - mape: 9.9585 - r2_score: 0.3543 - val_loss: 0.5124 - val_mape: 11.1196 - val_r2_score: 0.2810 - learning_rate: 0.0010\n",
      "Epoch 250/1000\n",
      "\u001b[1m5/5\u001b[0m \u001b[32m━━━━━━━━━━━━━━━━━━━━\u001b[0m\u001b[37m\u001b[0m \u001b[1m1s\u001b[0m 81ms/step - loss: 0.3523 - mape: 7.4973 - r2_score: 0.5438 - val_loss: 0.5222 - val_mape: 11.3815 - val_r2_score: 0.2502 - learning_rate: 0.0010\n",
      "Epoch 251/1000\n",
      "\u001b[1m5/5\u001b[0m \u001b[32m━━━━━━━━━━━━━━━━━━━━\u001b[0m\u001b[37m\u001b[0m \u001b[1m0s\u001b[0m 70ms/step - loss: 0.4101 - mape: 8.6358 - r2_score: 0.5092 - val_loss: 0.4423 - val_mape: 9.1641 - val_r2_score: 0.4245 - learning_rate: 0.0010\n",
      "Epoch 252/1000\n",
      "\u001b[1m5/5\u001b[0m \u001b[32m━━━━━━━━━━━━━━━━━━━━\u001b[0m\u001b[37m\u001b[0m \u001b[1m0s\u001b[0m 67ms/step - loss: 0.3075 - mape: 6.6485 - r2_score: 0.6773 - val_loss: 0.5807 - val_mape: 12.5341 - val_r2_score: 0.1536 - learning_rate: 0.0010\n",
      "Epoch 253/1000\n",
      "\u001b[1m5/5\u001b[0m \u001b[32m━━━━━━━━━━━━━━━━━━━━\u001b[0m\u001b[37m\u001b[0m \u001b[1m0s\u001b[0m 69ms/step - loss: 0.4655 - mape: 10.2507 - r2_score: 0.3896 - val_loss: 0.5731 - val_mape: 12.2962 - val_r2_score: 0.1457 - learning_rate: 0.0010\n",
      "Epoch 254/1000\n",
      "\u001b[1m5/5\u001b[0m \u001b[32m━━━━━━━━━━━━━━━━━━━━\u001b[0m\u001b[37m\u001b[0m \u001b[1m0s\u001b[0m 67ms/step - loss: 0.3919 - mape: 8.4862 - r2_score: 0.5327 - val_loss: 0.4653 - val_mape: 9.9750 - val_r2_score: 0.3910 - learning_rate: 0.0010\n",
      "Epoch 255/1000\n",
      "\u001b[1m5/5\u001b[0m \u001b[32m━━━━━━━━━━━━━━━━━━━━\u001b[0m\u001b[37m\u001b[0m \u001b[1m0s\u001b[0m 66ms/step - loss: 0.4161 - mape: 9.2195 - r2_score: 0.4149 - val_loss: 0.4874 - val_mape: 10.6701 - val_r2_score: 0.3389 - learning_rate: 0.0010\n",
      "Epoch 256/1000\n",
      "\u001b[1m5/5\u001b[0m \u001b[32m━━━━━━━━━━━━━━━━━━━━\u001b[0m\u001b[37m\u001b[0m \u001b[1m0s\u001b[0m 66ms/step - loss: 0.3554 - mape: 7.8932 - r2_score: 0.5734 - val_loss: 0.4515 - val_mape: 9.5356 - val_r2_score: 0.4269 - learning_rate: 0.0010\n",
      "Epoch 257/1000\n",
      "\u001b[1m5/5\u001b[0m \u001b[32m━━━━━━━━━━━━━━━━━━━━\u001b[0m\u001b[37m\u001b[0m \u001b[1m0s\u001b[0m 66ms/step - loss: 0.4789 - mape: 10.2066 - r2_score: 0.3386 - val_loss: 0.4742 - val_mape: 9.8256 - val_r2_score: 0.3184 - learning_rate: 0.0010\n",
      "Epoch 258/1000\n",
      "\u001b[1m5/5\u001b[0m \u001b[32m━━━━━━━━━━━━━━━━━━━━\u001b[0m\u001b[37m\u001b[0m \u001b[1m0s\u001b[0m 69ms/step - loss: 0.4497 - mape: 9.8436 - r2_score: 0.3719 - val_loss: 0.4613 - val_mape: 9.4620 - val_r2_score: 0.3354 - learning_rate: 0.0010\n",
      "Epoch 259/1000\n",
      "\u001b[1m5/5\u001b[0m \u001b[32m━━━━━━━━━━━━━━━━━━━━\u001b[0m\u001b[37m\u001b[0m \u001b[1m0s\u001b[0m 69ms/step - loss: 0.4081 - mape: 8.7544 - r2_score: 0.3953 - val_loss: 0.4395 - val_mape: 8.9639 - val_r2_score: 0.4054 - learning_rate: 0.0010\n",
      "Epoch 260/1000\n",
      "\u001b[1m5/5\u001b[0m \u001b[32m━━━━━━━━━━━━━━━━━━━━\u001b[0m\u001b[37m\u001b[0m \u001b[1m0s\u001b[0m 86ms/step - loss: 0.3571 - mape: 7.6762 - r2_score: 0.6112 - val_loss: 0.4279 - val_mape: 8.9095 - val_r2_score: 0.4963 - learning_rate: 0.0010\n",
      "Epoch 261/1000\n",
      "\u001b[1m5/5\u001b[0m \u001b[32m━━━━━━━━━━━━━━━━━━━━\u001b[0m\u001b[37m\u001b[0m \u001b[1m0s\u001b[0m 69ms/step - loss: 0.4733 - mape: 10.2721 - r2_score: 0.2935 - val_loss: 0.4659 - val_mape: 9.8378 - val_r2_score: 0.4323 - learning_rate: 0.0010\n",
      "Epoch 262/1000\n",
      "\u001b[1m5/5\u001b[0m \u001b[32m━━━━━━━━━━━━━━━━━━━━\u001b[0m\u001b[37m\u001b[0m \u001b[1m0s\u001b[0m 67ms/step - loss: 0.4440 - mape: 9.7730 - r2_score: 0.2408 - val_loss: 0.4528 - val_mape: 9.3914 - val_r2_score: 0.4651 - learning_rate: 0.0010\n",
      "Epoch 263/1000\n",
      "\u001b[1m5/5\u001b[0m \u001b[32m━━━━━━━━━━━━━━━━━━━━\u001b[0m\u001b[37m\u001b[0m \u001b[1m0s\u001b[0m 68ms/step - loss: 0.4555 - mape: 9.8306 - r2_score: 0.3808 - val_loss: 0.4704 - val_mape: 9.9912 - val_r2_score: 0.4425 - learning_rate: 0.0010\n",
      "Epoch 264/1000\n",
      "\u001b[1m5/5\u001b[0m \u001b[32m━━━━━━━━━━━━━━━━━━━━\u001b[0m\u001b[37m\u001b[0m \u001b[1m0s\u001b[0m 68ms/step - loss: 0.3903 - mape: 8.5379 - r2_score: 0.4658 - val_loss: 0.4887 - val_mape: 10.2054 - val_r2_score: 0.3450 - learning_rate: 0.0010\n",
      "Epoch 265/1000\n",
      "\u001b[1m5/5\u001b[0m \u001b[32m━━━━━━━━━━━━━━━━━━━━\u001b[0m\u001b[37m\u001b[0m \u001b[1m0s\u001b[0m 68ms/step - loss: 0.3821 - mape: 8.4797 - r2_score: 0.5186 - val_loss: 0.5369 - val_mape: 11.1882 - val_r2_score: 0.2060 - learning_rate: 0.0010\n",
      "Epoch 266/1000\n",
      "\u001b[1m5/5\u001b[0m \u001b[32m━━━━━━━━━━━━━━━━━━━━\u001b[0m\u001b[37m\u001b[0m \u001b[1m0s\u001b[0m 68ms/step - loss: 0.4339 - mape: 9.2903 - r2_score: 0.4433 - val_loss: 0.4844 - val_mape: 10.0524 - val_r2_score: 0.4064 - learning_rate: 0.0010\n",
      "Epoch 267/1000\n",
      "\u001b[1m5/5\u001b[0m \u001b[32m━━━━━━━━━━━━━━━━━━━━\u001b[0m\u001b[37m\u001b[0m \u001b[1m0s\u001b[0m 84ms/step - loss: 0.4235 - mape: 8.9408 - r2_score: 0.3597 - val_loss: 0.4478 - val_mape: 9.5629 - val_r2_score: 0.5265 - learning_rate: 0.0010\n",
      "Epoch 268/1000\n",
      "\u001b[1m5/5\u001b[0m \u001b[32m━━━━━━━━━━━━━━━━━━━━\u001b[0m\u001b[37m\u001b[0m \u001b[1m0s\u001b[0m 82ms/step - loss: 0.3503 - mape: 7.4226 - r2_score: 0.6067 - val_loss: 0.4366 - val_mape: 9.4150 - val_r2_score: 0.5326 - learning_rate: 0.0010\n",
      "Epoch 269/1000\n",
      "\u001b[1m5/5\u001b[0m \u001b[32m━━━━━━━━━━━━━━━━━━━━\u001b[0m\u001b[37m\u001b[0m \u001b[1m0s\u001b[0m 81ms/step - loss: 0.4544 - mape: 9.9825 - r2_score: 0.2844 - val_loss: 0.4119 - val_mape: 8.4619 - val_r2_score: 0.5521 - learning_rate: 0.0010\n",
      "Epoch 270/1000\n",
      "\u001b[1m5/5\u001b[0m \u001b[32m━━━━━━━━━━━━━━━━━━━━\u001b[0m\u001b[37m\u001b[0m \u001b[1m0s\u001b[0m 67ms/step - loss: 0.3840 - mape: 8.4929 - r2_score: 0.4739 - val_loss: 0.4558 - val_mape: 9.3189 - val_r2_score: 0.3358 - learning_rate: 0.0010\n",
      "Epoch 271/1000\n",
      "\u001b[1m5/5\u001b[0m \u001b[32m━━━━━━━━━━━━━━━━━━━━\u001b[0m\u001b[37m\u001b[0m \u001b[1m0s\u001b[0m 66ms/step - loss: 0.4047 - mape: 8.7615 - r2_score: 0.3917 - val_loss: 0.4638 - val_mape: 9.5840 - val_r2_score: 0.3096 - learning_rate: 0.0010\n",
      "Epoch 272/1000\n",
      "\u001b[1m5/5\u001b[0m \u001b[32m━━━━━━━━━━━━━━━━━━━━\u001b[0m\u001b[37m\u001b[0m \u001b[1m0s\u001b[0m 72ms/step - loss: 0.4924 - mape: 11.1203 - r2_score: 0.1961 - val_loss: 0.4419 - val_mape: 9.2736 - val_r2_score: 0.4535 - learning_rate: 0.0010\n",
      "Epoch 273/1000\n",
      "\u001b[1m5/5\u001b[0m \u001b[32m━━━━━━━━━━━━━━━━━━━━\u001b[0m\u001b[37m\u001b[0m \u001b[1m0s\u001b[0m 67ms/step - loss: 0.4401 - mape: 9.8279 - r2_score: 0.3033 - val_loss: 0.4700 - val_mape: 10.0311 - val_r2_score: 0.4270 - learning_rate: 0.0010\n",
      "Epoch 274/1000\n",
      "\u001b[1m5/5\u001b[0m \u001b[32m━━━━━━━━━━━━━━━━━━━━\u001b[0m\u001b[37m\u001b[0m \u001b[1m0s\u001b[0m 66ms/step - loss: 0.4814 - mape: 10.4861 - r2_score: 0.2651 - val_loss: 0.4743 - val_mape: 10.0114 - val_r2_score: 0.4374 - learning_rate: 0.0010\n",
      "Epoch 275/1000\n",
      "\u001b[1m5/5\u001b[0m \u001b[32m━━━━━━━━━━━━━━━━━━━━\u001b[0m\u001b[37m\u001b[0m \u001b[1m0s\u001b[0m 66ms/step - loss: 0.3704 - mape: 7.9990 - r2_score: 0.6080 - val_loss: 0.4829 - val_mape: 10.4498 - val_r2_score: 0.4576 - learning_rate: 0.0010\n",
      "Epoch 276/1000\n",
      "\u001b[1m5/5\u001b[0m \u001b[32m━━━━━━━━━━━━━━━━━━━━\u001b[0m\u001b[37m\u001b[0m \u001b[1m0s\u001b[0m 71ms/step - loss: 0.3733 - mape: 8.1405 - r2_score: 0.5274 - val_loss: 0.4658 - val_mape: 9.7886 - val_r2_score: 0.4161 - learning_rate: 0.0010\n",
      "Epoch 277/1000\n",
      "\u001b[1m5/5\u001b[0m \u001b[32m━━━━━━━━━━━━━━━━━━━━\u001b[0m\u001b[37m\u001b[0m \u001b[1m0s\u001b[0m 70ms/step - loss: 0.4638 - mape: 9.9612 - r2_score: 0.3498 - val_loss: 0.4536 - val_mape: 9.6805 - val_r2_score: 0.4329 - learning_rate: 0.0010\n",
      "Epoch 278/1000\n",
      "\u001b[1m5/5\u001b[0m \u001b[32m━━━━━━━━━━━━━━━━━━━━\u001b[0m\u001b[37m\u001b[0m \u001b[1m0s\u001b[0m 68ms/step - loss: 0.4715 - mape: 10.0517 - r2_score: 0.2434 - val_loss: 0.4961 - val_mape: 10.7100 - val_r2_score: 0.2926 - learning_rate: 0.0010\n",
      "Epoch 279/1000\n",
      "\u001b[1m5/5\u001b[0m \u001b[32m━━━━━━━━━━━━━━━━━━━━\u001b[0m\u001b[37m\u001b[0m \u001b[1m0s\u001b[0m 68ms/step - loss: 0.4404 - mape: 9.8087 - r2_score: 0.1363 - val_loss: 0.5078 - val_mape: 11.0855 - val_r2_score: 0.3073 - learning_rate: 0.0010\n",
      "Epoch 280/1000\n",
      "\u001b[1m5/5\u001b[0m \u001b[32m━━━━━━━━━━━━━━━━━━━━\u001b[0m\u001b[37m\u001b[0m \u001b[1m0s\u001b[0m 70ms/step - loss: 0.3965 - mape: 8.5289 - r2_score: 0.5752 - val_loss: 0.5320 - val_mape: 11.7880 - val_r2_score: 0.2358 - learning_rate: 0.0010\n",
      "Epoch 281/1000\n",
      "\u001b[1m5/5\u001b[0m \u001b[32m━━━━━━━━━━━━━━━━━━━━\u001b[0m\u001b[37m\u001b[0m \u001b[1m0s\u001b[0m 67ms/step - loss: 0.3780 - mape: 8.2242 - r2_score: 0.5550 - val_loss: 0.5054 - val_mape: 10.8530 - val_r2_score: 0.2477 - learning_rate: 0.0010\n",
      "Epoch 282/1000\n",
      "\u001b[1m5/5\u001b[0m \u001b[32m━━━━━━━━━━━━━━━━━━━━\u001b[0m\u001b[37m\u001b[0m \u001b[1m0s\u001b[0m 65ms/step - loss: 0.4615 - mape: 9.8947 - r2_score: 0.3592 - val_loss: 0.5026 - val_mape: 10.2756 - val_r2_score: 0.0823 - learning_rate: 0.0010\n",
      "Epoch 283/1000\n",
      "\u001b[1m5/5\u001b[0m \u001b[32m━━━━━━━━━━━━━━━━━━━━\u001b[0m\u001b[37m\u001b[0m \u001b[1m0s\u001b[0m 69ms/step - loss: 0.5079 - mape: 11.0587 - r2_score: 0.1848 - val_loss: 0.5349 - val_mape: 11.0126 - val_r2_score: -0.0677 - learning_rate: 0.0010\n",
      "Epoch 284/1000\n",
      "\u001b[1m5/5\u001b[0m \u001b[32m━━━━━━━━━━━━━━━━━━━━\u001b[0m\u001b[37m\u001b[0m \u001b[1m0s\u001b[0m 66ms/step - loss: 0.5945 - mape: 12.9789 - r2_score: -0.2059 - val_loss: 0.4710 - val_mape: 9.6977 - val_r2_score: 0.3437 - learning_rate: 0.0010\n",
      "Epoch 285/1000\n",
      "\u001b[1m5/5\u001b[0m \u001b[32m━━━━━━━━━━━━━━━━━━━━\u001b[0m\u001b[37m\u001b[0m \u001b[1m0s\u001b[0m 69ms/step - loss: 0.4493 - mape: 9.5875 - r2_score: 0.3709 - val_loss: 0.4340 - val_mape: 8.9883 - val_r2_score: 0.4726 - learning_rate: 0.0010\n",
      "Epoch 286/1000\n",
      "\u001b[1m5/5\u001b[0m \u001b[32m━━━━━━━━━━━━━━━━━━━━\u001b[0m\u001b[37m\u001b[0m \u001b[1m0s\u001b[0m 66ms/step - loss: 0.4595 - mape: 10.0586 - r2_score: 0.3507 - val_loss: 0.4430 - val_mape: 9.3468 - val_r2_score: 0.4707 - learning_rate: 0.0010\n",
      "Epoch 287/1000\n",
      "\u001b[1m5/5\u001b[0m \u001b[32m━━━━━━━━━━━━━━━━━━━━\u001b[0m\u001b[37m\u001b[0m \u001b[1m0s\u001b[0m 67ms/step - loss: 0.3262 - mape: 7.3190 - r2_score: 0.6569 - val_loss: 0.5182 - val_mape: 11.5434 - val_r2_score: 0.3042 - learning_rate: 0.0010\n",
      "Epoch 288/1000\n",
      "\u001b[1m5/5\u001b[0m \u001b[32m━━━━━━━━━━━━━━━━━━━━\u001b[0m\u001b[37m\u001b[0m \u001b[1m0s\u001b[0m 67ms/step - loss: 0.4302 - mape: 9.3682 - r2_score: 0.3933 - val_loss: 0.5385 - val_mape: 11.9526 - val_r2_score: 0.1932 - learning_rate: 0.0010\n",
      "Epoch 289/1000\n",
      "\u001b[1m5/5\u001b[0m \u001b[32m━━━━━━━━━━━━━━━━━━━━\u001b[0m\u001b[37m\u001b[0m \u001b[1m0s\u001b[0m 66ms/step - loss: 0.4029 - mape: 8.7313 - r2_score: 0.4782 - val_loss: 0.5530 - val_mape: 12.3531 - val_r2_score: 0.1548 - learning_rate: 0.0010\n",
      "Epoch 290/1000\n",
      "\u001b[1m5/5\u001b[0m \u001b[32m━━━━━━━━━━━━━━━━━━━━\u001b[0m\u001b[37m\u001b[0m \u001b[1m0s\u001b[0m 66ms/step - loss: 0.3742 - mape: 8.2544 - r2_score: 0.5374 - val_loss: 0.5822 - val_mape: 12.9742 - val_r2_score: 0.0681 - learning_rate: 0.0010\n",
      "Epoch 291/1000\n",
      "\u001b[1m5/5\u001b[0m \u001b[32m━━━━━━━━━━━━━━━━━━━━\u001b[0m\u001b[37m\u001b[0m \u001b[1m1s\u001b[0m 80ms/step - loss: 0.4350 - mape: 9.1800 - r2_score: 0.3523 - val_loss: 0.5664 - val_mape: 12.5795 - val_r2_score: 0.2165 - learning_rate: 0.0010\n",
      "Epoch 292/1000\n",
      "\u001b[1m5/5\u001b[0m \u001b[32m━━━━━━━━━━━━━━━━━━━━\u001b[0m\u001b[37m\u001b[0m \u001b[1m0s\u001b[0m 67ms/step - loss: 0.3823 - mape: 8.3115 - r2_score: 0.4248 - val_loss: 0.5331 - val_mape: 11.9073 - val_r2_score: 0.3105 - learning_rate: 0.0010\n",
      "Epoch 293/1000\n",
      "\u001b[1m5/5\u001b[0m \u001b[32m━━━━━━━━━━━━━━━━━━━━\u001b[0m\u001b[37m\u001b[0m \u001b[1m0s\u001b[0m 71ms/step - loss: 0.3871 - mape: 8.2040 - r2_score: 0.5234 - val_loss: 0.5086 - val_mape: 11.0892 - val_r2_score: 0.3829 - learning_rate: 0.0010\n",
      "Epoch 294/1000\n",
      "\u001b[1m5/5\u001b[0m \u001b[32m━━━━━━━━━━━━━━━━━━━━\u001b[0m\u001b[37m\u001b[0m \u001b[1m0s\u001b[0m 71ms/step - loss: 0.3758 - mape: 8.2378 - r2_score: 0.5416 - val_loss: 0.4838 - val_mape: 10.2325 - val_r2_score: 0.3833 - learning_rate: 0.0010\n",
      "Epoch 295/1000\n",
      "\u001b[1m5/5\u001b[0m \u001b[32m━━━━━━━━━━━━━━━━━━━━\u001b[0m\u001b[37m\u001b[0m \u001b[1m0s\u001b[0m 67ms/step - loss: 0.4628 - mape: 10.1647 - r2_score: 0.2511 - val_loss: 0.4801 - val_mape: 10.0790 - val_r2_score: 0.3198 - learning_rate: 0.0010\n",
      "Epoch 296/1000\n",
      "\u001b[1m5/5\u001b[0m \u001b[32m━━━━━━━━━━━━━━━━━━━━\u001b[0m\u001b[37m\u001b[0m \u001b[1m0s\u001b[0m 68ms/step - loss: 0.3484 - mape: 7.7152 - r2_score: 0.5928 - val_loss: 0.4819 - val_mape: 10.0274 - val_r2_score: 0.2687 - learning_rate: 0.0010\n",
      "Epoch 297/1000\n",
      "\u001b[1m5/5\u001b[0m \u001b[32m━━━━━━━━━━━━━━━━━━━━\u001b[0m\u001b[37m\u001b[0m \u001b[1m0s\u001b[0m 66ms/step - loss: 0.4464 - mape: 9.6243 - r2_score: 0.3782 - val_loss: 0.5357 - val_mape: 11.7849 - val_r2_score: 0.2562 - learning_rate: 0.0010\n",
      "Epoch 298/1000\n",
      "\u001b[1m5/5\u001b[0m \u001b[32m━━━━━━━━━━━━━━━━━━━━\u001b[0m\u001b[37m\u001b[0m \u001b[1m0s\u001b[0m 65ms/step - loss: 0.4439 - mape: 9.6146 - r2_score: 0.3672 - val_loss: 0.6156 - val_mape: 14.0163 - val_r2_score: 0.0483 - learning_rate: 0.0010\n",
      "Epoch 299/1000\n",
      "\u001b[1m5/5\u001b[0m \u001b[32m━━━━━━━━━━━━━━━━━━━━\u001b[0m\u001b[37m\u001b[0m \u001b[1m0s\u001b[0m 69ms/step - loss: 0.4557 - mape: 9.8857 - r2_score: 0.3979 - val_loss: 0.5811 - val_mape: 13.2107 - val_r2_score: 0.1629 - learning_rate: 0.0010\n",
      "Epoch 300/1000\n",
      "\u001b[1m5/5\u001b[0m \u001b[32m━━━━━━━━━━━━━━━━━━━━\u001b[0m\u001b[37m\u001b[0m \u001b[1m0s\u001b[0m 67ms/step - loss: 0.4380 - mape: 9.0512 - r2_score: 0.2899 - val_loss: 0.4976 - val_mape: 10.5309 - val_r2_score: 0.3839 - learning_rate: 0.0010\n",
      "Epoch 301/1000\n",
      "\u001b[1m5/5\u001b[0m \u001b[32m━━━━━━━━━━━━━━━━━━━━\u001b[0m\u001b[37m\u001b[0m \u001b[1m1s\u001b[0m 79ms/step - loss: 0.4273 - mape: 9.2598 - r2_score: 0.4284 - val_loss: 0.5417 - val_mape: 11.4750 - val_r2_score: 0.1646 - learning_rate: 0.0010\n",
      "Epoch 302/1000\n",
      "\u001b[1m5/5\u001b[0m \u001b[32m━━━━━━━━━━━━━━━━━━━━\u001b[0m\u001b[37m\u001b[0m \u001b[1m0s\u001b[0m 68ms/step - loss: 0.3712 - mape: 8.0345 - r2_score: 0.5801 - val_loss: 0.5315 - val_mape: 11.2443 - val_r2_score: 0.1222 - learning_rate: 0.0010\n",
      "Epoch 303/1000\n",
      "\u001b[1m5/5\u001b[0m \u001b[32m━━━━━━━━━━━━━━━━━━━━\u001b[0m\u001b[37m\u001b[0m \u001b[1m0s\u001b[0m 68ms/step - loss: 0.3283 - mape: 7.1973 - r2_score: 0.6369 - val_loss: 0.5131 - val_mape: 10.9992 - val_r2_score: 0.2446 - learning_rate: 0.0010\n",
      "Epoch 304/1000\n",
      "\u001b[1m5/5\u001b[0m \u001b[32m━━━━━━━━━━━━━━━━━━━━\u001b[0m\u001b[37m\u001b[0m \u001b[1m0s\u001b[0m 72ms/step - loss: 0.4365 - mape: 9.6926 - r2_score: 0.4380 - val_loss: 0.5869 - val_mape: 13.1195 - val_r2_score: 0.1239 - learning_rate: 0.0010\n",
      "Epoch 305/1000\n",
      "\u001b[1m5/5\u001b[0m \u001b[32m━━━━━━━━━━━━━━━━━━━━\u001b[0m\u001b[37m\u001b[0m \u001b[1m0s\u001b[0m 67ms/step - loss: 0.4942 - mape: 10.6023 - r2_score: 0.2467 - val_loss: 0.5310 - val_mape: 11.8664 - val_r2_score: 0.2266 - learning_rate: 0.0010\n",
      "Epoch 306/1000\n",
      "\u001b[1m5/5\u001b[0m \u001b[32m━━━━━━━━━━━━━━━━━━━━\u001b[0m\u001b[37m\u001b[0m \u001b[1m0s\u001b[0m 67ms/step - loss: 0.4393 - mape: 9.4641 - r2_score: 0.3401 - val_loss: 0.5187 - val_mape: 11.1996 - val_r2_score: 0.2354 - learning_rate: 0.0010\n",
      "Epoch 307/1000\n",
      "\u001b[1m5/5\u001b[0m \u001b[32m━━━━━━━━━━━━━━━━━━━━\u001b[0m\u001b[37m\u001b[0m \u001b[1m0s\u001b[0m 69ms/step - loss: 0.4815 - mape: 10.4452 - r2_score: 0.3388 - val_loss: 0.4976 - val_mape: 10.5019 - val_r2_score: 0.2863 - learning_rate: 0.0010\n",
      "Epoch 308/1000\n",
      "\u001b[1m5/5\u001b[0m \u001b[32m━━━━━━━━━━━━━━━━━━━━\u001b[0m\u001b[37m\u001b[0m \u001b[1m0s\u001b[0m 67ms/step - loss: 0.5018 - mape: 10.8237 - r2_score: 0.2055 - val_loss: 0.4829 - val_mape: 10.2101 - val_r2_score: 0.3842 - learning_rate: 0.0010\n",
      "Epoch 309/1000\n",
      "\u001b[1m5/5\u001b[0m \u001b[32m━━━━━━━━━━━━━━━━━━━━\u001b[0m\u001b[37m\u001b[0m \u001b[1m0s\u001b[0m 70ms/step - loss: 0.4619 - mape: 9.9362 - r2_score: 0.3183 - val_loss: 0.4846 - val_mape: 10.4583 - val_r2_score: 0.4194 - learning_rate: 0.0010\n",
      "Epoch 310/1000\n",
      "\u001b[1m5/5\u001b[0m \u001b[32m━━━━━━━━━━━━━━━━━━━━\u001b[0m\u001b[37m\u001b[0m \u001b[1m0s\u001b[0m 65ms/step - loss: 0.5014 - mape: 10.6962 - r2_score: 0.2182 - val_loss: 0.4587 - val_mape: 9.4467 - val_r2_score: 0.3603 - learning_rate: 0.0010\n",
      "Epoch 311/1000\n",
      "\u001b[1m5/5\u001b[0m \u001b[32m━━━━━━━━━━━━━━━━━━━━\u001b[0m\u001b[37m\u001b[0m \u001b[1m0s\u001b[0m 71ms/step - loss: 0.4439 - mape: 9.8615 - r2_score: 0.3644 - val_loss: 0.4511 - val_mape: 9.3834 - val_r2_score: 0.4653 - learning_rate: 0.0010\n",
      "Epoch 312/1000\n",
      "\u001b[1m5/5\u001b[0m \u001b[32m━━━━━━━━━━━━━━━━━━━━\u001b[0m\u001b[37m\u001b[0m \u001b[1m0s\u001b[0m 70ms/step - loss: 0.4517 - mape: 9.9442 - r2_score: 0.3788 - val_loss: 0.4301 - val_mape: 8.8342 - val_r2_score: 0.5346 - learning_rate: 0.0010\n",
      "Epoch 313/1000\n",
      "\u001b[1m5/5\u001b[0m \u001b[32m━━━━━━━━━━━━━━━━━━━━\u001b[0m\u001b[37m\u001b[0m \u001b[1m0s\u001b[0m 67ms/step - loss: 0.3775 - mape: 8.4483 - r2_score: 0.5545 - val_loss: 0.4888 - val_mape: 10.5325 - val_r2_score: 0.3940 - learning_rate: 0.0010\n",
      "Epoch 314/1000\n",
      "\u001b[1m5/5\u001b[0m \u001b[32m━━━━━━━━━━━━━━━━━━━━\u001b[0m\u001b[37m\u001b[0m \u001b[1m0s\u001b[0m 69ms/step - loss: 0.3941 - mape: 8.6051 - r2_score: 0.4661 - val_loss: 0.4842 - val_mape: 10.4336 - val_r2_score: 0.4031 - learning_rate: 0.0010\n",
      "Epoch 315/1000\n",
      "\u001b[1m5/5\u001b[0m \u001b[32m━━━━━━━━━━━━━━━━━━━━\u001b[0m\u001b[37m\u001b[0m \u001b[1m0s\u001b[0m 68ms/step - loss: 0.3364 - mape: 7.5348 - r2_score: 0.6518 - val_loss: 0.4839 - val_mape: 10.4218 - val_r2_score: 0.4107 - learning_rate: 0.0010\n",
      "Epoch 316/1000\n",
      "\u001b[1m5/5\u001b[0m \u001b[32m━━━━━━━━━━━━━━━━━━━━\u001b[0m\u001b[37m\u001b[0m \u001b[1m0s\u001b[0m 67ms/step - loss: 0.4316 - mape: 9.5273 - r2_score: 0.3984 - val_loss: 0.4920 - val_mape: 10.9413 - val_r2_score: 0.4034 - learning_rate: 0.0010\n",
      "Epoch 317/1000\n",
      "\u001b[1m5/5\u001b[0m \u001b[32m━━━━━━━━━━━━━━━━━━━━\u001b[0m\u001b[37m\u001b[0m \u001b[1m0s\u001b[0m 67ms/step - loss: 0.4312 - mape: 9.0526 - r2_score: 0.3825 - val_loss: 0.4913 - val_mape: 10.9678 - val_r2_score: 0.3866 - learning_rate: 0.0010\n",
      "Epoch 318/1000\n",
      "\u001b[1m5/5\u001b[0m \u001b[32m━━━━━━━━━━━━━━━━━━━━\u001b[0m\u001b[37m\u001b[0m \u001b[1m0s\u001b[0m 67ms/step - loss: 0.3459 - mape: 7.6978 - r2_score: 0.6097 - val_loss: 0.4686 - val_mape: 10.1602 - val_r2_score: 0.4567 - learning_rate: 0.0010\n",
      "Epoch 319/1000\n",
      "\u001b[1m5/5\u001b[0m \u001b[32m━━━━━━━━━━━━━━━━━━━━\u001b[0m\u001b[37m\u001b[0m \u001b[1m0s\u001b[0m 65ms/step - loss: 0.4530 - mape: 9.9737 - r2_score: 0.3446 - val_loss: 0.4668 - val_mape: 9.6837 - val_r2_score: 0.4247 - learning_rate: 0.0010\n",
      "Epoch 320/1000\n",
      "\u001b[1m5/5\u001b[0m \u001b[32m━━━━━━━━━━━━━━━━━━━━\u001b[0m\u001b[37m\u001b[0m \u001b[1m0s\u001b[0m 66ms/step - loss: 0.3728 - mape: 8.0494 - r2_score: 0.5158 - val_loss: 0.4932 - val_mape: 10.5229 - val_r2_score: 0.3364 - learning_rate: 0.0010\n",
      "Epoch 321/1000\n",
      "\u001b[1m5/5\u001b[0m \u001b[32m━━━━━━━━━━━━━━━━━━━━\u001b[0m\u001b[37m\u001b[0m \u001b[1m0s\u001b[0m 66ms/step - loss: 0.4561 - mape: 9.8438 - r2_score: 0.3469 - val_loss: 0.4638 - val_mape: 9.9568 - val_r2_score: 0.4601 - learning_rate: 0.0010\n",
      "Epoch 322/1000\n",
      "\u001b[1m5/5\u001b[0m \u001b[32m━━━━━━━━━━━━━━━━━━━━\u001b[0m\u001b[37m\u001b[0m \u001b[1m0s\u001b[0m 71ms/step - loss: 0.3765 - mape: 8.2206 - r2_score: 0.5746 - val_loss: 0.4437 - val_mape: 9.4956 - val_r2_score: 0.5109 - learning_rate: 0.0010\n",
      "Epoch 323/1000\n",
      "\u001b[1m5/5\u001b[0m \u001b[32m━━━━━━━━━━━━━━━━━━━━\u001b[0m\u001b[37m\u001b[0m \u001b[1m0s\u001b[0m 80ms/step - loss: 0.3763 - mape: 8.2672 - r2_score: 0.5420 - val_loss: 0.4225 - val_mape: 8.9238 - val_r2_score: 0.5682 - learning_rate: 0.0010\n",
      "Epoch 324/1000\n",
      "\u001b[1m5/5\u001b[0m \u001b[32m━━━━━━━━━━━━━━━━━━━━\u001b[0m\u001b[37m\u001b[0m \u001b[1m0s\u001b[0m 83ms/step - loss: 0.4021 - mape: 9.2048 - r2_score: 0.4300 - val_loss: 0.4235 - val_mape: 8.7431 - val_r2_score: 0.5719 - learning_rate: 0.0010\n",
      "Epoch 325/1000\n",
      "\u001b[1m5/5\u001b[0m \u001b[32m━━━━━━━━━━━━━━━━━━━━\u001b[0m\u001b[37m\u001b[0m \u001b[1m0s\u001b[0m 66ms/step - loss: 0.4007 - mape: 8.6856 - r2_score: 0.4855 - val_loss: 0.4886 - val_mape: 10.2222 - val_r2_score: 0.4412 - learning_rate: 0.0010\n",
      "Epoch 326/1000\n",
      "\u001b[1m5/5\u001b[0m \u001b[32m━━━━━━━━━━━━━━━━━━━━\u001b[0m\u001b[37m\u001b[0m \u001b[1m0s\u001b[0m 66ms/step - loss: 0.4564 - mape: 9.8286 - r2_score: 0.3157 - val_loss: 0.5305 - val_mape: 11.2355 - val_r2_score: 0.3456 - learning_rate: 0.0010\n",
      "Epoch 327/1000\n",
      "\u001b[1m5/5\u001b[0m \u001b[32m━━━━━━━━━━━━━━━━━━━━\u001b[0m\u001b[37m\u001b[0m \u001b[1m0s\u001b[0m 68ms/step - loss: 0.5446 - mape: 12.1257 - r2_score: -0.1283 - val_loss: 0.5426 - val_mape: 11.7140 - val_r2_score: 0.3214 - learning_rate: 0.0010\n",
      "Epoch 328/1000\n",
      "\u001b[1m5/5\u001b[0m \u001b[32m━━━━━━━━━━━━━━━━━━━━\u001b[0m\u001b[37m\u001b[0m \u001b[1m0s\u001b[0m 69ms/step - loss: 0.3538 - mape: 8.0724 - r2_score: 0.5975 - val_loss: 0.5227 - val_mape: 11.3178 - val_r2_score: 0.3509 - learning_rate: 0.0010\n",
      "Epoch 329/1000\n",
      "\u001b[1m5/5\u001b[0m \u001b[32m━━━━━━━━━━━━━━━━━━━━\u001b[0m\u001b[37m\u001b[0m \u001b[1m0s\u001b[0m 67ms/step - loss: 0.3817 - mape: 8.1818 - r2_score: 0.4643 - val_loss: 0.4967 - val_mape: 10.9283 - val_r2_score: 0.3420 - learning_rate: 0.0010\n",
      "Epoch 330/1000\n",
      "\u001b[1m5/5\u001b[0m \u001b[32m━━━━━━━━━━━━━━━━━━━━\u001b[0m\u001b[37m\u001b[0m \u001b[1m0s\u001b[0m 68ms/step - loss: 0.3173 - mape: 6.8109 - r2_score: 0.6665 - val_loss: 0.5104 - val_mape: 11.2569 - val_r2_score: 0.2457 - learning_rate: 0.0010\n",
      "Epoch 331/1000\n",
      "\u001b[1m5/5\u001b[0m \u001b[32m━━━━━━━━━━━━━━━━━━━━\u001b[0m\u001b[37m\u001b[0m \u001b[1m0s\u001b[0m 69ms/step - loss: 0.3199 - mape: 6.8920 - r2_score: 0.6748 - val_loss: 0.5253 - val_mape: 11.4593 - val_r2_score: 0.2455 - learning_rate: 0.0010\n",
      "Epoch 332/1000\n",
      "\u001b[1m5/5\u001b[0m \u001b[32m━━━━━━━━━━━━━━━━━━━━\u001b[0m\u001b[37m\u001b[0m \u001b[1m0s\u001b[0m 67ms/step - loss: 0.4002 - mape: 8.6034 - r2_score: 0.4301 - val_loss: 0.4506 - val_mape: 9.4445 - val_r2_score: 0.4438 - learning_rate: 0.0010\n",
      "Epoch 333/1000\n",
      "\u001b[1m5/5\u001b[0m \u001b[32m━━━━━━━━━━━━━━━━━━━━\u001b[0m\u001b[37m\u001b[0m \u001b[1m0s\u001b[0m 75ms/step - loss: 0.4694 - mape: 10.2094 - r2_score: 0.3706 - val_loss: 0.4588 - val_mape: 9.5879 - val_r2_score: 0.4332 - learning_rate: 0.0010\n",
      "Epoch 334/1000\n",
      "\u001b[1m5/5\u001b[0m \u001b[32m━━━━━━━━━━━━━━━━━━━━\u001b[0m\u001b[37m\u001b[0m \u001b[1m0s\u001b[0m 73ms/step - loss: 0.4118 - mape: 8.6245 - r2_score: 0.4631 - val_loss: 0.4693 - val_mape: 9.8846 - val_r2_score: 0.4473 - learning_rate: 0.0010\n",
      "Epoch 335/1000\n",
      "\u001b[1m5/5\u001b[0m \u001b[32m━━━━━━━━━━━━━━━━━━━━\u001b[0m\u001b[37m\u001b[0m \u001b[1m0s\u001b[0m 67ms/step - loss: 0.5041 - mape: 10.9893 - r2_score: 0.1647 - val_loss: 0.4439 - val_mape: 9.0821 - val_r2_score: 0.4763 - learning_rate: 0.0010\n",
      "Epoch 336/1000\n",
      "\u001b[1m5/5\u001b[0m \u001b[32m━━━━━━━━━━━━━━━━━━━━\u001b[0m\u001b[37m\u001b[0m \u001b[1m0s\u001b[0m 67ms/step - loss: 0.4187 - mape: 9.2950 - r2_score: 0.4157 - val_loss: 0.4613 - val_mape: 9.9001 - val_r2_score: 0.5145 - learning_rate: 0.0010\n",
      "Epoch 337/1000\n",
      "\u001b[1m5/5\u001b[0m \u001b[32m━━━━━━━━━━━━━━━━━━━━\u001b[0m\u001b[37m\u001b[0m \u001b[1m0s\u001b[0m 70ms/step - loss: 0.3642 - mape: 7.8545 - r2_score: 0.5849 - val_loss: 0.5031 - val_mape: 11.0675 - val_r2_score: 0.4212 - learning_rate: 0.0010\n",
      "Epoch 338/1000\n",
      "\u001b[1m5/5\u001b[0m \u001b[32m━━━━━━━━━━━━━━━━━━━━\u001b[0m\u001b[37m\u001b[0m \u001b[1m0s\u001b[0m 70ms/step - loss: 0.4359 - mape: 9.3439 - r2_score: 0.3048 - val_loss: 0.5251 - val_mape: 11.7599 - val_r2_score: 0.3280 - learning_rate: 0.0010\n",
      "Epoch 339/1000\n",
      "\u001b[1m5/5\u001b[0m \u001b[32m━━━━━━━━━━━━━━━━━━━━\u001b[0m\u001b[37m\u001b[0m \u001b[1m0s\u001b[0m 67ms/step - loss: 0.4747 - mape: 10.2184 - r2_score: 0.1357 - val_loss: 0.4669 - val_mape: 10.0854 - val_r2_score: 0.5072 - learning_rate: 0.0010\n",
      "Epoch 340/1000\n",
      "\u001b[1m5/5\u001b[0m \u001b[32m━━━━━━━━━━━━━━━━━━━━\u001b[0m\u001b[37m\u001b[0m \u001b[1m0s\u001b[0m 68ms/step - loss: 0.3646 - mape: 7.6751 - r2_score: 0.4724 - val_loss: 0.5306 - val_mape: 11.1559 - val_r2_score: 0.1620 - learning_rate: 0.0010\n",
      "Epoch 341/1000\n",
      "\u001b[1m5/5\u001b[0m \u001b[32m━━━━━━━━━━━━━━━━━━━━\u001b[0m\u001b[37m\u001b[0m \u001b[1m0s\u001b[0m 69ms/step - loss: 0.4929 - mape: 10.7184 - r2_score: 0.2048 - val_loss: 0.4806 - val_mape: 10.1034 - val_r2_score: 0.3273 - learning_rate: 0.0010\n",
      "Epoch 342/1000\n",
      "\u001b[1m5/5\u001b[0m \u001b[32m━━━━━━━━━━━━━━━━━━━━\u001b[0m\u001b[37m\u001b[0m \u001b[1m0s\u001b[0m 66ms/step - loss: 0.3725 - mape: 8.2868 - r2_score: 0.5615 - val_loss: 0.4797 - val_mape: 10.3164 - val_r2_score: 0.4207 - learning_rate: 0.0010\n",
      "Epoch 343/1000\n",
      "\u001b[1m5/5\u001b[0m \u001b[32m━━━━━━━━━━━━━━━━━━━━\u001b[0m\u001b[37m\u001b[0m \u001b[1m0s\u001b[0m 68ms/step - loss: 0.3463 - mape: 7.5313 - r2_score: 0.6177 - val_loss: 0.5247 - val_mape: 11.6756 - val_r2_score: 0.3163 - learning_rate: 0.0010\n",
      "Epoch 344/1000\n",
      "\u001b[1m5/5\u001b[0m \u001b[32m━━━━━━━━━━━━━━━━━━━━\u001b[0m\u001b[37m\u001b[0m \u001b[1m0s\u001b[0m 74ms/step - loss: 0.3364 - mape: 7.3593 - r2_score: 0.4938 - val_loss: 0.5299 - val_mape: 11.5611 - val_r2_score: 0.2694 - learning_rate: 0.0010\n",
      "Epoch 345/1000\n",
      "\u001b[1m5/5\u001b[0m \u001b[32m━━━━━━━━━━━━━━━━━━━━\u001b[0m\u001b[37m\u001b[0m \u001b[1m0s\u001b[0m 68ms/step - loss: 0.4557 - mape: 10.0239 - r2_score: 0.3377 - val_loss: 0.4908 - val_mape: 10.3638 - val_r2_score: 0.3047 - learning_rate: 0.0010\n",
      "Epoch 346/1000\n",
      "\u001b[1m5/5\u001b[0m \u001b[32m━━━━━━━━━━━━━━━━━━━━\u001b[0m\u001b[37m\u001b[0m \u001b[1m0s\u001b[0m 70ms/step - loss: 0.3564 - mape: 7.9067 - r2_score: 0.5785 - val_loss: 0.5085 - val_mape: 11.0662 - val_r2_score: 0.3322 - learning_rate: 0.0010\n",
      "Epoch 347/1000\n",
      "\u001b[1m5/5\u001b[0m \u001b[32m━━━━━━━━━━━━━━━━━━━━\u001b[0m\u001b[37m\u001b[0m \u001b[1m0s\u001b[0m 66ms/step - loss: 0.3407 - mape: 7.4599 - r2_score: 0.5569 - val_loss: 0.5467 - val_mape: 12.1380 - val_r2_score: 0.2330 - learning_rate: 0.0010\n",
      "Epoch 348/1000\n",
      "\u001b[1m5/5\u001b[0m \u001b[32m━━━━━━━━━━━━━━━━━━━━\u001b[0m\u001b[37m\u001b[0m \u001b[1m0s\u001b[0m 66ms/step - loss: 0.4104 - mape: 8.9344 - r2_score: 0.3958 - val_loss: 0.4965 - val_mape: 10.8408 - val_r2_score: 0.3815 - learning_rate: 0.0010\n",
      "Epoch 349/1000\n",
      "\u001b[1m5/5\u001b[0m \u001b[32m━━━━━━━━━━━━━━━━━━━━\u001b[0m\u001b[37m\u001b[0m \u001b[1m0s\u001b[0m 70ms/step - loss: 0.3352 - mape: 7.2958 - r2_score: 0.5489 - val_loss: 0.4501 - val_mape: 9.3205 - val_r2_score: 0.3815 - learning_rate: 0.0010\n",
      "Epoch 350/1000\n",
      "\u001b[1m5/5\u001b[0m \u001b[32m━━━━━━━━━━━━━━━━━━━━\u001b[0m\u001b[37m\u001b[0m \u001b[1m0s\u001b[0m 67ms/step - loss: 0.4406 - mape: 9.9780 - r2_score: 0.3006 - val_loss: 0.5378 - val_mape: 11.2893 - val_r2_score: 0.2485 - learning_rate: 0.0010\n",
      "Epoch 351/1000\n",
      "\u001b[1m5/5\u001b[0m \u001b[32m━━━━━━━━━━━━━━━━━━━━\u001b[0m\u001b[37m\u001b[0m \u001b[1m0s\u001b[0m 69ms/step - loss: 0.3821 - mape: 8.5918 - r2_score: 0.5337 - val_loss: 0.4464 - val_mape: 9.5751 - val_r2_score: 0.5496 - learning_rate: 0.0010\n",
      "Epoch 352/1000\n",
      "\u001b[1m5/5\u001b[0m \u001b[32m━━━━━━━━━━━━━━━━━━━━\u001b[0m\u001b[37m\u001b[0m \u001b[1m0s\u001b[0m 68ms/step - loss: 0.3877 - mape: 8.7700 - r2_score: 0.4952 - val_loss: 0.4720 - val_mape: 10.4645 - val_r2_score: 0.5084 - learning_rate: 0.0010\n",
      "Epoch 353/1000\n",
      "\u001b[1m5/5\u001b[0m \u001b[32m━━━━━━━━━━━━━━━━━━━━\u001b[0m\u001b[37m\u001b[0m \u001b[1m0s\u001b[0m 67ms/step - loss: 0.3361 - mape: 7.0716 - r2_score: 0.6079 - val_loss: 0.4671 - val_mape: 10.0534 - val_r2_score: 0.4460 - learning_rate: 0.0010\n",
      "Epoch 354/1000\n",
      "\u001b[1m5/5\u001b[0m \u001b[32m━━━━━━━━━━━━━━━━━━━━\u001b[0m\u001b[37m\u001b[0m \u001b[1m0s\u001b[0m 67ms/step - loss: 0.3577 - mape: 7.9199 - r2_score: 0.6094 - val_loss: 0.4776 - val_mape: 9.8553 - val_r2_score: 0.2167 - learning_rate: 0.0010\n",
      "Epoch 355/1000\n",
      "\u001b[1m5/5\u001b[0m \u001b[32m━━━━━━━━━━━━━━━━━━━━\u001b[0m\u001b[37m\u001b[0m \u001b[1m0s\u001b[0m 69ms/step - loss: 0.4460 - mape: 9.7248 - r2_score: 0.3710 - val_loss: 0.4763 - val_mape: 10.0239 - val_r2_score: 0.3790 - learning_rate: 0.0010\n",
      "Epoch 356/1000\n",
      "\u001b[1m5/5\u001b[0m \u001b[32m━━━━━━━━━━━━━━━━━━━━\u001b[0m\u001b[37m\u001b[0m \u001b[1m0s\u001b[0m 70ms/step - loss: 0.3307 - mape: 7.1141 - r2_score: 0.6163 - val_loss: 0.4724 - val_mape: 10.2506 - val_r2_score: 0.4355 - learning_rate: 0.0010\n",
      "Epoch 357/1000\n",
      "\u001b[1m5/5\u001b[0m \u001b[32m━━━━━━━━━━━━━━━━━━━━\u001b[0m\u001b[37m\u001b[0m \u001b[1m0s\u001b[0m 66ms/step - loss: 0.4172 - mape: 9.0872 - r2_score: 0.3835 - val_loss: 0.4987 - val_mape: 11.0289 - val_r2_score: 0.3318 - learning_rate: 0.0010\n",
      "Epoch 358/1000\n",
      "\u001b[1m5/5\u001b[0m \u001b[32m━━━━━━━━━━━━━━━━━━━━\u001b[0m\u001b[37m\u001b[0m \u001b[1m0s\u001b[0m 72ms/step - loss: 0.4195 - mape: 9.1443 - r2_score: 0.3403 - val_loss: 0.5359 - val_mape: 11.6671 - val_r2_score: 0.1944 - learning_rate: 0.0010\n",
      "Epoch 359/1000\n",
      "\u001b[1m5/5\u001b[0m \u001b[32m━━━━━━━━━━━━━━━━━━━━\u001b[0m\u001b[37m\u001b[0m \u001b[1m0s\u001b[0m 73ms/step - loss: 0.3634 - mape: 7.8919 - r2_score: 0.6196 - val_loss: 0.5218 - val_mape: 11.3483 - val_r2_score: 0.2657 - learning_rate: 0.0010\n",
      "Epoch 360/1000\n",
      "\u001b[1m5/5\u001b[0m \u001b[32m━━━━━━━━━━━━━━━━━━━━\u001b[0m\u001b[37m\u001b[0m \u001b[1m0s\u001b[0m 69ms/step - loss: 0.3349 - mape: 7.3510 - r2_score: 0.5390 - val_loss: 0.4768 - val_mape: 10.3314 - val_r2_score: 0.4939 - learning_rate: 0.0010\n",
      "Epoch 361/1000\n",
      "\u001b[1m5/5\u001b[0m \u001b[32m━━━━━━━━━━━━━━━━━━━━\u001b[0m\u001b[37m\u001b[0m \u001b[1m0s\u001b[0m 69ms/step - loss: 0.4453 - mape: 9.8776 - r2_score: 0.3365 - val_loss: 0.4697 - val_mape: 9.8641 - val_r2_score: 0.4791 - learning_rate: 0.0010\n",
      "Epoch 362/1000\n",
      "\u001b[1m5/5\u001b[0m \u001b[32m━━━━━━━━━━━━━━━━━━━━\u001b[0m\u001b[37m\u001b[0m \u001b[1m1s\u001b[0m 80ms/step - loss: 0.3843 - mape: 8.4041 - r2_score: 0.4951 - val_loss: 0.4893 - val_mape: 10.3979 - val_r2_score: 0.4417 - learning_rate: 0.0010\n",
      "Epoch 363/1000\n",
      "\u001b[1m5/5\u001b[0m \u001b[32m━━━━━━━━━━━━━━━━━━━━\u001b[0m\u001b[37m\u001b[0m \u001b[1m0s\u001b[0m 67ms/step - loss: 0.4207 - mape: 9.1734 - r2_score: 0.4672 - val_loss: 0.5164 - val_mape: 11.4259 - val_r2_score: 0.3260 - learning_rate: 0.0010\n",
      "Epoch 364/1000\n",
      "\u001b[1m5/5\u001b[0m \u001b[32m━━━━━━━━━━━━━━━━━━━━\u001b[0m\u001b[37m\u001b[0m \u001b[1m0s\u001b[0m 74ms/step - loss: 0.5169 - mape: 11.0066 - r2_score: 0.0287 - val_loss: 0.5525 - val_mape: 12.4953 - val_r2_score: 0.1818 - learning_rate: 0.0010\n",
      "Epoch 365/1000\n",
      "\u001b[1m5/5\u001b[0m \u001b[32m━━━━━━━━━━━━━━━━━━━━\u001b[0m\u001b[37m\u001b[0m \u001b[1m0s\u001b[0m 67ms/step - loss: 0.3560 - mape: 7.7440 - r2_score: 0.6023 - val_loss: 0.5254 - val_mape: 11.5772 - val_r2_score: 0.3123 - learning_rate: 0.0010\n",
      "Epoch 366/1000\n",
      "\u001b[1m5/5\u001b[0m \u001b[32m━━━━━━━━━━━━━━━━━━━━\u001b[0m\u001b[37m\u001b[0m \u001b[1m0s\u001b[0m 68ms/step - loss: 0.3569 - mape: 7.8372 - r2_score: 0.5908 - val_loss: 0.5171 - val_mape: 11.0391 - val_r2_score: 0.2423 - learning_rate: 0.0010\n",
      "Epoch 367/1000\n",
      "\u001b[1m5/5\u001b[0m \u001b[32m━━━━━━━━━━━━━━━━━━━━\u001b[0m\u001b[37m\u001b[0m \u001b[1m0s\u001b[0m 70ms/step - loss: 0.5340 - mape: 11.4076 - r2_score: 0.0568 - val_loss: 0.5234 - val_mape: 11.1966 - val_r2_score: 0.1880 - learning_rate: 0.0010\n",
      "Epoch 368/1000\n",
      "\u001b[1m5/5\u001b[0m \u001b[32m━━━━━━━━━━━━━━━━━━━━\u001b[0m\u001b[37m\u001b[0m \u001b[1m0s\u001b[0m 67ms/step - loss: 0.3001 - mape: 6.4692 - r2_score: 0.6929 - val_loss: 0.5775 - val_mape: 12.6481 - val_r2_score: 9.5719e-04 - learning_rate: 0.0010\n",
      "Epoch 369/1000\n",
      "\u001b[1m5/5\u001b[0m \u001b[32m━━━━━━━━━━━━━━━━━━━━\u001b[0m\u001b[37m\u001b[0m \u001b[1m0s\u001b[0m 67ms/step - loss: 0.3767 - mape: 8.2125 - r2_score: 0.4818 - val_loss: 0.5765 - val_mape: 12.7117 - val_r2_score: 0.0627 - learning_rate: 0.0010\n",
      "Epoch 370/1000\n",
      "\u001b[1m5/5\u001b[0m \u001b[32m━━━━━━━━━━━━━━━━━━━━\u001b[0m\u001b[37m\u001b[0m \u001b[1m0s\u001b[0m 67ms/step - loss: 0.3756 - mape: 7.7133 - r2_score: 0.3380 - val_loss: 0.5123 - val_mape: 10.7313 - val_r2_score: 0.1589 - learning_rate: 0.0010\n",
      "Epoch 371/1000\n",
      "\u001b[1m5/5\u001b[0m \u001b[32m━━━━━━━━━━━━━━━━━━━━\u001b[0m\u001b[37m\u001b[0m \u001b[1m0s\u001b[0m 66ms/step - loss: 0.2890 - mape: 6.4053 - r2_score: 0.6855 - val_loss: 0.4999 - val_mape: 10.4109 - val_r2_score: 0.1953 - learning_rate: 0.0010\n",
      "Epoch 372/1000\n",
      "\u001b[1m5/5\u001b[0m \u001b[32m━━━━━━━━━━━━━━━━━━━━\u001b[0m\u001b[37m\u001b[0m \u001b[1m0s\u001b[0m 68ms/step - loss: 0.4235 - mape: 9.2634 - r2_score: 0.4864 - val_loss: 0.5411 - val_mape: 11.6829 - val_r2_score: 0.1606 - learning_rate: 0.0010\n",
      "Epoch 373/1000\n",
      "\u001b[1m5/5\u001b[0m \u001b[32m━━━━━━━━━━━━━━━━━━━━\u001b[0m\u001b[37m\u001b[0m \u001b[1m0s\u001b[0m 69ms/step - loss: 0.3899 - mape: 8.1925 - r2_score: 0.4895 - val_loss: 0.5711 - val_mape: 12.3901 - val_r2_score: 0.0403 - learning_rate: 0.0010\n",
      "Epoch 374/1000\n",
      "\u001b[1m5/5\u001b[0m \u001b[32m━━━━━━━━━━━━━━━━━━━━\u001b[0m\u001b[37m\u001b[0m \u001b[1m0s\u001b[0m 67ms/step - loss: 0.3925 - mape: 8.6110 - r2_score: 0.4971 - val_loss: 0.5491 - val_mape: 11.6474 - val_r2_score: 0.0164 - learning_rate: 0.0010\n",
      "Epoch 375/1000\n",
      "\u001b[1m5/5\u001b[0m \u001b[32m━━━━━━━━━━━━━━━━━━━━\u001b[0m\u001b[37m\u001b[0m \u001b[1m0s\u001b[0m 66ms/step - loss: 0.4186 - mape: 9.1301 - r2_score: 0.4668 - val_loss: 0.5234 - val_mape: 10.9718 - val_r2_score: 0.0899 - learning_rate: 0.0010\n",
      "Epoch 376/1000\n",
      "\u001b[1m5/5\u001b[0m \u001b[32m━━━━━━━━━━━━━━━━━━━━\u001b[0m\u001b[37m\u001b[0m \u001b[1m0s\u001b[0m 68ms/step - loss: 0.3418 - mape: 7.4270 - r2_score: 0.5548 - val_loss: 0.5336 - val_mape: 11.4250 - val_r2_score: 0.1828 - learning_rate: 0.0010\n",
      "Epoch 377/1000\n",
      "\u001b[1m5/5\u001b[0m \u001b[32m━━━━━━━━━━━━━━━━━━━━\u001b[0m\u001b[37m\u001b[0m \u001b[1m0s\u001b[0m 67ms/step - loss: 0.4050 - mape: 8.9661 - r2_score: 0.4170 - val_loss: 0.5727 - val_mape: 12.7819 - val_r2_score: 0.1229 - learning_rate: 0.0010\n",
      "Epoch 378/1000\n",
      "\u001b[1m5/5\u001b[0m \u001b[32m━━━━━━━━━━━━━━━━━━━━\u001b[0m\u001b[37m\u001b[0m \u001b[1m0s\u001b[0m 67ms/step - loss: 0.3947 - mape: 8.4438 - r2_score: 0.5291 - val_loss: 0.5768 - val_mape: 13.0389 - val_r2_score: 0.1104 - learning_rate: 0.0010\n",
      "Epoch 379/1000\n",
      "\u001b[1m5/5\u001b[0m \u001b[32m━━━━━━━━━━━━━━━━━━━━\u001b[0m\u001b[37m\u001b[0m \u001b[1m0s\u001b[0m 70ms/step - loss: 0.3926 - mape: 8.2683 - r2_score: 0.4479 - val_loss: 0.5371 - val_mape: 11.5205 - val_r2_score: 0.2348 - learning_rate: 0.0010\n",
      "Epoch 380/1000\n",
      "\u001b[1m5/5\u001b[0m \u001b[32m━━━━━━━━━━━━━━━━━━━━\u001b[0m\u001b[37m\u001b[0m \u001b[1m0s\u001b[0m 66ms/step - loss: 0.3999 - mape: 8.7403 - r2_score: 0.5357 - val_loss: 0.5327 - val_mape: 11.5560 - val_r2_score: 0.2697 - learning_rate: 0.0010\n",
      "Epoch 381/1000\n",
      "\u001b[1m5/5\u001b[0m \u001b[32m━━━━━━━━━━━━━━━━━━━━\u001b[0m\u001b[37m\u001b[0m \u001b[1m0s\u001b[0m 67ms/step - loss: 0.3858 - mape: 8.3787 - r2_score: 0.5768 - val_loss: 0.5326 - val_mape: 11.6201 - val_r2_score: 0.2978 - learning_rate: 0.0010\n",
      "Epoch 382/1000\n",
      "\u001b[1m5/5\u001b[0m \u001b[32m━━━━━━━━━━━━━━━━━━━━\u001b[0m\u001b[37m\u001b[0m \u001b[1m0s\u001b[0m 77ms/step - loss: 0.3633 - mape: 7.9165 - r2_score: 0.5165 - val_loss: 0.5129 - val_mape: 10.9575 - val_r2_score: 0.3183 - learning_rate: 0.0010\n",
      "Epoch 383/1000\n",
      "\u001b[1m5/5\u001b[0m \u001b[32m━━━━━━━━━━━━━━━━━━━━\u001b[0m\u001b[37m\u001b[0m \u001b[1m0s\u001b[0m 68ms/step - loss: 0.2716 - mape: 6.0272 - r2_score: 0.7197 - val_loss: 0.4967 - val_mape: 10.4457 - val_r2_score: 0.3371 - learning_rate: 0.0010\n",
      "Epoch 384/1000\n",
      "\u001b[1m5/5\u001b[0m \u001b[32m━━━━━━━━━━━━━━━━━━━━\u001b[0m\u001b[37m\u001b[0m \u001b[1m0s\u001b[0m 68ms/step - loss: 0.3796 - mape: 8.1003 - r2_score: 0.5099 - val_loss: 0.4813 - val_mape: 9.8801 - val_r2_score: 0.2938 - learning_rate: 0.0010\n",
      "Epoch 385/1000\n",
      "\u001b[1m5/5\u001b[0m \u001b[32m━━━━━━━━━━━━━━━━━━━━\u001b[0m\u001b[37m\u001b[0m \u001b[1m0s\u001b[0m 71ms/step - loss: 0.3949 - mape: 8.5254 - r2_score: 0.4984 - val_loss: 0.5013 - val_mape: 10.3595 - val_r2_score: 0.2163 - learning_rate: 0.0010\n",
      "Epoch 386/1000\n",
      "\u001b[1m5/5\u001b[0m \u001b[32m━━━━━━━━━━━━━━━━━━━━\u001b[0m\u001b[37m\u001b[0m \u001b[1m0s\u001b[0m 69ms/step - loss: 0.3636 - mape: 8.1458 - r2_score: 0.5401 - val_loss: 0.5103 - val_mape: 10.7819 - val_r2_score: 0.2652 - learning_rate: 0.0010\n",
      "Epoch 387/1000\n",
      "\u001b[1m5/5\u001b[0m \u001b[32m━━━━━━━━━━━━━━━━━━━━\u001b[0m\u001b[37m\u001b[0m \u001b[1m0s\u001b[0m 69ms/step - loss: 0.3259 - mape: 7.0446 - r2_score: 0.6698 - val_loss: 0.5134 - val_mape: 11.0054 - val_r2_score: 0.2870 - learning_rate: 0.0010\n",
      "Epoch 388/1000\n",
      "\u001b[1m5/5\u001b[0m \u001b[32m━━━━━━━━━━━━━━━━━━━━\u001b[0m\u001b[37m\u001b[0m \u001b[1m0s\u001b[0m 67ms/step - loss: 0.3653 - mape: 8.0286 - r2_score: 0.5264 - val_loss: 0.5529 - val_mape: 12.0679 - val_r2_score: 0.1413 - learning_rate: 0.0010\n",
      "Epoch 389/1000\n",
      "\u001b[1m5/5\u001b[0m \u001b[32m━━━━━━━━━━━━━━━━━━━━\u001b[0m\u001b[37m\u001b[0m \u001b[1m0s\u001b[0m 69ms/step - loss: 0.3860 - mape: 8.2658 - r2_score: 0.5733 - val_loss: 0.5598 - val_mape: 11.9678 - val_r2_score: 0.0364 - learning_rate: 0.0010\n",
      "Epoch 390/1000\n",
      "\u001b[1m5/5\u001b[0m \u001b[32m━━━━━━━━━━━━━━━━━━━━\u001b[0m\u001b[37m\u001b[0m \u001b[1m0s\u001b[0m 69ms/step - loss: 0.4192 - mape: 8.9399 - r2_score: 0.4361 - val_loss: 0.5669 - val_mape: 11.9009 - val_r2_score: -0.0121 - learning_rate: 0.0010\n",
      "Epoch 391/1000\n",
      "\u001b[1m5/5\u001b[0m \u001b[32m━━━━━━━━━━━━━━━━━━━━\u001b[0m\u001b[37m\u001b[0m \u001b[1m0s\u001b[0m 75ms/step - loss: 0.3194 - mape: 6.8650 - r2_score: 0.6492 - val_loss: 0.5524 - val_mape: 11.8985 - val_r2_score: 0.1531 - learning_rate: 0.0010\n",
      "Epoch 392/1000\n",
      "\u001b[1m5/5\u001b[0m \u001b[32m━━━━━━━━━━━━━━━━━━━━\u001b[0m\u001b[37m\u001b[0m \u001b[1m0s\u001b[0m 73ms/step - loss: 0.3915 - mape: 8.3920 - r2_score: 0.5491 - val_loss: 0.5386 - val_mape: 11.5718 - val_r2_score: 0.1944 - learning_rate: 0.0010\n",
      "Epoch 393/1000\n",
      "\u001b[1m5/5\u001b[0m \u001b[32m━━━━━━━━━━━━━━━━━━━━\u001b[0m\u001b[37m\u001b[0m \u001b[1m0s\u001b[0m 72ms/step - loss: 0.3874 - mape: 8.4799 - r2_score: 0.5145 - val_loss: 0.5592 - val_mape: 12.3059 - val_r2_score: 0.1749 - learning_rate: 0.0010\n",
      "Epoch 394/1000\n",
      "\u001b[1m5/5\u001b[0m \u001b[32m━━━━━━━━━━━━━━━━━━━━\u001b[0m\u001b[37m\u001b[0m \u001b[1m0s\u001b[0m 71ms/step - loss: 0.4105 - mape: 8.7796 - r2_score: 0.4024 - val_loss: 0.5463 - val_mape: 12.1233 - val_r2_score: 0.2772 - learning_rate: 0.0010\n",
      "Epoch 395/1000\n",
      "\u001b[1m5/5\u001b[0m \u001b[32m━━━━━━━━━━━━━━━━━━━━\u001b[0m\u001b[37m\u001b[0m \u001b[1m0s\u001b[0m 70ms/step - loss: 0.3882 - mape: 8.1834 - r2_score: 0.4987 - val_loss: 0.5108 - val_mape: 11.0389 - val_r2_score: 0.3641 - learning_rate: 0.0010\n",
      "Epoch 396/1000\n",
      "\u001b[1m5/5\u001b[0m \u001b[32m━━━━━━━━━━━━━━━━━━━━\u001b[0m\u001b[37m\u001b[0m \u001b[1m0s\u001b[0m 78ms/step - loss: 0.3652 - mape: 7.8219 - r2_score: 0.5597 - val_loss: 0.5183 - val_mape: 11.0037 - val_r2_score: 0.2457 - learning_rate: 0.0010\n",
      "Epoch 397/1000\n",
      "\u001b[1m5/5\u001b[0m \u001b[32m━━━━━━━━━━━━━━━━━━━━\u001b[0m\u001b[37m\u001b[0m \u001b[1m0s\u001b[0m 72ms/step - loss: 0.4105 - mape: 8.7433 - r2_score: 0.4709 - val_loss: 0.5265 - val_mape: 11.4263 - val_r2_score: 0.2807 - learning_rate: 0.0010\n",
      "Epoch 398/1000\n",
      "\u001b[1m5/5\u001b[0m \u001b[32m━━━━━━━━━━━━━━━━━━━━\u001b[0m\u001b[37m\u001b[0m \u001b[1m0s\u001b[0m 75ms/step - loss: 0.3898 - mape: 8.6647 - r2_score: 0.4936 - val_loss: 0.4968 - val_mape: 10.6802 - val_r2_score: 0.3904 - learning_rate: 0.0010\n",
      "Epoch 399/1000\n",
      "\u001b[1m5/5\u001b[0m \u001b[32m━━━━━━━━━━━━━━━━━━━━\u001b[0m\u001b[37m\u001b[0m \u001b[1m0s\u001b[0m 87ms/step - loss: 0.3854 - mape: 8.4341 - r2_score: 0.5498 - val_loss: 0.4668 - val_mape: 9.6567 - val_r2_score: 0.4140 - learning_rate: 0.0010\n",
      "Epoch 400/1000\n",
      "\u001b[1m5/5\u001b[0m \u001b[32m━━━━━━━━━━━━━━━━━━━━\u001b[0m\u001b[37m\u001b[0m \u001b[1m0s\u001b[0m 83ms/step - loss: 0.4112 - mape: 9.1828 - r2_score: 0.4279 - val_loss: 0.5146 - val_mape: 10.6837 - val_r2_score: 0.1151 - learning_rate: 0.0010\n",
      "Epoch 401/1000\n",
      "\u001b[1m5/5\u001b[0m \u001b[32m━━━━━━━━━━━━━━━━━━━━\u001b[0m\u001b[37m\u001b[0m \u001b[1m0s\u001b[0m 71ms/step - loss: 0.4143 - mape: 9.0171 - r2_score: 0.4357 - val_loss: 0.5080 - val_mape: 10.4682 - val_r2_score: 0.0979 - learning_rate: 0.0010\n",
      "Epoch 402/1000\n",
      "\u001b[1m5/5\u001b[0m \u001b[32m━━━━━━━━━━━━━━━━━━━━\u001b[0m\u001b[37m\u001b[0m \u001b[1m0s\u001b[0m 80ms/step - loss: 0.4757 - mape: 10.6379 - r2_score: 0.2680 - val_loss: 0.4865 - val_mape: 10.2114 - val_r2_score: 0.3165 - learning_rate: 0.0010\n",
      "Epoch 403/1000\n",
      "\u001b[1m5/5\u001b[0m \u001b[32m━━━━━━━━━━━━━━━━━━━━\u001b[0m\u001b[37m\u001b[0m \u001b[1m0s\u001b[0m 74ms/step - loss: 0.4175 - mape: 9.1248 - r2_score: 0.3801 - val_loss: 0.5423 - val_mape: 11.9534 - val_r2_score: 0.2852 - learning_rate: 0.0010\n",
      "Epoch 404/1000\n",
      "\u001b[1m5/5\u001b[0m \u001b[32m━━━━━━━━━━━━━━━━━━━━\u001b[0m\u001b[37m\u001b[0m \u001b[1m0s\u001b[0m 70ms/step - loss: 0.3386 - mape: 7.5816 - r2_score: 0.5905 - val_loss: 0.5995 - val_mape: 13.6861 - val_r2_score: 0.0726 - learning_rate: 0.0010\n",
      "Epoch 405/1000\n",
      "\u001b[1m5/5\u001b[0m \u001b[32m━━━━━━━━━━━━━━━━━━━━\u001b[0m\u001b[37m\u001b[0m \u001b[1m0s\u001b[0m 68ms/step - loss: 0.3877 - mape: 8.5301 - r2_score: 0.5470 - val_loss: 0.5808 - val_mape: 13.0542 - val_r2_score: 0.0980 - learning_rate: 0.0010\n",
      "Epoch 406/1000\n",
      "\u001b[1m5/5\u001b[0m \u001b[32m━━━━━━━━━━━━━━━━━━━━\u001b[0m\u001b[37m\u001b[0m \u001b[1m0s\u001b[0m 68ms/step - loss: 0.3707 - mape: 8.0385 - r2_score: 0.5760 - val_loss: 0.5858 - val_mape: 13.0637 - val_r2_score: 0.0197 - learning_rate: 0.0010\n",
      "Epoch 407/1000\n",
      "\u001b[1m5/5\u001b[0m \u001b[32m━━━━━━━━━━━━━━━━━━━━\u001b[0m\u001b[37m\u001b[0m \u001b[1m0s\u001b[0m 75ms/step - loss: 0.3839 - mape: 8.4763 - r2_score: 0.5043 - val_loss: 0.6133 - val_mape: 13.3498 - val_r2_score: -0.0497 - learning_rate: 0.0010\n",
      "Epoch 408/1000\n",
      "\u001b[1m5/5\u001b[0m \u001b[32m━━━━━━━━━━━━━━━━━━━━\u001b[0m\u001b[37m\u001b[0m \u001b[1m0s\u001b[0m 71ms/step - loss: 0.3983 - mape: 8.7162 - r2_score: 0.4445 - val_loss: 0.5276 - val_mape: 11.1019 - val_r2_score: 0.2490 - learning_rate: 0.0010\n",
      "Epoch 409/1000\n",
      "\u001b[1m5/5\u001b[0m \u001b[32m━━━━━━━━━━━━━━━━━━━━\u001b[0m\u001b[37m\u001b[0m \u001b[1m0s\u001b[0m 70ms/step - loss: 0.3813 - mape: 8.4805 - r2_score: 0.5097 - val_loss: 0.4810 - val_mape: 9.9613 - val_r2_score: 0.4327 - learning_rate: 0.0010\n",
      "Epoch 410/1000\n",
      "\u001b[1m5/5\u001b[0m \u001b[32m━━━━━━━━━━━━━━━━━━━━\u001b[0m\u001b[37m\u001b[0m \u001b[1m0s\u001b[0m 71ms/step - loss: 0.4682 - mape: 10.1197 - r2_score: 0.2458 - val_loss: 0.4849 - val_mape: 10.1926 - val_r2_score: 0.3964 - learning_rate: 0.0010\n",
      "Epoch 411/1000\n",
      "\u001b[1m5/5\u001b[0m \u001b[32m━━━━━━━━━━━━━━━━━━━━\u001b[0m\u001b[37m\u001b[0m \u001b[1m0s\u001b[0m 74ms/step - loss: 0.3572 - mape: 7.5917 - r2_score: 0.5960 - val_loss: 0.5064 - val_mape: 10.7159 - val_r2_score: 0.3266 - learning_rate: 0.0010\n",
      "Epoch 412/1000\n",
      "\u001b[1m5/5\u001b[0m \u001b[32m━━━━━━━━━━━━━━━━━━━━\u001b[0m\u001b[37m\u001b[0m \u001b[1m0s\u001b[0m 69ms/step - loss: 0.3263 - mape: 7.1695 - r2_score: 0.6635 - val_loss: 0.5232 - val_mape: 11.1872 - val_r2_score: 0.2855 - learning_rate: 0.0010\n",
      "Epoch 413/1000\n",
      "\u001b[1m5/5\u001b[0m \u001b[32m━━━━━━━━━━━━━━━━━━━━\u001b[0m\u001b[37m\u001b[0m \u001b[1m0s\u001b[0m 70ms/step - loss: 0.3342 - mape: 7.6433 - r2_score: 0.5649 - val_loss: 0.5220 - val_mape: 11.2236 - val_r2_score: 0.3024 - learning_rate: 0.0010\n",
      "Epoch 414/1000\n",
      "\u001b[1m5/5\u001b[0m \u001b[32m━━━━━━━━━━━━━━━━━━━━\u001b[0m\u001b[37m\u001b[0m \u001b[1m0s\u001b[0m 71ms/step - loss: 0.3256 - mape: 7.3412 - r2_score: 0.6676 - val_loss: 0.5337 - val_mape: 11.4933 - val_r2_score: 0.2497 - learning_rate: 0.0010\n",
      "Epoch 415/1000\n",
      "\u001b[1m5/5\u001b[0m \u001b[32m━━━━━━━━━━━━━━━━━━━━\u001b[0m\u001b[37m\u001b[0m \u001b[1m0s\u001b[0m 70ms/step - loss: 0.3783 - mape: 8.1685 - r2_score: 0.4949 - val_loss: 0.6084 - val_mape: 13.0083 - val_r2_score: -0.0543 - learning_rate: 0.0010\n",
      "Epoch 416/1000\n",
      "\u001b[1m5/5\u001b[0m \u001b[32m━━━━━━━━━━━━━━━━━━━━\u001b[0m\u001b[37m\u001b[0m \u001b[1m0s\u001b[0m 72ms/step - loss: 0.5253 - mape: 11.5731 - r2_score: 0.1576 - val_loss: 0.5382 - val_mape: 11.1110 - val_r2_score: 0.0521 - learning_rate: 0.0010\n",
      "Epoch 417/1000\n",
      "\u001b[1m5/5\u001b[0m \u001b[32m━━━━━━━━━━━━━━━━━━━━\u001b[0m\u001b[37m\u001b[0m \u001b[1m0s\u001b[0m 75ms/step - loss: 0.3572 - mape: 8.1094 - r2_score: 0.5646 - val_loss: 0.5001 - val_mape: 10.1919 - val_r2_score: 0.1805 - learning_rate: 0.0010\n",
      "Epoch 418/1000\n",
      "\u001b[1m5/5\u001b[0m \u001b[32m━━━━━━━━━━━━━━━━━━━━\u001b[0m\u001b[37m\u001b[0m \u001b[1m0s\u001b[0m 72ms/step - loss: 0.4090 - mape: 8.9963 - r2_score: 0.4563 - val_loss: 0.5101 - val_mape: 10.8030 - val_r2_score: 0.2908 - learning_rate: 0.0010\n",
      "Epoch 419/1000\n",
      "\u001b[1m5/5\u001b[0m \u001b[32m━━━━━━━━━━━━━━━━━━━━\u001b[0m\u001b[37m\u001b[0m \u001b[1m0s\u001b[0m 72ms/step - loss: 0.3366 - mape: 7.5425 - r2_score: 0.6062 - val_loss: 0.5254 - val_mape: 11.3899 - val_r2_score: 0.2611 - learning_rate: 0.0010\n",
      "Epoch 420/1000\n",
      "\u001b[1m5/5\u001b[0m \u001b[32m━━━━━━━━━━━━━━━━━━━━\u001b[0m\u001b[37m\u001b[0m \u001b[1m0s\u001b[0m 74ms/step - loss: 0.3444 - mape: 7.6286 - r2_score: 0.6056 - val_loss: 0.5573 - val_mape: 12.2654 - val_r2_score: 0.1507 - learning_rate: 0.0010\n",
      "Epoch 421/1000\n",
      "\u001b[1m5/5\u001b[0m \u001b[32m━━━━━━━━━━━━━━━━━━━━\u001b[0m\u001b[37m\u001b[0m \u001b[1m1s\u001b[0m 71ms/step - loss: 0.3602 - mape: 7.9849 - r2_score: 0.5721 - val_loss: 0.5729 - val_mape: 12.7453 - val_r2_score: 0.1012 - learning_rate: 0.0010\n",
      "Epoch 422/1000\n",
      "\u001b[1m5/5\u001b[0m \u001b[32m━━━━━━━━━━━━━━━━━━━━\u001b[0m\u001b[37m\u001b[0m \u001b[1m0s\u001b[0m 69ms/step - loss: 0.4276 - mape: 9.6822 - r2_score: 0.2598 - val_loss: 0.5529 - val_mape: 12.2391 - val_r2_score: 0.1895 - learning_rate: 0.0010\n",
      "Epoch 423/1000\n",
      "\u001b[1m5/5\u001b[0m \u001b[32m━━━━━━━━━━━━━━━━━━━━\u001b[0m\u001b[37m\u001b[0m \u001b[1m0s\u001b[0m 79ms/step - loss: 0.4677 - mape: 10.1641 - r2_score: 0.2944 - val_loss: 0.5055 - val_mape: 10.6210 - val_r2_score: 0.2921 - learning_rate: 0.0010\n",
      "Epoch 424/1000\n",
      "\u001b[1m5/5\u001b[0m \u001b[32m━━━━━━━━━━━━━━━━━━━━\u001b[0m\u001b[37m\u001b[0m \u001b[1m0s\u001b[0m 72ms/step - loss: 0.3713 - mape: 8.2135 - r2_score: 0.5732 - val_loss: 0.5129 - val_mape: 10.6747 - val_r2_score: 0.1970 - learning_rate: 0.0010\n",
      "Epoch 425/1000\n",
      "\u001b[1m5/5\u001b[0m \u001b[32m━━━━━━━━━━━━━━━━━━━━\u001b[0m\u001b[37m\u001b[0m \u001b[1m0s\u001b[0m 71ms/step - loss: 0.3128 - mape: 7.0517 - r2_score: 0.6812 - val_loss: 0.4924 - val_mape: 10.2429 - val_r2_score: 0.3134 - learning_rate: 0.0010\n",
      "Epoch 426/1000\n",
      "\u001b[1m5/5\u001b[0m \u001b[32m━━━━━━━━━━━━━━━━━━━━\u001b[0m\u001b[37m\u001b[0m \u001b[1m0s\u001b[0m 75ms/step - loss: 0.3688 - mape: 8.0385 - r2_score: 0.5803 - val_loss: 0.5203 - val_mape: 11.1487 - val_r2_score: 0.2872 - learning_rate: 0.0010\n",
      "Epoch 427/1000\n",
      "\u001b[1m5/5\u001b[0m \u001b[32m━━━━━━━━━━━━━━━━━━━━\u001b[0m\u001b[37m\u001b[0m \u001b[1m0s\u001b[0m 70ms/step - loss: 0.3740 - mape: 7.9808 - r2_score: 0.5423 - val_loss: 0.5700 - val_mape: 12.9162 - val_r2_score: 0.1607 - learning_rate: 0.0010\n",
      "Epoch 428/1000\n",
      "\u001b[1m5/5\u001b[0m \u001b[32m━━━━━━━━━━━━━━━━━━━━\u001b[0m\u001b[37m\u001b[0m \u001b[1m0s\u001b[0m 71ms/step - loss: 0.3524 - mape: 7.8124 - r2_score: 0.6107 - val_loss: 0.5530 - val_mape: 12.3269 - val_r2_score: 0.2357 - learning_rate: 0.0010\n",
      "Epoch 429/1000\n",
      "\u001b[1m5/5\u001b[0m \u001b[32m━━━━━━━━━━━━━━━━━━━━\u001b[0m\u001b[37m\u001b[0m \u001b[1m0s\u001b[0m 76ms/step - loss: 0.3632 - mape: 7.6830 - r2_score: 0.5711 - val_loss: 0.5377 - val_mape: 11.6928 - val_r2_score: 0.2351 - learning_rate: 0.0010\n",
      "Epoch 430/1000\n",
      "\u001b[1m5/5\u001b[0m \u001b[32m━━━━━━━━━━━━━━━━━━━━\u001b[0m\u001b[37m\u001b[0m \u001b[1m0s\u001b[0m 73ms/step - loss: 0.3667 - mape: 8.1744 - r2_score: 0.4979 - val_loss: 0.5360 - val_mape: 11.7925 - val_r2_score: 0.2443 - learning_rate: 0.0010\n",
      "Epoch 431/1000\n",
      "\u001b[1m5/5\u001b[0m \u001b[32m━━━━━━━━━━━━━━━━━━━━\u001b[0m\u001b[37m\u001b[0m \u001b[1m0s\u001b[0m 73ms/step - loss: 0.3539 - mape: 7.5725 - r2_score: 0.6558 - val_loss: 0.5127 - val_mape: 11.1989 - val_r2_score: 0.3356 - learning_rate: 0.0010\n",
      "Epoch 432/1000\n",
      "\u001b[1m5/5\u001b[0m \u001b[32m━━━━━━━━━━━━━━━━━━━━\u001b[0m\u001b[37m\u001b[0m \u001b[1m0s\u001b[0m 71ms/step - loss: 0.3145 - mape: 6.7185 - r2_score: 0.6594 - val_loss: 0.4855 - val_mape: 10.4328 - val_r2_score: 0.4153 - learning_rate: 0.0010\n",
      "Epoch 433/1000\n",
      "\u001b[1m5/5\u001b[0m \u001b[32m━━━━━━━━━━━━━━━━━━━━\u001b[0m\u001b[37m\u001b[0m \u001b[1m0s\u001b[0m 76ms/step - loss: 0.3494 - mape: 7.5645 - r2_score: 0.6672 - val_loss: 0.4631 - val_mape: 9.7859 - val_r2_score: 0.4782 - learning_rate: 0.0010\n",
      "Epoch 434/1000\n",
      "\u001b[1m5/5\u001b[0m \u001b[32m━━━━━━━━━━━━━━━━━━━━\u001b[0m\u001b[37m\u001b[0m \u001b[1m0s\u001b[0m 70ms/step - loss: 0.3330 - mape: 7.4162 - r2_score: 0.6455 - val_loss: 0.4670 - val_mape: 9.6887 - val_r2_score: 0.3562 - learning_rate: 0.0010\n",
      "Epoch 435/1000\n",
      "\u001b[1m5/5\u001b[0m \u001b[32m━━━━━━━━━━━━━━━━━━━━\u001b[0m\u001b[37m\u001b[0m \u001b[1m0s\u001b[0m 73ms/step - loss: 0.3603 - mape: 7.8474 - r2_score: 0.5662 - val_loss: 0.4988 - val_mape: 10.3455 - val_r2_score: 0.2443 - learning_rate: 0.0010\n",
      "Epoch 436/1000\n",
      "\u001b[1m5/5\u001b[0m \u001b[32m━━━━━━━━━━━━━━━━━━━━\u001b[0m\u001b[37m\u001b[0m \u001b[1m0s\u001b[0m 71ms/step - loss: 0.3346 - mape: 7.5171 - r2_score: 0.6361 - val_loss: 0.4806 - val_mape: 10.3796 - val_r2_score: 0.4656 - learning_rate: 0.0010\n",
      "Epoch 437/1000\n",
      "\u001b[1m5/5\u001b[0m \u001b[32m━━━━━━━━━━━━━━━━━━━━\u001b[0m\u001b[37m\u001b[0m \u001b[1m0s\u001b[0m 69ms/step - loss: 0.3354 - mape: 7.2213 - r2_score: 0.6440 - val_loss: 0.5100 - val_mape: 11.4190 - val_r2_score: 0.4373 - learning_rate: 0.0010\n",
      "Epoch 438/1000\n",
      "\u001b[1m5/5\u001b[0m \u001b[32m━━━━━━━━━━━━━━━━━━━━\u001b[0m\u001b[37m\u001b[0m \u001b[1m0s\u001b[0m 69ms/step - loss: 0.4004 - mape: 8.6434 - r2_score: 0.4084 - val_loss: 0.4979 - val_mape: 11.0024 - val_r2_score: 0.4622 - learning_rate: 0.0010\n",
      "Epoch 439/1000\n",
      "\u001b[1m5/5\u001b[0m \u001b[32m━━━━━━━━━━━━━━━━━━━━\u001b[0m\u001b[37m\u001b[0m \u001b[1m0s\u001b[0m 67ms/step - loss: 0.3739 - mape: 8.2922 - r2_score: 0.6012 - val_loss: 0.4786 - val_mape: 10.4086 - val_r2_score: 0.4465 - learning_rate: 0.0010\n",
      "Epoch 440/1000\n",
      "\u001b[1m5/5\u001b[0m \u001b[32m━━━━━━━━━━━━━━━━━━━━\u001b[0m\u001b[37m\u001b[0m \u001b[1m0s\u001b[0m 72ms/step - loss: 0.3531 - mape: 7.7524 - r2_score: 0.6104 - val_loss: 0.4704 - val_mape: 10.0702 - val_r2_score: 0.4505 - learning_rate: 0.0010\n",
      "Epoch 441/1000\n",
      "\u001b[1m5/5\u001b[0m \u001b[32m━━━━━━━━━━━━━━━━━━━━\u001b[0m\u001b[37m\u001b[0m \u001b[1m0s\u001b[0m 71ms/step - loss: 0.3377 - mape: 7.7281 - r2_score: 0.6255 - val_loss: 0.5433 - val_mape: 11.8713 - val_r2_score: 0.3065 - learning_rate: 0.0010\n",
      "Epoch 442/1000\n",
      "\u001b[1m5/5\u001b[0m \u001b[32m━━━━━━━━━━━━━━━━━━━━\u001b[0m\u001b[37m\u001b[0m \u001b[1m0s\u001b[0m 66ms/step - loss: 0.4693 - mape: 10.3415 - r2_score: 0.2729 - val_loss: 0.5121 - val_mape: 11.0217 - val_r2_score: 0.3289 - learning_rate: 0.0010\n",
      "Epoch 443/1000\n",
      "\u001b[1m5/5\u001b[0m \u001b[32m━━━━━━━━━━━━━━━━━━━━\u001b[0m\u001b[37m\u001b[0m \u001b[1m0s\u001b[0m 67ms/step - loss: 0.3588 - mape: 7.9123 - r2_score: 0.5450 - val_loss: 0.4543 - val_mape: 9.7516 - val_r2_score: 0.5279 - learning_rate: 0.0010\n",
      "Epoch 444/1000\n",
      "\u001b[1m5/5\u001b[0m \u001b[32m━━━━━━━━━━━━━━━━━━━━\u001b[0m\u001b[37m\u001b[0m \u001b[1m1s\u001b[0m 68ms/step - loss: 0.3933 - mape: 8.3361 - r2_score: 0.5044 - val_loss: 0.4798 - val_mape: 10.5742 - val_r2_score: 0.4820 - learning_rate: 0.0010\n",
      "Time for training:     2.0000s\n"
     ]
    }
   ],
   "source": [
    "model_trained = model_training(model_DNN,\n",
    "                               folder_path = final_path,\n",
    "                               batch_size = 12,\n",
    "                               num_epochs = 1000,\n",
    "                               x_train = x_train,\n",
    "                               y_train = y_train,\n",
    "                               x_val = x_test,\n",
    "                               y_val = y_test,\n",
    "                               callbacks = callbacks)"
   ]
  },
  {
   "cell_type": "markdown",
   "metadata": {
    "id": "LtfHyGNzF48o"
   },
   "source": [
    "## Save Model"
   ]
  },
  {
   "cell_type": "code",
   "execution_count": 30,
   "metadata": {
    "colab": {
     "base_uri": "https://localhost:8080/"
    },
    "executionInfo": {
     "elapsed": 660,
     "status": "ok",
     "timestamp": 1754806386690,
     "user": {
      "displayName": "Alan Gabriel Amaro Colin",
      "userId": "17298980579619170060"
     },
     "user_tz": 360
    },
    "id": "a_1vhfmHF5wK",
    "outputId": "80a69136-88cb-48be-9823-d104a5830e23"
   },
   "outputs": [
    {
     "name": "stderr",
     "output_type": "stream",
     "text": [
      "WARNING:absl:You are saving your model as an HDF5 file via `model.save()` or `keras.saving.save_model(model)`. This file format is considered legacy. We recommend using instead the native Keras format, e.g. `model.save('my_model.keras')` or `keras.saving.save_model(model, 'my_model.keras')`. \n"
     ]
    }
   ],
   "source": [
    "model_DNN.save( os.path.join(final_path, 'model.h5') )"
   ]
  },
  {
   "cell_type": "code",
   "execution_count": 32,
   "metadata": {
    "colab": {
     "base_uri": "https://localhost:8080/",
     "height": 927
    },
    "executionInfo": {
     "elapsed": 772,
     "status": "ok",
     "timestamp": 1754806387464,
     "user": {
      "displayName": "Alan Gabriel Amaro Colin",
      "userId": "17298980579619170060"
     },
     "user_tz": 360
    },
    "id": "1G9qoHIdF-GA",
    "outputId": "8a56fa33-93ed-411a-9dbe-889179c66222"
   },
   "outputs": [
    {
     "data": {
      "image/png": "[encoded data removed]",
      "text/plain": [
       "<Figure size 640x480 with 1 Axes>"
      ]
     },
     "metadata": {},
     "output_type": "display_data"
    },
    {
     "data": {
      "image/png": "[encoded data removed]",
      "text/plain": [
       "<Figure size 640x480 with 1 Axes>"
      ]
     },
     "metadata": {},
     "output_type": "display_data"
    }
   ],
   "source": [
    "do_graphics(\n",
    "    model_trained,\n",
    "    'DNN-MI-Q2Ext',\n",
    "    ('MAE', 'MAPE'),\n",
    "    final_path,\n",
    "    metric = 'mape'\n",
    ")"
   ]
  },
  {
   "cell_type": "markdown",
   "metadata": {
    "id": "_F1AbxhWGI6w"
   },
   "source": [
    "## Evaluate"
   ]
  },
  {
   "cell_type": "code",
   "execution_count": 33,
   "metadata": {
    "colab": {
     "base_uri": "https://localhost:8080/"
    },
    "executionInfo": {
     "elapsed": 138,
     "status": "ok",
     "timestamp": 1754806387612,
     "user": {
      "displayName": "Alan Gabriel Amaro Colin",
      "userId": "17298980579619170060"
     },
     "user_tz": 360
    },
    "id": "4J5wcFgrGG7a",
    "outputId": "16ea5e95-c59b-4d0b-c4d9-841d8a3b131a"
   },
   "outputs": [
    {
     "name": "stdout",
     "output_type": "stream",
     "text": [
      "\u001b[1m1/1\u001b[0m \u001b[32m━━━━━━━━━━━━━━━━━━━━\u001b[0m\u001b[37m\u001b[0m \u001b[1m0s\u001b[0m 83ms/step - loss: 0.4235 - mape: 8.7431 - r2_score: 0.5719\n",
      "-> Loss = 0.42349520325660706\n",
      "-> Test Accuracy = 8.743084907531738\n",
      "-> R2 Accuracy = 0.5718732476234436\n"
     ]
    }
   ],
   "source": [
    "loss, accuracy, _ = evaluate_model_regression(model_DNN, x_test, y_test)"
   ]
  },
  {
   "cell_type": "markdown",
   "metadata": {
    "id": "9s7QfcrKGhLa"
   },
   "source": [
    "## KDE Comparison"
   ]
  },
  {
   "cell_type": "code",
   "execution_count": 34,
   "metadata": {
    "executionInfo": {
     "elapsed": 230,
     "status": "ok",
     "timestamp": 1754806387861,
     "user": {
      "displayName": "Alan Gabriel Amaro Colin",
      "userId": "17298980579619170060"
     },
     "user_tz": 360
    },
    "id": "HPZJY1PLGtGt"
   },
   "outputs": [],
   "source": [
    "import seaborn as sns"
   ]
  },
  {
   "cell_type": "code",
   "execution_count": 35,
   "metadata": {
    "colab": {
     "base_uri": "https://localhost:8080/",
     "height": 385
    },
    "executionInfo": {
     "elapsed": 844,
     "status": "ok",
     "timestamp": 1754806388692,
     "user": {
      "displayName": "Alan Gabriel Amaro Colin",
      "userId": "17298980579619170060"
     },
     "user_tz": 360
    },
    "id": "wgU2IH7IGiXL",
    "outputId": "e41150e6-6212-47db-a0a5-cf59ca47323c"
   },
   "outputs": [
    {
     "name": "stdout",
     "output_type": "stream",
     "text": [
      "\u001b[1m1/1\u001b[0m \u001b[32m━━━━━━━━━━━━━━━━━━━━\u001b[0m\u001b[37m\u001b[0m \u001b[1m0s\u001b[0m 157ms/step\n"
     ]
    },
    {
     "data": {
      "image/png": "[encoded data removed]",
      "text/plain": [
       "<Figure size 400x400 with 1 Axes>"
      ]
     },
     "metadata": {},
     "output_type": "display_data"
    }
   ],
   "source": [
    "plt.figure(figsize = (4,4))\n",
    "sns.kdeplot( model_DNN.predict(x_test), label = 'Predicted', fill= True)\n",
    "sns.kdeplot(y_test, label = 'True', fill = True)\n",
    "plt.grid()\n",
    "plt.legend()\n",
    "plt.show()"
   ]
  },
  {
   "cell_type": "markdown",
   "metadata": {},
   "source": [
    "## Comparative Plot"
   ]
  },
  {
   "cell_type": "code",
   "execution_count": 36,
   "metadata": {},
   "outputs": [
    {
     "name": "stdout",
     "output_type": "stream",
     "text": [
      "\u001b[1m1/1\u001b[0m \u001b[32m━━━━━━━━━━━━━━━━━━━━\u001b[0m\u001b[37m\u001b[0m \u001b[1m0s\u001b[0m 74ms/step\n"
     ]
    },
    {
     "data": {
      "image/png": "[encoded data removed]",
      "text/plain": [
       "<Figure size 400x400 with 1 Axes>"
      ]
     },
     "metadata": {},
     "output_type": "display_data"
    }
   ],
   "source": [
    "plt.figure(figsize = (4,4))\n",
    "plt.plot([x for x in range(3, 7)], [x for x in range(3, 7)])\n",
    "plt.scatter(y_test, model_DNN.predict(x_test))\n",
    "#sns.kdeplot(y_test, label = 'True', fill = True)\n",
    "plt.grid()\n",
    "plt.title('Test Set')\n",
    "plt.show()"
   ]
  },
  {
   "cell_type": "code",
   "execution_count": null,
   "metadata": {},
   "outputs": [],
   "source": []
  }
 ],
 "metadata": {
  "colab": {
   "authorship_tag": "ABX9TyPGnKoyfso1VK2rJhSn9brq",
   "mount_file_id": "1oAGWlf-SZH58jEakX1pZwdDPfXrMUo5n",
   "provenance": []
  },
  "kernelspec": {
   "display_name": "Python 3 (ipykernel)",
   "language": "python",
   "name": "python3"
  },
  "language_info": {
   "codemirror_mode": {
    "name": "ipython",
    "version": 3
   },
   "file_extension": ".py",
   "mimetype": "text/x-python",
   "name": "python",
   "nbconvert_exporter": "python",
   "pygments_lexer": "ipython3",
   "version": "3.9.23"
  }
 },
 "nbformat": 4,
 "nbformat_minor": 4
}
