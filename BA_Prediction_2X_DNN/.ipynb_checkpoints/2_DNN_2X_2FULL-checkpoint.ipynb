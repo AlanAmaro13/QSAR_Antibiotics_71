{
 "cells": [
  {
   "cell_type": "markdown",
   "metadata": {
    "id": "H6Wue51yaxKv"
   },
   "source": [
    "# Dense Neural Networks"
   ]
  },
  {
   "cell_type": "markdown",
   "metadata": {
    "id": "rKzTG2kjZK65"
   },
   "source": [
    "Hello there!\n",
    "\n",
    "In the previous approach we have considered a linear estimation for the bio-activity. Our result presents an average $R^{2}=0.62$ and a MAPE of $7.19$ In this notebook, we present a new approach by the use of Deep Neural Networks, in this initial case we use only Dense Layers or a Feed Forward. The descriptors used are obtained by the use of Mutual Information (MI). We've first selected those descriptors with a higher mutual than $0.4$, where we've reduced the dimension from 1200 to just 99 descriptors.\n",
    "\n",
    "Then, we have selected from the 99 descriptors the one descriptor with the highest MI (piPC4) and have selected two variables that are independent among them. This means, the MI values among them is the lowest value possible."
   ]
  },
  {
   "cell_type": "markdown",
   "metadata": {
    "id": "s8_gew3AbzAj"
   },
   "source": [
    "## Mutual Information"
   ]
  },
  {
   "cell_type": "markdown",
   "metadata": {
    "id": "vmxe0Iu-cSj0"
   },
   "source": [
    "### **Mutual Information (MI) for Feature Selection**  \n",
    "**Mutual Information** measures the **statistical dependence** between two variables, capturing **both linear and nonlinear relationships**. Unlike Pearson correlation (which only detects linear trends), MI quantifies how much knowing one variable reduces uncertainty about the other.  \n",
    "\n",
    "#### **Mathematical Definition**  \n",
    "For two continuous variables \\( X \\) and \\( Y \\):  \n",
    "\n",
    "$\\text{MI}(X, Y) = \\iint p(x, y) \\log \\left( \\frac{p(x, y)}{p(x)p(y)} \\right) dx \\, dy$  \n",
    "where:  \n",
    "- $( p(x, y) )$ = joint probability density.  \n",
    "- $( p(x), p(y) )$ = marginal densities.  \n",
    "\n",
    "**Key Properties**:  \n",
    "- $MI (\\geq 0)$ (0 means independent).  \n",
    "- Higher MI = stronger dependency.  \n"
   ]
  },
  {
   "cell_type": "markdown",
   "metadata": {
    "id": "yJk4WF4CdnCZ"
   },
   "source": [
    "## Used libraries"
   ]
  },
  {
   "cell_type": "code",
   "execution_count": 1,
   "metadata": {},
   "outputs": [],
   "source": [
    "import os\n",
    "os.environ[\"CUDA_VISIBLE_DEVICES\"] = \"-1\""
   ]
  },
  {
   "cell_type": "code",
   "execution_count": 2,
   "metadata": {},
   "outputs": [],
   "source": [
    "colab = False"
   ]
  },
  {
   "cell_type": "code",
   "execution_count": 3,
   "metadata": {
    "executionInfo": {
     "elapsed": 13,
     "status": "ok",
     "timestamp": 1754806314489,
     "user": {
      "displayName": "Alan Gabriel Amaro Colin",
      "userId": "17298980579619170060"
     },
     "user_tz": 360
    },
    "id": "B2LFMr_RRg1B"
   },
   "outputs": [
    {
     "name": "stderr",
     "output_type": "stream",
     "text": [
      "2025-08-11 17:04:41.286894: I tensorflow/core/platform/cpu_feature_guard.cc:210] This TensorFlow binary is optimized to use available CPU instructions in performance-critical operations.\n",
      "To enable the following instructions: FMA, in other operations, rebuild TensorFlow with the appropriate compiler flags.\n",
      "2025-08-11 17:04:44.186999: W tensorflow/compiler/tf2tensorrt/utils/py_utils.cc:38] TF-TRT Warning: Could not find TensorRT\n",
      "/home/alan-amaro/miniconda3/envs/farma/lib/python3.9/site-packages/requests/__init__.py:86: RequestsDependencyWarning: Unable to find acceptable character detection dependency (chardet or charset_normalizer).\n",
      "  warnings.warn(\n"
     ]
    }
   ],
   "source": [
    "if colab: \n",
    "    import sys\n",
    "    sys.path.append('/content/drive/MyDrive/Colaboracion_Quimica/Main_Codes/AutoEncoders/AmaroX/AmaroX')\n",
    "    ! pip install python-telegram-bot\n",
    "\n",
    "    from ai_functions import *\n",
    "    from ai_models import *\n",
    "    from utilities import *\n",
    "    from data_manipulation import *\n",
    "    import pandas as pd\n",
    "else: \n",
    "    from AmaroX.AmaroX.ai_functions import *\n",
    "    from AmaroX.AmaroX.ai_models import *\n",
    "    from AmaroX.AmaroX.utilities import *\n",
    "    from AmaroX.AmaroX.data_manipulation import *\n",
    "    import pandas as pd\n",
    "    import sklearn"
   ]
  },
  {
   "cell_type": "markdown",
   "metadata": {
    "id": "LMM15EIAeNMM"
   },
   "source": [
    "## Data"
   ]
  },
  {
   "cell_type": "markdown",
   "metadata": {
    "id": "dHUpPc5dfJrs"
   },
   "source": [
    "The data presented here corresponds to molecules with their SMILE representation and descriptors, along with the biological activity. Let's first do a quick view of the data shape."
   ]
  },
  {
   "cell_type": "markdown",
   "metadata": {
    "id": "QLDOuzTDDoW1"
   },
   "source": [
    "* All the data presented here was obtained by colaboration with Dr. Erick Padilla at Facultad de Estudios Superiores Zaragoza - UNAM."
   ]
  },
  {
   "cell_type": "markdown",
   "metadata": {
    "id": "wx7mCiFYeP_M"
   },
   "source": [
    "### Downloading the data"
   ]
  },
  {
   "cell_type": "code",
   "execution_count": 4,
   "metadata": {
    "colab": {
     "base_uri": "https://localhost:8080/"
    },
    "executionInfo": {
     "elapsed": 5366,
     "status": "ok",
     "timestamp": 1754806339684,
     "user": {
      "displayName": "Alan Gabriel Amaro Colin",
      "userId": "17298980579619170060"
     },
     "user_tz": 360
    },
    "id": "TaqYCyF_eN_W",
    "outputId": "9d2fe30a-81b4-455f-a99e-557a868d9c81"
   },
   "outputs": [],
   "source": [
    "if colab:\n",
    "    ! gdown --id 1cHM9neEhTOZ82UU9HaZkdGdlwE1d4SJT\n",
    "    ! gdown --id 1wZp9pou63ElEYyGGjBeC2pDtscgRgCpj"
   ]
  },
  {
   "cell_type": "markdown",
   "metadata": {
    "id": "wfg2b6FNfNIP"
   },
   "source": [
    "The _data.xlsx_ file contains all the molecular descriptors from the molecule, along with a SMILE representation."
   ]
  },
  {
   "cell_type": "code",
   "execution_count": 5,
   "metadata": {
    "executionInfo": {
     "elapsed": 7645,
     "status": "ok",
     "timestamp": 1754806347350,
     "user": {
      "displayName": "Alan Gabriel Amaro Colin",
      "userId": "17298980579619170060"
     },
     "user_tz": 360
    },
    "id": "OvBcuQFXeU5y"
   },
   "outputs": [],
   "source": [
    "compounds_md = pd.read_excel(\"../Data/data.xlsx\")\n",
    "activity = pd.read_excel(\"../Data/Actividad.xlsx\")"
   ]
  },
  {
   "cell_type": "code",
   "execution_count": 6,
   "metadata": {
    "colab": {
     "base_uri": "https://localhost:8080/",
     "height": 690
    },
    "executionInfo": {
     "elapsed": 246,
     "status": "ok",
     "timestamp": 1754806347594,
     "user": {
      "displayName": "Alan Gabriel Amaro Colin",
      "userId": "17298980579619170060"
     },
     "user_tz": 360
    },
    "id": "IixnVRP-eXsd",
    "outputId": "9f8d0e08-c3b5-4144-d0c5-3133d5f0667c"
   },
   "outputs": [
    {
     "data": {
      "text/html": [
       "<div>\n",
       "<style scoped>\n",
       "    .dataframe tbody tr th:only-of-type {\n",
       "        vertical-align: middle;\n",
       "    }\n",
       "\n",
       "    .dataframe tbody tr th {\n",
       "        vertical-align: top;\n",
       "    }\n",
       "\n",
       "    .dataframe thead th {\n",
       "        text-align: right;\n",
       "    }\n",
       "</style>\n",
       "<table border=\"1\" class=\"dataframe\">\n",
       "  <thead>\n",
       "    <tr style=\"text-align: right;\">\n",
       "      <th></th>\n",
       "      <th>Cmpd</th>\n",
       "      <th>SMILES</th>\n",
       "      <th>ABC</th>\n",
       "      <th>ABCGG</th>\n",
       "      <th>nAcid</th>\n",
       "      <th>nBase</th>\n",
       "      <th>SpAbs_A</th>\n",
       "      <th>SpMax_A</th>\n",
       "      <th>SpDiam_A</th>\n",
       "      <th>SpAD_A</th>\n",
       "      <th>...</th>\n",
       "      <th>SRW10</th>\n",
       "      <th>TSRW10</th>\n",
       "      <th>MW</th>\n",
       "      <th>AMW</th>\n",
       "      <th>WPath</th>\n",
       "      <th>WPol</th>\n",
       "      <th>Zagreb1</th>\n",
       "      <th>Zagreb2</th>\n",
       "      <th>mZagreb1</th>\n",
       "      <th>mZagreb2</th>\n",
       "    </tr>\n",
       "  </thead>\n",
       "  <tbody>\n",
       "    <tr>\n",
       "      <th>0</th>\n",
       "      <td>Compuesto original</td>\n",
       "      <td>O=C(N/1)/C(SC1=N/C2=NC3=CC=C(F)C=C3S2)=C/N4CCN...</td>\n",
       "      <td>module 'numpy' has no attribute 'float'.\\n `np...</td>\n",
       "      <td>module 'numpy' has no attribute 'float'.\\n `np...</td>\n",
       "      <td>0</td>\n",
       "      <td>3</td>\n",
       "      <td>34.64084</td>\n",
       "      <td>2.428932</td>\n",
       "      <td>4.709973</td>\n",
       "      <td>34.64084</td>\n",
       "      <td>...</td>\n",
       "      <td>10.158170</td>\n",
       "      <td>78.17227</td>\n",
       "      <td>405.1093</td>\n",
       "      <td>8.619347</td>\n",
       "      <td>2138</td>\n",
       "      <td>39</td>\n",
       "      <td>146</td>\n",
       "      <td>171</td>\n",
       "      <td>8.361111</td>\n",
       "      <td>5.750000</td>\n",
       "    </tr>\n",
       "    <tr>\n",
       "      <th>1</th>\n",
       "      <td>Compound 3</td>\n",
       "      <td>O=C1NC2=CC=C([H])C=C2/C1=N\\C3=CC=CC(Br)=N3</td>\n",
       "      <td>module 'numpy' has no attribute 'float'.\\n `np...</td>\n",
       "      <td>module 'numpy' has no attribute 'float'.\\n `np...</td>\n",
       "      <td>0</td>\n",
       "      <td>0</td>\n",
       "      <td>23.43385</td>\n",
       "      <td>2.452376</td>\n",
       "      <td>4.754134</td>\n",
       "      <td>23.43385</td>\n",
       "      <td>...</td>\n",
       "      <td>9.792612</td>\n",
       "      <td>65.48686</td>\n",
       "      <td>300.9851</td>\n",
       "      <td>11.576350</td>\n",
       "      <td>599</td>\n",
       "      <td>26</td>\n",
       "      <td>96</td>\n",
       "      <td>113</td>\n",
       "      <td>5.166667</td>\n",
       "      <td>3.916667</td>\n",
       "    </tr>\n",
       "    <tr>\n",
       "      <th>2</th>\n",
       "      <td>Compound 4</td>\n",
       "      <td>O=C1NC2=CC=CC=C2/C1=N\\C3=NC4=CC(OCC)=CC=C4S3</td>\n",
       "      <td>module 'numpy' has no attribute 'float'.\\n `np...</td>\n",
       "      <td>module 'numpy' has no attribute 'float'.\\n `np...</td>\n",
       "      <td>0</td>\n",
       "      <td>0</td>\n",
       "      <td>30.43085</td>\n",
       "      <td>2.474251</td>\n",
       "      <td>4.745881</td>\n",
       "      <td>30.43085</td>\n",
       "      <td>...</td>\n",
       "      <td>10.101640</td>\n",
       "      <td>73.78306</td>\n",
       "      <td>323.0728</td>\n",
       "      <td>8.974246</td>\n",
       "      <td>1245</td>\n",
       "      <td>35</td>\n",
       "      <td>126</td>\n",
       "      <td>151</td>\n",
       "      <td>6.138889</td>\n",
       "      <td>5.027778</td>\n",
       "    </tr>\n",
       "    <tr>\n",
       "      <th>3</th>\n",
       "      <td>Compound 8</td>\n",
       "      <td>O=C1NC2=CC=C(Br)C=C2/C1=N\\C3=CC=CC(F)=N3</td>\n",
       "      <td>module 'numpy' has no attribute 'float'.\\n `np...</td>\n",
       "      <td>module 'numpy' has no attribute 'float'.\\n `np...</td>\n",
       "      <td>0</td>\n",
       "      <td>0</td>\n",
       "      <td>24.52891</td>\n",
       "      <td>2.46582</td>\n",
       "      <td>4.787297</td>\n",
       "      <td>24.52891</td>\n",
       "      <td>...</td>\n",
       "      <td>9.873183</td>\n",
       "      <td>66.82214</td>\n",
       "      <td>318.9757</td>\n",
       "      <td>12.268290</td>\n",
       "      <td>693</td>\n",
       "      <td>28</td>\n",
       "      <td>102</td>\n",
       "      <td>120</td>\n",
       "      <td>6.027778</td>\n",
       "      <td>4.083333</td>\n",
       "    </tr>\n",
       "    <tr>\n",
       "      <th>4</th>\n",
       "      <td>Compound 9</td>\n",
       "      <td>O=C1NC2=CC=C(Br)C=C2/C1=N/C3=CC([N+]([O-])=O)=...</td>\n",
       "      <td>module 'numpy' has no attribute 'float'.\\n `np...</td>\n",
       "      <td>module 'numpy' has no attribute 'float'.\\n `np...</td>\n",
       "      <td>0</td>\n",
       "      <td>0</td>\n",
       "      <td>27.00118</td>\n",
       "      <td>2.467278</td>\n",
       "      <td>4.80069</td>\n",
       "      <td>27.00118</td>\n",
       "      <td>...</td>\n",
       "      <td>9.972407</td>\n",
       "      <td>69.29945</td>\n",
       "      <td>345.9702</td>\n",
       "      <td>12.356080</td>\n",
       "      <td>929</td>\n",
       "      <td>32</td>\n",
       "      <td>112</td>\n",
       "      <td>132</td>\n",
       "      <td>7.138889</td>\n",
       "      <td>4.527778</td>\n",
       "    </tr>\n",
       "  </tbody>\n",
       "</table>\n",
       "<p>5 rows × 1828 columns</p>\n",
       "</div>"
      ],
      "text/plain": [
       "                 Cmpd                                             SMILES  \\\n",
       "0  Compuesto original  O=C(N/1)/C(SC1=N/C2=NC3=CC=C(F)C=C3S2)=C/N4CCN...   \n",
       "1          Compound 3         O=C1NC2=CC=C([H])C=C2/C1=N\\C3=CC=CC(Br)=N3   \n",
       "2          Compound 4       O=C1NC2=CC=CC=C2/C1=N\\C3=NC4=CC(OCC)=CC=C4S3   \n",
       "3          Compound 8           O=C1NC2=CC=C(Br)C=C2/C1=N\\C3=CC=CC(F)=N3   \n",
       "4          Compound 9  O=C1NC2=CC=C(Br)C=C2/C1=N/C3=CC([N+]([O-])=O)=...   \n",
       "\n",
       "                                                 ABC  \\\n",
       "0  module 'numpy' has no attribute 'float'.\\n `np...   \n",
       "1  module 'numpy' has no attribute 'float'.\\n `np...   \n",
       "2  module 'numpy' has no attribute 'float'.\\n `np...   \n",
       "3  module 'numpy' has no attribute 'float'.\\n `np...   \n",
       "4  module 'numpy' has no attribute 'float'.\\n `np...   \n",
       "\n",
       "                                               ABCGG  nAcid  nBase   SpAbs_A  \\\n",
       "0  module 'numpy' has no attribute 'float'.\\n `np...      0      3  34.64084   \n",
       "1  module 'numpy' has no attribute 'float'.\\n `np...      0      0  23.43385   \n",
       "2  module 'numpy' has no attribute 'float'.\\n `np...      0      0  30.43085   \n",
       "3  module 'numpy' has no attribute 'float'.\\n `np...      0      0  24.52891   \n",
       "4  module 'numpy' has no attribute 'float'.\\n `np...      0      0  27.00118   \n",
       "\n",
       "    SpMax_A  SpDiam_A    SpAD_A  ...      SRW10    TSRW10        MW  \\\n",
       "0  2.428932  4.709973  34.64084  ...  10.158170  78.17227  405.1093   \n",
       "1  2.452376  4.754134  23.43385  ...   9.792612  65.48686  300.9851   \n",
       "2  2.474251  4.745881  30.43085  ...  10.101640  73.78306  323.0728   \n",
       "3   2.46582  4.787297  24.52891  ...   9.873183  66.82214  318.9757   \n",
       "4  2.467278   4.80069  27.00118  ...   9.972407  69.29945  345.9702   \n",
       "\n",
       "         AMW WPath WPol Zagreb1 Zagreb2  mZagreb1  mZagreb2  \n",
       "0   8.619347  2138   39     146     171  8.361111  5.750000  \n",
       "1  11.576350   599   26      96     113  5.166667  3.916667  \n",
       "2   8.974246  1245   35     126     151  6.138889  5.027778  \n",
       "3  12.268290   693   28     102     120  6.027778  4.083333  \n",
       "4  12.356080   929   32     112     132  7.138889  4.527778  \n",
       "\n",
       "[5 rows x 1828 columns]"
      ]
     },
     "execution_count": 6,
     "metadata": {},
     "output_type": "execute_result"
    }
   ],
   "source": [
    "compounds_md.head()"
   ]
  },
  {
   "cell_type": "code",
   "execution_count": 7,
   "metadata": {
    "colab": {
     "base_uri": "https://localhost:8080/"
    },
    "executionInfo": {
     "elapsed": 152,
     "status": "ok",
     "timestamp": 1754806347984,
     "user": {
      "displayName": "Alan Gabriel Amaro Colin",
      "userId": "17298980579619170060"
     },
     "user_tz": 360
    },
    "id": "FwOMTbIfeZxe",
    "outputId": "d4e19ab7-1e86-4f28-c0cc-72e1b71f5ebc"
   },
   "outputs": [
    {
     "data": {
      "text/plain": [
       "(71, 1828)"
      ]
     },
     "execution_count": 7,
     "metadata": {},
     "output_type": "execute_result"
    }
   ],
   "source": [
    "compounds_md.shape"
   ]
  },
  {
   "cell_type": "code",
   "execution_count": 8,
   "metadata": {
    "colab": {
     "base_uri": "https://localhost:8080/",
     "height": 206
    },
    "executionInfo": {
     "elapsed": 68,
     "status": "ok",
     "timestamp": 1754806348065,
     "user": {
      "displayName": "Alan Gabriel Amaro Colin",
      "userId": "17298980579619170060"
     },
     "user_tz": 360
    },
    "id": "ab4UBiBFecAa",
    "outputId": "64071620-080b-4b49-bca8-25cc92379fd5"
   },
   "outputs": [
    {
     "data": {
      "text/html": [
       "<div>\n",
       "<style scoped>\n",
       "    .dataframe tbody tr th:only-of-type {\n",
       "        vertical-align: middle;\n",
       "    }\n",
       "\n",
       "    .dataframe tbody tr th {\n",
       "        vertical-align: top;\n",
       "    }\n",
       "\n",
       "    .dataframe thead th {\n",
       "        text-align: right;\n",
       "    }\n",
       "</style>\n",
       "<table border=\"1\" class=\"dataframe\">\n",
       "  <thead>\n",
       "    <tr style=\"text-align: right;\">\n",
       "      <th></th>\n",
       "      <th>Activity</th>\n",
       "    </tr>\n",
       "  </thead>\n",
       "  <tbody>\n",
       "    <tr>\n",
       "      <th>0</th>\n",
       "      <td>5.005513</td>\n",
       "    </tr>\n",
       "    <tr>\n",
       "      <th>1</th>\n",
       "      <td>4.381642</td>\n",
       "    </tr>\n",
       "    <tr>\n",
       "      <th>2</th>\n",
       "      <td>4.114064</td>\n",
       "    </tr>\n",
       "    <tr>\n",
       "      <th>3</th>\n",
       "      <td>5.012402</td>\n",
       "    </tr>\n",
       "    <tr>\n",
       "      <th>4</th>\n",
       "      <td>5.047677</td>\n",
       "    </tr>\n",
       "  </tbody>\n",
       "</table>\n",
       "</div>"
      ],
      "text/plain": [
       "   Activity\n",
       "0  5.005513\n",
       "1  4.381642\n",
       "2  4.114064\n",
       "3  5.012402\n",
       "4  5.047677"
      ]
     },
     "execution_count": 8,
     "metadata": {},
     "output_type": "execute_result"
    }
   ],
   "source": [
    "activity.head()"
   ]
  },
  {
   "cell_type": "code",
   "execution_count": 9,
   "metadata": {
    "colab": {
     "base_uri": "https://localhost:8080/"
    },
    "executionInfo": {
     "elapsed": 37,
     "status": "ok",
     "timestamp": 1754806348116,
     "user": {
      "displayName": "Alan Gabriel Amaro Colin",
      "userId": "17298980579619170060"
     },
     "user_tz": 360
    },
    "id": "fYz-3Re2eebA",
    "outputId": "1a9bb07d-d21a-4ca2-b93e-a21af222060c"
   },
   "outputs": [
    {
     "data": {
      "text/plain": [
       "(71, 1)"
      ]
     },
     "execution_count": 9,
     "metadata": {},
     "output_type": "execute_result"
    }
   ],
   "source": [
    "activity.shape"
   ]
  },
  {
   "cell_type": "markdown",
   "metadata": {
    "id": "IIU9JDRgfUWk"
   },
   "source": [
    "* The variable _x_ are the molecular descriptors, we're only interested in numerical properties:"
   ]
  },
  {
   "cell_type": "code",
   "execution_count": 10,
   "metadata": {
    "executionInfo": {
     "elapsed": 376,
     "status": "ok",
     "timestamp": 1754806348504,
     "user": {
      "displayName": "Alan Gabriel Amaro Colin",
      "userId": "17298980579619170060"
     },
     "user_tz": 360
    },
    "id": "OVvrgkBqeeXy"
   },
   "outputs": [],
   "source": [
    "x = compounds_md.copy()\n",
    "x = x.select_dtypes(\"number\")"
   ]
  },
  {
   "cell_type": "markdown",
   "metadata": {
    "id": "eyw0iNEPfbKq"
   },
   "source": [
    "## Applying Mutual Information to Molecular Descriptors"
   ]
  },
  {
   "cell_type": "markdown",
   "metadata": {
    "id": "EPCBSQMBbNf5"
   },
   "source": [
    "In the previous notebook, we have selected 3 molecular descriptors that are independent among them and present a high MI with respect to the bio-activity."
   ]
  },
  {
   "cell_type": "code",
   "execution_count": 11,
   "metadata": {
    "colab": {
     "base_uri": "https://localhost:8080/"
    },
    "executionInfo": {
     "elapsed": 376,
     "status": "ok",
     "timestamp": 1754806348508,
     "user": {
      "displayName": "Alan Gabriel Amaro Colin",
      "userId": "17298980579619170060"
     },
     "user_tz": 360
    },
    "id": "_55TahzCbUiO",
    "outputId": "943e13b7-622c-4195-98d9-39b408322575"
   },
   "outputs": [
    {
     "data": {
      "text/plain": [
       "(71, 2)"
      ]
     },
     "execution_count": 11,
     "metadata": {},
     "output_type": "execute_result"
    }
   ],
   "source": [
    "x_array = np.array(x[ ['piPC4', 'GATS3i'] ])\n",
    "x_array.shape"
   ]
  },
  {
   "cell_type": "code",
   "execution_count": 12,
   "metadata": {
    "colab": {
     "base_uri": "https://localhost:8080/"
    },
    "executionInfo": {
     "elapsed": 33,
     "status": "ok",
     "timestamp": 1754806348544,
     "user": {
      "displayName": "Alan Gabriel Amaro Colin",
      "userId": "17298980579619170060"
     },
     "user_tz": 360
    },
    "id": "qIbrbX4NblAQ",
    "outputId": "8060c218-8830-43f7-80c7-4d321cf844f1"
   },
   "outputs": [
    {
     "data": {
      "text/plain": [
       "(71,)"
      ]
     },
     "execution_count": 12,
     "metadata": {},
     "output_type": "execute_result"
    }
   ],
   "source": [
    "y_array = np.array( activity )[:, 0]\n",
    "y_array.shape"
   ]
  },
  {
   "cell_type": "markdown",
   "metadata": {
    "id": "HIvdru7Qb6n4"
   },
   "source": [
    "## Standarize Features"
   ]
  },
  {
   "cell_type": "code",
   "execution_count": 13,
   "metadata": {
    "executionInfo": {
     "elapsed": 35,
     "status": "ok",
     "timestamp": 1754806348583,
     "user": {
      "displayName": "Alan Gabriel Amaro Colin",
      "userId": "17298980579619170060"
     },
     "user_tz": 360
    },
    "id": "-4P8uMr8b8FA"
   },
   "outputs": [],
   "source": [
    "from sklearn.preprocessing import StandardScaler\n",
    "scaler = StandardScaler()"
   ]
  },
  {
   "cell_type": "code",
   "execution_count": 14,
   "metadata": {
    "colab": {
     "base_uri": "https://localhost:8080/"
    },
    "executionInfo": {
     "elapsed": 32,
     "status": "ok",
     "timestamp": 1754806348587,
     "user": {
      "displayName": "Alan Gabriel Amaro Colin",
      "userId": "17298980579619170060"
     },
     "user_tz": 360
    },
    "id": "Q1DtBVx8cGc3",
    "outputId": "e5a919ce-b9c7-4089-f736-f68d0234fcd6"
   },
   "outputs": [
    {
     "data": {
      "text/plain": [
       "(71, 2)"
      ]
     },
     "execution_count": 14,
     "metadata": {},
     "output_type": "execute_result"
    }
   ],
   "source": [
    "x_std = scaler.fit_transform(x_array)\n",
    "x_std.shape"
   ]
  },
  {
   "cell_type": "code",
   "execution_count": 15,
   "metadata": {
    "colab": {
     "base_uri": "https://localhost:8080/",
     "height": 469
    },
    "executionInfo": {
     "elapsed": 55,
     "status": "ok",
     "timestamp": 1754806348632,
     "user": {
      "displayName": "Alan Gabriel Amaro Colin",
      "userId": "17298980579619170060"
     },
     "user_tz": 360
    },
    "id": "TCAnYfB9cNJM",
    "outputId": "c67d1f14-718a-436c-c411-504973177ba7"
   },
   "outputs": [
    {
     "data": {
      "image/png": "[encoded data removed]",
      "text/plain": [
       "<Figure size 640x480 with 1 Axes>"
      ]
     },
     "metadata": {},
     "output_type": "display_data"
    },
    {
     "name": "stdout",
     "output_type": "stream",
     "text": [
      "The corresponding y element -> 3.66646182\n"
     ]
    }
   ],
   "source": [
    "plot_xy([x_std, y_array])"
   ]
  },
  {
   "cell_type": "markdown",
   "metadata": {
    "id": "lEUasbz0fl5I"
   },
   "source": [
    "## Splitting Train and Test"
   ]
  },
  {
   "cell_type": "code",
   "execution_count": 16,
   "metadata": {},
   "outputs": [],
   "source": [
    "N_BINS=6 ##discretizer, this was 10 before\n",
    "N_SPLITS=6 ##splitter\n",
    "TEST_SIZE=21/70 ##splitter"
   ]
  },
  {
   "cell_type": "code",
   "execution_count": 17,
   "metadata": {},
   "outputs": [],
   "source": [
    "# dividimos train test con stratified\n",
    "discretizer = sklearn.preprocessing.KBinsDiscretizer(n_bins=N_BINS, encode=\"ordinal\", strategy=\"uniform\")\n",
    "splitter = sklearn.model_selection.StratifiedShuffleSplit(n_splits=N_SPLITS,test_size=TEST_SIZE, random_state=13)\n",
    "y_discrete = discretizer.fit_transform(np.expand_dims(y_array, axis = -1))\n",
    "split, split_test = next(splitter.split(np.expand_dims(x_std, axis = -1), y_discrete ))"
   ]
  },
  {
   "cell_type": "code",
   "execution_count": 18,
   "metadata": {},
   "outputs": [],
   "source": [
    "x_train = x_std[split]\n",
    "x_test = x_std[split_test]\n",
    "y_train = y_array[split]\n",
    "y_test = y_array[split_test]"
   ]
  },
  {
   "cell_type": "code",
   "execution_count": 19,
   "metadata": {},
   "outputs": [
    {
     "data": {
      "text/plain": [
       "((49, 2), (22, 2))"
      ]
     },
     "execution_count": 19,
     "metadata": {},
     "output_type": "execute_result"
    }
   ],
   "source": [
    "x_train.shape, x_test.shape"
   ]
  },
  {
   "cell_type": "code",
   "execution_count": 20,
   "metadata": {
    "colab": {
     "base_uri": "https://localhost:8080/",
     "height": 407
    },
    "executionInfo": {
     "elapsed": 290,
     "status": "ok",
     "timestamp": 1754806349003,
     "user": {
      "displayName": "Alan Gabriel Amaro Colin",
      "userId": "17298980579619170060"
     },
     "user_tz": 360
    },
    "id": "jw21eFGscdx1",
    "outputId": "697e87b9-d7bd-495f-de24-7f265201b3e5"
   },
   "outputs": [
    {
     "data": {
      "image/png": "[encoded data removed]",
      "text/plain": [
       "<Figure size 1000x400 with 2 Axes>"
      ]
     },
     "metadata": {},
     "output_type": "display_data"
    }
   ],
   "source": [
    "# Crear una figura con dos subplots en horizontal (1 fila, 2 columnas)\n",
    "fig, (ax1, ax2) = plt.subplots(1, 2, figsize=(10, 4))  # figsize ajusta el tamaño\n",
    "\n",
    "# Graficar la primera curva en el primer subplot\n",
    "ax1.hist(y_train, color='blue', label='train', bins = 6)\n",
    "ax1.set_title('Train Density')\n",
    "ax1.set_xlabel('x')\n",
    "ax1.set_ylabel('y')\n",
    "ax1.legend()\n",
    "\n",
    "# Graficar la segunda curva en el segundo subplot\n",
    "ax2.hist(y_test, color='red', label='test', bins = 6)\n",
    "ax2.set_title('Test Density')\n",
    "ax2.set_xlabel('x')\n",
    "ax2.set_ylabel('y')\n",
    "ax2.legend()\n",
    "\n",
    "# Ajustar el espacio entre los subplots\n",
    "plt.tight_layout()\n",
    "\n",
    "# Mostrar la figura\n",
    "plt.show()"
   ]
  },
  {
   "cell_type": "markdown",
   "metadata": {
    "id": "XESiE4f0cr7l"
   },
   "source": [
    "## Paths"
   ]
  },
  {
   "cell_type": "code",
   "execution_count": 21,
   "metadata": {
    "executionInfo": {
     "elapsed": 229,
     "status": "ok",
     "timestamp": 1754806349006,
     "user": {
      "displayName": "Alan Gabriel Amaro Colin",
      "userId": "17298980579619170060"
     },
     "user_tz": 360
    },
    "id": "hUxyWpwpcsqz"
   },
   "outputs": [],
   "source": [
    "name = 'DNN_MI_2_FULL1'\n",
    "if colab:\n",
    "    folder_path = '/content/drive/MyDrive/Colaboracion_Quimica/Main_Codes/AutoEncoders/models'\n",
    "else: \n",
    "    folder_path = '../models'\n",
    "    \n",
    "final_path = os.path.join(folder_path, name)"
   ]
  },
  {
   "cell_type": "markdown",
   "metadata": {
    "id": "aGZb-3Wacw2F"
   },
   "source": [
    "## Callbacks"
   ]
  },
  {
   "cell_type": "code",
   "execution_count": 22,
   "metadata": {
    "executionInfo": {
     "elapsed": 96,
     "status": "ok",
     "timestamp": 1754806349012,
     "user": {
      "displayName": "Alan Gabriel Amaro Colin",
      "userId": "17298980579619170060"
     },
     "user_tz": 360
    },
    "id": "UX_yCOQicxnI"
   },
   "outputs": [],
   "source": [
    "callbacks = standard_callbacks(folder_name= name,\n",
    "                               folder_path= folder_path,\n",
    "                               patiences= [120, 120], # 50 epochs without progress, and 2 epochs to reduce LR\n",
    "                               monitor = 'val_r2_score',\n",
    "                               flow_direction = 'max')"
   ]
  },
  {
   "cell_type": "markdown",
   "metadata": {
    "id": "9cSL15E6c1zb"
   },
   "source": [
    "## DNN Model"
   ]
  },
  {
   "cell_type": "code",
   "execution_count": 23,
   "metadata": {
    "executionInfo": {
     "elapsed": 65,
     "status": "ok",
     "timestamp": 1754806349015,
     "user": {
      "displayName": "Alan Gabriel Amaro Colin",
      "userId": "17298980579619170060"
     },
     "user_tz": 360
    },
    "id": "qtUfEOFpczgn"
   },
   "outputs": [],
   "source": [
    "def _DNN():\n",
    "\n",
    "  inputs = keras.layers.Input((2,))\n",
    "\n",
    "  _DNN_ = G_Dense(\n",
    "      inputs = inputs,\n",
    "      nodes = [32, 161],\n",
    "      DP = 5,\n",
    "      n_final = 1,\n",
    "      act_func = 'leaky_relu',\n",
    "      final_act_func = 'relu',\n",
    "      WI = 'he_normal',\n",
    "      L1 = 0.0,\n",
    "      L2 = 0.0,\n",
    "      use_bias = True\n",
    "  )\n",
    "\n",
    "  return keras.models.Model(inputs = inputs, outputs = _DNN_)"
   ]
  },
  {
   "cell_type": "code",
   "execution_count": 24,
   "metadata": {
    "executionInfo": {
     "elapsed": 60,
     "status": "ok",
     "timestamp": 1754806349047,
     "user": {
      "displayName": "Alan Gabriel Amaro Colin",
      "userId": "17298980579619170060"
     },
     "user_tz": 360
    },
    "id": "KKix552XddZ9"
   },
   "outputs": [
    {
     "name": "stderr",
     "output_type": "stream",
     "text": [
      "2025-08-11 17:06:02.268832: E external/local_xla/xla/stream_executor/cuda/cuda_driver.cc:282] failed call to cuInit: CUDA_ERROR_NO_DEVICE: no CUDA-capable device is detected\n",
      "2025-08-11 17:06:02.269242: I external/local_xla/xla/stream_executor/cuda/cuda_diagnostics.cc:134] retrieving CUDA diagnostic information for host: alan-amaro-Nvidia\n",
      "2025-08-11 17:06:02.269277: I external/local_xla/xla/stream_executor/cuda/cuda_diagnostics.cc:141] hostname: alan-amaro-Nvidia\n",
      "2025-08-11 17:06:02.269731: I external/local_xla/xla/stream_executor/cuda/cuda_diagnostics.cc:165] libcuda reported version is: 570.169.0\n",
      "2025-08-11 17:06:02.269833: I external/local_xla/xla/stream_executor/cuda/cuda_diagnostics.cc:169] kernel reported version is: 570.169.0\n",
      "2025-08-11 17:06:02.269862: I external/local_xla/xla/stream_executor/cuda/cuda_diagnostics.cc:248] kernel version seems to match DSO: 570.169.0\n"
     ]
    }
   ],
   "source": [
    "model_DNN= _DNN()"
   ]
  },
  {
   "cell_type": "code",
   "execution_count": 25,
   "metadata": {
    "executionInfo": {
     "elapsed": 28,
     "status": "ok",
     "timestamp": 1754806349065,
     "user": {
      "displayName": "Alan Gabriel Amaro Colin",
      "userId": "17298980579619170060"
     },
     "user_tz": 360
    },
    "id": "Cj5XW39qdqDA"
   },
   "outputs": [],
   "source": [
    "model_DNN.compile(optimizer = keras.optimizers.Adam(),\n",
    "                    loss = 'mae',\n",
    "                    metrics = ['mape', 'r2_score'])"
   ]
  },
  {
   "cell_type": "code",
   "execution_count": 26,
   "metadata": {
    "executionInfo": {
     "elapsed": 165,
     "status": "ok",
     "timestamp": 1754806349225,
     "user": {
      "displayName": "Alan Gabriel Amaro Colin",
      "userId": "17298980579619170060"
     },
     "user_tz": 360
    },
    "id": "tRGw7jGHdz-e"
   },
   "outputs": [
    {
     "name": "stdout",
     "output_type": "stream",
     "text": [
      "You must install graphviz (see instructions at https://graphviz.gitlab.io/download/) for `plot_model` to work.\n"
     ]
    }
   ],
   "source": [
    "get_plot_model(model_DNN, folder_path= final_path)"
   ]
  },
  {
   "cell_type": "code",
   "execution_count": 27,
   "metadata": {
    "colab": {
     "base_uri": "https://localhost:8080/",
     "height": 561
    },
    "executionInfo": {
     "elapsed": 943,
     "status": "ok",
     "timestamp": 1754806350177,
     "user": {
      "displayName": "Alan Gabriel Amaro Colin",
      "userId": "17298980579619170060"
     },
     "user_tz": 360
    },
    "id": "2zVTR0NDd198",
    "outputId": "43756354-a27f-41f3-d829-9ac2675f62bf"
   },
   "outputs": [
    {
     "data": {
      "text/html": [
       "<pre style=\"white-space:pre;overflow-x:auto;line-height:normal;font-family:Menlo,'DejaVu Sans Mono',consolas,'Courier New',monospace\"><span style=\"font-weight: bold\">Model: \"functional\"</span>\n",
       "</pre>\n"
      ],
      "text/plain": [
       "\u001b[1mModel: \"functional\"\u001b[0m\n"
      ]
     },
     "metadata": {},
     "output_type": "display_data"
    },
    {
     "data": {
      "text/html": [
       "<pre style=\"white-space:pre;overflow-x:auto;line-height:normal;font-family:Menlo,'DejaVu Sans Mono',consolas,'Courier New',monospace\">┏━━━━━━━━━━━━━━━━━━━━━━━━━━━━━━━━━┳━━━━━━━━━━━━━━━━━━━━━━━━┳━━━━━━━━━━━━━━━┓\n",
       "┃<span style=\"font-weight: bold\"> Layer (type)                    </span>┃<span style=\"font-weight: bold\"> Output Shape           </span>┃<span style=\"font-weight: bold\">       Param # </span>┃\n",
       "┡━━━━━━━━━━━━━━━━━━━━━━━━━━━━━━━━━╇━━━━━━━━━━━━━━━━━━━━━━━━╇━━━━━━━━━━━━━━━┩\n",
       "│ input_layer (<span style=\"color: #0087ff; text-decoration-color: #0087ff\">InputLayer</span>)        │ (<span style=\"color: #00d7ff; text-decoration-color: #00d7ff\">None</span>, <span style=\"color: #00af00; text-decoration-color: #00af00\">2</span>)              │             <span style=\"color: #00af00; text-decoration-color: #00af00\">0</span> │\n",
       "├─────────────────────────────────┼────────────────────────┼───────────────┤\n",
       "│ dense (<span style=\"color: #0087ff; text-decoration-color: #0087ff\">Dense</span>)                   │ (<span style=\"color: #00d7ff; text-decoration-color: #00d7ff\">None</span>, <span style=\"color: #00af00; text-decoration-color: #00af00\">32</span>)             │            <span style=\"color: #00af00; text-decoration-color: #00af00\">96</span> │\n",
       "├─────────────────────────────────┼────────────────────────┼───────────────┤\n",
       "│ dropout (<span style=\"color: #0087ff; text-decoration-color: #0087ff\">Dropout</span>)               │ (<span style=\"color: #00d7ff; text-decoration-color: #00d7ff\">None</span>, <span style=\"color: #00af00; text-decoration-color: #00af00\">32</span>)             │             <span style=\"color: #00af00; text-decoration-color: #00af00\">0</span> │\n",
       "├─────────────────────────────────┼────────────────────────┼───────────────┤\n",
       "│ batch_normalization             │ (<span style=\"color: #00d7ff; text-decoration-color: #00d7ff\">None</span>, <span style=\"color: #00af00; text-decoration-color: #00af00\">32</span>)             │           <span style=\"color: #00af00; text-decoration-color: #00af00\">128</span> │\n",
       "│ (<span style=\"color: #0087ff; text-decoration-color: #0087ff\">BatchNormalization</span>)            │                        │               │\n",
       "├─────────────────────────────────┼────────────────────────┼───────────────┤\n",
       "│ dense_1 (<span style=\"color: #0087ff; text-decoration-color: #0087ff\">Dense</span>)                 │ (<span style=\"color: #00d7ff; text-decoration-color: #00d7ff\">None</span>, <span style=\"color: #00af00; text-decoration-color: #00af00\">161</span>)            │         <span style=\"color: #00af00; text-decoration-color: #00af00\">5,313</span> │\n",
       "├─────────────────────────────────┼────────────────────────┼───────────────┤\n",
       "│ dropout_1 (<span style=\"color: #0087ff; text-decoration-color: #0087ff\">Dropout</span>)             │ (<span style=\"color: #00d7ff; text-decoration-color: #00d7ff\">None</span>, <span style=\"color: #00af00; text-decoration-color: #00af00\">161</span>)            │             <span style=\"color: #00af00; text-decoration-color: #00af00\">0</span> │\n",
       "├─────────────────────────────────┼────────────────────────┼───────────────┤\n",
       "│ batch_normalization_1           │ (<span style=\"color: #00d7ff; text-decoration-color: #00d7ff\">None</span>, <span style=\"color: #00af00; text-decoration-color: #00af00\">161</span>)            │           <span style=\"color: #00af00; text-decoration-color: #00af00\">644</span> │\n",
       "│ (<span style=\"color: #0087ff; text-decoration-color: #0087ff\">BatchNormalization</span>)            │                        │               │\n",
       "├─────────────────────────────────┼────────────────────────┼───────────────┤\n",
       "│ dense_2 (<span style=\"color: #0087ff; text-decoration-color: #0087ff\">Dense</span>)                 │ (<span style=\"color: #00d7ff; text-decoration-color: #00d7ff\">None</span>, <span style=\"color: #00af00; text-decoration-color: #00af00\">1</span>)              │           <span style=\"color: #00af00; text-decoration-color: #00af00\">162</span> │\n",
       "└─────────────────────────────────┴────────────────────────┴───────────────┘\n",
       "</pre>\n"
      ],
      "text/plain": [
       "┏━━━━━━━━━━━━━━━━━━━━━━━━━━━━━━━━━┳━━━━━━━━━━━━━━━━━━━━━━━━┳━━━━━━━━━━━━━━━┓\n",
       "┃\u001b[1m \u001b[0m\u001b[1mLayer (type)                   \u001b[0m\u001b[1m \u001b[0m┃\u001b[1m \u001b[0m\u001b[1mOutput Shape          \u001b[0m\u001b[1m \u001b[0m┃\u001b[1m \u001b[0m\u001b[1m      Param #\u001b[0m\u001b[1m \u001b[0m┃\n",
       "┡━━━━━━━━━━━━━━━━━━━━━━━━━━━━━━━━━╇━━━━━━━━━━━━━━━━━━━━━━━━╇━━━━━━━━━━━━━━━┩\n",
       "│ input_layer (\u001b[38;5;33mInputLayer\u001b[0m)        │ (\u001b[38;5;45mNone\u001b[0m, \u001b[38;5;34m2\u001b[0m)              │             \u001b[38;5;34m0\u001b[0m │\n",
       "├─────────────────────────────────┼────────────────────────┼───────────────┤\n",
       "│ dense (\u001b[38;5;33mDense\u001b[0m)                   │ (\u001b[38;5;45mNone\u001b[0m, \u001b[38;5;34m32\u001b[0m)             │            \u001b[38;5;34m96\u001b[0m │\n",
       "├─────────────────────────────────┼────────────────────────┼───────────────┤\n",
       "│ dropout (\u001b[38;5;33mDropout\u001b[0m)               │ (\u001b[38;5;45mNone\u001b[0m, \u001b[38;5;34m32\u001b[0m)             │             \u001b[38;5;34m0\u001b[0m │\n",
       "├─────────────────────────────────┼────────────────────────┼───────────────┤\n",
       "│ batch_normalization             │ (\u001b[38;5;45mNone\u001b[0m, \u001b[38;5;34m32\u001b[0m)             │           \u001b[38;5;34m128\u001b[0m │\n",
       "│ (\u001b[38;5;33mBatchNormalization\u001b[0m)            │                        │               │\n",
       "├─────────────────────────────────┼────────────────────────┼───────────────┤\n",
       "│ dense_1 (\u001b[38;5;33mDense\u001b[0m)                 │ (\u001b[38;5;45mNone\u001b[0m, \u001b[38;5;34m161\u001b[0m)            │         \u001b[38;5;34m5,313\u001b[0m │\n",
       "├─────────────────────────────────┼────────────────────────┼───────────────┤\n",
       "│ dropout_1 (\u001b[38;5;33mDropout\u001b[0m)             │ (\u001b[38;5;45mNone\u001b[0m, \u001b[38;5;34m161\u001b[0m)            │             \u001b[38;5;34m0\u001b[0m │\n",
       "├─────────────────────────────────┼────────────────────────┼───────────────┤\n",
       "│ batch_normalization_1           │ (\u001b[38;5;45mNone\u001b[0m, \u001b[38;5;34m161\u001b[0m)            │           \u001b[38;5;34m644\u001b[0m │\n",
       "│ (\u001b[38;5;33mBatchNormalization\u001b[0m)            │                        │               │\n",
       "├─────────────────────────────────┼────────────────────────┼───────────────┤\n",
       "│ dense_2 (\u001b[38;5;33mDense\u001b[0m)                 │ (\u001b[38;5;45mNone\u001b[0m, \u001b[38;5;34m1\u001b[0m)              │           \u001b[38;5;34m162\u001b[0m │\n",
       "└─────────────────────────────────┴────────────────────────┴───────────────┘\n"
      ]
     },
     "metadata": {},
     "output_type": "display_data"
    },
    {
     "data": {
      "text/html": [
       "<pre style=\"white-space:pre;overflow-x:auto;line-height:normal;font-family:Menlo,'DejaVu Sans Mono',consolas,'Courier New',monospace\"><span style=\"font-weight: bold\"> Total params: </span><span style=\"color: #00af00; text-decoration-color: #00af00\">6,343</span> (24.78 KB)\n",
       "</pre>\n"
      ],
      "text/plain": [
       "\u001b[1m Total params: \u001b[0m\u001b[38;5;34m6,343\u001b[0m (24.78 KB)\n"
      ]
     },
     "metadata": {},
     "output_type": "display_data"
    },
    {
     "data": {
      "text/html": [
       "<pre style=\"white-space:pre;overflow-x:auto;line-height:normal;font-family:Menlo,'DejaVu Sans Mono',consolas,'Courier New',monospace\"><span style=\"font-weight: bold\"> Trainable params: </span><span style=\"color: #00af00; text-decoration-color: #00af00\">5,957</span> (23.27 KB)\n",
       "</pre>\n"
      ],
      "text/plain": [
       "\u001b[1m Trainable params: \u001b[0m\u001b[38;5;34m5,957\u001b[0m (23.27 KB)\n"
      ]
     },
     "metadata": {},
     "output_type": "display_data"
    },
    {
     "data": {
      "text/html": [
       "<pre style=\"white-space:pre;overflow-x:auto;line-height:normal;font-family:Menlo,'DejaVu Sans Mono',consolas,'Courier New',monospace\"><span style=\"font-weight: bold\"> Non-trainable params: </span><span style=\"color: #00af00; text-decoration-color: #00af00\">386</span> (1.51 KB)\n",
       "</pre>\n"
      ],
      "text/plain": [
       "\u001b[1m Non-trainable params: \u001b[0m\u001b[38;5;34m386\u001b[0m (1.51 KB)\n"
      ]
     },
     "metadata": {},
     "output_type": "display_data"
    }
   ],
   "source": [
    "model_DNN.summary()"
   ]
  },
  {
   "cell_type": "markdown",
   "metadata": {
    "id": "VePpd9xSd7LC"
   },
   "source": [
    "## Training"
   ]
  },
  {
   "cell_type": "code",
   "execution_count": 28,
   "metadata": {
    "colab": {
     "base_uri": "https://localhost:8080/"
    },
    "executionInfo": {
     "elapsed": 35843,
     "status": "ok",
     "timestamp": 1754806386025,
     "user": {
      "displayName": "Alan Gabriel Amaro Colin",
      "userId": "17298980579619170060"
     },
     "user_tz": 360
    },
    "id": "GDvu_7QDd4HI",
    "outputId": "8229ee31-6f5a-4ed6-8217-42d1f0763bd6"
   },
   "outputs": [
    {
     "name": "stdout",
     "output_type": "stream",
     "text": [
      "Epoch 1/1000\n",
      "\u001b[1m5/5\u001b[0m \u001b[32m━━━━━━━━━━━━━━━━━━━━\u001b[0m\u001b[37m\u001b[0m \u001b[1m5s\u001b[0m 218ms/step - loss: 4.3306 - mape: 89.8105 - r2_score: -32.1465 - val_loss: 3.4360 - val_mape: 70.1390 - val_r2_score: -27.9134 - learning_rate: 0.0010\n",
      "Epoch 2/1000\n",
      "\u001b[1m5/5\u001b[0m \u001b[32m━━━━━━━━━━━━━━━━━━━━\u001b[0m\u001b[37m\u001b[0m \u001b[1m0s\u001b[0m 91ms/step - loss: 4.1200 - mape: 85.7208 - r2_score: -31.6709 - val_loss: 3.1160 - val_mape: 63.6607 - val_r2_score: -26.3347 - learning_rate: 0.0010\n",
      "Epoch 3/1000\n",
      "\u001b[1m5/5\u001b[0m \u001b[32m━━━━━━━━━━━━━━━━━━━━\u001b[0m\u001b[37m\u001b[0m \u001b[1m0s\u001b[0m 90ms/step - loss: 3.6611 - mape: 76.1382 - r2_score: -31.5837 - val_loss: 3.1580 - val_mape: 64.7206 - val_r2_score: -26.1636 - learning_rate: 0.0010\n",
      "Epoch 4/1000\n",
      "\u001b[1m5/5\u001b[0m \u001b[32m━━━━━━━━━━━━━━━━━━━━\u001b[0m\u001b[37m\u001b[0m \u001b[1m0s\u001b[0m 66ms/step - loss: 3.8349 - mape: 77.3042 - r2_score: -29.8134 - val_loss: 3.2255 - val_mape: 66.0015 - val_r2_score: -26.3057 - learning_rate: 0.0010\n",
      "Epoch 5/1000\n",
      "\u001b[1m5/5\u001b[0m \u001b[32m━━━━━━━━━━━━━━━━━━━━\u001b[0m\u001b[37m\u001b[0m \u001b[1m0s\u001b[0m 64ms/step - loss: 3.7405 - mape: 77.2281 - r2_score: -40.7630 - val_loss: 3.2589 - val_mape: 66.6630 - val_r2_score: -26.4477 - learning_rate: 0.0010\n",
      "Epoch 6/1000\n",
      "\u001b[1m5/5\u001b[0m \u001b[32m━━━━━━━━━━━━━━━━━━━━\u001b[0m\u001b[37m\u001b[0m \u001b[1m0s\u001b[0m 81ms/step - loss: 3.4394 - mape: 71.6456 - r2_score: -26.9329 - val_loss: 3.1624 - val_mape: 64.3943 - val_r2_score: -26.1300 - learning_rate: 0.0010\n",
      "Epoch 7/1000\n",
      "\u001b[1m5/5\u001b[0m \u001b[32m━━━━━━━━━━━━━━━━━━━━\u001b[0m\u001b[37m\u001b[0m \u001b[1m0s\u001b[0m 84ms/step - loss: 3.5659 - mape: 72.5962 - r2_score: -27.4021 - val_loss: 3.0519 - val_mape: 62.1971 - val_r2_score: -25.7372 - learning_rate: 0.0010\n",
      "Epoch 8/1000\n",
      "\u001b[1m5/5\u001b[0m \u001b[32m━━━━━━━━━━━━━━━━━━━━\u001b[0m\u001b[37m\u001b[0m \u001b[1m0s\u001b[0m 69ms/step - loss: 3.3667 - mape: 68.6391 - r2_score: -30.9380 - val_loss: 3.0566 - val_mape: 62.4712 - val_r2_score: -25.7742 - learning_rate: 0.0010\n",
      "Epoch 9/1000\n",
      "\u001b[1m5/5\u001b[0m \u001b[32m━━━━━━━━━━━━━━━━━━━━\u001b[0m\u001b[37m\u001b[0m \u001b[1m0s\u001b[0m 69ms/step - loss: 3.2162 - mape: 63.5646 - r2_score: -26.0900 - val_loss: 3.0799 - val_mape: 63.1504 - val_r2_score: -25.8324 - learning_rate: 0.0010\n",
      "Epoch 10/1000\n",
      "\u001b[1m5/5\u001b[0m \u001b[32m━━━━━━━━━━━━━━━━━━━━\u001b[0m\u001b[37m\u001b[0m \u001b[1m0s\u001b[0m 80ms/step - loss: 3.2181 - mape: 64.5143 - r2_score: -24.6142 - val_loss: 3.0485 - val_mape: 62.4751 - val_r2_score: -25.5916 - learning_rate: 0.0010\n",
      "Epoch 11/1000\n",
      "\u001b[1m5/5\u001b[0m \u001b[32m━━━━━━━━━━━━━━━━━━━━\u001b[0m\u001b[37m\u001b[0m \u001b[1m0s\u001b[0m 83ms/step - loss: 3.4702 - mape: 70.5696 - r2_score: -30.7887 - val_loss: 2.9900 - val_mape: 61.1277 - val_r2_score: -25.2397 - learning_rate: 0.0010\n",
      "Epoch 12/1000\n",
      "\u001b[1m5/5\u001b[0m \u001b[32m━━━━━━━━━━━━━━━━━━━━\u001b[0m\u001b[37m\u001b[0m \u001b[1m0s\u001b[0m 87ms/step - loss: 3.0096 - mape: 60.3168 - r2_score: -23.1810 - val_loss: 2.9469 - val_mape: 59.9915 - val_r2_score: -25.0272 - learning_rate: 0.0010\n",
      "Epoch 13/1000\n",
      "\u001b[1m5/5\u001b[0m \u001b[32m━━━━━━━━━━━━━━━━━━━━\u001b[0m\u001b[37m\u001b[0m \u001b[1m0s\u001b[0m 86ms/step - loss: 2.9796 - mape: 61.6052 - r2_score: -19.1412 - val_loss: 2.9312 - val_mape: 59.4761 - val_r2_score: -24.7353 - learning_rate: 0.0010\n",
      "Epoch 14/1000\n",
      "\u001b[1m5/5\u001b[0m \u001b[32m━━━━━━━━━━━━━━━━━━━━\u001b[0m\u001b[37m\u001b[0m \u001b[1m0s\u001b[0m 82ms/step - loss: 2.8626 - mape: 58.7486 - r2_score: -21.7745 - val_loss: 2.9603 - val_mape: 60.0936 - val_r2_score: -24.5529 - learning_rate: 0.0010\n",
      "Epoch 15/1000\n",
      "\u001b[1m5/5\u001b[0m \u001b[32m━━━━━━━━━━━━━━━━━━━━\u001b[0m\u001b[37m\u001b[0m \u001b[1m0s\u001b[0m 82ms/step - loss: 2.6968 - mape: 54.4323 - r2_score: -20.1919 - val_loss: 2.9709 - val_mape: 60.4122 - val_r2_score: -24.2885 - learning_rate: 0.0010\n",
      "Epoch 16/1000\n",
      "\u001b[1m5/5\u001b[0m \u001b[32m━━━━━━━━━━━━━━━━━━━━\u001b[0m\u001b[37m\u001b[0m \u001b[1m0s\u001b[0m 81ms/step - loss: 2.6780 - mape: 55.0467 - r2_score: -16.3612 - val_loss: 2.9077 - val_mape: 59.1966 - val_r2_score: -23.6780 - learning_rate: 0.0010\n",
      "Epoch 17/1000\n",
      "\u001b[1m5/5\u001b[0m \u001b[32m━━━━━━━━━━━━━━━━━━━━\u001b[0m\u001b[37m\u001b[0m \u001b[1m0s\u001b[0m 80ms/step - loss: 2.4061 - mape: 50.0494 - r2_score: -17.1473 - val_loss: 2.7994 - val_mape: 57.0948 - val_r2_score: -22.7904 - learning_rate: 0.0010\n",
      "Epoch 18/1000\n",
      "\u001b[1m5/5\u001b[0m \u001b[32m━━━━━━━━━━━━━━━━━━━━\u001b[0m\u001b[37m\u001b[0m \u001b[1m1s\u001b[0m 101ms/step - loss: 2.3978 - mape: 49.9119 - r2_score: -14.1756 - val_loss: 2.6897 - val_mape: 55.0628 - val_r2_score: -21.8392 - learning_rate: 0.0010\n",
      "Epoch 19/1000\n",
      "\u001b[1m5/5\u001b[0m \u001b[32m━━━━━━━━━━━━━━━━━━━━\u001b[0m\u001b[37m\u001b[0m \u001b[1m0s\u001b[0m 83ms/step - loss: 2.3248 - mape: 47.1243 - r2_score: -14.2394 - val_loss: 2.6397 - val_mape: 54.1853 - val_r2_score: -21.1723 - learning_rate: 0.0010\n",
      "Epoch 20/1000\n",
      "\u001b[1m5/5\u001b[0m \u001b[32m━━━━━━━━━━━━━━━━━━━━\u001b[0m\u001b[37m\u001b[0m \u001b[1m0s\u001b[0m 84ms/step - loss: 2.2988 - mape: 46.6171 - r2_score: -17.5207 - val_loss: 2.6265 - val_mape: 54.0205 - val_r2_score: -20.6441 - learning_rate: 0.0010\n",
      "Epoch 21/1000\n",
      "\u001b[1m5/5\u001b[0m \u001b[32m━━━━━━━━━━━━━━━━━━━━\u001b[0m\u001b[37m\u001b[0m \u001b[1m0s\u001b[0m 83ms/step - loss: 2.3704 - mape: 48.9393 - r2_score: -16.9401 - val_loss: 2.5948 - val_mape: 53.4365 - val_r2_score: -19.7017 - learning_rate: 0.0010\n",
      "Epoch 22/1000\n",
      "\u001b[1m5/5\u001b[0m \u001b[32m━━━━━━━━━━━━━━━━━━━━\u001b[0m\u001b[37m\u001b[0m \u001b[1m0s\u001b[0m 80ms/step - loss: 2.4451 - mape: 49.4434 - r2_score: -20.2127 - val_loss: 2.5345 - val_mape: 52.2335 - val_r2_score: -18.0503 - learning_rate: 0.0010\n",
      "Epoch 23/1000\n",
      "\u001b[1m5/5\u001b[0m \u001b[32m━━━━━━━━━━━━━━━━━━━━\u001b[0m\u001b[37m\u001b[0m \u001b[1m0s\u001b[0m 81ms/step - loss: 2.2433 - mape: 46.2588 - r2_score: -12.8475 - val_loss: 2.4158 - val_mape: 50.1938 - val_r2_score: -16.3040 - learning_rate: 0.0010\n",
      "Epoch 24/1000\n",
      "\u001b[1m5/5\u001b[0m \u001b[32m━━━━━━━━━━━━━━━━━━━━\u001b[0m\u001b[37m\u001b[0m \u001b[1m0s\u001b[0m 89ms/step - loss: 2.2005 - mape: 45.7528 - r2_score: -12.2569 - val_loss: 2.2187 - val_mape: 46.5237 - val_r2_score: -14.8420 - learning_rate: 0.0010\n",
      "Epoch 25/1000\n",
      "\u001b[1m5/5\u001b[0m \u001b[32m━━━━━━━━━━━━━━━━━━━━\u001b[0m\u001b[37m\u001b[0m \u001b[1m0s\u001b[0m 81ms/step - loss: 2.0148 - mape: 42.3412 - r2_score: -10.5904 - val_loss: 2.1397 - val_mape: 45.1952 - val_r2_score: -14.2587 - learning_rate: 0.0010\n",
      "Epoch 26/1000\n",
      "\u001b[1m5/5\u001b[0m \u001b[32m━━━━━━━━━━━━━━━━━━━━\u001b[0m\u001b[37m\u001b[0m \u001b[1m0s\u001b[0m 85ms/step - loss: 2.1616 - mape: 45.2982 - r2_score: -11.6086 - val_loss: 2.0993 - val_mape: 44.6377 - val_r2_score: -14.0162 - learning_rate: 0.0010\n",
      "Epoch 27/1000\n",
      "\u001b[1m5/5\u001b[0m \u001b[32m━━━━━━━━━━━━━━━━━━━━\u001b[0m\u001b[37m\u001b[0m \u001b[1m0s\u001b[0m 79ms/step - loss: 2.3154 - mape: 46.8314 - r2_score: -16.5603 - val_loss: 2.1045 - val_mape: 45.1828 - val_r2_score: -13.5848 - learning_rate: 0.0010\n",
      "Epoch 28/1000\n",
      "\u001b[1m5/5\u001b[0m \u001b[32m━━━━━━━━━━━━━━━━━━━━\u001b[0m\u001b[37m\u001b[0m \u001b[1m0s\u001b[0m 80ms/step - loss: 2.2936 - mape: 47.1208 - r2_score: -13.8424 - val_loss: 2.1131 - val_mape: 45.4914 - val_r2_score: -13.3459 - learning_rate: 0.0010\n",
      "Epoch 29/1000\n",
      "\u001b[1m5/5\u001b[0m \u001b[32m━━━━━━━━━━━━━━━━━━━━\u001b[0m\u001b[37m\u001b[0m \u001b[1m0s\u001b[0m 81ms/step - loss: 2.8108 - mape: 56.7451 - r2_score: -24.2239 - val_loss: 1.9968 - val_mape: 42.9446 - val_r2_score: -12.4963 - learning_rate: 0.0010\n",
      "Epoch 30/1000\n",
      "\u001b[1m5/5\u001b[0m \u001b[32m━━━━━━━━━━━━━━━━━━━━\u001b[0m\u001b[37m\u001b[0m \u001b[1m0s\u001b[0m 80ms/step - loss: 2.0850 - mape: 43.5629 - r2_score: -11.2402 - val_loss: 1.9506 - val_mape: 41.9083 - val_r2_score: -12.0084 - learning_rate: 0.0010\n",
      "Epoch 31/1000\n",
      "\u001b[1m5/5\u001b[0m \u001b[32m━━━━━━━━━━━━━━━━━━━━\u001b[0m\u001b[37m\u001b[0m \u001b[1m0s\u001b[0m 79ms/step - loss: 1.9312 - mape: 40.0057 - r2_score: -10.8027 - val_loss: 1.8844 - val_mape: 40.5985 - val_r2_score: -11.4669 - learning_rate: 0.0010\n",
      "Epoch 32/1000\n",
      "\u001b[1m5/5\u001b[0m \u001b[32m━━━━━━━━━━━━━━━━━━━━\u001b[0m\u001b[37m\u001b[0m \u001b[1m0s\u001b[0m 80ms/step - loss: 2.1151 - mape: 44.9386 - r2_score: -13.1465 - val_loss: 1.8274 - val_mape: 39.3795 - val_r2_score: -10.9413 - learning_rate: 0.0010\n",
      "Epoch 33/1000\n",
      "\u001b[1m5/5\u001b[0m \u001b[32m━━━━━━━━━━━━━━━━━━━━\u001b[0m\u001b[37m\u001b[0m \u001b[1m0s\u001b[0m 83ms/step - loss: 2.2529 - mape: 46.8008 - r2_score: -13.9102 - val_loss: 1.7538 - val_mape: 37.6839 - val_r2_score: -10.3025 - learning_rate: 0.0010\n",
      "Epoch 34/1000\n",
      "\u001b[1m5/5\u001b[0m \u001b[32m━━━━━━━━━━━━━━━━━━━━\u001b[0m\u001b[37m\u001b[0m \u001b[1m0s\u001b[0m 82ms/step - loss: 2.0304 - mape: 41.9927 - r2_score: -13.0753 - val_loss: 1.7628 - val_mape: 37.8480 - val_r2_score: -10.2359 - learning_rate: 0.0010\n",
      "Epoch 35/1000\n",
      "\u001b[1m5/5\u001b[0m \u001b[32m━━━━━━━━━━━━━━━━━━━━\u001b[0m\u001b[37m\u001b[0m \u001b[1m0s\u001b[0m 85ms/step - loss: 2.1806 - mape: 44.8584 - r2_score: -13.3194 - val_loss: 1.7178 - val_mape: 36.9145 - val_r2_score: -10.0343 - learning_rate: 0.0010\n",
      "Epoch 36/1000\n",
      "\u001b[1m5/5\u001b[0m \u001b[32m━━━━━━━━━━━━━━━━━━━━\u001b[0m\u001b[37m\u001b[0m \u001b[1m0s\u001b[0m 82ms/step - loss: 2.0436 - mape: 43.8527 - r2_score: -10.9794 - val_loss: 1.6445 - val_mape: 35.3223 - val_r2_score: -9.7686 - learning_rate: 0.0010\n",
      "Epoch 37/1000\n",
      "\u001b[1m5/5\u001b[0m \u001b[32m━━━━━━━━━━━━━━━━━━━━\u001b[0m\u001b[37m\u001b[0m \u001b[1m0s\u001b[0m 80ms/step - loss: 2.0173 - mape: 41.1212 - r2_score: -16.2482 - val_loss: 1.5286 - val_mape: 32.8412 - val_r2_score: -9.2097 - learning_rate: 0.0010\n",
      "Epoch 38/1000\n",
      "\u001b[1m5/5\u001b[0m \u001b[32m━━━━━━━━━━━━━━━━━━━━\u001b[0m\u001b[37m\u001b[0m \u001b[1m0s\u001b[0m 65ms/step - loss: 1.8397 - mape: 38.2728 - r2_score: -11.1048 - val_loss: 1.6062 - val_mape: 34.5393 - val_r2_score: -9.3852 - learning_rate: 0.0010\n",
      "Epoch 39/1000\n",
      "\u001b[1m5/5\u001b[0m \u001b[32m━━━━━━━━━━━━━━━━━━━━\u001b[0m\u001b[37m\u001b[0m \u001b[1m0s\u001b[0m 81ms/step - loss: 2.0286 - mape: 42.6576 - r2_score: -14.0527 - val_loss: 1.4047 - val_mape: 30.2119 - val_r2_score: -8.5936 - learning_rate: 0.0010\n",
      "Epoch 40/1000\n",
      "\u001b[1m5/5\u001b[0m \u001b[32m━━━━━━━━━━━━━━━━━━━━\u001b[0m\u001b[37m\u001b[0m \u001b[1m0s\u001b[0m 87ms/step - loss: 1.8216 - mape: 38.2550 - r2_score: -9.9107 - val_loss: 1.3459 - val_mape: 29.1314 - val_r2_score: -8.2966 - learning_rate: 0.0010\n",
      "Epoch 41/1000\n",
      "\u001b[1m5/5\u001b[0m \u001b[32m━━━━━━━━━━━━━━━━━━━━\u001b[0m\u001b[37m\u001b[0m \u001b[1m0s\u001b[0m 81ms/step - loss: 2.0500 - mape: 43.1346 - r2_score: -10.6748 - val_loss: 1.3642 - val_mape: 29.5600 - val_r2_score: -8.2209 - learning_rate: 0.0010\n",
      "Epoch 42/1000\n",
      "\u001b[1m5/5\u001b[0m \u001b[32m━━━━━━━━━━━━━━━━━━━━\u001b[0m\u001b[37m\u001b[0m \u001b[1m0s\u001b[0m 80ms/step - loss: 1.6844 - mape: 34.8730 - r2_score: -9.5554 - val_loss: 1.4020 - val_mape: 30.2715 - val_r2_score: -8.1939 - learning_rate: 0.0010\n",
      "Epoch 43/1000\n",
      "\u001b[1m5/5\u001b[0m \u001b[32m━━━━━━━━━━━━━━━━━━━━\u001b[0m\u001b[37m\u001b[0m \u001b[1m0s\u001b[0m 80ms/step - loss: 1.8327 - mape: 38.7902 - r2_score: -9.1862 - val_loss: 1.4011 - val_mape: 30.3563 - val_r2_score: -8.0278 - learning_rate: 0.0010\n",
      "Epoch 44/1000\n",
      "\u001b[1m5/5\u001b[0m \u001b[32m━━━━━━━━━━━━━━━━━━━━\u001b[0m\u001b[37m\u001b[0m \u001b[1m0s\u001b[0m 82ms/step - loss: 1.6398 - mape: 34.3014 - r2_score: -8.1933 - val_loss: 1.4085 - val_mape: 30.6747 - val_r2_score: -7.9804 - learning_rate: 0.0010\n",
      "Epoch 45/1000\n",
      "\u001b[1m5/5\u001b[0m \u001b[32m━━━━━━━━━━━━━━━━━━━━\u001b[0m\u001b[37m\u001b[0m \u001b[1m0s\u001b[0m 67ms/step - loss: 1.6241 - mape: 33.4174 - r2_score: -9.3205 - val_loss: 1.4888 - val_mape: 32.4289 - val_r2_score: -8.1089 - learning_rate: 0.0010\n",
      "Epoch 46/1000\n",
      "\u001b[1m5/5\u001b[0m \u001b[32m━━━━━━━━━━━━━━━━━━━━\u001b[0m\u001b[37m\u001b[0m \u001b[1m0s\u001b[0m 86ms/step - loss: 1.5664 - mape: 33.8224 - r2_score: -9.0169 - val_loss: 1.4681 - val_mape: 32.1673 - val_r2_score: -7.9570 - learning_rate: 0.0010\n",
      "Epoch 47/1000\n",
      "\u001b[1m5/5\u001b[0m \u001b[32m━━━━━━━━━━━━━━━━━━━━\u001b[0m\u001b[37m\u001b[0m \u001b[1m0s\u001b[0m 81ms/step - loss: 1.9199 - mape: 40.6709 - r2_score: -10.8199 - val_loss: 1.4158 - val_mape: 31.0469 - val_r2_score: -7.6254 - learning_rate: 0.0010\n",
      "Epoch 48/1000\n",
      "\u001b[1m5/5\u001b[0m \u001b[32m━━━━━━━━━━━━━━━━━━━━\u001b[0m\u001b[37m\u001b[0m \u001b[1m0s\u001b[0m 81ms/step - loss: 1.7632 - mape: 37.5242 - r2_score: -8.6885 - val_loss: 1.3736 - val_mape: 30.2655 - val_r2_score: -7.2287 - learning_rate: 0.0010\n",
      "Epoch 49/1000\n",
      "\u001b[1m5/5\u001b[0m \u001b[32m━━━━━━━━━━━━━━━━━━━━\u001b[0m\u001b[37m\u001b[0m \u001b[1m0s\u001b[0m 65ms/step - loss: 1.5603 - mape: 31.8472 - r2_score: -8.0740 - val_loss: 1.4619 - val_mape: 32.0446 - val_r2_score: -7.2735 - learning_rate: 0.0010\n",
      "Epoch 50/1000\n",
      "\u001b[1m5/5\u001b[0m \u001b[32m━━━━━━━━━━━━━━━━━━━━\u001b[0m\u001b[37m\u001b[0m \u001b[1m0s\u001b[0m 79ms/step - loss: 1.7128 - mape: 36.3030 - r2_score: -8.8092 - val_loss: 1.4967 - val_mape: 32.8319 - val_r2_score: -7.1234 - learning_rate: 0.0010\n",
      "Epoch 51/1000\n",
      "\u001b[1m5/5\u001b[0m \u001b[32m━━━━━━━━━━━━━━━━━━━━\u001b[0m\u001b[37m\u001b[0m \u001b[1m0s\u001b[0m 81ms/step - loss: 1.5776 - mape: 32.1409 - r2_score: -8.4605 - val_loss: 1.3862 - val_mape: 30.5904 - val_r2_score: -6.5617 - learning_rate: 0.0010\n",
      "Epoch 52/1000\n",
      "\u001b[1m5/5\u001b[0m \u001b[32m━━━━━━━━━━━━━━━━━━━━\u001b[0m\u001b[37m\u001b[0m \u001b[1m0s\u001b[0m 82ms/step - loss: 1.4132 - mape: 29.0617 - r2_score: -8.2592 - val_loss: 1.3853 - val_mape: 30.6418 - val_r2_score: -6.4397 - learning_rate: 0.0010\n",
      "Epoch 53/1000\n",
      "\u001b[1m5/5\u001b[0m \u001b[32m━━━━━━━━━━━━━━━━━━━━\u001b[0m\u001b[37m\u001b[0m \u001b[1m0s\u001b[0m 84ms/step - loss: 1.2742 - mape: 26.8423 - r2_score: -5.7108 - val_loss: 1.4035 - val_mape: 31.0745 - val_r2_score: -6.3796 - learning_rate: 0.0010\n",
      "Epoch 54/1000\n",
      "\u001b[1m5/5\u001b[0m \u001b[32m━━━━━━━━━━━━━━━━━━━━\u001b[0m\u001b[37m\u001b[0m \u001b[1m0s\u001b[0m 80ms/step - loss: 1.4781 - mape: 31.8335 - r2_score: -8.8045 - val_loss: 1.2462 - val_mape: 28.1060 - val_r2_score: -5.4418 - learning_rate: 0.0010\n",
      "Epoch 55/1000\n",
      "\u001b[1m5/5\u001b[0m \u001b[32m━━━━━━━━━━━━━━━━━━━━\u001b[0m\u001b[37m\u001b[0m \u001b[1m0s\u001b[0m 86ms/step - loss: 1.2419 - mape: 25.7378 - r2_score: -4.8263 - val_loss: 1.1967 - val_mape: 27.3804 - val_r2_score: -4.6852 - learning_rate: 0.0010\n",
      "Epoch 56/1000\n",
      "\u001b[1m5/5\u001b[0m \u001b[32m━━━━━━━━━━━━━━━━━━━━\u001b[0m\u001b[37m\u001b[0m \u001b[1m0s\u001b[0m 82ms/step - loss: 1.4286 - mape: 31.5612 - r2_score: -4.7870 - val_loss: 1.1214 - val_mape: 25.9860 - val_r2_score: -4.3051 - learning_rate: 0.0010\n",
      "Epoch 57/1000\n",
      "\u001b[1m5/5\u001b[0m \u001b[32m━━━━━━━━━━━━━━━━━━━━\u001b[0m\u001b[37m\u001b[0m \u001b[1m0s\u001b[0m 81ms/step - loss: 1.0791 - mape: 23.0039 - r2_score: -3.3294 - val_loss: 1.0454 - val_mape: 24.4879 - val_r2_score: -3.8287 - learning_rate: 0.0010\n",
      "Epoch 58/1000\n",
      "\u001b[1m5/5\u001b[0m \u001b[32m━━━━━━━━━━━━━━━━━━━━\u001b[0m\u001b[37m\u001b[0m \u001b[1m0s\u001b[0m 81ms/step - loss: 1.0459 - mape: 21.8749 - r2_score: -3.1595 - val_loss: 0.8730 - val_mape: 20.4270 - val_r2_score: -2.0735 - learning_rate: 0.0010\n",
      "Epoch 59/1000\n",
      "\u001b[1m5/5\u001b[0m \u001b[32m━━━━━━━━━━━━━━━━━━━━\u001b[0m\u001b[37m\u001b[0m \u001b[1m0s\u001b[0m 84ms/step - loss: 0.8636 - mape: 18.5126 - r2_score: -2.7124 - val_loss: 0.8331 - val_mape: 19.0262 - val_r2_score: -1.4246 - learning_rate: 0.0010\n",
      "Epoch 60/1000\n",
      "\u001b[1m5/5\u001b[0m \u001b[32m━━━━━━━━━━━━━━━━━━━━\u001b[0m\u001b[37m\u001b[0m \u001b[1m0s\u001b[0m 80ms/step - loss: 0.8627 - mape: 18.5750 - r2_score: -1.0910 - val_loss: 0.8080 - val_mape: 18.3586 - val_r2_score: -1.2236 - learning_rate: 0.0010\n",
      "Epoch 61/1000\n",
      "\u001b[1m5/5\u001b[0m \u001b[32m━━━━━━━━━━━━━━━━━━━━\u001b[0m\u001b[37m\u001b[0m \u001b[1m0s\u001b[0m 80ms/step - loss: 0.7294 - mape: 15.5375 - r2_score: -0.4974 - val_loss: 0.7762 - val_mape: 17.6367 - val_r2_score: -0.8442 - learning_rate: 0.0010\n",
      "Epoch 62/1000\n",
      "\u001b[1m5/5\u001b[0m \u001b[32m━━━━━━━━━━━━━━━━━━━━\u001b[0m\u001b[37m\u001b[0m \u001b[1m0s\u001b[0m 81ms/step - loss: 0.5734 - mape: 11.8357 - r2_score: -0.1409 - val_loss: 0.6152 - val_mape: 14.1997 - val_r2_score: -0.3171 - learning_rate: 0.0010\n",
      "Epoch 63/1000\n",
      "\u001b[1m5/5\u001b[0m \u001b[32m━━━━━━━━━━━━━━━━━━━━\u001b[0m\u001b[37m\u001b[0m \u001b[1m0s\u001b[0m 83ms/step - loss: 0.7824 - mape: 16.1383 - r2_score: -1.0188 - val_loss: 0.5968 - val_mape: 13.8304 - val_r2_score: -0.2760 - learning_rate: 0.0010\n",
      "Epoch 64/1000\n",
      "\u001b[1m5/5\u001b[0m \u001b[32m━━━━━━━━━━━━━━━━━━━━\u001b[0m\u001b[37m\u001b[0m \u001b[1m0s\u001b[0m 67ms/step - loss: 0.7758 - mape: 16.6472 - r2_score: -0.3665 - val_loss: 0.5890 - val_mape: 13.8339 - val_r2_score: -0.3521 - learning_rate: 0.0010\n",
      "Epoch 65/1000\n",
      "\u001b[1m5/5\u001b[0m \u001b[32m━━━━━━━━━━━━━━━━━━━━\u001b[0m\u001b[37m\u001b[0m \u001b[1m0s\u001b[0m 68ms/step - loss: 0.6506 - mape: 13.7775 - r2_score: -0.0815 - val_loss: 0.5818 - val_mape: 13.3974 - val_r2_score: -0.4180 - learning_rate: 0.0010\n",
      "Epoch 66/1000\n",
      "\u001b[1m5/5\u001b[0m \u001b[32m━━━━━━━━━━━━━━━━━━━━\u001b[0m\u001b[37m\u001b[0m \u001b[1m0s\u001b[0m 65ms/step - loss: 0.6349 - mape: 13.6707 - r2_score: 0.1375 - val_loss: 0.5672 - val_mape: 13.0563 - val_r2_score: -0.3623 - learning_rate: 0.0010\n",
      "Epoch 67/1000\n",
      "\u001b[1m5/5\u001b[0m \u001b[32m━━━━━━━━━━━━━━━━━━━━\u001b[0m\u001b[37m\u001b[0m \u001b[1m0s\u001b[0m 72ms/step - loss: 0.7086 - mape: 15.0409 - r2_score: -0.4187 - val_loss: 0.6402 - val_mape: 14.8313 - val_r2_score: -0.3920 - learning_rate: 0.0010\n",
      "Epoch 68/1000\n",
      "\u001b[1m5/5\u001b[0m \u001b[32m━━━━━━━━━━━━━━━━━━━━\u001b[0m\u001b[37m\u001b[0m \u001b[1m0s\u001b[0m 82ms/step - loss: 0.6360 - mape: 13.5224 - r2_score: -0.2910 - val_loss: 0.5756 - val_mape: 13.5082 - val_r2_score: -0.2697 - learning_rate: 0.0010\n",
      "Epoch 69/1000\n",
      "\u001b[1m5/5\u001b[0m \u001b[32m━━━━━━━━━━━━━━━━━━━━\u001b[0m\u001b[37m\u001b[0m \u001b[1m1s\u001b[0m 96ms/step - loss: 0.6824 - mape: 14.4876 - r2_score: -0.3756 - val_loss: 0.5452 - val_mape: 12.8663 - val_r2_score: -0.1742 - learning_rate: 0.0010\n",
      "Epoch 70/1000\n",
      "\u001b[1m5/5\u001b[0m \u001b[32m━━━━━━━━━━━━━━━━━━━━\u001b[0m\u001b[37m\u001b[0m \u001b[1m0s\u001b[0m 67ms/step - loss: 0.6760 - mape: 14.6449 - r2_score: -0.2126 - val_loss: 0.5189 - val_mape: 11.7811 - val_r2_score: -0.2742 - learning_rate: 0.0010\n",
      "Epoch 71/1000\n",
      "\u001b[1m5/5\u001b[0m \u001b[32m━━━━━━━━━━━━━━━━━━━━\u001b[0m\u001b[37m\u001b[0m \u001b[1m0s\u001b[0m 64ms/step - loss: 0.6758 - mape: 14.2119 - r2_score: -0.7716 - val_loss: 0.5619 - val_mape: 13.0912 - val_r2_score: -0.2458 - learning_rate: 0.0010\n",
      "Epoch 72/1000\n",
      "\u001b[1m5/5\u001b[0m \u001b[32m━━━━━━━━━━━━━━━━━━━━\u001b[0m\u001b[37m\u001b[0m \u001b[1m0s\u001b[0m 68ms/step - loss: 0.5490 - mape: 11.7207 - r2_score: -0.0824 - val_loss: 0.7840 - val_mape: 18.0185 - val_r2_score: -0.9778 - learning_rate: 0.0010\n",
      "Epoch 73/1000\n",
      "\u001b[1m5/5\u001b[0m \u001b[32m━━━━━━━━━━━━━━━━━━━━\u001b[0m\u001b[37m\u001b[0m \u001b[1m0s\u001b[0m 66ms/step - loss: 0.6816 - mape: 14.6155 - r2_score: -0.6075 - val_loss: 0.6725 - val_mape: 15.5632 - val_r2_score: -0.6710 - learning_rate: 0.0010\n",
      "Epoch 74/1000\n",
      "\u001b[1m5/5\u001b[0m \u001b[32m━━━━━━━━━━━━━━━━━━━━\u001b[0m\u001b[37m\u001b[0m \u001b[1m0s\u001b[0m 80ms/step - loss: 0.5957 - mape: 12.8294 - r2_score: -0.0819 - val_loss: 0.4751 - val_mape: 10.9449 - val_r2_score: 0.0160 - learning_rate: 0.0010\n",
      "Epoch 75/1000\n",
      "\u001b[1m5/5\u001b[0m \u001b[32m━━━━━━━━━━━━━━━━━━━━\u001b[0m\u001b[37m\u001b[0m \u001b[1m0s\u001b[0m 82ms/step - loss: 0.5622 - mape: 12.0135 - r2_score: 0.2287 - val_loss: 0.4797 - val_mape: 10.7986 - val_r2_score: 0.1048 - learning_rate: 0.0010\n",
      "Epoch 76/1000\n",
      "\u001b[1m5/5\u001b[0m \u001b[32m━━━━━━━━━━━━━━━━━━━━\u001b[0m\u001b[37m\u001b[0m \u001b[1m0s\u001b[0m 68ms/step - loss: 0.5871 - mape: 12.2289 - r2_score: 0.1577 - val_loss: 0.5801 - val_mape: 12.9912 - val_r2_score: -0.0362 - learning_rate: 0.0010\n",
      "Epoch 77/1000\n",
      "\u001b[1m5/5\u001b[0m \u001b[32m━━━━━━━━━━━━━━━━━━━━\u001b[0m\u001b[37m\u001b[0m \u001b[1m0s\u001b[0m 67ms/step - loss: 0.7264 - mape: 15.0506 - r2_score: -0.4078 - val_loss: 0.5561 - val_mape: 12.8115 - val_r2_score: -0.1264 - learning_rate: 0.0010\n",
      "Epoch 78/1000\n",
      "\u001b[1m5/5\u001b[0m \u001b[32m━━━━━━━━━━━━━━━━━━━━\u001b[0m\u001b[37m\u001b[0m \u001b[1m0s\u001b[0m 65ms/step - loss: 0.5721 - mape: 12.1508 - r2_score: -0.2940 - val_loss: 0.5421 - val_mape: 12.3447 - val_r2_score: -0.0507 - learning_rate: 0.0010\n",
      "Epoch 79/1000\n",
      "\u001b[1m5/5\u001b[0m \u001b[32m━━━━━━━━━━━━━━━━━━━━\u001b[0m\u001b[37m\u001b[0m \u001b[1m0s\u001b[0m 65ms/step - loss: 0.4920 - mape: 11.2117 - r2_score: 0.2332 - val_loss: 0.5595 - val_mape: 12.7475 - val_r2_score: -0.0468 - learning_rate: 0.0010\n",
      "Epoch 80/1000\n",
      "\u001b[1m5/5\u001b[0m \u001b[32m━━━━━━━━━━━━━━━━━━━━\u001b[0m\u001b[37m\u001b[0m \u001b[1m0s\u001b[0m 78ms/step - loss: 0.6848 - mape: 14.6114 - r2_score: -0.1767 - val_loss: 0.6431 - val_mape: 14.6975 - val_r2_score: -0.2886 - learning_rate: 0.0010\n",
      "Epoch 81/1000\n",
      "\u001b[1m5/5\u001b[0m \u001b[32m━━━━━━━━━━━━━━━━━━━━\u001b[0m\u001b[37m\u001b[0m \u001b[1m0s\u001b[0m 70ms/step - loss: 0.5680 - mape: 12.2581 - r2_score: -0.0816 - val_loss: 0.5645 - val_mape: 12.8287 - val_r2_score: -0.1173 - learning_rate: 0.0010\n",
      "Epoch 82/1000\n",
      "\u001b[1m5/5\u001b[0m \u001b[32m━━━━━━━━━━━━━━━━━━━━\u001b[0m\u001b[37m\u001b[0m \u001b[1m0s\u001b[0m 67ms/step - loss: 0.5836 - mape: 12.0771 - r2_score: 0.1583 - val_loss: 0.4906 - val_mape: 11.2171 - val_r2_score: 0.0477 - learning_rate: 0.0010\n",
      "Epoch 83/1000\n",
      "\u001b[1m5/5\u001b[0m \u001b[32m━━━━━━━━━━━━━━━━━━━━\u001b[0m\u001b[37m\u001b[0m \u001b[1m0s\u001b[0m 83ms/step - loss: 0.6521 - mape: 14.1915 - r2_score: -0.0574 - val_loss: 0.4665 - val_mape: 10.8359 - val_r2_score: 0.1126 - learning_rate: 0.0010\n",
      "Epoch 84/1000\n",
      "\u001b[1m5/5\u001b[0m \u001b[32m━━━━━━━━━━━━━━━━━━━━\u001b[0m\u001b[37m\u001b[0m \u001b[1m0s\u001b[0m 68ms/step - loss: 0.5344 - mape: 11.5711 - r2_score: 0.3176 - val_loss: 0.5045 - val_mape: 11.6367 - val_r2_score: 0.0101 - learning_rate: 0.0010\n",
      "Epoch 85/1000\n",
      "\u001b[1m5/5\u001b[0m \u001b[32m━━━━━━━━━━━━━━━━━━━━\u001b[0m\u001b[37m\u001b[0m \u001b[1m0s\u001b[0m 65ms/step - loss: 0.5876 - mape: 12.7276 - r2_score: -0.1901 - val_loss: 0.5629 - val_mape: 12.8776 - val_r2_score: -0.2277 - learning_rate: 0.0010\n",
      "Epoch 86/1000\n",
      "\u001b[1m5/5\u001b[0m \u001b[32m━━━━━━━━━━━━━━━━━━━━\u001b[0m\u001b[37m\u001b[0m \u001b[1m0s\u001b[0m 68ms/step - loss: 0.6317 - mape: 13.3806 - r2_score: 0.0732 - val_loss: 0.4755 - val_mape: 10.9480 - val_r2_score: 0.0785 - learning_rate: 0.0010\n",
      "Epoch 87/1000\n",
      "\u001b[1m5/5\u001b[0m \u001b[32m━━━━━━━━━━━━━━━━━━━━\u001b[0m\u001b[37m\u001b[0m \u001b[1m0s\u001b[0m 66ms/step - loss: 0.5231 - mape: 11.4488 - r2_score: 0.1893 - val_loss: 0.5119 - val_mape: 11.8423 - val_r2_score: 0.0386 - learning_rate: 0.0010\n",
      "Epoch 88/1000\n",
      "\u001b[1m5/5\u001b[0m \u001b[32m━━━━━━━━━━━━━━━━━━━━\u001b[0m\u001b[37m\u001b[0m \u001b[1m0s\u001b[0m 66ms/step - loss: 0.4989 - mape: 10.7260 - r2_score: 0.3381 - val_loss: 0.6500 - val_mape: 14.9086 - val_r2_score: -0.3996 - learning_rate: 0.0010\n",
      "Epoch 89/1000\n",
      "\u001b[1m5/5\u001b[0m \u001b[32m━━━━━━━━━━━━━━━━━━━━\u001b[0m\u001b[37m\u001b[0m \u001b[1m0s\u001b[0m 67ms/step - loss: 0.6176 - mape: 12.9965 - r2_score: 0.0077 - val_loss: 0.6067 - val_mape: 14.0862 - val_r2_score: -0.2669 - learning_rate: 0.0010\n",
      "Epoch 90/1000\n",
      "\u001b[1m5/5\u001b[0m \u001b[32m━━━━━━━━━━━━━━━━━━━━\u001b[0m\u001b[37m\u001b[0m \u001b[1m0s\u001b[0m 66ms/step - loss: 0.5722 - mape: 11.9319 - r2_score: -0.1527 - val_loss: 0.6052 - val_mape: 13.8563 - val_r2_score: -0.2724 - learning_rate: 0.0010\n",
      "Epoch 91/1000\n",
      "\u001b[1m5/5\u001b[0m \u001b[32m━━━━━━━━━━━━━━━━━━━━\u001b[0m\u001b[37m\u001b[0m \u001b[1m0s\u001b[0m 65ms/step - loss: 0.5563 - mape: 11.8947 - r2_score: 0.1937 - val_loss: 0.6984 - val_mape: 15.8666 - val_r2_score: -0.6229 - learning_rate: 0.0010\n",
      "Epoch 92/1000\n",
      "\u001b[1m5/5\u001b[0m \u001b[32m━━━━━━━━━━━━━━━━━━━━\u001b[0m\u001b[37m\u001b[0m \u001b[1m0s\u001b[0m 66ms/step - loss: 0.5653 - mape: 12.0682 - r2_score: 0.0624 - val_loss: 0.6644 - val_mape: 14.9302 - val_r2_score: -0.5253 - learning_rate: 0.0010\n",
      "Epoch 93/1000\n",
      "\u001b[1m5/5\u001b[0m \u001b[32m━━━━━━━━━━━━━━━━━━━━\u001b[0m\u001b[37m\u001b[0m \u001b[1m0s\u001b[0m 65ms/step - loss: 0.6042 - mape: 12.8613 - r2_score: -0.2119 - val_loss: 0.5314 - val_mape: 12.0076 - val_r2_score: -0.1081 - learning_rate: 0.0010\n",
      "Epoch 94/1000\n",
      "\u001b[1m5/5\u001b[0m \u001b[32m━━━━━━━━━━━━━━━━━━━━\u001b[0m\u001b[37m\u001b[0m \u001b[1m0s\u001b[0m 71ms/step - loss: 0.6275 - mape: 13.8322 - r2_score: 0.1023 - val_loss: 0.5042 - val_mape: 11.3844 - val_r2_score: 1.0729e-06 - learning_rate: 0.0010\n",
      "Epoch 95/1000\n",
      "\u001b[1m5/5\u001b[0m \u001b[32m━━━━━━━━━━━━━━━━━━━━\u001b[0m\u001b[37m\u001b[0m \u001b[1m0s\u001b[0m 66ms/step - loss: 0.5380 - mape: 11.5610 - r2_score: 0.2181 - val_loss: 0.6322 - val_mape: 14.1933 - val_r2_score: -0.2999 - learning_rate: 0.0010\n",
      "Epoch 96/1000\n",
      "\u001b[1m5/5\u001b[0m \u001b[32m━━━━━━━━━━━━━━━━━━━━\u001b[0m\u001b[37m\u001b[0m \u001b[1m0s\u001b[0m 70ms/step - loss: 0.6706 - mape: 14.1305 - r2_score: -0.9340 - val_loss: 0.6573 - val_mape: 14.7869 - val_r2_score: -0.3158 - learning_rate: 0.0010\n",
      "Epoch 97/1000\n",
      "\u001b[1m5/5\u001b[0m \u001b[32m━━━━━━━━━━━━━━━━━━━━\u001b[0m\u001b[37m\u001b[0m \u001b[1m1s\u001b[0m 81ms/step - loss: 0.4996 - mape: 10.8521 - r2_score: 0.1432 - val_loss: 0.5285 - val_mape: 11.9654 - val_r2_score: -0.0028 - learning_rate: 0.0010\n",
      "Epoch 98/1000\n",
      "\u001b[1m5/5\u001b[0m \u001b[32m━━━━━━━━━━━━━━━━━━━━\u001b[0m\u001b[37m\u001b[0m \u001b[1m0s\u001b[0m 71ms/step - loss: 0.5887 - mape: 12.7441 - r2_score: 0.1061 - val_loss: 0.5359 - val_mape: 12.0779 - val_r2_score: -0.0683 - learning_rate: 0.0010\n",
      "Epoch 99/1000\n",
      "\u001b[1m5/5\u001b[0m \u001b[32m━━━━━━━━━━━━━━━━━━━━\u001b[0m\u001b[37m\u001b[0m \u001b[1m1s\u001b[0m 79ms/step - loss: 0.5960 - mape: 12.8748 - r2_score: 0.0129 - val_loss: 0.5671 - val_mape: 12.7366 - val_r2_score: -0.1275 - learning_rate: 0.0010\n",
      "Epoch 100/1000\n",
      "\u001b[1m5/5\u001b[0m \u001b[32m━━━━━━━━━━━━━━━━━━━━\u001b[0m\u001b[37m\u001b[0m \u001b[1m0s\u001b[0m 72ms/step - loss: 0.5478 - mape: 11.7548 - r2_score: 0.3613 - val_loss: 0.6159 - val_mape: 13.9459 - val_r2_score: -0.1804 - learning_rate: 0.0010\n",
      "Epoch 101/1000\n",
      "\u001b[1m5/5\u001b[0m \u001b[32m━━━━━━━━━━━━━━━━━━━━\u001b[0m\u001b[37m\u001b[0m \u001b[1m0s\u001b[0m 65ms/step - loss: 0.4814 - mape: 10.3895 - r2_score: 0.2886 - val_loss: 0.4933 - val_mape: 11.1437 - val_r2_score: 0.0820 - learning_rate: 0.0010\n",
      "Epoch 102/1000\n",
      "\u001b[1m5/5\u001b[0m \u001b[32m━━━━━━━━━━━━━━━━━━━━\u001b[0m\u001b[37m\u001b[0m \u001b[1m0s\u001b[0m 66ms/step - loss: 0.4556 - mape: 10.1802 - r2_score: 0.2951 - val_loss: 0.6276 - val_mape: 14.1980 - val_r2_score: -0.3329 - learning_rate: 0.0010\n",
      "Epoch 103/1000\n",
      "\u001b[1m5/5\u001b[0m \u001b[32m━━━━━━━━━━━━━━━━━━━━\u001b[0m\u001b[37m\u001b[0m \u001b[1m0s\u001b[0m 66ms/step - loss: 0.5483 - mape: 11.5427 - r2_score: 0.1478 - val_loss: 0.6262 - val_mape: 14.3144 - val_r2_score: -0.2951 - learning_rate: 0.0010\n",
      "Epoch 104/1000\n",
      "\u001b[1m5/5\u001b[0m \u001b[32m━━━━━━━━━━━━━━━━━━━━\u001b[0m\u001b[37m\u001b[0m \u001b[1m0s\u001b[0m 82ms/step - loss: 0.5919 - mape: 12.9144 - r2_score: 0.0029 - val_loss: 0.4709 - val_mape: 10.7688 - val_r2_score: 0.1355 - learning_rate: 0.0010\n",
      "Epoch 105/1000\n",
      "\u001b[1m5/5\u001b[0m \u001b[32m━━━━━━━━━━━━━━━━━━━━\u001b[0m\u001b[37m\u001b[0m \u001b[1m0s\u001b[0m 85ms/step - loss: 0.5219 - mape: 11.0244 - r2_score: 0.1537 - val_loss: 0.5348 - val_mape: 11.8393 - val_r2_score: 0.1908 - learning_rate: 0.0010\n",
      "Epoch 106/1000\n",
      "\u001b[1m5/5\u001b[0m \u001b[32m━━━━━━━━━━━━━━━━━━━━\u001b[0m\u001b[37m\u001b[0m \u001b[1m0s\u001b[0m 84ms/step - loss: 0.5672 - mape: 11.8098 - r2_score: 0.1249 - val_loss: 0.3876 - val_mape: 8.9028 - val_r2_score: 0.3056 - learning_rate: 0.0010\n",
      "Epoch 107/1000\n",
      "\u001b[1m5/5\u001b[0m \u001b[32m━━━━━━━━━━━━━━━━━━━━\u001b[0m\u001b[37m\u001b[0m \u001b[1m0s\u001b[0m 71ms/step - loss: 0.5800 - mape: 11.9107 - r2_score: -0.1011 - val_loss: 0.4742 - val_mape: 10.8105 - val_r2_score: 0.0932 - learning_rate: 0.0010\n",
      "Epoch 108/1000\n",
      "\u001b[1m5/5\u001b[0m \u001b[32m━━━━━━━━━━━━━━━━━━━━\u001b[0m\u001b[37m\u001b[0m \u001b[1m0s\u001b[0m 67ms/step - loss: 0.5495 - mape: 11.6555 - r2_score: 0.0957 - val_loss: 0.6339 - val_mape: 14.4239 - val_r2_score: -0.2738 - learning_rate: 0.0010\n",
      "Epoch 109/1000\n",
      "\u001b[1m5/5\u001b[0m \u001b[32m━━━━━━━━━━━━━━━━━━━━\u001b[0m\u001b[37m\u001b[0m \u001b[1m0s\u001b[0m 66ms/step - loss: 0.5062 - mape: 10.5649 - r2_score: 0.2944 - val_loss: 0.6573 - val_mape: 15.0589 - val_r2_score: -0.3786 - learning_rate: 0.0010\n",
      "Epoch 110/1000\n",
      "\u001b[1m5/5\u001b[0m \u001b[32m━━━━━━━━━━━━━━━━━━━━\u001b[0m\u001b[37m\u001b[0m \u001b[1m0s\u001b[0m 67ms/step - loss: 0.5587 - mape: 11.5773 - r2_score: -0.2395 - val_loss: 0.6165 - val_mape: 14.0414 - val_r2_score: -0.4480 - learning_rate: 0.0010\n",
      "Epoch 111/1000\n",
      "\u001b[1m5/5\u001b[0m \u001b[32m━━━━━━━━━━━━━━━━━━━━\u001b[0m\u001b[37m\u001b[0m \u001b[1m0s\u001b[0m 65ms/step - loss: 0.5704 - mape: 12.3205 - r2_score: 0.1668 - val_loss: 0.5209 - val_mape: 12.0334 - val_r2_score: -0.0886 - learning_rate: 0.0010\n",
      "Epoch 112/1000\n",
      "\u001b[1m5/5\u001b[0m \u001b[32m━━━━━━━━━━━━━━━━━━━━\u001b[0m\u001b[37m\u001b[0m \u001b[1m0s\u001b[0m 69ms/step - loss: 0.6287 - mape: 12.9246 - r2_score: -0.3571 - val_loss: 0.4627 - val_mape: 10.7023 - val_r2_score: 0.1178 - learning_rate: 0.0010\n",
      "Epoch 113/1000\n",
      "\u001b[1m5/5\u001b[0m \u001b[32m━━━━━━━━━━━━━━━━━━━━\u001b[0m\u001b[37m\u001b[0m \u001b[1m1s\u001b[0m 82ms/step - loss: 0.6447 - mape: 13.7600 - r2_score: -0.0578 - val_loss: 0.5025 - val_mape: 11.4492 - val_r2_score: -0.0052 - learning_rate: 0.0010\n",
      "Epoch 114/1000\n",
      "\u001b[1m5/5\u001b[0m \u001b[32m━━━━━━━━━━━━━━━━━━━━\u001b[0m\u001b[37m\u001b[0m \u001b[1m0s\u001b[0m 65ms/step - loss: 0.6342 - mape: 13.2454 - r2_score: -0.3568 - val_loss: 0.5022 - val_mape: 11.5859 - val_r2_score: 0.0277 - learning_rate: 0.0010\n",
      "Epoch 115/1000\n",
      "\u001b[1m5/5\u001b[0m \u001b[32m━━━━━━━━━━━━━━━━━━━━\u001b[0m\u001b[37m\u001b[0m \u001b[1m0s\u001b[0m 65ms/step - loss: 0.5943 - mape: 11.9857 - r2_score: -0.1691 - val_loss: 0.5516 - val_mape: 12.6229 - val_r2_score: -0.1170 - learning_rate: 0.0010\n",
      "Epoch 116/1000\n",
      "\u001b[1m5/5\u001b[0m \u001b[32m━━━━━━━━━━━━━━━━━━━━\u001b[0m\u001b[37m\u001b[0m \u001b[1m0s\u001b[0m 65ms/step - loss: 0.5566 - mape: 11.5607 - r2_score: -0.0383 - val_loss: 0.5126 - val_mape: 12.0911 - val_r2_score: 0.0022 - learning_rate: 0.0010\n",
      "Epoch 117/1000\n",
      "\u001b[1m5/5\u001b[0m \u001b[32m━━━━━━━━━━━━━━━━━━━━\u001b[0m\u001b[37m\u001b[0m \u001b[1m0s\u001b[0m 64ms/step - loss: 0.5309 - mape: 11.4380 - r2_score: 0.2314 - val_loss: 0.4989 - val_mape: 11.7067 - val_r2_score: 0.0011 - learning_rate: 0.0010\n",
      "Epoch 118/1000\n",
      "\u001b[1m5/5\u001b[0m \u001b[32m━━━━━━━━━━━━━━━━━━━━\u001b[0m\u001b[37m\u001b[0m \u001b[1m0s\u001b[0m 64ms/step - loss: 0.5933 - mape: 12.8138 - r2_score: 0.0493 - val_loss: 0.5669 - val_mape: 13.1174 - val_r2_score: -0.0665 - learning_rate: 0.0010\n",
      "Epoch 119/1000\n",
      "\u001b[1m5/5\u001b[0m \u001b[32m━━━━━━━━━━━━━━━━━━━━\u001b[0m\u001b[37m\u001b[0m \u001b[1m0s\u001b[0m 69ms/step - loss: 0.6175 - mape: 12.8550 - r2_score: 0.1080 - val_loss: 0.5405 - val_mape: 12.3524 - val_r2_score: -0.0725 - learning_rate: 0.0010\n",
      "Epoch 120/1000\n",
      "\u001b[1m5/5\u001b[0m \u001b[32m━━━━━━━━━━━━━━━━━━━━\u001b[0m\u001b[37m\u001b[0m \u001b[1m0s\u001b[0m 67ms/step - loss: 0.5465 - mape: 11.7065 - r2_score: 0.0707 - val_loss: 0.5189 - val_mape: 11.9671 - val_r2_score: 0.0253 - learning_rate: 0.0010\n",
      "Epoch 121/1000\n",
      "\u001b[1m5/5\u001b[0m \u001b[32m━━━━━━━━━━━━━━━━━━━━\u001b[0m\u001b[37m\u001b[0m \u001b[1m0s\u001b[0m 70ms/step - loss: 0.4692 - mape: 10.1728 - r2_score: 0.4400 - val_loss: 0.5583 - val_mape: 12.7428 - val_r2_score: -0.0637 - learning_rate: 0.0010\n",
      "Epoch 122/1000\n",
      "\u001b[1m5/5\u001b[0m \u001b[32m━━━━━━━━━━━━━━━━━━━━\u001b[0m\u001b[37m\u001b[0m \u001b[1m0s\u001b[0m 66ms/step - loss: 0.4070 - mape: 8.5669 - r2_score: 0.5419 - val_loss: 0.5479 - val_mape: 12.5035 - val_r2_score: -0.0247 - learning_rate: 8.0000e-04\n",
      "Epoch 123/1000\n",
      "\u001b[1m5/5\u001b[0m \u001b[32m━━━━━━━━━━━━━━━━━━━━\u001b[0m\u001b[37m\u001b[0m \u001b[1m0s\u001b[0m 67ms/step - loss: 0.4694 - mape: 10.2221 - r2_score: 0.4319 - val_loss: 0.5215 - val_mape: 11.9840 - val_r2_score: 0.0391 - learning_rate: 8.0000e-04\n",
      "Epoch 124/1000\n",
      "\u001b[1m5/5\u001b[0m \u001b[32m━━━━━━━━━━━━━━━━━━━━\u001b[0m\u001b[37m\u001b[0m \u001b[1m0s\u001b[0m 71ms/step - loss: 0.4550 - mape: 9.8492 - r2_score: 0.4101 - val_loss: 0.5057 - val_mape: 11.7151 - val_r2_score: 0.0466 - learning_rate: 8.0000e-04\n",
      "Epoch 125/1000\n",
      "\u001b[1m5/5\u001b[0m \u001b[32m━━━━━━━━━━━━━━━━━━━━\u001b[0m\u001b[37m\u001b[0m \u001b[1m0s\u001b[0m 67ms/step - loss: 0.5224 - mape: 10.9616 - r2_score: 0.1923 - val_loss: 0.5101 - val_mape: 11.8562 - val_r2_score: 0.0364 - learning_rate: 8.0000e-04\n",
      "Epoch 126/1000\n",
      "\u001b[1m5/5\u001b[0m \u001b[32m━━━━━━━━━━━━━━━━━━━━\u001b[0m\u001b[37m\u001b[0m \u001b[1m0s\u001b[0m 66ms/step - loss: 0.5741 - mape: 12.3199 - r2_score: 0.0549 - val_loss: 0.5552 - val_mape: 12.7882 - val_r2_score: -0.0698 - learning_rate: 8.0000e-04\n",
      "Epoch 127/1000\n",
      "\u001b[1m5/5\u001b[0m \u001b[32m━━━━━━━━━━━━━━━━━━━━\u001b[0m\u001b[37m\u001b[0m \u001b[1m0s\u001b[0m 71ms/step - loss: 0.4507 - mape: 9.4579 - r2_score: 0.4546 - val_loss: 0.5154 - val_mape: 11.9275 - val_r2_score: 0.0405 - learning_rate: 8.0000e-04\n",
      "Epoch 128/1000\n",
      "\u001b[1m5/5\u001b[0m \u001b[32m━━━━━━━━━━━━━━━━━━━━\u001b[0m\u001b[37m\u001b[0m \u001b[1m0s\u001b[0m 67ms/step - loss: 0.4738 - mape: 10.1002 - r2_score: 0.2150 - val_loss: 0.4883 - val_mape: 11.4022 - val_r2_score: 0.1096 - learning_rate: 8.0000e-04\n",
      "Epoch 129/1000\n",
      "\u001b[1m5/5\u001b[0m \u001b[32m━━━━━━━━━━━━━━━━━━━━\u001b[0m\u001b[37m\u001b[0m \u001b[1m0s\u001b[0m 68ms/step - loss: 0.5669 - mape: 12.2005 - r2_score: 0.0686 - val_loss: 0.5181 - val_mape: 11.9167 - val_r2_score: 0.0149 - learning_rate: 8.0000e-04\n",
      "Epoch 130/1000\n",
      "\u001b[1m5/5\u001b[0m \u001b[32m━━━━━━━━━━━━━━━━━━━━\u001b[0m\u001b[37m\u001b[0m \u001b[1m0s\u001b[0m 69ms/step - loss: 0.4960 - mape: 10.7042 - r2_score: 0.2931 - val_loss: 0.5531 - val_mape: 12.6116 - val_r2_score: -0.0667 - learning_rate: 8.0000e-04\n",
      "Epoch 131/1000\n",
      "\u001b[1m5/5\u001b[0m \u001b[32m━━━━━━━━━━━━━━━━━━━━\u001b[0m\u001b[37m\u001b[0m \u001b[1m0s\u001b[0m 71ms/step - loss: 0.4698 - mape: 10.0570 - r2_score: 0.3852 - val_loss: 0.6914 - val_mape: 15.4286 - val_r2_score: -0.6261 - learning_rate: 8.0000e-04\n",
      "Epoch 132/1000\n",
      "\u001b[1m5/5\u001b[0m \u001b[32m━━━━━━━━━━━━━━━━━━━━\u001b[0m\u001b[37m\u001b[0m \u001b[1m0s\u001b[0m 71ms/step - loss: 0.5319 - mape: 11.2583 - r2_score: 0.3361 - val_loss: 0.7332 - val_mape: 16.3700 - val_r2_score: -0.7841 - learning_rate: 8.0000e-04\n",
      "Epoch 133/1000\n",
      "\u001b[1m5/5\u001b[0m \u001b[32m━━━━━━━━━━━━━━━━━━━━\u001b[0m\u001b[37m\u001b[0m \u001b[1m0s\u001b[0m 68ms/step - loss: 0.5886 - mape: 12.3948 - r2_score: 0.0228 - val_loss: 0.7083 - val_mape: 15.8973 - val_r2_score: -0.6430 - learning_rate: 8.0000e-04\n",
      "Epoch 134/1000\n",
      "\u001b[1m5/5\u001b[0m \u001b[32m━━━━━━━━━━━━━━━━━━━━\u001b[0m\u001b[37m\u001b[0m \u001b[1m0s\u001b[0m 66ms/step - loss: 0.5738 - mape: 12.7683 - r2_score: 0.0328 - val_loss: 0.6317 - val_mape: 14.2109 - val_r2_score: -0.3578 - learning_rate: 8.0000e-04\n",
      "Epoch 135/1000\n",
      "\u001b[1m5/5\u001b[0m \u001b[32m━━━━━━━━━━━━━━━━━━━━\u001b[0m\u001b[37m\u001b[0m \u001b[1m0s\u001b[0m 67ms/step - loss: 0.4549 - mape: 9.5074 - r2_score: 0.3899 - val_loss: 0.5746 - val_mape: 13.1191 - val_r2_score: -0.1351 - learning_rate: 8.0000e-04\n",
      "Epoch 136/1000\n",
      "\u001b[1m5/5\u001b[0m \u001b[32m━━━━━━━━━━━━━━━━━━━━\u001b[0m\u001b[37m\u001b[0m \u001b[1m0s\u001b[0m 66ms/step - loss: 0.4651 - mape: 10.0394 - r2_score: 0.3749 - val_loss: 0.5138 - val_mape: 11.8363 - val_r2_score: -0.0103 - learning_rate: 8.0000e-04\n",
      "Epoch 137/1000\n",
      "\u001b[1m5/5\u001b[0m \u001b[32m━━━━━━━━━━━━━━━━━━━━\u001b[0m\u001b[37m\u001b[0m \u001b[1m0s\u001b[0m 66ms/step - loss: 0.5145 - mape: 10.8630 - r2_score: 0.2922 - val_loss: 0.5054 - val_mape: 11.6491 - val_r2_score: 5.2190e-04 - learning_rate: 8.0000e-04\n",
      "Epoch 138/1000\n",
      "\u001b[1m5/5\u001b[0m \u001b[32m━━━━━━━━━━━━━━━━━━━━\u001b[0m\u001b[37m\u001b[0m \u001b[1m0s\u001b[0m 66ms/step - loss: 0.4292 - mape: 9.2298 - r2_score: 0.2810 - val_loss: 0.5052 - val_mape: 11.5381 - val_r2_score: -0.0284 - learning_rate: 8.0000e-04\n",
      "Epoch 139/1000\n",
      "\u001b[1m5/5\u001b[0m \u001b[32m━━━━━━━━━━━━━━━━━━━━\u001b[0m\u001b[37m\u001b[0m \u001b[1m0s\u001b[0m 65ms/step - loss: 0.5397 - mape: 11.1338 - r2_score: 0.0948 - val_loss: 0.4730 - val_mape: 10.8770 - val_r2_score: 0.1265 - learning_rate: 8.0000e-04\n",
      "Epoch 140/1000\n",
      "\u001b[1m5/5\u001b[0m \u001b[32m━━━━━━━━━━━━━━━━━━━━\u001b[0m\u001b[37m\u001b[0m \u001b[1m0s\u001b[0m 68ms/step - loss: 0.4572 - mape: 9.6971 - r2_score: 0.3899 - val_loss: 0.5070 - val_mape: 11.5510 - val_r2_score: 0.0313 - learning_rate: 8.0000e-04\n",
      "Epoch 141/1000\n",
      "\u001b[1m5/5\u001b[0m \u001b[32m━━━━━━━━━━━━━━━━━━━━\u001b[0m\u001b[37m\u001b[0m \u001b[1m0s\u001b[0m 66ms/step - loss: 0.4857 - mape: 10.4121 - r2_score: 0.2592 - val_loss: 0.6688 - val_mape: 15.0614 - val_r2_score: -0.3030 - learning_rate: 8.0000e-04\n",
      "Epoch 142/1000\n",
      "\u001b[1m5/5\u001b[0m \u001b[32m━━━━━━━━━━━━━━━━━━━━\u001b[0m\u001b[37m\u001b[0m \u001b[1m0s\u001b[0m 67ms/step - loss: 0.5261 - mape: 11.0522 - r2_score: 0.1060 - val_loss: 0.6445 - val_mape: 14.6227 - val_r2_score: -0.2338 - learning_rate: 8.0000e-04\n",
      "Epoch 143/1000\n",
      "\u001b[1m5/5\u001b[0m \u001b[32m━━━━━━━━━━━━━━━━━━━━\u001b[0m\u001b[37m\u001b[0m \u001b[1m0s\u001b[0m 74ms/step - loss: 0.6740 - mape: 14.6999 - r2_score: -0.2736 - val_loss: 0.5985 - val_mape: 13.4962 - val_r2_score: -0.1437 - learning_rate: 8.0000e-04\n",
      "Epoch 144/1000\n",
      "\u001b[1m5/5\u001b[0m \u001b[32m━━━━━━━━━━━━━━━━━━━━\u001b[0m\u001b[37m\u001b[0m \u001b[1m0s\u001b[0m 67ms/step - loss: 0.5738 - mape: 12.0696 - r2_score: -0.0161 - val_loss: 0.5685 - val_mape: 12.6700 - val_r2_score: -0.1703 - learning_rate: 8.0000e-04\n",
      "Epoch 145/1000\n",
      "\u001b[1m5/5\u001b[0m \u001b[32m━━━━━━━━━━━━━━━━━━━━\u001b[0m\u001b[37m\u001b[0m \u001b[1m0s\u001b[0m 71ms/step - loss: 0.5709 - mape: 11.4447 - r2_score: -0.1305 - val_loss: 0.5253 - val_mape: 11.7267 - val_r2_score: -0.0923 - learning_rate: 8.0000e-04\n",
      "Epoch 146/1000\n",
      "\u001b[1m5/5\u001b[0m \u001b[32m━━━━━━━━━━━━━━━━━━━━\u001b[0m\u001b[37m\u001b[0m \u001b[1m0s\u001b[0m 70ms/step - loss: 0.6136 - mape: 13.1722 - r2_score: 0.0306 - val_loss: 0.4989 - val_mape: 11.3262 - val_r2_score: 0.0699 - learning_rate: 8.0000e-04\n",
      "Epoch 147/1000\n",
      "\u001b[1m5/5\u001b[0m \u001b[32m━━━━━━━━━━━━━━━━━━━━\u001b[0m\u001b[37m\u001b[0m \u001b[1m0s\u001b[0m 67ms/step - loss: 0.4934 - mape: 10.3988 - r2_score: 0.3730 - val_loss: 0.5352 - val_mape: 12.3220 - val_r2_score: 0.0080 - learning_rate: 8.0000e-04\n",
      "Epoch 148/1000\n",
      "\u001b[1m5/5\u001b[0m \u001b[32m━━━━━━━━━━━━━━━━━━━━\u001b[0m\u001b[37m\u001b[0m \u001b[1m0s\u001b[0m 68ms/step - loss: 0.4066 - mape: 8.6924 - r2_score: 0.4986 - val_loss: 0.5041 - val_mape: 11.8131 - val_r2_score: 0.0860 - learning_rate: 8.0000e-04\n",
      "Epoch 149/1000\n",
      "\u001b[1m5/5\u001b[0m \u001b[32m━━━━━━━━━━━━━━━━━━━━\u001b[0m\u001b[37m\u001b[0m \u001b[1m0s\u001b[0m 69ms/step - loss: 0.6613 - mape: 13.5969 - r2_score: -0.2552 - val_loss: 0.4514 - val_mape: 10.7093 - val_r2_score: 0.1924 - learning_rate: 8.0000e-04\n",
      "Epoch 150/1000\n",
      "\u001b[1m5/5\u001b[0m \u001b[32m━━━━━━━━━━━━━━━━━━━━\u001b[0m\u001b[37m\u001b[0m \u001b[1m0s\u001b[0m 71ms/step - loss: 0.5179 - mape: 11.6349 - r2_score: 0.2529 - val_loss: 0.4691 - val_mape: 10.9582 - val_r2_score: 0.1689 - learning_rate: 8.0000e-04\n",
      "Epoch 151/1000\n",
      "\u001b[1m5/5\u001b[0m \u001b[32m━━━━━━━━━━━━━━━━━━━━\u001b[0m\u001b[37m\u001b[0m \u001b[1m0s\u001b[0m 72ms/step - loss: 0.6083 - mape: 13.0249 - r2_score: 0.0341 - val_loss: 0.4888 - val_mape: 11.2919 - val_r2_score: 0.0990 - learning_rate: 8.0000e-04\n",
      "Epoch 152/1000\n",
      "\u001b[1m5/5\u001b[0m \u001b[32m━━━━━━━━━━━━━━━━━━━━\u001b[0m\u001b[37m\u001b[0m \u001b[1m0s\u001b[0m 71ms/step - loss: 0.4706 - mape: 10.0318 - r2_score: 0.3514 - val_loss: 0.5203 - val_mape: 11.6757 - val_r2_score: -0.0686 - learning_rate: 8.0000e-04\n",
      "Epoch 153/1000\n",
      "\u001b[1m5/5\u001b[0m \u001b[32m━━━━━━━━━━━━━━━━━━━━\u001b[0m\u001b[37m\u001b[0m \u001b[1m0s\u001b[0m 69ms/step - loss: 0.5388 - mape: 11.3842 - r2_score: 0.2525 - val_loss: 0.5271 - val_mape: 11.9176 - val_r2_score: -0.0649 - learning_rate: 8.0000e-04\n",
      "Epoch 154/1000\n",
      "\u001b[1m5/5\u001b[0m \u001b[32m━━━━━━━━━━━━━━━━━━━━\u001b[0m\u001b[37m\u001b[0m \u001b[1m0s\u001b[0m 67ms/step - loss: 0.4614 - mape: 9.6796 - r2_score: 0.3288 - val_loss: 0.4945 - val_mape: 11.3295 - val_r2_score: 0.0415 - learning_rate: 8.0000e-04\n",
      "Epoch 155/1000\n",
      "\u001b[1m5/5\u001b[0m \u001b[32m━━━━━━━━━━━━━━━━━━━━\u001b[0m\u001b[37m\u001b[0m \u001b[1m0s\u001b[0m 71ms/step - loss: 0.4784 - mape: 10.5276 - r2_score: 0.4450 - val_loss: 0.5018 - val_mape: 11.4904 - val_r2_score: 0.0080 - learning_rate: 8.0000e-04\n",
      "Epoch 156/1000\n",
      "\u001b[1m5/5\u001b[0m \u001b[32m━━━━━━━━━━━━━━━━━━━━\u001b[0m\u001b[37m\u001b[0m \u001b[1m0s\u001b[0m 68ms/step - loss: 0.4547 - mape: 9.7572 - r2_score: 0.3956 - val_loss: 0.5330 - val_mape: 12.1281 - val_r2_score: -0.0576 - learning_rate: 8.0000e-04\n",
      "Epoch 157/1000\n",
      "\u001b[1m5/5\u001b[0m \u001b[32m━━━━━━━━━━━━━━━━━━━━\u001b[0m\u001b[37m\u001b[0m \u001b[1m0s\u001b[0m 70ms/step - loss: 0.4717 - mape: 9.9639 - r2_score: 0.3239 - val_loss: 0.5693 - val_mape: 12.9755 - val_r2_score: -0.1407 - learning_rate: 8.0000e-04\n",
      "Epoch 158/1000\n",
      "\u001b[1m5/5\u001b[0m \u001b[32m━━━━━━━━━━━━━━━━━━━━\u001b[0m\u001b[37m\u001b[0m \u001b[1m0s\u001b[0m 73ms/step - loss: 0.5133 - mape: 10.9824 - r2_score: 0.1680 - val_loss: 0.6081 - val_mape: 13.8637 - val_r2_score: -0.2848 - learning_rate: 8.0000e-04\n",
      "Epoch 159/1000\n",
      "\u001b[1m5/5\u001b[0m \u001b[32m━━━━━━━━━━━━━━━━━━━━\u001b[0m\u001b[37m\u001b[0m \u001b[1m0s\u001b[0m 69ms/step - loss: 0.5305 - mape: 11.3667 - r2_score: 0.2020 - val_loss: 0.6421 - val_mape: 14.6513 - val_r2_score: -0.4092 - learning_rate: 8.0000e-04\n",
      "Epoch 160/1000\n",
      "\u001b[1m5/5\u001b[0m \u001b[32m━━━━━━━━━━━━━━━━━━━━\u001b[0m\u001b[37m\u001b[0m \u001b[1m0s\u001b[0m 67ms/step - loss: 0.4492 - mape: 9.6584 - r2_score: 0.3944 - val_loss: 0.5988 - val_mape: 13.7192 - val_r2_score: -0.2347 - learning_rate: 8.0000e-04\n",
      "Epoch 161/1000\n",
      "\u001b[1m5/5\u001b[0m \u001b[32m━━━━━━━━━━━━━━━━━━━━\u001b[0m\u001b[37m\u001b[0m \u001b[1m0s\u001b[0m 69ms/step - loss: 0.5658 - mape: 11.5900 - r2_score: 0.1335 - val_loss: 0.5634 - val_mape: 12.9456 - val_r2_score: -0.1359 - learning_rate: 8.0000e-04\n",
      "Epoch 162/1000\n",
      "\u001b[1m5/5\u001b[0m \u001b[32m━━━━━━━━━━━━━━━━━━━━\u001b[0m\u001b[37m\u001b[0m \u001b[1m0s\u001b[0m 67ms/step - loss: 0.4267 - mape: 9.0891 - r2_score: 0.4194 - val_loss: 0.5190 - val_mape: 11.9668 - val_r2_score: -9.0039e-04 - learning_rate: 8.0000e-04\n",
      "Epoch 163/1000\n",
      "\u001b[1m5/5\u001b[0m \u001b[32m━━━━━━━━━━━━━━━━━━━━\u001b[0m\u001b[37m\u001b[0m \u001b[1m0s\u001b[0m 66ms/step - loss: 0.5693 - mape: 12.6624 - r2_score: 0.1294 - val_loss: 0.5780 - val_mape: 13.1059 - val_r2_score: -0.1527 - learning_rate: 8.0000e-04\n",
      "Epoch 164/1000\n",
      "\u001b[1m5/5\u001b[0m \u001b[32m━━━━━━━━━━━━━━━━━━━━\u001b[0m\u001b[37m\u001b[0m \u001b[1m0s\u001b[0m 65ms/step - loss: 0.5325 - mape: 11.3076 - r2_score: 0.2439 - val_loss: 0.4969 - val_mape: 11.5208 - val_r2_score: 0.0455 - learning_rate: 8.0000e-04\n",
      "Epoch 165/1000\n",
      "\u001b[1m5/5\u001b[0m \u001b[32m━━━━━━━━━━━━━━━━━━━━\u001b[0m\u001b[37m\u001b[0m \u001b[1m0s\u001b[0m 73ms/step - loss: 0.5904 - mape: 12.5411 - r2_score: 0.1600 - val_loss: 0.4689 - val_mape: 10.7724 - val_r2_score: 0.0897 - learning_rate: 8.0000e-04\n",
      "Epoch 166/1000\n",
      "\u001b[1m5/5\u001b[0m \u001b[32m━━━━━━━━━━━━━━━━━━━━\u001b[0m\u001b[37m\u001b[0m \u001b[1m0s\u001b[0m 68ms/step - loss: 0.4273 - mape: 8.9940 - r2_score: 0.4623 - val_loss: 0.4902 - val_mape: 11.1650 - val_r2_score: 0.0505 - learning_rate: 8.0000e-04\n",
      "Epoch 167/1000\n",
      "\u001b[1m5/5\u001b[0m \u001b[32m━━━━━━━━━━━━━━━━━━━━\u001b[0m\u001b[37m\u001b[0m \u001b[1m0s\u001b[0m 66ms/step - loss: 0.4986 - mape: 10.4906 - r2_score: 0.3355 - val_loss: 0.4375 - val_mape: 10.0630 - val_r2_score: 0.2171 - learning_rate: 8.0000e-04\n",
      "Epoch 168/1000\n",
      "\u001b[1m5/5\u001b[0m \u001b[32m━━━━━━━━━━━━━━━━━━━━\u001b[0m\u001b[37m\u001b[0m \u001b[1m0s\u001b[0m 71ms/step - loss: 0.5417 - mape: 11.1869 - r2_score: 0.1138 - val_loss: 0.4432 - val_mape: 10.1597 - val_r2_score: 0.2098 - learning_rate: 8.0000e-04\n",
      "Epoch 169/1000\n",
      "\u001b[1m5/5\u001b[0m \u001b[32m━━━━━━━━━━━━━━━━━━━━\u001b[0m\u001b[37m\u001b[0m \u001b[1m0s\u001b[0m 72ms/step - loss: 0.4270 - mape: 9.2558 - r2_score: 0.5254 - val_loss: 0.5088 - val_mape: 11.5273 - val_r2_score: 0.0881 - learning_rate: 8.0000e-04\n",
      "Epoch 170/1000\n",
      "\u001b[1m5/5\u001b[0m \u001b[32m━━━━━━━━━━━━━━━━━━━━\u001b[0m\u001b[37m\u001b[0m \u001b[1m0s\u001b[0m 69ms/step - loss: 0.5152 - mape: 10.5989 - r2_score: 0.2535 - val_loss: 0.5470 - val_mape: 12.5102 - val_r2_score: 0.0182 - learning_rate: 8.0000e-04\n",
      "Epoch 171/1000\n",
      "\u001b[1m5/5\u001b[0m \u001b[32m━━━━━━━━━━━━━━━━━━━━\u001b[0m\u001b[37m\u001b[0m \u001b[1m0s\u001b[0m 71ms/step - loss: 0.4789 - mape: 10.2358 - r2_score: 0.3171 - val_loss: 0.5325 - val_mape: 12.3471 - val_r2_score: 0.0677 - learning_rate: 8.0000e-04\n",
      "Epoch 172/1000\n",
      "\u001b[1m5/5\u001b[0m \u001b[32m━━━━━━━━━━━━━━━━━━━━\u001b[0m\u001b[37m\u001b[0m \u001b[1m0s\u001b[0m 72ms/step - loss: 0.5736 - mape: 11.6994 - r2_score: -0.1278 - val_loss: 0.4591 - val_mape: 10.7298 - val_r2_score: 0.2072 - learning_rate: 8.0000e-04\n",
      "Epoch 173/1000\n",
      "\u001b[1m5/5\u001b[0m \u001b[32m━━━━━━━━━━━━━━━━━━━━\u001b[0m\u001b[37m\u001b[0m \u001b[1m0s\u001b[0m 69ms/step - loss: 0.4990 - mape: 10.2380 - r2_score: 0.1745 - val_loss: 0.5099 - val_mape: 11.6730 - val_r2_score: 0.0157 - learning_rate: 8.0000e-04\n",
      "Epoch 174/1000\n",
      "\u001b[1m5/5\u001b[0m \u001b[32m━━━━━━━━━━━━━━━━━━━━\u001b[0m\u001b[37m\u001b[0m \u001b[1m0s\u001b[0m 66ms/step - loss: 0.4796 - mape: 9.8269 - r2_score: 0.4256 - val_loss: 0.5127 - val_mape: 11.5785 - val_r2_score: -0.0529 - learning_rate: 8.0000e-04\n",
      "Epoch 175/1000\n",
      "\u001b[1m5/5\u001b[0m \u001b[32m━━━━━━━━━━━━━━━━━━━━\u001b[0m\u001b[37m\u001b[0m \u001b[1m0s\u001b[0m 72ms/step - loss: 0.5410 - mape: 11.4907 - r2_score: 0.2152 - val_loss: 0.4899 - val_mape: 11.0566 - val_r2_score: 0.0540 - learning_rate: 8.0000e-04\n",
      "Epoch 176/1000\n",
      "\u001b[1m5/5\u001b[0m \u001b[32m━━━━━━━━━━━━━━━━━━━━\u001b[0m\u001b[37m\u001b[0m \u001b[1m0s\u001b[0m 73ms/step - loss: 0.4940 - mape: 10.5972 - r2_score: 0.3558 - val_loss: 0.5116 - val_mape: 11.6388 - val_r2_score: 0.0396 - learning_rate: 8.0000e-04\n",
      "Epoch 177/1000\n",
      "\u001b[1m5/5\u001b[0m \u001b[32m━━━━━━━━━━━━━━━━━━━━\u001b[0m\u001b[37m\u001b[0m \u001b[1m0s\u001b[0m 71ms/step - loss: 0.4558 - mape: 9.4940 - r2_score: 0.2230 - val_loss: 0.5230 - val_mape: 11.9177 - val_r2_score: 0.0200 - learning_rate: 8.0000e-04\n",
      "Epoch 178/1000\n",
      "\u001b[1m5/5\u001b[0m \u001b[32m━━━━━━━━━━━━━━━━━━━━\u001b[0m\u001b[37m\u001b[0m \u001b[1m0s\u001b[0m 69ms/step - loss: 0.4158 - mape: 8.8046 - r2_score: 0.4445 - val_loss: 0.4771 - val_mape: 10.8975 - val_r2_score: 0.0838 - learning_rate: 8.0000e-04\n",
      "Epoch 179/1000\n",
      "\u001b[1m5/5\u001b[0m \u001b[32m━━━━━━━━━━━━━━━━━━━━\u001b[0m\u001b[37m\u001b[0m \u001b[1m0s\u001b[0m 66ms/step - loss: 0.4723 - mape: 9.4959 - r2_score: 0.3960 - val_loss: 0.4205 - val_mape: 9.7567 - val_r2_score: 0.1923 - learning_rate: 8.0000e-04\n",
      "Epoch 180/1000\n",
      "\u001b[1m5/5\u001b[0m \u001b[32m━━━━━━━━━━━━━━━━━━━━\u001b[0m\u001b[37m\u001b[0m \u001b[1m0s\u001b[0m 66ms/step - loss: 0.4469 - mape: 9.2183 - r2_score: 0.3889 - val_loss: 0.4059 - val_mape: 9.4805 - val_r2_score: 0.2542 - learning_rate: 8.0000e-04\n",
      "Epoch 181/1000\n",
      "\u001b[1m5/5\u001b[0m \u001b[32m━━━━━━━━━━━━━━━━━━━━\u001b[0m\u001b[37m\u001b[0m \u001b[1m0s\u001b[0m 86ms/step - loss: 0.4138 - mape: 8.7910 - r2_score: 0.6486 - val_loss: 0.3927 - val_mape: 9.2203 - val_r2_score: 0.3349 - learning_rate: 8.0000e-04\n",
      "Epoch 182/1000\n",
      "\u001b[1m5/5\u001b[0m \u001b[32m━━━━━━━━━━━━━━━━━━━━\u001b[0m\u001b[37m\u001b[0m \u001b[1m0s\u001b[0m 76ms/step - loss: 0.5241 - mape: 10.7238 - r2_score: 0.2514 - val_loss: 0.4188 - val_mape: 9.5626 - val_r2_score: 0.2341 - learning_rate: 8.0000e-04\n",
      "Epoch 183/1000\n",
      "\u001b[1m5/5\u001b[0m \u001b[32m━━━━━━━━━━━━━━━━━━━━\u001b[0m\u001b[37m\u001b[0m \u001b[1m0s\u001b[0m 67ms/step - loss: 0.4984 - mape: 10.4688 - r2_score: 0.2841 - val_loss: 0.4508 - val_mape: 10.2223 - val_r2_score: 0.1674 - learning_rate: 8.0000e-04\n",
      "Epoch 184/1000\n",
      "\u001b[1m5/5\u001b[0m \u001b[32m━━━━━━━━━━━━━━━━━━━━\u001b[0m\u001b[37m\u001b[0m \u001b[1m0s\u001b[0m 66ms/step - loss: 0.4949 - mape: 10.2451 - r2_score: 0.2145 - val_loss: 0.4835 - val_mape: 10.9661 - val_r2_score: 0.0962 - learning_rate: 8.0000e-04\n",
      "Epoch 185/1000\n",
      "\u001b[1m5/5\u001b[0m \u001b[32m━━━━━━━━━━━━━━━━━━━━\u001b[0m\u001b[37m\u001b[0m \u001b[1m0s\u001b[0m 66ms/step - loss: 0.4969 - mape: 10.5410 - r2_score: 0.2563 - val_loss: 0.5403 - val_mape: 12.2760 - val_r2_score: -0.0712 - learning_rate: 8.0000e-04\n",
      "Epoch 186/1000\n",
      "\u001b[1m5/5\u001b[0m \u001b[32m━━━━━━━━━━━━━━━━━━━━\u001b[0m\u001b[37m\u001b[0m \u001b[1m0s\u001b[0m 68ms/step - loss: 0.4983 - mape: 10.2253 - r2_score: 0.3800 - val_loss: 0.5603 - val_mape: 12.6498 - val_r2_score: -0.1930 - learning_rate: 8.0000e-04\n",
      "Epoch 187/1000\n",
      "\u001b[1m5/5\u001b[0m \u001b[32m━━━━━━━━━━━━━━━━━━━━\u001b[0m\u001b[37m\u001b[0m \u001b[1m0s\u001b[0m 67ms/step - loss: 0.5446 - mape: 11.4365 - r2_score: 0.2456 - val_loss: 0.5578 - val_mape: 12.5525 - val_r2_score: -0.1622 - learning_rate: 8.0000e-04\n",
      "Epoch 188/1000\n",
      "\u001b[1m5/5\u001b[0m \u001b[32m━━━━━━━━━━━━━━━━━━━━\u001b[0m\u001b[37m\u001b[0m \u001b[1m0s\u001b[0m 67ms/step - loss: 0.6096 - mape: 12.4260 - r2_score: -0.1176 - val_loss: 0.5427 - val_mape: 12.1553 - val_r2_score: -0.1192 - learning_rate: 8.0000e-04\n",
      "Epoch 189/1000\n",
      "\u001b[1m5/5\u001b[0m \u001b[32m━━━━━━━━━━━━━━━━━━━━\u001b[0m\u001b[37m\u001b[0m \u001b[1m0s\u001b[0m 65ms/step - loss: 0.4169 - mape: 8.8879 - r2_score: 0.6221 - val_loss: 0.5520 - val_mape: 12.3534 - val_r2_score: -0.1674 - learning_rate: 8.0000e-04\n",
      "Epoch 190/1000\n",
      "\u001b[1m5/5\u001b[0m \u001b[32m━━━━━━━━━━━━━━━━━━━━\u001b[0m\u001b[37m\u001b[0m \u001b[1m0s\u001b[0m 65ms/step - loss: 0.4838 - mape: 10.1889 - r2_score: 0.2326 - val_loss: 0.5942 - val_mape: 13.2470 - val_r2_score: -0.3262 - learning_rate: 8.0000e-04\n",
      "Epoch 191/1000\n",
      "\u001b[1m5/5\u001b[0m \u001b[32m━━━━━━━━━━━━━━━━━━━━\u001b[0m\u001b[37m\u001b[0m \u001b[1m0s\u001b[0m 71ms/step - loss: 0.5431 - mape: 11.8570 - r2_score: 0.2135 - val_loss: 0.5090 - val_mape: 11.4213 - val_r2_score: -0.0086 - learning_rate: 8.0000e-04\n",
      "Epoch 192/1000\n",
      "\u001b[1m5/5\u001b[0m \u001b[32m━━━━━━━━━━━━━━━━━━━━\u001b[0m\u001b[37m\u001b[0m \u001b[1m0s\u001b[0m 69ms/step - loss: 0.4655 - mape: 9.6109 - r2_score: 0.1813 - val_loss: 0.4266 - val_mape: 9.8203 - val_r2_score: 0.2525 - learning_rate: 8.0000e-04\n",
      "Epoch 193/1000\n",
      "\u001b[1m5/5\u001b[0m \u001b[32m━━━━━━━━━━━━━━━━━━━━\u001b[0m\u001b[37m\u001b[0m \u001b[1m0s\u001b[0m 71ms/step - loss: 0.4912 - mape: 10.9086 - r2_score: 0.2203 - val_loss: 0.4241 - val_mape: 9.8117 - val_r2_score: 0.3012 - learning_rate: 8.0000e-04\n",
      "Epoch 194/1000\n",
      "\u001b[1m5/5\u001b[0m \u001b[32m━━━━━━━━━━━━━━━━━━━━\u001b[0m\u001b[37m\u001b[0m \u001b[1m0s\u001b[0m 69ms/step - loss: 0.3656 - mape: 7.9238 - r2_score: 0.6753 - val_loss: 0.4579 - val_mape: 10.6173 - val_r2_score: 0.1975 - learning_rate: 8.0000e-04\n",
      "Epoch 195/1000\n",
      "\u001b[1m5/5\u001b[0m \u001b[32m━━━━━━━━━━━━━━━━━━━━\u001b[0m\u001b[37m\u001b[0m \u001b[1m0s\u001b[0m 66ms/step - loss: 0.5025 - mape: 10.3541 - r2_score: 0.1766 - val_loss: 0.4933 - val_mape: 11.3380 - val_r2_score: 0.0577 - learning_rate: 8.0000e-04\n",
      "Epoch 196/1000\n",
      "\u001b[1m5/5\u001b[0m \u001b[32m━━━━━━━━━━━━━━━━━━━━\u001b[0m\u001b[37m\u001b[0m \u001b[1m0s\u001b[0m 66ms/step - loss: 0.4029 - mape: 8.5551 - r2_score: 0.3927 - val_loss: 0.5424 - val_mape: 12.3788 - val_r2_score: -0.0962 - learning_rate: 8.0000e-04\n",
      "Epoch 197/1000\n",
      "\u001b[1m5/5\u001b[0m \u001b[32m━━━━━━━━━━━━━━━━━━━━\u001b[0m\u001b[37m\u001b[0m \u001b[1m0s\u001b[0m 71ms/step - loss: 0.3972 - mape: 8.6683 - r2_score: 0.5375 - val_loss: 0.5553 - val_mape: 12.6684 - val_r2_score: -0.1372 - learning_rate: 8.0000e-04\n",
      "Epoch 198/1000\n",
      "\u001b[1m5/5\u001b[0m \u001b[32m━━━━━━━━━━━━━━━━━━━━\u001b[0m\u001b[37m\u001b[0m \u001b[1m0s\u001b[0m 68ms/step - loss: 0.4932 - mape: 10.2853 - r2_score: 0.3675 - val_loss: 0.5454 - val_mape: 12.5251 - val_r2_score: -0.0893 - learning_rate: 8.0000e-04\n",
      "Epoch 199/1000\n",
      "\u001b[1m5/5\u001b[0m \u001b[32m━━━━━━━━━━━━━━━━━━━━\u001b[0m\u001b[37m\u001b[0m \u001b[1m0s\u001b[0m 71ms/step - loss: 0.4906 - mape: 10.2322 - r2_score: 0.2489 - val_loss: 0.5517 - val_mape: 12.7391 - val_r2_score: -0.0983 - learning_rate: 8.0000e-04\n",
      "Epoch 200/1000\n",
      "\u001b[1m5/5\u001b[0m \u001b[32m━━━━━━━━━━━━━━━━━━━━\u001b[0m\u001b[37m\u001b[0m \u001b[1m0s\u001b[0m 67ms/step - loss: 0.5372 - mape: 11.4690 - r2_score: 0.2413 - val_loss: 0.5590 - val_mape: 12.9205 - val_r2_score: -0.1380 - learning_rate: 8.0000e-04\n",
      "Epoch 201/1000\n",
      "\u001b[1m5/5\u001b[0m \u001b[32m━━━━━━━━━━━━━━━━━━━━\u001b[0m\u001b[37m\u001b[0m \u001b[1m0s\u001b[0m 66ms/step - loss: 0.5768 - mape: 12.1486 - r2_score: 0.1886 - val_loss: 0.5651 - val_mape: 13.0123 - val_r2_score: -0.1998 - learning_rate: 8.0000e-04\n",
      "Epoch 202/1000\n",
      "\u001b[1m5/5\u001b[0m \u001b[32m━━━━━━━━━━━━━━━━━━━━\u001b[0m\u001b[37m\u001b[0m \u001b[1m0s\u001b[0m 69ms/step - loss: 0.5051 - mape: 10.7368 - r2_score: 0.2290 - val_loss: 0.5368 - val_mape: 12.3585 - val_r2_score: -0.1126 - learning_rate: 8.0000e-04\n",
      "Epoch 203/1000\n",
      "\u001b[1m5/5\u001b[0m \u001b[32m━━━━━━━━━━━━━━━━━━━━\u001b[0m\u001b[37m\u001b[0m \u001b[1m1s\u001b[0m 86ms/step - loss: 0.5480 - mape: 11.6686 - r2_score: -0.0443 - val_loss: 0.4701 - val_mape: 10.7913 - val_r2_score: 0.1117 - learning_rate: 8.0000e-04\n",
      "Epoch 204/1000\n",
      "\u001b[1m5/5\u001b[0m \u001b[32m━━━━━━━━━━━━━━━━━━━━\u001b[0m\u001b[37m\u001b[0m \u001b[1m0s\u001b[0m 68ms/step - loss: 0.4514 - mape: 9.7548 - r2_score: 0.4837 - val_loss: 0.4429 - val_mape: 10.2977 - val_r2_score: 0.2301 - learning_rate: 8.0000e-04\n",
      "Epoch 205/1000\n",
      "\u001b[1m5/5\u001b[0m \u001b[32m━━━━━━━━━━━━━━━━━━━━\u001b[0m\u001b[37m\u001b[0m \u001b[1m0s\u001b[0m 68ms/step - loss: 0.4081 - mape: 8.7445 - r2_score: 0.5846 - val_loss: 0.4568 - val_mape: 10.4656 - val_r2_score: 0.1851 - learning_rate: 8.0000e-04\n",
      "Epoch 206/1000\n",
      "\u001b[1m5/5\u001b[0m \u001b[32m━━━━━━━━━━━━━━━━━━━━\u001b[0m\u001b[37m\u001b[0m \u001b[1m0s\u001b[0m 68ms/step - loss: 0.4480 - mape: 9.4504 - r2_score: 0.3621 - val_loss: 0.4604 - val_mape: 10.5151 - val_r2_score: 0.1905 - learning_rate: 8.0000e-04\n",
      "Epoch 207/1000\n",
      "\u001b[1m5/5\u001b[0m \u001b[32m━━━━━━━━━━━━━━━━━━━━\u001b[0m\u001b[37m\u001b[0m \u001b[1m0s\u001b[0m 73ms/step - loss: 0.5499 - mape: 11.7344 - r2_score: -0.1247 - val_loss: 0.5094 - val_mape: 11.5708 - val_r2_score: 0.0315 - learning_rate: 8.0000e-04\n",
      "Epoch 208/1000\n",
      "\u001b[1m5/5\u001b[0m \u001b[32m━━━━━━━━━━━━━━━━━━━━\u001b[0m\u001b[37m\u001b[0m \u001b[1m0s\u001b[0m 69ms/step - loss: 0.5145 - mape: 10.9366 - r2_score: 0.3692 - val_loss: 0.4757 - val_mape: 10.7691 - val_r2_score: 0.1181 - learning_rate: 8.0000e-04\n",
      "Epoch 209/1000\n",
      "\u001b[1m5/5\u001b[0m \u001b[32m━━━━━━━━━━━━━━━━━━━━\u001b[0m\u001b[37m\u001b[0m \u001b[1m0s\u001b[0m 70ms/step - loss: 0.5120 - mape: 10.7087 - r2_score: 0.2083 - val_loss: 0.4377 - val_mape: 9.9492 - val_r2_score: 0.2664 - learning_rate: 8.0000e-04\n",
      "Epoch 210/1000\n",
      "\u001b[1m5/5\u001b[0m \u001b[32m━━━━━━━━━━━━━━━━━━━━\u001b[0m\u001b[37m\u001b[0m \u001b[1m0s\u001b[0m 65ms/step - loss: 0.4264 - mape: 9.1607 - r2_score: 0.5343 - val_loss: 0.4444 - val_mape: 10.1916 - val_r2_score: 0.2481 - learning_rate: 8.0000e-04\n",
      "Epoch 211/1000\n",
      "\u001b[1m5/5\u001b[0m \u001b[32m━━━━━━━━━━━━━━━━━━━━\u001b[0m\u001b[37m\u001b[0m \u001b[1m0s\u001b[0m 65ms/step - loss: 0.4470 - mape: 9.5617 - r2_score: 0.4837 - val_loss: 0.4545 - val_mape: 10.4063 - val_r2_score: 0.1861 - learning_rate: 8.0000e-04\n",
      "Epoch 212/1000\n",
      "\u001b[1m5/5\u001b[0m \u001b[32m━━━━━━━━━━━━━━━━━━━━\u001b[0m\u001b[37m\u001b[0m \u001b[1m0s\u001b[0m 65ms/step - loss: 0.5690 - mape: 12.5120 - r2_score: 0.1288 - val_loss: 0.5388 - val_mape: 12.1852 - val_r2_score: -0.0863 - learning_rate: 8.0000e-04\n",
      "Epoch 213/1000\n",
      "\u001b[1m5/5\u001b[0m \u001b[32m━━━━━━━━━━━━━━━━━━━━\u001b[0m\u001b[37m\u001b[0m \u001b[1m0s\u001b[0m 66ms/step - loss: 0.4192 - mape: 8.9161 - r2_score: 0.2791 - val_loss: 0.5606 - val_mape: 12.4381 - val_r2_score: -0.2822 - learning_rate: 8.0000e-04\n",
      "Epoch 214/1000\n",
      "\u001b[1m5/5\u001b[0m \u001b[32m━━━━━━━━━━━━━━━━━━━━\u001b[0m\u001b[37m\u001b[0m \u001b[1m0s\u001b[0m 66ms/step - loss: 0.5529 - mape: 11.9464 - r2_score: 0.1298 - val_loss: 0.5176 - val_mape: 11.5475 - val_r2_score: -0.0296 - learning_rate: 8.0000e-04\n",
      "Epoch 215/1000\n",
      "\u001b[1m5/5\u001b[0m \u001b[32m━━━━━━━━━━━━━━━━━━━━\u001b[0m\u001b[37m\u001b[0m \u001b[1m0s\u001b[0m 68ms/step - loss: 0.4401 - mape: 9.3467 - r2_score: 0.5724 - val_loss: 0.5625 - val_mape: 12.6829 - val_r2_score: -0.0447 - learning_rate: 8.0000e-04\n",
      "Epoch 216/1000\n",
      "\u001b[1m5/5\u001b[0m \u001b[32m━━━━━━━━━━━━━━━━━━━━\u001b[0m\u001b[37m\u001b[0m \u001b[1m0s\u001b[0m 66ms/step - loss: 0.4528 - mape: 9.6936 - r2_score: 0.3226 - val_loss: 0.6153 - val_mape: 13.9301 - val_r2_score: -0.1447 - learning_rate: 8.0000e-04\n",
      "Epoch 217/1000\n",
      "\u001b[1m5/5\u001b[0m \u001b[32m━━━━━━━━━━━━━━━━━━━━\u001b[0m\u001b[37m\u001b[0m \u001b[1m0s\u001b[0m 68ms/step - loss: 0.4004 - mape: 8.0741 - r2_score: 0.5459 - val_loss: 0.5323 - val_mape: 12.0398 - val_r2_score: 0.0513 - learning_rate: 8.0000e-04\n",
      "Epoch 218/1000\n",
      "\u001b[1m5/5\u001b[0m \u001b[32m━━━━━━━━━━━━━━━━━━━━\u001b[0m\u001b[37m\u001b[0m \u001b[1m0s\u001b[0m 68ms/step - loss: 0.4380 - mape: 9.2731 - r2_score: 0.4944 - val_loss: 0.4570 - val_mape: 10.3354 - val_r2_score: 0.1937 - learning_rate: 8.0000e-04\n",
      "Epoch 219/1000\n",
      "\u001b[1m5/5\u001b[0m \u001b[32m━━━━━━━━━━━━━━━━━━━━\u001b[0m\u001b[37m\u001b[0m \u001b[1m0s\u001b[0m 72ms/step - loss: 0.4869 - mape: 10.3657 - r2_score: 0.3383 - val_loss: 0.5235 - val_mape: 11.8979 - val_r2_score: -0.0383 - learning_rate: 8.0000e-04\n",
      "Epoch 220/1000\n",
      "\u001b[1m5/5\u001b[0m \u001b[32m━━━━━━━━━━━━━━━━━━━━\u001b[0m\u001b[37m\u001b[0m \u001b[1m0s\u001b[0m 69ms/step - loss: 0.5581 - mape: 11.6443 - r2_score: 0.0069 - val_loss: 0.6039 - val_mape: 13.6890 - val_r2_score: -0.3301 - learning_rate: 8.0000e-04\n",
      "Epoch 221/1000\n",
      "\u001b[1m5/5\u001b[0m \u001b[32m━━━━━━━━━━━━━━━━━━━━\u001b[0m\u001b[37m\u001b[0m \u001b[1m0s\u001b[0m 69ms/step - loss: 0.5619 - mape: 11.9691 - r2_score: 0.1956 - val_loss: 0.5263 - val_mape: 12.0276 - val_r2_score: -0.0218 - learning_rate: 8.0000e-04\n",
      "Epoch 222/1000\n",
      "\u001b[1m5/5\u001b[0m \u001b[32m━━━━━━━━━━━━━━━━━━━━\u001b[0m\u001b[37m\u001b[0m \u001b[1m0s\u001b[0m 71ms/step - loss: 0.4754 - mape: 10.7051 - r2_score: 0.4203 - val_loss: 0.4728 - val_mape: 10.8612 - val_r2_score: 0.1679 - learning_rate: 8.0000e-04\n",
      "Epoch 223/1000\n",
      "\u001b[1m5/5\u001b[0m \u001b[32m━━━━━━━━━━━━━━━━━━━━\u001b[0m\u001b[37m\u001b[0m \u001b[1m0s\u001b[0m 69ms/step - loss: 0.5057 - mape: 10.4862 - r2_score: 0.2246 - val_loss: 0.5108 - val_mape: 11.6207 - val_r2_score: 0.0551 - learning_rate: 8.0000e-04\n",
      "Epoch 224/1000\n",
      "\u001b[1m5/5\u001b[0m \u001b[32m━━━━━━━━━━━━━━━━━━━━\u001b[0m\u001b[37m\u001b[0m \u001b[1m0s\u001b[0m 67ms/step - loss: 0.4431 - mape: 9.2172 - r2_score: 0.3992 - val_loss: 0.5335 - val_mape: 12.1033 - val_r2_score: -0.0076 - learning_rate: 8.0000e-04\n",
      "Epoch 225/1000\n",
      "\u001b[1m5/5\u001b[0m \u001b[32m━━━━━━━━━━━━━━━━━━━━\u001b[0m\u001b[37m\u001b[0m \u001b[1m0s\u001b[0m 67ms/step - loss: 0.4780 - mape: 10.0023 - r2_score: 0.3677 - val_loss: 0.5384 - val_mape: 12.1844 - val_r2_score: -0.0088 - learning_rate: 8.0000e-04\n",
      "Epoch 226/1000\n",
      "\u001b[1m5/5\u001b[0m \u001b[32m━━━━━━━━━━━━━━━━━━━━\u001b[0m\u001b[37m\u001b[0m \u001b[1m0s\u001b[0m 70ms/step - loss: 0.6213 - mape: 13.5818 - r2_score: -0.1969 - val_loss: 0.4731 - val_mape: 10.6526 - val_r2_score: 0.1383 - learning_rate: 8.0000e-04\n",
      "Epoch 227/1000\n",
      "\u001b[1m5/5\u001b[0m \u001b[32m━━━━━━━━━━━━━━━━━━━━\u001b[0m\u001b[37m\u001b[0m \u001b[1m0s\u001b[0m 65ms/step - loss: 0.4833 - mape: 10.0797 - r2_score: 0.3873 - val_loss: 0.5383 - val_mape: 12.1462 - val_r2_score: 0.0118 - learning_rate: 8.0000e-04\n",
      "Epoch 228/1000\n",
      "\u001b[1m5/5\u001b[0m \u001b[32m━━━━━━━━━━━━━━━━━━━━\u001b[0m\u001b[37m\u001b[0m \u001b[1m0s\u001b[0m 67ms/step - loss: 0.5721 - mape: 12.4169 - r2_score: 0.2613 - val_loss: 0.4902 - val_mape: 11.0229 - val_r2_score: 0.1066 - learning_rate: 8.0000e-04\n",
      "Epoch 229/1000\n",
      "\u001b[1m5/5\u001b[0m \u001b[32m━━━━━━━━━━━━━━━━━━━━\u001b[0m\u001b[37m\u001b[0m \u001b[1m0s\u001b[0m 72ms/step - loss: 0.4429 - mape: 9.1557 - r2_score: 0.4105 - val_loss: 0.4405 - val_mape: 10.1659 - val_r2_score: 0.2419 - learning_rate: 8.0000e-04\n",
      "Epoch 230/1000\n",
      "\u001b[1m5/5\u001b[0m \u001b[32m━━━━━━━━━━━━━━━━━━━━\u001b[0m\u001b[37m\u001b[0m \u001b[1m0s\u001b[0m 71ms/step - loss: 0.4427 - mape: 9.5195 - r2_score: 0.3961 - val_loss: 0.4382 - val_mape: 10.0606 - val_r2_score: 0.2409 - learning_rate: 8.0000e-04\n",
      "Epoch 231/1000\n",
      "\u001b[1m5/5\u001b[0m \u001b[32m━━━━━━━━━━━━━━━━━━━━\u001b[0m\u001b[37m\u001b[0m \u001b[1m0s\u001b[0m 66ms/step - loss: 0.4514 - mape: 9.8663 - r2_score: 0.3998 - val_loss: 0.5036 - val_mape: 11.4222 - val_r2_score: 0.0140 - learning_rate: 8.0000e-04\n",
      "Epoch 232/1000\n",
      "\u001b[1m5/5\u001b[0m \u001b[32m━━━━━━━━━━━━━━━━━━━━\u001b[0m\u001b[37m\u001b[0m \u001b[1m0s\u001b[0m 69ms/step - loss: 0.4541 - mape: 9.7217 - r2_score: 0.4810 - val_loss: 0.6404 - val_mape: 14.4439 - val_r2_score: -0.2323 - learning_rate: 8.0000e-04\n",
      "Epoch 233/1000\n",
      "\u001b[1m5/5\u001b[0m \u001b[32m━━━━━━━━━━━━━━━━━━━━\u001b[0m\u001b[37m\u001b[0m \u001b[1m0s\u001b[0m 67ms/step - loss: 0.5000 - mape: 10.5286 - r2_score: 0.3067 - val_loss: 0.6387 - val_mape: 14.3851 - val_r2_score: -0.2555 - learning_rate: 8.0000e-04\n",
      "Epoch 234/1000\n",
      "\u001b[1m5/5\u001b[0m \u001b[32m━━━━━━━━━━━━━━━━━━━━\u001b[0m\u001b[37m\u001b[0m \u001b[1m0s\u001b[0m 67ms/step - loss: 0.4668 - mape: 9.9296 - r2_score: 0.4220 - val_loss: 0.5786 - val_mape: 13.1231 - val_r2_score: -0.1258 - learning_rate: 8.0000e-04\n",
      "Epoch 235/1000\n",
      "\u001b[1m5/5\u001b[0m \u001b[32m━━━━━━━━━━━━━━━━━━━━\u001b[0m\u001b[37m\u001b[0m \u001b[1m0s\u001b[0m 67ms/step - loss: 0.5320 - mape: 11.3609 - r2_score: 0.2466 - val_loss: 0.5253 - val_mape: 12.1676 - val_r2_score: -0.0508 - learning_rate: 8.0000e-04\n",
      "Epoch 236/1000\n",
      "\u001b[1m5/5\u001b[0m \u001b[32m━━━━━━━━━━━━━━━━━━━━\u001b[0m\u001b[37m\u001b[0m \u001b[1m0s\u001b[0m 66ms/step - loss: 0.3386 - mape: 6.9567 - r2_score: 0.6349 - val_loss: 0.5453 - val_mape: 12.5982 - val_r2_score: -0.1112 - learning_rate: 8.0000e-04\n",
      "Epoch 237/1000\n",
      "\u001b[1m5/5\u001b[0m \u001b[32m━━━━━━━━━━━━━━━━━━━━\u001b[0m\u001b[37m\u001b[0m \u001b[1m0s\u001b[0m 66ms/step - loss: 0.4223 - mape: 9.1691 - r2_score: 0.4653 - val_loss: 0.5231 - val_mape: 12.0397 - val_r2_score: -0.0443 - learning_rate: 8.0000e-04\n",
      "Epoch 238/1000\n",
      "\u001b[1m5/5\u001b[0m \u001b[32m━━━━━━━━━━━━━━━━━━━━\u001b[0m\u001b[37m\u001b[0m \u001b[1m0s\u001b[0m 68ms/step - loss: 0.3976 - mape: 8.1804 - r2_score: 0.5143 - val_loss: 0.4950 - val_mape: 11.3743 - val_r2_score: 0.0277 - learning_rate: 8.0000e-04\n",
      "Epoch 239/1000\n",
      "\u001b[1m5/5\u001b[0m \u001b[32m━━━━━━━━━━━━━━━━━━━━\u001b[0m\u001b[37m\u001b[0m \u001b[1m1s\u001b[0m 68ms/step - loss: 0.5276 - mape: 11.1335 - r2_score: 0.2803 - val_loss: 0.4589 - val_mape: 10.5124 - val_r2_score: 0.1405 - learning_rate: 8.0000e-04\n",
      "Epoch 240/1000\n",
      "\u001b[1m5/5\u001b[0m \u001b[32m━━━━━━━━━━━━━━━━━━━━\u001b[0m\u001b[37m\u001b[0m \u001b[1m0s\u001b[0m 71ms/step - loss: 0.4695 - mape: 9.9608 - r2_score: 0.3562 - val_loss: 0.4931 - val_mape: 11.2134 - val_r2_score: 0.0611 - learning_rate: 8.0000e-04\n",
      "Epoch 241/1000\n",
      "\u001b[1m5/5\u001b[0m \u001b[32m━━━━━━━━━━━━━━━━━━━━\u001b[0m\u001b[37m\u001b[0m \u001b[1m0s\u001b[0m 67ms/step - loss: 0.4091 - mape: 8.8528 - r2_score: 0.5746 - val_loss: 0.4857 - val_mape: 10.9579 - val_r2_score: 0.0838 - learning_rate: 8.0000e-04\n",
      "Epoch 242/1000\n",
      "\u001b[1m5/5\u001b[0m \u001b[32m━━━━━━━━━━━━━━━━━━━━\u001b[0m\u001b[37m\u001b[0m \u001b[1m0s\u001b[0m 68ms/step - loss: 0.4983 - mape: 10.1940 - r2_score: 0.4240 - val_loss: 0.4968 - val_mape: 11.1565 - val_r2_score: 0.0464 - learning_rate: 6.4000e-04\n",
      "Epoch 243/1000\n",
      "\u001b[1m5/5\u001b[0m \u001b[32m━━━━━━━━━━━━━━━━━━━━\u001b[0m\u001b[37m\u001b[0m \u001b[1m0s\u001b[0m 69ms/step - loss: 0.4278 - mape: 9.0348 - r2_score: 0.5089 - val_loss: 0.4921 - val_mape: 11.0251 - val_r2_score: 0.0913 - learning_rate: 6.4000e-04\n",
      "Epoch 244/1000\n",
      "\u001b[1m5/5\u001b[0m \u001b[32m━━━━━━━━━━━━━━━━━━━━\u001b[0m\u001b[37m\u001b[0m \u001b[1m0s\u001b[0m 72ms/step - loss: 0.4082 - mape: 8.6171 - r2_score: 0.5289 - val_loss: 0.5090 - val_mape: 11.4343 - val_r2_score: 0.0981 - learning_rate: 6.4000e-04\n",
      "Epoch 245/1000\n",
      "\u001b[1m5/5\u001b[0m \u001b[32m━━━━━━━━━━━━━━━━━━━━\u001b[0m\u001b[37m\u001b[0m \u001b[1m0s\u001b[0m 67ms/step - loss: 0.4777 - mape: 10.2409 - r2_score: 0.4125 - val_loss: 0.5422 - val_mape: 12.0841 - val_r2_score: -0.0298 - learning_rate: 6.4000e-04\n",
      "Epoch 246/1000\n",
      "\u001b[1m5/5\u001b[0m \u001b[32m━━━━━━━━━━━━━━━━━━━━\u001b[0m\u001b[37m\u001b[0m \u001b[1m0s\u001b[0m 70ms/step - loss: 0.5145 - mape: 11.3474 - r2_score: 0.3841 - val_loss: 0.5187 - val_mape: 11.5635 - val_r2_score: -0.0445 - learning_rate: 6.4000e-04\n",
      "Epoch 247/1000\n",
      "\u001b[1m5/5\u001b[0m \u001b[32m━━━━━━━━━━━━━━━━━━━━\u001b[0m\u001b[37m\u001b[0m \u001b[1m0s\u001b[0m 67ms/step - loss: 0.4882 - mape: 10.2289 - r2_score: 0.2353 - val_loss: 0.4743 - val_mape: 10.7212 - val_r2_score: 0.1077 - learning_rate: 6.4000e-04\n",
      "Epoch 248/1000\n",
      "\u001b[1m5/5\u001b[0m \u001b[32m━━━━━━━━━━━━━━━━━━━━\u001b[0m\u001b[37m\u001b[0m \u001b[1m0s\u001b[0m 73ms/step - loss: 0.4548 - mape: 9.6252 - r2_score: 0.3284 - val_loss: 0.4702 - val_mape: 10.7256 - val_r2_score: 0.1487 - learning_rate: 6.4000e-04\n",
      "Epoch 249/1000\n",
      "\u001b[1m5/5\u001b[0m \u001b[32m━━━━━━━━━━━━━━━━━━━━\u001b[0m\u001b[37m\u001b[0m \u001b[1m0s\u001b[0m 66ms/step - loss: 0.3717 - mape: 7.9565 - r2_score: 0.5975 - val_loss: 0.4981 - val_mape: 11.4836 - val_r2_score: 0.0704 - learning_rate: 6.4000e-04\n",
      "Epoch 250/1000\n",
      "\u001b[1m5/5\u001b[0m \u001b[32m━━━━━━━━━━━━━━━━━━━━\u001b[0m\u001b[37m\u001b[0m \u001b[1m0s\u001b[0m 72ms/step - loss: 0.4523 - mape: 9.7291 - r2_score: 0.4534 - val_loss: 0.5383 - val_mape: 12.4461 - val_r2_score: -0.0635 - learning_rate: 6.4000e-04\n",
      "Epoch 251/1000\n",
      "\u001b[1m5/5\u001b[0m \u001b[32m━━━━━━━━━━━━━━━━━━━━\u001b[0m\u001b[37m\u001b[0m \u001b[1m0s\u001b[0m 71ms/step - loss: 0.4347 - mape: 8.9824 - r2_score: 0.3257 - val_loss: 0.5288 - val_mape: 12.2313 - val_r2_score: -0.0360 - learning_rate: 6.4000e-04\n",
      "Epoch 252/1000\n",
      "\u001b[1m5/5\u001b[0m \u001b[32m━━━━━━━━━━━━━━━━━━━━\u001b[0m\u001b[37m\u001b[0m \u001b[1m0s\u001b[0m 69ms/step - loss: 0.4884 - mape: 10.4875 - r2_score: 0.4170 - val_loss: 0.4552 - val_mape: 10.5781 - val_r2_score: 0.1668 - learning_rate: 6.4000e-04\n",
      "Epoch 253/1000\n",
      "\u001b[1m5/5\u001b[0m \u001b[32m━━━━━━━━━━━━━━━━━━━━\u001b[0m\u001b[37m\u001b[0m \u001b[1m0s\u001b[0m 75ms/step - loss: 0.5241 - mape: 11.1679 - r2_score: 0.3427 - val_loss: 0.4036 - val_mape: 9.3159 - val_r2_score: 0.3221 - learning_rate: 6.4000e-04\n",
      "Epoch 254/1000\n",
      "\u001b[1m5/5\u001b[0m \u001b[32m━━━━━━━━━━━━━━━━━━━━\u001b[0m\u001b[37m\u001b[0m \u001b[1m0s\u001b[0m 70ms/step - loss: 0.3951 - mape: 8.3921 - r2_score: 0.4638 - val_loss: 0.4430 - val_mape: 10.1355 - val_r2_score: 0.2275 - learning_rate: 6.4000e-04\n",
      "Epoch 255/1000\n",
      "\u001b[1m5/5\u001b[0m \u001b[32m━━━━━━━━━━━━━━━━━━━━\u001b[0m\u001b[37m\u001b[0m \u001b[1m0s\u001b[0m 69ms/step - loss: 0.4369 - mape: 9.1986 - r2_score: 0.5598 - val_loss: 0.5379 - val_mape: 12.1821 - val_r2_score: 0.0609 - learning_rate: 6.4000e-04\n",
      "Epoch 256/1000\n",
      "\u001b[1m5/5\u001b[0m \u001b[32m━━━━━━━━━━━━━━━━━━━━\u001b[0m\u001b[37m\u001b[0m \u001b[1m0s\u001b[0m 72ms/step - loss: 0.5304 - mape: 11.5918 - r2_score: 0.2602 - val_loss: 0.5274 - val_mape: 12.0056 - val_r2_score: 0.0534 - learning_rate: 6.4000e-04\n",
      "Epoch 257/1000\n",
      "\u001b[1m5/5\u001b[0m \u001b[32m━━━━━━━━━━━━━━━━━━━━\u001b[0m\u001b[37m\u001b[0m \u001b[1m0s\u001b[0m 66ms/step - loss: 0.4190 - mape: 8.8712 - r2_score: 0.5442 - val_loss: 0.4734 - val_mape: 10.7893 - val_r2_score: 0.1743 - learning_rate: 6.4000e-04\n",
      "Epoch 258/1000\n",
      "\u001b[1m5/5\u001b[0m \u001b[32m━━━━━━━━━━━━━━━━━━━━\u001b[0m\u001b[37m\u001b[0m \u001b[1m0s\u001b[0m 70ms/step - loss: 0.4247 - mape: 8.9652 - r2_score: 0.5377 - val_loss: 0.4556 - val_mape: 10.3554 - val_r2_score: 0.1683 - learning_rate: 6.4000e-04\n",
      "Epoch 259/1000\n",
      "\u001b[1m5/5\u001b[0m \u001b[32m━━━━━━━━━━━━━━━━━━━━\u001b[0m\u001b[37m\u001b[0m \u001b[1m0s\u001b[0m 69ms/step - loss: 0.4622 - mape: 9.7776 - r2_score: 0.2906 - val_loss: 0.4450 - val_mape: 10.0828 - val_r2_score: 0.1391 - learning_rate: 6.4000e-04\n",
      "Epoch 260/1000\n",
      "\u001b[1m5/5\u001b[0m \u001b[32m━━━━━━━━━━━━━━━━━━━━\u001b[0m\u001b[37m\u001b[0m \u001b[1m0s\u001b[0m 72ms/step - loss: 0.4809 - mape: 10.2774 - r2_score: 0.4403 - val_loss: 0.4355 - val_mape: 9.9172 - val_r2_score: 0.1827 - learning_rate: 6.4000e-04\n",
      "Epoch 261/1000\n",
      "\u001b[1m5/5\u001b[0m \u001b[32m━━━━━━━━━━━━━━━━━━━━\u001b[0m\u001b[37m\u001b[0m \u001b[1m0s\u001b[0m 67ms/step - loss: 0.4305 - mape: 9.2598 - r2_score: 0.4958 - val_loss: 0.5143 - val_mape: 11.7603 - val_r2_score: 0.0444 - learning_rate: 6.4000e-04\n",
      "Epoch 262/1000\n",
      "\u001b[1m5/5\u001b[0m \u001b[32m━━━━━━━━━━━━━━━━━━━━\u001b[0m\u001b[37m\u001b[0m \u001b[1m0s\u001b[0m 69ms/step - loss: 0.4727 - mape: 10.0671 - r2_score: 0.3341 - val_loss: 0.5680 - val_mape: 13.0375 - val_r2_score: -0.1270 - learning_rate: 6.4000e-04\n",
      "Epoch 263/1000\n",
      "\u001b[1m5/5\u001b[0m \u001b[32m━━━━━━━━━━━━━━━━━━━━\u001b[0m\u001b[37m\u001b[0m \u001b[1m0s\u001b[0m 74ms/step - loss: 0.4848 - mape: 10.8489 - r2_score: 0.4455 - val_loss: 0.5993 - val_mape: 13.7267 - val_r2_score: -0.2661 - learning_rate: 6.4000e-04\n",
      "Epoch 264/1000\n",
      "\u001b[1m5/5\u001b[0m \u001b[32m━━━━━━━━━━━━━━━━━━━━\u001b[0m\u001b[37m\u001b[0m \u001b[1m0s\u001b[0m 74ms/step - loss: 0.6250 - mape: 12.8385 - r2_score: -0.4796 - val_loss: 0.5221 - val_mape: 11.9672 - val_r2_score: -0.0205 - learning_rate: 6.4000e-04\n",
      "Epoch 265/1000\n",
      "\u001b[1m5/5\u001b[0m \u001b[32m━━━━━━━━━━━━━━━━━━━━\u001b[0m\u001b[37m\u001b[0m \u001b[1m0s\u001b[0m 69ms/step - loss: 0.4944 - mape: 10.0164 - r2_score: 0.2675 - val_loss: 0.5066 - val_mape: 11.6206 - val_r2_score: 0.0316 - learning_rate: 6.4000e-04\n",
      "Epoch 266/1000\n",
      "\u001b[1m5/5\u001b[0m \u001b[32m━━━━━━━━━━━━━━━━━━━━\u001b[0m\u001b[37m\u001b[0m \u001b[1m0s\u001b[0m 74ms/step - loss: 0.4670 - mape: 9.9355 - r2_score: 0.3937 - val_loss: 0.4672 - val_mape: 10.7224 - val_r2_score: 0.1474 - learning_rate: 6.4000e-04\n",
      "Epoch 267/1000\n",
      "\u001b[1m5/5\u001b[0m \u001b[32m━━━━━━━━━━━━━━━━━━━━\u001b[0m\u001b[37m\u001b[0m \u001b[1m0s\u001b[0m 70ms/step - loss: 0.3597 - mape: 7.4721 - r2_score: 0.6320 - val_loss: 0.4743 - val_mape: 10.8715 - val_r2_score: 0.1266 - learning_rate: 6.4000e-04\n",
      "Epoch 268/1000\n",
      "\u001b[1m5/5\u001b[0m \u001b[32m━━━━━━━━━━━━━━━━━━━━\u001b[0m\u001b[37m\u001b[0m \u001b[1m0s\u001b[0m 66ms/step - loss: 0.4902 - mape: 10.6632 - r2_score: 0.2216 - val_loss: 0.4986 - val_mape: 11.4158 - val_r2_score: 0.0704 - learning_rate: 6.4000e-04\n",
      "Epoch 269/1000\n",
      "\u001b[1m5/5\u001b[0m \u001b[32m━━━━━━━━━━━━━━━━━━━━\u001b[0m\u001b[37m\u001b[0m \u001b[1m0s\u001b[0m 67ms/step - loss: 0.5728 - mape: 11.7667 - r2_score: 0.0986 - val_loss: 0.5039 - val_mape: 11.5690 - val_r2_score: 0.0259 - learning_rate: 6.4000e-04\n",
      "Epoch 270/1000\n",
      "\u001b[1m5/5\u001b[0m \u001b[32m━━━━━━━━━━━━━━━━━━━━\u001b[0m\u001b[37m\u001b[0m \u001b[1m0s\u001b[0m 70ms/step - loss: 0.4380 - mape: 9.3806 - r2_score: 0.4984 - val_loss: 0.4752 - val_mape: 10.9413 - val_r2_score: 0.1133 - learning_rate: 6.4000e-04\n",
      "Epoch 271/1000\n",
      "\u001b[1m5/5\u001b[0m \u001b[32m━━━━━━━━━━━━━━━━━━━━\u001b[0m\u001b[37m\u001b[0m \u001b[1m0s\u001b[0m 72ms/step - loss: 0.4075 - mape: 8.6871 - r2_score: 0.5055 - val_loss: 0.4475 - val_mape: 10.3272 - val_r2_score: 0.1983 - learning_rate: 6.4000e-04\n",
      "Epoch 272/1000\n",
      "\u001b[1m5/5\u001b[0m \u001b[32m━━━━━━━━━━━━━━━━━━━━\u001b[0m\u001b[37m\u001b[0m \u001b[1m0s\u001b[0m 71ms/step - loss: 0.5072 - mape: 11.1957 - r2_score: 0.2818 - val_loss: 0.4598 - val_mape: 10.6121 - val_r2_score: 0.2037 - learning_rate: 6.4000e-04\n",
      "Epoch 273/1000\n",
      "\u001b[1m5/5\u001b[0m \u001b[32m━━━━━━━━━━━━━━━━━━━━\u001b[0m\u001b[37m\u001b[0m \u001b[1m0s\u001b[0m 68ms/step - loss: 0.4602 - mape: 10.0543 - r2_score: 0.4274 - val_loss: 0.4809 - val_mape: 11.0797 - val_r2_score: 0.1587 - learning_rate: 6.4000e-04\n",
      "Epoch 274/1000\n",
      "\u001b[1m5/5\u001b[0m \u001b[32m━━━━━━━━━━━━━━━━━━━━\u001b[0m\u001b[37m\u001b[0m \u001b[1m0s\u001b[0m 70ms/step - loss: 0.4587 - mape: 10.0724 - r2_score: 0.4044 - val_loss: 0.5582 - val_mape: 12.8428 - val_r2_score: -0.0639 - learning_rate: 6.4000e-04\n",
      "Epoch 275/1000\n",
      "\u001b[1m5/5\u001b[0m \u001b[32m━━━━━━━━━━━━━━━━━━━━\u001b[0m\u001b[37m\u001b[0m \u001b[1m1s\u001b[0m 77ms/step - loss: 0.4509 - mape: 9.6616 - r2_score: 0.4113 - val_loss: 0.5191 - val_mape: 11.9683 - val_r2_score: 0.0526 - learning_rate: 6.4000e-04\n",
      "Epoch 276/1000\n",
      "\u001b[1m5/5\u001b[0m \u001b[32m━━━━━━━━━━━━━━━━━━━━\u001b[0m\u001b[37m\u001b[0m \u001b[1m0s\u001b[0m 75ms/step - loss: 0.5053 - mape: 10.6737 - r2_score: 0.2800 - val_loss: 0.4769 - val_mape: 10.9743 - val_r2_score: 0.1765 - learning_rate: 6.4000e-04\n",
      "Epoch 277/1000\n",
      "\u001b[1m5/5\u001b[0m \u001b[32m━━━━━━━━━━━━━━━━━━━━\u001b[0m\u001b[37m\u001b[0m \u001b[1m0s\u001b[0m 82ms/step - loss: 0.4998 - mape: 10.3542 - r2_score: 0.1280 - val_loss: 0.3870 - val_mape: 8.9281 - val_r2_score: 0.3523 - learning_rate: 6.4000e-04\n",
      "Epoch 278/1000\n",
      "\u001b[1m5/5\u001b[0m \u001b[32m━━━━━━━━━━━━━━━━━━━━\u001b[0m\u001b[37m\u001b[0m \u001b[1m0s\u001b[0m 90ms/step - loss: 0.4582 - mape: 9.9011 - r2_score: 0.2828 - val_loss: 0.3820 - val_mape: 8.7413 - val_r2_score: 0.4052 - learning_rate: 6.4000e-04\n",
      "Epoch 279/1000\n",
      "\u001b[1m5/5\u001b[0m \u001b[32m━━━━━━━━━━━━━━━━━━━━\u001b[0m\u001b[37m\u001b[0m \u001b[1m0s\u001b[0m 69ms/step - loss: 0.4741 - mape: 10.4857 - r2_score: 0.1590 - val_loss: 0.3778 - val_mape: 8.7004 - val_r2_score: 0.3658 - learning_rate: 6.4000e-04\n",
      "Epoch 280/1000\n",
      "\u001b[1m5/5\u001b[0m \u001b[32m━━━━━━━━━━━━━━━━━━━━\u001b[0m\u001b[37m\u001b[0m \u001b[1m0s\u001b[0m 69ms/step - loss: 0.5114 - mape: 10.6126 - r2_score: 0.4084 - val_loss: 0.4259 - val_mape: 9.8206 - val_r2_score: 0.2702 - learning_rate: 6.4000e-04\n",
      "Epoch 281/1000\n",
      "\u001b[1m5/5\u001b[0m \u001b[32m━━━━━━━━━━━━━━━━━━━━\u001b[0m\u001b[37m\u001b[0m \u001b[1m0s\u001b[0m 70ms/step - loss: 0.4950 - mape: 10.5633 - r2_score: 0.3461 - val_loss: 0.4362 - val_mape: 10.0316 - val_r2_score: 0.2277 - learning_rate: 6.4000e-04\n",
      "Epoch 282/1000\n",
      "\u001b[1m5/5\u001b[0m \u001b[32m━━━━━━━━━━━━━━━━━━━━\u001b[0m\u001b[37m\u001b[0m \u001b[1m0s\u001b[0m 72ms/step - loss: 0.4890 - mape: 10.2007 - r2_score: 0.3910 - val_loss: 0.3941 - val_mape: 9.0811 - val_r2_score: 0.2789 - learning_rate: 6.4000e-04\n",
      "Epoch 283/1000\n",
      "\u001b[1m5/5\u001b[0m \u001b[32m━━━━━━━━━━━━━━━━━━━━\u001b[0m\u001b[37m\u001b[0m \u001b[1m0s\u001b[0m 72ms/step - loss: 0.4681 - mape: 9.7599 - r2_score: 0.3019 - val_loss: 0.3871 - val_mape: 8.8835 - val_r2_score: 0.3134 - learning_rate: 6.4000e-04\n",
      "Epoch 284/1000\n",
      "\u001b[1m5/5\u001b[0m \u001b[32m━━━━━━━━━━━━━━━━━━━━\u001b[0m\u001b[37m\u001b[0m \u001b[1m0s\u001b[0m 69ms/step - loss: 0.4968 - mape: 10.5185 - r2_score: 0.2685 - val_loss: 0.3930 - val_mape: 8.9182 - val_r2_score: 0.3514 - learning_rate: 6.4000e-04\n",
      "Epoch 285/1000\n",
      "\u001b[1m5/5\u001b[0m \u001b[32m━━━━━━━━━━━━━━━━━━━━\u001b[0m\u001b[37m\u001b[0m \u001b[1m0s\u001b[0m 73ms/step - loss: 0.5094 - mape: 10.9528 - r2_score: 0.3463 - val_loss: 0.4073 - val_mape: 9.3212 - val_r2_score: 0.2941 - learning_rate: 6.4000e-04\n",
      "Epoch 286/1000\n",
      "\u001b[1m5/5\u001b[0m \u001b[32m━━━━━━━━━━━━━━━━━━━━\u001b[0m\u001b[37m\u001b[0m \u001b[1m0s\u001b[0m 71ms/step - loss: 0.4429 - mape: 9.0504 - r2_score: 0.5296 - val_loss: 0.4793 - val_mape: 10.9298 - val_r2_score: 0.1530 - learning_rate: 6.4000e-04\n",
      "Epoch 287/1000\n",
      "\u001b[1m5/5\u001b[0m \u001b[32m━━━━━━━━━━━━━━━━━━━━\u001b[0m\u001b[37m\u001b[0m \u001b[1m0s\u001b[0m 69ms/step - loss: 0.4976 - mape: 10.0951 - r2_score: 0.0969 - val_loss: 0.5215 - val_mape: 11.8487 - val_r2_score: 0.0558 - learning_rate: 6.4000e-04\n",
      "Epoch 288/1000\n",
      "\u001b[1m5/5\u001b[0m \u001b[32m━━━━━━━━━━━━━━━━━━━━\u001b[0m\u001b[37m\u001b[0m \u001b[1m0s\u001b[0m 73ms/step - loss: 0.4608 - mape: 9.9432 - r2_score: 0.4497 - val_loss: 0.5661 - val_mape: 12.8873 - val_r2_score: -0.0728 - learning_rate: 6.4000e-04\n",
      "Epoch 289/1000\n",
      "\u001b[1m5/5\u001b[0m \u001b[32m━━━━━━━━━━━━━━━━━━━━\u001b[0m\u001b[37m\u001b[0m \u001b[1m0s\u001b[0m 68ms/step - loss: 0.5039 - mape: 10.8345 - r2_score: 0.4112 - val_loss: 0.5550 - val_mape: 12.6290 - val_r2_score: -0.0565 - learning_rate: 6.4000e-04\n",
      "Epoch 290/1000\n",
      "\u001b[1m5/5\u001b[0m \u001b[32m━━━━━━━━━━━━━━━━━━━━\u001b[0m\u001b[37m\u001b[0m \u001b[1m0s\u001b[0m 73ms/step - loss: 0.5249 - mape: 11.8467 - r2_score: 0.3075 - val_loss: 0.4817 - val_mape: 10.9695 - val_r2_score: 0.1093 - learning_rate: 6.4000e-04\n",
      "Epoch 291/1000\n",
      "\u001b[1m5/5\u001b[0m \u001b[32m━━━━━━━━━━━━━━━━━━━━\u001b[0m\u001b[37m\u001b[0m \u001b[1m0s\u001b[0m 74ms/step - loss: 0.4972 - mape: 10.3784 - r2_score: 0.3014 - val_loss: 0.4476 - val_mape: 10.2675 - val_r2_score: 0.1877 - learning_rate: 6.4000e-04\n",
      "Epoch 292/1000\n",
      "\u001b[1m5/5\u001b[0m \u001b[32m━━━━━━━━━━━━━━━━━━━━\u001b[0m\u001b[37m\u001b[0m \u001b[1m0s\u001b[0m 70ms/step - loss: 0.5274 - mape: 11.6518 - r2_score: 0.1643 - val_loss: 0.4184 - val_mape: 9.5963 - val_r2_score: 0.2740 - learning_rate: 6.4000e-04\n",
      "Epoch 293/1000\n",
      "\u001b[1m5/5\u001b[0m \u001b[32m━━━━━━━━━━━━━━━━━━━━\u001b[0m\u001b[37m\u001b[0m \u001b[1m0s\u001b[0m 69ms/step - loss: 0.5455 - mape: 11.5014 - r2_score: 0.1337 - val_loss: 0.4496 - val_mape: 10.2593 - val_r2_score: 0.2126 - learning_rate: 6.4000e-04\n",
      "Epoch 294/1000\n",
      "\u001b[1m5/5\u001b[0m \u001b[32m━━━━━━━━━━━━━━━━━━━━\u001b[0m\u001b[37m\u001b[0m \u001b[1m0s\u001b[0m 70ms/step - loss: 0.4541 - mape: 9.6817 - r2_score: 0.4757 - val_loss: 0.4989 - val_mape: 11.3841 - val_r2_score: 0.1187 - learning_rate: 6.4000e-04\n",
      "Epoch 295/1000\n",
      "\u001b[1m5/5\u001b[0m \u001b[32m━━━━━━━━━━━━━━━━━━━━\u001b[0m\u001b[37m\u001b[0m \u001b[1m0s\u001b[0m 69ms/step - loss: 0.4094 - mape: 8.6359 - r2_score: 0.4424 - val_loss: 0.5710 - val_mape: 13.0590 - val_r2_score: -0.0624 - learning_rate: 6.4000e-04\n",
      "Epoch 296/1000\n",
      "\u001b[1m5/5\u001b[0m \u001b[32m━━━━━━━━━━━━━━━━━━━━\u001b[0m\u001b[37m\u001b[0m \u001b[1m0s\u001b[0m 73ms/step - loss: 0.4148 - mape: 8.5901 - r2_score: 0.4671 - val_loss: 0.5975 - val_mape: 13.6335 - val_r2_score: -0.1371 - learning_rate: 6.4000e-04\n",
      "Epoch 297/1000\n",
      "\u001b[1m5/5\u001b[0m \u001b[32m━━━━━━━━━━━━━━━━━━━━\u001b[0m\u001b[37m\u001b[0m \u001b[1m0s\u001b[0m 73ms/step - loss: 0.4252 - mape: 8.8866 - r2_score: 0.4741 - val_loss: 0.5978 - val_mape: 13.6138 - val_r2_score: -0.1530 - learning_rate: 6.4000e-04\n",
      "Epoch 298/1000\n",
      "\u001b[1m5/5\u001b[0m \u001b[32m━━━━━━━━━━━━━━━━━━━━\u001b[0m\u001b[37m\u001b[0m \u001b[1m0s\u001b[0m 70ms/step - loss: 0.3853 - mape: 8.1692 - r2_score: 0.5617 - val_loss: 0.5335 - val_mape: 12.1047 - val_r2_score: 0.0163 - learning_rate: 6.4000e-04\n",
      "Epoch 299/1000\n",
      "\u001b[1m5/5\u001b[0m \u001b[32m━━━━━━━━━━━━━━━━━━━━\u001b[0m\u001b[37m\u001b[0m \u001b[1m0s\u001b[0m 74ms/step - loss: 0.5178 - mape: 11.3408 - r2_score: 0.3742 - val_loss: 0.4865 - val_mape: 11.1250 - val_r2_score: 0.1348 - learning_rate: 6.4000e-04\n",
      "Epoch 300/1000\n",
      "\u001b[1m5/5\u001b[0m \u001b[32m━━━━━━━━━━━━━━━━━━━━\u001b[0m\u001b[37m\u001b[0m \u001b[1m0s\u001b[0m 69ms/step - loss: 0.4548 - mape: 9.8394 - r2_score: 0.4201 - val_loss: 0.4579 - val_mape: 10.5908 - val_r2_score: 0.1933 - learning_rate: 6.4000e-04\n",
      "Epoch 301/1000\n",
      "\u001b[1m5/5\u001b[0m \u001b[32m━━━━━━━━━━━━━━━━━━━━\u001b[0m\u001b[37m\u001b[0m \u001b[1m0s\u001b[0m 66ms/step - loss: 0.5313 - mape: 11.7767 - r2_score: 0.1353 - val_loss: 0.4810 - val_mape: 11.0655 - val_r2_score: 0.1399 - learning_rate: 6.4000e-04\n",
      "Epoch 302/1000\n",
      "\u001b[1m5/5\u001b[0m \u001b[32m━━━━━━━━━━━━━━━━━━━━\u001b[0m\u001b[37m\u001b[0m \u001b[1m0s\u001b[0m 66ms/step - loss: 0.5403 - mape: 11.8808 - r2_score: 0.3862 - val_loss: 0.5334 - val_mape: 12.1794 - val_r2_score: 0.0251 - learning_rate: 6.4000e-04\n",
      "Epoch 303/1000\n",
      "\u001b[1m5/5\u001b[0m \u001b[32m━━━━━━━━━━━━━━━━━━━━\u001b[0m\u001b[37m\u001b[0m \u001b[1m1s\u001b[0m 86ms/step - loss: 0.4338 - mape: 8.9204 - r2_score: 0.4066 - val_loss: 0.5428 - val_mape: 12.4630 - val_r2_score: 0.0234 - learning_rate: 6.4000e-04\n",
      "Epoch 304/1000\n",
      "\u001b[1m5/5\u001b[0m \u001b[32m━━━━━━━━━━━━━━━━━━━━\u001b[0m\u001b[37m\u001b[0m \u001b[1m0s\u001b[0m 75ms/step - loss: 0.4332 - mape: 9.1895 - r2_score: 0.3674 - val_loss: 0.4901 - val_mape: 11.1997 - val_r2_score: 0.1343 - learning_rate: 6.4000e-04\n",
      "Epoch 305/1000\n",
      "\u001b[1m5/5\u001b[0m \u001b[32m━━━━━━━━━━━━━━━━━━━━\u001b[0m\u001b[37m\u001b[0m \u001b[1m0s\u001b[0m 68ms/step - loss: 0.4579 - mape: 10.1211 - r2_score: 0.3523 - val_loss: 0.4784 - val_mape: 10.9245 - val_r2_score: 0.1300 - learning_rate: 6.4000e-04\n",
      "Epoch 306/1000\n",
      "\u001b[1m5/5\u001b[0m \u001b[32m━━━━━━━━━━━━━━━━━━━━\u001b[0m\u001b[37m\u001b[0m \u001b[1m0s\u001b[0m 72ms/step - loss: 0.4941 - mape: 10.4827 - r2_score: 0.3573 - val_loss: 0.5006 - val_mape: 11.4335 - val_r2_score: 0.0426 - learning_rate: 6.4000e-04\n",
      "Epoch 307/1000\n",
      "\u001b[1m5/5\u001b[0m \u001b[32m━━━━━━━━━━━━━━━━━━━━\u001b[0m\u001b[37m\u001b[0m \u001b[1m0s\u001b[0m 77ms/step - loss: 0.4401 - mape: 9.2541 - r2_score: 0.2489 - val_loss: 0.5079 - val_mape: 11.6178 - val_r2_score: 0.0767 - learning_rate: 6.4000e-04\n",
      "Epoch 308/1000\n",
      "\u001b[1m5/5\u001b[0m \u001b[32m━━━━━━━━━━━━━━━━━━━━\u001b[0m\u001b[37m\u001b[0m \u001b[1m0s\u001b[0m 79ms/step - loss: 0.4987 - mape: 10.9907 - r2_score: 0.2498 - val_loss: 0.5134 - val_mape: 11.7727 - val_r2_score: 0.0783 - learning_rate: 6.4000e-04\n",
      "Epoch 309/1000\n",
      "\u001b[1m5/5\u001b[0m \u001b[32m━━━━━━━━━━━━━━━━━━━━\u001b[0m\u001b[37m\u001b[0m \u001b[1m0s\u001b[0m 70ms/step - loss: 0.4177 - mape: 8.7536 - r2_score: 0.5022 - val_loss: 0.4734 - val_mape: 10.8716 - val_r2_score: 0.1462 - learning_rate: 6.4000e-04\n",
      "Epoch 310/1000\n",
      "\u001b[1m5/5\u001b[0m \u001b[32m━━━━━━━━━━━━━━━━━━━━\u001b[0m\u001b[37m\u001b[0m \u001b[1m0s\u001b[0m 66ms/step - loss: 0.5553 - mape: 12.0195 - r2_score: 0.2424 - val_loss: 0.4325 - val_mape: 9.9265 - val_r2_score: 0.2285 - learning_rate: 6.4000e-04\n",
      "Epoch 311/1000\n",
      "\u001b[1m5/5\u001b[0m \u001b[32m━━━━━━━━━━━━━━━━━━━━\u001b[0m\u001b[37m\u001b[0m \u001b[1m0s\u001b[0m 70ms/step - loss: 0.3975 - mape: 8.1656 - r2_score: 0.5347 - val_loss: 0.4226 - val_mape: 9.6281 - val_r2_score: 0.2402 - learning_rate: 6.4000e-04\n",
      "Epoch 312/1000\n",
      "\u001b[1m5/5\u001b[0m \u001b[32m━━━━━━━━━━━━━━━━━━━━\u001b[0m\u001b[37m\u001b[0m \u001b[1m0s\u001b[0m 67ms/step - loss: 0.4375 - mape: 9.4616 - r2_score: 0.3713 - val_loss: 0.4361 - val_mape: 9.9965 - val_r2_score: 0.2302 - learning_rate: 6.4000e-04\n",
      "Epoch 313/1000\n",
      "\u001b[1m5/5\u001b[0m \u001b[32m━━━━━━━━━━━━━━━━━━━━\u001b[0m\u001b[37m\u001b[0m \u001b[1m0s\u001b[0m 71ms/step - loss: 0.4223 - mape: 8.7371 - r2_score: 0.4365 - val_loss: 0.4619 - val_mape: 10.5779 - val_r2_score: 0.1724 - learning_rate: 6.4000e-04\n",
      "Epoch 314/1000\n",
      "\u001b[1m5/5\u001b[0m \u001b[32m━━━━━━━━━━━━━━━━━━━━\u001b[0m\u001b[37m\u001b[0m \u001b[1m0s\u001b[0m 69ms/step - loss: 0.3543 - mape: 7.4515 - r2_score: 0.5945 - val_loss: 0.4616 - val_mape: 10.4784 - val_r2_score: 0.1158 - learning_rate: 6.4000e-04\n",
      "Epoch 315/1000\n",
      "\u001b[1m5/5\u001b[0m \u001b[32m━━━━━━━━━━━━━━━━━━━━\u001b[0m\u001b[37m\u001b[0m \u001b[1m0s\u001b[0m 67ms/step - loss: 0.4476 - mape: 9.7542 - r2_score: 0.1465 - val_loss: 0.4649 - val_mape: 10.5370 - val_r2_score: 0.1285 - learning_rate: 6.4000e-04\n",
      "Epoch 316/1000\n",
      "\u001b[1m5/5\u001b[0m \u001b[32m━━━━━━━━━━━━━━━━━━━━\u001b[0m\u001b[37m\u001b[0m \u001b[1m0s\u001b[0m 66ms/step - loss: 0.4486 - mape: 9.6607 - r2_score: 0.4807 - val_loss: 0.4347 - val_mape: 9.9004 - val_r2_score: 0.2025 - learning_rate: 6.4000e-04\n",
      "Epoch 317/1000\n",
      "\u001b[1m5/5\u001b[0m \u001b[32m━━━━━━━━━━━━━━━━━━━━\u001b[0m\u001b[37m\u001b[0m \u001b[1m0s\u001b[0m 69ms/step - loss: 0.4792 - mape: 10.5795 - r2_score: 0.3973 - val_loss: 0.4403 - val_mape: 10.0827 - val_r2_score: 0.2351 - learning_rate: 6.4000e-04\n",
      "Epoch 318/1000\n",
      "\u001b[1m5/5\u001b[0m \u001b[32m━━━━━━━━━━━━━━━━━━━━\u001b[0m\u001b[37m\u001b[0m \u001b[1m0s\u001b[0m 66ms/step - loss: 0.4404 - mape: 9.2409 - r2_score: 0.4315 - val_loss: 0.4652 - val_mape: 10.6507 - val_r2_score: 0.1892 - learning_rate: 6.4000e-04\n",
      "Epoch 319/1000\n",
      "\u001b[1m5/5\u001b[0m \u001b[32m━━━━━━━━━━━━━━━━━━━━\u001b[0m\u001b[37m\u001b[0m \u001b[1m0s\u001b[0m 70ms/step - loss: 0.4661 - mape: 9.7018 - r2_score: 0.4261 - val_loss: 0.5096 - val_mape: 11.6245 - val_r2_score: 0.0890 - learning_rate: 6.4000e-04\n",
      "Epoch 320/1000\n",
      "\u001b[1m5/5\u001b[0m \u001b[32m━━━━━━━━━━━━━━━━━━━━\u001b[0m\u001b[37m\u001b[0m \u001b[1m0s\u001b[0m 71ms/step - loss: 0.4947 - mape: 10.5098 - r2_score: 0.4521 - val_loss: 0.4967 - val_mape: 11.2760 - val_r2_score: 0.1188 - learning_rate: 6.4000e-04\n",
      "Epoch 321/1000\n",
      "\u001b[1m5/5\u001b[0m \u001b[32m━━━━━━━━━━━━━━━━━━━━\u001b[0m\u001b[37m\u001b[0m \u001b[1m0s\u001b[0m 71ms/step - loss: 0.4127 - mape: 8.8347 - r2_score: 0.5985 - val_loss: 0.5302 - val_mape: 11.9892 - val_r2_score: 0.0510 - learning_rate: 6.4000e-04\n",
      "Epoch 322/1000\n",
      "\u001b[1m5/5\u001b[0m \u001b[32m━━━━━━━━━━━━━━━━━━━━\u001b[0m\u001b[37m\u001b[0m \u001b[1m0s\u001b[0m 68ms/step - loss: 0.3907 - mape: 8.1627 - r2_score: 0.5936 - val_loss: 0.5485 - val_mape: 12.4046 - val_r2_score: 0.0092 - learning_rate: 6.4000e-04\n",
      "Epoch 323/1000\n",
      "\u001b[1m5/5\u001b[0m \u001b[32m━━━━━━━━━━━━━━━━━━━━\u001b[0m\u001b[37m\u001b[0m \u001b[1m0s\u001b[0m 71ms/step - loss: 0.6042 - mape: 12.1763 - r2_score: -0.1562 - val_loss: 0.4466 - val_mape: 10.0655 - val_r2_score: 0.1757 - learning_rate: 6.4000e-04\n",
      "Epoch 324/1000\n",
      "\u001b[1m5/5\u001b[0m \u001b[32m━━━━━━━━━━━━━━━━━━━━\u001b[0m\u001b[37m\u001b[0m \u001b[1m0s\u001b[0m 74ms/step - loss: 0.4267 - mape: 9.2936 - r2_score: 0.5137 - val_loss: 0.4736 - val_mape: 10.5844 - val_r2_score: 0.1106 - learning_rate: 6.4000e-04\n",
      "Epoch 325/1000\n",
      "\u001b[1m5/5\u001b[0m \u001b[32m━━━━━━━━━━━━━━━━━━━━\u001b[0m\u001b[37m\u001b[0m \u001b[1m0s\u001b[0m 76ms/step - loss: 0.4677 - mape: 9.9119 - r2_score: 0.3830 - val_loss: 0.4516 - val_mape: 10.1532 - val_r2_score: 0.1490 - learning_rate: 6.4000e-04\n",
      "Epoch 326/1000\n",
      "\u001b[1m5/5\u001b[0m \u001b[32m━━━━━━━━━━━━━━━━━━━━\u001b[0m\u001b[37m\u001b[0m \u001b[1m0s\u001b[0m 70ms/step - loss: 0.4502 - mape: 9.3962 - r2_score: 0.4787 - val_loss: 0.5077 - val_mape: 11.5280 - val_r2_score: 0.0800 - learning_rate: 6.4000e-04\n",
      "Epoch 327/1000\n",
      "\u001b[1m5/5\u001b[0m \u001b[32m━━━━━━━━━━━━━━━━━━━━\u001b[0m\u001b[37m\u001b[0m \u001b[1m0s\u001b[0m 68ms/step - loss: 0.4908 - mape: 9.8108 - r2_score: 0.3393 - val_loss: 0.5406 - val_mape: 12.2587 - val_r2_score: -0.0084 - learning_rate: 6.4000e-04\n",
      "Epoch 328/1000\n",
      "\u001b[1m5/5\u001b[0m \u001b[32m━━━━━━━━━━━━━━━━━━━━\u001b[0m\u001b[37m\u001b[0m \u001b[1m0s\u001b[0m 68ms/step - loss: 0.5089 - mape: 10.2428 - r2_score: -0.0733 - val_loss: 0.5814 - val_mape: 13.1521 - val_r2_score: -0.1125 - learning_rate: 6.4000e-04\n",
      "Epoch 329/1000\n",
      "\u001b[1m5/5\u001b[0m \u001b[32m━━━━━━━━━━━━━━━━━━━━\u001b[0m\u001b[37m\u001b[0m \u001b[1m0s\u001b[0m 74ms/step - loss: 0.4610 - mape: 9.4864 - r2_score: 0.4575 - val_loss: 0.5453 - val_mape: 12.2898 - val_r2_score: 0.0079 - learning_rate: 6.4000e-04\n",
      "Epoch 330/1000\n",
      "\u001b[1m5/5\u001b[0m \u001b[32m━━━━━━━━━━━━━━━━━━━━\u001b[0m\u001b[37m\u001b[0m \u001b[1m0s\u001b[0m 68ms/step - loss: 0.3410 - mape: 6.9176 - r2_score: 0.6553 - val_loss: 0.5091 - val_mape: 11.4572 - val_r2_score: 0.0990 - learning_rate: 6.4000e-04\n",
      "Epoch 331/1000\n",
      "\u001b[1m5/5\u001b[0m \u001b[32m━━━━━━━━━━━━━━━━━━━━\u001b[0m\u001b[37m\u001b[0m \u001b[1m1s\u001b[0m 85ms/step - loss: 0.4820 - mape: 10.0844 - r2_score: 0.4113 - val_loss: 0.5382 - val_mape: 12.0768 - val_r2_score: 0.0183 - learning_rate: 6.4000e-04\n",
      "Epoch 332/1000\n",
      "\u001b[1m5/5\u001b[0m \u001b[32m━━━━━━━━━━━━━━━━━━━━\u001b[0m\u001b[37m\u001b[0m \u001b[1m0s\u001b[0m 67ms/step - loss: 0.4427 - mape: 9.1471 - r2_score: 0.4488 - val_loss: 0.5137 - val_mape: 11.5333 - val_r2_score: 0.0460 - learning_rate: 6.4000e-04\n",
      "Epoch 333/1000\n",
      "\u001b[1m5/5\u001b[0m \u001b[32m━━━━━━━━━━━━━━━━━━━━\u001b[0m\u001b[37m\u001b[0m \u001b[1m0s\u001b[0m 70ms/step - loss: 0.4268 - mape: 8.8278 - r2_score: 0.3815 - val_loss: 0.4828 - val_mape: 10.8285 - val_r2_score: 0.0752 - learning_rate: 6.4000e-04\n",
      "Epoch 334/1000\n",
      "\u001b[1m5/5\u001b[0m \u001b[32m━━━━━━━━━━━━━━━━━━━━\u001b[0m\u001b[37m\u001b[0m \u001b[1m0s\u001b[0m 72ms/step - loss: 0.5234 - mape: 11.3361 - r2_score: 0.2956 - val_loss: 0.5141 - val_mape: 11.5254 - val_r2_score: -0.0670 - learning_rate: 6.4000e-04\n",
      "Epoch 335/1000\n",
      "\u001b[1m5/5\u001b[0m \u001b[32m━━━━━━━━━━━━━━━━━━━━\u001b[0m\u001b[37m\u001b[0m \u001b[1m0s\u001b[0m 71ms/step - loss: 0.4634 - mape: 9.7850 - r2_score: 0.3312 - val_loss: 0.5384 - val_mape: 12.1297 - val_r2_score: -0.1574 - learning_rate: 6.4000e-04\n",
      "Epoch 336/1000\n",
      "\u001b[1m5/5\u001b[0m \u001b[32m━━━━━━━━━━━━━━━━━━━━\u001b[0m\u001b[37m\u001b[0m \u001b[1m0s\u001b[0m 68ms/step - loss: 0.3610 - mape: 7.6723 - r2_score: 0.6315 - val_loss: 0.5391 - val_mape: 12.1901 - val_r2_score: -0.0964 - learning_rate: 6.4000e-04\n",
      "Epoch 337/1000\n",
      "\u001b[1m5/5\u001b[0m \u001b[32m━━━━━━━━━━━━━━━━━━━━\u001b[0m\u001b[37m\u001b[0m \u001b[1m0s\u001b[0m 67ms/step - loss: 0.4361 - mape: 9.5052 - r2_score: 0.5703 - val_loss: 0.5971 - val_mape: 13.5482 - val_r2_score: -0.1846 - learning_rate: 6.4000e-04\n",
      "Epoch 338/1000\n",
      "\u001b[1m5/5\u001b[0m \u001b[32m━━━━━━━━━━━━━━━━━━━━\u001b[0m\u001b[37m\u001b[0m \u001b[1m0s\u001b[0m 66ms/step - loss: 0.4902 - mape: 10.6232 - r2_score: 0.3000 - val_loss: 0.6589 - val_mape: 14.9683 - val_r2_score: -0.3954 - learning_rate: 6.4000e-04\n",
      "Epoch 339/1000\n",
      "\u001b[1m5/5\u001b[0m \u001b[32m━━━━━━━━━━━━━━━━━━━━\u001b[0m\u001b[37m\u001b[0m \u001b[1m0s\u001b[0m 75ms/step - loss: 0.4319 - mape: 9.2467 - r2_score: 0.5105 - val_loss: 0.6246 - val_mape: 14.2260 - val_r2_score: -0.3523 - learning_rate: 6.4000e-04\n",
      "Epoch 340/1000\n",
      "\u001b[1m5/5\u001b[0m \u001b[32m━━━━━━━━━━━━━━━━━━━━\u001b[0m\u001b[37m\u001b[0m \u001b[1m0s\u001b[0m 68ms/step - loss: 0.4480 - mape: 9.3880 - r2_score: 0.4166 - val_loss: 0.5294 - val_mape: 12.1196 - val_r2_score: -0.0704 - learning_rate: 6.4000e-04\n",
      "Epoch 341/1000\n",
      "\u001b[1m5/5\u001b[0m \u001b[32m━━━━━━━━━━━━━━━━━━━━\u001b[0m\u001b[37m\u001b[0m \u001b[1m0s\u001b[0m 67ms/step - loss: 0.3790 - mape: 7.9778 - r2_score: 0.5635 - val_loss: 0.5021 - val_mape: 11.5126 - val_r2_score: 0.0214 - learning_rate: 6.4000e-04\n",
      "Epoch 342/1000\n",
      "\u001b[1m5/5\u001b[0m \u001b[32m━━━━━━━━━━━━━━━━━━━━\u001b[0m\u001b[37m\u001b[0m \u001b[1m0s\u001b[0m 73ms/step - loss: 0.5208 - mape: 11.2703 - r2_score: 0.3179 - val_loss: 0.5030 - val_mape: 11.4671 - val_r2_score: 0.0349 - learning_rate: 6.4000e-04\n",
      "Epoch 343/1000\n",
      "\u001b[1m5/5\u001b[0m \u001b[32m━━━━━━━━━━━━━━━━━━━━\u001b[0m\u001b[37m\u001b[0m \u001b[1m0s\u001b[0m 69ms/step - loss: 0.4646 - mape: 9.8948 - r2_score: 0.3498 - val_loss: 0.5407 - val_mape: 12.2921 - val_r2_score: -0.0485 - learning_rate: 6.4000e-04\n",
      "Epoch 344/1000\n",
      "\u001b[1m5/5\u001b[0m \u001b[32m━━━━━━━━━━━━━━━━━━━━\u001b[0m\u001b[37m\u001b[0m \u001b[1m0s\u001b[0m 69ms/step - loss: 0.3611 - mape: 7.4876 - r2_score: 0.6006 - val_loss: 0.5688 - val_mape: 12.8951 - val_r2_score: -0.2127 - learning_rate: 6.4000e-04\n",
      "Epoch 345/1000\n",
      "\u001b[1m5/5\u001b[0m \u001b[32m━━━━━━━━━━━━━━━━━━━━\u001b[0m\u001b[37m\u001b[0m \u001b[1m0s\u001b[0m 72ms/step - loss: 0.4416 - mape: 9.3981 - r2_score: 0.4331 - val_loss: 0.5514 - val_mape: 12.4778 - val_r2_score: -0.1313 - learning_rate: 6.4000e-04\n",
      "Epoch 346/1000\n",
      "\u001b[1m5/5\u001b[0m \u001b[32m━━━━━━━━━━━━━━━━━━━━\u001b[0m\u001b[37m\u001b[0m \u001b[1m0s\u001b[0m 68ms/step - loss: 0.4652 - mape: 9.7457 - r2_score: 0.3867 - val_loss: 0.5155 - val_mape: 11.6271 - val_r2_score: -0.0064 - learning_rate: 6.4000e-04\n",
      "Epoch 347/1000\n",
      "\u001b[1m5/5\u001b[0m \u001b[32m━━━━━━━━━━━━━━━━━━━━\u001b[0m\u001b[37m\u001b[0m \u001b[1m0s\u001b[0m 70ms/step - loss: 0.5112 - mape: 10.6530 - r2_score: 0.2275 - val_loss: 0.4936 - val_mape: 11.1030 - val_r2_score: 0.0739 - learning_rate: 6.4000e-04\n",
      "Epoch 348/1000\n",
      "\u001b[1m5/5\u001b[0m \u001b[32m━━━━━━━━━━━━━━━━━━━━\u001b[0m\u001b[37m\u001b[0m \u001b[1m0s\u001b[0m 72ms/step - loss: 0.4897 - mape: 10.5274 - r2_score: 0.3165 - val_loss: 0.4583 - val_mape: 10.3771 - val_r2_score: 0.1787 - learning_rate: 6.4000e-04\n",
      "Epoch 349/1000\n",
      "\u001b[1m5/5\u001b[0m \u001b[32m━━━━━━━━━━━━━━━━━━━━\u001b[0m\u001b[37m\u001b[0m \u001b[1m0s\u001b[0m 69ms/step - loss: 0.5015 - mape: 10.8471 - r2_score: 0.4156 - val_loss: 0.4673 - val_mape: 10.5063 - val_r2_score: 0.1488 - learning_rate: 6.4000e-04\n",
      "Epoch 350/1000\n",
      "\u001b[1m5/5\u001b[0m \u001b[32m━━━━━━━━━━━━━━━━━━━━\u001b[0m\u001b[37m\u001b[0m \u001b[1m0s\u001b[0m 75ms/step - loss: 0.4024 - mape: 8.5422 - r2_score: 0.4727 - val_loss: 0.5373 - val_mape: 12.0882 - val_r2_score: -0.0102 - learning_rate: 6.4000e-04\n",
      "Epoch 351/1000\n",
      "\u001b[1m5/5\u001b[0m \u001b[32m━━━━━━━━━━━━━━━━━━━━\u001b[0m\u001b[37m\u001b[0m \u001b[1m0s\u001b[0m 73ms/step - loss: 0.5104 - mape: 11.3251 - r2_score: 0.2362 - val_loss: 0.5905 - val_mape: 13.3183 - val_r2_score: -0.1359 - learning_rate: 6.4000e-04\n",
      "Epoch 352/1000\n",
      "\u001b[1m5/5\u001b[0m \u001b[32m━━━━━━━━━━━━━━━━━━━━\u001b[0m\u001b[37m\u001b[0m \u001b[1m0s\u001b[0m 68ms/step - loss: 0.4994 - mape: 10.7929 - r2_score: 0.3704 - val_loss: 0.6375 - val_mape: 14.4293 - val_r2_score: -0.2752 - learning_rate: 6.4000e-04\n",
      "Epoch 353/1000\n",
      "\u001b[1m5/5\u001b[0m \u001b[32m━━━━━━━━━━━━━━━━━━━━\u001b[0m\u001b[37m\u001b[0m \u001b[1m0s\u001b[0m 72ms/step - loss: 0.4180 - mape: 9.1669 - r2_score: 0.4952 - val_loss: 0.6117 - val_mape: 13.8355 - val_r2_score: -0.2083 - learning_rate: 6.4000e-04\n",
      "Epoch 354/1000\n",
      "\u001b[1m5/5\u001b[0m \u001b[32m━━━━━━━━━━━━━━━━━━━━\u001b[0m\u001b[37m\u001b[0m \u001b[1m0s\u001b[0m 71ms/step - loss: 0.4556 - mape: 10.0455 - r2_score: 0.4189 - val_loss: 0.4990 - val_mape: 11.2549 - val_r2_score: 0.0661 - learning_rate: 6.4000e-04\n",
      "Epoch 355/1000\n",
      "\u001b[1m5/5\u001b[0m \u001b[32m━━━━━━━━━━━━━━━━━━━━\u001b[0m\u001b[37m\u001b[0m \u001b[1m0s\u001b[0m 69ms/step - loss: 0.4423 - mape: 9.3037 - r2_score: 0.4199 - val_loss: 0.4322 - val_mape: 9.8187 - val_r2_score: 0.2194 - learning_rate: 6.4000e-04\n",
      "Epoch 356/1000\n",
      "\u001b[1m5/5\u001b[0m \u001b[32m━━━━━━━━━━━━━━━━━━━━\u001b[0m\u001b[37m\u001b[0m \u001b[1m0s\u001b[0m 74ms/step - loss: 0.5260 - mape: 11.8364 - r2_score: 0.2227 - val_loss: 0.4226 - val_mape: 9.6647 - val_r2_score: 0.2618 - learning_rate: 6.4000e-04\n",
      "Epoch 357/1000\n",
      "\u001b[1m5/5\u001b[0m \u001b[32m━━━━━━━━━━━━━━━━━━━━\u001b[0m\u001b[37m\u001b[0m \u001b[1m0s\u001b[0m 70ms/step - loss: 0.5570 - mape: 11.3132 - r2_score: -0.0764 - val_loss: 0.4396 - val_mape: 10.0462 - val_r2_score: 0.2443 - learning_rate: 6.4000e-04\n",
      "Epoch 358/1000\n",
      "\u001b[1m5/5\u001b[0m \u001b[32m━━━━━━━━━━━━━━━━━━━━\u001b[0m\u001b[37m\u001b[0m \u001b[1m0s\u001b[0m 70ms/step - loss: 0.4025 - mape: 8.7882 - r2_score: 0.5139 - val_loss: 0.5093 - val_mape: 11.6304 - val_r2_score: 0.0969 - learning_rate: 6.4000e-04\n",
      "Epoch 359/1000\n",
      "\u001b[1m5/5\u001b[0m \u001b[32m━━━━━━━━━━━━━━━━━━━━\u001b[0m\u001b[37m\u001b[0m \u001b[1m1s\u001b[0m 86ms/step - loss: 0.4559 - mape: 9.8538 - r2_score: 0.4917 - val_loss: 0.5972 - val_mape: 13.6188 - val_r2_score: -0.1378 - learning_rate: 6.4000e-04\n",
      "Epoch 360/1000\n",
      "\u001b[1m5/5\u001b[0m \u001b[32m━━━━━━━━━━━━━━━━━━━━\u001b[0m\u001b[37m\u001b[0m \u001b[1m0s\u001b[0m 69ms/step - loss: 0.4398 - mape: 9.2717 - r2_score: 0.4084 - val_loss: 0.5715 - val_mape: 12.9966 - val_r2_score: -0.0912 - learning_rate: 6.4000e-04\n",
      "Epoch 361/1000\n",
      "\u001b[1m5/5\u001b[0m \u001b[32m━━━━━━━━━━━━━━━━━━━━\u001b[0m\u001b[37m\u001b[0m \u001b[1m0s\u001b[0m 68ms/step - loss: 0.4224 - mape: 8.6386 - r2_score: 0.5601 - val_loss: 0.5189 - val_mape: 11.7291 - val_r2_score: 0.0311 - learning_rate: 6.4000e-04\n",
      "Epoch 362/1000\n",
      "\u001b[1m5/5\u001b[0m \u001b[32m━━━━━━━━━━━━━━━━━━━━\u001b[0m\u001b[37m\u001b[0m \u001b[1m0s\u001b[0m 72ms/step - loss: 0.4714 - mape: 10.2786 - r2_score: 0.4043 - val_loss: 0.4695 - val_mape: 10.6028 - val_r2_score: 0.1576 - learning_rate: 5.1200e-04\n",
      "Epoch 363/1000\n",
      "\u001b[1m5/5\u001b[0m \u001b[32m━━━━━━━━━━━━━━━━━━━━\u001b[0m\u001b[37m\u001b[0m \u001b[1m0s\u001b[0m 68ms/step - loss: 0.4236 - mape: 8.9103 - r2_score: 0.4201 - val_loss: 0.4619 - val_mape: 10.4898 - val_r2_score: 0.1774 - learning_rate: 5.1200e-04\n",
      "Epoch 364/1000\n",
      "\u001b[1m5/5\u001b[0m \u001b[32m━━━━━━━━━━━━━━━━━━━━\u001b[0m\u001b[37m\u001b[0m \u001b[1m0s\u001b[0m 75ms/step - loss: 0.4196 - mape: 8.9621 - r2_score: 0.3292 - val_loss: 0.4721 - val_mape: 10.7044 - val_r2_score: 0.1404 - learning_rate: 5.1200e-04\n",
      "Epoch 365/1000\n",
      "\u001b[1m5/5\u001b[0m \u001b[32m━━━━━━━━━━━━━━━━━━━━\u001b[0m\u001b[37m\u001b[0m \u001b[1m0s\u001b[0m 68ms/step - loss: 0.4164 - mape: 8.7159 - r2_score: 0.4490 - val_loss: 0.4958 - val_mape: 11.2067 - val_r2_score: 0.0495 - learning_rate: 5.1200e-04\n",
      "Epoch 366/1000\n",
      "\u001b[1m5/5\u001b[0m \u001b[32m━━━━━━━━━━━━━━━━━━━━\u001b[0m\u001b[37m\u001b[0m \u001b[1m0s\u001b[0m 73ms/step - loss: 0.3917 - mape: 8.3251 - r2_score: 0.4579 - val_loss: 0.4885 - val_mape: 11.0680 - val_r2_score: 0.0419 - learning_rate: 5.1200e-04\n",
      "Epoch 367/1000\n",
      "\u001b[1m5/5\u001b[0m \u001b[32m━━━━━━━━━━━━━━━━━━━━\u001b[0m\u001b[37m\u001b[0m \u001b[1m0s\u001b[0m 80ms/step - loss: 0.4407 - mape: 9.3989 - r2_score: 0.1485 - val_loss: 0.5198 - val_mape: 11.6796 - val_r2_score: -0.0910 - learning_rate: 5.1200e-04\n",
      "Epoch 368/1000\n",
      "\u001b[1m5/5\u001b[0m \u001b[32m━━━━━━━━━━━━━━━━━━━━\u001b[0m\u001b[37m\u001b[0m \u001b[1m0s\u001b[0m 73ms/step - loss: 0.4413 - mape: 9.5132 - r2_score: 0.4351 - val_loss: 0.5254 - val_mape: 11.7758 - val_r2_score: -0.1310 - learning_rate: 5.1200e-04\n",
      "Epoch 369/1000\n",
      "\u001b[1m5/5\u001b[0m \u001b[32m━━━━━━━━━━━━━━━━━━━━\u001b[0m\u001b[37m\u001b[0m \u001b[1m0s\u001b[0m 69ms/step - loss: 0.4097 - mape: 8.6731 - r2_score: 0.5056 - val_loss: 0.5113 - val_mape: 11.5073 - val_r2_score: -0.0767 - learning_rate: 5.1200e-04\n",
      "Epoch 370/1000\n",
      "\u001b[1m5/5\u001b[0m \u001b[32m━━━━━━━━━━━━━━━━━━━━\u001b[0m\u001b[37m\u001b[0m \u001b[1m0s\u001b[0m 72ms/step - loss: 0.4223 - mape: 9.0218 - r2_score: 0.5147 - val_loss: 0.5595 - val_mape: 12.6362 - val_r2_score: -0.1196 - learning_rate: 5.1200e-04\n",
      "Epoch 371/1000\n",
      "\u001b[1m5/5\u001b[0m \u001b[32m━━━━━━━━━━━━━━━━━━━━\u001b[0m\u001b[37m\u001b[0m \u001b[1m0s\u001b[0m 71ms/step - loss: 0.4440 - mape: 9.5994 - r2_score: 0.4631 - val_loss: 0.5598 - val_mape: 12.6542 - val_r2_score: -0.0718 - learning_rate: 5.1200e-04\n",
      "Epoch 372/1000\n",
      "\u001b[1m5/5\u001b[0m \u001b[32m━━━━━━━━━━━━━━━━━━━━\u001b[0m\u001b[37m\u001b[0m \u001b[1m0s\u001b[0m 75ms/step - loss: 0.4865 - mape: 10.3485 - r2_score: 0.3070 - val_loss: 0.5889 - val_mape: 13.3044 - val_r2_score: -0.1855 - learning_rate: 5.1200e-04\n",
      "Epoch 373/1000\n",
      "\u001b[1m5/5\u001b[0m \u001b[32m━━━━━━━━━━━━━━━━━━━━\u001b[0m\u001b[37m\u001b[0m \u001b[1m0s\u001b[0m 70ms/step - loss: 0.4700 - mape: 9.7745 - r2_score: 0.4199 - val_loss: 0.5875 - val_mape: 13.2969 - val_r2_score: -0.1803 - learning_rate: 5.1200e-04\n",
      "Epoch 374/1000\n",
      "\u001b[1m5/5\u001b[0m \u001b[32m━━━━━━━━━━━━━━━━━━━━\u001b[0m\u001b[37m\u001b[0m \u001b[1m0s\u001b[0m 73ms/step - loss: 0.4607 - mape: 9.9597 - r2_score: 0.2968 - val_loss: 0.5374 - val_mape: 12.1695 - val_r2_score: -0.0900 - learning_rate: 5.1200e-04\n",
      "Epoch 375/1000\n",
      "\u001b[1m5/5\u001b[0m \u001b[32m━━━━━━━━━━━━━━━━━━━━\u001b[0m\u001b[37m\u001b[0m \u001b[1m0s\u001b[0m 70ms/step - loss: 0.4591 - mape: 9.8527 - r2_score: 0.4054 - val_loss: 0.4885 - val_mape: 11.1275 - val_r2_score: 0.0603 - learning_rate: 5.1200e-04\n",
      "Epoch 376/1000\n",
      "\u001b[1m5/5\u001b[0m \u001b[32m━━━━━━━━━━━━━━━━━━━━\u001b[0m\u001b[37m\u001b[0m \u001b[1m0s\u001b[0m 70ms/step - loss: 0.4757 - mape: 10.0902 - r2_score: 0.3912 - val_loss: 0.4646 - val_mape: 10.6727 - val_r2_score: 0.1565 - learning_rate: 5.1200e-04\n",
      "Epoch 377/1000\n",
      "\u001b[1m5/5\u001b[0m \u001b[32m━━━━━━━━━━━━━━━━━━━━\u001b[0m\u001b[37m\u001b[0m \u001b[1m0s\u001b[0m 68ms/step - loss: 0.3742 - mape: 7.9832 - r2_score: 0.5770 - val_loss: 0.4350 - val_mape: 10.0281 - val_r2_score: 0.2246 - learning_rate: 5.1200e-04\n",
      "Epoch 378/1000\n",
      "\u001b[1m5/5\u001b[0m \u001b[32m━━━━━━━━━━━━━━━━━━━━\u001b[0m\u001b[37m\u001b[0m \u001b[1m0s\u001b[0m 68ms/step - loss: 0.4171 - mape: 8.7680 - r2_score: 0.5071 - val_loss: 0.4335 - val_mape: 10.0238 - val_r2_score: 0.2129 - learning_rate: 5.1200e-04\n",
      "Epoch 379/1000\n",
      "\u001b[1m5/5\u001b[0m \u001b[32m━━━━━━━━━━━━━━━━━━━━\u001b[0m\u001b[37m\u001b[0m \u001b[1m0s\u001b[0m 69ms/step - loss: 0.4788 - mape: 10.2170 - r2_score: 0.2051 - val_loss: 0.4611 - val_mape: 10.5406 - val_r2_score: 0.1913 - learning_rate: 5.1200e-04\n",
      "Epoch 380/1000\n",
      "\u001b[1m5/5\u001b[0m \u001b[32m━━━━━━━━━━━━━━━━━━━━\u001b[0m\u001b[37m\u001b[0m \u001b[1m0s\u001b[0m 67ms/step - loss: 0.4331 - mape: 9.3671 - r2_score: 0.4916 - val_loss: 0.4341 - val_mape: 9.9559 - val_r2_score: 0.2450 - learning_rate: 5.1200e-04\n",
      "Epoch 381/1000\n",
      "\u001b[1m5/5\u001b[0m \u001b[32m━━━━━━━━━━━━━━━━━━━━\u001b[0m\u001b[37m\u001b[0m \u001b[1m0s\u001b[0m 68ms/step - loss: 0.4410 - mape: 9.5549 - r2_score: 0.4830 - val_loss: 0.4055 - val_mape: 9.3777 - val_r2_score: 0.3113 - learning_rate: 5.1200e-04\n",
      "Epoch 382/1000\n",
      "\u001b[1m5/5\u001b[0m \u001b[32m━━━━━━━━━━━━━━━━━━━━\u001b[0m\u001b[37m\u001b[0m \u001b[1m0s\u001b[0m 66ms/step - loss: 0.4401 - mape: 9.2826 - r2_score: 0.4683 - val_loss: 0.4003 - val_mape: 9.2907 - val_r2_score: 0.3192 - learning_rate: 5.1200e-04\n",
      "Epoch 383/1000\n",
      "\u001b[1m5/5\u001b[0m \u001b[32m━━━━━━━━━━━━━━━━━━━━\u001b[0m\u001b[37m\u001b[0m \u001b[1m0s\u001b[0m 69ms/step - loss: 0.4059 - mape: 8.6046 - r2_score: 0.5751 - val_loss: 0.4376 - val_mape: 10.1169 - val_r2_score: 0.2216 - learning_rate: 5.1200e-04\n",
      "Epoch 384/1000\n",
      "\u001b[1m5/5\u001b[0m \u001b[32m━━━━━━━━━━━━━━━━━━━━\u001b[0m\u001b[37m\u001b[0m \u001b[1m0s\u001b[0m 72ms/step - loss: 0.5136 - mape: 11.5266 - r2_score: 0.0663 - val_loss: 0.5115 - val_mape: 11.7759 - val_r2_score: 0.0274 - learning_rate: 5.1200e-04\n",
      "Epoch 385/1000\n",
      "\u001b[1m5/5\u001b[0m \u001b[32m━━━━━━━━━━━━━━━━━━━━\u001b[0m\u001b[37m\u001b[0m \u001b[1m0s\u001b[0m 68ms/step - loss: 0.3771 - mape: 7.9842 - r2_score: 0.6260 - val_loss: 0.5421 - val_mape: 12.4814 - val_r2_score: -0.0405 - learning_rate: 5.1200e-04\n",
      "Epoch 386/1000\n",
      "\u001b[1m5/5\u001b[0m \u001b[32m━━━━━━━━━━━━━━━━━━━━\u001b[0m\u001b[37m\u001b[0m \u001b[1m0s\u001b[0m 67ms/step - loss: 0.4969 - mape: 10.4541 - r2_score: 0.1774 - val_loss: 0.5069 - val_mape: 11.6308 - val_r2_score: 0.0452 - learning_rate: 5.1200e-04\n",
      "Epoch 387/1000\n",
      "\u001b[1m5/5\u001b[0m \u001b[32m━━━━━━━━━━━━━━━━━━━━\u001b[0m\u001b[37m\u001b[0m \u001b[1m0s\u001b[0m 70ms/step - loss: 0.3871 - mape: 8.1608 - r2_score: 0.5961 - val_loss: 0.4372 - val_mape: 10.0203 - val_r2_score: 0.2147 - learning_rate: 5.1200e-04\n",
      "Epoch 388/1000\n",
      "\u001b[1m5/5\u001b[0m \u001b[32m━━━━━━━━━━━━━━━━━━━━\u001b[0m\u001b[37m\u001b[0m \u001b[1m0s\u001b[0m 71ms/step - loss: 0.3668 - mape: 7.8891 - r2_score: 0.5762 - val_loss: 0.4272 - val_mape: 9.8969 - val_r2_score: 0.2863 - learning_rate: 5.1200e-04\n",
      "Epoch 389/1000\n",
      "\u001b[1m5/5\u001b[0m \u001b[32m━━━━━━━━━━━━━━━━━━━━\u001b[0m\u001b[37m\u001b[0m \u001b[1m0s\u001b[0m 72ms/step - loss: 0.4873 - mape: 10.6261 - r2_score: 0.4009 - val_loss: 0.4253 - val_mape: 9.8011 - val_r2_score: 0.3326 - learning_rate: 5.1200e-04\n",
      "Epoch 390/1000\n",
      "\u001b[1m5/5\u001b[0m \u001b[32m━━━━━━━━━━━━━━━━━━━━\u001b[0m\u001b[37m\u001b[0m \u001b[1m0s\u001b[0m 71ms/step - loss: 0.5135 - mape: 10.8484 - r2_score: 0.1649 - val_loss: 0.4104 - val_mape: 9.4131 - val_r2_score: 0.3410 - learning_rate: 5.1200e-04\n",
      "Epoch 391/1000\n",
      "\u001b[1m5/5\u001b[0m \u001b[32m━━━━━━━━━━━━━━━━━━━━\u001b[0m\u001b[37m\u001b[0m \u001b[1m0s\u001b[0m 67ms/step - loss: 0.4111 - mape: 8.5333 - r2_score: 0.4226 - val_loss: 0.4166 - val_mape: 9.4968 - val_r2_score: 0.2655 - learning_rate: 5.1200e-04\n",
      "Epoch 392/1000\n",
      "\u001b[1m5/5\u001b[0m \u001b[32m━━━━━━━━━━━━━━━━━━━━\u001b[0m\u001b[37m\u001b[0m \u001b[1m0s\u001b[0m 69ms/step - loss: 0.4374 - mape: 9.6116 - r2_score: 0.4394 - val_loss: 0.4427 - val_mape: 10.0623 - val_r2_score: 0.1978 - learning_rate: 5.1200e-04\n",
      "Epoch 393/1000\n",
      "\u001b[1m5/5\u001b[0m \u001b[32m━━━━━━━━━━━━━━━━━━━━\u001b[0m\u001b[37m\u001b[0m \u001b[1m0s\u001b[0m 69ms/step - loss: 0.4671 - mape: 9.7274 - r2_score: 0.4384 - val_loss: 0.4451 - val_mape: 10.1821 - val_r2_score: 0.2152 - learning_rate: 5.1200e-04\n",
      "Epoch 394/1000\n",
      "\u001b[1m5/5\u001b[0m \u001b[32m━━━━━━━━━━━━━━━━━━━━\u001b[0m\u001b[37m\u001b[0m \u001b[1m0s\u001b[0m 72ms/step - loss: 0.5183 - mape: 10.9596 - r2_score: 0.3652 - val_loss: 0.4281 - val_mape: 9.8115 - val_r2_score: 0.2437 - learning_rate: 5.1200e-04\n",
      "Epoch 395/1000\n",
      "\u001b[1m5/5\u001b[0m \u001b[32m━━━━━━━━━━━━━━━━━━━━\u001b[0m\u001b[37m\u001b[0m \u001b[1m0s\u001b[0m 69ms/step - loss: 0.5614 - mape: 12.5293 - r2_score: 0.1972 - val_loss: 0.4608 - val_mape: 10.5548 - val_r2_score: 0.1750 - learning_rate: 5.1200e-04\n",
      "Epoch 396/1000\n",
      "\u001b[1m5/5\u001b[0m \u001b[32m━━━━━━━━━━━━━━━━━━━━\u001b[0m\u001b[37m\u001b[0m \u001b[1m0s\u001b[0m 70ms/step - loss: 0.4232 - mape: 8.7840 - r2_score: 0.4802 - val_loss: 0.5033 - val_mape: 11.5664 - val_r2_score: 0.0949 - learning_rate: 5.1200e-04\n",
      "Epoch 397/1000\n",
      "\u001b[1m5/5\u001b[0m \u001b[32m━━━━━━━━━━━━━━━━━━━━\u001b[0m\u001b[37m\u001b[0m \u001b[1m0s\u001b[0m 80ms/step - loss: 0.5556 - mape: 12.0213 - r2_score: 0.2832 - val_loss: 0.4828 - val_mape: 11.1292 - val_r2_score: 0.1270 - learning_rate: 5.1200e-04\n",
      "Epoch 398/1000\n",
      "\u001b[1m5/5\u001b[0m \u001b[32m━━━━━━━━━━━━━━━━━━━━\u001b[0m\u001b[37m\u001b[0m \u001b[1m0s\u001b[0m 72ms/step - loss: 0.4231 - mape: 9.1193 - r2_score: 0.4938 - val_loss: 0.4451 - val_mape: 10.2772 - val_r2_score: 0.2056 - learning_rate: 5.1200e-04\n",
      "Time for training:     2.0000s\n"
     ]
    }
   ],
   "source": [
    "model_trained = model_training(model_DNN,\n",
    "                               folder_path = final_path,\n",
    "                               batch_size = 12,\n",
    "                               num_epochs = 1000,\n",
    "                               x_train = x_train,\n",
    "                               y_train = y_train,\n",
    "                               x_val = x_test,\n",
    "                               y_val = y_test,\n",
    "                               callbacks = callbacks)"
   ]
  },
  {
   "cell_type": "markdown",
   "metadata": {
    "id": "LtfHyGNzF48o"
   },
   "source": [
    "## Save Model"
   ]
  },
  {
   "cell_type": "code",
   "execution_count": 29,
   "metadata": {
    "colab": {
     "base_uri": "https://localhost:8080/"
    },
    "executionInfo": {
     "elapsed": 660,
     "status": "ok",
     "timestamp": 1754806386690,
     "user": {
      "displayName": "Alan Gabriel Amaro Colin",
      "userId": "17298980579619170060"
     },
     "user_tz": 360
    },
    "id": "a_1vhfmHF5wK",
    "outputId": "80a69136-88cb-48be-9823-d104a5830e23"
   },
   "outputs": [
    {
     "name": "stderr",
     "output_type": "stream",
     "text": [
      "WARNING:absl:You are saving your model as an HDF5 file via `model.save()` or `keras.saving.save_model(model)`. This file format is considered legacy. We recommend using instead the native Keras format, e.g. `model.save('my_model.keras')` or `keras.saving.save_model(model, 'my_model.keras')`. \n"
     ]
    }
   ],
   "source": [
    "model_DNN.save( os.path.join(final_path, 'model.h5') )"
   ]
  },
  {
   "cell_type": "code",
   "execution_count": 30,
   "metadata": {
    "colab": {
     "base_uri": "https://localhost:8080/",
     "height": 927
    },
    "executionInfo": {
     "elapsed": 772,
     "status": "ok",
     "timestamp": 1754806387464,
     "user": {
      "displayName": "Alan Gabriel Amaro Colin",
      "userId": "17298980579619170060"
     },
     "user_tz": 360
    },
    "id": "1G9qoHIdF-GA",
    "outputId": "8a56fa33-93ed-411a-9dbe-889179c66222"
   },
   "outputs": [
    {
     "data": {
      "image/png": "[encoded data removed]",
      "text/plain": [
       "<Figure size 640x480 with 1 Axes>"
      ]
     },
     "metadata": {},
     "output_type": "display_data"
    },
    {
     "data": {
      "image/png": "[encoded data removed]",
      "text/plain": [
       "<Figure size 640x480 with 1 Axes>"
      ]
     },
     "metadata": {},
     "output_type": "display_data"
    }
   ],
   "source": [
    "do_graphics(\n",
    "    model_trained,\n",
    "    'DNN-MI-1',\n",
    "    ('MAE', 'MAPE'),\n",
    "    final_path,\n",
    "    metric = 'mape'\n",
    ")"
   ]
  },
  {
   "cell_type": "markdown",
   "metadata": {
    "id": "_F1AbxhWGI6w"
   },
   "source": [
    "## Evaluate"
   ]
  },
  {
   "cell_type": "code",
   "execution_count": 31,
   "metadata": {
    "colab": {
     "base_uri": "https://localhost:8080/"
    },
    "executionInfo": {
     "elapsed": 138,
     "status": "ok",
     "timestamp": 1754806387612,
     "user": {
      "displayName": "Alan Gabriel Amaro Colin",
      "userId": "17298980579619170060"
     },
     "user_tz": 360
    },
    "id": "4J5wcFgrGG7a",
    "outputId": "16ea5e95-c59b-4d0b-c4d9-841d8a3b131a"
   },
   "outputs": [
    {
     "name": "stdout",
     "output_type": "stream",
     "text": [
      "\u001b[1m1/1\u001b[0m \u001b[32m━━━━━━━━━━━━━━━━━━━━\u001b[0m\u001b[37m\u001b[0m \u001b[1m0s\u001b[0m 73ms/step - loss: 0.3820 - mape: 8.7413 - r2_score: 0.4052\n",
      "-> Loss = 0.3819660246372223\n",
      "-> Test Accuracy = 8.741332054138184\n",
      "-> R2 Accuracy = 0.40520453453063965\n"
     ]
    }
   ],
   "source": [
    "loss, accuracy, _ = evaluate_model_regression(model_DNN, x_test, y_test)"
   ]
  },
  {
   "cell_type": "markdown",
   "metadata": {
    "id": "9s7QfcrKGhLa"
   },
   "source": [
    "## KDE Comparison"
   ]
  },
  {
   "cell_type": "code",
   "execution_count": 32,
   "metadata": {
    "executionInfo": {
     "elapsed": 230,
     "status": "ok",
     "timestamp": 1754806387861,
     "user": {
      "displayName": "Alan Gabriel Amaro Colin",
      "userId": "17298980579619170060"
     },
     "user_tz": 360
    },
    "id": "HPZJY1PLGtGt"
   },
   "outputs": [],
   "source": [
    "import seaborn as sns"
   ]
  },
  {
   "cell_type": "code",
   "execution_count": 33,
   "metadata": {
    "colab": {
     "base_uri": "https://localhost:8080/",
     "height": 385
    },
    "executionInfo": {
     "elapsed": 844,
     "status": "ok",
     "timestamp": 1754806388692,
     "user": {
      "displayName": "Alan Gabriel Amaro Colin",
      "userId": "17298980579619170060"
     },
     "user_tz": 360
    },
    "id": "wgU2IH7IGiXL",
    "outputId": "e41150e6-6212-47db-a0a5-cf59ca47323c"
   },
   "outputs": [
    {
     "name": "stdout",
     "output_type": "stream",
     "text": [
      "\u001b[1m1/1\u001b[0m \u001b[32m━━━━━━━━━━━━━━━━━━━━\u001b[0m\u001b[37m\u001b[0m \u001b[1m0s\u001b[0m 150ms/step\n"
     ]
    },
    {
     "data": {
      "image/png": "[encoded data removed]",
      "text/plain": [
       "<Figure size 400x400 with 1 Axes>"
      ]
     },
     "metadata": {},
     "output_type": "display_data"
    }
   ],
   "source": [
    "plt.figure(figsize = (4,4))\n",
    "sns.kdeplot( model_DNN.predict(x_test), label = 'Predicted', fill= True)\n",
    "sns.kdeplot(y_test, label = 'True', fill = True)\n",
    "plt.grid()\n",
    "plt.legend()\n",
    "plt.show()"
   ]
  },
  {
   "cell_type": "markdown",
   "metadata": {},
   "source": [
    "## Comparative Plot"
   ]
  },
  {
   "cell_type": "code",
   "execution_count": 34,
   "metadata": {},
   "outputs": [
    {
     "name": "stdout",
     "output_type": "stream",
     "text": [
      "\u001b[1m1/1\u001b[0m \u001b[32m━━━━━━━━━━━━━━━━━━━━\u001b[0m\u001b[37m\u001b[0m \u001b[1m0s\u001b[0m 57ms/step\n"
     ]
    },
    {
     "data": {
      "image/png": "[encoded data removed]",
      "text/plain": [
       "<Figure size 400x400 with 1 Axes>"
      ]
     },
     "metadata": {},
     "output_type": "display_data"
    }
   ],
   "source": [
    "plt.figure(figsize = (4,4))\n",
    "plt.plot([x for x in range(3, 7)], [x for x in range(3, 7)])\n",
    "plt.scatter(y_test, model_DNN.predict(x_test))\n",
    "#sns.kdeplot(y_test, label = 'True', fill = True)\n",
    "plt.grid()\n",
    "plt.title('Test Set')\n",
    "plt.show()"
   ]
  },
  {
   "cell_type": "markdown",
   "metadata": {},
   "source": [
    "## Results"
   ]
  },
  {
   "cell_type": "markdown",
   "metadata": {},
   "source": [
    "-> Loss = 0.43038806319236755\n",
    "-> Test Accuracy = 8.71993350982666\n",
    "-> R2 Accuracy = 0.4706185460090637\n",
    "-> 'DNN_MI_1_FULL'"
   ]
  },
  {
   "cell_type": "markdown",
   "metadata": {},
   "source": [
    "-> Loss = 0.33492109179496765\n",
    "-> Test Accuracy = 7.291499614715576\n",
    "-> R2 Accuracy = 0.6732093095779419\n",
    "-> 'DNN_MI_1_FULL2'"
   ]
  },
  {
   "cell_type": "markdown",
   "metadata": {},
   "source": [
    "-> Loss = 0.2952897250652313\n",
    "-> Test Accuracy = 6.3148722648620605\n",
    "-> R2 Accuracy = 0.7042462825775146\n",
    "-> 3"
   ]
  }
 ],
 "metadata": {
  "colab": {
   "authorship_tag": "ABX9TyPGnKoyfso1VK2rJhSn9brq",
   "mount_file_id": "1oAGWlf-SZH58jEakX1pZwdDPfXrMUo5n",
   "provenance": []
  },
  "kernelspec": {
   "display_name": "Python 3 (ipykernel)",
   "language": "python",
   "name": "python3"
  },
  "language_info": {
   "codemirror_mode": {
    "name": "ipython",
    "version": 3
   },
   "file_extension": ".py",
   "mimetype": "text/x-python",
   "name": "python",
   "nbconvert_exporter": "python",
   "pygments_lexer": "ipython3",
   "version": "3.9.23"
  }
 },
 "nbformat": 4,
 "nbformat_minor": 4
}
