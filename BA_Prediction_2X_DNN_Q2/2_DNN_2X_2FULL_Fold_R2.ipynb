{
 "cells": [
  {
   "cell_type": "markdown",
   "metadata": {
    "id": "H6Wue51yaxKv"
   },
   "source": [
    "# Dense Neural Networks"
   ]
  },
  {
   "cell_type": "markdown",
   "metadata": {
    "id": "rKzTG2kjZK65"
   },
   "source": [
    "Hello there!\n",
    "\n",
    "In the previos notebook we have got the Goodness of fit (0.502). In this section we perform K-Fold cross validation over the train set. The train set is composed of 49 samples which has been divided in 7 folds, each fold with seven samples. From this, we generate the _sub-training_ set with K-1 Folds, and the remaining fold is used as a validation set. **The Test Set is never used**."
   ]
  },
  {
   "cell_type": "markdown",
   "metadata": {},
   "source": [
    "* This notebook MUST BE restart for each fold for a clean start in Keras weights."
   ]
  },
  {
   "cell_type": "markdown",
   "metadata": {
    "id": "s8_gew3AbzAj"
   },
   "source": [
    "## Mutual Information"
   ]
  },
  {
   "cell_type": "markdown",
   "metadata": {
    "id": "vmxe0Iu-cSj0"
   },
   "source": [
    "### **Mutual Information (MI) for Feature Selection**  \n",
    "**Mutual Information** measures the **statistical dependence** between two variables, capturing **both linear and nonlinear relationships**. Unlike Pearson correlation (which only detects linear trends), MI quantifies how much knowing one variable reduces uncertainty about the other.  \n",
    "\n",
    "#### **Mathematical Definition**  \n",
    "For two continuous variables \\( X \\) and \\( Y \\):  \n",
    "\n",
    "$\\text{MI}(X, Y) = \\iint p(x, y) \\log \\left( \\frac{p(x, y)}{p(x)p(y)} \\right) dx \\, dy$  \n",
    "where:  \n",
    "- $( p(x, y) )$ = joint probability density.  \n",
    "- $( p(x), p(y) )$ = marginal densities.  \n",
    "\n",
    "**Key Properties**:  \n",
    "- $MI (\\geq 0)$ (0 means independent).  \n",
    "- Higher MI = stronger dependency.  \n"
   ]
  },
  {
   "cell_type": "markdown",
   "metadata": {
    "id": "yJk4WF4CdnCZ"
   },
   "source": [
    "## Used libraries"
   ]
  },
  {
   "cell_type": "code",
   "execution_count": 1,
   "metadata": {},
   "outputs": [],
   "source": [
    "import os\n",
    "os.environ[\"CUDA_VISIBLE_DEVICES\"] = \"-1\""
   ]
  },
  {
   "cell_type": "code",
   "execution_count": 2,
   "metadata": {},
   "outputs": [],
   "source": [
    "colab = False"
   ]
  },
  {
   "cell_type": "code",
   "execution_count": 3,
   "metadata": {
    "executionInfo": {
     "elapsed": 13,
     "status": "ok",
     "timestamp": 1754806314489,
     "user": {
      "displayName": "Alan Gabriel Amaro Colin",
      "userId": "17298980579619170060"
     },
     "user_tz": 360
    },
    "id": "B2LFMr_RRg1B"
   },
   "outputs": [
    {
     "name": "stderr",
     "output_type": "stream",
     "text": [
      "2025-08-19 21:01:21.311477: I tensorflow/core/platform/cpu_feature_guard.cc:210] This TensorFlow binary is optimized to use available CPU instructions in performance-critical operations.\n",
      "To enable the following instructions: FMA, in other operations, rebuild TensorFlow with the appropriate compiler flags.\n",
      "2025-08-19 21:01:22.766627: W tensorflow/compiler/tf2tensorrt/utils/py_utils.cc:38] TF-TRT Warning: Could not find TensorRT\n",
      "/home/alan-amaro/miniconda3/envs/farma/lib/python3.9/site-packages/requests/__init__.py:86: RequestsDependencyWarning: Unable to find acceptable character detection dependency (chardet or charset_normalizer).\n",
      "  warnings.warn(\n"
     ]
    }
   ],
   "source": [
    "if colab: \n",
    "    import sys\n",
    "    sys.path.append('/content/drive/MyDrive/Colaboracion_Quimica/Main_Codes/AutoEncoders/AmaroX/AmaroX')\n",
    "    ! pip install python-telegram-bot\n",
    "\n",
    "    from ai_functions import *\n",
    "    from ai_models import *\n",
    "    from utilities import *\n",
    "    from data_manipulation import *\n",
    "    import pandas as pd\n",
    "else: \n",
    "    from AmaroX.AmaroX.ai_functions import *\n",
    "    from AmaroX.AmaroX.ai_models import *\n",
    "    from AmaroX.AmaroX.utilities import *\n",
    "    from AmaroX.AmaroX.data_manipulation import *\n",
    "    import pandas as pd\n",
    "    import sklearn"
   ]
  },
  {
   "cell_type": "markdown",
   "metadata": {
    "id": "LMM15EIAeNMM"
   },
   "source": [
    "## Data"
   ]
  },
  {
   "cell_type": "markdown",
   "metadata": {
    "id": "dHUpPc5dfJrs"
   },
   "source": [
    "The data presented here corresponds to molecules with their SMILE representation and descriptors, along with the biological activity. Let's first do a quick view of the data shape."
   ]
  },
  {
   "cell_type": "markdown",
   "metadata": {
    "id": "QLDOuzTDDoW1"
   },
   "source": [
    "* All the data presented here was obtained by colaboration with Dr. Erick Padilla at Facultad de Estudios Superiores Zaragoza - UNAM."
   ]
  },
  {
   "cell_type": "markdown",
   "metadata": {
    "id": "wx7mCiFYeP_M"
   },
   "source": [
    "### Downloading the data"
   ]
  },
  {
   "cell_type": "code",
   "execution_count": 4,
   "metadata": {
    "colab": {
     "base_uri": "https://localhost:8080/"
    },
    "executionInfo": {
     "elapsed": 5366,
     "status": "ok",
     "timestamp": 1754806339684,
     "user": {
      "displayName": "Alan Gabriel Amaro Colin",
      "userId": "17298980579619170060"
     },
     "user_tz": 360
    },
    "id": "TaqYCyF_eN_W",
    "outputId": "9d2fe30a-81b4-455f-a99e-557a868d9c81"
   },
   "outputs": [],
   "source": [
    "if colab:\n",
    "    ! gdown --id 1cHM9neEhTOZ82UU9HaZkdGdlwE1d4SJT\n",
    "    ! gdown --id 1wZp9pou63ElEYyGGjBeC2pDtscgRgCpj"
   ]
  },
  {
   "cell_type": "markdown",
   "metadata": {
    "id": "wfg2b6FNfNIP"
   },
   "source": [
    "The _data.xlsx_ file contains all the molecular descriptors from the molecule, along with a SMILE representation."
   ]
  },
  {
   "cell_type": "code",
   "execution_count": 5,
   "metadata": {
    "executionInfo": {
     "elapsed": 7645,
     "status": "ok",
     "timestamp": 1754806347350,
     "user": {
      "displayName": "Alan Gabriel Amaro Colin",
      "userId": "17298980579619170060"
     },
     "user_tz": 360
    },
    "id": "OvBcuQFXeU5y"
   },
   "outputs": [],
   "source": [
    "compounds_md = pd.read_excel(\"/media/alan-amaro/XicoDisk/Data_Farma_FESZ/Antibiotics_71/Data/data.xlsx\")\n",
    "activity = pd.read_excel(\"/media/alan-amaro/XicoDisk/Data_Farma_FESZ/Antibiotics_71/Data/Actividad.xlsx\")"
   ]
  },
  {
   "cell_type": "code",
   "execution_count": 6,
   "metadata": {
    "colab": {
     "base_uri": "https://localhost:8080/",
     "height": 690
    },
    "executionInfo": {
     "elapsed": 246,
     "status": "ok",
     "timestamp": 1754806347594,
     "user": {
      "displayName": "Alan Gabriel Amaro Colin",
      "userId": "17298980579619170060"
     },
     "user_tz": 360
    },
    "id": "IixnVRP-eXsd",
    "outputId": "9f8d0e08-c3b5-4144-d0c5-3133d5f0667c"
   },
   "outputs": [
    {
     "data": {
      "text/html": [
       "<div>\n",
       "<style scoped>\n",
       "    .dataframe tbody tr th:only-of-type {\n",
       "        vertical-align: middle;\n",
       "    }\n",
       "\n",
       "    .dataframe tbody tr th {\n",
       "        vertical-align: top;\n",
       "    }\n",
       "\n",
       "    .dataframe thead th {\n",
       "        text-align: right;\n",
       "    }\n",
       "</style>\n",
       "<table border=\"1\" class=\"dataframe\">\n",
       "  <thead>\n",
       "    <tr style=\"text-align: right;\">\n",
       "      <th></th>\n",
       "      <th>Cmpd</th>\n",
       "      <th>SMILES</th>\n",
       "      <th>ABC</th>\n",
       "      <th>ABCGG</th>\n",
       "      <th>nAcid</th>\n",
       "      <th>nBase</th>\n",
       "      <th>SpAbs_A</th>\n",
       "      <th>SpMax_A</th>\n",
       "      <th>SpDiam_A</th>\n",
       "      <th>SpAD_A</th>\n",
       "      <th>...</th>\n",
       "      <th>SRW10</th>\n",
       "      <th>TSRW10</th>\n",
       "      <th>MW</th>\n",
       "      <th>AMW</th>\n",
       "      <th>WPath</th>\n",
       "      <th>WPol</th>\n",
       "      <th>Zagreb1</th>\n",
       "      <th>Zagreb2</th>\n",
       "      <th>mZagreb1</th>\n",
       "      <th>mZagreb2</th>\n",
       "    </tr>\n",
       "  </thead>\n",
       "  <tbody>\n",
       "    <tr>\n",
       "      <th>0</th>\n",
       "      <td>Compuesto original</td>\n",
       "      <td>O=C(N/1)/C(SC1=N/C2=NC3=CC=C(F)C=C3S2)=C/N4CCN...</td>\n",
       "      <td>module 'numpy' has no attribute 'float'.\\n `np...</td>\n",
       "      <td>module 'numpy' has no attribute 'float'.\\n `np...</td>\n",
       "      <td>0</td>\n",
       "      <td>3</td>\n",
       "      <td>34.64084</td>\n",
       "      <td>2.428932</td>\n",
       "      <td>4.709973</td>\n",
       "      <td>34.64084</td>\n",
       "      <td>...</td>\n",
       "      <td>10.158170</td>\n",
       "      <td>78.17227</td>\n",
       "      <td>405.1093</td>\n",
       "      <td>8.619347</td>\n",
       "      <td>2138</td>\n",
       "      <td>39</td>\n",
       "      <td>146</td>\n",
       "      <td>171</td>\n",
       "      <td>8.361111</td>\n",
       "      <td>5.750000</td>\n",
       "    </tr>\n",
       "    <tr>\n",
       "      <th>1</th>\n",
       "      <td>Compound 3</td>\n",
       "      <td>O=C1NC2=CC=C([H])C=C2/C1=N\\C3=CC=CC(Br)=N3</td>\n",
       "      <td>module 'numpy' has no attribute 'float'.\\n `np...</td>\n",
       "      <td>module 'numpy' has no attribute 'float'.\\n `np...</td>\n",
       "      <td>0</td>\n",
       "      <td>0</td>\n",
       "      <td>23.43385</td>\n",
       "      <td>2.452376</td>\n",
       "      <td>4.754134</td>\n",
       "      <td>23.43385</td>\n",
       "      <td>...</td>\n",
       "      <td>9.792612</td>\n",
       "      <td>65.48686</td>\n",
       "      <td>300.9851</td>\n",
       "      <td>11.576350</td>\n",
       "      <td>599</td>\n",
       "      <td>26</td>\n",
       "      <td>96</td>\n",
       "      <td>113</td>\n",
       "      <td>5.166667</td>\n",
       "      <td>3.916667</td>\n",
       "    </tr>\n",
       "    <tr>\n",
       "      <th>2</th>\n",
       "      <td>Compound 4</td>\n",
       "      <td>O=C1NC2=CC=CC=C2/C1=N\\C3=NC4=CC(OCC)=CC=C4S3</td>\n",
       "      <td>module 'numpy' has no attribute 'float'.\\n `np...</td>\n",
       "      <td>module 'numpy' has no attribute 'float'.\\n `np...</td>\n",
       "      <td>0</td>\n",
       "      <td>0</td>\n",
       "      <td>30.43085</td>\n",
       "      <td>2.474251</td>\n",
       "      <td>4.745881</td>\n",
       "      <td>30.43085</td>\n",
       "      <td>...</td>\n",
       "      <td>10.101640</td>\n",
       "      <td>73.78306</td>\n",
       "      <td>323.0728</td>\n",
       "      <td>8.974246</td>\n",
       "      <td>1245</td>\n",
       "      <td>35</td>\n",
       "      <td>126</td>\n",
       "      <td>151</td>\n",
       "      <td>6.138889</td>\n",
       "      <td>5.027778</td>\n",
       "    </tr>\n",
       "    <tr>\n",
       "      <th>3</th>\n",
       "      <td>Compound 8</td>\n",
       "      <td>O=C1NC2=CC=C(Br)C=C2/C1=N\\C3=CC=CC(F)=N3</td>\n",
       "      <td>module 'numpy' has no attribute 'float'.\\n `np...</td>\n",
       "      <td>module 'numpy' has no attribute 'float'.\\n `np...</td>\n",
       "      <td>0</td>\n",
       "      <td>0</td>\n",
       "      <td>24.52891</td>\n",
       "      <td>2.46582</td>\n",
       "      <td>4.787297</td>\n",
       "      <td>24.52891</td>\n",
       "      <td>...</td>\n",
       "      <td>9.873183</td>\n",
       "      <td>66.82214</td>\n",
       "      <td>318.9757</td>\n",
       "      <td>12.268290</td>\n",
       "      <td>693</td>\n",
       "      <td>28</td>\n",
       "      <td>102</td>\n",
       "      <td>120</td>\n",
       "      <td>6.027778</td>\n",
       "      <td>4.083333</td>\n",
       "    </tr>\n",
       "    <tr>\n",
       "      <th>4</th>\n",
       "      <td>Compound 9</td>\n",
       "      <td>O=C1NC2=CC=C(Br)C=C2/C1=N/C3=CC([N+]([O-])=O)=...</td>\n",
       "      <td>module 'numpy' has no attribute 'float'.\\n `np...</td>\n",
       "      <td>module 'numpy' has no attribute 'float'.\\n `np...</td>\n",
       "      <td>0</td>\n",
       "      <td>0</td>\n",
       "      <td>27.00118</td>\n",
       "      <td>2.467278</td>\n",
       "      <td>4.80069</td>\n",
       "      <td>27.00118</td>\n",
       "      <td>...</td>\n",
       "      <td>9.972407</td>\n",
       "      <td>69.29945</td>\n",
       "      <td>345.9702</td>\n",
       "      <td>12.356080</td>\n",
       "      <td>929</td>\n",
       "      <td>32</td>\n",
       "      <td>112</td>\n",
       "      <td>132</td>\n",
       "      <td>7.138889</td>\n",
       "      <td>4.527778</td>\n",
       "    </tr>\n",
       "  </tbody>\n",
       "</table>\n",
       "<p>5 rows × 1828 columns</p>\n",
       "</div>"
      ],
      "text/plain": [
       "                 Cmpd                                             SMILES  \\\n",
       "0  Compuesto original  O=C(N/1)/C(SC1=N/C2=NC3=CC=C(F)C=C3S2)=C/N4CCN...   \n",
       "1          Compound 3         O=C1NC2=CC=C([H])C=C2/C1=N\\C3=CC=CC(Br)=N3   \n",
       "2          Compound 4       O=C1NC2=CC=CC=C2/C1=N\\C3=NC4=CC(OCC)=CC=C4S3   \n",
       "3          Compound 8           O=C1NC2=CC=C(Br)C=C2/C1=N\\C3=CC=CC(F)=N3   \n",
       "4          Compound 9  O=C1NC2=CC=C(Br)C=C2/C1=N/C3=CC([N+]([O-])=O)=...   \n",
       "\n",
       "                                                 ABC  \\\n",
       "0  module 'numpy' has no attribute 'float'.\\n `np...   \n",
       "1  module 'numpy' has no attribute 'float'.\\n `np...   \n",
       "2  module 'numpy' has no attribute 'float'.\\n `np...   \n",
       "3  module 'numpy' has no attribute 'float'.\\n `np...   \n",
       "4  module 'numpy' has no attribute 'float'.\\n `np...   \n",
       "\n",
       "                                               ABCGG  nAcid  nBase   SpAbs_A  \\\n",
       "0  module 'numpy' has no attribute 'float'.\\n `np...      0      3  34.64084   \n",
       "1  module 'numpy' has no attribute 'float'.\\n `np...      0      0  23.43385   \n",
       "2  module 'numpy' has no attribute 'float'.\\n `np...      0      0  30.43085   \n",
       "3  module 'numpy' has no attribute 'float'.\\n `np...      0      0  24.52891   \n",
       "4  module 'numpy' has no attribute 'float'.\\n `np...      0      0  27.00118   \n",
       "\n",
       "    SpMax_A  SpDiam_A    SpAD_A  ...      SRW10    TSRW10        MW  \\\n",
       "0  2.428932  4.709973  34.64084  ...  10.158170  78.17227  405.1093   \n",
       "1  2.452376  4.754134  23.43385  ...   9.792612  65.48686  300.9851   \n",
       "2  2.474251  4.745881  30.43085  ...  10.101640  73.78306  323.0728   \n",
       "3   2.46582  4.787297  24.52891  ...   9.873183  66.82214  318.9757   \n",
       "4  2.467278   4.80069  27.00118  ...   9.972407  69.29945  345.9702   \n",
       "\n",
       "         AMW WPath WPol Zagreb1 Zagreb2  mZagreb1  mZagreb2  \n",
       "0   8.619347  2138   39     146     171  8.361111  5.750000  \n",
       "1  11.576350   599   26      96     113  5.166667  3.916667  \n",
       "2   8.974246  1245   35     126     151  6.138889  5.027778  \n",
       "3  12.268290   693   28     102     120  6.027778  4.083333  \n",
       "4  12.356080   929   32     112     132  7.138889  4.527778  \n",
       "\n",
       "[5 rows x 1828 columns]"
      ]
     },
     "execution_count": 6,
     "metadata": {},
     "output_type": "execute_result"
    }
   ],
   "source": [
    "compounds_md.head()"
   ]
  },
  {
   "cell_type": "code",
   "execution_count": 7,
   "metadata": {
    "colab": {
     "base_uri": "https://localhost:8080/"
    },
    "executionInfo": {
     "elapsed": 152,
     "status": "ok",
     "timestamp": 1754806347984,
     "user": {
      "displayName": "Alan Gabriel Amaro Colin",
      "userId": "17298980579619170060"
     },
     "user_tz": 360
    },
    "id": "FwOMTbIfeZxe",
    "outputId": "d4e19ab7-1e86-4f28-c0cc-72e1b71f5ebc"
   },
   "outputs": [
    {
     "data": {
      "text/plain": [
       "(71, 1828)"
      ]
     },
     "execution_count": 7,
     "metadata": {},
     "output_type": "execute_result"
    }
   ],
   "source": [
    "compounds_md.shape"
   ]
  },
  {
   "cell_type": "code",
   "execution_count": 8,
   "metadata": {
    "colab": {
     "base_uri": "https://localhost:8080/",
     "height": 206
    },
    "executionInfo": {
     "elapsed": 68,
     "status": "ok",
     "timestamp": 1754806348065,
     "user": {
      "displayName": "Alan Gabriel Amaro Colin",
      "userId": "17298980579619170060"
     },
     "user_tz": 360
    },
    "id": "ab4UBiBFecAa",
    "outputId": "64071620-080b-4b49-bca8-25cc92379fd5"
   },
   "outputs": [
    {
     "data": {
      "text/html": [
       "<div>\n",
       "<style scoped>\n",
       "    .dataframe tbody tr th:only-of-type {\n",
       "        vertical-align: middle;\n",
       "    }\n",
       "\n",
       "    .dataframe tbody tr th {\n",
       "        vertical-align: top;\n",
       "    }\n",
       "\n",
       "    .dataframe thead th {\n",
       "        text-align: right;\n",
       "    }\n",
       "</style>\n",
       "<table border=\"1\" class=\"dataframe\">\n",
       "  <thead>\n",
       "    <tr style=\"text-align: right;\">\n",
       "      <th></th>\n",
       "      <th>Activity</th>\n",
       "    </tr>\n",
       "  </thead>\n",
       "  <tbody>\n",
       "    <tr>\n",
       "      <th>0</th>\n",
       "      <td>5.005513</td>\n",
       "    </tr>\n",
       "    <tr>\n",
       "      <th>1</th>\n",
       "      <td>4.381642</td>\n",
       "    </tr>\n",
       "    <tr>\n",
       "      <th>2</th>\n",
       "      <td>4.114064</td>\n",
       "    </tr>\n",
       "    <tr>\n",
       "      <th>3</th>\n",
       "      <td>5.012402</td>\n",
       "    </tr>\n",
       "    <tr>\n",
       "      <th>4</th>\n",
       "      <td>5.047677</td>\n",
       "    </tr>\n",
       "  </tbody>\n",
       "</table>\n",
       "</div>"
      ],
      "text/plain": [
       "   Activity\n",
       "0  5.005513\n",
       "1  4.381642\n",
       "2  4.114064\n",
       "3  5.012402\n",
       "4  5.047677"
      ]
     },
     "execution_count": 8,
     "metadata": {},
     "output_type": "execute_result"
    }
   ],
   "source": [
    "activity.head()"
   ]
  },
  {
   "cell_type": "code",
   "execution_count": 9,
   "metadata": {
    "colab": {
     "base_uri": "https://localhost:8080/"
    },
    "executionInfo": {
     "elapsed": 37,
     "status": "ok",
     "timestamp": 1754806348116,
     "user": {
      "displayName": "Alan Gabriel Amaro Colin",
      "userId": "17298980579619170060"
     },
     "user_tz": 360
    },
    "id": "fYz-3Re2eebA",
    "outputId": "1a9bb07d-d21a-4ca2-b93e-a21af222060c"
   },
   "outputs": [
    {
     "data": {
      "text/plain": [
       "(71, 1)"
      ]
     },
     "execution_count": 9,
     "metadata": {},
     "output_type": "execute_result"
    }
   ],
   "source": [
    "activity.shape"
   ]
  },
  {
   "cell_type": "markdown",
   "metadata": {
    "id": "IIU9JDRgfUWk"
   },
   "source": [
    "* The variable _x_ are the molecular descriptors, we're only interested in numerical properties:"
   ]
  },
  {
   "cell_type": "code",
   "execution_count": 10,
   "metadata": {
    "executionInfo": {
     "elapsed": 376,
     "status": "ok",
     "timestamp": 1754806348504,
     "user": {
      "displayName": "Alan Gabriel Amaro Colin",
      "userId": "17298980579619170060"
     },
     "user_tz": 360
    },
    "id": "OVvrgkBqeeXy"
   },
   "outputs": [],
   "source": [
    "x = compounds_md.copy()\n",
    "x = x.select_dtypes(\"number\")"
   ]
  },
  {
   "cell_type": "markdown",
   "metadata": {
    "id": "eyw0iNEPfbKq"
   },
   "source": [
    "## Applying Mutual Information to Molecular Descriptors"
   ]
  },
  {
   "cell_type": "markdown",
   "metadata": {
    "id": "EPCBSQMBbNf5"
   },
   "source": [
    "In the previous notebook, we have selected 3 molecular descriptors that are independent among them and present a high MI with respect to the bio-activity."
   ]
  },
  {
   "cell_type": "code",
   "execution_count": 11,
   "metadata": {
    "colab": {
     "base_uri": "https://localhost:8080/"
    },
    "executionInfo": {
     "elapsed": 376,
     "status": "ok",
     "timestamp": 1754806348508,
     "user": {
      "displayName": "Alan Gabriel Amaro Colin",
      "userId": "17298980579619170060"
     },
     "user_tz": 360
    },
    "id": "_55TahzCbUiO",
    "outputId": "943e13b7-622c-4195-98d9-39b408322575"
   },
   "outputs": [
    {
     "data": {
      "text/plain": [
       "(71, 2)"
      ]
     },
     "execution_count": 11,
     "metadata": {},
     "output_type": "execute_result"
    }
   ],
   "source": [
    "x_array = np.array(x[ ['piPC4', 'GATS3i'] ])\n",
    "x_array.shape"
   ]
  },
  {
   "cell_type": "code",
   "execution_count": 12,
   "metadata": {
    "colab": {
     "base_uri": "https://localhost:8080/"
    },
    "executionInfo": {
     "elapsed": 33,
     "status": "ok",
     "timestamp": 1754806348544,
     "user": {
      "displayName": "Alan Gabriel Amaro Colin",
      "userId": "17298980579619170060"
     },
     "user_tz": 360
    },
    "id": "qIbrbX4NblAQ",
    "outputId": "8060c218-8830-43f7-80c7-4d321cf844f1"
   },
   "outputs": [
    {
     "data": {
      "text/plain": [
       "(71,)"
      ]
     },
     "execution_count": 12,
     "metadata": {},
     "output_type": "execute_result"
    }
   ],
   "source": [
    "y_array = np.array( activity )[:, 0]\n",
    "y_array.shape"
   ]
  },
  {
   "cell_type": "markdown",
   "metadata": {
    "id": "HIvdru7Qb6n4"
   },
   "source": [
    "## Standarize Features"
   ]
  },
  {
   "cell_type": "code",
   "execution_count": 13,
   "metadata": {
    "executionInfo": {
     "elapsed": 35,
     "status": "ok",
     "timestamp": 1754806348583,
     "user": {
      "displayName": "Alan Gabriel Amaro Colin",
      "userId": "17298980579619170060"
     },
     "user_tz": 360
    },
    "id": "-4P8uMr8b8FA"
   },
   "outputs": [],
   "source": [
    "from sklearn.preprocessing import StandardScaler\n",
    "scaler = StandardScaler()"
   ]
  },
  {
   "cell_type": "code",
   "execution_count": 14,
   "metadata": {
    "colab": {
     "base_uri": "https://localhost:8080/"
    },
    "executionInfo": {
     "elapsed": 32,
     "status": "ok",
     "timestamp": 1754806348587,
     "user": {
      "displayName": "Alan Gabriel Amaro Colin",
      "userId": "17298980579619170060"
     },
     "user_tz": 360
    },
    "id": "Q1DtBVx8cGc3",
    "outputId": "e5a919ce-b9c7-4089-f736-f68d0234fcd6"
   },
   "outputs": [
    {
     "data": {
      "text/plain": [
       "(71, 2)"
      ]
     },
     "execution_count": 14,
     "metadata": {},
     "output_type": "execute_result"
    }
   ],
   "source": [
    "x_std = scaler.fit_transform(x_array)\n",
    "x_std.shape"
   ]
  },
  {
   "cell_type": "code",
   "execution_count": 15,
   "metadata": {
    "colab": {
     "base_uri": "https://localhost:8080/",
     "height": 469
    },
    "executionInfo": {
     "elapsed": 55,
     "status": "ok",
     "timestamp": 1754806348632,
     "user": {
      "displayName": "Alan Gabriel Amaro Colin",
      "userId": "17298980579619170060"
     },
     "user_tz": 360
    },
    "id": "TCAnYfB9cNJM",
    "outputId": "c67d1f14-718a-436c-c411-504973177ba7"
   },
   "outputs": [
    {
     "data": {
      "image/png": "[encoded data removed]",
      "text/plain": [
       "<Figure size 640x480 with 1 Axes>"
      ]
     },
     "metadata": {},
     "output_type": "display_data"
    },
    {
     "name": "stdout",
     "output_type": "stream",
     "text": [
      "The corresponding y element -> 6.01823226\n"
     ]
    }
   ],
   "source": [
    "plot_xy([x_std, y_array])"
   ]
  },
  {
   "cell_type": "markdown",
   "metadata": {
    "id": "lEUasbz0fl5I"
   },
   "source": [
    "## Splitting Train and Test"
   ]
  },
  {
   "cell_type": "code",
   "execution_count": 16,
   "metadata": {},
   "outputs": [],
   "source": [
    "N_BINS=7 ##discretizer, this was 10 before\n",
    "N_SPLITS=7 ##splitter\n",
    "TEST_SIZE=21/70 ##splitter"
   ]
  },
  {
   "cell_type": "code",
   "execution_count": 17,
   "metadata": {},
   "outputs": [],
   "source": [
    "# dividimos train test con stratified\n",
    "discretizer = sklearn.preprocessing.KBinsDiscretizer(n_bins=N_BINS, encode=\"ordinal\", strategy=\"uniform\")\n",
    "splitter = sklearn.model_selection.StratifiedShuffleSplit(n_splits=N_SPLITS,test_size=TEST_SIZE, random_state=13)\n",
    "y_discrete = discretizer.fit_transform(np.expand_dims(y_array, axis = -1))\n",
    "split, split_test = next(splitter.split(np.expand_dims(x_std, axis = -1), y_discrete ))"
   ]
  },
  {
   "cell_type": "code",
   "execution_count": 18,
   "metadata": {},
   "outputs": [],
   "source": [
    "x_train = x_std[split]\n",
    "x_test = x_std[split_test]\n",
    "y_train = y_array[split]\n",
    "y_test = y_array[split_test]"
   ]
  },
  {
   "cell_type": "code",
   "execution_count": 19,
   "metadata": {},
   "outputs": [
    {
     "data": {
      "text/plain": [
       "((49, 2), (22, 2))"
      ]
     },
     "execution_count": 19,
     "metadata": {},
     "output_type": "execute_result"
    }
   ],
   "source": [
    "x_train.shape, x_test.shape"
   ]
  },
  {
   "cell_type": "code",
   "execution_count": 20,
   "metadata": {
    "colab": {
     "base_uri": "https://localhost:8080/",
     "height": 407
    },
    "executionInfo": {
     "elapsed": 290,
     "status": "ok",
     "timestamp": 1754806349003,
     "user": {
      "displayName": "Alan Gabriel Amaro Colin",
      "userId": "17298980579619170060"
     },
     "user_tz": 360
    },
    "id": "jw21eFGscdx1",
    "outputId": "697e87b9-d7bd-495f-de24-7f265201b3e5"
   },
   "outputs": [
    {
     "data": {
      "image/png": "[encoded data removed]",
      "text/plain": [
       "<Figure size 1000x400 with 2 Axes>"
      ]
     },
     "metadata": {},
     "output_type": "display_data"
    }
   ],
   "source": [
    "# Crear una figura con dos subplots en horizontal (1 fila, 2 columnas)\n",
    "fig, (ax1, ax2) = plt.subplots(1, 2, figsize=(10, 4))  # figsize ajusta el tamaño\n",
    "\n",
    "# Graficar la primera curva en el primer subplot\n",
    "ax1.hist(y_train, color='blue', label='train', bins = 7, edgecolor = 'black')\n",
    "ax1.set_title('Train Density')\n",
    "ax1.set_xlabel('x')\n",
    "ax1.set_ylabel('y')\n",
    "ax1.grid()\n",
    "ax1.legend()\n",
    "\n",
    "# Graficar la segunda curva en el segundo subplot\n",
    "ax2.hist(y_test, color='red', label='test', bins = 7, edgecolor = 'black')\n",
    "ax2.set_title('Test Density')\n",
    "ax2.set_xlabel('x')\n",
    "ax2.set_ylabel('y')\n",
    "ax2.grid()\n",
    "ax2.legend()\n",
    "\n",
    "# Ajustar el espacio entre los subplots\n",
    "plt.tight_layout()\n",
    "\n",
    "# Mostrar la figura\n",
    "plt.show()"
   ]
  },
  {
   "cell_type": "markdown",
   "metadata": {},
   "source": [
    "## K-Folds"
   ]
  },
  {
   "cell_type": "markdown",
   "metadata": {},
   "source": [
    "In this section we generate the _sub train_ and validation sets. "
   ]
  },
  {
   "cell_type": "code",
   "execution_count": 21,
   "metadata": {},
   "outputs": [],
   "source": [
    "from sklearn.model_selection import StratifiedKFold\n",
    "from sklearn.datasets import make_regression"
   ]
  },
  {
   "cell_type": "code",
   "execution_count": 22,
   "metadata": {},
   "outputs": [],
   "source": [
    "# Convert the continuous target into bins\n",
    "y_binned = np.floor(\n",
    "    np.interp(y_train, (y_train.min(), y_train.max()), (0, N_BINS ))\n",
    "    ).astype(int)"
   ]
  },
  {
   "cell_type": "code",
   "execution_count": 23,
   "metadata": {},
   "outputs": [],
   "source": [
    "# Create StratifiedKFold with shuffle and seed\n",
    "skf = StratifiedKFold(n_splits=N_BINS, shuffle=True, random_state=1360)"
   ]
  },
  {
   "cell_type": "code",
   "execution_count": 24,
   "metadata": {},
   "outputs": [
    {
     "name": "stderr",
     "output_type": "stream",
     "text": [
      "/home/alan-amaro/miniconda3/envs/farma/lib/python3.9/site-packages/sklearn/model_selection/_split.py:805: UserWarning: The least populated class in y has only 1 members, which is less than n_splits=7.\n",
      "  warnings.warn(\n"
     ]
    }
   ],
   "source": [
    "# Use the binned labels for stratification\n",
    "folds = []\n",
    "for fold, (train_idx, test_idx) in enumerate(skf.split(x_train, y_binned)):\n",
    "    _x_train, x_val = x_train[train_idx], x_train[test_idx]\n",
    "    _y_train, y_val = y_train[train_idx], y_train[test_idx]\n",
    "    folds.append([_x_train, x_val, _y_train, y_val])"
   ]
  },
  {
   "cell_type": "code",
   "execution_count": 25,
   "metadata": {},
   "outputs": [
    {
     "name": "stdin",
     "output_type": "stream",
     "text": [
      "Selecciona el K:  6\n"
     ]
    }
   ],
   "source": [
    "kint = int(input('Selecciona el K: '))"
   ]
  },
  {
   "cell_type": "code",
   "execution_count": 26,
   "metadata": {},
   "outputs": [],
   "source": [
    "x_train = folds[kint][0]\n",
    "x_val = folds[kint][1]\n",
    "y_train = folds[kint][2]\n",
    "y_val = folds[kint][3]"
   ]
  },
  {
   "cell_type": "code",
   "execution_count": 27,
   "metadata": {},
   "outputs": [
    {
     "data": {
      "text/plain": [
       "((42, 2), (7, 2))"
      ]
     },
     "execution_count": 27,
     "metadata": {},
     "output_type": "execute_result"
    }
   ],
   "source": [
    "x_train.shape, x_val.shape"
   ]
  },
  {
   "cell_type": "markdown",
   "metadata": {
    "id": "XESiE4f0cr7l"
   },
   "source": [
    "## Paths"
   ]
  },
  {
   "cell_type": "code",
   "execution_count": 28,
   "metadata": {
    "executionInfo": {
     "elapsed": 229,
     "status": "ok",
     "timestamp": 1754806349006,
     "user": {
      "displayName": "Alan Gabriel Amaro Colin",
      "userId": "17298980579619170060"
     },
     "user_tz": 360
    },
    "id": "hUxyWpwpcsqz"
   },
   "outputs": [],
   "source": [
    "name = 'DNN_MI_2_FULL_Fold_{}'.format(kint)\n",
    "if colab:\n",
    "    folder_path = '/content/drive/MyDrive/Colaboracion_Quimica/Main_Codes/AutoEncoders/models'\n",
    "else: \n",
    "    folder_path = '../models'\n",
    "    \n",
    "final_path = os.path.join(folder_path, name)"
   ]
  },
  {
   "cell_type": "markdown",
   "metadata": {
    "id": "aGZb-3Wacw2F"
   },
   "source": [
    "## Callbacks"
   ]
  },
  {
   "cell_type": "code",
   "execution_count": 29,
   "metadata": {
    "executionInfo": {
     "elapsed": 96,
     "status": "ok",
     "timestamp": 1754806349012,
     "user": {
      "displayName": "Alan Gabriel Amaro Colin",
      "userId": "17298980579619170060"
     },
     "user_tz": 360
    },
    "id": "UX_yCOQicxnI"
   },
   "outputs": [],
   "source": [
    "callbacks = standard_callbacks(folder_name= name,\n",
    "                               folder_path= folder_path,\n",
    "                               patiences= [120, 1000], # 50 epochs without progress, and 2 epochs to reduce LR\n",
    "                               monitor = 'val_r2_score',\n",
    "                               flow_direction = 'max')"
   ]
  },
  {
   "cell_type": "markdown",
   "metadata": {},
   "source": [
    "## Seed"
   ]
  },
  {
   "cell_type": "code",
   "execution_count": 30,
   "metadata": {},
   "outputs": [],
   "source": [
    "keras.utils.set_random_seed(1360)"
   ]
  },
  {
   "cell_type": "markdown",
   "metadata": {
    "id": "9cSL15E6c1zb"
   },
   "source": [
    "## DNN Model"
   ]
  },
  {
   "cell_type": "code",
   "execution_count": 31,
   "metadata": {
    "executionInfo": {
     "elapsed": 65,
     "status": "ok",
     "timestamp": 1754806349015,
     "user": {
      "displayName": "Alan Gabriel Amaro Colin",
      "userId": "17298980579619170060"
     },
     "user_tz": 360
    },
    "id": "qtUfEOFpczgn"
   },
   "outputs": [],
   "source": [
    "def _DNN():\n",
    "\n",
    "  inputs = keras.layers.Input((2,))\n",
    "\n",
    "  _DNN_ = G_Dense(\n",
    "      inputs = inputs,\n",
    "      nodes = [32, 161],\n",
    "      DP = 5,\n",
    "      n_final = 1,\n",
    "      act_func = 'leaky_relu',\n",
    "      final_act_func = 'relu',\n",
    "      WI = 'he_normal',\n",
    "      L1 = 0.0,\n",
    "      L2 = 0.0,\n",
    "      use_bias = True\n",
    "  )\n",
    "\n",
    "  return keras.models.Model(inputs = inputs, outputs = _DNN_)"
   ]
  },
  {
   "cell_type": "code",
   "execution_count": 32,
   "metadata": {
    "executionInfo": {
     "elapsed": 60,
     "status": "ok",
     "timestamp": 1754806349047,
     "user": {
      "displayName": "Alan Gabriel Amaro Colin",
      "userId": "17298980579619170060"
     },
     "user_tz": 360
    },
    "id": "KKix552XddZ9"
   },
   "outputs": [
    {
     "name": "stderr",
     "output_type": "stream",
     "text": [
      "2025-08-19 20:27:49.022273: E external/local_xla/xla/stream_executor/cuda/cuda_driver.cc:282] failed call to cuInit: CUDA_ERROR_NO_DEVICE: no CUDA-capable device is detected\n",
      "2025-08-19 20:27:49.022327: I external/local_xla/xla/stream_executor/cuda/cuda_diagnostics.cc:134] retrieving CUDA diagnostic information for host: alan-amaro-Nvidia\n",
      "2025-08-19 20:27:49.022343: I external/local_xla/xla/stream_executor/cuda/cuda_diagnostics.cc:141] hostname: alan-amaro-Nvidia\n",
      "2025-08-19 20:27:49.022643: I external/local_xla/xla/stream_executor/cuda/cuda_diagnostics.cc:165] libcuda reported version is: 570.169.0\n",
      "2025-08-19 20:27:49.022686: I external/local_xla/xla/stream_executor/cuda/cuda_diagnostics.cc:169] kernel reported version is: 570.169.0\n",
      "2025-08-19 20:27:49.022716: I external/local_xla/xla/stream_executor/cuda/cuda_diagnostics.cc:248] kernel version seems to match DSO: 570.169.0\n"
     ]
    }
   ],
   "source": [
    "model_DNN= _DNN()"
   ]
  },
  {
   "cell_type": "code",
   "execution_count": 33,
   "metadata": {
    "executionInfo": {
     "elapsed": 28,
     "status": "ok",
     "timestamp": 1754806349065,
     "user": {
      "displayName": "Alan Gabriel Amaro Colin",
      "userId": "17298980579619170060"
     },
     "user_tz": 360
    },
    "id": "Cj5XW39qdqDA"
   },
   "outputs": [],
   "source": [
    "model_DNN.compile(optimizer = keras.optimizers.Adam(),\n",
    "                    loss = 'mae',\n",
    "                    metrics = ['mape', 'r2_score'])"
   ]
  },
  {
   "cell_type": "code",
   "execution_count": 34,
   "metadata": {
    "executionInfo": {
     "elapsed": 165,
     "status": "ok",
     "timestamp": 1754806349225,
     "user": {
      "displayName": "Alan Gabriel Amaro Colin",
      "userId": "17298980579619170060"
     },
     "user_tz": 360
    },
    "id": "tRGw7jGHdz-e"
   },
   "outputs": [
    {
     "name": "stdout",
     "output_type": "stream",
     "text": [
      "You must install graphviz (see instructions at https://graphviz.gitlab.io/download/) for `plot_model` to work.\n"
     ]
    }
   ],
   "source": [
    "get_plot_model(model_DNN, folder_path= final_path)"
   ]
  },
  {
   "cell_type": "code",
   "execution_count": 35,
   "metadata": {
    "colab": {
     "base_uri": "https://localhost:8080/",
     "height": 561
    },
    "executionInfo": {
     "elapsed": 943,
     "status": "ok",
     "timestamp": 1754806350177,
     "user": {
      "displayName": "Alan Gabriel Amaro Colin",
      "userId": "17298980579619170060"
     },
     "user_tz": 360
    },
    "id": "2zVTR0NDd198",
    "outputId": "43756354-a27f-41f3-d829-9ac2675f62bf"
   },
   "outputs": [
    {
     "data": {
      "text/html": [
       "<pre style=\"white-space:pre;overflow-x:auto;line-height:normal;font-family:Menlo,'DejaVu Sans Mono',consolas,'Courier New',monospace\"><span style=\"font-weight: bold\">Model: \"functional\"</span>\n",
       "</pre>\n"
      ],
      "text/plain": [
       "\u001b[1mModel: \"functional\"\u001b[0m\n"
      ]
     },
     "metadata": {},
     "output_type": "display_data"
    },
    {
     "data": {
      "text/html": [
       "<pre style=\"white-space:pre;overflow-x:auto;line-height:normal;font-family:Menlo,'DejaVu Sans Mono',consolas,'Courier New',monospace\">┏━━━━━━━━━━━━━━━━━━━━━━━━━━━━━━━━━┳━━━━━━━━━━━━━━━━━━━━━━━━┳━━━━━━━━━━━━━━━┓\n",
       "┃<span style=\"font-weight: bold\"> Layer (type)                    </span>┃<span style=\"font-weight: bold\"> Output Shape           </span>┃<span style=\"font-weight: bold\">       Param # </span>┃\n",
       "┡━━━━━━━━━━━━━━━━━━━━━━━━━━━━━━━━━╇━━━━━━━━━━━━━━━━━━━━━━━━╇━━━━━━━━━━━━━━━┩\n",
       "│ input_layer (<span style=\"color: #0087ff; text-decoration-color: #0087ff\">InputLayer</span>)        │ (<span style=\"color: #00d7ff; text-decoration-color: #00d7ff\">None</span>, <span style=\"color: #00af00; text-decoration-color: #00af00\">2</span>)              │             <span style=\"color: #00af00; text-decoration-color: #00af00\">0</span> │\n",
       "├─────────────────────────────────┼────────────────────────┼───────────────┤\n",
       "│ dense (<span style=\"color: #0087ff; text-decoration-color: #0087ff\">Dense</span>)                   │ (<span style=\"color: #00d7ff; text-decoration-color: #00d7ff\">None</span>, <span style=\"color: #00af00; text-decoration-color: #00af00\">32</span>)             │            <span style=\"color: #00af00; text-decoration-color: #00af00\">96</span> │\n",
       "├─────────────────────────────────┼────────────────────────┼───────────────┤\n",
       "│ dropout (<span style=\"color: #0087ff; text-decoration-color: #0087ff\">Dropout</span>)               │ (<span style=\"color: #00d7ff; text-decoration-color: #00d7ff\">None</span>, <span style=\"color: #00af00; text-decoration-color: #00af00\">32</span>)             │             <span style=\"color: #00af00; text-decoration-color: #00af00\">0</span> │\n",
       "├─────────────────────────────────┼────────────────────────┼───────────────┤\n",
       "│ batch_normalization             │ (<span style=\"color: #00d7ff; text-decoration-color: #00d7ff\">None</span>, <span style=\"color: #00af00; text-decoration-color: #00af00\">32</span>)             │           <span style=\"color: #00af00; text-decoration-color: #00af00\">128</span> │\n",
       "│ (<span style=\"color: #0087ff; text-decoration-color: #0087ff\">BatchNormalization</span>)            │                        │               │\n",
       "├─────────────────────────────────┼────────────────────────┼───────────────┤\n",
       "│ dense_1 (<span style=\"color: #0087ff; text-decoration-color: #0087ff\">Dense</span>)                 │ (<span style=\"color: #00d7ff; text-decoration-color: #00d7ff\">None</span>, <span style=\"color: #00af00; text-decoration-color: #00af00\">161</span>)            │         <span style=\"color: #00af00; text-decoration-color: #00af00\">5,313</span> │\n",
       "├─────────────────────────────────┼────────────────────────┼───────────────┤\n",
       "│ dropout_1 (<span style=\"color: #0087ff; text-decoration-color: #0087ff\">Dropout</span>)             │ (<span style=\"color: #00d7ff; text-decoration-color: #00d7ff\">None</span>, <span style=\"color: #00af00; text-decoration-color: #00af00\">161</span>)            │             <span style=\"color: #00af00; text-decoration-color: #00af00\">0</span> │\n",
       "├─────────────────────────────────┼────────────────────────┼───────────────┤\n",
       "│ batch_normalization_1           │ (<span style=\"color: #00d7ff; text-decoration-color: #00d7ff\">None</span>, <span style=\"color: #00af00; text-decoration-color: #00af00\">161</span>)            │           <span style=\"color: #00af00; text-decoration-color: #00af00\">644</span> │\n",
       "│ (<span style=\"color: #0087ff; text-decoration-color: #0087ff\">BatchNormalization</span>)            │                        │               │\n",
       "├─────────────────────────────────┼────────────────────────┼───────────────┤\n",
       "│ dense_2 (<span style=\"color: #0087ff; text-decoration-color: #0087ff\">Dense</span>)                 │ (<span style=\"color: #00d7ff; text-decoration-color: #00d7ff\">None</span>, <span style=\"color: #00af00; text-decoration-color: #00af00\">1</span>)              │           <span style=\"color: #00af00; text-decoration-color: #00af00\">162</span> │\n",
       "└─────────────────────────────────┴────────────────────────┴───────────────┘\n",
       "</pre>\n"
      ],
      "text/plain": [
       "┏━━━━━━━━━━━━━━━━━━━━━━━━━━━━━━━━━┳━━━━━━━━━━━━━━━━━━━━━━━━┳━━━━━━━━━━━━━━━┓\n",
       "┃\u001b[1m \u001b[0m\u001b[1mLayer (type)                   \u001b[0m\u001b[1m \u001b[0m┃\u001b[1m \u001b[0m\u001b[1mOutput Shape          \u001b[0m\u001b[1m \u001b[0m┃\u001b[1m \u001b[0m\u001b[1m      Param #\u001b[0m\u001b[1m \u001b[0m┃\n",
       "┡━━━━━━━━━━━━━━━━━━━━━━━━━━━━━━━━━╇━━━━━━━━━━━━━━━━━━━━━━━━╇━━━━━━━━━━━━━━━┩\n",
       "│ input_layer (\u001b[38;5;33mInputLayer\u001b[0m)        │ (\u001b[38;5;45mNone\u001b[0m, \u001b[38;5;34m2\u001b[0m)              │             \u001b[38;5;34m0\u001b[0m │\n",
       "├─────────────────────────────────┼────────────────────────┼───────────────┤\n",
       "│ dense (\u001b[38;5;33mDense\u001b[0m)                   │ (\u001b[38;5;45mNone\u001b[0m, \u001b[38;5;34m32\u001b[0m)             │            \u001b[38;5;34m96\u001b[0m │\n",
       "├─────────────────────────────────┼────────────────────────┼───────────────┤\n",
       "│ dropout (\u001b[38;5;33mDropout\u001b[0m)               │ (\u001b[38;5;45mNone\u001b[0m, \u001b[38;5;34m32\u001b[0m)             │             \u001b[38;5;34m0\u001b[0m │\n",
       "├─────────────────────────────────┼────────────────────────┼───────────────┤\n",
       "│ batch_normalization             │ (\u001b[38;5;45mNone\u001b[0m, \u001b[38;5;34m32\u001b[0m)             │           \u001b[38;5;34m128\u001b[0m │\n",
       "│ (\u001b[38;5;33mBatchNormalization\u001b[0m)            │                        │               │\n",
       "├─────────────────────────────────┼────────────────────────┼───────────────┤\n",
       "│ dense_1 (\u001b[38;5;33mDense\u001b[0m)                 │ (\u001b[38;5;45mNone\u001b[0m, \u001b[38;5;34m161\u001b[0m)            │         \u001b[38;5;34m5,313\u001b[0m │\n",
       "├─────────────────────────────────┼────────────────────────┼───────────────┤\n",
       "│ dropout_1 (\u001b[38;5;33mDropout\u001b[0m)             │ (\u001b[38;5;45mNone\u001b[0m, \u001b[38;5;34m161\u001b[0m)            │             \u001b[38;5;34m0\u001b[0m │\n",
       "├─────────────────────────────────┼────────────────────────┼───────────────┤\n",
       "│ batch_normalization_1           │ (\u001b[38;5;45mNone\u001b[0m, \u001b[38;5;34m161\u001b[0m)            │           \u001b[38;5;34m644\u001b[0m │\n",
       "│ (\u001b[38;5;33mBatchNormalization\u001b[0m)            │                        │               │\n",
       "├─────────────────────────────────┼────────────────────────┼───────────────┤\n",
       "│ dense_2 (\u001b[38;5;33mDense\u001b[0m)                 │ (\u001b[38;5;45mNone\u001b[0m, \u001b[38;5;34m1\u001b[0m)              │           \u001b[38;5;34m162\u001b[0m │\n",
       "└─────────────────────────────────┴────────────────────────┴───────────────┘\n"
      ]
     },
     "metadata": {},
     "output_type": "display_data"
    },
    {
     "data": {
      "text/html": [
       "<pre style=\"white-space:pre;overflow-x:auto;line-height:normal;font-family:Menlo,'DejaVu Sans Mono',consolas,'Courier New',monospace\"><span style=\"font-weight: bold\"> Total params: </span><span style=\"color: #00af00; text-decoration-color: #00af00\">6,343</span> (24.78 KB)\n",
       "</pre>\n"
      ],
      "text/plain": [
       "\u001b[1m Total params: \u001b[0m\u001b[38;5;34m6,343\u001b[0m (24.78 KB)\n"
      ]
     },
     "metadata": {},
     "output_type": "display_data"
    },
    {
     "data": {
      "text/html": [
       "<pre style=\"white-space:pre;overflow-x:auto;line-height:normal;font-family:Menlo,'DejaVu Sans Mono',consolas,'Courier New',monospace\"><span style=\"font-weight: bold\"> Trainable params: </span><span style=\"color: #00af00; text-decoration-color: #00af00\">5,957</span> (23.27 KB)\n",
       "</pre>\n"
      ],
      "text/plain": [
       "\u001b[1m Trainable params: \u001b[0m\u001b[38;5;34m5,957\u001b[0m (23.27 KB)\n"
      ]
     },
     "metadata": {},
     "output_type": "display_data"
    },
    {
     "data": {
      "text/html": [
       "<pre style=\"white-space:pre;overflow-x:auto;line-height:normal;font-family:Menlo,'DejaVu Sans Mono',consolas,'Courier New',monospace\"><span style=\"font-weight: bold\"> Non-trainable params: </span><span style=\"color: #00af00; text-decoration-color: #00af00\">386</span> (1.51 KB)\n",
       "</pre>\n"
      ],
      "text/plain": [
       "\u001b[1m Non-trainable params: \u001b[0m\u001b[38;5;34m386\u001b[0m (1.51 KB)\n"
      ]
     },
     "metadata": {},
     "output_type": "display_data"
    }
   ],
   "source": [
    "model_DNN.summary()"
   ]
  },
  {
   "cell_type": "markdown",
   "metadata": {
    "id": "VePpd9xSd7LC"
   },
   "source": [
    "## Training"
   ]
  },
  {
   "cell_type": "code",
   "execution_count": 36,
   "metadata": {
    "colab": {
     "base_uri": "https://localhost:8080/"
    },
    "executionInfo": {
     "elapsed": 35843,
     "status": "ok",
     "timestamp": 1754806386025,
     "user": {
      "displayName": "Alan Gabriel Amaro Colin",
      "userId": "17298980579619170060"
     },
     "user_tz": 360
    },
    "id": "GDvu_7QDd4HI",
    "outputId": "8229ee31-6f5a-4ed6-8217-42d1f0763bd6",
    "scrolled": true
   },
   "outputs": [
    {
     "name": "stdout",
     "output_type": "stream",
     "text": [
      "Epoch 1/1000\n",
      "\u001b[1m4/4\u001b[0m \u001b[32m━━━━━━━━━━━━━━━━━━━━\u001b[0m\u001b[37m\u001b[0m \u001b[1m4s\u001b[0m 355ms/step - loss: 4.0712 - mape: 85.4272 - r2_score: -40.1792 - val_loss: 3.9575 - val_mape: 82.6935 - val_r2_score: -39.8712 - learning_rate: 0.0010\n",
      "Epoch 2/1000\n",
      "\u001b[1m4/4\u001b[0m \u001b[32m━━━━━━━━━━━━━━━━━━━━\u001b[0m\u001b[37m\u001b[0m \u001b[1m0s\u001b[0m 103ms/step - loss: 3.7091 - mape: 77.6659 - r2_score: -35.2123 - val_loss: 3.7273 - val_mape: 77.9000 - val_r2_score: -37.0045 - learning_rate: 0.0010\n",
      "Epoch 3/1000\n",
      "\u001b[1m4/4\u001b[0m \u001b[32m━━━━━━━━━━━━━━━━━━━━\u001b[0m\u001b[37m\u001b[0m \u001b[1m0s\u001b[0m 104ms/step - loss: 3.3386 - mape: 69.9225 - r2_score: -31.1886 - val_loss: 3.5054 - val_mape: 73.2872 - val_r2_score: -34.7543 - learning_rate: 0.0010\n",
      "Epoch 4/1000\n",
      "\u001b[1m4/4\u001b[0m \u001b[32m━━━━━━━━━━━━━━━━━━━━\u001b[0m\u001b[37m\u001b[0m \u001b[1m0s\u001b[0m 104ms/step - loss: 3.0272 - mape: 62.8630 - r2_score: -28.1810 - val_loss: 3.3452 - val_mape: 69.9577 - val_r2_score: -33.4188 - learning_rate: 0.0010\n",
      "Epoch 5/1000\n",
      "\u001b[1m4/4\u001b[0m \u001b[32m━━━━━━━━━━━━━━━━━━━━\u001b[0m\u001b[37m\u001b[0m \u001b[1m0s\u001b[0m 103ms/step - loss: 3.0599 - mape: 63.7956 - r2_score: -28.6276 - val_loss: 3.2948 - val_mape: 68.9188 - val_r2_score: -32.9917 - learning_rate: 0.0010\n",
      "Epoch 6/1000\n",
      "\u001b[1m4/4\u001b[0m \u001b[32m━━━━━━━━━━━━━━━━━━━━\u001b[0m\u001b[37m\u001b[0m \u001b[1m0s\u001b[0m 105ms/step - loss: 2.7634 - mape: 57.6951 - r2_score: -25.9679 - val_loss: 3.3006 - val_mape: 69.0547 - val_r2_score: -32.9540 - learning_rate: 0.0010\n",
      "Epoch 7/1000\n",
      "\u001b[1m4/4\u001b[0m \u001b[32m━━━━━━━━━━━━━━━━━━━━\u001b[0m\u001b[37m\u001b[0m \u001b[1m0s\u001b[0m 83ms/step - loss: 2.8313 - mape: 59.7586 - r2_score: -26.7222 - val_loss: 3.3144 - val_mape: 69.3141 - val_r2_score: -33.1500 - learning_rate: 0.0010\n",
      "Epoch 8/1000\n",
      "\u001b[1m4/4\u001b[0m \u001b[32m━━━━━━━━━━━━━━━━━━━━\u001b[0m\u001b[37m\u001b[0m \u001b[1m0s\u001b[0m 83ms/step - loss: 2.6252 - mape: 54.9785 - r2_score: -23.6690 - val_loss: 3.3600 - val_mape: 70.2699 - val_r2_score: -33.3997 - learning_rate: 0.0010\n",
      "Epoch 9/1000\n",
      "\u001b[1m4/4\u001b[0m \u001b[32m━━━━━━━━━━━━━━━━━━━━\u001b[0m\u001b[37m\u001b[0m \u001b[1m0s\u001b[0m 82ms/step - loss: 2.6620 - mape: 55.9733 - r2_score: -24.5339 - val_loss: 3.3916 - val_mape: 70.9262 - val_r2_score: -33.6086 - learning_rate: 0.0010\n",
      "Epoch 10/1000\n",
      "\u001b[1m4/4\u001b[0m \u001b[32m━━━━━━━━━━━━━━━━━━━━\u001b[0m\u001b[37m\u001b[0m \u001b[1m0s\u001b[0m 83ms/step - loss: 2.5334 - mape: 53.3480 - r2_score: -22.9014 - val_loss: 3.3719 - val_mape: 70.4899 - val_r2_score: -33.5986 - learning_rate: 0.0010\n",
      "Epoch 11/1000\n",
      "\u001b[1m4/4\u001b[0m \u001b[32m━━━━━━━━━━━━━━━━━━━━\u001b[0m\u001b[37m\u001b[0m \u001b[1m0s\u001b[0m 83ms/step - loss: 2.4773 - mape: 52.6352 - r2_score: -21.1519 - val_loss: 3.3947 - val_mape: 70.9737 - val_r2_score: -33.6556 - learning_rate: 0.0010\n",
      "Epoch 12/1000\n",
      "\u001b[1m4/4\u001b[0m \u001b[32m━━━━━━━━━━━━━━━━━━━━\u001b[0m\u001b[37m\u001b[0m \u001b[1m0s\u001b[0m 82ms/step - loss: 2.5892 - mape: 54.7137 - r2_score: -23.1992 - val_loss: 3.3809 - val_mape: 70.6953 - val_r2_score: -33.4058 - learning_rate: 0.0010\n",
      "Epoch 13/1000\n",
      "\u001b[1m4/4\u001b[0m \u001b[32m━━━━━━━━━━━━━━━━━━━━\u001b[0m\u001b[37m\u001b[0m \u001b[1m0s\u001b[0m 103ms/step - loss: 2.5788 - mape: 54.8273 - r2_score: -22.1086 - val_loss: 3.3088 - val_mape: 69.2030 - val_r2_score: -32.7550 - learning_rate: 0.0010\n",
      "Epoch 14/1000\n",
      "\u001b[1m4/4\u001b[0m \u001b[32m━━━━━━━━━━━━━━━━━━━━\u001b[0m\u001b[37m\u001b[0m \u001b[1m0s\u001b[0m 102ms/step - loss: 2.5339 - mape: 54.2466 - r2_score: -21.3096 - val_loss: 3.2067 - val_mape: 67.0625 - val_r2_score: -32.0828 - learning_rate: 0.0010\n",
      "Epoch 15/1000\n",
      "\u001b[1m4/4\u001b[0m \u001b[32m━━━━━━━━━━━━━━━━━━━━\u001b[0m\u001b[37m\u001b[0m \u001b[1m0s\u001b[0m 104ms/step - loss: 2.4593 - mape: 51.9818 - r2_score: -20.7704 - val_loss: 3.1770 - val_mape: 66.4334 - val_r2_score: -31.8990 - learning_rate: 0.0010\n",
      "Epoch 16/1000\n",
      "\u001b[1m4/4\u001b[0m \u001b[32m━━━━━━━━━━━━━━━━━━━━\u001b[0m\u001b[37m\u001b[0m \u001b[1m0s\u001b[0m 105ms/step - loss: 2.2742 - mape: 48.5093 - r2_score: -19.2240 - val_loss: 3.1715 - val_mape: 66.3258 - val_r2_score: -31.7751 - learning_rate: 0.0010\n",
      "Epoch 17/1000\n",
      "\u001b[1m4/4\u001b[0m \u001b[32m━━━━━━━━━━━━━━━━━━━━\u001b[0m\u001b[37m\u001b[0m \u001b[1m0s\u001b[0m 83ms/step - loss: 2.2253 - mape: 47.6512 - r2_score: -18.5360 - val_loss: 3.2012 - val_mape: 66.9632 - val_r2_score: -31.8490 - learning_rate: 0.0010\n",
      "Epoch 18/1000\n",
      "\u001b[1m4/4\u001b[0m \u001b[32m━━━━━━━━━━━━━━━━━━━━\u001b[0m\u001b[37m\u001b[0m \u001b[1m0s\u001b[0m 83ms/step - loss: 2.3858 - mape: 51.0298 - r2_score: -19.7903 - val_loss: 3.2231 - val_mape: 67.4344 - val_r2_score: -31.9116 - learning_rate: 0.0010\n",
      "Epoch 19/1000\n",
      "\u001b[1m4/4\u001b[0m \u001b[32m━━━━━━━━━━━━━━━━━━━━\u001b[0m\u001b[37m\u001b[0m \u001b[1m0s\u001b[0m 86ms/step - loss: 2.4021 - mape: 51.9083 - r2_score: -19.9850 - val_loss: 3.1957 - val_mape: 66.8447 - val_r2_score: -31.7938 - learning_rate: 0.0010\n",
      "Epoch 20/1000\n",
      "\u001b[1m4/4\u001b[0m \u001b[32m━━━━━━━━━━━━━━━━━━━━\u001b[0m\u001b[37m\u001b[0m \u001b[1m0s\u001b[0m 104ms/step - loss: 2.5048 - mape: 54.3372 - r2_score: -20.8980 - val_loss: 3.1302 - val_mape: 65.4363 - val_r2_score: -31.5691 - learning_rate: 0.0010\n",
      "Epoch 21/1000\n",
      "\u001b[1m4/4\u001b[0m \u001b[32m━━━━━━━━━━━━━━━━━━━━\u001b[0m\u001b[37m\u001b[0m \u001b[1m0s\u001b[0m 104ms/step - loss: 2.2931 - mape: 48.9293 - r2_score: -18.6795 - val_loss: 3.0854 - val_mape: 64.4782 - val_r2_score: -31.4191 - learning_rate: 0.0010\n",
      "Epoch 22/1000\n",
      "\u001b[1m4/4\u001b[0m \u001b[32m━━━━━━━━━━━━━━━━━━━━\u001b[0m\u001b[37m\u001b[0m \u001b[1m0s\u001b[0m 104ms/step - loss: 2.1476 - mape: 45.7100 - r2_score: -18.0401 - val_loss: 3.0631 - val_mape: 64.0574 - val_r2_score: -31.1599 - learning_rate: 0.0010\n",
      "Epoch 23/1000\n",
      "\u001b[1m4/4\u001b[0m \u001b[32m━━━━━━━━━━━━━━━━━━━━\u001b[0m\u001b[37m\u001b[0m \u001b[1m0s\u001b[0m 108ms/step - loss: 2.3411 - mape: 49.9861 - r2_score: -18.9739 - val_loss: 3.0305 - val_mape: 63.3704 - val_r2_score: -31.0263 - learning_rate: 0.0010\n",
      "Epoch 24/1000\n",
      "\u001b[1m4/4\u001b[0m \u001b[32m━━━━━━━━━━━━━━━━━━━━\u001b[0m\u001b[37m\u001b[0m \u001b[1m0s\u001b[0m 116ms/step - loss: 2.2517 - mape: 49.0175 - r2_score: -18.6886 - val_loss: 2.9953 - val_mape: 62.6190 - val_r2_score: -30.9245 - learning_rate: 0.0010\n",
      "Epoch 25/1000\n",
      "\u001b[1m4/4\u001b[0m \u001b[32m━━━━━━━━━━━━━━━━━━━━\u001b[0m\u001b[37m\u001b[0m \u001b[1m0s\u001b[0m 115ms/step - loss: 2.2346 - mape: 48.1361 - r2_score: -18.3032 - val_loss: 3.0062 - val_mape: 62.8575 - val_r2_score: -30.9099 - learning_rate: 0.0010\n",
      "Epoch 26/1000\n",
      "\u001b[1m4/4\u001b[0m \u001b[32m━━━━━━━━━━━━━━━━━━━━\u001b[0m\u001b[37m\u001b[0m \u001b[1m0s\u001b[0m 108ms/step - loss: 2.1759 - mape: 46.5718 - r2_score: -17.9232 - val_loss: 3.0250 - val_mape: 63.2649 - val_r2_score: -30.6805 - learning_rate: 0.0010\n",
      "Epoch 27/1000\n",
      "\u001b[1m4/4\u001b[0m \u001b[32m━━━━━━━━━━━━━━━━━━━━\u001b[0m\u001b[37m\u001b[0m \u001b[1m0s\u001b[0m 108ms/step - loss: 2.1754 - mape: 46.5958 - r2_score: -18.0469 - val_loss: 3.0071 - val_mape: 62.8976 - val_r2_score: -30.3434 - learning_rate: 0.0010\n",
      "Epoch 28/1000\n",
      "\u001b[1m4/4\u001b[0m \u001b[32m━━━━━━━━━━━━━━━━━━━━\u001b[0m\u001b[37m\u001b[0m \u001b[1m0s\u001b[0m 108ms/step - loss: 2.0514 - mape: 44.3256 - r2_score: -17.2560 - val_loss: 2.9723 - val_mape: 62.1628 - val_r2_score: -29.8817 - learning_rate: 0.0010\n",
      "Epoch 29/1000\n",
      "\u001b[1m4/4\u001b[0m \u001b[32m━━━━━━━━━━━━━━━━━━━━\u001b[0m\u001b[37m\u001b[0m \u001b[1m0s\u001b[0m 107ms/step - loss: 2.1729 - mape: 46.5083 - r2_score: -17.9872 - val_loss: 2.9704 - val_mape: 62.1514 - val_r2_score: -29.3481 - learning_rate: 0.0010\n",
      "Epoch 30/1000\n",
      "\u001b[1m4/4\u001b[0m \u001b[32m━━━━━━━━━━━━━━━━━━━━\u001b[0m\u001b[37m\u001b[0m \u001b[1m0s\u001b[0m 120ms/step - loss: 2.1816 - mape: 46.7147 - r2_score: -18.4251 - val_loss: 2.9598 - val_mape: 61.9308 - val_r2_score: -28.8910 - learning_rate: 0.0010\n",
      "Epoch 31/1000\n",
      "\u001b[1m4/4\u001b[0m \u001b[32m━━━━━━━━━━━━━━━━━━━━\u001b[0m\u001b[37m\u001b[0m \u001b[1m0s\u001b[0m 116ms/step - loss: 2.0419 - mape: 43.6990 - r2_score: -17.2559 - val_loss: 2.9485 - val_mape: 61.6994 - val_r2_score: -28.5376 - learning_rate: 0.0010\n",
      "Epoch 32/1000\n",
      "\u001b[1m4/4\u001b[0m \u001b[32m━━━━━━━━━━━━━━━━━━━━\u001b[0m\u001b[37m\u001b[0m \u001b[1m0s\u001b[0m 112ms/step - loss: 2.0516 - mape: 43.6410 - r2_score: -17.3730 - val_loss: 2.9001 - val_mape: 60.7161 - val_r2_score: -28.0772 - learning_rate: 0.0010\n",
      "Epoch 33/1000\n",
      "\u001b[1m4/4\u001b[0m \u001b[32m━━━━━━━━━━━━━━━━━━━━\u001b[0m\u001b[37m\u001b[0m \u001b[1m0s\u001b[0m 115ms/step - loss: 2.1337 - mape: 45.6132 - r2_score: -17.5201 - val_loss: 2.8518 - val_mape: 59.7218 - val_r2_score: -27.8008 - learning_rate: 0.0010\n",
      "Epoch 34/1000\n",
      "\u001b[1m4/4\u001b[0m \u001b[32m━━━━━━━━━━━━━━━━━━━━\u001b[0m\u001b[37m\u001b[0m \u001b[1m0s\u001b[0m 112ms/step - loss: 2.0135 - mape: 43.1895 - r2_score: -17.1251 - val_loss: 2.8025 - val_mape: 58.7187 - val_r2_score: -27.6059 - learning_rate: 0.0010\n",
      "Epoch 35/1000\n",
      "\u001b[1m4/4\u001b[0m \u001b[32m━━━━━━━━━━━━━━━━━━━━\u001b[0m\u001b[37m\u001b[0m \u001b[1m0s\u001b[0m 113ms/step - loss: 2.0672 - mape: 44.3455 - r2_score: -17.1240 - val_loss: 2.7726 - val_mape: 58.1110 - val_r2_score: -27.3628 - learning_rate: 0.0010\n",
      "Epoch 36/1000\n",
      "\u001b[1m4/4\u001b[0m \u001b[32m━━━━━━━━━━━━━━━━━━━━\u001b[0m\u001b[37m\u001b[0m \u001b[1m0s\u001b[0m 106ms/step - loss: 1.9472 - mape: 41.8369 - r2_score: -16.9449 - val_loss: 2.7925 - val_mape: 58.5634 - val_r2_score: -27.0255 - learning_rate: 0.0010\n",
      "Epoch 37/1000\n",
      "\u001b[1m4/4\u001b[0m \u001b[32m━━━━━━━━━━━━━━━━━━━━\u001b[0m\u001b[37m\u001b[0m \u001b[1m0s\u001b[0m 107ms/step - loss: 2.0414 - mape: 44.0934 - r2_score: -17.1709 - val_loss: 2.8273 - val_mape: 59.3342 - val_r2_score: -26.9489 - learning_rate: 0.0010\n",
      "Epoch 38/1000\n",
      "\u001b[1m4/4\u001b[0m \u001b[32m━━━━━━━━━━━━━━━━━━━━\u001b[0m\u001b[37m\u001b[0m \u001b[1m0s\u001b[0m 107ms/step - loss: 1.9585 - mape: 42.2251 - r2_score: -16.6380 - val_loss: 2.8312 - val_mape: 59.4336 - val_r2_score: -26.8009 - learning_rate: 0.0010\n",
      "Epoch 39/1000\n",
      "\u001b[1m4/4\u001b[0m \u001b[32m━━━━━━━━━━━━━━━━━━━━\u001b[0m\u001b[37m\u001b[0m \u001b[1m0s\u001b[0m 105ms/step - loss: 1.9544 - mape: 42.1596 - r2_score: -16.7180 - val_loss: 2.7966 - val_mape: 58.7015 - val_r2_score: -26.4767 - learning_rate: 0.0010\n",
      "Epoch 40/1000\n",
      "\u001b[1m4/4\u001b[0m \u001b[32m━━━━━━━━━━━━━━━━━━━━\u001b[0m\u001b[37m\u001b[0m \u001b[1m0s\u001b[0m 106ms/step - loss: 1.9983 - mape: 42.8999 - r2_score: -16.9748 - val_loss: 2.8063 - val_mape: 58.9023 - val_r2_score: -26.2055 - learning_rate: 0.0010\n",
      "Epoch 41/1000\n",
      "\u001b[1m4/4\u001b[0m \u001b[32m━━━━━━━━━━━━━━━━━━━━\u001b[0m\u001b[37m\u001b[0m \u001b[1m0s\u001b[0m 104ms/step - loss: 2.0618 - mape: 44.1946 - r2_score: -17.1192 - val_loss: 2.7819 - val_mape: 58.3856 - val_r2_score: -25.9249 - learning_rate: 0.0010\n",
      "Epoch 42/1000\n",
      "\u001b[1m4/4\u001b[0m \u001b[32m━━━━━━━━━━━━━━━━━━━━\u001b[0m\u001b[37m\u001b[0m \u001b[1m0s\u001b[0m 106ms/step - loss: 1.9357 - mape: 41.7166 - r2_score: -16.5654 - val_loss: 2.7593 - val_mape: 57.9174 - val_r2_score: -25.8061 - learning_rate: 0.0010\n",
      "Epoch 43/1000\n",
      "\u001b[1m4/4\u001b[0m \u001b[32m━━━━━━━━━━━━━━━━━━━━\u001b[0m\u001b[37m\u001b[0m \u001b[1m0s\u001b[0m 109ms/step - loss: 2.0709 - mape: 44.6073 - r2_score: -17.3763 - val_loss: 2.7319 - val_mape: 57.3567 - val_r2_score: -25.6032 - learning_rate: 0.0010\n",
      "Epoch 44/1000\n",
      "\u001b[1m4/4\u001b[0m \u001b[32m━━━━━━━━━━━━━━━━━━━━\u001b[0m\u001b[37m\u001b[0m \u001b[1m0s\u001b[0m 114ms/step - loss: 1.9343 - mape: 41.5099 - r2_score: -16.4913 - val_loss: 2.6757 - val_mape: 56.1857 - val_r2_score: -25.2831 - learning_rate: 0.0010\n",
      "Epoch 45/1000\n",
      "\u001b[1m4/4\u001b[0m \u001b[32m━━━━━━━━━━━━━━━━━━━━\u001b[0m\u001b[37m\u001b[0m \u001b[1m0s\u001b[0m 105ms/step - loss: 1.9190 - mape: 41.3310 - r2_score: -16.4350 - val_loss: 2.6405 - val_mape: 55.4866 - val_r2_score: -24.9466 - learning_rate: 0.0010\n",
      "Epoch 46/1000\n",
      "\u001b[1m4/4\u001b[0m \u001b[32m━━━━━━━━━━━━━━━━━━━━\u001b[0m\u001b[37m\u001b[0m \u001b[1m0s\u001b[0m 105ms/step - loss: 1.9437 - mape: 42.0071 - r2_score: -16.6978 - val_loss: 2.6247 - val_mape: 55.1605 - val_r2_score: -24.5955 - learning_rate: 0.0010\n",
      "Epoch 47/1000\n",
      "\u001b[1m4/4\u001b[0m \u001b[32m━━━━━━━━━━━━━━━━━━━━\u001b[0m\u001b[37m\u001b[0m \u001b[1m0s\u001b[0m 104ms/step - loss: 1.9939 - mape: 42.7229 - r2_score: -16.7305 - val_loss: 2.5796 - val_mape: 54.2330 - val_r2_score: -24.2699 - learning_rate: 0.0010\n",
      "Epoch 48/1000\n",
      "\u001b[1m4/4\u001b[0m \u001b[32m━━━━━━━━━━━━━━━━━━━━\u001b[0m\u001b[37m\u001b[0m \u001b[1m0s\u001b[0m 106ms/step - loss: 1.9093 - mape: 41.0940 - r2_score: -16.3309 - val_loss: 2.5662 - val_mape: 54.0698 - val_r2_score: -24.0990 - learning_rate: 0.0010\n",
      "Epoch 49/1000\n",
      "\u001b[1m4/4\u001b[0m \u001b[32m━━━━━━━━━━━━━━━━━━━━\u001b[0m\u001b[37m\u001b[0m \u001b[1m0s\u001b[0m 104ms/step - loss: 1.9693 - mape: 42.3612 - r2_score: -17.1018 - val_loss: 2.5518 - val_mape: 53.8190 - val_r2_score: -24.0195 - learning_rate: 0.0010\n",
      "Epoch 50/1000\n",
      "\u001b[1m4/4\u001b[0m \u001b[32m━━━━━━━━━━━━━━━━━━━━\u001b[0m\u001b[37m\u001b[0m \u001b[1m0s\u001b[0m 103ms/step - loss: 1.9335 - mape: 41.7740 - r2_score: -16.3945 - val_loss: 2.5628 - val_mape: 54.1451 - val_r2_score: -23.9268 - learning_rate: 0.0010\n",
      "Epoch 51/1000\n",
      "\u001b[1m4/4\u001b[0m \u001b[32m━━━━━━━━━━━━━━━━━━━━\u001b[0m\u001b[37m\u001b[0m \u001b[1m0s\u001b[0m 106ms/step - loss: 1.9361 - mape: 41.3932 - r2_score: -16.3738 - val_loss: 2.5711 - val_mape: 54.3167 - val_r2_score: -23.8304 - learning_rate: 0.0010\n",
      "Epoch 52/1000\n",
      "\u001b[1m4/4\u001b[0m \u001b[32m━━━━━━━━━━━━━━━━━━━━\u001b[0m\u001b[37m\u001b[0m \u001b[1m0s\u001b[0m 86ms/step - loss: 1.9068 - mape: 41.2390 - r2_score: -16.4213 - val_loss: 2.6248 - val_mape: 55.4199 - val_r2_score: -23.9392 - learning_rate: 0.0010\n",
      "Epoch 53/1000\n",
      "\u001b[1m4/4\u001b[0m \u001b[32m━━━━━━━━━━━━━━━━━━━━\u001b[0m\u001b[37m\u001b[0m \u001b[1m0s\u001b[0m 84ms/step - loss: 2.0000 - mape: 43.2873 - r2_score: -16.8622 - val_loss: 2.6354 - val_mape: 55.5403 - val_r2_score: -24.0020 - learning_rate: 0.0010\n",
      "Epoch 54/1000\n",
      "\u001b[1m4/4\u001b[0m \u001b[32m━━━━━━━━━━━━━━━━━━━━\u001b[0m\u001b[37m\u001b[0m \u001b[1m0s\u001b[0m 104ms/step - loss: 1.9561 - mape: 42.1976 - r2_score: -16.6025 - val_loss: 2.5901 - val_mape: 54.5300 - val_r2_score: -23.8289 - learning_rate: 0.0010\n",
      "Epoch 55/1000\n",
      "\u001b[1m4/4\u001b[0m \u001b[32m━━━━━━━━━━━━━━━━━━━━\u001b[0m\u001b[37m\u001b[0m \u001b[1m0s\u001b[0m 105ms/step - loss: 1.9119 - mape: 41.2482 - r2_score: -16.1117 - val_loss: 2.5612 - val_mape: 53.8981 - val_r2_score: -23.7249 - learning_rate: 0.0010\n",
      "Epoch 56/1000\n",
      "\u001b[1m4/4\u001b[0m \u001b[32m━━━━━━━━━━━━━━━━━━━━\u001b[0m\u001b[37m\u001b[0m \u001b[1m0s\u001b[0m 103ms/step - loss: 1.9215 - mape: 40.8456 - r2_score: -15.5782 - val_loss: 2.5286 - val_mape: 53.2002 - val_r2_score: -23.5976 - learning_rate: 0.0010\n",
      "Epoch 57/1000\n",
      "\u001b[1m4/4\u001b[0m \u001b[32m━━━━━━━━━━━━━━━━━━━━\u001b[0m\u001b[37m\u001b[0m \u001b[1m0s\u001b[0m 105ms/step - loss: 1.9448 - mape: 41.6722 - r2_score: -16.1742 - val_loss: 2.5311 - val_mape: 53.3099 - val_r2_score: -23.4414 - learning_rate: 0.0010\n",
      "Epoch 58/1000\n",
      "\u001b[1m4/4\u001b[0m \u001b[32m━━━━━━━━━━━━━━━━━━━━\u001b[0m\u001b[37m\u001b[0m \u001b[1m0s\u001b[0m 105ms/step - loss: 2.0011 - mape: 43.4513 - r2_score: -16.7923 - val_loss: 2.5240 - val_mape: 53.1988 - val_r2_score: -23.3672 - learning_rate: 0.0010\n",
      "Epoch 59/1000\n",
      "\u001b[1m4/4\u001b[0m \u001b[32m━━━━━━━━━━━━━━━━━━━━\u001b[0m\u001b[37m\u001b[0m \u001b[1m0s\u001b[0m 105ms/step - loss: 1.8494 - mape: 40.1622 - r2_score: -16.1116 - val_loss: 2.4913 - val_mape: 52.4991 - val_r2_score: -23.3254 - learning_rate: 0.0010\n",
      "Epoch 60/1000\n",
      "\u001b[1m4/4\u001b[0m \u001b[32m━━━━━━━━━━━━━━━━━━━━\u001b[0m\u001b[37m\u001b[0m \u001b[1m0s\u001b[0m 106ms/step - loss: 1.8231 - mape: 39.0539 - r2_score: -15.2545 - val_loss: 2.4973 - val_mape: 52.6252 - val_r2_score: -23.3125 - learning_rate: 0.0010\n",
      "Epoch 61/1000\n",
      "\u001b[1m4/4\u001b[0m \u001b[32m━━━━━━━━━━━━━━━━━━━━\u001b[0m\u001b[37m\u001b[0m \u001b[1m0s\u001b[0m 85ms/step - loss: 1.8218 - mape: 39.3691 - r2_score: -16.2018 - val_loss: 2.5243 - val_mape: 53.1984 - val_r2_score: -23.3134 - learning_rate: 0.0010\n",
      "Epoch 62/1000\n",
      "\u001b[1m4/4\u001b[0m \u001b[32m━━━━━━━━━━━━━━━━━━━━\u001b[0m\u001b[37m\u001b[0m \u001b[1m0s\u001b[0m 104ms/step - loss: 1.9194 - mape: 41.0711 - r2_score: -16.1926 - val_loss: 2.4937 - val_mape: 52.6066 - val_r2_score: -23.1119 - learning_rate: 0.0010\n",
      "Epoch 63/1000\n",
      "\u001b[1m4/4\u001b[0m \u001b[32m━━━━━━━━━━━━━━━━━━━━\u001b[0m\u001b[37m\u001b[0m \u001b[1m0s\u001b[0m 105ms/step - loss: 1.8786 - mape: 40.3087 - r2_score: -16.1315 - val_loss: 2.4558 - val_mape: 51.8589 - val_r2_score: -22.9251 - learning_rate: 0.0010\n",
      "Epoch 64/1000\n",
      "\u001b[1m4/4\u001b[0m \u001b[32m━━━━━━━━━━━━━━━━━━━━\u001b[0m\u001b[37m\u001b[0m \u001b[1m0s\u001b[0m 103ms/step - loss: 1.9098 - mape: 41.2097 - r2_score: -16.5720 - val_loss: 2.4437 - val_mape: 51.6275 - val_r2_score: -22.7987 - learning_rate: 0.0010\n",
      "Epoch 65/1000\n",
      "\u001b[1m4/4\u001b[0m \u001b[32m━━━━━━━━━━━━━━━━━━━━\u001b[0m\u001b[37m\u001b[0m \u001b[1m0s\u001b[0m 104ms/step - loss: 1.8879 - mape: 40.7376 - r2_score: -16.3115 - val_loss: 2.4521 - val_mape: 51.8054 - val_r2_score: -22.7653 - learning_rate: 0.0010\n",
      "Epoch 66/1000\n",
      "\u001b[1m4/4\u001b[0m \u001b[32m━━━━━━━━━━━━━━━━━━━━\u001b[0m\u001b[37m\u001b[0m \u001b[1m0s\u001b[0m 104ms/step - loss: 1.8807 - mape: 40.8936 - r2_score: -15.7381 - val_loss: 2.4502 - val_mape: 51.8047 - val_r2_score: -22.7044 - learning_rate: 0.0010\n",
      "Epoch 67/1000\n",
      "\u001b[1m4/4\u001b[0m \u001b[32m━━━━━━━━━━━━━━━━━━━━\u001b[0m\u001b[37m\u001b[0m \u001b[1m0s\u001b[0m 105ms/step - loss: 1.8266 - mape: 39.4966 - r2_score: -15.9118 - val_loss: 2.4243 - val_mape: 51.1994 - val_r2_score: -22.6857 - learning_rate: 0.0010\n",
      "Epoch 68/1000\n",
      "\u001b[1m4/4\u001b[0m \u001b[32m━━━━━━━━━━━━━━━━━━━━\u001b[0m\u001b[37m\u001b[0m \u001b[1m0s\u001b[0m 87ms/step - loss: 1.8883 - mape: 40.3562 - r2_score: -16.2547 - val_loss: 2.3763 - val_mape: 50.0955 - val_r2_score: -22.6968 - learning_rate: 0.0010\n",
      "Epoch 69/1000\n",
      "\u001b[1m4/4\u001b[0m \u001b[32m━━━━━━━━━━━━━━━━━━━━\u001b[0m\u001b[37m\u001b[0m \u001b[1m0s\u001b[0m 108ms/step - loss: 1.8280 - mape: 39.4571 - r2_score: -14.7397 - val_loss: 2.3793 - val_mape: 50.1700 - val_r2_score: -22.6790 - learning_rate: 0.0010\n",
      "Epoch 70/1000\n",
      "\u001b[1m4/4\u001b[0m \u001b[32m━━━━━━━━━━━━━━━━━━━━\u001b[0m\u001b[37m\u001b[0m \u001b[1m0s\u001b[0m 104ms/step - loss: 1.8834 - mape: 40.4250 - r2_score: -16.4237 - val_loss: 2.4366 - val_mape: 51.5140 - val_r2_score: -22.6671 - learning_rate: 0.0010\n",
      "Epoch 71/1000\n",
      "\u001b[1m4/4\u001b[0m \u001b[32m━━━━━━━━━━━━━━━━━━━━\u001b[0m\u001b[37m\u001b[0m \u001b[1m0s\u001b[0m 85ms/step - loss: 1.7962 - mape: 39.0905 - r2_score: -15.7691 - val_loss: 2.4969 - val_mape: 52.9645 - val_r2_score: -22.7105 - learning_rate: 0.0010\n",
      "Epoch 72/1000\n",
      "\u001b[1m4/4\u001b[0m \u001b[32m━━━━━━━━━━━━━━━━━━━━\u001b[0m\u001b[37m\u001b[0m \u001b[1m0s\u001b[0m 107ms/step - loss: 1.8380 - mape: 39.6640 - r2_score: -15.5160 - val_loss: 2.4764 - val_mape: 52.5554 - val_r2_score: -22.6049 - learning_rate: 0.0010\n",
      "Epoch 73/1000\n",
      "\u001b[1m4/4\u001b[0m \u001b[32m━━━━━━━━━━━━━━━━━━━━\u001b[0m\u001b[37m\u001b[0m \u001b[1m0s\u001b[0m 85ms/step - loss: 1.7794 - mape: 38.3542 - r2_score: -16.0185 - val_loss: 2.4807 - val_mape: 52.5643 - val_r2_score: -22.6905 - learning_rate: 0.0010\n",
      "Epoch 74/1000\n",
      "\u001b[1m4/4\u001b[0m \u001b[32m━━━━━━━━━━━━━━━━━━━━\u001b[0m\u001b[37m\u001b[0m \u001b[1m0s\u001b[0m 103ms/step - loss: 1.8735 - mape: 40.1964 - r2_score: -15.7084 - val_loss: 2.4288 - val_mape: 51.3692 - val_r2_score: -22.6002 - learning_rate: 0.0010\n",
      "Epoch 75/1000\n",
      "\u001b[1m4/4\u001b[0m \u001b[32m━━━━━━━━━━━━━━━━━━━━\u001b[0m\u001b[37m\u001b[0m \u001b[1m0s\u001b[0m 105ms/step - loss: 1.6974 - mape: 36.3222 - r2_score: -13.9315 - val_loss: 2.3772 - val_mape: 50.1952 - val_r2_score: -22.5526 - learning_rate: 0.0010\n",
      "Epoch 76/1000\n",
      "\u001b[1m4/4\u001b[0m \u001b[32m━━━━━━━━━━━━━━━━━━━━\u001b[0m\u001b[37m\u001b[0m \u001b[1m0s\u001b[0m 113ms/step - loss: 1.8247 - mape: 39.2698 - r2_score: -14.5091 - val_loss: 2.3559 - val_mape: 49.7494 - val_r2_score: -22.4955 - learning_rate: 0.0010\n",
      "Epoch 77/1000\n",
      "\u001b[1m4/4\u001b[0m \u001b[32m━━━━━━━━━━━━━━━━━━━━\u001b[0m\u001b[37m\u001b[0m \u001b[1m0s\u001b[0m 109ms/step - loss: 1.7561 - mape: 37.6210 - r2_score: -14.9814 - val_loss: 2.3793 - val_mape: 50.3879 - val_r2_score: -22.3863 - learning_rate: 0.0010\n",
      "Epoch 78/1000\n",
      "\u001b[1m4/4\u001b[0m \u001b[32m━━━━━━━━━━━━━━━━━━━━\u001b[0m\u001b[37m\u001b[0m \u001b[1m0s\u001b[0m 86ms/step - loss: 1.8182 - mape: 39.5652 - r2_score: -15.7546 - val_loss: 2.4570 - val_mape: 52.2304 - val_r2_score: -22.4727 - learning_rate: 0.0010\n",
      "Epoch 79/1000\n",
      "\u001b[1m4/4\u001b[0m \u001b[32m━━━━━━━━━━━━━━━━━━━━\u001b[0m\u001b[37m\u001b[0m \u001b[1m0s\u001b[0m 82ms/step - loss: 1.7438 - mape: 37.5860 - r2_score: -14.8423 - val_loss: 2.4574 - val_mape: 52.2900 - val_r2_score: -22.4556 - learning_rate: 0.0010\n",
      "Epoch 80/1000\n",
      "\u001b[1m4/4\u001b[0m \u001b[32m━━━━━━━━━━━━━━━━━━━━\u001b[0m\u001b[37m\u001b[0m \u001b[1m0s\u001b[0m 106ms/step - loss: 1.8395 - mape: 39.7246 - r2_score: -14.3641 - val_loss: 2.3939 - val_mape: 50.8685 - val_r2_score: -22.2931 - learning_rate: 0.0010\n",
      "Epoch 81/1000\n",
      "\u001b[1m4/4\u001b[0m \u001b[32m━━━━━━━━━━━━━━━━━━━━\u001b[0m\u001b[37m\u001b[0m \u001b[1m0s\u001b[0m 106ms/step - loss: 1.8229 - mape: 39.1707 - r2_score: -14.6783 - val_loss: 2.3282 - val_mape: 49.3851 - val_r2_score: -22.2123 - learning_rate: 0.0010\n",
      "Epoch 82/1000\n",
      "\u001b[1m4/4\u001b[0m \u001b[32m━━━━━━━━━━━━━━━━━━━━\u001b[0m\u001b[37m\u001b[0m \u001b[1m0s\u001b[0m 103ms/step - loss: 1.7723 - mape: 38.4231 - r2_score: -15.3491 - val_loss: 2.3365 - val_mape: 49.5933 - val_r2_score: -22.1938 - learning_rate: 0.0010\n",
      "Epoch 83/1000\n",
      "\u001b[1m4/4\u001b[0m \u001b[32m━━━━━━━━━━━━━━━━━━━━\u001b[0m\u001b[37m\u001b[0m \u001b[1m0s\u001b[0m 105ms/step - loss: 1.7858 - mape: 38.3979 - r2_score: -14.7019 - val_loss: 2.3376 - val_mape: 49.6458 - val_r2_score: -22.1736 - learning_rate: 0.0010\n",
      "Epoch 84/1000\n",
      "\u001b[1m4/4\u001b[0m \u001b[32m━━━━━━━━━━━━━━━━━━━━\u001b[0m\u001b[37m\u001b[0m \u001b[1m0s\u001b[0m 85ms/step - loss: 1.6133 - mape: 34.4619 - r2_score: -13.1368 - val_loss: 2.3582 - val_mape: 49.9936 - val_r2_score: -22.3191 - learning_rate: 0.0010\n",
      "Epoch 85/1000\n",
      "\u001b[1m4/4\u001b[0m \u001b[32m━━━━━━━━━━━━━━━━━━━━\u001b[0m\u001b[37m\u001b[0m \u001b[1m0s\u001b[0m 86ms/step - loss: 1.7744 - mape: 37.9333 - r2_score: -14.4918 - val_loss: 2.3781 - val_mape: 50.2955 - val_r2_score: -22.5593 - learning_rate: 0.0010\n",
      "Epoch 86/1000\n",
      "\u001b[1m4/4\u001b[0m \u001b[32m━━━━━━━━━━━━━━━━━━━━\u001b[0m\u001b[37m\u001b[0m \u001b[1m0s\u001b[0m 83ms/step - loss: 1.6652 - mape: 35.8412 - r2_score: -12.4181 - val_loss: 2.4125 - val_mape: 51.0175 - val_r2_score: -22.7562 - learning_rate: 0.0010\n",
      "Epoch 87/1000\n",
      "\u001b[1m4/4\u001b[0m \u001b[32m━━━━━━━━━━━━━━━━━━━━\u001b[0m\u001b[37m\u001b[0m \u001b[1m0s\u001b[0m 84ms/step - loss: 1.5720 - mape: 33.6509 - r2_score: -11.5413 - val_loss: 2.3841 - val_mape: 50.4350 - val_r2_score: -22.6521 - learning_rate: 0.0010\n",
      "Epoch 88/1000\n",
      "\u001b[1m4/4\u001b[0m \u001b[32m━━━━━━━━━━━━━━━━━━━━\u001b[0m\u001b[37m\u001b[0m \u001b[1m0s\u001b[0m 83ms/step - loss: 1.5275 - mape: 32.4681 - r2_score: -11.3182 - val_loss: 2.3439 - val_mape: 49.6511 - val_r2_score: -22.4494 - learning_rate: 0.0010\n",
      "Epoch 89/1000\n",
      "\u001b[1m4/4\u001b[0m \u001b[32m━━━━━━━━━━━━━━━━━━━━\u001b[0m\u001b[37m\u001b[0m \u001b[1m0s\u001b[0m 84ms/step - loss: 1.5953 - mape: 33.7698 - r2_score: -11.5517 - val_loss: 2.2928 - val_mape: 48.5609 - val_r2_score: -22.3845 - learning_rate: 0.0010\n",
      "Epoch 90/1000\n",
      "\u001b[1m4/4\u001b[0m \u001b[32m━━━━━━━━━━━━━━━━━━━━\u001b[0m\u001b[37m\u001b[0m \u001b[1m0s\u001b[0m 87ms/step - loss: 1.5612 - mape: 32.7837 - r2_score: -12.0817 - val_loss: 2.3164 - val_mape: 49.0467 - val_r2_score: -22.4325 - learning_rate: 0.0010\n",
      "Epoch 91/1000\n",
      "\u001b[1m4/4\u001b[0m \u001b[32m━━━━━━━━━━━━━━━━━━━━\u001b[0m\u001b[37m\u001b[0m \u001b[1m0s\u001b[0m 95ms/step - loss: 1.4150 - mape: 29.4636 - r2_score: -10.6577 - val_loss: 2.2975 - val_mape: 48.7801 - val_r2_score: -22.2360 - learning_rate: 0.0010\n",
      "Epoch 92/1000\n",
      "\u001b[1m4/4\u001b[0m \u001b[32m━━━━━━━━━━━━━━━━━━━━\u001b[0m\u001b[37m\u001b[0m \u001b[1m0s\u001b[0m 88ms/step - loss: 1.4358 - mape: 30.1802 - r2_score: -10.3596 - val_loss: 2.3682 - val_mape: 50.2656 - val_r2_score: -22.2919 - learning_rate: 0.0010\n",
      "Epoch 93/1000\n",
      "\u001b[1m4/4\u001b[0m \u001b[32m━━━━━━━━━━━━━━━━━━━━\u001b[0m\u001b[37m\u001b[0m \u001b[1m0s\u001b[0m 108ms/step - loss: 1.4226 - mape: 29.4980 - r2_score: -10.6187 - val_loss: 2.4274 - val_mape: 51.1606 - val_r2_score: -22.0008 - learning_rate: 0.0010\n",
      "Epoch 94/1000\n",
      "\u001b[1m4/4\u001b[0m \u001b[32m━━━━━━━━━━━━━━━━━━━━\u001b[0m\u001b[37m\u001b[0m \u001b[1m0s\u001b[0m 103ms/step - loss: 1.3221 - mape: 27.6476 - r2_score: -9.3843 - val_loss: 2.4264 - val_mape: 51.0736 - val_r2_score: -21.6291 - learning_rate: 0.0010\n",
      "Epoch 95/1000\n",
      "\u001b[1m4/4\u001b[0m \u001b[32m━━━━━━━━━━━━━━━━━━━━\u001b[0m\u001b[37m\u001b[0m \u001b[1m0s\u001b[0m 105ms/step - loss: 1.3634 - mape: 28.4652 - r2_score: -10.2433 - val_loss: 2.3689 - val_mape: 50.1203 - val_r2_score: -21.3536 - learning_rate: 0.0010\n",
      "Epoch 96/1000\n",
      "\u001b[1m4/4\u001b[0m \u001b[32m━━━━━━━━━━━━━━━━━━━━\u001b[0m\u001b[37m\u001b[0m \u001b[1m0s\u001b[0m 106ms/step - loss: 1.4495 - mape: 30.6535 - r2_score: -10.5900 - val_loss: 2.2729 - val_mape: 48.2127 - val_r2_score: -21.1956 - learning_rate: 0.0010\n",
      "Epoch 97/1000\n",
      "\u001b[1m4/4\u001b[0m \u001b[32m━━━━━━━━━━━━━━━━━━━━\u001b[0m\u001b[37m\u001b[0m \u001b[1m0s\u001b[0m 105ms/step - loss: 1.2555 - mape: 25.8781 - r2_score: -9.6172 - val_loss: 2.2055 - val_mape: 46.3779 - val_r2_score: -20.8380 - learning_rate: 0.0010\n",
      "Epoch 98/1000\n",
      "\u001b[1m4/4\u001b[0m \u001b[32m━━━━━━━━━━━━━━━━━━━━\u001b[0m\u001b[37m\u001b[0m \u001b[1m0s\u001b[0m 115ms/step - loss: 1.3966 - mape: 29.1203 - r2_score: -10.2094 - val_loss: 2.1954 - val_mape: 45.5399 - val_r2_score: -20.2769 - learning_rate: 0.0010\n",
      "Epoch 99/1000\n",
      "\u001b[1m4/4\u001b[0m \u001b[32m━━━━━━━━━━━━━━━━━━━━\u001b[0m\u001b[37m\u001b[0m \u001b[1m0s\u001b[0m 111ms/step - loss: 1.3471 - mape: 28.0110 - r2_score: -8.9884 - val_loss: 2.2042 - val_mape: 45.3347 - val_r2_score: -19.7139 - learning_rate: 0.0010\n",
      "Epoch 100/1000\n",
      "\u001b[1m4/4\u001b[0m \u001b[32m━━━━━━━━━━━━━━━━━━━━\u001b[0m\u001b[37m\u001b[0m \u001b[1m0s\u001b[0m 107ms/step - loss: 1.3238 - mape: 27.0996 - r2_score: -9.7967 - val_loss: 2.1663 - val_mape: 44.5394 - val_r2_score: -19.2237 - learning_rate: 0.0010\n",
      "Epoch 101/1000\n",
      "\u001b[1m4/4\u001b[0m \u001b[32m━━━━━━━━━━━━━━━━━━━━\u001b[0m\u001b[37m\u001b[0m \u001b[1m0s\u001b[0m 112ms/step - loss: 1.3890 - mape: 29.3077 - r2_score: -9.5545 - val_loss: 2.1207 - val_mape: 43.4221 - val_r2_score: -18.8872 - learning_rate: 0.0010\n",
      "Epoch 102/1000\n",
      "\u001b[1m4/4\u001b[0m \u001b[32m━━━━━━━━━━━━━━━━━━━━\u001b[0m\u001b[37m\u001b[0m \u001b[1m0s\u001b[0m 108ms/step - loss: 1.3397 - mape: 27.8911 - r2_score: -9.0566 - val_loss: 2.0907 - val_mape: 42.5107 - val_r2_score: -18.7523 - learning_rate: 0.0010\n",
      "Epoch 103/1000\n",
      "\u001b[1m4/4\u001b[0m \u001b[32m━━━━━━━━━━━━━━━━━━━━\u001b[0m\u001b[37m\u001b[0m \u001b[1m0s\u001b[0m 111ms/step - loss: 1.4356 - mape: 29.8460 - r2_score: -9.7477 - val_loss: 2.0764 - val_mape: 42.0174 - val_r2_score: -18.7539 - learning_rate: 0.0010\n",
      "Epoch 104/1000\n",
      "\u001b[1m4/4\u001b[0m \u001b[32m━━━━━━━━━━━━━━━━━━━━\u001b[0m\u001b[37m\u001b[0m \u001b[1m0s\u001b[0m 120ms/step - loss: 1.2218 - mape: 25.3365 - r2_score: -8.9869 - val_loss: 1.9787 - val_mape: 40.0325 - val_r2_score: -18.4063 - learning_rate: 0.0010\n",
      "Epoch 105/1000\n",
      "\u001b[1m4/4\u001b[0m \u001b[32m━━━━━━━━━━━━━━━━━━━━\u001b[0m\u001b[37m\u001b[0m \u001b[1m0s\u001b[0m 116ms/step - loss: 1.3330 - mape: 27.5714 - r2_score: -9.7780 - val_loss: 1.9399 - val_mape: 39.3319 - val_r2_score: -18.1567 - learning_rate: 0.0010\n",
      "Epoch 106/1000\n",
      "\u001b[1m4/4\u001b[0m \u001b[32m━━━━━━━━━━━━━━━━━━━━\u001b[0m\u001b[37m\u001b[0m \u001b[1m0s\u001b[0m 112ms/step - loss: 1.2271 - mape: 25.8953 - r2_score: -8.4764 - val_loss: 1.9185 - val_mape: 38.6983 - val_r2_score: -18.0476 - learning_rate: 0.0010\n",
      "Epoch 107/1000\n",
      "\u001b[1m4/4\u001b[0m \u001b[32m━━━━━━━━━━━━━━━━━━━━\u001b[0m\u001b[37m\u001b[0m \u001b[1m0s\u001b[0m 111ms/step - loss: 1.2016 - mape: 24.8892 - r2_score: -8.3477 - val_loss: 1.9119 - val_mape: 38.0642 - val_r2_score: -16.8497 - learning_rate: 0.0010\n",
      "Epoch 108/1000\n",
      "\u001b[1m4/4\u001b[0m \u001b[32m━━━━━━━━━━━━━━━━━━━━\u001b[0m\u001b[37m\u001b[0m \u001b[1m0s\u001b[0m 106ms/step - loss: 1.4063 - mape: 29.3502 - r2_score: -9.5770 - val_loss: 1.9006 - val_mape: 37.5294 - val_r2_score: -15.7774 - learning_rate: 0.0010\n",
      "Epoch 109/1000\n",
      "\u001b[1m4/4\u001b[0m \u001b[32m━━━━━━━━━━━━━━━━━━━━\u001b[0m\u001b[37m\u001b[0m \u001b[1m0s\u001b[0m 104ms/step - loss: 1.3771 - mape: 28.7866 - r2_score: -9.3241 - val_loss: 1.8570 - val_mape: 36.6343 - val_r2_score: -15.4688 - learning_rate: 0.0010\n",
      "Epoch 110/1000\n",
      "\u001b[1m4/4\u001b[0m \u001b[32m━━━━━━━━━━━━━━━━━━━━\u001b[0m\u001b[37m\u001b[0m \u001b[1m0s\u001b[0m 89ms/step - loss: 1.2254 - mape: 25.6697 - r2_score: -8.4715 - val_loss: 1.8332 - val_mape: 36.4177 - val_r2_score: -15.7475 - learning_rate: 0.0010\n",
      "Epoch 111/1000\n",
      "\u001b[1m4/4\u001b[0m \u001b[32m━━━━━━━━━━━━━━━━━━━━\u001b[0m\u001b[37m\u001b[0m \u001b[1m0s\u001b[0m 84ms/step - loss: 1.2455 - mape: 25.7013 - r2_score: -8.6392 - val_loss: 1.7875 - val_mape: 35.3084 - val_r2_score: -15.6621 - learning_rate: 0.0010\n",
      "Epoch 112/1000\n",
      "\u001b[1m4/4\u001b[0m \u001b[32m━━━━━━━━━━━━━━━━━━━━\u001b[0m\u001b[37m\u001b[0m \u001b[1m0s\u001b[0m 111ms/step - loss: 1.1715 - mape: 24.2435 - r2_score: -7.9582 - val_loss: 1.7339 - val_mape: 34.0683 - val_r2_score: -15.3794 - learning_rate: 0.0010\n",
      "Epoch 113/1000\n",
      "\u001b[1m4/4\u001b[0m \u001b[32m━━━━━━━━━━━━━━━━━━━━\u001b[0m\u001b[37m\u001b[0m \u001b[1m0s\u001b[0m 110ms/step - loss: 1.2122 - mape: 25.2221 - r2_score: -8.5156 - val_loss: 1.6750 - val_mape: 32.7101 - val_r2_score: -14.6096 - learning_rate: 0.0010\n",
      "Epoch 114/1000\n",
      "\u001b[1m4/4\u001b[0m \u001b[32m━━━━━━━━━━━━━━━━━━━━\u001b[0m\u001b[37m\u001b[0m \u001b[1m0s\u001b[0m 104ms/step - loss: 1.2836 - mape: 26.9694 - r2_score: -8.3254 - val_loss: 1.6430 - val_mape: 32.0102 - val_r2_score: -13.7548 - learning_rate: 0.0010\n",
      "Epoch 115/1000\n",
      "\u001b[1m4/4\u001b[0m \u001b[32m━━━━━━━━━━━━━━━━━━━━\u001b[0m\u001b[37m\u001b[0m \u001b[1m0s\u001b[0m 116ms/step - loss: 1.1653 - mape: 24.7269 - r2_score: -7.2107 - val_loss: 1.7232 - val_mape: 34.0814 - val_r2_score: -13.1907 - learning_rate: 0.0010\n",
      "Epoch 116/1000\n",
      "\u001b[1m4/4\u001b[0m \u001b[32m━━━━━━━━━━━━━━━━━━━━\u001b[0m\u001b[37m\u001b[0m \u001b[1m0s\u001b[0m 106ms/step - loss: 1.0898 - mape: 23.1776 - r2_score: -6.8320 - val_loss: 1.6883 - val_mape: 33.3642 - val_r2_score: -12.9727 - learning_rate: 0.0010\n",
      "Epoch 117/1000\n",
      "\u001b[1m4/4\u001b[0m \u001b[32m━━━━━━━━━━━━━━━━━━━━\u001b[0m\u001b[37m\u001b[0m \u001b[1m0s\u001b[0m 108ms/step - loss: 1.1848 - mape: 25.0593 - r2_score: -7.4089 - val_loss: 1.6135 - val_mape: 31.8058 - val_r2_score: -12.7662 - learning_rate: 0.0010\n",
      "Epoch 118/1000\n",
      "\u001b[1m4/4\u001b[0m \u001b[32m━━━━━━━━━━━━━━━━━━━━\u001b[0m\u001b[37m\u001b[0m \u001b[1m0s\u001b[0m 92ms/step - loss: 1.1780 - mape: 25.1388 - r2_score: -6.1392 - val_loss: 1.5521 - val_mape: 30.4407 - val_r2_score: -12.8761 - learning_rate: 0.0010\n",
      "Epoch 119/1000\n",
      "\u001b[1m4/4\u001b[0m \u001b[32m━━━━━━━━━━━━━━━━━━━━\u001b[0m\u001b[37m\u001b[0m \u001b[1m0s\u001b[0m 131ms/step - loss: 1.0732 - mape: 22.9734 - r2_score: -5.9263 - val_loss: 1.5792 - val_mape: 31.0758 - val_r2_score: -12.7656 - learning_rate: 0.0010\n",
      "Epoch 120/1000\n",
      "\u001b[1m4/4\u001b[0m \u001b[32m━━━━━━━━━━━━━━━━━━━━\u001b[0m\u001b[37m\u001b[0m \u001b[1m0s\u001b[0m 117ms/step - loss: 1.1222 - mape: 23.9448 - r2_score: -5.3348 - val_loss: 1.5837 - val_mape: 31.3146 - val_r2_score: -12.2565 - learning_rate: 0.0010\n",
      "Epoch 121/1000\n",
      "\u001b[1m4/4\u001b[0m \u001b[32m━━━━━━━━━━━━━━━━━━━━\u001b[0m\u001b[37m\u001b[0m \u001b[1m0s\u001b[0m 105ms/step - loss: 1.0216 - mape: 21.3244 - r2_score: -5.1879 - val_loss: 1.6860 - val_mape: 33.8662 - val_r2_score: -12.1438 - learning_rate: 0.0010\n",
      "Epoch 122/1000\n",
      "\u001b[1m4/4\u001b[0m \u001b[32m━━━━━━━━━━━━━━━━━━━━\u001b[0m\u001b[37m\u001b[0m \u001b[1m0s\u001b[0m 89ms/step - loss: 0.8841 - mape: 18.7021 - r2_score: -3.9370 - val_loss: 1.7269 - val_mape: 34.9497 - val_r2_score: -12.2283 - learning_rate: 0.0010\n",
      "Epoch 123/1000\n",
      "\u001b[1m4/4\u001b[0m \u001b[32m━━━━━━━━━━━━━━━━━━━━\u001b[0m\u001b[37m\u001b[0m \u001b[1m0s\u001b[0m 110ms/step - loss: 0.8099 - mape: 17.0615 - r2_score: -3.1672 - val_loss: 1.6998 - val_mape: 34.4957 - val_r2_score: -12.0450 - learning_rate: 0.0010\n",
      "Epoch 124/1000\n",
      "\u001b[1m4/4\u001b[0m \u001b[32m━━━━━━━━━━━━━━━━━━━━\u001b[0m\u001b[37m\u001b[0m \u001b[1m0s\u001b[0m 108ms/step - loss: 0.7676 - mape: 16.0974 - r2_score: -2.3681 - val_loss: 1.6545 - val_mape: 33.6502 - val_r2_score: -11.8146 - learning_rate: 0.0010\n",
      "Epoch 125/1000\n",
      "\u001b[1m4/4\u001b[0m \u001b[32m━━━━━━━━━━━━━━━━━━━━\u001b[0m\u001b[37m\u001b[0m \u001b[1m0s\u001b[0m 112ms/step - loss: 0.7274 - mape: 15.6361 - r2_score: -1.8091 - val_loss: 1.6008 - val_mape: 32.5813 - val_r2_score: -11.4720 - learning_rate: 0.0010\n",
      "Epoch 126/1000\n",
      "\u001b[1m4/4\u001b[0m \u001b[32m━━━━━━━━━━━━━━━━━━━━\u001b[0m\u001b[37m\u001b[0m \u001b[1m0s\u001b[0m 89ms/step - loss: 0.8325 - mape: 17.5314 - r2_score: -2.2312 - val_loss: 1.6251 - val_mape: 33.3567 - val_r2_score: -11.4840 - learning_rate: 0.0010\n",
      "Epoch 127/1000\n",
      "\u001b[1m4/4\u001b[0m \u001b[32m━━━━━━━━━━━━━━━━━━━━\u001b[0m\u001b[37m\u001b[0m \u001b[1m0s\u001b[0m 87ms/step - loss: 0.6669 - mape: 13.7378 - r2_score: -1.7530 - val_loss: 1.6323 - val_mape: 33.7310 - val_r2_score: -11.8054 - learning_rate: 0.0010\n",
      "Epoch 128/1000\n",
      "\u001b[1m4/4\u001b[0m \u001b[32m━━━━━━━━━━━━━━━━━━━━\u001b[0m\u001b[37m\u001b[0m \u001b[1m0s\u001b[0m 87ms/step - loss: 0.6561 - mape: 13.6039 - r2_score: -1.0109 - val_loss: 1.6329 - val_mape: 33.9422 - val_r2_score: -12.3979 - learning_rate: 0.0010\n",
      "Epoch 129/1000\n",
      "\u001b[1m4/4\u001b[0m \u001b[32m━━━━━━━━━━━━━━━━━━━━\u001b[0m\u001b[37m\u001b[0m \u001b[1m0s\u001b[0m 88ms/step - loss: 0.5737 - mape: 12.3798 - r2_score: -0.6730 - val_loss: 1.5783 - val_mape: 32.7741 - val_r2_score: -12.1414 - learning_rate: 0.0010\n",
      "Epoch 130/1000\n",
      "\u001b[1m4/4\u001b[0m \u001b[32m━━━━━━━━━━━━━━━━━━━━\u001b[0m\u001b[37m\u001b[0m \u001b[1m0s\u001b[0m 89ms/step - loss: 0.5509 - mape: 11.3111 - r2_score: -0.8605 - val_loss: 1.5476 - val_mape: 32.1960 - val_r2_score: -11.7320 - learning_rate: 0.0010\n",
      "Epoch 131/1000\n",
      "\u001b[1m4/4\u001b[0m \u001b[32m━━━━━━━━━━━━━━━━━━━━\u001b[0m\u001b[37m\u001b[0m \u001b[1m0s\u001b[0m 88ms/step - loss: 0.5238 - mape: 11.1505 - r2_score: -0.5767 - val_loss: 1.5229 - val_mape: 31.7955 - val_r2_score: -11.7776 - learning_rate: 0.0010\n",
      "Epoch 132/1000\n",
      "\u001b[1m4/4\u001b[0m \u001b[32m━━━━━━━━━━━━━━━━━━━━\u001b[0m\u001b[37m\u001b[0m \u001b[1m0s\u001b[0m 90ms/step - loss: 0.6632 - mape: 14.4643 - r2_score: -1.2079 - val_loss: 1.5436 - val_mape: 32.3602 - val_r2_score: -12.1494 - learning_rate: 0.0010\n",
      "Epoch 133/1000\n",
      "\u001b[1m4/4\u001b[0m \u001b[32m━━━━━━━━━━━━━━━━━━━━\u001b[0m\u001b[37m\u001b[0m \u001b[1m0s\u001b[0m 106ms/step - loss: 0.5851 - mape: 12.0355 - r2_score: -0.6771 - val_loss: 1.5703 - val_mape: 33.3316 - val_r2_score: -10.3355 - learning_rate: 0.0010\n",
      "Epoch 134/1000\n",
      "\u001b[1m4/4\u001b[0m \u001b[32m━━━━━━━━━━━━━━━━━━━━\u001b[0m\u001b[37m\u001b[0m \u001b[1m0s\u001b[0m 121ms/step - loss: 0.5769 - mape: 12.2795 - r2_score: -0.8117 - val_loss: 1.5276 - val_mape: 32.7842 - val_r2_score: -8.3792 - learning_rate: 0.0010\n",
      "Epoch 135/1000\n",
      "\u001b[1m4/4\u001b[0m \u001b[32m━━━━━━━━━━━━━━━━━━━━\u001b[0m\u001b[37m\u001b[0m \u001b[1m0s\u001b[0m 117ms/step - loss: 0.5869 - mape: 12.4234 - r2_score: -0.3213 - val_loss: 1.4313 - val_mape: 30.5358 - val_r2_score: -7.8259 - learning_rate: 0.0010\n",
      "Epoch 136/1000\n",
      "\u001b[1m4/4\u001b[0m \u001b[32m━━━━━━━━━━━━━━━━━━━━\u001b[0m\u001b[37m\u001b[0m \u001b[1m0s\u001b[0m 87ms/step - loss: 0.5295 - mape: 11.2891 - r2_score: -0.1924 - val_loss: 1.3238 - val_mape: 27.7896 - val_r2_score: -8.1432 - learning_rate: 0.0010\n",
      "Epoch 137/1000\n",
      "\u001b[1m4/4\u001b[0m \u001b[32m━━━━━━━━━━━━━━━━━━━━\u001b[0m\u001b[37m\u001b[0m \u001b[1m0s\u001b[0m 87ms/step - loss: 0.7142 - mape: 15.5916 - r2_score: -1.1017 - val_loss: 1.3032 - val_mape: 26.7366 - val_r2_score: -10.3349 - learning_rate: 0.0010\n",
      "Epoch 138/1000\n",
      "\u001b[1m4/4\u001b[0m \u001b[32m━━━━━━━━━━━━━━━━━━━━\u001b[0m\u001b[37m\u001b[0m \u001b[1m0s\u001b[0m 89ms/step - loss: 0.7101 - mape: 15.6542 - r2_score: -0.8381 - val_loss: 1.3531 - val_mape: 27.7655 - val_r2_score: -10.4908 - learning_rate: 0.0010\n",
      "Epoch 139/1000\n",
      "\u001b[1m4/4\u001b[0m \u001b[32m━━━━━━━━━━━━━━━━━━━━\u001b[0m\u001b[37m\u001b[0m \u001b[1m0s\u001b[0m 88ms/step - loss: 0.6990 - mape: 15.0821 - r2_score: -1.2652 - val_loss: 1.3068 - val_mape: 27.3637 - val_r2_score: -8.4053 - learning_rate: 0.0010\n",
      "Epoch 140/1000\n",
      "\u001b[1m4/4\u001b[0m \u001b[32m━━━━━━━━━━━━━━━━━━━━\u001b[0m\u001b[37m\u001b[0m \u001b[1m0s\u001b[0m 112ms/step - loss: 0.6032 - mape: 12.9937 - r2_score: -0.5985 - val_loss: 1.3547 - val_mape: 28.9851 - val_r2_score: -6.5720 - learning_rate: 0.0010\n",
      "Epoch 141/1000\n",
      "\u001b[1m4/4\u001b[0m \u001b[32m━━━━━━━━━━━━━━━━━━━━\u001b[0m\u001b[37m\u001b[0m \u001b[1m0s\u001b[0m 89ms/step - loss: 0.5366 - mape: 12.0205 - r2_score: -0.3143 - val_loss: 1.3222 - val_mape: 28.0858 - val_r2_score: -6.9395 - learning_rate: 0.0010\n",
      "Epoch 142/1000\n",
      "\u001b[1m4/4\u001b[0m \u001b[32m━━━━━━━━━━━━━━━━━━━━\u001b[0m\u001b[37m\u001b[0m \u001b[1m1s\u001b[0m 107ms/step - loss: 0.6772 - mape: 14.5553 - r2_score: -0.7407 - val_loss: 1.2624 - val_mape: 26.6407 - val_r2_score: -6.7502 - learning_rate: 0.0010\n",
      "Epoch 143/1000\n",
      "\u001b[1m4/4\u001b[0m \u001b[32m━━━━━━━━━━━━━━━━━━━━\u001b[0m\u001b[37m\u001b[0m \u001b[1m0s\u001b[0m 110ms/step - loss: 0.5080 - mape: 10.7893 - r2_score: -0.4078 - val_loss: 1.1855 - val_mape: 25.0018 - val_r2_score: -5.6961 - learning_rate: 0.0010\n",
      "Epoch 144/1000\n",
      "\u001b[1m4/4\u001b[0m \u001b[32m━━━━━━━━━━━━━━━━━━━━\u001b[0m\u001b[37m\u001b[0m \u001b[1m0s\u001b[0m 104ms/step - loss: 0.4841 - mape: 10.1633 - r2_score: 0.0500 - val_loss: 1.1189 - val_mape: 23.3308 - val_r2_score: -5.6833 - learning_rate: 0.0010\n",
      "Epoch 145/1000\n",
      "\u001b[1m4/4\u001b[0m \u001b[32m━━━━━━━━━━━━━━━━━━━━\u001b[0m\u001b[37m\u001b[0m \u001b[1m0s\u001b[0m 111ms/step - loss: 0.5214 - mape: 11.5345 - r2_score: -0.1901 - val_loss: 1.1237 - val_mape: 23.5192 - val_r2_score: -5.3251 - learning_rate: 0.0010\n",
      "Epoch 146/1000\n",
      "\u001b[1m4/4\u001b[0m \u001b[32m━━━━━━━━━━━━━━━━━━━━\u001b[0m\u001b[37m\u001b[0m \u001b[1m0s\u001b[0m 87ms/step - loss: 0.4662 - mape: 9.9183 - r2_score: -0.0872 - val_loss: 1.1347 - val_mape: 23.8210 - val_r2_score: -5.4032 - learning_rate: 0.0010\n",
      "Epoch 147/1000\n",
      "\u001b[1m4/4\u001b[0m \u001b[32m━━━━━━━━━━━━━━━━━━━━\u001b[0m\u001b[37m\u001b[0m \u001b[1m0s\u001b[0m 111ms/step - loss: 0.3715 - mape: 8.0216 - r2_score: 0.4730 - val_loss: 1.1516 - val_mape: 24.3346 - val_r2_score: -5.2962 - learning_rate: 0.0010\n",
      "Epoch 148/1000\n",
      "\u001b[1m4/4\u001b[0m \u001b[32m━━━━━━━━━━━━━━━━━━━━\u001b[0m\u001b[37m\u001b[0m \u001b[1m0s\u001b[0m 108ms/step - loss: 0.4742 - mape: 10.3230 - r2_score: 0.1409 - val_loss: 1.1356 - val_mape: 24.1506 - val_r2_score: -4.7916 - learning_rate: 0.0010\n",
      "Epoch 149/1000\n",
      "\u001b[1m4/4\u001b[0m \u001b[32m━━━━━━━━━━━━━━━━━━━━\u001b[0m\u001b[37m\u001b[0m \u001b[1m0s\u001b[0m 108ms/step - loss: 0.5106 - mape: 10.7262 - r2_score: 0.0637 - val_loss: 1.1217 - val_mape: 24.0958 - val_r2_score: -3.9815 - learning_rate: 0.0010\n",
      "Epoch 150/1000\n",
      "\u001b[1m4/4\u001b[0m \u001b[32m━━━━━━━━━━━━━━━━━━━━\u001b[0m\u001b[37m\u001b[0m \u001b[1m0s\u001b[0m 103ms/step - loss: 0.4679 - mape: 10.0233 - r2_score: -0.1804 - val_loss: 1.0463 - val_mape: 22.5957 - val_r2_score: -3.0993 - learning_rate: 0.0010\n",
      "Epoch 151/1000\n",
      "\u001b[1m4/4\u001b[0m \u001b[32m━━━━━━━━━━━━━━━━━━━━\u001b[0m\u001b[37m\u001b[0m \u001b[1m0s\u001b[0m 110ms/step - loss: 0.6172 - mape: 13.5197 - r2_score: -0.4316 - val_loss: 0.9759 - val_mape: 21.0244 - val_r2_score: -2.6152 - learning_rate: 0.0010\n",
      "Epoch 152/1000\n",
      "\u001b[1m4/4\u001b[0m \u001b[32m━━━━━━━━━━━━━━━━━━━━\u001b[0m\u001b[37m\u001b[0m \u001b[1m0s\u001b[0m 97ms/step - loss: 0.6012 - mape: 12.8478 - r2_score: -0.3629 - val_loss: 0.9128 - val_mape: 19.3052 - val_r2_score: -2.6457 - learning_rate: 0.0010\n",
      "Epoch 153/1000\n",
      "\u001b[1m4/4\u001b[0m \u001b[32m━━━━━━━━━━━━━━━━━━━━\u001b[0m\u001b[37m\u001b[0m \u001b[1m1s\u001b[0m 113ms/step - loss: 0.5125 - mape: 11.2519 - r2_score: -9.8228e-04 - val_loss: 0.9985 - val_mape: 20.8654 - val_r2_score: -3.4541 - learning_rate: 0.0010\n",
      "Epoch 154/1000\n",
      "\u001b[1m4/4\u001b[0m \u001b[32m━━━━━━━━━━━━━━━━━━━━\u001b[0m\u001b[37m\u001b[0m \u001b[1m0s\u001b[0m 97ms/step - loss: 0.4921 - mape: 10.6402 - r2_score: 0.1104 - val_loss: 1.0245 - val_mape: 21.4920 - val_r2_score: -3.3880 - learning_rate: 0.0010\n",
      "Epoch 155/1000\n",
      "\u001b[1m4/4\u001b[0m \u001b[32m━━━━━━━━━━━━━━━━━━━━\u001b[0m\u001b[37m\u001b[0m \u001b[1m1s\u001b[0m 94ms/step - loss: 0.5167 - mape: 11.5072 - r2_score: -0.3650 - val_loss: 0.9880 - val_mape: 20.8446 - val_r2_score: -3.0304 - learning_rate: 0.0010\n",
      "Epoch 156/1000\n",
      "\u001b[1m4/4\u001b[0m \u001b[32m━━━━━━━━━━━━━━━━━━━━\u001b[0m\u001b[37m\u001b[0m \u001b[1m0s\u001b[0m 124ms/step - loss: 0.4797 - mape: 10.3648 - r2_score: -0.0503 - val_loss: 0.9858 - val_mape: 21.0640 - val_r2_score: -2.5171 - learning_rate: 0.0010\n",
      "Epoch 157/1000\n",
      "\u001b[1m4/4\u001b[0m \u001b[32m━━━━━━━━━━━━━━━━━━━━\u001b[0m\u001b[37m\u001b[0m \u001b[1m0s\u001b[0m 109ms/step - loss: 0.6017 - mape: 12.7694 - r2_score: -0.1446 - val_loss: 0.9707 - val_mape: 20.9121 - val_r2_score: -2.2929 - learning_rate: 0.0010\n",
      "Epoch 158/1000\n",
      "\u001b[1m4/4\u001b[0m \u001b[32m━━━━━━━━━━━━━━━━━━━━\u001b[0m\u001b[37m\u001b[0m \u001b[1m0s\u001b[0m 106ms/step - loss: 0.7092 - mape: 15.8697 - r2_score: -1.0027 - val_loss: 0.9349 - val_mape: 20.0150 - val_r2_score: -2.0767 - learning_rate: 0.0010\n",
      "Epoch 159/1000\n",
      "\u001b[1m4/4\u001b[0m \u001b[32m━━━━━━━━━━━━━━━━━━━━\u001b[0m\u001b[37m\u001b[0m \u001b[1m0s\u001b[0m 92ms/step - loss: 0.4475 - mape: 9.9613 - r2_score: 0.2988 - val_loss: 0.9779 - val_mape: 20.6051 - val_r2_score: -2.8995 - learning_rate: 0.0010\n",
      "Epoch 160/1000\n",
      "\u001b[1m4/4\u001b[0m \u001b[32m━━━━━━━━━━━━━━━━━━━━\u001b[0m\u001b[37m\u001b[0m \u001b[1m0s\u001b[0m 110ms/step - loss: 0.4608 - mape: 9.8981 - r2_score: 0.2286 - val_loss: 0.9620 - val_mape: 20.7659 - val_r2_score: -2.0418 - learning_rate: 0.0010\n",
      "Epoch 161/1000\n",
      "\u001b[1m4/4\u001b[0m \u001b[32m━━━━━━━━━━━━━━━━━━━━\u001b[0m\u001b[37m\u001b[0m \u001b[1m0s\u001b[0m 106ms/step - loss: 0.5405 - mape: 12.0024 - r2_score: -0.0662 - val_loss: 0.9619 - val_mape: 21.0450 - val_r2_score: -1.7908 - learning_rate: 0.0010\n",
      "Epoch 162/1000\n",
      "\u001b[1m4/4\u001b[0m \u001b[32m━━━━━━━━━━━━━━━━━━━━\u001b[0m\u001b[37m\u001b[0m \u001b[1m0s\u001b[0m 86ms/step - loss: 0.6116 - mape: 13.6948 - r2_score: -0.8050 - val_loss: 0.9550 - val_mape: 20.7624 - val_r2_score: -1.8280 - learning_rate: 0.0010\n",
      "Epoch 163/1000\n",
      "\u001b[1m4/4\u001b[0m \u001b[32m━━━━━━━━━━━━━━━━━━━━\u001b[0m\u001b[37m\u001b[0m \u001b[1m0s\u001b[0m 86ms/step - loss: 0.4506 - mape: 9.9655 - r2_score: 0.2104 - val_loss: 0.9420 - val_mape: 20.1528 - val_r2_score: -2.0185 - learning_rate: 0.0010\n",
      "Epoch 164/1000\n",
      "\u001b[1m4/4\u001b[0m \u001b[32m━━━━━━━━━━━━━━━━━━━━\u001b[0m\u001b[37m\u001b[0m \u001b[1m0s\u001b[0m 88ms/step - loss: 0.4792 - mape: 10.4111 - r2_score: 0.1682 - val_loss: 0.9542 - val_mape: 20.3951 - val_r2_score: -2.1336 - learning_rate: 0.0010\n",
      "Epoch 165/1000\n",
      "\u001b[1m4/4\u001b[0m \u001b[32m━━━━━━━━━━━━━━━━━━━━\u001b[0m\u001b[37m\u001b[0m \u001b[1m0s\u001b[0m 85ms/step - loss: 0.4868 - mape: 10.7268 - r2_score: -0.2008 - val_loss: 0.9844 - val_mape: 20.9060 - val_r2_score: -2.4990 - learning_rate: 0.0010\n",
      "Epoch 166/1000\n",
      "\u001b[1m4/4\u001b[0m \u001b[32m━━━━━━━━━━━━━━━━━━━━\u001b[0m\u001b[37m\u001b[0m \u001b[1m0s\u001b[0m 85ms/step - loss: 0.6161 - mape: 13.6785 - r2_score: -0.2969 - val_loss: 0.9935 - val_mape: 20.8880 - val_r2_score: -2.9877 - learning_rate: 0.0010\n",
      "Epoch 167/1000\n",
      "\u001b[1m4/4\u001b[0m \u001b[32m━━━━━━━━━━━━━━━━━━━━\u001b[0m\u001b[37m\u001b[0m \u001b[1m0s\u001b[0m 90ms/step - loss: 0.4507 - mape: 9.8011 - r2_score: -0.0244 - val_loss: 0.9319 - val_mape: 19.5701 - val_r2_score: -2.5484 - learning_rate: 0.0010\n",
      "Epoch 168/1000\n",
      "\u001b[1m4/4\u001b[0m \u001b[32m━━━━━━━━━━━━━━━━━━━━\u001b[0m\u001b[37m\u001b[0m \u001b[1m0s\u001b[0m 87ms/step - loss: 0.5490 - mape: 11.9694 - r2_score: -0.3221 - val_loss: 0.8775 - val_mape: 18.5374 - val_r2_score: -1.9356 - learning_rate: 0.0010\n",
      "Epoch 169/1000\n",
      "\u001b[1m4/4\u001b[0m \u001b[32m━━━━━━━━━━━━━━━━━━━━\u001b[0m\u001b[37m\u001b[0m \u001b[1m0s\u001b[0m 84ms/step - loss: 0.4822 - mape: 10.5517 - r2_score: 0.1834 - val_loss: 0.8965 - val_mape: 19.1807 - val_r2_score: -1.9042 - learning_rate: 0.0010\n",
      "Epoch 170/1000\n",
      "\u001b[1m4/4\u001b[0m \u001b[32m━━━━━━━━━━━━━━━━━━━━\u001b[0m\u001b[37m\u001b[0m \u001b[1m0s\u001b[0m 87ms/step - loss: 0.4699 - mape: 10.1962 - r2_score: 0.1966 - val_loss: 0.9251 - val_mape: 19.8191 - val_r2_score: -2.0312 - learning_rate: 0.0010\n",
      "Epoch 171/1000\n",
      "\u001b[1m4/4\u001b[0m \u001b[32m━━━━━━━━━━━━━━━━━━━━\u001b[0m\u001b[37m\u001b[0m \u001b[1m0s\u001b[0m 85ms/step - loss: 0.4803 - mape: 10.7013 - r2_score: -0.1104 - val_loss: 0.9483 - val_mape: 20.4688 - val_r2_score: -1.9918 - learning_rate: 0.0010\n",
      "Epoch 172/1000\n",
      "\u001b[1m4/4\u001b[0m \u001b[32m━━━━━━━━━━━━━━━━━━━━\u001b[0m\u001b[37m\u001b[0m \u001b[1m0s\u001b[0m 93ms/step - loss: 0.4646 - mape: 10.3583 - r2_score: 0.1153 - val_loss: 0.9092 - val_mape: 19.5085 - val_r2_score: -1.8793 - learning_rate: 0.0010\n",
      "Epoch 173/1000\n",
      "\u001b[1m4/4\u001b[0m \u001b[32m━━━━━━━━━━━━━━━━━━━━\u001b[0m\u001b[37m\u001b[0m \u001b[1m0s\u001b[0m 87ms/step - loss: 0.4037 - mape: 9.1073 - r2_score: 0.2466 - val_loss: 0.9226 - val_mape: 19.2614 - val_r2_score: -2.7554 - learning_rate: 0.0010\n",
      "Epoch 174/1000\n",
      "\u001b[1m4/4\u001b[0m \u001b[32m━━━━━━━━━━━━━━━━━━━━\u001b[0m\u001b[37m\u001b[0m \u001b[1m1s\u001b[0m 102ms/step - loss: 0.5146 - mape: 11.5348 - r2_score: -0.0846 - val_loss: 0.9126 - val_mape: 18.9093 - val_r2_score: -3.1319 - learning_rate: 0.0010\n",
      "Epoch 175/1000\n",
      "\u001b[1m4/4\u001b[0m \u001b[32m━━━━━━━━━━━━━━━━━━━━\u001b[0m\u001b[37m\u001b[0m \u001b[1m0s\u001b[0m 107ms/step - loss: 0.4588 - mape: 9.9525 - r2_score: 0.1429 - val_loss: 0.8103 - val_mape: 17.1238 - val_r2_score: -1.6722 - learning_rate: 0.0010\n",
      "Epoch 176/1000\n",
      "\u001b[1m4/4\u001b[0m \u001b[32m━━━━━━━━━━━━━━━━━━━━\u001b[0m\u001b[37m\u001b[0m \u001b[1m0s\u001b[0m 105ms/step - loss: 0.4614 - mape: 10.0610 - r2_score: 0.0916 - val_loss: 0.7823 - val_mape: 16.8221 - val_r2_score: -1.1535 - learning_rate: 0.0010\n",
      "Epoch 177/1000\n",
      "\u001b[1m4/4\u001b[0m \u001b[32m━━━━━━━━━━━━━━━━━━━━\u001b[0m\u001b[37m\u001b[0m \u001b[1m0s\u001b[0m 105ms/step - loss: 0.4465 - mape: 9.8234 - r2_score: 0.2976 - val_loss: 0.7505 - val_mape: 16.3525 - val_r2_score: -0.9619 - learning_rate: 0.0010\n",
      "Epoch 178/1000\n",
      "\u001b[1m4/4\u001b[0m \u001b[32m━━━━━━━━━━━━━━━━━━━━\u001b[0m\u001b[37m\u001b[0m \u001b[1m0s\u001b[0m 107ms/step - loss: 0.4598 - mape: 10.1277 - r2_score: 0.1825 - val_loss: 0.7096 - val_mape: 15.6654 - val_r2_score: -0.8684 - learning_rate: 0.0010\n",
      "Epoch 179/1000\n",
      "\u001b[1m4/4\u001b[0m \u001b[32m━━━━━━━━━━━━━━━━━━━━\u001b[0m\u001b[37m\u001b[0m \u001b[1m0s\u001b[0m 107ms/step - loss: 0.4243 - mape: 9.0867 - r2_score: 0.1739 - val_loss: 0.6953 - val_mape: 15.4077 - val_r2_score: -0.8303 - learning_rate: 0.0010\n",
      "Epoch 180/1000\n",
      "\u001b[1m4/4\u001b[0m \u001b[32m━━━━━━━━━━━━━━━━━━━━\u001b[0m\u001b[37m\u001b[0m \u001b[1m0s\u001b[0m 104ms/step - loss: 0.4443 - mape: 9.8207 - r2_score: 0.2513 - val_loss: 0.6945 - val_mape: 14.9511 - val_r2_score: -0.6485 - learning_rate: 0.0010\n",
      "Epoch 181/1000\n",
      "\u001b[1m4/4\u001b[0m \u001b[32m━━━━━━━━━━━━━━━━━━━━\u001b[0m\u001b[37m\u001b[0m \u001b[1m0s\u001b[0m 87ms/step - loss: 0.4193 - mape: 9.3635 - r2_score: 0.2323 - val_loss: 0.6862 - val_mape: 14.6195 - val_r2_score: -0.7975 - learning_rate: 0.0010\n",
      "Epoch 182/1000\n",
      "\u001b[1m4/4\u001b[0m \u001b[32m━━━━━━━━━━━━━━━━━━━━\u001b[0m\u001b[37m\u001b[0m \u001b[1m0s\u001b[0m 87ms/step - loss: 0.4580 - mape: 10.0602 - r2_score: 0.1804 - val_loss: 0.7072 - val_mape: 15.4237 - val_r2_score: -0.8201 - learning_rate: 0.0010\n",
      "Epoch 183/1000\n",
      "\u001b[1m4/4\u001b[0m \u001b[32m━━━━━━━━━━━━━━━━━━━━\u001b[0m\u001b[37m\u001b[0m \u001b[1m0s\u001b[0m 101ms/step - loss: 0.4737 - mape: 10.4451 - r2_score: 0.0288 - val_loss: 0.7362 - val_mape: 16.2584 - val_r2_score: -0.9455 - learning_rate: 0.0010\n",
      "Epoch 184/1000\n",
      "\u001b[1m4/4\u001b[0m \u001b[32m━━━━━━━━━━━━━━━━━━━━\u001b[0m\u001b[37m\u001b[0m \u001b[1m0s\u001b[0m 93ms/step - loss: 0.4260 - mape: 9.5372 - r2_score: 0.1425 - val_loss: 0.7462 - val_mape: 16.5441 - val_r2_score: -0.8128 - learning_rate: 0.0010\n",
      "Epoch 185/1000\n",
      "\u001b[1m4/4\u001b[0m \u001b[32m━━━━━━━━━━━━━━━━━━━━\u001b[0m\u001b[37m\u001b[0m \u001b[1m0s\u001b[0m 88ms/step - loss: 0.4791 - mape: 11.0069 - r2_score: -0.1406 - val_loss: 0.7406 - val_mape: 16.7280 - val_r2_score: -0.9788 - learning_rate: 0.0010\n",
      "Epoch 186/1000\n",
      "\u001b[1m4/4\u001b[0m \u001b[32m━━━━━━━━━━━━━━━━━━━━\u001b[0m\u001b[37m\u001b[0m \u001b[1m0s\u001b[0m 95ms/step - loss: 0.4489 - mape: 10.1185 - r2_score: 0.0785 - val_loss: 0.7546 - val_mape: 17.1286 - val_r2_score: -1.0413 - learning_rate: 0.0010\n",
      "Epoch 187/1000\n",
      "\u001b[1m4/4\u001b[0m \u001b[32m━━━━━━━━━━━━━━━━━━━━\u001b[0m\u001b[37m\u001b[0m \u001b[1m0s\u001b[0m 86ms/step - loss: 0.4880 - mape: 10.8293 - r2_score: -0.1732 - val_loss: 0.7343 - val_mape: 16.5725 - val_r2_score: -0.8362 - learning_rate: 0.0010\n",
      "Epoch 188/1000\n",
      "\u001b[1m4/4\u001b[0m \u001b[32m━━━━━━━━━━━━━━━━━━━━\u001b[0m\u001b[37m\u001b[0m \u001b[1m0s\u001b[0m 85ms/step - loss: 0.5910 - mape: 13.2088 - r2_score: -0.3223 - val_loss: 0.6911 - val_mape: 15.4985 - val_r2_score: -0.7314 - learning_rate: 0.0010\n",
      "Epoch 189/1000\n",
      "\u001b[1m4/4\u001b[0m \u001b[32m━━━━━━━━━━━━━━━━━━━━\u001b[0m\u001b[37m\u001b[0m \u001b[1m0s\u001b[0m 111ms/step - loss: 0.4954 - mape: 11.2052 - r2_score: 0.0510 - val_loss: 0.6569 - val_mape: 14.2097 - val_r2_score: -0.6004 - learning_rate: 0.0010\n",
      "Epoch 190/1000\n",
      "\u001b[1m4/4\u001b[0m \u001b[32m━━━━━━━━━━━━━━━━━━━━\u001b[0m\u001b[37m\u001b[0m \u001b[1m0s\u001b[0m 88ms/step - loss: 0.4643 - mape: 10.0874 - r2_score: 0.1799 - val_loss: 0.6955 - val_mape: 14.8883 - val_r2_score: -0.8853 - learning_rate: 0.0010\n",
      "Epoch 191/1000\n",
      "\u001b[1m4/4\u001b[0m \u001b[32m━━━━━━━━━━━━━━━━━━━━\u001b[0m\u001b[37m\u001b[0m \u001b[1m0s\u001b[0m 86ms/step - loss: 0.4442 - mape: 9.9107 - r2_score: 0.1634 - val_loss: 0.7686 - val_mape: 17.0242 - val_r2_score: -0.7617 - learning_rate: 0.0010\n",
      "Epoch 192/1000\n",
      "\u001b[1m4/4\u001b[0m \u001b[32m━━━━━━━━━━━━━━━━━━━━\u001b[0m\u001b[37m\u001b[0m \u001b[1m0s\u001b[0m 87ms/step - loss: 0.4499 - mape: 9.8293 - r2_score: 0.2468 - val_loss: 0.8199 - val_mape: 18.4833 - val_r2_score: -1.3842 - learning_rate: 0.0010\n",
      "Epoch 193/1000\n",
      "\u001b[1m4/4\u001b[0m \u001b[32m━━━━━━━━━━━━━━━━━━━━\u001b[0m\u001b[37m\u001b[0m \u001b[1m0s\u001b[0m 86ms/step - loss: 0.4775 - mape: 10.6841 - r2_score: 0.0571 - val_loss: 0.8692 - val_mape: 19.2368 - val_r2_score: -1.7230 - learning_rate: 0.0010\n",
      "Epoch 194/1000\n",
      "\u001b[1m4/4\u001b[0m \u001b[32m━━━━━━━━━━━━━━━━━━━━\u001b[0m\u001b[37m\u001b[0m \u001b[1m0s\u001b[0m 87ms/step - loss: 0.5165 - mape: 11.5491 - r2_score: -0.1472 - val_loss: 0.8886 - val_mape: 19.4248 - val_r2_score: -1.8922 - learning_rate: 0.0010\n",
      "Epoch 195/1000\n",
      "\u001b[1m4/4\u001b[0m \u001b[32m━━━━━━━━━━━━━━━━━━━━\u001b[0m\u001b[37m\u001b[0m \u001b[1m0s\u001b[0m 85ms/step - loss: 0.5085 - mape: 11.2601 - r2_score: 0.0290 - val_loss: 0.7113 - val_mape: 15.5989 - val_r2_score: -1.0639 - learning_rate: 0.0010\n",
      "Epoch 196/1000\n",
      "\u001b[1m4/4\u001b[0m \u001b[32m━━━━━━━━━━━━━━━━━━━━\u001b[0m\u001b[37m\u001b[0m \u001b[1m0s\u001b[0m 86ms/step - loss: 0.4986 - mape: 10.9130 - r2_score: -0.0609 - val_loss: 0.7236 - val_mape: 15.6465 - val_r2_score: -0.7271 - learning_rate: 0.0010\n",
      "Epoch 197/1000\n",
      "\u001b[1m4/4\u001b[0m \u001b[32m━━━━━━━━━━━━━━━━━━━━\u001b[0m\u001b[37m\u001b[0m \u001b[1m0s\u001b[0m 86ms/step - loss: 0.4566 - mape: 10.0278 - r2_score: 0.0232 - val_loss: 0.7335 - val_mape: 15.9580 - val_r2_score: -0.7598 - learning_rate: 0.0010\n",
      "Epoch 198/1000\n",
      "\u001b[1m4/4\u001b[0m \u001b[32m━━━━━━━━━━━━━━━━━━━━\u001b[0m\u001b[37m\u001b[0m \u001b[1m0s\u001b[0m 88ms/step - loss: 0.5001 - mape: 10.7287 - r2_score: 0.0282 - val_loss: 0.6942 - val_mape: 15.2789 - val_r2_score: -0.6290 - learning_rate: 0.0010\n",
      "Epoch 199/1000\n",
      "\u001b[1m4/4\u001b[0m \u001b[32m━━━━━━━━━━━━━━━━━━━━\u001b[0m\u001b[37m\u001b[0m \u001b[1m0s\u001b[0m 114ms/step - loss: 0.4735 - mape: 10.9877 - r2_score: -0.0431 - val_loss: 0.6425 - val_mape: 14.1387 - val_r2_score: -0.5769 - learning_rate: 0.0010\n",
      "Epoch 200/1000\n",
      "\u001b[1m4/4\u001b[0m \u001b[32m━━━━━━━━━━━━━━━━━━━━\u001b[0m\u001b[37m\u001b[0m \u001b[1m0s\u001b[0m 85ms/step - loss: 0.5322 - mape: 11.7729 - r2_score: -0.2900 - val_loss: 0.6231 - val_mape: 13.8282 - val_r2_score: -0.6165 - learning_rate: 0.0010\n",
      "Epoch 201/1000\n",
      "\u001b[1m4/4\u001b[0m \u001b[32m━━━━━━━━━━━━━━━━━━━━\u001b[0m\u001b[37m\u001b[0m \u001b[1m0s\u001b[0m 86ms/step - loss: 0.4529 - mape: 10.3313 - r2_score: -0.4076 - val_loss: 0.6781 - val_mape: 15.2011 - val_r2_score: -0.8765 - learning_rate: 0.0010\n",
      "Epoch 202/1000\n",
      "\u001b[1m4/4\u001b[0m \u001b[32m━━━━━━━━━━━━━━━━━━━━\u001b[0m\u001b[37m\u001b[0m \u001b[1m0s\u001b[0m 87ms/step - loss: 0.4618 - mape: 10.3534 - r2_score: 0.0681 - val_loss: 0.7899 - val_mape: 17.6485 - val_r2_score: -1.2553 - learning_rate: 0.0010\n",
      "Epoch 203/1000\n",
      "\u001b[1m4/4\u001b[0m \u001b[32m━━━━━━━━━━━━━━━━━━━━\u001b[0m\u001b[37m\u001b[0m \u001b[1m0s\u001b[0m 90ms/step - loss: 0.4453 - mape: 9.7653 - r2_score: 0.2691 - val_loss: 0.7432 - val_mape: 16.7100 - val_r2_score: -1.0726 - learning_rate: 0.0010\n",
      "Epoch 204/1000\n",
      "\u001b[1m4/4\u001b[0m \u001b[32m━━━━━━━━━━━━━━━━━━━━\u001b[0m\u001b[37m\u001b[0m \u001b[1m1s\u001b[0m 108ms/step - loss: 0.4669 - mape: 10.1415 - r2_score: 0.0780 - val_loss: 0.6728 - val_mape: 14.9677 - val_r2_score: -0.5295 - learning_rate: 0.0010\n",
      "Epoch 205/1000\n",
      "\u001b[1m4/4\u001b[0m \u001b[32m━━━━━━━━━━━━━━━━━━━━\u001b[0m\u001b[37m\u001b[0m \u001b[1m0s\u001b[0m 115ms/step - loss: 0.5974 - mape: 13.6470 - r2_score: -0.5473 - val_loss: 0.6481 - val_mape: 14.3501 - val_r2_score: -0.4136 - learning_rate: 0.0010\n",
      "Epoch 206/1000\n",
      "\u001b[1m4/4\u001b[0m \u001b[32m━━━━━━━━━━━━━━━━━━━━\u001b[0m\u001b[37m\u001b[0m \u001b[1m0s\u001b[0m 112ms/step - loss: 0.4337 - mape: 9.5590 - r2_score: 0.2055 - val_loss: 0.6214 - val_mape: 13.6157 - val_r2_score: -0.3641 - learning_rate: 0.0010\n",
      "Epoch 207/1000\n",
      "\u001b[1m4/4\u001b[0m \u001b[32m━━━━━━━━━━━━━━━━━━━━\u001b[0m\u001b[37m\u001b[0m \u001b[1m0s\u001b[0m 86ms/step - loss: 0.4658 - mape: 10.1797 - r2_score: 0.1087 - val_loss: 0.6241 - val_mape: 13.5328 - val_r2_score: -0.3959 - learning_rate: 0.0010\n",
      "Epoch 208/1000\n",
      "\u001b[1m4/4\u001b[0m \u001b[32m━━━━━━━━━━━━━━━━━━━━\u001b[0m\u001b[37m\u001b[0m \u001b[1m0s\u001b[0m 88ms/step - loss: 0.3871 - mape: 8.7961 - r2_score: 0.2869 - val_loss: 0.6609 - val_mape: 14.3369 - val_r2_score: -0.4938 - learning_rate: 0.0010\n",
      "Epoch 209/1000\n",
      "\u001b[1m4/4\u001b[0m \u001b[32m━━━━━━━━━━━━━━━━━━━━\u001b[0m\u001b[37m\u001b[0m \u001b[1m0s\u001b[0m 92ms/step - loss: 0.4328 - mape: 9.6215 - r2_score: 0.1538 - val_loss: 0.7170 - val_mape: 15.3947 - val_r2_score: -0.7503 - learning_rate: 0.0010\n",
      "Epoch 210/1000\n",
      "\u001b[1m4/4\u001b[0m \u001b[32m━━━━━━━━━━━━━━━━━━━━\u001b[0m\u001b[37m\u001b[0m \u001b[1m0s\u001b[0m 99ms/step - loss: 0.4824 - mape: 10.4937 - r2_score: 0.1481 - val_loss: 0.7171 - val_mape: 15.2515 - val_r2_score: -0.8892 - learning_rate: 0.0010\n",
      "Epoch 211/1000\n",
      "\u001b[1m4/4\u001b[0m \u001b[32m━━━━━━━━━━━━━━━━━━━━\u001b[0m\u001b[37m\u001b[0m \u001b[1m0s\u001b[0m 87ms/step - loss: 0.3794 - mape: 8.0892 - r2_score: 0.4608 - val_loss: 0.7052 - val_mape: 14.9914 - val_r2_score: -0.8724 - learning_rate: 0.0010\n",
      "Epoch 212/1000\n",
      "\u001b[1m4/4\u001b[0m \u001b[32m━━━━━━━━━━━━━━━━━━━━\u001b[0m\u001b[37m\u001b[0m \u001b[1m0s\u001b[0m 91ms/step - loss: 0.4832 - mape: 10.4536 - r2_score: -0.0142 - val_loss: 0.6922 - val_mape: 15.1003 - val_r2_score: -0.7075 - learning_rate: 0.0010\n",
      "Epoch 213/1000\n",
      "\u001b[1m4/4\u001b[0m \u001b[32m━━━━━━━━━━━━━━━━━━━━\u001b[0m\u001b[37m\u001b[0m \u001b[1m0s\u001b[0m 91ms/step - loss: 0.5163 - mape: 11.1170 - r2_score: 0.0204 - val_loss: 0.6779 - val_mape: 15.1727 - val_r2_score: -0.8902 - learning_rate: 0.0010\n",
      "Epoch 214/1000\n",
      "\u001b[1m4/4\u001b[0m \u001b[32m━━━━━━━━━━━━━━━━━━━━\u001b[0m\u001b[37m\u001b[0m \u001b[1m0s\u001b[0m 95ms/step - loss: 0.3953 - mape: 8.6333 - r2_score: 0.3902 - val_loss: 0.6729 - val_mape: 15.0161 - val_r2_score: -0.7339 - learning_rate: 0.0010\n",
      "Epoch 215/1000\n",
      "\u001b[1m4/4\u001b[0m \u001b[32m━━━━━━━━━━━━━━━━━━━━\u001b[0m\u001b[37m\u001b[0m \u001b[1m0s\u001b[0m 102ms/step - loss: 0.4409 - mape: 9.8328 - r2_score: 0.2119 - val_loss: 0.6145 - val_mape: 13.8462 - val_r2_score: -0.5304 - learning_rate: 0.0010\n",
      "Epoch 216/1000\n",
      "\u001b[1m4/4\u001b[0m \u001b[32m━━━━━━━━━━━━━━━━━━━━\u001b[0m\u001b[37m\u001b[0m \u001b[1m0s\u001b[0m 91ms/step - loss: 0.4454 - mape: 9.5597 - r2_score: 0.3078 - val_loss: 0.6025 - val_mape: 13.5550 - val_r2_score: -0.4771 - learning_rate: 0.0010\n",
      "Epoch 217/1000\n",
      "\u001b[1m4/4\u001b[0m \u001b[32m━━━━━━━━━━━━━━━━━━━━\u001b[0m\u001b[37m\u001b[0m \u001b[1m0s\u001b[0m 91ms/step - loss: 0.4641 - mape: 10.1475 - r2_score: 0.0355 - val_loss: 0.5865 - val_mape: 13.0872 - val_r2_score: -0.3810 - learning_rate: 0.0010\n",
      "Epoch 218/1000\n",
      "\u001b[1m4/4\u001b[0m \u001b[32m━━━━━━━━━━━━━━━━━━━━\u001b[0m\u001b[37m\u001b[0m \u001b[1m0s\u001b[0m 88ms/step - loss: 0.4072 - mape: 8.7391 - r2_score: 0.4116 - val_loss: 0.5810 - val_mape: 12.9433 - val_r2_score: -0.4191 - learning_rate: 0.0010\n",
      "Epoch 219/1000\n",
      "\u001b[1m4/4\u001b[0m \u001b[32m━━━━━━━━━━━━━━━━━━━━\u001b[0m\u001b[37m\u001b[0m \u001b[1m0s\u001b[0m 90ms/step - loss: 0.5291 - mape: 11.6755 - r2_score: -0.0056 - val_loss: 0.6336 - val_mape: 14.1554 - val_r2_score: -0.6370 - learning_rate: 0.0010\n",
      "Epoch 220/1000\n",
      "\u001b[1m4/4\u001b[0m \u001b[32m━━━━━━━━━━━━━━━━━━━━\u001b[0m\u001b[37m\u001b[0m \u001b[1m0s\u001b[0m 93ms/step - loss: 0.4228 - mape: 9.4578 - r2_score: 0.2594 - val_loss: 0.6001 - val_mape: 13.4889 - val_r2_score: -0.5566 - learning_rate: 0.0010\n",
      "Epoch 221/1000\n",
      "\u001b[1m4/4\u001b[0m \u001b[32m━━━━━━━━━━━━━━━━━━━━\u001b[0m\u001b[37m\u001b[0m \u001b[1m0s\u001b[0m 89ms/step - loss: 0.3564 - mape: 7.7563 - r2_score: 0.5343 - val_loss: 0.6010 - val_mape: 13.4900 - val_r2_score: -0.4988 - learning_rate: 0.0010\n",
      "Epoch 222/1000\n",
      "\u001b[1m4/4\u001b[0m \u001b[32m━━━━━━━━━━━━━━━━━━━━\u001b[0m\u001b[37m\u001b[0m \u001b[1m0s\u001b[0m 92ms/step - loss: 0.4477 - mape: 9.9429 - r2_score: 0.1865 - val_loss: 0.6170 - val_mape: 13.6388 - val_r2_score: -0.3749 - learning_rate: 0.0010\n",
      "Epoch 223/1000\n",
      "\u001b[1m4/4\u001b[0m \u001b[32m━━━━━━━━━━━━━━━━━━━━\u001b[0m\u001b[37m\u001b[0m \u001b[1m0s\u001b[0m 89ms/step - loss: 0.3415 - mape: 7.4266 - r2_score: 0.4906 - val_loss: 0.6317 - val_mape: 14.1449 - val_r2_score: -0.4626 - learning_rate: 0.0010\n",
      "Epoch 224/1000\n",
      "\u001b[1m4/4\u001b[0m \u001b[32m━━━━━━━━━━━━━━━━━━━━\u001b[0m\u001b[37m\u001b[0m \u001b[1m0s\u001b[0m 88ms/step - loss: 0.3972 - mape: 8.6708 - r2_score: 0.3995 - val_loss: 0.7167 - val_mape: 16.0374 - val_r2_score: -0.9295 - learning_rate: 0.0010\n",
      "Epoch 225/1000\n",
      "\u001b[1m4/4\u001b[0m \u001b[32m━━━━━━━━━━━━━━━━━━━━\u001b[0m\u001b[37m\u001b[0m \u001b[1m0s\u001b[0m 93ms/step - loss: 0.4177 - mape: 9.1266 - r2_score: 0.2215 - val_loss: 0.7032 - val_mape: 15.8038 - val_r2_score: -0.9277 - learning_rate: 0.0010\n",
      "Epoch 226/1000\n",
      "\u001b[1m4/4\u001b[0m \u001b[32m━━━━━━━━━━━━━━━━━━━━\u001b[0m\u001b[37m\u001b[0m \u001b[1m0s\u001b[0m 92ms/step - loss: 0.4220 - mape: 9.0213 - r2_score: 0.2942 - val_loss: 0.6253 - val_mape: 13.9956 - val_r2_score: -0.5549 - learning_rate: 0.0010\n",
      "Epoch 227/1000\n",
      "\u001b[1m4/4\u001b[0m \u001b[32m━━━━━━━━━━━━━━━━━━━━\u001b[0m\u001b[37m\u001b[0m \u001b[1m0s\u001b[0m 88ms/step - loss: 0.3990 - mape: 8.5003 - r2_score: 0.3463 - val_loss: 0.6163 - val_mape: 13.5318 - val_r2_score: -0.4397 - learning_rate: 0.0010\n",
      "Epoch 228/1000\n",
      "\u001b[1m4/4\u001b[0m \u001b[32m━━━━━━━━━━━━━━━━━━━━\u001b[0m\u001b[37m\u001b[0m \u001b[1m0s\u001b[0m 88ms/step - loss: 0.4380 - mape: 9.6201 - r2_score: 0.2990 - val_loss: 0.6229 - val_mape: 13.7043 - val_r2_score: -0.4477 - learning_rate: 0.0010\n",
      "Epoch 229/1000\n",
      "\u001b[1m4/4\u001b[0m \u001b[32m━━━━━━━━━━━━━━━━━━━━\u001b[0m\u001b[37m\u001b[0m \u001b[1m0s\u001b[0m 90ms/step - loss: 0.5024 - mape: 11.3624 - r2_score: -0.1551 - val_loss: 0.6282 - val_mape: 13.8918 - val_r2_score: -0.4285 - learning_rate: 0.0010\n",
      "Epoch 230/1000\n",
      "\u001b[1m4/4\u001b[0m \u001b[32m━━━━━━━━━━━━━━━━━━━━\u001b[0m\u001b[37m\u001b[0m \u001b[1m0s\u001b[0m 88ms/step - loss: 0.4682 - mape: 10.2468 - r2_score: 0.2946 - val_loss: 0.6285 - val_mape: 13.9751 - val_r2_score: -0.4122 - learning_rate: 0.0010\n",
      "Epoch 231/1000\n",
      "\u001b[1m4/4\u001b[0m \u001b[32m━━━━━━━━━━━━━━━━━━━━\u001b[0m\u001b[37m\u001b[0m \u001b[1m0s\u001b[0m 88ms/step - loss: 0.3779 - mape: 8.2437 - r2_score: 0.4174 - val_loss: 0.6326 - val_mape: 14.2206 - val_r2_score: -0.4711 - learning_rate: 0.0010\n",
      "Epoch 232/1000\n",
      "\u001b[1m4/4\u001b[0m \u001b[32m━━━━━━━━━━━━━━━━━━━━\u001b[0m\u001b[37m\u001b[0m \u001b[1m0s\u001b[0m 89ms/step - loss: 0.4866 - mape: 10.3689 - r2_score: 0.0558 - val_loss: 0.7401 - val_mape: 16.4681 - val_r2_score: -0.8626 - learning_rate: 0.0010\n",
      "Epoch 233/1000\n",
      "\u001b[1m4/4\u001b[0m \u001b[32m━━━━━━━━━━━━━━━━━━━━\u001b[0m\u001b[37m\u001b[0m \u001b[1m0s\u001b[0m 105ms/step - loss: 0.4242 - mape: 9.0992 - r2_score: 0.2690 - val_loss: 0.8844 - val_mape: 19.5200 - val_r2_score: -1.5422 - learning_rate: 0.0010\n",
      "Epoch 234/1000\n",
      "\u001b[1m4/4\u001b[0m \u001b[32m━━━━━━━━━━━━━━━━━━━━\u001b[0m\u001b[37m\u001b[0m \u001b[1m0s\u001b[0m 94ms/step - loss: 0.4711 - mape: 10.3388 - r2_score: 0.0916 - val_loss: 0.8361 - val_mape: 18.5566 - val_r2_score: -1.3798 - learning_rate: 0.0010\n",
      "Epoch 235/1000\n",
      "\u001b[1m4/4\u001b[0m \u001b[32m━━━━━━━━━━━━━━━━━━━━\u001b[0m\u001b[37m\u001b[0m \u001b[1m0s\u001b[0m 90ms/step - loss: 0.4180 - mape: 9.2594 - r2_score: 0.1350 - val_loss: 0.6691 - val_mape: 15.1068 - val_r2_score: -0.6803 - learning_rate: 0.0010\n",
      "Epoch 236/1000\n",
      "\u001b[1m4/4\u001b[0m \u001b[32m━━━━━━━━━━━━━━━━━━━━\u001b[0m\u001b[37m\u001b[0m \u001b[1m0s\u001b[0m 96ms/step - loss: 0.3655 - mape: 8.1039 - r2_score: 0.3591 - val_loss: 0.6938 - val_mape: 15.5249 - val_r2_score: -0.6683 - learning_rate: 0.0010\n",
      "Epoch 237/1000\n",
      "\u001b[1m4/4\u001b[0m \u001b[32m━━━━━━━━━━━━━━━━━━━━\u001b[0m\u001b[37m\u001b[0m \u001b[1m0s\u001b[0m 88ms/step - loss: 0.3991 - mape: 8.7177 - r2_score: 0.3262 - val_loss: 0.7887 - val_mape: 17.3615 - val_r2_score: -0.9496 - learning_rate: 0.0010\n",
      "Epoch 238/1000\n",
      "\u001b[1m4/4\u001b[0m \u001b[32m━━━━━━━━━━━━━━━━━━━━\u001b[0m\u001b[37m\u001b[0m \u001b[1m0s\u001b[0m 90ms/step - loss: 0.4707 - mape: 10.4018 - r2_score: 0.1522 - val_loss: 0.8813 - val_mape: 19.0929 - val_r2_score: -1.4354 - learning_rate: 0.0010\n",
      "Epoch 239/1000\n",
      "\u001b[1m4/4\u001b[0m \u001b[32m━━━━━━━━━━━━━━━━━━━━\u001b[0m\u001b[37m\u001b[0m \u001b[1m0s\u001b[0m 92ms/step - loss: 0.3751 - mape: 8.1934 - r2_score: 0.4551 - val_loss: 0.9012 - val_mape: 19.5121 - val_r2_score: -1.4918 - learning_rate: 0.0010\n",
      "Epoch 240/1000\n",
      "\u001b[1m4/4\u001b[0m \u001b[32m━━━━━━━━━━━━━━━━━━━━\u001b[0m\u001b[37m\u001b[0m \u001b[1m0s\u001b[0m 91ms/step - loss: 0.4650 - mape: 9.9868 - r2_score: 0.2294 - val_loss: 0.7466 - val_mape: 16.4346 - val_r2_score: -0.6920 - learning_rate: 0.0010\n",
      "Epoch 241/1000\n",
      "\u001b[1m4/4\u001b[0m \u001b[32m━━━━━━━━━━━━━━━━━━━━\u001b[0m\u001b[37m\u001b[0m \u001b[1m0s\u001b[0m 113ms/step - loss: 0.4235 - mape: 9.1386 - r2_score: 0.3683 - val_loss: 0.6291 - val_mape: 14.1304 - val_r2_score: -0.3298 - learning_rate: 0.0010\n",
      "Epoch 242/1000\n",
      "\u001b[1m4/4\u001b[0m \u001b[32m━━━━━━━━━━━━━━━━━━━━\u001b[0m\u001b[37m\u001b[0m \u001b[1m0s\u001b[0m 87ms/step - loss: 0.5558 - mape: 11.9850 - r2_score: -0.0093 - val_loss: 0.6233 - val_mape: 14.0339 - val_r2_score: -0.3514 - learning_rate: 0.0010\n",
      "Epoch 243/1000\n",
      "\u001b[1m4/4\u001b[0m \u001b[32m━━━━━━━━━━━━━━━━━━━━\u001b[0m\u001b[37m\u001b[0m \u001b[1m0s\u001b[0m 87ms/step - loss: 0.3663 - mape: 7.9137 - r2_score: 0.5064 - val_loss: 0.7407 - val_mape: 16.4734 - val_r2_score: -0.7709 - learning_rate: 0.0010\n",
      "Epoch 244/1000\n",
      "\u001b[1m4/4\u001b[0m \u001b[32m━━━━━━━━━━━━━━━━━━━━\u001b[0m\u001b[37m\u001b[0m \u001b[1m0s\u001b[0m 91ms/step - loss: 0.4097 - mape: 8.7962 - r2_score: 0.3708 - val_loss: 0.9948 - val_mape: 21.6346 - val_r2_score: -2.2554 - learning_rate: 0.0010\n",
      "Epoch 245/1000\n",
      "\u001b[1m4/4\u001b[0m \u001b[32m━━━━━━━━━━━━━━━━━━━━\u001b[0m\u001b[37m\u001b[0m \u001b[1m0s\u001b[0m 85ms/step - loss: 0.4542 - mape: 10.1315 - r2_score: -0.0374 - val_loss: 0.8984 - val_mape: 19.6054 - val_r2_score: -1.8563 - learning_rate: 0.0010\n",
      "Epoch 246/1000\n",
      "\u001b[1m4/4\u001b[0m \u001b[32m━━━━━━━━━━━━━━━━━━━━\u001b[0m\u001b[37m\u001b[0m \u001b[1m0s\u001b[0m 94ms/step - loss: 0.5548 - mape: 12.2718 - r2_score: -0.2568 - val_loss: 0.7282 - val_mape: 16.2089 - val_r2_score: -1.0341 - learning_rate: 0.0010\n",
      "Epoch 247/1000\n",
      "\u001b[1m4/4\u001b[0m \u001b[32m━━━━━━━━━━━━━━━━━━━━\u001b[0m\u001b[37m\u001b[0m \u001b[1m0s\u001b[0m 87ms/step - loss: 0.4213 - mape: 9.6028 - r2_score: 0.2240 - val_loss: 0.6669 - val_mape: 15.1180 - val_r2_score: -0.6596 - learning_rate: 0.0010\n",
      "Epoch 248/1000\n",
      "\u001b[1m4/4\u001b[0m \u001b[32m━━━━━━━━━━━━━━━━━━━━\u001b[0m\u001b[37m\u001b[0m \u001b[1m0s\u001b[0m 89ms/step - loss: 0.4267 - mape: 9.4349 - r2_score: 0.2276 - val_loss: 0.8827 - val_mape: 19.5324 - val_r2_score: -1.4410 - learning_rate: 0.0010\n",
      "Epoch 249/1000\n",
      "\u001b[1m4/4\u001b[0m \u001b[32m━━━━━━━━━━━━━━━━━━━━\u001b[0m\u001b[37m\u001b[0m \u001b[1m0s\u001b[0m 89ms/step - loss: 0.4462 - mape: 9.7986 - r2_score: 0.3048 - val_loss: 1.0272 - val_mape: 22.3608 - val_r2_score: -2.3860 - learning_rate: 0.0010\n",
      "Epoch 250/1000\n",
      "\u001b[1m4/4\u001b[0m \u001b[32m━━━━━━━━━━━━━━━━━━━━\u001b[0m\u001b[37m\u001b[0m \u001b[1m0s\u001b[0m 92ms/step - loss: 0.4608 - mape: 9.9001 - r2_score: 0.0454 - val_loss: 0.8494 - val_mape: 18.5842 - val_r2_score: -1.3144 - learning_rate: 0.0010\n",
      "Epoch 251/1000\n",
      "\u001b[1m4/4\u001b[0m \u001b[32m━━━━━━━━━━━━━━━━━━━━\u001b[0m\u001b[37m\u001b[0m \u001b[1m0s\u001b[0m 94ms/step - loss: 0.4410 - mape: 9.7579 - r2_score: 0.1666 - val_loss: 0.6692 - val_mape: 14.7264 - val_r2_score: -0.5387 - learning_rate: 0.0010\n",
      "Epoch 252/1000\n",
      "\u001b[1m4/4\u001b[0m \u001b[32m━━━━━━━━━━━━━━━━━━━━\u001b[0m\u001b[37m\u001b[0m \u001b[1m0s\u001b[0m 114ms/step - loss: 0.4427 - mape: 9.6371 - r2_score: 0.2677 - val_loss: 0.5794 - val_mape: 12.7296 - val_r2_score: -0.2745 - learning_rate: 0.0010\n",
      "Epoch 253/1000\n",
      "\u001b[1m4/4\u001b[0m \u001b[32m━━━━━━━━━━━━━━━━━━━━\u001b[0m\u001b[37m\u001b[0m \u001b[1m0s\u001b[0m 110ms/step - loss: 0.4533 - mape: 9.7333 - r2_score: 0.2275 - val_loss: 0.5279 - val_mape: 11.7944 - val_r2_score: -0.1501 - learning_rate: 0.0010\n",
      "Epoch 254/1000\n",
      "\u001b[1m4/4\u001b[0m \u001b[32m━━━━━━━━━━━━━━━━━━━━\u001b[0m\u001b[37m\u001b[0m \u001b[1m0s\u001b[0m 88ms/step - loss: 0.3674 - mape: 8.0733 - r2_score: 0.4865 - val_loss: 0.5776 - val_mape: 12.8639 - val_r2_score: -0.2261 - learning_rate: 0.0010\n",
      "Epoch 255/1000\n",
      "\u001b[1m4/4\u001b[0m \u001b[32m━━━━━━━━━━━━━━━━━━━━\u001b[0m\u001b[37m\u001b[0m \u001b[1m0s\u001b[0m 93ms/step - loss: 0.4384 - mape: 9.5572 - r2_score: 0.2229 - val_loss: 0.6076 - val_mape: 13.4981 - val_r2_score: -0.2718 - learning_rate: 0.0010\n",
      "Epoch 256/1000\n",
      "\u001b[1m4/4\u001b[0m \u001b[32m━━━━━━━━━━━━━━━━━━━━\u001b[0m\u001b[37m\u001b[0m \u001b[1m0s\u001b[0m 88ms/step - loss: 0.4235 - mape: 9.1945 - r2_score: 0.1676 - val_loss: 0.6153 - val_mape: 13.6764 - val_r2_score: -0.2374 - learning_rate: 0.0010\n",
      "Epoch 257/1000\n",
      "\u001b[1m4/4\u001b[0m \u001b[32m━━━━━━━━━━━━━━━━━━━━\u001b[0m\u001b[37m\u001b[0m \u001b[1m0s\u001b[0m 92ms/step - loss: 0.3889 - mape: 8.1831 - r2_score: 0.4448 - val_loss: 0.6481 - val_mape: 14.6352 - val_r2_score: -0.3685 - learning_rate: 0.0010\n",
      "Epoch 258/1000\n",
      "\u001b[1m4/4\u001b[0m \u001b[32m━━━━━━━━━━━━━━━━━━━━\u001b[0m\u001b[37m\u001b[0m \u001b[1m0s\u001b[0m 88ms/step - loss: 0.3365 - mape: 7.4126 - r2_score: 0.5519 - val_loss: 0.7012 - val_mape: 15.8093 - val_r2_score: -0.5945 - learning_rate: 0.0010\n",
      "Epoch 259/1000\n",
      "\u001b[1m4/4\u001b[0m \u001b[32m━━━━━━━━━━━━━━━━━━━━\u001b[0m\u001b[37m\u001b[0m \u001b[1m0s\u001b[0m 91ms/step - loss: 0.4186 - mape: 9.1682 - r2_score: 0.3878 - val_loss: 0.7468 - val_mape: 16.5652 - val_r2_score: -0.7711 - learning_rate: 0.0010\n",
      "Epoch 260/1000\n",
      "\u001b[1m4/4\u001b[0m \u001b[32m━━━━━━━━━━━━━━━━━━━━\u001b[0m\u001b[37m\u001b[0m \u001b[1m0s\u001b[0m 89ms/step - loss: 0.4521 - mape: 10.0408 - r2_score: 0.2478 - val_loss: 0.7065 - val_mape: 15.7082 - val_r2_score: -0.6991 - learning_rate: 0.0010\n",
      "Epoch 261/1000\n",
      "\u001b[1m4/4\u001b[0m \u001b[32m━━━━━━━━━━━━━━━━━━━━\u001b[0m\u001b[37m\u001b[0m \u001b[1m0s\u001b[0m 90ms/step - loss: 0.4649 - mape: 10.2041 - r2_score: 0.2374 - val_loss: 0.6760 - val_mape: 15.2065 - val_r2_score: -0.6325 - learning_rate: 0.0010\n",
      "Epoch 262/1000\n",
      "\u001b[1m4/4\u001b[0m \u001b[32m━━━━━━━━━━━━━━━━━━━━\u001b[0m\u001b[37m\u001b[0m \u001b[1m0s\u001b[0m 86ms/step - loss: 0.4803 - mape: 10.4468 - r2_score: 0.0833 - val_loss: 0.8455 - val_mape: 18.7862 - val_r2_score: -1.2995 - learning_rate: 0.0010\n",
      "Epoch 263/1000\n",
      "\u001b[1m4/4\u001b[0m \u001b[32m━━━━━━━━━━━━━━━━━━━━\u001b[0m\u001b[37m\u001b[0m \u001b[1m0s\u001b[0m 89ms/step - loss: 0.4442 - mape: 9.7180 - r2_score: 0.2454 - val_loss: 0.9000 - val_mape: 19.9429 - val_r2_score: -1.5589 - learning_rate: 0.0010\n",
      "Epoch 264/1000\n",
      "\u001b[1m4/4\u001b[0m \u001b[32m━━━━━━━━━━━━━━━━━━━━\u001b[0m\u001b[37m\u001b[0m \u001b[1m0s\u001b[0m 87ms/step - loss: 0.4191 - mape: 9.5020 - r2_score: 0.1543 - val_loss: 0.7326 - val_mape: 16.5033 - val_r2_score: -0.8154 - learning_rate: 0.0010\n",
      "Epoch 265/1000\n",
      "\u001b[1m4/4\u001b[0m \u001b[32m━━━━━━━━━━━━━━━━━━━━\u001b[0m\u001b[37m\u001b[0m \u001b[1m0s\u001b[0m 90ms/step - loss: 0.4243 - mape: 9.4778 - r2_score: 0.1567 - val_loss: 0.6346 - val_mape: 14.1723 - val_r2_score: -0.3210 - learning_rate: 0.0010\n",
      "Epoch 266/1000\n",
      "\u001b[1m4/4\u001b[0m \u001b[32m━━━━━━━━━━━━━━━━━━━━\u001b[0m\u001b[37m\u001b[0m \u001b[1m0s\u001b[0m 93ms/step - loss: 0.4181 - mape: 8.9854 - r2_score: 0.3554 - val_loss: 0.6088 - val_mape: 13.5955 - val_r2_score: -0.3415 - learning_rate: 0.0010\n",
      "Epoch 267/1000\n",
      "\u001b[1m4/4\u001b[0m \u001b[32m━━━━━━━━━━━━━━━━━━━━\u001b[0m\u001b[37m\u001b[0m \u001b[1m0s\u001b[0m 88ms/step - loss: 0.3922 - mape: 8.4709 - r2_score: 0.3855 - val_loss: 0.6700 - val_mape: 14.8828 - val_r2_score: -0.6670 - learning_rate: 0.0010\n",
      "Epoch 268/1000\n",
      "\u001b[1m4/4\u001b[0m \u001b[32m━━━━━━━━━━━━━━━━━━━━\u001b[0m\u001b[37m\u001b[0m \u001b[1m0s\u001b[0m 89ms/step - loss: 0.3483 - mape: 7.5343 - r2_score: 0.5551 - val_loss: 0.6677 - val_mape: 14.8730 - val_r2_score: -0.6691 - learning_rate: 0.0010\n",
      "Epoch 269/1000\n",
      "\u001b[1m4/4\u001b[0m \u001b[32m━━━━━━━━━━━━━━━━━━━━\u001b[0m\u001b[37m\u001b[0m \u001b[1m0s\u001b[0m 88ms/step - loss: 0.4450 - mape: 9.9420 - r2_score: 0.1913 - val_loss: 0.6575 - val_mape: 14.8568 - val_r2_score: -0.6644 - learning_rate: 0.0010\n",
      "Epoch 270/1000\n",
      "\u001b[1m4/4\u001b[0m \u001b[32m━━━━━━━━━━━━━━━━━━━━\u001b[0m\u001b[37m\u001b[0m \u001b[1m0s\u001b[0m 88ms/step - loss: 0.4606 - mape: 10.3911 - r2_score: -0.0454 - val_loss: 0.7070 - val_mape: 16.0347 - val_r2_score: -0.9423 - learning_rate: 0.0010\n",
      "Epoch 271/1000\n",
      "\u001b[1m4/4\u001b[0m \u001b[32m━━━━━━━━━━━━━━━━━━━━\u001b[0m\u001b[37m\u001b[0m \u001b[1m0s\u001b[0m 91ms/step - loss: 0.4667 - mape: 10.8569 - r2_score: 0.1242 - val_loss: 0.7133 - val_mape: 16.1248 - val_r2_score: -0.8996 - learning_rate: 0.0010\n",
      "Epoch 272/1000\n",
      "\u001b[1m4/4\u001b[0m \u001b[32m━━━━━━━━━━━━━━━━━━━━\u001b[0m\u001b[37m\u001b[0m \u001b[1m0s\u001b[0m 93ms/step - loss: 0.4139 - mape: 8.8373 - r2_score: 0.3204 - val_loss: 0.7060 - val_mape: 15.7816 - val_r2_score: -0.6957 - learning_rate: 0.0010\n",
      "Epoch 273/1000\n",
      "\u001b[1m4/4\u001b[0m \u001b[32m━━━━━━━━━━━━━━━━━━━━\u001b[0m\u001b[37m\u001b[0m \u001b[1m0s\u001b[0m 88ms/step - loss: 0.4443 - mape: 10.1535 - r2_score: 0.1213 - val_loss: 0.6901 - val_mape: 15.2691 - val_r2_score: -0.5481 - learning_rate: 0.0010\n",
      "Epoch 274/1000\n",
      "\u001b[1m4/4\u001b[0m \u001b[32m━━━━━━━━━━━━━━━━━━━━\u001b[0m\u001b[37m\u001b[0m \u001b[1m0s\u001b[0m 91ms/step - loss: 0.3920 - mape: 8.6083 - r2_score: 0.3825 - val_loss: 0.6686 - val_mape: 14.8200 - val_r2_score: -0.4303 - learning_rate: 0.0010\n",
      "Epoch 275/1000\n",
      "\u001b[1m4/4\u001b[0m \u001b[32m━━━━━━━━━━━━━━━━━━━━\u001b[0m\u001b[37m\u001b[0m \u001b[1m0s\u001b[0m 87ms/step - loss: 0.4001 - mape: 8.7387 - r2_score: 0.2930 - val_loss: 0.6389 - val_mape: 14.2590 - val_r2_score: -0.3621 - learning_rate: 0.0010\n",
      "Epoch 276/1000\n",
      "\u001b[1m4/4\u001b[0m \u001b[32m━━━━━━━━━━━━━━━━━━━━\u001b[0m\u001b[37m\u001b[0m \u001b[1m0s\u001b[0m 89ms/step - loss: 0.3725 - mape: 8.2436 - r2_score: 0.3775 - val_loss: 0.6347 - val_mape: 14.3672 - val_r2_score: -0.5362 - learning_rate: 0.0010\n",
      "Epoch 277/1000\n",
      "\u001b[1m4/4\u001b[0m \u001b[32m━━━━━━━━━━━━━━━━━━━━\u001b[0m\u001b[37m\u001b[0m \u001b[1m0s\u001b[0m 90ms/step - loss: 0.4138 - mape: 9.1085 - r2_score: 0.3900 - val_loss: 0.6610 - val_mape: 14.9681 - val_r2_score: -0.6053 - learning_rate: 0.0010\n",
      "Epoch 278/1000\n",
      "\u001b[1m4/4\u001b[0m \u001b[32m━━━━━━━━━━━━━━━━━━━━\u001b[0m\u001b[37m\u001b[0m \u001b[1m0s\u001b[0m 112ms/step - loss: 0.3882 - mape: 8.3984 - r2_score: 0.4377 - val_loss: 0.6878 - val_mape: 15.6173 - val_r2_score: -0.6374 - learning_rate: 0.0010\n",
      "Epoch 279/1000\n",
      "\u001b[1m4/4\u001b[0m \u001b[32m━━━━━━━━━━━━━━━━━━━━\u001b[0m\u001b[37m\u001b[0m \u001b[1m0s\u001b[0m 90ms/step - loss: 0.4065 - mape: 8.8878 - r2_score: 0.2780 - val_loss: 0.7306 - val_mape: 16.5818 - val_r2_score: -0.7133 - learning_rate: 0.0010\n",
      "Epoch 280/1000\n",
      "\u001b[1m4/4\u001b[0m \u001b[32m━━━━━━━━━━━━━━━━━━━━\u001b[0m\u001b[37m\u001b[0m \u001b[1m0s\u001b[0m 87ms/step - loss: 0.4334 - mape: 9.3902 - r2_score: 0.2076 - val_loss: 0.7542 - val_mape: 17.0575 - val_r2_score: -0.7709 - learning_rate: 0.0010\n",
      "Epoch 281/1000\n",
      "\u001b[1m4/4\u001b[0m \u001b[32m━━━━━━━━━━━━━━━━━━━━\u001b[0m\u001b[37m\u001b[0m \u001b[1m0s\u001b[0m 89ms/step - loss: 0.4110 - mape: 8.7969 - r2_score: 0.4135 - val_loss: 0.6686 - val_mape: 15.2894 - val_r2_score: -0.5656 - learning_rate: 0.0010\n",
      "Epoch 282/1000\n",
      "\u001b[1m4/4\u001b[0m \u001b[32m━━━━━━━━━━━━━━━━━━━━\u001b[0m\u001b[37m\u001b[0m \u001b[1m0s\u001b[0m 87ms/step - loss: 0.4062 - mape: 8.7381 - r2_score: 0.3473 - val_loss: 0.6582 - val_mape: 14.9488 - val_r2_score: -0.5591 - learning_rate: 0.0010\n",
      "Epoch 283/1000\n",
      "\u001b[1m4/4\u001b[0m \u001b[32m━━━━━━━━━━━━━━━━━━━━\u001b[0m\u001b[37m\u001b[0m \u001b[1m0s\u001b[0m 88ms/step - loss: 0.3966 - mape: 8.7170 - r2_score: 0.3742 - val_loss: 0.7058 - val_mape: 15.8534 - val_r2_score: -0.7223 - learning_rate: 0.0010\n",
      "Epoch 284/1000\n",
      "\u001b[1m4/4\u001b[0m \u001b[32m━━━━━━━━━━━━━━━━━━━━\u001b[0m\u001b[37m\u001b[0m \u001b[1m0s\u001b[0m 89ms/step - loss: 0.3967 - mape: 8.6680 - r2_score: 0.3534 - val_loss: 0.8169 - val_mape: 18.0740 - val_r2_score: -1.1059 - learning_rate: 0.0010\n",
      "Epoch 285/1000\n",
      "\u001b[1m4/4\u001b[0m \u001b[32m━━━━━━━━━━━━━━━━━━━━\u001b[0m\u001b[37m\u001b[0m \u001b[1m0s\u001b[0m 88ms/step - loss: 0.4319 - mape: 9.5150 - r2_score: 0.2635 - val_loss: 0.8110 - val_mape: 17.8714 - val_r2_score: -1.0628 - learning_rate: 0.0010\n",
      "Epoch 286/1000\n",
      "\u001b[1m4/4\u001b[0m \u001b[32m━━━━━━━━━━━━━━━━━━━━\u001b[0m\u001b[37m\u001b[0m \u001b[1m0s\u001b[0m 86ms/step - loss: 0.4005 - mape: 9.0859 - r2_score: 0.3119 - val_loss: 0.7260 - val_mape: 16.1831 - val_r2_score: -0.6615 - learning_rate: 0.0010\n",
      "Epoch 287/1000\n",
      "\u001b[1m4/4\u001b[0m \u001b[32m━━━━━━━━━━━━━━━━━━━━\u001b[0m\u001b[37m\u001b[0m \u001b[1m0s\u001b[0m 89ms/step - loss: 0.3882 - mape: 8.1950 - r2_score: 0.4582 - val_loss: 0.7339 - val_mape: 16.4225 - val_r2_score: -0.6774 - learning_rate: 0.0010\n",
      "Epoch 288/1000\n",
      "\u001b[1m4/4\u001b[0m \u001b[32m━━━━━━━━━━━━━━━━━━━━\u001b[0m\u001b[37m\u001b[0m \u001b[1m0s\u001b[0m 93ms/step - loss: 0.4402 - mape: 9.5450 - r2_score: 0.2397 - val_loss: 0.8654 - val_mape: 19.0836 - val_r2_score: -1.1893 - learning_rate: 0.0010\n",
      "Epoch 289/1000\n",
      "\u001b[1m4/4\u001b[0m \u001b[32m━━━━━━━━━━━━━━━━━━━━\u001b[0m\u001b[37m\u001b[0m \u001b[1m0s\u001b[0m 92ms/step - loss: 0.4283 - mape: 9.5206 - r2_score: 0.2264 - val_loss: 0.9761 - val_mape: 21.2604 - val_r2_score: -1.8800 - learning_rate: 0.0010\n",
      "Epoch 290/1000\n",
      "\u001b[1m4/4\u001b[0m \u001b[32m━━━━━━━━━━━━━━━━━━━━\u001b[0m\u001b[37m\u001b[0m \u001b[1m0s\u001b[0m 93ms/step - loss: 0.4341 - mape: 9.4672 - r2_score: 0.2507 - val_loss: 0.8456 - val_mape: 18.5909 - val_r2_score: -1.2234 - learning_rate: 0.0010\n",
      "Epoch 291/1000\n",
      "\u001b[1m4/4\u001b[0m \u001b[32m━━━━━━━━━━━━━━━━━━━━\u001b[0m\u001b[37m\u001b[0m \u001b[1m0s\u001b[0m 93ms/step - loss: 0.4546 - mape: 10.1570 - r2_score: 0.2253 - val_loss: 0.6536 - val_mape: 14.6774 - val_r2_score: -0.5020 - learning_rate: 0.0010\n",
      "Epoch 292/1000\n",
      "\u001b[1m4/4\u001b[0m \u001b[32m━━━━━━━━━━━━━━━━━━━━\u001b[0m\u001b[37m\u001b[0m \u001b[1m0s\u001b[0m 114ms/step - loss: 0.4426 - mape: 9.7372 - r2_score: 0.3240 - val_loss: 0.5999 - val_mape: 13.5218 - val_r2_score: -0.2792 - learning_rate: 0.0010\n",
      "Epoch 293/1000\n",
      "\u001b[1m4/4\u001b[0m \u001b[32m━━━━━━━━━━━━━━━━━━━━\u001b[0m\u001b[37m\u001b[0m \u001b[1m0s\u001b[0m 100ms/step - loss: 0.4302 - mape: 9.5326 - r2_score: 0.3057 - val_loss: 0.6170 - val_mape: 13.9443 - val_r2_score: -0.3943 - learning_rate: 0.0010\n",
      "Epoch 294/1000\n",
      "\u001b[1m4/4\u001b[0m \u001b[32m━━━━━━━━━━━━━━━━━━━━\u001b[0m\u001b[37m\u001b[0m \u001b[1m0s\u001b[0m 90ms/step - loss: 0.3756 - mape: 8.5322 - r2_score: 0.3220 - val_loss: 0.7252 - val_mape: 16.2462 - val_r2_score: -0.6845 - learning_rate: 0.0010\n",
      "Epoch 295/1000\n",
      "\u001b[1m4/4\u001b[0m \u001b[32m━━━━━━━━━━━━━━━━━━━━\u001b[0m\u001b[37m\u001b[0m \u001b[1m0s\u001b[0m 89ms/step - loss: 0.3555 - mape: 7.8672 - r2_score: 0.4278 - val_loss: 0.7331 - val_mape: 16.3393 - val_r2_score: -0.6489 - learning_rate: 0.0010\n",
      "Epoch 296/1000\n",
      "\u001b[1m4/4\u001b[0m \u001b[32m━━━━━━━━━━━━━━━━━━━━\u001b[0m\u001b[37m\u001b[0m \u001b[1m0s\u001b[0m 88ms/step - loss: 0.4403 - mape: 9.7404 - r2_score: 0.0561 - val_loss: 0.8446 - val_mape: 18.4910 - val_r2_score: -1.0976 - learning_rate: 0.0010\n",
      "Epoch 297/1000\n",
      "\u001b[1m4/4\u001b[0m \u001b[32m━━━━━━━━━━━━━━━━━━━━\u001b[0m\u001b[37m\u001b[0m \u001b[1m0s\u001b[0m 100ms/step - loss: 0.4014 - mape: 9.1602 - r2_score: 0.4180 - val_loss: 0.8009 - val_mape: 17.5072 - val_r2_score: -0.9000 - learning_rate: 0.0010\n",
      "Epoch 298/1000\n",
      "\u001b[1m4/4\u001b[0m \u001b[32m━━━━━━━━━━━━━━━━━━━━\u001b[0m\u001b[37m\u001b[0m \u001b[1m0s\u001b[0m 91ms/step - loss: 0.3669 - mape: 8.2723 - r2_score: 0.4307 - val_loss: 0.7500 - val_mape: 16.4402 - val_r2_score: -0.6902 - learning_rate: 0.0010\n",
      "Epoch 299/1000\n",
      "\u001b[1m4/4\u001b[0m \u001b[32m━━━━━━━━━━━━━━━━━━━━\u001b[0m\u001b[37m\u001b[0m \u001b[1m0s\u001b[0m 90ms/step - loss: 0.3494 - mape: 7.5919 - r2_score: 0.5249 - val_loss: 0.7066 - val_mape: 15.5467 - val_r2_score: -0.5497 - learning_rate: 0.0010\n",
      "Epoch 300/1000\n",
      "\u001b[1m4/4\u001b[0m \u001b[32m━━━━━━━━━━━━━━━━━━━━\u001b[0m\u001b[37m\u001b[0m \u001b[1m0s\u001b[0m 91ms/step - loss: 0.3470 - mape: 7.5992 - r2_score: 0.4374 - val_loss: 0.6828 - val_mape: 15.1285 - val_r2_score: -0.5045 - learning_rate: 0.0010\n",
      "Epoch 301/1000\n",
      "\u001b[1m4/4\u001b[0m \u001b[32m━━━━━━━━━━━━━━━━━━━━\u001b[0m\u001b[37m\u001b[0m \u001b[1m0s\u001b[0m 89ms/step - loss: 0.4456 - mape: 9.8305 - r2_score: 0.1954 - val_loss: 0.6454 - val_mape: 14.3620 - val_r2_score: -0.4529 - learning_rate: 0.0010\n",
      "Epoch 302/1000\n",
      "\u001b[1m4/4\u001b[0m \u001b[32m━━━━━━━━━━━━━━━━━━━━\u001b[0m\u001b[37m\u001b[0m \u001b[1m0s\u001b[0m 92ms/step - loss: 0.3850 - mape: 8.7213 - r2_score: 0.2181 - val_loss: 0.7384 - val_mape: 16.2276 - val_r2_score: -0.7792 - learning_rate: 0.0010\n",
      "Epoch 303/1000\n",
      "\u001b[1m4/4\u001b[0m \u001b[32m━━━━━━━━━━━━━━━━━━━━\u001b[0m\u001b[37m\u001b[0m \u001b[1m0s\u001b[0m 90ms/step - loss: 0.3492 - mape: 7.6871 - r2_score: 0.4521 - val_loss: 0.8558 - val_mape: 18.5656 - val_r2_score: -1.2851 - learning_rate: 0.0010\n",
      "Epoch 304/1000\n",
      "\u001b[1m4/4\u001b[0m \u001b[32m━━━━━━━━━━━━━━━━━━━━\u001b[0m\u001b[37m\u001b[0m \u001b[1m0s\u001b[0m 101ms/step - loss: 0.4970 - mape: 10.9133 - r2_score: 0.1848 - val_loss: 0.8967 - val_mape: 19.5221 - val_r2_score: -1.3839 - learning_rate: 0.0010\n",
      "Epoch 305/1000\n",
      "\u001b[1m4/4\u001b[0m \u001b[32m━━━━━━━━━━━━━━━━━━━━\u001b[0m\u001b[37m\u001b[0m \u001b[1m0s\u001b[0m 85ms/step - loss: 0.3345 - mape: 7.2507 - r2_score: 0.5643 - val_loss: 0.8402 - val_mape: 18.4549 - val_r2_score: -1.0547 - learning_rate: 0.0010\n",
      "Epoch 306/1000\n",
      "\u001b[1m4/4\u001b[0m \u001b[32m━━━━━━━━━━━━━━━━━━━━\u001b[0m\u001b[37m\u001b[0m \u001b[1m0s\u001b[0m 97ms/step - loss: 0.3524 - mape: 7.7258 - r2_score: 0.4903 - val_loss: 0.8274 - val_mape: 18.2163 - val_r2_score: -1.0222 - learning_rate: 0.0010\n",
      "Epoch 307/1000\n",
      "\u001b[1m4/4\u001b[0m \u001b[32m━━━━━━━━━━━━━━━━━━━━\u001b[0m\u001b[37m\u001b[0m \u001b[1m0s\u001b[0m 95ms/step - loss: 0.4485 - mape: 10.1518 - r2_score: 0.0951 - val_loss: 0.7572 - val_mape: 16.6881 - val_r2_score: -0.7875 - learning_rate: 0.0010\n",
      "Epoch 308/1000\n",
      "\u001b[1m4/4\u001b[0m \u001b[32m━━━━━━━━━━━━━━━━━━━━\u001b[0m\u001b[37m\u001b[0m \u001b[1m0s\u001b[0m 94ms/step - loss: 0.3558 - mape: 7.7206 - r2_score: 0.4617 - val_loss: 0.7102 - val_mape: 15.6888 - val_r2_score: -0.6293 - learning_rate: 0.0010\n",
      "Epoch 309/1000\n",
      "\u001b[1m4/4\u001b[0m \u001b[32m━━━━━━━━━━━━━━━━━━━━\u001b[0m\u001b[37m\u001b[0m \u001b[1m0s\u001b[0m 89ms/step - loss: 0.4108 - mape: 9.5038 - r2_score: 0.3159 - val_loss: 0.6037 - val_mape: 13.5684 - val_r2_score: -0.3542 - learning_rate: 0.0010\n",
      "Epoch 310/1000\n",
      "\u001b[1m4/4\u001b[0m \u001b[32m━━━━━━━━━━━━━━━━━━━━\u001b[0m\u001b[37m\u001b[0m \u001b[1m0s\u001b[0m 88ms/step - loss: 0.4068 - mape: 8.8417 - r2_score: 0.3741 - val_loss: 0.6174 - val_mape: 13.9599 - val_r2_score: -0.4125 - learning_rate: 0.0010\n",
      "Epoch 311/1000\n",
      "\u001b[1m4/4\u001b[0m \u001b[32m━━━━━━━━━━━━━━━━━━━━\u001b[0m\u001b[37m\u001b[0m \u001b[1m0s\u001b[0m 90ms/step - loss: 0.3790 - mape: 8.3184 - r2_score: 0.3288 - val_loss: 0.7438 - val_mape: 16.6500 - val_r2_score: -0.7508 - learning_rate: 0.0010\n",
      "Epoch 312/1000\n",
      "\u001b[1m4/4\u001b[0m \u001b[32m━━━━━━━━━━━━━━━━━━━━\u001b[0m\u001b[37m\u001b[0m \u001b[1m0s\u001b[0m 92ms/step - loss: 0.4130 - mape: 8.9191 - r2_score: 0.3482 - val_loss: 0.8593 - val_mape: 18.9515 - val_r2_score: -1.1804 - learning_rate: 0.0010\n",
      "Epoch 313/1000\n",
      "\u001b[1m4/4\u001b[0m \u001b[32m━━━━━━━━━━━━━━━━━━━━\u001b[0m\u001b[37m\u001b[0m \u001b[1m0s\u001b[0m 92ms/step - loss: 0.4347 - mape: 9.6019 - r2_score: 0.2187 - val_loss: 0.8866 - val_mape: 19.4205 - val_r2_score: -1.2918 - learning_rate: 0.0010\n",
      "Epoch 314/1000\n",
      "\u001b[1m4/4\u001b[0m \u001b[32m━━━━━━━━━━━━━━━━━━━━\u001b[0m\u001b[37m\u001b[0m \u001b[1m0s\u001b[0m 90ms/step - loss: 0.4222 - mape: 9.2504 - r2_score: 0.3228 - val_loss: 0.8548 - val_mape: 18.6568 - val_r2_score: -1.1304 - learning_rate: 0.0010\n",
      "Epoch 315/1000\n",
      "\u001b[1m4/4\u001b[0m \u001b[32m━━━━━━━━━━━━━━━━━━━━\u001b[0m\u001b[37m\u001b[0m \u001b[1m0s\u001b[0m 89ms/step - loss: 0.5322 - mape: 11.5463 - r2_score: -0.1474 - val_loss: 0.8267 - val_mape: 18.0506 - val_r2_score: -1.0520 - learning_rate: 0.0010\n",
      "Epoch 316/1000\n",
      "\u001b[1m4/4\u001b[0m \u001b[32m━━━━━━━━━━━━━━━━━━━━\u001b[0m\u001b[37m\u001b[0m \u001b[1m0s\u001b[0m 92ms/step - loss: 0.3769 - mape: 8.0981 - r2_score: 0.4385 - val_loss: 0.8323 - val_mape: 18.2262 - val_r2_score: -1.0694 - learning_rate: 0.0010\n",
      "Epoch 317/1000\n",
      "\u001b[1m4/4\u001b[0m \u001b[32m━━━━━━━━━━━━━━━━━━━━\u001b[0m\u001b[37m\u001b[0m \u001b[1m1s\u001b[0m 108ms/step - loss: 0.4121 - mape: 8.9801 - r2_score: 0.3736 - val_loss: 0.8117 - val_mape: 17.8868 - val_r2_score: -0.9851 - learning_rate: 0.0010\n",
      "Epoch 318/1000\n",
      "\u001b[1m4/4\u001b[0m \u001b[32m━━━━━━━━━━━━━━━━━━━━\u001b[0m\u001b[37m\u001b[0m \u001b[1m0s\u001b[0m 98ms/step - loss: 0.3683 - mape: 7.9689 - r2_score: 0.4028 - val_loss: 0.8562 - val_mape: 18.8465 - val_r2_score: -1.2301 - learning_rate: 0.0010\n",
      "Epoch 319/1000\n",
      "\u001b[1m4/4\u001b[0m \u001b[32m━━━━━━━━━━━━━━━━━━━━\u001b[0m\u001b[37m\u001b[0m \u001b[1m0s\u001b[0m 89ms/step - loss: 0.4168 - mape: 9.1871 - r2_score: 0.2915 - val_loss: 0.9497 - val_mape: 20.7459 - val_r2_score: -1.7454 - learning_rate: 0.0010\n",
      "Epoch 320/1000\n",
      "\u001b[1m4/4\u001b[0m \u001b[32m━━━━━━━━━━━━━━━━━━━━\u001b[0m\u001b[37m\u001b[0m \u001b[1m0s\u001b[0m 92ms/step - loss: 0.4521 - mape: 10.3858 - r2_score: -0.0194 - val_loss: 0.8926 - val_mape: 19.5365 - val_r2_score: -1.4232 - learning_rate: 0.0010\n",
      "Epoch 321/1000\n",
      "\u001b[1m4/4\u001b[0m \u001b[32m━━━━━━━━━━━━━━━━━━━━\u001b[0m\u001b[37m\u001b[0m \u001b[1m0s\u001b[0m 100ms/step - loss: 0.3655 - mape: 8.0568 - r2_score: 0.5079 - val_loss: 0.9176 - val_mape: 19.9658 - val_r2_score: -1.5753 - learning_rate: 0.0010\n",
      "Epoch 322/1000\n",
      "\u001b[1m4/4\u001b[0m \u001b[32m━━━━━━━━━━━━━━━━━━━━\u001b[0m\u001b[37m\u001b[0m \u001b[1m0s\u001b[0m 95ms/step - loss: 0.3864 - mape: 8.2895 - r2_score: 0.4139 - val_loss: 0.9226 - val_mape: 19.9824 - val_r2_score: -1.6317 - learning_rate: 0.0010\n",
      "Epoch 323/1000\n",
      "\u001b[1m4/4\u001b[0m \u001b[32m━━━━━━━━━━━━━━━━━━━━\u001b[0m\u001b[37m\u001b[0m \u001b[1m0s\u001b[0m 97ms/step - loss: 0.3803 - mape: 8.3946 - r2_score: 0.3699 - val_loss: 0.8147 - val_mape: 17.7728 - val_r2_score: -1.0483 - learning_rate: 0.0010\n",
      "Epoch 324/1000\n",
      "\u001b[1m4/4\u001b[0m \u001b[32m━━━━━━━━━━━━━━━━━━━━\u001b[0m\u001b[37m\u001b[0m \u001b[1m0s\u001b[0m 95ms/step - loss: 0.4035 - mape: 9.1051 - r2_score: 0.3807 - val_loss: 0.7566 - val_mape: 16.6999 - val_r2_score: -0.7578 - learning_rate: 0.0010\n",
      "Epoch 325/1000\n",
      "\u001b[1m4/4\u001b[0m \u001b[32m━━━━━━━━━━━━━━━━━━━━\u001b[0m\u001b[37m\u001b[0m \u001b[1m0s\u001b[0m 95ms/step - loss: 0.3377 - mape: 7.3156 - r2_score: 0.5105 - val_loss: 0.8382 - val_mape: 18.3919 - val_r2_score: -1.1197 - learning_rate: 0.0010\n",
      "Epoch 326/1000\n",
      "\u001b[1m4/4\u001b[0m \u001b[32m━━━━━━━━━━━━━━━━━━━━\u001b[0m\u001b[37m\u001b[0m \u001b[1m0s\u001b[0m 91ms/step - loss: 0.4429 - mape: 9.8530 - r2_score: 0.2659 - val_loss: 0.9170 - val_mape: 19.9988 - val_r2_score: -1.5852 - learning_rate: 0.0010\n",
      "Epoch 327/1000\n",
      "\u001b[1m4/4\u001b[0m \u001b[32m━━━━━━━━━━━━━━━━━━━━\u001b[0m\u001b[37m\u001b[0m \u001b[1m0s\u001b[0m 97ms/step - loss: 0.3336 - mape: 7.3572 - r2_score: 0.5705 - val_loss: 0.8542 - val_mape: 18.7413 - val_r2_score: -1.3425 - learning_rate: 0.0010\n",
      "Epoch 328/1000\n",
      "\u001b[1m4/4\u001b[0m \u001b[32m━━━━━━━━━━━━━━━━━━━━\u001b[0m\u001b[37m\u001b[0m \u001b[1m0s\u001b[0m 91ms/step - loss: 0.3291 - mape: 7.4616 - r2_score: 0.3613 - val_loss: 0.7394 - val_mape: 16.4524 - val_r2_score: -0.8758 - learning_rate: 0.0010\n",
      "Epoch 329/1000\n",
      "\u001b[1m4/4\u001b[0m \u001b[32m━━━━━━━━━━━━━━━━━━━━\u001b[0m\u001b[37m\u001b[0m \u001b[1m0s\u001b[0m 95ms/step - loss: 0.3863 - mape: 8.3961 - r2_score: 0.5120 - val_loss: 0.6459 - val_mape: 14.5687 - val_r2_score: -0.6123 - learning_rate: 0.0010\n",
      "Epoch 330/1000\n",
      "\u001b[1m4/4\u001b[0m \u001b[32m━━━━━━━━━━━━━━━━━━━━\u001b[0m\u001b[37m\u001b[0m \u001b[1m0s\u001b[0m 88ms/step - loss: 0.4978 - mape: 11.3682 - r2_score: -0.0242 - val_loss: 0.6365 - val_mape: 14.3929 - val_r2_score: -0.5360 - learning_rate: 0.0010\n",
      "Epoch 331/1000\n",
      "\u001b[1m4/4\u001b[0m \u001b[32m━━━━━━━━━━━━━━━━━━━━\u001b[0m\u001b[37m\u001b[0m \u001b[1m0s\u001b[0m 95ms/step - loss: 0.3796 - mape: 8.0880 - r2_score: 0.3584 - val_loss: 0.6376 - val_mape: 14.3707 - val_r2_score: -0.4361 - learning_rate: 0.0010\n",
      "Epoch 332/1000\n",
      "\u001b[1m4/4\u001b[0m \u001b[32m━━━━━━━━━━━━━━━━━━━━\u001b[0m\u001b[37m\u001b[0m \u001b[1m0s\u001b[0m 95ms/step - loss: 0.4370 - mape: 9.5275 - r2_score: 0.1268 - val_loss: 0.7356 - val_mape: 16.2646 - val_r2_score: -0.6701 - learning_rate: 0.0010\n",
      "Epoch 333/1000\n",
      "\u001b[1m4/4\u001b[0m \u001b[32m━━━━━━━━━━━━━━━━━━━━\u001b[0m\u001b[37m\u001b[0m \u001b[1m0s\u001b[0m 90ms/step - loss: 0.3190 - mape: 6.8844 - r2_score: 0.5493 - val_loss: 0.8024 - val_mape: 17.5715 - val_r2_score: -0.9219 - learning_rate: 0.0010\n",
      "Epoch 334/1000\n",
      "\u001b[1m4/4\u001b[0m \u001b[32m━━━━━━━━━━━━━━━━━━━━\u001b[0m\u001b[37m\u001b[0m \u001b[1m1s\u001b[0m 90ms/step - loss: 0.3493 - mape: 7.5108 - r2_score: 0.4697 - val_loss: 0.7809 - val_mape: 17.0946 - val_r2_score: -0.8434 - learning_rate: 0.0010\n",
      "Epoch 335/1000\n",
      "\u001b[1m4/4\u001b[0m \u001b[32m━━━━━━━━━━━━━━━━━━━━\u001b[0m\u001b[37m\u001b[0m \u001b[1m0s\u001b[0m 87ms/step - loss: 0.3781 - mape: 8.3488 - r2_score: 0.4255 - val_loss: 0.8247 - val_mape: 18.0224 - val_r2_score: -1.0608 - learning_rate: 0.0010\n",
      "Epoch 336/1000\n",
      "\u001b[1m4/4\u001b[0m \u001b[32m━━━━━━━━━━━━━━━━━━━━\u001b[0m\u001b[37m\u001b[0m \u001b[1m0s\u001b[0m 91ms/step - loss: 0.3804 - mape: 8.0948 - r2_score: 0.4616 - val_loss: 0.8731 - val_mape: 19.0138 - val_r2_score: -1.3581 - learning_rate: 0.0010\n",
      "Epoch 337/1000\n",
      "\u001b[1m4/4\u001b[0m \u001b[32m━━━━━━━━━━━━━━━━━━━━\u001b[0m\u001b[37m\u001b[0m \u001b[1m0s\u001b[0m 90ms/step - loss: 0.4324 - mape: 9.5420 - r2_score: 0.2967 - val_loss: 0.8620 - val_mape: 18.7937 - val_r2_score: -1.3073 - learning_rate: 0.0010\n",
      "Epoch 338/1000\n",
      "\u001b[1m4/4\u001b[0m \u001b[32m━━━━━━━━━━━━━━━━━━━━\u001b[0m\u001b[37m\u001b[0m \u001b[1m0s\u001b[0m 87ms/step - loss: 0.3852 - mape: 8.3362 - r2_score: 0.4315 - val_loss: 0.7448 - val_mape: 16.5216 - val_r2_score: -0.7012 - learning_rate: 0.0010\n",
      "Epoch 339/1000\n",
      "\u001b[1m4/4\u001b[0m \u001b[32m━━━━━━━━━━━━━━━━━━━━\u001b[0m\u001b[37m\u001b[0m \u001b[1m0s\u001b[0m 93ms/step - loss: 0.3870 - mape: 8.2391 - r2_score: 0.3558 - val_loss: 0.7740 - val_mape: 17.1296 - val_r2_score: -0.8073 - learning_rate: 0.0010\n",
      "Epoch 340/1000\n",
      "\u001b[1m4/4\u001b[0m \u001b[32m━━━━━━━━━━━━━━━━━━━━\u001b[0m\u001b[37m\u001b[0m \u001b[1m0s\u001b[0m 94ms/step - loss: 0.3804 - mape: 8.3513 - r2_score: 0.4397 - val_loss: 0.8674 - val_mape: 18.9753 - val_r2_score: -1.2406 - learning_rate: 0.0010\n",
      "Epoch 341/1000\n",
      "\u001b[1m4/4\u001b[0m \u001b[32m━━━━━━━━━━━━━━━━━━━━\u001b[0m\u001b[37m\u001b[0m \u001b[1m0s\u001b[0m 89ms/step - loss: 0.4506 - mape: 9.8031 - r2_score: 0.2118 - val_loss: 1.0487 - val_mape: 22.6191 - val_r2_score: -2.4178 - learning_rate: 0.0010\n",
      "Epoch 342/1000\n",
      "\u001b[1m4/4\u001b[0m \u001b[32m━━━━━━━━━━━━━━━━━━━━\u001b[0m\u001b[37m\u001b[0m \u001b[1m0s\u001b[0m 94ms/step - loss: 0.4466 - mape: 9.9700 - r2_score: 0.0307 - val_loss: 1.0374 - val_mape: 22.3952 - val_r2_score: -2.3543 - learning_rate: 0.0010\n",
      "Epoch 343/1000\n",
      "\u001b[1m4/4\u001b[0m \u001b[32m━━━━━━━━━━━━━━━━━━━━\u001b[0m\u001b[37m\u001b[0m \u001b[1m0s\u001b[0m 88ms/step - loss: 0.4107 - mape: 8.9953 - r2_score: 0.3598 - val_loss: 0.9237 - val_mape: 20.0920 - val_r2_score: -1.5688 - learning_rate: 0.0010\n",
      "Epoch 344/1000\n",
      "\u001b[1m4/4\u001b[0m \u001b[32m━━━━━━━━━━━━━━━━━━━━\u001b[0m\u001b[37m\u001b[0m \u001b[1m0s\u001b[0m 94ms/step - loss: 0.4079 - mape: 9.0033 - r2_score: 0.4020 - val_loss: 0.8198 - val_mape: 17.9919 - val_r2_score: -0.9971 - learning_rate: 0.0010\n",
      "Epoch 345/1000\n",
      "\u001b[1m4/4\u001b[0m \u001b[32m━━━━━━━━━━━━━━━━━━━━\u001b[0m\u001b[37m\u001b[0m \u001b[1m1s\u001b[0m 103ms/step - loss: 0.4058 - mape: 9.0560 - r2_score: 0.3551 - val_loss: 0.7901 - val_mape: 17.4031 - val_r2_score: -0.8566 - learning_rate: 0.0010\n",
      "Epoch 346/1000\n",
      "\u001b[1m4/4\u001b[0m \u001b[32m━━━━━━━━━━━━━━━━━━━━\u001b[0m\u001b[37m\u001b[0m \u001b[1m0s\u001b[0m 86ms/step - loss: 0.3918 - mape: 8.5340 - r2_score: 0.3838 - val_loss: 0.8131 - val_mape: 17.8398 - val_r2_score: -1.0235 - learning_rate: 0.0010\n",
      "Epoch 347/1000\n",
      "\u001b[1m4/4\u001b[0m \u001b[32m━━━━━━━━━━━━━━━━━━━━\u001b[0m\u001b[37m\u001b[0m \u001b[1m0s\u001b[0m 102ms/step - loss: 0.3812 - mape: 8.5035 - r2_score: 0.4502 - val_loss: 0.8239 - val_mape: 18.0465 - val_r2_score: -1.1202 - learning_rate: 0.0010\n",
      "Epoch 348/1000\n",
      "\u001b[1m4/4\u001b[0m \u001b[32m━━━━━━━━━━━━━━━━━━━━\u001b[0m\u001b[37m\u001b[0m \u001b[1m0s\u001b[0m 96ms/step - loss: 0.3574 - mape: 7.7412 - r2_score: 0.4660 - val_loss: 0.7886 - val_mape: 17.2913 - val_r2_score: -0.9696 - learning_rate: 0.0010\n",
      "Epoch 349/1000\n",
      "\u001b[1m4/4\u001b[0m \u001b[32m━━━━━━━━━━━━━━━━━━━━\u001b[0m\u001b[37m\u001b[0m \u001b[1m0s\u001b[0m 92ms/step - loss: 0.3841 - mape: 8.4753 - r2_score: 0.3709 - val_loss: 0.7194 - val_mape: 15.7890 - val_r2_score: -0.7100 - learning_rate: 0.0010\n",
      "Epoch 350/1000\n",
      "\u001b[1m4/4\u001b[0m \u001b[32m━━━━━━━━━━━━━━━━━━━━\u001b[0m\u001b[37m\u001b[0m \u001b[1m0s\u001b[0m 94ms/step - loss: 0.3551 - mape: 7.8829 - r2_score: 0.4449 - val_loss: 0.7142 - val_mape: 15.6219 - val_r2_score: -0.7351 - learning_rate: 0.0010\n",
      "Epoch 351/1000\n",
      "\u001b[1m4/4\u001b[0m \u001b[32m━━━━━━━━━━━━━━━━━━━━\u001b[0m\u001b[37m\u001b[0m \u001b[1m0s\u001b[0m 94ms/step - loss: 0.3626 - mape: 8.0022 - r2_score: 0.4155 - val_loss: 0.8018 - val_mape: 17.4395 - val_r2_score: -1.0902 - learning_rate: 0.0010\n",
      "Epoch 352/1000\n",
      "\u001b[1m4/4\u001b[0m \u001b[32m━━━━━━━━━━━━━━━━━━━━\u001b[0m\u001b[37m\u001b[0m \u001b[1m0s\u001b[0m 88ms/step - loss: 0.4301 - mape: 9.2854 - r2_score: 0.3316 - val_loss: 0.8837 - val_mape: 19.1912 - val_r2_score: -1.4348 - learning_rate: 0.0010\n",
      "Epoch 353/1000\n",
      "\u001b[1m4/4\u001b[0m \u001b[32m━━━━━━━━━━━━━━━━━━━━\u001b[0m\u001b[37m\u001b[0m \u001b[1m0s\u001b[0m 96ms/step - loss: 0.3575 - mape: 7.9647 - r2_score: 0.4454 - val_loss: 0.7577 - val_mape: 16.7499 - val_r2_score: -0.7572 - learning_rate: 0.0010\n",
      "Epoch 354/1000\n",
      "\u001b[1m4/4\u001b[0m \u001b[32m━━━━━━━━━━━━━━━━━━━━\u001b[0m\u001b[37m\u001b[0m \u001b[1m0s\u001b[0m 99ms/step - loss: 0.3812 - mape: 8.4960 - r2_score: 0.4172 - val_loss: 0.6381 - val_mape: 14.2665 - val_r2_score: -0.3803 - learning_rate: 0.0010\n",
      "Epoch 355/1000\n",
      "\u001b[1m4/4\u001b[0m \u001b[32m━━━━━━━━━━━━━━━━━━━━\u001b[0m\u001b[37m\u001b[0m \u001b[1m0s\u001b[0m 86ms/step - loss: 0.4242 - mape: 9.4320 - r2_score: 0.2505 - val_loss: 0.6823 - val_mape: 15.0601 - val_r2_score: -0.5801 - learning_rate: 0.0010\n",
      "Epoch 356/1000\n",
      "\u001b[1m4/4\u001b[0m \u001b[32m━━━━━━━━━━━━━━━━━━━━\u001b[0m\u001b[37m\u001b[0m \u001b[1m0s\u001b[0m 93ms/step - loss: 0.3223 - mape: 7.2074 - r2_score: 0.3752 - val_loss: 0.7667 - val_mape: 16.7384 - val_r2_score: -0.9395 - learning_rate: 0.0010\n",
      "Epoch 357/1000\n",
      "\u001b[1m4/4\u001b[0m \u001b[32m━━━━━━━━━━━━━━━━━━━━\u001b[0m\u001b[37m\u001b[0m \u001b[1m0s\u001b[0m 95ms/step - loss: 0.4091 - mape: 9.0509 - r2_score: 0.2001 - val_loss: 0.8123 - val_mape: 17.7127 - val_r2_score: -1.1137 - learning_rate: 0.0010\n",
      "Epoch 358/1000\n",
      "\u001b[1m4/4\u001b[0m \u001b[32m━━━━━━━━━━━━━━━━━━━━\u001b[0m\u001b[37m\u001b[0m \u001b[1m1s\u001b[0m 89ms/step - loss: 0.4072 - mape: 8.8991 - r2_score: 0.4081 - val_loss: 0.7182 - val_mape: 15.8845 - val_r2_score: -0.6587 - learning_rate: 0.0010\n",
      "Epoch 359/1000\n",
      "\u001b[1m4/4\u001b[0m \u001b[32m━━━━━━━━━━━━━━━━━━━━\u001b[0m\u001b[37m\u001b[0m \u001b[1m0s\u001b[0m 99ms/step - loss: 0.3764 - mape: 8.3404 - r2_score: 0.4206 - val_loss: 0.6043 - val_mape: 13.5798 - val_r2_score: -0.3073 - learning_rate: 0.0010\n",
      "Epoch 360/1000\n",
      "\u001b[1m4/4\u001b[0m \u001b[32m━━━━━━━━━━━━━━━━━━━━\u001b[0m\u001b[37m\u001b[0m \u001b[1m0s\u001b[0m 87ms/step - loss: 0.4115 - mape: 9.1355 - r2_score: 0.2561 - val_loss: 0.6455 - val_mape: 14.3421 - val_r2_score: -0.4060 - learning_rate: 0.0010\n",
      "Epoch 361/1000\n",
      "\u001b[1m4/4\u001b[0m \u001b[32m━━━━━━━━━━━━━━━━━━━━\u001b[0m\u001b[37m\u001b[0m \u001b[1m0s\u001b[0m 94ms/step - loss: 0.4569 - mape: 9.9936 - r2_score: 0.2643 - val_loss: 0.7227 - val_mape: 15.8279 - val_r2_score: -0.7363 - learning_rate: 0.0010\n",
      "Epoch 362/1000\n",
      "\u001b[1m4/4\u001b[0m \u001b[32m━━━━━━━━━━━━━━━━━━━━\u001b[0m\u001b[37m\u001b[0m \u001b[1m0s\u001b[0m 88ms/step - loss: 0.3990 - mape: 8.6852 - r2_score: 0.4511 - val_loss: 0.7960 - val_mape: 17.1811 - val_r2_score: -1.1266 - learning_rate: 0.0010\n",
      "Epoch 363/1000\n",
      "\u001b[1m4/4\u001b[0m \u001b[32m━━━━━━━━━━━━━━━━━━━━\u001b[0m\u001b[37m\u001b[0m \u001b[1m0s\u001b[0m 96ms/step - loss: 0.4547 - mape: 10.1496 - r2_score: 0.2366 - val_loss: 0.7951 - val_mape: 17.1626 - val_r2_score: -1.0085 - learning_rate: 0.0010\n",
      "Epoch 364/1000\n",
      "\u001b[1m4/4\u001b[0m \u001b[32m━━━━━━━━━━━━━━━━━━━━\u001b[0m\u001b[37m\u001b[0m \u001b[1m0s\u001b[0m 98ms/step - loss: 0.3082 - mape: 6.6120 - r2_score: 0.6286 - val_loss: 0.7327 - val_mape: 15.9711 - val_r2_score: -0.6114 - learning_rate: 0.0010\n",
      "Epoch 365/1000\n",
      "\u001b[1m4/4\u001b[0m \u001b[32m━━━━━━━━━━━━━━━━━━━━\u001b[0m\u001b[37m\u001b[0m \u001b[1m0s\u001b[0m 90ms/step - loss: 0.3505 - mape: 7.5214 - r2_score: 0.5430 - val_loss: 0.6985 - val_mape: 15.4291 - val_r2_score: -0.4495 - learning_rate: 0.0010\n",
      "Epoch 366/1000\n",
      "\u001b[1m4/4\u001b[0m \u001b[32m━━━━━━━━━━━━━━━━━━━━\u001b[0m\u001b[37m\u001b[0m \u001b[1m0s\u001b[0m 91ms/step - loss: 0.4087 - mape: 9.0010 - r2_score: 0.3707 - val_loss: 0.8784 - val_mape: 19.1889 - val_r2_score: -1.1866 - learning_rate: 0.0010\n",
      "Epoch 367/1000\n",
      "\u001b[1m4/4\u001b[0m \u001b[32m━━━━━━━━━━━━━━━━━━━━\u001b[0m\u001b[37m\u001b[0m \u001b[1m0s\u001b[0m 88ms/step - loss: 0.4472 - mape: 9.7090 - r2_score: 0.4244 - val_loss: 0.9393 - val_mape: 20.3003 - val_r2_score: -1.6391 - learning_rate: 0.0010\n",
      "Epoch 368/1000\n",
      "\u001b[1m4/4\u001b[0m \u001b[32m━━━━━━━━━━━━━━━━━━━━\u001b[0m\u001b[37m\u001b[0m \u001b[1m0s\u001b[0m 92ms/step - loss: 0.4697 - mape: 10.6200 - r2_score: -0.0182 - val_loss: 0.8327 - val_mape: 17.8862 - val_r2_score: -1.2742 - learning_rate: 0.0010\n",
      "Epoch 369/1000\n",
      "\u001b[1m4/4\u001b[0m \u001b[32m━━━━━━━━━━━━━━━━━━━━\u001b[0m\u001b[37m\u001b[0m \u001b[1m0s\u001b[0m 86ms/step - loss: 0.4643 - mape: 10.2146 - r2_score: 0.2541 - val_loss: 0.5792 - val_mape: 12.5984 - val_r2_score: -0.3224 - learning_rate: 0.0010\n",
      "Epoch 370/1000\n",
      "\u001b[1m4/4\u001b[0m \u001b[32m━━━━━━━━━━━━━━━━━━━━\u001b[0m\u001b[37m\u001b[0m \u001b[1m0s\u001b[0m 121ms/step - loss: 0.5202 - mape: 11.4936 - r2_score: 0.0446 - val_loss: 0.4871 - val_mape: 10.7977 - val_r2_score: -0.0503 - learning_rate: 0.0010\n",
      "Epoch 371/1000\n",
      "\u001b[1m4/4\u001b[0m \u001b[32m━━━━━━━━━━━━━━━━━━━━\u001b[0m\u001b[37m\u001b[0m \u001b[1m0s\u001b[0m 91ms/step - loss: 0.4105 - mape: 9.1283 - r2_score: 0.1911 - val_loss: 0.6472 - val_mape: 14.2276 - val_r2_score: -0.3712 - learning_rate: 0.0010\n",
      "Epoch 372/1000\n",
      "\u001b[1m4/4\u001b[0m \u001b[32m━━━━━━━━━━━━━━━━━━━━\u001b[0m\u001b[37m\u001b[0m \u001b[1m0s\u001b[0m 88ms/step - loss: 0.4030 - mape: 8.9132 - r2_score: 0.3663 - val_loss: 0.8668 - val_mape: 18.9297 - val_r2_score: -1.1597 - learning_rate: 0.0010\n",
      "Epoch 373/1000\n",
      "\u001b[1m4/4\u001b[0m \u001b[32m━━━━━━━━━━━━━━━━━━━━\u001b[0m\u001b[37m\u001b[0m \u001b[1m0s\u001b[0m 92ms/step - loss: 0.4180 - mape: 9.0748 - r2_score: 0.3816 - val_loss: 0.9737 - val_mape: 21.1697 - val_r2_score: -1.7362 - learning_rate: 0.0010\n",
      "Epoch 374/1000\n",
      "\u001b[1m4/4\u001b[0m \u001b[32m━━━━━━━━━━━━━━━━━━━━\u001b[0m\u001b[37m\u001b[0m \u001b[1m0s\u001b[0m 90ms/step - loss: 0.3779 - mape: 8.3535 - r2_score: 0.4116 - val_loss: 0.8786 - val_mape: 19.0885 - val_r2_score: -1.2746 - learning_rate: 0.0010\n",
      "Epoch 375/1000\n",
      "\u001b[1m4/4\u001b[0m \u001b[32m━━━━━━━━━━━━━━━━━━━━\u001b[0m\u001b[37m\u001b[0m \u001b[1m0s\u001b[0m 93ms/step - loss: 0.3342 - mape: 7.1091 - r2_score: 0.5496 - val_loss: 0.6792 - val_mape: 14.7612 - val_r2_score: -0.5031 - learning_rate: 0.0010\n",
      "Epoch 376/1000\n",
      "\u001b[1m4/4\u001b[0m \u001b[32m━━━━━━━━━━━━━━━━━━━━\u001b[0m\u001b[37m\u001b[0m \u001b[1m0s\u001b[0m 91ms/step - loss: 0.4097 - mape: 8.9717 - r2_score: 0.3482 - val_loss: 0.5879 - val_mape: 12.7958 - val_r2_score: -0.2177 - learning_rate: 0.0010\n",
      "Epoch 377/1000\n",
      "\u001b[1m4/4\u001b[0m \u001b[32m━━━━━━━━━━━━━━━━━━━━\u001b[0m\u001b[37m\u001b[0m \u001b[1m0s\u001b[0m 96ms/step - loss: 0.4496 - mape: 9.8605 - r2_score: 0.2882 - val_loss: 0.5857 - val_mape: 12.7981 - val_r2_score: -0.1714 - learning_rate: 0.0010\n",
      "Epoch 378/1000\n",
      "\u001b[1m4/4\u001b[0m \u001b[32m━━━━━━━━━━━━━━━━━━━━\u001b[0m\u001b[37m\u001b[0m \u001b[1m0s\u001b[0m 92ms/step - loss: 0.3031 - mape: 6.5269 - r2_score: 0.6230 - val_loss: 0.6441 - val_mape: 14.0882 - val_r2_score: -0.3087 - learning_rate: 0.0010\n",
      "Epoch 379/1000\n",
      "\u001b[1m4/4\u001b[0m \u001b[32m━━━━━━━━━━━━━━━━━━━━\u001b[0m\u001b[37m\u001b[0m \u001b[1m0s\u001b[0m 95ms/step - loss: 0.3591 - mape: 7.7955 - r2_score: 0.5196 - val_loss: 0.7406 - val_mape: 16.2120 - val_r2_score: -0.6122 - learning_rate: 0.0010\n",
      "Epoch 380/1000\n",
      "\u001b[1m4/4\u001b[0m \u001b[32m━━━━━━━━━━━━━━━━━━━━\u001b[0m\u001b[37m\u001b[0m \u001b[1m0s\u001b[0m 93ms/step - loss: 0.4077 - mape: 8.8930 - r2_score: 0.3389 - val_loss: 0.8012 - val_mape: 17.5022 - val_r2_score: -0.8636 - learning_rate: 0.0010\n",
      "Epoch 381/1000\n",
      "\u001b[1m4/4\u001b[0m \u001b[32m━━━━━━━━━━━━━━━━━━━━\u001b[0m\u001b[37m\u001b[0m \u001b[1m0s\u001b[0m 90ms/step - loss: 0.3695 - mape: 8.0322 - r2_score: 0.4727 - val_loss: 0.7961 - val_mape: 17.4014 - val_r2_score: -0.8560 - learning_rate: 0.0010\n",
      "Epoch 382/1000\n",
      "\u001b[1m4/4\u001b[0m \u001b[32m━━━━━━━━━━━━━━━━━━━━\u001b[0m\u001b[37m\u001b[0m \u001b[1m0s\u001b[0m 91ms/step - loss: 0.3142 - mape: 7.0039 - r2_score: 0.6134 - val_loss: 0.7092 - val_mape: 15.6245 - val_r2_score: -0.5308 - learning_rate: 0.0010\n",
      "Epoch 383/1000\n",
      "\u001b[1m4/4\u001b[0m \u001b[32m━━━━━━━━━━━━━━━━━━━━\u001b[0m\u001b[37m\u001b[0m \u001b[1m0s\u001b[0m 97ms/step - loss: 0.3245 - mape: 7.0470 - r2_score: 0.5842 - val_loss: 0.7904 - val_mape: 17.2594 - val_r2_score: -0.9017 - learning_rate: 0.0010\n",
      "Epoch 384/1000\n",
      "\u001b[1m4/4\u001b[0m \u001b[32m━━━━━━━━━━━━━━━━━━━━\u001b[0m\u001b[37m\u001b[0m \u001b[1m1s\u001b[0m 90ms/step - loss: 0.4112 - mape: 9.2785 - r2_score: 0.3054 - val_loss: 0.7917 - val_mape: 17.2813 - val_r2_score: -0.9542 - learning_rate: 0.0010\n",
      "Epoch 385/1000\n",
      "\u001b[1m4/4\u001b[0m \u001b[32m━━━━━━━━━━━━━━━━━━━━\u001b[0m\u001b[37m\u001b[0m \u001b[1m0s\u001b[0m 94ms/step - loss: 0.3916 - mape: 8.5925 - r2_score: 0.4798 - val_loss: 0.7363 - val_mape: 16.1231 - val_r2_score: -0.7341 - learning_rate: 0.0010\n",
      "Epoch 386/1000\n",
      "\u001b[1m4/4\u001b[0m \u001b[32m━━━━━━━━━━━━━━━━━━━━\u001b[0m\u001b[37m\u001b[0m \u001b[1m0s\u001b[0m 89ms/step - loss: 0.3846 - mape: 8.4045 - r2_score: 0.3481 - val_loss: 0.7652 - val_mape: 16.6573 - val_r2_score: -0.8623 - learning_rate: 0.0010\n",
      "Epoch 387/1000\n",
      "\u001b[1m4/4\u001b[0m \u001b[32m━━━━━━━━━━━━━━━━━━━━\u001b[0m\u001b[37m\u001b[0m \u001b[1m0s\u001b[0m 94ms/step - loss: 0.4235 - mape: 9.3306 - r2_score: 0.3300 - val_loss: 0.8811 - val_mape: 19.0183 - val_r2_score: -1.3998 - learning_rate: 0.0010\n",
      "Epoch 388/1000\n",
      "\u001b[1m4/4\u001b[0m \u001b[32m━━━━━━━━━━━━━━━━━━━━\u001b[0m\u001b[37m\u001b[0m \u001b[1m0s\u001b[0m 102ms/step - loss: 0.4075 - mape: 9.0887 - r2_score: 0.3419 - val_loss: 0.9563 - val_mape: 20.4512 - val_r2_score: -1.9033 - learning_rate: 0.0010\n",
      "Epoch 389/1000\n",
      "\u001b[1m4/4\u001b[0m \u001b[32m━━━━━━━━━━━━━━━━━━━━\u001b[0m\u001b[37m\u001b[0m \u001b[1m0s\u001b[0m 90ms/step - loss: 0.3295 - mape: 7.1587 - r2_score: 0.5246 - val_loss: 0.8677 - val_mape: 18.5472 - val_r2_score: -1.4079 - learning_rate: 0.0010\n",
      "Epoch 390/1000\n",
      "\u001b[1m4/4\u001b[0m \u001b[32m━━━━━━━━━━━━━━━━━━━━\u001b[0m\u001b[37m\u001b[0m \u001b[1m0s\u001b[0m 98ms/step - loss: 0.3202 - mape: 6.9820 - r2_score: 0.5784 - val_loss: 0.7502 - val_mape: 16.1499 - val_r2_score: -0.7962 - learning_rate: 0.0010\n",
      "Epoch 391/1000\n",
      "\u001b[1m4/4\u001b[0m \u001b[32m━━━━━━━━━━━━━━━━━━━━\u001b[0m\u001b[37m\u001b[0m \u001b[1m0s\u001b[0m 92ms/step - loss: 0.3316 - mape: 7.1712 - r2_score: 0.5698 - val_loss: 0.7203 - val_mape: 15.5256 - val_r2_score: -0.6711 - learning_rate: 0.0010\n",
      "Epoch 392/1000\n",
      "\u001b[1m4/4\u001b[0m \u001b[32m━━━━━━━━━━━━━━━━━━━━\u001b[0m\u001b[37m\u001b[0m \u001b[1m0s\u001b[0m 88ms/step - loss: 0.3683 - mape: 8.0674 - r2_score: 0.5204 - val_loss: 0.6799 - val_mape: 14.7315 - val_r2_score: -0.5120 - learning_rate: 0.0010\n",
      "Epoch 393/1000\n",
      "\u001b[1m4/4\u001b[0m \u001b[32m━━━━━━━━━━━━━━━━━━━━\u001b[0m\u001b[37m\u001b[0m \u001b[1m0s\u001b[0m 89ms/step - loss: 0.3633 - mape: 8.1550 - r2_score: 0.4537 - val_loss: 0.6758 - val_mape: 14.7036 - val_r2_score: -0.5059 - learning_rate: 0.0010\n",
      "Epoch 394/1000\n",
      "\u001b[1m4/4\u001b[0m \u001b[32m━━━━━━━━━━━━━━━━━━━━\u001b[0m\u001b[37m\u001b[0m \u001b[1m0s\u001b[0m 96ms/step - loss: 0.3498 - mape: 7.6404 - r2_score: 0.5234 - val_loss: 0.7896 - val_mape: 17.0872 - val_r2_score: -0.9785 - learning_rate: 0.0010\n",
      "Epoch 395/1000\n",
      "\u001b[1m4/4\u001b[0m \u001b[32m━━━━━━━━━━━━━━━━━━━━\u001b[0m\u001b[37m\u001b[0m \u001b[1m0s\u001b[0m 91ms/step - loss: 0.3404 - mape: 7.5230 - r2_score: 0.4402 - val_loss: 0.9027 - val_mape: 19.4465 - val_r2_score: -1.5541 - learning_rate: 0.0010\n",
      "Epoch 396/1000\n",
      "\u001b[1m4/4\u001b[0m \u001b[32m━━━━━━━━━━━━━━━━━━━━\u001b[0m\u001b[37m\u001b[0m \u001b[1m0s\u001b[0m 91ms/step - loss: 0.3386 - mape: 7.6686 - r2_score: 0.2173 - val_loss: 0.8708 - val_mape: 18.7712 - val_r2_score: -1.3483 - learning_rate: 0.0010\n",
      "Epoch 397/1000\n",
      "\u001b[1m4/4\u001b[0m \u001b[32m━━━━━━━━━━━━━━━━━━━━\u001b[0m\u001b[37m\u001b[0m \u001b[1m0s\u001b[0m 97ms/step - loss: 0.3961 - mape: 9.0356 - r2_score: 0.2911 - val_loss: 0.8807 - val_mape: 18.8782 - val_r2_score: -1.4449 - learning_rate: 0.0010\n",
      "Epoch 398/1000\n",
      "\u001b[1m4/4\u001b[0m \u001b[32m━━━━━━━━━━━━━━━━━━━━\u001b[0m\u001b[37m\u001b[0m \u001b[1m0s\u001b[0m 98ms/step - loss: 0.3656 - mape: 7.9241 - r2_score: 0.5454 - val_loss: 0.8175 - val_mape: 17.5458 - val_r2_score: -1.0842 - learning_rate: 0.0010\n",
      "Epoch 399/1000\n",
      "\u001b[1m4/4\u001b[0m \u001b[32m━━━━━━━━━━━━━━━━━━━━\u001b[0m\u001b[37m\u001b[0m \u001b[1m0s\u001b[0m 91ms/step - loss: 0.4239 - mape: 9.3364 - r2_score: 0.1925 - val_loss: 0.7454 - val_mape: 16.1340 - val_r2_score: -0.6958 - learning_rate: 0.0010\n",
      "Epoch 400/1000\n",
      "\u001b[1m4/4\u001b[0m \u001b[32m━━━━━━━━━━━━━━━━━━━━\u001b[0m\u001b[37m\u001b[0m \u001b[1m0s\u001b[0m 96ms/step - loss: 0.3826 - mape: 8.2016 - r2_score: 0.4914 - val_loss: 0.7110 - val_mape: 15.5341 - val_r2_score: -0.5272 - learning_rate: 0.0010\n",
      "Epoch 401/1000\n",
      "\u001b[1m4/4\u001b[0m \u001b[32m━━━━━━━━━━━━━━━━━━━━\u001b[0m\u001b[37m\u001b[0m \u001b[1m0s\u001b[0m 92ms/step - loss: 0.3254 - mape: 6.9163 - r2_score: 0.5493 - val_loss: 0.7226 - val_mape: 15.8283 - val_r2_score: -0.5692 - learning_rate: 0.0010\n",
      "Epoch 402/1000\n",
      "\u001b[1m4/4\u001b[0m \u001b[32m━━━━━━━━━━━━━━━━━━━━\u001b[0m\u001b[37m\u001b[0m \u001b[1m0s\u001b[0m 92ms/step - loss: 0.3459 - mape: 7.6848 - r2_score: 0.5034 - val_loss: 0.7881 - val_mape: 17.1501 - val_r2_score: -0.8571 - learning_rate: 0.0010\n",
      "Epoch 403/1000\n",
      "\u001b[1m4/4\u001b[0m \u001b[32m━━━━━━━━━━━━━━━━━━━━\u001b[0m\u001b[37m\u001b[0m \u001b[1m0s\u001b[0m 97ms/step - loss: 0.3173 - mape: 6.8146 - r2_score: 0.4963 - val_loss: 0.8502 - val_mape: 18.5202 - val_r2_score: -1.1494 - learning_rate: 0.0010\n",
      "Epoch 404/1000\n",
      "\u001b[1m4/4\u001b[0m \u001b[32m━━━━━━━━━━━━━━━━━━━━\u001b[0m\u001b[37m\u001b[0m \u001b[1m0s\u001b[0m 93ms/step - loss: 0.3766 - mape: 8.2859 - r2_score: 0.3566 - val_loss: 0.8241 - val_mape: 18.0637 - val_r2_score: -1.0220 - learning_rate: 0.0010\n",
      "Epoch 405/1000\n",
      "\u001b[1m4/4\u001b[0m \u001b[32m━━━━━━━━━━━━━━━━━━━━\u001b[0m\u001b[37m\u001b[0m \u001b[1m0s\u001b[0m 100ms/step - loss: 0.3473 - mape: 7.6252 - r2_score: 0.5257 - val_loss: 0.7647 - val_mape: 16.7964 - val_r2_score: -0.7537 - learning_rate: 0.0010\n",
      "Epoch 406/1000\n",
      "\u001b[1m4/4\u001b[0m \u001b[32m━━━━━━━━━━━━━━━━━━━━\u001b[0m\u001b[37m\u001b[0m \u001b[1m0s\u001b[0m 93ms/step - loss: 0.3531 - mape: 7.7753 - r2_score: 0.4897 - val_loss: 0.8304 - val_mape: 18.0111 - val_r2_score: -1.1431 - learning_rate: 0.0010\n",
      "Epoch 407/1000\n",
      "\u001b[1m4/4\u001b[0m \u001b[32m━━━━━━━━━━━━━━━━━━━━\u001b[0m\u001b[37m\u001b[0m \u001b[1m0s\u001b[0m 90ms/step - loss: 0.4305 - mape: 9.3021 - r2_score: 0.2494 - val_loss: 1.0512 - val_mape: 22.3989 - val_r2_score: -2.8036 - learning_rate: 0.0010\n",
      "Epoch 408/1000\n",
      "\u001b[1m4/4\u001b[0m \u001b[32m━━━━━━━━━━━━━━━━━━━━\u001b[0m\u001b[37m\u001b[0m \u001b[1m0s\u001b[0m 91ms/step - loss: 0.4458 - mape: 9.8170 - r2_score: 0.2389 - val_loss: 1.1631 - val_mape: 24.5959 - val_r2_score: -3.8615 - learning_rate: 0.0010\n",
      "Epoch 409/1000\n",
      "\u001b[1m4/4\u001b[0m \u001b[32m━━━━━━━━━━━━━━━━━━━━\u001b[0m\u001b[37m\u001b[0m \u001b[1m0s\u001b[0m 90ms/step - loss: 0.4315 - mape: 9.5559 - r2_score: 0.2932 - val_loss: 1.0171 - val_mape: 21.6629 - val_r2_score: -2.4512 - learning_rate: 0.0010\n",
      "Epoch 410/1000\n",
      "\u001b[1m4/4\u001b[0m \u001b[32m━━━━━━━━━━━━━━━━━━━━\u001b[0m\u001b[37m\u001b[0m \u001b[1m0s\u001b[0m 88ms/step - loss: 0.4104 - mape: 8.9645 - r2_score: 0.3119 - val_loss: 0.8708 - val_mape: 18.7364 - val_r2_score: -1.3460 - learning_rate: 0.0010\n",
      "Epoch 411/1000\n",
      "\u001b[1m4/4\u001b[0m \u001b[32m━━━━━━━━━━━━━━━━━━━━\u001b[0m\u001b[37m\u001b[0m \u001b[1m0s\u001b[0m 88ms/step - loss: 0.3616 - mape: 7.8642 - r2_score: 0.4452 - val_loss: 0.8394 - val_mape: 18.0716 - val_r2_score: -1.1476 - learning_rate: 0.0010\n",
      "Epoch 412/1000\n",
      "\u001b[1m4/4\u001b[0m \u001b[32m━━━━━━━━━━━━━━━━━━━━\u001b[0m\u001b[37m\u001b[0m \u001b[1m0s\u001b[0m 88ms/step - loss: 0.3558 - mape: 7.7892 - r2_score: 0.4645 - val_loss: 0.8337 - val_mape: 17.9953 - val_r2_score: -1.0999 - learning_rate: 0.0010\n",
      "Epoch 413/1000\n",
      "\u001b[1m4/4\u001b[0m \u001b[32m━━━━━━━━━━━━━━━━━━━━\u001b[0m\u001b[37m\u001b[0m \u001b[1m0s\u001b[0m 95ms/step - loss: 0.4073 - mape: 8.7879 - r2_score: 0.3263 - val_loss: 0.9412 - val_mape: 20.2625 - val_r2_score: -1.7271 - learning_rate: 0.0010\n",
      "Epoch 414/1000\n",
      "\u001b[1m4/4\u001b[0m \u001b[32m━━━━━━━━━━━━━━━━━━━━\u001b[0m\u001b[37m\u001b[0m \u001b[1m0s\u001b[0m 92ms/step - loss: 0.3441 - mape: 7.6752 - r2_score: 0.5661 - val_loss: 0.9828 - val_mape: 21.1503 - val_r2_score: -1.9831 - learning_rate: 0.0010\n",
      "Epoch 415/1000\n",
      "\u001b[1m4/4\u001b[0m \u001b[32m━━━━━━━━━━━━━━━━━━━━\u001b[0m\u001b[37m\u001b[0m \u001b[1m0s\u001b[0m 91ms/step - loss: 0.3564 - mape: 7.7476 - r2_score: 0.4185 - val_loss: 0.9987 - val_mape: 21.5593 - val_r2_score: -1.9783 - learning_rate: 0.0010\n",
      "Epoch 416/1000\n",
      "\u001b[1m4/4\u001b[0m \u001b[32m━━━━━━━━━━━━━━━━━━━━\u001b[0m\u001b[37m\u001b[0m \u001b[1m0s\u001b[0m 92ms/step - loss: 0.4138 - mape: 9.0989 - r2_score: 0.2611 - val_loss: 1.0004 - val_mape: 21.5856 - val_r2_score: -1.9703 - learning_rate: 0.0010\n",
      "Epoch 417/1000\n",
      "\u001b[1m4/4\u001b[0m \u001b[32m━━━━━━━━━━━━━━━━━━━━\u001b[0m\u001b[37m\u001b[0m \u001b[1m0s\u001b[0m 97ms/step - loss: 0.3864 - mape: 8.4867 - r2_score: 0.2498 - val_loss: 0.9040 - val_mape: 19.5154 - val_r2_score: -1.4521 - learning_rate: 0.0010\n",
      "Epoch 418/1000\n",
      "\u001b[1m4/4\u001b[0m \u001b[32m━━━━━━━━━━━━━━━━━━━━\u001b[0m\u001b[37m\u001b[0m \u001b[1m0s\u001b[0m 88ms/step - loss: 0.3353 - mape: 7.4883 - r2_score: 0.5035 - val_loss: 0.8023 - val_mape: 17.2939 - val_r2_score: -1.0408 - learning_rate: 0.0010\n",
      "Epoch 419/1000\n",
      "\u001b[1m4/4\u001b[0m \u001b[32m━━━━━━━━━━━━━━━━━━━━\u001b[0m\u001b[37m\u001b[0m \u001b[1m0s\u001b[0m 91ms/step - loss: 0.3774 - mape: 8.4031 - r2_score: 0.4512 - val_loss: 0.7747 - val_mape: 16.7277 - val_r2_score: -0.9886 - learning_rate: 0.0010\n",
      "Epoch 420/1000\n",
      "\u001b[1m4/4\u001b[0m \u001b[32m━━━━━━━━━━━━━━━━━━━━\u001b[0m\u001b[37m\u001b[0m \u001b[1m0s\u001b[0m 95ms/step - loss: 0.4564 - mape: 10.4535 - r2_score: 0.0859 - val_loss: 0.8318 - val_mape: 17.8907 - val_r2_score: -1.3385 - learning_rate: 0.0010\n",
      "Epoch 421/1000\n",
      "\u001b[1m4/4\u001b[0m \u001b[32m━━━━━━━━━━━━━━━━━━━━\u001b[0m\u001b[37m\u001b[0m \u001b[1m0s\u001b[0m 92ms/step - loss: 0.3240 - mape: 7.0891 - r2_score: 0.5563 - val_loss: 0.8977 - val_mape: 19.2211 - val_r2_score: -1.7354 - learning_rate: 0.0010\n",
      "Epoch 422/1000\n",
      "\u001b[1m4/4\u001b[0m \u001b[32m━━━━━━━━━━━━━━━━━━━━\u001b[0m\u001b[37m\u001b[0m \u001b[1m0s\u001b[0m 89ms/step - loss: 0.4589 - mape: 10.2639 - r2_score: 0.1956 - val_loss: 0.8865 - val_mape: 19.0907 - val_r2_score: -1.5390 - learning_rate: 0.0010\n",
      "Epoch 423/1000\n",
      "\u001b[1m4/4\u001b[0m \u001b[32m━━━━━━━━━━━━━━━━━━━━\u001b[0m\u001b[37m\u001b[0m \u001b[1m0s\u001b[0m 97ms/step - loss: 0.3387 - mape: 7.4025 - r2_score: 0.5069 - val_loss: 0.9281 - val_mape: 20.0453 - val_r2_score: -1.6555 - learning_rate: 0.0010\n",
      "Epoch 424/1000\n",
      "\u001b[1m4/4\u001b[0m \u001b[32m━━━━━━━━━━━━━━━━━━━━\u001b[0m\u001b[37m\u001b[0m \u001b[1m0s\u001b[0m 90ms/step - loss: 0.4142 - mape: 8.9459 - r2_score: 0.4158 - val_loss: 0.9410 - val_mape: 20.3184 - val_r2_score: -1.6778 - learning_rate: 0.0010\n",
      "Epoch 425/1000\n",
      "\u001b[1m4/4\u001b[0m \u001b[32m━━━━━━━━━━━━━━━━━━━━\u001b[0m\u001b[37m\u001b[0m \u001b[1m0s\u001b[0m 91ms/step - loss: 0.3773 - mape: 8.3868 - r2_score: 0.4503 - val_loss: 0.8125 - val_mape: 17.6627 - val_r2_score: -0.9794 - learning_rate: 0.0010\n",
      "Epoch 426/1000\n",
      "\u001b[1m4/4\u001b[0m \u001b[32m━━━━━━━━━━━━━━━━━━━━\u001b[0m\u001b[37m\u001b[0m \u001b[1m0s\u001b[0m 93ms/step - loss: 0.4695 - mape: 10.2846 - r2_score: 0.0618 - val_loss: 0.6583 - val_mape: 14.4436 - val_r2_score: -0.4154 - learning_rate: 0.0010\n",
      "Epoch 427/1000\n",
      "\u001b[1m4/4\u001b[0m \u001b[32m━━━━━━━━━━━━━━━━━━━━\u001b[0m\u001b[37m\u001b[0m \u001b[1m0s\u001b[0m 95ms/step - loss: 0.3522 - mape: 7.5147 - r2_score: 0.5654 - val_loss: 0.6535 - val_mape: 14.2279 - val_r2_score: -0.4642 - learning_rate: 0.0010\n",
      "Epoch 428/1000\n",
      "\u001b[1m4/4\u001b[0m \u001b[32m━━━━━━━━━━━━━━━━━━━━\u001b[0m\u001b[37m\u001b[0m \u001b[1m0s\u001b[0m 94ms/step - loss: 0.3354 - mape: 7.3794 - r2_score: 0.5094 - val_loss: 0.6852 - val_mape: 14.8703 - val_r2_score: -0.5638 - learning_rate: 0.0010\n",
      "Epoch 429/1000\n",
      "\u001b[1m4/4\u001b[0m \u001b[32m━━━━━━━━━━━━━━━━━━━━\u001b[0m\u001b[37m\u001b[0m \u001b[1m0s\u001b[0m 87ms/step - loss: 0.3836 - mape: 8.6917 - r2_score: 0.3768 - val_loss: 0.7369 - val_mape: 16.0711 - val_r2_score: -0.6950 - learning_rate: 0.0010\n",
      "Epoch 430/1000\n",
      "\u001b[1m4/4\u001b[0m \u001b[32m━━━━━━━━━━━━━━━━━━━━\u001b[0m\u001b[37m\u001b[0m \u001b[1m0s\u001b[0m 87ms/step - loss: 0.3980 - mape: 8.7292 - r2_score: 0.3398 - val_loss: 0.7005 - val_mape: 15.3980 - val_r2_score: -0.5512 - learning_rate: 0.0010\n",
      "Epoch 431/1000\n",
      "\u001b[1m4/4\u001b[0m \u001b[32m━━━━━━━━━━━━━━━━━━━━\u001b[0m\u001b[37m\u001b[0m \u001b[1m0s\u001b[0m 95ms/step - loss: 0.3977 - mape: 8.6421 - r2_score: 0.3802 - val_loss: 0.7469 - val_mape: 16.3924 - val_r2_score: -0.7298 - learning_rate: 0.0010\n",
      "Epoch 432/1000\n",
      "\u001b[1m4/4\u001b[0m \u001b[32m━━━━━━━━━━━━━━━━━━━━\u001b[0m\u001b[37m\u001b[0m \u001b[1m0s\u001b[0m 96ms/step - loss: 0.3963 - mape: 8.5144 - r2_score: 0.3148 - val_loss: 0.8060 - val_mape: 17.6484 - val_r2_score: -0.9666 - learning_rate: 0.0010\n",
      "Epoch 433/1000\n",
      "\u001b[1m4/4\u001b[0m \u001b[32m━━━━━━━━━━━━━━━━━━━━\u001b[0m\u001b[37m\u001b[0m \u001b[1m1s\u001b[0m 114ms/step - loss: 0.3489 - mape: 7.6208 - r2_score: 0.5940 - val_loss: 0.8512 - val_mape: 18.5310 - val_r2_score: -1.2737 - learning_rate: 0.0010\n",
      "Epoch 434/1000\n",
      "\u001b[1m4/4\u001b[0m \u001b[32m━━━━━━━━━━━━━━━━━━━━\u001b[0m\u001b[37m\u001b[0m \u001b[1m0s\u001b[0m 92ms/step - loss: 0.4137 - mape: 9.5202 - r2_score: 0.2936 - val_loss: 0.6974 - val_mape: 15.3339 - val_r2_score: -0.6561 - learning_rate: 0.0010\n",
      "Epoch 435/1000\n",
      "\u001b[1m4/4\u001b[0m \u001b[32m━━━━━━━━━━━━━━━━━━━━\u001b[0m\u001b[37m\u001b[0m \u001b[1m0s\u001b[0m 101ms/step - loss: 0.3516 - mape: 7.7255 - r2_score: 0.5363 - val_loss: 0.6166 - val_mape: 13.6922 - val_r2_score: -0.3825 - learning_rate: 0.0010\n",
      "Epoch 436/1000\n",
      "\u001b[1m4/4\u001b[0m \u001b[32m━━━━━━━━━━━━━━━━━━━━\u001b[0m\u001b[37m\u001b[0m \u001b[1m0s\u001b[0m 94ms/step - loss: 0.3459 - mape: 7.6179 - r2_score: 0.4873 - val_loss: 0.6698 - val_mape: 14.7746 - val_r2_score: -0.5285 - learning_rate: 0.0010\n",
      "Epoch 437/1000\n",
      "\u001b[1m4/4\u001b[0m \u001b[32m━━━━━━━━━━━━━━━━━━━━\u001b[0m\u001b[37m\u001b[0m \u001b[1m0s\u001b[0m 94ms/step - loss: 0.4373 - mape: 9.4957 - r2_score: 0.3204 - val_loss: 0.7975 - val_mape: 17.3624 - val_r2_score: -0.9953 - learning_rate: 0.0010\n",
      "Epoch 438/1000\n",
      "\u001b[1m4/4\u001b[0m \u001b[32m━━━━━━━━━━━━━━━━━━━━\u001b[0m\u001b[37m\u001b[0m \u001b[1m0s\u001b[0m 101ms/step - loss: 0.3751 - mape: 8.2781 - r2_score: 0.4461 - val_loss: 0.8861 - val_mape: 19.0503 - val_r2_score: -1.4656 - learning_rate: 0.0010\n",
      "Epoch 439/1000\n",
      "\u001b[1m4/4\u001b[0m \u001b[32m━━━━━━━━━━━━━━━━━━━━\u001b[0m\u001b[37m\u001b[0m \u001b[1m0s\u001b[0m 98ms/step - loss: 0.4040 - mape: 8.9787 - r2_score: 0.2192 - val_loss: 0.8811 - val_mape: 18.8698 - val_r2_score: -1.4501 - learning_rate: 0.0010\n",
      "Epoch 440/1000\n",
      "\u001b[1m4/4\u001b[0m \u001b[32m━━━━━━━━━━━━━━━━━━━━\u001b[0m\u001b[37m\u001b[0m \u001b[1m0s\u001b[0m 89ms/step - loss: 0.3295 - mape: 7.1479 - r2_score: 0.5789 - val_loss: 0.9747 - val_mape: 20.7321 - val_r2_score: -2.1091 - learning_rate: 0.0010\n",
      "Epoch 441/1000\n",
      "\u001b[1m4/4\u001b[0m \u001b[32m━━━━━━━━━━━━━━━━━━━━\u001b[0m\u001b[37m\u001b[0m \u001b[1m0s\u001b[0m 91ms/step - loss: 0.3949 - mape: 8.5968 - r2_score: 0.4635 - val_loss: 0.9181 - val_mape: 19.5829 - val_r2_score: -1.7299 - learning_rate: 0.0010\n",
      "Epoch 442/1000\n",
      "\u001b[1m4/4\u001b[0m \u001b[32m━━━━━━━━━━━━━━━━━━━━\u001b[0m\u001b[37m\u001b[0m \u001b[1m0s\u001b[0m 94ms/step - loss: 0.3833 - mape: 8.3007 - r2_score: 0.3962 - val_loss: 0.7294 - val_mape: 15.8272 - val_r2_score: -0.6590 - learning_rate: 0.0010\n",
      "Epoch 443/1000\n",
      "\u001b[1m4/4\u001b[0m \u001b[32m━━━━━━━━━━━━━━━━━━━━\u001b[0m\u001b[37m\u001b[0m \u001b[1m0s\u001b[0m 91ms/step - loss: 0.3887 - mape: 8.4842 - r2_score: 0.4658 - val_loss: 0.6308 - val_mape: 14.0079 - val_r2_score: -0.2727 - learning_rate: 0.0010\n",
      "Epoch 444/1000\n",
      "\u001b[1m4/4\u001b[0m \u001b[32m━━━━━━━━━━━━━━━━━━━━\u001b[0m\u001b[37m\u001b[0m \u001b[1m0s\u001b[0m 94ms/step - loss: 0.3523 - mape: 7.6839 - r2_score: 0.5262 - val_loss: 0.5972 - val_mape: 13.3746 - val_r2_score: -0.1843 - learning_rate: 0.0010\n",
      "Epoch 445/1000\n",
      "\u001b[1m4/4\u001b[0m \u001b[32m━━━━━━━━━━━━━━━━━━━━\u001b[0m\u001b[37m\u001b[0m \u001b[1m0s\u001b[0m 96ms/step - loss: 0.4340 - mape: 9.7066 - r2_score: 0.3594 - val_loss: 0.5877 - val_mape: 13.1105 - val_r2_score: -0.1533 - learning_rate: 0.0010\n",
      "Epoch 446/1000\n",
      "\u001b[1m4/4\u001b[0m \u001b[32m━━━━━━━━━━━━━━━━━━━━\u001b[0m\u001b[37m\u001b[0m \u001b[1m0s\u001b[0m 94ms/step - loss: 0.3894 - mape: 8.5353 - r2_score: 0.3619 - val_loss: 0.5934 - val_mape: 13.0756 - val_r2_score: -0.1981 - learning_rate: 0.0010\n",
      "Epoch 447/1000\n",
      "\u001b[1m4/4\u001b[0m \u001b[32m━━━━━━━━━━━━━━━━━━━━\u001b[0m\u001b[37m\u001b[0m \u001b[1m0s\u001b[0m 92ms/step - loss: 0.3529 - mape: 7.8185 - r2_score: 0.4798 - val_loss: 0.6459 - val_mape: 14.0651 - val_r2_score: -0.4443 - learning_rate: 0.0010\n",
      "Epoch 448/1000\n",
      "\u001b[1m4/4\u001b[0m \u001b[32m━━━━━━━━━━━━━━━━━━━━\u001b[0m\u001b[37m\u001b[0m \u001b[1m0s\u001b[0m 96ms/step - loss: 0.3845 - mape: 8.5690 - r2_score: 0.3669 - val_loss: 0.6666 - val_mape: 14.5531 - val_r2_score: -0.5089 - learning_rate: 0.0010\n",
      "Epoch 449/1000\n",
      "\u001b[1m4/4\u001b[0m \u001b[32m━━━━━━━━━━━━━━━━━━━━\u001b[0m\u001b[37m\u001b[0m \u001b[1m0s\u001b[0m 91ms/step - loss: 0.3995 - mape: 8.8938 - r2_score: 0.3511 - val_loss: 0.6887 - val_mape: 15.0711 - val_r2_score: -0.6098 - learning_rate: 0.0010\n",
      "Epoch 450/1000\n",
      "\u001b[1m4/4\u001b[0m \u001b[32m━━━━━━━━━━━━━━━━━━━━\u001b[0m\u001b[37m\u001b[0m \u001b[1m0s\u001b[0m 101ms/step - loss: 0.3831 - mape: 8.4940 - r2_score: 0.4861 - val_loss: 0.7074 - val_mape: 15.5276 - val_r2_score: -0.6391 - learning_rate: 0.0010\n",
      "Epoch 451/1000\n",
      "\u001b[1m4/4\u001b[0m \u001b[32m━━━━━━━━━━━━━━━━━━━━\u001b[0m\u001b[37m\u001b[0m \u001b[1m0s\u001b[0m 97ms/step - loss: 0.3736 - mape: 8.3952 - r2_score: 0.2616 - val_loss: 0.7428 - val_mape: 16.3149 - val_r2_score: -0.7243 - learning_rate: 0.0010\n",
      "Epoch 452/1000\n",
      "\u001b[1m4/4\u001b[0m \u001b[32m━━━━━━━━━━━━━━━━━━━━\u001b[0m\u001b[37m\u001b[0m \u001b[1m0s\u001b[0m 90ms/step - loss: 0.3800 - mape: 8.3546 - r2_score: 0.4231 - val_loss: 0.7714 - val_mape: 16.9417 - val_r2_score: -0.8183 - learning_rate: 0.0010\n",
      "Epoch 453/1000\n",
      "\u001b[1m4/4\u001b[0m \u001b[32m━━━━━━━━━━━━━━━━━━━━\u001b[0m\u001b[37m\u001b[0m \u001b[1m0s\u001b[0m 88ms/step - loss: 0.3760 - mape: 8.4962 - r2_score: 0.4722 - val_loss: 0.8821 - val_mape: 19.1179 - val_r2_score: -1.4643 - learning_rate: 0.0010\n",
      "Epoch 454/1000\n",
      "\u001b[1m4/4\u001b[0m \u001b[32m━━━━━━━━━━━━━━━━━━━━\u001b[0m\u001b[37m\u001b[0m \u001b[1m0s\u001b[0m 92ms/step - loss: 0.3444 - mape: 7.6067 - r2_score: 0.5451 - val_loss: 0.9301 - val_mape: 20.0771 - val_r2_score: -1.7956 - learning_rate: 0.0010\n",
      "Epoch 455/1000\n",
      "\u001b[1m4/4\u001b[0m \u001b[32m━━━━━━━━━━━━━━━━━━━━\u001b[0m\u001b[37m\u001b[0m \u001b[1m0s\u001b[0m 88ms/step - loss: 0.4458 - mape: 10.0639 - r2_score: 0.2646 - val_loss: 0.8267 - val_mape: 18.0030 - val_r2_score: -1.1432 - learning_rate: 0.0010\n",
      "Epoch 456/1000\n",
      "\u001b[1m4/4\u001b[0m \u001b[32m━━━━━━━━━━━━━━━━━━━━\u001b[0m\u001b[37m\u001b[0m \u001b[1m0s\u001b[0m 92ms/step - loss: 0.3401 - mape: 7.4458 - r2_score: 0.4941 - val_loss: 0.6939 - val_mape: 15.3014 - val_r2_score: -0.4903 - learning_rate: 0.0010\n",
      "Epoch 457/1000\n",
      "\u001b[1m4/4\u001b[0m \u001b[32m━━━━━━━━━━━━━━━━━━━━\u001b[0m\u001b[37m\u001b[0m \u001b[1m0s\u001b[0m 97ms/step - loss: 0.4032 - mape: 9.0874 - r2_score: 0.4169 - val_loss: 0.6310 - val_mape: 14.0143 - val_r2_score: -0.2751 - learning_rate: 0.0010\n",
      "Epoch 458/1000\n",
      "\u001b[1m4/4\u001b[0m \u001b[32m━━━━━━━━━━━━━━━━━━━━\u001b[0m\u001b[37m\u001b[0m \u001b[1m0s\u001b[0m 94ms/step - loss: 0.4188 - mape: 9.2573 - r2_score: 0.2136 - val_loss: 0.5450 - val_mape: 12.2580 - val_r2_score: -0.0926 - learning_rate: 0.0010\n",
      "Epoch 459/1000\n",
      "\u001b[1m4/4\u001b[0m \u001b[32m━━━━━━━━━━━━━━━━━━━━\u001b[0m\u001b[37m\u001b[0m \u001b[1m0s\u001b[0m 87ms/step - loss: 0.4601 - mape: 9.9343 - r2_score: 0.2027 - val_loss: 0.5390 - val_mape: 12.1222 - val_r2_score: -0.1258 - learning_rate: 0.0010\n",
      "Epoch 460/1000\n",
      "\u001b[1m4/4\u001b[0m \u001b[32m━━━━━━━━━━━━━━━━━━━━\u001b[0m\u001b[37m\u001b[0m \u001b[1m0s\u001b[0m 98ms/step - loss: 0.4085 - mape: 8.8631 - r2_score: 0.3815 - val_loss: 0.7356 - val_mape: 16.1778 - val_r2_score: -0.8055 - learning_rate: 0.0010\n",
      "Epoch 461/1000\n",
      "\u001b[1m4/4\u001b[0m \u001b[32m━━━━━━━━━━━━━━━━━━━━\u001b[0m\u001b[37m\u001b[0m \u001b[1m0s\u001b[0m 100ms/step - loss: 0.3958 - mape: 8.7047 - r2_score: 0.5009 - val_loss: 0.8097 - val_mape: 17.6512 - val_r2_score: -1.1898 - learning_rate: 0.0010\n",
      "Epoch 462/1000\n",
      "\u001b[1m4/4\u001b[0m \u001b[32m━━━━━━━━━━━━━━━━━━━━\u001b[0m\u001b[37m\u001b[0m \u001b[1m0s\u001b[0m 96ms/step - loss: 0.3778 - mape: 8.3688 - r2_score: 0.3733 - val_loss: 0.7805 - val_mape: 16.9977 - val_r2_score: -0.9783 - learning_rate: 0.0010\n",
      "Epoch 463/1000\n",
      "\u001b[1m4/4\u001b[0m \u001b[32m━━━━━━━━━━━━━━━━━━━━\u001b[0m\u001b[37m\u001b[0m \u001b[1m0s\u001b[0m 97ms/step - loss: 0.3446 - mape: 7.8270 - r2_score: 0.5274 - val_loss: 0.7227 - val_mape: 15.8122 - val_r2_score: -0.6707 - learning_rate: 0.0010\n",
      "Epoch 464/1000\n",
      "\u001b[1m4/4\u001b[0m \u001b[32m━━━━━━━━━━━━━━━━━━━━\u001b[0m\u001b[37m\u001b[0m \u001b[1m0s\u001b[0m 94ms/step - loss: 0.2906 - mape: 6.3612 - r2_score: 0.6309 - val_loss: 0.7061 - val_mape: 15.5868 - val_r2_score: -0.5679 - learning_rate: 0.0010\n",
      "Epoch 465/1000\n",
      "\u001b[1m4/4\u001b[0m \u001b[32m━━━━━━━━━━━━━━━━━━━━\u001b[0m\u001b[37m\u001b[0m \u001b[1m0s\u001b[0m 93ms/step - loss: 0.3868 - mape: 8.5666 - r2_score: 0.4305 - val_loss: 0.7586 - val_mape: 16.7649 - val_r2_score: -0.7480 - learning_rate: 0.0010\n",
      "Epoch 466/1000\n",
      "\u001b[1m4/4\u001b[0m \u001b[32m━━━━━━━━━━━━━━━━━━━━\u001b[0m\u001b[37m\u001b[0m \u001b[1m0s\u001b[0m 99ms/step - loss: 0.3466 - mape: 7.6198 - r2_score: 0.4942 - val_loss: 0.7535 - val_mape: 16.6382 - val_r2_score: -0.7270 - learning_rate: 0.0010\n",
      "Epoch 467/1000\n",
      "\u001b[1m4/4\u001b[0m \u001b[32m━━━━━━━━━━━━━━━━━━━━\u001b[0m\u001b[37m\u001b[0m \u001b[1m0s\u001b[0m 94ms/step - loss: 0.3781 - mape: 8.2939 - r2_score: 0.3933 - val_loss: 0.6751 - val_mape: 14.9264 - val_r2_score: -0.4552 - learning_rate: 0.0010\n",
      "Epoch 468/1000\n",
      "\u001b[1m4/4\u001b[0m \u001b[32m━━━━━━━━━━━━━━━━━━━━\u001b[0m\u001b[37m\u001b[0m \u001b[1m0s\u001b[0m 92ms/step - loss: 0.3403 - mape: 7.5180 - r2_score: 0.5160 - val_loss: 0.6626 - val_mape: 14.5054 - val_r2_score: -0.4866 - learning_rate: 0.0010\n",
      "Epoch 469/1000\n",
      "\u001b[1m4/4\u001b[0m \u001b[32m━━━━━━━━━━━━━━━━━━━━\u001b[0m\u001b[37m\u001b[0m \u001b[1m0s\u001b[0m 109ms/step - loss: 0.4438 - mape: 9.7478 - r2_score: 0.3021 - val_loss: 0.6428 - val_mape: 14.0585 - val_r2_score: -0.4237 - learning_rate: 0.0010\n",
      "Epoch 470/1000\n",
      "\u001b[1m4/4\u001b[0m \u001b[32m━━━━━━━━━━━━━━━━━━━━\u001b[0m\u001b[37m\u001b[0m \u001b[1m0s\u001b[0m 92ms/step - loss: 0.4186 - mape: 9.1373 - r2_score: 0.3332 - val_loss: 0.6277 - val_mape: 13.8204 - val_r2_score: -0.3261 - learning_rate: 0.0010\n",
      "Epoch 471/1000\n",
      "\u001b[1m4/4\u001b[0m \u001b[32m━━━━━━━━━━━━━━━━━━━━\u001b[0m\u001b[37m\u001b[0m \u001b[1m0s\u001b[0m 89ms/step - loss: 0.3686 - mape: 7.9785 - r2_score: 0.4245 - val_loss: 0.5753 - val_mape: 12.7870 - val_r2_score: -0.1769 - learning_rate: 0.0010\n",
      "Epoch 472/1000\n",
      "\u001b[1m4/4\u001b[0m \u001b[32m━━━━━━━━━━━━━━━━━━━━\u001b[0m\u001b[37m\u001b[0m \u001b[1m0s\u001b[0m 110ms/step - loss: 0.3316 - mape: 6.9571 - r2_score: 0.4614 - val_loss: 0.4913 - val_mape: 11.0350 - val_r2_score: 0.0092 - learning_rate: 0.0010\n",
      "Epoch 473/1000\n",
      "\u001b[1m4/4\u001b[0m \u001b[32m━━━━━━━━━━━━━━━━━━━━\u001b[0m\u001b[37m\u001b[0m \u001b[1m0s\u001b[0m 88ms/step - loss: 0.3520 - mape: 7.8264 - r2_score: 0.4931 - val_loss: 0.5875 - val_mape: 12.9511 - val_r2_score: -0.2389 - learning_rate: 0.0010\n",
      "Epoch 474/1000\n",
      "\u001b[1m4/4\u001b[0m \u001b[32m━━━━━━━━━━━━━━━━━━━━\u001b[0m\u001b[37m\u001b[0m \u001b[1m0s\u001b[0m 98ms/step - loss: 0.3392 - mape: 7.5927 - r2_score: 0.5607 - val_loss: 0.8086 - val_mape: 17.4485 - val_r2_score: -1.1560 - learning_rate: 0.0010\n",
      "Epoch 475/1000\n",
      "\u001b[1m4/4\u001b[0m \u001b[32m━━━━━━━━━━━━━━━━━━━━\u001b[0m\u001b[37m\u001b[0m \u001b[1m0s\u001b[0m 89ms/step - loss: 0.4502 - mape: 9.9226 - r2_score: 0.2560 - val_loss: 0.9263 - val_mape: 19.8786 - val_r2_score: -1.8710 - learning_rate: 0.0010\n",
      "Epoch 476/1000\n",
      "\u001b[1m4/4\u001b[0m \u001b[32m━━━━━━━━━━━━━━━━━━━━\u001b[0m\u001b[37m\u001b[0m \u001b[1m0s\u001b[0m 92ms/step - loss: 0.4580 - mape: 10.0123 - r2_score: -0.0669 - val_loss: 0.8784 - val_mape: 19.0555 - val_r2_score: -1.4660 - learning_rate: 0.0010\n",
      "Epoch 477/1000\n",
      "\u001b[1m4/4\u001b[0m \u001b[32m━━━━━━━━━━━━━━━━━━━━\u001b[0m\u001b[37m\u001b[0m \u001b[1m0s\u001b[0m 96ms/step - loss: 0.3724 - mape: 8.2608 - r2_score: 0.3669 - val_loss: 0.6876 - val_mape: 15.3328 - val_r2_score: -0.5402 - learning_rate: 0.0010\n",
      "Epoch 478/1000\n",
      "\u001b[1m4/4\u001b[0m \u001b[32m━━━━━━━━━━━━━━━━━━━━\u001b[0m\u001b[37m\u001b[0m \u001b[1m0s\u001b[0m 92ms/step - loss: 0.4247 - mape: 9.4049 - r2_score: 0.3453 - val_loss: 0.5692 - val_mape: 12.8539 - val_r2_score: -0.2158 - learning_rate: 0.0010\n",
      "Epoch 479/1000\n",
      "\u001b[1m4/4\u001b[0m \u001b[32m━━━━━━━━━━━━━━━━━━━━\u001b[0m\u001b[37m\u001b[0m \u001b[1m0s\u001b[0m 91ms/step - loss: 0.3655 - mape: 7.9927 - r2_score: 0.4079 - val_loss: 0.5772 - val_mape: 12.9316 - val_r2_score: -0.2075 - learning_rate: 0.0010\n",
      "Epoch 480/1000\n",
      "\u001b[1m4/4\u001b[0m \u001b[32m━━━━━━━━━━━━━━━━━━━━\u001b[0m\u001b[37m\u001b[0m \u001b[1m1s\u001b[0m 95ms/step - loss: 0.3326 - mape: 7.3922 - r2_score: 0.5125 - val_loss: 0.6224 - val_mape: 13.8394 - val_r2_score: -0.3031 - learning_rate: 0.0010\n",
      "Epoch 481/1000\n",
      "\u001b[1m4/4\u001b[0m \u001b[32m━━━━━━━━━━━━━━━━━━━━\u001b[0m\u001b[37m\u001b[0m \u001b[1m0s\u001b[0m 101ms/step - loss: 0.3331 - mape: 7.3204 - r2_score: 0.5889 - val_loss: 0.6633 - val_mape: 14.6835 - val_r2_score: -0.4168 - learning_rate: 0.0010\n",
      "Epoch 482/1000\n",
      "\u001b[1m4/4\u001b[0m \u001b[32m━━━━━━━━━━━━━━━━━━━━\u001b[0m\u001b[37m\u001b[0m \u001b[1m0s\u001b[0m 89ms/step - loss: 0.3198 - mape: 6.9715 - r2_score: 0.5067 - val_loss: 0.6780 - val_mape: 14.9506 - val_r2_score: -0.4348 - learning_rate: 0.0010\n",
      "Epoch 483/1000\n",
      "\u001b[1m4/4\u001b[0m \u001b[32m━━━━━━━━━━━━━━━━━━━━\u001b[0m\u001b[37m\u001b[0m \u001b[1m0s\u001b[0m 89ms/step - loss: 0.3067 - mape: 6.7270 - r2_score: 0.6360 - val_loss: 0.6869 - val_mape: 15.0334 - val_r2_score: -0.4439 - learning_rate: 0.0010\n",
      "Epoch 484/1000\n",
      "\u001b[1m4/4\u001b[0m \u001b[32m━━━━━━━━━━━━━━━━━━━━\u001b[0m\u001b[37m\u001b[0m \u001b[1m0s\u001b[0m 87ms/step - loss: 0.3488 - mape: 7.7171 - r2_score: 0.5058 - val_loss: 0.6388 - val_mape: 14.0732 - val_r2_score: -0.2670 - learning_rate: 0.0010\n",
      "Epoch 485/1000\n",
      "\u001b[1m4/4\u001b[0m \u001b[32m━━━━━━━━━━━━━━━━━━━━\u001b[0m\u001b[37m\u001b[0m \u001b[1m0s\u001b[0m 87ms/step - loss: 0.3768 - mape: 8.3175 - r2_score: 0.3972 - val_loss: 0.6682 - val_mape: 14.7676 - val_r2_score: -0.3454 - learning_rate: 0.0010\n",
      "Epoch 486/1000\n",
      "\u001b[1m4/4\u001b[0m \u001b[32m━━━━━━━━━━━━━━━━━━━━\u001b[0m\u001b[37m\u001b[0m \u001b[1m0s\u001b[0m 90ms/step - loss: 0.3546 - mape: 7.5981 - r2_score: 0.4785 - val_loss: 0.7618 - val_mape: 16.7264 - val_r2_score: -0.6898 - learning_rate: 0.0010\n",
      "Epoch 487/1000\n",
      "\u001b[1m4/4\u001b[0m \u001b[32m━━━━━━━━━━━━━━━━━━━━\u001b[0m\u001b[37m\u001b[0m \u001b[1m0s\u001b[0m 108ms/step - loss: 0.4156 - mape: 9.0362 - r2_score: 0.3891 - val_loss: 0.8575 - val_mape: 18.6267 - val_r2_score: -1.2022 - learning_rate: 0.0010\n",
      "Epoch 488/1000\n",
      "\u001b[1m4/4\u001b[0m \u001b[32m━━━━━━━━━━━━━━━━━━━━\u001b[0m\u001b[37m\u001b[0m \u001b[1m1s\u001b[0m 101ms/step - loss: 0.3714 - mape: 8.0535 - r2_score: 0.4589 - val_loss: 0.8951 - val_mape: 19.3444 - val_r2_score: -1.4794 - learning_rate: 0.0010\n",
      "Epoch 489/1000\n",
      "\u001b[1m4/4\u001b[0m \u001b[32m━━━━━━━━━━━━━━━━━━━━\u001b[0m\u001b[37m\u001b[0m \u001b[1m0s\u001b[0m 86ms/step - loss: 0.3851 - mape: 8.7013 - r2_score: 0.3013 - val_loss: 0.7729 - val_mape: 16.7857 - val_r2_score: -0.8628 - learning_rate: 0.0010\n",
      "Epoch 490/1000\n",
      "\u001b[1m4/4\u001b[0m \u001b[32m━━━━━━━━━━━━━━━━━━━━\u001b[0m\u001b[37m\u001b[0m \u001b[1m0s\u001b[0m 96ms/step - loss: 0.3753 - mape: 8.2202 - r2_score: 0.4958 - val_loss: 0.5793 - val_mape: 12.7128 - val_r2_score: -0.1815 - learning_rate: 0.0010\n",
      "Epoch 491/1000\n",
      "\u001b[1m4/4\u001b[0m \u001b[32m━━━━━━━━━━━━━━━━━━━━\u001b[0m\u001b[37m\u001b[0m \u001b[1m0s\u001b[0m 88ms/step - loss: 0.4139 - mape: 9.3201 - r2_score: 0.1694 - val_loss: 0.5427 - val_mape: 11.8703 - val_r2_score: -0.1034 - learning_rate: 0.0010\n",
      "Epoch 492/1000\n",
      "\u001b[1m4/4\u001b[0m \u001b[32m━━━━━━━━━━━━━━━━━━━━\u001b[0m\u001b[37m\u001b[0m \u001b[1m0s\u001b[0m 89ms/step - loss: 0.3763 - mape: 8.3671 - r2_score: 0.3600 - val_loss: 0.6558 - val_mape: 14.1958 - val_r2_score: -0.4121 - learning_rate: 0.0010\n",
      "Epoch 493/1000\n",
      "\u001b[1m4/4\u001b[0m \u001b[32m━━━━━━━━━━━━━━━━━━━━\u001b[0m\u001b[37m\u001b[0m \u001b[1m0s\u001b[0m 87ms/step - loss: 0.3606 - mape: 7.9600 - r2_score: 0.4193 - val_loss: 0.9070 - val_mape: 19.3588 - val_r2_score: -1.6012 - learning_rate: 0.0010\n",
      "Epoch 494/1000\n",
      "\u001b[1m4/4\u001b[0m \u001b[32m━━━━━━━━━━━━━━━━━━━━\u001b[0m\u001b[37m\u001b[0m \u001b[1m0s\u001b[0m 91ms/step - loss: 0.3563 - mape: 8.0266 - r2_score: 0.4341 - val_loss: 1.0802 - val_mape: 22.9451 - val_r2_score: -2.8350 - learning_rate: 0.0010\n",
      "Epoch 495/1000\n",
      "\u001b[1m4/4\u001b[0m \u001b[32m━━━━━━━━━━━━━━━━━━━━\u001b[0m\u001b[37m\u001b[0m \u001b[1m0s\u001b[0m 86ms/step - loss: 0.3891 - mape: 8.6141 - r2_score: 0.4189 - val_loss: 1.0814 - val_mape: 23.0390 - val_r2_score: -2.8047 - learning_rate: 0.0010\n",
      "Epoch 496/1000\n",
      "\u001b[1m4/4\u001b[0m \u001b[32m━━━━━━━━━━━━━━━━━━━━\u001b[0m\u001b[37m\u001b[0m \u001b[1m0s\u001b[0m 94ms/step - loss: 0.3850 - mape: 8.6807 - r2_score: 0.4446 - val_loss: 0.9724 - val_mape: 20.8606 - val_r2_score: -1.9402 - learning_rate: 0.0010\n",
      "Epoch 497/1000\n",
      "\u001b[1m4/4\u001b[0m \u001b[32m━━━━━━━━━━━━━━━━━━━━\u001b[0m\u001b[37m\u001b[0m \u001b[1m0s\u001b[0m 95ms/step - loss: 0.3746 - mape: 8.1680 - r2_score: 0.2974 - val_loss: 0.7697 - val_mape: 16.7387 - val_r2_score: -0.7630 - learning_rate: 0.0010\n",
      "Epoch 498/1000\n",
      "\u001b[1m4/4\u001b[0m \u001b[32m━━━━━━━━━━━━━━━━━━━━\u001b[0m\u001b[37m\u001b[0m \u001b[1m0s\u001b[0m 89ms/step - loss: 0.3579 - mape: 7.7305 - r2_score: 0.4043 - val_loss: 0.7974 - val_mape: 17.2810 - val_r2_score: -0.8837 - learning_rate: 0.0010\n",
      "Epoch 499/1000\n",
      "\u001b[1m4/4\u001b[0m \u001b[32m━━━━━━━━━━━━━━━━━━━━\u001b[0m\u001b[37m\u001b[0m \u001b[1m0s\u001b[0m 93ms/step - loss: 0.3554 - mape: 7.7589 - r2_score: 0.4343 - val_loss: 0.9353 - val_mape: 20.0203 - val_r2_score: -1.7085 - learning_rate: 0.0010\n",
      "Epoch 500/1000\n",
      "\u001b[1m4/4\u001b[0m \u001b[32m━━━━━━━━━━━━━━━━━━━━\u001b[0m\u001b[37m\u001b[0m \u001b[1m0s\u001b[0m 97ms/step - loss: 0.3051 - mape: 6.7116 - r2_score: 0.5672 - val_loss: 0.8979 - val_mape: 19.2622 - val_r2_score: -1.4831 - learning_rate: 0.0010\n",
      "Epoch 501/1000\n",
      "\u001b[1m4/4\u001b[0m \u001b[32m━━━━━━━━━━━━━━━━━━━━\u001b[0m\u001b[37m\u001b[0m \u001b[1m0s\u001b[0m 89ms/step - loss: 0.3520 - mape: 7.6983 - r2_score: 0.4474 - val_loss: 0.7022 - val_mape: 15.3047 - val_r2_score: -0.5500 - learning_rate: 0.0010\n",
      "Epoch 502/1000\n",
      "\u001b[1m4/4\u001b[0m \u001b[32m━━━━━━━━━━━━━━━━━━━━\u001b[0m\u001b[37m\u001b[0m \u001b[1m0s\u001b[0m 89ms/step - loss: 0.3416 - mape: 7.5111 - r2_score: 0.5062 - val_loss: 0.6290 - val_mape: 13.8817 - val_r2_score: -0.3176 - learning_rate: 0.0010\n",
      "Epoch 503/1000\n",
      "\u001b[1m4/4\u001b[0m \u001b[32m━━━━━━━━━━━━━━━━━━━━\u001b[0m\u001b[37m\u001b[0m \u001b[1m0s\u001b[0m 89ms/step - loss: 0.3883 - mape: 8.6499 - r2_score: 0.3764 - val_loss: 0.6518 - val_mape: 14.4075 - val_r2_score: -0.3582 - learning_rate: 0.0010\n",
      "Epoch 504/1000\n",
      "\u001b[1m4/4\u001b[0m \u001b[32m━━━━━━━━━━━━━━━━━━━━\u001b[0m\u001b[37m\u001b[0m \u001b[1m0s\u001b[0m 92ms/step - loss: 0.4031 - mape: 9.0003 - r2_score: 0.2763 - val_loss: 0.7861 - val_mape: 17.1167 - val_r2_score: -0.8250 - learning_rate: 0.0010\n",
      "Epoch 505/1000\n",
      "\u001b[1m4/4\u001b[0m \u001b[32m━━━━━━━━━━━━━━━━━━━━\u001b[0m\u001b[37m\u001b[0m \u001b[1m0s\u001b[0m 95ms/step - loss: 0.3568 - mape: 7.8600 - r2_score: 0.4778 - val_loss: 0.8644 - val_mape: 18.6609 - val_r2_score: -1.2493 - learning_rate: 0.0010\n",
      "Epoch 506/1000\n",
      "\u001b[1m4/4\u001b[0m \u001b[32m━━━━━━━━━━━━━━━━━━━━\u001b[0m\u001b[37m\u001b[0m \u001b[1m0s\u001b[0m 87ms/step - loss: 0.3268 - mape: 7.2128 - r2_score: 0.5728 - val_loss: 0.9306 - val_mape: 20.0047 - val_r2_score: -1.6900 - learning_rate: 0.0010\n",
      "Epoch 507/1000\n",
      "\u001b[1m4/4\u001b[0m \u001b[32m━━━━━━━━━━━━━━━━━━━━\u001b[0m\u001b[37m\u001b[0m \u001b[1m0s\u001b[0m 92ms/step - loss: 0.4064 - mape: 9.3512 - r2_score: 0.2647 - val_loss: 0.9742 - val_mape: 20.9308 - val_r2_score: -1.9882 - learning_rate: 0.0010\n",
      "Epoch 508/1000\n",
      "\u001b[1m4/4\u001b[0m \u001b[32m━━━━━━━━━━━━━━━━━━━━\u001b[0m\u001b[37m\u001b[0m \u001b[1m0s\u001b[0m 87ms/step - loss: 0.3342 - mape: 7.3517 - r2_score: 0.4610 - val_loss: 0.8732 - val_mape: 18.8560 - val_r2_score: -1.3463 - learning_rate: 0.0010\n",
      "Epoch 509/1000\n",
      "\u001b[1m4/4\u001b[0m \u001b[32m━━━━━━━━━━━━━━━━━━━━\u001b[0m\u001b[37m\u001b[0m \u001b[1m0s\u001b[0m 86ms/step - loss: 0.3380 - mape: 7.5702 - r2_score: 0.5151 - val_loss: 0.7974 - val_mape: 17.2877 - val_r2_score: -0.9086 - learning_rate: 0.0010\n",
      "Epoch 510/1000\n",
      "\u001b[1m4/4\u001b[0m \u001b[32m━━━━━━━━━━━━━━━━━━━━\u001b[0m\u001b[37m\u001b[0m \u001b[1m0s\u001b[0m 90ms/step - loss: 0.3790 - mape: 8.2369 - r2_score: 0.5331 - val_loss: 0.8552 - val_mape: 18.5050 - val_r2_score: -1.1543 - learning_rate: 0.0010\n",
      "Epoch 511/1000\n",
      "\u001b[1m4/4\u001b[0m \u001b[32m━━━━━━━━━━━━━━━━━━━━\u001b[0m\u001b[37m\u001b[0m \u001b[1m1s\u001b[0m 97ms/step - loss: 0.2801 - mape: 6.1435 - r2_score: 0.5088 - val_loss: 0.9498 - val_mape: 20.5736 - val_r2_score: -1.6387 - learning_rate: 0.0010\n",
      "Epoch 512/1000\n",
      "\u001b[1m4/4\u001b[0m \u001b[32m━━━━━━━━━━━━━━━━━━━━\u001b[0m\u001b[37m\u001b[0m \u001b[1m0s\u001b[0m 90ms/step - loss: 0.4022 - mape: 8.7598 - r2_score: 0.3869 - val_loss: 1.0328 - val_mape: 22.2889 - val_r2_score: -2.1896 - learning_rate: 0.0010\n",
      "Epoch 513/1000\n",
      "\u001b[1m4/4\u001b[0m \u001b[32m━━━━━━━━━━━━━━━━━━━━\u001b[0m\u001b[37m\u001b[0m \u001b[1m0s\u001b[0m 87ms/step - loss: 0.3528 - mape: 7.6816 - r2_score: 0.4431 - val_loss: 1.0155 - val_mape: 21.8796 - val_r2_score: -2.1001 - learning_rate: 0.0010\n",
      "Epoch 514/1000\n",
      "\u001b[1m4/4\u001b[0m \u001b[32m━━━━━━━━━━━━━━━━━━━━\u001b[0m\u001b[37m\u001b[0m \u001b[1m0s\u001b[0m 89ms/step - loss: 0.4069 - mape: 9.0992 - r2_score: 0.3840 - val_loss: 0.8904 - val_mape: 19.2165 - val_r2_score: -1.3860 - learning_rate: 0.0010\n",
      "Epoch 515/1000\n",
      "\u001b[1m4/4\u001b[0m \u001b[32m━━━━━━━━━━━━━━━━━━━━\u001b[0m\u001b[37m\u001b[0m \u001b[1m0s\u001b[0m 88ms/step - loss: 0.3449 - mape: 7.8101 - r2_score: 0.5053 - val_loss: 0.7455 - val_mape: 16.2000 - val_r2_score: -0.6966 - learning_rate: 0.0010\n",
      "Epoch 516/1000\n",
      "\u001b[1m4/4\u001b[0m \u001b[32m━━━━━━━━━━━━━━━━━━━━\u001b[0m\u001b[37m\u001b[0m \u001b[1m0s\u001b[0m 87ms/step - loss: 0.3501 - mape: 7.7644 - r2_score: 0.5038 - val_loss: 0.5625 - val_mape: 12.4078 - val_r2_score: -0.1601 - learning_rate: 0.0010\n",
      "Epoch 517/1000\n",
      "\u001b[1m4/4\u001b[0m \u001b[32m━━━━━━━━━━━━━━━━━━━━\u001b[0m\u001b[37m\u001b[0m \u001b[1m0s\u001b[0m 89ms/step - loss: 0.3428 - mape: 7.3263 - r2_score: 0.5923 - val_loss: 0.5257 - val_mape: 11.6513 - val_r2_score: -0.1320 - learning_rate: 0.0010\n",
      "Epoch 518/1000\n",
      "\u001b[1m4/4\u001b[0m \u001b[32m━━━━━━━━━━━━━━━━━━━━\u001b[0m\u001b[37m\u001b[0m \u001b[1m0s\u001b[0m 89ms/step - loss: 0.3834 - mape: 8.4925 - r2_score: 0.4484 - val_loss: 0.5574 - val_mape: 12.3808 - val_r2_score: -0.2198 - learning_rate: 0.0010\n",
      "Epoch 519/1000\n",
      "\u001b[1m4/4\u001b[0m \u001b[32m━━━━━━━━━━━━━━━━━━━━\u001b[0m\u001b[37m\u001b[0m \u001b[1m0s\u001b[0m 91ms/step - loss: 0.3580 - mape: 7.8245 - r2_score: 0.5226 - val_loss: 0.7906 - val_mape: 17.3427 - val_r2_score: -0.9347 - learning_rate: 0.0010\n",
      "Epoch 520/1000\n",
      "\u001b[1m4/4\u001b[0m \u001b[32m━━━━━━━━━━━━━━━━━━━━\u001b[0m\u001b[37m\u001b[0m \u001b[1m0s\u001b[0m 91ms/step - loss: 0.3568 - mape: 7.6920 - r2_score: 0.5197 - val_loss: 0.8853 - val_mape: 19.4251 - val_r2_score: -1.3433 - learning_rate: 0.0010\n",
      "Epoch 521/1000\n",
      "\u001b[1m4/4\u001b[0m \u001b[32m━━━━━━━━━━━━━━━━━━━━\u001b[0m\u001b[37m\u001b[0m \u001b[1m0s\u001b[0m 95ms/step - loss: 0.3819 - mape: 8.4668 - r2_score: 0.3497 - val_loss: 0.7370 - val_mape: 16.3972 - val_r2_score: -0.7503 - learning_rate: 0.0010\n",
      "Epoch 522/1000\n",
      "\u001b[1m4/4\u001b[0m \u001b[32m━━━━━━━━━━━━━━━━━━━━\u001b[0m\u001b[37m\u001b[0m \u001b[1m0s\u001b[0m 95ms/step - loss: 0.3905 - mape: 8.3780 - r2_score: 0.3855 - val_loss: 0.5994 - val_mape: 13.4814 - val_r2_score: -0.3778 - learning_rate: 0.0010\n",
      "Epoch 523/1000\n",
      "\u001b[1m4/4\u001b[0m \u001b[32m━━━━━━━━━━━━━━━━━━━━\u001b[0m\u001b[37m\u001b[0m \u001b[1m0s\u001b[0m 99ms/step - loss: 0.4162 - mape: 9.2902 - r2_score: 0.3464 - val_loss: 0.5925 - val_mape: 13.1581 - val_r2_score: -0.3599 - learning_rate: 0.0010\n",
      "Epoch 524/1000\n",
      "\u001b[1m4/4\u001b[0m \u001b[32m━━━━━━━━━━━━━━━━━━━━\u001b[0m\u001b[37m\u001b[0m \u001b[1m0s\u001b[0m 90ms/step - loss: 0.3658 - mape: 8.2320 - r2_score: 0.3599 - val_loss: 0.5723 - val_mape: 12.5783 - val_r2_score: -0.2994 - learning_rate: 0.0010\n",
      "Epoch 525/1000\n",
      "\u001b[1m4/4\u001b[0m \u001b[32m━━━━━━━━━━━━━━━━━━━━\u001b[0m\u001b[37m\u001b[0m \u001b[1m0s\u001b[0m 89ms/step - loss: 0.3242 - mape: 7.1471 - r2_score: 0.5363 - val_loss: 0.7230 - val_mape: 15.6605 - val_r2_score: -0.7492 - learning_rate: 0.0010\n",
      "Epoch 526/1000\n",
      "\u001b[1m4/4\u001b[0m \u001b[32m━━━━━━━━━━━━━━━━━━━━\u001b[0m\u001b[37m\u001b[0m \u001b[1m0s\u001b[0m 94ms/step - loss: 0.3182 - mape: 7.0998 - r2_score: 0.5344 - val_loss: 0.8841 - val_mape: 18.9723 - val_r2_score: -1.4775 - learning_rate: 0.0010\n",
      "Epoch 527/1000\n",
      "\u001b[1m4/4\u001b[0m \u001b[32m━━━━━━━━━━━━━━━━━━━━\u001b[0m\u001b[37m\u001b[0m \u001b[1m0s\u001b[0m 92ms/step - loss: 0.2996 - mape: 6.5559 - r2_score: 0.6055 - val_loss: 0.8842 - val_mape: 18.9889 - val_r2_score: -1.4133 - learning_rate: 0.0010\n",
      "Epoch 528/1000\n",
      "\u001b[1m4/4\u001b[0m \u001b[32m━━━━━━━━━━━━━━━━━━━━\u001b[0m\u001b[37m\u001b[0m \u001b[1m0s\u001b[0m 93ms/step - loss: 0.3699 - mape: 8.1219 - r2_score: 0.4845 - val_loss: 0.7936 - val_mape: 17.1900 - val_r2_score: -0.8996 - learning_rate: 0.0010\n",
      "Epoch 529/1000\n",
      "\u001b[1m4/4\u001b[0m \u001b[32m━━━━━━━━━━━━━━━━━━━━\u001b[0m\u001b[37m\u001b[0m \u001b[1m0s\u001b[0m 96ms/step - loss: 0.3296 - mape: 7.1742 - r2_score: 0.5740 - val_loss: 0.7636 - val_mape: 16.6077 - val_r2_score: -0.7837 - learning_rate: 0.0010\n",
      "Epoch 530/1000\n",
      "\u001b[1m4/4\u001b[0m \u001b[32m━━━━━━━━━━━━━━━━━━━━\u001b[0m\u001b[37m\u001b[0m \u001b[1m0s\u001b[0m 94ms/step - loss: 0.3091 - mape: 6.8208 - r2_score: 0.6194 - val_loss: 0.7842 - val_mape: 17.0386 - val_r2_score: -0.9054 - learning_rate: 0.0010\n",
      "Epoch 531/1000\n",
      "\u001b[1m4/4\u001b[0m \u001b[32m━━━━━━━━━━━━━━━━━━━━\u001b[0m\u001b[37m\u001b[0m \u001b[1m0s\u001b[0m 93ms/step - loss: 0.4037 - mape: 8.9604 - r2_score: 0.3276 - val_loss: 0.7683 - val_mape: 16.7243 - val_r2_score: -0.8442 - learning_rate: 0.0010\n",
      "Epoch 532/1000\n",
      "\u001b[1m4/4\u001b[0m \u001b[32m━━━━━━━━━━━━━━━━━━━━\u001b[0m\u001b[37m\u001b[0m \u001b[1m0s\u001b[0m 92ms/step - loss: 0.2975 - mape: 6.5792 - r2_score: 0.5793 - val_loss: 0.6159 - val_mape: 13.6439 - val_r2_score: -0.3159 - learning_rate: 0.0010\n",
      "Epoch 533/1000\n",
      "\u001b[1m4/4\u001b[0m \u001b[32m━━━━━━━━━━━━━━━━━━━━\u001b[0m\u001b[37m\u001b[0m \u001b[1m0s\u001b[0m 94ms/step - loss: 0.3641 - mape: 8.0615 - r2_score: 0.4545 - val_loss: 0.5344 - val_mape: 11.9486 - val_r2_score: -0.1077 - learning_rate: 0.0010\n",
      "Epoch 534/1000\n",
      "\u001b[1m4/4\u001b[0m \u001b[32m━━━━━━━━━━━━━━━━━━━━\u001b[0m\u001b[37m\u001b[0m \u001b[1m0s\u001b[0m 91ms/step - loss: 0.3614 - mape: 7.7497 - r2_score: 0.5726 - val_loss: 0.5406 - val_mape: 12.1230 - val_r2_score: -0.1895 - learning_rate: 0.0010\n",
      "Epoch 535/1000\n",
      "\u001b[1m4/4\u001b[0m \u001b[32m━━━━━━━━━━━━━━━━━━━━\u001b[0m\u001b[37m\u001b[0m \u001b[1m0s\u001b[0m 90ms/step - loss: 0.3446 - mape: 7.6000 - r2_score: 0.5117 - val_loss: 0.6080 - val_mape: 13.4130 - val_r2_score: -0.3291 - learning_rate: 0.0010\n",
      "Epoch 536/1000\n",
      "\u001b[1m4/4\u001b[0m \u001b[32m━━━━━━━━━━━━━━━━━━━━\u001b[0m\u001b[37m\u001b[0m \u001b[1m0s\u001b[0m 98ms/step - loss: 0.3040 - mape: 6.8947 - r2_score: 0.5851 - val_loss: 0.6839 - val_mape: 14.8227 - val_r2_score: -0.5561 - learning_rate: 0.0010\n",
      "Epoch 537/1000\n",
      "\u001b[1m4/4\u001b[0m \u001b[32m━━━━━━━━━━━━━━━━━━━━\u001b[0m\u001b[37m\u001b[0m \u001b[1m0s\u001b[0m 91ms/step - loss: 0.3415 - mape: 7.4036 - r2_score: 0.5201 - val_loss: 0.7235 - val_mape: 15.5652 - val_r2_score: -0.6951 - learning_rate: 0.0010\n",
      "Epoch 538/1000\n",
      "\u001b[1m4/4\u001b[0m \u001b[32m━━━━━━━━━━━━━━━━━━━━\u001b[0m\u001b[37m\u001b[0m \u001b[1m0s\u001b[0m 99ms/step - loss: 0.2751 - mape: 5.8513 - r2_score: 0.6505 - val_loss: 0.8012 - val_mape: 17.1468 - val_r2_score: -1.0546 - learning_rate: 0.0010\n",
      "Epoch 539/1000\n",
      "\u001b[1m4/4\u001b[0m \u001b[32m━━━━━━━━━━━━━━━━━━━━\u001b[0m\u001b[37m\u001b[0m \u001b[1m0s\u001b[0m 91ms/step - loss: 0.3201 - mape: 7.0431 - r2_score: 0.5965 - val_loss: 0.7972 - val_mape: 17.0906 - val_r2_score: -1.0662 - learning_rate: 0.0010\n",
      "Epoch 540/1000\n",
      "\u001b[1m4/4\u001b[0m \u001b[32m━━━━━━━━━━━━━━━━━━━━\u001b[0m\u001b[37m\u001b[0m \u001b[1m0s\u001b[0m 104ms/step - loss: 0.4014 - mape: 8.5698 - r2_score: 0.2787 - val_loss: 0.7842 - val_mape: 16.9833 - val_r2_score: -0.9139 - learning_rate: 0.0010\n",
      "Epoch 541/1000\n",
      "\u001b[1m4/4\u001b[0m \u001b[32m━━━━━━━━━━━━━━━━━━━━\u001b[0m\u001b[37m\u001b[0m \u001b[1m0s\u001b[0m 93ms/step - loss: 0.3047 - mape: 6.5051 - r2_score: 0.6514 - val_loss: 0.7428 - val_mape: 16.2630 - val_r2_score: -0.6703 - learning_rate: 0.0010\n",
      "Epoch 542/1000\n",
      "\u001b[1m4/4\u001b[0m \u001b[32m━━━━━━━━━━━━━━━━━━━━\u001b[0m\u001b[37m\u001b[0m \u001b[1m0s\u001b[0m 95ms/step - loss: 0.3474 - mape: 7.7076 - r2_score: 0.4056 - val_loss: 0.6767 - val_mape: 15.0166 - val_r2_score: -0.3997 - learning_rate: 0.0010\n",
      "Epoch 543/1000\n",
      "\u001b[1m4/4\u001b[0m \u001b[32m━━━━━━━━━━━━━━━━━━━━\u001b[0m\u001b[37m\u001b[0m \u001b[1m1s\u001b[0m 92ms/step - loss: 0.3470 - mape: 7.5161 - r2_score: 0.5153 - val_loss: 0.7272 - val_mape: 16.1023 - val_r2_score: -0.5514 - learning_rate: 0.0010\n",
      "Epoch 544/1000\n",
      "\u001b[1m4/4\u001b[0m \u001b[32m━━━━━━━━━━━━━━━━━━━━\u001b[0m\u001b[37m\u001b[0m \u001b[1m0s\u001b[0m 92ms/step - loss: 0.3775 - mape: 8.4059 - r2_score: 0.4023 - val_loss: 0.8064 - val_mape: 17.6857 - val_r2_score: -0.8677 - learning_rate: 0.0010\n",
      "Epoch 545/1000\n",
      "\u001b[1m4/4\u001b[0m \u001b[32m━━━━━━━━━━━━━━━━━━━━\u001b[0m\u001b[37m\u001b[0m \u001b[1m0s\u001b[0m 98ms/step - loss: 0.4543 - mape: 10.0615 - r2_score: 0.3131 - val_loss: 0.8243 - val_mape: 17.9523 - val_r2_score: -0.9993 - learning_rate: 0.0010\n",
      "Epoch 546/1000\n",
      "\u001b[1m4/4\u001b[0m \u001b[32m━━━━━━━━━━━━━━━━━━━━\u001b[0m\u001b[37m\u001b[0m \u001b[1m0s\u001b[0m 94ms/step - loss: 0.2955 - mape: 6.5611 - r2_score: 0.5819 - val_loss: 0.7428 - val_mape: 16.1804 - val_r2_score: -0.7008 - learning_rate: 0.0010\n",
      "Epoch 547/1000\n",
      "\u001b[1m4/4\u001b[0m \u001b[32m━━━━━━━━━━━━━━━━━━━━\u001b[0m\u001b[37m\u001b[0m \u001b[1m0s\u001b[0m 88ms/step - loss: 0.3335 - mape: 7.5035 - r2_score: 0.5681 - val_loss: 0.6694 - val_mape: 14.6864 - val_r2_score: -0.4360 - learning_rate: 0.0010\n",
      "Epoch 548/1000\n",
      "\u001b[1m4/4\u001b[0m \u001b[32m━━━━━━━━━━━━━━━━━━━━\u001b[0m\u001b[37m\u001b[0m \u001b[1m0s\u001b[0m 92ms/step - loss: 0.4447 - mape: 9.9576 - r2_score: 0.2086 - val_loss: 0.7631 - val_mape: 16.7316 - val_r2_score: -0.7502 - learning_rate: 0.0010\n",
      "Epoch 549/1000\n",
      "\u001b[1m4/4\u001b[0m \u001b[32m━━━━━━━━━━━━━━━━━━━━\u001b[0m\u001b[37m\u001b[0m \u001b[1m0s\u001b[0m 89ms/step - loss: 0.3552 - mape: 7.8975 - r2_score: 0.5044 - val_loss: 0.7784 - val_mape: 17.1366 - val_r2_score: -0.7940 - learning_rate: 0.0010\n",
      "Epoch 550/1000\n",
      "\u001b[1m4/4\u001b[0m \u001b[32m━━━━━━━━━━━━━━━━━━━━\u001b[0m\u001b[37m\u001b[0m \u001b[1m0s\u001b[0m 95ms/step - loss: 0.3757 - mape: 8.4013 - r2_score: 0.4478 - val_loss: 0.6391 - val_mape: 14.2609 - val_r2_score: -0.3071 - learning_rate: 0.0010\n",
      "Epoch 551/1000\n",
      "\u001b[1m4/4\u001b[0m \u001b[32m━━━━━━━━━━━━━━━━━━━━\u001b[0m\u001b[37m\u001b[0m \u001b[1m0s\u001b[0m 91ms/step - loss: 0.3341 - mape: 7.2680 - r2_score: 0.5858 - val_loss: 0.5381 - val_mape: 12.0376 - val_r2_score: -0.0729 - learning_rate: 0.0010\n",
      "Epoch 552/1000\n",
      "\u001b[1m4/4\u001b[0m \u001b[32m━━━━━━━━━━━━━━━━━━━━\u001b[0m\u001b[37m\u001b[0m \u001b[1m0s\u001b[0m 91ms/step - loss: 0.3496 - mape: 7.6911 - r2_score: 0.4739 - val_loss: 0.5630 - val_mape: 12.4385 - val_r2_score: -0.1453 - learning_rate: 0.0010\n",
      "Epoch 553/1000\n",
      "\u001b[1m4/4\u001b[0m \u001b[32m━━━━━━━━━━━━━━━━━━━━\u001b[0m\u001b[37m\u001b[0m \u001b[1m0s\u001b[0m 89ms/step - loss: 0.4113 - mape: 9.1824 - r2_score: 0.1385 - val_loss: 0.6492 - val_mape: 14.2022 - val_r2_score: -0.4113 - learning_rate: 0.0010\n",
      "Epoch 554/1000\n",
      "\u001b[1m4/4\u001b[0m \u001b[32m━━━━━━━━━━━━━━━━━━━━\u001b[0m\u001b[37m\u001b[0m \u001b[1m0s\u001b[0m 91ms/step - loss: 0.3062 - mape: 6.6542 - r2_score: 0.6401 - val_loss: 0.7901 - val_mape: 17.0929 - val_r2_score: -0.9982 - learning_rate: 0.0010\n",
      "Epoch 555/1000\n",
      "\u001b[1m4/4\u001b[0m \u001b[32m━━━━━━━━━━━━━━━━━━━━\u001b[0m\u001b[37m\u001b[0m \u001b[1m0s\u001b[0m 93ms/step - loss: 0.3780 - mape: 8.2661 - r2_score: 0.4649 - val_loss: 0.8717 - val_mape: 18.8107 - val_r2_score: -1.4334 - learning_rate: 0.0010\n",
      "Epoch 556/1000\n",
      "\u001b[1m4/4\u001b[0m \u001b[32m━━━━━━━━━━━━━━━━━━━━\u001b[0m\u001b[37m\u001b[0m \u001b[1m0s\u001b[0m 96ms/step - loss: 0.3608 - mape: 8.1053 - r2_score: 0.2737 - val_loss: 0.7240 - val_mape: 15.8939 - val_r2_score: -0.6639 - learning_rate: 0.0010\n",
      "Epoch 557/1000\n",
      "\u001b[1m4/4\u001b[0m \u001b[32m━━━━━━━━━━━━━━━━━━━━\u001b[0m\u001b[37m\u001b[0m \u001b[1m0s\u001b[0m 105ms/step - loss: 0.3919 - mape: 8.7965 - r2_score: 0.3731 - val_loss: 0.5117 - val_mape: 11.6240 - val_r2_score: -0.0591 - learning_rate: 0.0010\n",
      "Epoch 558/1000\n",
      "\u001b[1m4/4\u001b[0m \u001b[32m━━━━━━━━━━━━━━━━━━━━\u001b[0m\u001b[37m\u001b[0m \u001b[1m0s\u001b[0m 91ms/step - loss: 0.3722 - mape: 8.3968 - r2_score: 0.4320 - val_loss: 0.4851 - val_mape: 11.0583 - val_r2_score: -0.0347 - learning_rate: 0.0010\n",
      "Epoch 559/1000\n",
      "\u001b[1m4/4\u001b[0m \u001b[32m━━━━━━━━━━━━━━━━━━━━\u001b[0m\u001b[37m\u001b[0m \u001b[1m0s\u001b[0m 90ms/step - loss: 0.3731 - mape: 8.3125 - r2_score: 0.4731 - val_loss: 0.4912 - val_mape: 11.1926 - val_r2_score: -0.0626 - learning_rate: 0.0010\n",
      "Epoch 560/1000\n",
      "\u001b[1m4/4\u001b[0m \u001b[32m━━━━━━━━━━━━━━━━━━━━\u001b[0m\u001b[37m\u001b[0m \u001b[1m0s\u001b[0m 92ms/step - loss: 0.3908 - mape: 8.6783 - r2_score: 0.3676 - val_loss: 0.6108 - val_mape: 13.6294 - val_r2_score: -0.3179 - learning_rate: 0.0010\n",
      "Epoch 561/1000\n",
      "\u001b[1m4/4\u001b[0m \u001b[32m━━━━━━━━━━━━━━━━━━━━\u001b[0m\u001b[37m\u001b[0m \u001b[1m0s\u001b[0m 88ms/step - loss: 0.4116 - mape: 9.1443 - r2_score: 0.3120 - val_loss: 0.7177 - val_mape: 15.7982 - val_r2_score: -0.6668 - learning_rate: 0.0010\n",
      "Epoch 562/1000\n",
      "\u001b[1m4/4\u001b[0m \u001b[32m━━━━━━━━━━━━━━━━━━━━\u001b[0m\u001b[37m\u001b[0m \u001b[1m0s\u001b[0m 86ms/step - loss: 0.3725 - mape: 8.1934 - r2_score: 0.4201 - val_loss: 0.7035 - val_mape: 15.4678 - val_r2_score: -0.6146 - learning_rate: 0.0010\n",
      "Epoch 563/1000\n",
      "\u001b[1m4/4\u001b[0m \u001b[32m━━━━━━━━━━━━━━━━━━━━\u001b[0m\u001b[37m\u001b[0m \u001b[1m0s\u001b[0m 96ms/step - loss: 0.3571 - mape: 8.0213 - r2_score: 0.4800 - val_loss: 0.6360 - val_mape: 14.0220 - val_r2_score: -0.4272 - learning_rate: 0.0010\n",
      "Epoch 564/1000\n",
      "\u001b[1m4/4\u001b[0m \u001b[32m━━━━━━━━━━━━━━━━━━━━\u001b[0m\u001b[37m\u001b[0m \u001b[1m1s\u001b[0m 106ms/step - loss: 0.3151 - mape: 7.0876 - r2_score: 0.5713 - val_loss: 0.6726 - val_mape: 14.6489 - val_r2_score: -0.6072 - learning_rate: 0.0010\n",
      "Epoch 565/1000\n",
      "\u001b[1m4/4\u001b[0m \u001b[32m━━━━━━━━━━━━━━━━━━━━\u001b[0m\u001b[37m\u001b[0m \u001b[1m0s\u001b[0m 93ms/step - loss: 0.3811 - mape: 8.3108 - r2_score: 0.4009 - val_loss: 0.7573 - val_mape: 16.3462 - val_r2_score: -0.9436 - learning_rate: 0.0010\n",
      "Epoch 566/1000\n",
      "\u001b[1m4/4\u001b[0m \u001b[32m━━━━━━━━━━━━━━━━━━━━\u001b[0m\u001b[37m\u001b[0m \u001b[1m0s\u001b[0m 98ms/step - loss: 0.3551 - mape: 7.9083 - r2_score: 0.5040 - val_loss: 0.7810 - val_mape: 16.8665 - val_r2_score: -0.9751 - learning_rate: 0.0010\n",
      "Epoch 567/1000\n",
      "\u001b[1m4/4\u001b[0m \u001b[32m━━━━━━━━━━━━━━━━━━━━\u001b[0m\u001b[37m\u001b[0m \u001b[1m0s\u001b[0m 96ms/step - loss: 0.3498 - mape: 7.6735 - r2_score: 0.4446 - val_loss: 0.7318 - val_mape: 15.9003 - val_r2_score: -0.7366 - learning_rate: 0.0010\n",
      "Epoch 568/1000\n",
      "\u001b[1m4/4\u001b[0m \u001b[32m━━━━━━━━━━━━━━━━━━━━\u001b[0m\u001b[37m\u001b[0m \u001b[1m0s\u001b[0m 102ms/step - loss: 0.3576 - mape: 7.8498 - r2_score: 0.4907 - val_loss: 0.6676 - val_mape: 14.6616 - val_r2_score: -0.4554 - learning_rate: 0.0010\n",
      "Epoch 569/1000\n",
      "\u001b[1m4/4\u001b[0m \u001b[32m━━━━━━━━━━━━━━━━━━━━\u001b[0m\u001b[37m\u001b[0m \u001b[1m0s\u001b[0m 90ms/step - loss: 0.4080 - mape: 9.1326 - r2_score: 0.3378 - val_loss: 0.6700 - val_mape: 14.7479 - val_r2_score: -0.4268 - learning_rate: 0.0010\n",
      "Epoch 570/1000\n",
      "\u001b[1m4/4\u001b[0m \u001b[32m━━━━━━━━━━━━━━━━━━━━\u001b[0m\u001b[37m\u001b[0m \u001b[1m0s\u001b[0m 93ms/step - loss: 0.3232 - mape: 7.1755 - r2_score: 0.5458 - val_loss: 0.7191 - val_mape: 15.7432 - val_r2_score: -0.5918 - learning_rate: 0.0010\n",
      "Epoch 571/1000\n",
      "\u001b[1m4/4\u001b[0m \u001b[32m━━━━━━━━━━━━━━━━━━━━\u001b[0m\u001b[37m\u001b[0m \u001b[1m0s\u001b[0m 91ms/step - loss: 0.3304 - mape: 7.2334 - r2_score: 0.5432 - val_loss: 0.8211 - val_mape: 17.7721 - val_r2_score: -1.0766 - learning_rate: 0.0010\n",
      "Epoch 572/1000\n",
      "\u001b[1m4/4\u001b[0m \u001b[32m━━━━━━━━━━━━━━━━━━━━\u001b[0m\u001b[37m\u001b[0m \u001b[1m0s\u001b[0m 93ms/step - loss: 0.3370 - mape: 7.2363 - r2_score: 0.5375 - val_loss: 0.9212 - val_mape: 19.7074 - val_r2_score: -1.7527 - learning_rate: 0.0010\n",
      "Epoch 573/1000\n",
      "\u001b[1m4/4\u001b[0m \u001b[32m━━━━━━━━━━━━━━━━━━━━\u001b[0m\u001b[37m\u001b[0m \u001b[1m0s\u001b[0m 95ms/step - loss: 0.3629 - mape: 8.1082 - r2_score: 0.4947 - val_loss: 0.9245 - val_mape: 19.6369 - val_r2_score: -1.8885 - learning_rate: 0.0010\n",
      "Epoch 574/1000\n",
      "\u001b[1m4/4\u001b[0m \u001b[32m━━━━━━━━━━━━━━━━━━━━\u001b[0m\u001b[37m\u001b[0m \u001b[1m0s\u001b[0m 94ms/step - loss: 0.3546 - mape: 7.6506 - r2_score: 0.4659 - val_loss: 0.9329 - val_mape: 19.8422 - val_r2_score: -1.8684 - learning_rate: 0.0010\n",
      "Epoch 575/1000\n",
      "\u001b[1m4/4\u001b[0m \u001b[32m━━━━━━━━━━━━━━━━━━━━\u001b[0m\u001b[37m\u001b[0m \u001b[1m0s\u001b[0m 92ms/step - loss: 0.4270 - mape: 9.4186 - r2_score: 0.1467 - val_loss: 0.8911 - val_mape: 19.1396 - val_r2_score: -1.4435 - learning_rate: 0.0010\n",
      "Epoch 576/1000\n",
      "\u001b[1m4/4\u001b[0m \u001b[32m━━━━━━━━━━━━━━━━━━━━\u001b[0m\u001b[37m\u001b[0m \u001b[1m0s\u001b[0m 94ms/step - loss: 0.3997 - mape: 8.8747 - r2_score: 0.3509 - val_loss: 0.7226 - val_mape: 15.7243 - val_r2_score: -0.6177 - learning_rate: 0.0010\n",
      "Epoch 577/1000\n",
      "\u001b[1m4/4\u001b[0m \u001b[32m━━━━━━━━━━━━━━━━━━━━\u001b[0m\u001b[37m\u001b[0m \u001b[1m0s\u001b[0m 93ms/step - loss: 0.3586 - mape: 7.6639 - r2_score: 0.4087 - val_loss: 0.7256 - val_mape: 15.7684 - val_r2_score: -0.6488 - learning_rate: 0.0010\n",
      "Epoch 578/1000\n",
      "\u001b[1m4/4\u001b[0m \u001b[32m━━━━━━━━━━━━━━━━━━━━\u001b[0m\u001b[37m\u001b[0m \u001b[1m0s\u001b[0m 91ms/step - loss: 0.3461 - mape: 7.4868 - r2_score: 0.5180 - val_loss: 0.7657 - val_mape: 16.5897 - val_r2_score: -0.8276 - learning_rate: 0.0010\n",
      "Epoch 579/1000\n",
      "\u001b[1m4/4\u001b[0m \u001b[32m━━━━━━━━━━━━━━━━━━━━\u001b[0m\u001b[37m\u001b[0m \u001b[1m0s\u001b[0m 91ms/step - loss: 0.3813 - mape: 8.6890 - r2_score: 0.4022 - val_loss: 0.7429 - val_mape: 16.1386 - val_r2_score: -0.7199 - learning_rate: 0.0010\n",
      "Epoch 580/1000\n",
      "\u001b[1m4/4\u001b[0m \u001b[32m━━━━━━━━━━━━━━━━━━━━\u001b[0m\u001b[37m\u001b[0m \u001b[1m0s\u001b[0m 95ms/step - loss: 0.3217 - mape: 7.3040 - r2_score: 0.5317 - val_loss: 0.6323 - val_mape: 13.8482 - val_r2_score: -0.2951 - learning_rate: 0.0010\n",
      "Epoch 581/1000\n",
      "\u001b[1m4/4\u001b[0m \u001b[32m━━━━━━━━━━━━━━━━━━━━\u001b[0m\u001b[37m\u001b[0m \u001b[1m0s\u001b[0m 96ms/step - loss: 0.3785 - mape: 8.0709 - r2_score: 0.4402 - val_loss: 0.5770 - val_mape: 12.7213 - val_r2_score: -0.1342 - learning_rate: 0.0010\n",
      "Epoch 582/1000\n",
      "\u001b[1m4/4\u001b[0m \u001b[32m━━━━━━━━━━━━━━━━━━━━\u001b[0m\u001b[37m\u001b[0m \u001b[1m0s\u001b[0m 93ms/step - loss: 0.3690 - mape: 8.0960 - r2_score: 0.5045 - val_loss: 0.5251 - val_mape: 11.6557 - val_r2_score: -0.0444 - learning_rate: 0.0010\n",
      "Epoch 583/1000\n",
      "\u001b[1m4/4\u001b[0m \u001b[32m━━━━━━━━━━━━━━━━━━━━\u001b[0m\u001b[37m\u001b[0m \u001b[1m1s\u001b[0m 94ms/step - loss: 0.4082 - mape: 9.0405 - r2_score: 0.2714 - val_loss: 0.5546 - val_mape: 12.2390 - val_r2_score: -0.1441 - learning_rate: 0.0010\n",
      "Epoch 584/1000\n",
      "\u001b[1m4/4\u001b[0m \u001b[32m━━━━━━━━━━━━━━━━━━━━\u001b[0m\u001b[37m\u001b[0m \u001b[1m0s\u001b[0m 93ms/step - loss: 0.3165 - mape: 6.9108 - r2_score: 0.5839 - val_loss: 0.6793 - val_mape: 14.7629 - val_r2_score: -0.5682 - learning_rate: 0.0010\n",
      "Epoch 585/1000\n",
      "\u001b[1m4/4\u001b[0m \u001b[32m━━━━━━━━━━━━━━━━━━━━\u001b[0m\u001b[37m\u001b[0m \u001b[1m0s\u001b[0m 90ms/step - loss: 0.3389 - mape: 7.4375 - r2_score: 0.5526 - val_loss: 0.6521 - val_mape: 14.2650 - val_r2_score: -0.4642 - learning_rate: 0.0010\n",
      "Epoch 586/1000\n",
      "\u001b[1m4/4\u001b[0m \u001b[32m━━━━━━━━━━━━━━━━━━━━\u001b[0m\u001b[37m\u001b[0m \u001b[1m0s\u001b[0m 94ms/step - loss: 0.3363 - mape: 7.3147 - r2_score: 0.5631 - val_loss: 0.6433 - val_mape: 14.1407 - val_r2_score: -0.3950 - learning_rate: 0.0010\n",
      "Epoch 587/1000\n",
      "\u001b[1m4/4\u001b[0m \u001b[32m━━━━━━━━━━━━━━━━━━━━\u001b[0m\u001b[37m\u001b[0m \u001b[1m0s\u001b[0m 90ms/step - loss: 0.3686 - mape: 7.8870 - r2_score: 0.4692 - val_loss: 0.6456 - val_mape: 14.2534 - val_r2_score: -0.3707 - learning_rate: 0.0010\n",
      "Epoch 588/1000\n",
      "\u001b[1m4/4\u001b[0m \u001b[32m━━━━━━━━━━━━━━━━━━━━\u001b[0m\u001b[37m\u001b[0m \u001b[1m0s\u001b[0m 89ms/step - loss: 0.2914 - mape: 6.3221 - r2_score: 0.6717 - val_loss: 0.6555 - val_mape: 14.5468 - val_r2_score: -0.4034 - learning_rate: 0.0010\n",
      "Epoch 589/1000\n",
      "\u001b[1m4/4\u001b[0m \u001b[32m━━━━━━━━━━━━━━━━━━━━\u001b[0m\u001b[37m\u001b[0m \u001b[1m0s\u001b[0m 91ms/step - loss: 0.3366 - mape: 7.4591 - r2_score: 0.5825 - val_loss: 0.7131 - val_mape: 15.7230 - val_r2_score: -0.6178 - learning_rate: 0.0010\n",
      "Epoch 590/1000\n",
      "\u001b[1m4/4\u001b[0m \u001b[32m━━━━━━━━━━━━━━━━━━━━\u001b[0m\u001b[37m\u001b[0m \u001b[1m0s\u001b[0m 94ms/step - loss: 0.3272 - mape: 7.2358 - r2_score: 0.5676 - val_loss: 0.7601 - val_mape: 16.5520 - val_r2_score: -0.8556 - learning_rate: 0.0010\n",
      "Epoch 591/1000\n",
      "\u001b[1m4/4\u001b[0m \u001b[32m━━━━━━━━━━━━━━━━━━━━\u001b[0m\u001b[37m\u001b[0m \u001b[1m0s\u001b[0m 95ms/step - loss: 0.3471 - mape: 7.8962 - r2_score: 0.4990 - val_loss: 0.7213 - val_mape: 15.6725 - val_r2_score: -0.7395 - learning_rate: 0.0010\n",
      "Epoch 592/1000\n",
      "\u001b[1m4/4\u001b[0m \u001b[32m━━━━━━━━━━━━━━━━━━━━\u001b[0m\u001b[37m\u001b[0m \u001b[1m0s\u001b[0m 93ms/step - loss: 0.3491 - mape: 7.6087 - r2_score: 0.5084 - val_loss: 0.7910 - val_mape: 17.0973 - val_r2_score: -1.0404 - learning_rate: 0.0010\n",
      "Time for training:     3.0000s\n"
     ]
    }
   ],
   "source": [
    "model_trained = model_training(model_DNN,\n",
    "                               folder_path = final_path,\n",
    "                               batch_size = 12,\n",
    "                               num_epochs = 1000,\n",
    "                               x_train = x_train,\n",
    "                               y_train = y_train,\n",
    "                               x_val = x_val,\n",
    "                               y_val = y_val,\n",
    "                               callbacks = callbacks)"
   ]
  },
  {
   "cell_type": "markdown",
   "metadata": {
    "id": "LtfHyGNzF48o"
   },
   "source": [
    "## Save Model"
   ]
  },
  {
   "cell_type": "code",
   "execution_count": 37,
   "metadata": {
    "colab": {
     "base_uri": "https://localhost:8080/"
    },
    "executionInfo": {
     "elapsed": 660,
     "status": "ok",
     "timestamp": 1754806386690,
     "user": {
      "displayName": "Alan Gabriel Amaro Colin",
      "userId": "17298980579619170060"
     },
     "user_tz": 360
    },
    "id": "a_1vhfmHF5wK",
    "outputId": "80a69136-88cb-48be-9823-d104a5830e23"
   },
   "outputs": [
    {
     "name": "stderr",
     "output_type": "stream",
     "text": [
      "WARNING:absl:You are saving your model as an HDF5 file via `model.save()` or `keras.saving.save_model(model)`. This file format is considered legacy. We recommend using instead the native Keras format, e.g. `model.save('my_model.keras')` or `keras.saving.save_model(model, 'my_model.keras')`. \n"
     ]
    }
   ],
   "source": [
    "model_DNN.save( os.path.join(final_path, 'model.h5') )"
   ]
  },
  {
   "cell_type": "code",
   "execution_count": 38,
   "metadata": {
    "colab": {
     "base_uri": "https://localhost:8080/",
     "height": 927
    },
    "executionInfo": {
     "elapsed": 772,
     "status": "ok",
     "timestamp": 1754806387464,
     "user": {
      "displayName": "Alan Gabriel Amaro Colin",
      "userId": "17298980579619170060"
     },
     "user_tz": 360
    },
    "id": "1G9qoHIdF-GA",
    "outputId": "8a56fa33-93ed-411a-9dbe-889179c66222"
   },
   "outputs": [
    {
     "data": {
      "image/png": "[encoded data removed]",
      "text/plain": [
       "<Figure size 640x480 with 1 Axes>"
      ]
     },
     "metadata": {},
     "output_type": "display_data"
    },
    {
     "data": {
      "image/png": "[encoded data removed]",
      "text/plain": [
       "<Figure size 640x480 with 1 Axes>"
      ]
     },
     "metadata": {},
     "output_type": "display_data"
    }
   ],
   "source": [
    "do_graphics(\n",
    "    model_trained,\n",
    "    'DNN-MI-KFOLD-{}'.format(kint),\n",
    "    ('MAE', 'MAPE'),\n",
    "    final_path,\n",
    "    metric = 'mape'\n",
    ")"
   ]
  },
  {
   "cell_type": "markdown",
   "metadata": {
    "id": "_F1AbxhWGI6w"
   },
   "source": [
    "## Evaluate"
   ]
  },
  {
   "cell_type": "markdown",
   "metadata": {},
   "source": [
    "**R2 for this Fold**"
   ]
  },
  {
   "cell_type": "code",
   "execution_count": 39,
   "metadata": {
    "colab": {
     "base_uri": "https://localhost:8080/"
    },
    "executionInfo": {
     "elapsed": 138,
     "status": "ok",
     "timestamp": 1754806387612,
     "user": {
      "displayName": "Alan Gabriel Amaro Colin",
      "userId": "17298980579619170060"
     },
     "user_tz": 360
    },
    "id": "4J5wcFgrGG7a",
    "outputId": "16ea5e95-c59b-4d0b-c4d9-841d8a3b131a"
   },
   "outputs": [
    {
     "name": "stdout",
     "output_type": "stream",
     "text": [
      "\u001b[1m1/1\u001b[0m \u001b[32m━━━━━━━━━━━━━━━━━━━━\u001b[0m\u001b[37m\u001b[0m \u001b[1m0s\u001b[0m 73ms/step - loss: 0.4913 - mape: 11.0350 - r2_score: 0.0092\n",
      "-> Loss = 0.4913020730018616\n",
      "-> Test Accuracy = 11.034967422485352\n",
      "-> R2 Accuracy = 0.009237229824066162\n"
     ]
    }
   ],
   "source": [
    "loss, accuracy, _ = evaluate_model_regression(model_DNN, x_val, y_val)"
   ]
  },
  {
   "cell_type": "markdown",
   "metadata": {},
   "source": [
    "Let's save the predictions to calculate $Q^{2}$ later:"
   ]
  },
  {
   "cell_type": "code",
   "execution_count": 40,
   "metadata": {},
   "outputs": [
    {
     "name": "stdout",
     "output_type": "stream",
     "text": [
      "\u001b[1m1/1\u001b[0m \u001b[32m━━━━━━━━━━━━━━━━━━━━\u001b[0m\u001b[37m\u001b[0m \u001b[1m0s\u001b[0m 159ms/step\n"
     ]
    }
   ],
   "source": [
    "preds = model_DNN.predict(x_val)"
   ]
  },
  {
   "cell_type": "code",
   "execution_count": 41,
   "metadata": {},
   "outputs": [
    {
     "data": {
      "text/plain": [
       "(7, 1)"
      ]
     },
     "execution_count": 41,
     "metadata": {},
     "output_type": "execute_result"
    }
   ],
   "source": [
    "preds.shape"
   ]
  },
  {
   "cell_type": "code",
   "execution_count": 28,
   "metadata": {},
   "outputs": [
    {
     "data": {
      "text/plain": [
       "(7,)"
      ]
     },
     "execution_count": 28,
     "metadata": {},
     "output_type": "execute_result"
    }
   ],
   "source": [
    "y_val.shape"
   ]
  },
  {
   "cell_type": "code",
   "execution_count": 29,
   "metadata": {},
   "outputs": [],
   "source": [
    "np.save('./preds/x_{}'.format(kint), y_val)"
   ]
  },
  {
   "cell_type": "code",
   "execution_count": 43,
   "metadata": {},
   "outputs": [],
   "source": [
    "np.save('./preds/preds_{}'.format(kint), preds)"
   ]
  },
  {
   "cell_type": "markdown",
   "metadata": {
    "id": "9s7QfcrKGhLa"
   },
   "source": [
    "## KDE Comparison"
   ]
  },
  {
   "cell_type": "code",
   "execution_count": 44,
   "metadata": {
    "executionInfo": {
     "elapsed": 230,
     "status": "ok",
     "timestamp": 1754806387861,
     "user": {
      "displayName": "Alan Gabriel Amaro Colin",
      "userId": "17298980579619170060"
     },
     "user_tz": 360
    },
    "id": "HPZJY1PLGtGt"
   },
   "outputs": [],
   "source": [
    "import seaborn as sns"
   ]
  },
  {
   "cell_type": "code",
   "execution_count": 45,
   "metadata": {
    "colab": {
     "base_uri": "https://localhost:8080/",
     "height": 385
    },
    "executionInfo": {
     "elapsed": 844,
     "status": "ok",
     "timestamp": 1754806388692,
     "user": {
      "displayName": "Alan Gabriel Amaro Colin",
      "userId": "17298980579619170060"
     },
     "user_tz": 360
    },
    "id": "wgU2IH7IGiXL",
    "outputId": "e41150e6-6212-47db-a0a5-cf59ca47323c"
   },
   "outputs": [
    {
     "name": "stdout",
     "output_type": "stream",
     "text": [
      "\u001b[1m1/1\u001b[0m \u001b[32m━━━━━━━━━━━━━━━━━━━━\u001b[0m\u001b[37m\u001b[0m \u001b[1m0s\u001b[0m 65ms/step\n"
     ]
    },
    {
     "data": {
      "image/png": "[encoded data removed]",
      "text/plain": [
       "<Figure size 400x400 with 1 Axes>"
      ]
     },
     "metadata": {},
     "output_type": "display_data"
    }
   ],
   "source": [
    "plt.figure(figsize = (4,4))\n",
    "sns.kdeplot( model_DNN.predict(x_val), label = 'Predicted', fill= True)\n",
    "sns.kdeplot(y_val, label = 'True', fill = True)\n",
    "plt.grid()\n",
    "plt.legend()\n",
    "plt.show()"
   ]
  },
  {
   "cell_type": "markdown",
   "metadata": {},
   "source": [
    "## Comparative Plot"
   ]
  },
  {
   "cell_type": "code",
   "execution_count": 46,
   "metadata": {},
   "outputs": [
    {
     "name": "stdout",
     "output_type": "stream",
     "text": [
      "\u001b[1m1/1\u001b[0m \u001b[32m━━━━━━━━━━━━━━━━━━━━\u001b[0m\u001b[37m\u001b[0m \u001b[1m0s\u001b[0m 61ms/step\n"
     ]
    },
    {
     "data": {
      "image/png": "[encoded data removed]",
      "text/plain": [
       "<Figure size 400x400 with 1 Axes>"
      ]
     },
     "metadata": {},
     "output_type": "display_data"
    }
   ],
   "source": [
    "plt.figure(figsize = (4,4))\n",
    "plt.plot([x for x in range(3, 7)], [x for x in range(3, 7)])\n",
    "plt.scatter(y_val, model_DNN.predict(x_val))\n",
    "#sns.kdeplot(y_test, label = 'True', fill = True)\n",
    "plt.grid()\n",
    "plt.title('Test Set')\n",
    "plt.show()"
   ]
  },
  {
   "cell_type": "code",
   "execution_count": 47,
   "metadata": {},
   "outputs": [
    {
     "name": "stdout",
     "output_type": "stream",
     "text": [
      "\u001b[1m1/1\u001b[0m \u001b[32m━━━━━━━━━━━━━━━━━━━━\u001b[0m\u001b[37m\u001b[0m \u001b[1m0s\u001b[0m 85ms/step - loss: 0.4913 - mape: 11.0350 - r2_score: 0.0092\n",
      "-> Loss = 0.4913020730018616\n",
      "-> Test Accuracy = 11.034967422485352\n",
      "-> R2 Accuracy = 0.009237229824066162\n"
     ]
    }
   ],
   "source": [
    "results = np.array([ evaluate_model_regression(model_DNN, x_val, y_val) ])\n",
    "np.save('./kfolds/{}'.format(kint), results)"
   ]
  },
  {
   "cell_type": "code",
   "execution_count": null,
   "metadata": {},
   "outputs": [],
   "source": []
  }
 ],
 "metadata": {
  "colab": {
   "authorship_tag": "ABX9TyPGnKoyfso1VK2rJhSn9brq",
   "mount_file_id": "1oAGWlf-SZH58jEakX1pZwdDPfXrMUo5n",
   "provenance": []
  },
  "kernelspec": {
   "display_name": "Python 3 (ipykernel)",
   "language": "python",
   "name": "python3"
  },
  "language_info": {
   "codemirror_mode": {
    "name": "ipython",
    "version": 3
   },
   "file_extension": ".py",
   "mimetype": "text/x-python",
   "name": "python",
   "nbconvert_exporter": "python",
   "pygments_lexer": "ipython3",
   "version": "3.9.23"
  }
 },
 "nbformat": 4,
 "nbformat_minor": 4
}
