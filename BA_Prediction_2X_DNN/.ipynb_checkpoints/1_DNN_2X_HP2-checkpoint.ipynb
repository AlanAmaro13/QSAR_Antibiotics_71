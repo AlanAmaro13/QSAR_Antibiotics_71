{
 "cells": [
  {
   "cell_type": "markdown",
   "metadata": {},
   "source": [
    "# Dense Neural Networks"
   ]
  },
  {
   "cell_type": "markdown",
   "metadata": {},
   "source": [
    "Hello there!\n",
    "\n",
    "In the previous approach we have considered a linear estimation for the bio-activity. Our result presents an average $R^{2}=0.62$ and a MAPE of $7.19$ In this notebook, we present a new approach by the use of Deep Neural Networks, in this initial case we use only Dense Layers or a Feed Forward. The descriptors used are obtained by the use of Mutual Information (MI). We've first selected those descriptors with a higher mutual than $0.4$, where we've reduced the dimension from 1200 to just 99 descriptors.\n",
    "\n",
    "Then, we have selected from the 99 descriptors the one descriptor with the highest MI (piPC4) and have selected two variables that are independent among them. This means, the MI values among them is the lowest value possible."
   ]
  },
  {
   "cell_type": "markdown",
   "metadata": {},
   "source": [
    "## Used libraries"
   ]
  },
  {
   "cell_type": "code",
   "execution_count": 1,
   "metadata": {},
   "outputs": [],
   "source": [
    "import os\n",
    "os.environ[\"CUDA_VISIBLE_DEVICES\"] = \"-1\""
   ]
  },
  {
   "cell_type": "code",
   "execution_count": 2,
   "metadata": {},
   "outputs": [],
   "source": [
    "colab = False"
   ]
  },
  {
   "cell_type": "code",
   "execution_count": 3,
   "metadata": {
    "executionInfo": {
     "elapsed": 13,
     "status": "ok",
     "timestamp": 1754806314489,
     "user": {
      "displayName": "Alan Gabriel Amaro Colin",
      "userId": "17298980579619170060"
     },
     "user_tz": 360
    },
    "id": "B2LFMr_RRg1B"
   },
   "outputs": [
    {
     "name": "stderr",
     "output_type": "stream",
     "text": [
      "2025-08-11 14:03:58.906485: I tensorflow/core/platform/cpu_feature_guard.cc:210] This TensorFlow binary is optimized to use available CPU instructions in performance-critical operations.\n",
      "To enable the following instructions: FMA, in other operations, rebuild TensorFlow with the appropriate compiler flags.\n",
      "2025-08-11 14:04:00.599595: W tensorflow/compiler/tf2tensorrt/utils/py_utils.cc:38] TF-TRT Warning: Could not find TensorRT\n",
      "/home/alan-amaro/miniconda3/envs/farma/lib/python3.9/site-packages/requests/__init__.py:86: RequestsDependencyWarning: Unable to find acceptable character detection dependency (chardet or charset_normalizer).\n",
      "  warnings.warn(\n"
     ]
    }
   ],
   "source": [
    "if colab: \n",
    "    import sys\n",
    "    sys.path.append('/content/drive/MyDrive/Colaboracion_Quimica/Main_Codes/AutoEncoders/AmaroX/AmaroX')\n",
    "    ! pip install python-telegram-bot\n",
    "\n",
    "    from ai_functions import *\n",
    "    from ai_models import *\n",
    "    from utilities import *\n",
    "    from data_manipulation import *\n",
    "    import pandas as pd\n",
    "else: \n",
    "    from AmaroX.AmaroX.ai_functions import *\n",
    "    from AmaroX.AmaroX.ai_models import *\n",
    "    from AmaroX.AmaroX.utilities import *\n",
    "    from AmaroX.AmaroX.data_manipulation import *\n",
    "    import pandas as pd"
   ]
  },
  {
   "cell_type": "code",
   "execution_count": 4,
   "metadata": {},
   "outputs": [],
   "source": [
    "import keras_tuner\n",
    "import sklearn"
   ]
  },
  {
   "cell_type": "markdown",
   "metadata": {
    "id": "LMM15EIAeNMM"
   },
   "source": [
    "## Data"
   ]
  },
  {
   "cell_type": "markdown",
   "metadata": {
    "id": "dHUpPc5dfJrs"
   },
   "source": [
    "The data presented here corresponds to molecules with their SMILE representation and descriptors, along with the biological activity. Let's first do a quick view of the data shape."
   ]
  },
  {
   "cell_type": "markdown",
   "metadata": {
    "id": "QLDOuzTDDoW1"
   },
   "source": [
    "* All the data presented here was obtained by colaboration with Dr. Erick Padilla at Facultad de Estudios Superiores Zaragoza - UNAM."
   ]
  },
  {
   "cell_type": "markdown",
   "metadata": {
    "id": "wx7mCiFYeP_M"
   },
   "source": [
    "### Downloading the data"
   ]
  },
  {
   "cell_type": "code",
   "execution_count": 5,
   "metadata": {
    "colab": {
     "base_uri": "https://localhost:8080/"
    },
    "executionInfo": {
     "elapsed": 5366,
     "status": "ok",
     "timestamp": 1754806339684,
     "user": {
      "displayName": "Alan Gabriel Amaro Colin",
      "userId": "17298980579619170060"
     },
     "user_tz": 360
    },
    "id": "TaqYCyF_eN_W",
    "outputId": "9d2fe30a-81b4-455f-a99e-557a868d9c81"
   },
   "outputs": [],
   "source": [
    "if colab:\n",
    "    ! gdown --id 1cHM9neEhTOZ82UU9HaZkdGdlwE1d4SJT\n",
    "    ! gdown --id 1wZp9pou63ElEYyGGjBeC2pDtscgRgCpj"
   ]
  },
  {
   "cell_type": "markdown",
   "metadata": {
    "id": "wfg2b6FNfNIP"
   },
   "source": [
    "The _data.xlsx_ file contains all the molecular descriptors from the molecule, along with a SMILE representation."
   ]
  },
  {
   "cell_type": "code",
   "execution_count": 6,
   "metadata": {
    "executionInfo": {
     "elapsed": 7645,
     "status": "ok",
     "timestamp": 1754806347350,
     "user": {
      "displayName": "Alan Gabriel Amaro Colin",
      "userId": "17298980579619170060"
     },
     "user_tz": 360
    },
    "id": "OvBcuQFXeU5y"
   },
   "outputs": [],
   "source": [
    "compounds_md = pd.read_excel(\"../Data/data.xlsx\")\n",
    "activity = pd.read_excel(\"../Data/Actividad.xlsx\")"
   ]
  },
  {
   "cell_type": "code",
   "execution_count": 7,
   "metadata": {
    "colab": {
     "base_uri": "https://localhost:8080/",
     "height": 690
    },
    "executionInfo": {
     "elapsed": 246,
     "status": "ok",
     "timestamp": 1754806347594,
     "user": {
      "displayName": "Alan Gabriel Amaro Colin",
      "userId": "17298980579619170060"
     },
     "user_tz": 360
    },
    "id": "IixnVRP-eXsd",
    "outputId": "9f8d0e08-c3b5-4144-d0c5-3133d5f0667c"
   },
   "outputs": [
    {
     "data": {
      "text/html": [
       "<div>\n",
       "<style scoped>\n",
       "    .dataframe tbody tr th:only-of-type {\n",
       "        vertical-align: middle;\n",
       "    }\n",
       "\n",
       "    .dataframe tbody tr th {\n",
       "        vertical-align: top;\n",
       "    }\n",
       "\n",
       "    .dataframe thead th {\n",
       "        text-align: right;\n",
       "    }\n",
       "</style>\n",
       "<table border=\"1\" class=\"dataframe\">\n",
       "  <thead>\n",
       "    <tr style=\"text-align: right;\">\n",
       "      <th></th>\n",
       "      <th>Cmpd</th>\n",
       "      <th>SMILES</th>\n",
       "      <th>ABC</th>\n",
       "      <th>ABCGG</th>\n",
       "      <th>nAcid</th>\n",
       "      <th>nBase</th>\n",
       "      <th>SpAbs_A</th>\n",
       "      <th>SpMax_A</th>\n",
       "      <th>SpDiam_A</th>\n",
       "      <th>SpAD_A</th>\n",
       "      <th>...</th>\n",
       "      <th>SRW10</th>\n",
       "      <th>TSRW10</th>\n",
       "      <th>MW</th>\n",
       "      <th>AMW</th>\n",
       "      <th>WPath</th>\n",
       "      <th>WPol</th>\n",
       "      <th>Zagreb1</th>\n",
       "      <th>Zagreb2</th>\n",
       "      <th>mZagreb1</th>\n",
       "      <th>mZagreb2</th>\n",
       "    </tr>\n",
       "  </thead>\n",
       "  <tbody>\n",
       "    <tr>\n",
       "      <th>0</th>\n",
       "      <td>Compuesto original</td>\n",
       "      <td>O=C(N/1)/C(SC1=N/C2=NC3=CC=C(F)C=C3S2)=C/N4CCN...</td>\n",
       "      <td>module 'numpy' has no attribute 'float'.\\n `np...</td>\n",
       "      <td>module 'numpy' has no attribute 'float'.\\n `np...</td>\n",
       "      <td>0</td>\n",
       "      <td>3</td>\n",
       "      <td>34.64084</td>\n",
       "      <td>2.428932</td>\n",
       "      <td>4.709973</td>\n",
       "      <td>34.64084</td>\n",
       "      <td>...</td>\n",
       "      <td>10.158170</td>\n",
       "      <td>78.17227</td>\n",
       "      <td>405.1093</td>\n",
       "      <td>8.619347</td>\n",
       "      <td>2138</td>\n",
       "      <td>39</td>\n",
       "      <td>146</td>\n",
       "      <td>171</td>\n",
       "      <td>8.361111</td>\n",
       "      <td>5.750000</td>\n",
       "    </tr>\n",
       "    <tr>\n",
       "      <th>1</th>\n",
       "      <td>Compound 3</td>\n",
       "      <td>O=C1NC2=CC=C([H])C=C2/C1=N\\C3=CC=CC(Br)=N3</td>\n",
       "      <td>module 'numpy' has no attribute 'float'.\\n `np...</td>\n",
       "      <td>module 'numpy' has no attribute 'float'.\\n `np...</td>\n",
       "      <td>0</td>\n",
       "      <td>0</td>\n",
       "      <td>23.43385</td>\n",
       "      <td>2.452376</td>\n",
       "      <td>4.754134</td>\n",
       "      <td>23.43385</td>\n",
       "      <td>...</td>\n",
       "      <td>9.792612</td>\n",
       "      <td>65.48686</td>\n",
       "      <td>300.9851</td>\n",
       "      <td>11.576350</td>\n",
       "      <td>599</td>\n",
       "      <td>26</td>\n",
       "      <td>96</td>\n",
       "      <td>113</td>\n",
       "      <td>5.166667</td>\n",
       "      <td>3.916667</td>\n",
       "    </tr>\n",
       "    <tr>\n",
       "      <th>2</th>\n",
       "      <td>Compound 4</td>\n",
       "      <td>O=C1NC2=CC=CC=C2/C1=N\\C3=NC4=CC(OCC)=CC=C4S3</td>\n",
       "      <td>module 'numpy' has no attribute 'float'.\\n `np...</td>\n",
       "      <td>module 'numpy' has no attribute 'float'.\\n `np...</td>\n",
       "      <td>0</td>\n",
       "      <td>0</td>\n",
       "      <td>30.43085</td>\n",
       "      <td>2.474251</td>\n",
       "      <td>4.745881</td>\n",
       "      <td>30.43085</td>\n",
       "      <td>...</td>\n",
       "      <td>10.101640</td>\n",
       "      <td>73.78306</td>\n",
       "      <td>323.0728</td>\n",
       "      <td>8.974246</td>\n",
       "      <td>1245</td>\n",
       "      <td>35</td>\n",
       "      <td>126</td>\n",
       "      <td>151</td>\n",
       "      <td>6.138889</td>\n",
       "      <td>5.027778</td>\n",
       "    </tr>\n",
       "    <tr>\n",
       "      <th>3</th>\n",
       "      <td>Compound 8</td>\n",
       "      <td>O=C1NC2=CC=C(Br)C=C2/C1=N\\C3=CC=CC(F)=N3</td>\n",
       "      <td>module 'numpy' has no attribute 'float'.\\n `np...</td>\n",
       "      <td>module 'numpy' has no attribute 'float'.\\n `np...</td>\n",
       "      <td>0</td>\n",
       "      <td>0</td>\n",
       "      <td>24.52891</td>\n",
       "      <td>2.46582</td>\n",
       "      <td>4.787297</td>\n",
       "      <td>24.52891</td>\n",
       "      <td>...</td>\n",
       "      <td>9.873183</td>\n",
       "      <td>66.82214</td>\n",
       "      <td>318.9757</td>\n",
       "      <td>12.268290</td>\n",
       "      <td>693</td>\n",
       "      <td>28</td>\n",
       "      <td>102</td>\n",
       "      <td>120</td>\n",
       "      <td>6.027778</td>\n",
       "      <td>4.083333</td>\n",
       "    </tr>\n",
       "    <tr>\n",
       "      <th>4</th>\n",
       "      <td>Compound 9</td>\n",
       "      <td>O=C1NC2=CC=C(Br)C=C2/C1=N/C3=CC([N+]([O-])=O)=...</td>\n",
       "      <td>module 'numpy' has no attribute 'float'.\\n `np...</td>\n",
       "      <td>module 'numpy' has no attribute 'float'.\\n `np...</td>\n",
       "      <td>0</td>\n",
       "      <td>0</td>\n",
       "      <td>27.00118</td>\n",
       "      <td>2.467278</td>\n",
       "      <td>4.80069</td>\n",
       "      <td>27.00118</td>\n",
       "      <td>...</td>\n",
       "      <td>9.972407</td>\n",
       "      <td>69.29945</td>\n",
       "      <td>345.9702</td>\n",
       "      <td>12.356080</td>\n",
       "      <td>929</td>\n",
       "      <td>32</td>\n",
       "      <td>112</td>\n",
       "      <td>132</td>\n",
       "      <td>7.138889</td>\n",
       "      <td>4.527778</td>\n",
       "    </tr>\n",
       "  </tbody>\n",
       "</table>\n",
       "<p>5 rows × 1828 columns</p>\n",
       "</div>"
      ],
      "text/plain": [
       "                 Cmpd                                             SMILES  \\\n",
       "0  Compuesto original  O=C(N/1)/C(SC1=N/C2=NC3=CC=C(F)C=C3S2)=C/N4CCN...   \n",
       "1          Compound 3         O=C1NC2=CC=C([H])C=C2/C1=N\\C3=CC=CC(Br)=N3   \n",
       "2          Compound 4       O=C1NC2=CC=CC=C2/C1=N\\C3=NC4=CC(OCC)=CC=C4S3   \n",
       "3          Compound 8           O=C1NC2=CC=C(Br)C=C2/C1=N\\C3=CC=CC(F)=N3   \n",
       "4          Compound 9  O=C1NC2=CC=C(Br)C=C2/C1=N/C3=CC([N+]([O-])=O)=...   \n",
       "\n",
       "                                                 ABC  \\\n",
       "0  module 'numpy' has no attribute 'float'.\\n `np...   \n",
       "1  module 'numpy' has no attribute 'float'.\\n `np...   \n",
       "2  module 'numpy' has no attribute 'float'.\\n `np...   \n",
       "3  module 'numpy' has no attribute 'float'.\\n `np...   \n",
       "4  module 'numpy' has no attribute 'float'.\\n `np...   \n",
       "\n",
       "                                               ABCGG  nAcid  nBase   SpAbs_A  \\\n",
       "0  module 'numpy' has no attribute 'float'.\\n `np...      0      3  34.64084   \n",
       "1  module 'numpy' has no attribute 'float'.\\n `np...      0      0  23.43385   \n",
       "2  module 'numpy' has no attribute 'float'.\\n `np...      0      0  30.43085   \n",
       "3  module 'numpy' has no attribute 'float'.\\n `np...      0      0  24.52891   \n",
       "4  module 'numpy' has no attribute 'float'.\\n `np...      0      0  27.00118   \n",
       "\n",
       "    SpMax_A  SpDiam_A    SpAD_A  ...      SRW10    TSRW10        MW  \\\n",
       "0  2.428932  4.709973  34.64084  ...  10.158170  78.17227  405.1093   \n",
       "1  2.452376  4.754134  23.43385  ...   9.792612  65.48686  300.9851   \n",
       "2  2.474251  4.745881  30.43085  ...  10.101640  73.78306  323.0728   \n",
       "3   2.46582  4.787297  24.52891  ...   9.873183  66.82214  318.9757   \n",
       "4  2.467278   4.80069  27.00118  ...   9.972407  69.29945  345.9702   \n",
       "\n",
       "         AMW WPath WPol Zagreb1 Zagreb2  mZagreb1  mZagreb2  \n",
       "0   8.619347  2138   39     146     171  8.361111  5.750000  \n",
       "1  11.576350   599   26      96     113  5.166667  3.916667  \n",
       "2   8.974246  1245   35     126     151  6.138889  5.027778  \n",
       "3  12.268290   693   28     102     120  6.027778  4.083333  \n",
       "4  12.356080   929   32     112     132  7.138889  4.527778  \n",
       "\n",
       "[5 rows x 1828 columns]"
      ]
     },
     "execution_count": 7,
     "metadata": {},
     "output_type": "execute_result"
    }
   ],
   "source": [
    "compounds_md.head()"
   ]
  },
  {
   "cell_type": "code",
   "execution_count": 8,
   "metadata": {
    "colab": {
     "base_uri": "https://localhost:8080/"
    },
    "executionInfo": {
     "elapsed": 152,
     "status": "ok",
     "timestamp": 1754806347984,
     "user": {
      "displayName": "Alan Gabriel Amaro Colin",
      "userId": "17298980579619170060"
     },
     "user_tz": 360
    },
    "id": "FwOMTbIfeZxe",
    "outputId": "d4e19ab7-1e86-4f28-c0cc-72e1b71f5ebc"
   },
   "outputs": [
    {
     "data": {
      "text/plain": [
       "(71, 1828)"
      ]
     },
     "execution_count": 8,
     "metadata": {},
     "output_type": "execute_result"
    }
   ],
   "source": [
    "compounds_md.shape"
   ]
  },
  {
   "cell_type": "code",
   "execution_count": 9,
   "metadata": {
    "colab": {
     "base_uri": "https://localhost:8080/",
     "height": 206
    },
    "executionInfo": {
     "elapsed": 68,
     "status": "ok",
     "timestamp": 1754806348065,
     "user": {
      "displayName": "Alan Gabriel Amaro Colin",
      "userId": "17298980579619170060"
     },
     "user_tz": 360
    },
    "id": "ab4UBiBFecAa",
    "outputId": "64071620-080b-4b49-bca8-25cc92379fd5"
   },
   "outputs": [
    {
     "data": {
      "text/html": [
       "<div>\n",
       "<style scoped>\n",
       "    .dataframe tbody tr th:only-of-type {\n",
       "        vertical-align: middle;\n",
       "    }\n",
       "\n",
       "    .dataframe tbody tr th {\n",
       "        vertical-align: top;\n",
       "    }\n",
       "\n",
       "    .dataframe thead th {\n",
       "        text-align: right;\n",
       "    }\n",
       "</style>\n",
       "<table border=\"1\" class=\"dataframe\">\n",
       "  <thead>\n",
       "    <tr style=\"text-align: right;\">\n",
       "      <th></th>\n",
       "      <th>Activity</th>\n",
       "    </tr>\n",
       "  </thead>\n",
       "  <tbody>\n",
       "    <tr>\n",
       "      <th>0</th>\n",
       "      <td>5.005513</td>\n",
       "    </tr>\n",
       "    <tr>\n",
       "      <th>1</th>\n",
       "      <td>4.381642</td>\n",
       "    </tr>\n",
       "    <tr>\n",
       "      <th>2</th>\n",
       "      <td>4.114064</td>\n",
       "    </tr>\n",
       "    <tr>\n",
       "      <th>3</th>\n",
       "      <td>5.012402</td>\n",
       "    </tr>\n",
       "    <tr>\n",
       "      <th>4</th>\n",
       "      <td>5.047677</td>\n",
       "    </tr>\n",
       "  </tbody>\n",
       "</table>\n",
       "</div>"
      ],
      "text/plain": [
       "   Activity\n",
       "0  5.005513\n",
       "1  4.381642\n",
       "2  4.114064\n",
       "3  5.012402\n",
       "4  5.047677"
      ]
     },
     "execution_count": 9,
     "metadata": {},
     "output_type": "execute_result"
    }
   ],
   "source": [
    "activity.head()"
   ]
  },
  {
   "cell_type": "code",
   "execution_count": 10,
   "metadata": {
    "colab": {
     "base_uri": "https://localhost:8080/"
    },
    "executionInfo": {
     "elapsed": 37,
     "status": "ok",
     "timestamp": 1754806348116,
     "user": {
      "displayName": "Alan Gabriel Amaro Colin",
      "userId": "17298980579619170060"
     },
     "user_tz": 360
    },
    "id": "fYz-3Re2eebA",
    "outputId": "1a9bb07d-d21a-4ca2-b93e-a21af222060c"
   },
   "outputs": [
    {
     "data": {
      "text/plain": [
       "(71, 1)"
      ]
     },
     "execution_count": 10,
     "metadata": {},
     "output_type": "execute_result"
    }
   ],
   "source": [
    "activity.shape"
   ]
  },
  {
   "cell_type": "markdown",
   "metadata": {
    "id": "IIU9JDRgfUWk"
   },
   "source": [
    "* The variable _x_ are the molecular descriptors, we're only interested in numerical properties:"
   ]
  },
  {
   "cell_type": "code",
   "execution_count": 11,
   "metadata": {
    "executionInfo": {
     "elapsed": 376,
     "status": "ok",
     "timestamp": 1754806348504,
     "user": {
      "displayName": "Alan Gabriel Amaro Colin",
      "userId": "17298980579619170060"
     },
     "user_tz": 360
    },
    "id": "OVvrgkBqeeXy"
   },
   "outputs": [],
   "source": [
    "x = compounds_md.copy()\n",
    "x = x.select_dtypes(\"number\")"
   ]
  },
  {
   "cell_type": "markdown",
   "metadata": {
    "id": "eyw0iNEPfbKq"
   },
   "source": [
    "## Applying Mutual Information to Molecular Descriptors"
   ]
  },
  {
   "cell_type": "markdown",
   "metadata": {
    "id": "EPCBSQMBbNf5"
   },
   "source": [
    "In the previous notebook, we have selected 3 molecular descriptors that are independent among them and present a high MI with respect to the bio-activity."
   ]
  },
  {
   "cell_type": "code",
   "execution_count": 12,
   "metadata": {
    "colab": {
     "base_uri": "https://localhost:8080/"
    },
    "executionInfo": {
     "elapsed": 376,
     "status": "ok",
     "timestamp": 1754806348508,
     "user": {
      "displayName": "Alan Gabriel Amaro Colin",
      "userId": "17298980579619170060"
     },
     "user_tz": 360
    },
    "id": "_55TahzCbUiO",
    "outputId": "943e13b7-622c-4195-98d9-39b408322575"
   },
   "outputs": [
    {
     "data": {
      "text/plain": [
       "(71, 2)"
      ]
     },
     "execution_count": 12,
     "metadata": {},
     "output_type": "execute_result"
    }
   ],
   "source": [
    "x_array = np.array(x[ ['piPC4', 'GATS3i'] ])\n",
    "x_array.shape"
   ]
  },
  {
   "cell_type": "code",
   "execution_count": 13,
   "metadata": {
    "colab": {
     "base_uri": "https://localhost:8080/"
    },
    "executionInfo": {
     "elapsed": 33,
     "status": "ok",
     "timestamp": 1754806348544,
     "user": {
      "displayName": "Alan Gabriel Amaro Colin",
      "userId": "17298980579619170060"
     },
     "user_tz": 360
    },
    "id": "qIbrbX4NblAQ",
    "outputId": "8060c218-8830-43f7-80c7-4d321cf844f1"
   },
   "outputs": [
    {
     "data": {
      "text/plain": [
       "(71,)"
      ]
     },
     "execution_count": 13,
     "metadata": {},
     "output_type": "execute_result"
    }
   ],
   "source": [
    "y_array = np.array( activity )[:, 0]\n",
    "y_array.shape"
   ]
  },
  {
   "cell_type": "markdown",
   "metadata": {
    "id": "HIvdru7Qb6n4"
   },
   "source": [
    "## Standarize Features"
   ]
  },
  {
   "cell_type": "code",
   "execution_count": 14,
   "metadata": {
    "executionInfo": {
     "elapsed": 35,
     "status": "ok",
     "timestamp": 1754806348583,
     "user": {
      "displayName": "Alan Gabriel Amaro Colin",
      "userId": "17298980579619170060"
     },
     "user_tz": 360
    },
    "id": "-4P8uMr8b8FA"
   },
   "outputs": [],
   "source": [
    "from sklearn.preprocessing import StandardScaler\n",
    "scaler = StandardScaler()"
   ]
  },
  {
   "cell_type": "code",
   "execution_count": 15,
   "metadata": {
    "colab": {
     "base_uri": "https://localhost:8080/"
    },
    "executionInfo": {
     "elapsed": 32,
     "status": "ok",
     "timestamp": 1754806348587,
     "user": {
      "displayName": "Alan Gabriel Amaro Colin",
      "userId": "17298980579619170060"
     },
     "user_tz": 360
    },
    "id": "Q1DtBVx8cGc3",
    "outputId": "e5a919ce-b9c7-4089-f736-f68d0234fcd6"
   },
   "outputs": [
    {
     "data": {
      "text/plain": [
       "(71, 2)"
      ]
     },
     "execution_count": 15,
     "metadata": {},
     "output_type": "execute_result"
    }
   ],
   "source": [
    "x_std = scaler.fit_transform(x_array)\n",
    "x_std.shape"
   ]
  },
  {
   "cell_type": "code",
   "execution_count": 16,
   "metadata": {
    "colab": {
     "base_uri": "https://localhost:8080/",
     "height": 469
    },
    "executionInfo": {
     "elapsed": 55,
     "status": "ok",
     "timestamp": 1754806348632,
     "user": {
      "displayName": "Alan Gabriel Amaro Colin",
      "userId": "17298980579619170060"
     },
     "user_tz": 360
    },
    "id": "TCAnYfB9cNJM",
    "outputId": "c67d1f14-718a-436c-c411-504973177ba7"
   },
   "outputs": [
    {
     "data": {
      "image/png": "[encoded data removed]",
      "text/plain": [
       "<Figure size 640x480 with 1 Axes>"
      ]
     },
     "metadata": {},
     "output_type": "display_data"
    },
    {
     "name": "stdout",
     "output_type": "stream",
     "text": [
      "The corresponding y element -> 5.00551297\n"
     ]
    }
   ],
   "source": [
    "plot_xy([x_std, y_array])"
   ]
  },
  {
   "cell_type": "markdown",
   "metadata": {
    "id": "lEUasbz0fl5I"
   },
   "source": [
    "## Splitting Train and Test"
   ]
  },
  {
   "cell_type": "code",
   "execution_count": 17,
   "metadata": {},
   "outputs": [],
   "source": [
    "N_BINS=6 ##discretizer, this was 10 before\n",
    "N_SPLITS=6 ##splitter\n",
    "TEST_SIZE=21/70 ##splitter"
   ]
  },
  {
   "cell_type": "code",
   "execution_count": 18,
   "metadata": {},
   "outputs": [],
   "source": [
    "# dividimos train test con stratified\n",
    "discretizer = sklearn.preprocessing.KBinsDiscretizer(n_bins=N_BINS, encode=\"ordinal\", strategy=\"uniform\")\n",
    "splitter = sklearn.model_selection.StratifiedShuffleSplit(n_splits=N_SPLITS,test_size=TEST_SIZE, random_state=13)\n",
    "y_discrete = discretizer.fit_transform(np.expand_dims(y_array, axis = -1))\n",
    "split, split_test = next(splitter.split(np.expand_dims(x_std, axis = -1), y_discrete ))"
   ]
  },
  {
   "cell_type": "code",
   "execution_count": 19,
   "metadata": {},
   "outputs": [],
   "source": [
    "x_train = x_std[split]\n",
    "x_test = x_std[split_test]\n",
    "y_train = y_array[split]\n",
    "y_test = y_array[split_test]"
   ]
  },
  {
   "cell_type": "code",
   "execution_count": 20,
   "metadata": {
    "colab": {
     "base_uri": "https://localhost:8080/"
    },
    "executionInfo": {
     "elapsed": 50,
     "status": "ok",
     "timestamp": 1754806348711,
     "user": {
      "displayName": "Alan Gabriel Amaro Colin",
      "userId": "17298980579619170060"
     },
     "user_tz": 360
    },
    "id": "Ns--E27FgpKM",
    "outputId": "f3ab4341-913a-4b94-cbe8-6cd482f3c835"
   },
   "outputs": [
    {
     "data": {
      "text/plain": [
       "((49, 2), (22, 2))"
      ]
     },
     "execution_count": 20,
     "metadata": {},
     "output_type": "execute_result"
    }
   ],
   "source": [
    "x_train.shape, x_test.shape"
   ]
  },
  {
   "cell_type": "code",
   "execution_count": 21,
   "metadata": {
    "colab": {
     "base_uri": "https://localhost:8080/",
     "height": 407
    },
    "executionInfo": {
     "elapsed": 290,
     "status": "ok",
     "timestamp": 1754806349003,
     "user": {
      "displayName": "Alan Gabriel Amaro Colin",
      "userId": "17298980579619170060"
     },
     "user_tz": 360
    },
    "id": "jw21eFGscdx1",
    "outputId": "697e87b9-d7bd-495f-de24-7f265201b3e5"
   },
   "outputs": [
    {
     "data": {
      "image/png": "[encoded data removed]",
      "text/plain": [
       "<Figure size 1000x400 with 2 Axes>"
      ]
     },
     "metadata": {},
     "output_type": "display_data"
    }
   ],
   "source": [
    "# Crear una figura con dos subplots en horizontal (1 fila, 2 columnas)\n",
    "fig, (ax1, ax2) = plt.subplots(1, 2, figsize=(10, 4))  # figsize ajusta el tamaño\n",
    "\n",
    "# Graficar la primera curva en el primer subplot\n",
    "ax1.hist(y_train, color='blue', label='train', bins = 6)\n",
    "ax1.set_title('Train Density')\n",
    "ax1.set_xlabel('x')\n",
    "ax1.set_ylabel('y')\n",
    "ax1.legend()\n",
    "\n",
    "# Graficar la segunda curva en el segundo subplot\n",
    "ax2.hist(y_test, color='red', label='test', bins = 6)\n",
    "ax2.set_title('Test Density')\n",
    "ax2.set_xlabel('x')\n",
    "ax2.set_ylabel('y')\n",
    "ax2.legend()\n",
    "\n",
    "# Ajustar el espacio entre los subplots\n",
    "plt.tight_layout()\n",
    "\n",
    "# Mostrar la figura\n",
    "plt.show()"
   ]
  },
  {
   "cell_type": "markdown",
   "metadata": {
    "id": "XESiE4f0cr7l"
   },
   "source": [
    "## Paths"
   ]
  },
  {
   "cell_type": "code",
   "execution_count": 22,
   "metadata": {
    "executionInfo": {
     "elapsed": 229,
     "status": "ok",
     "timestamp": 1754806349006,
     "user": {
      "displayName": "Alan Gabriel Amaro Colin",
      "userId": "17298980579619170060"
     },
     "user_tz": 360
    },
    "id": "hUxyWpwpcsqz"
   },
   "outputs": [],
   "source": [
    "name = 'DNN_MI_2_2'\n",
    "if colab:\n",
    "    folder_path = '/content/drive/MyDrive/Colaboracion_Quimica/Main_Codes/AutoEncoders/models'\n",
    "else: \n",
    "    folder_path = '../models'\n",
    "    \n",
    "final_path = os.path.join(folder_path, name)"
   ]
  },
  {
   "cell_type": "markdown",
   "metadata": {
    "id": "aGZb-3Wacw2F"
   },
   "source": [
    "## Callbacks"
   ]
  },
  {
   "cell_type": "code",
   "execution_count": 23,
   "metadata": {
    "executionInfo": {
     "elapsed": 96,
     "status": "ok",
     "timestamp": 1754806349012,
     "user": {
      "displayName": "Alan Gabriel Amaro Colin",
      "userId": "17298980579619170060"
     },
     "user_tz": 360
    },
    "id": "UX_yCOQicxnI"
   },
   "outputs": [],
   "source": [
    "callbacks = standard_callbacks(folder_name= name,\n",
    "                               folder_path= folder_path,\n",
    "                               patiences= [150, 150], # 50 epochs without progress, and 2 epochs to reduce LR\n",
    "                               monitor = 'val_r2_score',\n",
    "                               flow_direction = 'max')"
   ]
  },
  {
   "cell_type": "markdown",
   "metadata": {
    "id": "9cSL15E6c1zb"
   },
   "source": [
    "## DNN Model"
   ]
  },
  {
   "cell_type": "code",
   "execution_count": 24,
   "metadata": {
    "executionInfo": {
     "elapsed": 65,
     "status": "ok",
     "timestamp": 1754806349015,
     "user": {
      "displayName": "Alan Gabriel Amaro Colin",
      "userId": "17298980579619170060"
     },
     "user_tz": 360
    },
    "id": "qtUfEOFpczgn"
   },
   "outputs": [],
   "source": [
    "def _DNN(nodes:list):\n",
    "\n",
    "  inputs = keras.layers.Input((2,))\n",
    "\n",
    "  _DNN_ = G_Dense(\n",
    "      inputs = inputs,\n",
    "      nodes = nodes,\n",
    "      DP = 5,\n",
    "      n_final = 1,\n",
    "      act_func = 'leaky_relu',\n",
    "      final_act_func = 'relu',\n",
    "      WI = 'he_normal',\n",
    "      L1 = 0.0,\n",
    "      L2 = 0.0,\n",
    "      use_bias = True\n",
    "  )\n",
    "\n",
    "  return keras.models.Model(inputs = inputs, outputs = _DNN_)"
   ]
  },
  {
   "cell_type": "code",
   "execution_count": 25,
   "metadata": {},
   "outputs": [],
   "source": [
    "def compile_model(nodes: list, optimizer, modelo):\n",
    "\n",
    "  model = modelo(nodes = nodes)\n",
    "\n",
    "  model.compile(optimizer = optimizer,\n",
    "                loss = 'mae',\n",
    "                metrics = ['mape', 'r2_score'])\n",
    "\n",
    "  return model"
   ]
  },
  {
   "cell_type": "code",
   "execution_count": 26,
   "metadata": {},
   "outputs": [],
   "source": [
    "def build_model(hp):\n",
    "\n",
    "  nodes = [hp.Int('Nodes-1', min_value = 1, max_value = 300, step = 1),\n",
    "           hp.Int('Nodes-2', min_value = 1, max_value = 300, step = 1)\n",
    "           ]\n",
    "\n",
    "  #DP = hp.Int('Dropout', min_value = 0, max_value = 50, step = 2)\n",
    "\n",
    "  #L1 = hp.Choice('L1', [1e-6, 1e-5, 1e-4, 1e-3, 1e-2, 1e-1, 1.0])\n",
    "\n",
    "  #L2 = hp.Choice('L2', [1e-6, 1e-5, 1e-4, 1e-3, 1e-2, 1e-1, 1.0])\n",
    "\n",
    "  optimizer = hp.Choice('optimizer', ['adam'])\n",
    "\n",
    "  if optimizer == 'adam': opt = keras.optimizers.Adam(\n",
    "        learning_rate = 0.001\n",
    "    )\n",
    "\n",
    "  elif optimizer == 'sgd': opt = keras.optimizers.SGD(\n",
    "        learning_rate = 0.001\n",
    "    )\n",
    "\n",
    "  elif optimizer == 'adagrad': opt = keras.optimizers.Adagrad(\n",
    "        learning_rate = 0.001\n",
    "    )\n",
    "\n",
    "\n",
    "  model_f = compile_model(nodes = nodes, optimizer = optimizer, modelo = _DNN)\n",
    "\n",
    "  return model_f"
   ]
  },
  {
   "cell_type": "code",
   "execution_count": 27,
   "metadata": {
    "executionInfo": {
     "elapsed": 60,
     "status": "ok",
     "timestamp": 1754806349047,
     "user": {
      "displayName": "Alan Gabriel Amaro Colin",
      "userId": "17298980579619170060"
     },
     "user_tz": 360
    },
    "id": "KKix552XddZ9"
   },
   "outputs": [
    {
     "name": "stderr",
     "output_type": "stream",
     "text": [
      "2025-08-11 14:04:58.978318: E external/local_xla/xla/stream_executor/cuda/cuda_driver.cc:282] failed call to cuInit: CUDA_ERROR_NO_DEVICE: no CUDA-capable device is detected\n",
      "2025-08-11 14:04:58.978413: I external/local_xla/xla/stream_executor/cuda/cuda_diagnostics.cc:134] retrieving CUDA diagnostic information for host: alan-amaro-Nvidia\n",
      "2025-08-11 14:04:58.978428: I external/local_xla/xla/stream_executor/cuda/cuda_diagnostics.cc:141] hostname: alan-amaro-Nvidia\n",
      "2025-08-11 14:04:58.978720: I external/local_xla/xla/stream_executor/cuda/cuda_diagnostics.cc:165] libcuda reported version is: 570.169.0\n",
      "2025-08-11 14:04:58.978779: I external/local_xla/xla/stream_executor/cuda/cuda_diagnostics.cc:169] kernel reported version is: 570.169.0\n",
      "2025-08-11 14:04:58.978793: I external/local_xla/xla/stream_executor/cuda/cuda_diagnostics.cc:248] kernel version seems to match DSO: 570.169.0\n"
     ]
    },
    {
     "data": {
      "text/plain": [
       "<Functional name=functional, built=True>"
      ]
     },
     "execution_count": 27,
     "metadata": {},
     "output_type": "execute_result"
    }
   ],
   "source": [
    "build_model(keras_tuner.HyperParameters())"
   ]
  },
  {
   "cell_type": "code",
   "execution_count": 28,
   "metadata": {},
   "outputs": [],
   "source": [
    "tuner = keras_tuner.BayesianOptimization(\n",
    "    hypermodel=build_model,\n",
    "    objective= keras_tuner.Objective('val_mape', 'min') ,\n",
    "    max_trials= 50, # Set to 3\n",
    "    executions_per_trial = 2,\n",
    "    overwrite=True,\n",
    "    directory= final_path,\n",
    "    project_name=\"DNN2-MI-KT\",\n",
    ")"
   ]
  },
  {
   "cell_type": "code",
   "execution_count": 29,
   "metadata": {},
   "outputs": [
    {
     "name": "stdout",
     "output_type": "stream",
     "text": [
      "Search space summary\n",
      "Default search space size: 3\n",
      "Nodes-1 (Int)\n",
      "{'default': None, 'conditions': [], 'min_value': 1, 'max_value': 300, 'step': 1, 'sampling': 'linear'}\n",
      "Nodes-2 (Int)\n",
      "{'default': None, 'conditions': [], 'min_value': 1, 'max_value': 300, 'step': 1, 'sampling': 'linear'}\n",
      "optimizer (Choice)\n",
      "{'default': 'adam', 'conditions': [], 'values': ['adam'], 'ordered': False}\n"
     ]
    }
   ],
   "source": [
    "tuner.search_space_summary()"
   ]
  },
  {
   "cell_type": "code",
   "execution_count": 30,
   "metadata": {},
   "outputs": [
    {
     "name": "stdout",
     "output_type": "stream",
     "text": [
      "\n",
      "Search: Running Trial #1\n",
      "\n",
      "Value             |Best Value So Far |Hyperparameter\n",
      "96                |96                |Nodes-1\n",
      "212               |212               |Nodes-2\n",
      "adam              |adam              |optimizer\n",
      "\n",
      "Epoch 1/250\n",
      "\u001b[1m5/5\u001b[0m \u001b[32m━━━━━━━━━━━━━━━━━━━━\u001b[0m\u001b[37m\u001b[0m \u001b[1m4s\u001b[0m 179ms/step - loss: 4.4081 - mape: 91.0999 - r2_score: -32.0793 - val_loss: 3.3070 - val_mape: 68.7564 - val_r2_score: -22.2606\n",
      "Epoch 2/250\n",
      "\u001b[1m5/5\u001b[0m \u001b[32m━━━━━━━━━━━━━━━━━━━━\u001b[0m\u001b[37m\u001b[0m \u001b[1m0s\u001b[0m 51ms/step - loss: 3.8655 - mape: 79.5343 - r2_score: -33.1997 - val_loss: 2.2702 - val_mape: 47.6947 - val_r2_score: -15.4022\n",
      "Epoch 3/250\n",
      "\u001b[1m5/5\u001b[0m \u001b[32m━━━━━━━━━━━━━━━━━━━━\u001b[0m\u001b[37m\u001b[0m \u001b[1m0s\u001b[0m 32ms/step - loss: 3.4370 - mape: 71.6117 - r2_score: -25.9641 - val_loss: 2.4510 - val_mape: 52.0127 - val_r2_score: -15.9218\n",
      "Epoch 4/250\n",
      "\u001b[1m5/5\u001b[0m \u001b[32m━━━━━━━━━━━━━━━━━━━━\u001b[0m\u001b[37m\u001b[0m \u001b[1m0s\u001b[0m 37ms/step - loss: 3.5410 - mape: 74.8114 - r2_score: -24.1718 - val_loss: 2.3829 - val_mape: 50.5612 - val_r2_score: -15.6299\n",
      "Epoch 5/250\n",
      "\u001b[1m5/5\u001b[0m \u001b[32m━━━━━━━━━━━━━━━━━━━━\u001b[0m\u001b[37m\u001b[0m \u001b[1m0s\u001b[0m 47ms/step - loss: 3.2703 - mape: 70.8119 - r2_score: -22.8666 - val_loss: 2.1931 - val_mape: 46.2930 - val_r2_score: -14.9516\n",
      "Epoch 6/250\n",
      "\u001b[1m5/5\u001b[0m \u001b[32m━━━━━━━━━━━━━━━━━━━━\u001b[0m\u001b[37m\u001b[0m \u001b[1m0s\u001b[0m 54ms/step - loss: 3.1303 - mape: 68.1810 - r2_score: -20.4591 - val_loss: 2.1114 - val_mape: 44.4387 - val_r2_score: -14.5864\n",
      "Epoch 7/250\n",
      "\u001b[1m5/5\u001b[0m \u001b[32m━━━━━━━━━━━━━━━━━━━━\u001b[0m\u001b[37m\u001b[0m \u001b[1m0s\u001b[0m 48ms/step - loss: 2.7630 - mape: 59.7093 - r2_score: -20.7558 - val_loss: 2.0363 - val_mape: 43.0787 - val_r2_score: -14.1664\n",
      "Epoch 8/250\n",
      "\u001b[1m5/5\u001b[0m \u001b[32m━━━━━━━━━━━━━━━━━━━━\u001b[0m\u001b[37m\u001b[0m \u001b[1m0s\u001b[0m 32ms/step - loss: 2.9631 - mape: 62.2410 - r2_score: -19.3137 - val_loss: 2.0875 - val_mape: 44.4695 - val_r2_score: -14.1185\n",
      "Epoch 9/250\n",
      "\u001b[1m5/5\u001b[0m \u001b[32m━━━━━━━━━━━━━━━━━━━━\u001b[0m\u001b[37m\u001b[0m \u001b[1m0s\u001b[0m 32ms/step - loss: 2.8254 - mape: 59.9777 - r2_score: -17.5210 - val_loss: 2.2951 - val_mape: 49.0121 - val_r2_score: -14.8334\n",
      "Epoch 10/250\n",
      "\u001b[1m5/5\u001b[0m \u001b[32m━━━━━━━━━━━━━━━━━━━━\u001b[0m\u001b[37m\u001b[0m \u001b[1m0s\u001b[0m 36ms/step - loss: 2.8194 - mape: 60.5436 - r2_score: -18.2172 - val_loss: 2.1579 - val_mape: 45.5120 - val_r2_score: -14.1526\n",
      "Epoch 11/250\n",
      "\u001b[1m5/5\u001b[0m \u001b[32m━━━━━━━━━━━━━━━━━━━━\u001b[0m\u001b[37m\u001b[0m \u001b[1m0s\u001b[0m 32ms/step - loss: 2.2778 - mape: 50.5149 - r2_score: -16.2906 - val_loss: 2.2401 - val_mape: 46.9717 - val_r2_score: -14.5918\n",
      "Epoch 12/250\n",
      "\u001b[1m5/5\u001b[0m \u001b[32m━━━━━━━━━━━━━━━━━━━━\u001b[0m\u001b[37m\u001b[0m \u001b[1m0s\u001b[0m 32ms/step - loss: 2.3133 - mape: 52.3821 - r2_score: -12.2098 - val_loss: 2.3747 - val_mape: 49.7264 - val_r2_score: -15.3730\n",
      "Epoch 13/250\n",
      "\u001b[1m5/5\u001b[0m \u001b[32m━━━━━━━━━━━━━━━━━━━━\u001b[0m\u001b[37m\u001b[0m \u001b[1m0s\u001b[0m 35ms/step - loss: 2.4992 - mape: 55.9128 - r2_score: -13.9364 - val_loss: 2.5019 - val_mape: 52.2816 - val_r2_score: -16.1845\n",
      "Epoch 14/250\n",
      "\u001b[1m5/5\u001b[0m \u001b[32m━━━━━━━━━━━━━━━━━━━━\u001b[0m\u001b[37m\u001b[0m \u001b[1m0s\u001b[0m 40ms/step - loss: 2.0170 - mape: 44.8790 - r2_score: -14.2584 - val_loss: 2.6417 - val_mape: 55.1281 - val_r2_score: -16.4235\n",
      "Epoch 15/250\n",
      "\u001b[1m5/5\u001b[0m \u001b[32m━━━━━━━━━━━━━━━━━━━━\u001b[0m\u001b[37m\u001b[0m \u001b[1m0s\u001b[0m 35ms/step - loss: 2.0479 - mape: 46.7711 - r2_score: -11.8162 - val_loss: 2.5994 - val_mape: 54.2371 - val_r2_score: -16.1588\n",
      "Epoch 16/250\n",
      "\u001b[1m5/5\u001b[0m \u001b[32m━━━━━━━━━━━━━━━━━━━━\u001b[0m\u001b[37m\u001b[0m \u001b[1m0s\u001b[0m 34ms/step - loss: 2.1079 - mape: 47.0338 - r2_score: -11.5263 - val_loss: 2.4071 - val_mape: 50.5446 - val_r2_score: -14.8821\n",
      "Epoch 17/250\n",
      "\u001b[1m5/5\u001b[0m \u001b[32m━━━━━━━━━━━━━━━━━━━━\u001b[0m\u001b[37m\u001b[0m \u001b[1m0s\u001b[0m 30ms/step - loss: 2.0284 - mape: 46.5731 - r2_score: -10.9299 - val_loss: 2.3213 - val_mape: 49.2721 - val_r2_score: -14.3139\n",
      "Epoch 18/250\n",
      "\u001b[1m5/5\u001b[0m \u001b[32m━━━━━━━━━━━━━━━━━━━━\u001b[0m\u001b[37m\u001b[0m \u001b[1m0s\u001b[0m 41ms/step - loss: 2.0725 - mape: 45.9178 - r2_score: -10.8431 - val_loss: 2.0289 - val_mape: 43.4312 - val_r2_score: -13.0483\n",
      "Epoch 19/250\n",
      "\u001b[1m5/5\u001b[0m \u001b[32m━━━━━━━━━━━━━━━━━━━━\u001b[0m\u001b[37m\u001b[0m \u001b[1m0s\u001b[0m 46ms/step - loss: 1.9020 - mape: 41.8296 - r2_score: -10.5174 - val_loss: 1.8736 - val_mape: 40.7667 - val_r2_score: -12.4811\n",
      "Epoch 20/250\n",
      "\u001b[1m5/5\u001b[0m \u001b[32m━━━━━━━━━━━━━━━━━━━━\u001b[0m\u001b[37m\u001b[0m \u001b[1m0s\u001b[0m 37ms/step - loss: 2.2804 - mape: 50.3773 - r2_score: -14.1333 - val_loss: 1.9947 - val_mape: 42.7211 - val_r2_score: -12.4926\n",
      "Epoch 21/250\n",
      "\u001b[1m5/5\u001b[0m \u001b[32m━━━━━━━━━━━━━━━━━━━━\u001b[0m\u001b[37m\u001b[0m \u001b[1m0s\u001b[0m 32ms/step - loss: 1.8658 - mape: 43.0973 - r2_score: -8.9999 - val_loss: 2.0655 - val_mape: 43.8470 - val_r2_score: -12.3103\n",
      "Epoch 22/250\n",
      "\u001b[1m5/5\u001b[0m \u001b[32m━━━━━━━━━━━━━━━━━━━━\u001b[0m\u001b[37m\u001b[0m \u001b[1m0s\u001b[0m 49ms/step - loss: 1.8212 - mape: 41.5745 - r2_score: -8.2508 - val_loss: 1.8796 - val_mape: 40.1741 - val_r2_score: -11.3601\n",
      "Epoch 23/250\n",
      "\u001b[1m5/5\u001b[0m \u001b[32m━━━━━━━━━━━━━━━━━━━━\u001b[0m\u001b[37m\u001b[0m \u001b[1m0s\u001b[0m 56ms/step - loss: 1.9593 - mape: 44.1908 - r2_score: -11.6878 - val_loss: 1.7824 - val_mape: 38.7099 - val_r2_score: -10.5239\n",
      "Epoch 24/250\n",
      "\u001b[1m5/5\u001b[0m \u001b[32m━━━━━━━━━━━━━━━━━━━━\u001b[0m\u001b[37m\u001b[0m \u001b[1m0s\u001b[0m 51ms/step - loss: 2.0685 - mape: 45.9987 - r2_score: -11.8371 - val_loss: 1.7449 - val_mape: 37.8053 - val_r2_score: -9.7141\n",
      "Epoch 25/250\n",
      "\u001b[1m5/5\u001b[0m \u001b[32m━━━━━━━━━━━━━━━━━━━━\u001b[0m\u001b[37m\u001b[0m \u001b[1m0s\u001b[0m 46ms/step - loss: 1.5600 - mape: 35.1227 - r2_score: -8.8825 - val_loss: 1.6976 - val_mape: 36.8744 - val_r2_score: -8.8039\n",
      "Epoch 26/250\n",
      "\u001b[1m5/5\u001b[0m \u001b[32m━━━━━━━━━━━━━━━━━━━━\u001b[0m\u001b[37m\u001b[0m \u001b[1m0s\u001b[0m 49ms/step - loss: 1.6710 - mape: 37.7484 - r2_score: -9.3278 - val_loss: 1.6273 - val_mape: 35.8432 - val_r2_score: -8.1122\n",
      "Epoch 27/250\n",
      "\u001b[1m5/5\u001b[0m \u001b[32m━━━━━━━━━━━━━━━━━━━━\u001b[0m\u001b[37m\u001b[0m \u001b[1m0s\u001b[0m 49ms/step - loss: 1.5569 - mape: 35.5155 - r2_score: -6.9413 - val_loss: 1.5621 - val_mape: 35.1347 - val_r2_score: -7.8085\n",
      "Epoch 28/250\n",
      "\u001b[1m5/5\u001b[0m \u001b[32m━━━━━━━━━━━━━━━━━━━━\u001b[0m\u001b[37m\u001b[0m \u001b[1m0s\u001b[0m 51ms/step - loss: 1.6001 - mape: 36.3329 - r2_score: -7.9988 - val_loss: 1.5071 - val_mape: 34.2997 - val_r2_score: -7.6922\n",
      "Epoch 29/250\n",
      "\u001b[1m5/5\u001b[0m \u001b[32m━━━━━━━━━━━━━━━━━━━━\u001b[0m\u001b[37m\u001b[0m \u001b[1m0s\u001b[0m 49ms/step - loss: 1.7239 - mape: 39.9715 - r2_score: -7.4362 - val_loss: 1.4880 - val_mape: 33.3552 - val_r2_score: -7.0742\n",
      "Epoch 30/250\n",
      "\u001b[1m5/5\u001b[0m \u001b[32m━━━━━━━━━━━━━━━━━━━━\u001b[0m\u001b[37m\u001b[0m \u001b[1m0s\u001b[0m 51ms/step - loss: 1.4723 - mape: 34.8507 - r2_score: -5.6198 - val_loss: 1.4194 - val_mape: 32.3059 - val_r2_score: -6.5256\n",
      "Epoch 31/250\n",
      "\u001b[1m5/5\u001b[0m \u001b[32m━━━━━━━━━━━━━━━━━━━━\u001b[0m\u001b[37m\u001b[0m \u001b[1m0s\u001b[0m 32ms/step - loss: 1.5921 - mape: 35.7183 - r2_score: -6.2491 - val_loss: 1.4001 - val_mape: 32.5005 - val_r2_score: -6.5748\n",
      "Epoch 32/250\n",
      "\u001b[1m5/5\u001b[0m \u001b[32m━━━━━━━━━━━━━━━━━━━━\u001b[0m\u001b[37m\u001b[0m \u001b[1m0s\u001b[0m 57ms/step - loss: 1.4145 - mape: 33.2935 - r2_score: -6.3096 - val_loss: 1.3462 - val_mape: 31.4296 - val_r2_score: -6.2091\n",
      "Epoch 33/250\n",
      "\u001b[1m5/5\u001b[0m \u001b[32m━━━━━━━━━━━━━━━━━━━━\u001b[0m\u001b[37m\u001b[0m \u001b[1m0s\u001b[0m 51ms/step - loss: 1.3976 - mape: 32.7379 - r2_score: -5.6836 - val_loss: 1.3235 - val_mape: 30.4869 - val_r2_score: -5.8237\n",
      "Epoch 34/250\n",
      "\u001b[1m5/5\u001b[0m \u001b[32m━━━━━━━━━━━━━━━━━━━━\u001b[0m\u001b[37m\u001b[0m \u001b[1m0s\u001b[0m 51ms/step - loss: 1.5088 - mape: 34.6656 - r2_score: -6.7639 - val_loss: 1.2344 - val_mape: 28.5826 - val_r2_score: -5.1426\n",
      "Epoch 35/250\n",
      "\u001b[1m5/5\u001b[0m \u001b[32m━━━━━━━━━━━━━━━━━━━━\u001b[0m\u001b[37m\u001b[0m \u001b[1m0s\u001b[0m 47ms/step - loss: 1.5506 - mape: 36.5271 - r2_score: -6.1944 - val_loss: 1.1693 - val_mape: 27.2283 - val_r2_score: -4.6788\n",
      "Epoch 36/250\n",
      "\u001b[1m5/5\u001b[0m \u001b[32m━━━━━━━━━━━━━━━━━━━━\u001b[0m\u001b[37m\u001b[0m \u001b[1m0s\u001b[0m 34ms/step - loss: 1.3941 - mape: 31.8817 - r2_score: -5.4537 - val_loss: 1.2285 - val_mape: 28.8315 - val_r2_score: -4.9527\n",
      "Epoch 37/250\n",
      "\u001b[1m5/5\u001b[0m \u001b[32m━━━━━━━━━━━━━━━━━━━━\u001b[0m\u001b[37m\u001b[0m \u001b[1m0s\u001b[0m 35ms/step - loss: 1.4284 - mape: 32.9055 - r2_score: -6.0562 - val_loss: 1.6864 - val_mape: 38.6586 - val_r2_score: -7.3635\n",
      "Epoch 38/250\n",
      "\u001b[1m5/5\u001b[0m \u001b[32m━━━━━━━━━━━━━━━━━━━━\u001b[0m\u001b[37m\u001b[0m \u001b[1m0s\u001b[0m 35ms/step - loss: 1.8312 - mape: 42.0857 - r2_score: -7.5531 - val_loss: 1.3547 - val_mape: 31.7117 - val_r2_score: -5.5187\n",
      "Epoch 39/250\n",
      "\u001b[1m5/5\u001b[0m \u001b[32m━━━━━━━━━━━━━━━━━━━━\u001b[0m\u001b[37m\u001b[0m \u001b[1m0s\u001b[0m 47ms/step - loss: 1.1250 - mape: 26.9129 - r2_score: -4.2354 - val_loss: 1.0217 - val_mape: 24.4911 - val_r2_score: -3.8550\n",
      "Epoch 40/250\n",
      "\u001b[1m5/5\u001b[0m \u001b[32m━━━━━━━━━━━━━━━━━━━━\u001b[0m\u001b[37m\u001b[0m \u001b[1m0s\u001b[0m 55ms/step - loss: 1.4454 - mape: 33.7086 - r2_score: -5.6241 - val_loss: 1.0099 - val_mape: 24.3565 - val_r2_score: -3.6393\n",
      "Epoch 41/250\n",
      "\u001b[1m5/5\u001b[0m \u001b[32m━━━━━━━━━━━━━━━━━━━━\u001b[0m\u001b[37m\u001b[0m \u001b[1m0s\u001b[0m 42ms/step - loss: 1.1312 - mape: 26.3264 - r2_score: -4.6793 - val_loss: 1.2211 - val_mape: 28.8242 - val_r2_score: -4.1071\n",
      "Epoch 42/250\n",
      "\u001b[1m5/5\u001b[0m \u001b[32m━━━━━━━━━━━━━━━━━━━━\u001b[0m\u001b[37m\u001b[0m \u001b[1m0s\u001b[0m 37ms/step - loss: 1.3552 - mape: 31.2515 - r2_score: -5.9666 - val_loss: 1.2341 - val_mape: 29.0479 - val_r2_score: -4.0991\n",
      "Epoch 43/250\n",
      "\u001b[1m5/5\u001b[0m \u001b[32m━━━━━━━━━━━━━━━━━━━━\u001b[0m\u001b[37m\u001b[0m \u001b[1m0s\u001b[0m 34ms/step - loss: 1.1374 - mape: 27.2852 - r2_score: -3.3809 - val_loss: 1.1760 - val_mape: 27.5435 - val_r2_score: -4.0681\n",
      "Epoch 44/250\n",
      "\u001b[1m5/5\u001b[0m \u001b[32m━━━━━━━━━━━━━━━━━━━━\u001b[0m\u001b[37m\u001b[0m \u001b[1m0s\u001b[0m 32ms/step - loss: 1.2447 - mape: 27.9289 - r2_score: -4.9359 - val_loss: 1.0605 - val_mape: 25.0968 - val_r2_score: -3.2694\n",
      "Epoch 45/250\n",
      "\u001b[1m5/5\u001b[0m \u001b[32m━━━━━━━━━━━━━━━━━━━━\u001b[0m\u001b[37m\u001b[0m \u001b[1m0s\u001b[0m 49ms/step - loss: 1.5798 - mape: 35.4277 - r2_score: -9.2327 - val_loss: 0.8862 - val_mape: 20.9116 - val_r2_score: -2.1013\n",
      "Epoch 46/250\n",
      "\u001b[1m5/5\u001b[0m \u001b[32m━━━━━━━━━━━━━━━━━━━━\u001b[0m\u001b[37m\u001b[0m \u001b[1m0s\u001b[0m 47ms/step - loss: 1.2104 - mape: 27.9927 - r2_score: -3.6269 - val_loss: 0.8454 - val_mape: 19.8516 - val_r2_score: -1.7032\n",
      "Epoch 47/250\n",
      "\u001b[1m5/5\u001b[0m \u001b[32m━━━━━━━━━━━━━━━━━━━━\u001b[0m\u001b[37m\u001b[0m \u001b[1m0s\u001b[0m 49ms/step - loss: 1.3322 - mape: 31.1936 - r2_score: -5.6056 - val_loss: 0.8289 - val_mape: 19.6891 - val_r2_score: -1.7451\n",
      "Epoch 48/250\n",
      "\u001b[1m5/5\u001b[0m \u001b[32m━━━━━━━━━━━━━━━━━━━━\u001b[0m\u001b[37m\u001b[0m \u001b[1m0s\u001b[0m 35ms/step - loss: 1.4223 - mape: 32.2420 - r2_score: -8.2268 - val_loss: 0.8932 - val_mape: 21.3005 - val_r2_score: -2.0973\n",
      "Epoch 49/250\n",
      "\u001b[1m5/5\u001b[0m \u001b[32m━━━━━━━━━━━━━━━━━━━━\u001b[0m\u001b[37m\u001b[0m \u001b[1m0s\u001b[0m 48ms/step - loss: 1.2679 - mape: 30.2225 - r2_score: -3.9622 - val_loss: 0.7758 - val_mape: 18.5070 - val_r2_score: -1.4736\n",
      "Epoch 50/250\n",
      "\u001b[1m5/5\u001b[0m \u001b[32m━━━━━━━━━━━━━━━━━━━━\u001b[0m\u001b[37m\u001b[0m \u001b[1m0s\u001b[0m 52ms/step - loss: 1.1616 - mape: 27.7435 - r2_score: -3.6634 - val_loss: 0.7849 - val_mape: 18.3410 - val_r2_score: -1.2559\n",
      "Epoch 51/250\n",
      "\u001b[1m5/5\u001b[0m \u001b[32m━━━━━━━━━━━━━━━━━━━━\u001b[0m\u001b[37m\u001b[0m \u001b[1m0s\u001b[0m 47ms/step - loss: 1.2955 - mape: 30.4263 - r2_score: -6.0110 - val_loss: 0.7721 - val_mape: 17.8694 - val_r2_score: -1.0570\n",
      "Epoch 52/250\n",
      "\u001b[1m5/5\u001b[0m \u001b[32m━━━━━━━━━━━━━━━━━━━━\u001b[0m\u001b[37m\u001b[0m \u001b[1m0s\u001b[0m 45ms/step - loss: 1.1081 - mape: 25.3780 - r2_score: -3.4820 - val_loss: 0.6579 - val_mape: 15.9339 - val_r2_score: -0.8363\n",
      "Epoch 53/250\n",
      "\u001b[1m5/5\u001b[0m \u001b[32m━━━━━━━━━━━━━━━━━━━━\u001b[0m\u001b[37m\u001b[0m \u001b[1m0s\u001b[0m 34ms/step - loss: 1.1434 - mape: 26.8245 - r2_score: -4.1620 - val_loss: 0.8035 - val_mape: 19.4178 - val_r2_score: -1.4499\n",
      "Epoch 54/250\n",
      "\u001b[1m5/5\u001b[0m \u001b[32m━━━━━━━━━━━━━━━━━━━━\u001b[0m\u001b[37m\u001b[0m \u001b[1m0s\u001b[0m 33ms/step - loss: 1.1217 - mape: 26.0251 - r2_score: -3.3978 - val_loss: 0.7313 - val_mape: 17.5908 - val_r2_score: -0.9773\n",
      "Epoch 55/250\n",
      "\u001b[1m5/5\u001b[0m \u001b[32m━━━━━━━━━━━━━━━━━━━━\u001b[0m\u001b[37m\u001b[0m \u001b[1m0s\u001b[0m 33ms/step - loss: 1.0163 - mape: 24.1209 - r2_score: -2.5468 - val_loss: 0.7262 - val_mape: 17.2460 - val_r2_score: -0.9310\n",
      "Epoch 56/250\n",
      "\u001b[1m5/5\u001b[0m \u001b[32m━━━━━━━━━━━━━━━━━━━━\u001b[0m\u001b[37m\u001b[0m \u001b[1m0s\u001b[0m 46ms/step - loss: 0.9732 - mape: 22.9551 - r2_score: -2.8240 - val_loss: 0.6486 - val_mape: 15.8391 - val_r2_score: -0.7910\n",
      "Epoch 57/250\n",
      "\u001b[1m5/5\u001b[0m \u001b[32m━━━━━━━━━━━━━━━━━━━━\u001b[0m\u001b[37m\u001b[0m \u001b[1m0s\u001b[0m 37ms/step - loss: 0.9781 - mape: 23.7743 - r2_score: -2.7783 - val_loss: 0.6641 - val_mape: 15.9598 - val_r2_score: -0.8518\n",
      "Epoch 58/250\n",
      "\u001b[1m5/5\u001b[0m \u001b[32m━━━━━━━━━━━━━━━━━━━━\u001b[0m\u001b[37m\u001b[0m \u001b[1m0s\u001b[0m 35ms/step - loss: 1.1228 - mape: 25.6224 - r2_score: -3.8099 - val_loss: 0.7566 - val_mape: 17.7495 - val_r2_score: -1.2099\n",
      "Epoch 59/250\n",
      "\u001b[1m5/5\u001b[0m \u001b[32m━━━━━━━━━━━━━━━━━━━━\u001b[0m\u001b[37m\u001b[0m \u001b[1m0s\u001b[0m 48ms/step - loss: 1.1060 - mape: 24.2185 - r2_score: -4.7527 - val_loss: 0.6374 - val_mape: 15.1781 - val_r2_score: -0.5636\n",
      "Epoch 60/250\n",
      "\u001b[1m5/5\u001b[0m \u001b[32m━━━━━━━━━━━━━━━━━━━━\u001b[0m\u001b[37m\u001b[0m \u001b[1m0s\u001b[0m 57ms/step - loss: 0.9439 - mape: 22.1263 - r2_score: -2.3776 - val_loss: 0.6154 - val_mape: 14.8062 - val_r2_score: -0.5835\n",
      "Epoch 61/250\n",
      "\u001b[1m5/5\u001b[0m \u001b[32m━━━━━━━━━━━━━━━━━━━━\u001b[0m\u001b[37m\u001b[0m \u001b[1m0s\u001b[0m 55ms/step - loss: 1.0346 - mape: 25.1018 - r2_score: -2.8629 - val_loss: 0.6109 - val_mape: 14.6838 - val_r2_score: -0.6316\n",
      "Epoch 62/250\n",
      "\u001b[1m5/5\u001b[0m \u001b[32m━━━━━━━━━━━━━━━━━━━━\u001b[0m\u001b[37m\u001b[0m \u001b[1m0s\u001b[0m 37ms/step - loss: 0.8678 - mape: 20.5978 - r2_score: -2.3981 - val_loss: 0.6471 - val_mape: 15.3786 - val_r2_score: -0.8772\n",
      "Epoch 63/250\n",
      "\u001b[1m5/5\u001b[0m \u001b[32m━━━━━━━━━━━━━━━━━━━━\u001b[0m\u001b[37m\u001b[0m \u001b[1m0s\u001b[0m 34ms/step - loss: 0.8922 - mape: 21.1470 - r2_score: -2.9173 - val_loss: 0.6898 - val_mape: 16.2708 - val_r2_score: -1.0238\n",
      "Epoch 64/250\n",
      "\u001b[1m5/5\u001b[0m \u001b[32m━━━━━━━━━━━━━━━━━━━━\u001b[0m\u001b[37m\u001b[0m \u001b[1m0s\u001b[0m 39ms/step - loss: 0.9805 - mape: 23.4795 - r2_score: -2.3542 - val_loss: 0.7840 - val_mape: 18.5988 - val_r2_score: -1.0262\n",
      "Epoch 65/250\n",
      "\u001b[1m5/5\u001b[0m \u001b[32m━━━━━━━━━━━━━━━━━━━━\u001b[0m\u001b[37m\u001b[0m \u001b[1m0s\u001b[0m 34ms/step - loss: 1.0470 - mape: 24.7103 - r2_score: -2.6000 - val_loss: 0.7233 - val_mape: 17.3005 - val_r2_score: -0.8389\n",
      "Epoch 66/250\n",
      "\u001b[1m5/5\u001b[0m \u001b[32m━━━━━━━━━━━━━━━━━━━━\u001b[0m\u001b[37m\u001b[0m \u001b[1m0s\u001b[0m 39ms/step - loss: 0.9764 - mape: 23.1797 - r2_score: -2.3137 - val_loss: 0.6679 - val_mape: 15.8848 - val_r2_score: -0.8982\n",
      "Epoch 67/250\n",
      "\u001b[1m5/5\u001b[0m \u001b[32m━━━━━━━━━━━━━━━━━━━━\u001b[0m\u001b[37m\u001b[0m \u001b[1m0s\u001b[0m 34ms/step - loss: 0.9507 - mape: 22.0990 - r2_score: -2.2507 - val_loss: 0.7801 - val_mape: 18.2709 - val_r2_score: -1.1747\n",
      "Epoch 68/250\n",
      "\u001b[1m5/5\u001b[0m \u001b[32m━━━━━━━━━━━━━━━━━━━━\u001b[0m\u001b[37m\u001b[0m \u001b[1m0s\u001b[0m 40ms/step - loss: 0.7923 - mape: 18.6678 - r2_score: -1.7139 - val_loss: 0.7806 - val_mape: 18.3883 - val_r2_score: -1.0246\n",
      "Epoch 69/250\n",
      "\u001b[1m5/5\u001b[0m \u001b[32m━━━━━━━━━━━━━━━━━━━━\u001b[0m\u001b[37m\u001b[0m \u001b[1m0s\u001b[0m 35ms/step - loss: 1.0744 - mape: 24.9846 - r2_score: -2.3816 - val_loss: 0.7978 - val_mape: 17.9093 - val_r2_score: -0.7899\n",
      "Epoch 70/250\n",
      "\u001b[1m5/5\u001b[0m \u001b[32m━━━━━━━━━━━━━━━━━━━━\u001b[0m\u001b[37m\u001b[0m \u001b[1m0s\u001b[0m 33ms/step - loss: 0.7532 - mape: 16.9733 - r2_score: -0.6303 - val_loss: 1.0979 - val_mape: 23.6160 - val_r2_score: -2.3881\n",
      "Epoch 71/250\n",
      "\u001b[1m5/5\u001b[0m \u001b[32m━━━━━━━━━━━━━━━━━━━━\u001b[0m\u001b[37m\u001b[0m \u001b[1m0s\u001b[0m 34ms/step - loss: 0.6513 - mape: 13.6137 - r2_score: -0.3934 - val_loss: 1.0120 - val_mape: 21.6801 - val_r2_score: -1.7454\n",
      "Epoch 72/250\n",
      "\u001b[1m5/5\u001b[0m \u001b[32m━━━━━━━━━━━━━━━━━━━━\u001b[0m\u001b[37m\u001b[0m \u001b[1m0s\u001b[0m 34ms/step - loss: 0.6237 - mape: 13.3243 - r2_score: -0.2671 - val_loss: 0.7859 - val_mape: 16.6097 - val_r2_score: -0.5190\n",
      "Epoch 73/250\n",
      "\u001b[1m5/5\u001b[0m \u001b[32m━━━━━━━━━━━━━━━━━━━━\u001b[0m\u001b[37m\u001b[0m \u001b[1m0s\u001b[0m 35ms/step - loss: 0.7240 - mape: 15.0859 - r2_score: -0.2236 - val_loss: 0.7093 - val_mape: 15.0029 - val_r2_score: -0.2436\n",
      "Epoch 74/250\n",
      "\u001b[1m5/5\u001b[0m \u001b[32m━━━━━━━━━━━━━━━━━━━━\u001b[0m\u001b[37m\u001b[0m \u001b[1m0s\u001b[0m 35ms/step - loss: 0.6320 - mape: 13.1794 - r2_score: -0.1928 - val_loss: 0.8992 - val_mape: 18.9819 - val_r2_score: -1.0743\n",
      "Epoch 75/250\n",
      "\u001b[1m5/5\u001b[0m \u001b[32m━━━━━━━━━━━━━━━━━━━━\u001b[0m\u001b[37m\u001b[0m \u001b[1m0s\u001b[0m 31ms/step - loss: 0.9110 - mape: 19.2427 - r2_score: -1.5915 - val_loss: 0.9446 - val_mape: 20.2372 - val_r2_score: -1.6374\n",
      "Epoch 76/250\n",
      "\u001b[1m5/5\u001b[0m \u001b[32m━━━━━━━━━━━━━━━━━━━━\u001b[0m\u001b[37m\u001b[0m \u001b[1m0s\u001b[0m 38ms/step - loss: 0.6286 - mape: 13.4776 - r2_score: -0.0789 - val_loss: 0.8105 - val_mape: 18.0313 - val_r2_score: -0.7136\n",
      "Epoch 77/250\n",
      "\u001b[1m5/5\u001b[0m \u001b[32m━━━━━━━━━━━━━━━━━━━━\u001b[0m\u001b[37m\u001b[0m \u001b[1m0s\u001b[0m 40ms/step - loss: 0.6862 - mape: 15.1845 - r2_score: -0.1786 - val_loss: 0.7648 - val_mape: 17.3661 - val_r2_score: -0.6892\n",
      "Epoch 78/250\n",
      "\u001b[1m5/5\u001b[0m \u001b[32m━━━━━━━━━━━━━━━━━━━━\u001b[0m\u001b[37m\u001b[0m \u001b[1m0s\u001b[0m 37ms/step - loss: 0.6439 - mape: 14.0034 - r2_score: 0.0315 - val_loss: 0.7612 - val_mape: 16.3712 - val_r2_score: -0.6674\n",
      "Epoch 79/250\n",
      "\u001b[1m5/5\u001b[0m \u001b[32m━━━━━━━━━━━━━━━━━━━━\u001b[0m\u001b[37m\u001b[0m \u001b[1m0s\u001b[0m 37ms/step - loss: 0.5259 - mape: 11.7342 - r2_score: 0.1387 - val_loss: 0.8934 - val_mape: 19.1903 - val_r2_score: -1.4966\n",
      "Epoch 80/250\n",
      "\u001b[1m5/5\u001b[0m \u001b[32m━━━━━━━━━━━━━━━━━━━━\u001b[0m\u001b[37m\u001b[0m \u001b[1m0s\u001b[0m 37ms/step - loss: 0.5828 - mape: 12.3884 - r2_score: 0.0828 - val_loss: 0.8382 - val_mape: 19.0444 - val_r2_score: -1.1191\n",
      "Epoch 81/250\n",
      "\u001b[1m5/5\u001b[0m \u001b[32m━━━━━━━━━━━━━━━━━━━━\u001b[0m\u001b[37m\u001b[0m \u001b[1m0s\u001b[0m 34ms/step - loss: 0.6443 - mape: 14.0585 - r2_score: -0.2420 - val_loss: 0.7269 - val_mape: 16.7136 - val_r2_score: -0.6717\n",
      "Epoch 82/250\n",
      "\u001b[1m5/5\u001b[0m \u001b[32m━━━━━━━━━━━━━━━━━━━━\u001b[0m\u001b[37m\u001b[0m \u001b[1m0s\u001b[0m 44ms/step - loss: 0.6295 - mape: 14.4439 - r2_score: -0.1983 - val_loss: 0.7024 - val_mape: 14.8943 - val_r2_score: -0.3251\n",
      "Epoch 83/250\n",
      "\u001b[1m5/5\u001b[0m \u001b[32m━━━━━━━━━━━━━━━━━━━━\u001b[0m\u001b[37m\u001b[0m \u001b[1m0s\u001b[0m 34ms/step - loss: 0.6991 - mape: 14.8900 - r2_score: -0.2894 - val_loss: 0.7577 - val_mape: 16.1116 - val_r2_score: -0.4434\n",
      "Epoch 84/250\n",
      "\u001b[1m5/5\u001b[0m \u001b[32m━━━━━━━━━━━━━━━━━━━━\u001b[0m\u001b[37m\u001b[0m \u001b[1m0s\u001b[0m 38ms/step - loss: 0.5250 - mape: 11.0177 - r2_score: 0.1884 - val_loss: 0.7745 - val_mape: 17.4478 - val_r2_score: -0.7740\n",
      "Epoch 85/250\n",
      "\u001b[1m5/5\u001b[0m \u001b[32m━━━━━━━━━━━━━━━━━━━━\u001b[0m\u001b[37m\u001b[0m \u001b[1m0s\u001b[0m 32ms/step - loss: 0.5539 - mape: 12.1686 - r2_score: 0.1578 - val_loss: 0.8494 - val_mape: 19.1265 - val_r2_score: -1.0577\n",
      "Epoch 86/250\n",
      "\u001b[1m5/5\u001b[0m \u001b[32m━━━━━━━━━━━━━━━━━━━━\u001b[0m\u001b[37m\u001b[0m \u001b[1m0s\u001b[0m 34ms/step - loss: 0.5247 - mape: 11.2828 - r2_score: 0.2174 - val_loss: 0.8285 - val_mape: 17.8185 - val_r2_score: -0.6997\n",
      "Epoch 87/250\n",
      "\u001b[1m5/5\u001b[0m \u001b[32m━━━━━━━━━━━━━━━━━━━━\u001b[0m\u001b[37m\u001b[0m \u001b[1m0s\u001b[0m 35ms/step - loss: 0.6965 - mape: 15.0371 - r2_score: -0.5579 - val_loss: 0.7330 - val_mape: 15.8972 - val_r2_score: -0.4281\n",
      "Epoch 88/250\n",
      "\u001b[1m5/5\u001b[0m \u001b[32m━━━━━━━━━━━━━━━━━━━━\u001b[0m\u001b[37m\u001b[0m \u001b[1m0s\u001b[0m 35ms/step - loss: 0.4701 - mape: 10.3689 - r2_score: 0.3679 - val_loss: 0.7322 - val_mape: 16.5065 - val_r2_score: -0.5072\n",
      "Epoch 89/250\n",
      "\u001b[1m5/5\u001b[0m \u001b[32m━━━━━━━━━━━━━━━━━━━━\u001b[0m\u001b[37m\u001b[0m \u001b[1m0s\u001b[0m 34ms/step - loss: 0.4741 - mape: 10.1978 - r2_score: 0.4152 - val_loss: 0.6520 - val_mape: 15.2787 - val_r2_score: -0.4412\n",
      "Epoch 90/250\n",
      "\u001b[1m5/5\u001b[0m \u001b[32m━━━━━━━━━━━━━━━━━━━━\u001b[0m\u001b[37m\u001b[0m \u001b[1m0s\u001b[0m 37ms/step - loss: 0.5274 - mape: 11.6818 - r2_score: 0.0946 - val_loss: 0.6682 - val_mape: 15.0997 - val_r2_score: -0.2983\n",
      "Epoch 91/250\n",
      "\u001b[1m5/5\u001b[0m \u001b[32m━━━━━━━━━━━━━━━━━━━━\u001b[0m\u001b[37m\u001b[0m \u001b[1m0s\u001b[0m 37ms/step - loss: 0.6707 - mape: 15.3907 - r2_score: -0.5441 - val_loss: 0.7365 - val_mape: 16.7115 - val_r2_score: -0.5607\n",
      "Epoch 92/250\n",
      "\u001b[1m5/5\u001b[0m \u001b[32m━━━━━━━━━━━━━━━━━━━━\u001b[0m\u001b[37m\u001b[0m \u001b[1m0s\u001b[0m 39ms/step - loss: 0.6621 - mape: 14.6715 - r2_score: -0.3825 - val_loss: 0.7643 - val_mape: 17.1354 - val_r2_score: -0.5903\n",
      "Epoch 93/250\n",
      "\u001b[1m5/5\u001b[0m \u001b[32m━━━━━━━━━━━━━━━━━━━━\u001b[0m\u001b[37m\u001b[0m \u001b[1m0s\u001b[0m 34ms/step - loss: 0.4067 - mape: 8.8110 - r2_score: 0.4938 - val_loss: 0.8024 - val_mape: 17.4662 - val_r2_score: -0.7462\n",
      "Epoch 94/250\n",
      "\u001b[1m5/5\u001b[0m \u001b[32m━━━━━━━━━━━━━━━━━━━━\u001b[0m\u001b[37m\u001b[0m \u001b[1m0s\u001b[0m 52ms/step - loss: 0.5821 - mape: 13.2144 - r2_score: -0.0014 - val_loss: 0.6550 - val_mape: 14.3805 - val_r2_score: -0.2622\n",
      "Epoch 95/250\n",
      "\u001b[1m5/5\u001b[0m \u001b[32m━━━━━━━━━━━━━━━━━━━━\u001b[0m\u001b[37m\u001b[0m \u001b[1m0s\u001b[0m 40ms/step - loss: 0.5347 - mape: 11.1926 - r2_score: 0.1424 - val_loss: 0.6996 - val_mape: 16.0432 - val_r2_score: -0.5349\n",
      "Epoch 96/250\n",
      "\u001b[1m5/5\u001b[0m \u001b[32m━━━━━━━━━━━━━━━━━━━━\u001b[0m\u001b[37m\u001b[0m \u001b[1m0s\u001b[0m 40ms/step - loss: 0.4595 - mape: 10.2850 - r2_score: 0.3463 - val_loss: 0.6748 - val_mape: 15.5686 - val_r2_score: -0.4680\n",
      "Epoch 97/250\n",
      "\u001b[1m5/5\u001b[0m \u001b[32m━━━━━━━━━━━━━━━━━━━━\u001b[0m\u001b[37m\u001b[0m \u001b[1m0s\u001b[0m 38ms/step - loss: 0.5522 - mape: 12.4031 - r2_score: 0.2239 - val_loss: 0.7023 - val_mape: 15.6680 - val_r2_score: -0.4849\n",
      "Epoch 98/250\n",
      "\u001b[1m5/5\u001b[0m \u001b[32m━━━━━━━━━━━━━━━━━━━━\u001b[0m\u001b[37m\u001b[0m \u001b[1m0s\u001b[0m 33ms/step - loss: 0.4875 - mape: 10.5516 - r2_score: 0.3424 - val_loss: 0.8438 - val_mape: 18.0363 - val_r2_score: -0.9686\n",
      "Epoch 99/250\n",
      "\u001b[1m5/5\u001b[0m \u001b[32m━━━━━━━━━━━━━━━━━━━━\u001b[0m\u001b[37m\u001b[0m \u001b[1m0s\u001b[0m 38ms/step - loss: 0.6663 - mape: 14.4734 - r2_score: -0.3629 - val_loss: 0.9931 - val_mape: 21.5124 - val_r2_score: -1.8189\n",
      "Epoch 100/250\n",
      "\u001b[1m5/5\u001b[0m \u001b[32m━━━━━━━━━━━━━━━━━━━━\u001b[0m\u001b[37m\u001b[0m \u001b[1m0s\u001b[0m 41ms/step - loss: 0.5598 - mape: 12.4154 - r2_score: 0.1375 - val_loss: 0.9718 - val_mape: 21.3942 - val_r2_score: -1.6216\n",
      "Epoch 101/250\n",
      "\u001b[1m5/5\u001b[0m \u001b[32m━━━━━━━━━━━━━━━━━━━━\u001b[0m\u001b[37m\u001b[0m \u001b[1m0s\u001b[0m 33ms/step - loss: 0.6426 - mape: 13.9092 - r2_score: -0.3756 - val_loss: 0.7850 - val_mape: 17.4523 - val_r2_score: -0.8460\n",
      "Epoch 102/250\n",
      "\u001b[1m5/5\u001b[0m \u001b[32m━━━━━━━━━━━━━━━━━━━━\u001b[0m\u001b[37m\u001b[0m \u001b[1m0s\u001b[0m 35ms/step - loss: 0.5600 - mape: 11.8877 - r2_score: 0.0140 - val_loss: 0.6511 - val_mape: 14.7103 - val_r2_score: -0.2036\n",
      "Epoch 103/250\n",
      "\u001b[1m5/5\u001b[0m \u001b[32m━━━━━━━━━━━━━━━━━━━━\u001b[0m\u001b[37m\u001b[0m \u001b[1m0s\u001b[0m 47ms/step - loss: 0.5463 - mape: 11.7946 - r2_score: 0.1562 - val_loss: 0.5751 - val_mape: 12.7689 - val_r2_score: 0.0507\n",
      "Epoch 104/250\n",
      "\u001b[1m5/5\u001b[0m \u001b[32m━━━━━━━━━━━━━━━━━━━━\u001b[0m\u001b[37m\u001b[0m \u001b[1m0s\u001b[0m 57ms/step - loss: 0.6432 - mape: 14.3227 - r2_score: 0.0850 - val_loss: 0.5021 - val_mape: 11.4825 - val_r2_score: 0.0912\n",
      "Epoch 105/250\n",
      "\u001b[1m5/5\u001b[0m \u001b[32m━━━━━━━━━━━━━━━━━━━━\u001b[0m\u001b[37m\u001b[0m \u001b[1m0s\u001b[0m 40ms/step - loss: 0.5198 - mape: 11.3138 - r2_score: 0.4133 - val_loss: 0.7420 - val_mape: 17.0538 - val_r2_score: -0.6230\n",
      "Epoch 106/250\n",
      "\u001b[1m5/5\u001b[0m \u001b[32m━━━━━━━━━━━━━━━━━━━━\u001b[0m\u001b[37m\u001b[0m \u001b[1m0s\u001b[0m 42ms/step - loss: 0.6331 - mape: 13.4280 - r2_score: -0.5414 - val_loss: 0.5256 - val_mape: 11.5019 - val_r2_score: 0.0193\n",
      "Epoch 107/250\n",
      "\u001b[1m5/5\u001b[0m \u001b[32m━━━━━━━━━━━━━━━━━━━━\u001b[0m\u001b[37m\u001b[0m \u001b[1m0s\u001b[0m 35ms/step - loss: 0.6253 - mape: 13.5888 - r2_score: 0.0175 - val_loss: 0.6983 - val_mape: 15.2484 - val_r2_score: -0.2563\n",
      "Epoch 108/250\n",
      "\u001b[1m5/5\u001b[0m \u001b[32m━━━━━━━━━━━━━━━━━━━━\u001b[0m\u001b[37m\u001b[0m \u001b[1m0s\u001b[0m 45ms/step - loss: 0.6428 - mape: 14.5697 - r2_score: -0.2662 - val_loss: 0.5907 - val_mape: 13.0278 - val_r2_score: -0.1345\n",
      "Epoch 109/250\n",
      "\u001b[1m5/5\u001b[0m \u001b[32m━━━━━━━━━━━━━━━━━━━━\u001b[0m\u001b[37m\u001b[0m \u001b[1m0s\u001b[0m 36ms/step - loss: 0.6760 - mape: 14.4915 - r2_score: -0.1958 - val_loss: 0.5407 - val_mape: 12.1125 - val_r2_score: -0.0473\n",
      "Epoch 110/250\n",
      "\u001b[1m5/5\u001b[0m \u001b[32m━━━━━━━━━━━━━━━━━━━━\u001b[0m\u001b[37m\u001b[0m \u001b[1m0s\u001b[0m 35ms/step - loss: 0.4787 - mape: 10.4998 - r2_score: 0.3098 - val_loss: 0.6657 - val_mape: 14.9856 - val_r2_score: -0.4393\n",
      "Epoch 111/250\n",
      "\u001b[1m5/5\u001b[0m \u001b[32m━━━━━━━━━━━━━━━━━━━━\u001b[0m\u001b[37m\u001b[0m \u001b[1m0s\u001b[0m 40ms/step - loss: 0.5401 - mape: 12.3399 - r2_score: 0.3002 - val_loss: 0.7321 - val_mape: 16.4947 - val_r2_score: -0.7224\n",
      "Epoch 112/250\n",
      "\u001b[1m5/5\u001b[0m \u001b[32m━━━━━━━━━━━━━━━━━━━━\u001b[0m\u001b[37m\u001b[0m \u001b[1m0s\u001b[0m 31ms/step - loss: 0.6214 - mape: 13.0345 - r2_score: -0.0879 - val_loss: 0.6563 - val_mape: 14.3638 - val_r2_score: -0.3633\n",
      "Epoch 113/250\n",
      "\u001b[1m5/5\u001b[0m \u001b[32m━━━━━━━━━━━━━━━━━━━━\u001b[0m\u001b[37m\u001b[0m \u001b[1m0s\u001b[0m 54ms/step - loss: 0.5581 - mape: 12.3377 - r2_score: 0.0978 - val_loss: 0.5194 - val_mape: 11.2491 - val_r2_score: 0.0187\n",
      "Epoch 114/250\n",
      "\u001b[1m5/5\u001b[0m \u001b[32m━━━━━━━━━━━━━━━━━━━━\u001b[0m\u001b[37m\u001b[0m \u001b[1m0s\u001b[0m 39ms/step - loss: 0.6177 - mape: 14.1160 - r2_score: 0.1439 - val_loss: 0.5602 - val_mape: 12.7241 - val_r2_score: -0.0586\n",
      "Epoch 115/250\n",
      "\u001b[1m5/5\u001b[0m \u001b[32m━━━━━━━━━━━━━━━━━━━━\u001b[0m\u001b[37m\u001b[0m \u001b[1m0s\u001b[0m 36ms/step - loss: 0.5045 - mape: 11.1323 - r2_score: 0.3197 - val_loss: 0.6465 - val_mape: 14.7095 - val_r2_score: -0.2933\n",
      "Epoch 116/250\n",
      "\u001b[1m5/5\u001b[0m \u001b[32m━━━━━━━━━━━━━━━━━━━━\u001b[0m\u001b[37m\u001b[0m \u001b[1m0s\u001b[0m 37ms/step - loss: 0.6242 - mape: 13.5079 - r2_score: -0.1631 - val_loss: 0.5318 - val_mape: 11.9254 - val_r2_score: 0.0215\n",
      "Epoch 117/250\n",
      "\u001b[1m5/5\u001b[0m \u001b[32m━━━━━━━━━━━━━━━━━━━━\u001b[0m\u001b[37m\u001b[0m \u001b[1m0s\u001b[0m 33ms/step - loss: 0.5094 - mape: 10.2733 - r2_score: 0.2179 - val_loss: 0.5731 - val_mape: 12.7928 - val_r2_score: -0.0809\n",
      "Epoch 118/250\n",
      "\u001b[1m5/5\u001b[0m \u001b[32m━━━━━━━━━━━━━━━━━━━━\u001b[0m\u001b[37m\u001b[0m \u001b[1m0s\u001b[0m 38ms/step - loss: 0.6646 - mape: 14.1440 - r2_score: -0.5443 - val_loss: 0.7055 - val_mape: 15.9004 - val_r2_score: -0.4754\n",
      "Epoch 119/250\n",
      "\u001b[1m5/5\u001b[0m \u001b[32m━━━━━━━━━━━━━━━━━━━━\u001b[0m\u001b[37m\u001b[0m \u001b[1m0s\u001b[0m 38ms/step - loss: 0.6059 - mape: 13.8402 - r2_score: 0.0381 - val_loss: 0.8011 - val_mape: 17.9081 - val_r2_score: -0.8509\n",
      "Epoch 120/250\n",
      "\u001b[1m5/5\u001b[0m \u001b[32m━━━━━━━━━━━━━━━━━━━━\u001b[0m\u001b[37m\u001b[0m \u001b[1m0s\u001b[0m 47ms/step - loss: 0.5972 - mape: 13.2590 - r2_score: 0.0311 - val_loss: 0.7479 - val_mape: 16.4156 - val_r2_score: -0.6239\n",
      "Epoch 121/250\n",
      "\u001b[1m5/5\u001b[0m \u001b[32m━━━━━━━━━━━━━━━━━━━━\u001b[0m\u001b[37m\u001b[0m \u001b[1m0s\u001b[0m 43ms/step - loss: 0.6058 - mape: 12.5404 - r2_score: -0.0582 - val_loss: 0.5317 - val_mape: 11.5113 - val_r2_score: -0.0233\n",
      "Epoch 122/250\n",
      "\u001b[1m5/5\u001b[0m \u001b[32m━━━━━━━━━━━━━━━━━━━━\u001b[0m\u001b[37m\u001b[0m \u001b[1m0s\u001b[0m 39ms/step - loss: 0.4978 - mape: 10.4476 - r2_score: 0.1813 - val_loss: 0.5714 - val_mape: 12.9434 - val_r2_score: 0.0148\n",
      "Epoch 123/250\n",
      "\u001b[1m5/5\u001b[0m \u001b[32m━━━━━━━━━━━━━━━━━━━━\u001b[0m\u001b[37m\u001b[0m \u001b[1m0s\u001b[0m 37ms/step - loss: 0.4567 - mape: 9.6795 - r2_score: 0.3667 - val_loss: 0.5662 - val_mape: 12.7226 - val_r2_score: -0.1860\n",
      "Epoch 124/250\n",
      "\u001b[1m5/5\u001b[0m \u001b[32m━━━━━━━━━━━━━━━━━━━━\u001b[0m\u001b[37m\u001b[0m \u001b[1m0s\u001b[0m 38ms/step - loss: 0.5211 - mape: 10.6592 - r2_score: 0.1274 - val_loss: 0.6024 - val_mape: 13.8092 - val_r2_score: -0.2913\n",
      "Epoch 125/250\n",
      "\u001b[1m5/5\u001b[0m \u001b[32m━━━━━━━━━━━━━━━━━━━━\u001b[0m\u001b[37m\u001b[0m \u001b[1m0s\u001b[0m 56ms/step - loss: 0.5746 - mape: 12.6721 - r2_score: 0.0316 - val_loss: 0.4738 - val_mape: 10.6539 - val_r2_score: 0.0930\n",
      "Epoch 126/250\n",
      "\u001b[1m5/5\u001b[0m \u001b[32m━━━━━━━━━━━━━━━━━━━━\u001b[0m\u001b[37m\u001b[0m \u001b[1m0s\u001b[0m 37ms/step - loss: 0.4595 - mape: 10.1046 - r2_score: 0.3366 - val_loss: 0.6001 - val_mape: 13.5801 - val_r2_score: -0.2161\n",
      "Epoch 127/250\n"
     ]
    },
    {
     "ename": "KeyboardInterrupt",
     "evalue": "",
     "output_type": "error",
     "traceback": [
      "\u001b[0;31m---------------------------------------------------------------------------\u001b[0m",
      "\u001b[0;31mKeyboardInterrupt\u001b[0m                         Traceback (most recent call last)",
      "Cell \u001b[0;32mIn[30], line 1\u001b[0m\n\u001b[0;32m----> 1\u001b[0m \u001b[43mtuner\u001b[49m\u001b[38;5;241;43m.\u001b[39;49m\u001b[43msearch\u001b[49m\u001b[43m(\u001b[49m\u001b[43mx_train\u001b[49m\u001b[43m,\u001b[49m\u001b[43m \u001b[49m\u001b[43my_train\u001b[49m\u001b[43m,\u001b[49m\u001b[43m \u001b[49m\u001b[43mepochs\u001b[49m\u001b[38;5;241;43m=\u001b[39;49m\u001b[38;5;241;43m250\u001b[39;49m\u001b[43m,\u001b[49m\u001b[43m \u001b[49m\u001b[43mvalidation_data\u001b[49m\u001b[38;5;241;43m=\u001b[39;49m\u001b[43m(\u001b[49m\u001b[43mx_test\u001b[49m\u001b[43m,\u001b[49m\u001b[43m \u001b[49m\u001b[43my_test\u001b[49m\u001b[43m)\u001b[49m\u001b[43m,\u001b[49m\u001b[43m \u001b[49m\u001b[43mbatch_size\u001b[49m\u001b[38;5;241;43m=\u001b[39;49m\u001b[38;5;241;43m12\u001b[39;49m\u001b[43m)\u001b[49m\n",
      "File \u001b[0;32m~/miniconda3/envs/farma/lib/python3.9/site-packages/keras_tuner/src/engine/base_tuner.py:234\u001b[0m, in \u001b[0;36mBaseTuner.search\u001b[0;34m(self, *fit_args, **fit_kwargs)\u001b[0m\n\u001b[1;32m    231\u001b[0m         \u001b[38;5;28;01mcontinue\u001b[39;00m\n\u001b[1;32m    233\u001b[0m     \u001b[38;5;28mself\u001b[39m\u001b[38;5;241m.\u001b[39mon_trial_begin(trial)\n\u001b[0;32m--> 234\u001b[0m     \u001b[38;5;28;43mself\u001b[39;49m\u001b[38;5;241;43m.\u001b[39;49m\u001b[43m_try_run_and_update_trial\u001b[49m\u001b[43m(\u001b[49m\u001b[43mtrial\u001b[49m\u001b[43m,\u001b[49m\u001b[43m \u001b[49m\u001b[38;5;241;43m*\u001b[39;49m\u001b[43mfit_args\u001b[49m\u001b[43m,\u001b[49m\u001b[43m \u001b[49m\u001b[38;5;241;43m*\u001b[39;49m\u001b[38;5;241;43m*\u001b[39;49m\u001b[43mfit_kwargs\u001b[49m\u001b[43m)\u001b[49m\n\u001b[1;32m    235\u001b[0m     \u001b[38;5;28mself\u001b[39m\u001b[38;5;241m.\u001b[39mon_trial_end(trial)\n\u001b[1;32m    236\u001b[0m \u001b[38;5;28mself\u001b[39m\u001b[38;5;241m.\u001b[39mon_search_end()\n",
      "File \u001b[0;32m~/miniconda3/envs/farma/lib/python3.9/site-packages/keras_tuner/src/engine/base_tuner.py:274\u001b[0m, in \u001b[0;36mBaseTuner._try_run_and_update_trial\u001b[0;34m(self, trial, *fit_args, **fit_kwargs)\u001b[0m\n\u001b[1;32m    272\u001b[0m \u001b[38;5;28;01mdef\u001b[39;00m\u001b[38;5;250m \u001b[39m\u001b[38;5;21m_try_run_and_update_trial\u001b[39m(\u001b[38;5;28mself\u001b[39m, trial, \u001b[38;5;241m*\u001b[39mfit_args, \u001b[38;5;241m*\u001b[39m\u001b[38;5;241m*\u001b[39mfit_kwargs):\n\u001b[1;32m    273\u001b[0m     \u001b[38;5;28;01mtry\u001b[39;00m:\n\u001b[0;32m--> 274\u001b[0m         \u001b[38;5;28;43mself\u001b[39;49m\u001b[38;5;241;43m.\u001b[39;49m\u001b[43m_run_and_update_trial\u001b[49m\u001b[43m(\u001b[49m\u001b[43mtrial\u001b[49m\u001b[43m,\u001b[49m\u001b[43m \u001b[49m\u001b[38;5;241;43m*\u001b[39;49m\u001b[43mfit_args\u001b[49m\u001b[43m,\u001b[49m\u001b[43m \u001b[49m\u001b[38;5;241;43m*\u001b[39;49m\u001b[38;5;241;43m*\u001b[39;49m\u001b[43mfit_kwargs\u001b[49m\u001b[43m)\u001b[49m\n\u001b[1;32m    275\u001b[0m         trial\u001b[38;5;241m.\u001b[39mstatus \u001b[38;5;241m=\u001b[39m trial_module\u001b[38;5;241m.\u001b[39mTrialStatus\u001b[38;5;241m.\u001b[39mCOMPLETED\n\u001b[1;32m    276\u001b[0m         \u001b[38;5;28;01mreturn\u001b[39;00m\n",
      "File \u001b[0;32m~/miniconda3/envs/farma/lib/python3.9/site-packages/keras_tuner/src/engine/base_tuner.py:239\u001b[0m, in \u001b[0;36mBaseTuner._run_and_update_trial\u001b[0;34m(self, trial, *fit_args, **fit_kwargs)\u001b[0m\n\u001b[1;32m    238\u001b[0m \u001b[38;5;28;01mdef\u001b[39;00m\u001b[38;5;250m \u001b[39m\u001b[38;5;21m_run_and_update_trial\u001b[39m(\u001b[38;5;28mself\u001b[39m, trial, \u001b[38;5;241m*\u001b[39mfit_args, \u001b[38;5;241m*\u001b[39m\u001b[38;5;241m*\u001b[39mfit_kwargs):\n\u001b[0;32m--> 239\u001b[0m     results \u001b[38;5;241m=\u001b[39m \u001b[38;5;28;43mself\u001b[39;49m\u001b[38;5;241;43m.\u001b[39;49m\u001b[43mrun_trial\u001b[49m\u001b[43m(\u001b[49m\u001b[43mtrial\u001b[49m\u001b[43m,\u001b[49m\u001b[43m \u001b[49m\u001b[38;5;241;43m*\u001b[39;49m\u001b[43mfit_args\u001b[49m\u001b[43m,\u001b[49m\u001b[43m \u001b[49m\u001b[38;5;241;43m*\u001b[39;49m\u001b[38;5;241;43m*\u001b[39;49m\u001b[43mfit_kwargs\u001b[49m\u001b[43m)\u001b[49m\n\u001b[1;32m    240\u001b[0m     \u001b[38;5;28;01mif\u001b[39;00m \u001b[38;5;28mself\u001b[39m\u001b[38;5;241m.\u001b[39moracle\u001b[38;5;241m.\u001b[39mget_trial(trial\u001b[38;5;241m.\u001b[39mtrial_id)\u001b[38;5;241m.\u001b[39mmetrics\u001b[38;5;241m.\u001b[39mexists(\n\u001b[1;32m    241\u001b[0m         \u001b[38;5;28mself\u001b[39m\u001b[38;5;241m.\u001b[39moracle\u001b[38;5;241m.\u001b[39mobjective\u001b[38;5;241m.\u001b[39mname\n\u001b[1;32m    242\u001b[0m     ):\n\u001b[1;32m    243\u001b[0m         \u001b[38;5;66;03m# The oracle is updated by calling `self.oracle.update_trial()` in\u001b[39;00m\n\u001b[1;32m    244\u001b[0m         \u001b[38;5;66;03m# `Tuner.run_trial()`. For backward compatibility, we support this\u001b[39;00m\n\u001b[1;32m    245\u001b[0m         \u001b[38;5;66;03m# use case. No further action needed in this case.\u001b[39;00m\n\u001b[1;32m    246\u001b[0m         warnings\u001b[38;5;241m.\u001b[39mwarn(\n\u001b[1;32m    247\u001b[0m             \u001b[38;5;124m\"\u001b[39m\u001b[38;5;124mThe use case of calling \u001b[39m\u001b[38;5;124m\"\u001b[39m\n\u001b[1;32m    248\u001b[0m             \u001b[38;5;124m\"\u001b[39m\u001b[38;5;124m`self.oracle.update_trial(trial_id, metrics)` \u001b[39m\u001b[38;5;124m\"\u001b[39m\n\u001b[0;32m   (...)\u001b[0m\n\u001b[1;32m    254\u001b[0m             stacklevel\u001b[38;5;241m=\u001b[39m\u001b[38;5;241m2\u001b[39m,\n\u001b[1;32m    255\u001b[0m         )\n",
      "File \u001b[0;32m~/miniconda3/envs/farma/lib/python3.9/site-packages/keras_tuner/src/engine/tuner.py:314\u001b[0m, in \u001b[0;36mTuner.run_trial\u001b[0;34m(self, trial, *args, **kwargs)\u001b[0m\n\u001b[1;32m    312\u001b[0m     callbacks\u001b[38;5;241m.\u001b[39mappend(model_checkpoint)\n\u001b[1;32m    313\u001b[0m     copied_kwargs[\u001b[38;5;124m\"\u001b[39m\u001b[38;5;124mcallbacks\u001b[39m\u001b[38;5;124m\"\u001b[39m] \u001b[38;5;241m=\u001b[39m callbacks\n\u001b[0;32m--> 314\u001b[0m     obj_value \u001b[38;5;241m=\u001b[39m \u001b[38;5;28;43mself\u001b[39;49m\u001b[38;5;241;43m.\u001b[39;49m\u001b[43m_build_and_fit_model\u001b[49m\u001b[43m(\u001b[49m\u001b[43mtrial\u001b[49m\u001b[43m,\u001b[49m\u001b[43m \u001b[49m\u001b[38;5;241;43m*\u001b[39;49m\u001b[43margs\u001b[49m\u001b[43m,\u001b[49m\u001b[43m \u001b[49m\u001b[38;5;241;43m*\u001b[39;49m\u001b[38;5;241;43m*\u001b[39;49m\u001b[43mcopied_kwargs\u001b[49m\u001b[43m)\u001b[49m\n\u001b[1;32m    316\u001b[0m     histories\u001b[38;5;241m.\u001b[39mappend(obj_value)\n\u001b[1;32m    317\u001b[0m \u001b[38;5;28;01mreturn\u001b[39;00m histories\n",
      "File \u001b[0;32m~/miniconda3/envs/farma/lib/python3.9/site-packages/keras_tuner/src/engine/tuner.py:233\u001b[0m, in \u001b[0;36mTuner._build_and_fit_model\u001b[0;34m(self, trial, *args, **kwargs)\u001b[0m\n\u001b[1;32m    231\u001b[0m hp \u001b[38;5;241m=\u001b[39m trial\u001b[38;5;241m.\u001b[39mhyperparameters\n\u001b[1;32m    232\u001b[0m model \u001b[38;5;241m=\u001b[39m \u001b[38;5;28mself\u001b[39m\u001b[38;5;241m.\u001b[39m_try_build(hp)\n\u001b[0;32m--> 233\u001b[0m results \u001b[38;5;241m=\u001b[39m \u001b[38;5;28;43mself\u001b[39;49m\u001b[38;5;241;43m.\u001b[39;49m\u001b[43mhypermodel\u001b[49m\u001b[38;5;241;43m.\u001b[39;49m\u001b[43mfit\u001b[49m\u001b[43m(\u001b[49m\u001b[43mhp\u001b[49m\u001b[43m,\u001b[49m\u001b[43m \u001b[49m\u001b[43mmodel\u001b[49m\u001b[43m,\u001b[49m\u001b[43m \u001b[49m\u001b[38;5;241;43m*\u001b[39;49m\u001b[43margs\u001b[49m\u001b[43m,\u001b[49m\u001b[43m \u001b[49m\u001b[38;5;241;43m*\u001b[39;49m\u001b[38;5;241;43m*\u001b[39;49m\u001b[43mkwargs\u001b[49m\u001b[43m)\u001b[49m\n\u001b[1;32m    235\u001b[0m \u001b[38;5;66;03m# Save the build config for model loading later.\u001b[39;00m\n\u001b[1;32m    236\u001b[0m \u001b[38;5;28;01mif\u001b[39;00m backend\u001b[38;5;241m.\u001b[39mconfig\u001b[38;5;241m.\u001b[39mmulti_backend():\n",
      "File \u001b[0;32m~/miniconda3/envs/farma/lib/python3.9/site-packages/keras_tuner/src/engine/hypermodel.py:149\u001b[0m, in \u001b[0;36mHyperModel.fit\u001b[0;34m(self, hp, model, *args, **kwargs)\u001b[0m\n\u001b[1;32m    125\u001b[0m \u001b[38;5;28;01mdef\u001b[39;00m\u001b[38;5;250m \u001b[39m\u001b[38;5;21mfit\u001b[39m(\u001b[38;5;28mself\u001b[39m, hp, model, \u001b[38;5;241m*\u001b[39margs, \u001b[38;5;241m*\u001b[39m\u001b[38;5;241m*\u001b[39mkwargs):\n\u001b[1;32m    126\u001b[0m \u001b[38;5;250m    \u001b[39m\u001b[38;5;124;03m\"\"\"Train the model.\u001b[39;00m\n\u001b[1;32m    127\u001b[0m \n\u001b[1;32m    128\u001b[0m \u001b[38;5;124;03m    Args:\u001b[39;00m\n\u001b[0;32m   (...)\u001b[0m\n\u001b[1;32m    147\u001b[0m \u001b[38;5;124;03m        If return a float, it should be the `objective` value.\u001b[39;00m\n\u001b[1;32m    148\u001b[0m \u001b[38;5;124;03m    \"\"\"\u001b[39;00m\n\u001b[0;32m--> 149\u001b[0m     \u001b[38;5;28;01mreturn\u001b[39;00m \u001b[43mmodel\u001b[49m\u001b[38;5;241;43m.\u001b[39;49m\u001b[43mfit\u001b[49m\u001b[43m(\u001b[49m\u001b[38;5;241;43m*\u001b[39;49m\u001b[43margs\u001b[49m\u001b[43m,\u001b[49m\u001b[43m \u001b[49m\u001b[38;5;241;43m*\u001b[39;49m\u001b[38;5;241;43m*\u001b[39;49m\u001b[43mkwargs\u001b[49m\u001b[43m)\u001b[49m\n",
      "File \u001b[0;32m~/miniconda3/envs/farma/lib/python3.9/site-packages/keras/src/utils/traceback_utils.py:117\u001b[0m, in \u001b[0;36mfilter_traceback.<locals>.error_handler\u001b[0;34m(*args, **kwargs)\u001b[0m\n\u001b[1;32m    115\u001b[0m filtered_tb \u001b[38;5;241m=\u001b[39m \u001b[38;5;28;01mNone\u001b[39;00m\n\u001b[1;32m    116\u001b[0m \u001b[38;5;28;01mtry\u001b[39;00m:\n\u001b[0;32m--> 117\u001b[0m     \u001b[38;5;28;01mreturn\u001b[39;00m \u001b[43mfn\u001b[49m\u001b[43m(\u001b[49m\u001b[38;5;241;43m*\u001b[39;49m\u001b[43margs\u001b[49m\u001b[43m,\u001b[49m\u001b[43m \u001b[49m\u001b[38;5;241;43m*\u001b[39;49m\u001b[38;5;241;43m*\u001b[39;49m\u001b[43mkwargs\u001b[49m\u001b[43m)\u001b[49m\n\u001b[1;32m    118\u001b[0m \u001b[38;5;28;01mexcept\u001b[39;00m \u001b[38;5;167;01mException\u001b[39;00m \u001b[38;5;28;01mas\u001b[39;00m e:\n\u001b[1;32m    119\u001b[0m     filtered_tb \u001b[38;5;241m=\u001b[39m _process_traceback_frames(e\u001b[38;5;241m.\u001b[39m__traceback__)\n",
      "File \u001b[0;32m~/miniconda3/envs/farma/lib/python3.9/site-packages/keras/src/backend/tensorflow/trainer.py:376\u001b[0m, in \u001b[0;36mTensorFlowTrainer.fit\u001b[0;34m(self, x, y, batch_size, epochs, verbose, callbacks, validation_split, validation_data, shuffle, class_weight, sample_weight, initial_epoch, steps_per_epoch, validation_steps, validation_batch_size, validation_freq)\u001b[0m\n\u001b[1;32m    374\u001b[0m \u001b[38;5;28;01mwith\u001b[39;00m epoch_iterator\u001b[38;5;241m.\u001b[39mcatch_stop_iteration():\n\u001b[1;32m    375\u001b[0m     \u001b[38;5;28;01mfor\u001b[39;00m step, iterator \u001b[38;5;129;01min\u001b[39;00m epoch_iterator:\n\u001b[0;32m--> 376\u001b[0m         \u001b[43mcallbacks\u001b[49m\u001b[38;5;241;43m.\u001b[39;49m\u001b[43mon_train_batch_begin\u001b[49m(step)\n\u001b[1;32m    377\u001b[0m         logs \u001b[38;5;241m=\u001b[39m \u001b[38;5;28mself\u001b[39m\u001b[38;5;241m.\u001b[39mtrain_function(iterator)\n\u001b[1;32m    378\u001b[0m         callbacks\u001b[38;5;241m.\u001b[39mon_train_batch_end(step, logs)\n",
      "\u001b[0;31mKeyboardInterrupt\u001b[0m: "
     ]
    }
   ],
   "source": [
    "tuner.search(x_train, y_train, epochs=250, validation_data=(x_test, y_test), batch_size=12)"
   ]
  },
  {
   "cell_type": "code",
   "execution_count": null,
   "metadata": {},
   "outputs": [],
   "source": [
    "file_path = os.path.join(final_path, 'best_models.txt')\n",
    "\n",
    "with open(file_path, \"w\") as file:\n",
    "    # Save the original stdout\n",
    "    original_stdout = sys.stdout\n",
    "    try:\n",
    "        sys.stdout = file  # Redirect stdout to the file\n",
    "        tuner.results_summary()  # Call your function\n",
    "    finally:\n",
    "        sys.stdout = original_stdout"
   ]
  },
  {
   "cell_type": "code",
   "execution_count": null,
   "metadata": {},
   "outputs": [],
   "source": []
  }
 ],
 "metadata": {
  "colab": {
   "authorship_tag": "ABX9TyPGnKoyfso1VK2rJhSn9brq",
   "mount_file_id": "1oAGWlf-SZH58jEakX1pZwdDPfXrMUo5n",
   "provenance": []
  },
  "kernelspec": {
   "display_name": "Python 3 (ipykernel)",
   "language": "python",
   "name": "python3"
  },
  "language_info": {
   "codemirror_mode": {
    "name": "ipython",
    "version": 3
   },
   "file_extension": ".py",
   "mimetype": "text/x-python",
   "name": "python",
   "nbconvert_exporter": "python",
   "pygments_lexer": "ipython3",
   "version": "3.9.23"
  }
 },
 "nbformat": 4,
 "nbformat_minor": 4
}
