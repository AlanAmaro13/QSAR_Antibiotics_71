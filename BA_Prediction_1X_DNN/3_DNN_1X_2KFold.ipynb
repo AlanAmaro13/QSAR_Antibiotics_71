{
 "cells": [
  {
   "cell_type": "markdown",
   "metadata": {
    "id": "H6Wue51yaxKv"
   },
   "source": [
    "# Dense Neural Networks"
   ]
  },
  {
   "cell_type": "markdown",
   "metadata": {
    "id": "rKzTG2kjZK65"
   },
   "source": [
    "Hello there!\n",
    "\n",
    "In the previous approach we have considered a linear estimation for the bio-activity. Our result presents an average $R^{2}=0.62$ and a MAPE of $7.19$ In this notebook, we present a new approach by the use of Deep Neural Networks, in this initial case we use only Dense Layers or a Feed Forward. The descriptors used are obtained by the use of Mutual Information (MI). We've first selected those descriptors with a higher mutual than $0.4$, where we've reduced the dimension from 1200 to just 99 descriptors.\n",
    "\n",
    "Then, we have selected from the 99 descriptors the one descriptor with the highest MI (piPC4) and have selected two variables that are independent among them. This means, the MI values among them is the lowest value possible."
   ]
  },
  {
   "cell_type": "markdown",
   "metadata": {
    "id": "s8_gew3AbzAj"
   },
   "source": [
    "## Mutual Information"
   ]
  },
  {
   "cell_type": "markdown",
   "metadata": {
    "id": "vmxe0Iu-cSj0"
   },
   "source": [
    "### **Mutual Information (MI) for Feature Selection**  \n",
    "**Mutual Information** measures the **statistical dependence** between two variables, capturing **both linear and nonlinear relationships**. Unlike Pearson correlation (which only detects linear trends), MI quantifies how much knowing one variable reduces uncertainty about the other.  \n",
    "\n",
    "#### **Mathematical Definition**  \n",
    "For two continuous variables \\( X \\) and \\( Y \\):  \n",
    "\n",
    "$\\text{MI}(X, Y) = \\iint p(x, y) \\log \\left( \\frac{p(x, y)}{p(x)p(y)} \\right) dx \\, dy$  \n",
    "where:  \n",
    "- $( p(x, y) )$ = joint probability density.  \n",
    "- $( p(x), p(y) )$ = marginal densities.  \n",
    "\n",
    "**Key Properties**:  \n",
    "- $MI (\\geq 0)$ (0 means independent).  \n",
    "- Higher MI = stronger dependency.  \n"
   ]
  },
  {
   "cell_type": "markdown",
   "metadata": {
    "id": "yJk4WF4CdnCZ"
   },
   "source": [
    "## Used libraries"
   ]
  },
  {
   "cell_type": "code",
   "execution_count": 1,
   "metadata": {},
   "outputs": [],
   "source": [
    "import os\n",
    "os.environ[\"CUDA_VISIBLE_DEVICES\"] = \"-1\""
   ]
  },
  {
   "cell_type": "code",
   "execution_count": 2,
   "metadata": {},
   "outputs": [],
   "source": [
    "colab = False"
   ]
  },
  {
   "cell_type": "code",
   "execution_count": 3,
   "metadata": {
    "executionInfo": {
     "elapsed": 13,
     "status": "ok",
     "timestamp": 1754806314489,
     "user": {
      "displayName": "Alan Gabriel Amaro Colin",
      "userId": "17298980579619170060"
     },
     "user_tz": 360
    },
    "id": "B2LFMr_RRg1B"
   },
   "outputs": [
    {
     "name": "stderr",
     "output_type": "stream",
     "text": [
      "2025-08-11 11:06:32.457581: I tensorflow/core/platform/cpu_feature_guard.cc:210] This TensorFlow binary is optimized to use available CPU instructions in performance-critical operations.\n",
      "To enable the following instructions: FMA, in other operations, rebuild TensorFlow with the appropriate compiler flags.\n",
      "2025-08-11 11:06:33.908415: W tensorflow/compiler/tf2tensorrt/utils/py_utils.cc:38] TF-TRT Warning: Could not find TensorRT\n",
      "/home/alan-amaro/miniconda3/envs/farma/lib/python3.9/site-packages/requests/__init__.py:86: RequestsDependencyWarning: Unable to find acceptable character detection dependency (chardet or charset_normalizer).\n",
      "  warnings.warn(\n"
     ]
    }
   ],
   "source": [
    "if colab: \n",
    "    import sys\n",
    "    sys.path.append('/content/drive/MyDrive/Colaboracion_Quimica/Main_Codes/AutoEncoders/AmaroX/AmaroX')\n",
    "    ! pip install python-telegram-bot\n",
    "\n",
    "    from ai_functions import *\n",
    "    from ai_models import *\n",
    "    from utilities import *\n",
    "    from data_manipulation import *\n",
    "    import pandas as pd\n",
    "else: \n",
    "    from AmaroX.AmaroX.ai_functions import *\n",
    "    from AmaroX.AmaroX.ai_models import *\n",
    "    from AmaroX.AmaroX.utilities import *\n",
    "    from AmaroX.AmaroX.data_manipulation import *\n",
    "    import pandas as pd\n",
    "    import sklearn"
   ]
  },
  {
   "cell_type": "markdown",
   "metadata": {
    "id": "LMM15EIAeNMM"
   },
   "source": [
    "## Data"
   ]
  },
  {
   "cell_type": "markdown",
   "metadata": {
    "id": "dHUpPc5dfJrs"
   },
   "source": [
    "The data presented here corresponds to molecules with their SMILE representation and descriptors, along with the biological activity. Let's first do a quick view of the data shape."
   ]
  },
  {
   "cell_type": "markdown",
   "metadata": {
    "id": "QLDOuzTDDoW1"
   },
   "source": [
    "* All the data presented here was obtained by colaboration with Dr. Erick Padilla at Facultad de Estudios Superiores Zaragoza - UNAM."
   ]
  },
  {
   "cell_type": "markdown",
   "metadata": {
    "id": "wx7mCiFYeP_M"
   },
   "source": [
    "### Downloading the data"
   ]
  },
  {
   "cell_type": "code",
   "execution_count": 4,
   "metadata": {
    "colab": {
     "base_uri": "https://localhost:8080/"
    },
    "executionInfo": {
     "elapsed": 5366,
     "status": "ok",
     "timestamp": 1754806339684,
     "user": {
      "displayName": "Alan Gabriel Amaro Colin",
      "userId": "17298980579619170060"
     },
     "user_tz": 360
    },
    "id": "TaqYCyF_eN_W",
    "outputId": "9d2fe30a-81b4-455f-a99e-557a868d9c81"
   },
   "outputs": [],
   "source": [
    "if colab:\n",
    "    ! gdown --id 1cHM9neEhTOZ82UU9HaZkdGdlwE1d4SJT\n",
    "    ! gdown --id 1wZp9pou63ElEYyGGjBeC2pDtscgRgCpj"
   ]
  },
  {
   "cell_type": "markdown",
   "metadata": {
    "id": "wfg2b6FNfNIP"
   },
   "source": [
    "The _data.xlsx_ file contains all the molecular descriptors from the molecule, along with a SMILE representation."
   ]
  },
  {
   "cell_type": "code",
   "execution_count": 5,
   "metadata": {
    "executionInfo": {
     "elapsed": 7645,
     "status": "ok",
     "timestamp": 1754806347350,
     "user": {
      "displayName": "Alan Gabriel Amaro Colin",
      "userId": "17298980579619170060"
     },
     "user_tz": 360
    },
    "id": "OvBcuQFXeU5y"
   },
   "outputs": [],
   "source": [
    "compounds_md = pd.read_excel(\"../Data/data.xlsx\")\n",
    "activity = pd.read_excel(\"../Data/Actividad.xlsx\")"
   ]
  },
  {
   "cell_type": "code",
   "execution_count": 6,
   "metadata": {
    "colab": {
     "base_uri": "https://localhost:8080/",
     "height": 690
    },
    "executionInfo": {
     "elapsed": 246,
     "status": "ok",
     "timestamp": 1754806347594,
     "user": {
      "displayName": "Alan Gabriel Amaro Colin",
      "userId": "17298980579619170060"
     },
     "user_tz": 360
    },
    "id": "IixnVRP-eXsd",
    "outputId": "9f8d0e08-c3b5-4144-d0c5-3133d5f0667c"
   },
   "outputs": [
    {
     "data": {
      "text/html": [
       "<div>\n",
       "<style scoped>\n",
       "    .dataframe tbody tr th:only-of-type {\n",
       "        vertical-align: middle;\n",
       "    }\n",
       "\n",
       "    .dataframe tbody tr th {\n",
       "        vertical-align: top;\n",
       "    }\n",
       "\n",
       "    .dataframe thead th {\n",
       "        text-align: right;\n",
       "    }\n",
       "</style>\n",
       "<table border=\"1\" class=\"dataframe\">\n",
       "  <thead>\n",
       "    <tr style=\"text-align: right;\">\n",
       "      <th></th>\n",
       "      <th>Cmpd</th>\n",
       "      <th>SMILES</th>\n",
       "      <th>ABC</th>\n",
       "      <th>ABCGG</th>\n",
       "      <th>nAcid</th>\n",
       "      <th>nBase</th>\n",
       "      <th>SpAbs_A</th>\n",
       "      <th>SpMax_A</th>\n",
       "      <th>SpDiam_A</th>\n",
       "      <th>SpAD_A</th>\n",
       "      <th>...</th>\n",
       "      <th>SRW10</th>\n",
       "      <th>TSRW10</th>\n",
       "      <th>MW</th>\n",
       "      <th>AMW</th>\n",
       "      <th>WPath</th>\n",
       "      <th>WPol</th>\n",
       "      <th>Zagreb1</th>\n",
       "      <th>Zagreb2</th>\n",
       "      <th>mZagreb1</th>\n",
       "      <th>mZagreb2</th>\n",
       "    </tr>\n",
       "  </thead>\n",
       "  <tbody>\n",
       "    <tr>\n",
       "      <th>0</th>\n",
       "      <td>Compuesto original</td>\n",
       "      <td>O=C(N/1)/C(SC1=N/C2=NC3=CC=C(F)C=C3S2)=C/N4CCN...</td>\n",
       "      <td>module 'numpy' has no attribute 'float'.\\n `np...</td>\n",
       "      <td>module 'numpy' has no attribute 'float'.\\n `np...</td>\n",
       "      <td>0</td>\n",
       "      <td>3</td>\n",
       "      <td>34.64084</td>\n",
       "      <td>2.428932</td>\n",
       "      <td>4.709973</td>\n",
       "      <td>34.64084</td>\n",
       "      <td>...</td>\n",
       "      <td>10.158170</td>\n",
       "      <td>78.17227</td>\n",
       "      <td>405.1093</td>\n",
       "      <td>8.619347</td>\n",
       "      <td>2138</td>\n",
       "      <td>39</td>\n",
       "      <td>146</td>\n",
       "      <td>171</td>\n",
       "      <td>8.361111</td>\n",
       "      <td>5.750000</td>\n",
       "    </tr>\n",
       "    <tr>\n",
       "      <th>1</th>\n",
       "      <td>Compound 3</td>\n",
       "      <td>O=C1NC2=CC=C([H])C=C2/C1=N\\C3=CC=CC(Br)=N3</td>\n",
       "      <td>module 'numpy' has no attribute 'float'.\\n `np...</td>\n",
       "      <td>module 'numpy' has no attribute 'float'.\\n `np...</td>\n",
       "      <td>0</td>\n",
       "      <td>0</td>\n",
       "      <td>23.43385</td>\n",
       "      <td>2.452376</td>\n",
       "      <td>4.754134</td>\n",
       "      <td>23.43385</td>\n",
       "      <td>...</td>\n",
       "      <td>9.792612</td>\n",
       "      <td>65.48686</td>\n",
       "      <td>300.9851</td>\n",
       "      <td>11.576350</td>\n",
       "      <td>599</td>\n",
       "      <td>26</td>\n",
       "      <td>96</td>\n",
       "      <td>113</td>\n",
       "      <td>5.166667</td>\n",
       "      <td>3.916667</td>\n",
       "    </tr>\n",
       "    <tr>\n",
       "      <th>2</th>\n",
       "      <td>Compound 4</td>\n",
       "      <td>O=C1NC2=CC=CC=C2/C1=N\\C3=NC4=CC(OCC)=CC=C4S3</td>\n",
       "      <td>module 'numpy' has no attribute 'float'.\\n `np...</td>\n",
       "      <td>module 'numpy' has no attribute 'float'.\\n `np...</td>\n",
       "      <td>0</td>\n",
       "      <td>0</td>\n",
       "      <td>30.43085</td>\n",
       "      <td>2.474251</td>\n",
       "      <td>4.745881</td>\n",
       "      <td>30.43085</td>\n",
       "      <td>...</td>\n",
       "      <td>10.101640</td>\n",
       "      <td>73.78306</td>\n",
       "      <td>323.0728</td>\n",
       "      <td>8.974246</td>\n",
       "      <td>1245</td>\n",
       "      <td>35</td>\n",
       "      <td>126</td>\n",
       "      <td>151</td>\n",
       "      <td>6.138889</td>\n",
       "      <td>5.027778</td>\n",
       "    </tr>\n",
       "    <tr>\n",
       "      <th>3</th>\n",
       "      <td>Compound 8</td>\n",
       "      <td>O=C1NC2=CC=C(Br)C=C2/C1=N\\C3=CC=CC(F)=N3</td>\n",
       "      <td>module 'numpy' has no attribute 'float'.\\n `np...</td>\n",
       "      <td>module 'numpy' has no attribute 'float'.\\n `np...</td>\n",
       "      <td>0</td>\n",
       "      <td>0</td>\n",
       "      <td>24.52891</td>\n",
       "      <td>2.46582</td>\n",
       "      <td>4.787297</td>\n",
       "      <td>24.52891</td>\n",
       "      <td>...</td>\n",
       "      <td>9.873183</td>\n",
       "      <td>66.82214</td>\n",
       "      <td>318.9757</td>\n",
       "      <td>12.268290</td>\n",
       "      <td>693</td>\n",
       "      <td>28</td>\n",
       "      <td>102</td>\n",
       "      <td>120</td>\n",
       "      <td>6.027778</td>\n",
       "      <td>4.083333</td>\n",
       "    </tr>\n",
       "    <tr>\n",
       "      <th>4</th>\n",
       "      <td>Compound 9</td>\n",
       "      <td>O=C1NC2=CC=C(Br)C=C2/C1=N/C3=CC([N+]([O-])=O)=...</td>\n",
       "      <td>module 'numpy' has no attribute 'float'.\\n `np...</td>\n",
       "      <td>module 'numpy' has no attribute 'float'.\\n `np...</td>\n",
       "      <td>0</td>\n",
       "      <td>0</td>\n",
       "      <td>27.00118</td>\n",
       "      <td>2.467278</td>\n",
       "      <td>4.80069</td>\n",
       "      <td>27.00118</td>\n",
       "      <td>...</td>\n",
       "      <td>9.972407</td>\n",
       "      <td>69.29945</td>\n",
       "      <td>345.9702</td>\n",
       "      <td>12.356080</td>\n",
       "      <td>929</td>\n",
       "      <td>32</td>\n",
       "      <td>112</td>\n",
       "      <td>132</td>\n",
       "      <td>7.138889</td>\n",
       "      <td>4.527778</td>\n",
       "    </tr>\n",
       "  </tbody>\n",
       "</table>\n",
       "<p>5 rows × 1828 columns</p>\n",
       "</div>"
      ],
      "text/plain": [
       "                 Cmpd                                             SMILES  \\\n",
       "0  Compuesto original  O=C(N/1)/C(SC1=N/C2=NC3=CC=C(F)C=C3S2)=C/N4CCN...   \n",
       "1          Compound 3         O=C1NC2=CC=C([H])C=C2/C1=N\\C3=CC=CC(Br)=N3   \n",
       "2          Compound 4       O=C1NC2=CC=CC=C2/C1=N\\C3=NC4=CC(OCC)=CC=C4S3   \n",
       "3          Compound 8           O=C1NC2=CC=C(Br)C=C2/C1=N\\C3=CC=CC(F)=N3   \n",
       "4          Compound 9  O=C1NC2=CC=C(Br)C=C2/C1=N/C3=CC([N+]([O-])=O)=...   \n",
       "\n",
       "                                                 ABC  \\\n",
       "0  module 'numpy' has no attribute 'float'.\\n `np...   \n",
       "1  module 'numpy' has no attribute 'float'.\\n `np...   \n",
       "2  module 'numpy' has no attribute 'float'.\\n `np...   \n",
       "3  module 'numpy' has no attribute 'float'.\\n `np...   \n",
       "4  module 'numpy' has no attribute 'float'.\\n `np...   \n",
       "\n",
       "                                               ABCGG  nAcid  nBase   SpAbs_A  \\\n",
       "0  module 'numpy' has no attribute 'float'.\\n `np...      0      3  34.64084   \n",
       "1  module 'numpy' has no attribute 'float'.\\n `np...      0      0  23.43385   \n",
       "2  module 'numpy' has no attribute 'float'.\\n `np...      0      0  30.43085   \n",
       "3  module 'numpy' has no attribute 'float'.\\n `np...      0      0  24.52891   \n",
       "4  module 'numpy' has no attribute 'float'.\\n `np...      0      0  27.00118   \n",
       "\n",
       "    SpMax_A  SpDiam_A    SpAD_A  ...      SRW10    TSRW10        MW  \\\n",
       "0  2.428932  4.709973  34.64084  ...  10.158170  78.17227  405.1093   \n",
       "1  2.452376  4.754134  23.43385  ...   9.792612  65.48686  300.9851   \n",
       "2  2.474251  4.745881  30.43085  ...  10.101640  73.78306  323.0728   \n",
       "3   2.46582  4.787297  24.52891  ...   9.873183  66.82214  318.9757   \n",
       "4  2.467278   4.80069  27.00118  ...   9.972407  69.29945  345.9702   \n",
       "\n",
       "         AMW WPath WPol Zagreb1 Zagreb2  mZagreb1  mZagreb2  \n",
       "0   8.619347  2138   39     146     171  8.361111  5.750000  \n",
       "1  11.576350   599   26      96     113  5.166667  3.916667  \n",
       "2   8.974246  1245   35     126     151  6.138889  5.027778  \n",
       "3  12.268290   693   28     102     120  6.027778  4.083333  \n",
       "4  12.356080   929   32     112     132  7.138889  4.527778  \n",
       "\n",
       "[5 rows x 1828 columns]"
      ]
     },
     "execution_count": 6,
     "metadata": {},
     "output_type": "execute_result"
    }
   ],
   "source": [
    "compounds_md.head()"
   ]
  },
  {
   "cell_type": "code",
   "execution_count": 7,
   "metadata": {
    "colab": {
     "base_uri": "https://localhost:8080/"
    },
    "executionInfo": {
     "elapsed": 152,
     "status": "ok",
     "timestamp": 1754806347984,
     "user": {
      "displayName": "Alan Gabriel Amaro Colin",
      "userId": "17298980579619170060"
     },
     "user_tz": 360
    },
    "id": "FwOMTbIfeZxe",
    "outputId": "d4e19ab7-1e86-4f28-c0cc-72e1b71f5ebc"
   },
   "outputs": [
    {
     "data": {
      "text/plain": [
       "(71, 1828)"
      ]
     },
     "execution_count": 7,
     "metadata": {},
     "output_type": "execute_result"
    }
   ],
   "source": [
    "compounds_md.shape"
   ]
  },
  {
   "cell_type": "code",
   "execution_count": 8,
   "metadata": {
    "colab": {
     "base_uri": "https://localhost:8080/",
     "height": 206
    },
    "executionInfo": {
     "elapsed": 68,
     "status": "ok",
     "timestamp": 1754806348065,
     "user": {
      "displayName": "Alan Gabriel Amaro Colin",
      "userId": "17298980579619170060"
     },
     "user_tz": 360
    },
    "id": "ab4UBiBFecAa",
    "outputId": "64071620-080b-4b49-bca8-25cc92379fd5"
   },
   "outputs": [
    {
     "data": {
      "text/html": [
       "<div>\n",
       "<style scoped>\n",
       "    .dataframe tbody tr th:only-of-type {\n",
       "        vertical-align: middle;\n",
       "    }\n",
       "\n",
       "    .dataframe tbody tr th {\n",
       "        vertical-align: top;\n",
       "    }\n",
       "\n",
       "    .dataframe thead th {\n",
       "        text-align: right;\n",
       "    }\n",
       "</style>\n",
       "<table border=\"1\" class=\"dataframe\">\n",
       "  <thead>\n",
       "    <tr style=\"text-align: right;\">\n",
       "      <th></th>\n",
       "      <th>Activity</th>\n",
       "    </tr>\n",
       "  </thead>\n",
       "  <tbody>\n",
       "    <tr>\n",
       "      <th>0</th>\n",
       "      <td>5.005513</td>\n",
       "    </tr>\n",
       "    <tr>\n",
       "      <th>1</th>\n",
       "      <td>4.381642</td>\n",
       "    </tr>\n",
       "    <tr>\n",
       "      <th>2</th>\n",
       "      <td>4.114064</td>\n",
       "    </tr>\n",
       "    <tr>\n",
       "      <th>3</th>\n",
       "      <td>5.012402</td>\n",
       "    </tr>\n",
       "    <tr>\n",
       "      <th>4</th>\n",
       "      <td>5.047677</td>\n",
       "    </tr>\n",
       "  </tbody>\n",
       "</table>\n",
       "</div>"
      ],
      "text/plain": [
       "   Activity\n",
       "0  5.005513\n",
       "1  4.381642\n",
       "2  4.114064\n",
       "3  5.012402\n",
       "4  5.047677"
      ]
     },
     "execution_count": 8,
     "metadata": {},
     "output_type": "execute_result"
    }
   ],
   "source": [
    "activity.head()"
   ]
  },
  {
   "cell_type": "code",
   "execution_count": 9,
   "metadata": {
    "colab": {
     "base_uri": "https://localhost:8080/"
    },
    "executionInfo": {
     "elapsed": 37,
     "status": "ok",
     "timestamp": 1754806348116,
     "user": {
      "displayName": "Alan Gabriel Amaro Colin",
      "userId": "17298980579619170060"
     },
     "user_tz": 360
    },
    "id": "fYz-3Re2eebA",
    "outputId": "1a9bb07d-d21a-4ca2-b93e-a21af222060c"
   },
   "outputs": [
    {
     "data": {
      "text/plain": [
       "(71, 1)"
      ]
     },
     "execution_count": 9,
     "metadata": {},
     "output_type": "execute_result"
    }
   ],
   "source": [
    "activity.shape"
   ]
  },
  {
   "cell_type": "markdown",
   "metadata": {
    "id": "IIU9JDRgfUWk"
   },
   "source": [
    "* The variable _x_ are the molecular descriptors, we're only interested in numerical properties:"
   ]
  },
  {
   "cell_type": "code",
   "execution_count": 10,
   "metadata": {
    "executionInfo": {
     "elapsed": 376,
     "status": "ok",
     "timestamp": 1754806348504,
     "user": {
      "displayName": "Alan Gabriel Amaro Colin",
      "userId": "17298980579619170060"
     },
     "user_tz": 360
    },
    "id": "OVvrgkBqeeXy"
   },
   "outputs": [],
   "source": [
    "x = compounds_md.copy()\n",
    "x = x.select_dtypes(\"number\")"
   ]
  },
  {
   "cell_type": "markdown",
   "metadata": {
    "id": "eyw0iNEPfbKq"
   },
   "source": [
    "## Applying Mutual Information to Molecular Descriptors"
   ]
  },
  {
   "cell_type": "markdown",
   "metadata": {
    "id": "EPCBSQMBbNf5"
   },
   "source": [
    "In the previous notebook, we have selected 3 molecular descriptors that are independent among them and present a high MI with respect to the bio-activity."
   ]
  },
  {
   "cell_type": "code",
   "execution_count": 11,
   "metadata": {
    "colab": {
     "base_uri": "https://localhost:8080/"
    },
    "executionInfo": {
     "elapsed": 376,
     "status": "ok",
     "timestamp": 1754806348508,
     "user": {
      "displayName": "Alan Gabriel Amaro Colin",
      "userId": "17298980579619170060"
     },
     "user_tz": 360
    },
    "id": "_55TahzCbUiO",
    "outputId": "943e13b7-622c-4195-98d9-39b408322575"
   },
   "outputs": [
    {
     "data": {
      "text/plain": [
       "(71, 1)"
      ]
     },
     "execution_count": 11,
     "metadata": {},
     "output_type": "execute_result"
    }
   ],
   "source": [
    "x_array = np.array(x[ ['piPC4'] ])\n",
    "x_array.shape"
   ]
  },
  {
   "cell_type": "code",
   "execution_count": 12,
   "metadata": {
    "colab": {
     "base_uri": "https://localhost:8080/"
    },
    "executionInfo": {
     "elapsed": 33,
     "status": "ok",
     "timestamp": 1754806348544,
     "user": {
      "displayName": "Alan Gabriel Amaro Colin",
      "userId": "17298980579619170060"
     },
     "user_tz": 360
    },
    "id": "qIbrbX4NblAQ",
    "outputId": "8060c218-8830-43f7-80c7-4d321cf844f1"
   },
   "outputs": [
    {
     "data": {
      "text/plain": [
       "(71,)"
      ]
     },
     "execution_count": 12,
     "metadata": {},
     "output_type": "execute_result"
    }
   ],
   "source": [
    "y_array = np.array( activity )[:, 0]\n",
    "y_array.shape"
   ]
  },
  {
   "cell_type": "markdown",
   "metadata": {
    "id": "HIvdru7Qb6n4"
   },
   "source": [
    "## Standarize Features"
   ]
  },
  {
   "cell_type": "code",
   "execution_count": 13,
   "metadata": {
    "executionInfo": {
     "elapsed": 35,
     "status": "ok",
     "timestamp": 1754806348583,
     "user": {
      "displayName": "Alan Gabriel Amaro Colin",
      "userId": "17298980579619170060"
     },
     "user_tz": 360
    },
    "id": "-4P8uMr8b8FA"
   },
   "outputs": [],
   "source": [
    "from sklearn.preprocessing import StandardScaler\n",
    "scaler = StandardScaler()"
   ]
  },
  {
   "cell_type": "code",
   "execution_count": 14,
   "metadata": {
    "colab": {
     "base_uri": "https://localhost:8080/"
    },
    "executionInfo": {
     "elapsed": 32,
     "status": "ok",
     "timestamp": 1754806348587,
     "user": {
      "displayName": "Alan Gabriel Amaro Colin",
      "userId": "17298980579619170060"
     },
     "user_tz": 360
    },
    "id": "Q1DtBVx8cGc3",
    "outputId": "e5a919ce-b9c7-4089-f736-f68d0234fcd6"
   },
   "outputs": [
    {
     "data": {
      "text/plain": [
       "(71, 1)"
      ]
     },
     "execution_count": 14,
     "metadata": {},
     "output_type": "execute_result"
    }
   ],
   "source": [
    "x_std = scaler.fit_transform(x_array)\n",
    "x_std.shape"
   ]
  },
  {
   "cell_type": "code",
   "execution_count": 15,
   "metadata": {
    "colab": {
     "base_uri": "https://localhost:8080/",
     "height": 469
    },
    "executionInfo": {
     "elapsed": 55,
     "status": "ok",
     "timestamp": 1754806348632,
     "user": {
      "displayName": "Alan Gabriel Amaro Colin",
      "userId": "17298980579619170060"
     },
     "user_tz": 360
    },
    "id": "TCAnYfB9cNJM",
    "outputId": "c67d1f14-718a-436c-c411-504973177ba7"
   },
   "outputs": [
    {
     "data": {
      "image/png": "[encoded data removed]",
      "text/plain": [
       "<Figure size 640x480 with 1 Axes>"
      ]
     },
     "metadata": {},
     "output_type": "display_data"
    },
    {
     "name": "stdout",
     "output_type": "stream",
     "text": [
      "The corresponding y element -> 3.2335342\n"
     ]
    }
   ],
   "source": [
    "plot_xy([x_std, y_array])"
   ]
  },
  {
   "cell_type": "markdown",
   "metadata": {
    "id": "lEUasbz0fl5I"
   },
   "source": [
    "## Splitting Train and Test"
   ]
  },
  {
   "cell_type": "code",
   "execution_count": 16,
   "metadata": {},
   "outputs": [],
   "source": [
    "from sklearn.model_selection import StratifiedKFold\n",
    "from sklearn.datasets import make_regression"
   ]
  },
  {
   "cell_type": "code",
   "execution_count": 17,
   "metadata": {},
   "outputs": [
    {
     "name": "stdin",
     "output_type": "stream",
     "text": [
      "Selecciona el K:  5\n"
     ]
    }
   ],
   "source": [
    "kint = int(input('Selecciona el K: '))"
   ]
  },
  {
   "cell_type": "code",
   "execution_count": 18,
   "metadata": {},
   "outputs": [],
   "source": [
    "# Convert the continuous target into bins\n",
    "n_bins = 6  # you can adjust this number\n",
    "y_binned = np.floor(\n",
    "    np.interp(y_array, (y_array.min(), y_array.max()), (0, n_bins))\n",
    "    ).astype(int)"
   ]
  },
  {
   "cell_type": "code",
   "execution_count": 19,
   "metadata": {},
   "outputs": [],
   "source": [
    "# Create StratifiedKFold with shuffle and seed\n",
    "skf = StratifiedKFold(n_splits=n_bins, shuffle=True, random_state=1360)"
   ]
  },
  {
   "cell_type": "code",
   "execution_count": 20,
   "metadata": {},
   "outputs": [
    {
     "name": "stderr",
     "output_type": "stream",
     "text": [
      "/home/alan-amaro/miniconda3/envs/farma/lib/python3.9/site-packages/sklearn/model_selection/_split.py:805: UserWarning: The least populated class in y has only 1 members, which is less than n_splits=6.\n",
      "  warnings.warn(\n"
     ]
    }
   ],
   "source": [
    "# Use the binned labels for stratification\n",
    "folds = []\n",
    "for fold, (train_idx, test_idx) in enumerate(skf.split(x_std, y_binned)):\n",
    "    x_train, x_test = x_std[train_idx], x_std[test_idx]\n",
    "    y_train, y_test = y_array[train_idx], y_array[test_idx]\n",
    "    folds.append([x_train, x_test, y_train, y_test])"
   ]
  },
  {
   "cell_type": "code",
   "execution_count": 21,
   "metadata": {},
   "outputs": [],
   "source": [
    "x_train = folds[kint][0]\n",
    "x_test = folds[kint][1]\n",
    "y_train = folds[kint][2]\n",
    "y_test = folds[kint][3]"
   ]
  },
  {
   "cell_type": "code",
   "execution_count": 22,
   "metadata": {},
   "outputs": [
    {
     "data": {
      "text/plain": [
       "((60, 1), (11, 1))"
      ]
     },
     "execution_count": 22,
     "metadata": {},
     "output_type": "execute_result"
    }
   ],
   "source": [
    "x_train.shape, x_test.shape"
   ]
  },
  {
   "cell_type": "code",
   "execution_count": 23,
   "metadata": {
    "colab": {
     "base_uri": "https://localhost:8080/",
     "height": 407
    },
    "executionInfo": {
     "elapsed": 290,
     "status": "ok",
     "timestamp": 1754806349003,
     "user": {
      "displayName": "Alan Gabriel Amaro Colin",
      "userId": "17298980579619170060"
     },
     "user_tz": 360
    },
    "id": "jw21eFGscdx1",
    "outputId": "697e87b9-d7bd-495f-de24-7f265201b3e5"
   },
   "outputs": [
    {
     "data": {
      "image/png": "[encoded data removed]",
      "text/plain": [
       "<Figure size 1000x400 with 2 Axes>"
      ]
     },
     "metadata": {},
     "output_type": "display_data"
    }
   ],
   "source": [
    "# Crear una figura con dos subplots en horizontal (1 fila, 2 columnas)\n",
    "fig, (ax1, ax2) = plt.subplots(1, 2, figsize=(10, 4))  # figsize ajusta el tamaño\n",
    "\n",
    "# Graficar la primera curva en el primer subplot\n",
    "ax1.hist(y_train, color='blue', label='train', bins = 6)\n",
    "ax1.set_title('Train Density')\n",
    "ax1.set_xlabel('x')\n",
    "ax1.set_ylabel('y')\n",
    "ax1.legend()\n",
    "\n",
    "# Graficar la segunda curva en el segundo subplot\n",
    "ax2.hist(y_test, color='red', label='test', bins = 6)\n",
    "ax2.set_title('Test Density')\n",
    "ax2.set_xlabel('x')\n",
    "ax2.set_ylabel('y')\n",
    "ax2.legend()\n",
    "\n",
    "# Ajustar el espacio entre los subplots\n",
    "plt.tight_layout()\n",
    "\n",
    "# Mostrar la figura\n",
    "plt.show()"
   ]
  },
  {
   "cell_type": "markdown",
   "metadata": {
    "id": "XESiE4f0cr7l"
   },
   "source": [
    "## Paths"
   ]
  },
  {
   "cell_type": "code",
   "execution_count": 24,
   "metadata": {
    "executionInfo": {
     "elapsed": 229,
     "status": "ok",
     "timestamp": 1754806349006,
     "user": {
      "displayName": "Alan Gabriel Amaro Colin",
      "userId": "17298980579619170060"
     },
     "user_tz": 360
    },
    "id": "hUxyWpwpcsqz"
   },
   "outputs": [],
   "source": [
    "name = 'DNN_MI_1_KFOLD_{}'.format(kint)\n",
    "if colab:\n",
    "    folder_path = '/content/drive/MyDrive/Colaboracion_Quimica/Main_Codes/AutoEncoders/models'\n",
    "else: \n",
    "    folder_path = '../models'\n",
    "    \n",
    "final_path = os.path.join(folder_path, name)"
   ]
  },
  {
   "cell_type": "markdown",
   "metadata": {
    "id": "aGZb-3Wacw2F"
   },
   "source": [
    "## Callbacks"
   ]
  },
  {
   "cell_type": "code",
   "execution_count": 25,
   "metadata": {
    "executionInfo": {
     "elapsed": 96,
     "status": "ok",
     "timestamp": 1754806349012,
     "user": {
      "displayName": "Alan Gabriel Amaro Colin",
      "userId": "17298980579619170060"
     },
     "user_tz": 360
    },
    "id": "UX_yCOQicxnI"
   },
   "outputs": [],
   "source": [
    "callbacks = standard_callbacks(folder_name= name,\n",
    "                               folder_path= folder_path,\n",
    "                               patiences= [120, 120], # 50 epochs without progress, and 2 epochs to reduce LR\n",
    "                               monitor = 'val_r2_score',\n",
    "                               flow_direction = 'max')"
   ]
  },
  {
   "cell_type": "markdown",
   "metadata": {},
   "source": [
    "## Keras Seed"
   ]
  },
  {
   "cell_type": "code",
   "execution_count": 26,
   "metadata": {},
   "outputs": [],
   "source": [
    "keras.utils.set_random_seed(1360)"
   ]
  },
  {
   "cell_type": "markdown",
   "metadata": {
    "id": "9cSL15E6c1zb"
   },
   "source": [
    "## DNN Model"
   ]
  },
  {
   "cell_type": "code",
   "execution_count": 27,
   "metadata": {
    "executionInfo": {
     "elapsed": 65,
     "status": "ok",
     "timestamp": 1754806349015,
     "user": {
      "displayName": "Alan Gabriel Amaro Colin",
      "userId": "17298980579619170060"
     },
     "user_tz": 360
    },
    "id": "qtUfEOFpczgn"
   },
   "outputs": [],
   "source": [
    "def _DNN():\n",
    "\n",
    "  inputs = keras.layers.Input((1,))\n",
    "\n",
    "  _DNN_ = G_Dense(\n",
    "      inputs = inputs,\n",
    "      nodes = [14, 300],\n",
    "      DP = 5,\n",
    "      n_final = 1,\n",
    "      act_func = 'leaky_relu',\n",
    "      final_act_func = 'relu',\n",
    "      WI = 'he_normal',\n",
    "      L1 = 0.0,\n",
    "      L2 = 0.0,\n",
    "      use_bias = True\n",
    "  )\n",
    "\n",
    "  return keras.models.Model(inputs = inputs, outputs = _DNN_)"
   ]
  },
  {
   "cell_type": "code",
   "execution_count": 28,
   "metadata": {
    "executionInfo": {
     "elapsed": 60,
     "status": "ok",
     "timestamp": 1754806349047,
     "user": {
      "displayName": "Alan Gabriel Amaro Colin",
      "userId": "17298980579619170060"
     },
     "user_tz": 360
    },
    "id": "KKix552XddZ9"
   },
   "outputs": [
    {
     "name": "stderr",
     "output_type": "stream",
     "text": [
      "2025-08-11 11:06:49.144194: E external/local_xla/xla/stream_executor/cuda/cuda_driver.cc:282] failed call to cuInit: CUDA_ERROR_NO_DEVICE: no CUDA-capable device is detected\n",
      "2025-08-11 11:06:49.144304: I external/local_xla/xla/stream_executor/cuda/cuda_diagnostics.cc:134] retrieving CUDA diagnostic information for host: alan-amaro-Nvidia\n",
      "2025-08-11 11:06:49.144319: I external/local_xla/xla/stream_executor/cuda/cuda_diagnostics.cc:141] hostname: alan-amaro-Nvidia\n",
      "2025-08-11 11:06:49.144585: I external/local_xla/xla/stream_executor/cuda/cuda_diagnostics.cc:165] libcuda reported version is: 570.169.0\n",
      "2025-08-11 11:06:49.144640: I external/local_xla/xla/stream_executor/cuda/cuda_diagnostics.cc:169] kernel reported version is: 570.169.0\n",
      "2025-08-11 11:06:49.144651: I external/local_xla/xla/stream_executor/cuda/cuda_diagnostics.cc:248] kernel version seems to match DSO: 570.169.0\n"
     ]
    }
   ],
   "source": [
    "model_DNN= _DNN()"
   ]
  },
  {
   "cell_type": "code",
   "execution_count": 29,
   "metadata": {
    "executionInfo": {
     "elapsed": 28,
     "status": "ok",
     "timestamp": 1754806349065,
     "user": {
      "displayName": "Alan Gabriel Amaro Colin",
      "userId": "17298980579619170060"
     },
     "user_tz": 360
    },
    "id": "Cj5XW39qdqDA"
   },
   "outputs": [],
   "source": [
    "model_DNN.compile(optimizer = keras.optimizers.Adam(),\n",
    "                    loss = 'mae',\n",
    "                    metrics = ['mape', 'r2_score'])"
   ]
  },
  {
   "cell_type": "code",
   "execution_count": 30,
   "metadata": {
    "executionInfo": {
     "elapsed": 165,
     "status": "ok",
     "timestamp": 1754806349225,
     "user": {
      "displayName": "Alan Gabriel Amaro Colin",
      "userId": "17298980579619170060"
     },
     "user_tz": 360
    },
    "id": "tRGw7jGHdz-e"
   },
   "outputs": [
    {
     "name": "stdout",
     "output_type": "stream",
     "text": [
      "You must install graphviz (see instructions at https://graphviz.gitlab.io/download/) for `plot_model` to work.\n"
     ]
    }
   ],
   "source": [
    "get_plot_model(model_DNN, folder_path= final_path)"
   ]
  },
  {
   "cell_type": "code",
   "execution_count": 31,
   "metadata": {
    "colab": {
     "base_uri": "https://localhost:8080/",
     "height": 561
    },
    "executionInfo": {
     "elapsed": 943,
     "status": "ok",
     "timestamp": 1754806350177,
     "user": {
      "displayName": "Alan Gabriel Amaro Colin",
      "userId": "17298980579619170060"
     },
     "user_tz": 360
    },
    "id": "2zVTR0NDd198",
    "outputId": "43756354-a27f-41f3-d829-9ac2675f62bf"
   },
   "outputs": [
    {
     "data": {
      "text/html": [
       "<pre style=\"white-space:pre;overflow-x:auto;line-height:normal;font-family:Menlo,'DejaVu Sans Mono',consolas,'Courier New',monospace\"><span style=\"font-weight: bold\">Model: \"functional\"</span>\n",
       "</pre>\n"
      ],
      "text/plain": [
       "\u001b[1mModel: \"functional\"\u001b[0m\n"
      ]
     },
     "metadata": {},
     "output_type": "display_data"
    },
    {
     "data": {
      "text/html": [
       "<pre style=\"white-space:pre;overflow-x:auto;line-height:normal;font-family:Menlo,'DejaVu Sans Mono',consolas,'Courier New',monospace\">┏━━━━━━━━━━━━━━━━━━━━━━━━━━━━━━━━━┳━━━━━━━━━━━━━━━━━━━━━━━━┳━━━━━━━━━━━━━━━┓\n",
       "┃<span style=\"font-weight: bold\"> Layer (type)                    </span>┃<span style=\"font-weight: bold\"> Output Shape           </span>┃<span style=\"font-weight: bold\">       Param # </span>┃\n",
       "┡━━━━━━━━━━━━━━━━━━━━━━━━━━━━━━━━━╇━━━━━━━━━━━━━━━━━━━━━━━━╇━━━━━━━━━━━━━━━┩\n",
       "│ input_layer (<span style=\"color: #0087ff; text-decoration-color: #0087ff\">InputLayer</span>)        │ (<span style=\"color: #00d7ff; text-decoration-color: #00d7ff\">None</span>, <span style=\"color: #00af00; text-decoration-color: #00af00\">1</span>)              │             <span style=\"color: #00af00; text-decoration-color: #00af00\">0</span> │\n",
       "├─────────────────────────────────┼────────────────────────┼───────────────┤\n",
       "│ dense (<span style=\"color: #0087ff; text-decoration-color: #0087ff\">Dense</span>)                   │ (<span style=\"color: #00d7ff; text-decoration-color: #00d7ff\">None</span>, <span style=\"color: #00af00; text-decoration-color: #00af00\">14</span>)             │            <span style=\"color: #00af00; text-decoration-color: #00af00\">28</span> │\n",
       "├─────────────────────────────────┼────────────────────────┼───────────────┤\n",
       "│ dropout (<span style=\"color: #0087ff; text-decoration-color: #0087ff\">Dropout</span>)               │ (<span style=\"color: #00d7ff; text-decoration-color: #00d7ff\">None</span>, <span style=\"color: #00af00; text-decoration-color: #00af00\">14</span>)             │             <span style=\"color: #00af00; text-decoration-color: #00af00\">0</span> │\n",
       "├─────────────────────────────────┼────────────────────────┼───────────────┤\n",
       "│ batch_normalization             │ (<span style=\"color: #00d7ff; text-decoration-color: #00d7ff\">None</span>, <span style=\"color: #00af00; text-decoration-color: #00af00\">14</span>)             │            <span style=\"color: #00af00; text-decoration-color: #00af00\">56</span> │\n",
       "│ (<span style=\"color: #0087ff; text-decoration-color: #0087ff\">BatchNormalization</span>)            │                        │               │\n",
       "├─────────────────────────────────┼────────────────────────┼───────────────┤\n",
       "│ dense_1 (<span style=\"color: #0087ff; text-decoration-color: #0087ff\">Dense</span>)                 │ (<span style=\"color: #00d7ff; text-decoration-color: #00d7ff\">None</span>, <span style=\"color: #00af00; text-decoration-color: #00af00\">300</span>)            │         <span style=\"color: #00af00; text-decoration-color: #00af00\">4,500</span> │\n",
       "├─────────────────────────────────┼────────────────────────┼───────────────┤\n",
       "│ dropout_1 (<span style=\"color: #0087ff; text-decoration-color: #0087ff\">Dropout</span>)             │ (<span style=\"color: #00d7ff; text-decoration-color: #00d7ff\">None</span>, <span style=\"color: #00af00; text-decoration-color: #00af00\">300</span>)            │             <span style=\"color: #00af00; text-decoration-color: #00af00\">0</span> │\n",
       "├─────────────────────────────────┼────────────────────────┼───────────────┤\n",
       "│ batch_normalization_1           │ (<span style=\"color: #00d7ff; text-decoration-color: #00d7ff\">None</span>, <span style=\"color: #00af00; text-decoration-color: #00af00\">300</span>)            │         <span style=\"color: #00af00; text-decoration-color: #00af00\">1,200</span> │\n",
       "│ (<span style=\"color: #0087ff; text-decoration-color: #0087ff\">BatchNormalization</span>)            │                        │               │\n",
       "├─────────────────────────────────┼────────────────────────┼───────────────┤\n",
       "│ dense_2 (<span style=\"color: #0087ff; text-decoration-color: #0087ff\">Dense</span>)                 │ (<span style=\"color: #00d7ff; text-decoration-color: #00d7ff\">None</span>, <span style=\"color: #00af00; text-decoration-color: #00af00\">1</span>)              │           <span style=\"color: #00af00; text-decoration-color: #00af00\">301</span> │\n",
       "└─────────────────────────────────┴────────────────────────┴───────────────┘\n",
       "</pre>\n"
      ],
      "text/plain": [
       "┏━━━━━━━━━━━━━━━━━━━━━━━━━━━━━━━━━┳━━━━━━━━━━━━━━━━━━━━━━━━┳━━━━━━━━━━━━━━━┓\n",
       "┃\u001b[1m \u001b[0m\u001b[1mLayer (type)                   \u001b[0m\u001b[1m \u001b[0m┃\u001b[1m \u001b[0m\u001b[1mOutput Shape          \u001b[0m\u001b[1m \u001b[0m┃\u001b[1m \u001b[0m\u001b[1m      Param #\u001b[0m\u001b[1m \u001b[0m┃\n",
       "┡━━━━━━━━━━━━━━━━━━━━━━━━━━━━━━━━━╇━━━━━━━━━━━━━━━━━━━━━━━━╇━━━━━━━━━━━━━━━┩\n",
       "│ input_layer (\u001b[38;5;33mInputLayer\u001b[0m)        │ (\u001b[38;5;45mNone\u001b[0m, \u001b[38;5;34m1\u001b[0m)              │             \u001b[38;5;34m0\u001b[0m │\n",
       "├─────────────────────────────────┼────────────────────────┼───────────────┤\n",
       "│ dense (\u001b[38;5;33mDense\u001b[0m)                   │ (\u001b[38;5;45mNone\u001b[0m, \u001b[38;5;34m14\u001b[0m)             │            \u001b[38;5;34m28\u001b[0m │\n",
       "├─────────────────────────────────┼────────────────────────┼───────────────┤\n",
       "│ dropout (\u001b[38;5;33mDropout\u001b[0m)               │ (\u001b[38;5;45mNone\u001b[0m, \u001b[38;5;34m14\u001b[0m)             │             \u001b[38;5;34m0\u001b[0m │\n",
       "├─────────────────────────────────┼────────────────────────┼───────────────┤\n",
       "│ batch_normalization             │ (\u001b[38;5;45mNone\u001b[0m, \u001b[38;5;34m14\u001b[0m)             │            \u001b[38;5;34m56\u001b[0m │\n",
       "│ (\u001b[38;5;33mBatchNormalization\u001b[0m)            │                        │               │\n",
       "├─────────────────────────────────┼────────────────────────┼───────────────┤\n",
       "│ dense_1 (\u001b[38;5;33mDense\u001b[0m)                 │ (\u001b[38;5;45mNone\u001b[0m, \u001b[38;5;34m300\u001b[0m)            │         \u001b[38;5;34m4,500\u001b[0m │\n",
       "├─────────────────────────────────┼────────────────────────┼───────────────┤\n",
       "│ dropout_1 (\u001b[38;5;33mDropout\u001b[0m)             │ (\u001b[38;5;45mNone\u001b[0m, \u001b[38;5;34m300\u001b[0m)            │             \u001b[38;5;34m0\u001b[0m │\n",
       "├─────────────────────────────────┼────────────────────────┼───────────────┤\n",
       "│ batch_normalization_1           │ (\u001b[38;5;45mNone\u001b[0m, \u001b[38;5;34m300\u001b[0m)            │         \u001b[38;5;34m1,200\u001b[0m │\n",
       "│ (\u001b[38;5;33mBatchNormalization\u001b[0m)            │                        │               │\n",
       "├─────────────────────────────────┼────────────────────────┼───────────────┤\n",
       "│ dense_2 (\u001b[38;5;33mDense\u001b[0m)                 │ (\u001b[38;5;45mNone\u001b[0m, \u001b[38;5;34m1\u001b[0m)              │           \u001b[38;5;34m301\u001b[0m │\n",
       "└─────────────────────────────────┴────────────────────────┴───────────────┘\n"
      ]
     },
     "metadata": {},
     "output_type": "display_data"
    },
    {
     "data": {
      "text/html": [
       "<pre style=\"white-space:pre;overflow-x:auto;line-height:normal;font-family:Menlo,'DejaVu Sans Mono',consolas,'Courier New',monospace\"><span style=\"font-weight: bold\"> Total params: </span><span style=\"color: #00af00; text-decoration-color: #00af00\">6,085</span> (23.77 KB)\n",
       "</pre>\n"
      ],
      "text/plain": [
       "\u001b[1m Total params: \u001b[0m\u001b[38;5;34m6,085\u001b[0m (23.77 KB)\n"
      ]
     },
     "metadata": {},
     "output_type": "display_data"
    },
    {
     "data": {
      "text/html": [
       "<pre style=\"white-space:pre;overflow-x:auto;line-height:normal;font-family:Menlo,'DejaVu Sans Mono',consolas,'Courier New',monospace\"><span style=\"font-weight: bold\"> Trainable params: </span><span style=\"color: #00af00; text-decoration-color: #00af00\">5,457</span> (21.32 KB)\n",
       "</pre>\n"
      ],
      "text/plain": [
       "\u001b[1m Trainable params: \u001b[0m\u001b[38;5;34m5,457\u001b[0m (21.32 KB)\n"
      ]
     },
     "metadata": {},
     "output_type": "display_data"
    },
    {
     "data": {
      "text/html": [
       "<pre style=\"white-space:pre;overflow-x:auto;line-height:normal;font-family:Menlo,'DejaVu Sans Mono',consolas,'Courier New',monospace\"><span style=\"font-weight: bold\"> Non-trainable params: </span><span style=\"color: #00af00; text-decoration-color: #00af00\">628</span> (2.45 KB)\n",
       "</pre>\n"
      ],
      "text/plain": [
       "\u001b[1m Non-trainable params: \u001b[0m\u001b[38;5;34m628\u001b[0m (2.45 KB)\n"
      ]
     },
     "metadata": {},
     "output_type": "display_data"
    }
   ],
   "source": [
    "model_DNN.summary()"
   ]
  },
  {
   "cell_type": "markdown",
   "metadata": {
    "id": "VePpd9xSd7LC"
   },
   "source": [
    "## Training"
   ]
  },
  {
   "cell_type": "code",
   "execution_count": 32,
   "metadata": {
    "colab": {
     "base_uri": "https://localhost:8080/"
    },
    "executionInfo": {
     "elapsed": 35843,
     "status": "ok",
     "timestamp": 1754806386025,
     "user": {
      "displayName": "Alan Gabriel Amaro Colin",
      "userId": "17298980579619170060"
     },
     "user_tz": 360
    },
    "id": "GDvu_7QDd4HI",
    "outputId": "8229ee31-6f5a-4ed6-8217-42d1f0763bd6"
   },
   "outputs": [
    {
     "name": "stdout",
     "output_type": "stream",
     "text": [
      "Epoch 1/1000\n",
      "\u001b[1m5/5\u001b[0m \u001b[32m━━━━━━━━━━━━━━━━━━━━\u001b[0m\u001b[37m\u001b[0m \u001b[1m4s\u001b[0m 196ms/step - loss: 3.8703 - mape: 80.7756 - r2_score: -31.1586 - val_loss: 4.8220 - val_mape: 99.7897 - val_r2_score: -39.3895 - learning_rate: 0.0010\n",
      "Epoch 2/1000\n",
      "\u001b[1m5/5\u001b[0m \u001b[32m━━━━━━━━━━━━━━━━━━━━\u001b[0m\u001b[37m\u001b[0m \u001b[1m0s\u001b[0m 78ms/step - loss: 3.3040 - mape: 69.3264 - r2_score: -25.3427 - val_loss: 4.7667 - val_mape: 98.7459 - val_r2_score: -38.4215 - learning_rate: 0.0010\n",
      "Epoch 3/1000\n",
      "\u001b[1m5/5\u001b[0m \u001b[32m━━━━━━━━━━━━━━━━━━━━\u001b[0m\u001b[37m\u001b[0m \u001b[1m0s\u001b[0m 77ms/step - loss: 3.0608 - mape: 64.7664 - r2_score: -21.7338 - val_loss: 4.7285 - val_mape: 98.0343 - val_r2_score: -37.7654 - learning_rate: 0.0010\n",
      "Epoch 4/1000\n",
      "\u001b[1m5/5\u001b[0m \u001b[32m━━━━━━━━━━━━━━━━━━━━\u001b[0m\u001b[37m\u001b[0m \u001b[1m0s\u001b[0m 77ms/step - loss: 2.8605 - mape: 60.9805 - r2_score: -20.5784 - val_loss: 4.7204 - val_mape: 97.9065 - val_r2_score: -37.6165 - learning_rate: 0.0010\n",
      "Epoch 5/1000\n",
      "\u001b[1m5/5\u001b[0m \u001b[32m━━━━━━━━━━━━━━━━━━━━\u001b[0m\u001b[37m\u001b[0m \u001b[1m0s\u001b[0m 77ms/step - loss: 2.5660 - mape: 55.0931 - r2_score: -17.0596 - val_loss: 4.7148 - val_mape: 97.8310 - val_r2_score: -37.5256 - learning_rate: 0.0010\n",
      "Epoch 6/1000\n",
      "\u001b[1m5/5\u001b[0m \u001b[32m━━━━━━━━━━━━━━━━━━━━\u001b[0m\u001b[37m\u001b[0m \u001b[1m0s\u001b[0m 77ms/step - loss: 2.4510 - mape: 52.9876 - r2_score: -15.6371 - val_loss: 4.6775 - val_mape: 97.1430 - val_r2_score: -36.9186 - learning_rate: 0.0010\n",
      "Epoch 7/1000\n",
      "\u001b[1m5/5\u001b[0m \u001b[32m━━━━━━━━━━━━━━━━━━━━\u001b[0m\u001b[37m\u001b[0m \u001b[1m0s\u001b[0m 77ms/step - loss: 2.4034 - mape: 52.0406 - r2_score: -14.6908 - val_loss: 4.6215 - val_mape: 96.0925 - val_r2_score: -36.0307 - learning_rate: 0.0010\n",
      "Epoch 8/1000\n",
      "\u001b[1m5/5\u001b[0m \u001b[32m━━━━━━━━━━━━━━━━━━━━\u001b[0m\u001b[37m\u001b[0m \u001b[1m0s\u001b[0m 78ms/step - loss: 2.2683 - mape: 48.5414 - r2_score: -13.8444 - val_loss: 4.5597 - val_mape: 94.9279 - val_r2_score: -35.0934 - learning_rate: 0.0010\n",
      "Epoch 9/1000\n",
      "\u001b[1m5/5\u001b[0m \u001b[32m━━━━━━━━━━━━━━━━━━━━\u001b[0m\u001b[37m\u001b[0m \u001b[1m0s\u001b[0m 78ms/step - loss: 2.2403 - mape: 48.2125 - r2_score: -13.3955 - val_loss: 4.4992 - val_mape: 93.7928 - val_r2_score: -34.2028 - learning_rate: 0.0010\n",
      "Epoch 10/1000\n",
      "\u001b[1m5/5\u001b[0m \u001b[32m━━━━━━━━━━━━━━━━━━━━\u001b[0m\u001b[37m\u001b[0m \u001b[1m0s\u001b[0m 79ms/step - loss: 2.2650 - mape: 48.8691 - r2_score: -13.4788 - val_loss: 4.4477 - val_mape: 92.8585 - val_r2_score: -33.4131 - learning_rate: 0.0010\n",
      "Epoch 11/1000\n",
      "\u001b[1m5/5\u001b[0m \u001b[32m━━━━━━━━━━━━━━━━━━━━\u001b[0m\u001b[37m\u001b[0m \u001b[1m0s\u001b[0m 77ms/step - loss: 2.1298 - mape: 46.4464 - r2_score: -12.8364 - val_loss: 4.3979 - val_mape: 91.9560 - val_r2_score: -32.6675 - learning_rate: 0.0010\n",
      "Epoch 12/1000\n",
      "\u001b[1m5/5\u001b[0m \u001b[32m━━━━━━━━━━━━━━━━━━━━\u001b[0m\u001b[37m\u001b[0m \u001b[1m0s\u001b[0m 76ms/step - loss: 2.1659 - mape: 46.4545 - r2_score: -13.0948 - val_loss: 4.3282 - val_mape: 90.6223 - val_r2_score: -31.6753 - learning_rate: 0.0010\n",
      "Epoch 13/1000\n",
      "\u001b[1m5/5\u001b[0m \u001b[32m━━━━━━━━━━━━━━━━━━━━\u001b[0m\u001b[37m\u001b[0m \u001b[1m0s\u001b[0m 77ms/step - loss: 2.0384 - mape: 44.2823 - r2_score: -12.0699 - val_loss: 4.2525 - val_mape: 89.0506 - val_r2_score: -30.6529 - learning_rate: 0.0010\n",
      "Epoch 14/1000\n",
      "\u001b[1m5/5\u001b[0m \u001b[32m━━━━━━━━━━━━━━━━━━━━\u001b[0m\u001b[37m\u001b[0m \u001b[1m0s\u001b[0m 77ms/step - loss: 2.0834 - mape: 44.5698 - r2_score: -12.3421 - val_loss: 4.1887 - val_mape: 87.6757 - val_r2_score: -29.7823 - learning_rate: 0.0010\n",
      "Epoch 15/1000\n",
      "\u001b[1m5/5\u001b[0m \u001b[32m━━━━━━━━━━━━━━━━━━━━\u001b[0m\u001b[37m\u001b[0m \u001b[1m0s\u001b[0m 78ms/step - loss: 1.9266 - mape: 41.3321 - r2_score: -11.5010 - val_loss: 4.1221 - val_mape: 86.2564 - val_r2_score: -28.9111 - learning_rate: 0.0010\n",
      "Epoch 16/1000\n",
      "\u001b[1m5/5\u001b[0m \u001b[32m━━━━━━━━━━━━━━━━━━━━\u001b[0m\u001b[37m\u001b[0m \u001b[1m0s\u001b[0m 78ms/step - loss: 1.9526 - mape: 41.6230 - r2_score: -11.4197 - val_loss: 4.0449 - val_mape: 84.6430 - val_r2_score: -27.9520 - learning_rate: 0.0010\n",
      "Epoch 17/1000\n",
      "\u001b[1m5/5\u001b[0m \u001b[32m━━━━━━━━━━━━━━━━━━━━\u001b[0m\u001b[37m\u001b[0m \u001b[1m0s\u001b[0m 78ms/step - loss: 1.8675 - mape: 39.8997 - r2_score: -10.9128 - val_loss: 3.9424 - val_mape: 82.5768 - val_r2_score: -26.7747 - learning_rate: 0.0010\n",
      "Epoch 18/1000\n",
      "\u001b[1m5/5\u001b[0m \u001b[32m━━━━━━━━━━━━━━━━━━━━\u001b[0m\u001b[37m\u001b[0m \u001b[1m0s\u001b[0m 77ms/step - loss: 1.9399 - mape: 41.1677 - r2_score: -10.9017 - val_loss: 3.8416 - val_mape: 80.5231 - val_r2_score: -25.6783 - learning_rate: 0.0010\n",
      "Epoch 19/1000\n",
      "\u001b[1m5/5\u001b[0m \u001b[32m━━━━━━━━━━━━━━━━━━━━\u001b[0m\u001b[37m\u001b[0m \u001b[1m0s\u001b[0m 77ms/step - loss: 1.8639 - mape: 39.2896 - r2_score: -10.7167 - val_loss: 3.7535 - val_mape: 78.6799 - val_r2_score: -24.7459 - learning_rate: 0.0010\n",
      "Epoch 20/1000\n",
      "\u001b[1m5/5\u001b[0m \u001b[32m━━━━━━━━━━━━━━━━━━━━\u001b[0m\u001b[37m\u001b[0m \u001b[1m0s\u001b[0m 77ms/step - loss: 1.9494 - mape: 41.6077 - r2_score: -11.2464 - val_loss: 3.6788 - val_mape: 77.0641 - val_r2_score: -23.9570 - learning_rate: 0.0010\n",
      "Epoch 21/1000\n",
      "\u001b[1m5/5\u001b[0m \u001b[32m━━━━━━━━━━━━━━━━━━━━\u001b[0m\u001b[37m\u001b[0m \u001b[1m0s\u001b[0m 77ms/step - loss: 1.8483 - mape: 39.1846 - r2_score: -10.6131 - val_loss: 3.5987 - val_mape: 75.3586 - val_r2_score: -23.1758 - learning_rate: 0.0010\n",
      "Epoch 22/1000\n",
      "\u001b[1m5/5\u001b[0m \u001b[32m━━━━━━━━━━━━━━━━━━━━\u001b[0m\u001b[37m\u001b[0m \u001b[1m0s\u001b[0m 77ms/step - loss: 1.7335 - mape: 36.8595 - r2_score: -9.8651 - val_loss: 3.5227 - val_mape: 73.7187 - val_r2_score: -22.4643 - learning_rate: 0.0010\n",
      "Epoch 23/1000\n",
      "\u001b[1m5/5\u001b[0m \u001b[32m━━━━━━━━━━━━━━━━━━━━\u001b[0m\u001b[37m\u001b[0m \u001b[1m0s\u001b[0m 79ms/step - loss: 1.6405 - mape: 34.5921 - r2_score: -9.3873 - val_loss: 3.4392 - val_mape: 71.9287 - val_r2_score: -21.7344 - learning_rate: 0.0010\n",
      "Epoch 24/1000\n",
      "\u001b[1m5/5\u001b[0m \u001b[32m━━━━━━━━━━━━━━━━━━━━\u001b[0m\u001b[37m\u001b[0m \u001b[1m0s\u001b[0m 77ms/step - loss: 1.6790 - mape: 35.2294 - r2_score: -9.6767 - val_loss: 3.3652 - val_mape: 70.3167 - val_r2_score: -21.1252 - learning_rate: 0.0010\n",
      "Epoch 25/1000\n",
      "\u001b[1m5/5\u001b[0m \u001b[32m━━━━━━━━━━━━━━━━━━━━\u001b[0m\u001b[37m\u001b[0m \u001b[1m0s\u001b[0m 78ms/step - loss: 1.7563 - mape: 37.7285 - r2_score: -9.9004 - val_loss: 3.2860 - val_mape: 68.6580 - val_r2_score: -20.5239 - learning_rate: 0.0010\n",
      "Epoch 26/1000\n",
      "\u001b[1m5/5\u001b[0m \u001b[32m━━━━━━━━━━━━━━━━━━━━\u001b[0m\u001b[37m\u001b[0m \u001b[1m0s\u001b[0m 77ms/step - loss: 1.6571 - mape: 35.5312 - r2_score: -10.1620 - val_loss: 3.2184 - val_mape: 67.2784 - val_r2_score: -20.0531 - learning_rate: 0.0010\n",
      "Epoch 27/1000\n",
      "\u001b[1m5/5\u001b[0m \u001b[32m━━━━━━━━━━━━━━━━━━━━\u001b[0m\u001b[37m\u001b[0m \u001b[1m0s\u001b[0m 79ms/step - loss: 1.6536 - mape: 34.5494 - r2_score: -9.6386 - val_loss: 3.1593 - val_mape: 66.0005 - val_r2_score: -19.6459 - learning_rate: 0.0010\n",
      "Epoch 28/1000\n",
      "\u001b[1m5/5\u001b[0m \u001b[32m━━━━━━━━━━━━━━━━━━━━\u001b[0m\u001b[37m\u001b[0m \u001b[1m0s\u001b[0m 77ms/step - loss: 1.7158 - mape: 36.4762 - r2_score: -9.8571 - val_loss: 3.1067 - val_mape: 64.8416 - val_r2_score: -19.3070 - learning_rate: 0.0010\n",
      "Epoch 29/1000\n",
      "\u001b[1m5/5\u001b[0m \u001b[32m━━━━━━━━━━━━━━━━━━━━\u001b[0m\u001b[37m\u001b[0m \u001b[1m0s\u001b[0m 78ms/step - loss: 1.5982 - mape: 34.2643 - r2_score: -9.3814 - val_loss: 3.0389 - val_mape: 63.4394 - val_r2_score: -18.9013 - learning_rate: 0.0010\n",
      "Epoch 30/1000\n",
      "\u001b[1m5/5\u001b[0m \u001b[32m━━━━━━━━━━━━━━━━━━━━\u001b[0m\u001b[37m\u001b[0m \u001b[1m0s\u001b[0m 77ms/step - loss: 1.6586 - mape: 35.4649 - r2_score: -9.5718 - val_loss: 2.9785 - val_mape: 62.2063 - val_r2_score: -18.5655 - learning_rate: 0.0010\n",
      "Epoch 31/1000\n",
      "\u001b[1m5/5\u001b[0m \u001b[32m━━━━━━━━━━━━━━━━━━━━\u001b[0m\u001b[37m\u001b[0m \u001b[1m0s\u001b[0m 78ms/step - loss: 1.5840 - mape: 33.4750 - r2_score: -9.0675 - val_loss: 2.9378 - val_mape: 61.2912 - val_r2_score: -18.3500 - learning_rate: 0.0010\n",
      "Epoch 32/1000\n",
      "\u001b[1m5/5\u001b[0m \u001b[32m━━━━━━━━━━━━━━━━━━━━\u001b[0m\u001b[37m\u001b[0m \u001b[1m0s\u001b[0m 78ms/step - loss: 1.6258 - mape: 34.8674 - r2_score: -9.4328 - val_loss: 2.9002 - val_mape: 60.4864 - val_r2_score: -18.1612 - learning_rate: 0.0010\n",
      "Epoch 33/1000\n",
      "\u001b[1m5/5\u001b[0m \u001b[32m━━━━━━━━━━━━━━━━━━━━\u001b[0m\u001b[37m\u001b[0m \u001b[1m0s\u001b[0m 78ms/step - loss: 1.5689 - mape: 33.0570 - r2_score: -9.1632 - val_loss: 2.8679 - val_mape: 59.7669 - val_r2_score: -18.0102 - learning_rate: 0.0010\n",
      "Epoch 34/1000\n",
      "\u001b[1m5/5\u001b[0m \u001b[32m━━━━━━━━━━━━━━━━━━━━\u001b[0m\u001b[37m\u001b[0m \u001b[1m0s\u001b[0m 78ms/step - loss: 1.5728 - mape: 33.5730 - r2_score: -9.1715 - val_loss: 2.8324 - val_mape: 58.9499 - val_r2_score: -17.8616 - learning_rate: 0.0010\n",
      "Epoch 35/1000\n",
      "\u001b[1m5/5\u001b[0m \u001b[32m━━━━━━━━━━━━━━━━━━━━\u001b[0m\u001b[37m\u001b[0m \u001b[1m0s\u001b[0m 77ms/step - loss: 1.4914 - mape: 31.9693 - r2_score: -8.4302 - val_loss: 2.7917 - val_mape: 58.2396 - val_r2_score: -17.6281 - learning_rate: 0.0010\n",
      "Epoch 36/1000\n",
      "\u001b[1m5/5\u001b[0m \u001b[32m━━━━━━━━━━━━━━━━━━━━\u001b[0m\u001b[37m\u001b[0m \u001b[1m0s\u001b[0m 78ms/step - loss: 1.5192 - mape: 32.7027 - r2_score: -8.4205 - val_loss: 2.7384 - val_mape: 57.3031 - val_r2_score: -17.3612 - learning_rate: 0.0010\n",
      "Epoch 37/1000\n",
      "\u001b[1m5/5\u001b[0m \u001b[32m━━━━━━━━━━━━━━━━━━━━\u001b[0m\u001b[37m\u001b[0m \u001b[1m0s\u001b[0m 77ms/step - loss: 1.4727 - mape: 31.5354 - r2_score: -7.7134 - val_loss: 2.7124 - val_mape: 56.9607 - val_r2_score: -17.1819 - learning_rate: 0.0010\n",
      "Epoch 38/1000\n",
      "\u001b[1m5/5\u001b[0m \u001b[32m━━━━━━━━━━━━━━━━━━━━\u001b[0m\u001b[37m\u001b[0m \u001b[1m0s\u001b[0m 77ms/step - loss: 1.5110 - mape: 32.8323 - r2_score: -8.3268 - val_loss: 2.7165 - val_mape: 57.1843 - val_r2_score: -17.1402 - learning_rate: 0.0010\n",
      "Epoch 39/1000\n",
      "\u001b[1m5/5\u001b[0m \u001b[32m━━━━━━━━━━━━━━━━━━━━\u001b[0m\u001b[37m\u001b[0m \u001b[1m0s\u001b[0m 62ms/step - loss: 1.4215 - mape: 30.6012 - r2_score: -7.7452 - val_loss: 2.7298 - val_mape: 57.6174 - val_r2_score: -17.1549 - learning_rate: 0.0010\n",
      "Epoch 40/1000\n",
      "\u001b[1m5/5\u001b[0m \u001b[32m━━━━━━━━━━━━━━━━━━━━\u001b[0m\u001b[37m\u001b[0m \u001b[1m0s\u001b[0m 63ms/step - loss: 1.6068 - mape: 35.0166 - r2_score: -8.8221 - val_loss: 2.7318 - val_mape: 57.7060 - val_r2_score: -17.1511 - learning_rate: 0.0010\n",
      "Epoch 41/1000\n",
      "\u001b[1m5/5\u001b[0m \u001b[32m━━━━━━━━━━━━━━━━━━━━\u001b[0m\u001b[37m\u001b[0m \u001b[1m0s\u001b[0m 77ms/step - loss: 1.5823 - mape: 33.6255 - r2_score: -8.6931 - val_loss: 2.6911 - val_mape: 56.9217 - val_r2_score: -16.9803 - learning_rate: 0.0010\n",
      "Epoch 42/1000\n",
      "\u001b[1m5/5\u001b[0m \u001b[32m━━━━━━━━━━━━━━━━━━━━\u001b[0m\u001b[37m\u001b[0m \u001b[1m0s\u001b[0m 77ms/step - loss: 1.4075 - mape: 30.0130 - r2_score: -6.8290 - val_loss: 2.6223 - val_mape: 55.6019 - val_r2_score: -16.7584 - learning_rate: 0.0010\n",
      "Epoch 43/1000\n",
      "\u001b[1m5/5\u001b[0m \u001b[32m━━━━━━━━━━━━━━━━━━━━\u001b[0m\u001b[37m\u001b[0m \u001b[1m0s\u001b[0m 77ms/step - loss: 1.4929 - mape: 32.2385 - r2_score: -8.5807 - val_loss: 2.6010 - val_mape: 55.2217 - val_r2_score: -16.6977 - learning_rate: 0.0010\n",
      "Epoch 44/1000\n",
      "\u001b[1m5/5\u001b[0m \u001b[32m━━━━━━━━━━━━━━━━━━━━\u001b[0m\u001b[37m\u001b[0m \u001b[1m0s\u001b[0m 62ms/step - loss: 1.5168 - mape: 32.6276 - r2_score: -8.2972 - val_loss: 2.6296 - val_mape: 55.8885 - val_r2_score: -16.7491 - learning_rate: 0.0010\n",
      "Epoch 45/1000\n",
      "\u001b[1m5/5\u001b[0m \u001b[32m━━━━━━━━━━━━━━━━━━━━\u001b[0m\u001b[37m\u001b[0m \u001b[1m0s\u001b[0m 64ms/step - loss: 1.4215 - mape: 30.4391 - r2_score: -7.6585 - val_loss: 2.6475 - val_mape: 56.3837 - val_r2_score: -16.7975 - learning_rate: 0.0010\n",
      "Epoch 46/1000\n",
      "\u001b[1m5/5\u001b[0m \u001b[32m━━━━━━━━━━━━━━━━━━━━\u001b[0m\u001b[37m\u001b[0m \u001b[1m0s\u001b[0m 63ms/step - loss: 1.4100 - mape: 30.5327 - r2_score: -6.9335 - val_loss: 2.6394 - val_mape: 56.2701 - val_r2_score: -16.7721 - learning_rate: 0.0010\n",
      "Epoch 47/1000\n",
      "\u001b[1m5/5\u001b[0m \u001b[32m━━━━━━━━━━━━━━━━━━━━\u001b[0m\u001b[37m\u001b[0m \u001b[1m0s\u001b[0m 77ms/step - loss: 1.4660 - mape: 31.7846 - r2_score: -7.4644 - val_loss: 2.6047 - val_mape: 55.5475 - val_r2_score: -16.6658 - learning_rate: 0.0010\n",
      "Epoch 48/1000\n",
      "\u001b[1m5/5\u001b[0m \u001b[32m━━━━━━━━━━━━━━━━━━━━\u001b[0m\u001b[37m\u001b[0m \u001b[1m0s\u001b[0m 77ms/step - loss: 1.4174 - mape: 30.6300 - r2_score: -7.7383 - val_loss: 2.5741 - val_mape: 54.8906 - val_r2_score: -16.6058 - learning_rate: 0.0010\n",
      "Epoch 49/1000\n",
      "\u001b[1m5/5\u001b[0m \u001b[32m━━━━━━━━━━━━━━━━━━━━\u001b[0m\u001b[37m\u001b[0m \u001b[1m0s\u001b[0m 63ms/step - loss: 1.4436 - mape: 30.7458 - r2_score: -7.7639 - val_loss: 2.5917 - val_mape: 55.2852 - val_r2_score: -16.6452 - learning_rate: 0.0010\n",
      "Epoch 50/1000\n",
      "\u001b[1m5/5\u001b[0m \u001b[32m━━━━━━━━━━━━━━━━━━━━\u001b[0m\u001b[37m\u001b[0m \u001b[1m0s\u001b[0m 63ms/step - loss: 1.4866 - mape: 31.3216 - r2_score: -8.5665 - val_loss: 2.6015 - val_mape: 55.5726 - val_r2_score: -16.6631 - learning_rate: 0.0010\n",
      "Epoch 51/1000\n",
      "\u001b[1m5/5\u001b[0m \u001b[32m━━━━━━━━━━━━━━━━━━━━\u001b[0m\u001b[37m\u001b[0m \u001b[1m0s\u001b[0m 64ms/step - loss: 1.3975 - mape: 30.1447 - r2_score: -6.8495 - val_loss: 2.5813 - val_mape: 55.1808 - val_r2_score: -16.6120 - learning_rate: 0.0010\n",
      "Epoch 52/1000\n",
      "\u001b[1m5/5\u001b[0m \u001b[32m━━━━━━━━━━━━━━━━━━━━\u001b[0m\u001b[37m\u001b[0m \u001b[1m0s\u001b[0m 77ms/step - loss: 1.4006 - mape: 29.8862 - r2_score: -7.4008 - val_loss: 2.5375 - val_mape: 54.1809 - val_r2_score: -16.5642 - learning_rate: 0.0010\n",
      "Epoch 53/1000\n",
      "\u001b[1m5/5\u001b[0m \u001b[32m━━━━━━━━━━━━━━━━━━━━\u001b[0m\u001b[37m\u001b[0m \u001b[1m0s\u001b[0m 77ms/step - loss: 1.3605 - mape: 29.1408 - r2_score: -6.7825 - val_loss: 2.5182 - val_mape: 53.8390 - val_r2_score: -16.5242 - learning_rate: 0.0010\n",
      "Epoch 54/1000\n",
      "\u001b[1m5/5\u001b[0m \u001b[32m━━━━━━━━━━━━━━━━━━━━\u001b[0m\u001b[37m\u001b[0m \u001b[1m0s\u001b[0m 79ms/step - loss: 1.3738 - mape: 28.8950 - r2_score: -7.7372 - val_loss: 2.5369 - val_mape: 54.3544 - val_r2_score: -16.5134 - learning_rate: 0.0010\n",
      "Epoch 55/1000\n",
      "\u001b[1m5/5\u001b[0m \u001b[32m━━━━━━━━━━━━━━━━━━━━\u001b[0m\u001b[37m\u001b[0m \u001b[1m0s\u001b[0m 78ms/step - loss: 1.2728 - mape: 27.3639 - r2_score: -6.0780 - val_loss: 2.5351 - val_mape: 54.3986 - val_r2_score: -16.5014 - learning_rate: 0.0010\n",
      "Epoch 56/1000\n",
      "\u001b[1m5/5\u001b[0m \u001b[32m━━━━━━━━━━━━━━━━━━━━\u001b[0m\u001b[37m\u001b[0m \u001b[1m0s\u001b[0m 77ms/step - loss: 1.3460 - mape: 28.7350 - r2_score: -6.1141 - val_loss: 2.5013 - val_mape: 53.8376 - val_r2_score: -16.4340 - learning_rate: 0.0010\n",
      "Epoch 57/1000\n",
      "\u001b[1m5/5\u001b[0m \u001b[32m━━━━━━━━━━━━━━━━━━━━\u001b[0m\u001b[37m\u001b[0m \u001b[1m0s\u001b[0m 78ms/step - loss: 1.3867 - mape: 29.5827 - r2_score: -6.9036 - val_loss: 2.4768 - val_mape: 53.6143 - val_r2_score: -16.4023 - learning_rate: 0.0010\n",
      "Epoch 58/1000\n",
      "\u001b[1m5/5\u001b[0m \u001b[32m━━━━━━━━━━━━━━━━━━━━\u001b[0m\u001b[37m\u001b[0m \u001b[1m0s\u001b[0m 65ms/step - loss: 1.4492 - mape: 31.4573 - r2_score: -7.0290 - val_loss: 2.4813 - val_mape: 53.8352 - val_r2_score: -16.4393 - learning_rate: 0.0010\n",
      "Epoch 59/1000\n",
      "\u001b[1m5/5\u001b[0m \u001b[32m━━━━━━━━━━━━━━━━━━━━\u001b[0m\u001b[37m\u001b[0m \u001b[1m0s\u001b[0m 77ms/step - loss: 1.3165 - mape: 28.9292 - r2_score: -5.7507 - val_loss: 2.4694 - val_mape: 53.4016 - val_r2_score: -16.3916 - learning_rate: 0.0010\n",
      "Epoch 60/1000\n",
      "\u001b[1m5/5\u001b[0m \u001b[32m━━━━━━━━━━━━━━━━━━━━\u001b[0m\u001b[37m\u001b[0m \u001b[1m0s\u001b[0m 62ms/step - loss: 1.2279 - mape: 26.4694 - r2_score: -5.5517 - val_loss: 2.4812 - val_mape: 53.5553 - val_r2_score: -16.4238 - learning_rate: 0.0010\n",
      "Epoch 61/1000\n",
      "\u001b[1m5/5\u001b[0m \u001b[32m━━━━━━━━━━━━━━━━━━━━\u001b[0m\u001b[37m\u001b[0m \u001b[1m0s\u001b[0m 76ms/step - loss: 1.3072 - mape: 27.8909 - r2_score: -6.0147 - val_loss: 2.5040 - val_mape: 54.2058 - val_r2_score: -16.0914 - learning_rate: 0.0010\n",
      "Epoch 62/1000\n",
      "\u001b[1m5/5\u001b[0m \u001b[32m━━━━━━━━━━━━━━━━━━━━\u001b[0m\u001b[37m\u001b[0m \u001b[1m0s\u001b[0m 78ms/step - loss: 1.2038 - mape: 25.8004 - r2_score: -4.6772 - val_loss: 2.5116 - val_mape: 54.6365 - val_r2_score: -15.6859 - learning_rate: 0.0010\n",
      "Epoch 63/1000\n",
      "\u001b[1m5/5\u001b[0m \u001b[32m━━━━━━━━━━━━━━━━━━━━\u001b[0m\u001b[37m\u001b[0m \u001b[1m0s\u001b[0m 78ms/step - loss: 1.3877 - mape: 29.9891 - r2_score: -6.6500 - val_loss: 2.4772 - val_mape: 54.0729 - val_r2_score: -15.6116 - learning_rate: 0.0010\n",
      "Epoch 64/1000\n",
      "\u001b[1m5/5\u001b[0m \u001b[32m━━━━━━━━━━━━━━━━━━━━\u001b[0m\u001b[37m\u001b[0m \u001b[1m0s\u001b[0m 62ms/step - loss: 1.3192 - mape: 28.8998 - r2_score: -6.3552 - val_loss: 2.3933 - val_mape: 52.0791 - val_r2_score: -15.7546 - learning_rate: 0.0010\n",
      "Epoch 65/1000\n",
      "\u001b[1m5/5\u001b[0m \u001b[32m━━━━━━━━━━━━━━━━━━━━\u001b[0m\u001b[37m\u001b[0m \u001b[1m0s\u001b[0m 76ms/step - loss: 1.1099 - mape: 24.2446 - r2_score: -4.5576 - val_loss: 2.3735 - val_mape: 51.5135 - val_r2_score: -15.5106 - learning_rate: 0.0010\n",
      "Epoch 66/1000\n",
      "\u001b[1m5/5\u001b[0m \u001b[32m━━━━━━━━━━━━━━━━━━━━\u001b[0m\u001b[37m\u001b[0m \u001b[1m0s\u001b[0m 77ms/step - loss: 1.1993 - mape: 26.2948 - r2_score: -4.9598 - val_loss: 2.3663 - val_mape: 51.5860 - val_r2_score: -14.9233 - learning_rate: 0.0010\n",
      "Epoch 67/1000\n",
      "\u001b[1m5/5\u001b[0m \u001b[32m━━━━━━━━━━━━━━━━━━━━\u001b[0m\u001b[37m\u001b[0m \u001b[1m0s\u001b[0m 77ms/step - loss: 1.1422 - mape: 24.9999 - r2_score: -5.3800 - val_loss: 2.3168 - val_mape: 50.6470 - val_r2_score: -13.7369 - learning_rate: 0.0010\n",
      "Epoch 68/1000\n",
      "\u001b[1m5/5\u001b[0m \u001b[32m━━━━━━━━━━━━━━━━━━━━\u001b[0m\u001b[37m\u001b[0m \u001b[1m0s\u001b[0m 77ms/step - loss: 1.1878 - mape: 26.2985 - r2_score: -4.5519 - val_loss: 2.2486 - val_mape: 49.0372 - val_r2_score: -13.1914 - learning_rate: 0.0010\n",
      "Epoch 69/1000\n",
      "\u001b[1m5/5\u001b[0m \u001b[32m━━━━━━━━━━━━━━━━━━━━\u001b[0m\u001b[37m\u001b[0m \u001b[1m0s\u001b[0m 79ms/step - loss: 1.0989 - mape: 23.8667 - r2_score: -4.6332 - val_loss: 2.1947 - val_mape: 47.7725 - val_r2_score: -12.6716 - learning_rate: 0.0010\n",
      "Epoch 70/1000\n",
      "\u001b[1m5/5\u001b[0m \u001b[32m━━━━━━━━━━━━━━━━━━━━\u001b[0m\u001b[37m\u001b[0m \u001b[1m0s\u001b[0m 77ms/step - loss: 1.1125 - mape: 24.4883 - r2_score: -4.6437 - val_loss: 2.1442 - val_mape: 46.5836 - val_r2_score: -12.0167 - learning_rate: 0.0010\n",
      "Epoch 71/1000\n",
      "\u001b[1m5/5\u001b[0m \u001b[32m━━━━━━━━━━━━━━━━━━━━\u001b[0m\u001b[37m\u001b[0m \u001b[1m0s\u001b[0m 78ms/step - loss: 1.0046 - mape: 22.0087 - r2_score: -3.9091 - val_loss: 2.1162 - val_mape: 45.8450 - val_r2_score: -11.4823 - learning_rate: 0.0010\n",
      "Epoch 72/1000\n",
      "\u001b[1m5/5\u001b[0m \u001b[32m━━━━━━━━━━━━━━━━━━━━\u001b[0m\u001b[37m\u001b[0m \u001b[1m0s\u001b[0m 78ms/step - loss: 0.9919 - mape: 21.6096 - r2_score: -3.8371 - val_loss: 2.0898 - val_mape: 45.1900 - val_r2_score: -11.0353 - learning_rate: 0.0010\n",
      "Epoch 73/1000\n",
      "\u001b[1m5/5\u001b[0m \u001b[32m━━━━━━━━━━━━━━━━━━━━\u001b[0m\u001b[37m\u001b[0m \u001b[1m0s\u001b[0m 76ms/step - loss: 1.1705 - mape: 25.0994 - r2_score: -4.8372 - val_loss: 2.0541 - val_mape: 44.4426 - val_r2_score: -10.6071 - learning_rate: 0.0010\n",
      "Epoch 74/1000\n",
      "\u001b[1m5/5\u001b[0m \u001b[32m━━━━━━━━━━━━━━━━━━━━\u001b[0m\u001b[37m\u001b[0m \u001b[1m0s\u001b[0m 79ms/step - loss: 1.1706 - mape: 25.0560 - r2_score: -4.3778 - val_loss: 1.9938 - val_mape: 43.2224 - val_r2_score: -9.8226 - learning_rate: 0.0010\n",
      "Epoch 75/1000\n",
      "\u001b[1m5/5\u001b[0m \u001b[32m━━━━━━━━━━━━━━━━━━━━\u001b[0m\u001b[37m\u001b[0m \u001b[1m0s\u001b[0m 77ms/step - loss: 0.9056 - mape: 19.9407 - r2_score: -3.3858 - val_loss: 1.9337 - val_mape: 41.8504 - val_r2_score: -8.9964 - learning_rate: 0.0010\n",
      "Epoch 76/1000\n",
      "\u001b[1m5/5\u001b[0m \u001b[32m━━━━━━━━━━━━━━━━━━━━\u001b[0m\u001b[37m\u001b[0m \u001b[1m0s\u001b[0m 77ms/step - loss: 0.8403 - mape: 18.2765 - r2_score: -2.9379 - val_loss: 1.9113 - val_mape: 41.1396 - val_r2_score: -8.9604 - learning_rate: 0.0010\n",
      "Epoch 77/1000\n",
      "\u001b[1m5/5\u001b[0m \u001b[32m━━━━━━━━━━━━━━━━━━━━\u001b[0m\u001b[37m\u001b[0m \u001b[1m0s\u001b[0m 77ms/step - loss: 1.0115 - mape: 21.8189 - r2_score: -3.4170 - val_loss: 1.7136 - val_mape: 37.0683 - val_r2_score: -6.7401 - learning_rate: 0.0010\n",
      "Epoch 78/1000\n",
      "\u001b[1m5/5\u001b[0m \u001b[32m━━━━━━━━━━━━━━━━━━━━\u001b[0m\u001b[37m\u001b[0m \u001b[1m0s\u001b[0m 78ms/step - loss: 1.0408 - mape: 22.4170 - r2_score: -3.8001 - val_loss: 1.4844 - val_mape: 32.3402 - val_r2_score: -4.6371 - learning_rate: 0.0010\n",
      "Epoch 79/1000\n",
      "\u001b[1m5/5\u001b[0m \u001b[32m━━━━━━━━━━━━━━━━━━━━\u001b[0m\u001b[37m\u001b[0m \u001b[1m0s\u001b[0m 63ms/step - loss: 1.1272 - mape: 25.1623 - r2_score: -3.9304 - val_loss: 1.4898 - val_mape: 32.5877 - val_r2_score: -5.1400 - learning_rate: 0.0010\n",
      "Epoch 80/1000\n",
      "\u001b[1m5/5\u001b[0m \u001b[32m━━━━━━━━━━━━━━━━━━━━\u001b[0m\u001b[37m\u001b[0m \u001b[1m0s\u001b[0m 63ms/step - loss: 0.9446 - mape: 20.9773 - r2_score: -3.1551 - val_loss: 1.7416 - val_mape: 37.5773 - val_r2_score: -7.1091 - learning_rate: 0.0010\n",
      "Epoch 81/1000\n",
      "\u001b[1m5/5\u001b[0m \u001b[32m━━━━━━━━━━━━━━━━━━━━\u001b[0m\u001b[37m\u001b[0m \u001b[1m0s\u001b[0m 77ms/step - loss: 0.9711 - mape: 21.0628 - r2_score: -3.0943 - val_loss: 1.4482 - val_mape: 31.1447 - val_r2_score: -4.6370 - learning_rate: 0.0010\n",
      "Epoch 82/1000\n",
      "\u001b[1m5/5\u001b[0m \u001b[32m━━━━━━━━━━━━━━━━━━━━\u001b[0m\u001b[37m\u001b[0m \u001b[1m0s\u001b[0m 77ms/step - loss: 0.9653 - mape: 21.0424 - r2_score: -2.9334 - val_loss: 1.1188 - val_mape: 24.1473 - val_r2_score: -1.9979 - learning_rate: 0.0010\n",
      "Epoch 83/1000\n",
      "\u001b[1m5/5\u001b[0m \u001b[32m━━━━━━━━━━━━━━━━━━━━\u001b[0m\u001b[37m\u001b[0m \u001b[1m0s\u001b[0m 77ms/step - loss: 0.9149 - mape: 19.8026 - r2_score: -2.3177 - val_loss: 1.0450 - val_mape: 22.3565 - val_r2_score: -1.6579 - learning_rate: 0.0010\n",
      "Epoch 84/1000\n",
      "\u001b[1m5/5\u001b[0m \u001b[32m━━━━━━━━━━━━━━━━━━━━\u001b[0m\u001b[37m\u001b[0m \u001b[1m0s\u001b[0m 79ms/step - loss: 0.7000 - mape: 14.9427 - r2_score: -0.8590 - val_loss: 0.9062 - val_mape: 18.8743 - val_r2_score: -1.2328 - learning_rate: 0.0010\n",
      "Epoch 85/1000\n",
      "\u001b[1m5/5\u001b[0m \u001b[32m━━━━━━━━━━━━━━━━━━━━\u001b[0m\u001b[37m\u001b[0m \u001b[1m0s\u001b[0m 82ms/step - loss: 0.6905 - mape: 14.5900 - r2_score: -0.7637 - val_loss: 0.8996 - val_mape: 18.3458 - val_r2_score: -1.1774 - learning_rate: 0.0010\n",
      "Epoch 86/1000\n",
      "\u001b[1m5/5\u001b[0m \u001b[32m━━━━━━━━━━━━━━━━━━━━\u001b[0m\u001b[37m\u001b[0m \u001b[1m0s\u001b[0m 78ms/step - loss: 0.7448 - mape: 15.6687 - r2_score: -0.5694 - val_loss: 0.7044 - val_mape: 14.4333 - val_r2_score: -0.4642 - learning_rate: 0.0010\n",
      "Epoch 87/1000\n",
      "\u001b[1m5/5\u001b[0m \u001b[32m━━━━━━━━━━━━━━━━━━━━\u001b[0m\u001b[37m\u001b[0m \u001b[1m0s\u001b[0m 78ms/step - loss: 0.7514 - mape: 15.8594 - r2_score: -0.7769 - val_loss: 0.6864 - val_mape: 14.4441 - val_r2_score: -0.2422 - learning_rate: 0.0010\n",
      "Epoch 88/1000\n",
      "\u001b[1m5/5\u001b[0m \u001b[32m━━━━━━━━━━━━━━━━━━━━\u001b[0m\u001b[37m\u001b[0m \u001b[1m0s\u001b[0m 63ms/step - loss: 0.6559 - mape: 14.3137 - r2_score: -0.3707 - val_loss: 0.8325 - val_mape: 17.9183 - val_r2_score: -0.8223 - learning_rate: 0.0010\n",
      "Epoch 89/1000\n",
      "\u001b[1m5/5\u001b[0m \u001b[32m━━━━━━━━━━━━━━━━━━━━\u001b[0m\u001b[37m\u001b[0m \u001b[1m0s\u001b[0m 63ms/step - loss: 0.5964 - mape: 13.1448 - r2_score: -0.1804 - val_loss: 0.8308 - val_mape: 17.8718 - val_r2_score: -0.8771 - learning_rate: 0.0010\n",
      "Epoch 90/1000\n",
      "\u001b[1m5/5\u001b[0m \u001b[32m━━━━━━━━━━━━━━━━━━━━\u001b[0m\u001b[37m\u001b[0m \u001b[1m0s\u001b[0m 77ms/step - loss: 0.6795 - mape: 15.1622 - r2_score: -0.5161 - val_loss: 0.6358 - val_mape: 13.3501 - val_r2_score: -0.0377 - learning_rate: 0.0010\n",
      "Epoch 91/1000\n",
      "\u001b[1m5/5\u001b[0m \u001b[32m━━━━━━━━━━━━━━━━━━━━\u001b[0m\u001b[37m\u001b[0m \u001b[1m0s\u001b[0m 63ms/step - loss: 0.7347 - mape: 16.0563 - r2_score: -0.6218 - val_loss: 0.6927 - val_mape: 14.4660 - val_r2_score: -0.2852 - learning_rate: 0.0010\n",
      "Epoch 92/1000\n",
      "\u001b[1m5/5\u001b[0m \u001b[32m━━━━━━━━━━━━━━━━━━━━\u001b[0m\u001b[37m\u001b[0m \u001b[1m0s\u001b[0m 63ms/step - loss: 0.7461 - mape: 16.3439 - r2_score: -0.6477 - val_loss: 0.9793 - val_mape: 20.5607 - val_r2_score: -1.5779 - learning_rate: 0.0010\n",
      "Epoch 93/1000\n",
      "\u001b[1m5/5\u001b[0m \u001b[32m━━━━━━━━━━━━━━━━━━━━\u001b[0m\u001b[37m\u001b[0m \u001b[1m0s\u001b[0m 62ms/step - loss: 0.7073 - mape: 15.4240 - r2_score: -0.7041 - val_loss: 0.9667 - val_mape: 20.0577 - val_r2_score: -1.5816 - learning_rate: 0.0010\n",
      "Epoch 94/1000\n",
      "\u001b[1m5/5\u001b[0m \u001b[32m━━━━━━━━━━━━━━━━━━━━\u001b[0m\u001b[37m\u001b[0m \u001b[1m0s\u001b[0m 64ms/step - loss: 0.6270 - mape: 14.0954 - r2_score: -0.5551 - val_loss: 0.6813 - val_mape: 13.4183 - val_r2_score: -0.3531 - learning_rate: 0.0010\n",
      "Epoch 95/1000\n",
      "\u001b[1m5/5\u001b[0m \u001b[32m━━━━━━━━━━━━━━━━━━━━\u001b[0m\u001b[37m\u001b[0m \u001b[1m0s\u001b[0m 63ms/step - loss: 0.6789 - mape: 14.1493 - r2_score: -0.3102 - val_loss: 0.8816 - val_mape: 18.1988 - val_r2_score: -0.7779 - learning_rate: 0.0010\n",
      "Epoch 96/1000\n",
      "\u001b[1m5/5\u001b[0m \u001b[32m━━━━━━━━━━━━━━━━━━━━\u001b[0m\u001b[37m\u001b[0m \u001b[1m0s\u001b[0m 62ms/step - loss: 0.8251 - mape: 17.8391 - r2_score: -1.1547 - val_loss: 0.7789 - val_mape: 16.4085 - val_r2_score: -0.5591 - learning_rate: 0.0010\n",
      "Epoch 97/1000\n",
      "\u001b[1m5/5\u001b[0m \u001b[32m━━━━━━━━━━━━━━━━━━━━\u001b[0m\u001b[37m\u001b[0m \u001b[1m0s\u001b[0m 62ms/step - loss: 0.6705 - mape: 14.8429 - r2_score: -0.5065 - val_loss: 1.0781 - val_mape: 23.0401 - val_r2_score: -2.1487 - learning_rate: 0.0010\n",
      "Epoch 98/1000\n",
      "\u001b[1m5/5\u001b[0m \u001b[32m━━━━━━━━━━━━━━━━━━━━\u001b[0m\u001b[37m\u001b[0m \u001b[1m0s\u001b[0m 61ms/step - loss: 0.5567 - mape: 12.0341 - r2_score: 0.0472 - val_loss: 0.7563 - val_mape: 15.7129 - val_r2_score: -0.5092 - learning_rate: 0.0010\n",
      "Epoch 99/1000\n",
      "\u001b[1m5/5\u001b[0m \u001b[32m━━━━━━━━━━━━━━━━━━━━\u001b[0m\u001b[37m\u001b[0m \u001b[1m0s\u001b[0m 63ms/step - loss: 0.6237 - mape: 13.6736 - r2_score: 0.0212 - val_loss: 0.6646 - val_mape: 13.5491 - val_r2_score: -0.1363 - learning_rate: 0.0010\n",
      "Epoch 100/1000\n",
      "\u001b[1m5/5\u001b[0m \u001b[32m━━━━━━━━━━━━━━━━━━━━\u001b[0m\u001b[37m\u001b[0m \u001b[1m0s\u001b[0m 63ms/step - loss: 0.6639 - mape: 14.2292 - r2_score: -0.1120 - val_loss: 0.6498 - val_mape: 13.3928 - val_r2_score: -0.0962 - learning_rate: 0.0010\n",
      "Epoch 101/1000\n",
      "\u001b[1m5/5\u001b[0m \u001b[32m━━━━━━━━━━━━━━━━━━━━\u001b[0m\u001b[37m\u001b[0m \u001b[1m0s\u001b[0m 63ms/step - loss: 0.6216 - mape: 13.9299 - r2_score: -0.1513 - val_loss: 0.5984 - val_mape: 12.0674 - val_r2_score: -0.0714 - learning_rate: 0.0010\n",
      "Epoch 102/1000\n",
      "\u001b[1m5/5\u001b[0m \u001b[32m━━━━━━━━━━━━━━━━━━━━\u001b[0m\u001b[37m\u001b[0m \u001b[1m0s\u001b[0m 62ms/step - loss: 0.6279 - mape: 13.5101 - r2_score: -0.0687 - val_loss: 0.6345 - val_mape: 13.0221 - val_r2_score: -0.1434 - learning_rate: 0.0010\n",
      "Epoch 103/1000\n",
      "\u001b[1m5/5\u001b[0m \u001b[32m━━━━━━━━━━━━━━━━━━━━\u001b[0m\u001b[37m\u001b[0m \u001b[1m0s\u001b[0m 62ms/step - loss: 0.6313 - mape: 13.8745 - r2_score: -0.1798 - val_loss: 0.6541 - val_mape: 13.4183 - val_r2_score: -0.2194 - learning_rate: 0.0010\n",
      "Epoch 104/1000\n",
      "\u001b[1m5/5\u001b[0m \u001b[32m━━━━━━━━━━━━━━━━━━━━\u001b[0m\u001b[37m\u001b[0m \u001b[1m0s\u001b[0m 62ms/step - loss: 0.5249 - mape: 11.4231 - r2_score: 0.1439 - val_loss: 0.6964 - val_mape: 14.3122 - val_r2_score: -0.3486 - learning_rate: 0.0010\n",
      "Epoch 105/1000\n",
      "\u001b[1m5/5\u001b[0m \u001b[32m━━━━━━━━━━━━━━━━━━━━\u001b[0m\u001b[37m\u001b[0m \u001b[1m0s\u001b[0m 62ms/step - loss: 0.6070 - mape: 13.6352 - r2_score: -0.1722 - val_loss: 0.7193 - val_mape: 14.9568 - val_r2_score: -0.3226 - learning_rate: 0.0010\n",
      "Epoch 106/1000\n",
      "\u001b[1m5/5\u001b[0m \u001b[32m━━━━━━━━━━━━━━━━━━━━\u001b[0m\u001b[37m\u001b[0m \u001b[1m0s\u001b[0m 77ms/step - loss: 0.6451 - mape: 13.7221 - r2_score: -0.2278 - val_loss: 0.6005 - val_mape: 12.1101 - val_r2_score: -0.0200 - learning_rate: 0.0010\n",
      "Epoch 107/1000\n",
      "\u001b[1m5/5\u001b[0m \u001b[32m━━━━━━━━━━━━━━━━━━━━\u001b[0m\u001b[37m\u001b[0m \u001b[1m0s\u001b[0m 62ms/step - loss: 0.5109 - mape: 11.2631 - r2_score: 0.2081 - val_loss: 0.6137 - val_mape: 12.4261 - val_r2_score: -0.0608 - learning_rate: 0.0010\n",
      "Epoch 108/1000\n",
      "\u001b[1m5/5\u001b[0m \u001b[32m━━━━━━━━━━━━━━━━━━━━\u001b[0m\u001b[37m\u001b[0m \u001b[1m0s\u001b[0m 62ms/step - loss: 0.5759 - mape: 12.7830 - r2_score: 0.0067 - val_loss: 0.5789 - val_mape: 11.5796 - val_r2_score: -0.0525 - learning_rate: 0.0010\n",
      "Epoch 109/1000\n",
      "\u001b[1m5/5\u001b[0m \u001b[32m━━━━━━━━━━━━━━━━━━━━\u001b[0m\u001b[37m\u001b[0m \u001b[1m0s\u001b[0m 62ms/step - loss: 0.6696 - mape: 14.5268 - r2_score: -0.1460 - val_loss: 0.5949 - val_mape: 11.9084 - val_r2_score: -0.0703 - learning_rate: 0.0010\n",
      "Epoch 110/1000\n",
      "\u001b[1m5/5\u001b[0m \u001b[32m━━━━━━━━━━━━━━━━━━━━\u001b[0m\u001b[37m\u001b[0m \u001b[1m0s\u001b[0m 62ms/step - loss: 0.6775 - mape: 14.6855 - r2_score: -0.4123 - val_loss: 0.6139 - val_mape: 12.3533 - val_r2_score: -0.1010 - learning_rate: 0.0010\n",
      "Epoch 111/1000\n",
      "\u001b[1m5/5\u001b[0m \u001b[32m━━━━━━━━━━━━━━━━━━━━\u001b[0m\u001b[37m\u001b[0m \u001b[1m0s\u001b[0m 62ms/step - loss: 0.6328 - mape: 13.6336 - r2_score: -0.3012 - val_loss: 0.5723 - val_mape: 11.3870 - val_r2_score: -0.0785 - learning_rate: 0.0010\n",
      "Epoch 112/1000\n",
      "\u001b[1m5/5\u001b[0m \u001b[32m━━━━━━━━━━━━━━━━━━━━\u001b[0m\u001b[37m\u001b[0m \u001b[1m0s\u001b[0m 63ms/step - loss: 0.6508 - mape: 13.9164 - r2_score: -0.3095 - val_loss: 0.5759 - val_mape: 11.3951 - val_r2_score: -0.1254 - learning_rate: 0.0010\n",
      "Epoch 113/1000\n",
      "\u001b[1m5/5\u001b[0m \u001b[32m━━━━━━━━━━━━━━━━━━━━\u001b[0m\u001b[37m\u001b[0m \u001b[1m0s\u001b[0m 63ms/step - loss: 0.6228 - mape: 13.5082 - r2_score: -0.1248 - val_loss: 0.5752 - val_mape: 11.0875 - val_r2_score: -0.2670 - learning_rate: 0.0010\n",
      "Epoch 114/1000\n",
      "\u001b[1m5/5\u001b[0m \u001b[32m━━━━━━━━━━━━━━━━━━━━\u001b[0m\u001b[37m\u001b[0m \u001b[1m0s\u001b[0m 62ms/step - loss: 0.5391 - mape: 11.5066 - r2_score: 0.1409 - val_loss: 0.8298 - val_mape: 17.1921 - val_r2_score: -0.6799 - learning_rate: 0.0010\n",
      "Epoch 115/1000\n",
      "\u001b[1m5/5\u001b[0m \u001b[32m━━━━━━━━━━━━━━━━━━━━\u001b[0m\u001b[37m\u001b[0m \u001b[1m0s\u001b[0m 62ms/step - loss: 0.5759 - mape: 12.7521 - r2_score: -0.0318 - val_loss: 0.8698 - val_mape: 18.1176 - val_r2_score: -0.8011 - learning_rate: 0.0010\n",
      "Epoch 116/1000\n",
      "\u001b[1m5/5\u001b[0m \u001b[32m━━━━━━━━━━━━━━━━━━━━\u001b[0m\u001b[37m\u001b[0m \u001b[1m0s\u001b[0m 63ms/step - loss: 0.7162 - mape: 15.5162 - r2_score: -0.5244 - val_loss: 0.5990 - val_mape: 11.7111 - val_r2_score: -0.2632 - learning_rate: 0.0010\n",
      "Epoch 117/1000\n",
      "\u001b[1m5/5\u001b[0m \u001b[32m━━━━━━━━━━━━━━━━━━━━\u001b[0m\u001b[37m\u001b[0m \u001b[1m0s\u001b[0m 63ms/step - loss: 0.6192 - mape: 13.4590 - r2_score: -0.0899 - val_loss: 0.6552 - val_mape: 12.8567 - val_r2_score: -0.4929 - learning_rate: 0.0010\n",
      "Epoch 118/1000\n",
      "\u001b[1m5/5\u001b[0m \u001b[32m━━━━━━━━━━━━━━━━━━━━\u001b[0m\u001b[37m\u001b[0m \u001b[1m0s\u001b[0m 63ms/step - loss: 0.7225 - mape: 16.1312 - r2_score: -0.5855 - val_loss: 0.7319 - val_mape: 14.8446 - val_r2_score: -0.3972 - learning_rate: 0.0010\n",
      "Epoch 119/1000\n",
      "\u001b[1m5/5\u001b[0m \u001b[32m━━━━━━━━━━━━━━━━━━━━\u001b[0m\u001b[37m\u001b[0m \u001b[1m0s\u001b[0m 63ms/step - loss: 0.6152 - mape: 13.3764 - r2_score: -0.1685 - val_loss: 0.6362 - val_mape: 12.6365 - val_r2_score: -0.2182 - learning_rate: 0.0010\n",
      "Epoch 120/1000\n",
      "\u001b[1m5/5\u001b[0m \u001b[32m━━━━━━━━━━━━━━━━━━━━\u001b[0m\u001b[37m\u001b[0m \u001b[1m0s\u001b[0m 63ms/step - loss: 0.5517 - mape: 11.9114 - r2_score: 0.1467 - val_loss: 0.6518 - val_mape: 12.7040 - val_r2_score: -0.4198 - learning_rate: 0.0010\n",
      "Epoch 121/1000\n",
      "\u001b[1m5/5\u001b[0m \u001b[32m━━━━━━━━━━━━━━━━━━━━\u001b[0m\u001b[37m\u001b[0m \u001b[1m0s\u001b[0m 63ms/step - loss: 0.6104 - mape: 13.4772 - r2_score: -0.3717 - val_loss: 0.6029 - val_mape: 11.6817 - val_r2_score: -0.2704 - learning_rate: 0.0010\n",
      "Epoch 122/1000\n",
      "\u001b[1m5/5\u001b[0m \u001b[32m━━━━━━━━━━━━━━━━━━━━\u001b[0m\u001b[37m\u001b[0m \u001b[1m0s\u001b[0m 62ms/step - loss: 0.5119 - mape: 11.0522 - r2_score: 0.2315 - val_loss: 0.6577 - val_mape: 13.0546 - val_r2_score: -0.3080 - learning_rate: 8.0000e-04\n",
      "Epoch 123/1000\n",
      "\u001b[1m5/5\u001b[0m \u001b[32m━━━━━━━━━━━━━━━━━━━━\u001b[0m\u001b[37m\u001b[0m \u001b[1m0s\u001b[0m 62ms/step - loss: 0.5720 - mape: 12.1899 - r2_score: 0.0321 - val_loss: 0.6501 - val_mape: 12.9573 - val_r2_score: -0.2730 - learning_rate: 8.0000e-04\n",
      "Epoch 124/1000\n",
      "\u001b[1m5/5\u001b[0m \u001b[32m━━━━━━━━━━━━━━━━━━━━\u001b[0m\u001b[37m\u001b[0m \u001b[1m0s\u001b[0m 62ms/step - loss: 0.4875 - mape: 10.6753 - r2_score: 0.2644 - val_loss: 0.5715 - val_mape: 11.1541 - val_r2_score: -0.2088 - learning_rate: 8.0000e-04\n",
      "Epoch 125/1000\n",
      "\u001b[1m5/5\u001b[0m \u001b[32m━━━━━━━━━━━━━━━━━━━━\u001b[0m\u001b[37m\u001b[0m \u001b[1m0s\u001b[0m 62ms/step - loss: 0.6166 - mape: 13.4492 - r2_score: 0.0048 - val_loss: 0.7139 - val_mape: 14.7039 - val_r2_score: -0.3424 - learning_rate: 8.0000e-04\n",
      "Epoch 126/1000\n",
      "\u001b[1m5/5\u001b[0m \u001b[32m━━━━━━━━━━━━━━━━━━━━\u001b[0m\u001b[37m\u001b[0m \u001b[1m0s\u001b[0m 63ms/step - loss: 0.4529 - mape: 9.9948 - r2_score: 0.2937 - val_loss: 0.7845 - val_mape: 16.5737 - val_r2_score: -0.5196 - learning_rate: 8.0000e-04\n",
      "Epoch 127/1000\n",
      "\u001b[1m5/5\u001b[0m \u001b[32m━━━━━━━━━━━━━━━━━━━━\u001b[0m\u001b[37m\u001b[0m \u001b[1m0s\u001b[0m 62ms/step - loss: 0.5429 - mape: 11.6490 - r2_score: 0.1457 - val_loss: 0.7501 - val_mape: 15.7660 - val_r2_score: -0.4823 - learning_rate: 8.0000e-04\n",
      "Epoch 128/1000\n",
      "\u001b[1m5/5\u001b[0m \u001b[32m━━━━━━━━━━━━━━━━━━━━\u001b[0m\u001b[37m\u001b[0m \u001b[1m0s\u001b[0m 63ms/step - loss: 0.5482 - mape: 12.0491 - r2_score: -0.0694 - val_loss: 0.6687 - val_mape: 13.8583 - val_r2_score: -0.3212 - learning_rate: 8.0000e-04\n",
      "Epoch 129/1000\n",
      "\u001b[1m5/5\u001b[0m \u001b[32m━━━━━━━━━━━━━━━━━━━━\u001b[0m\u001b[37m\u001b[0m \u001b[1m0s\u001b[0m 63ms/step - loss: 0.5450 - mape: 11.9903 - r2_score: 0.1988 - val_loss: 0.5662 - val_mape: 11.4785 - val_r2_score: -0.1424 - learning_rate: 8.0000e-04\n",
      "Epoch 130/1000\n",
      "\u001b[1m5/5\u001b[0m \u001b[32m━━━━━━━━━━━━━━━━━━━━\u001b[0m\u001b[37m\u001b[0m \u001b[1m0s\u001b[0m 62ms/step - loss: 0.6880 - mape: 14.9995 - r2_score: -0.3625 - val_loss: 0.6745 - val_mape: 14.0427 - val_r2_score: -0.3236 - learning_rate: 8.0000e-04\n",
      "Epoch 131/1000\n",
      "\u001b[1m5/5\u001b[0m \u001b[32m━━━━━━━━━━━━━━━━━━━━\u001b[0m\u001b[37m\u001b[0m \u001b[1m0s\u001b[0m 63ms/step - loss: 0.5632 - mape: 12.4975 - r2_score: -0.1324 - val_loss: 0.9116 - val_mape: 19.4909 - val_r2_score: -0.9370 - learning_rate: 8.0000e-04\n",
      "Epoch 132/1000\n",
      "\u001b[1m5/5\u001b[0m \u001b[32m━━━━━━━━━━━━━━━━━━━━\u001b[0m\u001b[37m\u001b[0m \u001b[1m0s\u001b[0m 63ms/step - loss: 0.5823 - mape: 13.0488 - r2_score: 0.0249 - val_loss: 0.5943 - val_mape: 12.2175 - val_r2_score: -0.1761 - learning_rate: 8.0000e-04\n",
      "Epoch 133/1000\n",
      "\u001b[1m5/5\u001b[0m \u001b[32m━━━━━━━━━━━━━━━━━━━━\u001b[0m\u001b[37m\u001b[0m \u001b[1m0s\u001b[0m 63ms/step - loss: 0.5945 - mape: 12.7882 - r2_score: -0.0701 - val_loss: 0.5962 - val_mape: 11.5338 - val_r2_score: -0.4380 - learning_rate: 8.0000e-04\n",
      "Epoch 134/1000\n",
      "\u001b[1m5/5\u001b[0m \u001b[32m━━━━━━━━━━━━━━━━━━━━\u001b[0m\u001b[37m\u001b[0m \u001b[1m0s\u001b[0m 63ms/step - loss: 0.6593 - mape: 14.3225 - r2_score: -0.3267 - val_loss: 0.5253 - val_mape: 10.1030 - val_r2_score: -0.3834 - learning_rate: 8.0000e-04\n",
      "Epoch 135/1000\n",
      "\u001b[1m5/5\u001b[0m \u001b[32m━━━━━━━━━━━━━━━━━━━━\u001b[0m\u001b[37m\u001b[0m \u001b[1m0s\u001b[0m 62ms/step - loss: 0.5085 - mape: 10.8155 - r2_score: 0.2933 - val_loss: 0.7342 - val_mape: 15.3630 - val_r2_score: -0.4735 - learning_rate: 8.0000e-04\n",
      "Epoch 136/1000\n",
      "\u001b[1m5/5\u001b[0m \u001b[32m━━━━━━━━━━━━━━━━━━━━\u001b[0m\u001b[37m\u001b[0m \u001b[1m0s\u001b[0m 62ms/step - loss: 0.6027 - mape: 13.1404 - r2_score: 0.0414 - val_loss: 0.7745 - val_mape: 16.4284 - val_r2_score: -0.5373 - learning_rate: 8.0000e-04\n",
      "Epoch 137/1000\n",
      "\u001b[1m5/5\u001b[0m \u001b[32m━━━━━━━━━━━━━━━━━━━━\u001b[0m\u001b[37m\u001b[0m \u001b[1m0s\u001b[0m 62ms/step - loss: 0.5857 - mape: 12.4738 - r2_score: 0.0600 - val_loss: 0.5750 - val_mape: 11.6847 - val_r2_score: -0.1041 - learning_rate: 8.0000e-04\n",
      "Epoch 138/1000\n",
      "\u001b[1m5/5\u001b[0m \u001b[32m━━━━━━━━━━━━━━━━━━━━\u001b[0m\u001b[37m\u001b[0m \u001b[1m0s\u001b[0m 64ms/step - loss: 0.5207 - mape: 11.4905 - r2_score: 0.1399 - val_loss: 0.6256 - val_mape: 12.9228 - val_r2_score: -0.1371 - learning_rate: 8.0000e-04\n",
      "Epoch 139/1000\n",
      "\u001b[1m5/5\u001b[0m \u001b[32m━━━━━━━━━━━━━━━━━━━━\u001b[0m\u001b[37m\u001b[0m \u001b[1m0s\u001b[0m 63ms/step - loss: 0.5608 - mape: 12.3139 - r2_score: 0.2060 - val_loss: 0.5429 - val_mape: 10.8760 - val_r2_score: -0.0968 - learning_rate: 8.0000e-04\n",
      "Epoch 140/1000\n",
      "\u001b[1m5/5\u001b[0m \u001b[32m━━━━━━━━━━━━━━━━━━━━\u001b[0m\u001b[37m\u001b[0m \u001b[1m0s\u001b[0m 63ms/step - loss: 0.6124 - mape: 13.1954 - r2_score: 0.0500 - val_loss: 0.5136 - val_mape: 10.0514 - val_r2_score: -0.1672 - learning_rate: 8.0000e-04\n",
      "Epoch 141/1000\n",
      "\u001b[1m5/5\u001b[0m \u001b[32m━━━━━━━━━━━━━━━━━━━━\u001b[0m\u001b[37m\u001b[0m \u001b[1m0s\u001b[0m 63ms/step - loss: 0.5613 - mape: 12.4673 - r2_score: 0.0686 - val_loss: 0.5514 - val_mape: 10.9978 - val_r2_score: -0.1600 - learning_rate: 8.0000e-04\n",
      "Epoch 142/1000\n",
      "\u001b[1m5/5\u001b[0m \u001b[32m━━━━━━━━━━━━━━━━━━━━\u001b[0m\u001b[37m\u001b[0m \u001b[1m0s\u001b[0m 63ms/step - loss: 0.6293 - mape: 13.6911 - r2_score: -0.2315 - val_loss: 0.5439 - val_mape: 10.7361 - val_r2_score: -0.1913 - learning_rate: 8.0000e-04\n",
      "Epoch 143/1000\n",
      "\u001b[1m5/5\u001b[0m \u001b[32m━━━━━━━━━━━━━━━━━━━━\u001b[0m\u001b[37m\u001b[0m \u001b[1m0s\u001b[0m 63ms/step - loss: 0.7150 - mape: 15.8728 - r2_score: -0.4687 - val_loss: 0.5397 - val_mape: 10.6775 - val_r2_score: -0.1809 - learning_rate: 8.0000e-04\n",
      "Epoch 144/1000\n",
      "\u001b[1m5/5\u001b[0m \u001b[32m━━━━━━━━━━━━━━━━━━━━\u001b[0m\u001b[37m\u001b[0m \u001b[1m0s\u001b[0m 63ms/step - loss: 0.5220 - mape: 11.5290 - r2_score: 0.2187 - val_loss: 0.5631 - val_mape: 11.3906 - val_r2_score: -0.0986 - learning_rate: 8.0000e-04\n",
      "Epoch 145/1000\n",
      "\u001b[1m5/5\u001b[0m \u001b[32m━━━━━━━━━━━━━━━━━━━━\u001b[0m\u001b[37m\u001b[0m \u001b[1m0s\u001b[0m 62ms/step - loss: 0.6821 - mape: 14.8818 - r2_score: -0.1897 - val_loss: 0.6911 - val_mape: 14.4511 - val_r2_score: -0.2798 - learning_rate: 8.0000e-04\n",
      "Epoch 146/1000\n",
      "\u001b[1m5/5\u001b[0m \u001b[32m━━━━━━━━━━━━━━━━━━━━\u001b[0m\u001b[37m\u001b[0m \u001b[1m0s\u001b[0m 63ms/step - loss: 0.5990 - mape: 13.0201 - r2_score: 0.0269 - val_loss: 0.5116 - val_mape: 10.0399 - val_r2_score: -0.0914 - learning_rate: 8.0000e-04\n",
      "Epoch 147/1000\n",
      "\u001b[1m5/5\u001b[0m \u001b[32m━━━━━━━━━━━━━━━━━━━━\u001b[0m\u001b[37m\u001b[0m \u001b[1m0s\u001b[0m 63ms/step - loss: 0.6324 - mape: 13.8500 - r2_score: -0.3404 - val_loss: 0.5131 - val_mape: 10.0540 - val_r2_score: -0.1109 - learning_rate: 8.0000e-04\n",
      "Epoch 148/1000\n",
      "\u001b[1m5/5\u001b[0m \u001b[32m━━━━━━━━━━━━━━━━━━━━\u001b[0m\u001b[37m\u001b[0m \u001b[1m0s\u001b[0m 63ms/step - loss: 0.5662 - mape: 12.4254 - r2_score: 0.0713 - val_loss: 0.5267 - val_mape: 10.4153 - val_r2_score: -0.1478 - learning_rate: 8.0000e-04\n",
      "Epoch 149/1000\n",
      "\u001b[1m5/5\u001b[0m \u001b[32m━━━━━━━━━━━━━━━━━━━━\u001b[0m\u001b[37m\u001b[0m \u001b[1m0s\u001b[0m 62ms/step - loss: 0.5886 - mape: 12.8986 - r2_score: -0.2190 - val_loss: 0.5968 - val_mape: 11.9478 - val_r2_score: -0.2567 - learning_rate: 8.0000e-04\n",
      "Epoch 150/1000\n",
      "\u001b[1m5/5\u001b[0m \u001b[32m━━━━━━━━━━━━━━━━━━━━\u001b[0m\u001b[37m\u001b[0m \u001b[1m0s\u001b[0m 63ms/step - loss: 0.5636 - mape: 12.4673 - r2_score: 0.1383 - val_loss: 0.5507 - val_mape: 10.8859 - val_r2_score: -0.1844 - learning_rate: 8.0000e-04\n",
      "Epoch 151/1000\n",
      "\u001b[1m5/5\u001b[0m \u001b[32m━━━━━━━━━━━━━━━━━━━━\u001b[0m\u001b[37m\u001b[0m \u001b[1m0s\u001b[0m 64ms/step - loss: 0.6221 - mape: 13.2761 - r2_score: -0.2810 - val_loss: 0.5352 - val_mape: 10.6133 - val_r2_score: -0.0916 - learning_rate: 8.0000e-04\n",
      "Epoch 152/1000\n",
      "\u001b[1m5/5\u001b[0m \u001b[32m━━━━━━━━━━━━━━━━━━━━\u001b[0m\u001b[37m\u001b[0m \u001b[1m0s\u001b[0m 68ms/step - loss: 0.5232 - mape: 11.2485 - r2_score: 0.0242 - val_loss: 0.6139 - val_mape: 12.0976 - val_r2_score: -0.4388 - learning_rate: 8.0000e-04\n",
      "Epoch 153/1000\n",
      "\u001b[1m5/5\u001b[0m \u001b[32m━━━━━━━━━━━━━━━━━━━━\u001b[0m\u001b[37m\u001b[0m \u001b[1m0s\u001b[0m 62ms/step - loss: 0.5730 - mape: 12.4977 - r2_score: 0.1761 - val_loss: 0.5545 - val_mape: 10.7728 - val_r2_score: -0.2555 - learning_rate: 8.0000e-04\n",
      "Epoch 154/1000\n",
      "\u001b[1m5/5\u001b[0m \u001b[32m━━━━━━━━━━━━━━━━━━━━\u001b[0m\u001b[37m\u001b[0m \u001b[1m0s\u001b[0m 63ms/step - loss: 0.5029 - mape: 10.8717 - r2_score: 0.2283 - val_loss: 0.7775 - val_mape: 16.3398 - val_r2_score: -0.5063 - learning_rate: 8.0000e-04\n",
      "Epoch 155/1000\n",
      "\u001b[1m5/5\u001b[0m \u001b[32m━━━━━━━━━━━━━━━━━━━━\u001b[0m\u001b[37m\u001b[0m \u001b[1m0s\u001b[0m 63ms/step - loss: 0.6748 - mape: 14.8038 - r2_score: -0.3525 - val_loss: 0.7253 - val_mape: 15.0943 - val_r2_score: -0.3834 - learning_rate: 8.0000e-04\n",
      "Epoch 156/1000\n",
      "\u001b[1m5/5\u001b[0m \u001b[32m━━━━━━━━━━━━━━━━━━━━\u001b[0m\u001b[37m\u001b[0m \u001b[1m0s\u001b[0m 64ms/step - loss: 0.5628 - mape: 11.8943 - r2_score: 0.0954 - val_loss: 0.5338 - val_mape: 10.3810 - val_r2_score: -0.2727 - learning_rate: 8.0000e-04\n",
      "Epoch 157/1000\n",
      "\u001b[1m5/5\u001b[0m \u001b[32m━━━━━━━━━━━━━━━━━━━━\u001b[0m\u001b[37m\u001b[0m \u001b[1m0s\u001b[0m 63ms/step - loss: 0.5449 - mape: 11.6960 - r2_score: 0.2376 - val_loss: 0.5241 - val_mape: 10.1947 - val_r2_score: -0.2451 - learning_rate: 8.0000e-04\n",
      "Epoch 158/1000\n",
      "\u001b[1m5/5\u001b[0m \u001b[32m━━━━━━━━━━━━━━━━━━━━\u001b[0m\u001b[37m\u001b[0m \u001b[1m0s\u001b[0m 63ms/step - loss: 0.5771 - mape: 12.3090 - r2_score: -0.0354 - val_loss: 0.5218 - val_mape: 10.1857 - val_r2_score: -0.1890 - learning_rate: 8.0000e-04\n",
      "Epoch 159/1000\n",
      "\u001b[1m5/5\u001b[0m \u001b[32m━━━━━━━━━━━━━━━━━━━━\u001b[0m\u001b[37m\u001b[0m \u001b[1m0s\u001b[0m 64ms/step - loss: 0.5336 - mape: 11.7112 - r2_score: 0.1611 - val_loss: 0.5256 - val_mape: 10.2832 - val_r2_score: -0.1732 - learning_rate: 8.0000e-04\n",
      "Epoch 160/1000\n",
      "\u001b[1m5/5\u001b[0m \u001b[32m━━━━━━━━━━━━━━━━━━━━\u001b[0m\u001b[37m\u001b[0m \u001b[1m0s\u001b[0m 64ms/step - loss: 0.6350 - mape: 13.9751 - r2_score: -0.1197 - val_loss: 0.6329 - val_mape: 12.7723 - val_r2_score: -0.2941 - learning_rate: 8.0000e-04\n",
      "Epoch 161/1000\n",
      "\u001b[1m5/5\u001b[0m \u001b[32m━━━━━━━━━━━━━━━━━━━━\u001b[0m\u001b[37m\u001b[0m \u001b[1m0s\u001b[0m 63ms/step - loss: 0.5138 - mape: 11.1169 - r2_score: 0.2065 - val_loss: 0.6771 - val_mape: 13.7179 - val_r2_score: -0.4141 - learning_rate: 8.0000e-04\n",
      "Epoch 162/1000\n",
      "\u001b[1m5/5\u001b[0m \u001b[32m━━━━━━━━━━━━━━━━━━━━\u001b[0m\u001b[37m\u001b[0m \u001b[1m0s\u001b[0m 63ms/step - loss: 0.5110 - mape: 11.0153 - r2_score: 0.1265 - val_loss: 0.7425 - val_mape: 15.3021 - val_r2_score: -0.5506 - learning_rate: 8.0000e-04\n",
      "Epoch 163/1000\n",
      "\u001b[1m5/5\u001b[0m \u001b[32m━━━━━━━━━━━━━━━━━━━━\u001b[0m\u001b[37m\u001b[0m \u001b[1m0s\u001b[0m 64ms/step - loss: 0.4803 - mape: 10.3058 - r2_score: 0.3227 - val_loss: 0.6114 - val_mape: 12.2619 - val_r2_score: -0.2669 - learning_rate: 8.0000e-04\n",
      "Epoch 164/1000\n",
      "\u001b[1m5/5\u001b[0m \u001b[32m━━━━━━━━━━━━━━━━━━━━\u001b[0m\u001b[37m\u001b[0m \u001b[1m0s\u001b[0m 62ms/step - loss: 0.5074 - mape: 11.0240 - r2_score: 0.2553 - val_loss: 0.6212 - val_mape: 12.4085 - val_r2_score: -0.3920 - learning_rate: 8.0000e-04\n",
      "Epoch 165/1000\n",
      "\u001b[1m5/5\u001b[0m \u001b[32m━━━━━━━━━━━━━━━━━━━━\u001b[0m\u001b[37m\u001b[0m \u001b[1m0s\u001b[0m 63ms/step - loss: 0.5308 - mape: 11.7663 - r2_score: 0.1907 - val_loss: 0.7701 - val_mape: 15.8631 - val_r2_score: -0.8166 - learning_rate: 8.0000e-04\n",
      "Epoch 166/1000\n",
      "\u001b[1m5/5\u001b[0m \u001b[32m━━━━━━━━━━━━━━━━━━━━\u001b[0m\u001b[37m\u001b[0m \u001b[1m0s\u001b[0m 63ms/step - loss: 0.5181 - mape: 11.1538 - r2_score: 0.2101 - val_loss: 1.1990 - val_mape: 25.3529 - val_r2_score: -2.3285 - learning_rate: 8.0000e-04\n",
      "Epoch 167/1000\n",
      "\u001b[1m5/5\u001b[0m \u001b[32m━━━━━━━━━━━━━━━━━━━━\u001b[0m\u001b[37m\u001b[0m \u001b[1m0s\u001b[0m 63ms/step - loss: 0.5668 - mape: 12.2606 - r2_score: 0.0261 - val_loss: 0.8940 - val_mape: 18.6366 - val_r2_score: -1.1885 - learning_rate: 8.0000e-04\n",
      "Epoch 168/1000\n",
      "\u001b[1m5/5\u001b[0m \u001b[32m━━━━━━━━━━━━━━━━━━━━\u001b[0m\u001b[37m\u001b[0m \u001b[1m0s\u001b[0m 63ms/step - loss: 0.5407 - mape: 11.7066 - r2_score: 0.0262 - val_loss: 0.5368 - val_mape: 10.2213 - val_r2_score: -0.4182 - learning_rate: 8.0000e-04\n",
      "Epoch 169/1000\n",
      "\u001b[1m5/5\u001b[0m \u001b[32m━━━━━━━━━━━━━━━━━━━━\u001b[0m\u001b[37m\u001b[0m \u001b[1m0s\u001b[0m 63ms/step - loss: 0.6025 - mape: 13.4855 - r2_score: -0.2198 - val_loss: 0.5655 - val_mape: 11.1910 - val_r2_score: -0.1861 - learning_rate: 8.0000e-04\n",
      "Epoch 170/1000\n",
      "\u001b[1m5/5\u001b[0m \u001b[32m━━━━━━━━━━━━━━━━━━━━\u001b[0m\u001b[37m\u001b[0m \u001b[1m0s\u001b[0m 63ms/step - loss: 0.5599 - mape: 12.1112 - r2_score: 0.1402 - val_loss: 0.6240 - val_mape: 12.6158 - val_r2_score: -0.1659 - learning_rate: 8.0000e-04\n",
      "Epoch 171/1000\n",
      "\u001b[1m5/5\u001b[0m \u001b[32m━━━━━━━━━━━━━━━━━━━━\u001b[0m\u001b[37m\u001b[0m \u001b[1m0s\u001b[0m 63ms/step - loss: 0.5150 - mape: 11.4329 - r2_score: 0.1669 - val_loss: 0.6724 - val_mape: 13.7237 - val_r2_score: -0.3571 - learning_rate: 8.0000e-04\n",
      "Epoch 172/1000\n",
      "\u001b[1m5/5\u001b[0m \u001b[32m━━━━━━━━━━━━━━━━━━━━\u001b[0m\u001b[37m\u001b[0m \u001b[1m0s\u001b[0m 65ms/step - loss: 0.5795 - mape: 12.4745 - r2_score: -0.0265 - val_loss: 0.7349 - val_mape: 15.0754 - val_r2_score: -0.6119 - learning_rate: 8.0000e-04\n",
      "Epoch 173/1000\n",
      "\u001b[1m5/5\u001b[0m \u001b[32m━━━━━━━━━━━━━━━━━━━━\u001b[0m\u001b[37m\u001b[0m \u001b[1m0s\u001b[0m 64ms/step - loss: 0.4918 - mape: 10.8230 - r2_score: 0.2040 - val_loss: 0.6869 - val_mape: 13.9772 - val_r2_score: -0.4604 - learning_rate: 8.0000e-04\n",
      "Epoch 174/1000\n",
      "\u001b[1m5/5\u001b[0m \u001b[32m━━━━━━━━━━━━━━━━━━━━\u001b[0m\u001b[37m\u001b[0m \u001b[1m0s\u001b[0m 64ms/step - loss: 0.5496 - mape: 11.8067 - r2_score: 0.1588 - val_loss: 0.7388 - val_mape: 15.3434 - val_r2_score: -0.5027 - learning_rate: 8.0000e-04\n",
      "Epoch 175/1000\n",
      "\u001b[1m5/5\u001b[0m \u001b[32m━━━━━━━━━━━━━━━━━━━━\u001b[0m\u001b[37m\u001b[0m \u001b[1m0s\u001b[0m 63ms/step - loss: 0.5606 - mape: 12.2735 - r2_score: -0.0587 - val_loss: 0.6466 - val_mape: 13.2287 - val_r2_score: -0.2687 - learning_rate: 8.0000e-04\n",
      "Epoch 176/1000\n",
      "\u001b[1m5/5\u001b[0m \u001b[32m━━━━━━━━━━━━━━━━━━━━\u001b[0m\u001b[37m\u001b[0m \u001b[1m0s\u001b[0m 64ms/step - loss: 0.5944 - mape: 12.5809 - r2_score: 0.0397 - val_loss: 0.5264 - val_mape: 10.3167 - val_r2_score: -0.1467 - learning_rate: 8.0000e-04\n",
      "Epoch 177/1000\n",
      "\u001b[1m5/5\u001b[0m \u001b[32m━━━━━━━━━━━━━━━━━━━━\u001b[0m\u001b[37m\u001b[0m \u001b[1m0s\u001b[0m 64ms/step - loss: 0.5952 - mape: 12.9652 - r2_score: -0.0883 - val_loss: 0.5717 - val_mape: 11.4800 - val_r2_score: -0.1499 - learning_rate: 8.0000e-04\n",
      "Epoch 178/1000\n",
      "\u001b[1m5/5\u001b[0m \u001b[32m━━━━━━━━━━━━━━━━━━━━\u001b[0m\u001b[37m\u001b[0m \u001b[1m0s\u001b[0m 63ms/step - loss: 0.5828 - mape: 12.5925 - r2_score: 0.0283 - val_loss: 0.6586 - val_mape: 13.5605 - val_r2_score: -0.2307 - learning_rate: 8.0000e-04\n",
      "Epoch 179/1000\n",
      "\u001b[1m5/5\u001b[0m \u001b[32m━━━━━━━━━━━━━━━━━━━━\u001b[0m\u001b[37m\u001b[0m \u001b[1m0s\u001b[0m 63ms/step - loss: 0.4725 - mape: 10.2778 - r2_score: 0.3487 - val_loss: 0.7718 - val_mape: 16.3212 - val_r2_score: -0.4925 - learning_rate: 8.0000e-04\n",
      "Epoch 180/1000\n",
      "\u001b[1m5/5\u001b[0m \u001b[32m━━━━━━━━━━━━━━━━━━━━\u001b[0m\u001b[37m\u001b[0m \u001b[1m0s\u001b[0m 63ms/step - loss: 0.4867 - mape: 10.5710 - r2_score: 0.2934 - val_loss: 0.6822 - val_mape: 14.2960 - val_r2_score: -0.2667 - learning_rate: 8.0000e-04\n",
      "Epoch 181/1000\n",
      "\u001b[1m5/5\u001b[0m \u001b[32m━━━━━━━━━━━━━━━━━━━━\u001b[0m\u001b[37m\u001b[0m \u001b[1m0s\u001b[0m 63ms/step - loss: 0.5062 - mape: 11.1071 - r2_score: 0.2735 - val_loss: 0.5237 - val_mape: 10.4221 - val_r2_score: -0.1049 - learning_rate: 8.0000e-04\n",
      "Epoch 182/1000\n",
      "\u001b[1m5/5\u001b[0m \u001b[32m━━━━━━━━━━━━━━━━━━━━\u001b[0m\u001b[37m\u001b[0m \u001b[1m0s\u001b[0m 63ms/step - loss: 0.4793 - mape: 10.3568 - r2_score: 0.3262 - val_loss: 0.5851 - val_mape: 11.6434 - val_r2_score: -0.3007 - learning_rate: 8.0000e-04\n",
      "Epoch 183/1000\n",
      "\u001b[1m5/5\u001b[0m \u001b[32m━━━━━━━━━━━━━━━━━━━━\u001b[0m\u001b[37m\u001b[0m \u001b[1m0s\u001b[0m 63ms/step - loss: 0.5670 - mape: 12.2515 - r2_score: 0.0267 - val_loss: 0.6225 - val_mape: 12.4772 - val_r2_score: -0.2900 - learning_rate: 8.0000e-04\n",
      "Epoch 184/1000\n",
      "\u001b[1m5/5\u001b[0m \u001b[32m━━━━━━━━━━━━━━━━━━━━\u001b[0m\u001b[37m\u001b[0m \u001b[1m0s\u001b[0m 64ms/step - loss: 0.6119 - mape: 13.2647 - r2_score: -0.0725 - val_loss: 0.6624 - val_mape: 13.7097 - val_r2_score: -0.1768 - learning_rate: 8.0000e-04\n",
      "Epoch 185/1000\n",
      "\u001b[1m5/5\u001b[0m \u001b[32m━━━━━━━━━━━━━━━━━━━━\u001b[0m\u001b[37m\u001b[0m \u001b[1m0s\u001b[0m 64ms/step - loss: 0.5750 - mape: 12.5692 - r2_score: 0.0744 - val_loss: 0.8951 - val_mape: 18.9394 - val_r2_score: -0.9187 - learning_rate: 8.0000e-04\n",
      "Epoch 186/1000\n",
      "\u001b[1m5/5\u001b[0m \u001b[32m━━━━━━━━━━━━━━━━━━━━\u001b[0m\u001b[37m\u001b[0m \u001b[1m0s\u001b[0m 64ms/step - loss: 0.5962 - mape: 12.9675 - r2_score: -0.2735 - val_loss: 0.7115 - val_mape: 14.7548 - val_r2_score: -0.4437 - learning_rate: 8.0000e-04\n",
      "Epoch 187/1000\n",
      "\u001b[1m5/5\u001b[0m \u001b[32m━━━━━━━━━━━━━━━━━━━━\u001b[0m\u001b[37m\u001b[0m \u001b[1m0s\u001b[0m 64ms/step - loss: 0.5318 - mape: 11.4019 - r2_score: 0.0880 - val_loss: 0.5821 - val_mape: 11.6496 - val_r2_score: -0.3615 - learning_rate: 8.0000e-04\n",
      "Epoch 188/1000\n",
      "\u001b[1m5/5\u001b[0m \u001b[32m━━━━━━━━━━━━━━━━━━━━\u001b[0m\u001b[37m\u001b[0m \u001b[1m0s\u001b[0m 63ms/step - loss: 0.5148 - mape: 11.2432 - r2_score: 0.1711 - val_loss: 0.6009 - val_mape: 12.0260 - val_r2_score: -0.4203 - learning_rate: 8.0000e-04\n",
      "Epoch 189/1000\n",
      "\u001b[1m5/5\u001b[0m \u001b[32m━━━━━━━━━━━━━━━━━━━━\u001b[0m\u001b[37m\u001b[0m \u001b[1m0s\u001b[0m 64ms/step - loss: 0.5505 - mape: 12.0445 - r2_score: -0.0048 - val_loss: 0.7366 - val_mape: 15.4682 - val_r2_score: -0.6625 - learning_rate: 8.0000e-04\n",
      "Epoch 190/1000\n",
      "\u001b[1m5/5\u001b[0m \u001b[32m━━━━━━━━━━━━━━━━━━━━\u001b[0m\u001b[37m\u001b[0m \u001b[1m0s\u001b[0m 63ms/step - loss: 0.6244 - mape: 13.4940 - r2_score: -0.2373 - val_loss: 0.6502 - val_mape: 13.6317 - val_r2_score: -0.2069 - learning_rate: 8.0000e-04\n",
      "Epoch 191/1000\n",
      "\u001b[1m5/5\u001b[0m \u001b[32m━━━━━━━━━━━━━━━━━━━━\u001b[0m\u001b[37m\u001b[0m \u001b[1m0s\u001b[0m 63ms/step - loss: 0.5795 - mape: 12.7158 - r2_score: -0.0580 - val_loss: 0.5084 - val_mape: 10.0254 - val_r2_score: -0.0991 - learning_rate: 8.0000e-04\n",
      "Epoch 192/1000\n",
      "\u001b[1m5/5\u001b[0m \u001b[32m━━━━━━━━━━━━━━━━━━━━\u001b[0m\u001b[37m\u001b[0m \u001b[1m0s\u001b[0m 63ms/step - loss: 0.5116 - mape: 11.1527 - r2_score: 0.2444 - val_loss: 0.5411 - val_mape: 10.8452 - val_r2_score: -0.1365 - learning_rate: 8.0000e-04\n",
      "Epoch 193/1000\n",
      "\u001b[1m5/5\u001b[0m \u001b[32m━━━━━━━━━━━━━━━━━━━━\u001b[0m\u001b[37m\u001b[0m \u001b[1m0s\u001b[0m 68ms/step - loss: 0.5655 - mape: 12.3548 - r2_score: 0.1646 - val_loss: 0.7396 - val_mape: 15.4461 - val_r2_score: -0.4877 - learning_rate: 8.0000e-04\n",
      "Epoch 194/1000\n",
      "\u001b[1m5/5\u001b[0m \u001b[32m━━━━━━━━━━━━━━━━━━━━\u001b[0m\u001b[37m\u001b[0m \u001b[1m0s\u001b[0m 72ms/step - loss: 0.4510 - mape: 9.6656 - r2_score: 0.3606 - val_loss: 0.6816 - val_mape: 13.9032 - val_r2_score: -0.4471 - learning_rate: 8.0000e-04\n",
      "Epoch 195/1000\n",
      "\u001b[1m5/5\u001b[0m \u001b[32m━━━━━━━━━━━━━━━━━━━━\u001b[0m\u001b[37m\u001b[0m \u001b[1m0s\u001b[0m 63ms/step - loss: 0.5649 - mape: 12.3539 - r2_score: -0.0660 - val_loss: 0.5626 - val_mape: 11.1531 - val_r2_score: -0.2258 - learning_rate: 8.0000e-04\n",
      "Epoch 196/1000\n",
      "\u001b[1m5/5\u001b[0m \u001b[32m━━━━━━━━━━━━━━━━━━━━\u001b[0m\u001b[37m\u001b[0m \u001b[1m0s\u001b[0m 64ms/step - loss: 0.5074 - mape: 10.9252 - r2_score: 0.2132 - val_loss: 0.6143 - val_mape: 12.6178 - val_r2_score: -0.1484 - learning_rate: 8.0000e-04\n",
      "Epoch 197/1000\n",
      "\u001b[1m5/5\u001b[0m \u001b[32m━━━━━━━━━━━━━━━━━━━━\u001b[0m\u001b[37m\u001b[0m \u001b[1m0s\u001b[0m 69ms/step - loss: 0.4902 - mape: 10.5905 - r2_score: 0.3196 - val_loss: 0.6679 - val_mape: 13.9561 - val_r2_score: -0.2342 - learning_rate: 8.0000e-04\n",
      "Epoch 198/1000\n",
      "\u001b[1m5/5\u001b[0m \u001b[32m━━━━━━━━━━━━━━━━━━━━\u001b[0m\u001b[37m\u001b[0m \u001b[1m0s\u001b[0m 66ms/step - loss: 0.5271 - mape: 11.3412 - r2_score: 0.2400 - val_loss: 0.5887 - val_mape: 12.1226 - val_r2_score: -0.1113 - learning_rate: 8.0000e-04\n",
      "Epoch 199/1000\n",
      "\u001b[1m5/5\u001b[0m \u001b[32m━━━━━━━━━━━━━━━━━━━━\u001b[0m\u001b[37m\u001b[0m \u001b[1m0s\u001b[0m 64ms/step - loss: 0.5465 - mape: 12.0731 - r2_score: 0.0849 - val_loss: 0.5340 - val_mape: 10.7976 - val_r2_score: -0.1304 - learning_rate: 8.0000e-04\n",
      "Epoch 200/1000\n",
      "\u001b[1m5/5\u001b[0m \u001b[32m━━━━━━━━━━━━━━━━━━━━\u001b[0m\u001b[37m\u001b[0m \u001b[1m0s\u001b[0m 66ms/step - loss: 0.5463 - mape: 11.9165 - r2_score: 0.1708 - val_loss: 0.6176 - val_mape: 12.8850 - val_r2_score: -0.1740 - learning_rate: 8.0000e-04\n",
      "Epoch 201/1000\n",
      "\u001b[1m5/5\u001b[0m \u001b[32m━━━━━━━━━━━━━━━━━━━━\u001b[0m\u001b[37m\u001b[0m \u001b[1m0s\u001b[0m 63ms/step - loss: 0.5042 - mape: 11.0443 - r2_score: 0.2426 - val_loss: 0.7602 - val_mape: 16.2772 - val_r2_score: -0.5535 - learning_rate: 8.0000e-04\n",
      "Epoch 202/1000\n",
      "\u001b[1m5/5\u001b[0m \u001b[32m━━━━━━━━━━━━━━━━━━━━\u001b[0m\u001b[37m\u001b[0m \u001b[1m0s\u001b[0m 63ms/step - loss: 0.5519 - mape: 12.3131 - r2_score: 0.0713 - val_loss: 0.6621 - val_mape: 13.8278 - val_r2_score: -0.3507 - learning_rate: 8.0000e-04\n",
      "Epoch 203/1000\n",
      "\u001b[1m5/5\u001b[0m \u001b[32m━━━━━━━━━━━━━━━━━━━━\u001b[0m\u001b[37m\u001b[0m \u001b[1m0s\u001b[0m 64ms/step - loss: 0.5699 - mape: 12.4221 - r2_score: -0.0541 - val_loss: 0.4875 - val_mape: 9.5984 - val_r2_score: -0.1391 - learning_rate: 8.0000e-04\n",
      "Epoch 204/1000\n",
      "\u001b[1m5/5\u001b[0m \u001b[32m━━━━━━━━━━━━━━━━━━━━\u001b[0m\u001b[37m\u001b[0m \u001b[1m0s\u001b[0m 64ms/step - loss: 0.5976 - mape: 12.8951 - r2_score: -0.0570 - val_loss: 0.5626 - val_mape: 11.1422 - val_r2_score: -0.2776 - learning_rate: 8.0000e-04\n",
      "Epoch 205/1000\n",
      "\u001b[1m5/5\u001b[0m \u001b[32m━━━━━━━━━━━━━━━━━━━━\u001b[0m\u001b[37m\u001b[0m \u001b[1m0s\u001b[0m 64ms/step - loss: 0.5290 - mape: 11.6442 - r2_score: 0.1739 - val_loss: 0.5442 - val_mape: 10.7908 - val_r2_score: -0.1998 - learning_rate: 8.0000e-04\n",
      "Epoch 206/1000\n",
      "\u001b[1m5/5\u001b[0m \u001b[32m━━━━━━━━━━━━━━━━━━━━\u001b[0m\u001b[37m\u001b[0m \u001b[1m0s\u001b[0m 64ms/step - loss: 0.5981 - mape: 12.9867 - r2_score: -0.0120 - val_loss: 0.6473 - val_mape: 13.2904 - val_r2_score: -0.2592 - learning_rate: 8.0000e-04\n",
      "Epoch 207/1000\n",
      "\u001b[1m5/5\u001b[0m \u001b[32m━━━━━━━━━━━━━━━━━━━━\u001b[0m\u001b[37m\u001b[0m \u001b[1m0s\u001b[0m 64ms/step - loss: 0.5410 - mape: 11.4994 - r2_score: 0.1743 - val_loss: 0.7446 - val_mape: 15.4512 - val_r2_score: -0.5407 - learning_rate: 8.0000e-04\n",
      "Epoch 208/1000\n",
      "\u001b[1m5/5\u001b[0m \u001b[32m━━━━━━━━━━━━━━━━━━━━\u001b[0m\u001b[37m\u001b[0m \u001b[1m0s\u001b[0m 64ms/step - loss: 0.5338 - mape: 11.6353 - r2_score: 0.2018 - val_loss: 0.7496 - val_mape: 15.3868 - val_r2_score: -0.7523 - learning_rate: 8.0000e-04\n",
      "Epoch 209/1000\n",
      "\u001b[1m5/5\u001b[0m \u001b[32m━━━━━━━━━━━━━━━━━━━━\u001b[0m\u001b[37m\u001b[0m \u001b[1m0s\u001b[0m 63ms/step - loss: 0.5103 - mape: 11.2185 - r2_score: 0.2704 - val_loss: 0.6572 - val_mape: 13.1390 - val_r2_score: -0.6534 - learning_rate: 8.0000e-04\n",
      "Epoch 210/1000\n",
      "\u001b[1m5/5\u001b[0m \u001b[32m━━━━━━━━━━━━━━━━━━━━\u001b[0m\u001b[37m\u001b[0m \u001b[1m0s\u001b[0m 68ms/step - loss: 0.5053 - mape: 10.7823 - r2_score: 0.3252 - val_loss: 0.6783 - val_mape: 13.7134 - val_r2_score: -0.6196 - learning_rate: 8.0000e-04\n",
      "Epoch 211/1000\n",
      "\u001b[1m5/5\u001b[0m \u001b[32m━━━━━━━━━━━━━━━━━━━━\u001b[0m\u001b[37m\u001b[0m \u001b[1m0s\u001b[0m 63ms/step - loss: 0.5536 - mape: 11.9035 - r2_score: 0.2094 - val_loss: 0.7313 - val_mape: 15.0269 - val_r2_score: -0.7167 - learning_rate: 8.0000e-04\n",
      "Epoch 212/1000\n",
      "\u001b[1m5/5\u001b[0m \u001b[32m━━━━━━━━━━━━━━━━━━━━\u001b[0m\u001b[37m\u001b[0m \u001b[1m0s\u001b[0m 71ms/step - loss: 0.4749 - mape: 10.0091 - r2_score: 0.3534 - val_loss: 0.5584 - val_mape: 10.8754 - val_r2_score: -0.4220 - learning_rate: 8.0000e-04\n",
      "Epoch 213/1000\n",
      "\u001b[1m5/5\u001b[0m \u001b[32m━━━━━━━━━━━━━━━━━━━━\u001b[0m\u001b[37m\u001b[0m \u001b[1m0s\u001b[0m 66ms/step - loss: 0.4804 - mape: 10.4608 - r2_score: 0.3604 - val_loss: 0.5312 - val_mape: 10.3011 - val_r2_score: -0.3288 - learning_rate: 8.0000e-04\n",
      "Epoch 214/1000\n",
      "\u001b[1m5/5\u001b[0m \u001b[32m━━━━━━━━━━━━━━━━━━━━\u001b[0m\u001b[37m\u001b[0m \u001b[1m0s\u001b[0m 64ms/step - loss: 0.5847 - mape: 12.9237 - r2_score: 0.0120 - val_loss: 0.6323 - val_mape: 12.7679 - val_r2_score: -0.4392 - learning_rate: 8.0000e-04\n",
      "Epoch 215/1000\n",
      "\u001b[1m5/5\u001b[0m \u001b[32m━━━━━━━━━━━━━━━━━━━━\u001b[0m\u001b[37m\u001b[0m \u001b[1m0s\u001b[0m 63ms/step - loss: 0.5669 - mape: 12.2229 - r2_score: 0.1008 - val_loss: 0.6489 - val_mape: 13.1958 - val_r2_score: -0.4293 - learning_rate: 8.0000e-04\n",
      "Epoch 216/1000\n",
      "\u001b[1m5/5\u001b[0m \u001b[32m━━━━━━━━━━━━━━━━━━━━\u001b[0m\u001b[37m\u001b[0m \u001b[1m0s\u001b[0m 65ms/step - loss: 0.5128 - mape: 11.2417 - r2_score: 0.3325 - val_loss: 0.5287 - val_mape: 10.3401 - val_r2_score: -0.2161 - learning_rate: 8.0000e-04\n",
      "Epoch 217/1000\n",
      "\u001b[1m5/5\u001b[0m \u001b[32m━━━━━━━━━━━━━━━━━━━━\u001b[0m\u001b[37m\u001b[0m \u001b[1m0s\u001b[0m 65ms/step - loss: 0.5447 - mape: 11.6433 - r2_score: 0.0072 - val_loss: 0.5136 - val_mape: 9.8006 - val_r2_score: -0.2835 - learning_rate: 8.0000e-04\n",
      "Epoch 218/1000\n",
      "\u001b[1m5/5\u001b[0m \u001b[32m━━━━━━━━━━━━━━━━━━━━\u001b[0m\u001b[37m\u001b[0m \u001b[1m0s\u001b[0m 64ms/step - loss: 0.4937 - mape: 10.5801 - r2_score: 0.2957 - val_loss: 0.6442 - val_mape: 13.0266 - val_r2_score: -0.4182 - learning_rate: 8.0000e-04\n",
      "Epoch 219/1000\n",
      "\u001b[1m5/5\u001b[0m \u001b[32m━━━━━━━━━━━━━━━━━━━━\u001b[0m\u001b[37m\u001b[0m \u001b[1m0s\u001b[0m 63ms/step - loss: 0.4992 - mape: 10.6557 - r2_score: 0.1892 - val_loss: 0.7553 - val_mape: 15.5523 - val_r2_score: -0.7259 - learning_rate: 8.0000e-04\n",
      "Epoch 220/1000\n",
      "\u001b[1m5/5\u001b[0m \u001b[32m━━━━━━━━━━━━━━━━━━━━\u001b[0m\u001b[37m\u001b[0m \u001b[1m0s\u001b[0m 64ms/step - loss: 0.5398 - mape: 11.6089 - r2_score: 0.0197 - val_loss: 0.6501 - val_mape: 13.1319 - val_r2_score: -0.4581 - learning_rate: 8.0000e-04\n",
      "Epoch 221/1000\n",
      "\u001b[1m5/5\u001b[0m \u001b[32m━━━━━━━━━━━━━━━━━━━━\u001b[0m\u001b[37m\u001b[0m \u001b[1m0s\u001b[0m 65ms/step - loss: 0.4670 - mape: 9.9484 - r2_score: 0.3145 - val_loss: 0.5005 - val_mape: 9.6008 - val_r2_score: -0.1980 - learning_rate: 8.0000e-04\n",
      "Epoch 222/1000\n",
      "\u001b[1m5/5\u001b[0m \u001b[32m━━━━━━━━━━━━━━━━━━━━\u001b[0m\u001b[37m\u001b[0m \u001b[1m0s\u001b[0m 64ms/step - loss: 0.4324 - mape: 9.4474 - r2_score: 0.4069 - val_loss: 0.5298 - val_mape: 10.5438 - val_r2_score: -0.0505 - learning_rate: 8.0000e-04\n",
      "Epoch 223/1000\n",
      "\u001b[1m5/5\u001b[0m \u001b[32m━━━━━━━━━━━━━━━━━━━━\u001b[0m\u001b[37m\u001b[0m \u001b[1m0s\u001b[0m 79ms/step - loss: 0.5819 - mape: 12.7102 - r2_score: -0.1217 - val_loss: 0.5346 - val_mape: 10.8142 - val_r2_score: 0.0928 - learning_rate: 8.0000e-04\n",
      "Epoch 224/1000\n",
      "\u001b[1m5/5\u001b[0m \u001b[32m━━━━━━━━━━━━━━━━━━━━\u001b[0m\u001b[37m\u001b[0m \u001b[1m0s\u001b[0m 66ms/step - loss: 0.5297 - mape: 11.9179 - r2_score: 0.0736 - val_loss: 0.5968 - val_mape: 12.1596 - val_r2_score: -0.1574 - learning_rate: 8.0000e-04\n",
      "Epoch 225/1000\n",
      "\u001b[1m5/5\u001b[0m \u001b[32m━━━━━━━━━━━━━━━━━━━━\u001b[0m\u001b[37m\u001b[0m \u001b[1m0s\u001b[0m 63ms/step - loss: 0.5380 - mape: 11.8134 - r2_score: 0.2443 - val_loss: 0.5274 - val_mape: 10.4489 - val_r2_score: -0.1493 - learning_rate: 8.0000e-04\n",
      "Epoch 226/1000\n",
      "\u001b[1m5/5\u001b[0m \u001b[32m━━━━━━━━━━━━━━━━━━━━\u001b[0m\u001b[37m\u001b[0m \u001b[1m0s\u001b[0m 63ms/step - loss: 0.6252 - mape: 13.9589 - r2_score: -0.1247 - val_loss: 0.6312 - val_mape: 12.9019 - val_r2_score: -0.2594 - learning_rate: 8.0000e-04\n",
      "Epoch 227/1000\n",
      "\u001b[1m5/5\u001b[0m \u001b[32m━━━━━━━━━━━━━━━━━━━━\u001b[0m\u001b[37m\u001b[0m \u001b[1m0s\u001b[0m 64ms/step - loss: 0.5658 - mape: 12.1428 - r2_score: 0.1321 - val_loss: 0.7361 - val_mape: 15.1517 - val_r2_score: -0.6039 - learning_rate: 8.0000e-04\n",
      "Epoch 228/1000\n",
      "\u001b[1m5/5\u001b[0m \u001b[32m━━━━━━━━━━━━━━━━━━━━\u001b[0m\u001b[37m\u001b[0m \u001b[1m0s\u001b[0m 64ms/step - loss: 0.5284 - mape: 11.2503 - r2_score: 0.2175 - val_loss: 0.6480 - val_mape: 13.0954 - val_r2_score: -0.3167 - learning_rate: 8.0000e-04\n",
      "Epoch 229/1000\n",
      "\u001b[1m5/5\u001b[0m \u001b[32m━━━━━━━━━━━━━━━━━━━━\u001b[0m\u001b[37m\u001b[0m \u001b[1m0s\u001b[0m 64ms/step - loss: 0.6115 - mape: 12.9299 - r2_score: -0.0869 - val_loss: 0.5471 - val_mape: 10.5386 - val_r2_score: -0.2835 - learning_rate: 8.0000e-04\n",
      "Epoch 230/1000\n",
      "\u001b[1m5/5\u001b[0m \u001b[32m━━━━━━━━━━━━━━━━━━━━\u001b[0m\u001b[37m\u001b[0m \u001b[1m0s\u001b[0m 67ms/step - loss: 0.5092 - mape: 10.8970 - r2_score: 0.1359 - val_loss: 0.5492 - val_mape: 10.5624 - val_r2_score: -0.3013 - learning_rate: 8.0000e-04\n",
      "Epoch 231/1000\n",
      "\u001b[1m5/5\u001b[0m \u001b[32m━━━━━━━━━━━━━━━━━━━━\u001b[0m\u001b[37m\u001b[0m \u001b[1m0s\u001b[0m 75ms/step - loss: 0.4811 - mape: 10.3379 - r2_score: 0.4049 - val_loss: 0.5480 - val_mape: 10.7932 - val_r2_score: -0.1411 - learning_rate: 8.0000e-04\n",
      "Epoch 232/1000\n",
      "\u001b[1m5/5\u001b[0m \u001b[32m━━━━━━━━━━━━━━━━━━━━\u001b[0m\u001b[37m\u001b[0m \u001b[1m0s\u001b[0m 69ms/step - loss: 0.5257 - mape: 11.4106 - r2_score: 0.2583 - val_loss: 0.5774 - val_mape: 11.4810 - val_r2_score: -0.1561 - learning_rate: 8.0000e-04\n",
      "Epoch 233/1000\n",
      "\u001b[1m5/5\u001b[0m \u001b[32m━━━━━━━━━━━━━━━━━━━━\u001b[0m\u001b[37m\u001b[0m \u001b[1m0s\u001b[0m 68ms/step - loss: 0.6049 - mape: 13.0689 - r2_score: -0.1267 - val_loss: 0.5427 - val_mape: 10.6973 - val_r2_score: -0.1417 - learning_rate: 8.0000e-04\n",
      "Epoch 234/1000\n",
      "\u001b[1m5/5\u001b[0m \u001b[32m━━━━━━━━━━━━━━━━━━━━\u001b[0m\u001b[37m\u001b[0m \u001b[1m0s\u001b[0m 67ms/step - loss: 0.5692 - mape: 12.2029 - r2_score: 0.0219 - val_loss: 0.6412 - val_mape: 12.8966 - val_r2_score: -0.3371 - learning_rate: 8.0000e-04\n",
      "Epoch 235/1000\n",
      "\u001b[1m5/5\u001b[0m \u001b[32m━━━━━━━━━━━━━━━━━━━━\u001b[0m\u001b[37m\u001b[0m \u001b[1m0s\u001b[0m 71ms/step - loss: 0.5385 - mape: 11.6435 - r2_score: 0.1517 - val_loss: 0.6514 - val_mape: 13.0384 - val_r2_score: -0.4539 - learning_rate: 8.0000e-04\n",
      "Epoch 236/1000\n",
      "\u001b[1m5/5\u001b[0m \u001b[32m━━━━━━━━━━━━━━━━━━━━\u001b[0m\u001b[37m\u001b[0m \u001b[1m0s\u001b[0m 66ms/step - loss: 0.4944 - mape: 10.7791 - r2_score: 0.2874 - val_loss: 0.6490 - val_mape: 13.1841 - val_r2_score: -0.3759 - learning_rate: 8.0000e-04\n",
      "Epoch 237/1000\n",
      "\u001b[1m5/5\u001b[0m \u001b[32m━━━━━━━━━━━━━━━━━━━━\u001b[0m\u001b[37m\u001b[0m \u001b[1m0s\u001b[0m 63ms/step - loss: 0.5890 - mape: 12.4590 - r2_score: -0.1627 - val_loss: 0.6726 - val_mape: 13.8944 - val_r2_score: -0.3772 - learning_rate: 8.0000e-04\n",
      "Epoch 238/1000\n",
      "\u001b[1m5/5\u001b[0m \u001b[32m━━━━━━━━━━━━━━━━━━━━\u001b[0m\u001b[37m\u001b[0m \u001b[1m0s\u001b[0m 63ms/step - loss: 0.5841 - mape: 12.6518 - r2_score: -0.0031 - val_loss: 0.5288 - val_mape: 10.4451 - val_r2_score: -0.2430 - learning_rate: 8.0000e-04\n",
      "Epoch 239/1000\n",
      "\u001b[1m5/5\u001b[0m \u001b[32m━━━━━━━━━━━━━━━━━━━━\u001b[0m\u001b[37m\u001b[0m \u001b[1m0s\u001b[0m 70ms/step - loss: 0.6407 - mape: 14.0560 - r2_score: -0.5861 - val_loss: 0.4974 - val_mape: 9.7684 - val_r2_score: -0.1543 - learning_rate: 8.0000e-04\n",
      "Epoch 240/1000\n",
      "\u001b[1m5/5\u001b[0m \u001b[32m━━━━━━━━━━━━━━━━━━━━\u001b[0m\u001b[37m\u001b[0m \u001b[1m0s\u001b[0m 71ms/step - loss: 0.5380 - mape: 11.8970 - r2_score: 0.1195 - val_loss: 0.4951 - val_mape: 9.7382 - val_r2_score: -0.1367 - learning_rate: 8.0000e-04\n",
      "Epoch 241/1000\n",
      "\u001b[1m5/5\u001b[0m \u001b[32m━━━━━━━━━━━━━━━━━━━━\u001b[0m\u001b[37m\u001b[0m \u001b[1m1s\u001b[0m 70ms/step - loss: 0.5464 - mape: 11.9721 - r2_score: 0.0826 - val_loss: 0.6553 - val_mape: 12.8024 - val_r2_score: -0.5747 - learning_rate: 8.0000e-04\n",
      "Epoch 242/1000\n",
      "\u001b[1m5/5\u001b[0m \u001b[32m━━━━━━━━━━━━━━━━━━━━\u001b[0m\u001b[37m\u001b[0m \u001b[1m0s\u001b[0m 68ms/step - loss: 0.5530 - mape: 12.2416 - r2_score: 0.0543 - val_loss: 0.5565 - val_mape: 10.6303 - val_r2_score: -0.4294 - learning_rate: 6.4000e-04\n",
      "Epoch 243/1000\n",
      "\u001b[1m5/5\u001b[0m \u001b[32m━━━━━━━━━━━━━━━━━━━━\u001b[0m\u001b[37m\u001b[0m \u001b[1m0s\u001b[0m 69ms/step - loss: 0.4808 - mape: 10.5323 - r2_score: 0.3656 - val_loss: 0.7362 - val_mape: 15.2006 - val_r2_score: -0.5236 - learning_rate: 6.4000e-04\n",
      "Epoch 244/1000\n",
      "\u001b[1m5/5\u001b[0m \u001b[32m━━━━━━━━━━━━━━━━━━━━\u001b[0m\u001b[37m\u001b[0m \u001b[1m0s\u001b[0m 67ms/step - loss: 0.5448 - mape: 11.8627 - r2_score: 0.1372 - val_loss: 0.9046 - val_mape: 19.0251 - val_r2_score: -1.0322 - learning_rate: 6.4000e-04\n",
      "Epoch 245/1000\n",
      "\u001b[1m5/5\u001b[0m \u001b[32m━━━━━━━━━━━━━━━━━━━━\u001b[0m\u001b[37m\u001b[0m \u001b[1m0s\u001b[0m 68ms/step - loss: 0.5550 - mape: 11.9883 - r2_score: 0.1085 - val_loss: 0.6760 - val_mape: 13.6005 - val_r2_score: -0.4663 - learning_rate: 6.4000e-04\n",
      "Epoch 246/1000\n",
      "\u001b[1m5/5\u001b[0m \u001b[32m━━━━━━━━━━━━━━━━━━━━\u001b[0m\u001b[37m\u001b[0m \u001b[1m0s\u001b[0m 72ms/step - loss: 0.5301 - mape: 11.4912 - r2_score: 0.2205 - val_loss: 0.6332 - val_mape: 12.2048 - val_r2_score: -0.6259 - learning_rate: 6.4000e-04\n",
      "Epoch 247/1000\n",
      "\u001b[1m5/5\u001b[0m \u001b[32m━━━━━━━━━━━━━━━━━━━━\u001b[0m\u001b[37m\u001b[0m \u001b[1m0s\u001b[0m 77ms/step - loss: 0.5558 - mape: 11.7796 - r2_score: 0.1011 - val_loss: 0.6232 - val_mape: 12.1002 - val_r2_score: -0.5485 - learning_rate: 6.4000e-04\n",
      "Epoch 248/1000\n",
      "\u001b[1m5/5\u001b[0m \u001b[32m━━━━━━━━━━━━━━━━━━━━\u001b[0m\u001b[37m\u001b[0m \u001b[1m0s\u001b[0m 72ms/step - loss: 0.5264 - mape: 11.3359 - r2_score: 0.2631 - val_loss: 0.5573 - val_mape: 10.6764 - val_r2_score: -0.3713 - learning_rate: 6.4000e-04\n",
      "Epoch 249/1000\n",
      "\u001b[1m5/5\u001b[0m \u001b[32m━━━━━━━━━━━━━━━━━━━━\u001b[0m\u001b[37m\u001b[0m \u001b[1m0s\u001b[0m 85ms/step - loss: 0.5525 - mape: 11.8213 - r2_score: 0.0899 - val_loss: 0.5669 - val_mape: 11.1699 - val_r2_score: -0.2342 - learning_rate: 6.4000e-04\n",
      "Epoch 250/1000\n",
      "\u001b[1m5/5\u001b[0m \u001b[32m━━━━━━━━━━━━━━━━━━━━\u001b[0m\u001b[37m\u001b[0m \u001b[1m0s\u001b[0m 77ms/step - loss: 0.4693 - mape: 9.8446 - r2_score: 0.2919 - val_loss: 0.6745 - val_mape: 13.7976 - val_r2_score: -0.3208 - learning_rate: 6.4000e-04\n",
      "Epoch 251/1000\n",
      "\u001b[1m5/5\u001b[0m \u001b[32m━━━━━━━━━━━━━━━━━━━━\u001b[0m\u001b[37m\u001b[0m \u001b[1m0s\u001b[0m 73ms/step - loss: 0.5699 - mape: 12.0200 - r2_score: -0.0220 - val_loss: 0.6363 - val_mape: 12.8804 - val_r2_score: -0.2722 - learning_rate: 6.4000e-04\n",
      "Epoch 252/1000\n",
      "\u001b[1m5/5\u001b[0m \u001b[32m━━━━━━━━━━━━━━━━━━━━\u001b[0m\u001b[37m\u001b[0m \u001b[1m0s\u001b[0m 72ms/step - loss: 0.4699 - mape: 10.0415 - r2_score: 0.2797 - val_loss: 0.5697 - val_mape: 10.9498 - val_r2_score: -0.4065 - learning_rate: 6.4000e-04\n",
      "Epoch 253/1000\n",
      "\u001b[1m5/5\u001b[0m \u001b[32m━━━━━━━━━━━━━━━━━━━━\u001b[0m\u001b[37m\u001b[0m \u001b[1m0s\u001b[0m 69ms/step - loss: 0.6376 - mape: 13.6168 - r2_score: -0.1086 - val_loss: 0.7148 - val_mape: 13.9947 - val_r2_score: -0.7427 - learning_rate: 6.4000e-04\n",
      "Epoch 254/1000\n",
      "\u001b[1m5/5\u001b[0m \u001b[32m━━━━━━━━━━━━━━━━━━━━\u001b[0m\u001b[37m\u001b[0m \u001b[1m0s\u001b[0m 72ms/step - loss: 0.5403 - mape: 11.4916 - r2_score: 0.1364 - val_loss: 0.5411 - val_mape: 10.4079 - val_r2_score: -0.2797 - learning_rate: 6.4000e-04\n",
      "Epoch 255/1000\n",
      "\u001b[1m5/5\u001b[0m \u001b[32m━━━━━━━━━━━━━━━━━━━━\u001b[0m\u001b[37m\u001b[0m \u001b[1m0s\u001b[0m 67ms/step - loss: 0.5097 - mape: 10.9981 - r2_score: 0.2179 - val_loss: 0.6312 - val_mape: 12.7611 - val_r2_score: -0.2510 - learning_rate: 6.4000e-04\n",
      "Epoch 256/1000\n",
      "\u001b[1m5/5\u001b[0m \u001b[32m━━━━━━━━━━━━━━━━━━━━\u001b[0m\u001b[37m\u001b[0m \u001b[1m0s\u001b[0m 65ms/step - loss: 0.4429 - mape: 9.6025 - r2_score: 0.3751 - val_loss: 0.5751 - val_mape: 11.3745 - val_r2_score: -0.2263 - learning_rate: 6.4000e-04\n",
      "Epoch 257/1000\n",
      "\u001b[1m5/5\u001b[0m \u001b[32m━━━━━━━━━━━━━━━━━━━━\u001b[0m\u001b[37m\u001b[0m \u001b[1m0s\u001b[0m 69ms/step - loss: 0.5311 - mape: 11.5400 - r2_score: 0.2282 - val_loss: 0.5429 - val_mape: 10.5650 - val_r2_score: -0.2005 - learning_rate: 6.4000e-04\n",
      "Epoch 258/1000\n",
      "\u001b[1m5/5\u001b[0m \u001b[32m━━━━━━━━━━━━━━━━━━━━\u001b[0m\u001b[37m\u001b[0m \u001b[1m0s\u001b[0m 72ms/step - loss: 0.5562 - mape: 11.9597 - r2_score: 0.1640 - val_loss: 0.5350 - val_mape: 10.3397 - val_r2_score: -0.2443 - learning_rate: 6.4000e-04\n",
      "Epoch 259/1000\n",
      "\u001b[1m5/5\u001b[0m \u001b[32m━━━━━━━━━━━━━━━━━━━━\u001b[0m\u001b[37m\u001b[0m \u001b[1m0s\u001b[0m 68ms/step - loss: 0.5350 - mape: 11.4258 - r2_score: 0.2485 - val_loss: 0.5332 - val_mape: 10.2017 - val_r2_score: -0.3314 - learning_rate: 6.4000e-04\n",
      "Epoch 260/1000\n",
      "\u001b[1m5/5\u001b[0m \u001b[32m━━━━━━━━━━━━━━━━━━━━\u001b[0m\u001b[37m\u001b[0m \u001b[1m0s\u001b[0m 75ms/step - loss: 0.4636 - mape: 10.0904 - r2_score: 0.3373 - val_loss: 0.5548 - val_mape: 10.7724 - val_r2_score: -0.3315 - learning_rate: 6.4000e-04\n",
      "Epoch 261/1000\n",
      "\u001b[1m5/5\u001b[0m \u001b[32m━━━━━━━━━━━━━━━━━━━━\u001b[0m\u001b[37m\u001b[0m \u001b[1m0s\u001b[0m 71ms/step - loss: 0.4813 - mape: 10.3165 - r2_score: 0.2748 - val_loss: 0.6153 - val_mape: 12.2935 - val_r2_score: -0.3509 - learning_rate: 6.4000e-04\n",
      "Epoch 262/1000\n",
      "\u001b[1m5/5\u001b[0m \u001b[32m━━━━━━━━━━━━━━━━━━━━\u001b[0m\u001b[37m\u001b[0m \u001b[1m0s\u001b[0m 67ms/step - loss: 0.5020 - mape: 10.7246 - r2_score: 0.2469 - val_loss: 0.5661 - val_mape: 11.0679 - val_r2_score: -0.3065 - learning_rate: 6.4000e-04\n",
      "Epoch 263/1000\n",
      "\u001b[1m5/5\u001b[0m \u001b[32m━━━━━━━━━━━━━━━━━━━━\u001b[0m\u001b[37m\u001b[0m \u001b[1m0s\u001b[0m 69ms/step - loss: 0.5090 - mape: 11.0982 - r2_score: 0.2617 - val_loss: 0.5669 - val_mape: 11.2073 - val_r2_score: -0.2488 - learning_rate: 6.4000e-04\n",
      "Epoch 264/1000\n",
      "\u001b[1m5/5\u001b[0m \u001b[32m━━━━━━━━━━━━━━━━━━━━\u001b[0m\u001b[37m\u001b[0m \u001b[1m0s\u001b[0m 77ms/step - loss: 0.4736 - mape: 10.6738 - r2_score: 0.2820 - val_loss: 0.7117 - val_mape: 14.7752 - val_r2_score: -0.4294 - learning_rate: 6.4000e-04\n",
      "Epoch 265/1000\n",
      "\u001b[1m5/5\u001b[0m \u001b[32m━━━━━━━━━━━━━━━━━━━━\u001b[0m\u001b[37m\u001b[0m \u001b[1m0s\u001b[0m 71ms/step - loss: 0.5650 - mape: 12.3968 - r2_score: -0.2177 - val_loss: 0.6814 - val_mape: 14.1356 - val_r2_score: -0.3638 - learning_rate: 6.4000e-04\n",
      "Epoch 266/1000\n",
      "\u001b[1m5/5\u001b[0m \u001b[32m━━━━━━━━━━━━━━━━━━━━\u001b[0m\u001b[37m\u001b[0m \u001b[1m0s\u001b[0m 71ms/step - loss: 0.5725 - mape: 12.1559 - r2_score: 0.0191 - val_loss: 0.6350 - val_mape: 13.0670 - val_r2_score: -0.3107 - learning_rate: 6.4000e-04\n",
      "Epoch 267/1000\n",
      "\u001b[1m5/5\u001b[0m \u001b[32m━━━━━━━━━━━━━━━━━━━━\u001b[0m\u001b[37m\u001b[0m \u001b[1m0s\u001b[0m 72ms/step - loss: 0.4311 - mape: 9.4660 - r2_score: 0.4255 - val_loss: 0.6503 - val_mape: 13.4440 - val_r2_score: -0.3507 - learning_rate: 6.4000e-04\n",
      "Epoch 268/1000\n",
      "\u001b[1m5/5\u001b[0m \u001b[32m━━━━━━━━━━━━━━━━━━━━\u001b[0m\u001b[37m\u001b[0m \u001b[1m0s\u001b[0m 69ms/step - loss: 0.5214 - mape: 11.4177 - r2_score: 0.1983 - val_loss: 0.5445 - val_mape: 10.8022 - val_r2_score: -0.2859 - learning_rate: 6.4000e-04\n",
      "Epoch 269/1000\n",
      "\u001b[1m5/5\u001b[0m \u001b[32m━━━━━━━━━━━━━━━━━━━━\u001b[0m\u001b[37m\u001b[0m \u001b[1m0s\u001b[0m 72ms/step - loss: 0.4988 - mape: 10.6952 - r2_score: 0.2806 - val_loss: 0.5778 - val_mape: 11.1904 - val_r2_score: -0.4248 - learning_rate: 6.4000e-04\n",
      "Epoch 270/1000\n",
      "\u001b[1m5/5\u001b[0m \u001b[32m━━━━━━━━━━━━━━━━━━━━\u001b[0m\u001b[37m\u001b[0m \u001b[1m0s\u001b[0m 68ms/step - loss: 0.5379 - mape: 11.5413 - r2_score: 0.0603 - val_loss: 0.6340 - val_mape: 12.8251 - val_r2_score: -0.3897 - learning_rate: 6.4000e-04\n",
      "Epoch 271/1000\n",
      "\u001b[1m5/5\u001b[0m \u001b[32m━━━━━━━━━━━━━━━━━━━━\u001b[0m\u001b[37m\u001b[0m \u001b[1m0s\u001b[0m 71ms/step - loss: 0.5209 - mape: 11.3208 - r2_score: 0.2175 - val_loss: 0.6295 - val_mape: 12.8193 - val_r2_score: -0.2676 - learning_rate: 6.4000e-04\n",
      "Epoch 272/1000\n",
      "\u001b[1m5/5\u001b[0m \u001b[32m━━━━━━━━━━━━━━━━━━━━\u001b[0m\u001b[37m\u001b[0m \u001b[1m0s\u001b[0m 69ms/step - loss: 0.5349 - mape: 11.9585 - r2_score: 0.2241 - val_loss: 0.5315 - val_mape: 10.5728 - val_r2_score: -0.1078 - learning_rate: 6.4000e-04\n",
      "Epoch 273/1000\n",
      "\u001b[1m5/5\u001b[0m \u001b[32m━━━━━━━━━━━━━━━━━━━━\u001b[0m\u001b[37m\u001b[0m \u001b[1m0s\u001b[0m 73ms/step - loss: 0.5972 - mape: 13.3751 - r2_score: -0.0077 - val_loss: 0.5461 - val_mape: 10.7913 - val_r2_score: -0.1935 - learning_rate: 6.4000e-04\n",
      "Epoch 274/1000\n",
      "\u001b[1m5/5\u001b[0m \u001b[32m━━━━━━━━━━━━━━━━━━━━\u001b[0m\u001b[37m\u001b[0m \u001b[1m0s\u001b[0m 67ms/step - loss: 0.4668 - mape: 10.1367 - r2_score: 0.3506 - val_loss: 0.6756 - val_mape: 13.8138 - val_r2_score: -0.3790 - learning_rate: 6.4000e-04\n",
      "Epoch 275/1000\n",
      "\u001b[1m5/5\u001b[0m \u001b[32m━━━━━━━━━━━━━━━━━━━━\u001b[0m\u001b[37m\u001b[0m \u001b[1m0s\u001b[0m 73ms/step - loss: 0.4624 - mape: 10.0302 - r2_score: 0.3763 - val_loss: 0.7310 - val_mape: 15.2187 - val_r2_score: -0.4304 - learning_rate: 6.4000e-04\n",
      "Epoch 276/1000\n",
      "\u001b[1m5/5\u001b[0m \u001b[32m━━━━━━━━━━━━━━━━━━━━\u001b[0m\u001b[37m\u001b[0m \u001b[1m0s\u001b[0m 70ms/step - loss: 0.4761 - mape: 10.2396 - r2_score: 0.3093 - val_loss: 0.6267 - val_mape: 12.7832 - val_r2_score: -0.2005 - learning_rate: 6.4000e-04\n",
      "Epoch 277/1000\n",
      "\u001b[1m5/5\u001b[0m \u001b[32m━━━━━━━━━━━━━━━━━━━━\u001b[0m\u001b[37m\u001b[0m \u001b[1m0s\u001b[0m 71ms/step - loss: 0.4319 - mape: 9.3869 - r2_score: 0.4410 - val_loss: 0.5655 - val_mape: 11.2559 - val_r2_score: -0.1687 - learning_rate: 6.4000e-04\n",
      "Epoch 278/1000\n",
      "\u001b[1m5/5\u001b[0m \u001b[32m━━━━━━━━━━━━━━━━━━━━\u001b[0m\u001b[37m\u001b[0m \u001b[1m0s\u001b[0m 68ms/step - loss: 0.4846 - mape: 10.6096 - r2_score: 0.2543 - val_loss: 0.5556 - val_mape: 10.7526 - val_r2_score: -0.2671 - learning_rate: 6.4000e-04\n",
      "Epoch 279/1000\n",
      "\u001b[1m5/5\u001b[0m \u001b[32m━━━━━━━━━━━━━━━━━━━━\u001b[0m\u001b[37m\u001b[0m \u001b[1m0s\u001b[0m 67ms/step - loss: 0.4394 - mape: 9.5908 - r2_score: 0.3908 - val_loss: 0.5989 - val_mape: 11.8074 - val_r2_score: -0.3233 - learning_rate: 6.4000e-04\n",
      "Epoch 280/1000\n",
      "\u001b[1m5/5\u001b[0m \u001b[32m━━━━━━━━━━━━━━━━━━━━\u001b[0m\u001b[37m\u001b[0m \u001b[1m0s\u001b[0m 65ms/step - loss: 0.6024 - mape: 12.7369 - r2_score: -0.0991 - val_loss: 0.5843 - val_mape: 11.4402 - val_r2_score: -0.3407 - learning_rate: 6.4000e-04\n",
      "Epoch 281/1000\n",
      "\u001b[1m5/5\u001b[0m \u001b[32m━━━━━━━━━━━━━━━━━━━━\u001b[0m\u001b[37m\u001b[0m \u001b[1m0s\u001b[0m 68ms/step - loss: 0.5306 - mape: 11.5270 - r2_score: 0.1021 - val_loss: 0.6684 - val_mape: 13.5864 - val_r2_score: -0.3634 - learning_rate: 6.4000e-04\n",
      "Epoch 282/1000\n",
      "\u001b[1m5/5\u001b[0m \u001b[32m━━━━━━━━━━━━━━━━━━━━\u001b[0m\u001b[37m\u001b[0m \u001b[1m0s\u001b[0m 66ms/step - loss: 0.5945 - mape: 12.9116 - r2_score: -0.0146 - val_loss: 0.6715 - val_mape: 13.7073 - val_r2_score: -0.3344 - learning_rate: 6.4000e-04\n",
      "Epoch 283/1000\n",
      "\u001b[1m5/5\u001b[0m \u001b[32m━━━━━━━━━━━━━━━━━━━━\u001b[0m\u001b[37m\u001b[0m \u001b[1m0s\u001b[0m 69ms/step - loss: 0.5389 - mape: 11.6339 - r2_score: 0.2231 - val_loss: 0.5372 - val_mape: 10.4453 - val_r2_score: -0.1989 - learning_rate: 6.4000e-04\n",
      "Epoch 284/1000\n",
      "\u001b[1m5/5\u001b[0m \u001b[32m━━━━━━━━━━━━━━━━━━━━\u001b[0m\u001b[37m\u001b[0m \u001b[1m0s\u001b[0m 69ms/step - loss: 0.4622 - mape: 10.0068 - r2_score: 0.3700 - val_loss: 0.5518 - val_mape: 10.7701 - val_r2_score: -0.2071 - learning_rate: 6.4000e-04\n",
      "Epoch 285/1000\n",
      "\u001b[1m5/5\u001b[0m \u001b[32m━━━━━━━━━━━━━━━━━━━━\u001b[0m\u001b[37m\u001b[0m \u001b[1m0s\u001b[0m 66ms/step - loss: 0.5405 - mape: 11.7122 - r2_score: 0.2046 - val_loss: 0.5810 - val_mape: 11.3610 - val_r2_score: -0.2544 - learning_rate: 6.4000e-04\n",
      "Epoch 286/1000\n",
      "\u001b[1m5/5\u001b[0m \u001b[32m━━━━━━━━━━━━━━━━━━━━\u001b[0m\u001b[37m\u001b[0m \u001b[1m0s\u001b[0m 74ms/step - loss: 0.4856 - mape: 10.4451 - r2_score: 0.3520 - val_loss: 0.6220 - val_mape: 12.3634 - val_r2_score: -0.2973 - learning_rate: 6.4000e-04\n",
      "Epoch 287/1000\n",
      "\u001b[1m5/5\u001b[0m \u001b[32m━━━━━━━━━━━━━━━━━━━━\u001b[0m\u001b[37m\u001b[0m \u001b[1m0s\u001b[0m 68ms/step - loss: 0.4395 - mape: 9.4211 - r2_score: 0.4516 - val_loss: 0.5963 - val_mape: 11.6688 - val_r2_score: -0.2805 - learning_rate: 6.4000e-04\n",
      "Epoch 288/1000\n",
      "\u001b[1m5/5\u001b[0m \u001b[32m━━━━━━━━━━━━━━━━━━━━\u001b[0m\u001b[37m\u001b[0m \u001b[1m0s\u001b[0m 74ms/step - loss: 0.5220 - mape: 11.2407 - r2_score: 0.1443 - val_loss: 0.5821 - val_mape: 11.3758 - val_r2_score: -0.2621 - learning_rate: 6.4000e-04\n",
      "Epoch 289/1000\n",
      "\u001b[1m5/5\u001b[0m \u001b[32m━━━━━━━━━━━━━━━━━━━━\u001b[0m\u001b[37m\u001b[0m \u001b[1m0s\u001b[0m 70ms/step - loss: 0.5305 - mape: 11.2686 - r2_score: 0.1105 - val_loss: 0.5561 - val_mape: 10.7536 - val_r2_score: -0.2614 - learning_rate: 6.4000e-04\n",
      "Epoch 290/1000\n",
      "\u001b[1m5/5\u001b[0m \u001b[32m━━━━━━━━━━━━━━━━━━━━\u001b[0m\u001b[37m\u001b[0m \u001b[1m0s\u001b[0m 69ms/step - loss: 0.4998 - mape: 10.7749 - r2_score: 0.2640 - val_loss: 0.5633 - val_mape: 10.9721 - val_r2_score: -0.2753 - learning_rate: 6.4000e-04\n",
      "Epoch 291/1000\n",
      "\u001b[1m5/5\u001b[0m \u001b[32m━━━━━━━━━━━━━━━━━━━━\u001b[0m\u001b[37m\u001b[0m \u001b[1m0s\u001b[0m 73ms/step - loss: 0.5380 - mape: 11.5498 - r2_score: 0.1376 - val_loss: 0.6909 - val_mape: 14.1737 - val_r2_score: -0.3881 - learning_rate: 6.4000e-04\n",
      "Epoch 292/1000\n",
      "\u001b[1m5/5\u001b[0m \u001b[32m━━━━━━━━━━━━━━━━━━━━\u001b[0m\u001b[37m\u001b[0m \u001b[1m0s\u001b[0m 76ms/step - loss: 0.5414 - mape: 11.9265 - r2_score: 0.1187 - val_loss: 0.5964 - val_mape: 12.0330 - val_r2_score: -0.2038 - learning_rate: 6.4000e-04\n",
      "Epoch 293/1000\n",
      "\u001b[1m5/5\u001b[0m \u001b[32m━━━━━━━━━━━━━━━━━━━━\u001b[0m\u001b[37m\u001b[0m \u001b[1m0s\u001b[0m 73ms/step - loss: 0.4669 - mape: 10.2641 - r2_score: 0.2763 - val_loss: 0.5763 - val_mape: 11.3915 - val_r2_score: -0.2324 - learning_rate: 6.4000e-04\n",
      "Epoch 294/1000\n",
      "\u001b[1m5/5\u001b[0m \u001b[32m━━━━━━━━━━━━━━━━━━━━\u001b[0m\u001b[37m\u001b[0m \u001b[1m0s\u001b[0m 69ms/step - loss: 0.5134 - mape: 11.3843 - r2_score: 0.2432 - val_loss: 0.6306 - val_mape: 12.6710 - val_r2_score: -0.3426 - learning_rate: 6.4000e-04\n",
      "Epoch 295/1000\n",
      "\u001b[1m5/5\u001b[0m \u001b[32m━━━━━━━━━━━━━━━━━━━━\u001b[0m\u001b[37m\u001b[0m \u001b[1m0s\u001b[0m 68ms/step - loss: 0.6603 - mape: 14.4827 - r2_score: -0.1548 - val_loss: 0.5230 - val_mape: 10.2262 - val_r2_score: -0.1491 - learning_rate: 6.4000e-04\n",
      "Epoch 296/1000\n",
      "\u001b[1m5/5\u001b[0m \u001b[32m━━━━━━━━━━━━━━━━━━━━\u001b[0m\u001b[37m\u001b[0m \u001b[1m0s\u001b[0m 71ms/step - loss: 0.4539 - mape: 9.7359 - r2_score: 0.3679 - val_loss: 0.6839 - val_mape: 14.0790 - val_r2_score: -0.3581 - learning_rate: 6.4000e-04\n",
      "Epoch 297/1000\n",
      "\u001b[1m5/5\u001b[0m \u001b[32m━━━━━━━━━━━━━━━━━━━━\u001b[0m\u001b[37m\u001b[0m \u001b[1m0s\u001b[0m 68ms/step - loss: 0.5187 - mape: 11.0562 - r2_score: 0.2477 - val_loss: 0.7151 - val_mape: 14.6952 - val_r2_score: -0.4864 - learning_rate: 6.4000e-04\n",
      "Epoch 298/1000\n",
      "\u001b[1m5/5\u001b[0m \u001b[32m━━━━━━━━━━━━━━━━━━━━\u001b[0m\u001b[37m\u001b[0m \u001b[1m0s\u001b[0m 65ms/step - loss: 0.5794 - mape: 12.4098 - r2_score: 0.0352 - val_loss: 0.5593 - val_mape: 10.9012 - val_r2_score: -0.2988 - learning_rate: 6.4000e-04\n",
      "Epoch 299/1000\n",
      "\u001b[1m5/5\u001b[0m \u001b[32m━━━━━━━━━━━━━━━━━━━━\u001b[0m\u001b[37m\u001b[0m \u001b[1m0s\u001b[0m 66ms/step - loss: 0.5760 - mape: 12.6066 - r2_score: 0.0400 - val_loss: 0.5422 - val_mape: 10.3536 - val_r2_score: -0.3804 - learning_rate: 6.4000e-04\n",
      "Epoch 300/1000\n",
      "\u001b[1m5/5\u001b[0m \u001b[32m━━━━━━━━━━━━━━━━━━━━\u001b[0m\u001b[37m\u001b[0m \u001b[1m0s\u001b[0m 70ms/step - loss: 0.5395 - mape: 11.8444 - r2_score: 0.1526 - val_loss: 0.5316 - val_mape: 10.1638 - val_r2_score: -0.3098 - learning_rate: 6.4000e-04\n",
      "Epoch 301/1000\n",
      "\u001b[1m5/5\u001b[0m \u001b[32m━━━━━━━━━━━━━━━━━━━━\u001b[0m\u001b[37m\u001b[0m \u001b[1m0s\u001b[0m 67ms/step - loss: 0.4356 - mape: 9.4130 - r2_score: 0.4353 - val_loss: 0.5774 - val_mape: 11.5433 - val_r2_score: -0.1884 - learning_rate: 6.4000e-04\n",
      "Epoch 302/1000\n",
      "\u001b[1m5/5\u001b[0m \u001b[32m━━━━━━━━━━━━━━━━━━━━\u001b[0m\u001b[37m\u001b[0m \u001b[1m0s\u001b[0m 69ms/step - loss: 0.5761 - mape: 12.5389 - r2_score: 0.1524 - val_loss: 0.6352 - val_mape: 12.9549 - val_r2_score: -0.2087 - learning_rate: 6.4000e-04\n",
      "Epoch 303/1000\n",
      "\u001b[1m5/5\u001b[0m \u001b[32m━━━━━━━━━━━━━━━━━━━━\u001b[0m\u001b[37m\u001b[0m \u001b[1m0s\u001b[0m 75ms/step - loss: 0.5120 - mape: 11.0769 - r2_score: 0.2454 - val_loss: 0.6033 - val_mape: 12.2308 - val_r2_score: -0.1837 - learning_rate: 6.4000e-04\n",
      "Epoch 304/1000\n",
      "\u001b[1m5/5\u001b[0m \u001b[32m━━━━━━━━━━━━━━━━━━━━\u001b[0m\u001b[37m\u001b[0m \u001b[1m0s\u001b[0m 66ms/step - loss: 0.4664 - mape: 10.2087 - r2_score: 0.3600 - val_loss: 0.5566 - val_mape: 11.0503 - val_r2_score: -0.2154 - learning_rate: 6.4000e-04\n",
      "Epoch 305/1000\n",
      "\u001b[1m5/5\u001b[0m \u001b[32m━━━━━━━━━━━━━━━━━━━━\u001b[0m\u001b[37m\u001b[0m \u001b[1m0s\u001b[0m 65ms/step - loss: 0.5174 - mape: 11.0865 - r2_score: 0.2976 - val_loss: 0.5898 - val_mape: 11.8844 - val_r2_score: -0.2562 - learning_rate: 6.4000e-04\n",
      "Epoch 306/1000\n",
      "\u001b[1m5/5\u001b[0m \u001b[32m━━━━━━━━━━━━━━━━━━━━\u001b[0m\u001b[37m\u001b[0m \u001b[1m0s\u001b[0m 68ms/step - loss: 0.5208 - mape: 11.3899 - r2_score: 0.1637 - val_loss: 0.6344 - val_mape: 12.9416 - val_r2_score: -0.3125 - learning_rate: 6.4000e-04\n",
      "Epoch 307/1000\n",
      "\u001b[1m5/5\u001b[0m \u001b[32m━━━━━━━━━━━━━━━━━━━━\u001b[0m\u001b[37m\u001b[0m \u001b[1m0s\u001b[0m 68ms/step - loss: 0.4372 - mape: 9.4931 - r2_score: 0.4675 - val_loss: 0.6762 - val_mape: 13.8777 - val_r2_score: -0.3698 - learning_rate: 6.4000e-04\n",
      "Epoch 308/1000\n",
      "\u001b[1m5/5\u001b[0m \u001b[32m━━━━━━━━━━━━━━━━━━━━\u001b[0m\u001b[37m\u001b[0m \u001b[1m0s\u001b[0m 67ms/step - loss: 0.4527 - mape: 9.8696 - r2_score: 0.3027 - val_loss: 0.6053 - val_mape: 12.2261 - val_r2_score: -0.2109 - learning_rate: 6.4000e-04\n",
      "Epoch 309/1000\n",
      "\u001b[1m5/5\u001b[0m \u001b[32m━━━━━━━━━━━━━━━━━━━━\u001b[0m\u001b[37m\u001b[0m \u001b[1m0s\u001b[0m 71ms/step - loss: 0.4489 - mape: 9.8659 - r2_score: 0.3803 - val_loss: 0.5696 - val_mape: 11.3719 - val_r2_score: -0.1159 - learning_rate: 6.4000e-04\n",
      "Epoch 310/1000\n",
      "\u001b[1m5/5\u001b[0m \u001b[32m━━━━━━━━━━━━━━━━━━━━\u001b[0m\u001b[37m\u001b[0m \u001b[1m0s\u001b[0m 71ms/step - loss: 0.5073 - mape: 10.9203 - r2_score: 0.2615 - val_loss: 0.5378 - val_mape: 10.5847 - val_r2_score: -0.1015 - learning_rate: 6.4000e-04\n",
      "Epoch 311/1000\n",
      "\u001b[1m5/5\u001b[0m \u001b[32m━━━━━━━━━━━━━━━━━━━━\u001b[0m\u001b[37m\u001b[0m \u001b[1m0s\u001b[0m 67ms/step - loss: 0.5143 - mape: 11.1938 - r2_score: 0.2361 - val_loss: 0.5349 - val_mape: 10.5792 - val_r2_score: -0.0862 - learning_rate: 6.4000e-04\n",
      "Epoch 312/1000\n",
      "\u001b[1m5/5\u001b[0m \u001b[32m━━━━━━━━━━━━━━━━━━━━\u001b[0m\u001b[37m\u001b[0m \u001b[1m0s\u001b[0m 68ms/step - loss: 0.4478 - mape: 9.9296 - r2_score: 0.4442 - val_loss: 0.5293 - val_mape: 10.3836 - val_r2_score: -0.1183 - learning_rate: 6.4000e-04\n",
      "Epoch 313/1000\n",
      "\u001b[1m5/5\u001b[0m \u001b[32m━━━━━━━━━━━━━━━━━━━━\u001b[0m\u001b[37m\u001b[0m \u001b[1m0s\u001b[0m 67ms/step - loss: 0.5369 - mape: 12.0052 - r2_score: -0.0266 - val_loss: 0.5232 - val_mape: 10.3064 - val_r2_score: -0.1372 - learning_rate: 6.4000e-04\n",
      "Epoch 314/1000\n",
      "\u001b[1m5/5\u001b[0m \u001b[32m━━━━━━━━━━━━━━━━━━━━\u001b[0m\u001b[37m\u001b[0m \u001b[1m0s\u001b[0m 66ms/step - loss: 0.4829 - mape: 10.4769 - r2_score: 0.1834 - val_loss: 0.5873 - val_mape: 11.7574 - val_r2_score: -0.2682 - learning_rate: 6.4000e-04\n",
      "Epoch 315/1000\n",
      "\u001b[1m5/5\u001b[0m \u001b[32m━━━━━━━━━━━━━━━━━━━━\u001b[0m\u001b[37m\u001b[0m \u001b[1m0s\u001b[0m 65ms/step - loss: 0.5589 - mape: 11.7850 - r2_score: 0.1519 - val_loss: 0.6301 - val_mape: 12.7196 - val_r2_score: -0.3073 - learning_rate: 6.4000e-04\n",
      "Epoch 316/1000\n",
      "\u001b[1m5/5\u001b[0m \u001b[32m━━━━━━━━━━━━━━━━━━━━\u001b[0m\u001b[37m\u001b[0m \u001b[1m0s\u001b[0m 66ms/step - loss: 0.4702 - mape: 10.0426 - r2_score: 0.2889 - val_loss: 0.5792 - val_mape: 11.6341 - val_r2_score: -0.1762 - learning_rate: 6.4000e-04\n",
      "Epoch 317/1000\n",
      "\u001b[1m5/5\u001b[0m \u001b[32m━━━━━━━━━━━━━━━━━━━━\u001b[0m\u001b[37m\u001b[0m \u001b[1m0s\u001b[0m 65ms/step - loss: 0.4233 - mape: 9.3409 - r2_score: 0.4783 - val_loss: 0.6303 - val_mape: 12.9386 - val_r2_score: -0.1848 - learning_rate: 6.4000e-04\n",
      "Epoch 318/1000\n",
      "\u001b[1m5/5\u001b[0m \u001b[32m━━━━━━━━━━━━━━━━━━━━\u001b[0m\u001b[37m\u001b[0m \u001b[1m0s\u001b[0m 65ms/step - loss: 0.4943 - mape: 10.6184 - r2_score: 0.2750 - val_loss: 0.5375 - val_mape: 10.5981 - val_r2_score: -0.1516 - learning_rate: 6.4000e-04\n",
      "Epoch 319/1000\n",
      "\u001b[1m5/5\u001b[0m \u001b[32m━━━━━━━━━━━━━━━━━━━━\u001b[0m\u001b[37m\u001b[0m \u001b[1m0s\u001b[0m 65ms/step - loss: 0.5729 - mape: 12.3086 - r2_score: -0.0153 - val_loss: 0.5553 - val_mape: 10.7350 - val_r2_score: -0.3343 - learning_rate: 6.4000e-04\n",
      "Epoch 320/1000\n",
      "\u001b[1m5/5\u001b[0m \u001b[32m━━━━━━━━━━━━━━━━━━━━\u001b[0m\u001b[37m\u001b[0m \u001b[1m0s\u001b[0m 67ms/step - loss: 0.5162 - mape: 10.8344 - r2_score: 0.2228 - val_loss: 0.6097 - val_mape: 12.1142 - val_r2_score: -0.3364 - learning_rate: 6.4000e-04\n",
      "Epoch 321/1000\n",
      "\u001b[1m5/5\u001b[0m \u001b[32m━━━━━━━━━━━━━━━━━━━━\u001b[0m\u001b[37m\u001b[0m \u001b[1m0s\u001b[0m 70ms/step - loss: 0.5523 - mape: 11.9483 - r2_score: 0.1014 - val_loss: 0.7740 - val_mape: 15.9226 - val_r2_score: -0.7037 - learning_rate: 6.4000e-04\n",
      "Epoch 322/1000\n",
      "\u001b[1m5/5\u001b[0m \u001b[32m━━━━━━━━━━━━━━━━━━━━\u001b[0m\u001b[37m\u001b[0m \u001b[1m0s\u001b[0m 66ms/step - loss: 0.4832 - mape: 10.2000 - r2_score: 0.3283 - val_loss: 0.6981 - val_mape: 14.1770 - val_r2_score: -0.5290 - learning_rate: 6.4000e-04\n",
      "Epoch 323/1000\n",
      "\u001b[1m5/5\u001b[0m \u001b[32m━━━━━━━━━━━━━━━━━━━━\u001b[0m\u001b[37m\u001b[0m \u001b[1m0s\u001b[0m 73ms/step - loss: 0.5353 - mape: 11.3676 - r2_score: 0.1824 - val_loss: 0.5214 - val_mape: 9.9845 - val_r2_score: -0.3114 - learning_rate: 6.4000e-04\n",
      "Epoch 324/1000\n",
      "\u001b[1m5/5\u001b[0m \u001b[32m━━━━━━━━━━━━━━━━━━━━\u001b[0m\u001b[37m\u001b[0m \u001b[1m0s\u001b[0m 69ms/step - loss: 0.5281 - mape: 11.2581 - r2_score: 0.1777 - val_loss: 0.5153 - val_mape: 10.0093 - val_r2_score: -0.1946 - learning_rate: 6.4000e-04\n",
      "Epoch 325/1000\n",
      "\u001b[1m5/5\u001b[0m \u001b[32m━━━━━━━━━━━━━━━━━━━━\u001b[0m\u001b[37m\u001b[0m \u001b[1m0s\u001b[0m 65ms/step - loss: 0.4771 - mape: 10.4982 - r2_score: 0.3542 - val_loss: 0.5082 - val_mape: 10.0562 - val_r2_score: -0.0418 - learning_rate: 6.4000e-04\n",
      "Epoch 326/1000\n",
      "\u001b[1m5/5\u001b[0m \u001b[32m━━━━━━━━━━━━━━━━━━━━\u001b[0m\u001b[37m\u001b[0m \u001b[1m0s\u001b[0m 70ms/step - loss: 0.5868 - mape: 12.8598 - r2_score: 0.0228 - val_loss: 0.5006 - val_mape: 10.0246 - val_r2_score: 0.0173 - learning_rate: 6.4000e-04\n",
      "Epoch 327/1000\n",
      "\u001b[1m5/5\u001b[0m \u001b[32m━━━━━━━━━━━━━━━━━━━━\u001b[0m\u001b[37m\u001b[0m \u001b[1m0s\u001b[0m 66ms/step - loss: 0.4791 - mape: 10.6912 - r2_score: 0.3042 - val_loss: 0.5130 - val_mape: 10.2076 - val_r2_score: -0.0658 - learning_rate: 6.4000e-04\n",
      "Epoch 328/1000\n",
      "\u001b[1m5/5\u001b[0m \u001b[32m━━━━━━━━━━━━━━━━━━━━\u001b[0m\u001b[37m\u001b[0m \u001b[1m0s\u001b[0m 65ms/step - loss: 0.4329 - mape: 9.4743 - r2_score: 0.4506 - val_loss: 0.5023 - val_mape: 9.8925 - val_r2_score: -0.0953 - learning_rate: 6.4000e-04\n",
      "Epoch 329/1000\n",
      "\u001b[1m5/5\u001b[0m \u001b[32m━━━━━━━━━━━━━━━━━━━━\u001b[0m\u001b[37m\u001b[0m \u001b[1m0s\u001b[0m 65ms/step - loss: 0.4970 - mape: 10.7107 - r2_score: 0.2328 - val_loss: 0.5173 - val_mape: 10.1751 - val_r2_score: -0.1613 - learning_rate: 6.4000e-04\n",
      "Epoch 330/1000\n",
      "\u001b[1m5/5\u001b[0m \u001b[32m━━━━━━━━━━━━━━━━━━━━\u001b[0m\u001b[37m\u001b[0m \u001b[1m0s\u001b[0m 68ms/step - loss: 0.4875 - mape: 10.2308 - r2_score: 0.2844 - val_loss: 0.5483 - val_mape: 10.7971 - val_r2_score: -0.2784 - learning_rate: 6.4000e-04\n",
      "Epoch 331/1000\n",
      "\u001b[1m5/5\u001b[0m \u001b[32m━━━━━━━━━━━━━━━━━━━━\u001b[0m\u001b[37m\u001b[0m \u001b[1m0s\u001b[0m 72ms/step - loss: 0.5864 - mape: 12.5136 - r2_score: 0.0497 - val_loss: 0.5820 - val_mape: 11.6173 - val_r2_score: -0.2754 - learning_rate: 6.4000e-04\n",
      "Epoch 332/1000\n",
      "\u001b[1m5/5\u001b[0m \u001b[32m━━━━━━━━━━━━━━━━━━━━\u001b[0m\u001b[37m\u001b[0m \u001b[1m0s\u001b[0m 67ms/step - loss: 0.4369 - mape: 9.5568 - r2_score: 0.4360 - val_loss: 0.5398 - val_mape: 10.7583 - val_r2_score: -0.1522 - learning_rate: 6.4000e-04\n",
      "Epoch 333/1000\n",
      "\u001b[1m5/5\u001b[0m \u001b[32m━━━━━━━━━━━━━━━━━━━━\u001b[0m\u001b[37m\u001b[0m \u001b[1m0s\u001b[0m 72ms/step - loss: 0.5431 - mape: 11.4939 - r2_score: 0.1499 - val_loss: 0.5053 - val_mape: 10.0590 - val_r2_score: -0.0718 - learning_rate: 6.4000e-04\n",
      "Epoch 334/1000\n",
      "\u001b[1m5/5\u001b[0m \u001b[32m━━━━━━━━━━━━━━━━━━━━\u001b[0m\u001b[37m\u001b[0m \u001b[1m0s\u001b[0m 71ms/step - loss: 0.5948 - mape: 12.7685 - r2_score: -0.0046 - val_loss: 0.5426 - val_mape: 10.9405 - val_r2_score: -0.0813 - learning_rate: 6.4000e-04\n",
      "Epoch 335/1000\n",
      "\u001b[1m5/5\u001b[0m \u001b[32m━━━━━━━━━━━━━━━━━━━━\u001b[0m\u001b[37m\u001b[0m \u001b[1m0s\u001b[0m 66ms/step - loss: 0.5056 - mape: 10.9038 - r2_score: 0.2052 - val_loss: 0.5600 - val_mape: 11.2983 - val_r2_score: -0.1107 - learning_rate: 6.4000e-04\n",
      "Epoch 336/1000\n",
      "\u001b[1m5/5\u001b[0m \u001b[32m━━━━━━━━━━━━━━━━━━━━\u001b[0m\u001b[37m\u001b[0m \u001b[1m0s\u001b[0m 73ms/step - loss: 0.4824 - mape: 10.5836 - r2_score: 0.3016 - val_loss: 0.5105 - val_mape: 10.1047 - val_r2_score: -0.0851 - learning_rate: 6.4000e-04\n",
      "Epoch 337/1000\n",
      "\u001b[1m5/5\u001b[0m \u001b[32m━━━━━━━━━━━━━━━━━━━━\u001b[0m\u001b[37m\u001b[0m \u001b[1m0s\u001b[0m 66ms/step - loss: 0.5377 - mape: 11.6286 - r2_score: 0.1799 - val_loss: 0.5087 - val_mape: 9.9084 - val_r2_score: -0.1609 - learning_rate: 6.4000e-04\n",
      "Epoch 338/1000\n",
      "\u001b[1m5/5\u001b[0m \u001b[32m━━━━━━━━━━━━━━━━━━━━\u001b[0m\u001b[37m\u001b[0m \u001b[1m0s\u001b[0m 69ms/step - loss: 0.4718 - mape: 10.2796 - r2_score: 0.3145 - val_loss: 0.5448 - val_mape: 10.8211 - val_r2_score: -0.1808 - learning_rate: 6.4000e-04\n",
      "Epoch 339/1000\n",
      "\u001b[1m5/5\u001b[0m \u001b[32m━━━━━━━━━━━━━━━━━━━━\u001b[0m\u001b[37m\u001b[0m \u001b[1m0s\u001b[0m 71ms/step - loss: 0.5221 - mape: 11.4680 - r2_score: 0.1010 - val_loss: 0.5971 - val_mape: 12.0997 - val_r2_score: -0.1913 - learning_rate: 6.4000e-04\n",
      "Epoch 340/1000\n",
      "\u001b[1m5/5\u001b[0m \u001b[32m━━━━━━━━━━━━━━━━━━━━\u001b[0m\u001b[37m\u001b[0m \u001b[1m0s\u001b[0m 65ms/step - loss: 0.5194 - mape: 11.2337 - r2_score: 0.2818 - val_loss: 0.6684 - val_mape: 13.8532 - val_r2_score: -0.2746 - learning_rate: 6.4000e-04\n",
      "Epoch 341/1000\n",
      "\u001b[1m5/5\u001b[0m \u001b[32m━━━━━━━━━━━━━━━━━━━━\u001b[0m\u001b[37m\u001b[0m \u001b[1m0s\u001b[0m 69ms/step - loss: 0.4380 - mape: 9.3411 - r2_score: 0.4668 - val_loss: 0.5421 - val_mape: 10.8591 - val_r2_score: -0.1461 - learning_rate: 6.4000e-04\n",
      "Epoch 342/1000\n",
      "\u001b[1m5/5\u001b[0m \u001b[32m━━━━━━━━━━━━━━━━━━━━\u001b[0m\u001b[37m\u001b[0m \u001b[1m0s\u001b[0m 67ms/step - loss: 0.5723 - mape: 12.2433 - r2_score: -0.0853 - val_loss: 0.5036 - val_mape: 9.8646 - val_r2_score: -0.1530 - learning_rate: 6.4000e-04\n",
      "Epoch 343/1000\n",
      "\u001b[1m5/5\u001b[0m \u001b[32m━━━━━━━━━━━━━━━━━━━━\u001b[0m\u001b[37m\u001b[0m \u001b[1m0s\u001b[0m 71ms/step - loss: 0.4331 - mape: 9.3932 - r2_score: 0.4905 - val_loss: 0.5225 - val_mape: 10.4611 - val_r2_score: -0.0805 - learning_rate: 6.4000e-04\n",
      "Time for training:     1.0000s\n"
     ]
    }
   ],
   "source": [
    "model_trained = model_training(model_DNN,\n",
    "                               folder_path = final_path,\n",
    "                               batch_size = 12,\n",
    "                               num_epochs = 1000,\n",
    "                               x_train = x_train,\n",
    "                               y_train = y_train,\n",
    "                               x_val = x_test,\n",
    "                               y_val = y_test,\n",
    "                               callbacks = callbacks)"
   ]
  },
  {
   "cell_type": "markdown",
   "metadata": {
    "id": "LtfHyGNzF48o"
   },
   "source": [
    "## Save Model"
   ]
  },
  {
   "cell_type": "code",
   "execution_count": 33,
   "metadata": {
    "colab": {
     "base_uri": "https://localhost:8080/"
    },
    "executionInfo": {
     "elapsed": 660,
     "status": "ok",
     "timestamp": 1754806386690,
     "user": {
      "displayName": "Alan Gabriel Amaro Colin",
      "userId": "17298980579619170060"
     },
     "user_tz": 360
    },
    "id": "a_1vhfmHF5wK",
    "outputId": "80a69136-88cb-48be-9823-d104a5830e23"
   },
   "outputs": [
    {
     "name": "stderr",
     "output_type": "stream",
     "text": [
      "WARNING:absl:You are saving your model as an HDF5 file via `model.save()` or `keras.saving.save_model(model)`. This file format is considered legacy. We recommend using instead the native Keras format, e.g. `model.save('my_model.keras')` or `keras.saving.save_model(model, 'my_model.keras')`. \n"
     ]
    }
   ],
   "source": [
    "model_DNN.save( os.path.join(final_path, 'model.h5') )"
   ]
  },
  {
   "cell_type": "code",
   "execution_count": 34,
   "metadata": {
    "colab": {
     "base_uri": "https://localhost:8080/",
     "height": 927
    },
    "executionInfo": {
     "elapsed": 772,
     "status": "ok",
     "timestamp": 1754806387464,
     "user": {
      "displayName": "Alan Gabriel Amaro Colin",
      "userId": "17298980579619170060"
     },
     "user_tz": 360
    },
    "id": "1G9qoHIdF-GA",
    "outputId": "8a56fa33-93ed-411a-9dbe-889179c66222"
   },
   "outputs": [
    {
     "data": {
      "image/png": "[encoded data removed]",
      "text/plain": [
       "<Figure size 640x480 with 1 Axes>"
      ]
     },
     "metadata": {},
     "output_type": "display_data"
    },
    {
     "data": {
      "image/png": "[encoded data removed]",
      "text/plain": [
       "<Figure size 640x480 with 1 Axes>"
      ]
     },
     "metadata": {},
     "output_type": "display_data"
    }
   ],
   "source": [
    "do_graphics(\n",
    "    model_trained,\n",
    "    'DNN-MI-1',\n",
    "    ('MAE', 'MAPE'),\n",
    "    final_path,\n",
    "    metric = 'mape'\n",
    ")"
   ]
  },
  {
   "cell_type": "markdown",
   "metadata": {
    "id": "_F1AbxhWGI6w"
   },
   "source": [
    "## Evaluate"
   ]
  },
  {
   "cell_type": "code",
   "execution_count": 35,
   "metadata": {
    "colab": {
     "base_uri": "https://localhost:8080/"
    },
    "executionInfo": {
     "elapsed": 138,
     "status": "ok",
     "timestamp": 1754806387612,
     "user": {
      "displayName": "Alan Gabriel Amaro Colin",
      "userId": "17298980579619170060"
     },
     "user_tz": 360
    },
    "id": "4J5wcFgrGG7a",
    "outputId": "16ea5e95-c59b-4d0b-c4d9-841d8a3b131a"
   },
   "outputs": [
    {
     "name": "stdout",
     "output_type": "stream",
     "text": [
      "\u001b[1m1/1\u001b[0m \u001b[32m━━━━━━━━━━━━━━━━━━━━\u001b[0m\u001b[37m\u001b[0m \u001b[1m0s\u001b[0m 78ms/step - loss: 0.5346 - mape: 10.8142 - r2_score: 0.0928\n",
      "-> Loss = 0.5346006751060486\n",
      "-> Test Accuracy = 10.814208030700684\n",
      "-> R2 Accuracy = 0.09283745288848877\n"
     ]
    }
   ],
   "source": [
    "loss, accuracy, _ = evaluate_model_regression(model_DNN, x_test, y_test)"
   ]
  },
  {
   "cell_type": "markdown",
   "metadata": {
    "id": "9s7QfcrKGhLa"
   },
   "source": [
    "## KDE Comparison"
   ]
  },
  {
   "cell_type": "code",
   "execution_count": 36,
   "metadata": {
    "executionInfo": {
     "elapsed": 230,
     "status": "ok",
     "timestamp": 1754806387861,
     "user": {
      "displayName": "Alan Gabriel Amaro Colin",
      "userId": "17298980579619170060"
     },
     "user_tz": 360
    },
    "id": "HPZJY1PLGtGt"
   },
   "outputs": [],
   "source": [
    "import seaborn as sns"
   ]
  },
  {
   "cell_type": "code",
   "execution_count": 37,
   "metadata": {
    "colab": {
     "base_uri": "https://localhost:8080/",
     "height": 385
    },
    "executionInfo": {
     "elapsed": 844,
     "status": "ok",
     "timestamp": 1754806388692,
     "user": {
      "displayName": "Alan Gabriel Amaro Colin",
      "userId": "17298980579619170060"
     },
     "user_tz": 360
    },
    "id": "wgU2IH7IGiXL",
    "outputId": "e41150e6-6212-47db-a0a5-cf59ca47323c"
   },
   "outputs": [
    {
     "name": "stdout",
     "output_type": "stream",
     "text": [
      "\u001b[1m1/1\u001b[0m \u001b[32m━━━━━━━━━━━━━━━━━━━━\u001b[0m\u001b[37m\u001b[0m \u001b[1m0s\u001b[0m 146ms/step\n"
     ]
    },
    {
     "data": {
      "image/png": "[encoded data removed]",
      "text/plain": [
       "<Figure size 400x400 with 1 Axes>"
      ]
     },
     "metadata": {},
     "output_type": "display_data"
    }
   ],
   "source": [
    "plt.figure(figsize = (4,4))\n",
    "sns.kdeplot( model_DNN.predict(x_test), label = 'Predicted', fill= True)\n",
    "sns.kdeplot(y_test, label = 'True', fill = True)\n",
    "plt.grid()\n",
    "plt.legend()\n",
    "plt.savefig( os.path.join(final_path, 'kde.png') )\n",
    "plt.show()"
   ]
  },
  {
   "cell_type": "markdown",
   "metadata": {},
   "source": [
    "## Comparative Plot"
   ]
  },
  {
   "cell_type": "code",
   "execution_count": 38,
   "metadata": {},
   "outputs": [
    {
     "name": "stdout",
     "output_type": "stream",
     "text": [
      "\u001b[1m1/1\u001b[0m \u001b[32m━━━━━━━━━━━━━━━━━━━━\u001b[0m\u001b[37m\u001b[0m \u001b[1m0s\u001b[0m 56ms/step\n"
     ]
    },
    {
     "data": {
      "image/png": "[encoded data removed]",
      "text/plain": [
       "<Figure size 400x400 with 1 Axes>"
      ]
     },
     "metadata": {},
     "output_type": "display_data"
    }
   ],
   "source": [
    "plt.figure(figsize = (4,4))\n",
    "plt.plot([x for x in range(3, 7)], [x for x in range(3, 7)])\n",
    "plt.scatter(y_test, model_DNN.predict(x_test))\n",
    "#sns.kdeplot(y_test, label = 'True', fill = True)\n",
    "plt.grid()\n",
    "plt.title('Test Set')\n",
    "plt.savefig(os.path.join(final_path, 'test.png'))\n",
    "plt.show()"
   ]
  },
  {
   "cell_type": "code",
   "execution_count": 39,
   "metadata": {},
   "outputs": [
    {
     "name": "stdout",
     "output_type": "stream",
     "text": [
      "\u001b[1m1/1\u001b[0m \u001b[32m━━━━━━━━━━━━━━━━━━━━\u001b[0m\u001b[37m\u001b[0m \u001b[1m0s\u001b[0m 68ms/step - loss: 0.5346 - mape: 10.8142 - r2_score: 0.0928\n",
      "-> Loss = 0.5346006751060486\n",
      "-> Test Accuracy = 10.814208030700684\n",
      "-> R2 Accuracy = 0.09283745288848877\n"
     ]
    }
   ],
   "source": [
    "results = np.array([ evaluate_model_regression(model_DNN, x_test, y_test) ])\n",
    "np.save('./kfolds/{}'.format(kint), results)"
   ]
  },
  {
   "cell_type": "markdown",
   "metadata": {},
   "source": [
    "## Results"
   ]
  },
  {
   "cell_type": "markdown",
   "metadata": {},
   "source": [
    "-> Loss = 0.43038806319236755\n",
    "-> Test Accuracy = 8.71993350982666\n",
    "-> R2 Accuracy = 0.4706185460090637\n",
    "-> 'DNN_MI_1_FULL'"
   ]
  },
  {
   "cell_type": "markdown",
   "metadata": {},
   "source": [
    "-> Loss = 0.33492109179496765\n",
    "-> Test Accuracy = 7.291499614715576\n",
    "-> R2 Accuracy = 0.6732093095779419\n",
    "-> 'DNN_MI_1_FULL2'"
   ]
  },
  {
   "cell_type": "markdown",
   "metadata": {},
   "source": [
    "-> Loss = 0.2952897250652313\n",
    "-> Test Accuracy = 6.3148722648620605\n",
    "-> R2 Accuracy = 0.7042462825775146\n",
    "-> 3"
   ]
  }
 ],
 "metadata": {
  "colab": {
   "authorship_tag": "ABX9TyPGnKoyfso1VK2rJhSn9brq",
   "mount_file_id": "1oAGWlf-SZH58jEakX1pZwdDPfXrMUo5n",
   "provenance": []
  },
  "kernelspec": {
   "display_name": "Python 3 (ipykernel)",
   "language": "python",
   "name": "python3"
  },
  "language_info": {
   "codemirror_mode": {
    "name": "ipython",
    "version": 3
   },
   "file_extension": ".py",
   "mimetype": "text/x-python",
   "name": "python",
   "nbconvert_exporter": "python",
   "pygments_lexer": "ipython3",
   "version": "3.9.23"
  }
 },
 "nbformat": 4,
 "nbformat_minor": 4
}
