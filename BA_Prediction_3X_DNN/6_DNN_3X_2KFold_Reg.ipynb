{
 "cells": [
  {
   "cell_type": "markdown",
   "metadata": {
    "id": "H6Wue51yaxKv"
   },
   "source": [
    "# Dense Neural Networks"
   ]
  },
  {
   "cell_type": "markdown",
   "metadata": {
    "id": "rKzTG2kjZK65"
   },
   "source": [
    "Hello there!\n",
    "\n",
    "In the previous approach we have considered a linear estimation for the bio-activity. Our result presents an average $R^{2}=0.62$ and a MAPE of $7.19$ In this notebook, we present a new approach by the use of Deep Neural Networks, in this initial case we use only Dense Layers or a Feed Forward. The descriptors used are obtained by the use of Mutual Information (MI). We've first selected those descriptors with a higher mutual than $0.4$, where we've reduced the dimension from 1200 to just 99 descriptors.\n",
    "\n",
    "Then, we have selected from the 99 descriptors the one descriptor with the highest MI (piPC4) and have selected two variables that are independent among them. This means, the MI values among them is the lowest value possible."
   ]
  },
  {
   "cell_type": "markdown",
   "metadata": {
    "id": "s8_gew3AbzAj"
   },
   "source": [
    "## Mutual Information"
   ]
  },
  {
   "cell_type": "markdown",
   "metadata": {
    "id": "vmxe0Iu-cSj0"
   },
   "source": [
    "### **Mutual Information (MI) for Feature Selection**  \n",
    "**Mutual Information** measures the **statistical dependence** between two variables, capturing **both linear and nonlinear relationships**. Unlike Pearson correlation (which only detects linear trends), MI quantifies how much knowing one variable reduces uncertainty about the other.  \n",
    "\n",
    "#### **Mathematical Definition**  \n",
    "For two continuous variables \\( X \\) and \\( Y \\):  \n",
    "\n",
    "$\\text{MI}(X, Y) = \\iint p(x, y) \\log \\left( \\frac{p(x, y)}{p(x)p(y)} \\right) dx \\, dy$  \n",
    "where:  \n",
    "- $( p(x, y) )$ = joint probability density.  \n",
    "- $( p(x), p(y) )$ = marginal densities.  \n",
    "\n",
    "**Key Properties**:  \n",
    "- $MI (\\geq 0)$ (0 means independent).  \n",
    "- Higher MI = stronger dependency.  \n"
   ]
  },
  {
   "cell_type": "markdown",
   "metadata": {
    "id": "yJk4WF4CdnCZ"
   },
   "source": [
    "## Used libraries"
   ]
  },
  {
   "cell_type": "code",
   "execution_count": 1,
   "metadata": {},
   "outputs": [],
   "source": [
    "import os\n",
    "os.environ[\"CUDA_VISIBLE_DEVICES\"] = \"-1\""
   ]
  },
  {
   "cell_type": "code",
   "execution_count": 2,
   "metadata": {},
   "outputs": [],
   "source": [
    "colab = False"
   ]
  },
  {
   "cell_type": "code",
   "execution_count": 3,
   "metadata": {
    "executionInfo": {
     "elapsed": 13,
     "status": "ok",
     "timestamp": 1754806314489,
     "user": {
      "displayName": "Alan Gabriel Amaro Colin",
      "userId": "17298980579619170060"
     },
     "user_tz": 360
    },
    "id": "B2LFMr_RRg1B"
   },
   "outputs": [
    {
     "name": "stderr",
     "output_type": "stream",
     "text": [
      "2025-08-13 00:25:34.242012: I tensorflow/core/platform/cpu_feature_guard.cc:210] This TensorFlow binary is optimized to use available CPU instructions in performance-critical operations.\n",
      "To enable the following instructions: FMA, in other operations, rebuild TensorFlow with the appropriate compiler flags.\n",
      "2025-08-13 00:25:35.669038: W tensorflow/compiler/tf2tensorrt/utils/py_utils.cc:38] TF-TRT Warning: Could not find TensorRT\n",
      "/home/alan-amaro/miniconda3/envs/farma/lib/python3.9/site-packages/requests/__init__.py:86: RequestsDependencyWarning: Unable to find acceptable character detection dependency (chardet or charset_normalizer).\n",
      "  warnings.warn(\n"
     ]
    }
   ],
   "source": [
    "if colab: \n",
    "    import sys\n",
    "    sys.path.append('/content/drive/MyDrive/Colaboracion_Quimica/Main_Codes/AutoEncoders/AmaroX/AmaroX')\n",
    "    ! pip install python-telegram-bot\n",
    "\n",
    "    from ai_functions import *\n",
    "    from ai_models import *\n",
    "    from utilities import *\n",
    "    from data_manipulation import *\n",
    "    import pandas as pd\n",
    "else: \n",
    "    from AmaroX.AmaroX.ai_functions import *\n",
    "    from AmaroX.AmaroX.ai_models import *\n",
    "    from AmaroX.AmaroX.utilities import *\n",
    "    from AmaroX.AmaroX.data_manipulation import *\n",
    "    import pandas as pd\n",
    "    import sklearn"
   ]
  },
  {
   "cell_type": "markdown",
   "metadata": {
    "id": "LMM15EIAeNMM"
   },
   "source": [
    "## Data"
   ]
  },
  {
   "cell_type": "markdown",
   "metadata": {
    "id": "dHUpPc5dfJrs"
   },
   "source": [
    "The data presented here corresponds to molecules with their SMILE representation and descriptors, along with the biological activity. Let's first do a quick view of the data shape."
   ]
  },
  {
   "cell_type": "markdown",
   "metadata": {
    "id": "QLDOuzTDDoW1"
   },
   "source": [
    "* All the data presented here was obtained by colaboration with Dr. Erick Padilla at Facultad de Estudios Superiores Zaragoza - UNAM."
   ]
  },
  {
   "cell_type": "markdown",
   "metadata": {
    "id": "wx7mCiFYeP_M"
   },
   "source": [
    "### Downloading the data"
   ]
  },
  {
   "cell_type": "code",
   "execution_count": 4,
   "metadata": {
    "colab": {
     "base_uri": "https://localhost:8080/"
    },
    "executionInfo": {
     "elapsed": 5366,
     "status": "ok",
     "timestamp": 1754806339684,
     "user": {
      "displayName": "Alan Gabriel Amaro Colin",
      "userId": "17298980579619170060"
     },
     "user_tz": 360
    },
    "id": "TaqYCyF_eN_W",
    "outputId": "9d2fe30a-81b4-455f-a99e-557a868d9c81"
   },
   "outputs": [],
   "source": [
    "if colab:\n",
    "    ! gdown --id 1cHM9neEhTOZ82UU9HaZkdGdlwE1d4SJT\n",
    "    ! gdown --id 1wZp9pou63ElEYyGGjBeC2pDtscgRgCpj"
   ]
  },
  {
   "cell_type": "markdown",
   "metadata": {
    "id": "wfg2b6FNfNIP"
   },
   "source": [
    "The _data.xlsx_ file contains all the molecular descriptors from the molecule, along with a SMILE representation."
   ]
  },
  {
   "cell_type": "code",
   "execution_count": 5,
   "metadata": {
    "executionInfo": {
     "elapsed": 7645,
     "status": "ok",
     "timestamp": 1754806347350,
     "user": {
      "displayName": "Alan Gabriel Amaro Colin",
      "userId": "17298980579619170060"
     },
     "user_tz": 360
    },
    "id": "OvBcuQFXeU5y"
   },
   "outputs": [],
   "source": [
    "compounds_md = pd.read_excel(\"../Data/data.xlsx\")\n",
    "activity = pd.read_excel(\"../Data/Actividad.xlsx\")"
   ]
  },
  {
   "cell_type": "code",
   "execution_count": 6,
   "metadata": {
    "colab": {
     "base_uri": "https://localhost:8080/",
     "height": 690
    },
    "executionInfo": {
     "elapsed": 246,
     "status": "ok",
     "timestamp": 1754806347594,
     "user": {
      "displayName": "Alan Gabriel Amaro Colin",
      "userId": "17298980579619170060"
     },
     "user_tz": 360
    },
    "id": "IixnVRP-eXsd",
    "outputId": "9f8d0e08-c3b5-4144-d0c5-3133d5f0667c"
   },
   "outputs": [
    {
     "data": {
      "text/html": [
       "<div>\n",
       "<style scoped>\n",
       "    .dataframe tbody tr th:only-of-type {\n",
       "        vertical-align: middle;\n",
       "    }\n",
       "\n",
       "    .dataframe tbody tr th {\n",
       "        vertical-align: top;\n",
       "    }\n",
       "\n",
       "    .dataframe thead th {\n",
       "        text-align: right;\n",
       "    }\n",
       "</style>\n",
       "<table border=\"1\" class=\"dataframe\">\n",
       "  <thead>\n",
       "    <tr style=\"text-align: right;\">\n",
       "      <th></th>\n",
       "      <th>Cmpd</th>\n",
       "      <th>SMILES</th>\n",
       "      <th>ABC</th>\n",
       "      <th>ABCGG</th>\n",
       "      <th>nAcid</th>\n",
       "      <th>nBase</th>\n",
       "      <th>SpAbs_A</th>\n",
       "      <th>SpMax_A</th>\n",
       "      <th>SpDiam_A</th>\n",
       "      <th>SpAD_A</th>\n",
       "      <th>...</th>\n",
       "      <th>SRW10</th>\n",
       "      <th>TSRW10</th>\n",
       "      <th>MW</th>\n",
       "      <th>AMW</th>\n",
       "      <th>WPath</th>\n",
       "      <th>WPol</th>\n",
       "      <th>Zagreb1</th>\n",
       "      <th>Zagreb2</th>\n",
       "      <th>mZagreb1</th>\n",
       "      <th>mZagreb2</th>\n",
       "    </tr>\n",
       "  </thead>\n",
       "  <tbody>\n",
       "    <tr>\n",
       "      <th>0</th>\n",
       "      <td>Compuesto original</td>\n",
       "      <td>O=C(N/1)/C(SC1=N/C2=NC3=CC=C(F)C=C3S2)=C/N4CCN...</td>\n",
       "      <td>module 'numpy' has no attribute 'float'.\\n `np...</td>\n",
       "      <td>module 'numpy' has no attribute 'float'.\\n `np...</td>\n",
       "      <td>0</td>\n",
       "      <td>3</td>\n",
       "      <td>34.64084</td>\n",
       "      <td>2.428932</td>\n",
       "      <td>4.709973</td>\n",
       "      <td>34.64084</td>\n",
       "      <td>...</td>\n",
       "      <td>10.158170</td>\n",
       "      <td>78.17227</td>\n",
       "      <td>405.1093</td>\n",
       "      <td>8.619347</td>\n",
       "      <td>2138</td>\n",
       "      <td>39</td>\n",
       "      <td>146</td>\n",
       "      <td>171</td>\n",
       "      <td>8.361111</td>\n",
       "      <td>5.750000</td>\n",
       "    </tr>\n",
       "    <tr>\n",
       "      <th>1</th>\n",
       "      <td>Compound 3</td>\n",
       "      <td>O=C1NC2=CC=C([H])C=C2/C1=N\\C3=CC=CC(Br)=N3</td>\n",
       "      <td>module 'numpy' has no attribute 'float'.\\n `np...</td>\n",
       "      <td>module 'numpy' has no attribute 'float'.\\n `np...</td>\n",
       "      <td>0</td>\n",
       "      <td>0</td>\n",
       "      <td>23.43385</td>\n",
       "      <td>2.452376</td>\n",
       "      <td>4.754134</td>\n",
       "      <td>23.43385</td>\n",
       "      <td>...</td>\n",
       "      <td>9.792612</td>\n",
       "      <td>65.48686</td>\n",
       "      <td>300.9851</td>\n",
       "      <td>11.576350</td>\n",
       "      <td>599</td>\n",
       "      <td>26</td>\n",
       "      <td>96</td>\n",
       "      <td>113</td>\n",
       "      <td>5.166667</td>\n",
       "      <td>3.916667</td>\n",
       "    </tr>\n",
       "    <tr>\n",
       "      <th>2</th>\n",
       "      <td>Compound 4</td>\n",
       "      <td>O=C1NC2=CC=CC=C2/C1=N\\C3=NC4=CC(OCC)=CC=C4S3</td>\n",
       "      <td>module 'numpy' has no attribute 'float'.\\n `np...</td>\n",
       "      <td>module 'numpy' has no attribute 'float'.\\n `np...</td>\n",
       "      <td>0</td>\n",
       "      <td>0</td>\n",
       "      <td>30.43085</td>\n",
       "      <td>2.474251</td>\n",
       "      <td>4.745881</td>\n",
       "      <td>30.43085</td>\n",
       "      <td>...</td>\n",
       "      <td>10.101640</td>\n",
       "      <td>73.78306</td>\n",
       "      <td>323.0728</td>\n",
       "      <td>8.974246</td>\n",
       "      <td>1245</td>\n",
       "      <td>35</td>\n",
       "      <td>126</td>\n",
       "      <td>151</td>\n",
       "      <td>6.138889</td>\n",
       "      <td>5.027778</td>\n",
       "    </tr>\n",
       "    <tr>\n",
       "      <th>3</th>\n",
       "      <td>Compound 8</td>\n",
       "      <td>O=C1NC2=CC=C(Br)C=C2/C1=N\\C3=CC=CC(F)=N3</td>\n",
       "      <td>module 'numpy' has no attribute 'float'.\\n `np...</td>\n",
       "      <td>module 'numpy' has no attribute 'float'.\\n `np...</td>\n",
       "      <td>0</td>\n",
       "      <td>0</td>\n",
       "      <td>24.52891</td>\n",
       "      <td>2.46582</td>\n",
       "      <td>4.787297</td>\n",
       "      <td>24.52891</td>\n",
       "      <td>...</td>\n",
       "      <td>9.873183</td>\n",
       "      <td>66.82214</td>\n",
       "      <td>318.9757</td>\n",
       "      <td>12.268290</td>\n",
       "      <td>693</td>\n",
       "      <td>28</td>\n",
       "      <td>102</td>\n",
       "      <td>120</td>\n",
       "      <td>6.027778</td>\n",
       "      <td>4.083333</td>\n",
       "    </tr>\n",
       "    <tr>\n",
       "      <th>4</th>\n",
       "      <td>Compound 9</td>\n",
       "      <td>O=C1NC2=CC=C(Br)C=C2/C1=N/C3=CC([N+]([O-])=O)=...</td>\n",
       "      <td>module 'numpy' has no attribute 'float'.\\n `np...</td>\n",
       "      <td>module 'numpy' has no attribute 'float'.\\n `np...</td>\n",
       "      <td>0</td>\n",
       "      <td>0</td>\n",
       "      <td>27.00118</td>\n",
       "      <td>2.467278</td>\n",
       "      <td>4.80069</td>\n",
       "      <td>27.00118</td>\n",
       "      <td>...</td>\n",
       "      <td>9.972407</td>\n",
       "      <td>69.29945</td>\n",
       "      <td>345.9702</td>\n",
       "      <td>12.356080</td>\n",
       "      <td>929</td>\n",
       "      <td>32</td>\n",
       "      <td>112</td>\n",
       "      <td>132</td>\n",
       "      <td>7.138889</td>\n",
       "      <td>4.527778</td>\n",
       "    </tr>\n",
       "  </tbody>\n",
       "</table>\n",
       "<p>5 rows × 1828 columns</p>\n",
       "</div>"
      ],
      "text/plain": [
       "                 Cmpd                                             SMILES  \\\n",
       "0  Compuesto original  O=C(N/1)/C(SC1=N/C2=NC3=CC=C(F)C=C3S2)=C/N4CCN...   \n",
       "1          Compound 3         O=C1NC2=CC=C([H])C=C2/C1=N\\C3=CC=CC(Br)=N3   \n",
       "2          Compound 4       O=C1NC2=CC=CC=C2/C1=N\\C3=NC4=CC(OCC)=CC=C4S3   \n",
       "3          Compound 8           O=C1NC2=CC=C(Br)C=C2/C1=N\\C3=CC=CC(F)=N3   \n",
       "4          Compound 9  O=C1NC2=CC=C(Br)C=C2/C1=N/C3=CC([N+]([O-])=O)=...   \n",
       "\n",
       "                                                 ABC  \\\n",
       "0  module 'numpy' has no attribute 'float'.\\n `np...   \n",
       "1  module 'numpy' has no attribute 'float'.\\n `np...   \n",
       "2  module 'numpy' has no attribute 'float'.\\n `np...   \n",
       "3  module 'numpy' has no attribute 'float'.\\n `np...   \n",
       "4  module 'numpy' has no attribute 'float'.\\n `np...   \n",
       "\n",
       "                                               ABCGG  nAcid  nBase   SpAbs_A  \\\n",
       "0  module 'numpy' has no attribute 'float'.\\n `np...      0      3  34.64084   \n",
       "1  module 'numpy' has no attribute 'float'.\\n `np...      0      0  23.43385   \n",
       "2  module 'numpy' has no attribute 'float'.\\n `np...      0      0  30.43085   \n",
       "3  module 'numpy' has no attribute 'float'.\\n `np...      0      0  24.52891   \n",
       "4  module 'numpy' has no attribute 'float'.\\n `np...      0      0  27.00118   \n",
       "\n",
       "    SpMax_A  SpDiam_A    SpAD_A  ...      SRW10    TSRW10        MW  \\\n",
       "0  2.428932  4.709973  34.64084  ...  10.158170  78.17227  405.1093   \n",
       "1  2.452376  4.754134  23.43385  ...   9.792612  65.48686  300.9851   \n",
       "2  2.474251  4.745881  30.43085  ...  10.101640  73.78306  323.0728   \n",
       "3   2.46582  4.787297  24.52891  ...   9.873183  66.82214  318.9757   \n",
       "4  2.467278   4.80069  27.00118  ...   9.972407  69.29945  345.9702   \n",
       "\n",
       "         AMW WPath WPol Zagreb1 Zagreb2  mZagreb1  mZagreb2  \n",
       "0   8.619347  2138   39     146     171  8.361111  5.750000  \n",
       "1  11.576350   599   26      96     113  5.166667  3.916667  \n",
       "2   8.974246  1245   35     126     151  6.138889  5.027778  \n",
       "3  12.268290   693   28     102     120  6.027778  4.083333  \n",
       "4  12.356080   929   32     112     132  7.138889  4.527778  \n",
       "\n",
       "[5 rows x 1828 columns]"
      ]
     },
     "execution_count": 6,
     "metadata": {},
     "output_type": "execute_result"
    }
   ],
   "source": [
    "compounds_md.head()"
   ]
  },
  {
   "cell_type": "code",
   "execution_count": 7,
   "metadata": {
    "colab": {
     "base_uri": "https://localhost:8080/"
    },
    "executionInfo": {
     "elapsed": 152,
     "status": "ok",
     "timestamp": 1754806347984,
     "user": {
      "displayName": "Alan Gabriel Amaro Colin",
      "userId": "17298980579619170060"
     },
     "user_tz": 360
    },
    "id": "FwOMTbIfeZxe",
    "outputId": "d4e19ab7-1e86-4f28-c0cc-72e1b71f5ebc"
   },
   "outputs": [
    {
     "data": {
      "text/plain": [
       "(71, 1828)"
      ]
     },
     "execution_count": 7,
     "metadata": {},
     "output_type": "execute_result"
    }
   ],
   "source": [
    "compounds_md.shape"
   ]
  },
  {
   "cell_type": "code",
   "execution_count": 8,
   "metadata": {
    "colab": {
     "base_uri": "https://localhost:8080/",
     "height": 206
    },
    "executionInfo": {
     "elapsed": 68,
     "status": "ok",
     "timestamp": 1754806348065,
     "user": {
      "displayName": "Alan Gabriel Amaro Colin",
      "userId": "17298980579619170060"
     },
     "user_tz": 360
    },
    "id": "ab4UBiBFecAa",
    "outputId": "64071620-080b-4b49-bca8-25cc92379fd5"
   },
   "outputs": [
    {
     "data": {
      "text/html": [
       "<div>\n",
       "<style scoped>\n",
       "    .dataframe tbody tr th:only-of-type {\n",
       "        vertical-align: middle;\n",
       "    }\n",
       "\n",
       "    .dataframe tbody tr th {\n",
       "        vertical-align: top;\n",
       "    }\n",
       "\n",
       "    .dataframe thead th {\n",
       "        text-align: right;\n",
       "    }\n",
       "</style>\n",
       "<table border=\"1\" class=\"dataframe\">\n",
       "  <thead>\n",
       "    <tr style=\"text-align: right;\">\n",
       "      <th></th>\n",
       "      <th>Activity</th>\n",
       "    </tr>\n",
       "  </thead>\n",
       "  <tbody>\n",
       "    <tr>\n",
       "      <th>0</th>\n",
       "      <td>5.005513</td>\n",
       "    </tr>\n",
       "    <tr>\n",
       "      <th>1</th>\n",
       "      <td>4.381642</td>\n",
       "    </tr>\n",
       "    <tr>\n",
       "      <th>2</th>\n",
       "      <td>4.114064</td>\n",
       "    </tr>\n",
       "    <tr>\n",
       "      <th>3</th>\n",
       "      <td>5.012402</td>\n",
       "    </tr>\n",
       "    <tr>\n",
       "      <th>4</th>\n",
       "      <td>5.047677</td>\n",
       "    </tr>\n",
       "  </tbody>\n",
       "</table>\n",
       "</div>"
      ],
      "text/plain": [
       "   Activity\n",
       "0  5.005513\n",
       "1  4.381642\n",
       "2  4.114064\n",
       "3  5.012402\n",
       "4  5.047677"
      ]
     },
     "execution_count": 8,
     "metadata": {},
     "output_type": "execute_result"
    }
   ],
   "source": [
    "activity.head()"
   ]
  },
  {
   "cell_type": "code",
   "execution_count": 9,
   "metadata": {
    "colab": {
     "base_uri": "https://localhost:8080/"
    },
    "executionInfo": {
     "elapsed": 37,
     "status": "ok",
     "timestamp": 1754806348116,
     "user": {
      "displayName": "Alan Gabriel Amaro Colin",
      "userId": "17298980579619170060"
     },
     "user_tz": 360
    },
    "id": "fYz-3Re2eebA",
    "outputId": "1a9bb07d-d21a-4ca2-b93e-a21af222060c"
   },
   "outputs": [
    {
     "data": {
      "text/plain": [
       "(71, 1)"
      ]
     },
     "execution_count": 9,
     "metadata": {},
     "output_type": "execute_result"
    }
   ],
   "source": [
    "activity.shape"
   ]
  },
  {
   "cell_type": "markdown",
   "metadata": {
    "id": "IIU9JDRgfUWk"
   },
   "source": [
    "* The variable _x_ are the molecular descriptors, we're only interested in numerical properties:"
   ]
  },
  {
   "cell_type": "code",
   "execution_count": 10,
   "metadata": {
    "executionInfo": {
     "elapsed": 376,
     "status": "ok",
     "timestamp": 1754806348504,
     "user": {
      "displayName": "Alan Gabriel Amaro Colin",
      "userId": "17298980579619170060"
     },
     "user_tz": 360
    },
    "id": "OVvrgkBqeeXy"
   },
   "outputs": [],
   "source": [
    "x = compounds_md.copy()\n",
    "x = x.select_dtypes(\"number\")"
   ]
  },
  {
   "cell_type": "markdown",
   "metadata": {
    "id": "eyw0iNEPfbKq"
   },
   "source": [
    "## Applying Mutual Information to Molecular Descriptors"
   ]
  },
  {
   "cell_type": "markdown",
   "metadata": {
    "id": "EPCBSQMBbNf5"
   },
   "source": [
    "In the previous notebook, we have selected 3 molecular descriptors that are independent among them and present a high MI with respect to the bio-activity."
   ]
  },
  {
   "cell_type": "code",
   "execution_count": 11,
   "metadata": {
    "colab": {
     "base_uri": "https://localhost:8080/"
    },
    "executionInfo": {
     "elapsed": 376,
     "status": "ok",
     "timestamp": 1754806348508,
     "user": {
      "displayName": "Alan Gabriel Amaro Colin",
      "userId": "17298980579619170060"
     },
     "user_tz": 360
    },
    "id": "_55TahzCbUiO",
    "outputId": "943e13b7-622c-4195-98d9-39b408322575"
   },
   "outputs": [
    {
     "data": {
      "text/plain": [
       "(71, 3)"
      ]
     },
     "execution_count": 11,
     "metadata": {},
     "output_type": "execute_result"
    }
   ],
   "source": [
    "x_array = np.array(x[ ['piPC4', 'GATS3i', 'SssNH'] ])\n",
    "x_array.shape"
   ]
  },
  {
   "cell_type": "code",
   "execution_count": 12,
   "metadata": {
    "colab": {
     "base_uri": "https://localhost:8080/"
    },
    "executionInfo": {
     "elapsed": 33,
     "status": "ok",
     "timestamp": 1754806348544,
     "user": {
      "displayName": "Alan Gabriel Amaro Colin",
      "userId": "17298980579619170060"
     },
     "user_tz": 360
    },
    "id": "qIbrbX4NblAQ",
    "outputId": "8060c218-8830-43f7-80c7-4d321cf844f1"
   },
   "outputs": [
    {
     "data": {
      "text/plain": [
       "(71,)"
      ]
     },
     "execution_count": 12,
     "metadata": {},
     "output_type": "execute_result"
    }
   ],
   "source": [
    "y_array = np.array( activity )[:, 0]\n",
    "y_array.shape"
   ]
  },
  {
   "cell_type": "markdown",
   "metadata": {
    "id": "HIvdru7Qb6n4"
   },
   "source": [
    "## Standarize Features"
   ]
  },
  {
   "cell_type": "code",
   "execution_count": 13,
   "metadata": {
    "executionInfo": {
     "elapsed": 35,
     "status": "ok",
     "timestamp": 1754806348583,
     "user": {
      "displayName": "Alan Gabriel Amaro Colin",
      "userId": "17298980579619170060"
     },
     "user_tz": 360
    },
    "id": "-4P8uMr8b8FA"
   },
   "outputs": [],
   "source": [
    "from sklearn.preprocessing import StandardScaler\n",
    "scaler = StandardScaler()"
   ]
  },
  {
   "cell_type": "code",
   "execution_count": 14,
   "metadata": {
    "colab": {
     "base_uri": "https://localhost:8080/"
    },
    "executionInfo": {
     "elapsed": 32,
     "status": "ok",
     "timestamp": 1754806348587,
     "user": {
      "displayName": "Alan Gabriel Amaro Colin",
      "userId": "17298980579619170060"
     },
     "user_tz": 360
    },
    "id": "Q1DtBVx8cGc3",
    "outputId": "e5a919ce-b9c7-4089-f736-f68d0234fcd6"
   },
   "outputs": [
    {
     "data": {
      "text/plain": [
       "(71, 3)"
      ]
     },
     "execution_count": 14,
     "metadata": {},
     "output_type": "execute_result"
    }
   ],
   "source": [
    "x_std = scaler.fit_transform(x_array)\n",
    "x_std.shape"
   ]
  },
  {
   "cell_type": "code",
   "execution_count": 15,
   "metadata": {
    "colab": {
     "base_uri": "https://localhost:8080/",
     "height": 469
    },
    "executionInfo": {
     "elapsed": 55,
     "status": "ok",
     "timestamp": 1754806348632,
     "user": {
      "displayName": "Alan Gabriel Amaro Colin",
      "userId": "17298980579619170060"
     },
     "user_tz": 360
    },
    "id": "TCAnYfB9cNJM",
    "outputId": "c67d1f14-718a-436c-c411-504973177ba7"
   },
   "outputs": [
    {
     "data": {
      "image/png": "[encoded data removed]",
      "text/plain": [
       "<Figure size 640x480 with 1 Axes>"
      ]
     },
     "metadata": {},
     "output_type": "display_data"
    },
    {
     "name": "stdout",
     "output_type": "stream",
     "text": [
      "The corresponding y element -> 5.75561813\n"
     ]
    }
   ],
   "source": [
    "plot_xy([x_std, y_array])"
   ]
  },
  {
   "cell_type": "markdown",
   "metadata": {
    "id": "lEUasbz0fl5I"
   },
   "source": [
    "## Splitting Train and Test"
   ]
  },
  {
   "cell_type": "code",
   "execution_count": 16,
   "metadata": {},
   "outputs": [],
   "source": [
    "from sklearn.model_selection import StratifiedKFold\n",
    "from sklearn.datasets import make_regression"
   ]
  },
  {
   "cell_type": "code",
   "execution_count": 17,
   "metadata": {},
   "outputs": [
    {
     "name": "stdin",
     "output_type": "stream",
     "text": [
      "Selecciona el K:  5\n"
     ]
    }
   ],
   "source": [
    "kint = int(input('Selecciona el K: '))"
   ]
  },
  {
   "cell_type": "code",
   "execution_count": 18,
   "metadata": {},
   "outputs": [],
   "source": [
    "# Convert the continuous target into bins\n",
    "n_bins = 6  # you can adjust this number\n",
    "y_binned = np.floor(\n",
    "    np.interp(y_array, (y_array.min(), y_array.max()), (0, n_bins))\n",
    "    ).astype(int)"
   ]
  },
  {
   "cell_type": "code",
   "execution_count": 19,
   "metadata": {},
   "outputs": [],
   "source": [
    "# Create StratifiedKFold with shuffle and seed\n",
    "skf = StratifiedKFold(n_splits=n_bins, shuffle=True, random_state=1360)"
   ]
  },
  {
   "cell_type": "code",
   "execution_count": 20,
   "metadata": {},
   "outputs": [
    {
     "name": "stderr",
     "output_type": "stream",
     "text": [
      "/home/alan-amaro/miniconda3/envs/farma/lib/python3.9/site-packages/sklearn/model_selection/_split.py:805: UserWarning: The least populated class in y has only 1 members, which is less than n_splits=6.\n",
      "  warnings.warn(\n"
     ]
    }
   ],
   "source": [
    "# Use the binned labels for stratification\n",
    "folds = []\n",
    "for fold, (train_idx, test_idx) in enumerate(skf.split(x_std, y_binned)):\n",
    "    x_train, x_test = x_std[train_idx], x_std[test_idx]\n",
    "    y_train, y_test = y_array[train_idx], y_array[test_idx]\n",
    "    folds.append([x_train, x_test, y_train, y_test])"
   ]
  },
  {
   "cell_type": "code",
   "execution_count": 21,
   "metadata": {},
   "outputs": [],
   "source": [
    "x_train = folds[kint][0]\n",
    "x_test = folds[kint][1]\n",
    "y_train = folds[kint][2]\n",
    "y_test = folds[kint][3]"
   ]
  },
  {
   "cell_type": "code",
   "execution_count": 22,
   "metadata": {},
   "outputs": [
    {
     "data": {
      "text/plain": [
       "((60, 3), (11, 3))"
      ]
     },
     "execution_count": 22,
     "metadata": {},
     "output_type": "execute_result"
    }
   ],
   "source": [
    "x_train.shape, x_test.shape"
   ]
  },
  {
   "cell_type": "code",
   "execution_count": 23,
   "metadata": {
    "colab": {
     "base_uri": "https://localhost:8080/",
     "height": 407
    },
    "executionInfo": {
     "elapsed": 290,
     "status": "ok",
     "timestamp": 1754806349003,
     "user": {
      "displayName": "Alan Gabriel Amaro Colin",
      "userId": "17298980579619170060"
     },
     "user_tz": 360
    },
    "id": "jw21eFGscdx1",
    "outputId": "697e87b9-d7bd-495f-de24-7f265201b3e5"
   },
   "outputs": [
    {
     "data": {
      "image/png": "[encoded data removed]",
      "text/plain": [
       "<Figure size 1000x400 with 2 Axes>"
      ]
     },
     "metadata": {},
     "output_type": "display_data"
    }
   ],
   "source": [
    "# Crear una figura con dos subplots en horizontal (1 fila, 2 columnas)\n",
    "fig, (ax1, ax2) = plt.subplots(1, 2, figsize=(10, 4))  # figsize ajusta el tamaño\n",
    "\n",
    "# Graficar la primera curva en el primer subplot\n",
    "ax1.hist(y_train, color='blue', label='train', bins = 6)\n",
    "ax1.set_title('Train Density')\n",
    "ax1.set_xlabel('x')\n",
    "ax1.set_ylabel('y')\n",
    "ax1.legend()\n",
    "\n",
    "# Graficar la segunda curva en el segundo subplot\n",
    "ax2.hist(y_test, color='red', label='test', bins = 6)\n",
    "ax2.set_title('Test Density')\n",
    "ax2.set_xlabel('x')\n",
    "ax2.set_ylabel('y')\n",
    "ax2.legend()\n",
    "\n",
    "# Ajustar el espacio entre los subplots\n",
    "plt.tight_layout()\n",
    "\n",
    "# Mostrar la figura\n",
    "plt.show()"
   ]
  },
  {
   "cell_type": "markdown",
   "metadata": {
    "id": "XESiE4f0cr7l"
   },
   "source": [
    "## Paths"
   ]
  },
  {
   "cell_type": "code",
   "execution_count": 24,
   "metadata": {
    "executionInfo": {
     "elapsed": 229,
     "status": "ok",
     "timestamp": 1754806349006,
     "user": {
      "displayName": "Alan Gabriel Amaro Colin",
      "userId": "17298980579619170060"
     },
     "user_tz": 360
    },
    "id": "hUxyWpwpcsqz"
   },
   "outputs": [],
   "source": [
    "name = 'DNN_MI_3_KFOLD_{}_reg'.format(kint)\n",
    "if colab:\n",
    "    folder_path = '/content/drive/MyDrive/Colaboracion_Quimica/Main_Codes/AutoEncoders/models'\n",
    "else: \n",
    "    folder_path = '../models'\n",
    "    \n",
    "final_path = os.path.join(folder_path, name)"
   ]
  },
  {
   "cell_type": "markdown",
   "metadata": {
    "id": "aGZb-3Wacw2F"
   },
   "source": [
    "## Callbacks"
   ]
  },
  {
   "cell_type": "code",
   "execution_count": 25,
   "metadata": {
    "executionInfo": {
     "elapsed": 96,
     "status": "ok",
     "timestamp": 1754806349012,
     "user": {
      "displayName": "Alan Gabriel Amaro Colin",
      "userId": "17298980579619170060"
     },
     "user_tz": 360
    },
    "id": "UX_yCOQicxnI"
   },
   "outputs": [],
   "source": [
    "callbacks = standard_callbacks(folder_name= name,\n",
    "                               folder_path= folder_path,\n",
    "                               patiences= [120, 120], # 50 epochs without progress, and 2 epochs to reduce LR\n",
    "                               monitor = 'val_r2_score',\n",
    "                               flow_direction = 'max')"
   ]
  },
  {
   "cell_type": "markdown",
   "metadata": {},
   "source": [
    "## Keras Seed"
   ]
  },
  {
   "cell_type": "code",
   "execution_count": 26,
   "metadata": {},
   "outputs": [],
   "source": [
    "keras.utils.set_random_seed(1360)"
   ]
  },
  {
   "cell_type": "markdown",
   "metadata": {
    "id": "9cSL15E6c1zb"
   },
   "source": [
    "## DNN Model"
   ]
  },
  {
   "cell_type": "code",
   "execution_count": 27,
   "metadata": {
    "executionInfo": {
     "elapsed": 65,
     "status": "ok",
     "timestamp": 1754806349015,
     "user": {
      "displayName": "Alan Gabriel Amaro Colin",
      "userId": "17298980579619170060"
     },
     "user_tz": 360
    },
    "id": "qtUfEOFpczgn"
   },
   "outputs": [],
   "source": [
    "def _DNN():\n",
    "\n",
    "  inputs = keras.layers.Input((3,))\n",
    "\n",
    "  _DNN_ = G_Dense(\n",
    "      inputs = inputs,\n",
    "      nodes = [18, 275],\n",
    "      DP = 22,\n",
    "      n_final = 1,\n",
    "      act_func = 'leaky_relu',\n",
    "      final_act_func = 'relu',\n",
    "      WI = 'he_normal',\n",
    "      L1 = 0.0001,\n",
    "      L2 = 0.0001,\n",
    "      use_bias = True\n",
    "  )\n",
    "\n",
    "  return keras.models.Model(inputs = inputs, outputs = _DNN_)"
   ]
  },
  {
   "cell_type": "code",
   "execution_count": 28,
   "metadata": {
    "executionInfo": {
     "elapsed": 60,
     "status": "ok",
     "timestamp": 1754806349047,
     "user": {
      "displayName": "Alan Gabriel Amaro Colin",
      "userId": "17298980579619170060"
     },
     "user_tz": 360
    },
    "id": "KKix552XddZ9"
   },
   "outputs": [
    {
     "name": "stderr",
     "output_type": "stream",
     "text": [
      "2025-08-13 00:25:48.121640: E external/local_xla/xla/stream_executor/cuda/cuda_driver.cc:282] failed call to cuInit: CUDA_ERROR_NO_DEVICE: no CUDA-capable device is detected\n",
      "2025-08-13 00:25:48.121774: I external/local_xla/xla/stream_executor/cuda/cuda_diagnostics.cc:134] retrieving CUDA diagnostic information for host: alan-amaro-Nvidia\n",
      "2025-08-13 00:25:48.121790: I external/local_xla/xla/stream_executor/cuda/cuda_diagnostics.cc:141] hostname: alan-amaro-Nvidia\n",
      "2025-08-13 00:25:48.122080: I external/local_xla/xla/stream_executor/cuda/cuda_diagnostics.cc:165] libcuda reported version is: 570.169.0\n",
      "2025-08-13 00:25:48.122150: I external/local_xla/xla/stream_executor/cuda/cuda_diagnostics.cc:169] kernel reported version is: 570.169.0\n",
      "2025-08-13 00:25:48.122165: I external/local_xla/xla/stream_executor/cuda/cuda_diagnostics.cc:248] kernel version seems to match DSO: 570.169.0\n"
     ]
    }
   ],
   "source": [
    "model_DNN= _DNN()"
   ]
  },
  {
   "cell_type": "code",
   "execution_count": 29,
   "metadata": {
    "executionInfo": {
     "elapsed": 28,
     "status": "ok",
     "timestamp": 1754806349065,
     "user": {
      "displayName": "Alan Gabriel Amaro Colin",
      "userId": "17298980579619170060"
     },
     "user_tz": 360
    },
    "id": "Cj5XW39qdqDA"
   },
   "outputs": [],
   "source": [
    "model_DNN.compile(optimizer = keras.optimizers.Adam(),\n",
    "                    loss = 'mae',\n",
    "                    metrics = ['mape', 'r2_score'])"
   ]
  },
  {
   "cell_type": "code",
   "execution_count": 30,
   "metadata": {
    "executionInfo": {
     "elapsed": 165,
     "status": "ok",
     "timestamp": 1754806349225,
     "user": {
      "displayName": "Alan Gabriel Amaro Colin",
      "userId": "17298980579619170060"
     },
     "user_tz": 360
    },
    "id": "tRGw7jGHdz-e"
   },
   "outputs": [
    {
     "name": "stdout",
     "output_type": "stream",
     "text": [
      "You must install graphviz (see instructions at https://graphviz.gitlab.io/download/) for `plot_model` to work.\n"
     ]
    }
   ],
   "source": [
    "get_plot_model(model_DNN, folder_path= final_path)"
   ]
  },
  {
   "cell_type": "code",
   "execution_count": 31,
   "metadata": {
    "colab": {
     "base_uri": "https://localhost:8080/",
     "height": 561
    },
    "executionInfo": {
     "elapsed": 943,
     "status": "ok",
     "timestamp": 1754806350177,
     "user": {
      "displayName": "Alan Gabriel Amaro Colin",
      "userId": "17298980579619170060"
     },
     "user_tz": 360
    },
    "id": "2zVTR0NDd198",
    "outputId": "43756354-a27f-41f3-d829-9ac2675f62bf"
   },
   "outputs": [
    {
     "data": {
      "text/html": [
       "<pre style=\"white-space:pre;overflow-x:auto;line-height:normal;font-family:Menlo,'DejaVu Sans Mono',consolas,'Courier New',monospace\"><span style=\"font-weight: bold\">Model: \"functional\"</span>\n",
       "</pre>\n"
      ],
      "text/plain": [
       "\u001b[1mModel: \"functional\"\u001b[0m\n"
      ]
     },
     "metadata": {},
     "output_type": "display_data"
    },
    {
     "data": {
      "text/html": [
       "<pre style=\"white-space:pre;overflow-x:auto;line-height:normal;font-family:Menlo,'DejaVu Sans Mono',consolas,'Courier New',monospace\">┏━━━━━━━━━━━━━━━━━━━━━━━━━━━━━━━━━┳━━━━━━━━━━━━━━━━━━━━━━━━┳━━━━━━━━━━━━━━━┓\n",
       "┃<span style=\"font-weight: bold\"> Layer (type)                    </span>┃<span style=\"font-weight: bold\"> Output Shape           </span>┃<span style=\"font-weight: bold\">       Param # </span>┃\n",
       "┡━━━━━━━━━━━━━━━━━━━━━━━━━━━━━━━━━╇━━━━━━━━━━━━━━━━━━━━━━━━╇━━━━━━━━━━━━━━━┩\n",
       "│ input_layer (<span style=\"color: #0087ff; text-decoration-color: #0087ff\">InputLayer</span>)        │ (<span style=\"color: #00d7ff; text-decoration-color: #00d7ff\">None</span>, <span style=\"color: #00af00; text-decoration-color: #00af00\">3</span>)              │             <span style=\"color: #00af00; text-decoration-color: #00af00\">0</span> │\n",
       "├─────────────────────────────────┼────────────────────────┼───────────────┤\n",
       "│ dense (<span style=\"color: #0087ff; text-decoration-color: #0087ff\">Dense</span>)                   │ (<span style=\"color: #00d7ff; text-decoration-color: #00d7ff\">None</span>, <span style=\"color: #00af00; text-decoration-color: #00af00\">18</span>)             │            <span style=\"color: #00af00; text-decoration-color: #00af00\">72</span> │\n",
       "├─────────────────────────────────┼────────────────────────┼───────────────┤\n",
       "│ dropout (<span style=\"color: #0087ff; text-decoration-color: #0087ff\">Dropout</span>)               │ (<span style=\"color: #00d7ff; text-decoration-color: #00d7ff\">None</span>, <span style=\"color: #00af00; text-decoration-color: #00af00\">18</span>)             │             <span style=\"color: #00af00; text-decoration-color: #00af00\">0</span> │\n",
       "├─────────────────────────────────┼────────────────────────┼───────────────┤\n",
       "│ batch_normalization             │ (<span style=\"color: #00d7ff; text-decoration-color: #00d7ff\">None</span>, <span style=\"color: #00af00; text-decoration-color: #00af00\">18</span>)             │            <span style=\"color: #00af00; text-decoration-color: #00af00\">72</span> │\n",
       "│ (<span style=\"color: #0087ff; text-decoration-color: #0087ff\">BatchNormalization</span>)            │                        │               │\n",
       "├─────────────────────────────────┼────────────────────────┼───────────────┤\n",
       "│ dense_1 (<span style=\"color: #0087ff; text-decoration-color: #0087ff\">Dense</span>)                 │ (<span style=\"color: #00d7ff; text-decoration-color: #00d7ff\">None</span>, <span style=\"color: #00af00; text-decoration-color: #00af00\">275</span>)            │         <span style=\"color: #00af00; text-decoration-color: #00af00\">5,225</span> │\n",
       "├─────────────────────────────────┼────────────────────────┼───────────────┤\n",
       "│ dropout_1 (<span style=\"color: #0087ff; text-decoration-color: #0087ff\">Dropout</span>)             │ (<span style=\"color: #00d7ff; text-decoration-color: #00d7ff\">None</span>, <span style=\"color: #00af00; text-decoration-color: #00af00\">275</span>)            │             <span style=\"color: #00af00; text-decoration-color: #00af00\">0</span> │\n",
       "├─────────────────────────────────┼────────────────────────┼───────────────┤\n",
       "│ batch_normalization_1           │ (<span style=\"color: #00d7ff; text-decoration-color: #00d7ff\">None</span>, <span style=\"color: #00af00; text-decoration-color: #00af00\">275</span>)            │         <span style=\"color: #00af00; text-decoration-color: #00af00\">1,100</span> │\n",
       "│ (<span style=\"color: #0087ff; text-decoration-color: #0087ff\">BatchNormalization</span>)            │                        │               │\n",
       "├─────────────────────────────────┼────────────────────────┼───────────────┤\n",
       "│ dense_2 (<span style=\"color: #0087ff; text-decoration-color: #0087ff\">Dense</span>)                 │ (<span style=\"color: #00d7ff; text-decoration-color: #00d7ff\">None</span>, <span style=\"color: #00af00; text-decoration-color: #00af00\">1</span>)              │           <span style=\"color: #00af00; text-decoration-color: #00af00\">276</span> │\n",
       "└─────────────────────────────────┴────────────────────────┴───────────────┘\n",
       "</pre>\n"
      ],
      "text/plain": [
       "┏━━━━━━━━━━━━━━━━━━━━━━━━━━━━━━━━━┳━━━━━━━━━━━━━━━━━━━━━━━━┳━━━━━━━━━━━━━━━┓\n",
       "┃\u001b[1m \u001b[0m\u001b[1mLayer (type)                   \u001b[0m\u001b[1m \u001b[0m┃\u001b[1m \u001b[0m\u001b[1mOutput Shape          \u001b[0m\u001b[1m \u001b[0m┃\u001b[1m \u001b[0m\u001b[1m      Param #\u001b[0m\u001b[1m \u001b[0m┃\n",
       "┡━━━━━━━━━━━━━━━━━━━━━━━━━━━━━━━━━╇━━━━━━━━━━━━━━━━━━━━━━━━╇━━━━━━━━━━━━━━━┩\n",
       "│ input_layer (\u001b[38;5;33mInputLayer\u001b[0m)        │ (\u001b[38;5;45mNone\u001b[0m, \u001b[38;5;34m3\u001b[0m)              │             \u001b[38;5;34m0\u001b[0m │\n",
       "├─────────────────────────────────┼────────────────────────┼───────────────┤\n",
       "│ dense (\u001b[38;5;33mDense\u001b[0m)                   │ (\u001b[38;5;45mNone\u001b[0m, \u001b[38;5;34m18\u001b[0m)             │            \u001b[38;5;34m72\u001b[0m │\n",
       "├─────────────────────────────────┼────────────────────────┼───────────────┤\n",
       "│ dropout (\u001b[38;5;33mDropout\u001b[0m)               │ (\u001b[38;5;45mNone\u001b[0m, \u001b[38;5;34m18\u001b[0m)             │             \u001b[38;5;34m0\u001b[0m │\n",
       "├─────────────────────────────────┼────────────────────────┼───────────────┤\n",
       "│ batch_normalization             │ (\u001b[38;5;45mNone\u001b[0m, \u001b[38;5;34m18\u001b[0m)             │            \u001b[38;5;34m72\u001b[0m │\n",
       "│ (\u001b[38;5;33mBatchNormalization\u001b[0m)            │                        │               │\n",
       "├─────────────────────────────────┼────────────────────────┼───────────────┤\n",
       "│ dense_1 (\u001b[38;5;33mDense\u001b[0m)                 │ (\u001b[38;5;45mNone\u001b[0m, \u001b[38;5;34m275\u001b[0m)            │         \u001b[38;5;34m5,225\u001b[0m │\n",
       "├─────────────────────────────────┼────────────────────────┼───────────────┤\n",
       "│ dropout_1 (\u001b[38;5;33mDropout\u001b[0m)             │ (\u001b[38;5;45mNone\u001b[0m, \u001b[38;5;34m275\u001b[0m)            │             \u001b[38;5;34m0\u001b[0m │\n",
       "├─────────────────────────────────┼────────────────────────┼───────────────┤\n",
       "│ batch_normalization_1           │ (\u001b[38;5;45mNone\u001b[0m, \u001b[38;5;34m275\u001b[0m)            │         \u001b[38;5;34m1,100\u001b[0m │\n",
       "│ (\u001b[38;5;33mBatchNormalization\u001b[0m)            │                        │               │\n",
       "├─────────────────────────────────┼────────────────────────┼───────────────┤\n",
       "│ dense_2 (\u001b[38;5;33mDense\u001b[0m)                 │ (\u001b[38;5;45mNone\u001b[0m, \u001b[38;5;34m1\u001b[0m)              │           \u001b[38;5;34m276\u001b[0m │\n",
       "└─────────────────────────────────┴────────────────────────┴───────────────┘\n"
      ]
     },
     "metadata": {},
     "output_type": "display_data"
    },
    {
     "data": {
      "text/html": [
       "<pre style=\"white-space:pre;overflow-x:auto;line-height:normal;font-family:Menlo,'DejaVu Sans Mono',consolas,'Courier New',monospace\"><span style=\"font-weight: bold\"> Total params: </span><span style=\"color: #00af00; text-decoration-color: #00af00\">6,745</span> (26.35 KB)\n",
       "</pre>\n"
      ],
      "text/plain": [
       "\u001b[1m Total params: \u001b[0m\u001b[38;5;34m6,745\u001b[0m (26.35 KB)\n"
      ]
     },
     "metadata": {},
     "output_type": "display_data"
    },
    {
     "data": {
      "text/html": [
       "<pre style=\"white-space:pre;overflow-x:auto;line-height:normal;font-family:Menlo,'DejaVu Sans Mono',consolas,'Courier New',monospace\"><span style=\"font-weight: bold\"> Trainable params: </span><span style=\"color: #00af00; text-decoration-color: #00af00\">6,159</span> (24.06 KB)\n",
       "</pre>\n"
      ],
      "text/plain": [
       "\u001b[1m Trainable params: \u001b[0m\u001b[38;5;34m6,159\u001b[0m (24.06 KB)\n"
      ]
     },
     "metadata": {},
     "output_type": "display_data"
    },
    {
     "data": {
      "text/html": [
       "<pre style=\"white-space:pre;overflow-x:auto;line-height:normal;font-family:Menlo,'DejaVu Sans Mono',consolas,'Courier New',monospace\"><span style=\"font-weight: bold\"> Non-trainable params: </span><span style=\"color: #00af00; text-decoration-color: #00af00\">586</span> (2.29 KB)\n",
       "</pre>\n"
      ],
      "text/plain": [
       "\u001b[1m Non-trainable params: \u001b[0m\u001b[38;5;34m586\u001b[0m (2.29 KB)\n"
      ]
     },
     "metadata": {},
     "output_type": "display_data"
    }
   ],
   "source": [
    "model_DNN.summary()"
   ]
  },
  {
   "cell_type": "markdown",
   "metadata": {
    "id": "VePpd9xSd7LC"
   },
   "source": [
    "## Training"
   ]
  },
  {
   "cell_type": "code",
   "execution_count": 32,
   "metadata": {
    "colab": {
     "base_uri": "https://localhost:8080/"
    },
    "executionInfo": {
     "elapsed": 35843,
     "status": "ok",
     "timestamp": 1754806386025,
     "user": {
      "displayName": "Alan Gabriel Amaro Colin",
      "userId": "17298980579619170060"
     },
     "user_tz": 360
    },
    "id": "GDvu_7QDd4HI",
    "outputId": "8229ee31-6f5a-4ed6-8217-42d1f0763bd6"
   },
   "outputs": [
    {
     "name": "stdout",
     "output_type": "stream",
     "text": [
      "Epoch 1/1000\n",
      "\u001b[1m5/5\u001b[0m \u001b[32m━━━━━━━━━━━━━━━━━━━━\u001b[0m\u001b[37m\u001b[0m \u001b[1m4s\u001b[0m 222ms/step - loss: 4.4364 - mape: 88.1103 - r2_score: -35.2790 - val_loss: 5.0097 - val_mape: 99.5725 - val_r2_score: -39.1612 - learning_rate: 0.0010\n",
      "Epoch 2/1000\n",
      "\u001b[1m5/5\u001b[0m \u001b[32m━━━━━━━━━━━━━━━━━━━━\u001b[0m\u001b[37m\u001b[0m \u001b[1m0s\u001b[0m 84ms/step - loss: 4.1446 - mape: 82.5730 - r2_score: -32.0101 - val_loss: 4.7140 - val_mape: 92.9912 - val_r2_score: -34.9336 - learning_rate: 0.0010\n",
      "Epoch 3/1000\n",
      "\u001b[1m5/5\u001b[0m \u001b[32m━━━━━━━━━━━━━━━━━━━━\u001b[0m\u001b[37m\u001b[0m \u001b[1m0s\u001b[0m 83ms/step - loss: 3.8390 - mape: 75.6660 - r2_score: -29.2919 - val_loss: 4.3431 - val_mape: 84.7889 - val_r2_score: -30.2890 - learning_rate: 0.0010\n",
      "Epoch 4/1000\n",
      "\u001b[1m5/5\u001b[0m \u001b[32m━━━━━━━━━━━━━━━━━━━━\u001b[0m\u001b[37m\u001b[0m \u001b[1m0s\u001b[0m 77ms/step - loss: 3.6492 - mape: 71.9766 - r2_score: -28.4308 - val_loss: 3.9257 - val_mape: 75.7995 - val_r2_score: -25.3581 - learning_rate: 0.0010\n",
      "Epoch 5/1000\n",
      "\u001b[1m5/5\u001b[0m \u001b[32m━━━━━━━━━━━━━━━━━━━━\u001b[0m\u001b[37m\u001b[0m \u001b[1m0s\u001b[0m 77ms/step - loss: 3.5579 - mape: 69.6370 - r2_score: -27.0379 - val_loss: 3.5290 - val_mape: 66.5902 - val_r2_score: -21.7900 - learning_rate: 0.0010\n",
      "Epoch 6/1000\n",
      "\u001b[1m5/5\u001b[0m \u001b[32m━━━━━━━━━━━━━━━━━━━━\u001b[0m\u001b[37m\u001b[0m \u001b[1m0s\u001b[0m 78ms/step - loss: 3.4487 - mape: 66.8840 - r2_score: -26.5295 - val_loss: 3.2654 - val_mape: 60.5973 - val_r2_score: -19.6371 - learning_rate: 0.0010\n",
      "Epoch 7/1000\n",
      "\u001b[1m5/5\u001b[0m \u001b[32m━━━━━━━━━━━━━━━━━━━━\u001b[0m\u001b[37m\u001b[0m \u001b[1m0s\u001b[0m 77ms/step - loss: 3.6861 - mape: 72.1708 - r2_score: -28.2052 - val_loss: 3.1928 - val_mape: 58.7133 - val_r2_score: -19.1555 - learning_rate: 0.0010\n",
      "Epoch 8/1000\n",
      "\u001b[1m5/5\u001b[0m \u001b[32m━━━━━━━━━━━━━━━━━━━━\u001b[0m\u001b[37m\u001b[0m \u001b[1m0s\u001b[0m 63ms/step - loss: 3.5436 - mape: 68.8106 - r2_score: -27.0110 - val_loss: 3.1846 - val_mape: 58.1860 - val_r2_score: -19.5630 - learning_rate: 0.0010\n",
      "Epoch 9/1000\n",
      "\u001b[1m5/5\u001b[0m \u001b[32m━━━━━━━━━━━━━━━━━━━━\u001b[0m\u001b[37m\u001b[0m \u001b[1m0s\u001b[0m 62ms/step - loss: 3.4108 - mape: 66.6212 - r2_score: -25.1332 - val_loss: 3.2810 - val_mape: 60.7899 - val_r2_score: -20.0820 - learning_rate: 0.0010\n",
      "Epoch 10/1000\n",
      "\u001b[1m5/5\u001b[0m \u001b[32m━━━━━━━━━━━━━━━━━━━━\u001b[0m\u001b[37m\u001b[0m \u001b[1m0s\u001b[0m 63ms/step - loss: 3.5124 - mape: 68.2178 - r2_score: -26.3944 - val_loss: 3.3844 - val_mape: 63.3743 - val_r2_score: -20.8253 - learning_rate: 0.0010\n",
      "Epoch 11/1000\n",
      "\u001b[1m5/5\u001b[0m \u001b[32m━━━━━━━━━━━━━━━━━━━━\u001b[0m\u001b[37m\u001b[0m \u001b[1m0s\u001b[0m 63ms/step - loss: 3.3670 - mape: 65.2403 - r2_score: -24.4782 - val_loss: 3.3566 - val_mape: 62.8977 - val_r2_score: -20.4274 - learning_rate: 0.0010\n",
      "Epoch 12/1000\n",
      "\u001b[1m5/5\u001b[0m \u001b[32m━━━━━━━━━━━━━━━━━━━━\u001b[0m\u001b[37m\u001b[0m \u001b[1m0s\u001b[0m 77ms/step - loss: 3.3318 - mape: 64.3830 - r2_score: -24.6457 - val_loss: 3.1572 - val_mape: 58.6734 - val_r2_score: -18.5226 - learning_rate: 0.0010\n",
      "Epoch 13/1000\n",
      "\u001b[1m5/5\u001b[0m \u001b[32m━━━━━━━━━━━━━━━━━━━━\u001b[0m\u001b[37m\u001b[0m \u001b[1m0s\u001b[0m 78ms/step - loss: 3.2908 - mape: 64.0010 - r2_score: -24.8357 - val_loss: 2.9575 - val_mape: 54.4170 - val_r2_score: -16.7982 - learning_rate: 0.0010\n",
      "Epoch 14/1000\n",
      "\u001b[1m5/5\u001b[0m \u001b[32m━━━━━━━━━━━━━━━━━━━━\u001b[0m\u001b[37m\u001b[0m \u001b[1m0s\u001b[0m 77ms/step - loss: 3.3835 - mape: 65.6938 - r2_score: -25.0574 - val_loss: 2.7768 - val_mape: 50.5161 - val_r2_score: -15.4179 - learning_rate: 0.0010\n",
      "Epoch 15/1000\n",
      "\u001b[1m5/5\u001b[0m \u001b[32m━━━━━━━━━━━━━━━━━━━━\u001b[0m\u001b[37m\u001b[0m \u001b[1m0s\u001b[0m 78ms/step - loss: 3.2787 - mape: 63.2081 - r2_score: -24.6012 - val_loss: 2.7026 - val_mape: 49.5660 - val_r2_score: -14.5403 - learning_rate: 0.0010\n",
      "Epoch 16/1000\n",
      "\u001b[1m5/5\u001b[0m \u001b[32m━━━━━━━━━━━━━━━━━━━━\u001b[0m\u001b[37m\u001b[0m \u001b[1m0s\u001b[0m 77ms/step - loss: 3.3521 - mape: 64.7704 - r2_score: -25.0882 - val_loss: 2.6820 - val_mape: 49.4970 - val_r2_score: -14.2424 - learning_rate: 0.0010\n",
      "Epoch 17/1000\n",
      "\u001b[1m5/5\u001b[0m \u001b[32m━━━━━━━━━━━━━━━━━━━━\u001b[0m\u001b[37m\u001b[0m \u001b[1m0s\u001b[0m 78ms/step - loss: 3.2336 - mape: 62.0765 - r2_score: -24.1761 - val_loss: 2.6841 - val_mape: 49.7514 - val_r2_score: -14.1721 - learning_rate: 0.0010\n",
      "Epoch 18/1000\n",
      "\u001b[1m5/5\u001b[0m \u001b[32m━━━━━━━━━━━━━━━━━━━━\u001b[0m\u001b[37m\u001b[0m \u001b[1m0s\u001b[0m 63ms/step - loss: 3.2316 - mape: 62.4822 - r2_score: -23.5451 - val_loss: 2.6663 - val_mape: 49.0065 - val_r2_score: -14.2526 - learning_rate: 0.0010\n",
      "Epoch 19/1000\n",
      "\u001b[1m5/5\u001b[0m \u001b[32m━━━━━━━━━━━━━━━━━━━━\u001b[0m\u001b[37m\u001b[0m \u001b[1m0s\u001b[0m 63ms/step - loss: 3.3084 - mape: 64.4002 - r2_score: -24.5515 - val_loss: 2.7080 - val_mape: 50.1034 - val_r2_score: -14.3639 - learning_rate: 0.0010\n",
      "Epoch 20/1000\n",
      "\u001b[1m5/5\u001b[0m \u001b[32m━━━━━━━━━━━━━━━━━━━━\u001b[0m\u001b[37m\u001b[0m \u001b[1m0s\u001b[0m 64ms/step - loss: 3.1097 - mape: 59.7328 - r2_score: -21.9627 - val_loss: 2.6852 - val_mape: 49.4653 - val_r2_score: -14.3354 - learning_rate: 0.0010\n",
      "Epoch 21/1000\n",
      "\u001b[1m5/5\u001b[0m \u001b[32m━━━━━━━━━━━━━━━━━━━━\u001b[0m\u001b[37m\u001b[0m \u001b[1m0s\u001b[0m 63ms/step - loss: 2.9029 - mape: 54.7944 - r2_score: -21.3150 - val_loss: 2.7010 - val_mape: 50.0060 - val_r2_score: -14.3267 - learning_rate: 0.0010\n",
      "Epoch 22/1000\n",
      "\u001b[1m5/5\u001b[0m \u001b[32m━━━━━━━━━━━━━━━━━━━━\u001b[0m\u001b[37m\u001b[0m \u001b[1m0s\u001b[0m 63ms/step - loss: 3.0000 - mape: 57.1387 - r2_score: -20.9188 - val_loss: 2.7195 - val_mape: 50.5841 - val_r2_score: -14.3824 - learning_rate: 0.0010\n",
      "Epoch 23/1000\n",
      "\u001b[1m5/5\u001b[0m \u001b[32m━━━━━━━━━━━━━━━━━━━━\u001b[0m\u001b[37m\u001b[0m \u001b[1m0s\u001b[0m 77ms/step - loss: 2.9312 - mape: 56.5554 - r2_score: -20.7009 - val_loss: 2.5776 - val_mape: 47.6685 - val_r2_score: -13.6304 - learning_rate: 0.0010\n",
      "Epoch 24/1000\n",
      "\u001b[1m5/5\u001b[0m \u001b[32m━━━━━━━━━━━━━━━━━━━━\u001b[0m\u001b[37m\u001b[0m \u001b[1m0s\u001b[0m 79ms/step - loss: 2.8639 - mape: 54.9160 - r2_score: -20.1748 - val_loss: 2.3315 - val_mape: 42.3535 - val_r2_score: -12.5491 - learning_rate: 0.0010\n",
      "Epoch 25/1000\n",
      "\u001b[1m5/5\u001b[0m \u001b[32m━━━━━━━━━━━━━━━━━━━━\u001b[0m\u001b[37m\u001b[0m \u001b[1m0s\u001b[0m 78ms/step - loss: 3.0910 - mape: 59.5963 - r2_score: -21.0628 - val_loss: 2.2930 - val_mape: 41.8473 - val_r2_score: -12.3063 - learning_rate: 0.0010\n",
      "Epoch 26/1000\n",
      "\u001b[1m5/5\u001b[0m \u001b[32m━━━━━━━━━━━━━━━━━━━━\u001b[0m\u001b[37m\u001b[0m \u001b[1m0s\u001b[0m 62ms/step - loss: 2.8863 - mape: 55.0766 - r2_score: -20.0269 - val_loss: 2.3203 - val_mape: 42.8199 - val_r2_score: -12.3324 - learning_rate: 0.0010\n",
      "Epoch 27/1000\n",
      "\u001b[1m5/5\u001b[0m \u001b[32m━━━━━━━━━━━━━━━━━━━━\u001b[0m\u001b[37m\u001b[0m \u001b[1m0s\u001b[0m 77ms/step - loss: 2.8379 - mape: 54.6518 - r2_score: -18.6006 - val_loss: 2.3264 - val_mape: 43.0711 - val_r2_score: -12.1771 - learning_rate: 0.0010\n",
      "Epoch 28/1000\n",
      "\u001b[1m5/5\u001b[0m \u001b[32m━━━━━━━━━━━━━━━━━━━━\u001b[0m\u001b[37m\u001b[0m \u001b[1m0s\u001b[0m 77ms/step - loss: 2.6836 - mape: 50.4747 - r2_score: -17.4259 - val_loss: 2.3388 - val_mape: 43.5818 - val_r2_score: -11.9263 - learning_rate: 0.0010\n",
      "Epoch 29/1000\n",
      "\u001b[1m5/5\u001b[0m \u001b[32m━━━━━━━━━━━━━━━━━━━━\u001b[0m\u001b[37m\u001b[0m \u001b[1m0s\u001b[0m 77ms/step - loss: 2.5926 - mape: 48.9284 - r2_score: -16.0425 - val_loss: 2.2936 - val_mape: 42.5499 - val_r2_score: -11.1061 - learning_rate: 0.0010\n",
      "Epoch 30/1000\n",
      "\u001b[1m5/5\u001b[0m \u001b[32m━━━━━━━━━━━━━━━━━━━━\u001b[0m\u001b[37m\u001b[0m \u001b[1m0s\u001b[0m 77ms/step - loss: 2.4912 - mape: 46.6042 - r2_score: -15.7356 - val_loss: 2.3045 - val_mape: 42.2739 - val_r2_score: -10.6641 - learning_rate: 0.0010\n",
      "Epoch 31/1000\n",
      "\u001b[1m5/5\u001b[0m \u001b[32m━━━━━━━━━━━━━━━━━━━━\u001b[0m\u001b[37m\u001b[0m \u001b[1m0s\u001b[0m 76ms/step - loss: 2.3798 - mape: 44.3862 - r2_score: -14.4606 - val_loss: 2.2961 - val_mape: 42.1398 - val_r2_score: -9.6315 - learning_rate: 0.0010\n",
      "Epoch 32/1000\n",
      "\u001b[1m5/5\u001b[0m \u001b[32m━━━━━━━━━━━━━━━━━━━━\u001b[0m\u001b[37m\u001b[0m \u001b[1m0s\u001b[0m 78ms/step - loss: 2.3779 - mape: 44.2945 - r2_score: -13.9832 - val_loss: 2.1698 - val_mape: 39.5417 - val_r2_score: -8.1762 - learning_rate: 0.0010\n",
      "Epoch 33/1000\n",
      "\u001b[1m5/5\u001b[0m \u001b[32m━━━━━━━━━━━━━━━━━━━━\u001b[0m\u001b[37m\u001b[0m \u001b[1m0s\u001b[0m 78ms/step - loss: 2.4130 - mape: 46.0478 - r2_score: -12.8211 - val_loss: 2.0634 - val_mape: 38.1115 - val_r2_score: -6.6282 - learning_rate: 0.0010\n",
      "Epoch 34/1000\n",
      "\u001b[1m5/5\u001b[0m \u001b[32m━━━━━━━━━━━━━━━━━━━━\u001b[0m\u001b[37m\u001b[0m \u001b[1m0s\u001b[0m 77ms/step - loss: 1.9723 - mape: 35.3001 - r2_score: -10.2111 - val_loss: 2.0157 - val_mape: 38.2691 - val_r2_score: -5.6765 - learning_rate: 0.0010\n",
      "Epoch 35/1000\n",
      "\u001b[1m5/5\u001b[0m \u001b[32m━━━━━━━━━━━━━━━━━━━━\u001b[0m\u001b[37m\u001b[0m \u001b[1m0s\u001b[0m 79ms/step - loss: 1.8825 - mape: 34.9330 - r2_score: -8.2899 - val_loss: 1.8628 - val_mape: 35.8172 - val_r2_score: -4.6442 - learning_rate: 0.0010\n",
      "Epoch 36/1000\n",
      "\u001b[1m5/5\u001b[0m \u001b[32m━━━━━━━━━━━━━━━━━━━━\u001b[0m\u001b[37m\u001b[0m \u001b[1m0s\u001b[0m 77ms/step - loss: 1.8511 - mape: 34.2664 - r2_score: -8.5560 - val_loss: 1.8606 - val_mape: 36.0003 - val_r2_score: -4.3939 - learning_rate: 0.0010\n",
      "Epoch 37/1000\n",
      "\u001b[1m5/5\u001b[0m \u001b[32m━━━━━━━━━━━━━━━━━━━━\u001b[0m\u001b[37m\u001b[0m \u001b[1m0s\u001b[0m 78ms/step - loss: 2.0250 - mape: 39.0044 - r2_score: -9.0827 - val_loss: 1.8105 - val_mape: 35.0987 - val_r2_score: -4.0904 - learning_rate: 0.0010\n",
      "Epoch 38/1000\n",
      "\u001b[1m5/5\u001b[0m \u001b[32m━━━━━━━━━━━━━━━━━━━━\u001b[0m\u001b[37m\u001b[0m \u001b[1m0s\u001b[0m 77ms/step - loss: 1.7028 - mape: 31.8090 - r2_score: -6.0494 - val_loss: 1.6759 - val_mape: 32.7493 - val_r2_score: -3.5335 - learning_rate: 0.0010\n",
      "Epoch 39/1000\n",
      "\u001b[1m5/5\u001b[0m \u001b[32m━━━━━━━━━━━━━━━━━━━━\u001b[0m\u001b[37m\u001b[0m \u001b[1m0s\u001b[0m 78ms/step - loss: 1.5134 - mape: 27.2067 - r2_score: -3.9076 - val_loss: 1.5694 - val_mape: 31.0054 - val_r2_score: -3.2948 - learning_rate: 0.0010\n",
      "Epoch 40/1000\n",
      "\u001b[1m5/5\u001b[0m \u001b[32m━━━━━━━━━━━━━━━━━━━━\u001b[0m\u001b[37m\u001b[0m \u001b[1m0s\u001b[0m 77ms/step - loss: 1.5587 - mape: 29.7488 - r2_score: -4.6565 - val_loss: 1.3470 - val_mape: 26.4234 - val_r2_score: -2.3588 - learning_rate: 0.0010\n",
      "Epoch 41/1000\n",
      "\u001b[1m5/5\u001b[0m \u001b[32m━━━━━━━━━━━━━━━━━━━━\u001b[0m\u001b[37m\u001b[0m \u001b[1m0s\u001b[0m 78ms/step - loss: 1.0920 - mape: 18.7603 - r2_score: -1.5422 - val_loss: 1.1328 - val_mape: 21.8461 - val_r2_score: -1.4727 - learning_rate: 0.0010\n",
      "Epoch 42/1000\n",
      "\u001b[1m5/5\u001b[0m \u001b[32m━━━━━━━━━━━━━━━━━━━━\u001b[0m\u001b[37m\u001b[0m \u001b[1m0s\u001b[0m 77ms/step - loss: 1.1746 - mape: 21.4689 - r2_score: -2.3040 - val_loss: 0.8924 - val_mape: 16.7876 - val_r2_score: -0.5309 - learning_rate: 0.0010\n",
      "Epoch 43/1000\n",
      "\u001b[1m5/5\u001b[0m \u001b[32m━━━━━━━━━━━━━━━━━━━━\u001b[0m\u001b[37m\u001b[0m \u001b[1m0s\u001b[0m 77ms/step - loss: 1.0456 - mape: 18.4800 - r2_score: -1.2383 - val_loss: 0.7418 - val_mape: 13.3886 - val_r2_score: 0.0676 - learning_rate: 0.0010\n",
      "Epoch 44/1000\n",
      "\u001b[1m5/5\u001b[0m \u001b[32m━━━━━━━━━━━━━━━━━━━━\u001b[0m\u001b[37m\u001b[0m \u001b[1m0s\u001b[0m 77ms/step - loss: 1.2275 - mape: 22.7956 - r2_score: -2.4071 - val_loss: 0.7099 - val_mape: 12.3945 - val_r2_score: 0.2727 - learning_rate: 0.0010\n",
      "Epoch 45/1000\n",
      "\u001b[1m5/5\u001b[0m \u001b[32m━━━━━━━━━━━━━━━━━━━━\u001b[0m\u001b[37m\u001b[0m \u001b[1m0s\u001b[0m 78ms/step - loss: 1.1328 - mape: 19.6361 - r2_score: -1.4631 - val_loss: 0.6933 - val_mape: 11.3729 - val_r2_score: 0.4538 - learning_rate: 0.0010\n",
      "Epoch 46/1000\n",
      "\u001b[1m5/5\u001b[0m \u001b[32m━━━━━━━━━━━━━━━━━━━━\u001b[0m\u001b[37m\u001b[0m \u001b[1m0s\u001b[0m 62ms/step - loss: 1.0640 - mape: 18.3124 - r2_score: -1.0448 - val_loss: 0.7090 - val_mape: 11.3898 - val_r2_score: 0.4304 - learning_rate: 0.0010\n",
      "Epoch 47/1000\n",
      "\u001b[1m5/5\u001b[0m \u001b[32m━━━━━━━━━━━━━━━━━━━━\u001b[0m\u001b[37m\u001b[0m \u001b[1m0s\u001b[0m 62ms/step - loss: 1.0605 - mape: 18.5213 - r2_score: -1.0809 - val_loss: 0.7209 - val_mape: 11.4926 - val_r2_score: 0.4039 - learning_rate: 0.0010\n",
      "Epoch 48/1000\n",
      "\u001b[1m5/5\u001b[0m \u001b[32m━━━━━━━━━━━━━━━━━━━━\u001b[0m\u001b[37m\u001b[0m \u001b[1m0s\u001b[0m 78ms/step - loss: 1.2633 - mape: 23.3804 - r2_score: -2.0362 - val_loss: 0.6292 - val_mape: 9.2164 - val_r2_score: 0.5343 - learning_rate: 0.0010\n",
      "Epoch 49/1000\n",
      "\u001b[1m5/5\u001b[0m \u001b[32m━━━━━━━━━━━━━━━━━━━━\u001b[0m\u001b[37m\u001b[0m \u001b[1m0s\u001b[0m 77ms/step - loss: 1.1538 - mape: 20.5003 - r2_score: -1.7019 - val_loss: 0.5312 - val_mape: 7.1295 - val_r2_score: 0.7165 - learning_rate: 0.0010\n",
      "Epoch 50/1000\n",
      "\u001b[1m5/5\u001b[0m \u001b[32m━━━━━━━━━━━━━━━━━━━━\u001b[0m\u001b[37m\u001b[0m \u001b[1m0s\u001b[0m 77ms/step - loss: 1.0546 - mape: 18.6125 - r2_score: -1.1901 - val_loss: 0.5330 - val_mape: 6.9041 - val_r2_score: 0.7675 - learning_rate: 0.0010\n",
      "Epoch 51/1000\n",
      "\u001b[1m5/5\u001b[0m \u001b[32m━━━━━━━━━━━━━━━━━━━━\u001b[0m\u001b[37m\u001b[0m \u001b[1m0s\u001b[0m 62ms/step - loss: 1.2335 - mape: 22.5085 - r2_score: -1.9692 - val_loss: 0.5934 - val_mape: 8.4059 - val_r2_score: 0.6792 - learning_rate: 0.0010\n",
      "Epoch 52/1000\n",
      "\u001b[1m5/5\u001b[0m \u001b[32m━━━━━━━━━━━━━━━━━━━━\u001b[0m\u001b[37m\u001b[0m \u001b[1m0s\u001b[0m 63ms/step - loss: 1.0733 - mape: 19.5280 - r2_score: -1.3467 - val_loss: 0.6656 - val_mape: 10.2601 - val_r2_score: 0.5688 - learning_rate: 0.0010\n",
      "Epoch 53/1000\n",
      "\u001b[1m5/5\u001b[0m \u001b[32m━━━━━━━━━━━━━━━━━━━━\u001b[0m\u001b[37m\u001b[0m \u001b[1m0s\u001b[0m 63ms/step - loss: 1.1377 - mape: 20.9013 - r2_score: -1.9691 - val_loss: 0.6313 - val_mape: 9.3212 - val_r2_score: 0.6460 - learning_rate: 0.0010\n",
      "Epoch 54/1000\n",
      "\u001b[1m5/5\u001b[0m \u001b[32m━━━━━━━━━━━━━━━━━━━━\u001b[0m\u001b[37m\u001b[0m \u001b[1m0s\u001b[0m 62ms/step - loss: 1.1930 - mape: 21.7130 - r2_score: -1.9984 - val_loss: 0.5426 - val_mape: 7.0249 - val_r2_score: 0.7443 - learning_rate: 0.0010\n",
      "Epoch 55/1000\n",
      "\u001b[1m5/5\u001b[0m \u001b[32m━━━━━━━━━━━━━━━━━━━━\u001b[0m\u001b[37m\u001b[0m \u001b[1m0s\u001b[0m 63ms/step - loss: 1.0488 - mape: 18.3394 - r2_score: -1.4235 - val_loss: 0.5650 - val_mape: 7.6629 - val_r2_score: 0.7119 - learning_rate: 0.0010\n",
      "Epoch 56/1000\n",
      "\u001b[1m5/5\u001b[0m \u001b[32m━━━━━━━━━━━━━━━━━━━━\u001b[0m\u001b[37m\u001b[0m \u001b[1m0s\u001b[0m 64ms/step - loss: 1.0249 - mape: 17.6956 - r2_score: -0.9258 - val_loss: 0.6195 - val_mape: 8.7831 - val_r2_score: 0.6120 - learning_rate: 0.0010\n",
      "Epoch 57/1000\n",
      "\u001b[1m5/5\u001b[0m \u001b[32m━━━━━━━━━━━━━━━━━━━━\u001b[0m\u001b[37m\u001b[0m \u001b[1m0s\u001b[0m 62ms/step - loss: 1.0316 - mape: 18.0502 - r2_score: -1.0843 - val_loss: 0.6276 - val_mape: 8.8792 - val_r2_score: 0.5535 - learning_rate: 0.0010\n",
      "Epoch 58/1000\n",
      "\u001b[1m5/5\u001b[0m \u001b[32m━━━━━━━━━━━━━━━━━━━━\u001b[0m\u001b[37m\u001b[0m \u001b[1m0s\u001b[0m 62ms/step - loss: 1.1400 - mape: 20.5658 - r2_score: -1.4813 - val_loss: 0.6051 - val_mape: 8.2864 - val_r2_score: 0.5546 - learning_rate: 0.0010\n",
      "Epoch 59/1000\n",
      "\u001b[1m5/5\u001b[0m \u001b[32m━━━━━━━━━━━━━━━━━━━━\u001b[0m\u001b[37m\u001b[0m \u001b[1m0s\u001b[0m 63ms/step - loss: 1.1185 - mape: 19.8919 - r2_score: -1.3387 - val_loss: 0.5377 - val_mape: 6.7548 - val_r2_score: 0.6842 - learning_rate: 0.0010\n",
      "Epoch 60/1000\n",
      "\u001b[1m5/5\u001b[0m \u001b[32m━━━━━━━━━━━━━━━━━━━━\u001b[0m\u001b[37m\u001b[0m \u001b[1m0s\u001b[0m 62ms/step - loss: 1.0515 - mape: 18.5874 - r2_score: -1.1534 - val_loss: 0.5594 - val_mape: 8.1138 - val_r2_score: 0.6999 - learning_rate: 0.0010\n",
      "Epoch 61/1000\n",
      "\u001b[1m5/5\u001b[0m \u001b[32m━━━━━━━━━━━━━━━━━━━━\u001b[0m\u001b[37m\u001b[0m \u001b[1m0s\u001b[0m 62ms/step - loss: 0.9825 - mape: 17.1628 - r2_score: -0.7622 - val_loss: 0.4883 - val_mape: 6.8866 - val_r2_score: 0.7536 - learning_rate: 0.0010\n",
      "Epoch 62/1000\n",
      "\u001b[1m5/5\u001b[0m \u001b[32m━━━━━━━━━━━━━━━━━━━━\u001b[0m\u001b[37m\u001b[0m \u001b[1m0s\u001b[0m 62ms/step - loss: 0.9544 - mape: 16.2009 - r2_score: -1.0722 - val_loss: 0.5347 - val_mape: 7.8727 - val_r2_score: 0.7138 - learning_rate: 0.0010\n",
      "Epoch 63/1000\n",
      "\u001b[1m5/5\u001b[0m \u001b[32m━━━━━━━━━━━━━━━━━━━━\u001b[0m\u001b[37m\u001b[0m \u001b[1m0s\u001b[0m 64ms/step - loss: 1.0494 - mape: 18.4980 - r2_score: -1.2532 - val_loss: 0.5656 - val_mape: 7.7646 - val_r2_score: 0.7056 - learning_rate: 0.0010\n",
      "Epoch 64/1000\n",
      "\u001b[1m5/5\u001b[0m \u001b[32m━━━━━━━━━━━━━━━━━━━━\u001b[0m\u001b[37m\u001b[0m \u001b[1m0s\u001b[0m 63ms/step - loss: 1.0914 - mape: 19.5189 - r2_score: -1.2133 - val_loss: 0.5469 - val_mape: 7.3209 - val_r2_score: 0.7358 - learning_rate: 0.0010\n",
      "Epoch 65/1000\n",
      "\u001b[1m5/5\u001b[0m \u001b[32m━━━━━━━━━━━━━━━━━━━━\u001b[0m\u001b[37m\u001b[0m \u001b[1m0s\u001b[0m 62ms/step - loss: 0.8948 - mape: 14.8983 - r2_score: -0.5591 - val_loss: 0.5642 - val_mape: 8.0155 - val_r2_score: 0.7004 - learning_rate: 0.0010\n",
      "Epoch 66/1000\n",
      "\u001b[1m5/5\u001b[0m \u001b[32m━━━━━━━━━━━━━━━━━━━━\u001b[0m\u001b[37m\u001b[0m \u001b[1m0s\u001b[0m 63ms/step - loss: 0.9961 - mape: 17.3249 - r2_score: -0.9967 - val_loss: 0.5813 - val_mape: 8.5369 - val_r2_score: 0.6340 - learning_rate: 0.0010\n",
      "Epoch 67/1000\n",
      "\u001b[1m5/5\u001b[0m \u001b[32m━━━━━━━━━━━━━━━━━━━━\u001b[0m\u001b[37m\u001b[0m \u001b[1m0s\u001b[0m 62ms/step - loss: 1.0721 - mape: 19.2749 - r2_score: -1.2978 - val_loss: 0.5242 - val_mape: 7.2557 - val_r2_score: 0.7458 - learning_rate: 0.0010\n",
      "Epoch 68/1000\n",
      "\u001b[1m5/5\u001b[0m \u001b[32m━━━━━━━━━━━━━━━━━━━━\u001b[0m\u001b[37m\u001b[0m \u001b[1m0s\u001b[0m 77ms/step - loss: 1.1285 - mape: 19.9055 - r2_score: -1.4148 - val_loss: 0.4252 - val_mape: 5.0400 - val_r2_score: 0.8277 - learning_rate: 0.0010\n",
      "Epoch 69/1000\n",
      "\u001b[1m5/5\u001b[0m \u001b[32m━━━━━━━━━━━━━━━━━━━━\u001b[0m\u001b[37m\u001b[0m \u001b[1m0s\u001b[0m 66ms/step - loss: 0.8610 - mape: 14.8593 - r2_score: -0.3930 - val_loss: 0.4402 - val_mape: 5.3557 - val_r2_score: 0.7676 - learning_rate: 0.0010\n",
      "Epoch 70/1000\n",
      "\u001b[1m5/5\u001b[0m \u001b[32m━━━━━━━━━━━━━━━━━━━━\u001b[0m\u001b[37m\u001b[0m \u001b[1m0s\u001b[0m 63ms/step - loss: 0.9787 - mape: 17.1994 - r2_score: -0.8726 - val_loss: 0.6087 - val_mape: 8.8782 - val_r2_score: 0.5396 - learning_rate: 0.0010\n",
      "Epoch 71/1000\n",
      "\u001b[1m5/5\u001b[0m \u001b[32m━━━━━━━━━━━━━━━━━━━━\u001b[0m\u001b[37m\u001b[0m \u001b[1m0s\u001b[0m 63ms/step - loss: 0.9357 - mape: 15.8994 - r2_score: -0.6317 - val_loss: 0.6512 - val_mape: 10.0950 - val_r2_score: 0.4589 - learning_rate: 0.0010\n",
      "Epoch 72/1000\n",
      "\u001b[1m5/5\u001b[0m \u001b[32m━━━━━━━━━━━━━━━━━━━━\u001b[0m\u001b[37m\u001b[0m \u001b[1m0s\u001b[0m 62ms/step - loss: 1.0844 - mape: 18.7455 - r2_score: -1.3668 - val_loss: 0.5225 - val_mape: 7.1709 - val_r2_score: 0.6629 - learning_rate: 0.0010\n",
      "Epoch 73/1000\n",
      "\u001b[1m5/5\u001b[0m \u001b[32m━━━━━━━━━━━━━━━━━━━━\u001b[0m\u001b[37m\u001b[0m \u001b[1m0s\u001b[0m 63ms/step - loss: 1.0151 - mape: 17.2232 - r2_score: -0.8338 - val_loss: 0.4579 - val_mape: 5.9373 - val_r2_score: 0.7458 - learning_rate: 0.0010\n",
      "Epoch 74/1000\n",
      "\u001b[1m5/5\u001b[0m \u001b[32m━━━━━━━━━━━━━━━━━━━━\u001b[0m\u001b[37m\u001b[0m \u001b[1m0s\u001b[0m 63ms/step - loss: 0.9699 - mape: 17.5602 - r2_score: -0.8910 - val_loss: 0.4597 - val_mape: 5.9886 - val_r2_score: 0.7746 - learning_rate: 0.0010\n",
      "Epoch 75/1000\n",
      "\u001b[1m5/5\u001b[0m \u001b[32m━━━━━━━━━━━━━━━━━━━━\u001b[0m\u001b[37m\u001b[0m \u001b[1m0s\u001b[0m 63ms/step - loss: 0.8863 - mape: 14.9286 - r2_score: -0.3303 - val_loss: 0.4893 - val_mape: 6.6597 - val_r2_score: 0.7574 - learning_rate: 0.0010\n",
      "Epoch 76/1000\n",
      "\u001b[1m5/5\u001b[0m \u001b[32m━━━━━━━━━━━━━━━━━━━━\u001b[0m\u001b[37m\u001b[0m \u001b[1m0s\u001b[0m 64ms/step - loss: 1.0195 - mape: 17.8967 - r2_score: -0.8745 - val_loss: 0.5090 - val_mape: 7.0951 - val_r2_score: 0.7341 - learning_rate: 0.0010\n",
      "Epoch 77/1000\n",
      "\u001b[1m5/5\u001b[0m \u001b[32m━━━━━━━━━━━━━━━━━━━━\u001b[0m\u001b[37m\u001b[0m \u001b[1m0s\u001b[0m 63ms/step - loss: 1.0018 - mape: 17.4388 - r2_score: -0.9003 - val_loss: 0.4894 - val_mape: 6.8102 - val_r2_score: 0.7455 - learning_rate: 0.0010\n",
      "Epoch 78/1000\n",
      "\u001b[1m5/5\u001b[0m \u001b[32m━━━━━━━━━━━━━━━━━━━━\u001b[0m\u001b[37m\u001b[0m \u001b[1m0s\u001b[0m 62ms/step - loss: 0.9436 - mape: 16.0676 - r2_score: -1.0533 - val_loss: 0.5007 - val_mape: 6.8352 - val_r2_score: 0.7773 - learning_rate: 0.0010\n",
      "Epoch 79/1000\n",
      "\u001b[1m5/5\u001b[0m \u001b[32m━━━━━━━━━━━━━━━━━━━━\u001b[0m\u001b[37m\u001b[0m \u001b[1m0s\u001b[0m 62ms/step - loss: 1.1028 - mape: 19.5393 - r2_score: -1.5469 - val_loss: 0.5770 - val_mape: 8.3301 - val_r2_score: 0.6970 - learning_rate: 0.0010\n",
      "Epoch 80/1000\n",
      "\u001b[1m5/5\u001b[0m \u001b[32m━━━━━━━━━━━━━━━━━━━━\u001b[0m\u001b[37m\u001b[0m \u001b[1m0s\u001b[0m 62ms/step - loss: 0.9183 - mape: 15.4468 - r2_score: -0.6949 - val_loss: 0.5967 - val_mape: 8.6161 - val_r2_score: 0.6613 - learning_rate: 0.0010\n",
      "Epoch 81/1000\n",
      "\u001b[1m5/5\u001b[0m \u001b[32m━━━━━━━━━━━━━━━━━━━━\u001b[0m\u001b[37m\u001b[0m \u001b[1m0s\u001b[0m 63ms/step - loss: 0.9923 - mape: 16.8312 - r2_score: -0.7130 - val_loss: 0.5245 - val_mape: 6.8776 - val_r2_score: 0.7533 - learning_rate: 0.0010\n",
      "Epoch 82/1000\n",
      "\u001b[1m5/5\u001b[0m \u001b[32m━━━━━━━━━━━━━━━━━━━━\u001b[0m\u001b[37m\u001b[0m \u001b[1m0s\u001b[0m 63ms/step - loss: 0.9090 - mape: 15.2010 - r2_score: -0.5372 - val_loss: 0.5121 - val_mape: 6.8567 - val_r2_score: 0.7255 - learning_rate: 0.0010\n",
      "Epoch 83/1000\n",
      "\u001b[1m5/5\u001b[0m \u001b[32m━━━━━━━━━━━━━━━━━━━━\u001b[0m\u001b[37m\u001b[0m \u001b[1m0s\u001b[0m 64ms/step - loss: 0.8977 - mape: 15.3218 - r2_score: -0.5960 - val_loss: 0.5087 - val_mape: 7.2948 - val_r2_score: 0.6641 - learning_rate: 0.0010\n",
      "Epoch 84/1000\n",
      "\u001b[1m5/5\u001b[0m \u001b[32m━━━━━━━━━━━━━━━━━━━━\u001b[0m\u001b[37m\u001b[0m \u001b[1m0s\u001b[0m 68ms/step - loss: 1.0059 - mape: 17.7645 - r2_score: -1.4048 - val_loss: 0.5186 - val_mape: 7.4859 - val_r2_score: 0.6646 - learning_rate: 0.0010\n",
      "Epoch 85/1000\n",
      "\u001b[1m5/5\u001b[0m \u001b[32m━━━━━━━━━━━━━━━━━━━━\u001b[0m\u001b[37m\u001b[0m \u001b[1m1s\u001b[0m 77ms/step - loss: 0.9067 - mape: 15.8779 - r2_score: -0.4884 - val_loss: 0.5596 - val_mape: 8.1839 - val_r2_score: 0.6849 - learning_rate: 0.0010\n",
      "Epoch 86/1000\n",
      "\u001b[1m5/5\u001b[0m \u001b[32m━━━━━━━━━━━━━━━━━━━━\u001b[0m\u001b[37m\u001b[0m \u001b[1m0s\u001b[0m 69ms/step - loss: 0.9922 - mape: 17.4704 - r2_score: -1.0632 - val_loss: 0.5513 - val_mape: 7.8510 - val_r2_score: 0.7037 - learning_rate: 0.0010\n",
      "Epoch 87/1000\n",
      "\u001b[1m5/5\u001b[0m \u001b[32m━━━━━━━━━━━━━━━━━━━━\u001b[0m\u001b[37m\u001b[0m \u001b[1m0s\u001b[0m 62ms/step - loss: 0.8662 - mape: 14.5263 - r2_score: -0.4768 - val_loss: 0.5011 - val_mape: 6.8472 - val_r2_score: 0.7502 - learning_rate: 0.0010\n",
      "Epoch 88/1000\n",
      "\u001b[1m5/5\u001b[0m \u001b[32m━━━━━━━━━━━━━━━━━━━━\u001b[0m\u001b[37m\u001b[0m \u001b[1m0s\u001b[0m 63ms/step - loss: 0.9072 - mape: 15.9406 - r2_score: -0.4162 - val_loss: 0.4585 - val_mape: 5.6984 - val_r2_score: 0.8115 - learning_rate: 0.0010\n",
      "Epoch 89/1000\n",
      "\u001b[1m5/5\u001b[0m \u001b[32m━━━━━━━━━━━━━━━━━━━━\u001b[0m\u001b[37m\u001b[0m \u001b[1m0s\u001b[0m 63ms/step - loss: 0.9136 - mape: 15.7024 - r2_score: -0.3542 - val_loss: 0.4740 - val_mape: 5.9045 - val_r2_score: 0.7812 - learning_rate: 0.0010\n",
      "Epoch 90/1000\n",
      "\u001b[1m5/5\u001b[0m \u001b[32m━━━━━━━━━━━━━━━━━━━━\u001b[0m\u001b[37m\u001b[0m \u001b[1m0s\u001b[0m 63ms/step - loss: 0.9136 - mape: 15.7744 - r2_score: -0.5124 - val_loss: 0.5444 - val_mape: 7.5676 - val_r2_score: 0.6793 - learning_rate: 0.0010\n",
      "Epoch 91/1000\n",
      "\u001b[1m5/5\u001b[0m \u001b[32m━━━━━━━━━━━━━━━━━━━━\u001b[0m\u001b[37m\u001b[0m \u001b[1m0s\u001b[0m 63ms/step - loss: 0.9571 - mape: 16.3093 - r2_score: -0.6034 - val_loss: 0.5486 - val_mape: 7.6757 - val_r2_score: 0.6394 - learning_rate: 0.0010\n",
      "Epoch 92/1000\n",
      "\u001b[1m5/5\u001b[0m \u001b[32m━━━━━━━━━━━━━━━━━━━━\u001b[0m\u001b[37m\u001b[0m \u001b[1m0s\u001b[0m 64ms/step - loss: 0.9000 - mape: 15.3425 - r2_score: -0.4005 - val_loss: 0.5537 - val_mape: 7.5064 - val_r2_score: 0.6971 - learning_rate: 0.0010\n",
      "Epoch 93/1000\n",
      "\u001b[1m5/5\u001b[0m \u001b[32m━━━━━━━━━━━━━━━━━━━━\u001b[0m\u001b[37m\u001b[0m \u001b[1m0s\u001b[0m 62ms/step - loss: 1.0051 - mape: 17.3906 - r2_score: -1.0571 - val_loss: 0.5839 - val_mape: 8.0279 - val_r2_score: 0.6877 - learning_rate: 0.0010\n",
      "Epoch 94/1000\n",
      "\u001b[1m5/5\u001b[0m \u001b[32m━━━━━━━━━━━━━━━━━━━━\u001b[0m\u001b[37m\u001b[0m \u001b[1m0s\u001b[0m 63ms/step - loss: 0.9774 - mape: 16.7461 - r2_score: -0.6303 - val_loss: 0.5275 - val_mape: 6.7309 - val_r2_score: 0.7435 - learning_rate: 0.0010\n",
      "Epoch 95/1000\n",
      "\u001b[1m5/5\u001b[0m \u001b[32m━━━━━━━━━━━━━━━━━━━━\u001b[0m\u001b[37m\u001b[0m \u001b[1m0s\u001b[0m 64ms/step - loss: 0.8641 - mape: 14.2820 - r2_score: -0.2355 - val_loss: 0.4970 - val_mape: 6.5049 - val_r2_score: 0.7459 - learning_rate: 0.0010\n",
      "Epoch 96/1000\n",
      "\u001b[1m5/5\u001b[0m \u001b[32m━━━━━━━━━━━━━━━━━━━━\u001b[0m\u001b[37m\u001b[0m \u001b[1m0s\u001b[0m 62ms/step - loss: 0.8647 - mape: 14.2900 - r2_score: -0.2700 - val_loss: 0.5499 - val_mape: 7.8995 - val_r2_score: 0.6886 - learning_rate: 0.0010\n",
      "Epoch 97/1000\n",
      "\u001b[1m5/5\u001b[0m \u001b[32m━━━━━━━━━━━━━━━━━━━━\u001b[0m\u001b[37m\u001b[0m \u001b[1m0s\u001b[0m 65ms/step - loss: 0.9506 - mape: 16.8533 - r2_score: -0.6381 - val_loss: 0.5232 - val_mape: 7.2813 - val_r2_score: 0.7316 - learning_rate: 0.0010\n",
      "Epoch 98/1000\n",
      "\u001b[1m5/5\u001b[0m \u001b[32m━━━━━━━━━━━━━━━━━━━━\u001b[0m\u001b[37m\u001b[0m \u001b[1m0s\u001b[0m 64ms/step - loss: 1.0105 - mape: 17.5389 - r2_score: -0.8955 - val_loss: 0.5035 - val_mape: 6.5835 - val_r2_score: 0.7782 - learning_rate: 0.0010\n",
      "Epoch 99/1000\n",
      "\u001b[1m5/5\u001b[0m \u001b[32m━━━━━━━━━━━━━━━━━━━━\u001b[0m\u001b[37m\u001b[0m \u001b[1m0s\u001b[0m 63ms/step - loss: 0.9121 - mape: 15.3562 - r2_score: -0.5499 - val_loss: 0.5687 - val_mape: 7.5851 - val_r2_score: 0.6894 - learning_rate: 0.0010\n",
      "Epoch 100/1000\n",
      "\u001b[1m5/5\u001b[0m \u001b[32m━━━━━━━━━━━━━━━━━━━━\u001b[0m\u001b[37m\u001b[0m \u001b[1m0s\u001b[0m 63ms/step - loss: 0.9138 - mape: 15.6278 - r2_score: -0.5998 - val_loss: 0.6070 - val_mape: 8.2983 - val_r2_score: 0.6232 - learning_rate: 0.0010\n",
      "Epoch 101/1000\n",
      "\u001b[1m5/5\u001b[0m \u001b[32m━━━━━━━━━━━━━━━━━━━━\u001b[0m\u001b[37m\u001b[0m \u001b[1m0s\u001b[0m 63ms/step - loss: 0.9317 - mape: 16.1266 - r2_score: -0.5874 - val_loss: 0.6075 - val_mape: 8.2802 - val_r2_score: 0.6140 - learning_rate: 0.0010\n",
      "Epoch 102/1000\n",
      "\u001b[1m5/5\u001b[0m \u001b[32m━━━━━━━━━━━━━━━━━━━━\u001b[0m\u001b[37m\u001b[0m \u001b[1m0s\u001b[0m 65ms/step - loss: 0.8801 - mape: 15.0410 - r2_score: -0.6640 - val_loss: 0.5392 - val_mape: 6.9361 - val_r2_score: 0.7065 - learning_rate: 0.0010\n",
      "Epoch 103/1000\n",
      "\u001b[1m5/5\u001b[0m \u001b[32m━━━━━━━━━━━━━━━━━━━━\u001b[0m\u001b[37m\u001b[0m \u001b[1m0s\u001b[0m 63ms/step - loss: 0.8749 - mape: 14.5231 - r2_score: -0.3715 - val_loss: 0.5121 - val_mape: 7.0055 - val_r2_score: 0.7328 - learning_rate: 0.0010\n",
      "Epoch 104/1000\n",
      "\u001b[1m5/5\u001b[0m \u001b[32m━━━━━━━━━━━━━━━━━━━━\u001b[0m\u001b[37m\u001b[0m \u001b[1m0s\u001b[0m 63ms/step - loss: 0.8872 - mape: 15.2064 - r2_score: -0.3983 - val_loss: 0.5499 - val_mape: 7.9252 - val_r2_score: 0.6563 - learning_rate: 0.0010\n",
      "Epoch 105/1000\n",
      "\u001b[1m5/5\u001b[0m \u001b[32m━━━━━━━━━━━━━━━━━━━━\u001b[0m\u001b[37m\u001b[0m \u001b[1m0s\u001b[0m 63ms/step - loss: 0.7933 - mape: 13.2886 - r2_score: -0.1173 - val_loss: 0.5240 - val_mape: 7.2195 - val_r2_score: 0.7022 - learning_rate: 0.0010\n",
      "Epoch 106/1000\n",
      "\u001b[1m5/5\u001b[0m \u001b[32m━━━━━━━━━━━━━━━━━━━━\u001b[0m\u001b[37m\u001b[0m \u001b[1m0s\u001b[0m 63ms/step - loss: 0.9552 - mape: 16.4238 - r2_score: -0.8550 - val_loss: 0.5580 - val_mape: 7.4010 - val_r2_score: 0.7007 - learning_rate: 0.0010\n",
      "Epoch 107/1000\n",
      "\u001b[1m5/5\u001b[0m \u001b[32m━━━━━━━━━━━━━━━━━━━━\u001b[0m\u001b[37m\u001b[0m \u001b[1m0s\u001b[0m 63ms/step - loss: 0.8684 - mape: 14.5163 - r2_score: -0.4768 - val_loss: 0.6643 - val_mape: 9.3470 - val_r2_score: 0.5028 - learning_rate: 0.0010\n",
      "Epoch 108/1000\n",
      "\u001b[1m5/5\u001b[0m \u001b[32m━━━━━━━━━━━━━━━━━━━━\u001b[0m\u001b[37m\u001b[0m \u001b[1m0s\u001b[0m 63ms/step - loss: 0.8777 - mape: 15.1370 - r2_score: -0.5000 - val_loss: 0.6856 - val_mape: 9.9870 - val_r2_score: 0.4387 - learning_rate: 0.0010\n",
      "Epoch 109/1000\n",
      "\u001b[1m5/5\u001b[0m \u001b[32m━━━━━━━━━━━━━━━━━━━━\u001b[0m\u001b[37m\u001b[0m \u001b[1m0s\u001b[0m 64ms/step - loss: 0.8516 - mape: 14.1026 - r2_score: -0.2547 - val_loss: 0.6157 - val_mape: 8.6025 - val_r2_score: 0.5879 - learning_rate: 0.0010\n",
      "Epoch 110/1000\n",
      "\u001b[1m5/5\u001b[0m \u001b[32m━━━━━━━━━━━━━━━━━━━━\u001b[0m\u001b[37m\u001b[0m \u001b[1m0s\u001b[0m 62ms/step - loss: 0.8889 - mape: 14.8987 - r2_score: -0.4560 - val_loss: 0.5515 - val_mape: 7.2772 - val_r2_score: 0.7032 - learning_rate: 0.0010\n",
      "Epoch 111/1000\n",
      "\u001b[1m5/5\u001b[0m \u001b[32m━━━━━━━━━━━━━━━━━━━━\u001b[0m\u001b[37m\u001b[0m \u001b[1m0s\u001b[0m 63ms/step - loss: 0.9806 - mape: 17.4787 - r2_score: -0.8525 - val_loss: 0.4966 - val_mape: 6.3959 - val_r2_score: 0.7764 - learning_rate: 0.0010\n",
      "Epoch 112/1000\n",
      "\u001b[1m5/5\u001b[0m \u001b[32m━━━━━━━━━━━━━━━━━━━━\u001b[0m\u001b[37m\u001b[0m \u001b[1m0s\u001b[0m 64ms/step - loss: 0.9305 - mape: 15.6137 - r2_score: -0.6130 - val_loss: 0.4967 - val_mape: 6.7012 - val_r2_score: 0.7674 - learning_rate: 0.0010\n",
      "Epoch 113/1000\n",
      "\u001b[1m5/5\u001b[0m \u001b[32m━━━━━━━━━━━━━━━━━━━━\u001b[0m\u001b[37m\u001b[0m \u001b[1m0s\u001b[0m 63ms/step - loss: 0.9002 - mape: 15.4102 - r2_score: -0.4812 - val_loss: 0.5163 - val_mape: 7.1996 - val_r2_score: 0.7523 - learning_rate: 0.0010\n",
      "Epoch 114/1000\n",
      "\u001b[1m5/5\u001b[0m \u001b[32m━━━━━━━━━━━━━━━━━━━━\u001b[0m\u001b[37m\u001b[0m \u001b[1m0s\u001b[0m 64ms/step - loss: 0.8513 - mape: 14.1208 - r2_score: -0.3181 - val_loss: 0.5772 - val_mape: 8.2603 - val_r2_score: 0.7009 - learning_rate: 0.0010\n",
      "Epoch 115/1000\n",
      "\u001b[1m5/5\u001b[0m \u001b[32m━━━━━━━━━━━━━━━━━━━━\u001b[0m\u001b[37m\u001b[0m \u001b[1m0s\u001b[0m 63ms/step - loss: 0.8856 - mape: 15.7479 - r2_score: -0.4237 - val_loss: 0.5924 - val_mape: 8.2055 - val_r2_score: 0.6594 - learning_rate: 0.0010\n",
      "Epoch 116/1000\n",
      "\u001b[1m5/5\u001b[0m \u001b[32m━━━━━━━━━━━━━━━━━━━━\u001b[0m\u001b[37m\u001b[0m \u001b[1m0s\u001b[0m 63ms/step - loss: 0.9238 - mape: 15.8768 - r2_score: -0.4646 - val_loss: 0.6773 - val_mape: 10.1011 - val_r2_score: 0.5548 - learning_rate: 0.0010\n",
      "Epoch 117/1000\n",
      "\u001b[1m5/5\u001b[0m \u001b[32m━━━━━━━━━━━━━━━━━━━━\u001b[0m\u001b[37m\u001b[0m \u001b[1m0s\u001b[0m 63ms/step - loss: 0.7515 - mape: 12.1687 - r2_score: 0.0576 - val_loss: 0.6102 - val_mape: 8.6251 - val_r2_score: 0.6331 - learning_rate: 0.0010\n",
      "Epoch 118/1000\n",
      "\u001b[1m5/5\u001b[0m \u001b[32m━━━━━━━━━━━━━━━━━━━━\u001b[0m\u001b[37m\u001b[0m \u001b[1m0s\u001b[0m 63ms/step - loss: 1.0251 - mape: 18.5381 - r2_score: -0.8670 - val_loss: 0.5888 - val_mape: 8.9253 - val_r2_score: 0.6739 - learning_rate: 0.0010\n",
      "Epoch 119/1000\n",
      "\u001b[1m5/5\u001b[0m \u001b[32m━━━━━━━━━━━━━━━━━━━━\u001b[0m\u001b[37m\u001b[0m \u001b[1m0s\u001b[0m 63ms/step - loss: 0.8368 - mape: 13.7385 - r2_score: -0.2481 - val_loss: 0.5369 - val_mape: 7.7700 - val_r2_score: 0.7312 - learning_rate: 0.0010\n",
      "Epoch 120/1000\n",
      "\u001b[1m5/5\u001b[0m \u001b[32m━━━━━━━━━━━━━━━━━━━━\u001b[0m\u001b[37m\u001b[0m \u001b[1m0s\u001b[0m 63ms/step - loss: 1.0673 - mape: 18.9532 - r2_score: -1.2643 - val_loss: 0.4835 - val_mape: 6.5672 - val_r2_score: 0.7808 - learning_rate: 0.0010\n",
      "Epoch 121/1000\n",
      "\u001b[1m5/5\u001b[0m \u001b[32m━━━━━━━━━━━━━━━━━━━━\u001b[0m\u001b[37m\u001b[0m \u001b[1m0s\u001b[0m 63ms/step - loss: 0.8602 - mape: 14.4367 - r2_score: -0.2940 - val_loss: 0.4719 - val_mape: 5.5692 - val_r2_score: 0.7949 - learning_rate: 0.0010\n",
      "Epoch 122/1000\n",
      "\u001b[1m5/5\u001b[0m \u001b[32m━━━━━━━━━━━━━━━━━━━━\u001b[0m\u001b[37m\u001b[0m \u001b[1m0s\u001b[0m 64ms/step - loss: 0.8185 - mape: 13.8272 - r2_score: -0.2961 - val_loss: 0.5501 - val_mape: 7.2098 - val_r2_score: 0.6857 - learning_rate: 8.0000e-04\n",
      "Epoch 123/1000\n",
      "\u001b[1m5/5\u001b[0m \u001b[32m━━━━━━━━━━━━━━━━━━━━\u001b[0m\u001b[37m\u001b[0m \u001b[1m0s\u001b[0m 63ms/step - loss: 0.8723 - mape: 14.5955 - r2_score: -0.4411 - val_loss: 0.5621 - val_mape: 7.4957 - val_r2_score: 0.6631 - learning_rate: 8.0000e-04\n",
      "Epoch 124/1000\n",
      "\u001b[1m5/5\u001b[0m \u001b[32m━━━━━━━━━━━━━━━━━━━━\u001b[0m\u001b[37m\u001b[0m \u001b[1m0s\u001b[0m 63ms/step - loss: 0.8283 - mape: 13.5973 - r2_score: -0.4145 - val_loss: 0.5358 - val_mape: 6.9389 - val_r2_score: 0.7236 - learning_rate: 8.0000e-04\n",
      "Epoch 125/1000\n",
      "\u001b[1m5/5\u001b[0m \u001b[32m━━━━━━━━━━━━━━━━━━━━\u001b[0m\u001b[37m\u001b[0m \u001b[1m0s\u001b[0m 62ms/step - loss: 0.8565 - mape: 14.3771 - r2_score: -0.3530 - val_loss: 0.5080 - val_mape: 6.3246 - val_r2_score: 0.7544 - learning_rate: 8.0000e-04\n",
      "Epoch 126/1000\n",
      "\u001b[1m5/5\u001b[0m \u001b[32m━━━━━━━━━━━━━━━━━━━━\u001b[0m\u001b[37m\u001b[0m \u001b[1m0s\u001b[0m 63ms/step - loss: 0.8762 - mape: 14.7037 - r2_score: -0.3675 - val_loss: 0.5158 - val_mape: 6.4892 - val_r2_score: 0.7447 - learning_rate: 8.0000e-04\n",
      "Epoch 127/1000\n",
      "\u001b[1m5/5\u001b[0m \u001b[32m━━━━━━━━━━━━━━━━━━━━\u001b[0m\u001b[37m\u001b[0m \u001b[1m0s\u001b[0m 63ms/step - loss: 0.7877 - mape: 13.6251 - r2_score: -0.0511 - val_loss: 0.5147 - val_mape: 6.8382 - val_r2_score: 0.7274 - learning_rate: 8.0000e-04\n",
      "Epoch 128/1000\n",
      "\u001b[1m5/5\u001b[0m \u001b[32m━━━━━━━━━━━━━━━━━━━━\u001b[0m\u001b[37m\u001b[0m \u001b[1m0s\u001b[0m 63ms/step - loss: 0.7872 - mape: 12.9825 - r2_score: -0.1993 - val_loss: 0.5432 - val_mape: 7.6899 - val_r2_score: 0.6863 - learning_rate: 8.0000e-04\n",
      "Epoch 129/1000\n",
      "\u001b[1m5/5\u001b[0m \u001b[32m━━━━━━━━━━━━━━━━━━━━\u001b[0m\u001b[37m\u001b[0m \u001b[1m0s\u001b[0m 65ms/step - loss: 0.8905 - mape: 15.3630 - r2_score: -0.4187 - val_loss: 0.5557 - val_mape: 7.9821 - val_r2_score: 0.6781 - learning_rate: 8.0000e-04\n",
      "Epoch 130/1000\n",
      "\u001b[1m5/5\u001b[0m \u001b[32m━━━━━━━━━━━━━━━━━━━━\u001b[0m\u001b[37m\u001b[0m \u001b[1m0s\u001b[0m 67ms/step - loss: 0.8612 - mape: 14.0846 - r2_score: -0.2743 - val_loss: 0.5397 - val_mape: 7.6231 - val_r2_score: 0.7095 - learning_rate: 8.0000e-04\n",
      "Epoch 131/1000\n",
      "\u001b[1m5/5\u001b[0m \u001b[32m━━━━━━━━━━━━━━━━━━━━\u001b[0m\u001b[37m\u001b[0m \u001b[1m0s\u001b[0m 64ms/step - loss: 0.8304 - mape: 13.7109 - r2_score: -0.2768 - val_loss: 0.5168 - val_mape: 6.9707 - val_r2_score: 0.7515 - learning_rate: 8.0000e-04\n",
      "Epoch 132/1000\n",
      "\u001b[1m5/5\u001b[0m \u001b[32m━━━━━━━━━━━━━━━━━━━━\u001b[0m\u001b[37m\u001b[0m \u001b[1m0s\u001b[0m 63ms/step - loss: 0.7249 - mape: 11.3613 - r2_score: -0.0388 - val_loss: 0.5222 - val_mape: 6.9464 - val_r2_score: 0.7204 - learning_rate: 8.0000e-04\n",
      "Epoch 133/1000\n",
      "\u001b[1m5/5\u001b[0m \u001b[32m━━━━━━━━━━━━━━━━━━━━\u001b[0m\u001b[37m\u001b[0m \u001b[1m0s\u001b[0m 63ms/step - loss: 0.8010 - mape: 13.6008 - r2_score: -0.3455 - val_loss: 0.5638 - val_mape: 8.0532 - val_r2_score: 0.6920 - learning_rate: 8.0000e-04\n",
      "Epoch 134/1000\n",
      "\u001b[1m5/5\u001b[0m \u001b[32m━━━━━━━━━━━━━━━━━━━━\u001b[0m\u001b[37m\u001b[0m \u001b[1m0s\u001b[0m 69ms/step - loss: 0.7433 - mape: 12.1037 - r2_score: 0.0621 - val_loss: 0.5038 - val_mape: 6.7015 - val_r2_score: 0.7738 - learning_rate: 8.0000e-04\n",
      "Epoch 135/1000\n",
      "\u001b[1m5/5\u001b[0m \u001b[32m━━━━━━━━━━━━━━━━━━━━\u001b[0m\u001b[37m\u001b[0m \u001b[1m0s\u001b[0m 87ms/step - loss: 0.8603 - mape: 14.8287 - r2_score: -0.2412 - val_loss: 0.4469 - val_mape: 5.2854 - val_r2_score: 0.8388 - learning_rate: 8.0000e-04\n",
      "Epoch 136/1000\n",
      "\u001b[1m5/5\u001b[0m \u001b[32m━━━━━━━━━━━━━━━━━━━━\u001b[0m\u001b[37m\u001b[0m \u001b[1m0s\u001b[0m 84ms/step - loss: 0.8212 - mape: 13.9821 - r2_score: -0.2370 - val_loss: 0.4354 - val_mape: 5.0641 - val_r2_score: 0.8514 - learning_rate: 8.0000e-04\n",
      "Epoch 137/1000\n",
      "\u001b[1m5/5\u001b[0m \u001b[32m━━━━━━━━━━━━━━━━━━━━\u001b[0m\u001b[37m\u001b[0m \u001b[1m0s\u001b[0m 84ms/step - loss: 0.8496 - mape: 14.1460 - r2_score: -0.2928 - val_loss: 0.4287 - val_mape: 5.0499 - val_r2_score: 0.8543 - learning_rate: 8.0000e-04\n",
      "Epoch 138/1000\n",
      "\u001b[1m5/5\u001b[0m \u001b[32m━━━━━━━━━━━━━━━━━━━━\u001b[0m\u001b[37m\u001b[0m \u001b[1m0s\u001b[0m 64ms/step - loss: 0.8053 - mape: 13.7244 - r2_score: -0.2083 - val_loss: 0.4474 - val_mape: 5.4477 - val_r2_score: 0.8293 - learning_rate: 8.0000e-04\n",
      "Epoch 139/1000\n",
      "\u001b[1m5/5\u001b[0m \u001b[32m━━━━━━━━━━━━━━━━━━━━\u001b[0m\u001b[37m\u001b[0m \u001b[1m0s\u001b[0m 66ms/step - loss: 0.9364 - mape: 16.5475 - r2_score: -0.6528 - val_loss: 0.4989 - val_mape: 6.4719 - val_r2_score: 0.7889 - learning_rate: 8.0000e-04\n",
      "Epoch 140/1000\n",
      "\u001b[1m5/5\u001b[0m \u001b[32m━━━━━━━━━━━━━━━━━━━━\u001b[0m\u001b[37m\u001b[0m \u001b[1m0s\u001b[0m 75ms/step - loss: 0.8257 - mape: 13.9490 - r2_score: -0.1792 - val_loss: 0.5849 - val_mape: 8.5328 - val_r2_score: 0.6919 - learning_rate: 8.0000e-04\n",
      "Epoch 141/1000\n",
      "\u001b[1m5/5\u001b[0m \u001b[32m━━━━━━━━━━━━━━━━━━━━\u001b[0m\u001b[37m\u001b[0m \u001b[1m0s\u001b[0m 63ms/step - loss: 0.7433 - mape: 12.3690 - r2_score: 0.0176 - val_loss: 0.6072 - val_mape: 9.2169 - val_r2_score: 0.6255 - learning_rate: 8.0000e-04\n",
      "Epoch 142/1000\n",
      "\u001b[1m5/5\u001b[0m \u001b[32m━━━━━━━━━━━━━━━━━━━━\u001b[0m\u001b[37m\u001b[0m \u001b[1m0s\u001b[0m 63ms/step - loss: 0.8448 - mape: 13.9011 - r2_score: -0.2468 - val_loss: 0.5882 - val_mape: 8.7854 - val_r2_score: 0.6147 - learning_rate: 8.0000e-04\n",
      "Epoch 143/1000\n",
      "\u001b[1m5/5\u001b[0m \u001b[32m━━━━━━━━━━━━━━━━━━━━\u001b[0m\u001b[37m\u001b[0m \u001b[1m0s\u001b[0m 71ms/step - loss: 0.8917 - mape: 15.3938 - r2_score: -0.8347 - val_loss: 0.5308 - val_mape: 7.1918 - val_r2_score: 0.7256 - learning_rate: 8.0000e-04\n",
      "Epoch 144/1000\n",
      "\u001b[1m5/5\u001b[0m \u001b[32m━━━━━━━━━━━━━━━━━━━━\u001b[0m\u001b[37m\u001b[0m \u001b[1m0s\u001b[0m 65ms/step - loss: 0.7768 - mape: 13.0810 - r2_score: 0.0304 - val_loss: 0.5170 - val_mape: 6.5310 - val_r2_score: 0.7525 - learning_rate: 8.0000e-04\n",
      "Epoch 145/1000\n",
      "\u001b[1m5/5\u001b[0m \u001b[32m━━━━━━━━━━━━━━━━━━━━\u001b[0m\u001b[37m\u001b[0m \u001b[1m0s\u001b[0m 64ms/step - loss: 0.8347 - mape: 13.8527 - r2_score: -0.1753 - val_loss: 0.5515 - val_mape: 7.0974 - val_r2_score: 0.6878 - learning_rate: 8.0000e-04\n",
      "Epoch 146/1000\n",
      "\u001b[1m5/5\u001b[0m \u001b[32m━━━━━━━━━━━━━━━━━━━━\u001b[0m\u001b[37m\u001b[0m \u001b[1m0s\u001b[0m 66ms/step - loss: 0.9296 - mape: 16.4695 - r2_score: -0.8829 - val_loss: 0.5815 - val_mape: 7.6672 - val_r2_score: 0.6385 - learning_rate: 8.0000e-04\n",
      "Epoch 147/1000\n",
      "\u001b[1m5/5\u001b[0m \u001b[32m━━━━━━━━━━━━━━━━━━━━\u001b[0m\u001b[37m\u001b[0m \u001b[1m0s\u001b[0m 63ms/step - loss: 0.8119 - mape: 13.5826 - r2_score: -0.1781 - val_loss: 0.5835 - val_mape: 7.6884 - val_r2_score: 0.6360 - learning_rate: 8.0000e-04\n",
      "Epoch 148/1000\n",
      "\u001b[1m5/5\u001b[0m \u001b[32m━━━━━━━━━━━━━━━━━━━━\u001b[0m\u001b[37m\u001b[0m \u001b[1m0s\u001b[0m 64ms/step - loss: 0.8614 - mape: 14.5821 - r2_score: -0.2212 - val_loss: 0.5940 - val_mape: 8.2443 - val_r2_score: 0.6764 - learning_rate: 8.0000e-04\n",
      "Epoch 149/1000\n",
      "\u001b[1m5/5\u001b[0m \u001b[32m━━━━━━━━━━━━━━━━━━━━\u001b[0m\u001b[37m\u001b[0m \u001b[1m0s\u001b[0m 63ms/step - loss: 0.8667 - mape: 15.2040 - r2_score: -0.4291 - val_loss: 0.5370 - val_mape: 7.1867 - val_r2_score: 0.7283 - learning_rate: 8.0000e-04\n",
      "Epoch 150/1000\n",
      "\u001b[1m5/5\u001b[0m \u001b[32m━━━━━━━━━━━━━━━━━━━━\u001b[0m\u001b[37m\u001b[0m \u001b[1m0s\u001b[0m 63ms/step - loss: 0.8420 - mape: 13.8757 - r2_score: -0.1467 - val_loss: 0.5095 - val_mape: 6.8549 - val_r2_score: 0.7512 - learning_rate: 8.0000e-04\n",
      "Epoch 151/1000\n",
      "\u001b[1m5/5\u001b[0m \u001b[32m━━━━━━━━━━━━━━━━━━━━\u001b[0m\u001b[37m\u001b[0m \u001b[1m0s\u001b[0m 64ms/step - loss: 0.8665 - mape: 14.5633 - r2_score: -0.4900 - val_loss: 0.4985 - val_mape: 6.8052 - val_r2_score: 0.7616 - learning_rate: 8.0000e-04\n",
      "Epoch 152/1000\n",
      "\u001b[1m5/5\u001b[0m \u001b[32m━━━━━━━━━━━━━━━━━━━━\u001b[0m\u001b[37m\u001b[0m \u001b[1m0s\u001b[0m 64ms/step - loss: 0.7661 - mape: 12.2104 - r2_score: -0.0234 - val_loss: 0.5164 - val_mape: 7.2216 - val_r2_score: 0.7387 - learning_rate: 8.0000e-04\n",
      "Epoch 153/1000\n",
      "\u001b[1m5/5\u001b[0m \u001b[32m━━━━━━━━━━━━━━━━━━━━\u001b[0m\u001b[37m\u001b[0m \u001b[1m0s\u001b[0m 63ms/step - loss: 0.8403 - mape: 14.0838 - r2_score: -0.2828 - val_loss: 0.5330 - val_mape: 7.5220 - val_r2_score: 0.7306 - learning_rate: 8.0000e-04\n",
      "Epoch 154/1000\n",
      "\u001b[1m5/5\u001b[0m \u001b[32m━━━━━━━━━━━━━━━━━━━━\u001b[0m\u001b[37m\u001b[0m \u001b[1m0s\u001b[0m 65ms/step - loss: 0.7360 - mape: 11.9931 - r2_score: 0.1896 - val_loss: 0.5502 - val_mape: 7.7389 - val_r2_score: 0.7165 - learning_rate: 8.0000e-04\n",
      "Epoch 155/1000\n",
      "\u001b[1m5/5\u001b[0m \u001b[32m━━━━━━━━━━━━━━━━━━━━\u001b[0m\u001b[37m\u001b[0m \u001b[1m0s\u001b[0m 64ms/step - loss: 0.8773 - mape: 15.1239 - r2_score: -0.3399 - val_loss: 0.5515 - val_mape: 7.6997 - val_r2_score: 0.7057 - learning_rate: 8.0000e-04\n",
      "Epoch 156/1000\n",
      "\u001b[1m5/5\u001b[0m \u001b[32m━━━━━━━━━━━━━━━━━━━━\u001b[0m\u001b[37m\u001b[0m \u001b[1m0s\u001b[0m 63ms/step - loss: 0.8294 - mape: 14.2078 - r2_score: -0.2395 - val_loss: 0.5615 - val_mape: 7.9431 - val_r2_score: 0.6725 - learning_rate: 8.0000e-04\n",
      "Epoch 157/1000\n",
      "\u001b[1m5/5\u001b[0m \u001b[32m━━━━━━━━━━━━━━━━━━━━\u001b[0m\u001b[37m\u001b[0m \u001b[1m0s\u001b[0m 63ms/step - loss: 0.7936 - mape: 13.1788 - r2_score: -7.3920e-05 - val_loss: 0.5906 - val_mape: 8.5270 - val_r2_score: 0.6565 - learning_rate: 8.0000e-04\n",
      "Epoch 158/1000\n",
      "\u001b[1m5/5\u001b[0m \u001b[32m━━━━━━━━━━━━━━━━━━━━\u001b[0m\u001b[37m\u001b[0m \u001b[1m0s\u001b[0m 64ms/step - loss: 0.8648 - mape: 14.3382 - r2_score: -0.2666 - val_loss: 0.5928 - val_mape: 8.7083 - val_r2_score: 0.6617 - learning_rate: 8.0000e-04\n",
      "Epoch 159/1000\n",
      "\u001b[1m5/5\u001b[0m \u001b[32m━━━━━━━━━━━━━━━━━━━━\u001b[0m\u001b[37m\u001b[0m \u001b[1m0s\u001b[0m 63ms/step - loss: 0.7913 - mape: 12.8455 - r2_score: -0.4699 - val_loss: 0.5591 - val_mape: 7.6339 - val_r2_score: 0.7054 - learning_rate: 8.0000e-04\n",
      "Epoch 160/1000\n",
      "\u001b[1m5/5\u001b[0m \u001b[32m━━━━━━━━━━━━━━━━━━━━\u001b[0m\u001b[37m\u001b[0m \u001b[1m0s\u001b[0m 63ms/step - loss: 0.8775 - mape: 15.1468 - r2_score: -0.5435 - val_loss: 0.5789 - val_mape: 7.8520 - val_r2_score: 0.6634 - learning_rate: 8.0000e-04\n",
      "Epoch 161/1000\n",
      "\u001b[1m5/5\u001b[0m \u001b[32m━━━━━━━━━━━━━━━━━━━━\u001b[0m\u001b[37m\u001b[0m \u001b[1m0s\u001b[0m 64ms/step - loss: 0.8887 - mape: 15.1173 - r2_score: -0.3241 - val_loss: 0.6158 - val_mape: 8.8199 - val_r2_score: 0.6128 - learning_rate: 8.0000e-04\n",
      "Epoch 162/1000\n",
      "\u001b[1m5/5\u001b[0m \u001b[32m━━━━━━━━━━━━━━━━━━━━\u001b[0m\u001b[37m\u001b[0m \u001b[1m0s\u001b[0m 75ms/step - loss: 0.8918 - mape: 15.1534 - r2_score: -0.4086 - val_loss: 0.5802 - val_mape: 8.3293 - val_r2_score: 0.6831 - learning_rate: 8.0000e-04\n",
      "Epoch 163/1000\n",
      "\u001b[1m5/5\u001b[0m \u001b[32m━━━━━━━━━━━━━━━━━━━━\u001b[0m\u001b[37m\u001b[0m \u001b[1m0s\u001b[0m 72ms/step - loss: 0.7719 - mape: 12.6970 - r2_score: 0.0738 - val_loss: 0.5132 - val_mape: 7.2609 - val_r2_score: 0.7586 - learning_rate: 8.0000e-04\n",
      "Epoch 164/1000\n",
      "\u001b[1m5/5\u001b[0m \u001b[32m━━━━━━━━━━━━━━━━━━━━\u001b[0m\u001b[37m\u001b[0m \u001b[1m0s\u001b[0m 68ms/step - loss: 0.7243 - mape: 11.8999 - r2_score: 0.1489 - val_loss: 0.4436 - val_mape: 5.8235 - val_r2_score: 0.8148 - learning_rate: 8.0000e-04\n",
      "Epoch 165/1000\n",
      "\u001b[1m5/5\u001b[0m \u001b[32m━━━━━━━━━━━━━━━━━━━━\u001b[0m\u001b[37m\u001b[0m \u001b[1m0s\u001b[0m 69ms/step - loss: 0.8906 - mape: 15.3079 - r2_score: -0.5053 - val_loss: 0.4447 - val_mape: 5.6176 - val_r2_score: 0.8261 - learning_rate: 8.0000e-04\n",
      "Epoch 166/1000\n",
      "\u001b[1m5/5\u001b[0m \u001b[32m━━━━━━━━━━━━━━━━━━━━\u001b[0m\u001b[37m\u001b[0m \u001b[1m0s\u001b[0m 68ms/step - loss: 0.8435 - mape: 14.0405 - r2_score: -0.1969 - val_loss: 0.4681 - val_mape: 6.0508 - val_r2_score: 0.7947 - learning_rate: 8.0000e-04\n",
      "Epoch 167/1000\n",
      "\u001b[1m5/5\u001b[0m \u001b[32m━━━━━━━━━━━━━━━━━━━━\u001b[0m\u001b[37m\u001b[0m \u001b[1m0s\u001b[0m 68ms/step - loss: 0.9198 - mape: 15.5722 - r2_score: -0.5836 - val_loss: 0.4695 - val_mape: 6.0096 - val_r2_score: 0.7751 - learning_rate: 8.0000e-04\n",
      "Epoch 168/1000\n",
      "\u001b[1m5/5\u001b[0m \u001b[32m━━━━━━━━━━━━━━━━━━━━\u001b[0m\u001b[37m\u001b[0m \u001b[1m0s\u001b[0m 69ms/step - loss: 0.7652 - mape: 12.6603 - r2_score: 0.0502 - val_loss: 0.4657 - val_mape: 5.8771 - val_r2_score: 0.7633 - learning_rate: 8.0000e-04\n",
      "Epoch 169/1000\n",
      "\u001b[1m5/5\u001b[0m \u001b[32m━━━━━━━━━━━━━━━━━━━━\u001b[0m\u001b[37m\u001b[0m \u001b[1m0s\u001b[0m 69ms/step - loss: 0.7925 - mape: 13.1919 - r2_score: 0.0894 - val_loss: 0.4690 - val_mape: 5.9889 - val_r2_score: 0.7707 - learning_rate: 8.0000e-04\n",
      "Epoch 170/1000\n",
      "\u001b[1m5/5\u001b[0m \u001b[32m━━━━━━━━━━━━━━━━━━━━\u001b[0m\u001b[37m\u001b[0m \u001b[1m0s\u001b[0m 66ms/step - loss: 0.6490 - mape: 9.8543 - r2_score: 0.2955 - val_loss: 0.4621 - val_mape: 5.7830 - val_r2_score: 0.7996 - learning_rate: 8.0000e-04\n",
      "Epoch 171/1000\n",
      "\u001b[1m5/5\u001b[0m \u001b[32m━━━━━━━━━━━━━━━━━━━━\u001b[0m\u001b[37m\u001b[0m \u001b[1m0s\u001b[0m 67ms/step - loss: 0.7979 - mape: 13.0362 - r2_score: -0.0598 - val_loss: 0.4745 - val_mape: 6.0540 - val_r2_score: 0.8079 - learning_rate: 8.0000e-04\n",
      "Epoch 172/1000\n",
      "\u001b[1m5/5\u001b[0m \u001b[32m━━━━━━━━━━━━━━━━━━━━\u001b[0m\u001b[37m\u001b[0m \u001b[1m0s\u001b[0m 69ms/step - loss: 0.8375 - mape: 14.0422 - r2_score: -0.1721 - val_loss: 0.4745 - val_mape: 6.1041 - val_r2_score: 0.8179 - learning_rate: 8.0000e-04\n",
      "Epoch 173/1000\n",
      "\u001b[1m5/5\u001b[0m \u001b[32m━━━━━━━━━━━━━━━━━━━━\u001b[0m\u001b[37m\u001b[0m \u001b[1m0s\u001b[0m 71ms/step - loss: 0.8388 - mape: 14.1303 - r2_score: -0.3034 - val_loss: 0.4773 - val_mape: 6.4488 - val_r2_score: 0.7994 - learning_rate: 8.0000e-04\n",
      "Epoch 174/1000\n",
      "\u001b[1m5/5\u001b[0m \u001b[32m━━━━━━━━━━━━━━━━━━━━\u001b[0m\u001b[37m\u001b[0m \u001b[1m0s\u001b[0m 68ms/step - loss: 0.7724 - mape: 12.3936 - r2_score: -0.0979 - val_loss: 0.4936 - val_mape: 6.9041 - val_r2_score: 0.7786 - learning_rate: 8.0000e-04\n",
      "Epoch 175/1000\n",
      "\u001b[1m5/5\u001b[0m \u001b[32m━━━━━━━━━━━━━━━━━━━━\u001b[0m\u001b[37m\u001b[0m \u001b[1m0s\u001b[0m 67ms/step - loss: 0.7883 - mape: 13.0221 - r2_score: -0.1559 - val_loss: 0.4894 - val_mape: 6.7175 - val_r2_score: 0.7852 - learning_rate: 8.0000e-04\n",
      "Epoch 176/1000\n",
      "\u001b[1m5/5\u001b[0m \u001b[32m━━━━━━━━━━━━━━━━━━━━\u001b[0m\u001b[37m\u001b[0m \u001b[1m0s\u001b[0m 69ms/step - loss: 0.7897 - mape: 13.3543 - r2_score: -0.3078 - val_loss: 0.4974 - val_mape: 6.5874 - val_r2_score: 0.7864 - learning_rate: 8.0000e-04\n",
      "Epoch 177/1000\n",
      "\u001b[1m5/5\u001b[0m \u001b[32m━━━━━━━━━━━━━━━━━━━━\u001b[0m\u001b[37m\u001b[0m \u001b[1m0s\u001b[0m 70ms/step - loss: 0.7440 - mape: 11.7300 - r2_score: -0.1086 - val_loss: 0.5041 - val_mape: 6.7364 - val_r2_score: 0.7814 - learning_rate: 8.0000e-04\n",
      "Epoch 178/1000\n",
      "\u001b[1m5/5\u001b[0m \u001b[32m━━━━━━━━━━━━━━━━━━━━\u001b[0m\u001b[37m\u001b[0m \u001b[1m0s\u001b[0m 68ms/step - loss: 0.8380 - mape: 13.8586 - r2_score: -0.2085 - val_loss: 0.4828 - val_mape: 6.3601 - val_r2_score: 0.7943 - learning_rate: 8.0000e-04\n",
      "Epoch 179/1000\n",
      "\u001b[1m5/5\u001b[0m \u001b[32m━━━━━━━━━━━━━━━━━━━━\u001b[0m\u001b[37m\u001b[0m \u001b[1m1s\u001b[0m 83ms/step - loss: 0.8029 - mape: 13.0520 - r2_score: -0.1979 - val_loss: 0.5156 - val_mape: 6.9370 - val_r2_score: 0.7867 - learning_rate: 8.0000e-04\n",
      "Epoch 180/1000\n",
      "\u001b[1m5/5\u001b[0m \u001b[32m━━━━━━━━━━━━━━━━━━━━\u001b[0m\u001b[37m\u001b[0m \u001b[1m0s\u001b[0m 68ms/step - loss: 0.8184 - mape: 13.8247 - r2_score: -0.1798 - val_loss: 0.5441 - val_mape: 7.0952 - val_r2_score: 0.7238 - learning_rate: 8.0000e-04\n",
      "Epoch 181/1000\n",
      "\u001b[1m5/5\u001b[0m \u001b[32m━━━━━━━━━━━━━━━━━━━━\u001b[0m\u001b[37m\u001b[0m \u001b[1m0s\u001b[0m 63ms/step - loss: 0.7809 - mape: 13.1393 - r2_score: -0.0990 - val_loss: 0.5029 - val_mape: 6.2642 - val_r2_score: 0.7695 - learning_rate: 8.0000e-04\n",
      "Epoch 182/1000\n",
      "\u001b[1m5/5\u001b[0m \u001b[32m━━━━━━━━━━━━━━━━━━━━\u001b[0m\u001b[37m\u001b[0m \u001b[1m0s\u001b[0m 67ms/step - loss: 0.7970 - mape: 12.9331 - r2_score: -0.0506 - val_loss: 0.4982 - val_mape: 6.2808 - val_r2_score: 0.7696 - learning_rate: 8.0000e-04\n",
      "Epoch 183/1000\n",
      "\u001b[1m5/5\u001b[0m \u001b[32m━━━━━━━━━━━━━━━━━━━━\u001b[0m\u001b[37m\u001b[0m \u001b[1m0s\u001b[0m 65ms/step - loss: 0.7533 - mape: 11.9094 - r2_score: 0.0974 - val_loss: 0.5025 - val_mape: 6.4878 - val_r2_score: 0.7415 - learning_rate: 8.0000e-04\n",
      "Epoch 184/1000\n",
      "\u001b[1m5/5\u001b[0m \u001b[32m━━━━━━━━━━━━━━━━━━━━\u001b[0m\u001b[37m\u001b[0m \u001b[1m0s\u001b[0m 64ms/step - loss: 0.8990 - mape: 15.3988 - r2_score: -0.5653 - val_loss: 0.4893 - val_mape: 6.4678 - val_r2_score: 0.7472 - learning_rate: 8.0000e-04\n",
      "Epoch 185/1000\n",
      "\u001b[1m5/5\u001b[0m \u001b[32m━━━━━━━━━━━━━━━━━━━━\u001b[0m\u001b[37m\u001b[0m \u001b[1m0s\u001b[0m 67ms/step - loss: 0.8366 - mape: 14.5626 - r2_score: -0.1992 - val_loss: 0.4720 - val_mape: 6.1016 - val_r2_score: 0.7876 - learning_rate: 8.0000e-04\n",
      "Epoch 186/1000\n",
      "\u001b[1m5/5\u001b[0m \u001b[32m━━━━━━━━━━━━━━━━━━━━\u001b[0m\u001b[37m\u001b[0m \u001b[1m0s\u001b[0m 66ms/step - loss: 0.7394 - mape: 12.0794 - r2_score: 0.1392 - val_loss: 0.4642 - val_mape: 5.9174 - val_r2_score: 0.8115 - learning_rate: 8.0000e-04\n",
      "Epoch 187/1000\n",
      "\u001b[1m5/5\u001b[0m \u001b[32m━━━━━━━━━━━━━━━━━━━━\u001b[0m\u001b[37m\u001b[0m \u001b[1m0s\u001b[0m 63ms/step - loss: 0.7516 - mape: 12.2137 - r2_score: -0.0184 - val_loss: 0.4558 - val_mape: 5.6360 - val_r2_score: 0.8267 - learning_rate: 8.0000e-04\n",
      "Epoch 188/1000\n",
      "\u001b[1m5/5\u001b[0m \u001b[32m━━━━━━━━━━━━━━━━━━━━\u001b[0m\u001b[37m\u001b[0m \u001b[1m0s\u001b[0m 63ms/step - loss: 0.8060 - mape: 13.1673 - r2_score: -0.0265 - val_loss: 0.4536 - val_mape: 5.5551 - val_r2_score: 0.8203 - learning_rate: 8.0000e-04\n",
      "Epoch 189/1000\n",
      "\u001b[1m5/5\u001b[0m \u001b[32m━━━━━━━━━━━━━━━━━━━━\u001b[0m\u001b[37m\u001b[0m \u001b[1m0s\u001b[0m 64ms/step - loss: 0.7312 - mape: 11.5084 - r2_score: 0.1310 - val_loss: 0.4679 - val_mape: 5.8419 - val_r2_score: 0.8019 - learning_rate: 8.0000e-04\n",
      "Epoch 190/1000\n",
      "\u001b[1m5/5\u001b[0m \u001b[32m━━━━━━━━━━━━━━━━━━━━\u001b[0m\u001b[37m\u001b[0m \u001b[1m0s\u001b[0m 70ms/step - loss: 0.9032 - mape: 15.7192 - r2_score: -0.3742 - val_loss: 0.4638 - val_mape: 5.8773 - val_r2_score: 0.8011 - learning_rate: 8.0000e-04\n",
      "Epoch 191/1000\n",
      "\u001b[1m5/5\u001b[0m \u001b[32m━━━━━━━━━━━━━━━━━━━━\u001b[0m\u001b[37m\u001b[0m \u001b[1m0s\u001b[0m 65ms/step - loss: 0.7774 - mape: 12.3280 - r2_score: 0.0704 - val_loss: 0.4894 - val_mape: 6.6269 - val_r2_score: 0.7742 - learning_rate: 8.0000e-04\n",
      "Epoch 192/1000\n",
      "\u001b[1m5/5\u001b[0m \u001b[32m━━━━━━━━━━━━━━━━━━━━\u001b[0m\u001b[37m\u001b[0m \u001b[1m0s\u001b[0m 66ms/step - loss: 0.7999 - mape: 13.0129 - r2_score: -0.1355 - val_loss: 0.5166 - val_mape: 7.2694 - val_r2_score: 0.7514 - learning_rate: 8.0000e-04\n",
      "Epoch 193/1000\n",
      "\u001b[1m5/5\u001b[0m \u001b[32m━━━━━━━━━━━━━━━━━━━━\u001b[0m\u001b[37m\u001b[0m \u001b[1m0s\u001b[0m 63ms/step - loss: 0.7514 - mape: 12.2761 - r2_score: 0.0611 - val_loss: 0.4992 - val_mape: 6.8320 - val_r2_score: 0.7659 - learning_rate: 8.0000e-04\n",
      "Epoch 194/1000\n",
      "\u001b[1m5/5\u001b[0m \u001b[32m━━━━━━━━━━━━━━━━━━━━\u001b[0m\u001b[37m\u001b[0m \u001b[1m0s\u001b[0m 64ms/step - loss: 0.7186 - mape: 12.0683 - r2_score: 0.0216 - val_loss: 0.4915 - val_mape: 6.5111 - val_r2_score: 0.7764 - learning_rate: 8.0000e-04\n",
      "Epoch 195/1000\n",
      "\u001b[1m5/5\u001b[0m \u001b[32m━━━━━━━━━━━━━━━━━━━━\u001b[0m\u001b[37m\u001b[0m \u001b[1m0s\u001b[0m 64ms/step - loss: 0.7286 - mape: 11.8487 - r2_score: 0.2289 - val_loss: 0.4872 - val_mape: 6.3399 - val_r2_score: 0.7707 - learning_rate: 8.0000e-04\n",
      "Epoch 196/1000\n",
      "\u001b[1m5/5\u001b[0m \u001b[32m━━━━━━━━━━━━━━━━━━━━\u001b[0m\u001b[37m\u001b[0m \u001b[1m0s\u001b[0m 64ms/step - loss: 0.9117 - mape: 16.2860 - r2_score: -0.6778 - val_loss: 0.4920 - val_mape: 6.5476 - val_r2_score: 0.7423 - learning_rate: 8.0000e-04\n",
      "Epoch 197/1000\n",
      "\u001b[1m5/5\u001b[0m \u001b[32m━━━━━━━━━━━━━━━━━━━━\u001b[0m\u001b[37m\u001b[0m \u001b[1m0s\u001b[0m 63ms/step - loss: 0.7969 - mape: 13.4736 - r2_score: 0.0231 - val_loss: 0.5235 - val_mape: 7.3218 - val_r2_score: 0.6978 - learning_rate: 8.0000e-04\n",
      "Epoch 198/1000\n",
      "\u001b[1m5/5\u001b[0m \u001b[32m━━━━━━━━━━━━━━━━━━━━\u001b[0m\u001b[37m\u001b[0m \u001b[1m0s\u001b[0m 64ms/step - loss: 0.7005 - mape: 11.1067 - r2_score: 0.1977 - val_loss: 0.5332 - val_mape: 7.5660 - val_r2_score: 0.6848 - learning_rate: 8.0000e-04\n",
      "Epoch 199/1000\n",
      "\u001b[1m5/5\u001b[0m \u001b[32m━━━━━━━━━━━━━━━━━━━━\u001b[0m\u001b[37m\u001b[0m \u001b[1m0s\u001b[0m 66ms/step - loss: 0.8274 - mape: 14.1819 - r2_score: -0.3135 - val_loss: 0.5039 - val_mape: 6.9034 - val_r2_score: 0.7205 - learning_rate: 8.0000e-04\n",
      "Epoch 200/1000\n",
      "\u001b[1m5/5\u001b[0m \u001b[32m━━━━━━━━━━━━━━━━━━━━\u001b[0m\u001b[37m\u001b[0m \u001b[1m0s\u001b[0m 65ms/step - loss: 0.8409 - mape: 13.8628 - r2_score: -0.3344 - val_loss: 0.4469 - val_mape: 5.4470 - val_r2_score: 0.8281 - learning_rate: 8.0000e-04\n",
      "Epoch 201/1000\n",
      "\u001b[1m5/5\u001b[0m \u001b[32m━━━━━━━━━━━━━━━━━━━━\u001b[0m\u001b[37m\u001b[0m \u001b[1m0s\u001b[0m 65ms/step - loss: 0.6959 - mape: 11.6011 - r2_score: 0.2130 - val_loss: 0.5288 - val_mape: 7.0400 - val_r2_score: 0.7719 - learning_rate: 8.0000e-04\n",
      "Epoch 202/1000\n",
      "\u001b[1m5/5\u001b[0m \u001b[32m━━━━━━━━━━━━━━━━━━━━\u001b[0m\u001b[37m\u001b[0m \u001b[1m0s\u001b[0m 64ms/step - loss: 0.8551 - mape: 14.3737 - r2_score: -0.1615 - val_loss: 0.5518 - val_mape: 7.3877 - val_r2_score: 0.7305 - learning_rate: 8.0000e-04\n",
      "Epoch 203/1000\n",
      "\u001b[1m5/5\u001b[0m \u001b[32m━━━━━━━━━━━━━━━━━━━━\u001b[0m\u001b[37m\u001b[0m \u001b[1m0s\u001b[0m 64ms/step - loss: 0.8077 - mape: 13.7281 - r2_score: -0.0454 - val_loss: 0.4900 - val_mape: 6.0840 - val_r2_score: 0.7968 - learning_rate: 8.0000e-04\n",
      "Epoch 204/1000\n",
      "\u001b[1m5/5\u001b[0m \u001b[32m━━━━━━━━━━━━━━━━━━━━\u001b[0m\u001b[37m\u001b[0m \u001b[1m0s\u001b[0m 63ms/step - loss: 0.8456 - mape: 14.4273 - r2_score: -0.4549 - val_loss: 0.5214 - val_mape: 7.0252 - val_r2_score: 0.7707 - learning_rate: 8.0000e-04\n",
      "Epoch 205/1000\n",
      "\u001b[1m5/5\u001b[0m \u001b[32m━━━━━━━━━━━━━━━━━━━━\u001b[0m\u001b[37m\u001b[0m \u001b[1m0s\u001b[0m 64ms/step - loss: 0.7983 - mape: 13.0933 - r2_score: 0.0177 - val_loss: 0.5254 - val_mape: 7.2635 - val_r2_score: 0.7474 - learning_rate: 8.0000e-04\n",
      "Epoch 206/1000\n",
      "\u001b[1m5/5\u001b[0m \u001b[32m━━━━━━━━━━━━━━━━━━━━\u001b[0m\u001b[37m\u001b[0m \u001b[1m0s\u001b[0m 65ms/step - loss: 0.7916 - mape: 13.0149 - r2_score: 0.0241 - val_loss: 0.5204 - val_mape: 6.9635 - val_r2_score: 0.7668 - learning_rate: 8.0000e-04\n",
      "Epoch 207/1000\n",
      "\u001b[1m5/5\u001b[0m \u001b[32m━━━━━━━━━━━━━━━━━━━━\u001b[0m\u001b[37m\u001b[0m \u001b[1m0s\u001b[0m 63ms/step - loss: 0.8075 - mape: 13.5083 - r2_score: -0.0058 - val_loss: 0.4944 - val_mape: 6.2777 - val_r2_score: 0.7902 - learning_rate: 8.0000e-04\n",
      "Epoch 208/1000\n",
      "\u001b[1m5/5\u001b[0m \u001b[32m━━━━━━━━━━━━━━━━━━━━\u001b[0m\u001b[37m\u001b[0m \u001b[1m0s\u001b[0m 64ms/step - loss: 0.6490 - mape: 10.0279 - r2_score: 0.3138 - val_loss: 0.5053 - val_mape: 6.7044 - val_r2_score: 0.7784 - learning_rate: 8.0000e-04\n",
      "Epoch 209/1000\n",
      "\u001b[1m5/5\u001b[0m \u001b[32m━━━━━━━━━━━━━━━━━━━━\u001b[0m\u001b[37m\u001b[0m \u001b[1m0s\u001b[0m 64ms/step - loss: 0.8217 - mape: 14.0882 - r2_score: -0.0595 - val_loss: 0.5548 - val_mape: 7.9775 - val_r2_score: 0.7329 - learning_rate: 8.0000e-04\n",
      "Epoch 210/1000\n",
      "\u001b[1m5/5\u001b[0m \u001b[32m━━━━━━━━━━━━━━━━━━━━\u001b[0m\u001b[37m\u001b[0m \u001b[1m0s\u001b[0m 64ms/step - loss: 0.7344 - mape: 12.0713 - r2_score: 0.0901 - val_loss: 0.5976 - val_mape: 8.7007 - val_r2_score: 0.6686 - learning_rate: 8.0000e-04\n",
      "Epoch 211/1000\n",
      "\u001b[1m5/5\u001b[0m \u001b[32m━━━━━━━━━━━━━━━━━━━━\u001b[0m\u001b[37m\u001b[0m \u001b[1m0s\u001b[0m 63ms/step - loss: 0.7986 - mape: 13.4472 - r2_score: 0.0312 - val_loss: 0.5786 - val_mape: 7.9495 - val_r2_score: 0.6683 - learning_rate: 8.0000e-04\n",
      "Epoch 212/1000\n",
      "\u001b[1m5/5\u001b[0m \u001b[32m━━━━━━━━━━━━━━━━━━━━\u001b[0m\u001b[37m\u001b[0m \u001b[1m0s\u001b[0m 66ms/step - loss: 0.8614 - mape: 14.6887 - r2_score: -0.2568 - val_loss: 0.4999 - val_mape: 6.2045 - val_r2_score: 0.7744 - learning_rate: 8.0000e-04\n",
      "Epoch 213/1000\n",
      "\u001b[1m5/5\u001b[0m \u001b[32m━━━━━━━━━━━━━━━━━━━━\u001b[0m\u001b[37m\u001b[0m \u001b[1m0s\u001b[0m 64ms/step - loss: 0.7151 - mape: 11.4059 - r2_score: 0.1078 - val_loss: 0.4596 - val_mape: 5.5863 - val_r2_score: 0.8128 - learning_rate: 8.0000e-04\n",
      "Epoch 214/1000\n",
      "\u001b[1m5/5\u001b[0m \u001b[32m━━━━━━━━━━━━━━━━━━━━\u001b[0m\u001b[37m\u001b[0m \u001b[1m0s\u001b[0m 64ms/step - loss: 0.6932 - mape: 11.1191 - r2_score: 0.2868 - val_loss: 0.4726 - val_mape: 6.0998 - val_r2_score: 0.7998 - learning_rate: 8.0000e-04\n",
      "Epoch 215/1000\n",
      "\u001b[1m5/5\u001b[0m \u001b[32m━━━━━━━━━━━━━━━━━━━━\u001b[0m\u001b[37m\u001b[0m \u001b[1m0s\u001b[0m 65ms/step - loss: 0.6587 - mape: 10.3416 - r2_score: 0.1608 - val_loss: 0.5031 - val_mape: 6.8183 - val_r2_score: 0.7591 - learning_rate: 8.0000e-04\n",
      "Epoch 216/1000\n",
      "\u001b[1m5/5\u001b[0m \u001b[32m━━━━━━━━━━━━━━━━━━━━\u001b[0m\u001b[37m\u001b[0m \u001b[1m0s\u001b[0m 64ms/step - loss: 0.7737 - mape: 12.5814 - r2_score: -0.0188 - val_loss: 0.5257 - val_mape: 6.7638 - val_r2_score: 0.7407 - learning_rate: 8.0000e-04\n",
      "Epoch 217/1000\n",
      "\u001b[1m5/5\u001b[0m \u001b[32m━━━━━━━━━━━━━━━━━━━━\u001b[0m\u001b[37m\u001b[0m \u001b[1m0s\u001b[0m 63ms/step - loss: 0.7265 - mape: 11.3889 - r2_score: 0.0949 - val_loss: 0.5668 - val_mape: 7.3976 - val_r2_score: 0.6565 - learning_rate: 8.0000e-04\n",
      "Epoch 218/1000\n",
      "\u001b[1m5/5\u001b[0m \u001b[32m━━━━━━━━━━━━━━━━━━━━\u001b[0m\u001b[37m\u001b[0m \u001b[1m0s\u001b[0m 64ms/step - loss: 0.7594 - mape: 12.4031 - r2_score: -0.0875 - val_loss: 0.5647 - val_mape: 7.3574 - val_r2_score: 0.6727 - learning_rate: 8.0000e-04\n",
      "Epoch 219/1000\n",
      "\u001b[1m5/5\u001b[0m \u001b[32m━━━━━━━━━━━━━━━━━━━━\u001b[0m\u001b[37m\u001b[0m \u001b[1m0s\u001b[0m 66ms/step - loss: 0.8266 - mape: 14.0962 - r2_score: -0.1161 - val_loss: 0.5342 - val_mape: 7.1860 - val_r2_score: 0.7469 - learning_rate: 8.0000e-04\n",
      "Epoch 220/1000\n",
      "\u001b[1m5/5\u001b[0m \u001b[32m━━━━━━━━━━━━━━━━━━━━\u001b[0m\u001b[37m\u001b[0m \u001b[1m0s\u001b[0m 64ms/step - loss: 0.7304 - mape: 12.1360 - r2_score: 0.0951 - val_loss: 0.4999 - val_mape: 6.7265 - val_r2_score: 0.7768 - learning_rate: 8.0000e-04\n",
      "Epoch 221/1000\n",
      "\u001b[1m5/5\u001b[0m \u001b[32m━━━━━━━━━━━━━━━━━━━━\u001b[0m\u001b[37m\u001b[0m \u001b[1m0s\u001b[0m 64ms/step - loss: 0.7570 - mape: 12.5972 - r2_score: 0.0808 - val_loss: 0.5026 - val_mape: 6.9268 - val_r2_score: 0.7609 - learning_rate: 8.0000e-04\n",
      "Epoch 222/1000\n",
      "\u001b[1m5/5\u001b[0m \u001b[32m━━━━━━━━━━━━━━━━━━━━\u001b[0m\u001b[37m\u001b[0m \u001b[1m0s\u001b[0m 64ms/step - loss: 0.7515 - mape: 12.3572 - r2_score: 0.0515 - val_loss: 0.4907 - val_mape: 6.6134 - val_r2_score: 0.7786 - learning_rate: 8.0000e-04\n",
      "Epoch 223/1000\n",
      "\u001b[1m5/5\u001b[0m \u001b[32m━━━━━━━━━━━━━━━━━━━━\u001b[0m\u001b[37m\u001b[0m \u001b[1m0s\u001b[0m 73ms/step - loss: 0.7759 - mape: 12.6992 - r2_score: 0.0810 - val_loss: 0.5019 - val_mape: 6.6102 - val_r2_score: 0.7887 - learning_rate: 8.0000e-04\n",
      "Epoch 224/1000\n",
      "\u001b[1m5/5\u001b[0m \u001b[32m━━━━━━━━━━━━━━━━━━━━\u001b[0m\u001b[37m\u001b[0m \u001b[1m0s\u001b[0m 66ms/step - loss: 0.7464 - mape: 11.9796 - r2_score: -0.0476 - val_loss: 0.5047 - val_mape: 6.3662 - val_r2_score: 0.7780 - learning_rate: 8.0000e-04\n",
      "Epoch 225/1000\n",
      "\u001b[1m5/5\u001b[0m \u001b[32m━━━━━━━━━━━━━━━━━━━━\u001b[0m\u001b[37m\u001b[0m \u001b[1m0s\u001b[0m 66ms/step - loss: 0.7753 - mape: 12.7069 - r2_score: -0.0160 - val_loss: 0.5091 - val_mape: 6.3865 - val_r2_score: 0.7636 - learning_rate: 8.0000e-04\n",
      "Epoch 226/1000\n",
      "\u001b[1m5/5\u001b[0m \u001b[32m━━━━━━━━━━━━━━━━━━━━\u001b[0m\u001b[37m\u001b[0m \u001b[1m0s\u001b[0m 64ms/step - loss: 0.7607 - mape: 12.4315 - r2_score: 0.0659 - val_loss: 0.5200 - val_mape: 6.7796 - val_r2_score: 0.7624 - learning_rate: 8.0000e-04\n",
      "Epoch 227/1000\n",
      "\u001b[1m5/5\u001b[0m \u001b[32m━━━━━━━━━━━━━━━━━━━━\u001b[0m\u001b[37m\u001b[0m \u001b[1m0s\u001b[0m 64ms/step - loss: 0.6972 - mape: 11.2231 - r2_score: 0.1200 - val_loss: 0.5047 - val_mape: 6.4114 - val_r2_score: 0.7795 - learning_rate: 8.0000e-04\n",
      "Epoch 228/1000\n",
      "\u001b[1m5/5\u001b[0m \u001b[32m━━━━━━━━━━━━━━━━━━━━\u001b[0m\u001b[37m\u001b[0m \u001b[1m0s\u001b[0m 64ms/step - loss: 0.7009 - mape: 11.2534 - r2_score: 0.1986 - val_loss: 0.4677 - val_mape: 5.5990 - val_r2_score: 0.8143 - learning_rate: 8.0000e-04\n",
      "Epoch 229/1000\n",
      "\u001b[1m5/5\u001b[0m \u001b[32m━━━━━━━━━━━━━━━━━━━━\u001b[0m\u001b[37m\u001b[0m \u001b[1m0s\u001b[0m 65ms/step - loss: 0.8204 - mape: 13.7237 - r2_score: -0.2825 - val_loss: 0.4845 - val_mape: 6.0696 - val_r2_score: 0.8049 - learning_rate: 8.0000e-04\n",
      "Epoch 230/1000\n",
      "\u001b[1m5/5\u001b[0m \u001b[32m━━━━━━━━━━━━━━━━━━━━\u001b[0m\u001b[37m\u001b[0m \u001b[1m0s\u001b[0m 64ms/step - loss: 0.7604 - mape: 12.5641 - r2_score: -0.0022 - val_loss: 0.4783 - val_mape: 6.0456 - val_r2_score: 0.8078 - learning_rate: 8.0000e-04\n",
      "Epoch 231/1000\n",
      "\u001b[1m5/5\u001b[0m \u001b[32m━━━━━━━━━━━━━━━━━━━━\u001b[0m\u001b[37m\u001b[0m \u001b[1m0s\u001b[0m 64ms/step - loss: 0.8013 - mape: 13.1516 - r2_score: -0.1329 - val_loss: 0.4542 - val_mape: 5.5011 - val_r2_score: 0.8083 - learning_rate: 8.0000e-04\n",
      "Epoch 232/1000\n",
      "\u001b[1m5/5\u001b[0m \u001b[32m━━━━━━━━━━━━━━━━━━━━\u001b[0m\u001b[37m\u001b[0m \u001b[1m0s\u001b[0m 66ms/step - loss: 0.6867 - mape: 11.1041 - r2_score: 0.2214 - val_loss: 0.4748 - val_mape: 6.2061 - val_r2_score: 0.7801 - learning_rate: 8.0000e-04\n",
      "Epoch 233/1000\n",
      "\u001b[1m5/5\u001b[0m \u001b[32m━━━━━━━━━━━━━━━━━━━━\u001b[0m\u001b[37m\u001b[0m \u001b[1m0s\u001b[0m 64ms/step - loss: 0.7887 - mape: 13.4437 - r2_score: -0.0206 - val_loss: 0.5374 - val_mape: 7.7660 - val_r2_score: 0.6743 - learning_rate: 8.0000e-04\n",
      "Epoch 234/1000\n",
      "\u001b[1m5/5\u001b[0m \u001b[32m━━━━━━━━━━━━━━━━━━━━\u001b[0m\u001b[37m\u001b[0m \u001b[1m0s\u001b[0m 65ms/step - loss: 0.7378 - mape: 12.0535 - r2_score: 0.0608 - val_loss: 0.5336 - val_mape: 7.6313 - val_r2_score: 0.6817 - learning_rate: 8.0000e-04\n",
      "Epoch 235/1000\n",
      "\u001b[1m5/5\u001b[0m \u001b[32m━━━━━━━━━━━━━━━━━━━━\u001b[0m\u001b[37m\u001b[0m \u001b[1m0s\u001b[0m 65ms/step - loss: 0.8428 - mape: 14.1650 - r2_score: -0.0852 - val_loss: 0.4890 - val_mape: 6.5131 - val_r2_score: 0.7534 - learning_rate: 8.0000e-04\n",
      "Epoch 236/1000\n",
      "\u001b[1m5/5\u001b[0m \u001b[32m━━━━━━━━━━━━━━━━━━━━\u001b[0m\u001b[37m\u001b[0m \u001b[1m0s\u001b[0m 64ms/step - loss: 0.7346 - mape: 11.9720 - r2_score: 0.0562 - val_loss: 0.4837 - val_mape: 6.0669 - val_r2_score: 0.7938 - learning_rate: 8.0000e-04\n",
      "Epoch 237/1000\n",
      "\u001b[1m5/5\u001b[0m \u001b[32m━━━━━━━━━━━━━━━━━━━━\u001b[0m\u001b[37m\u001b[0m \u001b[1m0s\u001b[0m 63ms/step - loss: 0.7906 - mape: 13.0681 - r2_score: -0.0820 - val_loss: 0.4873 - val_mape: 6.0119 - val_r2_score: 0.7909 - learning_rate: 8.0000e-04\n",
      "Epoch 238/1000\n",
      "\u001b[1m5/5\u001b[0m \u001b[32m━━━━━━━━━━━━━━━━━━━━\u001b[0m\u001b[37m\u001b[0m \u001b[1m0s\u001b[0m 64ms/step - loss: 0.7689 - mape: 12.7788 - r2_score: -0.0110 - val_loss: 0.4820 - val_mape: 5.8039 - val_r2_score: 0.7854 - learning_rate: 8.0000e-04\n",
      "Epoch 239/1000\n",
      "\u001b[1m5/5\u001b[0m \u001b[32m━━━━━━━━━━━━━━━━━━━━\u001b[0m\u001b[37m\u001b[0m \u001b[1m0s\u001b[0m 67ms/step - loss: 0.6444 - mape: 9.8717 - r2_score: 0.3548 - val_loss: 0.4921 - val_mape: 6.0451 - val_r2_score: 0.7757 - learning_rate: 8.0000e-04\n",
      "Epoch 240/1000\n",
      "\u001b[1m5/5\u001b[0m \u001b[32m━━━━━━━━━━━━━━━━━━━━\u001b[0m\u001b[37m\u001b[0m \u001b[1m0s\u001b[0m 64ms/step - loss: 0.7068 - mape: 11.1227 - r2_score: 0.1430 - val_loss: 0.4736 - val_mape: 5.6413 - val_r2_score: 0.7861 - learning_rate: 8.0000e-04\n",
      "Epoch 241/1000\n",
      "\u001b[1m5/5\u001b[0m \u001b[32m━━━━━━━━━━━━━━━━━━━━\u001b[0m\u001b[37m\u001b[0m \u001b[1m0s\u001b[0m 65ms/step - loss: 0.7268 - mape: 11.7941 - r2_score: 0.1107 - val_loss: 0.4926 - val_mape: 6.3079 - val_r2_score: 0.7751 - learning_rate: 8.0000e-04\n",
      "Epoch 242/1000\n",
      "\u001b[1m5/5\u001b[0m \u001b[32m━━━━━━━━━━━━━━━━━━━━\u001b[0m\u001b[37m\u001b[0m \u001b[1m0s\u001b[0m 65ms/step - loss: 0.7495 - mape: 12.5404 - r2_score: 0.0706 - val_loss: 0.5275 - val_mape: 7.2320 - val_r2_score: 0.7279 - learning_rate: 6.4000e-04\n",
      "Epoch 243/1000\n",
      "\u001b[1m5/5\u001b[0m \u001b[32m━━━━━━━━━━━━━━━━━━━━\u001b[0m\u001b[37m\u001b[0m \u001b[1m0s\u001b[0m 65ms/step - loss: 0.6253 - mape: 9.6624 - r2_score: 0.4094 - val_loss: 0.5444 - val_mape: 7.6119 - val_r2_score: 0.7112 - learning_rate: 6.4000e-04\n",
      "Epoch 244/1000\n",
      "\u001b[1m5/5\u001b[0m \u001b[32m━━━━━━━━━━━━━━━━━━━━\u001b[0m\u001b[37m\u001b[0m \u001b[1m0s\u001b[0m 64ms/step - loss: 0.6599 - mape: 10.7792 - r2_score: 0.2470 - val_loss: 0.5386 - val_mape: 7.5225 - val_r2_score: 0.7303 - learning_rate: 6.4000e-04\n",
      "Epoch 245/1000\n",
      "\u001b[1m5/5\u001b[0m \u001b[32m━━━━━━━━━━━━━━━━━━━━\u001b[0m\u001b[37m\u001b[0m \u001b[1m0s\u001b[0m 65ms/step - loss: 0.6933 - mape: 10.9198 - r2_score: 0.1512 - val_loss: 0.5223 - val_mape: 7.3241 - val_r2_score: 0.7277 - learning_rate: 6.4000e-04\n",
      "Epoch 246/1000\n",
      "\u001b[1m5/5\u001b[0m \u001b[32m━━━━━━━━━━━━━━━━━━━━\u001b[0m\u001b[37m\u001b[0m \u001b[1m0s\u001b[0m 64ms/step - loss: 0.7746 - mape: 13.1631 - r2_score: -0.0993 - val_loss: 0.4672 - val_mape: 5.9794 - val_r2_score: 0.7998 - learning_rate: 6.4000e-04\n",
      "Epoch 247/1000\n",
      "\u001b[1m5/5\u001b[0m \u001b[32m━━━━━━━━━━━━━━━━━━━━\u001b[0m\u001b[37m\u001b[0m \u001b[1m0s\u001b[0m 64ms/step - loss: 0.7244 - mape: 11.6582 - r2_score: 0.1574 - val_loss: 0.4400 - val_mape: 5.4849 - val_r2_score: 0.8237 - learning_rate: 6.4000e-04\n",
      "Epoch 248/1000\n",
      "\u001b[1m5/5\u001b[0m \u001b[32m━━━━━━━━━━━━━━━━━━━━\u001b[0m\u001b[37m\u001b[0m \u001b[1m0s\u001b[0m 64ms/step - loss: 0.6880 - mape: 10.9439 - r2_score: 0.2553 - val_loss: 0.4433 - val_mape: 5.5826 - val_r2_score: 0.8270 - learning_rate: 6.4000e-04\n",
      "Epoch 249/1000\n",
      "\u001b[1m5/5\u001b[0m \u001b[32m━━━━━━━━━━━━━━━━━━━━\u001b[0m\u001b[37m\u001b[0m \u001b[1m0s\u001b[0m 63ms/step - loss: 0.7105 - mape: 11.3365 - r2_score: 0.1769 - val_loss: 0.4553 - val_mape: 5.6287 - val_r2_score: 0.8282 - learning_rate: 6.4000e-04\n",
      "Epoch 250/1000\n",
      "\u001b[1m5/5\u001b[0m \u001b[32m━━━━━━━━━━━━━━━━━━━━\u001b[0m\u001b[37m\u001b[0m \u001b[1m0s\u001b[0m 64ms/step - loss: 0.7970 - mape: 13.5341 - r2_score: -0.1486 - val_loss: 0.4782 - val_mape: 6.1175 - val_r2_score: 0.8097 - learning_rate: 6.4000e-04\n",
      "Epoch 251/1000\n",
      "\u001b[1m5/5\u001b[0m \u001b[32m━━━━━━━━━━━━━━━━━━━━\u001b[0m\u001b[37m\u001b[0m \u001b[1m0s\u001b[0m 64ms/step - loss: 0.7649 - mape: 12.7190 - r2_score: -0.0134 - val_loss: 0.4809 - val_mape: 6.3208 - val_r2_score: 0.7944 - learning_rate: 6.4000e-04\n",
      "Epoch 252/1000\n",
      "\u001b[1m5/5\u001b[0m \u001b[32m━━━━━━━━━━━━━━━━━━━━\u001b[0m\u001b[37m\u001b[0m \u001b[1m0s\u001b[0m 65ms/step - loss: 0.7729 - mape: 12.9786 - r2_score: -0.1651 - val_loss: 0.4900 - val_mape: 6.6903 - val_r2_score: 0.7516 - learning_rate: 6.4000e-04\n",
      "Epoch 253/1000\n",
      "\u001b[1m5/5\u001b[0m \u001b[32m━━━━━━━━━━━━━━━━━━━━\u001b[0m\u001b[37m\u001b[0m \u001b[1m0s\u001b[0m 64ms/step - loss: 0.7844 - mape: 13.4458 - r2_score: -0.1024 - val_loss: 0.4956 - val_mape: 6.7907 - val_r2_score: 0.7443 - learning_rate: 6.4000e-04\n",
      "Epoch 254/1000\n",
      "\u001b[1m5/5\u001b[0m \u001b[32m━━━━━━━━━━━━━━━━━━━━\u001b[0m\u001b[37m\u001b[0m \u001b[1m0s\u001b[0m 64ms/step - loss: 0.7015 - mape: 11.2477 - r2_score: 0.0551 - val_loss: 0.4624 - val_mape: 5.9235 - val_r2_score: 0.7924 - learning_rate: 6.4000e-04\n",
      "Epoch 255/1000\n",
      "\u001b[1m5/5\u001b[0m \u001b[32m━━━━━━━━━━━━━━━━━━━━\u001b[0m\u001b[37m\u001b[0m \u001b[1m0s\u001b[0m 64ms/step - loss: 0.6576 - mape: 10.6958 - r2_score: 0.3119 - val_loss: 0.4822 - val_mape: 6.2734 - val_r2_score: 0.8014 - learning_rate: 6.4000e-04\n",
      "Epoch 256/1000\n",
      "\u001b[1m5/5\u001b[0m \u001b[32m━━━━━━━━━━━━━━━━━━━━\u001b[0m\u001b[37m\u001b[0m \u001b[1m0s\u001b[0m 64ms/step - loss: 0.7565 - mape: 12.4872 - r2_score: -0.0272 - val_loss: 0.4781 - val_mape: 6.2207 - val_r2_score: 0.8122 - learning_rate: 6.4000e-04\n",
      "Epoch 257/1000\n",
      "\u001b[1m5/5\u001b[0m \u001b[32m━━━━━━━━━━━━━━━━━━━━\u001b[0m\u001b[37m\u001b[0m \u001b[1m0s\u001b[0m 64ms/step - loss: 0.8216 - mape: 13.9689 - r2_score: -0.2510 - val_loss: 0.4566 - val_mape: 5.7393 - val_r2_score: 0.8264 - learning_rate: 6.4000e-04\n",
      "Time for training:     1.0000s\n"
     ]
    }
   ],
   "source": [
    "model_trained = model_training(model_DNN,\n",
    "                               folder_path = final_path,\n",
    "                               batch_size = 12,\n",
    "                               num_epochs = 1000,\n",
    "                               x_train = x_train,\n",
    "                               y_train = y_train,\n",
    "                               x_val = x_test,\n",
    "                               y_val = y_test,\n",
    "                               callbacks = callbacks)"
   ]
  },
  {
   "cell_type": "markdown",
   "metadata": {
    "id": "LtfHyGNzF48o"
   },
   "source": [
    "## Save Model"
   ]
  },
  {
   "cell_type": "code",
   "execution_count": 33,
   "metadata": {
    "colab": {
     "base_uri": "https://localhost:8080/"
    },
    "executionInfo": {
     "elapsed": 660,
     "status": "ok",
     "timestamp": 1754806386690,
     "user": {
      "displayName": "Alan Gabriel Amaro Colin",
      "userId": "17298980579619170060"
     },
     "user_tz": 360
    },
    "id": "a_1vhfmHF5wK",
    "outputId": "80a69136-88cb-48be-9823-d104a5830e23"
   },
   "outputs": [
    {
     "name": "stderr",
     "output_type": "stream",
     "text": [
      "WARNING:absl:You are saving your model as an HDF5 file via `model.save()` or `keras.saving.save_model(model)`. This file format is considered legacy. We recommend using instead the native Keras format, e.g. `model.save('my_model.keras')` or `keras.saving.save_model(model, 'my_model.keras')`. \n"
     ]
    }
   ],
   "source": [
    "model_DNN.save( os.path.join(final_path, 'model.h5') )"
   ]
  },
  {
   "cell_type": "code",
   "execution_count": 34,
   "metadata": {
    "colab": {
     "base_uri": "https://localhost:8080/",
     "height": 927
    },
    "executionInfo": {
     "elapsed": 772,
     "status": "ok",
     "timestamp": 1754806387464,
     "user": {
      "displayName": "Alan Gabriel Amaro Colin",
      "userId": "17298980579619170060"
     },
     "user_tz": 360
    },
    "id": "1G9qoHIdF-GA",
    "outputId": "8a56fa33-93ed-411a-9dbe-889179c66222"
   },
   "outputs": [
    {
     "data": {
      "image/png": "[encoded data removed]",
      "text/plain": [
       "<Figure size 640x480 with 1 Axes>"
      ]
     },
     "metadata": {},
     "output_type": "display_data"
    },
    {
     "data": {
      "image/png": "[encoded data removed]",
      "text/plain": [
       "<Figure size 640x480 with 1 Axes>"
      ]
     },
     "metadata": {},
     "output_type": "display_data"
    }
   ],
   "source": [
    "do_graphics(\n",
    "    model_trained,\n",
    "    'DNN-MI-1',\n",
    "    ('MAE', 'MAPE'),\n",
    "    final_path,\n",
    "    metric = 'mape'\n",
    ")"
   ]
  },
  {
   "cell_type": "markdown",
   "metadata": {
    "id": "_F1AbxhWGI6w"
   },
   "source": [
    "## Evaluate"
   ]
  },
  {
   "cell_type": "code",
   "execution_count": 35,
   "metadata": {
    "colab": {
     "base_uri": "https://localhost:8080/"
    },
    "executionInfo": {
     "elapsed": 138,
     "status": "ok",
     "timestamp": 1754806387612,
     "user": {
      "displayName": "Alan Gabriel Amaro Colin",
      "userId": "17298980579619170060"
     },
     "user_tz": 360
    },
    "id": "4J5wcFgrGG7a",
    "outputId": "16ea5e95-c59b-4d0b-c4d9-841d8a3b131a"
   },
   "outputs": [
    {
     "name": "stdout",
     "output_type": "stream",
     "text": [
      "\u001b[1m1/1\u001b[0m \u001b[32m━━━━━━━━━━━━━━━━━━━━\u001b[0m\u001b[37m\u001b[0m \u001b[1m0s\u001b[0m 71ms/step - loss: 0.4287 - mape: 5.0499 - r2_score: 0.8543\n",
      "-> Loss = 0.42865145206451416\n",
      "-> Test Accuracy = 5.049932479858398\n",
      "-> R2 Accuracy = 0.8543435335159302\n"
     ]
    }
   ],
   "source": [
    "loss, accuracy, _ = evaluate_model_regression(model_DNN, x_test, y_test)"
   ]
  },
  {
   "cell_type": "markdown",
   "metadata": {
    "id": "9s7QfcrKGhLa"
   },
   "source": [
    "## KDE Comparison"
   ]
  },
  {
   "cell_type": "code",
   "execution_count": 36,
   "metadata": {
    "executionInfo": {
     "elapsed": 230,
     "status": "ok",
     "timestamp": 1754806387861,
     "user": {
      "displayName": "Alan Gabriel Amaro Colin",
      "userId": "17298980579619170060"
     },
     "user_tz": 360
    },
    "id": "HPZJY1PLGtGt"
   },
   "outputs": [],
   "source": [
    "import seaborn as sns"
   ]
  },
  {
   "cell_type": "code",
   "execution_count": 37,
   "metadata": {
    "colab": {
     "base_uri": "https://localhost:8080/",
     "height": 385
    },
    "executionInfo": {
     "elapsed": 844,
     "status": "ok",
     "timestamp": 1754806388692,
     "user": {
      "displayName": "Alan Gabriel Amaro Colin",
      "userId": "17298980579619170060"
     },
     "user_tz": 360
    },
    "id": "wgU2IH7IGiXL",
    "outputId": "e41150e6-6212-47db-a0a5-cf59ca47323c"
   },
   "outputs": [
    {
     "name": "stdout",
     "output_type": "stream",
     "text": [
      "\u001b[1m1/1\u001b[0m \u001b[32m━━━━━━━━━━━━━━━━━━━━\u001b[0m\u001b[37m\u001b[0m \u001b[1m0s\u001b[0m 143ms/step\n"
     ]
    },
    {
     "data": {
      "image/png": "[encoded data removed]",
      "text/plain": [
       "<Figure size 400x400 with 1 Axes>"
      ]
     },
     "metadata": {},
     "output_type": "display_data"
    }
   ],
   "source": [
    "plt.figure(figsize = (4,4))\n",
    "sns.kdeplot( model_DNN.predict(x_test), label = 'Predicted', fill= True)\n",
    "sns.kdeplot(y_test, label = 'True', fill = True)\n",
    "plt.grid()\n",
    "plt.legend()\n",
    "plt.savefig( os.path.join(final_path, 'kde.png') )\n",
    "plt.show()"
   ]
  },
  {
   "cell_type": "markdown",
   "metadata": {},
   "source": [
    "## Comparative Plot"
   ]
  },
  {
   "cell_type": "code",
   "execution_count": 38,
   "metadata": {},
   "outputs": [
    {
     "name": "stdout",
     "output_type": "stream",
     "text": [
      "\u001b[1m1/1\u001b[0m \u001b[32m━━━━━━━━━━━━━━━━━━━━\u001b[0m\u001b[37m\u001b[0m \u001b[1m0s\u001b[0m 53ms/step\n"
     ]
    },
    {
     "data": {
      "image/png": "[encoded data removed]",
      "text/plain": [
       "<Figure size 400x400 with 1 Axes>"
      ]
     },
     "metadata": {},
     "output_type": "display_data"
    }
   ],
   "source": [
    "plt.figure(figsize = (4,4))\n",
    "plt.plot([x for x in range(3, 7)], [x for x in range(3, 7)])\n",
    "plt.scatter(y_test, model_DNN.predict(x_test))\n",
    "#sns.kdeplot(y_test, label = 'True', fill = True)\n",
    "plt.grid()\n",
    "plt.title('Test Set')\n",
    "plt.savefig(os.path.join(final_path, 'test.png'))\n",
    "plt.show()"
   ]
  },
  {
   "cell_type": "code",
   "execution_count": 39,
   "metadata": {},
   "outputs": [
    {
     "data": {
      "text/plain": [
       "5"
      ]
     },
     "execution_count": 39,
     "metadata": {},
     "output_type": "execute_result"
    }
   ],
   "source": [
    "kint"
   ]
  },
  {
   "cell_type": "code",
   "execution_count": 40,
   "metadata": {},
   "outputs": [
    {
     "name": "stdout",
     "output_type": "stream",
     "text": [
      "\u001b[1m1/1\u001b[0m \u001b[32m━━━━━━━━━━━━━━━━━━━━\u001b[0m\u001b[37m\u001b[0m \u001b[1m0s\u001b[0m 66ms/step - loss: 0.4287 - mape: 5.0499 - r2_score: 0.8543\n",
      "-> Loss = 0.42865145206451416\n",
      "-> Test Accuracy = 5.049932479858398\n",
      "-> R2 Accuracy = 0.8543435335159302\n"
     ]
    }
   ],
   "source": [
    "results = np.array([ evaluate_model_regression(model_DNN, x_test, y_test) ])\n",
    "np.save('./kfolds_reg/{}'.format(kint), results)"
   ]
  },
  {
   "cell_type": "markdown",
   "metadata": {},
   "source": [
    "## Results"
   ]
  },
  {
   "cell_type": "markdown",
   "metadata": {},
   "source": [
    "-> Loss = 0.43038806319236755\n",
    "-> Test Accuracy = 8.71993350982666\n",
    "-> R2 Accuracy = 0.4706185460090637\n",
    "-> 'DNN_MI_1_FULL'"
   ]
  },
  {
   "cell_type": "markdown",
   "metadata": {},
   "source": [
    "-> Loss = 0.33492109179496765\n",
    "-> Test Accuracy = 7.291499614715576\n",
    "-> R2 Accuracy = 0.6732093095779419\n",
    "-> 'DNN_MI_1_FULL2'"
   ]
  },
  {
   "cell_type": "markdown",
   "metadata": {},
   "source": [
    "-> Loss = 0.2952897250652313\n",
    "-> Test Accuracy = 6.3148722648620605\n",
    "-> R2 Accuracy = 0.7042462825775146\n",
    "-> 3"
   ]
  }
 ],
 "metadata": {
  "colab": {
   "authorship_tag": "ABX9TyPGnKoyfso1VK2rJhSn9brq",
   "mount_file_id": "1oAGWlf-SZH58jEakX1pZwdDPfXrMUo5n",
   "provenance": []
  },
  "kernelspec": {
   "display_name": "Python 3 (ipykernel)",
   "language": "python",
   "name": "python3"
  },
  "language_info": {
   "codemirror_mode": {
    "name": "ipython",
    "version": 3
   },
   "file_extension": ".py",
   "mimetype": "text/x-python",
   "name": "python",
   "nbconvert_exporter": "python",
   "pygments_lexer": "ipython3",
   "version": "3.9.23"
  }
 },
 "nbformat": 4,
 "nbformat_minor": 4
}
