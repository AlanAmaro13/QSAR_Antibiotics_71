{
 "cells": [
  {
   "cell_type": "markdown",
   "metadata": {},
   "source": [
    "# Dense Neural Networks"
   ]
  },
  {
   "cell_type": "markdown",
   "metadata": {},
   "source": [
    "Hello there!\n",
    "\n",
    "In the previous approach we have considered a linear estimation for the bio-activity. Our result presents an average $R^{2}=0.62$ and a MAPE of $7.19$ In this notebook, we present a new approach by the use of Deep Neural Networks, in this initial case we use only Dense Layers or a Feed Forward. The descriptors used are obtained by the use of Mutual Information (MI). We've first selected those descriptors with a higher mutual than $0.4$, where we've reduced the dimension from 1200 to just 99 descriptors.\n",
    "\n",
    "Then, we have selected from the 99 descriptors the one descriptor with the highest MI (piPC4) and have selected two variables that are independent among them. This means, the MI values among them is the lowest value possible."
   ]
  },
  {
   "cell_type": "markdown",
   "metadata": {},
   "source": [
    "## Used libraries"
   ]
  },
  {
   "cell_type": "code",
   "execution_count": 1,
   "metadata": {},
   "outputs": [],
   "source": [
    "import os\n",
    "os.environ[\"CUDA_VISIBLE_DEVICES\"] = \"-1\""
   ]
  },
  {
   "cell_type": "code",
   "execution_count": 2,
   "metadata": {},
   "outputs": [],
   "source": [
    "colab = False"
   ]
  },
  {
   "cell_type": "code",
   "execution_count": 3,
   "metadata": {
    "executionInfo": {
     "elapsed": 13,
     "status": "ok",
     "timestamp": 1754806314489,
     "user": {
      "displayName": "Alan Gabriel Amaro Colin",
      "userId": "17298980579619170060"
     },
     "user_tz": 360
    },
    "id": "B2LFMr_RRg1B"
   },
   "outputs": [
    {
     "name": "stderr",
     "output_type": "stream",
     "text": [
      "2025-08-11 18:53:26.816483: I tensorflow/core/platform/cpu_feature_guard.cc:210] This TensorFlow binary is optimized to use available CPU instructions in performance-critical operations.\n",
      "To enable the following instructions: FMA, in other operations, rebuild TensorFlow with the appropriate compiler flags.\n",
      "2025-08-11 18:53:28.347955: W tensorflow/compiler/tf2tensorrt/utils/py_utils.cc:38] TF-TRT Warning: Could not find TensorRT\n",
      "/home/alan-amaro/miniconda3/envs/farma/lib/python3.9/site-packages/requests/__init__.py:86: RequestsDependencyWarning: Unable to find acceptable character detection dependency (chardet or charset_normalizer).\n",
      "  warnings.warn(\n"
     ]
    }
   ],
   "source": [
    "if colab: \n",
    "    import sys\n",
    "    sys.path.append('/content/drive/MyDrive/Colaboracion_Quimica/Main_Codes/AutoEncoders/AmaroX/AmaroX')\n",
    "    ! pip install python-telegram-bot\n",
    "\n",
    "    from ai_functions import *\n",
    "    from ai_models import *\n",
    "    from utilities import *\n",
    "    from data_manipulation import *\n",
    "    import pandas as pd\n",
    "else: \n",
    "    from AmaroX.AmaroX.ai_functions import *\n",
    "    from AmaroX.AmaroX.ai_models import *\n",
    "    from AmaroX.AmaroX.utilities import *\n",
    "    from AmaroX.AmaroX.data_manipulation import *\n",
    "    import pandas as pd"
   ]
  },
  {
   "cell_type": "code",
   "execution_count": 4,
   "metadata": {},
   "outputs": [],
   "source": [
    "import keras_tuner\n",
    "import sklearn"
   ]
  },
  {
   "cell_type": "markdown",
   "metadata": {
    "id": "LMM15EIAeNMM"
   },
   "source": [
    "## Data"
   ]
  },
  {
   "cell_type": "markdown",
   "metadata": {
    "id": "dHUpPc5dfJrs"
   },
   "source": [
    "The data presented here corresponds to molecules with their SMILE representation and descriptors, along with the biological activity. Let's first do a quick view of the data shape."
   ]
  },
  {
   "cell_type": "markdown",
   "metadata": {
    "id": "QLDOuzTDDoW1"
   },
   "source": [
    "* All the data presented here was obtained by colaboration with Dr. Erick Padilla at Facultad de Estudios Superiores Zaragoza - UNAM."
   ]
  },
  {
   "cell_type": "markdown",
   "metadata": {
    "id": "wx7mCiFYeP_M"
   },
   "source": [
    "### Downloading the data"
   ]
  },
  {
   "cell_type": "code",
   "execution_count": 5,
   "metadata": {
    "colab": {
     "base_uri": "https://localhost:8080/"
    },
    "executionInfo": {
     "elapsed": 5366,
     "status": "ok",
     "timestamp": 1754806339684,
     "user": {
      "displayName": "Alan Gabriel Amaro Colin",
      "userId": "17298980579619170060"
     },
     "user_tz": 360
    },
    "id": "TaqYCyF_eN_W",
    "outputId": "9d2fe30a-81b4-455f-a99e-557a868d9c81"
   },
   "outputs": [],
   "source": [
    "if colab:\n",
    "    ! gdown --id 1cHM9neEhTOZ82UU9HaZkdGdlwE1d4SJT\n",
    "    ! gdown --id 1wZp9pou63ElEYyGGjBeC2pDtscgRgCpj"
   ]
  },
  {
   "cell_type": "markdown",
   "metadata": {
    "id": "wfg2b6FNfNIP"
   },
   "source": [
    "The _data.xlsx_ file contains all the molecular descriptors from the molecule, along with a SMILE representation."
   ]
  },
  {
   "cell_type": "code",
   "execution_count": 6,
   "metadata": {
    "executionInfo": {
     "elapsed": 7645,
     "status": "ok",
     "timestamp": 1754806347350,
     "user": {
      "displayName": "Alan Gabriel Amaro Colin",
      "userId": "17298980579619170060"
     },
     "user_tz": 360
    },
    "id": "OvBcuQFXeU5y"
   },
   "outputs": [],
   "source": [
    "compounds_md = pd.read_excel(\"../Data/data.xlsx\")\n",
    "activity = pd.read_excel(\"../Data/Actividad.xlsx\")"
   ]
  },
  {
   "cell_type": "code",
   "execution_count": 7,
   "metadata": {
    "colab": {
     "base_uri": "https://localhost:8080/",
     "height": 690
    },
    "executionInfo": {
     "elapsed": 246,
     "status": "ok",
     "timestamp": 1754806347594,
     "user": {
      "displayName": "Alan Gabriel Amaro Colin",
      "userId": "17298980579619170060"
     },
     "user_tz": 360
    },
    "id": "IixnVRP-eXsd",
    "outputId": "9f8d0e08-c3b5-4144-d0c5-3133d5f0667c"
   },
   "outputs": [
    {
     "data": {
      "text/html": [
       "<div>\n",
       "<style scoped>\n",
       "    .dataframe tbody tr th:only-of-type {\n",
       "        vertical-align: middle;\n",
       "    }\n",
       "\n",
       "    .dataframe tbody tr th {\n",
       "        vertical-align: top;\n",
       "    }\n",
       "\n",
       "    .dataframe thead th {\n",
       "        text-align: right;\n",
       "    }\n",
       "</style>\n",
       "<table border=\"1\" class=\"dataframe\">\n",
       "  <thead>\n",
       "    <tr style=\"text-align: right;\">\n",
       "      <th></th>\n",
       "      <th>Cmpd</th>\n",
       "      <th>SMILES</th>\n",
       "      <th>ABC</th>\n",
       "      <th>ABCGG</th>\n",
       "      <th>nAcid</th>\n",
       "      <th>nBase</th>\n",
       "      <th>SpAbs_A</th>\n",
       "      <th>SpMax_A</th>\n",
       "      <th>SpDiam_A</th>\n",
       "      <th>SpAD_A</th>\n",
       "      <th>...</th>\n",
       "      <th>SRW10</th>\n",
       "      <th>TSRW10</th>\n",
       "      <th>MW</th>\n",
       "      <th>AMW</th>\n",
       "      <th>WPath</th>\n",
       "      <th>WPol</th>\n",
       "      <th>Zagreb1</th>\n",
       "      <th>Zagreb2</th>\n",
       "      <th>mZagreb1</th>\n",
       "      <th>mZagreb2</th>\n",
       "    </tr>\n",
       "  </thead>\n",
       "  <tbody>\n",
       "    <tr>\n",
       "      <th>0</th>\n",
       "      <td>Compuesto original</td>\n",
       "      <td>O=C(N/1)/C(SC1=N/C2=NC3=CC=C(F)C=C3S2)=C/N4CCN...</td>\n",
       "      <td>module 'numpy' has no attribute 'float'.\\n `np...</td>\n",
       "      <td>module 'numpy' has no attribute 'float'.\\n `np...</td>\n",
       "      <td>0</td>\n",
       "      <td>3</td>\n",
       "      <td>34.64084</td>\n",
       "      <td>2.428932</td>\n",
       "      <td>4.709973</td>\n",
       "      <td>34.64084</td>\n",
       "      <td>...</td>\n",
       "      <td>10.158170</td>\n",
       "      <td>78.17227</td>\n",
       "      <td>405.1093</td>\n",
       "      <td>8.619347</td>\n",
       "      <td>2138</td>\n",
       "      <td>39</td>\n",
       "      <td>146</td>\n",
       "      <td>171</td>\n",
       "      <td>8.361111</td>\n",
       "      <td>5.750000</td>\n",
       "    </tr>\n",
       "    <tr>\n",
       "      <th>1</th>\n",
       "      <td>Compound 3</td>\n",
       "      <td>O=C1NC2=CC=C([H])C=C2/C1=N\\C3=CC=CC(Br)=N3</td>\n",
       "      <td>module 'numpy' has no attribute 'float'.\\n `np...</td>\n",
       "      <td>module 'numpy' has no attribute 'float'.\\n `np...</td>\n",
       "      <td>0</td>\n",
       "      <td>0</td>\n",
       "      <td>23.43385</td>\n",
       "      <td>2.452376</td>\n",
       "      <td>4.754134</td>\n",
       "      <td>23.43385</td>\n",
       "      <td>...</td>\n",
       "      <td>9.792612</td>\n",
       "      <td>65.48686</td>\n",
       "      <td>300.9851</td>\n",
       "      <td>11.576350</td>\n",
       "      <td>599</td>\n",
       "      <td>26</td>\n",
       "      <td>96</td>\n",
       "      <td>113</td>\n",
       "      <td>5.166667</td>\n",
       "      <td>3.916667</td>\n",
       "    </tr>\n",
       "    <tr>\n",
       "      <th>2</th>\n",
       "      <td>Compound 4</td>\n",
       "      <td>O=C1NC2=CC=CC=C2/C1=N\\C3=NC4=CC(OCC)=CC=C4S3</td>\n",
       "      <td>module 'numpy' has no attribute 'float'.\\n `np...</td>\n",
       "      <td>module 'numpy' has no attribute 'float'.\\n `np...</td>\n",
       "      <td>0</td>\n",
       "      <td>0</td>\n",
       "      <td>30.43085</td>\n",
       "      <td>2.474251</td>\n",
       "      <td>4.745881</td>\n",
       "      <td>30.43085</td>\n",
       "      <td>...</td>\n",
       "      <td>10.101640</td>\n",
       "      <td>73.78306</td>\n",
       "      <td>323.0728</td>\n",
       "      <td>8.974246</td>\n",
       "      <td>1245</td>\n",
       "      <td>35</td>\n",
       "      <td>126</td>\n",
       "      <td>151</td>\n",
       "      <td>6.138889</td>\n",
       "      <td>5.027778</td>\n",
       "    </tr>\n",
       "    <tr>\n",
       "      <th>3</th>\n",
       "      <td>Compound 8</td>\n",
       "      <td>O=C1NC2=CC=C(Br)C=C2/C1=N\\C3=CC=CC(F)=N3</td>\n",
       "      <td>module 'numpy' has no attribute 'float'.\\n `np...</td>\n",
       "      <td>module 'numpy' has no attribute 'float'.\\n `np...</td>\n",
       "      <td>0</td>\n",
       "      <td>0</td>\n",
       "      <td>24.52891</td>\n",
       "      <td>2.46582</td>\n",
       "      <td>4.787297</td>\n",
       "      <td>24.52891</td>\n",
       "      <td>...</td>\n",
       "      <td>9.873183</td>\n",
       "      <td>66.82214</td>\n",
       "      <td>318.9757</td>\n",
       "      <td>12.268290</td>\n",
       "      <td>693</td>\n",
       "      <td>28</td>\n",
       "      <td>102</td>\n",
       "      <td>120</td>\n",
       "      <td>6.027778</td>\n",
       "      <td>4.083333</td>\n",
       "    </tr>\n",
       "    <tr>\n",
       "      <th>4</th>\n",
       "      <td>Compound 9</td>\n",
       "      <td>O=C1NC2=CC=C(Br)C=C2/C1=N/C3=CC([N+]([O-])=O)=...</td>\n",
       "      <td>module 'numpy' has no attribute 'float'.\\n `np...</td>\n",
       "      <td>module 'numpy' has no attribute 'float'.\\n `np...</td>\n",
       "      <td>0</td>\n",
       "      <td>0</td>\n",
       "      <td>27.00118</td>\n",
       "      <td>2.467278</td>\n",
       "      <td>4.80069</td>\n",
       "      <td>27.00118</td>\n",
       "      <td>...</td>\n",
       "      <td>9.972407</td>\n",
       "      <td>69.29945</td>\n",
       "      <td>345.9702</td>\n",
       "      <td>12.356080</td>\n",
       "      <td>929</td>\n",
       "      <td>32</td>\n",
       "      <td>112</td>\n",
       "      <td>132</td>\n",
       "      <td>7.138889</td>\n",
       "      <td>4.527778</td>\n",
       "    </tr>\n",
       "  </tbody>\n",
       "</table>\n",
       "<p>5 rows × 1828 columns</p>\n",
       "</div>"
      ],
      "text/plain": [
       "                 Cmpd                                             SMILES  \\\n",
       "0  Compuesto original  O=C(N/1)/C(SC1=N/C2=NC3=CC=C(F)C=C3S2)=C/N4CCN...   \n",
       "1          Compound 3         O=C1NC2=CC=C([H])C=C2/C1=N\\C3=CC=CC(Br)=N3   \n",
       "2          Compound 4       O=C1NC2=CC=CC=C2/C1=N\\C3=NC4=CC(OCC)=CC=C4S3   \n",
       "3          Compound 8           O=C1NC2=CC=C(Br)C=C2/C1=N\\C3=CC=CC(F)=N3   \n",
       "4          Compound 9  O=C1NC2=CC=C(Br)C=C2/C1=N/C3=CC([N+]([O-])=O)=...   \n",
       "\n",
       "                                                 ABC  \\\n",
       "0  module 'numpy' has no attribute 'float'.\\n `np...   \n",
       "1  module 'numpy' has no attribute 'float'.\\n `np...   \n",
       "2  module 'numpy' has no attribute 'float'.\\n `np...   \n",
       "3  module 'numpy' has no attribute 'float'.\\n `np...   \n",
       "4  module 'numpy' has no attribute 'float'.\\n `np...   \n",
       "\n",
       "                                               ABCGG  nAcid  nBase   SpAbs_A  \\\n",
       "0  module 'numpy' has no attribute 'float'.\\n `np...      0      3  34.64084   \n",
       "1  module 'numpy' has no attribute 'float'.\\n `np...      0      0  23.43385   \n",
       "2  module 'numpy' has no attribute 'float'.\\n `np...      0      0  30.43085   \n",
       "3  module 'numpy' has no attribute 'float'.\\n `np...      0      0  24.52891   \n",
       "4  module 'numpy' has no attribute 'float'.\\n `np...      0      0  27.00118   \n",
       "\n",
       "    SpMax_A  SpDiam_A    SpAD_A  ...      SRW10    TSRW10        MW  \\\n",
       "0  2.428932  4.709973  34.64084  ...  10.158170  78.17227  405.1093   \n",
       "1  2.452376  4.754134  23.43385  ...   9.792612  65.48686  300.9851   \n",
       "2  2.474251  4.745881  30.43085  ...  10.101640  73.78306  323.0728   \n",
       "3   2.46582  4.787297  24.52891  ...   9.873183  66.82214  318.9757   \n",
       "4  2.467278   4.80069  27.00118  ...   9.972407  69.29945  345.9702   \n",
       "\n",
       "         AMW WPath WPol Zagreb1 Zagreb2  mZagreb1  mZagreb2  \n",
       "0   8.619347  2138   39     146     171  8.361111  5.750000  \n",
       "1  11.576350   599   26      96     113  5.166667  3.916667  \n",
       "2   8.974246  1245   35     126     151  6.138889  5.027778  \n",
       "3  12.268290   693   28     102     120  6.027778  4.083333  \n",
       "4  12.356080   929   32     112     132  7.138889  4.527778  \n",
       "\n",
       "[5 rows x 1828 columns]"
      ]
     },
     "execution_count": 7,
     "metadata": {},
     "output_type": "execute_result"
    }
   ],
   "source": [
    "compounds_md.head()"
   ]
  },
  {
   "cell_type": "code",
   "execution_count": 8,
   "metadata": {
    "colab": {
     "base_uri": "https://localhost:8080/"
    },
    "executionInfo": {
     "elapsed": 152,
     "status": "ok",
     "timestamp": 1754806347984,
     "user": {
      "displayName": "Alan Gabriel Amaro Colin",
      "userId": "17298980579619170060"
     },
     "user_tz": 360
    },
    "id": "FwOMTbIfeZxe",
    "outputId": "d4e19ab7-1e86-4f28-c0cc-72e1b71f5ebc"
   },
   "outputs": [
    {
     "data": {
      "text/plain": [
       "(71, 1828)"
      ]
     },
     "execution_count": 8,
     "metadata": {},
     "output_type": "execute_result"
    }
   ],
   "source": [
    "compounds_md.shape"
   ]
  },
  {
   "cell_type": "code",
   "execution_count": 9,
   "metadata": {
    "colab": {
     "base_uri": "https://localhost:8080/",
     "height": 206
    },
    "executionInfo": {
     "elapsed": 68,
     "status": "ok",
     "timestamp": 1754806348065,
     "user": {
      "displayName": "Alan Gabriel Amaro Colin",
      "userId": "17298980579619170060"
     },
     "user_tz": 360
    },
    "id": "ab4UBiBFecAa",
    "outputId": "64071620-080b-4b49-bca8-25cc92379fd5"
   },
   "outputs": [
    {
     "data": {
      "text/html": [
       "<div>\n",
       "<style scoped>\n",
       "    .dataframe tbody tr th:only-of-type {\n",
       "        vertical-align: middle;\n",
       "    }\n",
       "\n",
       "    .dataframe tbody tr th {\n",
       "        vertical-align: top;\n",
       "    }\n",
       "\n",
       "    .dataframe thead th {\n",
       "        text-align: right;\n",
       "    }\n",
       "</style>\n",
       "<table border=\"1\" class=\"dataframe\">\n",
       "  <thead>\n",
       "    <tr style=\"text-align: right;\">\n",
       "      <th></th>\n",
       "      <th>Activity</th>\n",
       "    </tr>\n",
       "  </thead>\n",
       "  <tbody>\n",
       "    <tr>\n",
       "      <th>0</th>\n",
       "      <td>5.005513</td>\n",
       "    </tr>\n",
       "    <tr>\n",
       "      <th>1</th>\n",
       "      <td>4.381642</td>\n",
       "    </tr>\n",
       "    <tr>\n",
       "      <th>2</th>\n",
       "      <td>4.114064</td>\n",
       "    </tr>\n",
       "    <tr>\n",
       "      <th>3</th>\n",
       "      <td>5.012402</td>\n",
       "    </tr>\n",
       "    <tr>\n",
       "      <th>4</th>\n",
       "      <td>5.047677</td>\n",
       "    </tr>\n",
       "  </tbody>\n",
       "</table>\n",
       "</div>"
      ],
      "text/plain": [
       "   Activity\n",
       "0  5.005513\n",
       "1  4.381642\n",
       "2  4.114064\n",
       "3  5.012402\n",
       "4  5.047677"
      ]
     },
     "execution_count": 9,
     "metadata": {},
     "output_type": "execute_result"
    }
   ],
   "source": [
    "activity.head()"
   ]
  },
  {
   "cell_type": "code",
   "execution_count": 10,
   "metadata": {
    "colab": {
     "base_uri": "https://localhost:8080/"
    },
    "executionInfo": {
     "elapsed": 37,
     "status": "ok",
     "timestamp": 1754806348116,
     "user": {
      "displayName": "Alan Gabriel Amaro Colin",
      "userId": "17298980579619170060"
     },
     "user_tz": 360
    },
    "id": "fYz-3Re2eebA",
    "outputId": "1a9bb07d-d21a-4ca2-b93e-a21af222060c"
   },
   "outputs": [
    {
     "data": {
      "text/plain": [
       "(71, 1)"
      ]
     },
     "execution_count": 10,
     "metadata": {},
     "output_type": "execute_result"
    }
   ],
   "source": [
    "activity.shape"
   ]
  },
  {
   "cell_type": "markdown",
   "metadata": {
    "id": "IIU9JDRgfUWk"
   },
   "source": [
    "* The variable _x_ are the molecular descriptors, we're only interested in numerical properties:"
   ]
  },
  {
   "cell_type": "code",
   "execution_count": 11,
   "metadata": {
    "executionInfo": {
     "elapsed": 376,
     "status": "ok",
     "timestamp": 1754806348504,
     "user": {
      "displayName": "Alan Gabriel Amaro Colin",
      "userId": "17298980579619170060"
     },
     "user_tz": 360
    },
    "id": "OVvrgkBqeeXy"
   },
   "outputs": [],
   "source": [
    "x = compounds_md.copy()\n",
    "x = x.select_dtypes(\"number\")"
   ]
  },
  {
   "cell_type": "markdown",
   "metadata": {
    "id": "eyw0iNEPfbKq"
   },
   "source": [
    "## Applying Mutual Information to Molecular Descriptors"
   ]
  },
  {
   "cell_type": "markdown",
   "metadata": {
    "id": "EPCBSQMBbNf5"
   },
   "source": [
    "In the previous notebook, we have selected 3 molecular descriptors that are independent among them and present a high MI with respect to the bio-activity."
   ]
  },
  {
   "cell_type": "code",
   "execution_count": 12,
   "metadata": {
    "colab": {
     "base_uri": "https://localhost:8080/"
    },
    "executionInfo": {
     "elapsed": 376,
     "status": "ok",
     "timestamp": 1754806348508,
     "user": {
      "displayName": "Alan Gabriel Amaro Colin",
      "userId": "17298980579619170060"
     },
     "user_tz": 360
    },
    "id": "_55TahzCbUiO",
    "outputId": "943e13b7-622c-4195-98d9-39b408322575"
   },
   "outputs": [
    {
     "data": {
      "text/plain": [
       "(71, 2)"
      ]
     },
     "execution_count": 12,
     "metadata": {},
     "output_type": "execute_result"
    }
   ],
   "source": [
    "x_array = np.array(x[ ['piPC4', 'GATS3i'] ])\n",
    "x_array.shape"
   ]
  },
  {
   "cell_type": "code",
   "execution_count": 13,
   "metadata": {
    "colab": {
     "base_uri": "https://localhost:8080/"
    },
    "executionInfo": {
     "elapsed": 33,
     "status": "ok",
     "timestamp": 1754806348544,
     "user": {
      "displayName": "Alan Gabriel Amaro Colin",
      "userId": "17298980579619170060"
     },
     "user_tz": 360
    },
    "id": "qIbrbX4NblAQ",
    "outputId": "8060c218-8830-43f7-80c7-4d321cf844f1"
   },
   "outputs": [
    {
     "data": {
      "text/plain": [
       "(71,)"
      ]
     },
     "execution_count": 13,
     "metadata": {},
     "output_type": "execute_result"
    }
   ],
   "source": [
    "y_array = np.array( activity )[:, 0]\n",
    "y_array.shape"
   ]
  },
  {
   "cell_type": "markdown",
   "metadata": {
    "id": "HIvdru7Qb6n4"
   },
   "source": [
    "## Standarize Features"
   ]
  },
  {
   "cell_type": "code",
   "execution_count": 14,
   "metadata": {
    "executionInfo": {
     "elapsed": 35,
     "status": "ok",
     "timestamp": 1754806348583,
     "user": {
      "displayName": "Alan Gabriel Amaro Colin",
      "userId": "17298980579619170060"
     },
     "user_tz": 360
    },
    "id": "-4P8uMr8b8FA"
   },
   "outputs": [],
   "source": [
    "from sklearn.preprocessing import StandardScaler\n",
    "scaler = StandardScaler()"
   ]
  },
  {
   "cell_type": "code",
   "execution_count": 15,
   "metadata": {
    "colab": {
     "base_uri": "https://localhost:8080/"
    },
    "executionInfo": {
     "elapsed": 32,
     "status": "ok",
     "timestamp": 1754806348587,
     "user": {
      "displayName": "Alan Gabriel Amaro Colin",
      "userId": "17298980579619170060"
     },
     "user_tz": 360
    },
    "id": "Q1DtBVx8cGc3",
    "outputId": "e5a919ce-b9c7-4089-f736-f68d0234fcd6"
   },
   "outputs": [
    {
     "data": {
      "text/plain": [
       "(71, 2)"
      ]
     },
     "execution_count": 15,
     "metadata": {},
     "output_type": "execute_result"
    }
   ],
   "source": [
    "x_std = scaler.fit_transform(x_array)\n",
    "x_std.shape"
   ]
  },
  {
   "cell_type": "code",
   "execution_count": 16,
   "metadata": {
    "colab": {
     "base_uri": "https://localhost:8080/",
     "height": 469
    },
    "executionInfo": {
     "elapsed": 55,
     "status": "ok",
     "timestamp": 1754806348632,
     "user": {
      "displayName": "Alan Gabriel Amaro Colin",
      "userId": "17298980579619170060"
     },
     "user_tz": 360
    },
    "id": "TCAnYfB9cNJM",
    "outputId": "c67d1f14-718a-436c-c411-504973177ba7"
   },
   "outputs": [
    {
     "data": {
      "image/png": "[encoded data removed]",
      "text/plain": [
       "<Figure size 640x480 with 1 Axes>"
      ]
     },
     "metadata": {},
     "output_type": "display_data"
    },
    {
     "name": "stdout",
     "output_type": "stream",
     "text": [
      "The corresponding y element -> 4.16150276\n"
     ]
    }
   ],
   "source": [
    "plot_xy([x_std, y_array])"
   ]
  },
  {
   "cell_type": "markdown",
   "metadata": {
    "id": "lEUasbz0fl5I"
   },
   "source": [
    "## Splitting Train and Test"
   ]
  },
  {
   "cell_type": "code",
   "execution_count": 17,
   "metadata": {},
   "outputs": [],
   "source": [
    "N_BINS=6 ##discretizer, this was 10 before\n",
    "N_SPLITS=6 ##splitter\n",
    "TEST_SIZE=21/70 ##splitter"
   ]
  },
  {
   "cell_type": "code",
   "execution_count": 18,
   "metadata": {},
   "outputs": [],
   "source": [
    "# dividimos train test con stratified\n",
    "discretizer = sklearn.preprocessing.KBinsDiscretizer(n_bins=N_BINS, encode=\"ordinal\", strategy=\"uniform\")\n",
    "splitter = sklearn.model_selection.StratifiedShuffleSplit(n_splits=N_SPLITS,test_size=TEST_SIZE, random_state=13)\n",
    "y_discrete = discretizer.fit_transform(np.expand_dims(y_array, axis = -1))\n",
    "split, split_test = next(splitter.split(np.expand_dims(x_std, axis = -1), y_discrete ))"
   ]
  },
  {
   "cell_type": "code",
   "execution_count": 19,
   "metadata": {},
   "outputs": [],
   "source": [
    "x_train = x_std[split]\n",
    "x_test = x_std[split_test]\n",
    "y_train = y_array[split]\n",
    "y_test = y_array[split_test]"
   ]
  },
  {
   "cell_type": "code",
   "execution_count": 20,
   "metadata": {
    "colab": {
     "base_uri": "https://localhost:8080/"
    },
    "executionInfo": {
     "elapsed": 50,
     "status": "ok",
     "timestamp": 1754806348711,
     "user": {
      "displayName": "Alan Gabriel Amaro Colin",
      "userId": "17298980579619170060"
     },
     "user_tz": 360
    },
    "id": "Ns--E27FgpKM",
    "outputId": "f3ab4341-913a-4b94-cbe8-6cd482f3c835"
   },
   "outputs": [
    {
     "data": {
      "text/plain": [
       "((49, 2), (22, 2))"
      ]
     },
     "execution_count": 20,
     "metadata": {},
     "output_type": "execute_result"
    }
   ],
   "source": [
    "x_train.shape, x_test.shape"
   ]
  },
  {
   "cell_type": "code",
   "execution_count": 21,
   "metadata": {
    "colab": {
     "base_uri": "https://localhost:8080/",
     "height": 407
    },
    "executionInfo": {
     "elapsed": 290,
     "status": "ok",
     "timestamp": 1754806349003,
     "user": {
      "displayName": "Alan Gabriel Amaro Colin",
      "userId": "17298980579619170060"
     },
     "user_tz": 360
    },
    "id": "jw21eFGscdx1",
    "outputId": "697e87b9-d7bd-495f-de24-7f265201b3e5"
   },
   "outputs": [
    {
     "data": {
      "image/png": "[encoded data removed]",
      "text/plain": [
       "<Figure size 1000x400 with 2 Axes>"
      ]
     },
     "metadata": {},
     "output_type": "display_data"
    }
   ],
   "source": [
    "# Crear una figura con dos subplots en horizontal (1 fila, 2 columnas)\n",
    "fig, (ax1, ax2) = plt.subplots(1, 2, figsize=(10, 4))  # figsize ajusta el tamaño\n",
    "\n",
    "# Graficar la primera curva en el primer subplot\n",
    "ax1.hist(y_train, color='blue', label='train', bins = 6)\n",
    "ax1.set_title('Train Density')\n",
    "ax1.set_xlabel('x')\n",
    "ax1.set_ylabel('y')\n",
    "ax1.legend()\n",
    "\n",
    "# Graficar la segunda curva en el segundo subplot\n",
    "ax2.hist(y_test, color='red', label='test', bins = 6)\n",
    "ax2.set_title('Test Density')\n",
    "ax2.set_xlabel('x')\n",
    "ax2.set_ylabel('y')\n",
    "ax2.legend()\n",
    "\n",
    "# Ajustar el espacio entre los subplots\n",
    "plt.tight_layout()\n",
    "\n",
    "# Mostrar la figura\n",
    "plt.show()"
   ]
  },
  {
   "cell_type": "markdown",
   "metadata": {
    "id": "XESiE4f0cr7l"
   },
   "source": [
    "## Paths"
   ]
  },
  {
   "cell_type": "code",
   "execution_count": 22,
   "metadata": {
    "executionInfo": {
     "elapsed": 229,
     "status": "ok",
     "timestamp": 1754806349006,
     "user": {
      "displayName": "Alan Gabriel Amaro Colin",
      "userId": "17298980579619170060"
     },
     "user_tz": 360
    },
    "id": "hUxyWpwpcsqz"
   },
   "outputs": [],
   "source": [
    "name = 'DNN_MI_2_2_Reg'\n",
    "if colab:\n",
    "    folder_path = '/content/drive/MyDrive/Colaboracion_Quimica/Main_Codes/AutoEncoders/models'\n",
    "else: \n",
    "    folder_path = '../models'\n",
    "    \n",
    "final_path = os.path.join(folder_path, name)"
   ]
  },
  {
   "cell_type": "markdown",
   "metadata": {
    "id": "aGZb-3Wacw2F"
   },
   "source": [
    "## Callbacks"
   ]
  },
  {
   "cell_type": "code",
   "execution_count": 23,
   "metadata": {
    "executionInfo": {
     "elapsed": 96,
     "status": "ok",
     "timestamp": 1754806349012,
     "user": {
      "displayName": "Alan Gabriel Amaro Colin",
      "userId": "17298980579619170060"
     },
     "user_tz": 360
    },
    "id": "UX_yCOQicxnI"
   },
   "outputs": [],
   "source": [
    "callbacks = standard_callbacks(folder_name= name,\n",
    "                               folder_path= folder_path,\n",
    "                               patiences= [250, 250], # 50 epochs without progress, and 2 epochs to reduce LR\n",
    "                               monitor = 'val_mape',\n",
    "                               flow_direction = 'min')"
   ]
  },
  {
   "cell_type": "markdown",
   "metadata": {
    "id": "9cSL15E6c1zb"
   },
   "source": [
    "## DNN Model"
   ]
  },
  {
   "cell_type": "code",
   "execution_count": 25,
   "metadata": {
    "executionInfo": {
     "elapsed": 65,
     "status": "ok",
     "timestamp": 1754806349015,
     "user": {
      "displayName": "Alan Gabriel Amaro Colin",
      "userId": "17298980579619170060"
     },
     "user_tz": 360
    },
    "id": "qtUfEOFpczgn"
   },
   "outputs": [],
   "source": [
    "def _DNN(DP, L1, L2):\n",
    "\n",
    "  inputs = keras.layers.Input((2,))\n",
    "\n",
    "  _DNN_ = G_Dense(\n",
    "      inputs = inputs,\n",
    "      nodes = [32, 161],\n",
    "      DP = DP,\n",
    "      n_final = 1,\n",
    "      act_func = 'leaky_relu',\n",
    "      final_act_func = 'relu',\n",
    "      WI = 'he_normal',\n",
    "      L1 = L1, \n",
    "      L2 = L2,\n",
    "      use_bias = True\n",
    "  )\n",
    "\n",
    "  return keras.models.Model(inputs = inputs, outputs = _DNN_)"
   ]
  },
  {
   "cell_type": "code",
   "execution_count": 26,
   "metadata": {},
   "outputs": [],
   "source": [
    "def compile_model(DP, L1, L2, optimizer, modelo):\n",
    "\n",
    "  model = modelo(DP = DP, L1 = L1, L2=L2)\n",
    "\n",
    "  model.compile(optimizer = optimizer,\n",
    "                loss = 'mae',\n",
    "                metrics = ['mape', 'r2_score'])\n",
    "\n",
    "  return model"
   ]
  },
  {
   "cell_type": "code",
   "execution_count": 27,
   "metadata": {},
   "outputs": [],
   "source": [
    "def build_model(hp):\n",
    "\n",
    "  #nodes = [hp.Int('Nodes-1', min_value = 1, max_value = 300, step = 1),\n",
    "  #         hp.Int('Nodes-2', min_value = 1, max_value = 300, step = 1)\n",
    "  #         ]\n",
    "\n",
    "  DP = hp.Int('Dropout', min_value = 0, max_value = 50, step = 2)\n",
    "\n",
    "  L1 = hp.Choice('L1', [1e-6, 1e-5, 1e-4, 1e-3, 1e-2, 1e-1, 1.0])\n",
    "\n",
    "  L2 = hp.Choice('L2', [1e-6, 1e-5, 1e-4, 1e-3, 1e-2, 1e-1, 1.0])\n",
    "\n",
    "  optimizer = hp.Choice('optimizer', ['adam',]) #'sgd', 'adagrad'])\n",
    "\n",
    "  if optimizer == 'adam': opt = keras.optimizers.Adam(\n",
    "        learning_rate = 0.001\n",
    "    )\n",
    "\n",
    "  elif optimizer == 'sgd': opt = keras.optimizers.SGD(\n",
    "        learning_rate = 0.001\n",
    "    )\n",
    "\n",
    "  elif optimizer == 'adagrad': opt = keras.optimizers.Adagrad(\n",
    "        learning_rate = 0.001\n",
    "    )\n",
    "\n",
    "\n",
    "  model_f = compile_model(DP = DP, L1= L1, L2=L2, optimizer = optimizer, modelo = _DNN)\n",
    "\n",
    "  return model_f"
   ]
  },
  {
   "cell_type": "code",
   "execution_count": 28,
   "metadata": {
    "executionInfo": {
     "elapsed": 60,
     "status": "ok",
     "timestamp": 1754806349047,
     "user": {
      "displayName": "Alan Gabriel Amaro Colin",
      "userId": "17298980579619170060"
     },
     "user_tz": 360
    },
    "id": "KKix552XddZ9"
   },
   "outputs": [
    {
     "name": "stderr",
     "output_type": "stream",
     "text": [
      "2025-08-11 18:54:19.896230: E external/local_xla/xla/stream_executor/cuda/cuda_driver.cc:282] failed call to cuInit: CUDA_ERROR_NO_DEVICE: no CUDA-capable device is detected\n",
      "2025-08-11 18:54:19.896294: I external/local_xla/xla/stream_executor/cuda/cuda_diagnostics.cc:134] retrieving CUDA diagnostic information for host: alan-amaro-Nvidia\n",
      "2025-08-11 18:54:19.896316: I external/local_xla/xla/stream_executor/cuda/cuda_diagnostics.cc:141] hostname: alan-amaro-Nvidia\n",
      "2025-08-11 18:54:19.896634: I external/local_xla/xla/stream_executor/cuda/cuda_diagnostics.cc:165] libcuda reported version is: 570.169.0\n",
      "2025-08-11 18:54:19.896686: I external/local_xla/xla/stream_executor/cuda/cuda_diagnostics.cc:169] kernel reported version is: 570.169.0\n",
      "2025-08-11 18:54:19.896704: I external/local_xla/xla/stream_executor/cuda/cuda_diagnostics.cc:248] kernel version seems to match DSO: 570.169.0\n"
     ]
    },
    {
     "data": {
      "text/plain": [
       "<Functional name=functional, built=True>"
      ]
     },
     "execution_count": 28,
     "metadata": {},
     "output_type": "execute_result"
    }
   ],
   "source": [
    "build_model(keras_tuner.HyperParameters())"
   ]
  },
  {
   "cell_type": "code",
   "execution_count": 29,
   "metadata": {},
   "outputs": [],
   "source": [
    "tuner = keras_tuner.BayesianOptimization(\n",
    "    hypermodel=build_model,\n",
    "    objective= keras_tuner.Objective('val_mape', 'min') ,\n",
    "    max_trials= 50, # Set to 3\n",
    "    executions_per_trial = 2,\n",
    "    overwrite=True,\n",
    "    directory= final_path,\n",
    "    project_name=\"DNN-MI-KT\",\n",
    ")"
   ]
  },
  {
   "cell_type": "code",
   "execution_count": 30,
   "metadata": {},
   "outputs": [
    {
     "name": "stdout",
     "output_type": "stream",
     "text": [
      "Search space summary\n",
      "Default search space size: 4\n",
      "Dropout (Int)\n",
      "{'default': None, 'conditions': [], 'min_value': 0, 'max_value': 50, 'step': 2, 'sampling': 'linear'}\n",
      "L1 (Choice)\n",
      "{'default': 1e-06, 'conditions': [], 'values': [1e-06, 1e-05, 0.0001, 0.001, 0.01, 0.1, 1.0], 'ordered': True}\n",
      "L2 (Choice)\n",
      "{'default': 1e-06, 'conditions': [], 'values': [1e-06, 1e-05, 0.0001, 0.001, 0.01, 0.1, 1.0], 'ordered': True}\n",
      "optimizer (Choice)\n",
      "{'default': 'adam', 'conditions': [], 'values': ['adam'], 'ordered': False}\n"
     ]
    }
   ],
   "source": [
    "tuner.search_space_summary()"
   ]
  },
  {
   "cell_type": "code",
   "execution_count": 31,
   "metadata": {},
   "outputs": [
    {
     "name": "stdout",
     "output_type": "stream",
     "text": [
      "Trial 2 Complete [00h 01m 38s]\n",
      "val_mape: 8.995453834533691\n",
      "\n",
      "Best val_mape So Far: 8.995453834533691\n",
      "Total elapsed time: 00h 03m 17s\n",
      "\n",
      "Search: Running Trial #3\n",
      "\n",
      "Value             |Best Value So Far |Hyperparameter\n",
      "46                |6                 |Dropout\n",
      "1e-05             |1e-06             |L1\n",
      "0.01              |0.1               |L2\n",
      "adam              |adam              |optimizer\n",
      "\n",
      "Epoch 1/250\n",
      "\u001b[1m5/5\u001b[0m \u001b[32m━━━━━━━━━━━━━━━━━━━━\u001b[0m\u001b[37m\u001b[0m \u001b[1m4s\u001b[0m 151ms/step - loss: 8.1226 - mape: 87.0309 - r2_score: -32.3423 - val_loss: 8.1068 - val_mape: 89.3790 - val_r2_score: -35.3003\n",
      "Epoch 2/250\n",
      "\u001b[1m5/5\u001b[0m \u001b[32m━━━━━━━━━━━━━━━━━━━━\u001b[0m\u001b[37m\u001b[0m \u001b[1m0s\u001b[0m 44ms/step - loss: 7.9866 - mape: 85.9627 - r2_score: -28.9964 - val_loss: 7.9600 - val_mape: 87.6843 - val_r2_score: -34.0351\n",
      "Epoch 3/250\n",
      "\u001b[1m5/5\u001b[0m \u001b[32m━━━━━━━━━━━━━━━━━━━━\u001b[0m\u001b[37m\u001b[0m \u001b[1m0s\u001b[0m 44ms/step - loss: 7.9895 - mape: 87.2214 - r2_score: -41.4758 - val_loss: 7.7784 - val_mape: 85.2294 - val_r2_score: -32.2556\n",
      "Epoch 4/250\n",
      "\u001b[1m5/5\u001b[0m \u001b[32m━━━━━━━━━━━━━━━━━━━━\u001b[0m\u001b[37m\u001b[0m \u001b[1m0s\u001b[0m 50ms/step - loss: 7.9078 - mape: 86.7488 - r2_score: -38.4659 - val_loss: 7.5947 - val_mape: 82.7093 - val_r2_score: -30.4890\n",
      "Epoch 5/250\n",
      "\u001b[1m5/5\u001b[0m \u001b[32m━━━━━━━━━━━━━━━━━━━━\u001b[0m\u001b[37m\u001b[0m \u001b[1m0s\u001b[0m 44ms/step - loss: 7.5840 - mape: 83.7885 - r2_score: -26.6891 - val_loss: 7.4387 - val_mape: 80.7329 - val_r2_score: -29.1711\n",
      "Epoch 6/250\n",
      "\u001b[1m5/5\u001b[0m \u001b[32m━━━━━━━━━━━━━━━━━━━━\u001b[0m\u001b[37m\u001b[0m \u001b[1m0s\u001b[0m 44ms/step - loss: 7.5387 - mape: 82.8490 - r2_score: -34.2027 - val_loss: 7.2900 - val_mape: 78.8484 - val_r2_score: -27.9855\n",
      "Epoch 7/250\n",
      "\u001b[1m5/5\u001b[0m \u001b[32m━━━━━━━━━━━━━━━━━━━━\u001b[0m\u001b[37m\u001b[0m \u001b[1m0s\u001b[0m 49ms/step - loss: 7.2419 - mape: 78.1442 - r2_score: -24.5923 - val_loss: 7.0962 - val_mape: 75.9969 - val_r2_score: -26.2810\n",
      "Epoch 8/250\n",
      "\u001b[1m5/5\u001b[0m \u001b[32m━━━━━━━━━━━━━━━━━━━━\u001b[0m\u001b[37m\u001b[0m \u001b[1m0s\u001b[0m 47ms/step - loss: 7.2762 - mape: 79.8631 - r2_score: -27.4052 - val_loss: 6.8232 - val_mape: 71.4948 - val_r2_score: -23.8279\n",
      "Epoch 9/250\n",
      "\u001b[1m5/5\u001b[0m \u001b[32m━━━━━━━━━━━━━━━━━━━━\u001b[0m\u001b[37m\u001b[0m \u001b[1m0s\u001b[0m 44ms/step - loss: 7.0723 - mape: 76.3468 - r2_score: -27.6026 - val_loss: 6.6035 - val_mape: 68.0559 - val_r2_score: -22.1517\n",
      "Epoch 10/250\n",
      "\u001b[1m5/5\u001b[0m \u001b[32m━━━━━━━━━━━━━━━━━━━━\u001b[0m\u001b[37m\u001b[0m \u001b[1m0s\u001b[0m 44ms/step - loss: 6.8143 - mape: 73.2289 - r2_score: -23.9303 - val_loss: 6.3757 - val_mape: 64.4343 - val_r2_score: -20.5731\n",
      "Epoch 11/250\n",
      "\u001b[1m5/5\u001b[0m \u001b[32m━━━━━━━━━━━━━━━━━━━━\u001b[0m\u001b[37m\u001b[0m \u001b[1m0s\u001b[0m 44ms/step - loss: 6.8757 - mape: 72.9418 - r2_score: -27.4538 - val_loss: 6.1778 - val_mape: 61.3747 - val_r2_score: -19.3749\n",
      "Epoch 12/250\n",
      "\u001b[1m5/5\u001b[0m \u001b[32m━━━━━━━━━━━━━━━━━━━━\u001b[0m\u001b[37m\u001b[0m \u001b[1m0s\u001b[0m 45ms/step - loss: 6.6488 - mape: 71.6433 - r2_score: -21.5029 - val_loss: 5.9735 - val_mape: 58.1486 - val_r2_score: -18.2428\n",
      "Epoch 13/250\n",
      "\u001b[1m5/5\u001b[0m \u001b[32m━━━━━━━━━━━━━━━━━━━━\u001b[0m\u001b[37m\u001b[0m \u001b[1m0s\u001b[0m 48ms/step - loss: 6.5008 - mape: 70.3885 - r2_score: -20.8794 - val_loss: 5.7819 - val_mape: 55.1341 - val_r2_score: -17.1896\n",
      "Epoch 14/250\n",
      "\u001b[1m5/5\u001b[0m \u001b[32m━━━━━━━━━━━━━━━━━━━━\u001b[0m\u001b[37m\u001b[0m \u001b[1m0s\u001b[0m 45ms/step - loss: 6.3263 - mape: 67.0834 - r2_score: -21.2129 - val_loss: 5.5888 - val_mape: 52.0793 - val_r2_score: -16.2246\n",
      "Epoch 15/250\n",
      "\u001b[1m5/5\u001b[0m \u001b[32m━━━━━━━━━━━━━━━━━━━━\u001b[0m\u001b[37m\u001b[0m \u001b[1m0s\u001b[0m 44ms/step - loss: 6.1594 - mape: 65.6036 - r2_score: -18.3243 - val_loss: 5.4395 - val_mape: 49.9658 - val_r2_score: -15.5232\n",
      "Epoch 16/250\n",
      "\u001b[1m5/5\u001b[0m \u001b[32m━━━━━━━━━━━━━━━━━━━━\u001b[0m\u001b[37m\u001b[0m \u001b[1m0s\u001b[0m 46ms/step - loss: 6.1241 - mape: 65.3654 - r2_score: -18.1183 - val_loss: 5.3069 - val_mape: 48.1447 - val_r2_score: -14.8662\n",
      "Epoch 17/250\n",
      "\u001b[1m5/5\u001b[0m \u001b[32m━━━━━━━━━━━━━━━━━━━━\u001b[0m\u001b[37m\u001b[0m \u001b[1m0s\u001b[0m 48ms/step - loss: 6.1480 - mape: 65.6174 - r2_score: -21.8537 - val_loss: 5.1880 - val_mape: 46.5209 - val_r2_score: -14.3141\n",
      "Epoch 18/250\n",
      "\u001b[1m5/5\u001b[0m \u001b[32m━━━━━━━━━━━━━━━━━━━━\u001b[0m\u001b[37m\u001b[0m \u001b[1m0s\u001b[0m 45ms/step - loss: 5.6629 - mape: 58.4739 - r2_score: -16.5542 - val_loss: 5.0895 - val_mape: 45.2650 - val_r2_score: -13.8695\n",
      "Epoch 19/250\n",
      "\u001b[1m5/5\u001b[0m \u001b[32m━━━━━━━━━━━━━━━━━━━━\u001b[0m\u001b[37m\u001b[0m \u001b[1m0s\u001b[0m 43ms/step - loss: 5.8440 - mape: 61.0258 - r2_score: -18.5654 - val_loss: 4.9777 - val_mape: 43.7719 - val_r2_score: -13.0321\n",
      "Epoch 20/250\n",
      "\u001b[1m5/5\u001b[0m \u001b[32m━━━━━━━━━━━━━━━━━━━━\u001b[0m\u001b[37m\u001b[0m \u001b[1m0s\u001b[0m 44ms/step - loss: 5.7770 - mape: 61.1549 - r2_score: -19.9390 - val_loss: 4.8933 - val_mape: 42.8228 - val_r2_score: -12.4348\n",
      "Epoch 21/250\n",
      "\u001b[1m5/5\u001b[0m \u001b[32m━━━━━━━━━━━━━━━━━━━━\u001b[0m\u001b[37m\u001b[0m \u001b[1m0s\u001b[0m 43ms/step - loss: 5.3799 - mape: 54.3494 - r2_score: -14.1414 - val_loss: 4.8150 - val_mape: 41.9664 - val_r2_score: -11.8951\n",
      "Epoch 22/250\n",
      "\u001b[1m5/5\u001b[0m \u001b[32m━━━━━━━━━━━━━━━━━━━━\u001b[0m\u001b[37m\u001b[0m \u001b[1m0s\u001b[0m 44ms/step - loss: 5.6282 - mape: 58.1710 - r2_score: -17.6664 - val_loss: 4.7407 - val_mape: 41.2150 - val_r2_score: -11.2230\n",
      "Epoch 23/250\n",
      "\u001b[1m5/5\u001b[0m \u001b[32m━━━━━━━━━━━━━━━━━━━━\u001b[0m\u001b[37m\u001b[0m \u001b[1m0s\u001b[0m 43ms/step - loss: 5.3443 - mape: 54.6997 - r2_score: -18.5432 - val_loss: 4.6693 - val_mape: 40.5232 - val_r2_score: -10.5650\n",
      "Epoch 24/250\n",
      "\u001b[1m5/5\u001b[0m \u001b[32m━━━━━━━━━━━━━━━━━━━━\u001b[0m\u001b[37m\u001b[0m \u001b[1m0s\u001b[0m 44ms/step - loss: 5.3119 - mape: 53.2295 - r2_score: -17.9220 - val_loss: 4.5983 - val_mape: 39.8641 - val_r2_score: -9.8502\n",
      "Epoch 25/250\n",
      "\u001b[1m5/5\u001b[0m \u001b[32m━━━━━━━━━━━━━━━━━━━━\u001b[0m\u001b[37m\u001b[0m \u001b[1m0s\u001b[0m 44ms/step - loss: 5.1360 - mape: 51.6558 - r2_score: -15.7914 - val_loss: 4.5380 - val_mape: 39.3478 - val_r2_score: -9.2049\n",
      "Epoch 26/250\n",
      "\u001b[1m5/5\u001b[0m \u001b[32m━━━━━━━━━━━━━━━━━━━━\u001b[0m\u001b[37m\u001b[0m \u001b[1m0s\u001b[0m 45ms/step - loss: 5.2417 - mape: 54.6001 - r2_score: -14.8249 - val_loss: 4.4581 - val_mape: 38.3929 - val_r2_score: -8.5194\n",
      "Epoch 27/250\n",
      "\u001b[1m5/5\u001b[0m \u001b[32m━━━━━━━━━━━━━━━━━━━━\u001b[0m\u001b[37m\u001b[0m \u001b[1m0s\u001b[0m 43ms/step - loss: 4.8786 - mape: 47.3374 - r2_score: -10.1919 - val_loss: 4.3642 - val_mape: 37.0752 - val_r2_score: -7.7657\n",
      "Epoch 28/250\n",
      "\u001b[1m5/5\u001b[0m \u001b[32m━━━━━━━━━━━━━━━━━━━━\u001b[0m\u001b[37m\u001b[0m \u001b[1m0s\u001b[0m 44ms/step - loss: 4.9961 - mape: 50.9819 - r2_score: -11.9791 - val_loss: 4.2722 - val_mape: 35.7695 - val_r2_score: -6.9312\n",
      "Epoch 29/250\n",
      "\u001b[1m5/5\u001b[0m \u001b[32m━━━━━━━━━━━━━━━━━━━━\u001b[0m\u001b[37m\u001b[0m \u001b[1m0s\u001b[0m 45ms/step - loss: 4.9982 - mape: 49.9652 - r2_score: -11.1092 - val_loss: 4.1500 - val_mape: 33.8549 - val_r2_score: -6.1558\n",
      "Epoch 30/250\n",
      "\u001b[1m5/5\u001b[0m \u001b[32m━━━━━━━━━━━━━━━━━━━━\u001b[0m\u001b[37m\u001b[0m \u001b[1m0s\u001b[0m 45ms/step - loss: 5.0222 - mape: 49.4872 - r2_score: -14.0407 - val_loss: 4.0327 - val_mape: 31.9922 - val_r2_score: -5.3819\n",
      "Epoch 31/250\n",
      "\u001b[1m5/5\u001b[0m \u001b[32m━━━━━━━━━━━━━━━━━━━━\u001b[0m\u001b[37m\u001b[0m \u001b[1m0s\u001b[0m 43ms/step - loss: 4.7793 - mape: 47.6771 - r2_score: -8.8064 - val_loss: 3.9148 - val_mape: 30.0745 - val_r2_score: -4.5860\n",
      "Epoch 32/250\n",
      "\u001b[1m5/5\u001b[0m \u001b[32m━━━━━━━━━━━━━━━━━━━━\u001b[0m\u001b[37m\u001b[0m \u001b[1m0s\u001b[0m 43ms/step - loss: 4.2982 - mape: 38.5208 - r2_score: -7.0155 - val_loss: 3.8014 - val_mape: 28.2654 - val_r2_score: -3.9192\n",
      "Epoch 33/250\n",
      "\u001b[1m5/5\u001b[0m \u001b[32m━━━━━━━━━━━━━━━━━━━━\u001b[0m\u001b[37m\u001b[0m \u001b[1m0s\u001b[0m 44ms/step - loss: 4.4851 - mape: 40.6472 - r2_score: -8.8509 - val_loss: 3.6596 - val_mape: 25.8644 - val_r2_score: -3.1410\n",
      "Epoch 34/250\n",
      "\u001b[1m5/5\u001b[0m \u001b[32m━━━━━━━━━━━━━━━━━━━━\u001b[0m\u001b[37m\u001b[0m \u001b[1m0s\u001b[0m 44ms/step - loss: 4.4279 - mape: 40.5862 - r2_score: -7.9173 - val_loss: 3.6079 - val_mape: 25.3457 - val_r2_score: -3.0099\n",
      "Epoch 35/250\n",
      "\u001b[1m5/5\u001b[0m \u001b[32m━━━━━━━━━━━━━━━━━━━━\u001b[0m\u001b[37m\u001b[0m \u001b[1m0s\u001b[0m 46ms/step - loss: 4.2414 - mape: 36.9592 - r2_score: -7.3500 - val_loss: 3.5108 - val_mape: 23.8026 - val_r2_score: -2.5742\n",
      "Epoch 36/250\n",
      "\u001b[1m5/5\u001b[0m \u001b[32m━━━━━━━━━━━━━━━━━━━━\u001b[0m\u001b[37m\u001b[0m \u001b[1m0s\u001b[0m 44ms/step - loss: 4.2211 - mape: 38.2874 - r2_score: -6.5327 - val_loss: 3.3718 - val_mape: 21.1119 - val_r2_score: -1.8444\n",
      "Epoch 37/250\n",
      "\u001b[1m5/5\u001b[0m \u001b[32m━━━━━━━━━━━━━━━━━━━━\u001b[0m\u001b[37m\u001b[0m \u001b[1m0s\u001b[0m 44ms/step - loss: 3.8847 - mape: 31.1800 - r2_score: -4.1796 - val_loss: 3.2235 - val_mape: 17.7005 - val_r2_score: -0.8211\n",
      "Epoch 38/250\n",
      "\u001b[1m5/5\u001b[0m \u001b[32m━━━━━━━━━━━━━━━━━━━━\u001b[0m\u001b[37m\u001b[0m \u001b[1m0s\u001b[0m 44ms/step - loss: 3.8138 - mape: 29.6056 - r2_score: -4.9999 - val_loss: 3.0767 - val_mape: 14.3897 - val_r2_score: -0.1317\n",
      "Epoch 39/250\n",
      "\u001b[1m5/5\u001b[0m \u001b[32m━━━━━━━━━━━━━━━━━━━━\u001b[0m\u001b[37m\u001b[0m \u001b[1m0s\u001b[0m 44ms/step - loss: 4.1917 - mape: 37.3707 - r2_score: -7.8545 - val_loss: 2.9717 - val_mape: 12.1071 - val_r2_score: 0.2012\n",
      "Epoch 40/250\n",
      "\u001b[1m5/5\u001b[0m \u001b[32m━━━━━━━━━━━━━━━━━━━━\u001b[0m\u001b[37m\u001b[0m \u001b[1m0s\u001b[0m 43ms/step - loss: 3.7785 - mape: 29.0107 - r2_score: -4.4006 - val_loss: 2.8942 - val_mape: 10.4087 - val_r2_score: 0.3369\n",
      "Epoch 41/250\n",
      "\u001b[1m5/5\u001b[0m \u001b[32m━━━━━━━━━━━━━━━━━━━━\u001b[0m\u001b[37m\u001b[0m \u001b[1m0s\u001b[0m 43ms/step - loss: 3.6468 - mape: 25.3218 - r2_score: -3.2851 - val_loss: 2.8680 - val_mape: 10.0329 - val_r2_score: 0.3227\n",
      "Epoch 42/250\n",
      "\u001b[1m5/5\u001b[0m \u001b[32m━━━━━━━━━━━━━━━━━━━━\u001b[0m\u001b[37m\u001b[0m \u001b[1m0s\u001b[0m 44ms/step - loss: 3.9670 - mape: 35.3151 - r2_score: -7.6836 - val_loss: 2.8400 - val_mape: 9.9855 - val_r2_score: 0.3370\n",
      "Epoch 43/250\n",
      "\u001b[1m5/5\u001b[0m \u001b[32m━━━━━━━━━━━━━━━━━━━━\u001b[0m\u001b[37m\u001b[0m \u001b[1m0s\u001b[0m 45ms/step - loss: 3.9238 - mape: 34.1716 - r2_score: -5.1681 - val_loss: 2.8029 - val_mape: 9.9431 - val_r2_score: 0.3252\n",
      "Epoch 44/250\n",
      "\u001b[1m5/5\u001b[0m \u001b[32m━━━━━━━━━━━━━━━━━━━━\u001b[0m\u001b[37m\u001b[0m \u001b[1m0s\u001b[0m 34ms/step - loss: 3.6936 - mape: 28.5508 - r2_score: -5.2562 - val_loss: 2.7843 - val_mape: 10.0180 - val_r2_score: 0.2866\n",
      "Epoch 45/250\n",
      "\u001b[1m5/5\u001b[0m \u001b[32m━━━━━━━━━━━━━━━━━━━━\u001b[0m\u001b[37m\u001b[0m \u001b[1m0s\u001b[0m 30ms/step - loss: 3.7255 - mape: 30.1019 - r2_score: -4.6957 - val_loss: 2.7900 - val_mape: 10.5755 - val_r2_score: 0.2061\n",
      "Epoch 46/250\n",
      "\u001b[1m5/5\u001b[0m \u001b[32m━━━━━━━━━━━━━━━━━━━━\u001b[0m\u001b[37m\u001b[0m \u001b[1m0s\u001b[0m 30ms/step - loss: 3.7894 - mape: 31.9174 - r2_score: -4.7274 - val_loss: 2.7798 - val_mape: 10.6760 - val_r2_score: 0.1914\n",
      "Epoch 47/250\n",
      "\u001b[1m5/5\u001b[0m \u001b[32m━━━━━━━━━━━━━━━━━━━━\u001b[0m\u001b[37m\u001b[0m \u001b[1m0s\u001b[0m 30ms/step - loss: 3.6376 - mape: 28.6814 - r2_score: -3.5197 - val_loss: 2.7564 - val_mape: 10.4464 - val_r2_score: 0.1984\n",
      "Epoch 48/250\n",
      "\u001b[1m5/5\u001b[0m \u001b[32m━━━━━━━━━━━━━━━━━━━━\u001b[0m\u001b[37m\u001b[0m \u001b[1m0s\u001b[0m 36ms/step - loss: 3.4009 - mape: 22.8746 - r2_score: -2.5376 - val_loss: 2.7625 - val_mape: 10.9590 - val_r2_score: 0.1317\n",
      "Epoch 49/250\n",
      "\u001b[1m5/5\u001b[0m \u001b[32m━━━━━━━━━━━━━━━━━━━━\u001b[0m\u001b[37m\u001b[0m \u001b[1m0s\u001b[0m 36ms/step - loss: 3.4818 - mape: 25.0246 - r2_score: -5.2996 - val_loss: 2.7519 - val_mape: 10.8900 - val_r2_score: 0.1618\n",
      "Epoch 50/250\n",
      "\u001b[1m5/5\u001b[0m \u001b[32m━━━━━━━━━━━━━━━━━━━━\u001b[0m\u001b[37m\u001b[0m \u001b[1m0s\u001b[0m 31ms/step - loss: 3.3039 - mape: 21.2938 - r2_score: -2.5923 - val_loss: 2.7490 - val_mape: 11.0448 - val_r2_score: 0.2504\n",
      "Epoch 51/250\n",
      "\u001b[1m5/5\u001b[0m \u001b[32m━━━━━━━━━━━━━━━━━━━━\u001b[0m\u001b[37m\u001b[0m \u001b[1m0s\u001b[0m 30ms/step - loss: 3.8029 - mape: 33.8084 - r2_score: -4.9688 - val_loss: 2.7486 - val_mape: 11.3319 - val_r2_score: 0.2550\n",
      "Epoch 52/250\n",
      "\u001b[1m5/5\u001b[0m \u001b[32m━━━━━━━━━━━━━━━━━━━━\u001b[0m\u001b[37m\u001b[0m \u001b[1m0s\u001b[0m 30ms/step - loss: 3.7365 - mape: 32.3143 - r2_score: -5.3426 - val_loss: 2.7989 - val_mape: 12.6861 - val_r2_score: 0.1275\n",
      "Epoch 53/250\n",
      "\u001b[1m5/5\u001b[0m \u001b[32m━━━━━━━━━━━━━━━━━━━━\u001b[0m\u001b[37m\u001b[0m \u001b[1m0s\u001b[0m 29ms/step - loss: 3.4692 - mape: 26.3857 - r2_score: -2.8521 - val_loss: 2.7316 - val_mape: 11.5903 - val_r2_score: 0.2140\n",
      "Epoch 54/250\n",
      "\u001b[1m5/5\u001b[0m \u001b[32m━━━━━━━━━━━━━━━━━━━━\u001b[0m\u001b[37m\u001b[0m \u001b[1m0s\u001b[0m 31ms/step - loss: 3.5675 - mape: 27.9675 - r2_score: -3.5954 - val_loss: 2.6663 - val_mape: 10.5034 - val_r2_score: 0.2519\n",
      "Epoch 55/250\n",
      "\u001b[1m5/5\u001b[0m \u001b[32m━━━━━━━━━━━━━━━━━━━━\u001b[0m\u001b[37m\u001b[0m \u001b[1m0s\u001b[0m 52ms/step - loss: 3.7469 - mape: 33.5292 - r2_score: -5.4633 - val_loss: 2.6109 - val_mape: 9.5507 - val_r2_score: 0.2380\n",
      "Epoch 56/250\n",
      "\u001b[1m5/5\u001b[0m \u001b[32m━━━━━━━━━━━━━━━━━━━━\u001b[0m\u001b[37m\u001b[0m \u001b[1m0s\u001b[0m 31ms/step - loss: 3.3085 - mape: 23.5710 - r2_score: -2.7103 - val_loss: 2.6063 - val_mape: 9.8232 - val_r2_score: 0.1759\n",
      "Epoch 57/250\n",
      "\u001b[1m5/5\u001b[0m \u001b[32m━━━━━━━━━━━━━━━━━━━━\u001b[0m\u001b[37m\u001b[0m \u001b[1m0s\u001b[0m 30ms/step - loss: 3.4891 - mape: 27.1872 - r2_score: -3.6765 - val_loss: 2.6140 - val_mape: 10.1815 - val_r2_score: 0.1480\n",
      "Epoch 58/250\n",
      "\u001b[1m5/5\u001b[0m \u001b[32m━━━━━━━━━━━━━━━━━━━━\u001b[0m\u001b[37m\u001b[0m \u001b[1m0s\u001b[0m 31ms/step - loss: 3.5555 - mape: 28.9145 - r2_score: -4.5692 - val_loss: 2.6597 - val_mape: 11.4061 - val_r2_score: 0.0913\n",
      "Epoch 59/250\n",
      "\u001b[1m5/5\u001b[0m \u001b[32m━━━━━━━━━━━━━━━━━━━━\u001b[0m\u001b[37m\u001b[0m \u001b[1m0s\u001b[0m 30ms/step - loss: 3.5318 - mape: 28.4865 - r2_score: -4.2759 - val_loss: 2.6790 - val_mape: 12.1048 - val_r2_score: 0.0599\n",
      "Epoch 60/250\n",
      "\u001b[1m5/5\u001b[0m \u001b[32m━━━━━━━━━━━━━━━━━━━━\u001b[0m\u001b[37m\u001b[0m \u001b[1m0s\u001b[0m 31ms/step - loss: 3.5431 - mape: 30.3879 - r2_score: -4.3555 - val_loss: 2.6915 - val_mape: 12.4675 - val_r2_score: 0.1021\n",
      "Epoch 61/250\n",
      "\u001b[1m5/5\u001b[0m \u001b[32m━━━━━━━━━━━━━━━━━━━━\u001b[0m\u001b[37m\u001b[0m \u001b[1m0s\u001b[0m 30ms/step - loss: 3.1620 - mape: 22.6460 - r2_score: -1.7531 - val_loss: 2.7070 - val_mape: 12.9063 - val_r2_score: 0.0878\n",
      "Epoch 62/250\n",
      "\u001b[1m5/5\u001b[0m \u001b[32m━━━━━━━━━━━━━━━━━━━━\u001b[0m\u001b[37m\u001b[0m \u001b[1m0s\u001b[0m 31ms/step - loss: 3.2489 - mape: 24.6515 - r2_score: -2.0392 - val_loss: 2.6797 - val_mape: 12.6612 - val_r2_score: 0.0747\n",
      "Epoch 63/250\n",
      "\u001b[1m5/5\u001b[0m \u001b[32m━━━━━━━━━━━━━━━━━━━━\u001b[0m\u001b[37m\u001b[0m \u001b[1m0s\u001b[0m 30ms/step - loss: 3.2471 - mape: 23.1449 - r2_score: -3.6487 - val_loss: 2.6145 - val_mape: 11.7438 - val_r2_score: 0.1009\n",
      "Epoch 64/250\n",
      "\u001b[1m5/5\u001b[0m \u001b[32m━━━━━━━━━━━━━━━━━━━━\u001b[0m\u001b[37m\u001b[0m \u001b[1m0s\u001b[0m 32ms/step - loss: 3.6818 - mape: 32.9904 - r2_score: -7.4896 - val_loss: 2.5996 - val_mape: 11.7868 - val_r2_score: 0.0572\n",
      "Epoch 65/250\n",
      "\u001b[1m5/5\u001b[0m \u001b[32m━━━━━━━━━━━━━━━━━━━━\u001b[0m\u001b[37m\u001b[0m \u001b[1m0s\u001b[0m 31ms/step - loss: 3.1224 - mape: 23.2631 - r2_score: -2.8781 - val_loss: 2.5559 - val_mape: 11.1434 - val_r2_score: 0.0856\n",
      "Epoch 66/250\n",
      "\u001b[1m5/5\u001b[0m \u001b[32m━━━━━━━━━━━━━━━━━━━━\u001b[0m\u001b[37m\u001b[0m \u001b[1m0s\u001b[0m 31ms/step - loss: 3.2069 - mape: 25.3096 - r2_score: -2.3946 - val_loss: 2.5394 - val_mape: 10.9244 - val_r2_score: 0.1121\n",
      "Epoch 67/250\n",
      "\u001b[1m5/5\u001b[0m \u001b[32m━━━━━━━━━━━━━━━━━━━━\u001b[0m\u001b[37m\u001b[0m \u001b[1m0s\u001b[0m 30ms/step - loss: 3.1868 - mape: 23.8248 - r2_score: -2.8243 - val_loss: 2.5700 - val_mape: 11.7713 - val_r2_score: -0.0294\n",
      "Epoch 68/250\n",
      "\u001b[1m5/5\u001b[0m \u001b[32m━━━━━━━━━━━━━━━━━━━━\u001b[0m\u001b[37m\u001b[0m \u001b[1m0s\u001b[0m 31ms/step - loss: 3.2452 - mape: 25.6289 - r2_score: -3.3870 - val_loss: 2.5780 - val_mape: 12.0341 - val_r2_score: -0.0701\n",
      "Epoch 69/250\n",
      "\u001b[1m5/5\u001b[0m \u001b[32m━━━━━━━━━━━━━━━━━━━━\u001b[0m\u001b[37m\u001b[0m \u001b[1m0s\u001b[0m 30ms/step - loss: 3.2435 - mape: 24.5811 - r2_score: -2.1371 - val_loss: 2.5540 - val_mape: 11.6475 - val_r2_score: 0.0294\n",
      "Epoch 70/250\n",
      "\u001b[1m5/5\u001b[0m \u001b[32m━━━━━━━━━━━━━━━━━━━━\u001b[0m\u001b[37m\u001b[0m \u001b[1m0s\u001b[0m 31ms/step - loss: 3.2737 - mape: 26.8868 - r2_score: -3.3280 - val_loss: 2.5223 - val_mape: 11.1879 - val_r2_score: 0.1123\n",
      "Epoch 71/250\n",
      "\u001b[1m5/5\u001b[0m \u001b[32m━━━━━━━━━━━━━━━━━━━━\u001b[0m\u001b[37m\u001b[0m \u001b[1m0s\u001b[0m 30ms/step - loss: 3.2802 - mape: 26.3812 - r2_score: -3.9313 - val_loss: 2.4910 - val_mape: 10.6366 - val_r2_score: 0.2230\n",
      "Epoch 72/250\n",
      "\u001b[1m5/5\u001b[0m \u001b[32m━━━━━━━━━━━━━━━━━━━━\u001b[0m\u001b[37m\u001b[0m \u001b[1m0s\u001b[0m 31ms/step - loss: 3.1856 - mape: 25.4515 - r2_score: -3.5974 - val_loss: 2.4588 - val_mape: 10.0726 - val_r2_score: 0.2865\n",
      "Epoch 73/250\n",
      "\u001b[1m5/5\u001b[0m \u001b[32m━━━━━━━━━━━━━━━━━━━━\u001b[0m\u001b[37m\u001b[0m \u001b[1m0s\u001b[0m 30ms/step - loss: 3.3536 - mape: 28.2252 - r2_score: -5.2169 - val_loss: 2.4531 - val_mape: 10.0594 - val_r2_score: 0.3039\n",
      "Epoch 74/250\n",
      "\u001b[1m5/5\u001b[0m \u001b[32m━━━━━━━━━━━━━━━━━━━━\u001b[0m\u001b[37m\u001b[0m \u001b[1m0s\u001b[0m 29ms/step - loss: 3.0863 - mape: 23.3266 - r2_score: -2.5473 - val_loss: 2.4551 - val_mape: 10.2368 - val_r2_score: 0.3084\n",
      "Epoch 75/250\n",
      "\u001b[1m5/5\u001b[0m \u001b[32m━━━━━━━━━━━━━━━━━━━━\u001b[0m\u001b[37m\u001b[0m \u001b[1m0s\u001b[0m 30ms/step - loss: 3.1952 - mape: 25.0384 - r2_score: -3.4336 - val_loss: 2.4698 - val_mape: 10.7999 - val_r2_score: 0.2386\n",
      "Epoch 76/250\n",
      "\u001b[1m5/5\u001b[0m \u001b[32m━━━━━━━━━━━━━━━━━━━━\u001b[0m\u001b[37m\u001b[0m \u001b[1m0s\u001b[0m 30ms/step - loss: 2.9900 - mape: 21.3692 - r2_score: -1.9436 - val_loss: 2.4433 - val_mape: 10.4873 - val_r2_score: 0.2623\n",
      "Epoch 77/250\n",
      "\u001b[1m5/5\u001b[0m \u001b[32m━━━━━━━━━━━━━━━━━━━━\u001b[0m\u001b[37m\u001b[0m \u001b[1m0s\u001b[0m 31ms/step - loss: 2.9733 - mape: 22.2404 - r2_score: -1.7937 - val_loss: 2.4215 - val_mape: 10.3383 - val_r2_score: 0.3048\n",
      "Epoch 78/250\n",
      "\u001b[1m5/5\u001b[0m \u001b[32m━━━━━━━━━━━━━━━━━━━━\u001b[0m\u001b[37m\u001b[0m \u001b[1m0s\u001b[0m 30ms/step - loss: 2.9846 - mape: 22.9203 - r2_score: -2.2520 - val_loss: 2.4096 - val_mape: 10.5370 - val_r2_score: 0.2648\n",
      "Epoch 79/250\n",
      "\u001b[1m5/5\u001b[0m \u001b[32m━━━━━━━━━━━━━━━━━━━━\u001b[0m\u001b[37m\u001b[0m \u001b[1m0s\u001b[0m 30ms/step - loss: 3.0324 - mape: 23.4839 - r2_score: -2.6313 - val_loss: 2.4264 - val_mape: 11.3456 - val_r2_score: 0.1664\n",
      "Epoch 80/250\n",
      "\u001b[1m5/5\u001b[0m \u001b[32m━━━━━━━━━━━━━━━━━━━━\u001b[0m\u001b[37m\u001b[0m \u001b[1m0s\u001b[0m 31ms/step - loss: 3.0841 - mape: 24.9780 - r2_score: -1.9625 - val_loss: 2.4194 - val_mape: 11.5184 - val_r2_score: 0.0891\n",
      "Epoch 81/250\n",
      "\u001b[1m5/5\u001b[0m \u001b[32m━━━━━━━━━━━━━━━━━━━━\u001b[0m\u001b[37m\u001b[0m \u001b[1m0s\u001b[0m 30ms/step - loss: 3.0644 - mape: 25.3192 - r2_score: -3.1338 - val_loss: 2.4117 - val_mape: 11.6916 - val_r2_score: 0.0362\n",
      "Epoch 82/250\n",
      "\u001b[1m5/5\u001b[0m \u001b[32m━━━━━━━━━━━━━━━━━━━━\u001b[0m\u001b[37m\u001b[0m \u001b[1m0s\u001b[0m 31ms/step - loss: 3.0731 - mape: 24.6087 - r2_score: -3.4107 - val_loss: 2.3937 - val_mape: 11.5350 - val_r2_score: 0.0211\n",
      "Epoch 83/250\n",
      "\u001b[1m5/5\u001b[0m \u001b[32m━━━━━━━━━━━━━━━━━━━━\u001b[0m\u001b[37m\u001b[0m \u001b[1m0s\u001b[0m 31ms/step - loss: 2.9937 - mape: 24.3911 - r2_score: -2.6507 - val_loss: 2.3728 - val_mape: 11.1874 - val_r2_score: 0.0698\n",
      "Epoch 84/250\n",
      "\u001b[1m5/5\u001b[0m \u001b[32m━━━━━━━━━━━━━━━━━━━━\u001b[0m\u001b[37m\u001b[0m \u001b[1m0s\u001b[0m 31ms/step - loss: 3.0712 - mape: 25.8183 - r2_score: -2.5797 - val_loss: 2.3721 - val_mape: 11.1144 - val_r2_score: 0.1308\n",
      "Epoch 85/250\n",
      "\u001b[1m5/5\u001b[0m \u001b[32m━━━━━━━━━━━━━━━━━━━━\u001b[0m\u001b[37m\u001b[0m \u001b[1m0s\u001b[0m 30ms/step - loss: 2.9764 - mape: 22.6685 - r2_score: -2.5228 - val_loss: 2.3840 - val_mape: 11.4853 - val_r2_score: 0.1128\n",
      "Epoch 86/250\n",
      "\u001b[1m5/5\u001b[0m \u001b[32m━━━━━━━━━━━━━━━━━━━━\u001b[0m\u001b[37m\u001b[0m \u001b[1m0s\u001b[0m 30ms/step - loss: 3.2306 - mape: 28.9957 - r2_score: -4.0607 - val_loss: 2.3490 - val_mape: 10.8981 - val_r2_score: 0.1773\n",
      "Epoch 87/250\n",
      "\u001b[1m5/5\u001b[0m \u001b[32m━━━━━━━━━━━━━━━━━━━━\u001b[0m\u001b[37m\u001b[0m \u001b[1m0s\u001b[0m 30ms/step - loss: 2.8921 - mape: 21.0674 - r2_score: -2.0917 - val_loss: 2.3216 - val_mape: 10.4343 - val_r2_score: 0.1967\n",
      "Epoch 88/250\n",
      "\u001b[1m5/5\u001b[0m \u001b[32m━━━━━━━━━━━━━━━━━━━━\u001b[0m\u001b[37m\u001b[0m \u001b[1m0s\u001b[0m 33ms/step - loss: 2.7580 - mape: 18.7047 - r2_score: -2.4962 - val_loss: 2.3343 - val_mape: 10.8972 - val_r2_score: 0.1810\n",
      "Epoch 89/250\n",
      "\u001b[1m5/5\u001b[0m \u001b[32m━━━━━━━━━━━━━━━━━━━━\u001b[0m\u001b[37m\u001b[0m \u001b[1m0s\u001b[0m 31ms/step - loss: 2.7982 - mape: 21.3847 - r2_score: -1.6710 - val_loss: 2.3892 - val_mape: 12.4658 - val_r2_score: 0.0677\n",
      "Epoch 90/250\n",
      "\u001b[1m5/5\u001b[0m \u001b[32m━━━━━━━━━━━━━━━━━━━━\u001b[0m\u001b[37m\u001b[0m \u001b[1m0s\u001b[0m 31ms/step - loss: 2.9406 - mape: 24.0991 - r2_score: -2.2892 - val_loss: 2.3664 - val_mape: 12.2386 - val_r2_score: 0.0492\n",
      "Epoch 91/250\n",
      "\u001b[1m5/5\u001b[0m \u001b[32m━━━━━━━━━━━━━━━━━━━━\u001b[0m\u001b[37m\u001b[0m \u001b[1m0s\u001b[0m 31ms/step - loss: 2.8600 - mape: 22.3074 - r2_score: -1.4912 - val_loss: 2.3056 - val_mape: 11.2243 - val_r2_score: 0.1053\n",
      "Epoch 92/250\n",
      "\u001b[1m5/5\u001b[0m \u001b[32m━━━━━━━━━━━━━━━━━━━━\u001b[0m\u001b[37m\u001b[0m \u001b[1m0s\u001b[0m 31ms/step - loss: 2.7563 - mape: 20.1568 - r2_score: -1.2393 - val_loss: 2.2850 - val_mape: 11.0656 - val_r2_score: 0.0927\n",
      "Epoch 93/250\n",
      "\u001b[1m5/5\u001b[0m \u001b[32m━━━━━━━━━━━━━━━━━━━━\u001b[0m\u001b[37m\u001b[0m \u001b[1m0s\u001b[0m 29ms/step - loss: 2.8919 - mape: 22.8993 - r2_score: -2.4403 - val_loss: 2.2748 - val_mape: 11.1535 - val_r2_score: 0.0383\n",
      "Epoch 94/250\n",
      "\u001b[1m5/5\u001b[0m \u001b[32m━━━━━━━━━━━━━━━━━━━━\u001b[0m\u001b[37m\u001b[0m \u001b[1m0s\u001b[0m 30ms/step - loss: 3.3412 - mape: 32.2645 - r2_score: -6.4162 - val_loss: 2.2631 - val_mape: 11.1948 - val_r2_score: 0.0040\n",
      "Epoch 95/250\n",
      "\u001b[1m5/5\u001b[0m \u001b[32m━━━━━━━━━━━━━━━━━━━━\u001b[0m\u001b[37m\u001b[0m \u001b[1m0s\u001b[0m 31ms/step - loss: 2.7802 - mape: 21.2783 - r2_score: -1.6410 - val_loss: 2.2492 - val_mape: 11.1747 - val_r2_score: -0.0030\n",
      "Epoch 96/250\n",
      "\u001b[1m5/5\u001b[0m \u001b[32m━━━━━━━━━━━━━━━━━━━━\u001b[0m\u001b[37m\u001b[0m \u001b[1m0s\u001b[0m 31ms/step - loss: 2.9687 - mape: 24.4597 - r2_score: -3.1198 - val_loss: 2.2498 - val_mape: 11.5386 - val_r2_score: -0.0638\n",
      "Epoch 97/250\n",
      "\u001b[1m5/5\u001b[0m \u001b[32m━━━━━━━━━━━━━━━━━━━━\u001b[0m\u001b[37m\u001b[0m \u001b[1m0s\u001b[0m 30ms/step - loss: 2.7921 - mape: 22.3726 - r2_score: -2.3985 - val_loss: 2.2387 - val_mape: 11.4852 - val_r2_score: -0.0511\n",
      "Epoch 98/250\n",
      "\u001b[1m5/5\u001b[0m \u001b[32m━━━━━━━━━━━━━━━━━━━━\u001b[0m\u001b[37m\u001b[0m \u001b[1m0s\u001b[0m 30ms/step - loss: 2.8425 - mape: 23.2572 - r2_score: -3.4254 - val_loss: 2.2365 - val_mape: 11.4519 - val_r2_score: 0.0166\n",
      "Epoch 99/250\n",
      "\u001b[1m5/5\u001b[0m \u001b[32m━━━━━━━━━━━━━━━━━━━━\u001b[0m\u001b[37m\u001b[0m \u001b[1m0s\u001b[0m 31ms/step - loss: 2.6928 - mape: 20.6636 - r2_score: -1.1452 - val_loss: 2.2227 - val_mape: 11.0658 - val_r2_score: 0.1174\n",
      "Epoch 100/250\n",
      "\u001b[1m5/5\u001b[0m \u001b[32m━━━━━━━━━━━━━━━━━━━━\u001b[0m\u001b[37m\u001b[0m \u001b[1m0s\u001b[0m 30ms/step - loss: 2.6278 - mape: 18.1067 - r2_score: -1.2039 - val_loss: 2.2038 - val_mape: 10.7732 - val_r2_score: 0.1734\n",
      "Epoch 101/250\n",
      "\u001b[1m5/5\u001b[0m \u001b[32m━━━━━━━━━━━━━━━━━━━━\u001b[0m\u001b[37m\u001b[0m \u001b[1m0s\u001b[0m 31ms/step - loss: 2.6622 - mape: 19.6542 - r2_score: -1.3410 - val_loss: 2.1872 - val_mape: 10.7113 - val_r2_score: 0.1444\n",
      "Epoch 102/250\n",
      "\u001b[1m5/5\u001b[0m \u001b[32m━━━━━━━━━━━━━━━━━━━━\u001b[0m\u001b[37m\u001b[0m \u001b[1m0s\u001b[0m 29ms/step - loss: 2.7191 - mape: 22.3932 - r2_score: -1.4754 - val_loss: 2.2469 - val_mape: 12.3450 - val_r2_score: -0.0334\n",
      "Epoch 103/250\n",
      "\u001b[1m5/5\u001b[0m \u001b[32m━━━━━━━━━━━━━━━━━━━━\u001b[0m\u001b[37m\u001b[0m \u001b[1m0s\u001b[0m 33ms/step - loss: 2.8043 - mape: 23.3823 - r2_score: -2.0510 - val_loss: 2.3256 - val_mape: 14.2150 - val_r2_score: -0.2264\n",
      "Epoch 104/250\n",
      "\u001b[1m5/5\u001b[0m \u001b[32m━━━━━━━━━━━━━━━━━━━━\u001b[0m\u001b[37m\u001b[0m \u001b[1m0s\u001b[0m 39ms/step - loss: 2.6724 - mape: 20.7386 - r2_score: -1.6486 - val_loss: 2.3212 - val_mape: 14.2804 - val_r2_score: -0.2428\n",
      "Epoch 105/250\n",
      "\u001b[1m5/5\u001b[0m \u001b[32m━━━━━━━━━━━━━━━━━━━━\u001b[0m\u001b[37m\u001b[0m \u001b[1m0s\u001b[0m 30ms/step - loss: 2.6707 - mape: 20.5909 - r2_score: -1.4635 - val_loss: 2.2593 - val_mape: 13.0556 - val_r2_score: -0.1480\n",
      "Epoch 106/250\n",
      "\u001b[1m5/5\u001b[0m \u001b[32m━━━━━━━━━━━━━━━━━━━━\u001b[0m\u001b[37m\u001b[0m \u001b[1m0s\u001b[0m 30ms/step - loss: 2.5748 - mape: 19.1128 - r2_score: -1.2293 - val_loss: 2.2016 - val_mape: 11.9747 - val_r2_score: -0.0187\n",
      "Epoch 107/250\n",
      "\u001b[1m5/5\u001b[0m \u001b[32m━━━━━━━━━━━━━━━━━━━━\u001b[0m\u001b[37m\u001b[0m \u001b[1m0s\u001b[0m 30ms/step - loss: 2.7650 - mape: 22.8667 - r2_score: -2.5046 - val_loss: 2.1821 - val_mape: 11.7616 - val_r2_score: -0.0305\n",
      "Epoch 108/250\n",
      "\u001b[1m5/5\u001b[0m \u001b[32m━━━━━━━━━━━━━━━━━━━━\u001b[0m\u001b[37m\u001b[0m \u001b[1m0s\u001b[0m 30ms/step - loss: 2.7571 - mape: 23.2508 - r2_score: -2.7016 - val_loss: 2.1751 - val_mape: 11.8076 - val_r2_score: -4.5693e-04\n",
      "Epoch 109/250\n",
      "\u001b[1m5/5\u001b[0m \u001b[32m━━━━━━━━━━━━━━━━━━━━\u001b[0m\u001b[37m\u001b[0m \u001b[1m0s\u001b[0m 30ms/step - loss: 2.7167 - mape: 22.5340 - r2_score: -3.3496 - val_loss: 2.1630 - val_mape: 11.6001 - val_r2_score: 0.1192\n",
      "Epoch 110/250\n",
      "\u001b[1m5/5\u001b[0m \u001b[32m━━━━━━━━━━━━━━━━━━━━\u001b[0m\u001b[37m\u001b[0m \u001b[1m0s\u001b[0m 30ms/step - loss: 2.6870 - mape: 22.7915 - r2_score: -1.9909 - val_loss: 2.1473 - val_mape: 11.3211 - val_r2_score: 0.2033\n",
      "Epoch 111/250\n",
      "\u001b[1m5/5\u001b[0m \u001b[32m━━━━━━━━━━━━━━━━━━━━\u001b[0m\u001b[37m\u001b[0m \u001b[1m0s\u001b[0m 30ms/step - loss: 2.8521 - mape: 26.5759 - r2_score: -2.6080 - val_loss: 2.1307 - val_mape: 10.9425 - val_r2_score: 0.2480\n",
      "Epoch 112/250\n",
      "\u001b[1m5/5\u001b[0m \u001b[32m━━━━━━━━━━━━━━━━━━━━\u001b[0m\u001b[37m\u001b[0m \u001b[1m0s\u001b[0m 31ms/step - loss: 2.7573 - mape: 23.4443 - r2_score: -2.2152 - val_loss: 2.1178 - val_mape: 10.8328 - val_r2_score: 0.2425\n",
      "Epoch 113/250\n",
      "\u001b[1m5/5\u001b[0m \u001b[32m━━━━━━━━━━━━━━━━━━━━\u001b[0m\u001b[37m\u001b[0m \u001b[1m0s\u001b[0m 32ms/step - loss: 2.5325 - mape: 19.0652 - r2_score: -1.4092 - val_loss: 2.1096 - val_mape: 10.8201 - val_r2_score: 0.2309\n",
      "Epoch 114/250\n",
      "\u001b[1m5/5\u001b[0m \u001b[32m━━━━━━━━━━━━━━━━━━━━\u001b[0m\u001b[37m\u001b[0m \u001b[1m0s\u001b[0m 31ms/step - loss: 2.5138 - mape: 18.6487 - r2_score: -0.9571 - val_loss: 2.0872 - val_mape: 10.4272 - val_r2_score: 0.2344\n",
      "Epoch 115/250\n",
      "\u001b[1m5/5\u001b[0m \u001b[32m━━━━━━━━━━━━━━━━━━━━\u001b[0m\u001b[37m\u001b[0m \u001b[1m0s\u001b[0m 30ms/step - loss: 2.6815 - mape: 23.4033 - r2_score: -2.8942 - val_loss: 2.0726 - val_mape: 10.2329 - val_r2_score: 0.2209\n",
      "Epoch 116/250\n",
      "\u001b[1m5/5\u001b[0m \u001b[32m━━━━━━━━━━━━━━━━━━━━\u001b[0m\u001b[37m\u001b[0m \u001b[1m0s\u001b[0m 32ms/step - loss: 2.6281 - mape: 21.8650 - r2_score: -2.0944 - val_loss: 2.0722 - val_mape: 10.5190 - val_r2_score: 0.1717\n",
      "Epoch 117/250\n",
      "\u001b[1m5/5\u001b[0m \u001b[32m━━━━━━━━━━━━━━━━━━━━\u001b[0m\u001b[37m\u001b[0m \u001b[1m0s\u001b[0m 30ms/step - loss: 2.7216 - mape: 24.0157 - r2_score: -2.4156 - val_loss: 2.0764 - val_mape: 10.7796 - val_r2_score: 0.1464\n",
      "Epoch 118/250\n",
      "\u001b[1m5/5\u001b[0m \u001b[32m━━━━━━━━━━━━━━━━━━━━\u001b[0m\u001b[37m\u001b[0m \u001b[1m0s\u001b[0m 30ms/step - loss: 2.5905 - mape: 20.5312 - r2_score: -1.6994 - val_loss: 2.0718 - val_mape: 10.7864 - val_r2_score: 0.1576\n",
      "Epoch 119/250\n",
      "\u001b[1m5/5\u001b[0m \u001b[32m━━━━━━━━━━━━━━━━━━━━\u001b[0m\u001b[37m\u001b[0m \u001b[1m0s\u001b[0m 33ms/step - loss: 2.6157 - mape: 22.0889 - r2_score: -1.9209 - val_loss: 2.0512 - val_mape: 10.5965 - val_r2_score: 0.1382\n",
      "Epoch 120/250\n",
      "\u001b[1m5/5\u001b[0m \u001b[32m━━━━━━━━━━━━━━━━━━━━\u001b[0m\u001b[37m\u001b[0m \u001b[1m0s\u001b[0m 33ms/step - loss: 2.6128 - mape: 21.2316 - r2_score: -2.1757 - val_loss: 2.0512 - val_mape: 10.8014 - val_r2_score: 0.1061\n",
      "Epoch 121/250\n",
      "\u001b[1m5/5\u001b[0m \u001b[32m━━━━━━━━━━━━━━━━━━━━\u001b[0m\u001b[37m\u001b[0m \u001b[1m0s\u001b[0m 30ms/step - loss: 2.3906 - mape: 18.0609 - r2_score: -0.5947 - val_loss: 2.0490 - val_mape: 10.9667 - val_r2_score: 0.0758\n",
      "Epoch 122/250\n",
      "\u001b[1m5/5\u001b[0m \u001b[32m━━━━━━━━━━━━━━━━━━━━\u001b[0m\u001b[37m\u001b[0m \u001b[1m0s\u001b[0m 30ms/step - loss: 2.5815 - mape: 21.2973 - r2_score: -2.1966 - val_loss: 2.0805 - val_mape: 11.8437 - val_r2_score: 0.0113\n",
      "Epoch 123/250\n",
      "\u001b[1m5/5\u001b[0m \u001b[32m━━━━━━━━━━━━━━━━━━━━\u001b[0m\u001b[37m\u001b[0m \u001b[1m0s\u001b[0m 31ms/step - loss: 2.5513 - mape: 21.8172 - r2_score: -1.5979 - val_loss: 2.1482 - val_mape: 13.5652 - val_r2_score: -0.1090\n",
      "Epoch 124/250\n",
      "\u001b[1m5/5\u001b[0m \u001b[32m━━━━━━━━━━━━━━━━━━━━\u001b[0m\u001b[37m\u001b[0m \u001b[1m0s\u001b[0m 32ms/step - loss: 2.4483 - mape: 19.1968 - r2_score: -1.6518 - val_loss: 2.1401 - val_mape: 13.6048 - val_r2_score: -0.1088\n",
      "Epoch 125/250\n",
      "\u001b[1m5/5\u001b[0m \u001b[32m━━━━━━━━━━━━━━━━━━━━\u001b[0m\u001b[37m\u001b[0m \u001b[1m0s\u001b[0m 32ms/step - loss: 2.6231 - mape: 23.1914 - r2_score: -1.8761 - val_loss: 2.0863 - val_mape: 12.5466 - val_r2_score: -0.0106\n",
      "Epoch 126/250\n",
      "\u001b[1m5/5\u001b[0m \u001b[32m━━━━━━━━━━━━━━━━━━━━\u001b[0m\u001b[37m\u001b[0m \u001b[1m0s\u001b[0m 31ms/step - loss: 2.5333 - mape: 20.8889 - r2_score: -2.6506 - val_loss: 2.0546 - val_mape: 11.9899 - val_r2_score: 0.0144\n",
      "Epoch 127/250\n",
      "\u001b[1m5/5\u001b[0m \u001b[32m━━━━━━━━━━━━━━━━━━━━\u001b[0m\u001b[37m\u001b[0m \u001b[1m0s\u001b[0m 30ms/step - loss: 2.5505 - mape: 21.9281 - r2_score: -2.0056 - val_loss: 2.0322 - val_mape: 11.6727 - val_r2_score: 0.0232\n",
      "Epoch 128/250\n",
      "\u001b[1m5/5\u001b[0m \u001b[32m━━━━━━━━━━━━━━━━━━━━\u001b[0m\u001b[37m\u001b[0m \u001b[1m0s\u001b[0m 37ms/step - loss: 2.5519 - mape: 21.2537 - r2_score: -2.3336 - val_loss: 1.9876 - val_mape: 10.8469 - val_r2_score: 0.1156\n",
      "Epoch 129/250\n",
      "\u001b[1m5/5\u001b[0m \u001b[32m━━━━━━━━━━━━━━━━━━━━\u001b[0m\u001b[37m\u001b[0m \u001b[1m0s\u001b[0m 36ms/step - loss: 2.5465 - mape: 22.8428 - r2_score: -1.9828 - val_loss: 1.9822 - val_mape: 10.7364 - val_r2_score: 0.1643\n",
      "Epoch 130/250\n",
      "\u001b[1m5/5\u001b[0m \u001b[32m━━━━━━━━━━━━━━━━━━━━\u001b[0m\u001b[37m\u001b[0m \u001b[1m0s\u001b[0m 30ms/step - loss: 2.6631 - mape: 26.0148 - r2_score: -2.1587 - val_loss: 1.9848 - val_mape: 11.0217 - val_r2_score: 0.1318\n",
      "Epoch 131/250\n",
      "\u001b[1m5/5\u001b[0m \u001b[32m━━━━━━━━━━━━━━━━━━━━\u001b[0m\u001b[37m\u001b[0m \u001b[1m0s\u001b[0m 30ms/step - loss: 2.5511 - mape: 22.2971 - r2_score: -2.4588 - val_loss: 1.9738 - val_mape: 10.9979 - val_r2_score: 0.1384\n",
      "Epoch 132/250\n",
      "\u001b[1m5/5\u001b[0m \u001b[32m━━━━━━━━━━━━━━━━━━━━\u001b[0m\u001b[37m\u001b[0m \u001b[1m0s\u001b[0m 30ms/step - loss: 2.4974 - mape: 21.4726 - r2_score: -1.3038 - val_loss: 1.9711 - val_mape: 11.1662 - val_r2_score: 0.0839\n",
      "Epoch 133/250\n",
      "\u001b[1m5/5\u001b[0m \u001b[32m━━━━━━━━━━━━━━━━━━━━\u001b[0m\u001b[37m\u001b[0m \u001b[1m0s\u001b[0m 33ms/step - loss: 2.6139 - mape: 23.9269 - r2_score: -2.4845 - val_loss: 1.9894 - val_mape: 11.6432 - val_r2_score: 0.0393\n",
      "Epoch 134/250\n",
      "\u001b[1m5/5\u001b[0m \u001b[32m━━━━━━━━━━━━━━━━━━━━\u001b[0m\u001b[37m\u001b[0m \u001b[1m0s\u001b[0m 31ms/step - loss: 2.3226 - mape: 19.1971 - r2_score: -1.2528 - val_loss: 1.9599 - val_mape: 11.0103 - val_r2_score: 0.1020\n",
      "Epoch 135/250\n",
      "\u001b[1m5/5\u001b[0m \u001b[32m━━━━━━━━━━━━━━━━━━━━\u001b[0m\u001b[37m\u001b[0m \u001b[1m0s\u001b[0m 31ms/step - loss: 2.4749 - mape: 22.1709 - r2_score: -1.9720 - val_loss: 1.9440 - val_mape: 10.6579 - val_r2_score: 0.1566\n",
      "Epoch 136/250\n",
      "\u001b[1m5/5\u001b[0m \u001b[32m━━━━━━━━━━━━━━━━━━━━\u001b[0m\u001b[37m\u001b[0m \u001b[1m0s\u001b[0m 31ms/step - loss: 2.3439 - mape: 18.4978 - r2_score: -1.3010 - val_loss: 1.9203 - val_mape: 10.1440 - val_r2_score: 0.2241\n",
      "Epoch 137/250\n",
      "\u001b[1m5/5\u001b[0m \u001b[32m━━━━━━━━━━━━━━━━━━━━\u001b[0m\u001b[37m\u001b[0m \u001b[1m0s\u001b[0m 32ms/step - loss: 2.3389 - mape: 18.9285 - r2_score: -1.4726 - val_loss: 1.9357 - val_mape: 10.4454 - val_r2_score: 0.2566\n",
      "Epoch 138/250\n",
      "\u001b[1m5/5\u001b[0m \u001b[32m━━━━━━━━━━━━━━━━━━━━\u001b[0m\u001b[37m\u001b[0m \u001b[1m0s\u001b[0m 30ms/step - loss: 2.4800 - mape: 21.4695 - r2_score: -2.7414 - val_loss: 1.9673 - val_mape: 11.3245 - val_r2_score: 0.2098\n",
      "Epoch 139/250\n",
      "\u001b[1m5/5\u001b[0m \u001b[32m━━━━━━━━━━━━━━━━━━━━\u001b[0m\u001b[37m\u001b[0m \u001b[1m0s\u001b[0m 31ms/step - loss: 2.4210 - mape: 19.9209 - r2_score: -1.8360 - val_loss: 2.0091 - val_mape: 12.4947 - val_r2_score: 0.1266\n",
      "Epoch 140/250\n",
      "\u001b[1m5/5\u001b[0m \u001b[32m━━━━━━━━━━━━━━━━━━━━\u001b[0m\u001b[37m\u001b[0m \u001b[1m0s\u001b[0m 30ms/step - loss: 2.1319 - mape: 14.6690 - r2_score: -0.8028 - val_loss: 2.0423 - val_mape: 13.5235 - val_r2_score: 0.0201\n",
      "Epoch 141/250\n",
      "\u001b[1m5/5\u001b[0m \u001b[32m━━━━━━━━━━━━━━━━━━━━\u001b[0m\u001b[37m\u001b[0m \u001b[1m0s\u001b[0m 30ms/step - loss: 2.4177 - mape: 21.1935 - r2_score: -2.1307 - val_loss: 2.0411 - val_mape: 13.6885 - val_r2_score: -0.0165\n",
      "Epoch 142/250\n",
      "\u001b[1m5/5\u001b[0m \u001b[32m━━━━━━━━━━━━━━━━━━━━\u001b[0m\u001b[37m\u001b[0m \u001b[1m0s\u001b[0m 30ms/step - loss: 2.4309 - mape: 22.1267 - r2_score: -1.5783 - val_loss: 2.0074 - val_mape: 13.0796 - val_r2_score: 0.0147\n",
      "Epoch 143/250\n",
      "\u001b[1m5/5\u001b[0m \u001b[32m━━━━━━━━━━━━━━━━━━━━\u001b[0m\u001b[37m\u001b[0m \u001b[1m0s\u001b[0m 31ms/step - loss: 2.3299 - mape: 18.9147 - r2_score: -1.1888 - val_loss: 1.9965 - val_mape: 12.9162 - val_r2_score: 0.0532\n",
      "Epoch 144/250\n",
      "\u001b[1m5/5\u001b[0m \u001b[32m━━━━━━━━━━━━━━━━━━━━\u001b[0m\u001b[37m\u001b[0m \u001b[1m0s\u001b[0m 31ms/step - loss: 2.0823 - mape: 14.6505 - r2_score: -1.0282 - val_loss: 1.9416 - val_mape: 11.8307 - val_r2_score: 0.1185\n",
      "Epoch 145/250\n",
      "\u001b[1m5/5\u001b[0m \u001b[32m━━━━━━━━━━━━━━━━━━━━\u001b[0m\u001b[37m\u001b[0m \u001b[1m0s\u001b[0m 31ms/step - loss: 2.4697 - mape: 22.0323 - r2_score: -3.0947 - val_loss: 1.8934 - val_mape: 10.9793 - val_r2_score: 0.1273\n",
      "Epoch 146/250\n",
      "\u001b[1m5/5\u001b[0m \u001b[32m━━━━━━━━━━━━━━━━━━━━\u001b[0m\u001b[37m\u001b[0m \u001b[1m0s\u001b[0m 33ms/step - loss: 2.3148 - mape: 19.9343 - r2_score: -1.7032 - val_loss: 1.8847 - val_mape: 10.9871 - val_r2_score: 0.1160\n",
      "Epoch 147/250\n",
      "\u001b[1m5/5\u001b[0m \u001b[32m━━━━━━━━━━━━━━━━━━━━\u001b[0m\u001b[37m\u001b[0m \u001b[1m0s\u001b[0m 31ms/step - loss: 2.2954 - mape: 18.9198 - r2_score: -1.8850 - val_loss: 1.8665 - val_mape: 10.7402 - val_r2_score: 0.1307\n",
      "Epoch 148/250\n",
      "\u001b[1m5/5\u001b[0m \u001b[32m━━━━━━━━━━━━━━━━━━━━\u001b[0m\u001b[37m\u001b[0m \u001b[1m0s\u001b[0m 32ms/step - loss: 2.5070 - mape: 23.7918 - r2_score: -2.2153 - val_loss: 1.8636 - val_mape: 10.8709 - val_r2_score: 0.1161\n",
      "Epoch 149/250\n",
      "\u001b[1m5/5\u001b[0m \u001b[32m━━━━━━━━━━━━━━━━━━━━\u001b[0m\u001b[37m\u001b[0m \u001b[1m0s\u001b[0m 31ms/step - loss: 2.2224 - mape: 17.2865 - r2_score: -0.7290 - val_loss: 1.8581 - val_mape: 10.8887 - val_r2_score: 0.1075\n",
      "Epoch 150/250\n",
      "\u001b[1m5/5\u001b[0m \u001b[32m━━━━━━━━━━━━━━━━━━━━\u001b[0m\u001b[37m\u001b[0m \u001b[1m0s\u001b[0m 31ms/step - loss: 2.1248 - mape: 15.2203 - r2_score: -0.5615 - val_loss: 1.8409 - val_mape: 10.5975 - val_r2_score: 0.1514\n",
      "Epoch 151/250\n",
      "\u001b[1m5/5\u001b[0m \u001b[32m━━━━━━━━━━━━━━━━━━━━\u001b[0m\u001b[37m\u001b[0m \u001b[1m0s\u001b[0m 30ms/step - loss: 2.2185 - mape: 18.1326 - r2_score: -0.9775 - val_loss: 1.8198 - val_mape: 10.3231 - val_r2_score: 0.1620\n",
      "Epoch 152/250\n",
      "\u001b[1m5/5\u001b[0m \u001b[32m━━━━━━━━━━━━━━━━━━━━\u001b[0m\u001b[37m\u001b[0m \u001b[1m0s\u001b[0m 31ms/step - loss: 2.2574 - mape: 19.2347 - r2_score: -1.4567 - val_loss: 1.8279 - val_mape: 10.8099 - val_r2_score: 0.1383\n",
      "Epoch 153/250\n",
      "\u001b[1m5/5\u001b[0m \u001b[32m━━━━━━━━━━━━━━━━━━━━\u001b[0m\u001b[37m\u001b[0m \u001b[1m0s\u001b[0m 32ms/step - loss: 2.1417 - mape: 16.8404 - r2_score: -0.8943 - val_loss: 1.8344 - val_mape: 11.1966 - val_r2_score: 0.1167\n",
      "Epoch 154/250\n",
      "\u001b[1m5/5\u001b[0m \u001b[32m━━━━━━━━━━━━━━━━━━━━\u001b[0m\u001b[37m\u001b[0m \u001b[1m0s\u001b[0m 33ms/step - loss: 2.3647 - mape: 21.7264 - r2_score: -1.6976 - val_loss: 1.8400 - val_mape: 11.5743 - val_r2_score: 0.0723\n",
      "Epoch 155/250\n",
      "\u001b[1m5/5\u001b[0m \u001b[32m━━━━━━━━━━━━━━━━━━━━\u001b[0m\u001b[37m\u001b[0m \u001b[1m0s\u001b[0m 31ms/step - loss: 2.2086 - mape: 18.9028 - r2_score: -0.8786 - val_loss: 1.8540 - val_mape: 12.0219 - val_r2_score: 0.0471\n",
      "Epoch 156/250\n",
      "\u001b[1m5/5\u001b[0m \u001b[32m━━━━━━━━━━━━━━━━━━━━\u001b[0m\u001b[37m\u001b[0m \u001b[1m0s\u001b[0m 32ms/step - loss: 2.0756 - mape: 16.3078 - r2_score: -0.7064 - val_loss: 1.8491 - val_mape: 11.9668 - val_r2_score: 0.0785\n",
      "Epoch 157/250\n",
      "\u001b[1m5/5\u001b[0m \u001b[32m━━━━━━━━━━━━━━━━━━━━\u001b[0m\u001b[37m\u001b[0m \u001b[1m0s\u001b[0m 32ms/step - loss: 2.2132 - mape: 19.2238 - r2_score: -1.0336 - val_loss: 1.8476 - val_mape: 11.9001 - val_r2_score: 0.0710\n",
      "Epoch 158/250\n",
      "\u001b[1m5/5\u001b[0m \u001b[32m━━━━━━━━━━━━━━━━━━━━\u001b[0m\u001b[37m\u001b[0m \u001b[1m0s\u001b[0m 31ms/step - loss: 2.3055 - mape: 22.0815 - r2_score: -1.9186 - val_loss: 1.8490 - val_mape: 11.9275 - val_r2_score: 0.0297\n",
      "Epoch 159/250\n",
      "\u001b[1m5/5\u001b[0m \u001b[32m━━━━━━━━━━━━━━━━━━━━\u001b[0m\u001b[37m\u001b[0m \u001b[1m0s\u001b[0m 32ms/step - loss: 2.1771 - mape: 17.7337 - r2_score: -1.5489 - val_loss: 1.8040 - val_mape: 10.9721 - val_r2_score: 0.1171\n",
      "Epoch 160/250\n",
      "\u001b[1m5/5\u001b[0m \u001b[32m━━━━━━━━━━━━━━━━━━━━\u001b[0m\u001b[37m\u001b[0m \u001b[1m0s\u001b[0m 31ms/step - loss: 1.9120 - mape: 12.9850 - r2_score: -0.0604 - val_loss: 1.7764 - val_mape: 10.5300 - val_r2_score: 0.1609\n",
      "Epoch 161/250\n",
      "\u001b[1m5/5\u001b[0m \u001b[32m━━━━━━━━━━━━━━━━━━━━\u001b[0m\u001b[37m\u001b[0m \u001b[1m0s\u001b[0m 33ms/step - loss: 2.2734 - mape: 19.7757 - r2_score: -1.3083 - val_loss: 1.7790 - val_mape: 10.7823 - val_r2_score: 0.1551\n",
      "Epoch 162/250\n",
      "\u001b[1m5/5\u001b[0m \u001b[32m━━━━━━━━━━━━━━━━━━━━\u001b[0m\u001b[37m\u001b[0m \u001b[1m0s\u001b[0m 34ms/step - loss: 2.1551 - mape: 19.0542 - r2_score: -1.3582 - val_loss: 1.7698 - val_mape: 10.8263 - val_r2_score: 0.1408\n",
      "Epoch 163/250\n",
      "\u001b[1m5/5\u001b[0m \u001b[32m━━━━━━━━━━━━━━━━━━━━\u001b[0m\u001b[37m\u001b[0m \u001b[1m0s\u001b[0m 32ms/step - loss: 2.1051 - mape: 17.7962 - r2_score: -0.6095 - val_loss: 1.7582 - val_mape: 10.7272 - val_r2_score: 0.1606\n",
      "Epoch 164/250\n",
      "\u001b[1m5/5\u001b[0m \u001b[32m━━━━━━━━━━━━━━━━━━━━\u001b[0m\u001b[37m\u001b[0m \u001b[1m0s\u001b[0m 31ms/step - loss: 1.9950 - mape: 14.9919 - r2_score: -0.3146 - val_loss: 1.7486 - val_mape: 10.7584 - val_r2_score: 0.1303\n",
      "Epoch 165/250\n",
      "\u001b[1m5/5\u001b[0m \u001b[32m━━━━━━━━━━━━━━━━━━━━\u001b[0m\u001b[37m\u001b[0m \u001b[1m0s\u001b[0m 30ms/step - loss: 2.1904 - mape: 19.8431 - r2_score: -1.2137 - val_loss: 1.8232 - val_mape: 12.6256 - val_r2_score: -0.0585\n",
      "Epoch 166/250\n",
      "\u001b[1m5/5\u001b[0m \u001b[32m━━━━━━━━━━━━━━━━━━━━\u001b[0m\u001b[37m\u001b[0m \u001b[1m0s\u001b[0m 38ms/step - loss: 2.1672 - mape: 19.5929 - r2_score: -1.9618 - val_loss: 1.8694 - val_mape: 13.7849 - val_r2_score: -0.1990\n",
      "Epoch 167/250\n",
      "\u001b[1m5/5\u001b[0m \u001b[32m━━━━━━━━━━━━━━━━━━━━\u001b[0m\u001b[37m\u001b[0m \u001b[1m0s\u001b[0m 30ms/step - loss: 2.2131 - mape: 20.1621 - r2_score: -1.2178 - val_loss: 1.8287 - val_mape: 13.0126 - val_r2_score: -0.1064\n",
      "Epoch 168/250\n",
      "\u001b[1m5/5\u001b[0m \u001b[32m━━━━━━━━━━━━━━━━━━━━\u001b[0m\u001b[37m\u001b[0m \u001b[1m0s\u001b[0m 30ms/step - loss: 2.0502 - mape: 17.4061 - r2_score: -0.5526 - val_loss: 1.7796 - val_mape: 12.0322 - val_r2_score: -0.0039\n",
      "Epoch 169/250\n",
      "\u001b[1m5/5\u001b[0m \u001b[32m━━━━━━━━━━━━━━━━━━━━\u001b[0m\u001b[37m\u001b[0m \u001b[1m0s\u001b[0m 33ms/step - loss: 2.1357 - mape: 19.2607 - r2_score: -1.0378 - val_loss: 1.7100 - val_mape: 10.5632 - val_r2_score: 0.1286\n",
      "Epoch 170/250\n",
      "\u001b[1m5/5\u001b[0m \u001b[32m━━━━━━━━━━━━━━━━━━━━\u001b[0m\u001b[37m\u001b[0m \u001b[1m0s\u001b[0m 32ms/step - loss: 2.2953 - mape: 21.3373 - r2_score: -2.9419 - val_loss: 1.6676 - val_mape: 9.6867 - val_r2_score: 0.2212\n",
      "Epoch 171/250\n",
      "\u001b[1m5/5\u001b[0m \u001b[32m━━━━━━━━━━━━━━━━━━━━\u001b[0m\u001b[37m\u001b[0m \u001b[1m0s\u001b[0m 31ms/step - loss: 2.1423 - mape: 19.0862 - r2_score: -1.7431 - val_loss: 1.6622 - val_mape: 9.6722 - val_r2_score: 0.2294\n",
      "Epoch 172/250\n",
      "\u001b[1m5/5\u001b[0m \u001b[32m━━━━━━━━━━━━━━━━━━━━\u001b[0m\u001b[37m\u001b[0m \u001b[1m0s\u001b[0m 30ms/step - loss: 2.2580 - mape: 22.0745 - r2_score: -2.4060 - val_loss: 1.6612 - val_mape: 9.6927 - val_r2_score: 0.2449\n",
      "Epoch 173/250\n",
      "\u001b[1m5/5\u001b[0m \u001b[32m━━━━━━━━━━━━━━━━━━━━\u001b[0m\u001b[37m\u001b[0m \u001b[1m0s\u001b[0m 31ms/step - loss: 2.1558 - mape: 20.4476 - r2_score: -1.3891 - val_loss: 1.6622 - val_mape: 9.7354 - val_r2_score: 0.2604\n",
      "Epoch 174/250\n",
      "\u001b[1m5/5\u001b[0m \u001b[32m━━━━━━━━━━━━━━━━━━━━\u001b[0m\u001b[37m\u001b[0m \u001b[1m0s\u001b[0m 32ms/step - loss: 2.0438 - mape: 17.1870 - r2_score: -1.0587 - val_loss: 1.6618 - val_mape: 9.7058 - val_r2_score: 0.2852\n",
      "Epoch 175/250\n",
      "\u001b[1m5/5\u001b[0m \u001b[32m━━━━━━━━━━━━━━━━━━━━\u001b[0m\u001b[37m\u001b[0m \u001b[1m0s\u001b[0m 30ms/step - loss: 2.0194 - mape: 16.9720 - r2_score: -0.8444 - val_loss: 1.6606 - val_mape: 9.7707 - val_r2_score: 0.2759\n",
      "Epoch 176/250\n",
      "\u001b[1m5/5\u001b[0m \u001b[32m━━━━━━━━━━━━━━━━━━━━\u001b[0m\u001b[37m\u001b[0m \u001b[1m0s\u001b[0m 30ms/step - loss: 2.1401 - mape: 20.3098 - r2_score: -1.2662 - val_loss: 1.6648 - val_mape: 10.0844 - val_r2_score: 0.2398\n",
      "Epoch 177/250\n",
      "\u001b[1m5/5\u001b[0m \u001b[32m━━━━━━━━━━━━━━━━━━━━\u001b[0m\u001b[37m\u001b[0m \u001b[1m0s\u001b[0m 30ms/step - loss: 1.9612 - mape: 15.7252 - r2_score: -0.8149 - val_loss: 1.6546 - val_mape: 10.0393 - val_r2_score: 0.2225\n",
      "Epoch 178/250\n",
      "\u001b[1m5/5\u001b[0m \u001b[32m━━━━━━━━━━━━━━━━━━━━\u001b[0m\u001b[37m\u001b[0m \u001b[1m0s\u001b[0m 33ms/step - loss: 2.0550 - mape: 17.0427 - r2_score: -1.1430 - val_loss: 1.6592 - val_mape: 10.3055 - val_r2_score: 0.1830\n",
      "Epoch 179/250\n",
      "\u001b[1m5/5\u001b[0m \u001b[32m━━━━━━━━━━━━━━━━━━━━\u001b[0m\u001b[37m\u001b[0m \u001b[1m0s\u001b[0m 33ms/step - loss: 2.2950 - mape: 24.5500 - r2_score: -2.0691 - val_loss: 1.6820 - val_mape: 10.8751 - val_r2_score: 0.1691\n",
      "Epoch 180/250\n",
      "\u001b[1m5/5\u001b[0m \u001b[32m━━━━━━━━━━━━━━━━━━━━\u001b[0m\u001b[37m\u001b[0m \u001b[1m0s\u001b[0m 33ms/step - loss: 2.2385 - mape: 22.2719 - r2_score: -1.8239 - val_loss: 1.6797 - val_mape: 11.0142 - val_r2_score: 0.1664\n",
      "Epoch 181/250\n",
      "\u001b[1m5/5\u001b[0m \u001b[32m━━━━━━━━━━━━━━━━━━━━\u001b[0m\u001b[37m\u001b[0m \u001b[1m0s\u001b[0m 31ms/step - loss: 1.9394 - mape: 16.0738 - r2_score: -0.3118 - val_loss: 1.6572 - val_mape: 10.7311 - val_r2_score: 0.1839\n",
      "Epoch 182/250\n",
      "\u001b[1m5/5\u001b[0m \u001b[32m━━━━━━━━━━━━━━━━━━━━\u001b[0m\u001b[37m\u001b[0m \u001b[1m0s\u001b[0m 31ms/step - loss: 2.2068 - mape: 21.1443 - r2_score: -2.1488 - val_loss: 1.6422 - val_mape: 10.5035 - val_r2_score: 0.1984\n",
      "Epoch 183/250\n",
      "\u001b[1m5/5\u001b[0m \u001b[32m━━━━━━━━━━━━━━━━━━━━\u001b[0m\u001b[37m\u001b[0m \u001b[1m0s\u001b[0m 31ms/step - loss: 1.8936 - mape: 15.0943 - r2_score: -0.4007 - val_loss: 1.6403 - val_mape: 10.5274 - val_r2_score: 0.1770\n",
      "Epoch 184/250\n",
      "\u001b[1m5/5\u001b[0m \u001b[32m━━━━━━━━━━━━━━━━━━━━\u001b[0m\u001b[37m\u001b[0m \u001b[1m0s\u001b[0m 31ms/step - loss: 1.9844 - mape: 17.1828 - r2_score: -1.5684 - val_loss: 1.6462 - val_mape: 10.8340 - val_r2_score: 0.1681\n",
      "Epoch 185/250\n",
      "\u001b[1m5/5\u001b[0m \u001b[32m━━━━━━━━━━━━━━━━━━━━\u001b[0m\u001b[37m\u001b[0m \u001b[1m0s\u001b[0m 31ms/step - loss: 1.8962 - mape: 16.3089 - r2_score: -0.6211 - val_loss: 1.6467 - val_mape: 11.0811 - val_r2_score: 0.1539\n",
      "Epoch 186/250\n",
      "\u001b[1m5/5\u001b[0m \u001b[32m━━━━━━━━━━━━━━━━━━━━\u001b[0m\u001b[37m\u001b[0m \u001b[1m0s\u001b[0m 31ms/step - loss: 1.9969 - mape: 17.8978 - r2_score: -0.9785 - val_loss: 1.6312 - val_mape: 10.8098 - val_r2_score: 0.1390\n",
      "Epoch 187/250\n",
      "\u001b[1m5/5\u001b[0m \u001b[32m━━━━━━━━━━━━━━━━━━━━\u001b[0m\u001b[37m\u001b[0m \u001b[1m0s\u001b[0m 32ms/step - loss: 1.9112 - mape: 16.1739 - r2_score: -0.9514 - val_loss: 1.6240 - val_mape: 10.7641 - val_r2_score: 0.1191\n",
      "Epoch 188/250\n",
      "\u001b[1m5/5\u001b[0m \u001b[32m━━━━━━━━━━━━━━━━━━━━\u001b[0m\u001b[37m\u001b[0m \u001b[1m0s\u001b[0m 31ms/step - loss: 1.9984 - mape: 18.6704 - r2_score: -0.6949 - val_loss: 1.6628 - val_mape: 11.7317 - val_r2_score: 0.0179\n",
      "Epoch 189/250\n",
      "\u001b[1m5/5\u001b[0m \u001b[32m━━━━━━━━━━━━━━━━━━━━\u001b[0m\u001b[37m\u001b[0m \u001b[1m0s\u001b[0m 32ms/step - loss: 1.9980 - mape: 17.3749 - r2_score: -0.9656 - val_loss: 1.7072 - val_mape: 12.7932 - val_r2_score: -0.1064\n",
      "Epoch 190/250\n",
      "\u001b[1m5/5\u001b[0m \u001b[32m━━━━━━━━━━━━━━━━━━━━\u001b[0m\u001b[37m\u001b[0m \u001b[1m0s\u001b[0m 30ms/step - loss: 1.9949 - mape: 18.8531 - r2_score: -0.7528 - val_loss: 1.7134 - val_mape: 13.0379 - val_r2_score: -0.1338\n",
      "Epoch 191/250\n",
      "\u001b[1m5/5\u001b[0m \u001b[32m━━━━━━━━━━━━━━━━━━━━\u001b[0m\u001b[37m\u001b[0m \u001b[1m0s\u001b[0m 31ms/step - loss: 1.9563 - mape: 16.8620 - r2_score: -0.5834 - val_loss: 1.6896 - val_mape: 12.6154 - val_r2_score: -0.0830\n",
      "Epoch 192/250\n",
      "\u001b[1m5/5\u001b[0m \u001b[32m━━━━━━━━━━━━━━━━━━━━\u001b[0m\u001b[37m\u001b[0m \u001b[1m0s\u001b[0m 31ms/step - loss: 1.8892 - mape: 17.2978 - r2_score: -0.6284 - val_loss: 1.6867 - val_mape: 12.6787 - val_r2_score: -0.0823\n",
      "Epoch 193/250\n",
      "\u001b[1m5/5\u001b[0m \u001b[32m━━━━━━━━━━━━━━━━━━━━\u001b[0m\u001b[37m\u001b[0m \u001b[1m0s\u001b[0m 30ms/step - loss: 1.9409 - mape: 18.4192 - r2_score: -1.0837 - val_loss: 1.6442 - val_mape: 11.8300 - val_r2_score: -0.0038\n",
      "Epoch 194/250\n",
      "\u001b[1m5/5\u001b[0m \u001b[32m━━━━━━━━━━━━━━━━━━━━\u001b[0m\u001b[37m\u001b[0m \u001b[1m0s\u001b[0m 31ms/step - loss: 2.0585 - mape: 19.6971 - r2_score: -1.5349 - val_loss: 1.6229 - val_mape: 11.4561 - val_r2_score: 0.0281\n",
      "Epoch 195/250\n",
      "\u001b[1m5/5\u001b[0m \u001b[32m━━━━━━━━━━━━━━━━━━━━\u001b[0m\u001b[37m\u001b[0m \u001b[1m0s\u001b[0m 30ms/step - loss: 1.8835 - mape: 16.5336 - r2_score: -0.5870 - val_loss: 1.5905 - val_mape: 10.9689 - val_r2_score: 0.1057\n",
      "Epoch 196/250\n",
      "\u001b[1m5/5\u001b[0m \u001b[32m━━━━━━━━━━━━━━━━━━━━\u001b[0m\u001b[37m\u001b[0m \u001b[1m0s\u001b[0m 31ms/step - loss: 1.9294 - mape: 17.5355 - r2_score: -0.4526 - val_loss: 1.5839 - val_mape: 10.9085 - val_r2_score: 0.1404\n",
      "Epoch 197/250\n",
      "\u001b[1m5/5\u001b[0m \u001b[32m━━━━━━━━━━━━━━━━━━━━\u001b[0m\u001b[37m\u001b[0m \u001b[1m0s\u001b[0m 39ms/step - loss: 1.9160 - mape: 17.3454 - r2_score: -0.8592 - val_loss: 1.5898 - val_mape: 11.0656 - val_r2_score: 0.1607\n",
      "Epoch 198/250\n",
      "\u001b[1m5/5\u001b[0m \u001b[32m━━━━━━━━━━━━━━━━━━━━\u001b[0m\u001b[37m\u001b[0m \u001b[1m0s\u001b[0m 32ms/step - loss: 1.9213 - mape: 18.1628 - r2_score: -0.6349 - val_loss: 1.6057 - val_mape: 11.5115 - val_r2_score: 0.1385\n",
      "Epoch 199/250\n",
      "\u001b[1m5/5\u001b[0m \u001b[32m━━━━━━━━━━━━━━━━━━━━\u001b[0m\u001b[37m\u001b[0m \u001b[1m0s\u001b[0m 33ms/step - loss: 1.8018 - mape: 14.7369 - r2_score: -0.7580 - val_loss: 1.6127 - val_mape: 11.7305 - val_r2_score: 0.1043\n",
      "Epoch 200/250\n",
      "\u001b[1m5/5\u001b[0m \u001b[32m━━━━━━━━━━━━━━━━━━━━\u001b[0m\u001b[37m\u001b[0m \u001b[1m0s\u001b[0m 31ms/step - loss: 2.1217 - mape: 21.4820 - r2_score: -2.1448 - val_loss: 1.6170 - val_mape: 11.9501 - val_r2_score: 0.0652\n",
      "Epoch 201/250\n",
      "\u001b[1m5/5\u001b[0m \u001b[32m━━━━━━━━━━━━━━━━━━━━\u001b[0m\u001b[37m\u001b[0m \u001b[1m0s\u001b[0m 36ms/step - loss: 1.9584 - mape: 18.9805 - r2_score: -1.4798 - val_loss: 1.6182 - val_mape: 12.1633 - val_r2_score: -0.0065\n",
      "Epoch 202/250\n",
      "\u001b[1m5/5\u001b[0m \u001b[32m━━━━━━━━━━━━━━━━━━━━\u001b[0m\u001b[37m\u001b[0m \u001b[1m0s\u001b[0m 31ms/step - loss: 2.0548 - mape: 21.7341 - r2_score: -1.2824 - val_loss: 1.6320 - val_mape: 12.5983 - val_r2_score: -0.1347\n",
      "Epoch 203/250\n",
      "\u001b[1m5/5\u001b[0m \u001b[32m━━━━━━━━━━━━━━━━━━━━\u001b[0m\u001b[37m\u001b[0m \u001b[1m0s\u001b[0m 30ms/step - loss: 1.8475 - mape: 15.5888 - r2_score: -1.8456 - val_loss: 1.6283 - val_mape: 12.6866 - val_r2_score: -0.1264\n",
      "Epoch 204/250\n",
      "\u001b[1m5/5\u001b[0m \u001b[32m━━━━━━━━━━━━━━━━━━━━\u001b[0m\u001b[37m\u001b[0m \u001b[1m0s\u001b[0m 31ms/step - loss: 2.0465 - mape: 21.2987 - r2_score: -1.2407 - val_loss: 1.5743 - val_mape: 11.6413 - val_r2_score: 0.0123\n",
      "Epoch 205/250\n",
      "\u001b[1m5/5\u001b[0m \u001b[32m━━━━━━━━━━━━━━━━━━━━\u001b[0m\u001b[37m\u001b[0m \u001b[1m0s\u001b[0m 31ms/step - loss: 1.9233 - mape: 19.0091 - r2_score: -0.9781 - val_loss: 1.5671 - val_mape: 11.4651 - val_r2_score: 0.0826\n",
      "Epoch 206/250\n",
      "\u001b[1m5/5\u001b[0m \u001b[32m━━━━━━━━━━━━━━━━━━━━\u001b[0m\u001b[37m\u001b[0m \u001b[1m0s\u001b[0m 31ms/step - loss: 1.6474 - mape: 12.2222 - r2_score: 0.0887 - val_loss: 1.5494 - val_mape: 11.0735 - val_r2_score: 0.1604\n",
      "Epoch 207/250\n",
      "\u001b[1m5/5\u001b[0m \u001b[32m━━━━━━━━━━━━━━━━━━━━\u001b[0m\u001b[37m\u001b[0m \u001b[1m0s\u001b[0m 37ms/step - loss: 1.9426 - mape: 18.8612 - r2_score: -1.4217 - val_loss: 1.5370 - val_mape: 10.9149 - val_r2_score: 0.1822\n",
      "Epoch 208/250\n",
      "\u001b[1m5/5\u001b[0m \u001b[32m━━━━━━━━━━━━━━━━━━━━\u001b[0m\u001b[37m\u001b[0m \u001b[1m0s\u001b[0m 31ms/step - loss: 1.7459 - mape: 15.3737 - r2_score: -0.3151 - val_loss: 1.5282 - val_mape: 10.8299 - val_r2_score: 0.2069\n",
      "Epoch 209/250\n",
      "\u001b[1m5/5\u001b[0m \u001b[32m━━━━━━━━━━━━━━━━━━━━\u001b[0m\u001b[37m\u001b[0m \u001b[1m0s\u001b[0m 30ms/step - loss: 1.7751 - mape: 15.4244 - r2_score: -0.2844 - val_loss: 1.5355 - val_mape: 11.1547 - val_r2_score: 0.1753\n",
      "Epoch 210/250\n",
      "\u001b[1m5/5\u001b[0m \u001b[32m━━━━━━━━━━━━━━━━━━━━\u001b[0m\u001b[37m\u001b[0m \u001b[1m0s\u001b[0m 34ms/step - loss: 1.8672 - mape: 17.1794 - r2_score: -1.1501 - val_loss: 1.5400 - val_mape: 11.5301 - val_r2_score: 0.0954\n",
      "Epoch 211/250\n",
      "\u001b[1m5/5\u001b[0m \u001b[32m━━━━━━━━━━━━━━━━━━━━\u001b[0m\u001b[37m\u001b[0m \u001b[1m0s\u001b[0m 32ms/step - loss: 1.9191 - mape: 18.8440 - r2_score: -1.6819 - val_loss: 1.5847 - val_mape: 12.7142 - val_r2_score: -0.0698\n",
      "Epoch 212/250\n",
      "\u001b[1m5/5\u001b[0m \u001b[32m━━━━━━━━━━━━━━━━━━━━\u001b[0m\u001b[37m\u001b[0m \u001b[1m0s\u001b[0m 31ms/step - loss: 1.8017 - mape: 16.3015 - r2_score: -1.0574 - val_loss: 1.5854 - val_mape: 12.8971 - val_r2_score: -0.0893\n",
      "Epoch 213/250\n",
      "\u001b[1m5/5\u001b[0m \u001b[32m━━━━━━━━━━━━━━━━━━━━\u001b[0m\u001b[37m\u001b[0m \u001b[1m0s\u001b[0m 31ms/step - loss: 1.6426 - mape: 13.1679 - r2_score: -0.0338 - val_loss: 1.5519 - val_mape: 12.2909 - val_r2_score: 9.8276e-04\n",
      "Epoch 214/250\n",
      "\u001b[1m5/5\u001b[0m \u001b[32m━━━━━━━━━━━━━━━━━━━━\u001b[0m\u001b[37m\u001b[0m \u001b[1m0s\u001b[0m 32ms/step - loss: 1.6922 - mape: 13.6690 - r2_score: -0.0915 - val_loss: 1.4953 - val_mape: 11.1292 - val_r2_score: 0.1273\n",
      "Epoch 215/250\n",
      "\u001b[1m5/5\u001b[0m \u001b[32m━━━━━━━━━━━━━━━━━━━━\u001b[0m\u001b[37m\u001b[0m \u001b[1m0s\u001b[0m 31ms/step - loss: 1.5614 - mape: 11.5102 - r2_score: 0.1506 - val_loss: 1.4970 - val_mape: 11.1875 - val_r2_score: 0.1486\n",
      "Epoch 216/250\n",
      "\u001b[1m5/5\u001b[0m \u001b[32m━━━━━━━━━━━━━━━━━━━━\u001b[0m\u001b[37m\u001b[0m \u001b[1m0s\u001b[0m 31ms/step - loss: 1.6740 - mape: 13.8652 - r2_score: -0.1692 - val_loss: 1.4906 - val_mape: 11.1677 - val_r2_score: 0.1310\n",
      "Epoch 217/250\n",
      "\u001b[1m5/5\u001b[0m \u001b[32m━━━━━━━━━━━━━━━━━━━━\u001b[0m\u001b[37m\u001b[0m \u001b[1m0s\u001b[0m 31ms/step - loss: 1.8557 - mape: 17.6526 - r2_score: -1.2509 - val_loss: 1.4977 - val_mape: 11.3925 - val_r2_score: 0.0801\n",
      "Epoch 218/250\n",
      "\u001b[1m5/5\u001b[0m \u001b[32m━━━━━━━━━━━━━━━━━━━━\u001b[0m\u001b[37m\u001b[0m \u001b[1m0s\u001b[0m 32ms/step - loss: 1.8990 - mape: 19.9602 - r2_score: -0.9565 - val_loss: 1.4789 - val_mape: 11.0500 - val_r2_score: 0.1174\n",
      "Epoch 219/250\n",
      "\u001b[1m5/5\u001b[0m \u001b[32m━━━━━━━━━━━━━━━━━━━━\u001b[0m\u001b[37m\u001b[0m \u001b[1m0s\u001b[0m 30ms/step - loss: 1.7029 - mape: 14.8511 - r2_score: -0.1256 - val_loss: 1.4752 - val_mape: 11.0031 - val_r2_score: 0.1267\n",
      "Epoch 220/250\n",
      "\u001b[1m5/5\u001b[0m \u001b[32m━━━━━━━━━━━━━━━━━━━━\u001b[0m\u001b[37m\u001b[0m \u001b[1m0s\u001b[0m 33ms/step - loss: 1.7330 - mape: 15.4356 - r2_score: -0.7069 - val_loss: 1.4668 - val_mape: 10.8922 - val_r2_score: 0.1345\n",
      "Epoch 221/250\n",
      "\u001b[1m5/5\u001b[0m \u001b[32m━━━━━━━━━━━━━━━━━━━━\u001b[0m\u001b[37m\u001b[0m \u001b[1m0s\u001b[0m 37ms/step - loss: 1.7905 - mape: 16.2912 - r2_score: -1.1799 - val_loss: 1.4814 - val_mape: 11.3294 - val_r2_score: 0.1183\n",
      "Epoch 222/250\n",
      "\u001b[1m5/5\u001b[0m \u001b[32m━━━━━━━━━━━━━━━━━━━━\u001b[0m\u001b[37m\u001b[0m \u001b[1m0s\u001b[0m 30ms/step - loss: 1.7198 - mape: 15.2505 - r2_score: -0.6868 - val_loss: 1.4635 - val_mape: 10.8946 - val_r2_score: 0.2025\n",
      "Epoch 223/250\n",
      "\u001b[1m5/5\u001b[0m \u001b[32m━━━━━━━━━━━━━━━━━━━━\u001b[0m\u001b[37m\u001b[0m \u001b[1m0s\u001b[0m 30ms/step - loss: 1.7450 - mape: 16.6208 - r2_score: -0.4197 - val_loss: 1.4714 - val_mape: 11.2767 - val_r2_score: 0.1366\n",
      "Epoch 224/250\n",
      "\u001b[1m5/5\u001b[0m \u001b[32m━━━━━━━━━━━━━━━━━━━━\u001b[0m\u001b[37m\u001b[0m \u001b[1m0s\u001b[0m 30ms/step - loss: 1.7252 - mape: 15.8677 - r2_score: -0.6294 - val_loss: 1.5087 - val_mape: 12.3691 - val_r2_score: -0.0423\n",
      "Epoch 225/250\n",
      "\u001b[1m5/5\u001b[0m \u001b[32m━━━━━━━━━━━━━━━━━━━━\u001b[0m\u001b[37m\u001b[0m \u001b[1m0s\u001b[0m 32ms/step - loss: 1.8046 - mape: 18.3406 - r2_score: -1.2540 - val_loss: 1.5319 - val_mape: 13.0152 - val_r2_score: -0.1355\n",
      "Epoch 226/250\n",
      "\u001b[1m5/5\u001b[0m \u001b[32m━━━━━━━━━━━━━━━━━━━━\u001b[0m\u001b[37m\u001b[0m \u001b[1m0s\u001b[0m 32ms/step - loss: 1.8274 - mape: 19.2283 - r2_score: -1.1853 - val_loss: 1.4916 - val_mape: 12.2307 - val_r2_score: -0.0720\n",
      "Epoch 227/250\n",
      "\u001b[1m5/5\u001b[0m \u001b[32m━━━━━━━━━━━━━━━━━━━━\u001b[0m\u001b[37m\u001b[0m \u001b[1m0s\u001b[0m 30ms/step - loss: 1.8452 - mape: 19.9510 - r2_score: -0.9997 - val_loss: 1.4489 - val_mape: 11.4128 - val_r2_score: -0.0094\n",
      "Epoch 228/250\n",
      "\u001b[1m5/5\u001b[0m \u001b[32m━━━━━━━━━━━━━━━━━━━━\u001b[0m\u001b[37m\u001b[0m \u001b[1m0s\u001b[0m 30ms/step - loss: 1.7918 - mape: 17.9472 - r2_score: -0.9200 - val_loss: 1.4496 - val_mape: 11.5321 - val_r2_score: -0.0235\n",
      "Epoch 229/250\n",
      "\u001b[1m5/5\u001b[0m \u001b[32m━━━━━━━━━━━━━━━━━━━━\u001b[0m\u001b[37m\u001b[0m \u001b[1m0s\u001b[0m 34ms/step - loss: 1.6461 - mape: 14.8552 - r2_score: -0.1828 - val_loss: 1.4816 - val_mape: 12.3749 - val_r2_score: -0.1303\n",
      "Epoch 230/250\n",
      "\u001b[1m5/5\u001b[0m \u001b[32m━━━━━━━━━━━━━━━━━━━━\u001b[0m\u001b[37m\u001b[0m \u001b[1m0s\u001b[0m 32ms/step - loss: 1.8473 - mape: 19.4993 - r2_score: -0.8835 - val_loss: 1.4879 - val_mape: 12.5885 - val_r2_score: -0.1455\n",
      "Epoch 231/250\n",
      "\u001b[1m5/5\u001b[0m \u001b[32m━━━━━━━━━━━━━━━━━━━━\u001b[0m\u001b[37m\u001b[0m \u001b[1m0s\u001b[0m 31ms/step - loss: 1.5729 - mape: 12.9104 - r2_score: -0.0989 - val_loss: 1.4886 - val_mape: 12.6629 - val_r2_score: -0.1353\n",
      "Epoch 232/250\n",
      "\u001b[1m5/5\u001b[0m \u001b[32m━━━━━━━━━━━━━━━━━━━━\u001b[0m\u001b[37m\u001b[0m \u001b[1m0s\u001b[0m 37ms/step - loss: 1.8339 - mape: 20.1560 - r2_score: -1.8802 - val_loss: 1.4683 - val_mape: 12.2668 - val_r2_score: -0.0765\n",
      "Epoch 233/250\n",
      "\u001b[1m5/5\u001b[0m \u001b[32m━━━━━━━━━━━━━━━━━━━━\u001b[0m\u001b[37m\u001b[0m \u001b[1m0s\u001b[0m 30ms/step - loss: 1.6838 - mape: 16.8545 - r2_score: -0.7570 - val_loss: 1.4532 - val_mape: 12.2549 - val_r2_score: 0.0030\n",
      "Epoch 234/250\n",
      "\u001b[1m5/5\u001b[0m \u001b[32m━━━━━━━━━━━━━━━━━━━━\u001b[0m\u001b[37m\u001b[0m \u001b[1m0s\u001b[0m 32ms/step - loss: 1.6889 - mape: 16.4133 - r2_score: -0.8682 - val_loss: 1.4739 - val_mape: 12.8513 - val_r2_score: -0.0042\n",
      "Epoch 235/250\n",
      "\u001b[1m5/5\u001b[0m \u001b[32m━━━━━━━━━━━━━━━━━━━━\u001b[0m\u001b[37m\u001b[0m \u001b[1m0s\u001b[0m 32ms/step - loss: 1.5940 - mape: 15.4131 - r2_score: -0.6567 - val_loss: 1.4609 - val_mape: 12.6093 - val_r2_score: 0.0344\n",
      "Epoch 236/250\n",
      "\u001b[1m5/5\u001b[0m \u001b[32m━━━━━━━━━━━━━━━━━━━━\u001b[0m\u001b[37m\u001b[0m \u001b[1m0s\u001b[0m 33ms/step - loss: 1.6229 - mape: 14.9269 - r2_score: -0.4629 - val_loss: 1.4559 - val_mape: 12.5571 - val_r2_score: 0.0462\n",
      "Epoch 237/250\n",
      "\u001b[1m5/5\u001b[0m \u001b[32m━━━━━━━━━━━━━━━━━━━━\u001b[0m\u001b[37m\u001b[0m \u001b[1m0s\u001b[0m 32ms/step - loss: 1.6629 - mape: 16.1911 - r2_score: -0.7837 - val_loss: 1.4232 - val_mape: 11.8023 - val_r2_score: 0.1280\n",
      "Epoch 238/250\n",
      "\u001b[1m5/5\u001b[0m \u001b[32m━━━━━━━━━━━━━━━━━━━━\u001b[0m\u001b[37m\u001b[0m \u001b[1m0s\u001b[0m 31ms/step - loss: 1.6847 - mape: 16.2459 - r2_score: -1.0011 - val_loss: 1.3980 - val_mape: 11.2474 - val_r2_score: 0.0650\n",
      "Epoch 239/250\n",
      "\u001b[1m5/5\u001b[0m \u001b[32m━━━━━━━━━━━━━━━━━━━━\u001b[0m\u001b[37m\u001b[0m \u001b[1m0s\u001b[0m 30ms/step - loss: 1.6485 - mape: 15.4962 - r2_score: -0.5378 - val_loss: 1.4238 - val_mape: 11.9166 - val_r2_score: -0.0303\n",
      "Epoch 240/250\n",
      "\u001b[1m5/5\u001b[0m \u001b[32m━━━━━━━━━━━━━━━━━━━━\u001b[0m\u001b[37m\u001b[0m \u001b[1m0s\u001b[0m 32ms/step - loss: 1.8146 - mape: 20.0461 - r2_score: -1.0302 - val_loss: 1.4526 - val_mape: 12.6242 - val_r2_score: -0.1321\n",
      "Epoch 241/250\n",
      "\u001b[1m5/5\u001b[0m \u001b[32m━━━━━━━━━━━━━━━━━━━━\u001b[0m\u001b[37m\u001b[0m \u001b[1m0s\u001b[0m 32ms/step - loss: 1.6529 - mape: 16.0702 - r2_score: -0.3089 - val_loss: 1.4352 - val_mape: 12.3317 - val_r2_score: -0.1132\n",
      "Epoch 242/250\n",
      "\u001b[1m5/5\u001b[0m \u001b[32m━━━━━━━━━━━━━━━━━━━━\u001b[0m\u001b[37m\u001b[0m \u001b[1m0s\u001b[0m 31ms/step - loss: 1.7467 - mape: 18.2420 - r2_score: -0.9032 - val_loss: 1.4188 - val_mape: 12.0467 - val_r2_score: -0.0874\n",
      "Epoch 243/250\n",
      "\u001b[1m5/5\u001b[0m \u001b[32m━━━━━━━━━━━━━━━━━━━━\u001b[0m\u001b[37m\u001b[0m \u001b[1m0s\u001b[0m 32ms/step - loss: 1.7398 - mape: 18.2782 - r2_score: -1.6760 - val_loss: 1.3775 - val_mape: 11.3627 - val_r2_score: -0.0109\n",
      "Epoch 244/250\n",
      "\u001b[1m5/5\u001b[0m \u001b[32m━━━━━━━━━━━━━━━━━━━━\u001b[0m\u001b[37m\u001b[0m \u001b[1m0s\u001b[0m 36ms/step - loss: 1.8770 - mape: 22.1512 - r2_score: -1.8108 - val_loss: 1.3391 - val_mape: 10.6453 - val_r2_score: 0.0958\n",
      "Epoch 245/250\n",
      "\u001b[1m5/5\u001b[0m \u001b[32m━━━━━━━━━━━━━━━━━━━━\u001b[0m\u001b[37m\u001b[0m \u001b[1m0s\u001b[0m 31ms/step - loss: 1.5986 - mape: 14.9539 - r2_score: -0.5274 - val_loss: 1.3347 - val_mape: 10.5947 - val_r2_score: 0.1319\n",
      "Epoch 246/250\n",
      "\u001b[1m5/5\u001b[0m \u001b[32m━━━━━━━━━━━━━━━━━━━━\u001b[0m\u001b[37m\u001b[0m \u001b[1m0s\u001b[0m 32ms/step - loss: 1.5834 - mape: 15.0744 - r2_score: -0.3955 - val_loss: 1.3237 - val_mape: 10.3023 - val_r2_score: 0.1774\n",
      "Epoch 247/250\n",
      "\u001b[1m5/5\u001b[0m \u001b[32m━━━━━━━━━━━━━━━━━━━━\u001b[0m\u001b[37m\u001b[0m \u001b[1m0s\u001b[0m 36ms/step - loss: 1.7264 - mape: 17.9757 - r2_score: -0.6842 - val_loss: 1.3222 - val_mape: 10.2967 - val_r2_score: 0.2000\n",
      "Epoch 248/250\n",
      "\u001b[1m5/5\u001b[0m \u001b[32m━━━━━━━━━━━━━━━━━━━━\u001b[0m\u001b[37m\u001b[0m \u001b[1m0s\u001b[0m 30ms/step - loss: 1.4585 - mape: 12.6622 - r2_score: 0.1170 - val_loss: 1.3233 - val_mape: 10.3544 - val_r2_score: 0.1851\n",
      "Epoch 249/250\n",
      "\u001b[1m5/5\u001b[0m \u001b[32m━━━━━━━━━━━━━━━━━━━━\u001b[0m\u001b[37m\u001b[0m \u001b[1m0s\u001b[0m 32ms/step - loss: 1.7816 - mape: 19.3912 - r2_score: -1.5203 - val_loss: 1.3496 - val_mape: 10.9830 - val_r2_score: 0.1052\n",
      "Epoch 250/250\n",
      "\u001b[1m5/5\u001b[0m \u001b[32m━━━━━━━━━━━━━━━━━━━━\u001b[0m\u001b[37m\u001b[0m \u001b[1m0s\u001b[0m 34ms/step - loss: 1.6050 - mape: 15.5933 - r2_score: -0.2281 - val_loss: 1.3656 - val_mape: 11.4122 - val_r2_score: 0.0342\n",
      "Epoch 1/250\n",
      "\u001b[1m5/5\u001b[0m \u001b[32m━━━━━━━━━━━━━━━━━━━━\u001b[0m\u001b[37m\u001b[0m \u001b[1m4s\u001b[0m 144ms/step - loss: 8.1102 - mape: 89.1048 - r2_score: -37.9355 - val_loss: 8.1696 - val_mape: 89.2480 - val_r2_score: -38.9842\n",
      "Epoch 2/250\n",
      "\u001b[1m5/5\u001b[0m \u001b[32m━━━━━━━━━━━━━━━━━━━━\u001b[0m\u001b[37m\u001b[0m \u001b[1m0s\u001b[0m 32ms/step - loss: 8.0633 - mape: 90.0659 - r2_score: -36.1284 - val_loss: 8.0726 - val_mape: 88.4907 - val_r2_score: -38.7798\n",
      "Epoch 3/250\n",
      "\u001b[1m5/5\u001b[0m \u001b[32m━━━━━━━━━━━━━━━━━━━━\u001b[0m\u001b[37m\u001b[0m \u001b[1m0s\u001b[0m 35ms/step - loss: 7.9755 - mape: 87.6096 - r2_score: -33.8679 - val_loss: 7.9351 - val_mape: 86.7490 - val_r2_score: -38.0704\n",
      "Epoch 4/250\n",
      "\u001b[1m5/5\u001b[0m \u001b[32m━━━━━━━━━━━━━━━━━━━━\u001b[0m\u001b[37m\u001b[0m \u001b[1m0s\u001b[0m 31ms/step - loss: 7.6227 - mape: 81.7292 - r2_score: -31.5562 - val_loss: 7.7858 - val_mape: 84.6588 - val_r2_score: -37.2942\n",
      "Epoch 5/250\n",
      "\u001b[1m5/5\u001b[0m \u001b[32m━━━━━━━━━━━━━━━━━━━━\u001b[0m\u001b[37m\u001b[0m \u001b[1m0s\u001b[0m 31ms/step - loss: 7.5980 - mape: 84.4100 - r2_score: -28.7211 - val_loss: 7.6684 - val_mape: 83.2883 - val_r2_score: -36.8140\n",
      "Epoch 6/250\n",
      "\u001b[1m5/5\u001b[0m \u001b[32m━━━━━━━━━━━━━━━━━━━━\u001b[0m\u001b[37m\u001b[0m \u001b[1m0s\u001b[0m 29ms/step - loss: 7.3722 - mape: 77.5938 - r2_score: -29.2656 - val_loss: 7.5292 - val_mape: 81.3921 - val_r2_score: -36.1183\n",
      "Epoch 7/250\n",
      "\u001b[1m5/5\u001b[0m \u001b[32m━━━━━━━━━━━━━━━━━━━━\u001b[0m\u001b[37m\u001b[0m \u001b[1m0s\u001b[0m 30ms/step - loss: 7.2278 - mape: 77.2226 - r2_score: -27.5146 - val_loss: 7.4080 - val_mape: 79.8780 - val_r2_score: -35.3191\n",
      "Epoch 8/250\n",
      "\u001b[1m5/5\u001b[0m \u001b[32m━━━━━━━━━━━━━━━━━━━━\u001b[0m\u001b[37m\u001b[0m \u001b[1m0s\u001b[0m 31ms/step - loss: 7.3851 - mape: 78.5836 - r2_score: -35.2992 - val_loss: 7.3135 - val_mape: 78.9914 - val_r2_score: -34.5016\n",
      "Epoch 9/250\n",
      "\u001b[1m5/5\u001b[0m \u001b[32m━━━━━━━━━━━━━━━━━━━━\u001b[0m\u001b[37m\u001b[0m \u001b[1m0s\u001b[0m 31ms/step - loss: 7.1472 - mape: 76.9762 - r2_score: -27.1526 - val_loss: 7.2027 - val_mape: 77.8386 - val_r2_score: -33.3081\n",
      "Epoch 10/250\n",
      "\u001b[1m5/5\u001b[0m \u001b[32m━━━━━━━━━━━━━━━━━━━━\u001b[0m\u001b[37m\u001b[0m \u001b[1m0s\u001b[0m 39ms/step - loss: 6.9116 - mape: 72.9516 - r2_score: -25.6121 - val_loss: 7.0865 - val_mape: 76.5490 - val_r2_score: -32.0845\n",
      "Epoch 11/250\n",
      "\u001b[1m5/5\u001b[0m \u001b[32m━━━━━━━━━━━━━━━━━━━━\u001b[0m\u001b[37m\u001b[0m \u001b[1m0s\u001b[0m 31ms/step - loss: 6.9025 - mape: 72.0111 - r2_score: -24.3331 - val_loss: 6.9686 - val_mape: 75.2482 - val_r2_score: -30.8136\n",
      "Epoch 12/250\n",
      "\u001b[1m5/5\u001b[0m \u001b[32m━━━━━━━━━━━━━━━━━━━━\u001b[0m\u001b[37m\u001b[0m \u001b[1m0s\u001b[0m 34ms/step - loss: 6.7349 - mape: 71.7355 - r2_score: -24.6131 - val_loss: 6.8290 - val_mape: 73.4871 - val_r2_score: -29.3069\n",
      "Epoch 13/250\n",
      "\u001b[1m5/5\u001b[0m \u001b[32m━━━━━━━━━━━━━━━━━━━━\u001b[0m\u001b[37m\u001b[0m \u001b[1m0s\u001b[0m 33ms/step - loss: 6.5039 - mape: 68.3336 - r2_score: -23.1173 - val_loss: 6.6691 - val_mape: 71.2667 - val_r2_score: -27.6974\n",
      "Epoch 14/250\n",
      "\u001b[1m5/5\u001b[0m \u001b[32m━━━━━━━━━━━━━━━━━━━━\u001b[0m\u001b[37m\u001b[0m \u001b[1m0s\u001b[0m 34ms/step - loss: 6.5024 - mape: 69.7214 - r2_score: -21.1652 - val_loss: 6.5289 - val_mape: 69.3855 - val_r2_score: -26.4522\n",
      "Epoch 15/250\n",
      "\u001b[1m5/5\u001b[0m \u001b[32m━━━━━━━━━━━━━━━━━━━━\u001b[0m\u001b[37m\u001b[0m \u001b[1m0s\u001b[0m 32ms/step - loss: 6.2488 - mape: 65.2355 - r2_score: -21.5298 - val_loss: 6.3794 - val_mape: 67.3225 - val_r2_score: -25.2036\n",
      "Epoch 16/250\n",
      "\u001b[1m5/5\u001b[0m \u001b[32m━━━━━━━━━━━━━━━━━━━━\u001b[0m\u001b[37m\u001b[0m \u001b[1m0s\u001b[0m 30ms/step - loss: 6.2350 - mape: 65.2619 - r2_score: -23.8142 - val_loss: 6.2290 - val_mape: 65.1711 - val_r2_score: -24.0498\n",
      "Epoch 17/250\n",
      "\u001b[1m5/5\u001b[0m \u001b[32m━━━━━━━━━━━━━━━━━━━━\u001b[0m\u001b[37m\u001b[0m \u001b[1m0s\u001b[0m 32ms/step - loss: 6.2146 - mape: 65.0653 - r2_score: -23.4738 - val_loss: 6.0944 - val_mape: 63.2521 - val_r2_score: -23.0625\n",
      "Epoch 18/250\n",
      "\u001b[1m5/5\u001b[0m \u001b[32m━━━━━━━━━━━━━━━━━━━━\u001b[0m\u001b[37m\u001b[0m \u001b[1m0s\u001b[0m 31ms/step - loss: 5.9670 - mape: 62.0920 - r2_score: -17.7292 - val_loss: 5.9466 - val_mape: 61.0045 - val_r2_score: -21.9884\n",
      "Epoch 19/250\n",
      "\u001b[1m5/5\u001b[0m \u001b[32m━━━━━━━━━━━━━━━━━━━━\u001b[0m\u001b[37m\u001b[0m \u001b[1m0s\u001b[0m 33ms/step - loss: 5.7354 - mape: 56.8164 - r2_score: -18.8517 - val_loss: 5.8551 - val_mape: 59.8271 - val_r2_score: -21.3808\n",
      "Epoch 20/250\n",
      "\u001b[1m5/5\u001b[0m \u001b[32m━━━━━━━━━━━━━━━━━━━━\u001b[0m\u001b[37m\u001b[0m \u001b[1m0s\u001b[0m 30ms/step - loss: 5.7157 - mape: 58.3448 - r2_score: -17.5923 - val_loss: 5.7379 - val_mape: 58.1386 - val_r2_score: -20.5830\n",
      "Epoch 21/250\n",
      "\u001b[1m5/5\u001b[0m \u001b[32m━━━━━━━━━━━━━━━━━━━━\u001b[0m\u001b[37m\u001b[0m \u001b[1m0s\u001b[0m 30ms/step - loss: 5.5111 - mape: 55.7451 - r2_score: -14.9315 - val_loss: 5.6251 - val_mape: 56.4452 - val_r2_score: -19.7644\n",
      "Epoch 22/250\n",
      "\u001b[1m5/5\u001b[0m \u001b[32m━━━━━━━━━━━━━━━━━━━━\u001b[0m\u001b[37m\u001b[0m \u001b[1m0s\u001b[0m 30ms/step - loss: 5.5410 - mape: 54.8668 - r2_score: -16.9559 - val_loss: 5.5111 - val_mape: 54.6835 - val_r2_score: -18.9483\n",
      "Epoch 23/250\n",
      "\u001b[1m5/5\u001b[0m \u001b[32m━━━━━━━━━━━━━━━━━━━━\u001b[0m\u001b[37m\u001b[0m \u001b[1m0s\u001b[0m 30ms/step - loss: 5.2949 - mape: 50.6059 - r2_score: -16.6792 - val_loss: 5.4177 - val_mape: 53.4755 - val_r2_score: -18.4095\n",
      "Epoch 24/250\n",
      "\u001b[1m5/5\u001b[0m \u001b[32m━━━━━━━━━━━━━━━━━━━━\u001b[0m\u001b[37m\u001b[0m \u001b[1m0s\u001b[0m 37ms/step - loss: 5.3696 - mape: 53.5830 - r2_score: -14.3288 - val_loss: 5.3209 - val_mape: 52.2776 - val_r2_score: -17.6239\n",
      "Epoch 25/250\n",
      "\u001b[1m5/5\u001b[0m \u001b[32m━━━━━━━━━━━━━━━━━━━━\u001b[0m\u001b[37m\u001b[0m \u001b[1m0s\u001b[0m 34ms/step - loss: 5.0727 - mape: 48.2596 - r2_score: -12.4960 - val_loss: 5.2097 - val_mape: 50.6633 - val_r2_score: -16.6315\n",
      "Epoch 26/250\n",
      "\u001b[1m5/5\u001b[0m \u001b[32m━━━━━━━━━━━━━━━━━━━━\u001b[0m\u001b[37m\u001b[0m \u001b[1m0s\u001b[0m 33ms/step - loss: 5.3829 - mape: 55.3383 - r2_score: -16.3018 - val_loss: 5.0816 - val_mape: 48.6987 - val_r2_score: -15.4075\n",
      "Epoch 27/250\n",
      "\u001b[1m5/5\u001b[0m \u001b[32m━━━━━━━━━━━━━━━━━━━━\u001b[0m\u001b[37m\u001b[0m \u001b[1m0s\u001b[0m 30ms/step - loss: 4.9623 - mape: 47.2236 - r2_score: -14.6161 - val_loss: 4.9393 - val_mape: 46.4116 - val_r2_score: -13.9875\n",
      "Epoch 28/250\n",
      "\u001b[1m5/5\u001b[0m \u001b[32m━━━━━━━━━━━━━━━━━━━━\u001b[0m\u001b[37m\u001b[0m \u001b[1m0s\u001b[0m 33ms/step - loss: 4.8314 - mape: 44.7114 - r2_score: -12.1600 - val_loss: 4.7797 - val_mape: 43.7897 - val_r2_score: -12.2865\n",
      "Epoch 29/250\n",
      "\u001b[1m5/5\u001b[0m \u001b[32m━━━━━━━━━━━━━━━━━━━━\u001b[0m\u001b[37m\u001b[0m \u001b[1m0s\u001b[0m 31ms/step - loss: 4.9855 - mape: 49.7286 - r2_score: -16.8105 - val_loss: 4.5518 - val_mape: 39.8735 - val_r2_score: -9.9642\n",
      "Epoch 30/250\n",
      "\u001b[1m5/5\u001b[0m \u001b[32m━━━━━━━━━━━━━━━━━━━━\u001b[0m\u001b[37m\u001b[0m \u001b[1m0s\u001b[0m 30ms/step - loss: 4.7597 - mape: 45.9015 - r2_score: -11.2989 - val_loss: 4.3428 - val_mape: 36.2097 - val_r2_score: -7.9730\n",
      "Epoch 31/250\n",
      "\u001b[1m5/5\u001b[0m \u001b[32m━━━━━━━━━━━━━━━━━━━━\u001b[0m\u001b[37m\u001b[0m \u001b[1m0s\u001b[0m 30ms/step - loss: 4.4521 - mape: 39.8679 - r2_score: -10.5466 - val_loss: 4.1622 - val_mape: 32.9717 - val_r2_score: -6.3151\n",
      "Epoch 32/250\n",
      "\u001b[1m5/5\u001b[0m \u001b[32m━━━━━━━━━━━━━━━━━━━━\u001b[0m\u001b[37m\u001b[0m \u001b[1m0s\u001b[0m 31ms/step - loss: 4.5864 - mape: 40.4350 - r2_score: -11.8107 - val_loss: 3.9936 - val_mape: 29.9212 - val_r2_score: -4.9522\n",
      "Epoch 33/250\n",
      "\u001b[1m5/5\u001b[0m \u001b[32m━━━━━━━━━━━━━━━━━━━━\u001b[0m\u001b[37m\u001b[0m \u001b[1m0s\u001b[0m 33ms/step - loss: 4.1913 - mape: 34.6238 - r2_score: -8.5924 - val_loss: 3.8236 - val_mape: 27.1322 - val_r2_score: -3.7862\n",
      "Epoch 34/250\n",
      "\u001b[1m5/5\u001b[0m \u001b[32m━━━━━━━━━━━━━━━━━━━━\u001b[0m\u001b[37m\u001b[0m \u001b[1m0s\u001b[0m 32ms/step - loss: 4.5322 - mape: 42.1789 - r2_score: -10.2830 - val_loss: 3.6788 - val_mape: 24.7663 - val_r2_score: -2.8052\n",
      "Epoch 35/250\n",
      "\u001b[1m5/5\u001b[0m \u001b[32m━━━━━━━━━━━━━━━━━━━━\u001b[0m\u001b[37m\u001b[0m \u001b[1m0s\u001b[0m 37ms/step - loss: 4.4027 - mape: 39.5882 - r2_score: -11.2404 - val_loss: 3.5386 - val_mape: 22.4923 - val_r2_score: -2.0213\n",
      "Epoch 36/250\n",
      "\u001b[1m5/5\u001b[0m \u001b[32m━━━━━━━━━━━━━━━━━━━━\u001b[0m\u001b[37m\u001b[0m \u001b[1m0s\u001b[0m 33ms/step - loss: 4.0740 - mape: 32.4807 - r2_score: -8.3590 - val_loss: 3.3795 - val_mape: 19.6026 - val_r2_score: -1.2071\n",
      "Epoch 37/250\n",
      "\u001b[1m5/5\u001b[0m \u001b[32m━━━━━━━━━━━━━━━━━━━━\u001b[0m\u001b[37m\u001b[0m \u001b[1m0s\u001b[0m 31ms/step - loss: 4.4656 - mape: 41.8692 - r2_score: -9.5246 - val_loss: 3.2142 - val_mape: 16.3565 - val_r2_score: -0.4665\n",
      "Epoch 38/250\n",
      "\u001b[1m5/5\u001b[0m \u001b[32m━━━━━━━━━━━━━━━━━━━━\u001b[0m\u001b[37m\u001b[0m \u001b[1m0s\u001b[0m 30ms/step - loss: 4.0483 - mape: 33.0808 - r2_score: -5.3851 - val_loss: 3.1012 - val_mape: 14.2851 - val_r2_score: -0.1182\n",
      "Epoch 39/250\n",
      "\u001b[1m5/5\u001b[0m \u001b[32m━━━━━━━━━━━━━━━━━━━━\u001b[0m\u001b[37m\u001b[0m \u001b[1m0s\u001b[0m 32ms/step - loss: 4.0248 - mape: 35.2372 - r2_score: -5.0307 - val_loss: 3.0827 - val_mape: 13.9731 - val_r2_score: -0.1108\n",
      "Epoch 40/250\n",
      "\u001b[1m5/5\u001b[0m \u001b[32m━━━━━━━━━━━━━━━━━━━━\u001b[0m\u001b[37m\u001b[0m \u001b[1m0s\u001b[0m 33ms/step - loss: 4.1977 - mape: 38.3806 - r2_score: -8.4167 - val_loss: 3.0704 - val_mape: 13.9937 - val_r2_score: -0.1784\n",
      "Epoch 41/250\n",
      "\u001b[1m5/5\u001b[0m \u001b[32m━━━━━━━━━━━━━━━━━━━━\u001b[0m\u001b[37m\u001b[0m \u001b[1m0s\u001b[0m 36ms/step - loss: 3.9005 - mape: 32.4893 - r2_score: -5.1246 - val_loss: 3.0299 - val_mape: 13.5821 - val_r2_score: -0.1147\n",
      "Epoch 42/250\n",
      "\u001b[1m5/5\u001b[0m \u001b[32m━━━━━━━━━━━━━━━━━━━━\u001b[0m\u001b[37m\u001b[0m \u001b[1m0s\u001b[0m 31ms/step - loss: 3.5713 - mape: 25.0992 - r2_score: -3.4699 - val_loss: 2.9591 - val_mape: 12.5315 - val_r2_score: 0.0573\n",
      "Epoch 43/250\n",
      "\u001b[1m5/5\u001b[0m \u001b[32m━━━━━━━━━━━━━━━━━━━━\u001b[0m\u001b[37m\u001b[0m \u001b[1m0s\u001b[0m 30ms/step - loss: 3.7157 - mape: 30.1861 - r2_score: -4.7145 - val_loss: 2.8712 - val_mape: 11.2565 - val_r2_score: 0.2537\n",
      "Epoch 44/250\n",
      "\u001b[1m5/5\u001b[0m \u001b[32m━━━━━━━━━━━━━━━━━━━━\u001b[0m\u001b[37m\u001b[0m \u001b[1m0s\u001b[0m 33ms/step - loss: 3.8889 - mape: 33.2734 - r2_score: -6.0545 - val_loss: 2.8123 - val_mape: 10.5512 - val_r2_score: 0.3480\n",
      "Epoch 45/250\n",
      "\u001b[1m5/5\u001b[0m \u001b[32m━━━━━━━━━━━━━━━━━━━━\u001b[0m\u001b[37m\u001b[0m \u001b[1m0s\u001b[0m 31ms/step - loss: 3.8818 - mape: 32.6630 - r2_score: -5.9344 - val_loss: 2.7650 - val_mape: 10.0216 - val_r2_score: 0.3874\n",
      "Epoch 46/250\n",
      "\u001b[1m5/5\u001b[0m \u001b[32m━━━━━━━━━━━━━━━━━━━━\u001b[0m\u001b[37m\u001b[0m \u001b[1m0s\u001b[0m 51ms/step - loss: 3.5841 - mape: 26.8996 - r2_score: -3.8738 - val_loss: 2.7240 - val_mape: 9.4494 - val_r2_score: 0.4056\n",
      "Epoch 47/250\n",
      "\u001b[1m5/5\u001b[0m \u001b[32m━━━━━━━━━━━━━━━━━━━━\u001b[0m\u001b[37m\u001b[0m \u001b[1m0s\u001b[0m 48ms/step - loss: 3.8353 - mape: 33.6247 - r2_score: -5.0916 - val_loss: 2.7432 - val_mape: 10.2741 - val_r2_score: 0.3535\n",
      "Epoch 48/250\n",
      "\u001b[1m5/5\u001b[0m \u001b[32m━━━━━━━━━━━━━━━━━━━━\u001b[0m\u001b[37m\u001b[0m \u001b[1m0s\u001b[0m 36ms/step - loss: 3.6586 - mape: 29.5137 - r2_score: -4.8485 - val_loss: 2.7388 - val_mape: 10.5089 - val_r2_score: 0.3555\n",
      "Epoch 49/250\n",
      "\u001b[1m5/5\u001b[0m \u001b[32m━━━━━━━━━━━━━━━━━━━━\u001b[0m\u001b[37m\u001b[0m \u001b[1m0s\u001b[0m 39ms/step - loss: 3.5421 - mape: 27.8926 - r2_score: -5.1522 - val_loss: 2.7177 - val_mape: 10.2306 - val_r2_score: 0.3939\n",
      "Epoch 50/250\n",
      "\u001b[1m5/5\u001b[0m \u001b[32m━━━━━━━━━━━━━━━━━━━━\u001b[0m\u001b[37m\u001b[0m \u001b[1m0s\u001b[0m 34ms/step - loss: 3.5315 - mape: 29.5253 - r2_score: -4.3544 - val_loss: 2.7300 - val_mape: 10.6624 - val_r2_score: 0.3796\n",
      "Epoch 51/250\n",
      "\u001b[1m5/5\u001b[0m \u001b[32m━━━━━━━━━━━━━━━━━━━━\u001b[0m\u001b[37m\u001b[0m \u001b[1m0s\u001b[0m 40ms/step - loss: 3.2779 - mape: 22.0764 - r2_score: -2.2635 - val_loss: 2.7595 - val_mape: 11.5866 - val_r2_score: 0.3168\n",
      "Epoch 52/250\n",
      "\u001b[1m5/5\u001b[0m \u001b[32m━━━━━━━━━━━━━━━━━━━━\u001b[0m\u001b[37m\u001b[0m \u001b[1m0s\u001b[0m 38ms/step - loss: 3.3434 - mape: 23.3644 - r2_score: -4.0202 - val_loss: 2.7269 - val_mape: 11.2243 - val_r2_score: 0.3501\n",
      "Epoch 53/250\n",
      "\u001b[1m5/5\u001b[0m \u001b[32m━━━━━━━━━━━━━━━━━━━━\u001b[0m\u001b[37m\u001b[0m \u001b[1m0s\u001b[0m 31ms/step - loss: 3.7180 - mape: 31.9846 - r2_score: -3.7117 - val_loss: 2.7002 - val_mape: 11.0140 - val_r2_score: 0.3542\n",
      "Epoch 54/250\n",
      "\u001b[1m5/5\u001b[0m \u001b[32m━━━━━━━━━━━━━━━━━━━━\u001b[0m\u001b[37m\u001b[0m \u001b[1m0s\u001b[0m 33ms/step - loss: 3.1843 - mape: 22.1812 - r2_score: -2.6865 - val_loss: 2.7017 - val_mape: 11.2550 - val_r2_score: 0.3389\n",
      "Epoch 55/250\n",
      "\u001b[1m5/5\u001b[0m \u001b[32m━━━━━━━━━━━━━━━━━━━━\u001b[0m\u001b[37m\u001b[0m \u001b[1m0s\u001b[0m 34ms/step - loss: 3.5986 - mape: 31.6490 - r2_score: -4.2166 - val_loss: 2.7058 - val_mape: 11.5576 - val_r2_score: 0.3002\n",
      "Epoch 56/250\n",
      "\u001b[1m5/5\u001b[0m \u001b[32m━━━━━━━━━━━━━━━━━━━━\u001b[0m\u001b[37m\u001b[0m \u001b[1m0s\u001b[0m 35ms/step - loss: 3.3762 - mape: 26.8792 - r2_score: -2.6959 - val_loss: 2.6851 - val_mape: 11.3455 - val_r2_score: 0.3045\n",
      "Epoch 57/250\n",
      "\u001b[1m5/5\u001b[0m \u001b[32m━━━━━━━━━━━━━━━━━━━━\u001b[0m\u001b[37m\u001b[0m \u001b[1m0s\u001b[0m 33ms/step - loss: 3.2423 - mape: 23.1347 - r2_score: -2.6606 - val_loss: 2.6886 - val_mape: 11.6170 - val_r2_score: 0.2249\n",
      "Epoch 58/250\n",
      "\u001b[1m5/5\u001b[0m \u001b[32m━━━━━━━━━━━━━━━━━━━━\u001b[0m\u001b[37m\u001b[0m \u001b[1m0s\u001b[0m 38ms/step - loss: 3.5047 - mape: 29.5331 - r2_score: -4.7139 - val_loss: 2.7012 - val_mape: 12.1665 - val_r2_score: 0.1708\n",
      "Epoch 59/250\n",
      "\u001b[1m5/5\u001b[0m \u001b[32m━━━━━━━━━━━━━━━━━━━━\u001b[0m\u001b[37m\u001b[0m \u001b[1m0s\u001b[0m 32ms/step - loss: 3.4205 - mape: 28.2662 - r2_score: -3.8694 - val_loss: 2.6643 - val_mape: 11.7695 - val_r2_score: 0.2253\n",
      "Epoch 60/250\n",
      "\u001b[1m5/5\u001b[0m \u001b[32m━━━━━━━━━━━━━━━━━━━━\u001b[0m\u001b[37m\u001b[0m \u001b[1m0s\u001b[0m 32ms/step - loss: 3.1635 - mape: 22.4616 - r2_score: -2.6678 - val_loss: 2.6305 - val_mape: 11.3786 - val_r2_score: 0.2831\n",
      "Epoch 61/250\n",
      "\u001b[1m5/5\u001b[0m \u001b[32m━━━━━━━━━━━━━━━━━━━━\u001b[0m\u001b[37m\u001b[0m \u001b[1m0s\u001b[0m 33ms/step - loss: 3.1993 - mape: 22.6433 - r2_score: -2.8402 - val_loss: 2.6087 - val_mape: 11.1676 - val_r2_score: 0.2907\n",
      "Epoch 62/250\n",
      "\u001b[1m5/5\u001b[0m \u001b[32m━━━━━━━━━━━━━━━━━━━━\u001b[0m\u001b[37m\u001b[0m \u001b[1m0s\u001b[0m 32ms/step - loss: 3.2374 - mape: 24.1887 - r2_score: -2.6459 - val_loss: 2.6192 - val_mape: 11.6541 - val_r2_score: 0.2555\n",
      "Epoch 63/250\n",
      "\u001b[1m5/5\u001b[0m \u001b[32m━━━━━━━━━━━━━━━━━━━━\u001b[0m\u001b[37m\u001b[0m \u001b[1m0s\u001b[0m 34ms/step - loss: 3.3712 - mape: 27.7722 - r2_score: -3.4063 - val_loss: 2.6348 - val_mape: 12.3515 - val_r2_score: 0.2034\n",
      "Epoch 64/250\n",
      "\u001b[1m5/5\u001b[0m \u001b[32m━━━━━━━━━━━━━━━━━━━━\u001b[0m\u001b[37m\u001b[0m \u001b[1m0s\u001b[0m 32ms/step - loss: 3.2802 - mape: 24.8014 - r2_score: -3.7021 - val_loss: 2.6176 - val_mape: 12.2263 - val_r2_score: 0.1822\n",
      "Epoch 65/250\n",
      "\u001b[1m5/5\u001b[0m \u001b[32m━━━━━━━━━━━━━━━━━━━━\u001b[0m\u001b[37m\u001b[0m \u001b[1m0s\u001b[0m 31ms/step - loss: 3.3047 - mape: 27.5235 - r2_score: -2.9194 - val_loss: 2.6093 - val_mape: 12.2366 - val_r2_score: 0.1252\n",
      "Epoch 66/250\n",
      "\u001b[1m5/5\u001b[0m \u001b[32m━━━━━━━━━━━━━━━━━━━━\u001b[0m\u001b[37m\u001b[0m \u001b[1m0s\u001b[0m 32ms/step - loss: 3.1521 - mape: 24.2080 - r2_score: -2.8567 - val_loss: 2.5958 - val_mape: 12.1177 - val_r2_score: 0.1527\n",
      "Epoch 67/250\n",
      "\u001b[1m5/5\u001b[0m \u001b[32m━━━━━━━━━━━━━━━━━━━━\u001b[0m\u001b[37m\u001b[0m \u001b[1m0s\u001b[0m 32ms/step - loss: 3.4051 - mape: 30.0499 - r2_score: -4.3953 - val_loss: 2.5529 - val_mape: 11.5871 - val_r2_score: 0.2775\n",
      "Epoch 68/250\n",
      "\u001b[1m5/5\u001b[0m \u001b[32m━━━━━━━━━━━━━━━━━━━━\u001b[0m\u001b[37m\u001b[0m \u001b[1m0s\u001b[0m 32ms/step - loss: 3.1771 - mape: 24.8803 - r2_score: -2.3704 - val_loss: 2.5313 - val_mape: 11.5731 - val_r2_score: 0.2890\n",
      "Epoch 69/250\n",
      "\u001b[1m5/5\u001b[0m \u001b[32m━━━━━━━━━━━━━━━━━━━━\u001b[0m\u001b[37m\u001b[0m \u001b[1m0s\u001b[0m 31ms/step - loss: 3.2248 - mape: 26.2456 - r2_score: -3.4468 - val_loss: 2.4802 - val_mape: 10.9765 - val_r2_score: 0.2156\n",
      "Epoch 70/250\n",
      "\u001b[1m5/5\u001b[0m \u001b[32m━━━━━━━━━━━━━━━━━━━━\u001b[0m\u001b[37m\u001b[0m \u001b[1m0s\u001b[0m 30ms/step - loss: 3.0358 - mape: 22.2753 - r2_score: -2.0722 - val_loss: 2.5101 - val_mape: 11.8079 - val_r2_score: 0.1062\n",
      "Epoch 71/250\n",
      "\u001b[1m5/5\u001b[0m \u001b[32m━━━━━━━━━━━━━━━━━━━━\u001b[0m\u001b[37m\u001b[0m \u001b[1m0s\u001b[0m 30ms/step - loss: 3.4135 - mape: 30.1652 - r2_score: -4.4379 - val_loss: 2.5149 - val_mape: 12.1618 - val_r2_score: 0.0848\n",
      "Epoch 72/250\n",
      "\u001b[1m1/5\u001b[0m \u001b[32m━━━━\u001b[0m\u001b[37m━━━━━━━━━━━━━━━━\u001b[0m \u001b[1m0s\u001b[0m 37ms/step - loss: 2.9265 - mape: 19.3068 - r2_score: -2.2474"
     ]
    },
    {
     "ename": "KeyboardInterrupt",
     "evalue": "",
     "output_type": "error",
     "traceback": [
      "\u001b[0;31m---------------------------------------------------------------------------\u001b[0m",
      "\u001b[0;31mKeyboardInterrupt\u001b[0m                         Traceback (most recent call last)",
      "Cell \u001b[0;32mIn[31], line 1\u001b[0m\n\u001b[0;32m----> 1\u001b[0m \u001b[43mtuner\u001b[49m\u001b[38;5;241;43m.\u001b[39;49m\u001b[43msearch\u001b[49m\u001b[43m(\u001b[49m\u001b[43mx_train\u001b[49m\u001b[43m,\u001b[49m\u001b[43m \u001b[49m\u001b[43my_train\u001b[49m\u001b[43m,\u001b[49m\u001b[43m \u001b[49m\u001b[43mepochs\u001b[49m\u001b[38;5;241;43m=\u001b[39;49m\u001b[38;5;241;43m250\u001b[39;49m\u001b[43m,\u001b[49m\u001b[43m \u001b[49m\u001b[43mvalidation_data\u001b[49m\u001b[38;5;241;43m=\u001b[39;49m\u001b[43m(\u001b[49m\u001b[43mx_test\u001b[49m\u001b[43m,\u001b[49m\u001b[43m \u001b[49m\u001b[43my_test\u001b[49m\u001b[43m)\u001b[49m\u001b[43m,\u001b[49m\u001b[43m \u001b[49m\u001b[43mbatch_size\u001b[49m\u001b[38;5;241;43m=\u001b[39;49m\u001b[38;5;241;43m12\u001b[39;49m\u001b[43m)\u001b[49m\n",
      "File \u001b[0;32m~/miniconda3/envs/farma/lib/python3.9/site-packages/keras_tuner/src/engine/base_tuner.py:234\u001b[0m, in \u001b[0;36mBaseTuner.search\u001b[0;34m(self, *fit_args, **fit_kwargs)\u001b[0m\n\u001b[1;32m    231\u001b[0m         \u001b[38;5;28;01mcontinue\u001b[39;00m\n\u001b[1;32m    233\u001b[0m     \u001b[38;5;28mself\u001b[39m\u001b[38;5;241m.\u001b[39mon_trial_begin(trial)\n\u001b[0;32m--> 234\u001b[0m     \u001b[38;5;28;43mself\u001b[39;49m\u001b[38;5;241;43m.\u001b[39;49m\u001b[43m_try_run_and_update_trial\u001b[49m\u001b[43m(\u001b[49m\u001b[43mtrial\u001b[49m\u001b[43m,\u001b[49m\u001b[43m \u001b[49m\u001b[38;5;241;43m*\u001b[39;49m\u001b[43mfit_args\u001b[49m\u001b[43m,\u001b[49m\u001b[43m \u001b[49m\u001b[38;5;241;43m*\u001b[39;49m\u001b[38;5;241;43m*\u001b[39;49m\u001b[43mfit_kwargs\u001b[49m\u001b[43m)\u001b[49m\n\u001b[1;32m    235\u001b[0m     \u001b[38;5;28mself\u001b[39m\u001b[38;5;241m.\u001b[39mon_trial_end(trial)\n\u001b[1;32m    236\u001b[0m \u001b[38;5;28mself\u001b[39m\u001b[38;5;241m.\u001b[39mon_search_end()\n",
      "File \u001b[0;32m~/miniconda3/envs/farma/lib/python3.9/site-packages/keras_tuner/src/engine/base_tuner.py:274\u001b[0m, in \u001b[0;36mBaseTuner._try_run_and_update_trial\u001b[0;34m(self, trial, *fit_args, **fit_kwargs)\u001b[0m\n\u001b[1;32m    272\u001b[0m \u001b[38;5;28;01mdef\u001b[39;00m\u001b[38;5;250m \u001b[39m\u001b[38;5;21m_try_run_and_update_trial\u001b[39m(\u001b[38;5;28mself\u001b[39m, trial, \u001b[38;5;241m*\u001b[39mfit_args, \u001b[38;5;241m*\u001b[39m\u001b[38;5;241m*\u001b[39mfit_kwargs):\n\u001b[1;32m    273\u001b[0m     \u001b[38;5;28;01mtry\u001b[39;00m:\n\u001b[0;32m--> 274\u001b[0m         \u001b[38;5;28;43mself\u001b[39;49m\u001b[38;5;241;43m.\u001b[39;49m\u001b[43m_run_and_update_trial\u001b[49m\u001b[43m(\u001b[49m\u001b[43mtrial\u001b[49m\u001b[43m,\u001b[49m\u001b[43m \u001b[49m\u001b[38;5;241;43m*\u001b[39;49m\u001b[43mfit_args\u001b[49m\u001b[43m,\u001b[49m\u001b[43m \u001b[49m\u001b[38;5;241;43m*\u001b[39;49m\u001b[38;5;241;43m*\u001b[39;49m\u001b[43mfit_kwargs\u001b[49m\u001b[43m)\u001b[49m\n\u001b[1;32m    275\u001b[0m         trial\u001b[38;5;241m.\u001b[39mstatus \u001b[38;5;241m=\u001b[39m trial_module\u001b[38;5;241m.\u001b[39mTrialStatus\u001b[38;5;241m.\u001b[39mCOMPLETED\n\u001b[1;32m    276\u001b[0m         \u001b[38;5;28;01mreturn\u001b[39;00m\n",
      "File \u001b[0;32m~/miniconda3/envs/farma/lib/python3.9/site-packages/keras_tuner/src/engine/base_tuner.py:239\u001b[0m, in \u001b[0;36mBaseTuner._run_and_update_trial\u001b[0;34m(self, trial, *fit_args, **fit_kwargs)\u001b[0m\n\u001b[1;32m    238\u001b[0m \u001b[38;5;28;01mdef\u001b[39;00m\u001b[38;5;250m \u001b[39m\u001b[38;5;21m_run_and_update_trial\u001b[39m(\u001b[38;5;28mself\u001b[39m, trial, \u001b[38;5;241m*\u001b[39mfit_args, \u001b[38;5;241m*\u001b[39m\u001b[38;5;241m*\u001b[39mfit_kwargs):\n\u001b[0;32m--> 239\u001b[0m     results \u001b[38;5;241m=\u001b[39m \u001b[38;5;28;43mself\u001b[39;49m\u001b[38;5;241;43m.\u001b[39;49m\u001b[43mrun_trial\u001b[49m\u001b[43m(\u001b[49m\u001b[43mtrial\u001b[49m\u001b[43m,\u001b[49m\u001b[43m \u001b[49m\u001b[38;5;241;43m*\u001b[39;49m\u001b[43mfit_args\u001b[49m\u001b[43m,\u001b[49m\u001b[43m \u001b[49m\u001b[38;5;241;43m*\u001b[39;49m\u001b[38;5;241;43m*\u001b[39;49m\u001b[43mfit_kwargs\u001b[49m\u001b[43m)\u001b[49m\n\u001b[1;32m    240\u001b[0m     \u001b[38;5;28;01mif\u001b[39;00m \u001b[38;5;28mself\u001b[39m\u001b[38;5;241m.\u001b[39moracle\u001b[38;5;241m.\u001b[39mget_trial(trial\u001b[38;5;241m.\u001b[39mtrial_id)\u001b[38;5;241m.\u001b[39mmetrics\u001b[38;5;241m.\u001b[39mexists(\n\u001b[1;32m    241\u001b[0m         \u001b[38;5;28mself\u001b[39m\u001b[38;5;241m.\u001b[39moracle\u001b[38;5;241m.\u001b[39mobjective\u001b[38;5;241m.\u001b[39mname\n\u001b[1;32m    242\u001b[0m     ):\n\u001b[1;32m    243\u001b[0m         \u001b[38;5;66;03m# The oracle is updated by calling `self.oracle.update_trial()` in\u001b[39;00m\n\u001b[1;32m    244\u001b[0m         \u001b[38;5;66;03m# `Tuner.run_trial()`. For backward compatibility, we support this\u001b[39;00m\n\u001b[1;32m    245\u001b[0m         \u001b[38;5;66;03m# use case. No further action needed in this case.\u001b[39;00m\n\u001b[1;32m    246\u001b[0m         warnings\u001b[38;5;241m.\u001b[39mwarn(\n\u001b[1;32m    247\u001b[0m             \u001b[38;5;124m\"\u001b[39m\u001b[38;5;124mThe use case of calling \u001b[39m\u001b[38;5;124m\"\u001b[39m\n\u001b[1;32m    248\u001b[0m             \u001b[38;5;124m\"\u001b[39m\u001b[38;5;124m`self.oracle.update_trial(trial_id, metrics)` \u001b[39m\u001b[38;5;124m\"\u001b[39m\n\u001b[0;32m   (...)\u001b[0m\n\u001b[1;32m    254\u001b[0m             stacklevel\u001b[38;5;241m=\u001b[39m\u001b[38;5;241m2\u001b[39m,\n\u001b[1;32m    255\u001b[0m         )\n",
      "File \u001b[0;32m~/miniconda3/envs/farma/lib/python3.9/site-packages/keras_tuner/src/engine/tuner.py:314\u001b[0m, in \u001b[0;36mTuner.run_trial\u001b[0;34m(self, trial, *args, **kwargs)\u001b[0m\n\u001b[1;32m    312\u001b[0m     callbacks\u001b[38;5;241m.\u001b[39mappend(model_checkpoint)\n\u001b[1;32m    313\u001b[0m     copied_kwargs[\u001b[38;5;124m\"\u001b[39m\u001b[38;5;124mcallbacks\u001b[39m\u001b[38;5;124m\"\u001b[39m] \u001b[38;5;241m=\u001b[39m callbacks\n\u001b[0;32m--> 314\u001b[0m     obj_value \u001b[38;5;241m=\u001b[39m \u001b[38;5;28;43mself\u001b[39;49m\u001b[38;5;241;43m.\u001b[39;49m\u001b[43m_build_and_fit_model\u001b[49m\u001b[43m(\u001b[49m\u001b[43mtrial\u001b[49m\u001b[43m,\u001b[49m\u001b[43m \u001b[49m\u001b[38;5;241;43m*\u001b[39;49m\u001b[43margs\u001b[49m\u001b[43m,\u001b[49m\u001b[43m \u001b[49m\u001b[38;5;241;43m*\u001b[39;49m\u001b[38;5;241;43m*\u001b[39;49m\u001b[43mcopied_kwargs\u001b[49m\u001b[43m)\u001b[49m\n\u001b[1;32m    316\u001b[0m     histories\u001b[38;5;241m.\u001b[39mappend(obj_value)\n\u001b[1;32m    317\u001b[0m \u001b[38;5;28;01mreturn\u001b[39;00m histories\n",
      "File \u001b[0;32m~/miniconda3/envs/farma/lib/python3.9/site-packages/keras_tuner/src/engine/tuner.py:233\u001b[0m, in \u001b[0;36mTuner._build_and_fit_model\u001b[0;34m(self, trial, *args, **kwargs)\u001b[0m\n\u001b[1;32m    231\u001b[0m hp \u001b[38;5;241m=\u001b[39m trial\u001b[38;5;241m.\u001b[39mhyperparameters\n\u001b[1;32m    232\u001b[0m model \u001b[38;5;241m=\u001b[39m \u001b[38;5;28mself\u001b[39m\u001b[38;5;241m.\u001b[39m_try_build(hp)\n\u001b[0;32m--> 233\u001b[0m results \u001b[38;5;241m=\u001b[39m \u001b[38;5;28;43mself\u001b[39;49m\u001b[38;5;241;43m.\u001b[39;49m\u001b[43mhypermodel\u001b[49m\u001b[38;5;241;43m.\u001b[39;49m\u001b[43mfit\u001b[49m\u001b[43m(\u001b[49m\u001b[43mhp\u001b[49m\u001b[43m,\u001b[49m\u001b[43m \u001b[49m\u001b[43mmodel\u001b[49m\u001b[43m,\u001b[49m\u001b[43m \u001b[49m\u001b[38;5;241;43m*\u001b[39;49m\u001b[43margs\u001b[49m\u001b[43m,\u001b[49m\u001b[43m \u001b[49m\u001b[38;5;241;43m*\u001b[39;49m\u001b[38;5;241;43m*\u001b[39;49m\u001b[43mkwargs\u001b[49m\u001b[43m)\u001b[49m\n\u001b[1;32m    235\u001b[0m \u001b[38;5;66;03m# Save the build config for model loading later.\u001b[39;00m\n\u001b[1;32m    236\u001b[0m \u001b[38;5;28;01mif\u001b[39;00m backend\u001b[38;5;241m.\u001b[39mconfig\u001b[38;5;241m.\u001b[39mmulti_backend():\n",
      "File \u001b[0;32m~/miniconda3/envs/farma/lib/python3.9/site-packages/keras_tuner/src/engine/hypermodel.py:149\u001b[0m, in \u001b[0;36mHyperModel.fit\u001b[0;34m(self, hp, model, *args, **kwargs)\u001b[0m\n\u001b[1;32m    125\u001b[0m \u001b[38;5;28;01mdef\u001b[39;00m\u001b[38;5;250m \u001b[39m\u001b[38;5;21mfit\u001b[39m(\u001b[38;5;28mself\u001b[39m, hp, model, \u001b[38;5;241m*\u001b[39margs, \u001b[38;5;241m*\u001b[39m\u001b[38;5;241m*\u001b[39mkwargs):\n\u001b[1;32m    126\u001b[0m \u001b[38;5;250m    \u001b[39m\u001b[38;5;124;03m\"\"\"Train the model.\u001b[39;00m\n\u001b[1;32m    127\u001b[0m \n\u001b[1;32m    128\u001b[0m \u001b[38;5;124;03m    Args:\u001b[39;00m\n\u001b[0;32m   (...)\u001b[0m\n\u001b[1;32m    147\u001b[0m \u001b[38;5;124;03m        If return a float, it should be the `objective` value.\u001b[39;00m\n\u001b[1;32m    148\u001b[0m \u001b[38;5;124;03m    \"\"\"\u001b[39;00m\n\u001b[0;32m--> 149\u001b[0m     \u001b[38;5;28;01mreturn\u001b[39;00m \u001b[43mmodel\u001b[49m\u001b[38;5;241;43m.\u001b[39;49m\u001b[43mfit\u001b[49m\u001b[43m(\u001b[49m\u001b[38;5;241;43m*\u001b[39;49m\u001b[43margs\u001b[49m\u001b[43m,\u001b[49m\u001b[43m \u001b[49m\u001b[38;5;241;43m*\u001b[39;49m\u001b[38;5;241;43m*\u001b[39;49m\u001b[43mkwargs\u001b[49m\u001b[43m)\u001b[49m\n",
      "File \u001b[0;32m~/miniconda3/envs/farma/lib/python3.9/site-packages/keras/src/utils/traceback_utils.py:117\u001b[0m, in \u001b[0;36mfilter_traceback.<locals>.error_handler\u001b[0;34m(*args, **kwargs)\u001b[0m\n\u001b[1;32m    115\u001b[0m filtered_tb \u001b[38;5;241m=\u001b[39m \u001b[38;5;28;01mNone\u001b[39;00m\n\u001b[1;32m    116\u001b[0m \u001b[38;5;28;01mtry\u001b[39;00m:\n\u001b[0;32m--> 117\u001b[0m     \u001b[38;5;28;01mreturn\u001b[39;00m \u001b[43mfn\u001b[49m\u001b[43m(\u001b[49m\u001b[38;5;241;43m*\u001b[39;49m\u001b[43margs\u001b[49m\u001b[43m,\u001b[49m\u001b[43m \u001b[49m\u001b[38;5;241;43m*\u001b[39;49m\u001b[38;5;241;43m*\u001b[39;49m\u001b[43mkwargs\u001b[49m\u001b[43m)\u001b[49m\n\u001b[1;32m    118\u001b[0m \u001b[38;5;28;01mexcept\u001b[39;00m \u001b[38;5;167;01mException\u001b[39;00m \u001b[38;5;28;01mas\u001b[39;00m e:\n\u001b[1;32m    119\u001b[0m     filtered_tb \u001b[38;5;241m=\u001b[39m _process_traceback_frames(e\u001b[38;5;241m.\u001b[39m__traceback__)\n",
      "File \u001b[0;32m~/miniconda3/envs/farma/lib/python3.9/site-packages/keras/src/backend/tensorflow/trainer.py:401\u001b[0m, in \u001b[0;36mTensorFlowTrainer.fit\u001b[0;34m(self, x, y, batch_size, epochs, verbose, callbacks, validation_split, validation_data, shuffle, class_weight, sample_weight, initial_epoch, steps_per_epoch, validation_steps, validation_batch_size, validation_freq)\u001b[0m\n\u001b[1;32m    390\u001b[0m \u001b[38;5;28;01mif\u001b[39;00m \u001b[38;5;28mgetattr\u001b[39m(\u001b[38;5;28mself\u001b[39m, \u001b[38;5;124m\"\u001b[39m\u001b[38;5;124m_eval_epoch_iterator\u001b[39m\u001b[38;5;124m\"\u001b[39m, \u001b[38;5;28;01mNone\u001b[39;00m) \u001b[38;5;129;01mis\u001b[39;00m \u001b[38;5;28;01mNone\u001b[39;00m:\n\u001b[1;32m    391\u001b[0m     \u001b[38;5;28mself\u001b[39m\u001b[38;5;241m.\u001b[39m_eval_epoch_iterator \u001b[38;5;241m=\u001b[39m TFEpochIterator(\n\u001b[1;32m    392\u001b[0m         x\u001b[38;5;241m=\u001b[39mval_x,\n\u001b[1;32m    393\u001b[0m         y\u001b[38;5;241m=\u001b[39mval_y,\n\u001b[0;32m   (...)\u001b[0m\n\u001b[1;32m    399\u001b[0m         shuffle\u001b[38;5;241m=\u001b[39m\u001b[38;5;28;01mFalse\u001b[39;00m,\n\u001b[1;32m    400\u001b[0m     )\n\u001b[0;32m--> 401\u001b[0m val_logs \u001b[38;5;241m=\u001b[39m \u001b[38;5;28;43mself\u001b[39;49m\u001b[38;5;241;43m.\u001b[39;49m\u001b[43mevaluate\u001b[49m\u001b[43m(\u001b[49m\n\u001b[1;32m    402\u001b[0m \u001b[43m    \u001b[49m\u001b[43mx\u001b[49m\u001b[38;5;241;43m=\u001b[39;49m\u001b[43mval_x\u001b[49m\u001b[43m,\u001b[49m\n\u001b[1;32m    403\u001b[0m \u001b[43m    \u001b[49m\u001b[43my\u001b[49m\u001b[38;5;241;43m=\u001b[39;49m\u001b[43mval_y\u001b[49m\u001b[43m,\u001b[49m\n\u001b[1;32m    404\u001b[0m \u001b[43m    \u001b[49m\u001b[43msample_weight\u001b[49m\u001b[38;5;241;43m=\u001b[39;49m\u001b[43mval_sample_weight\u001b[49m\u001b[43m,\u001b[49m\n\u001b[1;32m    405\u001b[0m \u001b[43m    \u001b[49m\u001b[43mbatch_size\u001b[49m\u001b[38;5;241;43m=\u001b[39;49m\u001b[43mvalidation_batch_size\u001b[49m\u001b[43m \u001b[49m\u001b[38;5;129;43;01mor\u001b[39;49;00m\u001b[43m \u001b[49m\u001b[43mbatch_size\u001b[49m\u001b[43m,\u001b[49m\n\u001b[1;32m    406\u001b[0m \u001b[43m    \u001b[49m\u001b[43msteps\u001b[49m\u001b[38;5;241;43m=\u001b[39;49m\u001b[43mvalidation_steps\u001b[49m\u001b[43m,\u001b[49m\n\u001b[1;32m    407\u001b[0m \u001b[43m    \u001b[49m\u001b[43mcallbacks\u001b[49m\u001b[38;5;241;43m=\u001b[39;49m\u001b[43mcallbacks\u001b[49m\u001b[43m,\u001b[49m\n\u001b[1;32m    408\u001b[0m \u001b[43m    \u001b[49m\u001b[43mreturn_dict\u001b[49m\u001b[38;5;241;43m=\u001b[39;49m\u001b[38;5;28;43;01mTrue\u001b[39;49;00m\u001b[43m,\u001b[49m\n\u001b[1;32m    409\u001b[0m \u001b[43m    \u001b[49m\u001b[43m_use_cached_eval_dataset\u001b[49m\u001b[38;5;241;43m=\u001b[39;49m\u001b[38;5;28;43;01mTrue\u001b[39;49;00m\u001b[43m,\u001b[49m\n\u001b[1;32m    410\u001b[0m \u001b[43m\u001b[49m\u001b[43m)\u001b[49m\n\u001b[1;32m    411\u001b[0m val_logs \u001b[38;5;241m=\u001b[39m {\n\u001b[1;32m    412\u001b[0m     \u001b[38;5;124m\"\u001b[39m\u001b[38;5;124mval_\u001b[39m\u001b[38;5;124m\"\u001b[39m \u001b[38;5;241m+\u001b[39m name: val \u001b[38;5;28;01mfor\u001b[39;00m name, val \u001b[38;5;129;01min\u001b[39;00m val_logs\u001b[38;5;241m.\u001b[39mitems()\n\u001b[1;32m    413\u001b[0m }\n\u001b[1;32m    414\u001b[0m epoch_logs\u001b[38;5;241m.\u001b[39mupdate(val_logs)\n",
      "File \u001b[0;32m~/miniconda3/envs/farma/lib/python3.9/site-packages/keras/src/utils/traceback_utils.py:117\u001b[0m, in \u001b[0;36mfilter_traceback.<locals>.error_handler\u001b[0;34m(*args, **kwargs)\u001b[0m\n\u001b[1;32m    115\u001b[0m filtered_tb \u001b[38;5;241m=\u001b[39m \u001b[38;5;28;01mNone\u001b[39;00m\n\u001b[1;32m    116\u001b[0m \u001b[38;5;28;01mtry\u001b[39;00m:\n\u001b[0;32m--> 117\u001b[0m     \u001b[38;5;28;01mreturn\u001b[39;00m \u001b[43mfn\u001b[49m\u001b[43m(\u001b[49m\u001b[38;5;241;43m*\u001b[39;49m\u001b[43margs\u001b[49m\u001b[43m,\u001b[49m\u001b[43m \u001b[49m\u001b[38;5;241;43m*\u001b[39;49m\u001b[38;5;241;43m*\u001b[39;49m\u001b[43mkwargs\u001b[49m\u001b[43m)\u001b[49m\n\u001b[1;32m    118\u001b[0m \u001b[38;5;28;01mexcept\u001b[39;00m \u001b[38;5;167;01mException\u001b[39;00m \u001b[38;5;28;01mas\u001b[39;00m e:\n\u001b[1;32m    119\u001b[0m     filtered_tb \u001b[38;5;241m=\u001b[39m _process_traceback_frames(e\u001b[38;5;241m.\u001b[39m__traceback__)\n",
      "File \u001b[0;32m~/miniconda3/envs/farma/lib/python3.9/site-packages/keras/src/backend/tensorflow/trainer.py:487\u001b[0m, in \u001b[0;36mTensorFlowTrainer.evaluate\u001b[0;34m(self, x, y, batch_size, verbose, sample_weight, steps, callbacks, return_dict, **kwargs)\u001b[0m\n\u001b[1;32m    485\u001b[0m \u001b[38;5;28mself\u001b[39m\u001b[38;5;241m.\u001b[39mreset_metrics()\n\u001b[1;32m    486\u001b[0m \u001b[38;5;28;01mwith\u001b[39;00m epoch_iterator\u001b[38;5;241m.\u001b[39mcatch_stop_iteration():\n\u001b[0;32m--> 487\u001b[0m     \u001b[38;5;28;01mfor\u001b[39;00m step, iterator \u001b[38;5;129;01min\u001b[39;00m epoch_iterator:\n\u001b[1;32m    488\u001b[0m         callbacks\u001b[38;5;241m.\u001b[39mon_test_batch_begin(step)\n\u001b[1;32m    489\u001b[0m         logs \u001b[38;5;241m=\u001b[39m \u001b[38;5;28mself\u001b[39m\u001b[38;5;241m.\u001b[39mtest_function(iterator)\n",
      "File \u001b[0;32m~/miniconda3/envs/farma/lib/python3.9/site-packages/keras/src/backend/tensorflow/trainer.py:740\u001b[0m, in \u001b[0;36mTFEpochIterator.__next__\u001b[0;34m(self)\u001b[0m\n\u001b[1;32m    739\u001b[0m \u001b[38;5;28;01mdef\u001b[39;00m\u001b[38;5;250m \u001b[39m\u001b[38;5;21m__next__\u001b[39m(\u001b[38;5;28mself\u001b[39m):\n\u001b[0;32m--> 740\u001b[0m     \u001b[38;5;28;01mreturn\u001b[39;00m \u001b[38;5;28;43mnext\u001b[39;49m\u001b[43m(\u001b[49m\u001b[38;5;28;43mself\u001b[39;49m\u001b[38;5;241;43m.\u001b[39;49m\u001b[43m_epoch_iterator\u001b[49m\u001b[43m)\u001b[49m\n",
      "File \u001b[0;32m~/miniconda3/envs/farma/lib/python3.9/site-packages/keras/src/trainers/epoch_iterator.py:121\u001b[0m, in \u001b[0;36mEpochIterator._enumerate_iterator\u001b[0;34m(self)\u001b[0m\n\u001b[1;32m    119\u001b[0m         \u001b[38;5;28;01myield\u001b[39;00m step, \u001b[38;5;28mself\u001b[39m\u001b[38;5;241m.\u001b[39m_current_iterator\n\u001b[1;32m    120\u001b[0m     \u001b[38;5;28;01mif\u001b[39;00m \u001b[38;5;28mself\u001b[39m\u001b[38;5;241m.\u001b[39m_num_batches \u001b[38;5;129;01mand\u001b[39;00m \u001b[38;5;28mself\u001b[39m\u001b[38;5;241m.\u001b[39m_steps_seen \u001b[38;5;241m>\u001b[39m\u001b[38;5;241m=\u001b[39m \u001b[38;5;28mself\u001b[39m\u001b[38;5;241m.\u001b[39m_num_batches:\n\u001b[0;32m--> 121\u001b[0m         \u001b[38;5;28mself\u001b[39m\u001b[38;5;241m.\u001b[39m_current_iterator \u001b[38;5;241m=\u001b[39m \u001b[38;5;28;43miter\u001b[39;49m\u001b[43m(\u001b[49m\u001b[38;5;28;43mself\u001b[39;49m\u001b[38;5;241;43m.\u001b[39;49m\u001b[43m_get_iterator\u001b[49m\u001b[43m(\u001b[49m\u001b[43m)\u001b[49m\u001b[43m)\u001b[49m\n\u001b[1;32m    122\u001b[0m         \u001b[38;5;28mself\u001b[39m\u001b[38;5;241m.\u001b[39m_steps_seen \u001b[38;5;241m=\u001b[39m \u001b[38;5;241m0\u001b[39m\n\u001b[1;32m    123\u001b[0m \u001b[38;5;28;01melse\u001b[39;00m:\n",
      "File \u001b[0;32m~/miniconda3/envs/farma/lib/python3.9/site-packages/tensorflow/python/data/ops/dataset_ops.py:501\u001b[0m, in \u001b[0;36mDatasetV2.__iter__\u001b[0;34m(self)\u001b[0m\n\u001b[1;32m    499\u001b[0m \u001b[38;5;28;01mif\u001b[39;00m context\u001b[38;5;241m.\u001b[39mexecuting_eagerly() \u001b[38;5;129;01mor\u001b[39;00m ops\u001b[38;5;241m.\u001b[39minside_function():\n\u001b[1;32m    500\u001b[0m   \u001b[38;5;28;01mwith\u001b[39;00m ops\u001b[38;5;241m.\u001b[39mcolocate_with(\u001b[38;5;28mself\u001b[39m\u001b[38;5;241m.\u001b[39m_variant_tensor):\n\u001b[0;32m--> 501\u001b[0m     \u001b[38;5;28;01mreturn\u001b[39;00m \u001b[43miterator_ops\u001b[49m\u001b[38;5;241;43m.\u001b[39;49m\u001b[43mOwnedIterator\u001b[49m\u001b[43m(\u001b[49m\u001b[38;5;28;43mself\u001b[39;49m\u001b[43m)\u001b[49m\n\u001b[1;32m    502\u001b[0m \u001b[38;5;28;01melse\u001b[39;00m:\n\u001b[1;32m    503\u001b[0m   \u001b[38;5;28;01mraise\u001b[39;00m \u001b[38;5;167;01mRuntimeError\u001b[39;00m(\u001b[38;5;124m\"\u001b[39m\u001b[38;5;124m`tf.data.Dataset` only supports Python-style \u001b[39m\u001b[38;5;124m\"\u001b[39m\n\u001b[1;32m    504\u001b[0m                      \u001b[38;5;124m\"\u001b[39m\u001b[38;5;124miteration in eager mode or within tf.function.\u001b[39m\u001b[38;5;124m\"\u001b[39m)\n",
      "File \u001b[0;32m~/miniconda3/envs/farma/lib/python3.9/site-packages/tensorflow/python/data/ops/iterator_ops.py:705\u001b[0m, in \u001b[0;36mOwnedIterator.__init__\u001b[0;34m(self, dataset, components, element_spec)\u001b[0m\n\u001b[1;32m    701\u001b[0m   \u001b[38;5;28;01mif\u001b[39;00m (components \u001b[38;5;129;01mis\u001b[39;00m \u001b[38;5;129;01mnot\u001b[39;00m \u001b[38;5;28;01mNone\u001b[39;00m \u001b[38;5;129;01mor\u001b[39;00m element_spec \u001b[38;5;129;01mis\u001b[39;00m \u001b[38;5;129;01mnot\u001b[39;00m \u001b[38;5;28;01mNone\u001b[39;00m):\n\u001b[1;32m    702\u001b[0m     \u001b[38;5;28;01mraise\u001b[39;00m \u001b[38;5;167;01mValueError\u001b[39;00m(\n\u001b[1;32m    703\u001b[0m         \u001b[38;5;124m\"\u001b[39m\u001b[38;5;124mWhen `dataset` is provided, `element_spec` and `components` must \u001b[39m\u001b[38;5;124m\"\u001b[39m\n\u001b[1;32m    704\u001b[0m         \u001b[38;5;124m\"\u001b[39m\u001b[38;5;124mnot be specified.\u001b[39m\u001b[38;5;124m\"\u001b[39m)\n\u001b[0;32m--> 705\u001b[0m   \u001b[38;5;28;43mself\u001b[39;49m\u001b[38;5;241;43m.\u001b[39;49m\u001b[43m_create_iterator\u001b[49m\u001b[43m(\u001b[49m\u001b[43mdataset\u001b[49m\u001b[43m)\u001b[49m\n\u001b[1;32m    707\u001b[0m \u001b[38;5;28mself\u001b[39m\u001b[38;5;241m.\u001b[39m_get_next_call_count \u001b[38;5;241m=\u001b[39m \u001b[38;5;241m0\u001b[39m\n",
      "File \u001b[0;32m~/miniconda3/envs/farma/lib/python3.9/site-packages/tensorflow/python/data/ops/iterator_ops.py:744\u001b[0m, in \u001b[0;36mOwnedIterator._create_iterator\u001b[0;34m(self, dataset)\u001b[0m\n\u001b[1;32m    741\u001b[0m   \u001b[38;5;28;01massert\u001b[39;00m \u001b[38;5;28mlen\u001b[39m(fulltype\u001b[38;5;241m.\u001b[39margs[\u001b[38;5;241m0\u001b[39m]\u001b[38;5;241m.\u001b[39margs[\u001b[38;5;241m0\u001b[39m]\u001b[38;5;241m.\u001b[39margs) \u001b[38;5;241m==\u001b[39m \u001b[38;5;28mlen\u001b[39m(\n\u001b[1;32m    742\u001b[0m       \u001b[38;5;28mself\u001b[39m\u001b[38;5;241m.\u001b[39m_flat_output_types)\n\u001b[1;32m    743\u001b[0m   \u001b[38;5;28mself\u001b[39m\u001b[38;5;241m.\u001b[39m_iterator_resource\u001b[38;5;241m.\u001b[39mop\u001b[38;5;241m.\u001b[39mexperimental_set_type(fulltype)\n\u001b[0;32m--> 744\u001b[0m \u001b[43mgen_dataset_ops\u001b[49m\u001b[38;5;241;43m.\u001b[39;49m\u001b[43mmake_iterator\u001b[49m\u001b[43m(\u001b[49m\u001b[43mds_variant\u001b[49m\u001b[43m,\u001b[49m\u001b[43m \u001b[49m\u001b[38;5;28;43mself\u001b[39;49m\u001b[38;5;241;43m.\u001b[39;49m\u001b[43m_iterator_resource\u001b[49m\u001b[43m)\u001b[49m\n",
      "File \u001b[0;32m~/miniconda3/envs/farma/lib/python3.9/site-packages/tensorflow/python/ops/gen_dataset_ops.py:3478\u001b[0m, in \u001b[0;36mmake_iterator\u001b[0;34m(dataset, iterator, name)\u001b[0m\n\u001b[1;32m   3476\u001b[0m \u001b[38;5;28;01mif\u001b[39;00m tld\u001b[38;5;241m.\u001b[39mis_eager:\n\u001b[1;32m   3477\u001b[0m   \u001b[38;5;28;01mtry\u001b[39;00m:\n\u001b[0;32m-> 3478\u001b[0m     _result \u001b[38;5;241m=\u001b[39m \u001b[43mpywrap_tfe\u001b[49m\u001b[38;5;241;43m.\u001b[39;49m\u001b[43mTFE_Py_FastPathExecute\u001b[49m\u001b[43m(\u001b[49m\n\u001b[1;32m   3479\u001b[0m \u001b[43m      \u001b[49m\u001b[43m_ctx\u001b[49m\u001b[43m,\u001b[49m\u001b[43m \u001b[49m\u001b[38;5;124;43m\"\u001b[39;49m\u001b[38;5;124;43mMakeIterator\u001b[39;49m\u001b[38;5;124;43m\"\u001b[39;49m\u001b[43m,\u001b[49m\u001b[43m \u001b[49m\u001b[43mname\u001b[49m\u001b[43m,\u001b[49m\u001b[43m \u001b[49m\u001b[43mdataset\u001b[49m\u001b[43m,\u001b[49m\u001b[43m \u001b[49m\u001b[43miterator\u001b[49m\u001b[43m)\u001b[49m\n\u001b[1;32m   3480\u001b[0m     \u001b[38;5;28;01mreturn\u001b[39;00m _result\n\u001b[1;32m   3481\u001b[0m   \u001b[38;5;28;01mexcept\u001b[39;00m _core\u001b[38;5;241m.\u001b[39m_NotOkStatusException \u001b[38;5;28;01mas\u001b[39;00m e:\n",
      "\u001b[0;31mKeyboardInterrupt\u001b[0m: "
     ]
    }
   ],
   "source": [
    "tuner.search(x_train, y_train, epochs=250, validation_data=(x_test, y_test), batch_size=12)"
   ]
  },
  {
   "cell_type": "code",
   "execution_count": null,
   "metadata": {},
   "outputs": [],
   "source": [
    "file_path = os.path.join(final_path, 'best_models.txt')\n",
    "\n",
    "with open(file_path, \"w\") as file:\n",
    "    # Save the original stdout\n",
    "    original_stdout = sys.stdout\n",
    "    try:\n",
    "        sys.stdout = file  # Redirect stdout to the file\n",
    "        tuner.results_summary()  # Call your function\n",
    "    finally:\n",
    "        sys.stdout = original_stdout"
   ]
  },
  {
   "cell_type": "code",
   "execution_count": null,
   "metadata": {},
   "outputs": [],
   "source": []
  }
 ],
 "metadata": {
  "colab": {
   "authorship_tag": "ABX9TyPGnKoyfso1VK2rJhSn9brq",
   "mount_file_id": "1oAGWlf-SZH58jEakX1pZwdDPfXrMUo5n",
   "provenance": []
  },
  "kernelspec": {
   "display_name": "Python 3 (ipykernel)",
   "language": "python",
   "name": "python3"
  },
  "language_info": {
   "codemirror_mode": {
    "name": "ipython",
    "version": 3
   },
   "file_extension": ".py",
   "mimetype": "text/x-python",
   "name": "python",
   "nbconvert_exporter": "python",
   "pygments_lexer": "ipython3",
   "version": "3.9.23"
  }
 },
 "nbformat": 4,
 "nbformat_minor": 4
}
